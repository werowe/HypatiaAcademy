{
  "nbformat": 4,
  "nbformat_minor": 0,
  "metadata": {
    "colab": {
      "provenance": [],
      "include_colab_link": true
    },
    "kernelspec": {
      "name": "python3",
      "display_name": "Python 3"
    },
    "language_info": {
      "name": "python"
    }
  },
  "cells": [
    {
      "cell_type": "markdown",
      "metadata": {
        "id": "view-in-github",
        "colab_type": "text"
      },
      "source": [
        "<a href=\"https://colab.research.google.com/github/werowe/HypatiaAcademy/blob/master/class/2024_09_17_working_lecture_save_forecast_to_csv.ipynb\" target=\"_parent\"><img src=\"https://colab.research.google.com/assets/colab-badge.svg\" alt=\"Open In Colab\"/></a>"
      ]
    },
    {
      "cell_type": "code",
      "source": [
        "j={\n",
        "    \"city\": {\n",
        "        \"coord\": {\n",
        "            \"lat\": 49.4413,\n",
        "            \"lon\": 32.0643\n",
        "        },\n",
        "        \"country\": \"UA\",\n",
        "        \"id\": 710791,\n",
        "        \"name\": \"Cherkasy\",\n",
        "        \"population\": 297568,\n",
        "        \"sunrise\": 1726803333,\n",
        "        \"sunset\": 1726847685,\n",
        "        \"timezone\": 10800\n",
        "    },\n",
        "    \"cnt\": 40,\n",
        "    \"cod\": \"200\",\n",
        "    \"list\": [\n",
        "        {\n",
        "            \"clouds\": {\n",
        "                \"all\": 8\n",
        "            },\n",
        "            \"dt\": 1726855200,\n",
        "            \"dt_txt\": \"2024-09-20 18:00:00\",\n",
        "            \"main\": {\n",
        "                \"feels_like\": 20.82,\n",
        "                \"grnd_level\": 1011,\n",
        "                \"humidity\": 41,\n",
        "                \"pressure\": 1022,\n",
        "                \"sea_level\": 1022,\n",
        "                \"temp\": 21.54,\n",
        "                \"temp_kf\": 2.88,\n",
        "                \"temp_max\": 21.54,\n",
        "                \"temp_min\": 18.66\n",
        "            },\n",
        "            \"pop\": 0,\n",
        "            \"sys\": {\n",
        "                \"pod\": \"n\"\n",
        "            },\n",
        "            \"visibility\": 10000,\n",
        "            \"weather\": [\n",
        "                {\n",
        "                    \"description\": \"\\u0447\\u0438\\u0441\\u0442\\u0435 \\u043d\\u0435\\u0431\\u043e\",\n",
        "                    \"icon\": \"01n\",\n",
        "                    \"id\": 800,\n",
        "                    \"main\": \"Clear\"\n",
        "                }\n",
        "            ],\n",
        "            \"wind\": {\n",
        "                \"deg\": 11,\n",
        "                \"gust\": 2.96,\n",
        "                \"speed\": 2.91\n",
        "            }\n",
        "        }]\n",
        "}"
      ],
      "metadata": {
        "id": "sOFDU-ASAQod"
      },
      "execution_count": 45,
      "outputs": []
    },
    {
      "cell_type": "code",
      "source": [
        "# j is the dictionary\n",
        "\n",
        "# j['list'] its the forecast weather for 7 * 8 appx 42\n",
        "\n",
        "# jj['list'][0]. the first item in the list.\n",
        "\n",
        "\n",
        "j['list'][0]['main'].keys()"
      ],
      "metadata": {
        "colab": {
          "base_uri": "https://localhost:8080/"
        },
        "id": "QlleZKRDAgUf",
        "outputId": "596b4e0f-5755-4949-b7f5-f4f430e4e0ec"
      },
      "execution_count": 65,
      "outputs": [
        {
          "output_type": "execute_result",
          "data": {
            "text/plain": [
              "dict_keys(['feels_like', 'grnd_level', 'humidity', 'pressure', 'sea_level', 'temp', 'temp_kf', 'temp_max', 'temp_min'])"
            ]
          },
          "metadata": {},
          "execution_count": 65
        }
      ]
    },
    {
      "cell_type": "code",
      "source": [
        "# goal is to flatten list\n",
        "\n",
        "j['list']"
      ],
      "metadata": {
        "colab": {
          "base_uri": "https://localhost:8080/"
        },
        "id": "B4QH-C6YHl8E",
        "outputId": "d88771b2-fdf5-4c4a-9898-e4c01bb60d0d"
      },
      "execution_count": 66,
      "outputs": [
        {
          "output_type": "execute_result",
          "data": {
            "text/plain": [
              "[{'clouds': {'all': 8},\n",
              "  'dt': 1726855200,\n",
              "  'dt_txt': '2024-09-20 18:00:00',\n",
              "  'main': {'feels_like': 20.82,\n",
              "   'grnd_level': 1011,\n",
              "   'humidity': 41,\n",
              "   'pressure': 1022,\n",
              "   'sea_level': 1022,\n",
              "   'temp': 21.54,\n",
              "   'temp_kf': 2.88,\n",
              "   'temp_max': 21.54,\n",
              "   'temp_min': 18.66},\n",
              "  'pop': 0,\n",
              "  'sys': {'pod': 'n'},\n",
              "  'visibility': 10000,\n",
              "  'weather': [{'description': 'чисте небо',\n",
              "    'icon': '01n',\n",
              "    'id': 800,\n",
              "    'main': 'Clear'}],\n",
              "  'wind': {'deg': 11, 'gust': 2.96, 'speed': 2.91}}]"
            ]
          },
          "metadata": {},
          "execution_count": 66
        }
      ]
    },
    {
      "cell_type": "code",
      "source": [
        "\n",
        "# place to put days\n",
        "w=[]\n",
        "\n",
        "l=dict()\n",
        "\n",
        "# this means get the first item from the list, it will be a dictionary\n",
        "\n",
        "g=j['list'][0]\n",
        "\n",
        "\n",
        "# so only is we have a dictionary do this\n",
        "\n",
        "\n",
        "\n",
        "# this means make a new dictionary with the items in g\n",
        "\n",
        "\n",
        "  # add logic to do this step only if the value v is a dictionary\n",
        "\n",
        "#HINT:  we only have 3 dictionaries in clouds, main, sys\n",
        "\n",
        "for k, v in g.items():\n",
        "\n",
        "  l[k]=v\n",
        "  print(l)\n",
        "\n",
        "# add each dictionary to the list\n",
        "\n",
        "w.append(l)\n",
        "\n",
        "#w\n",
        "\n",
        "\n",
        "\n"
      ],
      "metadata": {
        "colab": {
          "base_uri": "https://localhost:8080/"
        },
        "id": "DH5m4RU7BV22",
        "outputId": "78e862af-c77a-460c-f632-bb4954af88cb"
      },
      "execution_count": 68,
      "outputs": [
        {
          "output_type": "stream",
          "name": "stdout",
          "text": [
            "{'clouds': {'all': 8}}\n",
            "{'clouds': {'all': 8}, 'dt': 1726855200}\n",
            "{'clouds': {'all': 8}, 'dt': 1726855200, 'dt_txt': '2024-09-20 18:00:00'}\n",
            "{'clouds': {'all': 8}, 'dt': 1726855200, 'dt_txt': '2024-09-20 18:00:00', 'main': {'feels_like': 20.82, 'grnd_level': 1011, 'humidity': 41, 'pressure': 1022, 'sea_level': 1022, 'temp': 21.54, 'temp_kf': 2.88, 'temp_max': 21.54, 'temp_min': 18.66}}\n",
            "{'clouds': {'all': 8}, 'dt': 1726855200, 'dt_txt': '2024-09-20 18:00:00', 'main': {'feels_like': 20.82, 'grnd_level': 1011, 'humidity': 41, 'pressure': 1022, 'sea_level': 1022, 'temp': 21.54, 'temp_kf': 2.88, 'temp_max': 21.54, 'temp_min': 18.66}, 'pop': 0}\n",
            "{'clouds': {'all': 8}, 'dt': 1726855200, 'dt_txt': '2024-09-20 18:00:00', 'main': {'feels_like': 20.82, 'grnd_level': 1011, 'humidity': 41, 'pressure': 1022, 'sea_level': 1022, 'temp': 21.54, 'temp_kf': 2.88, 'temp_max': 21.54, 'temp_min': 18.66}, 'pop': 0, 'sys': {'pod': 'n'}}\n",
            "{'clouds': {'all': 8}, 'dt': 1726855200, 'dt_txt': '2024-09-20 18:00:00', 'main': {'feels_like': 20.82, 'grnd_level': 1011, 'humidity': 41, 'pressure': 1022, 'sea_level': 1022, 'temp': 21.54, 'temp_kf': 2.88, 'temp_max': 21.54, 'temp_min': 18.66}, 'pop': 0, 'sys': {'pod': 'n'}, 'visibility': 10000}\n",
            "{'clouds': {'all': 8}, 'dt': 1726855200, 'dt_txt': '2024-09-20 18:00:00', 'main': {'feels_like': 20.82, 'grnd_level': 1011, 'humidity': 41, 'pressure': 1022, 'sea_level': 1022, 'temp': 21.54, 'temp_kf': 2.88, 'temp_max': 21.54, 'temp_min': 18.66}, 'pop': 0, 'sys': {'pod': 'n'}, 'visibility': 10000, 'weather': [{'description': 'чисте небо', 'icon': '01n', 'id': 800, 'main': 'Clear'}]}\n",
            "{'clouds': {'all': 8}, 'dt': 1726855200, 'dt_txt': '2024-09-20 18:00:00', 'main': {'feels_like': 20.82, 'grnd_level': 1011, 'humidity': 41, 'pressure': 1022, 'sea_level': 1022, 'temp': 21.54, 'temp_kf': 2.88, 'temp_max': 21.54, 'temp_min': 18.66}, 'pop': 0, 'sys': {'pod': 'n'}, 'visibility': 10000, 'weather': [{'description': 'чисте небо', 'icon': '01n', 'id': 800, 'main': 'Clear'}], 'wind': {'deg': 11, 'gust': 2.96, 'speed': 2.91}}\n"
          ]
        }
      ]
    },
    {
      "cell_type": "markdown",
      "source": [
        "# convert this dictionary into a list of values\n",
        "\n",
        "\n",
        "1. look above where i made the dictionary items add those to a list y\n",
        "add ONLY the values\n",
        "\n",
        "2. look above (or) below and add the values from the list to a z\n",
        "\n",
        "\n",
        "\n",
        "\n",
        "\n"
      ],
      "metadata": {
        "id": "HtmCg8cJGBSO"
      }
    },
    {
      "cell_type": "code",
      "source": [
        "g.keys()"
      ],
      "metadata": {
        "colab": {
          "base_uri": "https://localhost:8080/"
        },
        "id": "SDxzLPpyGxBC",
        "outputId": "2020edb7-4bfc-47d5-d8a3-df443f81a7d3"
      },
      "execution_count": 48,
      "outputs": [
        {
          "output_type": "execute_result",
          "data": {
            "text/plain": [
              "dict_keys(['clouds', 'dt', 'dt_txt', 'main', 'pop', 'sys', 'visibility', 'weather', 'wind'])"
            ]
          },
          "metadata": {},
          "execution_count": 48
        }
      ]
    },
    {
      "cell_type": "code",
      "source": [
        "# the goal is to get everything into a list\n",
        "\n",
        "\n",
        "\n",
        "\n",
        "x=[]\n",
        "\n",
        "for v in l.values():\n",
        "  x.append(v)\n",
        "\n",
        "x"
      ],
      "metadata": {
        "colab": {
          "base_uri": "https://localhost:8080/"
        },
        "id": "ChsbqIJBGU6b",
        "outputId": "f22f188f-8df1-4a9f-a233-b5c751f8e63b"
      },
      "execution_count": 49,
      "outputs": [
        {
          "output_type": "execute_result",
          "data": {
            "text/plain": [
              "[{'all': 8},\n",
              " 1726855200,\n",
              " '2024-09-20 18:00:00',\n",
              " {'feels_like': 20.82,\n",
              "  'grnd_level': 1011,\n",
              "  'humidity': 41,\n",
              "  'pressure': 1022,\n",
              "  'sea_level': 1022,\n",
              "  'temp': 21.54,\n",
              "  'temp_kf': 2.88,\n",
              "  'temp_max': 21.54,\n",
              "  'temp_min': 18.66},\n",
              " 0,\n",
              " {'pod': 'n'},\n",
              " 10000,\n",
              " [{'description': 'чисте небо', 'icon': '01n', 'id': 800, 'main': 'Clear'}],\n",
              " {'deg': 11, 'gust': 2.96, 'speed': 2.91}]"
            ]
          },
          "metadata": {},
          "execution_count": 49
        }
      ]
    },
    {
      "cell_type": "code",
      "source": [
        "w"
      ],
      "metadata": {
        "colab": {
          "base_uri": "https://localhost:8080/"
        },
        "id": "zrd-oUD7F-pO",
        "outputId": "bbbb6b6f-081a-4909-d0a5-1ed875836d42"
      },
      "execution_count": 50,
      "outputs": [
        {
          "output_type": "execute_result",
          "data": {
            "text/plain": [
              "[{'clouds': {'all': 8},\n",
              "  'dt': 1726855200,\n",
              "  'dt_txt': '2024-09-20 18:00:00',\n",
              "  'main': {'feels_like': 20.82,\n",
              "   'grnd_level': 1011,\n",
              "   'humidity': 41,\n",
              "   'pressure': 1022,\n",
              "   'sea_level': 1022,\n",
              "   'temp': 21.54,\n",
              "   'temp_kf': 2.88,\n",
              "   'temp_max': 21.54,\n",
              "   'temp_min': 18.66},\n",
              "  'pop': 0,\n",
              "  'sys': {'pod': 'n'},\n",
              "  'visibility': 10000,\n",
              "  'weather': [{'description': 'чисте небо',\n",
              "    'icon': '01n',\n",
              "    'id': 800,\n",
              "    'main': 'Clear'}],\n",
              "  'wind': {'deg': 11, 'gust': 2.96, 'speed': 2.91}}]"
            ]
          },
          "metadata": {},
          "execution_count": 50
        }
      ]
    },
    {
      "cell_type": "code",
      "source": [
        "g"
      ],
      "metadata": {
        "colab": {
          "base_uri": "https://localhost:8080/"
        },
        "id": "2AmHGsjQFMWt",
        "outputId": "ea4686a6-cd7a-464c-a9f8-3f360cc935d5"
      },
      "execution_count": 51,
      "outputs": [
        {
          "output_type": "execute_result",
          "data": {
            "text/plain": [
              "{'clouds': {'all': 8},\n",
              " 'dt': 1726855200,\n",
              " 'dt_txt': '2024-09-20 18:00:00',\n",
              " 'main': {'feels_like': 20.82,\n",
              "  'grnd_level': 1011,\n",
              "  'humidity': 41,\n",
              "  'pressure': 1022,\n",
              "  'sea_level': 1022,\n",
              "  'temp': 21.54,\n",
              "  'temp_kf': 2.88,\n",
              "  'temp_max': 21.54,\n",
              "  'temp_min': 18.66},\n",
              " 'pop': 0,\n",
              " 'sys': {'pod': 'n'},\n",
              " 'visibility': 10000,\n",
              " 'weather': [{'description': 'чисте небо',\n",
              "   'icon': '01n',\n",
              "   'id': 800,\n",
              "   'main': 'Clear'}],\n",
              " 'wind': {'deg': 11, 'gust': 2.96, 'speed': 2.91}}"
            ]
          },
          "metadata": {},
          "execution_count": 51
        }
      ]
    },
    {
      "cell_type": "code",
      "source": [
        "isinstance(g,dict)\n"
      ],
      "metadata": {
        "colab": {
          "base_uri": "https://localhost:8080/"
        },
        "id": "cG1wh3pIFHNf",
        "outputId": "6009dea2-b985-4806-d503-fbd7398bfce8"
      },
      "execution_count": 52,
      "outputs": [
        {
          "output_type": "execute_result",
          "data": {
            "text/plain": [
              "True"
            ]
          },
          "metadata": {},
          "execution_count": 52
        }
      ]
    },
    {
      "cell_type": "markdown",
      "source": [
        "\n",
        "```\n",
        "\n",
        "{'clouds': {'all': 8}, 'dt': 1726855200, 'dt_txt': '2024-09-20 18:00:00', 'main': {'feels_like': 20.82, 'grnd_level': 1011, 'humidity': 41, 'pressure': 1022, 'sea_level': 1022, 'temp': 21.54, 'temp_kf': 2.88, 'temp_max': 21.54, 'temp_min': 18.66}, 'pop': 0, 'sys': {'pod': 'n'}, 'visibility': 10000, 'weather': [{'description': 'чисте небо', 'icon': '01n', 'id': 800, 'main': 'Clear'}], 'wind': {'deg': 11, 'gust': 2.96, 'speed': 2.91}}\n",
        "\n",
        "```"
      ],
      "metadata": {
        "id": "Bybz21OTEtiQ"
      }
    },
    {
      "cell_type": "code",
      "source": [
        "# this i is a variable created in loop over the list j['list'][0]['weather']\n",
        "\n",
        "# weather data for 7 days\n",
        "\n",
        "a=[]\n",
        "\n",
        "\n",
        "#for i in j['list'][0]['weather']:\n",
        "\n",
        "\n",
        "\n",
        "# this one has the answer already.  it looks at the whole j['list'][0]['weather'][0]\n",
        "\n",
        "# and makes a dictionary of items ONLY WHEN IT's a LIST\n",
        "\n",
        "d=j['list'][0]['weather'][0]\n",
        "\n",
        "if isinstance(d,list):\n",
        "\n",
        "  # make empty dictionary\n",
        "  e=dict()\n",
        "\n",
        "  # list all keys and values\n",
        "  for k,v in d.items():\n",
        "    # add the item with value v and key k\n",
        "    e[k]=v\n",
        "    print(e)\n",
        "\n",
        "a.append(e)\n",
        "\n",
        "a\n",
        "\n"
      ],
      "metadata": {
        "colab": {
          "base_uri": "https://localhost:8080/"
        },
        "id": "As5umyYQBiBa",
        "outputId": "42f7a7e5-ca57-41c9-c173-cc2159444b87"
      },
      "execution_count": 53,
      "outputs": [
        {
          "output_type": "execute_result",
          "data": {
            "text/plain": [
              "[{'description': 'чисте небо', 'icon': '01n', 'id': 800, 'main': 'Clear'}]"
            ]
          },
          "metadata": {},
          "execution_count": 53
        }
      ]
    },
    {
      "cell_type": "code",
      "source": [
        "s={}\n",
        "\n",
        "s['name']=\"Maria\"\n",
        "s['countryy']='UK'\n",
        "\n",
        "s"
      ],
      "metadata": {
        "colab": {
          "base_uri": "https://localhost:8080/"
        },
        "id": "cG5bP-XXDL2L",
        "outputId": "cdda3003-c0da-4c05-89ee-abe02a16e30c"
      },
      "execution_count": 54,
      "outputs": [
        {
          "output_type": "execute_result",
          "data": {
            "text/plain": [
              "{'name': 'Maria', 'countryy': 'UK'}"
            ]
          },
          "metadata": {},
          "execution_count": 54
        }
      ]
    },
    {
      "cell_type": "code",
      "source": [
        "d=j['list'][0]['weather']\n",
        "d"
      ],
      "metadata": {
        "colab": {
          "base_uri": "https://localhost:8080/"
        },
        "id": "-PlwtI5VCsDc",
        "outputId": "f789e04d-8ef9-4f70-f5c9-acff4426e905"
      },
      "execution_count": 55,
      "outputs": [
        {
          "output_type": "execute_result",
          "data": {
            "text/plain": [
              "[{'description': 'чисте небо', 'icon': '01n', 'id': 800, 'main': 'Clear'}]"
            ]
          },
          "metadata": {},
          "execution_count": 55
        }
      ]
    },
    {
      "cell_type": "markdown",
      "source": [
        "# csv---command seperated values\n",
        "\n",
        "date,temp,main,description\n",
        "2024-09-20 18:00,18,cloudy,\n"
      ],
      "metadata": {
        "id": "EivtUPVD_jc7"
      }
    }
  ]
}