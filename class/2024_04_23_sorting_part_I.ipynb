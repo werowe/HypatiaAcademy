{
  "nbformat": 4,
  "nbformat_minor": 0,
  "metadata": {
    "colab": {
      "provenance": [],
      "authorship_tag": "ABX9TyNw2n2Wqx3PwltQim6LuGnT",
      "include_colab_link": true
    },
    "kernelspec": {
      "name": "python3",
      "display_name": "Python 3"
    },
    "language_info": {
      "name": "python"
    }
  },
  "cells": [
    {
      "cell_type": "markdown",
      "metadata": {
        "id": "view-in-github",
        "colab_type": "text"
      },
      "source": [
        "<a href=\"https://colab.research.google.com/github/werowe/HypatiaAcademy/blob/master/class/2024_04_23_sorting_part_I.ipynb\" target=\"_parent\"><img src=\"https://colab.research.google.com/assets/colab-badge.svg\" alt=\"Open In Colab\"/></a>"
      ]
    },
    {
      "cell_type": "code",
      "source": [
        "# Sorting a list of numbers in ascending order\n",
        "numbers = [10, 8, 3, 22, 33, 7]\n",
        "numbers.sort()\n",
        "print(numbers)  # Output: [3, 7, 8, 10, 22, 33]\n"
      ],
      "metadata": {
        "colab": {
          "base_uri": "https://localhost:8080/"
        },
        "id": "Z3_GIrVL5RS_",
        "outputId": "448501ff-d0a9-4189-f7d5-c7adee7ca7e4"
      },
      "execution_count": 10,
      "outputs": [
        {
          "output_type": "stream",
          "name": "stdout",
          "text": [
            "[3, 7, 8, 10, 22, 33]\n"
          ]
        }
      ]
    },
    {
      "cell_type": "code",
      "source": [
        "\n",
        "# learn the sorting algorithm\n",
        "\n",
        "# counting on fingers approach.\n",
        "\n",
        "# least elegant way\n",
        "\n",
        "l=[2,1]\n",
        "\n",
        "# look at first number 2\n",
        "# look at second number 1\n",
        "\n",
        "if l[0] > l[1]:\n",
        "  l[0] , l[1] = l[1] , l[0]\n",
        "\n",
        "print(l)\n",
        "\n"
      ],
      "metadata": {
        "colab": {
          "base_uri": "https://localhost:8080/"
        },
        "id": "d6UzuAM85lP3",
        "outputId": "85e2cede-eeed-49b0-f300-3c524e3667dd"
      },
      "execution_count": 12,
      "outputs": [
        {
          "output_type": "stream",
          "name": "stdout",
          "text": [
            "[1, 2]\n"
          ]
        }
      ]
    },
    {
      "cell_type": "code",
      "source": [
        "l[0],l[1]"
      ],
      "metadata": {
        "colab": {
          "base_uri": "https://localhost:8080/"
        },
        "id": "sce-xi6e6Ms2",
        "outputId": "98760a32-192f-480a-8e27-4e9cda976632"
      },
      "execution_count": 13,
      "outputs": [
        {
          "output_type": "execute_result",
          "data": {
            "text/plain": [
              "(1, 2)"
            ]
          },
          "metadata": {},
          "execution_count": 13
        }
      ]
    },
    {
      "cell_type": "markdown",
      "source": [
        "# Homework\n",
        "\n",
        "\n",
        "Expand this code to sort this list. We don't have enough tools yet.  So hard-code it.  \n",
        "\n",
        "\n",
        "[3, 7, 8, 10]"
      ],
      "metadata": {
        "id": "2QOnDLg46SRi"
      }
    }
  ]
}