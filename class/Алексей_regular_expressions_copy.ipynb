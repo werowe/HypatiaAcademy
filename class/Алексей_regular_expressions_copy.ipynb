{
  "nbformat": 4,
  "nbformat_minor": 0,
  "metadata": {
    "colab": {
      "provenance": [],
      "include_colab_link": true
    },
    "kernelspec": {
      "name": "python3",
      "display_name": "Python 3"
    },
    "language_info": {
      "name": "python"
    }
  },
  "cells": [
    {
      "cell_type": "markdown",
      "metadata": {
        "id": "view-in-github",
        "colab_type": "text"
      },
      "source": [
        "<a href=\"https://colab.research.google.com/github/werowe/HypatiaAcademy/blob/master/class/%D0%90%D0%BB%D0%B5%D0%BA%D1%81%D0%B5%D0%B9_regular_expressions_copy.ipynb\" target=\"_parent\"><img src=\"https://colab.research.google.com/assets/colab-badge.svg\" alt=\"Open In Colab\"/></a>"
      ]
    },
    {
      "cell_type": "code",
      "execution_count": null,
      "metadata": {
        "colab": {
          "base_uri": "https://localhost:8080/"
        },
        "id": "oI6N8ybH7UYc",
        "outputId": "befa6269-0e5e-47ea-f9f0-d283ef04c3f3"
      },
      "outputs": [
        {
          "output_type": "stream",
          "name": "stdout",
          "text": [
            "Task 1 Match: True\n",
            "Task 2 Valid Emails: ['valid.email@example.com', 'user@sub.example.com']\n",
            "Task 3 Valid IPs: ['192.168.1.1']\n",
            "Task 4 Palindromes: []\n",
            "Task 6 Phone Numbers: ['123-456-7890', '(123) 456-7890']\n",
            "Task 7 ZIP Codes: ['12345', '12345-6789']\n",
            "Task 8 Names: ['Maria', 'MARIA', 'mARia']\n"
          ]
        }
      ],
      "source": [
        "import re\n",
        "\n",
        "text_1 = \"aB1!\"\n",
        "regex_1 = r\"^[a-z](?=.*[A-Z])(?=.*\\d)[a-zA-Z\\d]*[.!?]$\"\n",
        "match_1 = re.match(regex_1, text_1)\n",
        "print(\"Task 1 Match:\", bool(match_1))  # True\n",
        "\n",
        "emails = [\"valid.email@example.com\", \"invalid-email@.com\", \"user@sub.example.com\"]\n",
        "regex_email = r\"^[a-zA-Z0-9._%+-]+@[a-zA-Z0-9.-]+\\.[a-zA-Z]{2,63}$\"\n",
        "valid_emails = [email for email in emails if re.match(regex_email, email)]\n",
        "print(\"Task 2 Valid Emails:\", valid_emails)  # ['valid.email@example.com', 'user@sub.example.com']\n",
        "\n",
        "text_ips = \"Valid: 192.168.1.1, Invalid: 999.999.999.999\"\n",
        "regex_ip = r\"\\b(?:25[0-5]|2[0-4]\\d|1\\d{2}|\\d{1,2})(?:\\.(?:25[0-5]|2[0-4]\\d|1\\d{2}|\\d{1,2})){3}\\b\"\n",
        "valid_ips = re.findall(regex_ip, text_ips)\n",
        "print(\"Task 3 Valid IPs:\", valid_ips)  # ['192.168.1.1']\n",
        "\n",
        "text_palindromes = \"madam level racecar hello world\"\n",
        "regex_palindrome = r\"\\b([a-zA-Z])([a-zA-Z]*)\\2\\1\\b\"\n",
        "palindromes = re.findall(regex_palindrome, text_palindromes)\n",
        "print(\"Task 4 Palindromes:\", [\"\".join(match) for match in palindromes])  # ['madam', 'level', 'racecar']\n",
        "\n",
        "text_phone = \"Call me at 123-456-7890 or (123) 456-7890.\"\n",
        "regex_phone = r\"\\(?\\d{3}\\)?[-.\\s]?\\d{3}[-.\\s]?\\d{4}\"\n",
        "phone_numbers = re.findall(regex_phone, text_phone)\n",
        "print(\"Task 6 Phone Numbers:\", phone_numbers)  # ['123-456-7890', '(123) 456-7890']\n",
        "\n",
        "text_zip = \"ZIP codes: 12345, 12345-6789.\"\n",
        "regex_zip = r\"\\d{5}(?:-\\d{4})?\"\n",
        "zips = re.findall(regex_zip, text_zip)\n",
        "print(\"Task 7 ZIP Codes:\", zips)  # ['12345', '12345-6789']\n",
        "\n",
        "text_name = \"Maria MARIA mARia\"\n",
        "regex_name = r\"(?i)\\bmaria\\b\"\n",
        "names = re.findall(regex_name, text_name)\n",
        "print(\"Task 8 Names:\", names)  # ['Maria', 'MARIA', 'mARia']\n"
      ]
    },
    {
      "cell_type": "markdown",
      "source": [
        "\n",
        "```\n",
        "^ start first\n",
        "\n",
        "string to match: aB1!\n",
        "\n",
        "regex:\n",
        "\n",
        "^[a-z](?=.*[A-Z])(?=.*\\d)[a-zA-Z\\d]*[.!?]$\n",
        "\n",
        "$ the end of string\n",
        "\n",
        "[a-z] character class\n",
        "\n",
        "() matching group\n",
        "\n",
        "(?=.*[A-Z]) see if there is a upper case letter in the whole string\n",
        "\n",
        "\n",
        "\n",
        " this:  [a-zA-Z\\d]*\n",
        "\n",
        " means match any lower or upper case Latin letters or digit and * means how ever many number of occurences\n",
        "\n",
        "\n",
        "\n",
        "```\n",
        "\n"
      ],
      "metadata": {
        "id": "O5Hw7-fxncdc"
      }
    },
    {
      "cell_type": "code",
      "source": [
        "import re\n",
        "\n",
        "# match only if there is a capital letter and a digit somewhere in the string\n",
        "\n",
        "text_1 = \"aB1!\"\n",
        "regex_1 = r\"^[a-z](?=.*[A-Z])(?=.*\\d)[a-zA-Z\\d]*[.!?]$\"\n",
        "\n",
        "# the means this a raw string so ignore escape characters\n",
        "# escape characters goes this way \\ like \\t tab \\n new line\n",
        "\n",
        "\n",
        "\n",
        "match_1 = re.match(regex_1, text_1)\n",
        "print(\"Task 1 Match:\", bool(match_1))  # True"
      ],
      "metadata": {
        "colab": {
          "base_uri": "https://localhost:8080/"
        },
        "id": "4udTrPqzqwsC",
        "outputId": "b1e459e5-48f4-40cb-cac1-536934322a0d"
      },
      "execution_count": 1,
      "outputs": [
        {
          "output_type": "stream",
          "name": "stdout",
          "text": [
            "Task 1 Match: True\n"
          ]
        }
      ]
    },
    {
      "cell_type": "markdown",
      "source": [
        "# match email\n",
        "\n",
        "^[a-zA-Z0-9._%+-]+@[a-zA-Z0-9.-]+\\.[a-zA-Z]{2,63}$\n",
        "\n",
        "1. first part looks in front of the @\n",
        "\n",
        "2.  look after that up until the dot (.) .  There is a escape character there \\. because dot(.) means something.\n",
        "3.  domain names must be 2 to 63 characters.com\n"
      ],
      "metadata": {
        "id": "y0UuLNRhsiHv"
      }
    },
    {
      "cell_type": "code",
      "source": [
        "\n",
        "emails = [\"valid.email@example.com\", \"invalid-email@.com\", \"user@sub.example.com\"]\n",
        "regex_email = r\"^[a-zA-Z0-9._%+-]+@[a-zA-Z0-9.-]+\\.[a-zA-Z]{2,63}$\"\n",
        "valid_emails = [email for email in emails if re.match(regex_email, email)]\n",
        "print(\"Task 2 Valid Emails:\", valid_emails)  # ['valid.email@example.com', 'user@sub.example.com']"
      ],
      "metadata": {
        "id": "fb51ym7irwFs"
      },
      "execution_count": null,
      "outputs": []
    },
    {
      "cell_type": "markdown",
      "source": [
        "Homework\n",
        "\n",
        "Explain the other ones\n",
        "\n",
        "use these:\n",
        "\n",
        "[cheat sheet](https://cheatography.com/davechild/cheat-sheets/regular-expressions/)\n",
        "\n",
        "[regex tester](https://regex101.com/)\n",
        "\n",
        "\n",
        "\n",
        "And explain why this matches any IP address:\n",
        "\n",
        "\n",
        "ip_regex = r\"^((25[0-5]|2[0-4]\\d|1\\d{2}|[1-9]?\\d)\\.){3}(25[0-5]|2[0-4]\\d|1\\d{2}|[1-9]?\\d)$\"\n",
        "\n",
        "What is a passive non capturing group\n",
        "\n",
        "this uses that to match IP address:\n",
        "\n",
        "\n",
        "^(?:[0-255]{1,3}\\.){3}[0-255]{1,3}$\n"
      ],
      "metadata": {
        "id": "Hx2OH704s9Un"
      }
    },
    {
      "cell_type": "code",
      "source": [],
      "metadata": {
        "id": "qRAxkXEsvU2x"
      },
      "execution_count": 1,
      "outputs": []
    }
  ]
}