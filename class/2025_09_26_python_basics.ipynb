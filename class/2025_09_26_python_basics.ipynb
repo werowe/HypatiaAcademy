{
  "nbformat": 4,
  "nbformat_minor": 0,
  "metadata": {
    "colab": {
      "provenance": [],
      "authorship_tag": "ABX9TyPIpYkWqDz403lJS5Ej0y/n",
      "include_colab_link": true
    },
    "kernelspec": {
      "name": "python3",
      "display_name": "Python 3"
    },
    "language_info": {
      "name": "python"
    }
  },
  "cells": [
    {
      "cell_type": "markdown",
      "metadata": {
        "id": "view-in-github",
        "colab_type": "text"
      },
      "source": [
        "<a href=\"https://colab.research.google.com/github/werowe/HypatiaAcademy/blob/master/class/2025_09_26_python_basics.ipynb\" target=\"_parent\"><img src=\"https://colab.research.google.com/assets/colab-badge.svg\" alt=\"Open In Colab\"/></a>"
      ]
    },
    {
      "cell_type": "markdown",
      "source": [
        "# Data Types\n",
        "\n",
        "* int (integer)\n",
        "* float (in math class you call Real)   1.2\n",
        "* str (in java you say string, in C++ you cay char)\n",
        "* boolean False or True\n",
        "\n",
        "\n",
        "\n",
        "# Math Operators\n",
        "\n",
        "\n",
        "# Logic Operators\n",
        "\n",
        "* <\n",
        "* >\n",
        "* or\n",
        "* and\n",
        "* if\n",
        "* else\n",
        "* then\n",
        "\n",
        "\n"
      ],
      "metadata": {
        "id": "Y4_gzrYZj4rW"
      }
    },
    {
      "cell_type": "code",
      "execution_count": 3,
      "metadata": {
        "colab": {
          "base_uri": "https://localhost:8080/"
        },
        "id": "C60phzY7ja14",
        "outputId": "48be4610-005f-4458-d4cd-791afe052563"
      },
      "outputs": [
        {
          "output_type": "execute_result",
          "data": {
            "text/plain": [
              "0.5"
            ]
          },
          "metadata": {},
          "execution_count": 3
        }
      ],
      "source": [
        "1/2"
      ]
    },
    {
      "cell_type": "code",
      "source": [
        "# this is an assignment operator. it says assign the value 1/2 to the new variable x\n",
        "# that means it creates it\n",
        "\n",
        "x=1/2"
      ],
      "metadata": {
        "id": "YI_flkG6keO1"
      },
      "execution_count": 5,
      "outputs": []
    },
    {
      "cell_type": "code",
      "source": [
        "type(x)"
      ],
      "metadata": {
        "colab": {
          "base_uri": "https://localhost:8080/"
        },
        "id": "dHKyxtesj1kn",
        "outputId": "1b8e0209-1187-44ce-d9f6-25b25d4b1be4"
      },
      "execution_count": 6,
      "outputs": [
        {
          "output_type": "execute_result",
          "data": {
            "text/plain": [
              "float"
            ]
          },
          "metadata": {},
          "execution_count": 6
        }
      ]
    },
    {
      "cell_type": "code",
      "source": [
        "print(x)"
      ],
      "metadata": {
        "colab": {
          "base_uri": "https://localhost:8080/"
        },
        "id": "a5DEcNIKkrkv",
        "outputId": "d92c2e42-9bab-4160-fd18-93cc7234331e"
      },
      "execution_count": 10,
      "outputs": [
        {
          "output_type": "stream",
          "name": "stdout",
          "text": [
            "0.5\n"
          ]
        }
      ]
    },
    {
      "cell_type": "code",
      "source": [
        "# multiplication on computers use * , in math class you use x\n",
        "\n",
        "3 * x"
      ],
      "metadata": {
        "colab": {
          "base_uri": "https://localhost:8080/"
        },
        "id": "9xdNDHA_kjnM",
        "outputId": "997ca285-6b81-4a93-dcc8-6cf293920eca"
      },
      "execution_count": 8,
      "outputs": [
        {
          "output_type": "execute_result",
          "data": {
            "text/plain": [
              "1.5"
            ]
          },
          "metadata": {},
          "execution_count": 8
        }
      ]
    },
    {
      "cell_type": "code",
      "source": [
        "y=4\n",
        "\n",
        "print(y, type(y))\n",
        "\n",
        "# a class is an object\n"
      ],
      "metadata": {
        "colab": {
          "base_uri": "https://localhost:8080/"
        },
        "id": "vlBUXcuUk8K3",
        "outputId": "3de50f1d-f51b-4e0f-db1d-afb88e32cd44"
      },
      "execution_count": 13,
      "outputs": [
        {
          "output_type": "stream",
          "name": "stdout",
          "text": [
            "4 <class 'int'>\n"
          ]
        }
      ]
    },
    {
      "cell_type": "code",
      "source": [
        "ela = TRUE"
      ],
      "metadata": {
        "colab": {
          "base_uri": "https://localhost:8080/",
          "height": 144
        },
        "id": "gNCeH8lflclF",
        "outputId": "363c433e-996c-4f46-baad-614fd221afa1"
      },
      "execution_count": 15,
      "outputs": [
        {
          "output_type": "error",
          "ename": "NameError",
          "evalue": "name 'TRUE' is not defined",
          "traceback": [
            "\u001b[0;31m---------------------------------------------------------------------------\u001b[0m",
            "\u001b[0;31mNameError\u001b[0m                                 Traceback (most recent call last)",
            "\u001b[0;32m/tmp/ipython-input-232745266.py\u001b[0m in \u001b[0;36m<cell line: 0>\u001b[0;34m()\u001b[0m\n\u001b[0;32m----> 1\u001b[0;31m \u001b[0mela\u001b[0m \u001b[0;34m=\u001b[0m \u001b[0mTRUE\u001b[0m\u001b[0;34m\u001b[0m\u001b[0;34m\u001b[0m\u001b[0m\n\u001b[0m",
            "\u001b[0;31mNameError\u001b[0m: name 'TRUE' is not defined"
          ]
        }
      ]
    },
    {
      "cell_type": "code",
      "source": [
        "Ela"
      ],
      "metadata": {
        "colab": {
          "base_uri": "https://localhost:8080/",
          "height": 144
        },
        "id": "3JnB73ehlkuz",
        "outputId": "3f8c2a4b-782c-4fa5-fad6-119ef1ec8913"
      },
      "execution_count": 16,
      "outputs": [
        {
          "output_type": "error",
          "ename": "NameError",
          "evalue": "name 'Ela' is not defined",
          "traceback": [
            "\u001b[0;31m---------------------------------------------------------------------------\u001b[0m",
            "\u001b[0;31mNameError\u001b[0m                                 Traceback (most recent call last)",
            "\u001b[0;32m/tmp/ipython-input-1995955194.py\u001b[0m in \u001b[0;36m<cell line: 0>\u001b[0;34m()\u001b[0m\n\u001b[0;32m----> 1\u001b[0;31m \u001b[0mEla\u001b[0m\u001b[0;34m\u001b[0m\u001b[0;34m\u001b[0m\u001b[0m\n\u001b[0m",
            "\u001b[0;31mNameError\u001b[0m: name 'Ela' is not defined"
          ]
        }
      ]
    },
    {
      "cell_type": "code",
      "source": [
        "# assignment is =\n",
        "\n",
        "yuriy = 14\n"
      ],
      "metadata": {
        "id": "PMinYtuql6u5"
      },
      "execution_count": 17,
      "outputs": []
    },
    {
      "cell_type": "code",
      "source": [
        "# test operator is ==\n",
        "# as a question.  Is yuriy = 14\n",
        "\n",
        "yuriy == 14"
      ],
      "metadata": {
        "colab": {
          "base_uri": "https://localhost:8080/"
        },
        "id": "uVrIKVKkl_3X",
        "outputId": "355888a3-6fa8-4413-8854-18fb1972f967"
      },
      "execution_count": 18,
      "outputs": [
        {
          "output_type": "execute_result",
          "data": {
            "text/plain": [
              "True"
            ]
          },
          "metadata": {},
          "execution_count": 18
        }
      ]
    },
    {
      "cell_type": "code",
      "source": [
        "d = (yuriy == 14)"
      ],
      "metadata": {
        "id": "ljKpDGCMmLZw"
      },
      "execution_count": 19,
      "outputs": []
    },
    {
      "cell_type": "code",
      "source": [
        "print(\"yuriy=\", yuriy, \"\\nis yuriy 14?\", yuriy == 14 , \"\\nwhat type of variable is that\", type(yuriy == 14))"
      ],
      "metadata": {
        "colab": {
          "base_uri": "https://localhost:8080/"
        },
        "id": "RhL-taaumR6C",
        "outputId": "c6d9db52-702c-42b7-b2b6-65ae8ef2ca7e"
      },
      "execution_count": 23,
      "outputs": [
        {
          "output_type": "stream",
          "name": "stdout",
          "text": [
            "yuriy= 14 \n",
            "is yuriy 14? True \n",
            "what type of variable is that <class 'bool'>\n"
          ]
        }
      ]
    },
    {
      "cell_type": "markdown",
      "source": [
        "#MATH\n",
        "\n",
        "* addition\n",
        "* subtraction\n",
        "* multiplication\n",
        "* division\n",
        "* remainder\n",
        "* exponets\n",
        "* square roots"
      ],
      "metadata": {
        "id": "-VsWpotrmxsj"
      }
    },
    {
      "cell_type": "code",
      "source": [
        "# Python is interpreted\n",
        "# java is compiled\n",
        "\n",
        "# REPL read-execute-print-loop"
      ],
      "metadata": {
        "id": "9-3XpICWm8sq"
      },
      "execution_count": null,
      "outputs": []
    },
    {
      "cell_type": "code",
      "source": [
        "# multiplication\n",
        "# code lint\n",
        "\n",
        "(2 * 3) + 7\n"
      ],
      "metadata": {
        "colab": {
          "base_uri": "https://localhost:8080/"
        },
        "id": "B7D4Z-0RngCV",
        "outputId": "9d6070ed-a9a0-40b7-d03a-440d3795e6e6"
      },
      "execution_count": 25,
      "outputs": [
        {
          "output_type": "execute_result",
          "data": {
            "text/plain": [
              "13"
            ]
          },
          "metadata": {},
          "execution_count": 25
        }
      ]
    },
    {
      "cell_type": "code",
      "source": [
        "# order of precedence\n",
        "# multiplication is done first\n",
        "# addition is done second\n",
        "# use parantheses to change order of execution, or just to make it easier to read\n",
        "\n",
        "2 * ( 3 + 7 )"
      ],
      "metadata": {
        "colab": {
          "base_uri": "https://localhost:8080/"
        },
        "id": "Wml0MpbdnvG9",
        "outputId": "ae3d9442-6332-4cf4-dd7b-19232f5a29c5"
      },
      "execution_count": 27,
      "outputs": [
        {
          "output_type": "execute_result",
          "data": {
            "text/plain": [
              "20"
            ]
          },
          "metadata": {},
          "execution_count": 27
        }
      ]
    },
    {
      "cell_type": "code",
      "source": [
        "2 - 3"
      ],
      "metadata": {
        "colab": {
          "base_uri": "https://localhost:8080/"
        },
        "id": "UcX4XfbgoBzr",
        "outputId": "acd1f21a-862f-4db5-cb26-800345e36ef4"
      },
      "execution_count": 28,
      "outputs": [
        {
          "output_type": "execute_result",
          "data": {
            "text/plain": [
              "-1"
            ]
          },
          "metadata": {},
          "execution_count": 28
        }
      ]
    },
    {
      "cell_type": "code",
      "source": [
        "9 / 4\n",
        "\n",
        "# 9 ÷  4"
      ],
      "metadata": {
        "colab": {
          "base_uri": "https://localhost:8080/",
          "height": 108
        },
        "id": "2R8Q_GsLoMEW",
        "outputId": "cc095b84-5625-4d0a-e08a-6276fb092c80"
      },
      "execution_count": 29,
      "outputs": [
        {
          "output_type": "error",
          "ename": "SyntaxError",
          "evalue": "invalid character '÷' (U+00F7) (ipython-input-202655216.py, line 3)",
          "traceback": [
            "\u001b[0;36m  File \u001b[0;32m\"/tmp/ipython-input-202655216.py\"\u001b[0;36m, line \u001b[0;32m3\u001b[0m\n\u001b[0;31m    9 ÷  4\u001b[0m\n\u001b[0m      ^\u001b[0m\n\u001b[0;31mSyntaxError\u001b[0m\u001b[0;31m:\u001b[0m invalid character '÷' (U+00F7)\n"
          ]
        }
      ]
    },
    {
      "cell_type": "code",
      "source": [
        "x = 9\n",
        "y = 4\n",
        "\n",
        "z = x / y\n",
        "\n",
        "print (\"z\", z)\n",
        "x / y\n"
      ],
      "metadata": {
        "colab": {
          "base_uri": "https://localhost:8080/"
        },
        "id": "9Dmw7MvwoZvc",
        "outputId": "f09e93d7-10dc-4433-d305-a5a274dbdbe4"
      },
      "execution_count": 31,
      "outputs": [
        {
          "output_type": "stream",
          "name": "stdout",
          "text": [
            "z 2.25\n"
          ]
        },
        {
          "output_type": "execute_result",
          "data": {
            "text/plain": [
              "2.25"
            ]
          },
          "metadata": {},
          "execution_count": 31
        }
      ]
    },
    {
      "cell_type": "code",
      "source": [
        "# to increment something means to add 1 to\n",
        "\n",
        "f = 1\n",
        "\n",
        "f\n"
      ],
      "metadata": {
        "colab": {
          "base_uri": "https://localhost:8080/"
        },
        "id": "WRNjaWLwop0f",
        "outputId": "a1db836a-4bbf-4825-8dcb-5650e1139c29"
      },
      "execution_count": 34,
      "outputs": [
        {
          "output_type": "execute_result",
          "data": {
            "text/plain": [
              "1"
            ]
          },
          "metadata": {},
          "execution_count": 34
        }
      ]
    },
    {
      "cell_type": "code",
      "source": [
        "f + 1\n",
        "\n",
        "print(\"f+1\", f + 1)"
      ],
      "metadata": {
        "colab": {
          "base_uri": "https://localhost:8080/"
        },
        "id": "8IgzJ6Uio4cz",
        "outputId": "9d04acf8-d80b-4974-ebf7-c4b05c0bbd0e"
      },
      "execution_count": 35,
      "outputs": [
        {
          "output_type": "stream",
          "name": "stdout",
          "text": [
            "f+1 2\n"
          ]
        }
      ]
    },
    {
      "cell_type": "code",
      "source": [
        "# g is 1\n",
        "\n",
        "g = 1\n",
        "\n",
        "# there is no = sign.  so g will be updated.  if we we add 1 to g but don't asssign g + 1 to something then g is not changed\n",
        "g + 1\n",
        "print(\"before\", g)\n",
        "\n",
        "g = g + 1\n",
        "\n",
        "print(\"after\", g)\n"
      ],
      "metadata": {
        "colab": {
          "base_uri": "https://localhost:8080/"
        },
        "id": "8kX6Np41pCup",
        "outputId": "3bb4a18f-074a-46bc-ca4d-e963131be48c"
      },
      "execution_count": 37,
      "outputs": [
        {
          "output_type": "stream",
          "name": "stdout",
          "text": [
            "before 1\n",
            "after 2\n"
          ]
        }
      ]
    },
    {
      "cell_type": "code",
      "source": [
        "g == 2"
      ],
      "metadata": {
        "colab": {
          "base_uri": "https://localhost:8080/"
        },
        "id": "9KoGvwV7p0Od",
        "outputId": "5c0cfadd-0203-4923-86d3-4761fe85e8dd"
      },
      "execution_count": 38,
      "outputs": [
        {
          "output_type": "execute_result",
          "data": {
            "text/plain": [
              "True"
            ]
          },
          "metadata": {},
          "execution_count": 38
        }
      ]
    },
    {
      "cell_type": "code",
      "source": [
        "# greater than\n",
        "\n",
        "g > 2"
      ],
      "metadata": {
        "colab": {
          "base_uri": "https://localhost:8080/"
        },
        "id": "XvQT8-6_qV2p",
        "outputId": "4061a382-3328-4c01-a6e7-6909f5590c86"
      },
      "execution_count": 39,
      "outputs": [
        {
          "output_type": "execute_result",
          "data": {
            "text/plain": [
              "False"
            ]
          },
          "metadata": {},
          "execution_count": 39
        }
      ]
    },
    {
      "cell_type": "code",
      "source": [
        "g >= 2"
      ],
      "metadata": {
        "colab": {
          "base_uri": "https://localhost:8080/"
        },
        "id": "DHB8gGmgqZy2",
        "outputId": "adb2e3fc-dfc5-41cd-b768-5c8057e106e5"
      },
      "execution_count": 40,
      "outputs": [
        {
          "output_type": "execute_result",
          "data": {
            "text/plain": [
              "True"
            ]
          },
          "metadata": {},
          "execution_count": 40
        }
      ]
    },
    {
      "cell_type": "code",
      "source": [
        "# these two statements are the same\n",
        "\n",
        "\n",
        "g == 2 or g > 2"
      ],
      "metadata": {
        "colab": {
          "base_uri": "https://localhost:8080/"
        },
        "id": "luNnDQBcqdCh",
        "outputId": "a255fb1d-1964-4944-c8d6-286b02221c00"
      },
      "execution_count": 41,
      "outputs": [
        {
          "output_type": "execute_result",
          "data": {
            "text/plain": [
              "True"
            ]
          },
          "metadata": {},
          "execution_count": 41
        }
      ]
    },
    {
      "cell_type": "code",
      "source": [
        "# logic\n",
        "\n",
        "True or False\n"
      ],
      "metadata": {
        "colab": {
          "base_uri": "https://localhost:8080/"
        },
        "id": "pgEeVbMIqqvf",
        "outputId": "6d0825f5-d16d-4bbf-9bac-a277155d458f"
      },
      "execution_count": 42,
      "outputs": [
        {
          "output_type": "execute_result",
          "data": {
            "text/plain": [
              "True"
            ]
          },
          "metadata": {},
          "execution_count": 42
        }
      ]
    },
    {
      "cell_type": "code",
      "source": [
        "# needs an initial value\n",
        "\n",
        "height = 0\n",
        "\n",
        "tall  =   1.5\n",
        "\n",
        "\n",
        "\n",
        "# > 1.5\n",
        "# < 1.5\n",
        "# = 1.5\n",
        "\n",
        "\n",
        "ella = 1.5\n",
        "serg = 1.3\n",
        "\n",
        "# is ela tall?  NOT CORRECT\n",
        "# is ella exactly equal 1.5\n",
        "\n",
        "ella == tall\n",
        "\n",
        "ella > tall\n",
        "\n",
        "# boolean.  the test operator\n",
        "# is ella equal to height\n",
        "ella == height\n",
        "\n",
        "\n",
        "# it is a boolean expression that is true if height > 1.5\n",
        "tall = height > 1.5\n",
        "\n",
        "small = height <= 1.5\n",
        "\n",
        "\n",
        "# height is 2\n",
        "height = 2\n",
        "\n",
        "\n",
        "tall, small, height\n",
        "\n"
      ],
      "metadata": {
        "colab": {
          "base_uri": "https://localhost:8080/"
        },
        "id": "jFMoudsbqyOd",
        "outputId": "5173d20b-cb2a-44f2-9908-fcc7c0b9bb43"
      },
      "execution_count": 50,
      "outputs": [
        {
          "output_type": "execute_result",
          "data": {
            "text/plain": [
              "(False, True, 2)"
            ]
          },
          "metadata": {},
          "execution_count": 50
        }
      ]
    },
    {
      "cell_type": "code",
      "source": [
        "#FIX ME\n",
        "# here is says small is when height <= 1.5 but height is equal to 2\n",
        "\n",
        "small, height\n",
        "\n"
      ],
      "metadata": {
        "colab": {
          "base_uri": "https://localhost:8080/"
        },
        "id": "IGgCdiCnthJb",
        "outputId": "ae778b27-3183-4e2b-c511-b86cb14add15"
      },
      "execution_count": 52,
      "outputs": [
        {
          "output_type": "execute_result",
          "data": {
            "text/plain": [
              "(True, 2)"
            ]
          },
          "metadata": {},
          "execution_count": 52
        }
      ]
    },
    {
      "cell_type": "code",
      "source": [
        "# function.  a function does something\n",
        "\n",
        "# def ---  define function\n",
        "# x --- the value to pass into the function\n",
        "# if x > 1.5 tests whether x > 1.5\n",
        "# : to be continue.\n",
        "# sent back a value\n",
        "\n",
        "def tall(x):\n",
        "\n",
        "  if x > 1.5:\n",
        "    return True\n"
      ],
      "metadata": {
        "id": "TLfEM3jitG1v"
      },
      "execution_count": 53,
      "outputs": []
    },
    {
      "cell_type": "markdown",
      "source": [
        "var x = 4\n",
        "\n",
        "**JavaScript**\n",
        "\n",
        "# curly braces\n",
        "# first brace tells you where code starts\n",
        "# last brace tells you where it ends\n",
        "\n",
        "\n",
        "if x > 2 {\n",
        "\n",
        "}\n",
        "\n",
        "**Python**\n",
        "\n",
        "levels of control, or what delimits the code are indents\n",
        "\n"
      ],
      "metadata": {
        "id": "Ieh8h6IguSl_"
      }
    },
    {
      "cell_type": "code",
      "source": [
        "tall(3)"
      ],
      "metadata": {
        "colab": {
          "base_uri": "https://localhost:8080/"
        },
        "id": "Loj3vFbjt8kY",
        "outputId": "1cb8428a-2b46-4314-bc35-95303db455e6"
      },
      "execution_count": 54,
      "outputs": [
        {
          "output_type": "execute_result",
          "data": {
            "text/plain": [
              "True"
            ]
          },
          "metadata": {},
          "execution_count": 54
        }
      ]
    },
    {
      "cell_type": "code",
      "source": [
        "if 2 > 1:\n",
        "  if True:  # this will always be true.  i just put to show you indents\n",
        "    print(\"true I am bigger than 2\")\n"
      ],
      "metadata": {
        "colab": {
          "base_uri": "https://localhost:8080/"
        },
        "id": "L5sDrmfmunnp",
        "outputId": "25d8f7a0-62bd-47d9-aca7-8fafe171ab5f"
      },
      "execution_count": 55,
      "outputs": [
        {
          "output_type": "stream",
          "name": "stdout",
          "text": [
            "true I am bigger than 2\n"
          ]
        }
      ]
    },
    {
      "cell_type": "code",
      "source": [
        "if 2 > 1:\n",
        "  print(\"true I am bigger than 2\")"
      ],
      "metadata": {
        "colab": {
          "base_uri": "https://localhost:8080/"
        },
        "id": "bb-6xkZsu1RR",
        "outputId": "ca879756-4a5e-4a52-d746-24fbc4ba8d7c"
      },
      "execution_count": 56,
      "outputs": [
        {
          "output_type": "stream",
          "name": "stdout",
          "text": [
            "true I am bigger than 2\n"
          ]
        }
      ]
    },
    {
      "cell_type": "markdown",
      "source": [
        "# Homework\n",
        "\n",
        "\n",
        "**Extra difficult 1**:  fix the part that says FIX ME\n",
        "\n",
        "**Extra difficult 2**:  write a function to test whether x is bigger than y.  hint:  use `def`\n",
        "\n",
        "regular homework:\n",
        "\n",
        "* b create two variables x and y and assign a value to each\n",
        "\n",
        "* test wether x is bigger than y using both the **if** and the **test operator**.  hint:  `2 == 2` tests is 2 is equal to 2\n",
        "\n",
        "* create a character string\n",
        "\n",
        "* divide x and y\n",
        "\n",
        "* create the variable c.  increment c by 1\n",
        "\n",
        "\n",
        "\n",
        "\n",
        "\n"
      ],
      "metadata": {
        "id": "MJijukp9u-K2"
      }
    }
  ]
}