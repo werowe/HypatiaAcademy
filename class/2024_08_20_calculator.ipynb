{
  "nbformat": 4,
  "nbformat_minor": 0,
  "metadata": {
    "colab": {
      "provenance": [],
      "authorship_tag": "ABX9TyN96K24SwRGsLqXbeMgBMyY",
      "include_colab_link": true
    },
    "kernelspec": {
      "name": "python3",
      "display_name": "Python 3"
    },
    "language_info": {
      "name": "python"
    }
  },
  "cells": [
    {
      "cell_type": "markdown",
      "metadata": {
        "id": "view-in-github",
        "colab_type": "text"
      },
      "source": [
        "<a href=\"https://colab.research.google.com/github/werowe/HypatiaAcademy/blob/master/class/2024_08_20_calculator.ipynb\" target=\"_parent\"><img src=\"https://colab.research.google.com/assets/colab-badge.svg\" alt=\"Open In Colab\"/></a>"
      ]
    },
    {
      "cell_type": "code",
      "execution_count": 107,
      "metadata": {
        "id": "FJwVgtDTz9DO"
      },
      "outputs": [],
      "source": [
        "# variable number of arguments\n",
        "\n",
        "\n",
        "def multiply(*number):\n",
        "\n",
        "    product = 1\n",
        "\n",
        "    for n in number:\n",
        "      product = product * n\n",
        "\n",
        "    return product\n",
        "\n",
        "def add(*number):\n",
        "\n",
        "    sum = 0\n",
        "\n",
        "    for n in number:\n",
        "      sum = sum + n\n",
        "\n",
        "    return sum\n",
        "\n",
        "def subtract(*number):\n",
        "\n",
        "    sum = 0\n",
        "\n",
        "    for n in number:\n",
        "      sum = sum - n\n",
        "\n",
        "    return sum\n",
        "\n",
        "def divide(*number):\n",
        "\n",
        "    sum = 0\n",
        "\n",
        "    for n in number:\n",
        "      sum = sum / n\n",
        "\n",
        "    return sum"
      ]
    },
    {
      "cell_type": "markdown",
      "source": [
        "# Calculator\n",
        "\n",
        "Note that this will produce the wrong answe as the order of precedence of math operators is left to right, only.\n",
        "\n",
        "\n",
        "(((24*3)+2)*33)+235\n"
      ],
      "metadata": {
        "id": "hrVNnUGC1bfv"
      }
    },
    {
      "cell_type": "code",
      "source": [
        "# homework (extra difficult):  make a calculator\n",
        "\n",
        "\n",
        "def calculate(number):\n",
        "\n",
        "    return 1\n",
        "\n",
        "\n",
        "#where number is a string like \"2*3+2\"\n",
        "\n",
        "import re\n",
        "\n",
        "# The input string\n",
        "input_string = \"24*3+2-33/235\"\n",
        "\n",
        "# this regular express basically means get all number and all not-numbers and put in a list\n",
        "result = re.findall(r'\\d+|\\D', input_string)\n",
        "\n",
        "print(\"split numbers and operators\", result,\"\\n\")\n",
        "\n",
        "\n",
        "# then loop through each item in result:\n",
        "\n",
        "c=\"\" # always initalize to some value to get started\n",
        "\n",
        "numbers=[]\n",
        "operators=[]\n",
        "\n",
        "for n in result:\n",
        "  if n.isdigit():\n",
        "    c=c + str(n)\n",
        "    print(\"\\nfound number\", c)\n",
        "\n",
        "  if n in [\"+\", \"*\", \"/\", \"-\"]:\n",
        "    op=n\n",
        "    print(\"\\nfound operator\", n)\n",
        "    numbers.append(int(c))\n",
        "    operators.append(n)\n",
        "    c=\"\" # erase string to prepare for next number\n",
        "\n",
        "# get the last number\n",
        "\n",
        "numbers.append(int(c))\n",
        "\n",
        "\n",
        "print(\"\\nnumbers found\", numbers)\n",
        "print(\"\\noperators found\", operators)\n",
        "\n",
        "# \\n\\ntake the 1st number, 1st operator, and 2nd number\n",
        "\n",
        "\n",
        "\n",
        "\n",
        "# that is generalized.  not finish algorithm to handle all 4 math operators\n",
        "# next you would use 72 and add 2\n",
        "\n"
      ],
      "metadata": {
        "colab": {
          "base_uri": "https://localhost:8080/"
        },
        "id": "X-r9Mv3G0pDM",
        "outputId": "848bade1-bb5f-48bb-f13f-8a52378db1ed"
      },
      "execution_count": 105,
      "outputs": [
        {
          "output_type": "stream",
          "name": "stdout",
          "text": [
            "split numbers and operators ['24', '*', '3', '+', '2', '-', '33', '/', '235'] \n",
            "\n",
            "\n",
            "found number 24\n",
            "\n",
            "found operator *\n",
            "\n",
            "found number 3\n",
            "\n",
            "found operator +\n",
            "\n",
            "found number 2\n",
            "\n",
            "found operator -\n",
            "\n",
            "found number 33\n",
            "\n",
            "found operator /\n",
            "\n",
            "found number 235\n",
            "\n",
            "numbers found [24, 3, 2, 33, 235]\n",
            "\n",
            "operators found ['*', '+', '-', '/']\n"
          ]
        }
      ]
    },
    {
      "cell_type": "code",
      "source": [
        "x=0\n",
        "y=1\n",
        "\n",
        "print(\"\\n\\nstart calculation loop\\n\\n\", input_string,\"\\n\\n\")\n",
        "\n",
        "for i in range(0,len(numbers)-1):\n",
        "\n",
        "  if i == 0:\n",
        "    n1=numbers[i]\n",
        "    n2=numbers[i+1]\n",
        "    o1=operators[i]\n",
        "  else:\n",
        "    n1=z\n",
        "    n2=numbers[i+1]\n",
        "    o1=operators[i]\n",
        "\n",
        "\n",
        "  if o1 == \"*\":\n",
        "    z=multiply(n1,n2)\n",
        "\n",
        "  if o1 == \"+\":\n",
        "    z=add(n1,n2)\n",
        "\n",
        "  if o1 == \"-\":\n",
        "    z=subtract(n1,n2)\n",
        "\n",
        "  if o1 == \"/\":\n",
        "    z=divide(n1,n2)\n",
        "\n",
        "\n",
        "  print(\"i={0} n1={1} n2={2} o1={3} {4}\".format(i,n1,n2,o1,z),\"\\n\")\n",
        "\n",
        "\n",
        "\n",
        ""
      ],
      "metadata": {
        "colab": {
          "base_uri": "https://localhost:8080/"
        },
        "id": "bvS9as03vFXx",
        "outputId": "0617e0b8-50aa-4280-ea3d-c71fa9b4f591"
      },
      "execution_count": 108,
      "outputs": [
        {
          "output_type": "stream",
          "name": "stdout",
          "text": [
            "\n",
            "\n",
            "start calculation loop\n",
            "\n",
            " 24*3+2-33/235 \n",
            "\n",
            "\n",
            "i=0 n1=24 n2=3 o1=* 72 \n",
            "\n",
            "i=1 n1=72 n2=2 o1=+ 74 \n",
            "\n",
            "i=2 n1=74 n2=33 o1=- -107 \n",
            "\n",
            "i=3 n1=-107 n2=235 o1=/ -0.0 \n",
            "\n"
          ]
        }
      ]
    },
    {
      "cell_type": "code",
      "source": [
        "numbers"
      ],
      "metadata": {
        "colab": {
          "base_uri": "https://localhost:8080/"
        },
        "id": "44STiIC8wIPt",
        "outputId": "a20c4045-9b4e-4daf-8b87-c680a533dd6e"
      },
      "execution_count": 90,
      "outputs": [
        {
          "output_type": "execute_result",
          "data": {
            "text/plain": [
              "[24, 3, 2, 33, 235]"
            ]
          },
          "metadata": {},
          "execution_count": 90
        }
      ]
    }
  ]
}