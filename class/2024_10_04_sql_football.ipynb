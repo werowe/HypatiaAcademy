{
  "nbformat": 4,
  "nbformat_minor": 0,
  "metadata": {
    "colab": {
      "provenance": [],
      "include_colab_link": true
    },
    "kernelspec": {
      "name": "python3",
      "display_name": "Python 3"
    },
    "language_info": {
      "name": "python"
    }
  },
  "cells": [
    {
      "cell_type": "markdown",
      "metadata": {
        "id": "view-in-github",
        "colab_type": "text"
      },
      "source": [
        "<a href=\"https://colab.research.google.com/github/werowe/HypatiaAcademy/blob/master/class/2024_10_04_sql_football.ipynb\" target=\"_parent\"><img src=\"https://colab.research.google.com/assets/colab-badge.svg\" alt=\"Open In Colab\"/></a>"
      ]
    },
    {
      "cell_type": "code",
      "execution_count": 1,
      "metadata": {
        "colab": {
          "base_uri": "https://localhost:8080/"
        },
        "id": "CesM7z-oSLIe",
        "outputId": "2fd26b46-e4c1-42c1-961c-67477cdd398b"
      },
      "outputs": [
        {
          "output_type": "stream",
          "name": "stdout",
          "text": [
            "Список всех игроков команды:\n",
            "(1, 'ABC DEF', 25, 'Pasta')\n",
            "(2, 'GHI JKL', 22, 'Sushi')\n",
            "(3, 'MNO PQR', 28, 'Pizza')\n",
            "\n",
            "Поиск GHI JKL:\n",
            "(2, 'GHI JKL', 22, 'Sushi')\n",
            "\n",
            "Данные после обновления любимой еды для ABC DEF:\n",
            "(1, 'ABC DEF', 25, 'Burger')\n",
            "\n",
            "Данные после удаления MNO PQR:\n",
            "(1, 'ABC DEF', 25, 'Burger')\n",
            "(2, 'GHI JKL', 22, 'Sushi')\n"
          ]
        }
      ],
      "source": [
        "import sqlite3\n",
        "conn = sqlite3.connect('football_team.db')\n",
        "cursor = conn.cursor()\n",
        "cursor.execute('''\n",
        "CREATE TABLE IF NOT EXISTS football_team (\n",
        "    player_id INTEGER PRIMARY KEY AUTOINCREMENT,\n",
        "    name TEXT,\n",
        "    age INTEGER,\n",
        "    favorite_food TEXT\n",
        ")\n",
        "''')\n",
        "players = [\n",
        "    ('ABC DEF', 25, 'Pasta'),\n",
        "    ('GHI JKL', 22, 'Sushi'),\n",
        "    ('MNO PQR', 28, 'Pizza')\n",
        "]\n",
        "cursor.executemany('''\n",
        "INSERT INTO football_team (name, age, favorite_food)\n",
        "VALUES (?, ?, ?)\n",
        "''', players)\n",
        "print(\"Список всех игроков команды:\")\n",
        "cursor.execute('SELECT * FROM football_team')\n",
        "rows = cursor.fetchall()\n",
        "for row in rows:\n",
        "    print(row)\n",
        "print(\"\\nПоиск GHI JKL:\")\n",
        "cursor.execute('SELECT * FROM football_team WHERE name = ?', ('GHI JKL',))\n",
        "rows = cursor.fetchall()\n",
        "for row in rows:\n",
        "    print(row)\n",
        "cursor.execute('''\n",
        "UPDATE football_team\n",
        "SET favorite_food = ?\n",
        "WHERE name = ?\n",
        "''', ('Burger', 'ABC DEF'))\n",
        "print(\"\\nДанные после обновления любимой еды для ABC DEF:\")\n",
        "cursor.execute('SELECT * FROM football_team WHERE name = ?', ('ABC DEF',))\n",
        "rows = cursor.fetchall()\n",
        "for row in rows:\n",
        "    print(row)\n",
        "cursor.execute('DELETE FROM football_team WHERE name = ?', ('MNO PQR',))\n",
        "print(\"\\nДанные после удаления MNO PQR:\")\n",
        "cursor.execute('SELECT * FROM football_team')\n",
        "rows = cursor.fetchall()\n",
        "for row in rows:\n",
        "    print(row)\n",
        "conn.commit()\n",
        "conn.close()\n"
      ]
    },
    {
      "cell_type": "code",
      "source": [
        "%load_ext sql"
      ],
      "metadata": {
        "id": "CRo_XiTfLS5C"
      },
      "execution_count": 3,
      "outputs": []
    },
    {
      "cell_type": "code",
      "source": [
        "%sql sqlite:///football_team.db"
      ],
      "metadata": {
        "id": "6IwuBdABLbvx"
      },
      "execution_count": 4,
      "outputs": []
    },
    {
      "cell_type": "markdown",
      "source": [
        "# Football\n",
        "\n",
        "* has many players\n",
        "* one team\n",
        "* has many games (matches)"
      ],
      "metadata": {
        "id": "FmnBcN6BJ5zD"
      }
    },
    {
      "cell_type": "code",
      "source": [
        "%%sql\n",
        "\n",
        "pragma table_info(football_team);"
      ],
      "metadata": {
        "colab": {
          "base_uri": "https://localhost:8080/",
          "height": 160
        },
        "id": "TwASqiLVK939",
        "outputId": "3bc1ab04-922a-4a65-c6c8-ebe25ed88289"
      },
      "execution_count": 5,
      "outputs": [
        {
          "output_type": "stream",
          "name": "stdout",
          "text": [
            " * sqlite:///football_team.db\n",
            "Done.\n"
          ]
        },
        {
          "output_type": "execute_result",
          "data": {
            "text/plain": [
              "[(0, 'player_id', 'INTEGER', 0, None, 1),\n",
              " (1, 'name', 'TEXT', 0, None, 0),\n",
              " (2, 'age', 'INTEGER', 0, None, 0),\n",
              " (3, 'favorite_food', 'TEXT', 0, None, 0)]"
            ],
            "text/html": [
              "<table>\n",
              "    <thead>\n",
              "        <tr>\n",
              "            <th>cid</th>\n",
              "            <th>name</th>\n",
              "            <th>type</th>\n",
              "            <th>notnull</th>\n",
              "            <th>dflt_value</th>\n",
              "            <th>pk</th>\n",
              "        </tr>\n",
              "    </thead>\n",
              "    <tbody>\n",
              "        <tr>\n",
              "            <td>0</td>\n",
              "            <td>player_id</td>\n",
              "            <td>INTEGER</td>\n",
              "            <td>0</td>\n",
              "            <td>None</td>\n",
              "            <td>1</td>\n",
              "        </tr>\n",
              "        <tr>\n",
              "            <td>1</td>\n",
              "            <td>name</td>\n",
              "            <td>TEXT</td>\n",
              "            <td>0</td>\n",
              "            <td>None</td>\n",
              "            <td>0</td>\n",
              "        </tr>\n",
              "        <tr>\n",
              "            <td>2</td>\n",
              "            <td>age</td>\n",
              "            <td>INTEGER</td>\n",
              "            <td>0</td>\n",
              "            <td>None</td>\n",
              "            <td>0</td>\n",
              "        </tr>\n",
              "        <tr>\n",
              "            <td>3</td>\n",
              "            <td>favorite_food</td>\n",
              "            <td>TEXT</td>\n",
              "            <td>0</td>\n",
              "            <td>None</td>\n",
              "            <td>0</td>\n",
              "        </tr>\n",
              "    </tbody>\n",
              "</table>"
            ]
          },
          "metadata": {},
          "execution_count": 5
        }
      ]
    },
    {
      "cell_type": "code",
      "source": [
        "%%sql\n",
        "\n",
        "drop table teams"
      ],
      "metadata": {
        "colab": {
          "base_uri": "https://localhost:8080/"
        },
        "id": "CqRe39y3OCS2",
        "outputId": "813bb6fc-852f-4d5c-af0e-fe6e9be3f304"
      },
      "execution_count": 6,
      "outputs": [
        {
          "output_type": "stream",
          "name": "stdout",
          "text": [
            " * sqlite:///football_team.db\n",
            "(sqlite3.OperationalError) no such table: teams\n",
            "[SQL: drop table teams]\n",
            "(Background on this error at: https://sqlalche.me/e/20/e3q8)\n"
          ]
        }
      ]
    },
    {
      "cell_type": "code",
      "source": [
        "%%sql\n",
        "\n",
        "CREATE TABLE teams\n",
        "  (\n",
        "    team_number INTEGER PRIMARY KEY AUTOINCREMENT,\n",
        "    team_name text\n",
        "  );"
      ],
      "metadata": {
        "colab": {
          "base_uri": "https://localhost:8080/"
        },
        "id": "HKlRQJqdMy7C",
        "outputId": "264b1824-d8d6-4470-c28e-5ba4aa21d323"
      },
      "execution_count": 7,
      "outputs": [
        {
          "output_type": "stream",
          "name": "stdout",
          "text": [
            " * sqlite:///football_team.db\n",
            "Done.\n"
          ]
        },
        {
          "output_type": "execute_result",
          "data": {
            "text/plain": [
              "[]"
            ]
          },
          "metadata": {},
          "execution_count": 7
        }
      ]
    },
    {
      "cell_type": "code",
      "source": [
        "%%sql\n",
        "\n",
        "insert into teams(team_name) values (\"Real Madrid\");"
      ],
      "metadata": {
        "colab": {
          "base_uri": "https://localhost:8080/"
        },
        "id": "fi9REQxRNArF",
        "outputId": "82d039ff-7d42-41d5-a1c8-bfcc7367f07a"
      },
      "execution_count": 8,
      "outputs": [
        {
          "output_type": "stream",
          "name": "stdout",
          "text": [
            " * sqlite:///football_team.db\n",
            "1 rows affected.\n"
          ]
        },
        {
          "output_type": "execute_result",
          "data": {
            "text/plain": [
              "[]"
            ]
          },
          "metadata": {},
          "execution_count": 8
        }
      ]
    },
    {
      "cell_type": "code",
      "source": [
        "%%sql\n",
        "\n",
        "drop table games"
      ],
      "metadata": {
        "colab": {
          "base_uri": "https://localhost:8080/"
        },
        "id": "06U0mVrlNdDP",
        "outputId": "7e1df7a5-9fc6-4bc8-f587-88bd6247f20a"
      },
      "execution_count": 11,
      "outputs": [
        {
          "output_type": "stream",
          "name": "stdout",
          "text": [
            " * sqlite:///football_team.db\n",
            "Done.\n"
          ]
        },
        {
          "output_type": "execute_result",
          "data": {
            "text/plain": [
              "[]"
            ]
          },
          "metadata": {},
          "execution_count": 11
        }
      ]
    },
    {
      "cell_type": "code",
      "source": [
        "%%sql\n",
        "\n",
        "CREATE TABLE games\n",
        "  (\n",
        "    game_number INTEGER PRIMARY KEY AUTOINCREMENT,\n",
        "    team_number integer,\n",
        "    opponent text,\n",
        "    winner boolean,\n",
        "    score text,\n",
        "    date_played text\n",
        "  );"
      ],
      "metadata": {
        "colab": {
          "base_uri": "https://localhost:8080/"
        },
        "id": "thL-n434LrYh",
        "outputId": "f4785d94-43c8-4cc4-92c1-79d76933ea89"
      },
      "execution_count": 12,
      "outputs": [
        {
          "output_type": "stream",
          "name": "stdout",
          "text": [
            " * sqlite:///football_team.db\n",
            "Done.\n"
          ]
        },
        {
          "output_type": "execute_result",
          "data": {
            "text/plain": [
              "[]"
            ]
          },
          "metadata": {},
          "execution_count": 12
        }
      ]
    },
    {
      "cell_type": "code",
      "source": [
        "%%sql\n",
        "\n",
        "select * from teams;"
      ],
      "metadata": {
        "colab": {
          "base_uri": "https://localhost:8080/",
          "height": 96
        },
        "id": "hj9mQg5kKoFg",
        "outputId": "c6d4172a-effc-4948-fa46-432fde32b7d7"
      },
      "execution_count": 13,
      "outputs": [
        {
          "output_type": "stream",
          "name": "stdout",
          "text": [
            " * sqlite:///football_team.db\n",
            "Done.\n"
          ]
        },
        {
          "output_type": "execute_result",
          "data": {
            "text/plain": [
              "[(1, 'Real Madrid')]"
            ],
            "text/html": [
              "<table>\n",
              "    <thead>\n",
              "        <tr>\n",
              "            <th>team_number</th>\n",
              "            <th>team_name</th>\n",
              "        </tr>\n",
              "    </thead>\n",
              "    <tbody>\n",
              "        <tr>\n",
              "            <td>1</td>\n",
              "            <td>Real Madrid</td>\n",
              "        </tr>\n",
              "    </tbody>\n",
              "</table>"
            ]
          },
          "metadata": {},
          "execution_count": 13
        }
      ]
    },
    {
      "cell_type": "code",
      "source": [
        "# look up team number given team name\n",
        "\n",
        "%%sql\n",
        "\n",
        "INSERT INTO games (team_number, opponent, winner, score, date_played)\n",
        "VALUES ((SELECT team_number FROM teams WHERE team_name = 'Real Madrid'), 'Dynamo Kviv', false, '5-4', '2020-09-22');\n",
        "\n"
      ],
      "metadata": {
        "colab": {
          "base_uri": "https://localhost:8080/"
        },
        "id": "0I34CGDZMTzm",
        "outputId": "7e679fba-2c62-4f2f-d8b6-d362cd08489d"
      },
      "execution_count": 19,
      "outputs": [
        {
          "output_type": "stream",
          "name": "stdout",
          "text": [
            " * sqlite:///football_team.db\n",
            "1 rows affected.\n"
          ]
        },
        {
          "output_type": "execute_result",
          "data": {
            "text/plain": [
              "[]"
            ]
          },
          "metadata": {},
          "execution_count": 19
        }
      ]
    },
    {
      "cell_type": "code",
      "source": [
        "# hard code\n",
        "\n",
        "%%sql\n",
        "\n",
        "INSERT INTO games (team_number, opponent, winner, score, date_played)\n",
        "VALUES (1, 'Manchester United', true, '5-4', '2020-09-23');"
      ],
      "metadata": {
        "id": "zTzVruIrLLJD"
      },
      "execution_count": null,
      "outputs": []
    },
    {
      "cell_type": "code",
      "source": [
        "%%sql\n",
        "\n",
        "select * from teams;"
      ],
      "metadata": {
        "colab": {
          "base_uri": "https://localhost:8080/",
          "height": 96
        },
        "id": "EQCtGUhMLBHZ",
        "outputId": "e2fa4bd0-5401-4533-cf7b-e94fa1558854"
      },
      "execution_count": 20,
      "outputs": [
        {
          "output_type": "stream",
          "name": "stdout",
          "text": [
            " * sqlite:///football_team.db\n",
            "Done.\n"
          ]
        },
        {
          "output_type": "execute_result",
          "data": {
            "text/plain": [
              "[(1, 'Real Madrid')]"
            ],
            "text/html": [
              "<table>\n",
              "    <thead>\n",
              "        <tr>\n",
              "            <th>team_number</th>\n",
              "            <th>team_name</th>\n",
              "        </tr>\n",
              "    </thead>\n",
              "    <tbody>\n",
              "        <tr>\n",
              "            <td>1</td>\n",
              "            <td>Real Madrid</td>\n",
              "        </tr>\n",
              "    </tbody>\n",
              "</table>"
            ]
          },
          "metadata": {},
          "execution_count": 20
        }
      ]
    },
    {
      "cell_type": "code",
      "source": [
        "%%sql\n",
        "\n",
        "select * from games;"
      ],
      "metadata": {
        "colab": {
          "base_uri": "https://localhost:8080/",
          "height": 160
        },
        "id": "PIs9_6tDO5bq",
        "outputId": "be391ec5-5d14-44c6-d6d3-6cb730bf946a"
      },
      "execution_count": 21,
      "outputs": [
        {
          "output_type": "stream",
          "name": "stdout",
          "text": [
            " * sqlite:///football_team.db\n",
            "Done.\n"
          ]
        },
        {
          "output_type": "execute_result",
          "data": {
            "text/plain": [
              "[(1, 1, 'Manchester United', 1, '5-4', '2020-09-23'),\n",
              " (2, 1, 'Manchester United', 1, '5-4', '2020-09-23'),\n",
              " (3, 1, 'Manchester United', 1, '5-4', '2020-09-23'),\n",
              " (4, 1, 'Dynamo Kviv', 0, '5-4', '2020-09-22')]"
            ],
            "text/html": [
              "<table>\n",
              "    <thead>\n",
              "        <tr>\n",
              "            <th>game_number</th>\n",
              "            <th>team_number</th>\n",
              "            <th>opponent</th>\n",
              "            <th>winner</th>\n",
              "            <th>score</th>\n",
              "            <th>date_played</th>\n",
              "        </tr>\n",
              "    </thead>\n",
              "    <tbody>\n",
              "        <tr>\n",
              "            <td>1</td>\n",
              "            <td>1</td>\n",
              "            <td>Manchester United</td>\n",
              "            <td>1</td>\n",
              "            <td>5-4</td>\n",
              "            <td>2020-09-23</td>\n",
              "        </tr>\n",
              "        <tr>\n",
              "            <td>2</td>\n",
              "            <td>1</td>\n",
              "            <td>Manchester United</td>\n",
              "            <td>1</td>\n",
              "            <td>5-4</td>\n",
              "            <td>2020-09-23</td>\n",
              "        </tr>\n",
              "        <tr>\n",
              "            <td>3</td>\n",
              "            <td>1</td>\n",
              "            <td>Manchester United</td>\n",
              "            <td>1</td>\n",
              "            <td>5-4</td>\n",
              "            <td>2020-09-23</td>\n",
              "        </tr>\n",
              "        <tr>\n",
              "            <td>4</td>\n",
              "            <td>1</td>\n",
              "            <td>Dynamo Kviv</td>\n",
              "            <td>0</td>\n",
              "            <td>5-4</td>\n",
              "            <td>2020-09-22</td>\n",
              "        </tr>\n",
              "    </tbody>\n",
              "</table>"
            ]
          },
          "metadata": {},
          "execution_count": 21
        }
      ]
    }
  ]
}