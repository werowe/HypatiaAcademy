{
  "nbformat": 4,
  "nbformat_minor": 0,
  "metadata": {
    "colab": {
      "provenance": [],
      "authorship_tag": "ABX9TyOMSmxAo01t8jtFWFy6GNl6",
      "include_colab_link": true
    },
    "kernelspec": {
      "name": "python3",
      "display_name": "Python 3"
    },
    "language_info": {
      "name": "python"
    }
  },
  "cells": [
    {
      "cell_type": "markdown",
      "metadata": {
        "id": "view-in-github",
        "colab_type": "text"
      },
      "source": [
        "<a href=\"https://colab.research.google.com/github/werowe/HypatiaAcademy/blob/master/class/2024_09_10_dictionary.ipynb\" target=\"_parent\"><img src=\"https://colab.research.google.com/assets/colab-badge.svg\" alt=\"Open In Colab\"/></a>"
      ]
    },
    {
      "cell_type": "code",
      "execution_count": 1,
      "metadata": {
        "id": "o4m2EEpYhVgc"
      },
      "outputs": [],
      "source": [
        "# primitives\n",
        "\n",
        "# integer\n",
        "\n",
        "# boolean\n",
        "\n",
        "# string\n",
        "\n",
        "i=2\n"
      ]
    },
    {
      "cell_type": "code",
      "source": [
        "d = {\n",
        "    \"key\": \"value\"\n",
        "}"
      ],
      "metadata": {
        "id": "FGvO6XC3hgR7"
      },
      "execution_count": 2,
      "outputs": []
    },
    {
      "cell_type": "code",
      "source": [
        "d['key']"
      ],
      "metadata": {
        "colab": {
          "base_uri": "https://localhost:8080/",
          "height": 35
        },
        "id": "W8iiJz3Phl0U",
        "outputId": "fa18048b-bf28-4cd7-f959-f52abaa64822"
      },
      "execution_count": 3,
      "outputs": [
        {
          "output_type": "execute_result",
          "data": {
            "text/plain": [
              "'value'"
            ],
            "application/vnd.google.colaboratory.intrinsic+json": {
              "type": "string"
            }
          },
          "metadata": {},
          "execution_count": 3
        }
      ]
    },
    {
      "cell_type": "code",
      "source": [
        "d={\n",
        "    \"name\": \"Ela\",\n",
        "    \"age\": \"secret\",\n",
        "    \"country\": \"cyprus\",\n",
        "    \"grades\": [1,2,3],\n",
        "    \"score\":  7\n",
        "}"
      ],
      "metadata": {
        "id": "xVzZmREJhpbZ"
      },
      "execution_count": 14,
      "outputs": []
    },
    {
      "cell_type": "code",
      "source": [
        "ela['name']='Walker'\n",
        "\n",
        "ela"
      ],
      "metadata": {
        "colab": {
          "base_uri": "https://localhost:8080/"
        },
        "id": "pAy2dXoHiBk5",
        "outputId": "b244db8c-0cef-4949-c364-8029bad26266"
      },
      "execution_count": 8,
      "outputs": [
        {
          "output_type": "execute_result",
          "data": {
            "text/plain": [
              "{'name': 'Walker',\n",
              " 'age': 'secret',\n",
              " 'country': 'cyprus',\n",
              " 'grades': [1, 2, 3],\n",
              " 'score': 7}"
            ]
          },
          "metadata": {},
          "execution_count": 8
        }
      ]
    },
    {
      "cell_type": "code",
      "source": [
        "for key, value in ela.items():\n",
        "  print(\"key=\", key, \"value=\", value)\n"
      ],
      "metadata": {
        "colab": {
          "base_uri": "https://localhost:8080/"
        },
        "id": "b7gAT_bQiS-Y",
        "outputId": "171f6491-9dcb-49d8-a71c-57106daf5707"
      },
      "execution_count": 12,
      "outputs": [
        {
          "output_type": "stream",
          "name": "stdout",
          "text": [
            "key= name value= Walker\n",
            "key= age value= secret\n",
            "key= country value= cyprus\n",
            "key= grades value= [1, 2, 3]\n",
            "key= score value= 7\n"
          ]
        }
      ]
    },
    {
      "cell_type": "code",
      "source": [
        "# iterable means something you can look over\n",
        "\n",
        "\n",
        "# iterator\n",
        "d.items()\n",
        "\n",
        "\n",
        "# list\n",
        "d.values()"
      ],
      "metadata": {
        "colab": {
          "base_uri": "https://localhost:8080/"
        },
        "id": "fY364akuikE-",
        "outputId": "fa2f6f0f-3b39-41e9-cad6-735b3feb9fbd"
      },
      "execution_count": 15,
      "outputs": [
        {
          "output_type": "execute_result",
          "data": {
            "text/plain": [
              "dict_values(['Ela', 'secret', 'cyprus', [1, 2, 3], 7])"
            ]
          },
          "metadata": {},
          "execution_count": 15
        }
      ]
    },
    {
      "cell_type": "code",
      "source": [
        "ela['name']='Ela'"
      ],
      "metadata": {
        "id": "2ooGzUDBiKAM"
      },
      "execution_count": 18,
      "outputs": []
    },
    {
      "cell_type": "code",
      "source": [
        "illia={'name': 'Illia',\n",
        " 'age': 16,\n",
        " 'country': 'Ukraine',\n",
        " 'grades': [1, 2, 3],\n",
        " 'score': 6}\n",
        "\n",
        "\n",
        "illia"
      ],
      "metadata": {
        "colab": {
          "base_uri": "https://localhost:8080/"
        },
        "id": "Vo3TcoSRjF91",
        "outputId": "fa812d01-65f8-44cb-e73c-69ced810e1ae"
      },
      "execution_count": 20,
      "outputs": [
        {
          "output_type": "execute_result",
          "data": {
            "text/plain": [
              "{'name': 'Illia',\n",
              " 'age': 16,\n",
              " 'country': 'Ukraine',\n",
              " 'grades': [1, 2, 3],\n",
              " 'score': 6}"
            ]
          },
          "metadata": {},
          "execution_count": 20
        }
      ]
    },
    {
      "cell_type": "code",
      "source": [
        "hClass=[]\n",
        "\n",
        "\n",
        "hClass.append(ela)\n",
        "hClass.append(illia)\n",
        "\n",
        "hClass"
      ],
      "metadata": {
        "colab": {
          "base_uri": "https://localhost:8080/"
        },
        "id": "h7oJ9-GSjY8K",
        "outputId": "2e3d2eaa-4601-466e-f7ea-a8b91a4684d0"
      },
      "execution_count": 21,
      "outputs": [
        {
          "output_type": "execute_result",
          "data": {
            "text/plain": [
              "[{'name': 'Ela',\n",
              "  'age': 'secret',\n",
              "  'country': 'cyprus',\n",
              "  'grades': [1, 2, 3],\n",
              "  'score': 7},\n",
              " {'name': 'Illia',\n",
              "  'age': 16,\n",
              "  'country': 'Ukraine',\n",
              "  'grades': [1, 2, 3],\n",
              "  'score': 6}]"
            ]
          },
          "metadata": {},
          "execution_count": 21
        }
      ]
    },
    {
      "cell_type": "code",
      "source": [
        "for student in hClass:\n",
        "  for key, value in student.items():\n",
        "      print(\"key=\", key, \"value=\", value)\n",
        "  print(\"\\n\")\n"
      ],
      "metadata": {
        "colab": {
          "base_uri": "https://localhost:8080/"
        },
        "id": "FSXyLFcTjoMY",
        "outputId": "abb1419a-a341-46f0-b537-72fed0f0454d"
      },
      "execution_count": 27,
      "outputs": [
        {
          "output_type": "stream",
          "name": "stdout",
          "text": [
            "key= name value= Ela\n",
            "key= age value= secret\n",
            "key= country value= cyprus\n",
            "key= grades value= [1, 2, 3]\n",
            "key= score value= 7\n",
            "\n",
            "\n",
            "key= name value= Illia\n",
            "key= age value= 16\n",
            "key= country value= Ukraine\n",
            "key= grades value= [1, 2, 3]\n",
            "key= score value= 6\n",
            "\n",
            "\n"
          ]
        }
      ]
    },
    {
      "cell_type": "markdown",
      "source": [
        "| **Function**          | **Parameters and Description**                                                                                                                                               |\n",
        "|-----------------------|-----------------------------------------------------------------------------------------------------------------------------------------------------------------------------|\n",
        "| `dict()`              | No parameters or an iterable of key-value pairs. Creates a new dictionary.                                                                                                   |\n",
        "| `clear()`             | No parameters. Removes all items from the dictionary.                                                                                                                        |\n",
        "| `copy()`              | No parameters. Returns a shallow copy of the dictionary.                                                                                                                     |\n",
        "| `fromkeys()`          | `iterable`, `value (optional)`. Creates a new dictionary with keys from `iterable` and values set to `value` (default is `None`).                                            |\n",
        "| `get()`               | `key`, `default (optional)`. Returns the value for `key` if it exists, else `default` (default is `None`).                                                                   |\n",
        "| `items()`             | No parameters. Returns a view object that displays a list of dictionary's key-value tuple pairs.                                                                              |\n",
        "| `keys()`              | No parameters. Returns a view object of the dictionary's keys.                                                                                                               |\n",
        "| `pop()`               | `key`, `default (optional)`. Removes the specified key and returns the corresponding value. If the key is not found, returns `default` if provided, otherwise raises `KeyError`.|\n",
        "| `popitem()`           | No parameters. Removes and returns the last key-value pair as a tuple. Raises `KeyError` if the dictionary is empty.                                                         |\n",
        "| `setdefault()`        | `key`, `default (optional)`. Returns the value of the `key` if it exists; if not, inserts `key` with a value of `default` and returns `default`.                             |\n",
        "| `update()`            | `iterable or mapping`. Updates the dictionary with key-value pairs from another dictionary or iterable of key-value pairs.                                                    |\n",
        "| `values()`            | No parameters. Returns a view object of all values in the dictionary.                                                                                                        |\n",
        "| `len()`               | No parameters. Returns the number of key-value pairs in the dictionary.                                                                                                      |\n",
        "| `del`                 | `key`. Deletes the key-value pair for the specified key. Raises `KeyError` if the key does not exist.                                                                        |\n",
        "| `in`                  | `key`. Checks if the `key` exists in the dictionary, returning `True` or `False`.                                                                                            |\n",
        "| `not in`              | `key`. Checks if the `key` does not exist in the dictionary, returning `True` or `False`.                                                                                    |\n"
      ],
      "metadata": {
        "id": "TSbxzd4vkqOs"
      }
    },
    {
      "cell_type": "code",
      "source": [
        "# make a dictionary\n",
        "\n",
        "e = {}\n",
        "\n",
        "f = dict()\n",
        "\n",
        "e['name']='Walker'\n",
        "\n",
        "e\n"
      ],
      "metadata": {
        "colab": {
          "base_uri": "https://localhost:8080/"
        },
        "id": "Ml-3qmZpkrkG",
        "outputId": "83ff237e-6aff-4311-d84b-84b9ebe166ec"
      },
      "execution_count": 29,
      "outputs": [
        {
          "output_type": "execute_result",
          "data": {
            "text/plain": [
              "{'name': 'Walker'}"
            ]
          },
          "metadata": {},
          "execution_count": 29
        }
      ]
    },
    {
      "cell_type": "markdown",
      "source": [
        "# Homework\n",
        "\n",
        "Pick 4 functions from the list above and write an example\n"
      ],
      "metadata": {
        "id": "3YMKOpwik5jO"
      }
    },
    {
      "cell_type": "code",
      "source": [
        "\n"
      ],
      "metadata": {
        "id": "fYPxK8y2k15N"
      },
      "execution_count": null,
      "outputs": []
    }
  ]
}