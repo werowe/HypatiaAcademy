{
  "nbformat": 4,
  "nbformat_minor": 0,
  "metadata": {
    "colab": {
      "provenance": [],
      "include_colab_link": true
    },
    "kernelspec": {
      "name": "python3",
      "display_name": "Python 3"
    },
    "language_info": {
      "name": "python"
    }
  },
  "cells": [
    {
      "cell_type": "markdown",
      "metadata": {
        "id": "view-in-github",
        "colab_type": "text"
      },
      "source": [
        "<a href=\"https://colab.research.google.com/github/werowe/HypatiaAcademy/blob/master/class/2024_10_11_Homework.ipynb\" target=\"_parent\"><img src=\"https://colab.research.google.com/assets/colab-badge.svg\" alt=\"Open In Colab\"/></a>"
      ]
    },
    {
      "cell_type": "code",
      "execution_count": 9,
      "metadata": {
        "colab": {
          "base_uri": "https://localhost:8080/"
        },
        "id": "vWD1i4AlFg4I",
        "outputId": "4a7f2fc8-10ca-4dde-eab7-1d9a4b3fb931"
      },
      "outputs": [
        {
          "output_type": "stream",
          "name": "stdout",
          "text": [
            "Drive already mounted at /content/drive; to attempt to forcibly remount, call drive.mount(\"/content/drive\", force_remount=True).\n"
          ]
        }
      ],
      "source": [
        "from google.colab import drive\n",
        "drive.mount('/content/drive')"
      ]
    },
    {
      "cell_type": "code",
      "source": [
        "%load_ext sql"
      ],
      "metadata": {
        "id": "3C8nvzMeS0XS",
        "colab": {
          "base_uri": "https://localhost:8080/"
        },
        "outputId": "5a8f64ed-3217-44d8-e9cf-58c3c7616c86"
      },
      "execution_count": 10,
      "outputs": [
        {
          "output_type": "stream",
          "name": "stdout",
          "text": [
            "The sql extension is already loaded. To reload it, use:\n",
            "  %reload_ext sql\n"
          ]
        }
      ]
    },
    {
      "cell_type": "code",
      "source": [
        "%sql sqlite:////content/drive/MyDrive/parent_table.db/"
      ],
      "metadata": {
        "id": "pEbuGW8sS01s"
      },
      "execution_count": 11,
      "outputs": []
    },
    {
      "cell_type": "code",
      "source": [],
      "metadata": {
        "id": "oxnzQUx_J0GW"
      },
      "execution_count": null,
      "outputs": []
    },
    {
      "cell_type": "code",
      "source": [
        "%sql PRAGMA foreign_keys = ON;"
      ],
      "metadata": {
        "colab": {
          "base_uri": "https://localhost:8080/"
        },
        "id": "d2214H_TS2Bb",
        "outputId": "bf62ea66-bf51-4704-c014-380d57741816"
      },
      "execution_count": 12,
      "outputs": [
        {
          "output_type": "stream",
          "name": "stdout",
          "text": [
            " * sqlite:////content/drive/MyDrive/parent_table.db/\n",
            "Done.\n"
          ]
        },
        {
          "output_type": "execute_result",
          "data": {
            "text/plain": [
              "[]"
            ]
          },
          "metadata": {},
          "execution_count": 12
        }
      ]
    },
    {
      "cell_type": "code",
      "source": [
        "#CREATE THE PARENT TABLE\n",
        "\n",
        "#import the library\n",
        "import sqlite3\n",
        "\n",
        "#define the path\n",
        "db_path = '/content/drive/MyDrive/parent_table.db'\n",
        "\n",
        "#connect to the database\n",
        "conn = sqlite3.connect(db_path)\n",
        "\n",
        "#put on the keys\n",
        "conn.execute('PRAGMA foreign_keys = ON')\n",
        "\n",
        "#create the table\n",
        "create_parent_table = '''\n",
        "CREATE TABLE IF NOT EXISTS parent (\n",
        "    parent_id INTEGER PRIMARY KEY AUTOINCREMENT,\n",
        "    parent_name TEXT,\n",
        "    parent_dob TEXT,\n",
        "    phone_number INTEGER\n",
        ")\n",
        "'''\n",
        "\n",
        "#execute the SQL statement\n",
        "conn.execute(create_parent_table)\n",
        "\n",
        "#save\n",
        "conn.commit()"
      ],
      "metadata": {
        "id": "S6jFmJIRb6iP"
      },
      "execution_count": 55,
      "outputs": []
    },
    {
      "cell_type": "code",
      "source": [
        "generateChildSQL(conn)"
      ],
      "metadata": {
        "colab": {
          "base_uri": "https://localhost:8080/",
          "height": 53
        },
        "id": "kAauMhoQLJ4S",
        "outputId": "bc943bf8-9d2e-4276-aa4e-d031cbee937a"
      },
      "execution_count": 56,
      "outputs": [
        {
          "output_type": "execute_result",
          "data": {
            "text/plain": [
              "\"INSERT INTO child (parent_id, child_name, date_created) VALUES (78,'Anastasia Kovalenko', '1999-11-07')\""
            ],
            "application/vnd.google.colaboratory.intrinsic+json": {
              "type": "string"
            }
          },
          "metadata": {},
          "execution_count": 56
        }
      ]
    },
    {
      "cell_type": "code",
      "source": [
        "getRandomParent(conn)"
      ],
      "metadata": {
        "colab": {
          "base_uri": "https://localhost:8080/"
        },
        "id": "GB4kOUQTLR_3",
        "outputId": "d1a11c64-9c6e-45dd-c8cf-7d11ac5c7af4"
      },
      "execution_count": 57,
      "outputs": [
        {
          "output_type": "execute_result",
          "data": {
            "text/plain": [
              "66"
            ]
          },
          "metadata": {},
          "execution_count": 57
        }
      ]
    },
    {
      "cell_type": "code",
      "source": [
        "cursor = conn.cursor()\n",
        "\n",
        "sql=\"select parent_id from parent\"\n",
        "\n",
        "cursor.execute(sql)\n",
        "\n",
        "accounts=cursor.fetchall()\n",
        "\n",
        "#return accounts[random.randint(0,len(accounts)-1)][0]"
      ],
      "metadata": {
        "id": "SCvx4J5ALXUJ"
      },
      "execution_count": 58,
      "outputs": []
    },
    {
      "cell_type": "code",
      "source": [
        " accounts[random.randint(0,len(accounts)-1)][0]"
      ],
      "metadata": {
        "colab": {
          "base_uri": "https://localhost:8080/"
        },
        "id": "G0QKu25CLnK_",
        "outputId": "2a612dce-275b-4ba2-f49d-dbbb9e4cabb7"
      },
      "execution_count": 62,
      "outputs": [
        {
          "output_type": "execute_result",
          "data": {
            "text/plain": [
              "73"
            ]
          },
          "metadata": {},
          "execution_count": 62
        }
      ]
    },
    {
      "cell_type": "code",
      "source": [
        "t=(66,)"
      ],
      "metadata": {
        "id": "ealxzcwcLrSc"
      },
      "execution_count": 61,
      "outputs": []
    },
    {
      "cell_type": "code",
      "source": [
        "accounts"
      ],
      "metadata": {
        "colab": {
          "base_uri": "https://localhost:8080/"
        },
        "id": "6ML6MXpzLd1j",
        "outputId": "d2150462-47e6-4404-c6c9-92f90c1b67c2"
      },
      "execution_count": 59,
      "outputs": [
        {
          "output_type": "execute_result",
          "data": {
            "text/plain": [
              "[(66,),\n",
              " (67,),\n",
              " (68,),\n",
              " (69,),\n",
              " (70,),\n",
              " (71,),\n",
              " (72,),\n",
              " (73,),\n",
              " (74,),\n",
              " (75,),\n",
              " (76,),\n",
              " (77,),\n",
              " (78,),\n",
              " (79,),\n",
              " (80,)]"
            ]
          },
          "metadata": {},
          "execution_count": 59
        }
      ]
    },
    {
      "cell_type": "code",
      "source": [
        "def getRandomParent(conn):\n",
        "\n",
        "\n",
        "  cursor = conn.cursor()\n",
        "\n",
        "  sql=\"select parent_id from parent\"\n",
        "\n",
        "  cursor.execute(sql)\n",
        "\n",
        "  accounts=cursor.fetchall()\n",
        "\n",
        "  return accounts[random.randint(0,len(accounts)-1)][0]\n",
        "\n",
        "\n",
        "def generateChildSQL(conn):\n",
        "\n",
        "  dt=getDate()\n",
        "  parent_id = getRandomParent(conn)\n",
        "\n",
        "  name=getName()\n",
        "\n",
        "  sql=\"INSERT INTO child (parent_id, child_name, date_created) VALUES ({},'{}', '{}')\".format( parent_id,name, dt)\n",
        "\n",
        "\n",
        "  return sql\n",
        ""
      ],
      "metadata": {
        "id": "2CQ5dR6WJ5hf"
      },
      "execution_count": 51,
      "outputs": []
    },
    {
      "cell_type": "code",
      "source": [
        "%%sql\n",
        "select parent_id from parent"
      ],
      "metadata": {
        "colab": {
          "base_uri": "https://localhost:8080/",
          "height": 75
        },
        "id": "BDVBDvJMKBCZ",
        "outputId": "71d62257-d9a6-40d1-f679-2e7c4349d56d"
      },
      "execution_count": 46,
      "outputs": [
        {
          "output_type": "stream",
          "name": "stdout",
          "text": [
            " * sqlite:////content/drive/MyDrive/parent_table.db/\n",
            "Done.\n"
          ]
        },
        {
          "output_type": "execute_result",
          "data": {
            "text/plain": [
              "[]"
            ],
            "text/html": [
              "<table>\n",
              "    <thead>\n",
              "        <tr>\n",
              "            <th>parent_id</th>\n",
              "        </tr>\n",
              "    </thead>\n",
              "    <tbody>\n",
              "    </tbody>\n",
              "</table>"
            ]
          },
          "metadata": {},
          "execution_count": 46
        }
      ]
    },
    {
      "cell_type": "code",
      "source": [
        "#ADD RANDOM DATA\n",
        "\n",
        "#library needed\n",
        "import random\n",
        "\n",
        "#get a random name\n",
        "#define the function\n",
        "def getName():\n",
        "    fnames = [\"Oleg\", \"Diana\", \"Kate\", \"Yulia\", \"Mark\", \"Vlad\", \"Anastasia\"] #first names\n",
        "    lnames = [\"Zelensky\", \"Kovalenko\", \"Kravchenko\", \"Hrytsenko\", \"Melnyk\"] #last names\n",
        "\n",
        "    return fnames[random.randint(0, len(fnames)-1)] +  \" \" + lnames[random.randint(0, len(lnames)-1)] #randomly pick a fname and a lname\n",
        "\n",
        "#get a random date of birth\n",
        "#define the function\n",
        "def getDate():\n",
        "    from datetime import datetime, timedelta #the libraries\n",
        "    d = datetime.now() + timedelta(days=random.randint(-365 * 30, -365 * 18)) #set the age\n",
        "\n",
        "    return d.strftime('%Y-%m-%d') #return in a YYYY-MM-DD format\n",
        "\n",
        "#get a random phone number\n",
        "#define the function\n",
        "def getPhone():\n",
        "    return random.randint(1000000, 9999999) # Pick a random 7-digit number"
      ],
      "metadata": {
        "id": "S9dmOYRdiBKE"
      },
      "execution_count": 14,
      "outputs": []
    },
    {
      "cell_type": "code",
      "source": [
        "getPhone()"
      ],
      "metadata": {
        "colab": {
          "base_uri": "https://localhost:8080/"
        },
        "id": "fOWj6XldGzFo",
        "outputId": "fb0d0b8d-3b96-477b-f81e-99876208739d"
      },
      "execution_count": 25,
      "outputs": [
        {
          "output_type": "execute_result",
          "data": {
            "text/plain": [
              "8680249"
            ]
          },
          "metadata": {},
          "execution_count": 25
        }
      ]
    },
    {
      "cell_type": "code",
      "source": [
        "getDate()"
      ],
      "metadata": {
        "colab": {
          "base_uri": "https://localhost:8080/",
          "height": 35
        },
        "id": "rFrJjZKBGpSN",
        "outputId": "e2b383f8-2960-46d1-ea93-9199cbbef7ab"
      },
      "execution_count": 22,
      "outputs": [
        {
          "output_type": "execute_result",
          "data": {
            "text/plain": [
              "'1996-05-09'"
            ],
            "application/vnd.google.colaboratory.intrinsic+json": {
              "type": "string"
            }
          },
          "metadata": {},
          "execution_count": 22
        }
      ]
    },
    {
      "cell_type": "code",
      "source": [
        "#INSERT THE DATA INTO THE PARENT TABLE\n",
        "\n",
        "def create_parent_sql(name, dob, phone): #define a function\n",
        "    #inserting\n",
        "    sql = \"INSERT INTO parent (parent_name, parent_dob, phone_number) VALUES ('{}', '{}', {})\".format(name, dob, phone)\n",
        "\n",
        "    print(sql)\n",
        "\n",
        "    return sql #return the 'sql' we created\n",
        "\n",
        "#generate and insert random data\n",
        "for _ in range(5):  #generate 20 parents\n",
        "    name = getName() #get a name\n",
        "    dob = getDate() #get a date of birth\n",
        "    phone = getPhone() #get a phone number\n",
        "\n",
        "    sql = create_parent_sql(name, dob, phone)\n",
        "    # run execute on the cursor or the connection\n",
        "\n",
        "    conn.execute(sql) #execute the SQL statement\n",
        "\n",
        "for i in range(10):\n",
        "   sql=generateChildSQL(conn)\n",
        "   print(sql)\n",
        "   conn.execute(sql)\n",
        "   conn.commit()\n",
        "\n",
        "#save\n",
        "conn.commit()\n",
        "\n",
        "#close the connection\n",
        "conn.close()"
      ],
      "metadata": {
        "id": "-OtWL6q8kYmy",
        "colab": {
          "base_uri": "https://localhost:8080/"
        },
        "outputId": "c6a0c8fe-5837-407c-bd2c-a3dac6a0b9bc"
      },
      "execution_count": 53,
      "outputs": [
        {
          "output_type": "stream",
          "name": "stdout",
          "text": [
            "INSERT INTO parent (parent_name, parent_dob, phone_number) VALUES ('Mark Zelensky', '2003-06-17', 6454390)\n",
            "INSERT INTO parent (parent_name, parent_dob, phone_number) VALUES ('Anastasia Zelensky', '2005-09-06', 6765983)\n",
            "INSERT INTO parent (parent_name, parent_dob, phone_number) VALUES ('Yulia Melnyk', '2001-11-28', 4971562)\n",
            "INSERT INTO parent (parent_name, parent_dob, phone_number) VALUES ('Kate Kravchenko', '2004-09-30', 7483096)\n",
            "INSERT INTO parent (parent_name, parent_dob, phone_number) VALUES ('Vlad Hrytsenko', '2001-01-09', 1735305)\n",
            "INSERT INTO child (parent_id, child_name, date_created) VALUES (72,'Kate Hrytsenko', '2004-09-17')\n",
            "INSERT INTO child (parent_id, child_name, date_created) VALUES (76,'Anastasia Hrytsenko', '2001-12-12')\n",
            "INSERT INTO child (parent_id, child_name, date_created) VALUES (66,'Anastasia Kovalenko', '2000-02-08')\n",
            "INSERT INTO child (parent_id, child_name, date_created) VALUES (77,'Diana Kravchenko', '2002-07-14')\n",
            "INSERT INTO child (parent_id, child_name, date_created) VALUES (78,'Vlad Kovalenko', '1997-11-25')\n",
            "INSERT INTO child (parent_id, child_name, date_created) VALUES (68,'Oleg Kravchenko', '2000-06-13')\n",
            "INSERT INTO child (parent_id, child_name, date_created) VALUES (66,'Diana Kravchenko', '2000-01-10')\n",
            "INSERT INTO child (parent_id, child_name, date_created) VALUES (79,'Yulia Kovalenko', '2001-02-04')\n",
            "INSERT INTO child (parent_id, child_name, date_created) VALUES (77,'Yulia Kravchenko', '2000-12-11')\n",
            "INSERT INTO child (parent_id, child_name, date_created) VALUES (70,'Oleg Zelensky', '2002-08-07')\n"
          ]
        }
      ]
    },
    {
      "cell_type": "code",
      "source": [
        "%%sql\n",
        "\n",
        "select * from parent\n"
      ],
      "metadata": {
        "colab": {
          "base_uri": "https://localhost:8080/",
          "height": 395
        },
        "id": "qYfHPIf2K9_R",
        "outputId": "e3c81197-7153-4dbf-db52-4defc59f83d8"
      },
      "execution_count": 54,
      "outputs": [
        {
          "output_type": "stream",
          "name": "stdout",
          "text": [
            " * sqlite:////content/drive/MyDrive/parent_table.db/\n",
            "Done.\n"
          ]
        },
        {
          "output_type": "execute_result",
          "data": {
            "text/plain": [
              "[(66, 'Kate Kovalenko', '2004-07-25', 5383240),\n",
              " (67, 'Oleg Melnyk', '1998-12-13', 7538226),\n",
              " (68, 'Diana Kravchenko', '2001-09-11', 1837360),\n",
              " (69, 'Anastasia Zelensky', '1997-05-15', 3167384),\n",
              " (70, 'Kate Kovalenko', '1998-02-24', 3121683),\n",
              " (71, 'Vlad Melnyk', '2000-10-11', 4806291),\n",
              " (72, 'Oleg Kravchenko', '1995-04-13', 4987066),\n",
              " (73, 'Kate Melnyk', '2001-12-12', 4612975),\n",
              " (74, 'Yulia Zelensky', '2001-01-11', 6389958),\n",
              " (75, 'Vlad Kravchenko', '2004-08-03', 9743549),\n",
              " (76, 'Mark Zelensky', '2003-06-17', 6454390),\n",
              " (77, 'Anastasia Zelensky', '2005-09-06', 6765983),\n",
              " (78, 'Yulia Melnyk', '2001-11-28', 4971562),\n",
              " (79, 'Kate Kravchenko', '2004-09-30', 7483096),\n",
              " (80, 'Vlad Hrytsenko', '2001-01-09', 1735305)]"
            ],
            "text/html": [
              "<table>\n",
              "    <thead>\n",
              "        <tr>\n",
              "            <th>parent_id</th>\n",
              "            <th>parent_name</th>\n",
              "            <th>parent_dob</th>\n",
              "            <th>phone_number</th>\n",
              "        </tr>\n",
              "    </thead>\n",
              "    <tbody>\n",
              "        <tr>\n",
              "            <td>66</td>\n",
              "            <td>Kate Kovalenko</td>\n",
              "            <td>2004-07-25</td>\n",
              "            <td>5383240</td>\n",
              "        </tr>\n",
              "        <tr>\n",
              "            <td>67</td>\n",
              "            <td>Oleg Melnyk</td>\n",
              "            <td>1998-12-13</td>\n",
              "            <td>7538226</td>\n",
              "        </tr>\n",
              "        <tr>\n",
              "            <td>68</td>\n",
              "            <td>Diana Kravchenko</td>\n",
              "            <td>2001-09-11</td>\n",
              "            <td>1837360</td>\n",
              "        </tr>\n",
              "        <tr>\n",
              "            <td>69</td>\n",
              "            <td>Anastasia Zelensky</td>\n",
              "            <td>1997-05-15</td>\n",
              "            <td>3167384</td>\n",
              "        </tr>\n",
              "        <tr>\n",
              "            <td>70</td>\n",
              "            <td>Kate Kovalenko</td>\n",
              "            <td>1998-02-24</td>\n",
              "            <td>3121683</td>\n",
              "        </tr>\n",
              "        <tr>\n",
              "            <td>71</td>\n",
              "            <td>Vlad Melnyk</td>\n",
              "            <td>2000-10-11</td>\n",
              "            <td>4806291</td>\n",
              "        </tr>\n",
              "        <tr>\n",
              "            <td>72</td>\n",
              "            <td>Oleg Kravchenko</td>\n",
              "            <td>1995-04-13</td>\n",
              "            <td>4987066</td>\n",
              "        </tr>\n",
              "        <tr>\n",
              "            <td>73</td>\n",
              "            <td>Kate Melnyk</td>\n",
              "            <td>2001-12-12</td>\n",
              "            <td>4612975</td>\n",
              "        </tr>\n",
              "        <tr>\n",
              "            <td>74</td>\n",
              "            <td>Yulia Zelensky</td>\n",
              "            <td>2001-01-11</td>\n",
              "            <td>6389958</td>\n",
              "        </tr>\n",
              "        <tr>\n",
              "            <td>75</td>\n",
              "            <td>Vlad Kravchenko</td>\n",
              "            <td>2004-08-03</td>\n",
              "            <td>9743549</td>\n",
              "        </tr>\n",
              "        <tr>\n",
              "            <td>76</td>\n",
              "            <td>Mark Zelensky</td>\n",
              "            <td>2003-06-17</td>\n",
              "            <td>6454390</td>\n",
              "        </tr>\n",
              "        <tr>\n",
              "            <td>77</td>\n",
              "            <td>Anastasia Zelensky</td>\n",
              "            <td>2005-09-06</td>\n",
              "            <td>6765983</td>\n",
              "        </tr>\n",
              "        <tr>\n",
              "            <td>78</td>\n",
              "            <td>Yulia Melnyk</td>\n",
              "            <td>2001-11-28</td>\n",
              "            <td>4971562</td>\n",
              "        </tr>\n",
              "        <tr>\n",
              "            <td>79</td>\n",
              "            <td>Kate Kravchenko</td>\n",
              "            <td>2004-09-30</td>\n",
              "            <td>7483096</td>\n",
              "        </tr>\n",
              "        <tr>\n",
              "            <td>80</td>\n",
              "            <td>Vlad Hrytsenko</td>\n",
              "            <td>2001-01-09</td>\n",
              "            <td>1735305</td>\n",
              "        </tr>\n",
              "    </tbody>\n",
              "</table>"
            ]
          },
          "metadata": {},
          "execution_count": 54
        }
      ]
    },
    {
      "cell_type": "code",
      "source": [
        "def generateChildSQL(conn):\n",
        "\n",
        "  dt=getDate()\n",
        "  parent_id = getRandomParent(conn)\n",
        "\n",
        "  name=getName()\n",
        "\n",
        "  sql=\"INSERT INTO child (parent_id, child_name, date_created) VALUES ({},'{}', '{}')\".format( parent_id,name, dt)\n",
        "\n",
        "\n",
        "  return sql\n",
        ""
      ],
      "metadata": {
        "id": "Fj5fEXo4JmwD"
      },
      "execution_count": null,
      "outputs": []
    },
    {
      "cell_type": "code",
      "source": [
        "%%sql\n",
        "\n",
        "pragma table_info(parent)"
      ],
      "metadata": {
        "colab": {
          "base_uri": "https://localhost:8080/",
          "height": 160
        },
        "id": "gewNdoRIHmgL",
        "outputId": "08df4aef-7f35-48a5-e373-bac94d36fc16"
      },
      "execution_count": 31,
      "outputs": [
        {
          "output_type": "stream",
          "name": "stdout",
          "text": [
            " * sqlite:////content/drive/MyDrive/parent_table.db/\n",
            "Done.\n"
          ]
        },
        {
          "output_type": "execute_result",
          "data": {
            "text/plain": [
              "[(0, 'parent_id', 'INTEGER', 0, None, 1),\n",
              " (1, 'parent_name', 'TEXT', 0, None, 0),\n",
              " (2, 'parent_dob', 'TEXT', 0, None, 0),\n",
              " (3, 'phone_number', 'INTEGER', 0, None, 0)]"
            ],
            "text/html": [
              "<table>\n",
              "    <thead>\n",
              "        <tr>\n",
              "            <th>cid</th>\n",
              "            <th>name</th>\n",
              "            <th>type</th>\n",
              "            <th>notnull</th>\n",
              "            <th>dflt_value</th>\n",
              "            <th>pk</th>\n",
              "        </tr>\n",
              "    </thead>\n",
              "    <tbody>\n",
              "        <tr>\n",
              "            <td>0</td>\n",
              "            <td>parent_id</td>\n",
              "            <td>INTEGER</td>\n",
              "            <td>0</td>\n",
              "            <td>None</td>\n",
              "            <td>1</td>\n",
              "        </tr>\n",
              "        <tr>\n",
              "            <td>1</td>\n",
              "            <td>parent_name</td>\n",
              "            <td>TEXT</td>\n",
              "            <td>0</td>\n",
              "            <td>None</td>\n",
              "            <td>0</td>\n",
              "        </tr>\n",
              "        <tr>\n",
              "            <td>2</td>\n",
              "            <td>parent_dob</td>\n",
              "            <td>TEXT</td>\n",
              "            <td>0</td>\n",
              "            <td>None</td>\n",
              "            <td>0</td>\n",
              "        </tr>\n",
              "        <tr>\n",
              "            <td>3</td>\n",
              "            <td>phone_number</td>\n",
              "            <td>INTEGER</td>\n",
              "            <td>0</td>\n",
              "            <td>None</td>\n",
              "            <td>0</td>\n",
              "        </tr>\n",
              "    </tbody>\n",
              "</table>"
            ]
          },
          "metadata": {},
          "execution_count": 31
        }
      ]
    },
    {
      "cell_type": "code",
      "source": [
        "%%sql\n",
        "\n",
        "delete from parent;\n",
        "delete from child;\n"
      ],
      "metadata": {
        "colab": {
          "base_uri": "https://localhost:8080/"
        },
        "id": "1ov8vur7JT7K",
        "outputId": "c0fa686c-d65f-49ed-85f0-1b25e1b392d3"
      },
      "execution_count": 43,
      "outputs": [
        {
          "output_type": "stream",
          "name": "stdout",
          "text": [
            " * sqlite:////content/drive/MyDrive/parent_table.db/\n",
            "65 rows affected.\n",
            "1 rows affected.\n"
          ]
        },
        {
          "output_type": "execute_result",
          "data": {
            "text/plain": [
              "[]"
            ]
          },
          "metadata": {},
          "execution_count": 43
        }
      ]
    },
    {
      "cell_type": "code",
      "source": [
        "%%sql\n",
        "\n",
        "CREATE TABLE child\n",
        "  (\n",
        "    child_id INTEGER PRIMARY KEY AUTOINCREMENT,\n",
        "    parent_id INTEGER,\n",
        "    child_name text,\n",
        "    date_created text\n",
        "  );\n"
      ],
      "metadata": {
        "colab": {
          "base_uri": "https://localhost:8080/"
        },
        "id": "jBgN24ySH4Sg",
        "outputId": "e3e842e7-aa11-4021-ff3a-6853b71ec7e9"
      },
      "execution_count": 33,
      "outputs": [
        {
          "output_type": "stream",
          "name": "stdout",
          "text": [
            " * sqlite:////content/drive/MyDrive/parent_table.db/\n",
            "Done.\n"
          ]
        },
        {
          "output_type": "execute_result",
          "data": {
            "text/plain": [
              "[]"
            ]
          },
          "metadata": {},
          "execution_count": 33
        }
      ]
    },
    {
      "cell_type": "code",
      "source": [
        "%%sql\n",
        "\n",
        "pragma table_info(child)"
      ],
      "metadata": {
        "colab": {
          "base_uri": "https://localhost:8080/",
          "height": 160
        },
        "id": "FIS--GhXHsnf",
        "outputId": "342d715a-1660-479f-b2b8-0f96a5f9b2d9"
      },
      "execution_count": 34,
      "outputs": [
        {
          "output_type": "stream",
          "name": "stdout",
          "text": [
            " * sqlite:////content/drive/MyDrive/parent_table.db/\n",
            "Done.\n"
          ]
        },
        {
          "output_type": "execute_result",
          "data": {
            "text/plain": [
              "[(0, 'child_id', 'INTEGER', 0, None, 1),\n",
              " (1, 'parent_id', 'INTEGER', 0, None, 0),\n",
              " (2, 'child_name', 'TEXT', 0, None, 0),\n",
              " (3, 'date_created', 'TEXT', 0, None, 0)]"
            ],
            "text/html": [
              "<table>\n",
              "    <thead>\n",
              "        <tr>\n",
              "            <th>cid</th>\n",
              "            <th>name</th>\n",
              "            <th>type</th>\n",
              "            <th>notnull</th>\n",
              "            <th>dflt_value</th>\n",
              "            <th>pk</th>\n",
              "        </tr>\n",
              "    </thead>\n",
              "    <tbody>\n",
              "        <tr>\n",
              "            <td>0</td>\n",
              "            <td>child_id</td>\n",
              "            <td>INTEGER</td>\n",
              "            <td>0</td>\n",
              "            <td>None</td>\n",
              "            <td>1</td>\n",
              "        </tr>\n",
              "        <tr>\n",
              "            <td>1</td>\n",
              "            <td>parent_id</td>\n",
              "            <td>INTEGER</td>\n",
              "            <td>0</td>\n",
              "            <td>None</td>\n",
              "            <td>0</td>\n",
              "        </tr>\n",
              "        <tr>\n",
              "            <td>2</td>\n",
              "            <td>child_name</td>\n",
              "            <td>TEXT</td>\n",
              "            <td>0</td>\n",
              "            <td>None</td>\n",
              "            <td>0</td>\n",
              "        </tr>\n",
              "        <tr>\n",
              "            <td>3</td>\n",
              "            <td>date_created</td>\n",
              "            <td>TEXT</td>\n",
              "            <td>0</td>\n",
              "            <td>None</td>\n",
              "            <td>0</td>\n",
              "        </tr>\n",
              "    </tbody>\n",
              "</table>"
            ]
          },
          "metadata": {},
          "execution_count": 34
        }
      ]
    },
    {
      "cell_type": "code",
      "source": [
        "%%sql\n",
        "select parent_id from parent;"
      ],
      "metadata": {
        "colab": {
          "base_uri": "https://localhost:8080/",
          "height": 1000
        },
        "id": "kVgpivLVIRvm",
        "outputId": "2781658b-ee87-4c44-e956-d6d529387a43"
      },
      "execution_count": 35,
      "outputs": [
        {
          "output_type": "stream",
          "name": "stdout",
          "text": [
            " * sqlite:////content/drive/MyDrive/parent_table.db/\n",
            "Done.\n"
          ]
        },
        {
          "output_type": "execute_result",
          "data": {
            "text/plain": [
              "[(1,),\n",
              " (2,),\n",
              " (3,),\n",
              " (4,),\n",
              " (5,),\n",
              " (6,),\n",
              " (7,),\n",
              " (8,),\n",
              " (9,),\n",
              " (10,),\n",
              " (11,),\n",
              " (12,),\n",
              " (13,),\n",
              " (14,),\n",
              " (15,),\n",
              " (16,),\n",
              " (17,),\n",
              " (18,),\n",
              " (19,),\n",
              " (20,),\n",
              " (21,),\n",
              " (22,),\n",
              " (23,),\n",
              " (24,),\n",
              " (25,),\n",
              " (26,),\n",
              " (27,),\n",
              " (28,),\n",
              " (29,),\n",
              " (30,),\n",
              " (31,),\n",
              " (32,),\n",
              " (33,),\n",
              " (34,),\n",
              " (35,),\n",
              " (36,),\n",
              " (37,),\n",
              " (38,),\n",
              " (39,),\n",
              " (40,),\n",
              " (41,),\n",
              " (42,),\n",
              " (43,),\n",
              " (44,),\n",
              " (45,),\n",
              " (46,),\n",
              " (47,),\n",
              " (48,),\n",
              " (49,),\n",
              " (50,),\n",
              " (51,),\n",
              " (52,),\n",
              " (53,),\n",
              " (54,),\n",
              " (55,),\n",
              " (56,),\n",
              " (57,),\n",
              " (58,),\n",
              " (59,),\n",
              " (60,),\n",
              " (61,),\n",
              " (62,),\n",
              " (63,),\n",
              " (64,),\n",
              " (65,)]"
            ],
            "text/html": [
              "<table>\n",
              "    <thead>\n",
              "        <tr>\n",
              "            <th>parent_id</th>\n",
              "        </tr>\n",
              "    </thead>\n",
              "    <tbody>\n",
              "        <tr>\n",
              "            <td>1</td>\n",
              "        </tr>\n",
              "        <tr>\n",
              "            <td>2</td>\n",
              "        </tr>\n",
              "        <tr>\n",
              "            <td>3</td>\n",
              "        </tr>\n",
              "        <tr>\n",
              "            <td>4</td>\n",
              "        </tr>\n",
              "        <tr>\n",
              "            <td>5</td>\n",
              "        </tr>\n",
              "        <tr>\n",
              "            <td>6</td>\n",
              "        </tr>\n",
              "        <tr>\n",
              "            <td>7</td>\n",
              "        </tr>\n",
              "        <tr>\n",
              "            <td>8</td>\n",
              "        </tr>\n",
              "        <tr>\n",
              "            <td>9</td>\n",
              "        </tr>\n",
              "        <tr>\n",
              "            <td>10</td>\n",
              "        </tr>\n",
              "        <tr>\n",
              "            <td>11</td>\n",
              "        </tr>\n",
              "        <tr>\n",
              "            <td>12</td>\n",
              "        </tr>\n",
              "        <tr>\n",
              "            <td>13</td>\n",
              "        </tr>\n",
              "        <tr>\n",
              "            <td>14</td>\n",
              "        </tr>\n",
              "        <tr>\n",
              "            <td>15</td>\n",
              "        </tr>\n",
              "        <tr>\n",
              "            <td>16</td>\n",
              "        </tr>\n",
              "        <tr>\n",
              "            <td>17</td>\n",
              "        </tr>\n",
              "        <tr>\n",
              "            <td>18</td>\n",
              "        </tr>\n",
              "        <tr>\n",
              "            <td>19</td>\n",
              "        </tr>\n",
              "        <tr>\n",
              "            <td>20</td>\n",
              "        </tr>\n",
              "        <tr>\n",
              "            <td>21</td>\n",
              "        </tr>\n",
              "        <tr>\n",
              "            <td>22</td>\n",
              "        </tr>\n",
              "        <tr>\n",
              "            <td>23</td>\n",
              "        </tr>\n",
              "        <tr>\n",
              "            <td>24</td>\n",
              "        </tr>\n",
              "        <tr>\n",
              "            <td>25</td>\n",
              "        </tr>\n",
              "        <tr>\n",
              "            <td>26</td>\n",
              "        </tr>\n",
              "        <tr>\n",
              "            <td>27</td>\n",
              "        </tr>\n",
              "        <tr>\n",
              "            <td>28</td>\n",
              "        </tr>\n",
              "        <tr>\n",
              "            <td>29</td>\n",
              "        </tr>\n",
              "        <tr>\n",
              "            <td>30</td>\n",
              "        </tr>\n",
              "        <tr>\n",
              "            <td>31</td>\n",
              "        </tr>\n",
              "        <tr>\n",
              "            <td>32</td>\n",
              "        </tr>\n",
              "        <tr>\n",
              "            <td>33</td>\n",
              "        </tr>\n",
              "        <tr>\n",
              "            <td>34</td>\n",
              "        </tr>\n",
              "        <tr>\n",
              "            <td>35</td>\n",
              "        </tr>\n",
              "        <tr>\n",
              "            <td>36</td>\n",
              "        </tr>\n",
              "        <tr>\n",
              "            <td>37</td>\n",
              "        </tr>\n",
              "        <tr>\n",
              "            <td>38</td>\n",
              "        </tr>\n",
              "        <tr>\n",
              "            <td>39</td>\n",
              "        </tr>\n",
              "        <tr>\n",
              "            <td>40</td>\n",
              "        </tr>\n",
              "        <tr>\n",
              "            <td>41</td>\n",
              "        </tr>\n",
              "        <tr>\n",
              "            <td>42</td>\n",
              "        </tr>\n",
              "        <tr>\n",
              "            <td>43</td>\n",
              "        </tr>\n",
              "        <tr>\n",
              "            <td>44</td>\n",
              "        </tr>\n",
              "        <tr>\n",
              "            <td>45</td>\n",
              "        </tr>\n",
              "        <tr>\n",
              "            <td>46</td>\n",
              "        </tr>\n",
              "        <tr>\n",
              "            <td>47</td>\n",
              "        </tr>\n",
              "        <tr>\n",
              "            <td>48</td>\n",
              "        </tr>\n",
              "        <tr>\n",
              "            <td>49</td>\n",
              "        </tr>\n",
              "        <tr>\n",
              "            <td>50</td>\n",
              "        </tr>\n",
              "        <tr>\n",
              "            <td>51</td>\n",
              "        </tr>\n",
              "        <tr>\n",
              "            <td>52</td>\n",
              "        </tr>\n",
              "        <tr>\n",
              "            <td>53</td>\n",
              "        </tr>\n",
              "        <tr>\n",
              "            <td>54</td>\n",
              "        </tr>\n",
              "        <tr>\n",
              "            <td>55</td>\n",
              "        </tr>\n",
              "        <tr>\n",
              "            <td>56</td>\n",
              "        </tr>\n",
              "        <tr>\n",
              "            <td>57</td>\n",
              "        </tr>\n",
              "        <tr>\n",
              "            <td>58</td>\n",
              "        </tr>\n",
              "        <tr>\n",
              "            <td>59</td>\n",
              "        </tr>\n",
              "        <tr>\n",
              "            <td>60</td>\n",
              "        </tr>\n",
              "        <tr>\n",
              "            <td>61</td>\n",
              "        </tr>\n",
              "        <tr>\n",
              "            <td>62</td>\n",
              "        </tr>\n",
              "        <tr>\n",
              "            <td>63</td>\n",
              "        </tr>\n",
              "        <tr>\n",
              "            <td>64</td>\n",
              "        </tr>\n",
              "        <tr>\n",
              "            <td>65</td>\n",
              "        </tr>\n",
              "    </tbody>\n",
              "</table>"
            ]
          },
          "metadata": {},
          "execution_count": 35
        }
      ]
    },
    {
      "cell_type": "code",
      "source": [
        "%%sql\n",
        "\n",
        "insert into child(parent_id, child_name, date_created)\n",
        "values (64, \"walker\", \"2024-09-10\")"
      ],
      "metadata": {
        "colab": {
          "base_uri": "https://localhost:8080/"
        },
        "id": "l2fhW8YPIEe7",
        "outputId": "19a14f24-a8d8-48c7-9fe5-9d2f2257ee31"
      },
      "execution_count": 38,
      "outputs": [
        {
          "output_type": "stream",
          "name": "stdout",
          "text": [
            " * sqlite:////content/drive/MyDrive/parent_table.db/\n",
            "1 rows affected.\n"
          ]
        },
        {
          "output_type": "execute_result",
          "data": {
            "text/plain": [
              "[]"
            ]
          },
          "metadata": {},
          "execution_count": 38
        }
      ]
    },
    {
      "cell_type": "code",
      "source": [
        "%%sql\n",
        "\n",
        "select * from child"
      ],
      "metadata": {
        "colab": {
          "base_uri": "https://localhost:8080/",
          "height": 96
        },
        "id": "HTB3NxC1Iwpu",
        "outputId": "12f7d4be-98fc-46b0-9d43-2183dfc667c7"
      },
      "execution_count": 39,
      "outputs": [
        {
          "output_type": "stream",
          "name": "stdout",
          "text": [
            " * sqlite:////content/drive/MyDrive/parent_table.db/\n",
            "Done.\n"
          ]
        },
        {
          "output_type": "execute_result",
          "data": {
            "text/plain": [
              "[(1, 64, 'walker', '2024-09-10')]"
            ],
            "text/html": [
              "<table>\n",
              "    <thead>\n",
              "        <tr>\n",
              "            <th>child_id</th>\n",
              "            <th>parent_id</th>\n",
              "            <th>child_name</th>\n",
              "            <th>date_created</th>\n",
              "        </tr>\n",
              "    </thead>\n",
              "    <tbody>\n",
              "        <tr>\n",
              "            <td>1</td>\n",
              "            <td>64</td>\n",
              "            <td>walker</td>\n",
              "            <td>2024-09-10</td>\n",
              "        </tr>\n",
              "    </tbody>\n",
              "</table>"
            ]
          },
          "metadata": {},
          "execution_count": 39
        }
      ]
    },
    {
      "cell_type": "code",
      "source": [
        "# join\n",
        "\n",
        "%%sql\n",
        "\n",
        "select parent.parent_name, child.child_name\n",
        "from child, parent\n",
        "where child.parent_id = parent.parent_id"
      ],
      "metadata": {
        "colab": {
          "base_uri": "https://localhost:8080/",
          "height": 289
        },
        "id": "MoW4nFBGI0jE",
        "outputId": "2ed715d2-d664-44df-f584-684703514bd9"
      },
      "execution_count": 63,
      "outputs": [
        {
          "output_type": "stream",
          "name": "stdout",
          "text": [
            " * sqlite:////content/drive/MyDrive/parent_table.db/\n",
            "Done.\n"
          ]
        },
        {
          "output_type": "execute_result",
          "data": {
            "text/plain": [
              "[('Oleg Kravchenko', 'Kate Hrytsenko'),\n",
              " ('Mark Zelensky', 'Anastasia Hrytsenko'),\n",
              " ('Kate Kovalenko', 'Anastasia Kovalenko'),\n",
              " ('Anastasia Zelensky', 'Diana Kravchenko'),\n",
              " ('Yulia Melnyk', 'Vlad Kovalenko'),\n",
              " ('Diana Kravchenko', 'Oleg Kravchenko'),\n",
              " ('Kate Kovalenko', 'Diana Kravchenko'),\n",
              " ('Kate Kravchenko', 'Yulia Kovalenko'),\n",
              " ('Anastasia Zelensky', 'Yulia Kravchenko'),\n",
              " ('Kate Kovalenko', 'Oleg Zelensky')]"
            ],
            "text/html": [
              "<table>\n",
              "    <thead>\n",
              "        <tr>\n",
              "            <th>parent_name</th>\n",
              "            <th>child_name</th>\n",
              "        </tr>\n",
              "    </thead>\n",
              "    <tbody>\n",
              "        <tr>\n",
              "            <td>Oleg Kravchenko</td>\n",
              "            <td>Kate Hrytsenko</td>\n",
              "        </tr>\n",
              "        <tr>\n",
              "            <td>Mark Zelensky</td>\n",
              "            <td>Anastasia Hrytsenko</td>\n",
              "        </tr>\n",
              "        <tr>\n",
              "            <td>Kate Kovalenko</td>\n",
              "            <td>Anastasia Kovalenko</td>\n",
              "        </tr>\n",
              "        <tr>\n",
              "            <td>Anastasia Zelensky</td>\n",
              "            <td>Diana Kravchenko</td>\n",
              "        </tr>\n",
              "        <tr>\n",
              "            <td>Yulia Melnyk</td>\n",
              "            <td>Vlad Kovalenko</td>\n",
              "        </tr>\n",
              "        <tr>\n",
              "            <td>Diana Kravchenko</td>\n",
              "            <td>Oleg Kravchenko</td>\n",
              "        </tr>\n",
              "        <tr>\n",
              "            <td>Kate Kovalenko</td>\n",
              "            <td>Diana Kravchenko</td>\n",
              "        </tr>\n",
              "        <tr>\n",
              "            <td>Kate Kravchenko</td>\n",
              "            <td>Yulia Kovalenko</td>\n",
              "        </tr>\n",
              "        <tr>\n",
              "            <td>Anastasia Zelensky</td>\n",
              "            <td>Yulia Kravchenko</td>\n",
              "        </tr>\n",
              "        <tr>\n",
              "            <td>Kate Kovalenko</td>\n",
              "            <td>Oleg Zelensky</td>\n",
              "        </tr>\n",
              "    </tbody>\n",
              "</table>"
            ]
          },
          "metadata": {},
          "execution_count": 63
        }
      ]
    },
    {
      "cell_type": "code",
      "source": [
        "#view the table\n",
        "\n",
        "%%sql\n",
        "\n",
        "SELECT * FROM parent"
      ],
      "metadata": {
        "colab": {
          "base_uri": "https://localhost:8080/",
          "height": 1000
        },
        "id": "v2GZwPr9mfBK",
        "outputId": "2e53bf0e-774b-4611-bcac-4a3debdf1412"
      },
      "execution_count": 30,
      "outputs": [
        {
          "output_type": "stream",
          "name": "stdout",
          "text": [
            " * sqlite:////content/drive/MyDrive/parent_table.db/\n",
            "Done.\n"
          ]
        },
        {
          "output_type": "execute_result",
          "data": {
            "text/plain": [
              "[(1, 'Anastasia Hrytsenko', '1997-11-21', 2400061),\n",
              " (2, 'Anastasia Zelensky', '2005-01-05', 9254715),\n",
              " (3, 'Kate Zelensky', '1995-11-15', 4212874),\n",
              " (4, 'Yulia Melnyk', '2001-01-04', 2548961),\n",
              " (5, 'Yulia Hrytsenko', '2006-04-13', 6646299),\n",
              " (6, 'Mark Hrytsenko', '2002-01-23', 4381614),\n",
              " (7, 'Mark Zelensky', '2005-10-13', 9903154),\n",
              " (8, 'Vlad Melnyk', '2002-05-17', 4347162),\n",
              " (9, 'Kate Kovalenko', '2005-12-19', 7151018),\n",
              " (10, 'Yulia Kovalenko', '2005-02-10', 2632214),\n",
              " (11, 'Anastasia Zelensky', '2001-04-13', 3368228),\n",
              " (12, 'Kate Kravchenko', '2003-06-10', 3409107),\n",
              " (13, 'Anastasia Kovalenko', '1998-04-29', 4592964),\n",
              " (14, 'Yulia Kravchenko', '2006-04-15', 1883840),\n",
              " (15, 'Kate Kovalenko', '2001-06-19', 8025227),\n",
              " (16, 'Kate Zelensky', '2003-07-09', 8462428),\n",
              " (17, 'Yulia Melnyk', '2005-09-01', 7274540),\n",
              " (18, 'Kate Melnyk', '1996-08-31', 4252167),\n",
              " (19, 'Kate Kravchenko', '1996-08-10', 9109005),\n",
              " (20, 'Anastasia Zelensky', '2005-10-07', 5731472),\n",
              " (21, 'Anastasia Kravchenko', '1999-03-26', 4330995),\n",
              " (22, 'Yulia Melnyk', '1998-04-30', 7805716),\n",
              " (23, 'Oleg Kravchenko', '2003-11-26', 8343110),\n",
              " (24, 'Vlad Melnyk', '2005-07-12', 9873819),\n",
              " (25, 'Kate Melnyk', '2006-08-26', 6923730),\n",
              " (26, 'Kate Kovalenko', '2005-08-02', 7344769),\n",
              " (27, 'Mark Kovalenko', '2000-10-04', 6310508),\n",
              " (28, 'Anastasia Kovalenko', '2004-03-23', 8633175),\n",
              " (29, 'Vlad Hrytsenko', '1996-06-08', 1609172),\n",
              " (30, 'Anastasia Kovalenko', '1999-09-11', 4719544),\n",
              " (31, 'Yulia Hrytsenko', '1999-06-27', 7023370),\n",
              " (32, 'Anastasia Kravchenko', '2001-05-05', 9249046),\n",
              " (33, 'Yulia Kovalenko', '2000-10-15', 8427149),\n",
              " (34, 'Anastasia Melnyk', '2001-10-08', 6741575),\n",
              " (35, 'Yulia Hrytsenko', '1998-01-16', 9888523),\n",
              " (36, 'Oleg Kovalenko', '2006-07-14', 7681182),\n",
              " (37, 'Kate Zelensky', '2002-07-26', 2110946),\n",
              " (38, 'Oleg Zelensky', '2002-08-07', 5477982),\n",
              " (39, 'Diana Melnyk', '1997-01-16', 4168631),\n",
              " (40, 'Kate Zelensky', '1999-02-26', 9935859),\n",
              " (41, 'Anastasia Melnyk', '2000-05-18', 1515216),\n",
              " (42, 'Mark Kovalenko', '2000-04-17', 5510583),\n",
              " (43, 'Vlad Kravchenko', '1995-02-18', 6350530),\n",
              " (44, 'Mark Hrytsenko', '2005-12-06', 5326707),\n",
              " (45, 'Yulia Zelensky', '2000-11-06', 5870379),\n",
              " (46, 'Kate Hrytsenko', '1996-07-12', 4411654),\n",
              " (47, 'Oleg Melnyk', '1999-05-12', 6699313),\n",
              " (48, 'Vlad Melnyk', '1995-06-02', 5432150),\n",
              " (49, 'Oleg Zelensky', '1999-04-08', 3623764),\n",
              " (50, 'Oleg Hrytsenko', '2005-05-29', 3056803),\n",
              " (51, 'Anastasia Melnyk', '2003-01-29', 3383109),\n",
              " (52, 'Kate Hrytsenko', '2002-12-02', 7197010),\n",
              " (53, 'Diana Zelensky', '1997-03-21', 5217435),\n",
              " (54, 'Yulia Melnyk', '2002-12-25', 6430953),\n",
              " (55, 'Anastasia Zelensky', '2001-07-18', 7730381),\n",
              " (56, 'Mark Melnyk', '1995-06-21', 7965069),\n",
              " (57, 'Kate Kovalenko', '1999-05-11', 1164871),\n",
              " (58, 'Mark Kovalenko', '1995-02-19', 4318944),\n",
              " (59, 'Oleg Kravchenko', '2005-10-22', 9729735),\n",
              " (60, 'Oleg Kovalenko', '1995-11-05', 9769538),\n",
              " (61, 'Oleg Kovalenko', '2003-11-09', 7663613),\n",
              " (62, 'Mark Zelensky', '2003-02-11', 3892891),\n",
              " (63, 'Yulia Kravchenko', '2004-01-10', 4421156),\n",
              " (64, 'Yulia Melnyk', '1998-06-16', 5066685),\n",
              " (65, 'Kate Melnyk', '1999-01-20', 2876440)]"
            ],
            "text/html": [
              "<table>\n",
              "    <thead>\n",
              "        <tr>\n",
              "            <th>parent_id</th>\n",
              "            <th>parent_name</th>\n",
              "            <th>parent_dob</th>\n",
              "            <th>phone_number</th>\n",
              "        </tr>\n",
              "    </thead>\n",
              "    <tbody>\n",
              "        <tr>\n",
              "            <td>1</td>\n",
              "            <td>Anastasia Hrytsenko</td>\n",
              "            <td>1997-11-21</td>\n",
              "            <td>2400061</td>\n",
              "        </tr>\n",
              "        <tr>\n",
              "            <td>2</td>\n",
              "            <td>Anastasia Zelensky</td>\n",
              "            <td>2005-01-05</td>\n",
              "            <td>9254715</td>\n",
              "        </tr>\n",
              "        <tr>\n",
              "            <td>3</td>\n",
              "            <td>Kate Zelensky</td>\n",
              "            <td>1995-11-15</td>\n",
              "            <td>4212874</td>\n",
              "        </tr>\n",
              "        <tr>\n",
              "            <td>4</td>\n",
              "            <td>Yulia Melnyk</td>\n",
              "            <td>2001-01-04</td>\n",
              "            <td>2548961</td>\n",
              "        </tr>\n",
              "        <tr>\n",
              "            <td>5</td>\n",
              "            <td>Yulia Hrytsenko</td>\n",
              "            <td>2006-04-13</td>\n",
              "            <td>6646299</td>\n",
              "        </tr>\n",
              "        <tr>\n",
              "            <td>6</td>\n",
              "            <td>Mark Hrytsenko</td>\n",
              "            <td>2002-01-23</td>\n",
              "            <td>4381614</td>\n",
              "        </tr>\n",
              "        <tr>\n",
              "            <td>7</td>\n",
              "            <td>Mark Zelensky</td>\n",
              "            <td>2005-10-13</td>\n",
              "            <td>9903154</td>\n",
              "        </tr>\n",
              "        <tr>\n",
              "            <td>8</td>\n",
              "            <td>Vlad Melnyk</td>\n",
              "            <td>2002-05-17</td>\n",
              "            <td>4347162</td>\n",
              "        </tr>\n",
              "        <tr>\n",
              "            <td>9</td>\n",
              "            <td>Kate Kovalenko</td>\n",
              "            <td>2005-12-19</td>\n",
              "            <td>7151018</td>\n",
              "        </tr>\n",
              "        <tr>\n",
              "            <td>10</td>\n",
              "            <td>Yulia Kovalenko</td>\n",
              "            <td>2005-02-10</td>\n",
              "            <td>2632214</td>\n",
              "        </tr>\n",
              "        <tr>\n",
              "            <td>11</td>\n",
              "            <td>Anastasia Zelensky</td>\n",
              "            <td>2001-04-13</td>\n",
              "            <td>3368228</td>\n",
              "        </tr>\n",
              "        <tr>\n",
              "            <td>12</td>\n",
              "            <td>Kate Kravchenko</td>\n",
              "            <td>2003-06-10</td>\n",
              "            <td>3409107</td>\n",
              "        </tr>\n",
              "        <tr>\n",
              "            <td>13</td>\n",
              "            <td>Anastasia Kovalenko</td>\n",
              "            <td>1998-04-29</td>\n",
              "            <td>4592964</td>\n",
              "        </tr>\n",
              "        <tr>\n",
              "            <td>14</td>\n",
              "            <td>Yulia Kravchenko</td>\n",
              "            <td>2006-04-15</td>\n",
              "            <td>1883840</td>\n",
              "        </tr>\n",
              "        <tr>\n",
              "            <td>15</td>\n",
              "            <td>Kate Kovalenko</td>\n",
              "            <td>2001-06-19</td>\n",
              "            <td>8025227</td>\n",
              "        </tr>\n",
              "        <tr>\n",
              "            <td>16</td>\n",
              "            <td>Kate Zelensky</td>\n",
              "            <td>2003-07-09</td>\n",
              "            <td>8462428</td>\n",
              "        </tr>\n",
              "        <tr>\n",
              "            <td>17</td>\n",
              "            <td>Yulia Melnyk</td>\n",
              "            <td>2005-09-01</td>\n",
              "            <td>7274540</td>\n",
              "        </tr>\n",
              "        <tr>\n",
              "            <td>18</td>\n",
              "            <td>Kate Melnyk</td>\n",
              "            <td>1996-08-31</td>\n",
              "            <td>4252167</td>\n",
              "        </tr>\n",
              "        <tr>\n",
              "            <td>19</td>\n",
              "            <td>Kate Kravchenko</td>\n",
              "            <td>1996-08-10</td>\n",
              "            <td>9109005</td>\n",
              "        </tr>\n",
              "        <tr>\n",
              "            <td>20</td>\n",
              "            <td>Anastasia Zelensky</td>\n",
              "            <td>2005-10-07</td>\n",
              "            <td>5731472</td>\n",
              "        </tr>\n",
              "        <tr>\n",
              "            <td>21</td>\n",
              "            <td>Anastasia Kravchenko</td>\n",
              "            <td>1999-03-26</td>\n",
              "            <td>4330995</td>\n",
              "        </tr>\n",
              "        <tr>\n",
              "            <td>22</td>\n",
              "            <td>Yulia Melnyk</td>\n",
              "            <td>1998-04-30</td>\n",
              "            <td>7805716</td>\n",
              "        </tr>\n",
              "        <tr>\n",
              "            <td>23</td>\n",
              "            <td>Oleg Kravchenko</td>\n",
              "            <td>2003-11-26</td>\n",
              "            <td>8343110</td>\n",
              "        </tr>\n",
              "        <tr>\n",
              "            <td>24</td>\n",
              "            <td>Vlad Melnyk</td>\n",
              "            <td>2005-07-12</td>\n",
              "            <td>9873819</td>\n",
              "        </tr>\n",
              "        <tr>\n",
              "            <td>25</td>\n",
              "            <td>Kate Melnyk</td>\n",
              "            <td>2006-08-26</td>\n",
              "            <td>6923730</td>\n",
              "        </tr>\n",
              "        <tr>\n",
              "            <td>26</td>\n",
              "            <td>Kate Kovalenko</td>\n",
              "            <td>2005-08-02</td>\n",
              "            <td>7344769</td>\n",
              "        </tr>\n",
              "        <tr>\n",
              "            <td>27</td>\n",
              "            <td>Mark Kovalenko</td>\n",
              "            <td>2000-10-04</td>\n",
              "            <td>6310508</td>\n",
              "        </tr>\n",
              "        <tr>\n",
              "            <td>28</td>\n",
              "            <td>Anastasia Kovalenko</td>\n",
              "            <td>2004-03-23</td>\n",
              "            <td>8633175</td>\n",
              "        </tr>\n",
              "        <tr>\n",
              "            <td>29</td>\n",
              "            <td>Vlad Hrytsenko</td>\n",
              "            <td>1996-06-08</td>\n",
              "            <td>1609172</td>\n",
              "        </tr>\n",
              "        <tr>\n",
              "            <td>30</td>\n",
              "            <td>Anastasia Kovalenko</td>\n",
              "            <td>1999-09-11</td>\n",
              "            <td>4719544</td>\n",
              "        </tr>\n",
              "        <tr>\n",
              "            <td>31</td>\n",
              "            <td>Yulia Hrytsenko</td>\n",
              "            <td>1999-06-27</td>\n",
              "            <td>7023370</td>\n",
              "        </tr>\n",
              "        <tr>\n",
              "            <td>32</td>\n",
              "            <td>Anastasia Kravchenko</td>\n",
              "            <td>2001-05-05</td>\n",
              "            <td>9249046</td>\n",
              "        </tr>\n",
              "        <tr>\n",
              "            <td>33</td>\n",
              "            <td>Yulia Kovalenko</td>\n",
              "            <td>2000-10-15</td>\n",
              "            <td>8427149</td>\n",
              "        </tr>\n",
              "        <tr>\n",
              "            <td>34</td>\n",
              "            <td>Anastasia Melnyk</td>\n",
              "            <td>2001-10-08</td>\n",
              "            <td>6741575</td>\n",
              "        </tr>\n",
              "        <tr>\n",
              "            <td>35</td>\n",
              "            <td>Yulia Hrytsenko</td>\n",
              "            <td>1998-01-16</td>\n",
              "            <td>9888523</td>\n",
              "        </tr>\n",
              "        <tr>\n",
              "            <td>36</td>\n",
              "            <td>Oleg Kovalenko</td>\n",
              "            <td>2006-07-14</td>\n",
              "            <td>7681182</td>\n",
              "        </tr>\n",
              "        <tr>\n",
              "            <td>37</td>\n",
              "            <td>Kate Zelensky</td>\n",
              "            <td>2002-07-26</td>\n",
              "            <td>2110946</td>\n",
              "        </tr>\n",
              "        <tr>\n",
              "            <td>38</td>\n",
              "            <td>Oleg Zelensky</td>\n",
              "            <td>2002-08-07</td>\n",
              "            <td>5477982</td>\n",
              "        </tr>\n",
              "        <tr>\n",
              "            <td>39</td>\n",
              "            <td>Diana Melnyk</td>\n",
              "            <td>1997-01-16</td>\n",
              "            <td>4168631</td>\n",
              "        </tr>\n",
              "        <tr>\n",
              "            <td>40</td>\n",
              "            <td>Kate Zelensky</td>\n",
              "            <td>1999-02-26</td>\n",
              "            <td>9935859</td>\n",
              "        </tr>\n",
              "        <tr>\n",
              "            <td>41</td>\n",
              "            <td>Anastasia Melnyk</td>\n",
              "            <td>2000-05-18</td>\n",
              "            <td>1515216</td>\n",
              "        </tr>\n",
              "        <tr>\n",
              "            <td>42</td>\n",
              "            <td>Mark Kovalenko</td>\n",
              "            <td>2000-04-17</td>\n",
              "            <td>5510583</td>\n",
              "        </tr>\n",
              "        <tr>\n",
              "            <td>43</td>\n",
              "            <td>Vlad Kravchenko</td>\n",
              "            <td>1995-02-18</td>\n",
              "            <td>6350530</td>\n",
              "        </tr>\n",
              "        <tr>\n",
              "            <td>44</td>\n",
              "            <td>Mark Hrytsenko</td>\n",
              "            <td>2005-12-06</td>\n",
              "            <td>5326707</td>\n",
              "        </tr>\n",
              "        <tr>\n",
              "            <td>45</td>\n",
              "            <td>Yulia Zelensky</td>\n",
              "            <td>2000-11-06</td>\n",
              "            <td>5870379</td>\n",
              "        </tr>\n",
              "        <tr>\n",
              "            <td>46</td>\n",
              "            <td>Kate Hrytsenko</td>\n",
              "            <td>1996-07-12</td>\n",
              "            <td>4411654</td>\n",
              "        </tr>\n",
              "        <tr>\n",
              "            <td>47</td>\n",
              "            <td>Oleg Melnyk</td>\n",
              "            <td>1999-05-12</td>\n",
              "            <td>6699313</td>\n",
              "        </tr>\n",
              "        <tr>\n",
              "            <td>48</td>\n",
              "            <td>Vlad Melnyk</td>\n",
              "            <td>1995-06-02</td>\n",
              "            <td>5432150</td>\n",
              "        </tr>\n",
              "        <tr>\n",
              "            <td>49</td>\n",
              "            <td>Oleg Zelensky</td>\n",
              "            <td>1999-04-08</td>\n",
              "            <td>3623764</td>\n",
              "        </tr>\n",
              "        <tr>\n",
              "            <td>50</td>\n",
              "            <td>Oleg Hrytsenko</td>\n",
              "            <td>2005-05-29</td>\n",
              "            <td>3056803</td>\n",
              "        </tr>\n",
              "        <tr>\n",
              "            <td>51</td>\n",
              "            <td>Anastasia Melnyk</td>\n",
              "            <td>2003-01-29</td>\n",
              "            <td>3383109</td>\n",
              "        </tr>\n",
              "        <tr>\n",
              "            <td>52</td>\n",
              "            <td>Kate Hrytsenko</td>\n",
              "            <td>2002-12-02</td>\n",
              "            <td>7197010</td>\n",
              "        </tr>\n",
              "        <tr>\n",
              "            <td>53</td>\n",
              "            <td>Diana Zelensky</td>\n",
              "            <td>1997-03-21</td>\n",
              "            <td>5217435</td>\n",
              "        </tr>\n",
              "        <tr>\n",
              "            <td>54</td>\n",
              "            <td>Yulia Melnyk</td>\n",
              "            <td>2002-12-25</td>\n",
              "            <td>6430953</td>\n",
              "        </tr>\n",
              "        <tr>\n",
              "            <td>55</td>\n",
              "            <td>Anastasia Zelensky</td>\n",
              "            <td>2001-07-18</td>\n",
              "            <td>7730381</td>\n",
              "        </tr>\n",
              "        <tr>\n",
              "            <td>56</td>\n",
              "            <td>Mark Melnyk</td>\n",
              "            <td>1995-06-21</td>\n",
              "            <td>7965069</td>\n",
              "        </tr>\n",
              "        <tr>\n",
              "            <td>57</td>\n",
              "            <td>Kate Kovalenko</td>\n",
              "            <td>1999-05-11</td>\n",
              "            <td>1164871</td>\n",
              "        </tr>\n",
              "        <tr>\n",
              "            <td>58</td>\n",
              "            <td>Mark Kovalenko</td>\n",
              "            <td>1995-02-19</td>\n",
              "            <td>4318944</td>\n",
              "        </tr>\n",
              "        <tr>\n",
              "            <td>59</td>\n",
              "            <td>Oleg Kravchenko</td>\n",
              "            <td>2005-10-22</td>\n",
              "            <td>9729735</td>\n",
              "        </tr>\n",
              "        <tr>\n",
              "            <td>60</td>\n",
              "            <td>Oleg Kovalenko</td>\n",
              "            <td>1995-11-05</td>\n",
              "            <td>9769538</td>\n",
              "        </tr>\n",
              "        <tr>\n",
              "            <td>61</td>\n",
              "            <td>Oleg Kovalenko</td>\n",
              "            <td>2003-11-09</td>\n",
              "            <td>7663613</td>\n",
              "        </tr>\n",
              "        <tr>\n",
              "            <td>62</td>\n",
              "            <td>Mark Zelensky</td>\n",
              "            <td>2003-02-11</td>\n",
              "            <td>3892891</td>\n",
              "        </tr>\n",
              "        <tr>\n",
              "            <td>63</td>\n",
              "            <td>Yulia Kravchenko</td>\n",
              "            <td>2004-01-10</td>\n",
              "            <td>4421156</td>\n",
              "        </tr>\n",
              "        <tr>\n",
              "            <td>64</td>\n",
              "            <td>Yulia Melnyk</td>\n",
              "            <td>1998-06-16</td>\n",
              "            <td>5066685</td>\n",
              "        </tr>\n",
              "        <tr>\n",
              "            <td>65</td>\n",
              "            <td>Kate Melnyk</td>\n",
              "            <td>1999-01-20</td>\n",
              "            <td>2876440</td>\n",
              "        </tr>\n",
              "    </tbody>\n",
              "</table>"
            ]
          },
          "metadata": {},
          "execution_count": 30
        }
      ]
    }
  ]
}