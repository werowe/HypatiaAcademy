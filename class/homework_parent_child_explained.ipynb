{
  "nbformat": 4,
  "nbformat_minor": 0,
  "metadata": {
    "colab": {
      "provenance": [],
      "authorship_tag": "ABX9TyMT01MdfKPRrhlbcYqKTteN",
      "include_colab_link": true
    },
    "kernelspec": {
      "name": "python3",
      "display_name": "Python 3"
    },
    "language_info": {
      "name": "python"
    }
  },
  "cells": [
    {
      "cell_type": "markdown",
      "metadata": {
        "id": "view-in-github",
        "colab_type": "text"
      },
      "source": [
        "<a href=\"https://colab.research.google.com/github/werowe/HypatiaAcademy/blob/master/class/homework_parent_child_explained.ipynb\" target=\"_parent\"><img src=\"https://colab.research.google.com/assets/colab-badge.svg\" alt=\"Open In Colab\"/></a>"
      ]
    },
    {
      "cell_type": "code",
      "execution_count": 40,
      "metadata": {
        "id": "EJPsBhP3pFAi",
        "colab": {
          "base_uri": "https://localhost:8080/"
        },
        "outputId": "213dfacf-efd6-4deb-f12f-283c16cfcc90"
      },
      "outputs": [
        {
          "output_type": "stream",
          "name": "stdout",
          "text": [
            "The sql extension is already loaded. To reload it, use:\n",
            "  %reload_ext sql\n"
          ]
        }
      ],
      "source": [
        "%load_ext sql"
      ]
    },
    {
      "cell_type": "code",
      "source": [
        "%sql sqlite:///random.db"
      ],
      "metadata": {
        "id": "pZz4KKCypdtk"
      },
      "execution_count": 41,
      "outputs": []
    },
    {
      "cell_type": "code",
      "source": [
        "%%sql\n",
        "drop table parent;\n",
        "drop table child;"
      ],
      "metadata": {
        "colab": {
          "base_uri": "https://localhost:8080/"
        },
        "id": "NKOYNe6oRLT0",
        "outputId": "3123c218-512c-48e3-a908-7c895de5fd50"
      },
      "execution_count": 42,
      "outputs": [
        {
          "output_type": "stream",
          "name": "stdout",
          "text": [
            " * sqlite:///random.db\n",
            "Done.\n",
            "Done.\n"
          ]
        },
        {
          "output_type": "execute_result",
          "data": {
            "text/plain": [
              "[]"
            ]
          },
          "metadata": {},
          "execution_count": 42
        }
      ]
    },
    {
      "cell_type": "code",
      "source": [
        "import random\n",
        "\n",
        "# we want to make random data\n",
        "\n",
        "def getName():\n",
        "\n",
        "    fnames = [\"Marya\", \"Diana\", \"Oleskii\", \"Yulia\", \"Illias\", \"Vlad\", \"Egor\"]\n",
        "\n",
        "    lnames = [\"Zelensky\", \"Kovalenko\", \"Kravchenko\", \"Hrytsenko\", \"Melnyk\"]\n",
        "\n",
        "    return fnames[random.randint(0, len(fnames)-1)] +  \" \" + lnames[random.randint(0, len(lnames)-1)]\n",
        "\n"
      ],
      "metadata": {
        "id": "1Az-miiyyZtk"
      },
      "execution_count": 43,
      "outputs": []
    },
    {
      "cell_type": "code",
      "source": [
        "# you need some common element to link two tables\n",
        "\n",
        "%%sql\n",
        "\n",
        "CREATE TABLE parent\n",
        "  (\n",
        "    parent_id INTEGER PRIMARY KEY AUTOINCREMENT,\n",
        "    parent_name text,\n",
        "    date_created text\n",
        "  );\n",
        "\n",
        "CREATE TABLE child\n",
        "  (\n",
        "    child_id INTEGER PRIMARY KEY AUTOINCREMENT,\n",
        "    parent_id INTEGER,\n",
        "    child_name text,\n",
        "    date_created text\n",
        "  );\n"
      ],
      "metadata": {
        "colab": {
          "base_uri": "https://localhost:8080/"
        },
        "id": "R26ruIyWptix",
        "outputId": "d88d0c3a-763e-48a7-bb03-c13c275659a2"
      },
      "execution_count": 44,
      "outputs": [
        {
          "output_type": "stream",
          "name": "stdout",
          "text": [
            " * sqlite:///random.db\n",
            "Done.\n",
            "Done.\n"
          ]
        },
        {
          "output_type": "execute_result",
          "data": {
            "text/plain": [
              "[]"
            ]
          },
          "metadata": {},
          "execution_count": 44
        }
      ]
    },
    {
      "cell_type": "code",
      "source": [
        "%%sql\n",
        "insert into parent(parent_name, date_created) values(\"fred\", \"2024-10-08\");\n",
        "insert into parent(parent_name, date_created) values(\"jane\", \"2024-10-08\");"
      ],
      "metadata": {
        "colab": {
          "base_uri": "https://localhost:8080/"
        },
        "id": "Vtl10VZKqAsN",
        "outputId": "8eb59800-3d68-4b1c-9eaa-8650b4924490"
      },
      "execution_count": 45,
      "outputs": [
        {
          "output_type": "stream",
          "name": "stdout",
          "text": [
            " * sqlite:///random.db\n",
            "1 rows affected.\n",
            "1 rows affected.\n"
          ]
        },
        {
          "output_type": "execute_result",
          "data": {
            "text/plain": [
              "[]"
            ]
          },
          "metadata": {},
          "execution_count": 45
        }
      ]
    },
    {
      "cell_type": "code",
      "source": [
        "%%sql\n",
        "select * from parent"
      ],
      "metadata": {
        "colab": {
          "base_uri": "https://localhost:8080/",
          "height": 118
        },
        "id": "0R8Dou2TqstY",
        "outputId": "8cbd882b-b673-4f23-8ce1-36a20d9c1278"
      },
      "execution_count": 46,
      "outputs": [
        {
          "output_type": "stream",
          "name": "stdout",
          "text": [
            " * sqlite:///random.db\n",
            "Done.\n"
          ]
        },
        {
          "output_type": "execute_result",
          "data": {
            "text/plain": [
              "[(1, 'fred', '2024-10-08'), (2, 'jane', '2024-10-08')]"
            ],
            "text/html": [
              "<table>\n",
              "    <thead>\n",
              "        <tr>\n",
              "            <th>parent_id</th>\n",
              "            <th>parent_name</th>\n",
              "            <th>date_created</th>\n",
              "        </tr>\n",
              "    </thead>\n",
              "    <tbody>\n",
              "        <tr>\n",
              "            <td>1</td>\n",
              "            <td>fred</td>\n",
              "            <td>2024-10-08</td>\n",
              "        </tr>\n",
              "        <tr>\n",
              "            <td>2</td>\n",
              "            <td>jane</td>\n",
              "            <td>2024-10-08</td>\n",
              "        </tr>\n",
              "    </tbody>\n",
              "</table>"
            ]
          },
          "metadata": {},
          "execution_count": 46
        }
      ]
    },
    {
      "cell_type": "code",
      "source": [
        "%%sql\n",
        "insert into child(parent_id, child_name, date_created) values(1, \"oleskii\", \"2024-10-08\");\n",
        "insert into child(parent_id, child_name, date_created) values(1, \"Egor\", \"2024-10-08\");"
      ],
      "metadata": {
        "colab": {
          "base_uri": "https://localhost:8080/"
        },
        "id": "DCC6WAVDqyZ_",
        "outputId": "21380208-1f4d-4f98-b649-1855cc4e8051"
      },
      "execution_count": 47,
      "outputs": [
        {
          "output_type": "stream",
          "name": "stdout",
          "text": [
            " * sqlite:///random.db\n",
            "1 rows affected.\n",
            "1 rows affected.\n"
          ]
        },
        {
          "output_type": "execute_result",
          "data": {
            "text/plain": [
              "[]"
            ]
          },
          "metadata": {},
          "execution_count": 47
        }
      ]
    },
    {
      "cell_type": "code",
      "source": [
        "%%sql\n",
        "select * from child"
      ],
      "metadata": {
        "colab": {
          "base_uri": "https://localhost:8080/",
          "height": 118
        },
        "id": "wmWsLr5IrUBB",
        "outputId": "a35c699d-a010-40cc-a27f-643bb14ebb75"
      },
      "execution_count": 48,
      "outputs": [
        {
          "output_type": "stream",
          "name": "stdout",
          "text": [
            " * sqlite:///random.db\n",
            "Done.\n"
          ]
        },
        {
          "output_type": "execute_result",
          "data": {
            "text/plain": [
              "[(1, 1, 'oleskii', '2024-10-08'), (2, 1, 'Egor', '2024-10-08')]"
            ],
            "text/html": [
              "<table>\n",
              "    <thead>\n",
              "        <tr>\n",
              "            <th>child_id</th>\n",
              "            <th>parent_id</th>\n",
              "            <th>child_name</th>\n",
              "            <th>date_created</th>\n",
              "        </tr>\n",
              "    </thead>\n",
              "    <tbody>\n",
              "        <tr>\n",
              "            <td>1</td>\n",
              "            <td>1</td>\n",
              "            <td>oleskii</td>\n",
              "            <td>2024-10-08</td>\n",
              "        </tr>\n",
              "        <tr>\n",
              "            <td>2</td>\n",
              "            <td>1</td>\n",
              "            <td>Egor</td>\n",
              "            <td>2024-10-08</td>\n",
              "        </tr>\n",
              "    </tbody>\n",
              "</table>"
            ]
          },
          "metadata": {},
          "execution_count": 48
        }
      ]
    },
    {
      "cell_type": "code",
      "source": [
        "# hard-coded usually means BAD\n",
        "# generate lots of data.  so we will use python to generate data\n",
        "\n",
        "#insert into child(parent_id, child_name, date_created) values(1, \"Egor\", \"2024-10-08\");\n",
        "\n",
        "\n",
        "# Homework:  fix this to work with your data\n",
        "\n",
        "\n",
        "def createChild():\n",
        "\n",
        "  sql=\"insert into child(parent_id, child_name, date_created) values({}, '{}', '{}')\".format(1, getName(), \"2024-10-08\")\n",
        "\n",
        "  return sql\n"
      ],
      "metadata": {
        "id": "5n7mI1jBwYwh"
      },
      "execution_count": 49,
      "outputs": []
    },
    {
      "cell_type": "code",
      "source": [
        "# boilerplate code, means just a shell, it means the code that the will be the same every time\n",
        "\n",
        "\n",
        "import sqlite3\n",
        "\n",
        "db_path = 'random.db'\n",
        "\n",
        "# connect to it\n",
        "conn = sqlite3.connect(db_path)\n",
        "\n",
        "# a cursor lets you work with data\n",
        "cursor = conn.cursor()\n",
        "\n",
        "# this means run SQL\n",
        "cursor.execute(createChild())\n",
        "\n",
        "# commit means apply the changes\n",
        "conn.commit()\n",
        "\n",
        "\n",
        "# don't close until we have added lots of data\n",
        "conn.close()\n"
      ],
      "metadata": {
        "id": "3AWQn3GYxIsL"
      },
      "execution_count": 50,
      "outputs": []
    },
    {
      "cell_type": "code",
      "source": [
        "%%sql\n",
        "\n",
        "select * from child"
      ],
      "metadata": {
        "colab": {
          "base_uri": "https://localhost:8080/",
          "height": 139
        },
        "id": "tVv5LtnlyK6C",
        "outputId": "ed185819-9507-4409-b5f9-9c46d790051e"
      },
      "execution_count": 51,
      "outputs": [
        {
          "output_type": "stream",
          "name": "stdout",
          "text": [
            " * sqlite:///random.db\n",
            "Done.\n"
          ]
        },
        {
          "output_type": "execute_result",
          "data": {
            "text/plain": [
              "[(1, 1, 'oleskii', '2024-10-08'),\n",
              " (2, 1, 'Egor', '2024-10-08'),\n",
              " (3, 1, 'Marya Kovalenko', '2024-10-08')]"
            ],
            "text/html": [
              "<table>\n",
              "    <thead>\n",
              "        <tr>\n",
              "            <th>child_id</th>\n",
              "            <th>parent_id</th>\n",
              "            <th>child_name</th>\n",
              "            <th>date_created</th>\n",
              "        </tr>\n",
              "    </thead>\n",
              "    <tbody>\n",
              "        <tr>\n",
              "            <td>1</td>\n",
              "            <td>1</td>\n",
              "            <td>oleskii</td>\n",
              "            <td>2024-10-08</td>\n",
              "        </tr>\n",
              "        <tr>\n",
              "            <td>2</td>\n",
              "            <td>1</td>\n",
              "            <td>Egor</td>\n",
              "            <td>2024-10-08</td>\n",
              "        </tr>\n",
              "        <tr>\n",
              "            <td>3</td>\n",
              "            <td>1</td>\n",
              "            <td>Marya Kovalenko</td>\n",
              "            <td>2024-10-08</td>\n",
              "        </tr>\n",
              "    </tbody>\n",
              "</table>"
            ]
          },
          "metadata": {},
          "execution_count": 51
        }
      ]
    },
    {
      "cell_type": "code",
      "source": [
        "getName()"
      ],
      "metadata": {
        "colab": {
          "base_uri": "https://localhost:8080/",
          "height": 35
        },
        "id": "auncvMe7yj-D",
        "outputId": "46bc16eb-c65b-4a2e-8f0b-0daa850ba675"
      },
      "execution_count": 52,
      "outputs": [
        {
          "output_type": "execute_result",
          "data": {
            "text/plain": [
              "'Yulia Kovalenko'"
            ],
            "application/vnd.google.colaboratory.intrinsic+json": {
              "type": "string"
            }
          },
          "metadata": {},
          "execution_count": 52
        }
      ]
    },
    {
      "cell_type": "code",
      "source": [
        "# scope.\n",
        "\n",
        "fnames = [\"Marya\", \"Diana\", \"Oleskii\", \"Yulia\", \"Illias\", \"Vlad\", \"Egor\"]\n",
        "\n",
        "fnames[random.randint(0,len(fnames) - 1 )]\n"
      ],
      "metadata": {
        "colab": {
          "base_uri": "https://localhost:8080/",
          "height": 35
        },
        "id": "goqRfUpvytVF",
        "outputId": "19722155-870c-4c95-d8e3-725d824ee9eb"
      },
      "execution_count": 53,
      "outputs": [
        {
          "output_type": "execute_result",
          "data": {
            "text/plain": [
              "'Vlad'"
            ],
            "application/vnd.google.colaboratory.intrinsic+json": {
              "type": "string"
            }
          },
          "metadata": {},
          "execution_count": 53
        }
      ]
    },
    {
      "cell_type": "markdown",
      "source": [
        "\n",
        "#Homework\n",
        "\n",
        "Goals are:\n",
        "\n",
        "1.  learn how to make random data and put in parent table\n",
        "\n",
        "2.  (for next time) learn how to write to child table\n",
        "\n",
        "Study the code above and modify it to work with your data.  So only worry about the parent table.\n",
        "\n",
        "\n",
        "1.  The code above shows how to connect to a database and add one record. And the SQL statement is created by a function.\n",
        "\n",
        "\n",
        "\n",
        "\n",
        "Don't hard-code it.  Do something like this:\n",
        "\n",
        "```\n",
        "def createChild():\n",
        "\n",
        "  sql=\"insert into child(parent_id, child_name, date_created) values({}, '{}', '{}')\".format(1, getName(), \"2024-10-08\")\n",
        "\n",
        "  return sql\n",
        "```  \n",
        "\n",
        "\n",
        "\n"
      ],
      "metadata": {
        "id": "LyUvO4mWzhYb"
      }
    }
  ]
}