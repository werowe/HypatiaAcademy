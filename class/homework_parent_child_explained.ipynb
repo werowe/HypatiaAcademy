{
  "nbformat": 4,
  "nbformat_minor": 0,
  "metadata": {
    "colab": {
      "provenance": [],
      "authorship_tag": "ABX9TyPFcT10Ji38vzi6fCmFKS9L",
      "include_colab_link": true
    },
    "kernelspec": {
      "name": "python3",
      "display_name": "Python 3"
    },
    "language_info": {
      "name": "python"
    }
  },
  "cells": [
    {
      "cell_type": "markdown",
      "metadata": {
        "id": "view-in-github",
        "colab_type": "text"
      },
      "source": [
        "<a href=\"https://colab.research.google.com/github/werowe/HypatiaAcademy/blob/master/class/homework_parent_child_explained.ipynb\" target=\"_parent\"><img src=\"https://colab.research.google.com/assets/colab-badge.svg\" alt=\"Open In Colab\"/></a>"
      ]
    },
    {
      "cell_type": "code",
      "execution_count": 2,
      "metadata": {
        "id": "EJPsBhP3pFAi"
      },
      "outputs": [],
      "source": [
        "%load_ext sql"
      ]
    },
    {
      "cell_type": "code",
      "source": [
        "%sql sqlite:///random.db"
      ],
      "metadata": {
        "id": "pZz4KKCypdtk"
      },
      "execution_count": 3,
      "outputs": []
    },
    {
      "cell_type": "code",
      "source": [
        "# you need some common element to link two tables\n",
        "\n",
        "%%sql\n",
        "\n",
        "CREATE TABLE parent\n",
        "  (\n",
        "    parent_id INTEGER PRIMARY KEY AUTOINCREMENT,\n",
        "    parent_name text,\n",
        "    date_created text\n",
        "  );\n",
        "\n",
        "CREATE TABLE child\n",
        "  (\n",
        "    child_id INTEGER PRIMARY KEY AUTOINCREMENT,\n",
        "    parent_id INTEGER,\n",
        "    child_name text,\n",
        "    date_created text\n",
        "  );\n"
      ],
      "metadata": {
        "colab": {
          "base_uri": "https://localhost:8080/"
        },
        "id": "R26ruIyWptix",
        "outputId": "e2d011a0-0c4a-4752-fb05-4eadd3161a3f"
      },
      "execution_count": 4,
      "outputs": [
        {
          "output_type": "stream",
          "name": "stdout",
          "text": [
            " * sqlite:///random.db\n",
            "Done.\n",
            "Done.\n"
          ]
        },
        {
          "output_type": "execute_result",
          "data": {
            "text/plain": [
              "[]"
            ]
          },
          "metadata": {},
          "execution_count": 4
        }
      ]
    },
    {
      "cell_type": "code",
      "source": [
        "%%sql\n",
        "insert into parent(parent_name, date_created) values(\"fred\", \"2024-10-08\");\n",
        "insert into parent(parent_name, date_created) values(\"jane\", \"2024-10-08\");"
      ],
      "metadata": {
        "colab": {
          "base_uri": "https://localhost:8080/"
        },
        "id": "Vtl10VZKqAsN",
        "outputId": "3170a156-b6b5-480b-96c2-4f0ae30e6928"
      },
      "execution_count": 5,
      "outputs": [
        {
          "output_type": "stream",
          "name": "stdout",
          "text": [
            " * sqlite:///random.db\n",
            "1 rows affected.\n",
            "1 rows affected.\n"
          ]
        },
        {
          "output_type": "execute_result",
          "data": {
            "text/plain": [
              "[]"
            ]
          },
          "metadata": {},
          "execution_count": 5
        }
      ]
    },
    {
      "cell_type": "code",
      "source": [
        "%%sql\n",
        "select * from parent"
      ],
      "metadata": {
        "colab": {
          "base_uri": "https://localhost:8080/",
          "height": 118
        },
        "id": "0R8Dou2TqstY",
        "outputId": "fb9c7268-8008-406b-8cee-f6e49af4fe0f"
      },
      "execution_count": 6,
      "outputs": [
        {
          "output_type": "stream",
          "name": "stdout",
          "text": [
            " * sqlite:///random.db\n",
            "Done.\n"
          ]
        },
        {
          "output_type": "execute_result",
          "data": {
            "text/plain": [
              "[(1, 'fred', '2024-10-08'), (2, 'jane', '2024-10-08')]"
            ],
            "text/html": [
              "<table>\n",
              "    <thead>\n",
              "        <tr>\n",
              "            <th>parent_id</th>\n",
              "            <th>parent_name</th>\n",
              "            <th>date_created</th>\n",
              "        </tr>\n",
              "    </thead>\n",
              "    <tbody>\n",
              "        <tr>\n",
              "            <td>1</td>\n",
              "            <td>fred</td>\n",
              "            <td>2024-10-08</td>\n",
              "        </tr>\n",
              "        <tr>\n",
              "            <td>2</td>\n",
              "            <td>jane</td>\n",
              "            <td>2024-10-08</td>\n",
              "        </tr>\n",
              "    </tbody>\n",
              "</table>"
            ]
          },
          "metadata": {},
          "execution_count": 6
        }
      ]
    },
    {
      "cell_type": "code",
      "source": [
        "%%sql\n",
        "insert into child(parent_id, child_name, date_created) values(1, \"oleskii\", \"2024-10-08\");\n",
        "insert into child(parent_id, child_name, date_created) values(1, \"Egor\", \"2024-10-08\");"
      ],
      "metadata": {
        "colab": {
          "base_uri": "https://localhost:8080/"
        },
        "id": "DCC6WAVDqyZ_",
        "outputId": "4656ce26-a2ca-415a-d965-0dee0384679f"
      },
      "execution_count": null,
      "outputs": [
        {
          "output_type": "stream",
          "name": "stdout",
          "text": [
            " * sqlite:///random.db\n",
            "1 rows affected.\n",
            "1 rows affected.\n"
          ]
        },
        {
          "output_type": "execute_result",
          "data": {
            "text/plain": [
              "[]"
            ]
          },
          "metadata": {},
          "execution_count": 10
        }
      ]
    },
    {
      "cell_type": "code",
      "source": [
        "%%sql\n",
        "select * from child"
      ],
      "metadata": {
        "colab": {
          "base_uri": "https://localhost:8080/",
          "height": 96
        },
        "id": "wmWsLr5IrUBB",
        "outputId": "d91b3945-d26a-42da-de5d-e563c30364d4"
      },
      "execution_count": 13,
      "outputs": [
        {
          "output_type": "stream",
          "name": "stdout",
          "text": [
            " * sqlite:///random.db\n",
            "Done.\n"
          ]
        },
        {
          "output_type": "execute_result",
          "data": {
            "text/plain": [
              "[(1, 1, 'Egor', '2024-10-08')]"
            ],
            "text/html": [
              "<table>\n",
              "    <thead>\n",
              "        <tr>\n",
              "            <th>child_id</th>\n",
              "            <th>parent_id</th>\n",
              "            <th>child_name</th>\n",
              "            <th>date_created</th>\n",
              "        </tr>\n",
              "    </thead>\n",
              "    <tbody>\n",
              "        <tr>\n",
              "            <td>1</td>\n",
              "            <td>1</td>\n",
              "            <td>Egor</td>\n",
              "            <td>2024-10-08</td>\n",
              "        </tr>\n",
              "    </tbody>\n",
              "</table>"
            ]
          },
          "metadata": {},
          "execution_count": 13
        }
      ]
    },
    {
      "cell_type": "code",
      "source": [
        "# hard-coded usually means BAD\n",
        "# generate lots of data.  so we will use python to generate data\n",
        "\n",
        "#insert into child(parent_id, child_name, date_created) values(1, \"Egor\", \"2024-10-08\");\n",
        "\n",
        "\n",
        "# Homework:  fix this to work with your data\n",
        "\n",
        "\n",
        "def createChild():\n",
        "\n",
        "  sql=\"insert into child(parent_id, child_name, date_created) values({}, '{}', '{}')\".format(1, getName(), \"2024-10-08\")\n",
        "\n",
        "  return sql\n"
      ],
      "metadata": {
        "id": "5n7mI1jBwYwh"
      },
      "execution_count": 27,
      "outputs": []
    },
    {
      "cell_type": "code",
      "source": [
        "createChild()"
      ],
      "metadata": {
        "colab": {
          "base_uri": "https://localhost:8080/",
          "height": 35
        },
        "id": "ykqmar4-zUaC",
        "outputId": "418ae5ec-f680-4daa-aced-d526d65ca8d9"
      },
      "execution_count": 32,
      "outputs": [
        {
          "output_type": "execute_result",
          "data": {
            "text/plain": [
              "\"insert into child(parent_id, child_name, date_created) values(1, 'Marya Hrytsenko', '2024-10-08')\""
            ],
            "application/vnd.google.colaboratory.intrinsic+json": {
              "type": "string"
            }
          },
          "metadata": {},
          "execution_count": 32
        }
      ]
    },
    {
      "cell_type": "code",
      "source": [
        "# boilerplate code, means just a shell, it means the code that the will be the same every time\n",
        "\n",
        "\n",
        "import sqlite3\n",
        "\n",
        "db_path = 'random.db'\n",
        "\n",
        "# connect to it\n",
        "conn = sqlite3.connect(db_path)\n",
        "\n",
        "# a cursor lets you work with data\n",
        "cursor = conn.cursor()\n",
        "\n",
        "# this means run SQL\n",
        "cursor.execute(createChild(conn))\n",
        "\n",
        "# commit means apply the changes\n",
        "conn.commit()\n",
        "\n",
        "\n",
        "# don't close until we have added lots of data\n",
        "conn.close()\n"
      ],
      "metadata": {
        "id": "3AWQn3GYxIsL"
      },
      "execution_count": 12,
      "outputs": []
    },
    {
      "cell_type": "code",
      "source": [
        "type(conn)"
      ],
      "metadata": {
        "colab": {
          "base_uri": "https://localhost:8080/"
        },
        "id": "tVv5LtnlyK6C",
        "outputId": "dc3508ee-bc54-48aa-e02e-231ebc5ca2af"
      },
      "execution_count": 10,
      "outputs": [
        {
          "output_type": "execute_result",
          "data": {
            "text/plain": [
              "sqlite3.Connection"
            ]
          },
          "metadata": {},
          "execution_count": 10
        }
      ]
    },
    {
      "cell_type": "code",
      "source": [
        "import random\n",
        "\n",
        "# we want to make random data\n",
        "\n",
        "def getName():\n",
        "\n",
        "    fnames = [\"Marya\", \"Diana\", \"Oleskii\", \"Yulia\", \"Illias\", \"Vlad\", \"Egor\"]\n",
        "\n",
        "    lnames = [\"Zelensky\", \"Kovalenko\", \"Kravchenko\", \"Hrytsenko\", \"Melnyk\"]\n",
        "\n",
        "    return fnames[random.randint(0, len(fnames)-1)] +  \" \" + lnames[random.randint(0, len(lnames)-1)]\n",
        "\n"
      ],
      "metadata": {
        "id": "1Az-miiyyZtk"
      },
      "execution_count": 16,
      "outputs": []
    },
    {
      "cell_type": "code",
      "source": [
        "getName()"
      ],
      "metadata": {
        "colab": {
          "base_uri": "https://localhost:8080/",
          "height": 35
        },
        "id": "auncvMe7yj-D",
        "outputId": "03ab1689-3823-44df-86a9-f1ce093062c6"
      },
      "execution_count": 17,
      "outputs": [
        {
          "output_type": "execute_result",
          "data": {
            "text/plain": [
              "'Egor Kovalenko'"
            ],
            "application/vnd.google.colaboratory.intrinsic+json": {
              "type": "string"
            }
          },
          "metadata": {},
          "execution_count": 17
        }
      ]
    },
    {
      "cell_type": "code",
      "source": [
        "# scope.\n",
        "\n",
        "fnames = [\"Marya\", \"Diana\", \"Oleskii\", \"Yulia\", \"Illias\", \"Vlad\", \"Egor\"]\n",
        "\n",
        "fnames[random.randint(0,len(fnames) - 1 )]\n"
      ],
      "metadata": {
        "colab": {
          "base_uri": "https://localhost:8080/",
          "height": 35
        },
        "id": "goqRfUpvytVF",
        "outputId": "61eba7a4-3396-4f8f-c369-462655e7e10d"
      },
      "execution_count": 26,
      "outputs": [
        {
          "output_type": "execute_result",
          "data": {
            "text/plain": [
              "'Diana'"
            ],
            "application/vnd.google.colaboratory.intrinsic+json": {
              "type": "string"
            }
          },
          "metadata": {},
          "execution_count": 26
        }
      ]
    },
    {
      "cell_type": "markdown",
      "source": [
        "\n",
        "#Homework\n",
        "\n",
        "Goals are:\n",
        "\n",
        "1.  learn how to make random data and put in parent table\n",
        "\n",
        "2.  (for next time) learn how to write to child table\n",
        "\n",
        "Study the code above and modify it to work with your data.  So only worry about the parent table.\n",
        "\n",
        "\n",
        "1.  The code above shows how to connect to a database and add one record. And the SQL statement is created by a function.\n",
        "\n",
        "\n",
        "\n",
        "\n",
        "Don't hard-code it.  Do something like this:\n",
        "\n",
        "```\n",
        "def createChild():\n",
        "\n",
        "  sql=\"insert into child(parent_id, child_name, date_created) values({}, '{}', '{}')\".format(1, getName(), \"2024-10-08\")\n",
        "\n",
        "  return sql\n",
        "```  \n",
        "\n",
        "\n",
        "\n"
      ],
      "metadata": {
        "id": "LyUvO4mWzhYb"
      }
    }
  ]
}