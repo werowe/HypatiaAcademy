{
  "nbformat": 4,
  "nbformat_minor": 0,
  "metadata": {
    "colab": {
      "provenance": [],
      "authorship_tag": "ABX9TyOmd0iWU3G4Ufb10leKrvgJ",
      "include_colab_link": true
    },
    "kernelspec": {
      "name": "python3",
      "display_name": "Python 3"
    },
    "language_info": {
      "name": "python"
    }
  },
  "cells": [
    {
      "cell_type": "markdown",
      "metadata": {
        "id": "view-in-github",
        "colab_type": "text"
      },
      "source": [
        "<a href=\"https://colab.research.google.com/github/werowe/HypatiaAcademy/blob/master/class/order_of_precedence.ipynb\" target=\"_parent\"><img src=\"https://colab.research.google.com/assets/colab-badge.svg\" alt=\"Open In Colab\"/></a>"
      ]
    },
    {
      "cell_type": "markdown",
      "source": [
        "#Order of Precedence\n",
        "\n",
        "This means in a math equation like 3 * 3 / 2 which operator is executed first.  This chart shows that the * is executed before the division.  See the example below.\n",
        "\n",
        "1. Parentheses ()\n",
        "2. Exponents ^\n",
        "3. Multiplication *\n",
        "4. Division /\n",
        "5. Addition +\n",
        "6. Subtraction -\n"
      ],
      "metadata": {
        "id": "qTuQlOupFAiA"
      }
    },
    {
      "cell_type": "code",
      "execution_count": null,
      "metadata": {
        "id": "wH6gsVrzE_2Q"
      },
      "outputs": [],
      "source": [
        "# This one is trivial since one of the numerators 4 or 15 is a multiple of the denominator.  In other words is does\n",
        "# not matter what we do first, multiplication or division\n",
        "\n",
        "(4 * 15) / 5 = 4 * (15/ 5)\n",
        "\n",
        "60 / 5 = 4 * 3\n",
        "\n",
        "12 = 12\n",
        "\n"
      ]
    },
    {
      "cell_type": "code",
      "source": [
        "# so try this.  One student had this idea\n",
        "\n",
        "4 * 5 + 1 / 5\n",
        "\n",
        "# is this equal to\n",
        "\n",
        "((4 * 5 ) + 1) / 5\n",
        "\n",
        "#or\n",
        "\n",
        "( 4 * (5 + 1)) / 5\n",
        "\n",
        "# or\n",
        "\n",
        "\n",
        "( 4 * 5 ) + ( 1 / 5)"
      ],
      "metadata": {
        "colab": {
          "base_uri": "https://localhost:8080/"
        },
        "id": "-ZaI8yBBFobX",
        "outputId": "d5dc9933-aba0-4a74-db66-0669f06d9e9e"
      },
      "execution_count": 1,
      "outputs": [
        {
          "output_type": "execute_result",
          "data": {
            "text/plain": [
              "20.2"
            ]
          },
          "metadata": {},
          "execution_count": 1
        }
      ]
    },
    {
      "cell_type": "markdown",
      "source": [
        "The order of precedence says do multiplication first\n",
        "\n",
        "so in:\n",
        "\n",
        "4 * 5 + 1 / 5\n",
        "\n",
        "we first get:\n",
        "\n",
        "20 + 1 / 5\n",
        "\n",
        "then it says do division so we get\n",
        "\n",
        "20 + 1 / 5 = 20 + (1/5) = 20.2\n"
      ],
      "metadata": {
        "id": "Ih3IStYNGLIu"
      }
    },
    {
      "cell_type": "code",
      "source": [
        " 4 * 5 + 1 / 5"
      ],
      "metadata": {
        "colab": {
          "base_uri": "https://localhost:8080/"
        },
        "id": "INMDVK2JGkUY",
        "outputId": "99c01e4e-5e1b-4e37-d39e-6891a33c0ab5"
      },
      "execution_count": 3,
      "outputs": [
        {
          "output_type": "execute_result",
          "data": {
            "text/plain": [
              "20.2"
            ]
          },
          "metadata": {},
          "execution_count": 3
        }
      ]
    },
    {
      "cell_type": "code",
      "source": [
        "#exponents are easy as they are unary operations, meaning they work on themselves\n",
        "\n",
        "4**2 + 1\n",
        "\n"
      ],
      "metadata": {
        "colab": {
          "base_uri": "https://localhost:8080/"
        },
        "id": "GC-0co0THY0l",
        "outputId": "88a3e778-e15c-4b4a-87d0-4fefc76ea4f2"
      },
      "execution_count": 4,
      "outputs": [
        {
          "output_type": "execute_result",
          "data": {
            "text/plain": [
              "17"
            ]
          },
          "metadata": {},
          "execution_count": 4
        }
      ]
    },
    {
      "cell_type": "code",
      "source": [
        "# and subtraction and addition it does't matter.  why?  because the subtraction is just adding a negative number\n",
        "\n",
        "\n",
        "2 - 3 == 2 + (-3)"
      ],
      "metadata": {
        "colab": {
          "base_uri": "https://localhost:8080/"
        },
        "id": "Fjqzhy4eHoJH",
        "outputId": "e0bcb9b4-226d-47b2-f2a6-5c39e1b57197"
      },
      "execution_count": 5,
      "outputs": [
        {
          "output_type": "execute_result",
          "data": {
            "text/plain": [
              "True"
            ]
          },
          "metadata": {},
          "execution_count": 5
        }
      ]
    },
    {
      "cell_type": "code",
      "source": [
        "# order doesn't matter either\n",
        "\n",
        "4 + 3 - 2 == -2 + 3 + 4"
      ],
      "metadata": {
        "colab": {
          "base_uri": "https://localhost:8080/"
        },
        "id": "SBjQIz5HIL3A",
        "outputId": "92994748-2923-4158-ebda-e5782a3bc6b3"
      },
      "execution_count": 6,
      "outputs": [
        {
          "output_type": "execute_result",
          "data": {
            "text/plain": [
              "True"
            ]
          },
          "metadata": {},
          "execution_count": 6
        }
      ]
    }
  ]
}