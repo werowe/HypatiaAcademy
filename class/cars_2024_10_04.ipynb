{
  "nbformat": 4,
  "nbformat_minor": 0,
  "metadata": {
    "colab": {
      "provenance": [],
      "include_colab_link": true
    },
    "kernelspec": {
      "name": "python3",
      "display_name": "Python 3"
    },
    "language_info": {
      "name": "python"
    }
  },
  "cells": [
    {
      "cell_type": "markdown",
      "metadata": {
        "id": "view-in-github",
        "colab_type": "text"
      },
      "source": [
        "<a href=\"https://colab.research.google.com/github/werowe/HypatiaAcademy/blob/master/class/cars_2024_10_04.ipynb\" target=\"_parent\"><img src=\"https://colab.research.google.com/assets/colab-badge.svg\" alt=\"Open In Colab\"/></a>"
      ]
    },
    {
      "cell_type": "code",
      "source": [
        "%reload_ext sql"
      ],
      "metadata": {
        "id": "xXRW9VjqvFf-"
      },
      "execution_count": null,
      "outputs": []
    },
    {
      "cell_type": "code",
      "source": [
        "%sql sqlite:///cars.db"
      ],
      "metadata": {
        "id": "HQCFHZe3GERj"
      },
      "execution_count": null,
      "outputs": []
    },
    {
      "cell_type": "code",
      "source": [
        "!ls"
      ],
      "metadata": {
        "colab": {
          "base_uri": "https://localhost:8080/"
        },
        "id": "WwDKLDwAGJsX",
        "outputId": "dabfe65e-0693-478f-8ff1-c5a1db7e25b1"
      },
      "execution_count": null,
      "outputs": [
        {
          "output_type": "stream",
          "name": "stdout",
          "text": [
            "cars.db  sample_data\n"
          ]
        }
      ]
    },
    {
      "cell_type": "code",
      "source": [
        "%sql"
      ],
      "metadata": {
        "colab": {
          "base_uri": "https://localhost:8080/"
        },
        "id": "ZE7oKtTYGPyv",
        "outputId": "1e4d1ada-d539-41ac-a5c4-7bf5fa943645"
      },
      "execution_count": null,
      "outputs": [
        {
          "output_type": "stream",
          "name": "stdout",
          "text": [
            " * sqlite:///cars.db\n"
          ]
        }
      ]
    },
    {
      "cell_type": "code",
      "execution_count": null,
      "metadata": {
        "colab": {
          "base_uri": "https://localhost:8080/"
        },
        "id": "tT3vEUkdFOj6",
        "outputId": "9a8eb34d-f7a6-45ff-84c4-50fa5800fe5b"
      },
      "outputs": [
        {
          "output_type": "stream",
          "name": "stdout",
          "text": [
            " * sqlite:///cars.db\n",
            "Done.\n"
          ]
        },
        {
          "output_type": "execute_result",
          "data": {
            "text/plain": [
              "[]"
            ]
          },
          "metadata": {},
          "execution_count": 5
        }
      ],
      "source": [
        "%%sql\n",
        "CREATE TABLE cars1\n",
        "(\n",
        "  Number INTEGER PRIMARY KEY AUTOINCREMENT,\n",
        "  Car_Model TEXT,\n",
        "  Brand TEXT,\n",
        "  Horsepower TEXT,\n",
        "  Production TEXT\n",
        ");"
      ]
    },
    {
      "cell_type": "code",
      "source": [
        "%%sql\n",
        "INSERT INTO cars1 (Car_Model, Brand, Horsepower, Production)\n",
        "VALUES ('Bel Air', 'Chevrolet', '283 hp', '1954–1957');"
      ],
      "metadata": {
        "colab": {
          "base_uri": "https://localhost:8080/"
        },
        "id": "njSebSdXGx1q",
        "outputId": "38eccf71-d062-44b5-ea91-36a34606b41e"
      },
      "execution_count": null,
      "outputs": [
        {
          "output_type": "stream",
          "name": "stdout",
          "text": [
            " * sqlite:///cars.db\n",
            "1 rows affected.\n"
          ]
        },
        {
          "output_type": "execute_result",
          "data": {
            "text/plain": [
              "[]"
            ]
          },
          "metadata": {},
          "execution_count": 6
        }
      ]
    },
    {
      "cell_type": "code",
      "source": [
        "%%sql\n",
        "INSERT INTO cars1 (Car_Model, Brand, Horsepower, Production)\n",
        "VALUES ('Corvette', 'Chevrolet', '150 hp', '1953–1962');"
      ],
      "metadata": {
        "colab": {
          "base_uri": "https://localhost:8080/"
        },
        "id": "vooCo9-CKmiS",
        "outputId": "c5a57e50-8bab-4637-ca0f-3cc240c76179"
      },
      "execution_count": null,
      "outputs": [
        {
          "output_type": "stream",
          "name": "stdout",
          "text": [
            " * sqlite:///cars.db\n",
            "1 rows affected.\n"
          ]
        },
        {
          "output_type": "execute_result",
          "data": {
            "text/plain": [
              "[]"
            ]
          },
          "metadata": {},
          "execution_count": 7
        }
      ]
    },
    {
      "cell_type": "code",
      "source": [
        "%%sql\n",
        "INSERT INTO cars1 (Car_Model, Brand, Horsepower, Production)\n",
        "VALUES ('Eldorado', 'Cadillac', '210 hp', '1953');"
      ],
      "metadata": {
        "colab": {
          "base_uri": "https://localhost:8080/"
        },
        "id": "B0M14UifLlbS",
        "outputId": "341a8979-e44d-400e-a868-06f2528f7543"
      },
      "execution_count": null,
      "outputs": [
        {
          "output_type": "stream",
          "name": "stdout",
          "text": [
            " * sqlite:///cars.db\n",
            "1 rows affected.\n"
          ]
        },
        {
          "output_type": "execute_result",
          "data": {
            "text/plain": [
              "[]"
            ]
          },
          "metadata": {},
          "execution_count": 8
        }
      ]
    },
    {
      "cell_type": "code",
      "source": [
        "%%sql\n",
        "select Car_Model, Brand from cars1;"
      ],
      "metadata": {
        "colab": {
          "base_uri": "https://localhost:8080/",
          "height": 139
        },
        "id": "Q00kV_0aM5GP",
        "outputId": "259b4d4c-feff-4bea-8386-6f93eecd523c"
      },
      "execution_count": null,
      "outputs": [
        {
          "output_type": "stream",
          "name": "stdout",
          "text": [
            " * sqlite:///cars.db\n",
            "Done.\n"
          ]
        },
        {
          "output_type": "execute_result",
          "data": {
            "text/plain": [
              "[('Bel Air', 'Chevrolet'), ('Corvette', 'Chevrolet'), ('Eldorado', 'Cadillac')]"
            ],
            "text/html": [
              "<table>\n",
              "    <thead>\n",
              "        <tr>\n",
              "            <th>Car_Model</th>\n",
              "            <th>Brand</th>\n",
              "        </tr>\n",
              "    </thead>\n",
              "    <tbody>\n",
              "        <tr>\n",
              "            <td>Bel Air</td>\n",
              "            <td>Chevrolet</td>\n",
              "        </tr>\n",
              "        <tr>\n",
              "            <td>Corvette</td>\n",
              "            <td>Chevrolet</td>\n",
              "        </tr>\n",
              "        <tr>\n",
              "            <td>Eldorado</td>\n",
              "            <td>Cadillac</td>\n",
              "        </tr>\n",
              "    </tbody>\n",
              "</table>"
            ]
          },
          "metadata": {},
          "execution_count": 9
        }
      ]
    },
    {
      "cell_type": "code",
      "source": [
        "%%sql\n",
        "select * from cars1"
      ],
      "metadata": {
        "colab": {
          "base_uri": "https://localhost:8080/",
          "height": 139
        },
        "id": "xzVFvWgrMALy",
        "outputId": "98770707-d6dc-410e-d5ba-5a0ac3194e0f"
      },
      "execution_count": null,
      "outputs": [
        {
          "output_type": "stream",
          "name": "stdout",
          "text": [
            " * sqlite:///cars.db\n",
            "Done.\n"
          ]
        },
        {
          "output_type": "execute_result",
          "data": {
            "text/plain": [
              "[(1, 'Bel Air', 'Chevrolet', '283 hp', '1954–1957'),\n",
              " (2, 'Corvette', 'Chevrolet', '150 hp', '1953–1962'),\n",
              " (3, 'Eldorado', 'Cadillac', '210 hp', '1953')]"
            ],
            "text/html": [
              "<table>\n",
              "    <thead>\n",
              "        <tr>\n",
              "            <th>Number</th>\n",
              "            <th>Car_Model</th>\n",
              "            <th>Brand</th>\n",
              "            <th>Horsepower</th>\n",
              "            <th>Production</th>\n",
              "        </tr>\n",
              "    </thead>\n",
              "    <tbody>\n",
              "        <tr>\n",
              "            <td>1</td>\n",
              "            <td>Bel Air</td>\n",
              "            <td>Chevrolet</td>\n",
              "            <td>283 hp</td>\n",
              "            <td>1954–1957</td>\n",
              "        </tr>\n",
              "        <tr>\n",
              "            <td>2</td>\n",
              "            <td>Corvette</td>\n",
              "            <td>Chevrolet</td>\n",
              "            <td>150 hp</td>\n",
              "            <td>1953–1962</td>\n",
              "        </tr>\n",
              "        <tr>\n",
              "            <td>3</td>\n",
              "            <td>Eldorado</td>\n",
              "            <td>Cadillac</td>\n",
              "            <td>210 hp</td>\n",
              "            <td>1953</td>\n",
              "        </tr>\n",
              "    </tbody>\n",
              "</table>"
            ]
          },
          "metadata": {},
          "execution_count": 10
        }
      ]
    },
    {
      "cell_type": "code",
      "source": [
        "%%sql\n",
        "select * from cars1 where Car_Model = 'Bel Air'"
      ],
      "metadata": {
        "colab": {
          "base_uri": "https://localhost:8080/",
          "height": 96
        },
        "id": "BiTAbkmcNXzy",
        "outputId": "06b726a3-1d9d-47f3-e65a-6f2ce947e0f9"
      },
      "execution_count": null,
      "outputs": [
        {
          "output_type": "stream",
          "name": "stdout",
          "text": [
            " * sqlite:///cars.db\n",
            "Done.\n"
          ]
        },
        {
          "output_type": "execute_result",
          "data": {
            "text/plain": [
              "[(1, 'Bel Air', 'Chevrolet', '283 hp', '1954–1957')]"
            ],
            "text/html": [
              "<table>\n",
              "    <thead>\n",
              "        <tr>\n",
              "            <th>Number</th>\n",
              "            <th>Car_Model</th>\n",
              "            <th>Brand</th>\n",
              "            <th>Horsepower</th>\n",
              "            <th>Production</th>\n",
              "        </tr>\n",
              "    </thead>\n",
              "    <tbody>\n",
              "        <tr>\n",
              "            <td>1</td>\n",
              "            <td>Bel Air</td>\n",
              "            <td>Chevrolet</td>\n",
              "            <td>283 hp</td>\n",
              "            <td>1954–1957</td>\n",
              "        </tr>\n",
              "    </tbody>\n",
              "</table>"
            ]
          },
          "metadata": {},
          "execution_count": 11
        }
      ]
    },
    {
      "cell_type": "code",
      "source": [
        "\n",
        "import sqlite3\n",
        "\n",
        "conn = sqlite3.connect(\"cars.db\")\n",
        "cursor = conn.cursor()\n",
        "sql=\"select * from cars1\";\n",
        "\n",
        "cursor.execute(sql)"
      ],
      "metadata": {
        "colab": {
          "base_uri": "https://localhost:8080/"
        },
        "id": "PZhalMHXNupF",
        "outputId": "4f14b216-5dcd-4b19-b896-20c4d75f6a3a"
      },
      "execution_count": null,
      "outputs": [
        {
          "output_type": "execute_result",
          "data": {
            "text/plain": [
              "<sqlite3.Cursor at 0x788181869040>"
            ]
          },
          "metadata": {},
          "execution_count": 12
        }
      ]
    },
    {
      "cell_type": "code",
      "source": [
        "rows = cursor.fetchall()"
      ],
      "metadata": {
        "id": "_nIOVB9eODY4"
      },
      "execution_count": null,
      "outputs": []
    },
    {
      "cell_type": "code",
      "source": [
        "for row in rows:\n",
        "  print(row)"
      ],
      "metadata": {
        "colab": {
          "base_uri": "https://localhost:8080/"
        },
        "id": "fKcDETgQOEta",
        "outputId": "8f5a2f65-396d-43a7-8ec3-6baffbe1f0cf"
      },
      "execution_count": null,
      "outputs": [
        {
          "output_type": "stream",
          "name": "stdout",
          "text": [
            "(1, 'Bel Air', 'Chevrolet', '283 hp', '1954–1957')\n",
            "(2, 'Corvette', 'Chevrolet', '150 hp', '1953–1962')\n",
            "(3, 'Eldorado', 'Cadillac', '210 hp', '1953')\n"
          ]
        }
      ]
    },
    {
      "cell_type": "code",
      "source": [
        "a=('Bel Air', 'Chevrolet', '283 hp', '1954–1957')\n",
        "a[0], a[3]"
      ],
      "metadata": {
        "colab": {
          "base_uri": "https://localhost:8080/"
        },
        "id": "XHP0JPLcOOBR",
        "outputId": "7cfaf086-0f65-4613-8467-153a161e4281"
      },
      "execution_count": null,
      "outputs": [
        {
          "output_type": "execute_result",
          "data": {
            "text/plain": [
              "('Bel Air', '1954–1957')"
            ]
          },
          "metadata": {},
          "execution_count": 15
        }
      ]
    },
    {
      "cell_type": "code",
      "source": [
        "for row in rows:\n",
        "  print(row[1], \" car number is \", row[0])"
      ],
      "metadata": {
        "colab": {
          "base_uri": "https://localhost:8080/"
        },
        "id": "Bp3oGoFYOfzF",
        "outputId": "bcb50d16-dfcd-48a6-dfa2-aa633583143d"
      },
      "execution_count": null,
      "outputs": [
        {
          "output_type": "stream",
          "name": "stdout",
          "text": [
            "Bel Air  car number is  1\n",
            "Corvette  car number is  2\n",
            "Eldorado  car number is  3\n"
          ]
        }
      ]
    },
    {
      "cell_type": "code",
      "source": [
        "%%sql\n",
        "\n",
        "delete from cars1;"
      ],
      "metadata": {
        "colab": {
          "base_uri": "https://localhost:8080/"
        },
        "id": "p_3vBvA_Or4m",
        "outputId": "50e15b98-01c9-4395-e7d8-c41550d496f9"
      },
      "execution_count": null,
      "outputs": [
        {
          "output_type": "stream",
          "name": "stdout",
          "text": [
            " * sqlite:///cars.db\n",
            "3 rows affected.\n"
          ]
        },
        {
          "output_type": "execute_result",
          "data": {
            "text/plain": [
              "[]"
            ]
          },
          "metadata": {},
          "execution_count": 17
        }
      ]
    },
    {
      "cell_type": "code",
      "source": [
        "%%sql\n",
        "\n",
        "UPDATE cars1\n",
        "SET Car_Model = \"Chieftain\", Brand = \"Pontiac\", Horsepower = \"118 hp\", Production = \"1949—1958\"\n",
        "WHERE Brand = \"Cadillac\";"
      ],
      "metadata": {
        "colab": {
          "base_uri": "https://localhost:8080/"
        },
        "id": "qK9fh5TpO7Rl",
        "outputId": "d0975532-4108-401e-a6a9-bb89b4baf11f"
      },
      "execution_count": null,
      "outputs": [
        {
          "output_type": "stream",
          "name": "stdout",
          "text": [
            " * sqlite:///cars.db\n",
            "0 rows affected.\n"
          ]
        },
        {
          "output_type": "execute_result",
          "data": {
            "text/plain": [
              "[]"
            ]
          },
          "metadata": {},
          "execution_count": 18
        }
      ]
    },
    {
      "cell_type": "code",
      "source": [
        "%%sql\n",
        "select * from cars1"
      ],
      "metadata": {
        "colab": {
          "base_uri": "https://localhost:8080/",
          "height": 75
        },
        "id": "bcbxKn4ZQAwG",
        "outputId": "4d4217f0-3be9-426a-c474-b81e04858f1c"
      },
      "execution_count": null,
      "outputs": [
        {
          "output_type": "stream",
          "name": "stdout",
          "text": [
            " * sqlite:///cars.db\n",
            "Done.\n"
          ]
        },
        {
          "output_type": "execute_result",
          "data": {
            "text/plain": [
              "[]"
            ],
            "text/html": [
              "<table>\n",
              "    <thead>\n",
              "        <tr>\n",
              "            <th>Number</th>\n",
              "            <th>Car_Model</th>\n",
              "            <th>Brand</th>\n",
              "            <th>Horsepower</th>\n",
              "            <th>Production</th>\n",
              "        </tr>\n",
              "    </thead>\n",
              "    <tbody>\n",
              "    </tbody>\n",
              "</table>"
            ]
          },
          "metadata": {},
          "execution_count": 19
        }
      ]
    },
    {
      "cell_type": "code",
      "source": [
        "%%sql\n",
        "\n",
        "drop table cars1"
      ],
      "metadata": {
        "colab": {
          "base_uri": "https://localhost:8080/"
        },
        "id": "yBKyXvkDQ5kR",
        "outputId": "57585288-cbe2-4d6c-8550-ce454ebd97e4"
      },
      "execution_count": null,
      "outputs": [
        {
          "output_type": "stream",
          "name": "stdout",
          "text": [
            " * sqlite:///cars.db\n",
            "Done.\n"
          ]
        },
        {
          "output_type": "execute_result",
          "data": {
            "text/plain": [
              "[]"
            ]
          },
          "metadata": {},
          "execution_count": 20
        }
      ]
    },
    {
      "cell_type": "code",
      "source": [
        "%%sql\n",
        "CREATE TABLE repairs\n",
        "(\n",
        "  repair_number INTEGER PRIMARY KEY AUTOINCREMENT,\n",
        "  car_number TEXT,\n",
        "  description TEXT,\n",
        "  fee real\n",
        ");"
      ],
      "metadata": {
        "id": "PCWGk1EtMWUQ",
        "outputId": "4c41da23-88a7-488d-8fe4-da30b8357d61",
        "colab": {
          "base_uri": "https://localhost:8080/"
        }
      },
      "execution_count": null,
      "outputs": [
        {
          "output_type": "stream",
          "name": "stdout",
          "text": [
            " * sqlite:///cars.db\n",
            "Done.\n"
          ]
        },
        {
          "output_type": "execute_result",
          "data": {
            "text/plain": [
              "[]"
            ]
          },
          "metadata": {},
          "execution_count": 21
        }
      ]
    },
    {
      "cell_type": "code",
      "source": [
        "%%sql\n",
        "\n",
        "insert into repairs(car_number, description, fee)\n",
        "values(2, \"fix brakes\", 432.23);\n",
        "insert into repairs(car_number, description, fee)\n",
        "values(1, \"fix window\", 25);\n",
        "insert into repairs(car_number, description, fee)\n",
        "values(2, \"change oil\", 23);\n"
      ],
      "metadata": {
        "id": "Rd7o_JcbMkFb",
        "outputId": "eec9c092-83b0-4165-ab8b-d005cf99b92e",
        "colab": {
          "base_uri": "https://localhost:8080/"
        }
      },
      "execution_count": null,
      "outputs": [
        {
          "output_type": "stream",
          "name": "stdout",
          "text": [
            " * sqlite:///cars.db\n",
            "1 rows affected.\n",
            "1 rows affected.\n",
            "1 rows affected.\n"
          ]
        },
        {
          "output_type": "execute_result",
          "data": {
            "text/plain": [
              "[]"
            ]
          },
          "metadata": {},
          "execution_count": 23
        }
      ]
    },
    {
      "cell_type": "code",
      "source": [
        "%%sql\n",
        "\n",
        "select * from repairs;"
      ],
      "metadata": {
        "id": "TMJzJ2QENBCl",
        "outputId": "65097921-d05b-475b-cd70-f964b3b426c1",
        "colab": {
          "base_uri": "https://localhost:8080/",
          "height": 160
        }
      },
      "execution_count": null,
      "outputs": [
        {
          "output_type": "stream",
          "name": "stdout",
          "text": [
            " * sqlite:///cars.db\n",
            "Done.\n"
          ]
        },
        {
          "output_type": "execute_result",
          "data": {
            "text/plain": [
              "[(1, '2', 'fix brakes', 432.23),\n",
              " (2, '2', 'fix brakes', 432.23),\n",
              " (3, '1', 'fix window', 25.0),\n",
              " (4, '2', 'change oil', 23.0)]"
            ],
            "text/html": [
              "<table>\n",
              "    <thead>\n",
              "        <tr>\n",
              "            <th>repair_number</th>\n",
              "            <th>car_number</th>\n",
              "            <th>description</th>\n",
              "            <th>fee</th>\n",
              "        </tr>\n",
              "    </thead>\n",
              "    <tbody>\n",
              "        <tr>\n",
              "            <td>1</td>\n",
              "            <td>2</td>\n",
              "            <td>fix brakes</td>\n",
              "            <td>432.23</td>\n",
              "        </tr>\n",
              "        <tr>\n",
              "            <td>2</td>\n",
              "            <td>2</td>\n",
              "            <td>fix brakes</td>\n",
              "            <td>432.23</td>\n",
              "        </tr>\n",
              "        <tr>\n",
              "            <td>3</td>\n",
              "            <td>1</td>\n",
              "            <td>fix window</td>\n",
              "            <td>25.0</td>\n",
              "        </tr>\n",
              "        <tr>\n",
              "            <td>4</td>\n",
              "            <td>2</td>\n",
              "            <td>change oil</td>\n",
              "            <td>23.0</td>\n",
              "        </tr>\n",
              "    </tbody>\n",
              "</table>"
            ]
          },
          "metadata": {},
          "execution_count": 24
        }
      ]
    }
  ]
}