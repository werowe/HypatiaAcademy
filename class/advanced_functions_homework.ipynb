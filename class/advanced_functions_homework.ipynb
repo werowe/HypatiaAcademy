{
  "nbformat": 4,
  "nbformat_minor": 0,
  "metadata": {
    "colab": {
      "provenance": [],
      "authorship_tag": "ABX9TyN0nudtm148cCBIPXTqzO42",
      "include_colab_link": true
    },
    "kernelspec": {
      "name": "python3",
      "display_name": "Python 3"
    },
    "language_info": {
      "name": "python"
    }
  },
  "cells": [
    {
      "cell_type": "markdown",
      "metadata": {
        "id": "view-in-github",
        "colab_type": "text"
      },
      "source": [
        "<a href=\"https://colab.research.google.com/github/werowe/HypatiaAcademy/blob/master/class/advanced_functions_homework.ipynb\" target=\"_parent\"><img src=\"https://colab.research.google.com/assets/colab-badge.svg\" alt=\"Open In Colab\"/></a>"
      ]
    },
    {
      "cell_type": "markdown",
      "source": [
        "* Named arguments\n",
        "\n",
        "* Self-referencing\n",
        "\n",
        "* Variable Number of Arguments\n",
        "\n",
        "* Lambda\n",
        "\n",
        "* Default Values\n"
      ],
      "metadata": {
        "id": "yGkh1HZvrdg6"
      }
    },
    {
      "cell_type": "code",
      "execution_count": 2,
      "metadata": {
        "colab": {
          "base_uri": "https://localhost:8080/"
        },
        "id": "q_huDMK_ramV",
        "outputId": "9278089c-ef5a-4ce7-c816-df170c8c8530"
      },
      "outputs": [
        {
          "output_type": "stream",
          "name": "stdout",
          "text": [
            "\n",
            "before x=12 work=11: after x=132\n",
            "\n",
            "before x=132 work=10: after x=1320\n",
            "\n",
            "before x=1320 work=9: after x=11880\n",
            "\n",
            "before x=11880 work=8: after x=95040\n",
            "\n",
            "before x=95040 work=7: after x=665280\n",
            "\n",
            "before x=665280 work=6: after x=3991680\n",
            "\n",
            "before x=3991680 work=5: after x=19958400\n",
            "\n",
            "before x=19958400 work=4: after x=79833600\n",
            "\n",
            "before x=79833600 work=3: after x=239500800\n",
            "\n",
            "before x=239500800 work=2: after x=479001600\n",
            "\n",
            "returning 479001600 1\n",
            "\n",
            "👍 results 12!=479001600\n",
            "\n",
            "✅ check 479001600\n"
          ]
        }
      ],
      "source": [
        "# use the math package so we can use it to check our results\n",
        "\n",
        "import math\n",
        "\n",
        "# give work a default value so we don't have to supply one when we call the function\n",
        "\n",
        "def factorial(x, work=0):\n",
        "\n",
        "    # factorial is not defined for negative values to check that here\n",
        "    assert x > 1\n",
        "\n",
        "    if work == 0:\n",
        "        work = x\n",
        "\n",
        "\n",
        "    # n! = n * n - 1 , .... so subtract 1 to get the next value\n",
        "    work = work - 1\n",
        "\n",
        "    if work == 1:\n",
        "        print(\"\\nreturning\", x, work)\n",
        "        return x\n",
        "\n",
        "    print(f\"\\nbefore x={x} work={work}\", end=\":\")\n",
        "\n",
        "    x = x * work\n",
        "\n",
        "    print(f\" after x={x}\")\n",
        "\n",
        "    # now call same function again with new values.  note you must use the return statement\n",
        "\n",
        "    return factorial(x, work)\n",
        "\n",
        "a = 12\n",
        "\n",
        "f = factorial(a)\n",
        "\n",
        "print(f\"\\n👍 results {a}!={f}\")\n",
        "\n",
        "\n",
        "# use Python math library to check results\n",
        "\n",
        "print(\"\\n✅ check\", math.factorial(a))"
      ]
    }
  ]
}