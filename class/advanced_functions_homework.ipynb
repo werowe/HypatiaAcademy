{
  "nbformat": 4,
  "nbformat_minor": 0,
  "metadata": {
    "colab": {
      "provenance": [],
      "toc_visible": true,
      "authorship_tag": "ABX9TyPbZ0jCXTwymUwpGJIpWj5C",
      "include_colab_link": true
    },
    "kernelspec": {
      "name": "python3",
      "display_name": "Python 3"
    },
    "language_info": {
      "name": "python"
    }
  },
  "cells": [
    {
      "cell_type": "markdown",
      "metadata": {
        "id": "view-in-github",
        "colab_type": "text"
      },
      "source": [
        "<a href=\"https://colab.research.google.com/github/werowe/HypatiaAcademy/blob/master/class/advanced_functions_homework.ipynb\" target=\"_parent\"><img src=\"https://colab.research.google.com/assets/colab-badge.svg\" alt=\"Open In Colab\"/></a>"
      ]
    },
    {
      "cell_type": "markdown",
      "source": [
        "# Different Function Types\n",
        "\n",
        "* Named arguments\n",
        "\n",
        "* Self-referencing\n",
        "\n",
        "* Variable Number of Arguments\n",
        "\n",
        "* Lambda\n",
        "\n",
        "* Default Values\n",
        "\n",
        "* Yield\n"
      ],
      "metadata": {
        "id": "yGkh1HZvrdg6"
      }
    },
    {
      "cell_type": "markdown",
      "source": [
        "# Name Arguments\n",
        "\n",
        "We can pass arguments by position or name.\n"
      ],
      "metadata": {
        "id": "q0ZlVENYn9W8"
      }
    },
    {
      "cell_type": "code",
      "source": [
        "!ps -ef"
      ],
      "metadata": {
        "id": "8ADNhTdBp8ao",
        "outputId": "e2487887-a16b-4ce3-89fd-bdabf6bfd13f",
        "colab": {
          "base_uri": "https://localhost:8080/"
        }
      },
      "execution_count": 24,
      "outputs": [
        {
          "output_type": "stream",
          "name": "stdout",
          "text": [
            "UID          PID    PPID  C STIME TTY          TIME CMD\n",
            "root           1       0  0 14:57 ?        00:00:00 /sbin/docker-init -- /datala\n",
            "root           6       1  0 14:57 ?        00:00:01 /tools/node/bin/node /datala\n",
            "root          19       6  0 14:57 ?        00:00:01 /bin/bash -e /usr/local/cola\n",
            "root          21       1  0 14:57 ?        00:00:00 /bin/bash -e /datalab/run.sh\n",
            "root          22      21  0 14:57 ?        00:00:00 /usr/colab/bin/kernel_manage\n",
            "root          26       0  0 14:57 ?        00:00:00 tail -n +0 -F /root/.config/\n",
            "root          45       0  0 14:57 ?        00:00:00 tail -n +0 -F /root/.config/\n",
            "root          68       6  1 14:57 ?        00:00:18 [python3] <defunct>\n",
            "root          69       6  0 14:57 ?        00:00:02 python3 /usr/local/bin/colab\n",
            "root          90       6  0 14:57 ?        00:00:07 /usr/bin/python3 /usr/local/\n",
            "root          91       6  0 14:57 ?        00:00:00 /usr/local/bin/dap_multiplex\n",
            "root         262      90  0 14:58 ?        00:00:06 /usr/bin/python3 -m colab_ke\n",
            "root        7926      19  0 15:27 ?        00:00:00 sleep 1\n",
            "root        7927     262  0 15:27 ?        00:00:00 ps -ef\n"
          ]
        }
      ]
    },
    {
      "cell_type": "code",
      "source": [
        "def go(x,y):\n",
        "\n",
        "    return x, y\n",
        "\n",
        "\n",
        "# this is by name\n",
        "a,b = go(y=3, x=2)\n",
        "\n",
        "# this is by position\n",
        "\n",
        "e, f = go(3, 2)\n",
        "\n",
        "a,b, e, f"
      ],
      "metadata": {
        "id": "24JzN4IloGqA",
        "outputId": "f074912e-e1ab-454b-99f0-bff359338049",
        "colab": {
          "base_uri": "https://localhost:8080/"
        }
      },
      "execution_count": 12,
      "outputs": [
        {
          "output_type": "execute_result",
          "data": {
            "text/plain": [
              "(2, 3, 3, 2)"
            ]
          },
          "metadata": {},
          "execution_count": 12
        }
      ]
    },
    {
      "cell_type": "markdown",
      "source": [
        "## Option Arguments\n",
        "\n",
        "If you give an argument a default value then it's optional."
      ],
      "metadata": {
        "id": "OvVKzFwmorUK"
      }
    },
    {
      "cell_type": "code",
      "source": [
        "def doThis(a=None, b=None):\n",
        "\n",
        "    # pass means do nothing\n",
        "    pass\n",
        "\n",
        "\n",
        "doThis()\n"
      ],
      "metadata": {
        "id": "PAb19tCUoxvR"
      },
      "execution_count": 15,
      "outputs": []
    },
    {
      "cell_type": "markdown",
      "source": [
        "# Self-Referencial"
      ],
      "metadata": {
        "id": "wiiCFBW1Dwx5"
      }
    },
    {
      "cell_type": "code",
      "source": [
        "# FIX ME\n",
        "\n",
        "def count_to_0(n):\n",
        "    if n == 0:\n",
        "        print(\"Done!\")\n",
        "    if n > 0:\n",
        "        print(n)\n",
        "        return count_to_0(n - 1)\n",
        "    if n < 0:\n",
        "        print(n)\n",
        "        return count_to_0(n + 1)\n",
        "\n",
        "  a=count_to_0(5)\n",
        "\n",
        "print(a)"
      ],
      "metadata": {
        "id": "nOJJUtsXn0JZ"
      },
      "execution_count": null,
      "outputs": []
    },
    {
      "cell_type": "code",
      "source": [
        "def repeat(x, times):\n",
        "    print(\"x=\",x)\n",
        "    if times > 0:\n",
        "      times -= 1\n",
        "      repeat(2 * x, times)\n",
        "\n",
        "a = repeat(2,2)\n",
        "\n",
        "print(a)\n"
      ],
      "metadata": {
        "id": "_QkKr2v3k6EC",
        "outputId": "919c3570-d92a-444b-9b8d-6c1e8ccbaf4c",
        "colab": {
          "base_uri": "https://localhost:8080/"
        }
      },
      "execution_count": 7,
      "outputs": [
        {
          "output_type": "stream",
          "name": "stdout",
          "text": [
            "x= 2\n",
            "x= 4\n",
            "x= 8\n",
            "None\n"
          ]
        }
      ]
    },
    {
      "cell_type": "code",
      "execution_count": 52,
      "metadata": {
        "colab": {
          "base_uri": "https://localhost:8080/"
        },
        "id": "q_huDMK_ramV",
        "outputId": "c0e15fd7-9f6e-4429-f2fd-50dda8b49921"
      },
      "outputs": [
        {
          "output_type": "stream",
          "name": "stdout",
          "text": [
            "\n",
            "before x=5 work=4: after x=20\n",
            "\n",
            "before x=20 work=3: after x=60\n",
            "\n",
            "before x=60 work=2: after x=120\n",
            "\n",
            "returning 120 1\n",
            "\n",
            "👍 results 5!=120\n",
            "\n",
            "✅ check 120\n"
          ]
        }
      ],
      "source": [
        "# use the math package so we can use it to check our results\n",
        "\n",
        "import math\n",
        "\n",
        "# give work a default value so we don't have to supply one when we call the function\n",
        "\n",
        "def factorial(x, work=0):\n",
        "\n",
        "    # factorial is not defined for negative values to check that here\n",
        "    assert x > 1, \"number must be bigger than 1\"\n",
        "\n",
        "    if work == 0:\n",
        "        work = x\n",
        "\n",
        "\n",
        "    # n! = n * n - 1 , .... so subtract 1 to get the next value\n",
        "    work = work - 1\n",
        "\n",
        "    if work == 1:\n",
        "        print(\"\\nreturning\", x, work)\n",
        "        return x\n",
        "\n",
        "    print(f\"\\nbefore x={x} work={work}\", end=\":\")\n",
        "\n",
        "    x = x * work\n",
        "\n",
        "    print(f\" after x={x}\")\n",
        "\n",
        "    # now call same function again with new values.  note you must use the return statement\n",
        "\n",
        "    return factorial(x, work)\n",
        "\n",
        "a = 5\n",
        "\n",
        "\n",
        "\n",
        "\n",
        "f = factorial(a)\n",
        "\n",
        "print(f\"\\n👍 results {a}!={f}\")\n",
        "\n",
        "\n",
        "# use Python math library to check results\n",
        "\n",
        "print(\"\\n✅ check\", math.factorial(a))"
      ]
    },
    {
      "cell_type": "markdown",
      "source": [
        "Student example https://colab.research.google.com/drive/1D0k57W4XASyxga9W4b0GiUbZcqyUxW34#scrollTo=4o0wY-lS9XpM\n"
      ],
      "metadata": {
        "id": "H-ws3f6u_qtN"
      }
    },
    {
      "cell_type": "code",
      "source": [
        "# Without return on the last loop the value will be None\n",
        "\n",
        "def countdown(n):\n",
        "\n",
        "    assert type(n) == int, \"argument must be an integer\"\n",
        "\n",
        "    if n == 0:\n",
        "        print(\"Done!\")\n",
        "    if n > 0:\n",
        "        print(n)\n",
        "        return countdown(n - 1)\n",
        "    if n < 0:\n",
        "        print(n)\n",
        "        return countdown(n + 1)\n",
        "\n",
        "a=countdown(12.2)\n",
        "\n",
        "print(a)"
      ],
      "metadata": {
        "id": "8QQCRgQZ-XxK",
        "outputId": "d860eb2d-4894-4fc6-9166-732831eaba18",
        "colab": {
          "base_uri": "https://localhost:8080/",
          "height": 341
        }
      },
      "execution_count": 40,
      "outputs": [
        {
          "output_type": "error",
          "ename": "AssertionError",
          "evalue": "argument must be an integer",
          "traceback": [
            "\u001b[0;31m---------------------------------------------------------------------------\u001b[0m",
            "\u001b[0;31mAssertionError\u001b[0m                            Traceback (most recent call last)",
            "\u001b[0;32m/tmp/ipython-input-2226586907.py\u001b[0m in \u001b[0;36m<cell line: 0>\u001b[0;34m()\u001b[0m\n\u001b[1;32m     14\u001b[0m         \u001b[0;32mreturn\u001b[0m \u001b[0mcountdown\u001b[0m\u001b[0;34m(\u001b[0m\u001b[0mn\u001b[0m \u001b[0;34m+\u001b[0m \u001b[0;36m1\u001b[0m\u001b[0;34m)\u001b[0m\u001b[0;34m\u001b[0m\u001b[0;34m\u001b[0m\u001b[0m\n\u001b[1;32m     15\u001b[0m \u001b[0;34m\u001b[0m\u001b[0m\n\u001b[0;32m---> 16\u001b[0;31m \u001b[0ma\u001b[0m\u001b[0;34m=\u001b[0m\u001b[0mcountdown\u001b[0m\u001b[0;34m(\u001b[0m\u001b[0;36m12.2\u001b[0m\u001b[0;34m)\u001b[0m\u001b[0;34m\u001b[0m\u001b[0;34m\u001b[0m\u001b[0m\n\u001b[0m\u001b[1;32m     17\u001b[0m \u001b[0;34m\u001b[0m\u001b[0m\n\u001b[1;32m     18\u001b[0m \u001b[0mprint\u001b[0m\u001b[0;34m(\u001b[0m\u001b[0ma\u001b[0m\u001b[0;34m)\u001b[0m\u001b[0;34m\u001b[0m\u001b[0;34m\u001b[0m\u001b[0m\n",
            "\u001b[0;32m/tmp/ipython-input-2226586907.py\u001b[0m in \u001b[0;36mcountdown\u001b[0;34m(n)\u001b[0m\n\u001b[1;32m      3\u001b[0m \u001b[0;32mdef\u001b[0m \u001b[0mcountdown\u001b[0m\u001b[0;34m(\u001b[0m\u001b[0mn\u001b[0m\u001b[0;34m)\u001b[0m\u001b[0;34m:\u001b[0m\u001b[0;34m\u001b[0m\u001b[0;34m\u001b[0m\u001b[0m\n\u001b[1;32m      4\u001b[0m \u001b[0;34m\u001b[0m\u001b[0m\n\u001b[0;32m----> 5\u001b[0;31m     \u001b[0;32massert\u001b[0m \u001b[0mtype\u001b[0m\u001b[0;34m(\u001b[0m\u001b[0mn\u001b[0m\u001b[0;34m)\u001b[0m \u001b[0;34m==\u001b[0m \u001b[0mint\u001b[0m\u001b[0;34m,\u001b[0m \u001b[0;34m\"argument must be an integer\"\u001b[0m\u001b[0;34m\u001b[0m\u001b[0;34m\u001b[0m\u001b[0m\n\u001b[0m\u001b[1;32m      6\u001b[0m \u001b[0;34m\u001b[0m\u001b[0m\n\u001b[1;32m      7\u001b[0m     \u001b[0;32mif\u001b[0m \u001b[0mn\u001b[0m \u001b[0;34m==\u001b[0m \u001b[0;36m0\u001b[0m\u001b[0;34m:\u001b[0m\u001b[0;34m\u001b[0m\u001b[0;34m\u001b[0m\u001b[0m\n",
            "\u001b[0;31mAssertionError\u001b[0m: argument must be an integer"
          ]
        }
      ]
    },
    {
      "cell_type": "markdown",
      "source": [
        "# Yield\n",
        "\n",
        "* return leaves the function and you're done.  it returns a value\n",
        "\n",
        "* yield leave the function and goes back\n"
      ],
      "metadata": {
        "id": "NRssaA9oDqPs"
      }
    },
    {
      "cell_type": "code",
      "source": [
        "# it's not very useful to have a function that just prints values\n",
        "# normally you want it to do something, like calculate\n",
        "\n",
        "def count_to_0r(n):\n",
        "    if n == 0:\n",
        "        print(\"Done!\")\n",
        "    if n > 0:\n",
        "        print(n)\n",
        "        return count_to_0r(n - 1)\n",
        "    if n < 0:\n",
        "        print(n)\n",
        "        return count_to_0r(n + 1)\n",
        "\n",
        "count_to_0r(5)"
      ],
      "metadata": {
        "id": "R4zA8U2HshNn",
        "outputId": "9667ad91-1f06-479c-e3d3-86edf26b7224",
        "colab": {
          "base_uri": "https://localhost:8080/"
        }
      },
      "execution_count": 27,
      "outputs": [
        {
          "output_type": "stream",
          "name": "stdout",
          "text": [
            "5\n",
            "4\n",
            "3\n",
            "2\n",
            "1\n",
            "Done!\n"
          ]
        }
      ]
    },
    {
      "cell_type": "code",
      "source": [
        "\n",
        "# return a value for every loop (ieration in the loop)\n",
        "\n",
        "def yield_counter(n):\n",
        "\n",
        "  while n != 0:\n",
        "    if n > 0:\n",
        "        yield (n)\n",
        "        n = n - 1\n",
        "    if n < 0:\n",
        "        yield(n)\n",
        "        n = n + 1\n",
        "\n",
        "# so you get access to each value\n",
        "for a in yield_counter(5):\n",
        "  print(a)"
      ],
      "metadata": {
        "id": "XKj9dqLJ-9nq",
        "outputId": "c5510048-2552-4ea7-83bd-02274b39ad45",
        "colab": {
          "base_uri": "https://localhost:8080/"
        }
      },
      "execution_count": 26,
      "outputs": [
        {
          "output_type": "stream",
          "name": "stdout",
          "text": [
            "5\n",
            "4\n",
            "3\n",
            "2\n",
            "1\n"
          ]
        }
      ]
    },
    {
      "cell_type": "code",
      "source": [
        "l = [1, 2, 3]\n",
        "\n",
        "for i in l:\n",
        "  print(i)"
      ],
      "metadata": {
        "id": "sb9NkQw6sBfT",
        "outputId": "7536b0b0-2341-41b0-ce92-0e37cbe0c03a",
        "colab": {
          "base_uri": "https://localhost:8080/"
        }
      },
      "execution_count": 25,
      "outputs": [
        {
          "output_type": "stream",
          "name": "stdout",
          "text": [
            "1\n",
            "2\n",
            "3\n"
          ]
        }
      ]
    },
    {
      "cell_type": "markdown",
      "source": [
        "# Variable Number of Arguments"
      ],
      "metadata": {
        "id": "tlZZogfvDt65"
      }
    },
    {
      "cell_type": "code",
      "source": [
        "\n",
        "# * means variable number of\n",
        "\n",
        "def multiply(*n):\n",
        "\n",
        "  # need some initial value.  I use 1 because 1 * anything = the same value\n",
        "  work = 1\n",
        "\n",
        "  for i in n:\n",
        "    work = work * i\n",
        "\n",
        "  return work\n",
        "\n",
        "\n",
        "multiply(2,3,4,5,6,7)"
      ],
      "metadata": {
        "id": "ksXs_XOpCjL6",
        "outputId": "0d6a374d-71fa-4c72-8b2a-cd4e24c98c58",
        "colab": {
          "base_uri": "https://localhost:8080/"
        }
      },
      "execution_count": 28,
      "outputs": [
        {
          "output_type": "execute_result",
          "data": {
            "text/plain": [
              "5040"
            ]
          },
          "metadata": {},
          "execution_count": 28
        }
      ]
    },
    {
      "cell_type": "code",
      "source": [
        "! python hello.py first second"
      ],
      "metadata": {
        "id": "oVyJz9MBtvLF",
        "outputId": "2f7c0521-4347-4072-a0ac-8c7792b5af18",
        "colab": {
          "base_uri": "https://localhost:8080/"
        }
      },
      "execution_count": 34,
      "outputs": [
        {
          "output_type": "stream",
          "name": "stdout",
          "text": [
            "2\n"
          ]
        }
      ]
    },
    {
      "cell_type": "markdown",
      "source": [
        "# Lambda\n",
        "\n",
        "If we right a function like double:\n",
        "\n",
        "```\n",
        "def double(x):\n",
        "\n",
        "  return 2 * x\n",
        "\n",
        "```\n",
        "\n",
        "to run it you would put:\n",
        "\n",
        "```\n",
        "double(2)\n",
        "```\n",
        "\n",
        "Lambda means an in-line functin or autonomous function.\n",
        "It just means short\n",
        "\n"
      ],
      "metadata": {
        "id": "i8OFP_i9E3JA"
      }
    },
    {
      "cell_type": "code",
      "source": [
        "double = lambda x : 2 * x\n",
        "\n",
        "double(3)"
      ],
      "metadata": {
        "id": "8z5UwxcxFCAH",
        "outputId": "2bac78cd-9fae-41b3-b3f7-2c075b96c3f4",
        "colab": {
          "base_uri": "https://localhost:8080/"
        }
      },
      "execution_count": 35,
      "outputs": [
        {
          "output_type": "execute_result",
          "data": {
            "text/plain": [
              "6"
            ]
          },
          "metadata": {},
          "execution_count": 35
        }
      ]
    },
    {
      "cell_type": "code",
      "source": [
        "triple = lambda x : 3 * x\n",
        "\n",
        "triple(3)\n"
      ],
      "metadata": {
        "id": "nCH5V4gEumU5",
        "outputId": "e0b147f4-cee1-43be-a260-4dc6b46c3fe0",
        "colab": {
          "base_uri": "https://localhost:8080/"
        }
      },
      "execution_count": 37,
      "outputs": [
        {
          "output_type": "execute_result",
          "data": {
            "text/plain": [
              "9"
            ]
          },
          "metadata": {},
          "execution_count": 37
        }
      ]
    },
    {
      "cell_type": "markdown",
      "source": [
        "# Built In Functions\n",
        "\n"
      ],
      "metadata": {
        "id": "8nGWv_2-u1WU"
      }
    },
    {
      "cell_type": "code",
      "source": [
        "# import\n",
        "import math\n",
        "\n",
        "math.log(10)\n",
        "\n"
      ],
      "metadata": {
        "id": "DbkWlN-1u3xs",
        "outputId": "2a9ec6bd-189e-4636-ef6d-feba5799c6c5",
        "colab": {
          "base_uri": "https://localhost:8080/"
        }
      },
      "execution_count": 38,
      "outputs": [
        {
          "output_type": "execute_result",
          "data": {
            "text/plain": [
              "2.302585092994046"
            ]
          },
          "metadata": {},
          "execution_count": 38
        }
      ]
    },
    {
      "cell_type": "markdown",
      "source": [
        "# Homework\n",
        "\n",
        "1.  Take the factorial program and make it an adder().  Like an adding machine. (See hints below).\n",
        "\n",
        "adder([1,2,3]) <----this is a list\n",
        "\n",
        "\n",
        "2.  Write a lambda function\n",
        "\n",
        "3.  Write a function with a variable number of arguments.\n",
        "\n",
        "4.  Write a function with named arguments.  \n",
        "\n",
        "\n",
        "5.  Write a function using yield.\n",
        "\n",
        "\n"
      ],
      "metadata": {
        "id": "3BrvGLRFwY3S"
      }
    },
    {
      "cell_type": "code",
      "source": [
        "# to go through a list you do this:\n",
        "\n",
        "# adding and factorial both you can do by self-referential, meaning using the sanme tool\n",
        "# over and over\n",
        "\n",
        "\n",
        "l = [1,2,3]\n",
        "\n",
        "for i in l:\n",
        "  print(i)"
      ],
      "metadata": {
        "id": "st9M3vGgw1hV",
        "outputId": "2fa5c864-e21a-4353-ed0f-f2f5c1ec8e4b",
        "colab": {
          "base_uri": "https://localhost:8080/"
        }
      },
      "execution_count": 43,
      "outputs": [
        {
          "output_type": "stream",
          "name": "stdout",
          "text": [
            "1\n",
            "2\n",
            "3\n"
          ]
        }
      ]
    },
    {
      "cell_type": "code",
      "source": [
        "n = 3\n",
        "\n",
        "while(n > 0):\n",
        "  print(n)\n",
        "  n = n - 1\n",
        ""
      ],
      "metadata": {
        "id": "URl2-Ouqw-wM",
        "outputId": "784d2a90-6383-474d-c50f-889b4f04a15a",
        "colab": {
          "base_uri": "https://localhost:8080/"
        }
      },
      "execution_count": 47,
      "outputs": [
        {
          "output_type": "stream",
          "name": "stdout",
          "text": [
            "3\n",
            "2\n",
            "1\n"
          ]
        }
      ]
    },
    {
      "cell_type": "code",
      "source": [
        "# lists\n",
        "\n",
        "l[1:3]"
      ],
      "metadata": {
        "id": "_vkNr_D-xgQ8",
        "outputId": "b28f523a-0577-4db8-afa4-c56cb0ec428b",
        "colab": {
          "base_uri": "https://localhost:8080/"
        }
      },
      "execution_count": 51,
      "outputs": [
        {
          "output_type": "execute_result",
          "data": {
            "text/plain": [
              "[2, 3]"
            ]
          },
          "metadata": {},
          "execution_count": 51
        }
      ]
    },
    {
      "cell_type": "code",
      "source": [
        "# adding letters\n",
        "# concatenation\n",
        "\n",
        "\n",
        "\"a\" + \"b\" + \"c\""
      ],
      "metadata": {
        "id": "NunR68wayMie",
        "outputId": "0bc17da1-5b8e-4a24-ba40-4d4f7a6b33f0",
        "colab": {
          "base_uri": "https://localhost:8080/",
          "height": 35
        }
      },
      "execution_count": 53,
      "outputs": [
        {
          "output_type": "execute_result",
          "data": {
            "text/plain": [
              "'abc'"
            ],
            "application/vnd.google.colaboratory.intrinsic+json": {
              "type": "string"
            }
          },
          "metadata": {},
          "execution_count": 53
        }
      ]
    }
  ]
}