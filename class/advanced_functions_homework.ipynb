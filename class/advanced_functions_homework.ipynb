{
  "nbformat": 4,
  "nbformat_minor": 0,
  "metadata": {
    "colab": {
      "provenance": [],
      "toc_visible": true,
      "authorship_tag": "ABX9TyOCh0FxOv4pc/MJJHVOJJvq",
      "include_colab_link": true
    },
    "kernelspec": {
      "name": "python3",
      "display_name": "Python 3"
    },
    "language_info": {
      "name": "python"
    }
  },
  "cells": [
    {
      "cell_type": "markdown",
      "metadata": {
        "id": "view-in-github",
        "colab_type": "text"
      },
      "source": [
        "<a href=\"https://colab.research.google.com/github/werowe/HypatiaAcademy/blob/master/class/advanced_functions_homework.ipynb\" target=\"_parent\"><img src=\"https://colab.research.google.com/assets/colab-badge.svg\" alt=\"Open In Colab\"/></a>"
      ]
    },
    {
      "cell_type": "markdown",
      "source": [
        "# Different Function Types\n",
        "\n",
        "* Named arguments\n",
        "\n",
        "* Self-referencing\n",
        "\n",
        "* Variable Number of Arguments\n",
        "\n",
        "* Lambda\n",
        "\n",
        "* Default Values\n",
        "\n",
        "* Yield\n"
      ],
      "metadata": {
        "id": "yGkh1HZvrdg6"
      }
    },
    {
      "cell_type": "markdown",
      "source": [
        "# Self-Referencial"
      ],
      "metadata": {
        "id": "wiiCFBW1Dwx5"
      }
    },
    {
      "cell_type": "code",
      "execution_count": 1,
      "metadata": {
        "colab": {
          "base_uri": "https://localhost:8080/"
        },
        "id": "q_huDMK_ramV",
        "outputId": "7ec1dedd-b6da-41d0-b238-4baa5a112ccb"
      },
      "outputs": [
        {
          "output_type": "stream",
          "name": "stdout",
          "text": [
            "\n",
            "before x=9 work=8: after x=72\n",
            "\n",
            "before x=72 work=7: after x=504\n",
            "\n",
            "before x=504 work=6: after x=3024\n",
            "\n",
            "before x=3024 work=5: after x=15120\n",
            "\n",
            "before x=15120 work=4: after x=60480\n",
            "\n",
            "before x=60480 work=3: after x=181440\n",
            "\n",
            "before x=181440 work=2: after x=362880\n",
            "\n",
            "returning 362880 1\n",
            "\n",
            "👍 results 9!=362880\n",
            "\n",
            "✅ check 362880\n"
          ]
        }
      ],
      "source": [
        "# use the math package so we can use it to check our results\n",
        "\n",
        "import math\n",
        "\n",
        "# give work a default value so we don't have to supply one when we call the function\n",
        "\n",
        "def factorial(x, work=0):\n",
        "\n",
        "    # factorial is not defined for negative values to check that here\n",
        "    assert x > 1, \"number must be bigger than 1\"\n",
        "\n",
        "    if work == 0:\n",
        "        work = x\n",
        "\n",
        "\n",
        "    # n! = n * n - 1 , .... so subtract 1 to get the next value\n",
        "    work = work - 1\n",
        "\n",
        "    if work == 1:\n",
        "        print(\"\\nreturning\", x, work)\n",
        "        return x\n",
        "\n",
        "    print(f\"\\nbefore x={x} work={work}\", end=\":\")\n",
        "\n",
        "    x = x * work\n",
        "\n",
        "    print(f\" after x={x}\")\n",
        "\n",
        "    # now call same function again with new values.  note you must use the return statement\n",
        "\n",
        "    return factorial(x, work)\n",
        "\n",
        "a = 9\n",
        "\n",
        "f = factorial(a)\n",
        "\n",
        "print(f\"\\n👍 results {a}!={f}\")\n",
        "\n",
        "\n",
        "# use Python math library to check results\n",
        "\n",
        "print(\"\\n✅ check\", math.factorial(a))"
      ]
    },
    {
      "cell_type": "markdown",
      "source": [
        "Student example https://colab.research.google.com/drive/1D0k57W4XASyxga9W4b0GiUbZcqyUxW34#scrollTo=4o0wY-lS9XpM\n"
      ],
      "metadata": {
        "id": "H-ws3f6u_qtN"
      }
    },
    {
      "cell_type": "code",
      "source": [
        "# Without return on the last loop the value will be None\n",
        "\n",
        "def countdown(n):\n",
        "    if n == 0:\n",
        "        print(\"Done!\")\n",
        "    if n > 0:\n",
        "        print(n)\n",
        "        return countdown(n - 1)\n",
        "    if n < 0:\n",
        "        print(n)\n",
        "        return countdown(n + 1)\n",
        "\n",
        "a=countdown(12)\n",
        "\n",
        "print(a)"
      ],
      "metadata": {
        "id": "8QQCRgQZ-XxK",
        "outputId": "d0f306f7-53e0-4e99-cb09-7ed1c2a724f0",
        "colab": {
          "base_uri": "https://localhost:8080/"
        }
      },
      "execution_count": 15,
      "outputs": [
        {
          "output_type": "stream",
          "name": "stdout",
          "text": [
            "12\n",
            "11\n",
            "10\n",
            "9\n",
            "8\n",
            "7\n",
            "6\n",
            "5\n",
            "4\n",
            "3\n",
            "2\n",
            "1\n",
            "Done!\n",
            "None\n"
          ]
        }
      ]
    },
    {
      "cell_type": "markdown",
      "source": [
        "# Yield"
      ],
      "metadata": {
        "id": "NRssaA9oDqPs"
      }
    },
    {
      "cell_type": "code",
      "source": [
        "def yield_counter(n):\n",
        "\n",
        "  while n != 0:\n",
        "    if n > 0:\n",
        "        yield (n)\n",
        "        n = n - 1\n",
        "    if n < 0:\n",
        "        yield(n)\n",
        "        n = n + 1\n",
        "\n",
        "for a in yield_counter(-15):\n",
        "  print(a)"
      ],
      "metadata": {
        "id": "XKj9dqLJ-9nq",
        "outputId": "a8a21340-c370-4e04-cc8d-052a66534d24",
        "colab": {
          "base_uri": "https://localhost:8080/"
        }
      },
      "execution_count": 22,
      "outputs": [
        {
          "output_type": "stream",
          "name": "stdout",
          "text": [
            "-15\n",
            "-14\n",
            "-13\n",
            "-12\n",
            "-11\n",
            "-10\n",
            "-9\n",
            "-8\n",
            "-7\n",
            "-6\n",
            "-5\n",
            "-4\n",
            "-3\n",
            "-2\n",
            "-1\n"
          ]
        }
      ]
    },
    {
      "cell_type": "markdown",
      "source": [
        "# Variable Number of Arguments"
      ],
      "metadata": {
        "id": "tlZZogfvDt65"
      }
    },
    {
      "cell_type": "code",
      "source": [
        "\n",
        "\n",
        "def multiply(*n):\n",
        "\n",
        "  work = 1\n",
        "\n",
        "  for i in n:\n",
        "    work = work * i\n",
        "\n",
        "  return work\n",
        "\n",
        "multiply(2,3)"
      ],
      "metadata": {
        "id": "ksXs_XOpCjL6",
        "outputId": "f760a8f2-b1f2-4836-c820-4af534bf2489",
        "colab": {
          "base_uri": "https://localhost:8080/"
        }
      },
      "execution_count": 31,
      "outputs": [
        {
          "output_type": "execute_result",
          "data": {
            "text/plain": [
              "6"
            ]
          },
          "metadata": {},
          "execution_count": 31
        }
      ]
    },
    {
      "cell_type": "markdown",
      "source": [
        "# Lambda\n",
        "\n"
      ],
      "metadata": {
        "id": "i8OFP_i9E3JA"
      }
    },
    {
      "cell_type": "code",
      "source": [
        "double = lambda x : 2 * x\n",
        "\n",
        "double(3)"
      ],
      "metadata": {
        "id": "8z5UwxcxFCAH",
        "outputId": "f56d2e3b-9135-4622-f7ee-d41f4a039c18",
        "colab": {
          "base_uri": "https://localhost:8080/"
        }
      },
      "execution_count": 37,
      "outputs": [
        {
          "output_type": "execute_result",
          "data": {
            "text/plain": [
              "6"
            ]
          },
          "metadata": {},
          "execution_count": 37
        }
      ]
    }
  ]
}