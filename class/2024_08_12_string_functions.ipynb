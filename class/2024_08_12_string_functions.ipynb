{
  "nbformat": 4,
  "nbformat_minor": 0,
  "metadata": {
    "colab": {
      "provenance": [],
      "authorship_tag": "ABX9TyNTc4Pdr+1Y1XbXpbQmpxTB",
      "include_colab_link": true
    },
    "kernelspec": {
      "name": "python3",
      "display_name": "Python 3"
    },
    "language_info": {
      "name": "python"
    }
  },
  "cells": [
    {
      "cell_type": "markdown",
      "metadata": {
        "id": "view-in-github",
        "colab_type": "text"
      },
      "source": [
        "<a href=\"https://colab.research.google.com/github/werowe/HypatiaAcademy/blob/master/class/2024_08_12_string_functions.ipynb\" target=\"_parent\"><img src=\"https://colab.research.google.com/assets/colab-badge.svg\" alt=\"Open In Colab\"/></a>"
      ]
    },
    {
      "cell_type": "markdown",
      "source": [
        "# String Functions\n",
        "\n",
        "| Function                    | Arguments                             | Description                                                                                 |\n",
        "|-----------------------------|---------------------------------------|---------------------------------------------------------------------------------------------|\n",
        "| `capitalize()`              | None                                  | Converts the first character to uppercase.                                                  |\n",
        "| `center()`                  | `width, fillchar`                      | Centers the string, padding with the specified character.                                   |\n",
        "| `count()`                   | `sub, start, end`                     | Returns the number of occurrences of a substring.                                           |\n",
        "| `encode()`                  | `encoding, errors`                    | Encodes the string using the specified encoding.                                            |\n",
        "| `endswith()`                | `suffix, start, end`                  | Returns `True` if the string ends with the specified suffix.                                |\n",
        "| `find()`                    | `sub, start, end`                     | Returns the lowest index of the substring. Returns `-1` if not found.                       |\n",
        "| `format()`                  | `*args, **kwargs`                     | Formats the string using placeholders.                                                      |\n",
        "| `isalnum()`                 | None                                  | Returns `True` if all characters in the string are alphanumeric.                            |\n",
        "| `isalpha()`                 | None                                  | Returns `True` if all characters in the string are alphabetic.                              |\n",
        "| `islower()`                 | None                                  | Returns `True` if all characters in the string are lowercase.                               |\n",
        "| `isnumeric()`               | None                                  | Returns `True` if all characters in the string are numeric.                                 |\n",
        "| `isspace()`                 | None                                  | Returns `True` if all characters in the string are whitespace.                              |\n",
        "| `istitle()`                 | None                                  | Returns `True` if the string is in title case.                                              |\n",
        "| `isupper()`                 | None                                  | Returns `True` if all characters in the string are uppercase.                               |\n",
        "| `join()`                    | `iterable`                            | Joins elements of an iterable into a string with a separator.                               |\n",
        "| `lower()`                   | None                                  | Converts all characters in the string to lowercase.                                         |\n",
        "| `lstrip()`                  | `chars`                               | Removes leading characters (space by default).                                              |\n",
        "| `replace()`                 | `old, new, count`                     | Replaces occurrences of a substring with another substring.                                 |\n",
        "| `rstrip()`                  | `chars`                               | Removes trailing characters (space by default).                                             |\n",
        "| `split()`                   | `sep, maxsplit`                       | Splits the string into a list at the specified separator.                                    |\n",
        "| `startswith()`              | `prefix, start, end`                  | Returns `True` if the string starts with the specified prefix.                              |\n",
        "| `strip()`                   | `chars`                               | Removes leading and trailing characters (space by default).                                 |\n",
        "| `swapcase()`                | None                                  | Swaps case of all characters in the string.                                                 |\n",
        "| `title()`                   | None                                  | Converts the first character of each word to uppercase.                                     |\n",
        "| `upper()`                   | None                                  | Converts all characters in the string to uppercase.                                         |\n",
        "| `zfill()`                   | `width`                               | Pads the string on the left with zeros to fill the specified width.                         |\n"
      ],
      "metadata": {
        "id": "UD7YyllU1EDx"
      }
    },
    {
      "cell_type": "code",
      "source": [],
      "metadata": {
        "id": "HZvTTa5Y1IOg"
      },
      "execution_count": null,
      "outputs": []
    }
  ]
}