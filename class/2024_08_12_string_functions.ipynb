{
  "nbformat": 4,
  "nbformat_minor": 0,
  "metadata": {
    "colab": {
      "provenance": [],
      "authorship_tag": "ABX9TyM7NvQtrJB3zaaki/ZeRcCt",
      "include_colab_link": true
    },
    "kernelspec": {
      "name": "python3",
      "display_name": "Python 3"
    },
    "language_info": {
      "name": "python"
    }
  },
  "cells": [
    {
      "cell_type": "markdown",
      "metadata": {
        "id": "view-in-github",
        "colab_type": "text"
      },
      "source": [
        "<a href=\"https://colab.research.google.com/github/werowe/HypatiaAcademy/blob/master/class/2024_08_12_string_functions.ipynb\" target=\"_parent\"><img src=\"https://colab.research.google.com/assets/colab-badge.svg\" alt=\"Open In Colab\"/></a>"
      ]
    },
    {
      "cell_type": "markdown",
      "source": [
        "# String Functions\n",
        "\n",
        "| Function                    | Arguments                             | Description                                                                                 |\n",
        "|-----------------------------|---------------------------------------|---------------------------------------------------------------------------------------------|\n",
        "| `capitalize()`              | None                                  | Converts the first character to uppercase.                                                  |\n",
        "| `center()`                  | `width, fillchar`                      | Centers the string, padding with the specified character.                                   |\n",
        "| `count()`                   | `sub, start, end`                     | Returns the number of occurrences of a substring.                                           |\n",
        "| `encode()`                  | `encoding, errors`                    | Encodes the string using the specified encoding.                                            |\n",
        "| `endswith()`                | `suffix, start, end`                  | Returns `True` if the string ends with the specified suffix.                                |\n",
        "| `find()`                    | `sub, start, end`                     | Returns the lowest index of the substring. Returns `-1` if not found.                       |\n",
        "| `format()`                  | `*args, **kwargs`                     | Formats the string using placeholders.                                                      |\n",
        "| `isalnum()`                 | None                                  | Returns `True` if all characters in the string are alphanumeric.                            |\n",
        "| `isalpha()`                 | None                                  | Returns `True` if all characters in the string are alphabetic.                              |\n",
        "| `islower()`                 | None                                  | Returns `True` if all characters in the string are lowercase.                               |\n",
        "| `isnumeric()`               | None                                  | Returns `True` if all characters in the string are numeric.                                 |\n",
        "| `isspace()`                 | None                                  | Returns `True` if all characters in the string are whitespace.                              |\n",
        "| `istitle()`                 | None                                  | Returns `True` if the string is in title case.                                              |\n",
        "| `isupper()`                 | None                                  | Returns `True` if all characters in the string are uppercase.                               |\n",
        "| `join()`                    | `iterable`                            | Joins elements of an iterable into a string with a separator.                               |\n",
        "| `lower()`                   | None                                  | Converts all characters in the string to lowercase.                                         |\n",
        "| `lstrip()`                  | `chars`                               | Removes leading characters (space by default).                                              |\n",
        "| `replace()`                 | `old, new, count`                     | Replaces occurrences of a substring with another substring.                                 |\n",
        "| `rstrip()`                  | `chars`                               | Removes trailing characters (space by default).                                             |\n",
        "| `split()`                   | `sep, maxsplit`                       | Splits the string into a list at the specified separator.                                    |\n",
        "| `startswith()`              | `prefix, start, end`                  | Returns `True` if the string starts with the specified prefix.                              |\n",
        "| `strip()`                   | `chars`                               | Removes leading and trailing characters (space by default).                                 |\n",
        "| `swapcase()`                | None                                  | Swaps case of all characters in the string.                                                 |\n",
        "| `title()`                   | None                                  | Converts the first character of each word to uppercase.                                     |\n",
        "| `upper()`                   | None                                  | Converts all characters in the string to uppercase.                                         |\n",
        "| `zfill()`                   | `width`                               | Pads the string on the left with zeros to fill the specified width.                         |\n"
      ],
      "metadata": {
        "id": "UD7YyllU1EDx"
      }
    },
    {
      "cell_type": "code",
      "source": [
        "# text\n",
        "\n",
        "# buy a microphone\n",
        "\n",
        "\"walker\".upper()\n",
        "\n"
      ],
      "metadata": {
        "id": "HZvTTa5Y1IOg",
        "colab": {
          "base_uri": "https://localhost:8080/",
          "height": 35
        },
        "outputId": "16b879f7-8621-4062-dd0a-6496d4cda0a8"
      },
      "execution_count": 6,
      "outputs": [
        {
          "output_type": "execute_result",
          "data": {
            "text/plain": [
              "'WALKER'"
            ],
            "application/vnd.google.colaboratory.intrinsic+json": {
              "type": "string"
            }
          },
          "metadata": {},
          "execution_count": 6
        }
      ]
    },
    {
      "cell_type": "code",
      "source": [
        "#islower() ?\n",
        "\n",
        "'MARYANA'.islower()\n",
        "\n"
      ],
      "metadata": {
        "colab": {
          "base_uri": "https://localhost:8080/"
        },
        "id": "faQZrzHmUb3l",
        "outputId": "1c14d15c-789b-41cb-e110-a3df7d962852"
      },
      "execution_count": 7,
      "outputs": [
        {
          "output_type": "execute_result",
          "data": {
            "text/plain": [
              "False"
            ]
          },
          "metadata": {},
          "execution_count": 7
        }
      ]
    },
    {
      "cell_type": "code",
      "source": [
        "'eric'.islower()"
      ],
      "metadata": {
        "colab": {
          "base_uri": "https://localhost:8080/"
        },
        "id": "Q8hz9EijVpwH",
        "outputId": "c93f7005-4b2f-4b89-8201-a5f02272e653"
      },
      "execution_count": 8,
      "outputs": [
        {
          "output_type": "execute_result",
          "data": {
            "text/plain": [
              "True"
            ]
          },
          "metadata": {},
          "execution_count": 8
        }
      ]
    },
    {
      "cell_type": "code",
      "source": [
        "# replace()\told, new, count\tReplaces occurrences of a substring with another substring.\n",
        "\n",
        "# this was all in one thing step\n",
        "\n",
        "str=\"Solomia lives on the planet Venus\".replace(\"Venus\",\"Mars\")\n",
        "print(str)"
      ],
      "metadata": {
        "colab": {
          "base_uri": "https://localhost:8080/"
        },
        "id": "2n8bBkCXUg3q",
        "outputId": "6586fe0c-ddc7-462f-d61f-2f01a55cc779"
      },
      "execution_count": 9,
      "outputs": [
        {
          "output_type": "stream",
          "name": "stdout",
          "text": [
            "Solomia lives on the planet Mars\n"
          ]
        }
      ]
    },
    {
      "cell_type": "code",
      "source": [
        "# another way would be (1) create str and then (2) use str.replace()\n",
        "\n",
        "# seperate\n",
        "\n",
        "str=\"Solomia lives on the planet Venus and Venus is her cat's name\"\n",
        "\n",
        "str='Solomia lives on the planet Venus and Venus is her cat\"s name'\n",
        "\n",
        "#escape \\ character\n",
        "\n",
        "# \\n means new line\n",
        "\n",
        "str='Solomia lives on the planet \\n\\n Venus and Venus is her cat\\s name'\n",
        "\n",
        "\n",
        "# MARYANA\n",
        "\n",
        "x=str.replace(\"Venus\",\"Mars\",1)\n",
        "\n",
        "print(x)"
      ],
      "metadata": {
        "colab": {
          "base_uri": "https://localhost:8080/"
        },
        "id": "oWDMY45aWqsU",
        "outputId": "4fb3d030-108f-4e1c-9379-759b5de33c0e"
      },
      "execution_count": 15,
      "outputs": [
        {
          "output_type": "stream",
          "name": "stdout",
          "text": [
            "Solomia lives on the planet \n",
            "\n",
            " Mars and Venus is her cat\\s name\n"
          ]
        }
      ]
    },
    {
      "cell_type": "markdown",
      "source": [
        "There are some functions that operate on a variable and updates that variable.\n",
        "\n",
        "There are functions that operates on a variable and create a new variable\n"
      ],
      "metadata": {
        "id": "zYBaIPseYcnL"
      }
    },
    {
      "cell_type": "code",
      "source": [
        "\"elene\".upper()\n"
      ],
      "metadata": {
        "colab": {
          "base_uri": "https://localhost:8080/",
          "height": 35
        },
        "id": "xs_iFVRRYC54",
        "outputId": "b8590770-e1bf-48c5-86e4-57db3ddaaf1b"
      },
      "execution_count": 16,
      "outputs": [
        {
          "output_type": "execute_result",
          "data": {
            "text/plain": [
              "'ELENE'"
            ],
            "application/vnd.google.colaboratory.intrinsic+json": {
              "type": "string"
            }
          },
          "metadata": {},
          "execution_count": 16
        }
      ]
    },
    {
      "cell_type": "code",
      "source": [
        "str='Solomia lives on the planet \\n\\n Venus and Venus is her cat\\s name'"
      ],
      "metadata": {
        "id": "vpoCvvN8Y0Tw"
      },
      "execution_count": 19,
      "outputs": []
    },
    {
      "cell_type": "code",
      "source": [
        "newvariable=str.replace(\"Venus\",\"Mars\",1)"
      ],
      "metadata": {
        "id": "ul21waViYxLl"
      },
      "execution_count": 23,
      "outputs": []
    },
    {
      "cell_type": "code",
      "source": [
        "newvariable"
      ],
      "metadata": {
        "colab": {
          "base_uri": "https://localhost:8080/",
          "height": 35
        },
        "id": "QltMVKsEY8Zt",
        "outputId": "b0373378-2eeb-4586-de37-28c5d9561c95"
      },
      "execution_count": 24,
      "outputs": [
        {
          "output_type": "execute_result",
          "data": {
            "text/plain": [
              "'Solomia lives on the planet \\n\\n Mars and Venus is her cat\\\\s name'"
            ],
            "application/vnd.google.colaboratory.intrinsic+json": {
              "type": "string"
            }
          },
          "metadata": {},
          "execution_count": 24
        }
      ]
    },
    {
      "cell_type": "code",
      "source": [
        "x=2\n",
        "\n",
        "# unary operator.  meaning like .upper() it operates on itself\n",
        "\n",
        "x=x**2\n",
        "\n",
        "x"
      ],
      "metadata": {
        "colab": {
          "base_uri": "https://localhost:8080/"
        },
        "id": "Wz7tW2C5ZRHp",
        "outputId": "1090967b-3b9a-4596-a212-a09b0b8372a6"
      },
      "execution_count": 26,
      "outputs": [
        {
          "output_type": "execute_result",
          "data": {
            "text/plain": [
              "4"
            ]
          },
          "metadata": {},
          "execution_count": 26
        }
      ]
    },
    {
      "cell_type": "code",
      "source": [
        "# find()\n",
        "\n",
        "# arguments: substring, start [optional], end [optional]\t.  That tells the function what to do.\n",
        "\n",
        "# Returns the lowest index of the substring. Returns -1 if not found.\n",
        "\n",
        "x=\"American is far far away\".find(\"away\")\n",
        "\n",
        "x\n"
      ],
      "metadata": {
        "colab": {
          "base_uri": "https://localhost:8080/"
        },
        "id": "9WrcSb2RZuY0",
        "outputId": "9dfc9414-b797-4864-c153-546cefee0cbd"
      },
      "execution_count": 28,
      "outputs": [
        {
          "output_type": "execute_result",
          "data": {
            "text/plain": [
              "20"
            ]
          },
          "metadata": {},
          "execution_count": 28
        }
      ]
    },
    {
      "cell_type": "code",
      "source": [
        "str=\"American is far far away\"\n",
        "\n",
        "len(str)\n",
        "\n",
        "\n"
      ],
      "metadata": {
        "colab": {
          "base_uri": "https://localhost:8080/"
        },
        "id": "3_1w341jad4r",
        "outputId": "e4c950a7-cfe8-4cac-c3da-757c39d40f9f"
      },
      "execution_count": 30,
      "outputs": [
        {
          "output_type": "execute_result",
          "data": {
            "text/plain": [
              "24"
            ]
          },
          "metadata": {},
          "execution_count": 30
        }
      ]
    },
    {
      "cell_type": "markdown",
      "source": [
        "```\n",
        "012345678901234567890123\n",
        "American is far far away\n",
        "```"
      ],
      "metadata": {
        "id": "o1--SLSsatn-"
      }
    },
    {
      "cell_type": "code",
      "source": [
        "str[20]"
      ],
      "metadata": {
        "colab": {
          "base_uri": "https://localhost:8080/",
          "height": 35
        },
        "id": "DEJKQwc2a1bc",
        "outputId": "415fd864-38f7-4c6b-9625-0b90b474aa2e"
      },
      "execution_count": 31,
      "outputs": [
        {
          "output_type": "execute_result",
          "data": {
            "text/plain": [
              "'a'"
            ],
            "application/vnd.google.colaboratory.intrinsic+json": {
              "type": "string"
            }
          },
          "metadata": {},
          "execution_count": 31
        }
      ]
    },
    {
      "cell_type": "code",
      "source": [
        "str[0]"
      ],
      "metadata": {
        "colab": {
          "base_uri": "https://localhost:8080/",
          "height": 35
        },
        "id": "4pV54izLbCZF",
        "outputId": "08ee819a-5930-420a-d64d-aab334c2e9a1"
      },
      "execution_count": 32,
      "outputs": [
        {
          "output_type": "execute_result",
          "data": {
            "text/plain": [
              "'A'"
            ],
            "application/vnd.google.colaboratory.intrinsic+json": {
              "type": "string"
            }
          },
          "metadata": {},
          "execution_count": 32
        }
      ]
    },
    {
      "cell_type": "code",
      "source": [
        "str[1]"
      ],
      "metadata": {
        "colab": {
          "base_uri": "https://localhost:8080/",
          "height": 35
        },
        "id": "wvu07ZqBbMKn",
        "outputId": "b60dd1fb-c273-43bf-fb33-6b499b478be4"
      },
      "execution_count": 33,
      "outputs": [
        {
          "output_type": "execute_result",
          "data": {
            "text/plain": [
              "'m'"
            ],
            "application/vnd.google.colaboratory.intrinsic+json": {
              "type": "string"
            }
          },
          "metadata": {},
          "execution_count": 33
        }
      ]
    },
    {
      "cell_type": "code",
      "source": [
        "str[len(str)-1]"
      ],
      "metadata": {
        "colab": {
          "base_uri": "https://localhost:8080/",
          "height": 35
        },
        "id": "5rd5oPXbbR1F",
        "outputId": "1920478e-7139-4606-8cba-0e78c5b23806"
      },
      "execution_count": 35,
      "outputs": [
        {
          "output_type": "execute_result",
          "data": {
            "text/plain": [
              "'y'"
            ],
            "application/vnd.google.colaboratory.intrinsic+json": {
              "type": "string"
            }
          },
          "metadata": {},
          "execution_count": 35
        }
      ]
    },
    {
      "cell_type": "code",
      "source": [
        "# loops\n",
        "\n",
        "for i in range(24):\n",
        "  print(\"index=\",i, \" letter=\",str[i])"
      ],
      "metadata": {
        "colab": {
          "base_uri": "https://localhost:8080/"
        },
        "id": "U2KQKkwMbg0x",
        "outputId": "559ae6f9-14fd-4ca7-aab3-cbe5c74ecfe6"
      },
      "execution_count": 38,
      "outputs": [
        {
          "output_type": "stream",
          "name": "stdout",
          "text": [
            "index= 0  letter= A\n",
            "index= 1  letter= m\n",
            "index= 2  letter= e\n",
            "index= 3  letter= r\n",
            "index= 4  letter= i\n",
            "index= 5  letter= c\n",
            "index= 6  letter= a\n",
            "index= 7  letter= n\n",
            "index= 8  letter=  \n",
            "index= 9  letter= i\n",
            "index= 10  letter= s\n",
            "index= 11  letter=  \n",
            "index= 12  letter= f\n",
            "index= 13  letter= a\n",
            "index= 14  letter= r\n",
            "index= 15  letter=  \n",
            "index= 16  letter= f\n",
            "index= 17  letter= a\n",
            "index= 18  letter= r\n",
            "index= 19  letter=  \n",
            "index= 20  letter= a\n",
            "index= 21  letter= w\n",
            "index= 22  letter= a\n",
            "index= 23  letter= y\n"
          ]
        }
      ]
    },
    {
      "cell_type": "code",
      "source": [
        "for i in str:\n",
        "  print(i)"
      ],
      "metadata": {
        "colab": {
          "base_uri": "https://localhost:8080/"
        },
        "id": "ddO5kiVrb8T_",
        "outputId": "a7080034-7220-4efd-b541-f600d78ee7de"
      },
      "execution_count": 39,
      "outputs": [
        {
          "output_type": "stream",
          "name": "stdout",
          "text": [
            "A\n",
            "m\n",
            "e\n",
            "r\n",
            "i\n",
            "c\n",
            "a\n",
            "n\n",
            " \n",
            "i\n",
            "s\n",
            " \n",
            "f\n",
            "a\n",
            "r\n",
            " \n",
            "f\n",
            "a\n",
            "r\n",
            " \n",
            "a\n",
            "w\n",
            "a\n",
            "y\n"
          ]
        }
      ]
    },
    {
      "cell_type": "code",
      "source": [
        "for i in \"ELENE\":\n",
        "  print(i)"
      ],
      "metadata": {
        "colab": {
          "base_uri": "https://localhost:8080/"
        },
        "id": "Fs2cogtscCc_",
        "outputId": "38cbacc5-13cf-4245-a3e0-9b94e1e82834"
      },
      "execution_count": 40,
      "outputs": [
        {
          "output_type": "stream",
          "name": "stdout",
          "text": [
            "E\n",
            "L\n",
            "E\n",
            "N\n",
            "E\n"
          ]
        }
      ]
    },
    {
      "cell_type": "code",
      "source": [
        "# a list is an iterable\n",
        "\n",
        "\n",
        "numbers = [ \"1\", \"2\", \"3\", \"4\", \"5\"]\n",
        "\n",
        "#numbers.join(\"^\")\n",
        "\n",
        "#\"^\".join(map(str, numbers))\n",
        "\n",
        "\"^\".join(numbers)\n"
      ],
      "metadata": {
        "colab": {
          "base_uri": "https://localhost:8080/",
          "height": 35
        },
        "id": "Gjsu9srlcc1_",
        "outputId": "27318626-f047-4c66-e130-d21937f78856"
      },
      "execution_count": 43,
      "outputs": [
        {
          "output_type": "execute_result",
          "data": {
            "text/plain": [
              "'1^2^3^4^5'"
            ],
            "application/vnd.google.colaboratory.intrinsic+json": {
              "type": "string"
            }
          },
          "metadata": {},
          "execution_count": 43
        }
      ]
    },
    {
      "cell_type": "code",
      "source": [
        "numbers = [1,2,3,4,5]\n",
        "\n",
        "\n",
        "# lazy operation\n",
        "\n",
        "# this created a function but did not run it\n",
        "\n",
        "# this is instructions that I will use in one moment\n",
        "\n",
        "\n",
        "l=map(str, numbers)\n",
        "\n",
        "l\n"
      ],
      "metadata": {
        "colab": {
          "base_uri": "https://localhost:8080/"
        },
        "id": "rKpnvJgYdoFO",
        "outputId": "e7d7dffc-b872-4997-bfc9-01ac0617ec9b"
      },
      "execution_count": 44,
      "outputs": [
        {
          "output_type": "execute_result",
          "data": {
            "text/plain": [
              "<map at 0x7c09025e8d00>"
            ]
          },
          "metadata": {},
          "execution_count": 44
        }
      ]
    },
    {
      "cell_type": "markdown",
      "source": [
        "Next class:\n",
        "\n",
        "Talk about slicing operations\n",
        "\n"
      ],
      "metadata": {
        "id": "SbnSQ2W6cHD0"
      }
    },
    {
      "cell_type": "markdown",
      "source": [
        "#Homework\n",
        "\n",
        "\n",
        "Pick 5 functions from above (that I did not talk about) and write examples.  For example, if you pick isalpha() then write an example of how to use it."
      ],
      "metadata": {
        "id": "RC4ivsoNeAu5"
      }
    }
  ]
}