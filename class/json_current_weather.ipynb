{
  "nbformat": 4,
  "nbformat_minor": 0,
  "metadata": {
    "colab": {
      "provenance": [],
      "authorship_tag": "ABX9TyObsnXtTkt5uXgYf63jKXAT",
      "include_colab_link": true
    },
    "kernelspec": {
      "name": "python3",
      "display_name": "Python 3"
    },
    "language_info": {
      "name": "python"
    }
  },
  "cells": [
    {
      "cell_type": "markdown",
      "metadata": {
        "id": "view-in-github",
        "colab_type": "text"
      },
      "source": [
        "<a href=\"https://colab.research.google.com/github/werowe/HypatiaAcademy/blob/master/class/json_current_weather.ipynb\" target=\"_parent\"><img src=\"https://colab.research.google.com/assets/colab-badge.svg\" alt=\"Open In Colab\"/></a>"
      ]
    },
    {
      "cell_type": "markdown",
      "source": [
        "https://www.visualcrossing.com/weather/weather-data-services#"
      ],
      "metadata": {
        "id": "FOFAOLzAvlPd"
      }
    },
    {
      "cell_type": "code",
      "source": [
        "paphos=\"34.68,32.61\"\n",
        "location=paphos\n",
        "\n",
        "apikey=\"ET2UEWPH7KFHT289DDMPTQJFV\"\n",
        "\n",
        "\n",
        "url='https://weather.visualcrossing.com/VisualCrossingWebServices/rest/services/timeline/{0}?key={1}&unitGroup=metric'.format(location,apikey)\n",
        "\n",
        "import requests\n",
        "\n",
        "headers = {'Accept': 'application/json'}\n",
        "\n",
        "\n",
        "# Send the GET request\n",
        "response = requests.get(url, headers=headers)\n",
        "\n",
        "# Check if the request was successful\n",
        "if response.status_code != 200:\n",
        "    exit(1)\n",
        "    print(f\"Error. Status code: {response.status_code}\")\n",
        "\n",
        "\n"
      ],
      "metadata": {
        "id": "KtDEQi1MUjtp"
      },
      "execution_count": 27,
      "outputs": []
    },
    {
      "cell_type": "code",
      "source": [
        "weather = response.json()"
      ],
      "metadata": {
        "id": "u8ofU2yB0Vl9"
      },
      "execution_count": 28,
      "outputs": []
    },
    {
      "cell_type": "code",
      "source": [
        "# https://jsonformatter.org/json-editor\n",
        "\n",
        "for key, value in weather['days'][0].items():\n",
        "      print(key,value)\n"
      ],
      "metadata": {
        "id": "Y1156iNc28cA",
        "outputId": "b544e11a-cc4e-45d9-d59b-877be83aa81a",
        "colab": {
          "base_uri": "https://localhost:8080/"
        }
      },
      "execution_count": 29,
      "outputs": [
        {
          "output_type": "stream",
          "name": "stdout",
          "text": [
            "datetime 2024-09-12\n",
            "datetimeEpoch 1726088400\n",
            "tempmax 29.5\n",
            "tempmin 24.0\n",
            "temp 27.4\n",
            "feelslikemax 34.6\n",
            "feelslikemin 24.0\n",
            "feelslike 29.7\n",
            "dew 20.4\n",
            "humidity 66.4\n",
            "precip 0.0\n",
            "precipprob 0.0\n",
            "precipcover 0.0\n",
            "preciptype None\n",
            "snow 0.0\n",
            "snowdepth 0.0\n",
            "windgust 30.6\n",
            "windspeed 22.3\n",
            "winddir 300.1\n",
            "pressure 1010.9\n",
            "cloudcover 44.0\n",
            "visibility 18.8\n",
            "solarradiation 269.8\n",
            "solarenergy 23.4\n",
            "uvindex 9.0\n",
            "severerisk 10.0\n",
            "sunrise 06:30:35\n",
            "sunriseEpoch 1726111835\n",
            "sunset 19:00:24\n",
            "sunsetEpoch 1726156824\n",
            "moonphase 0.31\n",
            "conditions Partially cloudy\n",
            "description Partly cloudy throughout the day.\n",
            "icon partly-cloudy-day\n",
            "stations ['LCRA', 'F1785', 'LCPH']\n",
            "source comb\n",
            "hours [{'datetime': '00:00:00', 'datetimeEpoch': 1726088400, 'temp': 26.7, 'feelslike': 27.7, 'humidity': 59.75, 'dew': 18.2, 'precip': 0.0, 'precipprob': 0.0, 'snow': 0.0, 'snowdepth': 0.0, 'preciptype': None, 'windgust': 14.8, 'windspeed': 7.6, 'winddir': 69.0, 'pressure': 1010.0, 'visibility': 10.0, 'cloudcover': 29.8, 'solarradiation': 0.0, 'solarenergy': 0.0, 'uvindex': 0.0, 'severerisk': 3.0, 'conditions': 'Partially cloudy', 'icon': 'partly-cloudy-night', 'stations': ['LCRA', 'F1785', 'LCPH'], 'source': 'obs'}, {'datetime': '01:00:00', 'datetimeEpoch': 1726092000, 'temp': 25.8, 'feelslike': 25.8, 'humidity': 56.36, 'dew': 16.5, 'precip': 0.0, 'precipprob': 0.0, 'snow': 0.0, 'snowdepth': 0.0, 'preciptype': None, 'windgust': 16.6, 'windspeed': 8.8, 'winddir': 63.0, 'pressure': 1010.0, 'visibility': 10.0, 'cloudcover': 0.0, 'solarradiation': 0.0, 'solarenergy': 0.0, 'uvindex': 0.0, 'severerisk': 10.0, 'conditions': 'Clear', 'icon': 'clear-night', 'stations': ['LCRA', 'F1785', 'LCPH'], 'source': 'obs'}, {'datetime': '02:00:00', 'datetimeEpoch': 1726095600, 'temp': 25.8, 'feelslike': 25.8, 'humidity': 56.36, 'dew': 16.5, 'precip': 0.0, 'precipprob': 0.0, 'snow': 0.0, 'snowdepth': 0.0, 'preciptype': None, 'windgust': 14.0, 'windspeed': 8.8, 'winddir': 50.0, 'pressure': 1010.9, 'visibility': 10.0, 'cloudcover': 48.8, 'solarradiation': 0.0, 'solarenergy': 0.0, 'uvindex': 0.0, 'severerisk': 10.0, 'conditions': 'Partially cloudy', 'icon': 'partly-cloudy-night', 'stations': ['LCRA', 'F1785', 'LCPH'], 'source': 'obs'}, {'datetime': '03:00:00', 'datetimeEpoch': 1726099200, 'temp': 25.0, 'feelslike': 25.0, 'humidity': 59.34, 'dew': 16.5, 'precip': 0.0, 'precipprob': 0.0, 'snow': 0.0, 'snowdepth': 0.0, 'preciptype': None, 'windgust': 10.4, 'windspeed': 10.7, 'winddir': 358.0, 'pressure': 1010.0, 'visibility': 10.0, 'cloudcover': 52.7, 'solarradiation': 0.0, 'solarenergy': 0.0, 'uvindex': 0.0, 'severerisk': 3.0, 'conditions': 'Partially cloudy', 'icon': 'partly-cloudy-night', 'stations': ['LCRA', 'F1785', 'LCPH'], 'source': 'obs'}, {'datetime': '04:00:00', 'datetimeEpoch': 1726102800, 'temp': 25.0, 'feelslike': 25.0, 'humidity': 55.67, 'dew': 15.5, 'precip': 0.0, 'precipprob': 0.0, 'snow': 0.0, 'snowdepth': 0.0, 'preciptype': None, 'windgust': 8.3, 'windspeed': 13.3, 'winddir': 35.0, 'pressure': 1010.0, 'visibility': 10.0, 'cloudcover': 51.6, 'solarradiation': 0.0, 'solarenergy': 0.0, 'uvindex': 0.0, 'severerisk': 3.0, 'conditions': 'Partially cloudy', 'icon': 'partly-cloudy-night', 'stations': ['LCRA', 'F1785', 'LCPH'], 'source': 'obs'}, {'datetime': '05:00:00', 'datetimeEpoch': 1726106400, 'temp': 24.8, 'feelslike': 24.8, 'humidity': 55.17, 'dew': 15.2, 'precip': 0.0, 'precipprob': 0.0, 'snow': 0.0, 'snowdepth': 0.0, 'preciptype': None, 'windgust': 7.2, 'windspeed': 11.7, 'winddir': 9.0, 'pressure': 1010.0, 'visibility': 10.0, 'cloudcover': 64.6, 'solarradiation': 0.0, 'solarenergy': 0.0, 'uvindex': 0.0, 'severerisk': 3.0, 'conditions': 'Partially cloudy', 'icon': 'partly-cloudy-night', 'stations': ['LCRA', 'F1785', 'LCPH'], 'source': 'obs'}, {'datetime': '06:00:00', 'datetimeEpoch': 1726110000, 'temp': 24.0, 'feelslike': 24.0, 'humidity': 58.12, 'dew': 15.2, 'precip': 0.0, 'precipprob': 0.0, 'snow': 0.0, 'snowdepth': 0.0, 'preciptype': None, 'windgust': 7.9, 'windspeed': 13.8, 'winddir': 5.0, 'pressure': 1010.0, 'visibility': 10.0, 'cloudcover': 68.0, 'solarradiation': 0.0, 'solarenergy': 0.0, 'uvindex': 0.0, 'severerisk': 3.0, 'conditions': 'Partially cloudy', 'icon': 'partly-cloudy-night', 'stations': ['LCRA', 'F1785', 'LCPH'], 'source': 'obs'}, {'datetime': '07:00:00', 'datetimeEpoch': 1726113600, 'temp': 24.0, 'feelslike': 24.0, 'humidity': 54.02, 'dew': 14.1, 'precip': 0.0, 'precipprob': 0.0, 'snow': 0.0, 'snowdepth': 0.0, 'preciptype': None, 'windgust': 7.2, 'windspeed': 10.4, 'winddir': 359.0, 'pressure': 1010.0, 'visibility': 10.0, 'cloudcover': 60.2, 'solarradiation': 12.0, 'solarenergy': 0.0, 'uvindex': 0.0, 'severerisk': 3.0, 'conditions': 'Partially cloudy', 'icon': 'partly-cloudy-day', 'stations': ['LCRA', 'F1785', 'LCPH'], 'source': 'obs'}, {'datetime': '08:00:00', 'datetimeEpoch': 1726117200, 'temp': 27.0, 'feelslike': 27.0, 'humidity': 43.84, 'dew': 13.6, 'precip': 0.0, 'precipprob': 0.0, 'snow': 0.0, 'snowdepth': 0.0, 'preciptype': None, 'windgust': 6.1, 'windspeed': 10.2, 'winddir': 9.0, 'pressure': 1011.0, 'visibility': 10.0, 'cloudcover': 65.0, 'solarradiation': 116.0, 'solarenergy': 0.4, 'uvindex': 1.0, 'severerisk': 3.0, 'conditions': 'Partially cloudy', 'icon': 'partly-cloudy-day', 'stations': ['LCRA', 'F1785', 'LCPH'], 'source': 'obs'}, {'datetime': '09:00:00', 'datetimeEpoch': 1726120800, 'temp': 28.7, 'feelslike': 29.9, 'humidity': 55.78, 'dew': 19.0, 'precip': 0.0, 'precipprob': 0.0, 'snow': 0.0, 'snowdepth': 0.0, 'preciptype': None, 'windgust': 5.0, 'windspeed': 1.1, 'winddir': 326.0, 'pressure': 1012.0, 'visibility': 24.1, 'cloudcover': 51.0, 'solarradiation': 352.0, 'solarenergy': 1.3, 'uvindex': 4.0, 'severerisk': 3.0, 'conditions': 'Partially cloudy', 'icon': 'partly-cloudy-day', 'stations': None, 'source': 'fcst'}, {'datetime': '10:00:00', 'datetimeEpoch': 1726124400, 'temp': 29.1, 'feelslike': 31.0, 'humidity': 59.09, 'dew': 20.3, 'precip': 0.0, 'precipprob': 0.0, 'snow': 0.0, 'snowdepth': 0.0, 'preciptype': None, 'windgust': 6.8, 'windspeed': 4.0, 'winddir': 233.3, 'pressure': 1012.0, 'visibility': 24.1, 'cloudcover': 29.5, 'solarradiation': 549.0, 'solarenergy': 2.0, 'uvindex': 5.0, 'severerisk': 3.0, 'conditions': 'Partially cloudy', 'icon': 'partly-cloudy-day', 'stations': None, 'source': 'fcst'}, {'datetime': '11:00:00', 'datetimeEpoch': 1726128000, 'temp': 29.4, 'feelslike': 32.4, 'humidity': 64.07, 'dew': 21.9, 'precip': 0.0, 'precipprob': 0.0, 'snow': 0.0, 'snowdepth': 0.0, 'preciptype': None, 'windgust': 9.7, 'windspeed': 6.5, 'winddir': 218.6, 'pressure': 1012.0, 'visibility': 24.1, 'cloudcover': 11.8, 'solarradiation': 710.0, 'solarenergy': 2.6, 'uvindex': 7.0, 'severerisk': 10.0, 'conditions': 'Clear', 'icon': 'clear-day', 'stations': None, 'source': 'fcst'}, {'datetime': '12:00:00', 'datetimeEpoch': 1726131600, 'temp': 29.4, 'feelslike': 33.3, 'humidity': 68.91, 'dew': 23.1, 'precip': 0.0, 'precipprob': 0.0, 'snow': 0.0, 'snowdepth': 0.0, 'preciptype': None, 'windgust': 12.6, 'windspeed': 7.9, 'winddir': 217.8, 'pressure': 1012.0, 'visibility': 24.1, 'cloudcover': 13.6, 'solarradiation': 820.0, 'solarenergy': 3.0, 'uvindex': 8.0, 'severerisk': 10.0, 'conditions': 'Clear', 'icon': 'clear-day', 'stations': None, 'source': 'fcst'}, {'datetime': '13:00:00', 'datetimeEpoch': 1726135200, 'temp': 29.5, 'feelslike': 34.0, 'humidity': 71.04, 'dew': 23.7, 'precip': 0.0, 'precipprob': 0.0, 'snow': 0.0, 'snowdepth': 0.0, 'preciptype': None, 'windgust': 14.4, 'windspeed': 10.1, 'winddir': 218.6, 'pressure': 1012.0, 'visibility': 24.1, 'cloudcover': 45.0, 'solarradiation': 870.0, 'solarenergy': 3.1, 'uvindex': 9.0, 'severerisk': 10.0, 'conditions': 'Partially cloudy', 'icon': 'partly-cloudy-day', 'stations': None, 'source': 'fcst'}, {'datetime': '14:00:00', 'datetimeEpoch': 1726138800, 'temp': 29.5, 'feelslike': 34.3, 'humidity': 72.77, 'dew': 24.1, 'precip': 0.0, 'precipprob': 0.0, 'snow': 0.0, 'snowdepth': 0.0, 'preciptype': None, 'windgust': 16.2, 'windspeed': 11.2, 'winddir': 231.6, 'pressure': 1011.0, 'visibility': 24.1, 'cloudcover': 58.4, 'solarradiation': 856.0, 'solarenergy': 3.1, 'uvindex': 9.0, 'severerisk': 10.0, 'conditions': 'Partially cloudy', 'icon': 'partly-cloudy-day', 'stations': None, 'source': 'fcst'}, {'datetime': '15:00:00', 'datetimeEpoch': 1726142400, 'temp': 29.4, 'feelslike': 34.6, 'humidity': 74.97, 'dew': 24.5, 'precip': 0.0, 'precipprob': 0.0, 'snow': 0.0, 'snowdepth': 0.0, 'preciptype': None, 'windgust': 20.5, 'windspeed': 14.4, 'winddir': 238.9, 'pressure': 1011.0, 'visibility': 24.1, 'cloudcover': 68.0, 'solarradiation': 777.0, 'solarenergy': 2.8, 'uvindex': 8.0, 'severerisk': 10.0, 'conditions': 'Partially cloudy', 'icon': 'partly-cloudy-day', 'stations': None, 'source': 'fcst'}, {'datetime': '16:00:00', 'datetimeEpoch': 1726146000, 'temp': 29.3, 'feelslike': 34.1, 'humidity': 74.06, 'dew': 24.2, 'precip': 0.0, 'precipprob': 0.0, 'snow': 0.0, 'snowdepth': 0.0, 'preciptype': None, 'windgust': 21.6, 'windspeed': 14.8, 'winddir': 248.5, 'pressure': 1011.0, 'visibility': 24.1, 'cloudcover': 47.4, 'solarradiation': 641.0, 'solarenergy': 2.3, 'uvindex': 6.0, 'severerisk': 10.0, 'conditions': 'Partially cloudy', 'icon': 'partly-cloudy-day', 'stations': None, 'source': 'fcst'}, {'datetime': '17:00:00', 'datetimeEpoch': 1726149600, 'temp': 29.0, 'feelslike': 33.8, 'humidity': 76.27, 'dew': 24.4, 'precip': 0.0, 'precipprob': 0.0, 'snow': 0.0, 'snowdepth': 0.0, 'preciptype': None, 'windgust': 23.0, 'windspeed': 16.6, 'winddir': 260.0, 'pressure': 1011.0, 'visibility': 24.1, 'cloudcover': 35.5, 'solarradiation': 461.0, 'solarenergy': 1.7, 'uvindex': 5.0, 'severerisk': 10.0, 'conditions': 'Partially cloudy', 'icon': 'partly-cloudy-day', 'stations': None, 'source': 'fcst'}, {'datetime': '18:00:00', 'datetimeEpoch': 1726153200, 'temp': 28.4, 'feelslike': 33.0, 'humidity': 79.92, 'dew': 24.6, 'precip': 0.0, 'precipprob': 0.0, 'snow': 0.0, 'snowdepth': 0.0, 'preciptype': None, 'windgust': 24.8, 'windspeed': 18.0, 'winddir': 272.8, 'pressure': 1011.0, 'visibility': 24.1, 'cloudcover': 48.0, 'solarradiation': 255.0, 'solarenergy': 0.9, 'uvindex': 3.0, 'severerisk': 10.0, 'conditions': 'Partially cloudy', 'icon': 'partly-cloudy-day', 'stations': None, 'source': 'fcst'}, {'datetime': '19:00:00', 'datetimeEpoch': 1726156800, 'temp': 27.9, 'feelslike': 31.8, 'humidity': 80.33, 'dew': 24.2, 'precip': 0.0, 'precipprob': 0.0, 'snow': 0.0, 'snowdepth': 0.0, 'preciptype': None, 'windgust': 27.0, 'windspeed': 19.8, 'winddir': 284.5, 'pressure': 1011.0, 'visibility': 24.1, 'cloudcover': 48.4, 'solarradiation': 57.0, 'solarenergy': 0.2, 'uvindex': 1.0, 'severerisk': 10.0, 'conditions': 'Partially cloudy', 'icon': 'partly-cloudy-day', 'stations': None, 'source': 'fcst'}, {'datetime': '20:00:00', 'datetimeEpoch': 1726160400, 'temp': 27.6, 'feelslike': 30.9, 'humidity': 78.86, 'dew': 23.6, 'precip': 0.0, 'precipprob': 0.0, 'snow': 0.0, 'snowdepth': 0.0, 'preciptype': None, 'windgust': 26.6, 'windspeed': 19.4, 'winddir': 297.0, 'pressure': 1011.0, 'visibility': 24.1, 'cloudcover': 26.8, 'solarradiation': 0.0, 'solarenergy': 0.0, 'uvindex': 0.0, 'severerisk': 10.0, 'conditions': 'Partially cloudy', 'icon': 'partly-cloudy-night', 'stations': None, 'source': 'fcst'}, {'datetime': '21:00:00', 'datetimeEpoch': 1726164000, 'temp': 27.4, 'feelslike': 30.4, 'humidity': 78.83, 'dew': 23.4, 'precip': 0.0, 'precipprob': 0.0, 'snow': 0.0, 'snowdepth': 0.0, 'preciptype': None, 'windgust': 26.6, 'windspeed': 19.4, 'winddir': 297.8, 'pressure': 1011.0, 'visibility': 24.1, 'cloudcover': 35.2, 'solarradiation': 0.0, 'solarenergy': 0.0, 'uvindex': 0.0, 'severerisk': 10.0, 'conditions': 'Partially cloudy', 'icon': 'partly-cloudy-night', 'stations': None, 'source': 'fcst'}, {'datetime': '22:00:00', 'datetimeEpoch': 1726167600, 'temp': 27.1, 'feelslike': 29.9, 'humidity': 80.71, 'dew': 23.5, 'precip': 0.0, 'precipprob': 0.0, 'snow': 0.0, 'snowdepth': 0.0, 'preciptype': None, 'windgust': 29.5, 'windspeed': 21.6, 'winddir': 301.1, 'pressure': 1011.0, 'visibility': 24.1, 'cloudcover': 45.5, 'solarradiation': 0.0, 'solarenergy': 0.0, 'uvindex': 0.0, 'severerisk': 10.0, 'conditions': 'Partially cloudy', 'icon': 'partly-cloudy-night', 'stations': None, 'source': 'fcst'}, {'datetime': '23:00:00', 'datetimeEpoch': 1726171200, 'temp': 26.8, 'feelslike': 29.2, 'humidity': 80.19, 'dew': 23.1, 'precip': 0.0, 'precipprob': 0.0, 'snow': 0.0, 'snowdepth': 0.0, 'preciptype': None, 'windgust': 30.6, 'windspeed': 22.3, 'winddir': 305.1, 'pressure': 1011.0, 'visibility': 24.1, 'cloudcover': 50.6, 'solarradiation': 0.0, 'solarenergy': 0.0, 'uvindex': 0.0, 'severerisk': 10.0, 'conditions': 'Partially cloudy', 'icon': 'partly-cloudy-night', 'stations': None, 'source': 'fcst'}]\n"
          ]
        }
      ]
    },
    {
      "cell_type": "code",
      "source": [
        "for hour in weather['days'][0]['hours']:\n",
        "  print(hour['datetime'])"
      ],
      "metadata": {
        "id": "RG4ePCVL5HKk",
        "outputId": "38893cb6-2e38-4cc6-8eab-3fa503f3f03b",
        "colab": {
          "base_uri": "https://localhost:8080/"
        }
      },
      "execution_count": 31,
      "outputs": [
        {
          "output_type": "stream",
          "name": "stdout",
          "text": [
            "00:00:00\n",
            "01:00:00\n",
            "02:00:00\n",
            "03:00:00\n",
            "04:00:00\n",
            "05:00:00\n",
            "06:00:00\n",
            "07:00:00\n",
            "08:00:00\n",
            "09:00:00\n",
            "10:00:00\n",
            "11:00:00\n",
            "12:00:00\n",
            "13:00:00\n",
            "14:00:00\n",
            "15:00:00\n",
            "16:00:00\n",
            "17:00:00\n",
            "18:00:00\n",
            "19:00:00\n",
            "20:00:00\n",
            "21:00:00\n",
            "22:00:00\n",
            "23:00:00\n"
          ]
        }
      ]
    },
    {
      "cell_type": "code",
      "source": [
        "import json\n",
        "\n",
        "weather.keys()\n"
      ],
      "metadata": {
        "id": "1rEpnUF70sE8",
        "outputId": "6ed0aa6d-d5f5-4994-b347-270b0c1d97be",
        "colab": {
          "base_uri": "https://localhost:8080/"
        }
      },
      "execution_count": 10,
      "outputs": [
        {
          "output_type": "execute_result",
          "data": {
            "text/plain": [
              "dict_keys(['queryCost', 'latitude', 'longitude', 'resolvedAddress', 'address', 'timezone', 'tzoffset', 'description', 'days', 'alerts', 'stations', 'currentConditions'])"
            ]
          },
          "metadata": {},
          "execution_count": 10
        }
      ]
    },
    {
      "cell_type": "code",
      "source": [
        "weather['currentConditions']"
      ],
      "metadata": {
        "id": "prDdIOIA1TGc",
        "outputId": "b7c7d619-4f1b-4232-9607-692b9d03ac9b",
        "colab": {
          "base_uri": "https://localhost:8080/"
        }
      },
      "execution_count": 11,
      "outputs": [
        {
          "output_type": "execute_result",
          "data": {
            "text/plain": [
              "{'datetime': '08:30:00',\n",
              " 'datetimeEpoch': 1726119000,\n",
              " 'temp': 84.2,\n",
              " 'feelslike': 83.5,\n",
              " 'humidity': 39.6,\n",
              " 'dew': 57.0,\n",
              " 'precip': 0.0,\n",
              " 'precipprob': 0.0,\n",
              " 'snow': 0.0,\n",
              " 'snowdepth': 0.0,\n",
              " 'preciptype': None,\n",
              " 'windgust': 0.9,\n",
              " 'windspeed': 3.9,\n",
              " 'winddir': 346.0,\n",
              " 'pressure': 1011.0,\n",
              " 'visibility': 6.2,\n",
              " 'cloudcover': 51.0,\n",
              " 'solarradiation': 352.0,\n",
              " 'solarenergy': 1.3,\n",
              " 'uvindex': 4.0,\n",
              " 'conditions': 'Partially cloudy',\n",
              " 'icon': 'partly-cloudy-day',\n",
              " 'stations': ['LCRA', 'F1785', 'LCPH'],\n",
              " 'source': 'obs',\n",
              " 'sunrise': '06:30:35',\n",
              " 'sunriseEpoch': 1726111835,\n",
              " 'sunset': '19:00:24',\n",
              " 'sunsetEpoch': 1726156824,\n",
              " 'moonphase': 0.31}"
            ]
          },
          "metadata": {},
          "execution_count": 11
        }
      ]
    }
  ]
}