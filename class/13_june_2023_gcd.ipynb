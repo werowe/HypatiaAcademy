{
  "nbformat": 4,
  "nbformat_minor": 0,
  "metadata": {
    "colab": {
      "provenance": [],
      "authorship_tag": "ABX9TyNTBBuOHxh6bgkURUwPfB0q",
      "include_colab_link": true
    },
    "kernelspec": {
      "name": "python3",
      "display_name": "Python 3"
    },
    "language_info": {
      "name": "python"
    }
  },
  "cells": [
    {
      "cell_type": "markdown",
      "metadata": {
        "id": "view-in-github",
        "colab_type": "text"
      },
      "source": [
        "<a href=\"https://colab.research.google.com/github/werowe/HypatiaAcademy/blob/master/class/13_june_2023_gcd.ipynb\" target=\"_parent\"><img src=\"https://colab.research.google.com/assets/colab-badge.svg\" alt=\"Open In Colab\"/></a>"
      ]
    },
    {
      "cell_type": "code",
      "execution_count": 16,
      "metadata": {
        "colab": {
          "base_uri": "https://localhost:8080/"
        },
        "id": "XW6I0XOG3Ah9",
        "outputId": "b3384222-ba17-4cbf-b05e-782deb6f4b7c"
      },
      "outputs": [
        {
          "output_type": "stream",
          "name": "stdout",
          "text": [
            "\n",
            "calculating \ta=45 \tb=17 \tcalc=28\n",
            "\n",
            "calculating \ta=28 \tb=17 \tcalc=11\n",
            "\n",
            "calculating \ta=17 \tb=11 \tcalc=6\n",
            "\n",
            "calculating \ta=11 \tb=6 \tcalc=5\n",
            "\n",
            "calculating \ta=6 \tb=5 \tcalc=1\n",
            "\n",
            "calculating \ta=5 \tb=1 \tcalc=4\n",
            "\n",
            "calculating \ta=4 \tb=1 \tcalc=3\n",
            "\n",
            "calculating \ta=3 \tb=1 \tcalc=2\n",
            "\n",
            "calculating \ta=2 \tb=1 \tcalc=1\n",
            "\n",
            "done \t\ta=1 \tb=1 \tcalc=1\n",
            "\n",
            "GCD: 1\n",
            "\n",
            "check cgd using math.gcd()= 1\n"
          ]
        }
      ],
      "source": [
        "\n",
        "import math\n",
        "\n",
        "def find_gcd(a, b):\n",
        "    if a < b:\n",
        "        a, b = b, a  # Ensure a is the largest number\n",
        "\n",
        "    count = 0\n",
        "\n",
        "    while True:\n",
        "\n",
        "        if a == b:\n",
        "           print(\"\\ndone \\t\\ta={} \\tb={} \\tcalc={}\".format(a,b,gcd))\n",
        "           return gcd\n",
        "        gcd = a - b\n",
        "\n",
        "        print(\"\\ncalculating \\ta={} \\tb={} \\tcalc={}\".format(a,b,gcd))\n",
        "\n",
        "        if gcd < b:\n",
        "           a, b = b, gcd\n",
        "        else:\n",
        "           a = gcd\n",
        "\n",
        "        count = count + 1\n",
        "\n",
        "\n",
        "a = 17\n",
        "b = 45\n",
        "result = find_gcd(a, b)\n",
        "print(\"\\nGCD:\", result)\n",
        "\n",
        "print(\"\\ncheck cgd using math.gcd()=\", math.gcd(a,b))\n"
      ]
    }
  ]
}