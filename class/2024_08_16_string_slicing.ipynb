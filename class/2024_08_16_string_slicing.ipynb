{
  "nbformat": 4,
  "nbformat_minor": 0,
  "metadata": {
    "colab": {
      "provenance": [],
      "authorship_tag": "ABX9TyMvLAE9O02DOVnZKmREACXx",
      "include_colab_link": true
    },
    "kernelspec": {
      "name": "python3",
      "display_name": "Python 3"
    },
    "language_info": {
      "name": "python"
    }
  },
  "cells": [
    {
      "cell_type": "markdown",
      "metadata": {
        "id": "view-in-github",
        "colab_type": "text"
      },
      "source": [
        "<a href=\"https://colab.research.google.com/github/werowe/HypatiaAcademy/blob/master/class/2024_08_16_string_slicing.ipynb\" target=\"_parent\"><img src=\"https://colab.research.google.com/assets/colab-badge.svg\" alt=\"Open In Colab\"/></a>"
      ]
    },
    {
      "cell_type": "markdown",
      "source": [
        "#String Slicing Operations\n",
        "\n",
        "To **slice** means to take a subset.  \n",
        "\n",
        "The basic format is:\n",
        "\n",
        "```python\n",
        "\n",
        "string[from:to:step]\n",
        "```"
      ],
      "metadata": {
        "id": "z4gt-UyXVuDX"
      }
    },
    {
      "cell_type": "code",
      "source": [
        "#01234567890123456789012345678\n",
        "#          1         2\n",
        "\n",
        "#The dog and cat are playing.\n",
        "\n",
        "words=\"The dog and cat are playing.\""
      ],
      "metadata": {
        "id": "0udTtDIbWJCd"
      },
      "execution_count": null,
      "outputs": []
    },
    {
      "cell_type": "code",
      "source": [
        "# not that you cannot use str as a variable name.  because that is an object name\n",
        "\n",
        "str = \"something\""
      ],
      "metadata": {
        "id": "alBx574wWw5-"
      },
      "execution_count": null,
      "outputs": []
    },
    {
      "cell_type": "code",
      "source": [
        "# first letter\n",
        "words[0]\n"
      ],
      "metadata": {
        "colab": {
          "base_uri": "https://localhost:8080/",
          "height": 35
        },
        "id": "Z0IlErnQWZmC",
        "outputId": "004d1391-7aa3-4321-bce7-198e859f1037"
      },
      "execution_count": null,
      "outputs": [
        {
          "output_type": "execute_result",
          "data": {
            "text/plain": [
              "'T'"
            ],
            "application/vnd.google.colaboratory.intrinsic+json": {
              "type": "string"
            }
          },
          "metadata": {},
          "execution_count": 8
        }
      ]
    },
    {
      "cell_type": "code",
      "source": [
        "#This is still the first letter.\n",
        "words[0:1]"
      ],
      "metadata": {
        "colab": {
          "base_uri": "https://localhost:8080/",
          "height": 35
        },
        "id": "Mi7WoVaXW6Re",
        "outputId": "80dea286-dba1-4a62-8b0c-c587b2122125"
      },
      "execution_count": null,
      "outputs": [
        {
          "output_type": "execute_result",
          "data": {
            "text/plain": [
              "'T'"
            ],
            "application/vnd.google.colaboratory.intrinsic+json": {
              "type": "string"
            }
          },
          "metadata": {},
          "execution_count": 9
        }
      ]
    },
    {
      "cell_type": "code",
      "source": [
        "# for example.  from positions 7 to 10\n",
        "\n",
        "#01234567890123456789012345678\n",
        "#The dog and cat are playing.\n",
        "\n",
        "print(words[20])\n",
        "print(words[25])\n",
        "print(words[20:25])"
      ],
      "metadata": {
        "colab": {
          "base_uri": "https://localhost:8080/"
        },
        "id": "GGYJY37UXdTi",
        "outputId": "65973367-7c6f-4742-804e-934c01146a97"
      },
      "execution_count": null,
      "outputs": [
        {
          "output_type": "stream",
          "name": "stdout",
          "text": [
            "p\n",
            "n\n",
            "playi\n"
          ]
        }
      ]
    },
    {
      "cell_type": "code",
      "source": [
        "#print every letter\n",
        "\n",
        "print(words[0:len(words):1])\n"
      ],
      "metadata": {
        "colab": {
          "base_uri": "https://localhost:8080/"
        },
        "id": "RzAA_0jnYmDJ",
        "outputId": "b80950e2-8c4f-4629-fc54-3a2dde07b3ae"
      },
      "execution_count": null,
      "outputs": [
        {
          "output_type": "stream",
          "name": "stdout",
          "text": [
            "The dog and cat are playing.\n"
          ]
        }
      ]
    },
    {
      "cell_type": "code",
      "source": [
        "#print every other letter\n",
        "\n",
        "print(words[0:len(words):2])"
      ],
      "metadata": {
        "colab": {
          "base_uri": "https://localhost:8080/"
        },
        "id": "I9rTxaRHY4UF",
        "outputId": "d34d87e3-0f62-4424-8f2a-14d7a399225e"
      },
      "execution_count": null,
      "outputs": [
        {
          "output_type": "stream",
          "name": "stdout",
          "text": [
            "Tedgadctaepaig\n"
          ]
        }
      ]
    },
    {
      "cell_type": "code",
      "source": [
        "#go backwards\n",
        "\n",
        "words[-1]"
      ],
      "metadata": {
        "colab": {
          "base_uri": "https://localhost:8080/",
          "height": 35
        },
        "id": "NYzEQE1EZFUU",
        "outputId": "e99796b8-fded-44f7-d2c3-e09295d4ed6b"
      },
      "execution_count": null,
      "outputs": [
        {
          "output_type": "execute_result",
          "data": {
            "text/plain": [
              "'.'"
            ],
            "application/vnd.google.colaboratory.intrinsic+json": {
              "type": "string"
            }
          },
          "metadata": {},
          "execution_count": 25
        }
      ]
    },
    {
      "cell_type": "code",
      "source": [
        "#go backwards\n",
        "\n",
        "words[-5:-1]"
      ],
      "metadata": {
        "colab": {
          "base_uri": "https://localhost:8080/",
          "height": 35
        },
        "id": "PqtcCnZzZKyU",
        "outputId": "4ff096e6-e1f4-4111-d16d-31b027922ddc"
      },
      "execution_count": null,
      "outputs": [
        {
          "output_type": "execute_result",
          "data": {
            "text/plain": [
              "'ying'"
            ],
            "application/vnd.google.colaboratory.intrinsic+json": {
              "type": "string"
            }
          },
          "metadata": {},
          "execution_count": 26
        }
      ]
    },
    {
      "cell_type": "markdown",
      "source": [
        "# All String Functions.  Where is left, right, mid?\n",
        "\n",
        "\n",
        "<font color='red'>Show in Google Sheets</font>\n",
        "https://docs.google.com/spreadsheets/d/1cst5mo0TLQ8NhaQoOnFNkLo5YdZ6JiK-XylPT0GTe5E/edit?usp=sharing\n",
        "\n",
        "\n",
        "\n",
        "Other programming languages have left(),right(), mid().  Why doesn't Python.  Let's write our own.\n",
        "\n",
        "| capitalize  | casefold    | center      | count       |\n",
        "|-------------|-------------|-------------|-------------|\n",
        "| encode      | endswith    | expandtabs  | find        |\n",
        "| format      | format_map  | index       | isalnum     |\n",
        "| isalpha     | isascii     | isdecimal   | isdigit     |\n",
        "| isidentifier| islower     | isnumeric   | isprintable |\n",
        "| isspace     | istitle     | isupper     | join        |\n",
        "| ljust       | lower       | lstrip      | maketrans   |\n",
        "| partition   | removeprefix| removesuffix| replace     |\n",
        "| rfind       | rindex      | rjust       | rpartition  |\n",
        "| rsplit      | rstrip      | split       | splitlines  |\n",
        "| startswith  | strip       | swapcase    | title       |\n",
        "| translate   | upper       | zfill       |             |\n"
      ],
      "metadata": {
        "id": "g80bnH8cZ74r"
      }
    },
    {
      "cell_type": "code",
      "source": [
        "#Here is a function to return the leftmost 5 characters\n",
        "\n",
        "def left(string,letters):\n",
        "\n",
        "  return string[0:letters]\n",
        "\n",
        "left(\"abcdefghijklmnop\",5)"
      ],
      "metadata": {
        "colab": {
          "base_uri": "https://localhost:8080/",
          "height": 35
        },
        "id": "1N-J1GdUaDfH",
        "outputId": "ac0e2901-b2aa-43b8-a436-8d18f2a54986"
      },
      "execution_count": null,
      "outputs": [
        {
          "output_type": "execute_result",
          "data": {
            "text/plain": [
              "'abcde'"
            ],
            "application/vnd.google.colaboratory.intrinsic+json": {
              "type": "string"
            }
          },
          "metadata": {},
          "execution_count": 31
        }
      ]
    },
    {
      "cell_type": "markdown",
      "source": [
        "#Homework\n",
        "\n",
        "Write these two functions:\n",
        "\n",
        "```\n",
        "mid(string, start, stop)\n",
        "\n",
        "right(how many)\n",
        "```\n",
        "\n",
        "## Extra credit\n",
        "\n",
        "Write a function called slice(args) where args is the regular slicing notation.  In other words pass in args=\"from:to:step\" and create:\n",
        "\n",
        "from, to, step = args.split(\":\")\n",
        "\n",
        "\n",
        "\n"
      ],
      "metadata": {
        "id": "KWHAMtTbaq__"
      }
    },
    {
      "cell_type": "code",
      "source": [
        "args=\"from:to:step\""
      ],
      "metadata": {
        "id": "RvyXMO7cYyYG"
      },
      "execution_count": 1,
      "outputs": []
    },
    {
      "cell_type": "code",
      "source": [
        "frm, to, step = args.split(\":\")"
      ],
      "metadata": {
        "id": "_uZ4IPMFYo08"
      },
      "execution_count": 2,
      "outputs": []
    },
    {
      "cell_type": "code",
      "source": [
        "frm, to, step"
      ],
      "metadata": {
        "id": "gGr21QGXY95f",
        "outputId": "5f2d97a2-c3ad-4586-d4d0-12ac9e801b29",
        "colab": {
          "base_uri": "https://localhost:8080/"
        }
      },
      "execution_count": 3,
      "outputs": [
        {
          "output_type": "execute_result",
          "data": {
            "text/plain": [
              "('from', 'to', 'step')"
            ]
          },
          "metadata": {},
          "execution_count": 3
        }
      ]
    }
  ]
}