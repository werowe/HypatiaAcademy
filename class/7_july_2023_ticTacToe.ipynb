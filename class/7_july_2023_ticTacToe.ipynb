{
  "cells": [
    {
      "cell_type": "markdown",
      "metadata": {
        "id": "view-in-github",
        "colab_type": "text"
      },
      "source": [
        "<a href=\"https://colab.research.google.com/github/werowe/HypatiaAcademy/blob/master/class/7_july_2023_ticTacToe.ipynb\" target=\"_parent\"><img src=\"https://colab.research.google.com/assets/colab-badge.svg\" alt=\"Open In Colab\"/></a>"
      ]
    },
    {
      "cell_type": "code",
      "source": [
        "import random\n",
        "\n",
        "# fill board with random values of x or o\n",
        "\n",
        "\n",
        "  # create an empty board\n",
        "board = [[None,None,None],\n",
        "    [None,None,None],\n",
        "    [None,None,None]]\n",
        "\n",
        "allFilled=False\n",
        "player=0\n",
        "\n",
        "\n",
        "while not allFilled :\n",
        "  col=random.randint(0,2)\n",
        "  row=random.randint(0,2)\n",
        "\n",
        "  # only put value if board[row][column] is empty\n",
        "\n",
        "  #if board[col][row] == None:\n",
        "  if board[row][col] == None:\n",
        "\n",
        "    # x goes first and then o and then x and then o\n",
        "    # so switch players each time\n",
        "    if player == 0:\n",
        "      player = 1\n",
        "      square='x'\n",
        "    else:\n",
        "      player = 0\n",
        "      square='o'\n",
        "\n",
        "    board[row][col]=square\n",
        "\n",
        "    for b in board:\n",
        "        print(b)\n",
        "\n",
        "    print(\"\\n\")\n",
        "\n",
        "        # check if all values are filled\n",
        "\n",
        "    checkFilled=False\n",
        "\n",
        "    for r in range(3):\n",
        "      for c in range(3):\n",
        "        if board[r][c] == None:\n",
        "           checkFilled=True\n",
        "\n",
        "    if checkFilled==False:\n",
        "        allFilled=True\n"
      ],
      "metadata": {
        "id": "1Fg5fXTPbhAK",
        "outputId": "74c8f121-b0bf-4091-8c8a-50dd459b3d8f",
        "colab": {
          "base_uri": "https://localhost:8080/"
        }
      },
      "execution_count": 1,
      "outputs": [
        {
          "output_type": "stream",
          "name": "stdout",
          "text": [
            "['x', None, None]\n",
            "[None, None, None]\n",
            "[None, None, None]\n",
            "\n",
            "\n",
            "['x', None, None]\n",
            "[None, None, 'o']\n",
            "[None, None, None]\n",
            "\n",
            "\n",
            "['x', None, 'x']\n",
            "[None, None, 'o']\n",
            "[None, None, None]\n",
            "\n",
            "\n",
            "['x', None, 'x']\n",
            "[None, None, 'o']\n",
            "[None, None, 'o']\n",
            "\n",
            "\n",
            "['x', None, 'x']\n",
            "[None, None, 'o']\n",
            "[None, 'x', 'o']\n",
            "\n",
            "\n",
            "['x', None, 'x']\n",
            "[None, None, 'o']\n",
            "['o', 'x', 'o']\n",
            "\n",
            "\n",
            "['x', None, 'x']\n",
            "[None, 'x', 'o']\n",
            "['o', 'x', 'o']\n",
            "\n",
            "\n",
            "['x', 'o', 'x']\n",
            "[None, 'x', 'o']\n",
            "['o', 'x', 'o']\n",
            "\n",
            "\n",
            "['x', 'o', 'x']\n",
            "['x', 'x', 'o']\n",
            "['o', 'x', 'o']\n",
            "\n",
            "\n"
          ]
        }
      ]
    }
  ],
  "metadata": {
    "kernelspec": {
      "display_name": "Python 3",
      "language": "python",
      "name": "python3"
    },
    "language_info": {
      "codemirror_mode": {
        "name": "ipython",
        "version": 3
      },
      "file_extension": ".py",
      "mimetype": "text/x-python",
      "name": "python",
      "nbconvert_exporter": "python",
      "pygments_lexer": "ipython3",
      "version": "3.4.4"
    },
    "colab": {
      "provenance": [],
      "include_colab_link": true
    }
  },
  "nbformat": 4,
  "nbformat_minor": 0
}