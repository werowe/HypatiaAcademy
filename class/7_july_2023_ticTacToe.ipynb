{
  "cells": [
    {
      "cell_type": "markdown",
      "metadata": {
        "id": "view-in-github",
        "colab_type": "text"
      },
      "source": [
        "<a href=\"https://colab.research.google.com/github/werowe/HypatiaAcademy/blob/master/class/7_july_2023_ticTacToe.ipynb\" target=\"_parent\"><img src=\"https://colab.research.google.com/assets/colab-badge.svg\" alt=\"Open In Colab\"/></a>"
      ]
    },
    {
      "cell_type": "code",
      "source": [
        "import random\n",
        "\n",
        "\n",
        "\n",
        "# make an x or an o\n",
        "\n",
        "def square():\n",
        "\n",
        "  number=random.randint(0,1)\n",
        "\n",
        "  if number == 0:\n",
        "    square = \"x\"\n",
        "  else:\n",
        "    square = \"o\"\n",
        "\n",
        "  return square\n",
        "\n",
        "'''\n",
        "check if winner.  there are 8 ways to win.\n",
        "check:\n",
        "\n",
        "1.  all rows values the same\n",
        "2.  all column values the same\n",
        "3.  all diagonal values the same for each diagonal\n",
        "\n",
        "'''\n",
        "\n",
        "def isWinner(t):\n",
        "\n",
        "  winner=False\n",
        "  msg=\"no winner\"\n",
        "\n",
        "  # check all columns are the same\n",
        "\n",
        "  for i in range(3):\n",
        "    if t[0][i]==t[1][i]==t[2][i]:\n",
        "      msg=(\"column winner \", (t[0][i],t[1][i],t[2][i]), \" column=\", i+1)\n",
        "      winner = True\n",
        "\n",
        "  # check all rows are the same\n",
        "\n",
        "  for i in range(3):\n",
        "    if t[i][0]==t[i][1]==t[i][2]:\n",
        "       msg=(\"row winner \", t[i], \" row=\", i+1)\n",
        "       winner = True\n",
        "\n",
        "  # check diagonals all are the same\n",
        "\n",
        "  if t[0][0]==t[1][1]==t[2][2]:\n",
        "     msg=(\"diagonal winner \", t[0][0],t[1][1],t[2][2])\n",
        "     winner = True\n",
        "\n",
        "  if t[2][0]==t[1][1]==t[0][2]:\n",
        "     msg=(\"diagonal winner \", t[2][0],t[1][1],t[0][2])\n",
        "     winner = True\n",
        "\n",
        "  return msg,winner\n",
        "\n",
        "  def fillBoard():\n",
        "\n",
        "    # create an empty board\n",
        "    board = [[None,None,None],\n",
        "    [None,None,None],\n",
        "    [None,None,None]]\n",
        "\n",
        "    # fill board with random values of x or o\n",
        "\n",
        "    for column in range(3):\n",
        "      for row in range(3):\n",
        "        board[row][column]=square()\n",
        "\n",
        "    return(board)\n"
      ],
      "metadata": {
        "id": "1Fg5fXTPbhAK"
      },
      "execution_count": 180,
      "outputs": []
    },
    {
      "cell_type": "code",
      "source": [
        "\n",
        "\n",
        "\n",
        "\n",
        "# play loop\n",
        "\n",
        "isFinished=False\n",
        "\n",
        "cnt=1\n",
        "\n",
        "# run until there is a winner\n",
        "\n",
        "while not isFinished:\n",
        "  board=fillBoard()\n",
        "  print(\"game number \", cnt, \"\\n\")\n",
        "  print(board[0])\n",
        "  print(board[1])\n",
        "  print(board[2])\n",
        "  print(\"\\n\")\n",
        "\n",
        "  cnt += 1\n",
        "\n",
        "  msg,winner=isWinner(board)\n",
        "  print(msg,winner,\"\\n\")\n",
        "  if winner:\n",
        "    isFinished=True\n",
        "\n",
        "\n"
      ],
      "metadata": {
        "colab": {
          "base_uri": "https://localhost:8080/"
        },
        "id": "c0hbY_iIcYv1",
        "outputId": "9744722a-e6a7-44cc-e621-9c0420807642"
      },
      "execution_count": 181,
      "outputs": [
        {
          "output_type": "stream",
          "name": "stdout",
          "text": [
            "game number  1 \n",
            "\n",
            "['o', 'x', 'o']\n",
            "['o', 'o', 'o']\n",
            "['o', 'o', 'o']\n",
            "\n",
            "\n",
            "('diagonal winner ', 'o', 'o', 'o') True \n",
            "\n"
          ]
        }
      ]
    }
  ],
  "metadata": {
    "kernelspec": {
      "display_name": "Python 3",
      "language": "python",
      "name": "python3"
    },
    "language_info": {
      "codemirror_mode": {
        "name": "ipython",
        "version": 3
      },
      "file_extension": ".py",
      "mimetype": "text/x-python",
      "name": "python",
      "nbconvert_exporter": "python",
      "pygments_lexer": "ipython3",
      "version": "3.4.4"
    },
    "colab": {
      "provenance": [],
      "include_colab_link": true
    }
  },
  "nbformat": 4,
  "nbformat_minor": 0
}