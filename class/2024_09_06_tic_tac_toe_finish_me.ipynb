{
  "nbformat": 4,
  "nbformat_minor": 0,
  "metadata": {
    "colab": {
      "provenance": [],
      "include_colab_link": true
    },
    "kernelspec": {
      "name": "python3",
      "display_name": "Python 3"
    },
    "language_info": {
      "name": "python"
    }
  },
  "cells": [
    {
      "cell_type": "markdown",
      "metadata": {
        "id": "view-in-github",
        "colab_type": "text"
      },
      "source": [
        "<a href=\"https://colab.research.google.com/github/werowe/HypatiaAcademy/blob/master/class/2024_09_06_tic_tac_toe_finish_me.ipynb\" target=\"_parent\"><img src=\"https://colab.research.google.com/assets/colab-badge.svg\" alt=\"Open In Colab\"/></a>"
      ]
    },
    {
      "cell_type": "markdown",
      "source": [
        "# **First part**"
      ],
      "metadata": {
        "id": "G_QTRtntQTOZ"
      }
    },
    {
      "cell_type": "code",
      "source": [
        "l = [1, 2]\n",
        "\n",
        "# swap means change order.  so how can I make [ 2, 1]\n",
        "\n",
        "print(l[0])\n",
        "print(l[1])\n",
        "\n",
        "\n",
        "\n",
        "# in three steps.  normal.  python lets you do two assignment in one step.\n",
        "# that looks strange, because other programming language don't allow that\n",
        "\n",
        "temporary=l[0]  # the 1 is here.  temporary spot\n",
        "l[0]=l[1]\n",
        "\n",
        "l[1]=temporary\n",
        "\n",
        "l\n",
        "\n"
      ],
      "metadata": {
        "id": "Yu5jTyPnP2f-",
        "colab": {
          "base_uri": "https://localhost:8080/"
        },
        "outputId": "bc262930-589c-4727-c55e-7b7f9a3149be"
      },
      "execution_count": 4,
      "outputs": [
        {
          "output_type": "stream",
          "name": "stdout",
          "text": [
            "1\n",
            "2\n"
          ]
        },
        {
          "output_type": "execute_result",
          "data": {
            "text/plain": [
              "[2, 1]"
            ]
          },
          "metadata": {},
          "execution_count": 4
        }
      ]
    },
    {
      "cell_type": "code",
      "source": [
        "l = [1, 2]\n",
        "\n",
        "l[0] , l[1] = l[1], l[0]\n",
        "\n",
        "l\n"
      ],
      "metadata": {
        "colab": {
          "base_uri": "https://localhost:8080/"
        },
        "id": "evH-WB43ufRz",
        "outputId": "3b992e43-68bc-476f-9775-7cd337b4d3f4"
      },
      "execution_count": 8,
      "outputs": [
        {
          "output_type": "execute_result",
          "data": {
            "text/plain": [
              "[2, 1]"
            ]
          },
          "metadata": {},
          "execution_count": 8
        }
      ]
    },
    {
      "cell_type": "code",
      "source": [
        "3*2"
      ],
      "metadata": {
        "colab": {
          "base_uri": "https://localhost:8080/"
        },
        "id": "OUZok_aAuRp9",
        "outputId": "a85216ee-5c4b-4306-87a1-1ab9244dc7b9"
      },
      "execution_count": 5,
      "outputs": [
        {
          "output_type": "execute_result",
          "data": {
            "text/plain": [
              "6"
            ]
          },
          "metadata": {},
          "execution_count": 5
        }
      ]
    },
    {
      "cell_type": "code",
      "source": [
        "for i in range(10):\n",
        "  swap = [[i[1],i[0]] for i in x]\n",
        "swap"
      ],
      "metadata": {
        "id": "yFO4UJrRSmZ1"
      },
      "execution_count": null,
      "outputs": []
    },
    {
      "cell_type": "markdown",
      "source": [
        "# **Third part**"
      ],
      "metadata": {
        "id": "ee9hP4OYUBcE"
      }
    },
    {
      "cell_type": "code",
      "source": [
        "stack=[0,1,2,3,4,5,6,7,8,9]\n",
        "i = 0\n",
        "while len(stack) > 0:\n",
        "  out = stack[i]\n",
        "  del stack[i]\n",
        "  print(out,stack)\n",
        "  i ++ 1"
      ],
      "metadata": {
        "id": "RtRiyuLzUm0n"
      },
      "execution_count": null,
      "outputs": []
    },
    {
      "cell_type": "code",
      "source": [],
      "metadata": {
        "colab": {
          "base_uri": "https://localhost:8080/"
        },
        "id": "VjuVUsPhVUcd",
        "outputId": "753dc239-ac4e-4c0d-86cf-0d224d27b793"
      },
      "execution_count": null,
      "outputs": [
        {
          "output_type": "execute_result",
          "data": {
            "text/plain": [
              "[0, 2, 4, 6, 8, 10, 12, 14, 16, 18]"
            ]
          },
          "metadata": {},
          "execution_count": 52
        }
      ]
    },
    {
      "cell_type": "code",
      "source": [
        "# write a list comprehension to multiple every item in a list by 2\n",
        "\n",
        "\n",
        "l = [1,2,3,4]\n",
        "\n",
        "# [expression for item in iterable if condition]\n",
        "\n",
        "\n",
        "# expression, means do something\n",
        "# for item:  fred, i\n",
        "# iterable: basically means something you can count, a list is an iterable\n",
        "\n",
        "\n",
        "n = []\n",
        "\n",
        "n.append(1)\n",
        "\n",
        "n.append(1*2)\n",
        "\n",
        "n.append(1*3)\n",
        "\n",
        "print(n)\n",
        "\n",
        "# a more compact one is to do one line of code\n",
        "\n",
        "[i ** 2 for i in l]\n",
        "\n"
      ],
      "metadata": {
        "colab": {
          "base_uri": "https://localhost:8080/"
        },
        "id": "OmqS3200vCyY",
        "outputId": "0370255d-9b06-493f-9a58-3cb0c2053cd8"
      },
      "execution_count": 13,
      "outputs": [
        {
          "output_type": "stream",
          "name": "stdout",
          "text": [
            "[1, 2, 3]\n"
          ]
        },
        {
          "output_type": "execute_result",
          "data": {
            "text/plain": [
              "[1, 4, 9, 16]"
            ]
          },
          "metadata": {},
          "execution_count": 13
        }
      ]
    },
    {
      "cell_type": "code",
      "source": [
        "t = [\n",
        "      [None, None, None],\n",
        "      [None, None, None],\n",
        "      [None, None, None]\n",
        "]\n",
        "\n",
        "t[0][0]='x'\n",
        "\n",
        "t"
      ],
      "metadata": {
        "colab": {
          "base_uri": "https://localhost:8080/"
        },
        "id": "JJqveneQyWg7",
        "outputId": "b1021ef0-bf6c-4fee-819a-1154339b38d2"
      },
      "execution_count": 22,
      "outputs": [
        {
          "output_type": "execute_result",
          "data": {
            "text/plain": [
              "[['x', None, None], [None, None, None], [None, None, None]]"
            ]
          },
          "metadata": {},
          "execution_count": 22
        }
      ]
    },
    {
      "cell_type": "code",
      "source": [
        "t = [\n",
        "      ['o','x', 'o'],\n",
        "      ['o','x', 'o'],\n",
        "      ['o','x', 'o']\n",
        "]\n",
        "\n",
        "t"
      ],
      "metadata": {
        "colab": {
          "base_uri": "https://localhost:8080/"
        },
        "id": "0P8GueXHw5Hd",
        "outputId": "56b9555f-0d7e-4e88-e519-cfe45d3830cf"
      },
      "execution_count": 24,
      "outputs": [
        {
          "output_type": "execute_result",
          "data": {
            "text/plain": [
              "[['o', 'x', 'o'], ['o', 'x', 'o'], ['o', 'x', 'o']]"
            ]
          },
          "metadata": {},
          "execution_count": 24
        }
      ]
    },
    {
      "cell_type": "code",
      "source": [
        "t[0]"
      ],
      "metadata": {
        "colab": {
          "base_uri": "https://localhost:8080/"
        },
        "id": "tjKqPjOPy-Qi",
        "outputId": "3506df48-208b-41b9-c264-84f22bcd21bb"
      },
      "execution_count": 23,
      "outputs": [
        {
          "output_type": "execute_result",
          "data": {
            "text/plain": [
              "['x', None, None]"
            ]
          },
          "metadata": {},
          "execution_count": 23
        }
      ]
    },
    {
      "cell_type": "code",
      "source": [
        "t[0][0]"
      ],
      "metadata": {
        "colab": {
          "base_uri": "https://localhost:8080/",
          "height": 35
        },
        "id": "pRVlUgfbzDQq",
        "outputId": "ad5541ae-4163-4b89-a7f4-3f64dc92e1b7"
      },
      "execution_count": 25,
      "outputs": [
        {
          "output_type": "execute_result",
          "data": {
            "text/plain": [
              "'o'"
            ],
            "application/vnd.google.colaboratory.intrinsic+json": {
              "type": "string"
            }
          },
          "metadata": {},
          "execution_count": 25
        }
      ]
    },
    {
      "cell_type": "code",
      "source": [
        "# tests for equality\n",
        "==\n",
        "\n",
        "# assignment operator\n",
        "="
      ],
      "metadata": {
        "id": "ZIsQ4gKgzRaj"
      },
      "execution_count": null,
      "outputs": []
    },
    {
      "cell_type": "code",
      "source": [
        "t = [\n",
        "      ['o','x', 'o'],\n",
        "      ['o','x', 'o'],\n",
        "      ['o','x', 'o']\n",
        "]\n"
      ],
      "metadata": {
        "id": "UZ6O4e_xzgxs"
      },
      "execution_count": null,
      "outputs": []
    },
    {
      "cell_type": "code",
      "source": [
        "t = [\n",
        "      ['a','x', 'o'],\n",
        "      ['o','a', 'o'],\n",
        "      ['o','x', 'a']\n",
        "]\n"
      ],
      "metadata": {
        "id": "6_lTFyLq73rh"
      },
      "execution_count": 91,
      "outputs": []
    },
    {
      "cell_type": "code",
      "source": [
        "# is t a winner\n",
        "\n",
        "\n",
        "# diagonal\n",
        "\n",
        "\n",
        "t[0][0] == t[1][1] == t[2][2]\n"
      ],
      "metadata": {
        "colab": {
          "base_uri": "https://localhost:8080/"
        },
        "id": "vuYR_Xdr7dQt",
        "outputId": "030d1ade-9720-4ba7-f810-9c99e4e31c7b"
      },
      "execution_count": 99,
      "outputs": [
        {
          "output_type": "execute_result",
          "data": {
            "text/plain": [
              "False"
            ]
          },
          "metadata": {},
          "execution_count": 99
        }
      ]
    },
    {
      "cell_type": "code",
      "source": [
        "# how can I check the first column\n",
        "\n",
        "row=0\n",
        "column=0\n",
        "\n",
        "t[row][column] == t[row + 1 ][column]  == t[row + 2 ][column]"
      ],
      "metadata": {
        "colab": {
          "base_uri": "https://localhost:8080/"
        },
        "id": "J7XO9Psw8D2s",
        "outputId": "28f7a4a7-e5ca-412a-d724-d664ec35a6b6"
      },
      "execution_count": 98,
      "outputs": [
        {
          "output_type": "execute_result",
          "data": {
            "text/plain": [
              "True"
            ]
          },
          "metadata": {},
          "execution_count": 98
        }
      ]
    },
    {
      "cell_type": "code",
      "source": [
        "t[0][0] == t[1][1] == t[2][2]"
      ],
      "metadata": {
        "id": "hZsmXgih9K-N"
      },
      "execution_count": null,
      "outputs": []
    },
    {
      "cell_type": "code",
      "source": [
        "for i in t:\n",
        "  print(i)"
      ],
      "metadata": {
        "colab": {
          "base_uri": "https://localhost:8080/"
        },
        "id": "0L5XaQVg8xk1",
        "outputId": "2379ba34-c631-4252-c180-9ee3fa5d1eb1"
      },
      "execution_count": 100,
      "outputs": [
        {
          "output_type": "stream",
          "name": "stdout",
          "text": [
            "['o', 'x', 'o']\n",
            "['o', 'a', 'o']\n",
            "['o', 'x', 'a']\n"
          ]
        }
      ]
    },
    {
      "cell_type": "code",
      "source": [
        "# index means position\n",
        "\n",
        "t[0][0]\n",
        "\n",
        "t[[0]]\n"
      ],
      "metadata": {
        "colab": {
          "base_uri": "https://localhost:8080/",
          "height": 35
        },
        "id": "SjGX1cbM7dcC",
        "outputId": "f6919fb9-9174-4785-e427-249e0db09bee"
      },
      "execution_count": 93,
      "outputs": [
        {
          "output_type": "execute_result",
          "data": {
            "text/plain": [
              "'a'"
            ],
            "application/vnd.google.colaboratory.intrinsic+json": {
              "type": "string"
            }
          },
          "metadata": {},
          "execution_count": 93
        }
      ]
    },
    {
      "cell_type": "code",
      "source": [
        "t[0][0]='o'"
      ],
      "metadata": {
        "id": "CKLe6wr484RB"
      },
      "execution_count": 97,
      "outputs": []
    },
    {
      "cell_type": "code",
      "source": [],
      "metadata": {
        "id": "NszP0bc67dqE"
      },
      "execution_count": null,
      "outputs": []
    },
    {
      "cell_type": "code",
      "source": [],
      "metadata": {
        "id": "-c40zk9s7duf"
      },
      "execution_count": null,
      "outputs": []
    },
    {
      "cell_type": "code",
      "source": [],
      "metadata": {
        "id": "cGg05Vd_7dyN"
      },
      "execution_count": null,
      "outputs": []
    },
    {
      "cell_type": "code",
      "source": [
        "# first column\n",
        "\n",
        "t[0][0] == t[1][0] == t[2][0]\n"
      ],
      "metadata": {
        "colab": {
          "base_uri": "https://localhost:8080/"
        },
        "id": "7ivZOGmtysfv",
        "outputId": "841ca050-9638-4ce4-bb3d-2ab18a3cb6fb"
      },
      "execution_count": 27,
      "outputs": [
        {
          "output_type": "execute_result",
          "data": {
            "text/plain": [
              "True"
            ]
          },
          "metadata": {},
          "execution_count": 27
        }
      ]
    },
    {
      "cell_type": "code",
      "source": [
        "n = [\n",
        "      [1,2, 3],\n",
        "      [4,5, 6],\n",
        "      [7,8, 9]\n",
        "]"
      ],
      "metadata": {
        "id": "1iWMshMc0QQ0"
      },
      "execution_count": 29,
      "outputs": []
    },
    {
      "cell_type": "code",
      "source": [
        "n[0][0]"
      ],
      "metadata": {
        "colab": {
          "base_uri": "https://localhost:8080/"
        },
        "id": "Urh3BCPF0Y_D",
        "outputId": "93b151a1-b297-4cce-f98f-2c4f5550f6de"
      },
      "execution_count": 31,
      "outputs": [
        {
          "output_type": "execute_result",
          "data": {
            "text/plain": [
              "1"
            ]
          },
          "metadata": {},
          "execution_count": 31
        }
      ]
    },
    {
      "cell_type": "code",
      "source": [
        "# column means up and down, vertical\n",
        "\n",
        "# row means across, horizontal\n",
        "\n",
        "n[column][row]\n",
        "\n",
        "\n",
        "n[0][1]"
      ],
      "metadata": {
        "colab": {
          "base_uri": "https://localhost:8080/"
        },
        "id": "oyT-sC9o0fFh",
        "outputId": "a49be407-b5ca-48ad-f894-ae34b62b3a8b"
      },
      "execution_count": 32,
      "outputs": [
        {
          "output_type": "execute_result",
          "data": {
            "text/plain": [
              "2"
            ]
          },
          "metadata": {},
          "execution_count": 32
        }
      ]
    },
    {
      "cell_type": "code",
      "source": [
        "n"
      ],
      "metadata": {
        "colab": {
          "base_uri": "https://localhost:8080/"
        },
        "id": "qtcWJqyG14Ds",
        "outputId": "3a5c7f10-5d22-453d-d86f-5fe6ff63531c"
      },
      "execution_count": 42,
      "outputs": [
        {
          "output_type": "execute_result",
          "data": {
            "text/plain": [
              "[[1, 2, 3], [4, 5, 6], [7, 8, 9]]"
            ]
          },
          "metadata": {},
          "execution_count": 42
        }
      ]
    },
    {
      "cell_type": "code",
      "source": [
        "# how do I check all values in the second column\n",
        "\n",
        "import random\n",
        "\n",
        "row = 0\n",
        "column = 0    # < ----- spelling mistake\n",
        "\n",
        "for r in range(3):  #\"rows\". this create a row object called r\n",
        "  for c in range(3):  #\"columns\"\n",
        "   print(\"debug me row=\", row, \"column=\", column)\n",
        "   n[row][column] = random.randint(0,1)\n",
        "   column = column + 1    #<-------assign value\n",
        "  print(\"\\n\")\n",
        "\n",
        "  row = row + 1\n",
        "  column = 0\n",
        "\n",
        "n\n",
        "\n"
      ],
      "metadata": {
        "colab": {
          "base_uri": "https://localhost:8080/"
        },
        "id": "c1SOWtsfzkhf",
        "outputId": "0d8b08be-4fe8-48f8-864a-106c65d55898"
      },
      "execution_count": 72,
      "outputs": [
        {
          "output_type": "stream",
          "name": "stdout",
          "text": [
            "debug me row= 0 column= 0\n",
            "debug me row= 0 column= 1\n",
            "debug me row= 0 column= 2\n",
            "\n",
            "\n",
            "debug me row= 1 column= 0\n",
            "debug me row= 1 column= 1\n",
            "debug me row= 1 column= 2\n",
            "\n",
            "\n",
            "debug me row= 2 column= 0\n",
            "debug me row= 2 column= 1\n",
            "debug me row= 2 column= 2\n",
            "\n",
            "\n"
          ]
        },
        {
          "output_type": "execute_result",
          "data": {
            "text/plain": [
              "[[1, 1, 0], [0, 1, 0], [1, 1, 1]]"
            ]
          },
          "metadata": {},
          "execution_count": 72
        }
      ]
    },
    {
      "cell_type": "code",
      "source": [
        "for i in n:\n",
        "  print(i)"
      ],
      "metadata": {
        "colab": {
          "base_uri": "https://localhost:8080/"
        },
        "id": "jgjoVcQp47FS",
        "outputId": "1f39b810-489d-4691-d43f-8341195d6423"
      },
      "execution_count": 75,
      "outputs": [
        {
          "output_type": "stream",
          "name": "stdout",
          "text": [
            "[1, 1, 0]\n",
            "[0, 1, 0]\n",
            "[1, 1, 1]\n"
          ]
        }
      ]
    },
    {
      "cell_type": "code",
      "source": [
        "row=1\n",
        "column=0\n",
        "\n",
        "n[row][column]=\"y\"\n",
        "\n",
        "for r in n:\n",
        "  print(r)\n"
      ],
      "metadata": {
        "colab": {
          "base_uri": "https://localhost:8080/"
        },
        "id": "8WFshbzf5OJo",
        "outputId": "36c723c7-aa6c-4c11-dbd3-524f3a51e3b8"
      },
      "execution_count": 79,
      "outputs": [
        {
          "output_type": "stream",
          "name": "stdout",
          "text": [
            "[1, 1, 0]\n",
            "['y', 1, 'x']\n",
            "[1, 1, 'x']\n"
          ]
        }
      ]
    },
    {
      "cell_type": "code",
      "source": [
        "\n",
        "\n",
        "z =  [\n",
        "\n",
        "     [\"r0c0\", \"r0c1\", \"r0c2\"],\n",
        "     [\"r1c0\", \"r1c1\", \"r1c2\"]  ,\n",
        "     [\"r2c0\", \"r2c1\", \"r2c2\"]\n",
        "\n",
        "]\n",
        "\n",
        "\n",
        "row=1\n",
        "column=2\n",
        "\n",
        "z[row][column]\n",
        "\n",
        "\n",
        "\n"
      ],
      "metadata": {
        "colab": {
          "base_uri": "https://localhost:8080/",
          "height": 35
        },
        "id": "5IImdfrN3SNq",
        "outputId": "c1a5d772-2f3b-4e79-d8a0-3e6f39f5a53b"
      },
      "execution_count": 86,
      "outputs": [
        {
          "output_type": "execute_result",
          "data": {
            "text/plain": [
              "'r1c2'"
            ],
            "application/vnd.google.colaboratory.intrinsic+json": {
              "type": "string"
            }
          },
          "metadata": {},
          "execution_count": 86
        }
      ]
    },
    {
      "cell_type": "code",
      "source": [
        "l=[1,2,3]\n",
        "\n",
        "l[2]"
      ],
      "metadata": {
        "colab": {
          "base_uri": "https://localhost:8080/"
        },
        "id": "PnCVl--05wKF",
        "outputId": "a3c052a9-8a1a-44d9-df7f-9410ec9420a6"
      },
      "execution_count": 80,
      "outputs": [
        {
          "output_type": "execute_result",
          "data": {
            "text/plain": [
              "3"
            ]
          },
          "metadata": {},
          "execution_count": 80
        }
      ]
    },
    {
      "cell_type": "markdown",
      "source": [
        "#Homework\n",
        "\n",
        "Fix this.\n"
      ],
      "metadata": {
        "id": "em1e6uVF9oiR"
      }
    },
    {
      "cell_type": "code",
      "source": [
        "    # fill board with random values of x or o\n",
        "    for column in range(3):\n",
        "        for row in range(3):\n",
        "            t[row][column] = random.randint(0,1) == 0"
      ],
      "metadata": {
        "id": "upQ9OuZe3QBc"
      },
      "execution_count": 101,
      "outputs": []
    },
    {
      "cell_type": "markdown",
      "source": [],
      "metadata": {
        "id": "jaktbGJ7-NUz"
      }
    },
    {
      "cell_type": "code",
      "source": [],
      "metadata": {
        "colab": {
          "base_uri": "https://localhost:8080/"
        },
        "id": "05hK6TBL9iM1",
        "outputId": "ee647476-41c6-4c64-fd1c-ec5030ba1882"
      },
      "execution_count": 102,
      "outputs": [
        {
          "output_type": "execute_result",
          "data": {
            "text/plain": [
              "[[True, True, False], [False, False, True], [False, True, True]]"
            ]
          },
          "metadata": {},
          "execution_count": 102
        }
      ]
    },
    {
      "cell_type": "markdown",
      "source": [
        "# Game\n",
        "\n",
        "GO until you have a winner"
      ],
      "metadata": {
        "id": "KTkU7jvA-Pjx"
      }
    },
    {
      "cell_type": "code",
      "source": [
        "\n",
        "\n",
        "\n",
        "isWinner = False # start game, no one is winner\n",
        "\n",
        "while not isWinner:\n",
        "\n",
        "    print(\"user picked\")\n",
        "    if random.randint(0,1) == 1:   # put an x or an o\n",
        "      isWinner = True\n",
        "\n",
        "\n",
        "print(\"done, game over\")\n",
        "\n"
      ],
      "metadata": {
        "colab": {
          "base_uri": "https://localhost:8080/"
        },
        "id": "SsbW7cO09sF0",
        "outputId": "e542266c-f8c7-4f41-fdfb-317fc52e0217"
      },
      "execution_count": 106,
      "outputs": [
        {
          "output_type": "stream",
          "name": "stdout",
          "text": [
            "user picked\n",
            "user picked\n",
            "user picked\n",
            "done, game over\n"
          ]
        }
      ]
    },
    {
      "cell_type": "code",
      "source": [
        "while not isWinner:\n",
        "\n",
        "    print(\"user picked\")\n",
        "    if random.randint(0,1) == some function that takes 0 or 1 and changes it to o or x:   # put an x or an o\n",
        "      isWinner = True\n",
        "\n",
        "\n",
        "print(\"done, game over\")\n",
        "\n",
        "\n",
        "\n"
      ],
      "metadata": {
        "id": "Qz9VC9f4-T5i"
      },
      "execution_count": null,
      "outputs": []
    },
    {
      "cell_type": "code",
      "source": [
        "cell=\"\"\n",
        "\n",
        "if random.randint(0,1) == 0:\n",
        "  cell = \"o\"\n",
        "else:\n",
        "  cell = \"x\"\n",
        "\n",
        "cell\n"
      ],
      "metadata": {
        "colab": {
          "base_uri": "https://localhost:8080/",
          "height": 35
        },
        "id": "7BzsuVrT2MEe",
        "outputId": "8c6322c0-7f1e-43ff-8b89-0270bfbe38e3"
      },
      "execution_count": 59,
      "outputs": [
        {
          "output_type": "execute_result",
          "data": {
            "text/plain": [
              "'x'"
            ],
            "application/vnd.google.colaboratory.intrinsic+json": {
              "type": "string"
            }
          },
          "metadata": {},
          "execution_count": 59
        }
      ]
    },
    {
      "cell_type": "code",
      "source": [
        "n"
      ],
      "metadata": {
        "colab": {
          "base_uri": "https://localhost:8080/"
        },
        "id": "OHUUVQ7z1xi5",
        "outputId": "11430741-50a0-4849-d8da-6080a787b85a"
      },
      "execution_count": 41,
      "outputs": [
        {
          "output_type": "execute_result",
          "data": {
            "text/plain": [
              "[[1, 2, 3], [4, 5, 6], [7, 8, 9]]"
            ]
          },
          "metadata": {},
          "execution_count": 41
        }
      ]
    },
    {
      "cell_type": "code",
      "source": [
        "n[0]"
      ],
      "metadata": {
        "colab": {
          "base_uri": "https://localhost:8080/"
        },
        "id": "34jprgkb1E6C",
        "outputId": "a36a1ba3-5463-4556-9e6c-d62b02cb8400"
      },
      "execution_count": 35,
      "outputs": [
        {
          "output_type": "execute_result",
          "data": {
            "text/plain": [
              "[1, 2, 3]"
            ]
          },
          "metadata": {},
          "execution_count": 35
        }
      ]
    },
    {
      "cell_type": "code",
      "source": [
        "for row in"
      ],
      "metadata": {
        "id": "NIylfYOi0M-k"
      },
      "execution_count": null,
      "outputs": []
    },
    {
      "cell_type": "code",
      "source": [
        "for a in t:\n",
        "  print(a)\n",
        ""
      ],
      "metadata": {
        "colab": {
          "base_uri": "https://localhost:8080/"
        },
        "id": "13u1WWAexhDP",
        "outputId": "a8fa5e7c-e2d8-4c36-8365-a4b9bb0fb1db"
      },
      "execution_count": 17,
      "outputs": [
        {
          "output_type": "stream",
          "name": "stdout",
          "text": [
            "['o', 'x', 'o']\n",
            "['o', 'x', 'o']\n",
            "['o', 'x', 'o']\n"
          ]
        }
      ]
    },
    {
      "cell_type": "code",
      "source": [
        "t[0][0]"
      ],
      "metadata": {
        "colab": {
          "base_uri": "https://localhost:8080/",
          "height": 35
        },
        "id": "4Huk_3QpyEbY",
        "outputId": "cbbbb8ca-8a4f-4f8e-8c54-e93c4d2c5d81"
      },
      "execution_count": 19,
      "outputs": [
        {
          "output_type": "execute_result",
          "data": {
            "text/plain": [
              "'o'"
            ],
            "application/vnd.google.colaboratory.intrinsic+json": {
              "type": "string"
            }
          },
          "metadata": {},
          "execution_count": 19
        }
      ]
    },
    {
      "cell_type": "code",
      "source": [
        "t[0][0] = 'x'\n",
        "\n",
        "t"
      ],
      "metadata": {
        "colab": {
          "base_uri": "https://localhost:8080/"
        },
        "id": "cSllDmWByLmg",
        "outputId": "3ebd2c42-db8f-4e9a-eb37-f21e9af29364"
      },
      "execution_count": 21,
      "outputs": [
        {
          "output_type": "execute_result",
          "data": {
            "text/plain": [
              "[['x', 'x', 'o'], ['o', 'x', 'o'], ['o', 'x', 'o']]"
            ]
          },
          "metadata": {},
          "execution_count": 21
        }
      ]
    },
    {
      "cell_type": "markdown",
      "source": [
        "# **Fourth part**"
      ],
      "metadata": {
        "id": "T5uIv98dZVz4"
      }
    }
  ]
}