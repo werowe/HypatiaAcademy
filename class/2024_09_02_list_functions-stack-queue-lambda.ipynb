{
  "nbformat": 4,
  "nbformat_minor": 0,
  "metadata": {
    "colab": {
      "provenance": [],
      "authorship_tag": "ABX9TyNz4vBluWWo6dNUydLxlGsH",
      "include_colab_link": true
    },
    "kernelspec": {
      "name": "python3",
      "display_name": "Python 3"
    },
    "language_info": {
      "name": "python"
    }
  },
  "cells": [
    {
      "cell_type": "markdown",
      "metadata": {
        "id": "view-in-github",
        "colab_type": "text"
      },
      "source": [
        "<a href=\"https://colab.research.google.com/github/werowe/HypatiaAcademy/blob/master/class/2024_09_02_list_functions-stack-queue-lambda.ipynb\" target=\"_parent\"><img src=\"https://colab.research.google.com/assets/colab-badge.svg\" alt=\"Open In Colab\"/></a>"
      ]
    },
    {
      "cell_type": "markdown",
      "source": [
        "# Queue versus Stack\n",
        "\n",
        "* queue--FIFO (first in first out), like line in the airport\n",
        "* stack--LIFO (last in first out), a pile of potatoes\n",
        "\n",
        "![](https://gohighbrow.com/wp-content/uploads/2018/07/Computer-science-fundamentals_6.1.png)\n",
        "\n"
      ],
      "metadata": {
        "id": "VFSmw7LZwMQT"
      }
    },
    {
      "cell_type": "code",
      "source": [
        "\n",
        "import random\n",
        "\n",
        "queue=[]\n",
        "stack=[]\n",
        "\n",
        "# here first item added is queue[0] and stack[0]\n",
        "# last item added is queue[9] and stack[9]\n",
        "\n",
        "for i in range(10):\n",
        "  queue.append(i)\n",
        "  stack.append(i)\n",
        "\n",
        "print(stack, \"\\n\")\n",
        "print(queue, \"\\n\")\n"
      ],
      "metadata": {
        "id": "3mqq9G2wwObV",
        "colab": {
          "base_uri": "https://localhost:8080/"
        },
        "outputId": "b331e787-b554-4504-fa01-65e890f5e544"
      },
      "execution_count": 104,
      "outputs": [
        {
          "output_type": "stream",
          "name": "stdout",
          "text": [
            "[0, 1, 2, 3, 4, 5, 6, 7, 8, 9] \n",
            "\n",
            "[0, 1, 2, 3, 4, 5, 6, 7, 8, 9] \n",
            "\n"
          ]
        }
      ]
    },
    {
      "cell_type": "code",
      "source": [
        "for q in queue:\n",
        "  print(q)"
      ],
      "metadata": {
        "id": "n6DSVJdMdzon",
        "outputId": "b70c2269-4e5a-4939-ddbb-481443a5f473",
        "colab": {
          "base_uri": "https://localhost:8080/"
        }
      },
      "execution_count": 105,
      "outputs": [
        {
          "output_type": "stream",
          "name": "stdout",
          "text": [
            "0\n",
            "1\n",
            "2\n",
            "3\n",
            "4\n",
            "5\n",
            "6\n",
            "7\n",
            "8\n",
            "9\n"
          ]
        }
      ]
    },
    {
      "cell_type": "code",
      "source": [
        "# puzzle:  why does this loop stop before len(queue)\n",
        "\n",
        "# extra credit homework.  see if you can figure this out\n",
        "for i in queue:\n",
        "  popped = queue.pop()\n",
        "  print(popped, queue)\n",
        "\n"
      ],
      "metadata": {
        "id": "gKWIzf7Lqr0s",
        "outputId": "7fd1ef10-2538-4c11-9329-f1ef6e74acc0",
        "colab": {
          "base_uri": "https://localhost:8080/"
        }
      },
      "execution_count": 106,
      "outputs": [
        {
          "output_type": "stream",
          "name": "stdout",
          "text": [
            "9 [0, 1, 2, 3, 4, 5, 6, 7, 8]\n",
            "8 [0, 1, 2, 3, 4, 5, 6, 7]\n",
            "7 [0, 1, 2, 3, 4, 5, 6]\n",
            "6 [0, 1, 2, 3, 4, 5]\n",
            "5 [0, 1, 2, 3, 4]\n"
          ]
        }
      ]
    },
    {
      "cell_type": "code",
      "source": [
        "queue"
      ],
      "metadata": {
        "id": "TAcnxOsieLQ2",
        "outputId": "6363f02f-f932-40e0-ab62-b5f766df9032",
        "colab": {
          "base_uri": "https://localhost:8080/"
        }
      },
      "execution_count": 107,
      "outputs": [
        {
          "output_type": "execute_result",
          "data": {
            "text/plain": [
              "[0, 1, 2, 3, 4]"
            ]
          },
          "metadata": {},
          "execution_count": 107
        }
      ]
    },
    {
      "cell_type": "code",
      "source": [
        "# LIFO\n",
        "\n",
        "# the last time in is the first item removed.  we 'pop' it off.  it's the\n",
        "# person at the kiosk who exits the line first\n",
        "\n",
        "\n",
        "\n",
        "for i in range(len(stack)):\n",
        "  leave = stack.pop()\n",
        "  print(leave, stack)"
      ],
      "metadata": {
        "colab": {
          "base_uri": "https://localhost:8080/"
        },
        "id": "A-G0WfxuqiPD",
        "outputId": "cb3c559e-8ce9-4ac0-a610-051bc674232b"
      },
      "execution_count": 108,
      "outputs": [
        {
          "output_type": "stream",
          "name": "stdout",
          "text": [
            "9 [0, 1, 2, 3, 4, 5, 6, 7, 8]\n",
            "8 [0, 1, 2, 3, 4, 5, 6, 7]\n",
            "7 [0, 1, 2, 3, 4, 5, 6]\n",
            "6 [0, 1, 2, 3, 4, 5]\n",
            "5 [0, 1, 2, 3, 4]\n",
            "4 [0, 1, 2, 3]\n",
            "3 [0, 1, 2]\n",
            "2 [0, 1]\n",
            "1 [0]\n",
            "0 []\n"
          ]
        }
      ]
    },
    {
      "cell_type": "code",
      "source": [
        "# FIFO.  This removes the first item from the list first.  This is the doctor's waiting room.\n",
        "\n",
        "import random\n",
        "\n",
        "\n",
        "\n",
        "# the way I added items to the list was to go:\n",
        "\n",
        "\n",
        "# it's hard to show item in first\n",
        "\n",
        "# This is LAST IN\n",
        "\n",
        "l=[None,None,None,None,None,None]\n",
        "\n",
        "\n",
        "# range(from,to,step)\n",
        "\n",
        "for i in range(len(l) -1 ,0,-1):\n",
        "    # debug by printing stuff\n",
        "    #l[i]=random.randint(0,10)\n",
        "    l[i]=i\n",
        "    #print(i,l[i])\n",
        "\n",
        "\n",
        "print(l)\n",
        "# not try first out\n",
        "\n",
        "stack=l\n"
      ],
      "metadata": {
        "colab": {
          "base_uri": "https://localhost:8080/"
        },
        "id": "UGfpPPcwrHtb",
        "outputId": "de39ecb0-b7e5-493a-850e-bf1a23dd9c4e"
      },
      "execution_count": 109,
      "outputs": [
        {
          "output_type": "stream",
          "name": "stdout",
          "text": [
            "[None, 1, 2, 3, 4, 5]\n"
          ]
        }
      ]
    },
    {
      "cell_type": "code",
      "source": [
        "while len(l) > 0:   # this means keeep going until the list is empty\n",
        "  l.pop(0)       # remove first object from list\n",
        "  print(l)\n",
        "\n"
      ],
      "metadata": {
        "id": "mo_zUnLziCSz",
        "outputId": "1da9d314-a254-4713-bbef-eff2b4cc88bb",
        "colab": {
          "base_uri": "https://localhost:8080/"
        }
      },
      "execution_count": 110,
      "outputs": [
        {
          "output_type": "stream",
          "name": "stdout",
          "text": [
            "[1, 2, 3, 4, 5]\n",
            "[2, 3, 4, 5]\n",
            "[3, 4, 5]\n",
            "[4, 5]\n",
            "[5]\n",
            "[]\n"
          ]
        }
      ]
    },
    {
      "cell_type": "code",
      "source": [
        "# step means increment\n",
        "\n",
        "# step means next one is previous one + step\n",
        "\n",
        "# 0, 0+1, 0+2\n",
        "# 0, 0+2, 0+4\n",
        "\n",
        "\n",
        "for i in range(0,10,2):\n",
        "  print(i)\n",
        "\n",
        "#. range(len(l) -1 ,0,-1):\n",
        "\n",
        "# 4 , 4 + (-1),"
      ],
      "metadata": {
        "id": "ODny-9O5g5jZ",
        "outputId": "4eafc833-7e95-4485-e2de-68964969a371",
        "colab": {
          "base_uri": "https://localhost:8080/"
        }
      },
      "execution_count": 111,
      "outputs": [
        {
          "output_type": "stream",
          "name": "stdout",
          "text": [
            "0\n",
            "2\n",
            "4\n",
            "6\n",
            "8\n"
          ]
        }
      ]
    },
    {
      "cell_type": "code",
      "source": [
        "\n",
        "\n",
        "while len(stack) > 0:\n",
        "  out = stack[i]\n",
        "  del stack[i]\n",
        "  print(out,stack)\n",
        "  i ++ 1\n"
      ],
      "metadata": {
        "id": "w6rG7s0FgIH0"
      },
      "execution_count": 112,
      "outputs": []
    },
    {
      "cell_type": "code",
      "source": [
        "for i in range(10,5,-1):\n",
        "    print(i)"
      ],
      "metadata": {
        "id": "J5_ZbHFwfmc-",
        "outputId": "5a80f015-f37a-4b12-919a-8055a72723fb",
        "colab": {
          "base_uri": "https://localhost:8080/"
        }
      },
      "execution_count": 113,
      "outputs": [
        {
          "output_type": "stream",
          "name": "stdout",
          "text": [
            "10\n",
            "9\n",
            "8\n",
            "7\n",
            "6\n"
          ]
        }
      ]
    },
    {
      "cell_type": "code",
      "source": [],
      "metadata": {
        "id": "PTxDs3Qjs5NT"
      },
      "execution_count": 113,
      "outputs": []
    },
    {
      "cell_type": "markdown",
      "source": [
        "#Two Dimensional Lists\n",
        "\n"
      ],
      "metadata": {
        "id": "hdQRKg1ytZOa"
      }
    },
    {
      "cell_type": "code",
      "source": [
        "twoD = [\n",
        "    [1,2],\n",
        "    [3,4]\n",
        "]\n",
        "\n",
        "twoD"
      ],
      "metadata": {
        "id": "LTs4CwPNjUlJ",
        "outputId": "07335a76-76be-4a43-865a-ecc1e5f25113",
        "colab": {
          "base_uri": "https://localhost:8080/"
        }
      },
      "execution_count": 114,
      "outputs": [
        {
          "output_type": "execute_result",
          "data": {
            "text/plain": [
              "[[1, 2], [3, 4]]"
            ]
          },
          "metadata": {},
          "execution_count": 114
        }
      ]
    },
    {
      "cell_type": "code",
      "source": [
        "twoD[0]"
      ],
      "metadata": {
        "id": "MVYzZebTj9c-",
        "outputId": "a1b39661-4bcb-4378-9940-6e7552232443",
        "colab": {
          "base_uri": "https://localhost:8080/"
        }
      },
      "execution_count": 115,
      "outputs": [
        {
          "output_type": "execute_result",
          "data": {
            "text/plain": [
              "[1, 2]"
            ]
          },
          "metadata": {},
          "execution_count": 115
        }
      ]
    },
    {
      "cell_type": "code",
      "source": [
        "twoD[0][0]"
      ],
      "metadata": {
        "id": "dr-w3I5ZkAty",
        "outputId": "201d6de3-01c9-48d2-bdca-b9fb3519e0b5",
        "colab": {
          "base_uri": "https://localhost:8080/"
        }
      },
      "execution_count": 116,
      "outputs": [
        {
          "output_type": "execute_result",
          "data": {
            "text/plain": [
              "1"
            ]
          },
          "metadata": {},
          "execution_count": 116
        }
      ]
    },
    {
      "cell_type": "code",
      "source": [
        "twoD[0][1]"
      ],
      "metadata": {
        "id": "yFFV9xctkG1c",
        "outputId": "3e1127cf-8863-4675-8c83-77ac0cbdea8e",
        "colab": {
          "base_uri": "https://localhost:8080/"
        }
      },
      "execution_count": 117,
      "outputs": [
        {
          "output_type": "execute_result",
          "data": {
            "text/plain": [
              "2"
            ]
          },
          "metadata": {},
          "execution_count": 117
        }
      ]
    },
    {
      "cell_type": "code",
      "source": [
        "l = [1,2,3]"
      ],
      "metadata": {
        "id": "hDiKIItqjtBG"
      },
      "execution_count": 118,
      "outputs": []
    },
    {
      "cell_type": "code",
      "source": [
        "x = []\n",
        "\n",
        "for i in range(10):\n",
        "  x.append([random.randint(1,10),random.randint(1,10)])\n",
        "\n",
        "x"
      ],
      "metadata": {
        "colab": {
          "base_uri": "https://localhost:8080/"
        },
        "id": "-vgv_ZvittJD",
        "outputId": "f7453186-3d86-4f16-cd9d-c5ec5464385d"
      },
      "execution_count": 119,
      "outputs": [
        {
          "output_type": "execute_result",
          "data": {
            "text/plain": [
              "[[8, 8],\n",
              " [8, 5],\n",
              " [6, 9],\n",
              " [4, 4],\n",
              " [1, 7],\n",
              " [4, 10],\n",
              " [10, 3],\n",
              " [5, 4],\n",
              " [2, 3],\n",
              " [7, 1]]"
            ]
          },
          "metadata": {},
          "execution_count": 119
        }
      ]
    },
    {
      "cell_type": "code",
      "source": [
        "# what is first item in 3rd item\n",
        "\n",
        "print(x[3][0])\n",
        "\n",
        "\n",
        "# second\n",
        "\n",
        "print(x[3][1])"
      ],
      "metadata": {
        "colab": {
          "base_uri": "https://localhost:8080/"
        },
        "id": "sntQpG-xuSNy",
        "outputId": "af884a84-b43b-4989-8efb-48f64db1523a"
      },
      "execution_count": 120,
      "outputs": [
        {
          "output_type": "stream",
          "name": "stdout",
          "text": [
            "4\n",
            "4\n"
          ]
        }
      ]
    },
    {
      "cell_type": "markdown",
      "source": [
        "# List Comprehension\n",
        "\n",
        "This is a way to make a list from an existing list\n",
        "by running some function over it:\n",
        "\n",
        "```\n",
        "[i for i in l logic]\n",
        "\n",
        "```"
      ],
      "metadata": {
        "id": "dN_g9GhyvJG0"
      }
    },
    {
      "cell_type": "code",
      "source": [
        "l = [1,2,3,4,5,6,7,8,9]\n",
        "\n",
        "\n",
        "# [ do something. for i (make a variable). in list]\n",
        "\n",
        "[i**2 for i in l]\n",
        "\n",
        "\n"
      ],
      "metadata": {
        "id": "feCJH3qikdRA",
        "outputId": "e00ddf17-73cb-4143-fe23-dc84cbba4dd5",
        "colab": {
          "base_uri": "https://localhost:8080/"
        }
      },
      "execution_count": 121,
      "outputs": [
        {
          "output_type": "execute_result",
          "data": {
            "text/plain": [
              "[1, 4, 9, 16, 25, 36, 49, 64, 81]"
            ]
          },
          "metadata": {},
          "execution_count": 121
        }
      ]
    },
    {
      "cell_type": "code",
      "source": [
        "# % means remainder after division\n",
        "\n",
        "3 % 2 == 1"
      ],
      "metadata": {
        "id": "3GHU80jvk_g1",
        "outputId": "501947f8-e209-421a-c34c-417501f416d8",
        "colab": {
          "base_uri": "https://localhost:8080/"
        }
      },
      "execution_count": 122,
      "outputs": [
        {
          "output_type": "execute_result",
          "data": {
            "text/plain": [
              "True"
            ]
          },
          "metadata": {},
          "execution_count": 122
        }
      ]
    },
    {
      "cell_type": "code",
      "source": [
        "# 3 /2 = 2/2 + 1/2 = 3/2\n",
        "\n",
        "# 4 % 2 = 0\n",
        "\n",
        "# proof.   4 / 2 = 4/2 + 0 = 2"
      ],
      "metadata": {
        "id": "ZILnA7p5lLUg"
      },
      "execution_count": 123,
      "outputs": []
    },
    {
      "cell_type": "code",
      "source": [
        "\n",
        "l = [1,2,3,4,5,6,7,8,9]\n",
        "\n",
        "\n",
        "odd = [i for i in l if i % 2 > 0]\n",
        "\n",
        "odd"
      ],
      "metadata": {
        "colab": {
          "base_uri": "https://localhost:8080/"
        },
        "id": "KsFePRWZvLtb",
        "outputId": "84e4a620-2367-4095-8771-8c383310f366"
      },
      "execution_count": 124,
      "outputs": [
        {
          "output_type": "execute_result",
          "data": {
            "text/plain": [
              "[1, 3, 5, 7, 9]"
            ]
          },
          "metadata": {},
          "execution_count": 124
        }
      ]
    },
    {
      "cell_type": "code",
      "source": [
        "l"
      ],
      "metadata": {
        "id": "JNe9NFmPlqoD",
        "outputId": "36cf7d59-8192-4709-db5c-61e705d1b185",
        "colab": {
          "base_uri": "https://localhost:8080/"
        }
      },
      "execution_count": 125,
      "outputs": [
        {
          "output_type": "execute_result",
          "data": {
            "text/plain": [
              "[1, 2, 3, 4, 5, 6, 7, 8, 9]"
            ]
          },
          "metadata": {},
          "execution_count": 125
        }
      ]
    },
    {
      "cell_type": "code",
      "source": [
        "l=[]\n",
        "\n",
        "for i in range(10):\n",
        "  l.append(i)\n",
        "\n",
        "squares = [i**2 for i in l]\n",
        "\n",
        "squares\n"
      ],
      "metadata": {
        "colab": {
          "base_uri": "https://localhost:8080/"
        },
        "id": "nzn1sl0xvmmw",
        "outputId": "0c33458c-654a-462f-a213-038b6f10e3dd"
      },
      "execution_count": 126,
      "outputs": [
        {
          "output_type": "execute_result",
          "data": {
            "text/plain": [
              "[0, 1, 4, 9, 16, 25, 36, 49, 64, 81]"
            ]
          },
          "metadata": {},
          "execution_count": 126
        }
      ]
    },
    {
      "cell_type": "markdown",
      "source": [
        "#Lamdba Functions"
      ],
      "metadata": {
        "id": "UnmwmeOI17s1"
      }
    },
    {
      "cell_type": "code",
      "source": [
        "\n",
        "square = lambda s: s**2\n",
        "\n",
        "square(5)"
      ],
      "metadata": {
        "colab": {
          "base_uri": "https://localhost:8080/"
        },
        "id": "P_XylhpqvvHm",
        "outputId": "d402bba2-154c-4a09-e718-9a020f8b8c3d"
      },
      "execution_count": 127,
      "outputs": [
        {
          "output_type": "execute_result",
          "data": {
            "text/plain": [
              "25"
            ]
          },
          "metadata": {},
          "execution_count": 127
        }
      ]
    },
    {
      "cell_type": "code",
      "source": [
        "l"
      ],
      "metadata": {
        "colab": {
          "base_uri": "https://localhost:8080/"
        },
        "id": "fU7tsnDywEmX",
        "outputId": "3ee3f08e-9d6f-4a31-e081-7cf482101491"
      },
      "execution_count": 128,
      "outputs": [
        {
          "output_type": "execute_result",
          "data": {
            "text/plain": [
              "[0, 1, 2, 3, 4, 5, 6, 7, 8, 9]"
            ]
          },
          "metadata": {},
          "execution_count": 128
        }
      ]
    },
    {
      "cell_type": "code",
      "source": [
        "squares = [square(i) for i in l]\n",
        "\n",
        "squares"
      ],
      "metadata": {
        "colab": {
          "base_uri": "https://localhost:8080/"
        },
        "id": "JZZ5qVYMv279",
        "outputId": "039565d8-1d45-42f6-9b82-3670ed981073"
      },
      "execution_count": 129,
      "outputs": [
        {
          "output_type": "execute_result",
          "data": {
            "text/plain": [
              "[0, 1, 4, 9, 16, 25, 36, 49, 64, 81]"
            ]
          },
          "metadata": {},
          "execution_count": 129
        }
      ]
    },
    {
      "cell_type": "markdown",
      "source": [
        "# Homework\n",
        "\n",
        "Write a lambda function to swap the order of every [a,b] in x.\n",
        "\n",
        "Hint.  See below.  So just make this a loop and do this for every item in x.\n"
      ],
      "metadata": {
        "id": "JYzsd7sswSLw"
      }
    },
    {
      "cell_type": "code",
      "source": [
        "a=[[1,3]]\n",
        "\n",
        "swap = [[i[1],i[0]] for i in a]\n",
        "\n",
        "swap"
      ],
      "metadata": {
        "colab": {
          "base_uri": "https://localhost:8080/"
        },
        "id": "F_qEJzVMw7TQ",
        "outputId": "d0f8ea2e-6c5c-4848-8e67-4d3b3a86e0a7"
      },
      "execution_count": 130,
      "outputs": [
        {
          "output_type": "execute_result",
          "data": {
            "text/plain": [
              "[[3, 1]]"
            ]
          },
          "metadata": {},
          "execution_count": 130
        }
      ]
    },
    {
      "cell_type": "code",
      "source": [
        "x = []\n",
        "\n",
        "for i in range(10):\n",
        "  a=[random.randint(1,10),random.randint(1,10)]\n",
        "  x.append(a)\n",
        "\n",
        "x\n"
      ],
      "metadata": {
        "colab": {
          "base_uri": "https://localhost:8080/"
        },
        "id": "5rhnVEHlwVWL",
        "outputId": "fa3f2b91-4e00-40fc-9e25-2249149f1665"
      },
      "execution_count": 131,
      "outputs": [
        {
          "output_type": "execute_result",
          "data": {
            "text/plain": [
              "[[10, 3],\n",
              " [7, 6],\n",
              " [8, 10],\n",
              " [4, 1],\n",
              " [2, 9],\n",
              " [3, 1],\n",
              " [1, 10],\n",
              " [5, 5],\n",
              " [4, 4],\n",
              " [2, 7]]"
            ]
          },
          "metadata": {},
          "execution_count": 131
        }
      ]
    },
    {
      "cell_type": "markdown",
      "source": [
        "# Homework (advanced)\n",
        "\n",
        "## Tik Tac Toe\n",
        "The game of Tac Toe is played between two players,  you start with an empty board like this.  It has 3 rows and 3 columns.\n",
        "\n",
        "\n",
        "A player wins when they have made a straignt line anywhere.\n",
        "\n",
        "For example, this is a winner:\n",
        "\n",
        "```\n",
        "\n",
        "['o', 'x', 'o']\n",
        "['x', 'x', 'o']\n",
        "['o', 'o', 'x']\n",
        "\n",
        "```\n",
        "\n",
        "So is this:\n",
        "\n",
        "```\n",
        "['x', 'o', 'o']\n",
        "['x', 'o', 'o']\n",
        "['x', 'o', 'x']\n",
        "```\n",
        "\n",
        "So it this:\n",
        "\n",
        "['o', 'o', 'o']\n",
        "['x', 'x', 'x']\n",
        "['o', 'o', 'o']\n",
        "\n",
        "\n",
        "Look at the bottom of this page for the code you can use.  It fills a tic-tac-toe board with random x and o.  But the code is incomplete because I have hard-coded the line that check for a winner.   This just checks the first column in each row.\n",
        "\n",
        "You need to replace [0][1] for example for [i][j] and change i and j for `for i in range(something` and `for j in range(something)`\n",
        "\n",
        "\n",
        "```\n",
        "board[0][0] == board[1][0] == board[2][0]\n",
        "```\n",
        "\n",
        "\n"
      ],
      "metadata": {
        "id": "bJbb4IR2l6zj"
      }
    },
    {
      "cell_type": "markdown",
      "source": [
        "\n",
        "\n",
        "#Homework:  \n",
        "\n",
        "1. fix this IndexError\n",
        "\n",
        "\n",
        "\n",
        "```\n",
        "stack=[None, 1, 2, 3, 4, 5]\n",
        "\n",
        "while len(stack) > 0:\n",
        "  out = stack[i]\n",
        "  del stack[i]\n",
        "  print(out,stack)\n",
        "  i ++ 1\n",
        "```\n",
        "\n",
        "```\n",
        "use:\n",
        "\n",
        "l=[0,1,2,3,4,5,6,7,8,9]\n",
        "\n",
        "```\n",
        "\n",
        "2.  make a list comprehension to double every number in the list\n",
        "\n",
        "3.  make a list comprehension to double every number in the list only if it is even\n",
        "\n",
        "\n"
      ],
      "metadata": {
        "id": "VeJE-LmnmEEP"
      }
    },
    {
      "cell_type": "markdown",
      "source": [
        "# Tic-Tac-Toe Game\n",
        "\n",
        "This game is incomplete.  It only fills the board correctly.  The logic to check for winner's is incomplete.  And the you need to use something like this to make a loop that runs until there is a winner:\n",
        "\n",
        "```\n",
        "isWinner=False\n",
        "\n",
        "while isWinner == False:\n",
        "  fillboard\n",
        "  isWinner=checkWinner()\n",
        "\n",
        "```  \n",
        "\n",
        "A player can win like this:\n",
        "\n",
        "1.  all the letters in any column are the same\n",
        "2.  all the letters in any row are the same\n",
        "2.  all the lettters along the diagonal are the same\n"
      ],
      "metadata": {
        "id": "Lqwksgjg-9wG"
      }
    },
    {
      "cell_type": "code",
      "source": [
        "def fillBoard():\n",
        "\n",
        "  # create an empty board\n",
        "  board = [[None,None,None],\n",
        "    [None,None,None],\n",
        "    [None,None,None]]\n",
        "\n",
        "  # fill board with random values of x or o\n",
        "\n",
        "  for column in range(3):\n",
        "    for row in range(3):\n",
        "      board[row][column]=square()\n",
        "\n",
        "  return(board)\n",
        "\n",
        "import random\n",
        "\n",
        "\n",
        "# this checks to see if there is a winner.  But it is complete since it is # hard-coded\n",
        "\n",
        "def checkWinner(b):\n",
        "\n",
        "  return b[0][0] == b[1][0] == b[2][0]\n",
        "\n",
        "\n",
        "# this just turns a random number 0 or 1 into an x or o\n",
        "def square():\n",
        "\n",
        "  number=random.randint(0,1)\n",
        "\n",
        "  if number == 0:\n",
        "    square = \"x\"\n",
        "  else:\n",
        "    square = \"o\"\n",
        "\n",
        "  return square\n",
        "\n",
        "\n",
        "# fill the board with x and o\n",
        "board = fillBoard()\n",
        "\n",
        "print(\"\\nprinting randomly created board:\\n\")\n",
        "\n",
        "# print each row at a time (since easier to see) than print(board)\n",
        "for i in board:\n",
        "  print(i)\n",
        "\n",
        "print(\"\\nprinting randomly created board:\\n\")\n",
        "\n",
        "print(\"\\nrow 0, colum 0\", board[0][0])\n",
        "print(\"\\nrow 1, colum 0\",board[1][0])\n",
        "print(\"\\nrow 2, colum 0\",board[2][0])\n",
        "\n",
        "\n",
        "# check to see if there is a winner\n",
        "print(\"\\nchecking for winner\\n\")\n",
        "\n",
        "isWinner=checkWinner(board)\n",
        "\n",
        "if isWinner:\n",
        "  print(\"done\")\n",
        "else:\n",
        "  print(\"keep going\")\n",
        "\n",
        "\n",
        "# write code here to repeat fillBoard() until you have a winner\n",
        "\n",
        "\n",
        "\n",
        "\n",
        "\n"
      ],
      "metadata": {
        "id": "Ycygi--l2Doe",
        "outputId": "cad1761a-8815-4970-976b-fa36c47a9ebb",
        "colab": {
          "base_uri": "https://localhost:8080/"
        }
      },
      "execution_count": 136,
      "outputs": [
        {
          "output_type": "stream",
          "name": "stdout",
          "text": [
            "\n",
            "printing randomly created board:\n",
            "\n",
            "['o', 'o', 'x']\n",
            "['x', 'o', 'o']\n",
            "['x', 'o', 'x']\n",
            "\n",
            "printing randomly created board:\n",
            "\n",
            "\n",
            "row 0, colum 0 o\n",
            "\n",
            "row 1, colum 0 x\n",
            "\n",
            "row 2, colum 0 x\n",
            "\n",
            "checking for winner\n",
            "\n",
            "keep going\n"
          ]
        }
      ]
    },
    {
      "cell_type": "code",
      "source": [],
      "metadata": {
        "id": "INNXYKQ32C90"
      },
      "execution_count": 132,
      "outputs": []
    }
  ]
}