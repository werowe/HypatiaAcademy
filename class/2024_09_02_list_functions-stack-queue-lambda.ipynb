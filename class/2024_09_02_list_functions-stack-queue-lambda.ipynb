{
  "nbformat": 4,
  "nbformat_minor": 0,
  "metadata": {
    "colab": {
      "provenance": [],
      "authorship_tag": "ABX9TyP2RnISCL6mTZQ3QDmbyJeK",
      "include_colab_link": true
    },
    "kernelspec": {
      "name": "python3",
      "display_name": "Python 3"
    },
    "language_info": {
      "name": "python"
    }
  },
  "cells": [
    {
      "cell_type": "markdown",
      "metadata": {
        "id": "view-in-github",
        "colab_type": "text"
      },
      "source": [
        "<a href=\"https://colab.research.google.com/github/werowe/HypatiaAcademy/blob/master/class/2024_09_02_list_functions-stack-queue-lambda.ipynb\" target=\"_parent\"><img src=\"https://colab.research.google.com/assets/colab-badge.svg\" alt=\"Open In Colab\"/></a>"
      ]
    },
    {
      "cell_type": "markdown",
      "source": [
        "# Queue versus Stack\n",
        "\n",
        "* queue--FIFO (first in first out), like line in the airport\n",
        "* stack--LIFO (last in first out), a pile of potatoes\n",
        "\n",
        "![](https://gohighbrow.com/wp-content/uploads/2018/07/Computer-science-fundamentals_6.1.png)\n",
        "\n"
      ],
      "metadata": {
        "id": "VFSmw7LZwMQT"
      }
    },
    {
      "cell_type": "code",
      "source": [
        "\n",
        "import random\n",
        "\n",
        "queue=[]\n",
        "stack=[]\n",
        "\n",
        "# here first item added is queue[0] and stack[0]\n",
        "# last item added is queue[9] and stack[9]\n",
        "\n",
        "for i in range(10):\n",
        "  queue.append(i)\n",
        "  stack.append(i)\n",
        "\n",
        "print(stack, \"\\n\")\n",
        "print(queue, \"\\n\")\n"
      ],
      "metadata": {
        "id": "3mqq9G2wwObV",
        "colab": {
          "base_uri": "https://localhost:8080/"
        },
        "outputId": "f2d87d41-3adb-45fa-cf35-8188ac4fa179"
      },
      "execution_count": 6,
      "outputs": [
        {
          "output_type": "stream",
          "name": "stdout",
          "text": [
            "[0, 1, 2, 3, 4, 5, 6, 7, 8, 9] \n",
            "\n",
            "[0, 1, 2, 3, 4, 5, 6, 7, 8, 9] \n",
            "\n"
          ]
        }
      ]
    },
    {
      "cell_type": "code",
      "source": [
        "for q in queue:\n",
        "  print(q)"
      ],
      "metadata": {
        "id": "n6DSVJdMdzon",
        "outputId": "3fef5e56-08f2-4f3f-f4db-be826dbddfb4",
        "colab": {
          "base_uri": "https://localhost:8080/"
        }
      },
      "execution_count": 3,
      "outputs": [
        {
          "output_type": "stream",
          "name": "stdout",
          "text": [
            "0\n",
            "1\n",
            "2\n",
            "3\n",
            "4\n",
            "5\n",
            "6\n",
            "7\n",
            "8\n",
            "9\n"
          ]
        }
      ]
    },
    {
      "cell_type": "code",
      "source": [
        "# puzzle:  why does this loop stop before len(queue)\n",
        "\n",
        "# extra credit homework.  see if you can figure this out\n",
        "for i in queue:\n",
        "  popped = queue.pop()\n",
        "  print(popped, queue)\n",
        "\n"
      ],
      "metadata": {
        "id": "gKWIzf7Lqr0s",
        "outputId": "f2c663f0-7418-471b-b993-b3b62d690661",
        "colab": {
          "base_uri": "https://localhost:8080/"
        }
      },
      "execution_count": 4,
      "outputs": [
        {
          "output_type": "stream",
          "name": "stdout",
          "text": [
            "9 [0, 1, 2, 3, 4, 5, 6, 7, 8]\n",
            "8 [0, 1, 2, 3, 4, 5, 6, 7]\n",
            "7 [0, 1, 2, 3, 4, 5, 6]\n",
            "6 [0, 1, 2, 3, 4, 5]\n",
            "5 [0, 1, 2, 3, 4]\n"
          ]
        }
      ]
    },
    {
      "cell_type": "code",
      "source": [
        "queue"
      ],
      "metadata": {
        "id": "TAcnxOsieLQ2",
        "outputId": "2fea0013-5ac7-4bfc-c90e-abd74cb7bd0d",
        "colab": {
          "base_uri": "https://localhost:8080/"
        }
      },
      "execution_count": 5,
      "outputs": [
        {
          "output_type": "execute_result",
          "data": {
            "text/plain": [
              "[0, 1, 2, 3, 4]"
            ]
          },
          "metadata": {},
          "execution_count": 5
        }
      ]
    },
    {
      "cell_type": "code",
      "source": [
        "# LIFO\n",
        "\n",
        "# the last time in is the first item removed.  we 'pop' it off.  it's the\n",
        "# person at the kiosk who exits the line first\n",
        "\n",
        "\n",
        "\n",
        "for i in range(len(stack)):\n",
        "  leave = stack.pop()\n",
        "  print(leave, stack)"
      ],
      "metadata": {
        "colab": {
          "base_uri": "https://localhost:8080/"
        },
        "id": "A-G0WfxuqiPD",
        "outputId": "d8c90b1c-26e4-4066-a55e-86f131835970"
      },
      "execution_count": 7,
      "outputs": [
        {
          "output_type": "stream",
          "name": "stdout",
          "text": [
            "9 [0, 1, 2, 3, 4, 5, 6, 7, 8]\n",
            "8 [0, 1, 2, 3, 4, 5, 6, 7]\n",
            "7 [0, 1, 2, 3, 4, 5, 6]\n",
            "6 [0, 1, 2, 3, 4, 5]\n",
            "5 [0, 1, 2, 3, 4]\n",
            "4 [0, 1, 2, 3]\n",
            "3 [0, 1, 2]\n",
            "2 [0, 1]\n",
            "1 [0]\n",
            "0 []\n"
          ]
        }
      ]
    },
    {
      "cell_type": "code",
      "source": [
        "# FIFO.  This removes the first item from the list first.  This is the doctor's waiting room.\n",
        "\n",
        "import random\n",
        "\n",
        "\n",
        "\n",
        "# the way I added items to the list was to go:\n",
        "\n",
        "\n",
        "# it's hard to show item in first\n",
        "\n",
        "# This is LAST IN\n",
        "\n",
        "l=[None,None,None,None,None,None]\n",
        "\n",
        "\n",
        "# range(from,to,step)\n",
        "\n",
        "for i in range(len(l) -1 ,0,-1):\n",
        "    # debug by printing stuff\n",
        "    #l[i]=random.randint(0,10)\n",
        "    l[i]=i\n",
        "    #print(i,l[i])\n",
        "\n",
        "\n",
        "print(l)\n",
        "# not try first out\n",
        "\n",
        "stack=l\n"
      ],
      "metadata": {
        "colab": {
          "base_uri": "https://localhost:8080/"
        },
        "id": "UGfpPPcwrHtb",
        "outputId": "1d0d639c-c364-4101-eaf5-0d3d572925e8"
      },
      "execution_count": 31,
      "outputs": [
        {
          "output_type": "stream",
          "name": "stdout",
          "text": [
            "[None, 1, 2, 3, 4, 5]\n"
          ]
        }
      ]
    },
    {
      "cell_type": "code",
      "source": [
        "\n",
        "#Homework:  fix this\n",
        "\n",
        "while len(stack) > 0:\n",
        "  out = stack[i]\n",
        "  del stack[i]\n",
        "  print(out,stack)\n",
        "  i ++ 1\n",
        "\n"
      ],
      "metadata": {
        "id": "KojTBq2Lh4xM",
        "outputId": "eb7e75c4-e48d-41cf-d1bb-c4f04046a254",
        "colab": {
          "base_uri": "https://localhost:8080/",
          "height": 297
        }
      },
      "execution_count": 30,
      "outputs": [
        {
          "output_type": "stream",
          "name": "stdout",
          "text": [
            "1 [None, 2, 3, 4, 5]\n",
            "2 [None, 3, 4, 5]\n",
            "3 [None, 4, 5]\n",
            "4 [None, 5]\n",
            "5 [None]\n"
          ]
        },
        {
          "output_type": "error",
          "ename": "IndexError",
          "evalue": "list index out of range",
          "traceback": [
            "\u001b[0;31m---------------------------------------------------------------------------\u001b[0m",
            "\u001b[0;31mIndexError\u001b[0m                                Traceback (most recent call last)",
            "\u001b[0;32m<ipython-input-30-92fe6a0b877b>\u001b[0m in \u001b[0;36m<cell line: 1>\u001b[0;34m()\u001b[0m\n\u001b[1;32m      1\u001b[0m \u001b[0;32mwhile\u001b[0m \u001b[0mlen\u001b[0m\u001b[0;34m(\u001b[0m\u001b[0mstack\u001b[0m\u001b[0;34m)\u001b[0m \u001b[0;34m>\u001b[0m \u001b[0;36m0\u001b[0m\u001b[0;34m:\u001b[0m\u001b[0;34m\u001b[0m\u001b[0;34m\u001b[0m\u001b[0m\n\u001b[0;32m----> 2\u001b[0;31m   \u001b[0mout\u001b[0m \u001b[0;34m=\u001b[0m \u001b[0mstack\u001b[0m\u001b[0;34m[\u001b[0m\u001b[0mi\u001b[0m\u001b[0;34m]\u001b[0m\u001b[0;34m\u001b[0m\u001b[0;34m\u001b[0m\u001b[0m\n\u001b[0m\u001b[1;32m      3\u001b[0m   \u001b[0;32mdel\u001b[0m \u001b[0mstack\u001b[0m\u001b[0;34m[\u001b[0m\u001b[0mi\u001b[0m\u001b[0;34m]\u001b[0m\u001b[0;34m\u001b[0m\u001b[0;34m\u001b[0m\u001b[0m\n\u001b[1;32m      4\u001b[0m   \u001b[0mprint\u001b[0m\u001b[0;34m(\u001b[0m\u001b[0mout\u001b[0m\u001b[0;34m,\u001b[0m\u001b[0mstack\u001b[0m\u001b[0;34m)\u001b[0m\u001b[0;34m\u001b[0m\u001b[0;34m\u001b[0m\u001b[0m\n\u001b[1;32m      5\u001b[0m   \u001b[0mi\u001b[0m \u001b[0;34m+\u001b[0m\u001b[0;34m+\u001b[0m \u001b[0;36m1\u001b[0m\u001b[0;34m\u001b[0m\u001b[0;34m\u001b[0m\u001b[0m\n",
            "\u001b[0;31mIndexError\u001b[0m: list index out of range"
          ]
        }
      ]
    },
    {
      "cell_type": "code",
      "source": [],
      "metadata": {
        "id": "9uqyI4RuiKkB"
      },
      "execution_count": null,
      "outputs": []
    },
    {
      "cell_type": "code",
      "source": [
        "while len(l) > 0:   # this means keeep going until the list is empty\n",
        "  l.pop(0)       # remove first object from list\n",
        "  print(l)\n",
        "\n"
      ],
      "metadata": {
        "id": "mo_zUnLziCSz",
        "outputId": "6b153521-e1cf-40cc-93fe-a2d44427d10a",
        "colab": {
          "base_uri": "https://localhost:8080/"
        }
      },
      "execution_count": 32,
      "outputs": [
        {
          "output_type": "stream",
          "name": "stdout",
          "text": [
            "[1, 2, 3, 4, 5]\n",
            "[2, 3, 4, 5]\n",
            "[3, 4, 5]\n",
            "[4, 5]\n",
            "[5]\n",
            "[]\n"
          ]
        },
        {
          "output_type": "execute_result",
          "data": {
            "text/plain": [
              "[]"
            ]
          },
          "metadata": {},
          "execution_count": 32
        }
      ]
    },
    {
      "cell_type": "code",
      "source": [
        "# step means increment\n",
        "\n",
        "# step means next one is previous one + step\n",
        "\n",
        "# 0, 0+1, 0+2\n",
        "# 0, 0+2, 0+4\n",
        "\n",
        "\n",
        "for i in range(0,10,2):\n",
        "  print(i)\n",
        "\n",
        "#. range(len(l) -1 ,0,-1):\n",
        "\n",
        "# 4 , 4 + (-1),"
      ],
      "metadata": {
        "id": "ODny-9O5g5jZ",
        "outputId": "adaea223-c23f-4584-fcae-c3fecd8f282d",
        "colab": {
          "base_uri": "https://localhost:8080/"
        }
      },
      "execution_count": 24,
      "outputs": [
        {
          "output_type": "stream",
          "name": "stdout",
          "text": [
            "0\n",
            "2\n",
            "4\n",
            "6\n",
            "8\n"
          ]
        },
        {
          "output_type": "execute_result",
          "data": {
            "text/plain": [
              "6"
            ]
          },
          "metadata": {},
          "execution_count": 24
        }
      ]
    },
    {
      "cell_type": "code",
      "source": [
        "\n",
        "\n",
        "while len(stack) > 0:\n",
        "  out = stack[i]\n",
        "  del stack[i]\n",
        "  print(out,stack)\n",
        "  i ++ 1\n"
      ],
      "metadata": {
        "id": "w6rG7s0FgIH0"
      },
      "execution_count": null,
      "outputs": []
    },
    {
      "cell_type": "code",
      "source": [
        "for i in range(10,5,-1):\n",
        "    print(i)"
      ],
      "metadata": {
        "id": "J5_ZbHFwfmc-",
        "outputId": "7d0bb67b-b2b8-466a-a721-0359c9c7d900",
        "colab": {
          "base_uri": "https://localhost:8080/"
        }
      },
      "execution_count": 12,
      "outputs": [
        {
          "output_type": "stream",
          "name": "stdout",
          "text": [
            "10\n",
            "9\n",
            "8\n",
            "7\n",
            "6\n"
          ]
        }
      ]
    },
    {
      "cell_type": "code",
      "source": [],
      "metadata": {
        "colab": {
          "base_uri": "https://localhost:8080/"
        },
        "id": "PTxDs3Qjs5NT",
        "outputId": "8ac790b2-33d2-4d05-97a6-330355783ba0"
      },
      "execution_count": null,
      "outputs": [
        {
          "output_type": "execute_result",
          "data": {
            "text/plain": [
              "[1, 2, 3, 4, 5, 6, 7, 8, 9]"
            ]
          },
          "metadata": {},
          "execution_count": 21
        }
      ]
    },
    {
      "cell_type": "markdown",
      "source": [
        "#Two Dimensional Lists\n",
        "\n"
      ],
      "metadata": {
        "id": "hdQRKg1ytZOa"
      }
    },
    {
      "cell_type": "code",
      "source": [
        "twoD = [\n",
        "    [1,2],\n",
        "    [3,4]\n",
        "]\n",
        "\n",
        "twoD"
      ],
      "metadata": {
        "id": "LTs4CwPNjUlJ",
        "outputId": "bdaf57ef-1e6c-4cc9-dcc7-dd876237af55",
        "colab": {
          "base_uri": "https://localhost:8080/"
        }
      },
      "execution_count": 33,
      "outputs": [
        {
          "output_type": "execute_result",
          "data": {
            "text/plain": [
              "[[1, 2], [3, 4]]"
            ]
          },
          "metadata": {},
          "execution_count": 33
        }
      ]
    },
    {
      "cell_type": "code",
      "source": [
        "twoD[0]"
      ],
      "metadata": {
        "id": "MVYzZebTj9c-",
        "outputId": "398e3377-d1f1-4b4d-c947-4b41bb1aa4c0",
        "colab": {
          "base_uri": "https://localhost:8080/"
        }
      },
      "execution_count": 34,
      "outputs": [
        {
          "output_type": "execute_result",
          "data": {
            "text/plain": [
              "[1, 2]"
            ]
          },
          "metadata": {},
          "execution_count": 34
        }
      ]
    },
    {
      "cell_type": "code",
      "source": [
        "twoD[0][0]"
      ],
      "metadata": {
        "id": "dr-w3I5ZkAty",
        "outputId": "78cb4769-661b-486e-911e-8a81553ef844",
        "colab": {
          "base_uri": "https://localhost:8080/"
        }
      },
      "execution_count": 35,
      "outputs": [
        {
          "output_type": "execute_result",
          "data": {
            "text/plain": [
              "1"
            ]
          },
          "metadata": {},
          "execution_count": 35
        }
      ]
    },
    {
      "cell_type": "code",
      "source": [
        "twoD[0][1]"
      ],
      "metadata": {
        "id": "yFFV9xctkG1c",
        "outputId": "6b745ee1-e671-41f9-8fa5-64388e001d89",
        "colab": {
          "base_uri": "https://localhost:8080/"
        }
      },
      "execution_count": 36,
      "outputs": [
        {
          "output_type": "execute_result",
          "data": {
            "text/plain": [
              "2"
            ]
          },
          "metadata": {},
          "execution_count": 36
        }
      ]
    },
    {
      "cell_type": "code",
      "source": [
        "l = [1,2,3]"
      ],
      "metadata": {
        "id": "hDiKIItqjtBG"
      },
      "execution_count": null,
      "outputs": []
    },
    {
      "cell_type": "code",
      "source": [
        "x = []\n",
        "\n",
        "for i in range(10):\n",
        "  x.append([random.randint(1,10),random.randint(1,10)])\n",
        "\n",
        "x"
      ],
      "metadata": {
        "colab": {
          "base_uri": "https://localhost:8080/"
        },
        "id": "-vgv_ZvittJD",
        "outputId": "d319ed62-f8f7-4d1d-d496-0e351f4e299f"
      },
      "execution_count": null,
      "outputs": [
        {
          "output_type": "execute_result",
          "data": {
            "text/plain": [
              "[[10, 10],\n",
              " [7, 3],\n",
              " [8, 9],\n",
              " [5, 1],\n",
              " [4, 5],\n",
              " [7, 9],\n",
              " [5, 3],\n",
              " [10, 9],\n",
              " [10, 4],\n",
              " [10, 6]]"
            ]
          },
          "metadata": {},
          "execution_count": 28
        }
      ]
    },
    {
      "cell_type": "code",
      "source": [
        "# what is first item in 3rd item\n",
        "\n",
        "print(x[3][0])\n",
        "\n",
        "\n",
        "# second\n",
        "\n",
        "print(x[3][1])"
      ],
      "metadata": {
        "colab": {
          "base_uri": "https://localhost:8080/"
        },
        "id": "sntQpG-xuSNy",
        "outputId": "0947c1ac-6e75-4c99-fa02-d2496d56962f"
      },
      "execution_count": null,
      "outputs": [
        {
          "output_type": "stream",
          "name": "stdout",
          "text": [
            "5\n",
            "1\n"
          ]
        }
      ]
    },
    {
      "cell_type": "markdown",
      "source": [
        "# List Comprehension\n",
        "\n",
        "This is a way to make a list from an existing list\n",
        "by running some function over it:\n",
        "\n",
        "```\n",
        "[i for i in l logic]\n",
        "\n",
        "```"
      ],
      "metadata": {
        "id": "dN_g9GhyvJG0"
      }
    },
    {
      "cell_type": "code",
      "source": [
        "l = [1,2,3,4,5,6,7,8,9]\n",
        "\n",
        "\n",
        "# [ do something. for i (make a variable). in list]\n",
        "\n",
        "[i**2 for i in l]\n",
        "\n",
        "\n"
      ],
      "metadata": {
        "id": "feCJH3qikdRA",
        "outputId": "9553c56c-4f2e-4bfd-d169-07486443660c",
        "colab": {
          "base_uri": "https://localhost:8080/"
        }
      },
      "execution_count": 37,
      "outputs": [
        {
          "output_type": "execute_result",
          "data": {
            "text/plain": [
              "[1, 4, 9]"
            ]
          },
          "metadata": {},
          "execution_count": 37
        }
      ]
    },
    {
      "cell_type": "code",
      "source": [
        "# % means remainder after division\n",
        "\n",
        "3 % 2 == 1"
      ],
      "metadata": {
        "id": "3GHU80jvk_g1",
        "outputId": "d4829982-0eda-43ac-ac47-d31522a29940",
        "colab": {
          "base_uri": "https://localhost:8080/"
        }
      },
      "execution_count": 38,
      "outputs": [
        {
          "output_type": "execute_result",
          "data": {
            "text/plain": [
              "True"
            ]
          },
          "metadata": {},
          "execution_count": 38
        }
      ]
    },
    {
      "cell_type": "code",
      "source": [
        "# 3 /2 = 2/2 + 1/2 = 3/2\n",
        "\n",
        "# 4 % 2 = 0\n",
        "\n",
        "# proof.   4 / 2 = 4/2 + 0 = 2"
      ],
      "metadata": {
        "id": "ZILnA7p5lLUg"
      },
      "execution_count": null,
      "outputs": []
    },
    {
      "cell_type": "code",
      "source": [
        "\n",
        "l = [1,2,3,4,5,6,7,8,9]\n",
        "\n",
        "\n",
        "odd = [i for i in l if i % 2 > 0]\n",
        "\n",
        "odd"
      ],
      "metadata": {
        "colab": {
          "base_uri": "https://localhost:8080/"
        },
        "id": "KsFePRWZvLtb",
        "outputId": "8459aaf3-ef9e-4534-ef53-c35b702f8871"
      },
      "execution_count": 41,
      "outputs": [
        {
          "output_type": "execute_result",
          "data": {
            "text/plain": [
              "[1, 3, 5, 7, 9]"
            ]
          },
          "metadata": {},
          "execution_count": 41
        }
      ]
    },
    {
      "cell_type": "code",
      "source": [
        "l"
      ],
      "metadata": {
        "id": "JNe9NFmPlqoD",
        "outputId": "5d71cfe0-c1c4-48a4-abf7-c6838c82f286",
        "colab": {
          "base_uri": "https://localhost:8080/"
        }
      },
      "execution_count": 40,
      "outputs": [
        {
          "output_type": "execute_result",
          "data": {
            "text/plain": [
              "[1, 2, 3]"
            ]
          },
          "metadata": {},
          "execution_count": 40
        }
      ]
    },
    {
      "cell_type": "code",
      "source": [
        "l=[]\n",
        "\n",
        "for i in range(10):\n",
        "  l.append(i)\n",
        "\n",
        "squares = [i**2 for i in l]\n",
        "\n",
        "squares\n"
      ],
      "metadata": {
        "colab": {
          "base_uri": "https://localhost:8080/"
        },
        "id": "nzn1sl0xvmmw",
        "outputId": "d5e65848-4ab3-489d-8c8c-d860f612e799"
      },
      "execution_count": null,
      "outputs": [
        {
          "output_type": "execute_result",
          "data": {
            "text/plain": [
              "[0, 1, 4, 9, 16, 25, 36, 49, 64, 81]"
            ]
          },
          "metadata": {},
          "execution_count": 37
        }
      ]
    },
    {
      "cell_type": "markdown",
      "source": [
        "#Lamdba Functions"
      ],
      "metadata": {
        "id": "UnmwmeOI17s1"
      }
    },
    {
      "cell_type": "code",
      "source": [
        "\n",
        "square = lambda s: s**2\n",
        "\n",
        "s(5)"
      ],
      "metadata": {
        "colab": {
          "base_uri": "https://localhost:8080/"
        },
        "id": "P_XylhpqvvHm",
        "outputId": "31636d62-b044-496f-aa08-14068806e48e"
      },
      "execution_count": null,
      "outputs": [
        {
          "output_type": "execute_result",
          "data": {
            "text/plain": [
              "25"
            ]
          },
          "metadata": {},
          "execution_count": 44
        }
      ]
    },
    {
      "cell_type": "code",
      "source": [
        "l"
      ],
      "metadata": {
        "colab": {
          "base_uri": "https://localhost:8080/"
        },
        "id": "fU7tsnDywEmX",
        "outputId": "fc785b3f-574b-4718-ee38-f4266c77fad4"
      },
      "execution_count": null,
      "outputs": [
        {
          "output_type": "execute_result",
          "data": {
            "text/plain": [
              "[0, 1, 2, 3, 4, 5, 6, 7, 8, 9]"
            ]
          },
          "metadata": {},
          "execution_count": 43
        }
      ]
    },
    {
      "cell_type": "code",
      "source": [
        "squares = [square(i) for i in l]\n",
        "\n",
        "squares"
      ],
      "metadata": {
        "colab": {
          "base_uri": "https://localhost:8080/"
        },
        "id": "JZZ5qVYMv279",
        "outputId": "3aeea5d1-3c23-451b-c491-2d3f55b69a33"
      },
      "execution_count": null,
      "outputs": [
        {
          "output_type": "execute_result",
          "data": {
            "text/plain": [
              "[0, 1, 4, 9, 16, 25, 36, 49, 64, 81]"
            ]
          },
          "metadata": {},
          "execution_count": 45
        }
      ]
    },
    {
      "cell_type": "markdown",
      "source": [
        "# Homework\n",
        "\n",
        "Write a lambda function to swap the order of every [a,b] in x.\n",
        "\n",
        "Hint.  See below.  So just make this a loop and do this for every item in x.\n"
      ],
      "metadata": {
        "id": "JYzsd7sswSLw"
      }
    },
    {
      "cell_type": "code",
      "source": [
        "a=[[1,3]]\n",
        "\n",
        "swap = [[i[1],i[0]] for i in a]\n",
        "\n",
        "swap"
      ],
      "metadata": {
        "colab": {
          "base_uri": "https://localhost:8080/"
        },
        "id": "F_qEJzVMw7TQ",
        "outputId": "6c040840-f57d-43f1-a3b1-1f3051d9c54d"
      },
      "execution_count": null,
      "outputs": [
        {
          "output_type": "execute_result",
          "data": {
            "text/plain": [
              "[[3, 1]]"
            ]
          },
          "metadata": {},
          "execution_count": 57
        }
      ]
    },
    {
      "cell_type": "code",
      "source": [
        "x = []\n",
        "\n",
        "for i in range(10):\n",
        "  a=[random.randint(1,10),random.randint(1,10)]\n",
        "  x.append(a)\n",
        "\n",
        "x\n"
      ],
      "metadata": {
        "colab": {
          "base_uri": "https://localhost:8080/"
        },
        "id": "5rhnVEHlwVWL",
        "outputId": "75b7a541-2b17-427e-e475-a45268958184"
      },
      "execution_count": null,
      "outputs": [
        {
          "output_type": "execute_result",
          "data": {
            "text/plain": [
              "[[3, 10],\n",
              " [9, 10],\n",
              " [9, 2],\n",
              " [4, 9],\n",
              " [1, 7],\n",
              " [2, 6],\n",
              " [5, 6],\n",
              " [1, 8],\n",
              " [8, 10],\n",
              " [5, 5]]"
            ]
          },
          "metadata": {},
          "execution_count": 58
        }
      ]
    },
    {
      "cell_type": "markdown",
      "source": [
        "# Homework (advanced)\n",
        "\n",
        "write a loop to create this:\n",
        "\n",
        "```\n",
        "\n",
        "['o', 'x', 'o']\n",
        "['x', 'x', 'o']\n",
        "['o', 'o', 'x']\n",
        "\n",
        "```\n",
        "\n"
      ],
      "metadata": {
        "id": "bJbb4IR2l6zj"
      }
    },
    {
      "cell_type": "markdown",
      "source": [
        "\n",
        "\n",
        "#Homework:  \n",
        "\n",
        "1. fix this IndexError\n",
        "\n",
        "\n",
        "\n",
        "```\n",
        "stack=[None, 1, 2, 3, 4, 5]\n",
        "\n",
        "while len(stack) > 0:\n",
        "  out = stack[i]\n",
        "  del stack[i]\n",
        "  print(out,stack)\n",
        "  i ++ 1\n",
        "```\n",
        "\n",
        "```\n",
        "use:\n",
        "\n",
        "l=[0,1,2,3,4,5,6,7,8,9]\n",
        "\n",
        "```\n",
        "\n",
        "2.  make a list comprehension to double every number in the list\n",
        "\n",
        "3.  make a list comprehension to double every number in the list only if it is even\n",
        "\n",
        "\n"
      ],
      "metadata": {
        "id": "VeJE-LmnmEEP"
      }
    }
  ]
}