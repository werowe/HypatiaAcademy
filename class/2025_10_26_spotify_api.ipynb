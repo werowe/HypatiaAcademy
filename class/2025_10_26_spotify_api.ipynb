{
  "nbformat": 4,
  "nbformat_minor": 0,
  "metadata": {
    "colab": {
      "provenance": [],
      "authorship_tag": "ABX9TyNrM4RUB3QV11OtvdeHq3hX",
      "include_colab_link": true
    },
    "kernelspec": {
      "name": "python3",
      "display_name": "Python 3"
    },
    "language_info": {
      "name": "python"
    }
  },
  "cells": [
    {
      "cell_type": "markdown",
      "metadata": {
        "id": "view-in-github",
        "colab_type": "text"
      },
      "source": [
        "<a href=\"https://colab.research.google.com/github/werowe/HypatiaAcademy/blob/master/class/2025_10_26_spotify_api.ipynb\" target=\"_parent\"><img src=\"https://colab.research.google.com/assets/colab-badge.svg\" alt=\"Open In Colab\"/></a>"
      ]
    },
    {
      "cell_type": "code",
      "execution_count": null,
      "metadata": {
        "id": "KvZyALm3afYd"
      },
      "outputs": [],
      "source": []
    },
    {
      "cell_type": "markdown",
      "source": [
        "[Spotify Documentation](https://developer.spotify.com/documentation/web-api/concepts/spotify-uris-ids)"
      ],
      "metadata": {
        "id": "nSvUmT-9gaee"
      }
    },
    {
      "cell_type": "code",
      "source": [
        "def login():\n",
        "\n",
        "  # Replace these with your actual Spotify Dashboard values\n",
        "  client_id = \"\"\n",
        "  client_secret = \"\"\n",
        "\n",
        "# 1. Get access token using Client Credentials Flow\n",
        "  auth_url = 'https://accounts.spotify.com/api/token'\n",
        "  auth_header = base64.b64encode(f\"{client_id}:{client_secret}\".encode()).decode()\n",
        "  headers = {\n",
        "    \"Authorization\": f\"Basic {auth_header}\"\n",
        "  }\n",
        "  data = {\n",
        "    \"grant_type\": \"client_credentials\"\n",
        "  }\n",
        "\n",
        "  auth_response = requests.post(auth_url, headers=headers, data=data)\n",
        "  access_token = auth_response.json()[\"access_token\"]\n",
        "\n",
        "  return access_token\n",
        "\n"
      ],
      "metadata": {
        "id": "IU_nJ6stzZpn"
      },
      "execution_count": null,
      "outputs": []
    },
    {
      "cell_type": "markdown",
      "source": [
        "# Get Artist"
      ],
      "metadata": {
        "id": "Yb6Iz6KP4NlF"
      }
    },
    {
      "cell_type": "code",
      "source": [
        "\n",
        "import requests\n",
        "import base64\n",
        "\n",
        "\n",
        "# Search for an artist\n",
        "artist_name = \"Katy Perry\"\n",
        "\n",
        "\n",
        "search_url = f\"https://api.spotify.com/v1/search\"\n",
        "\n",
        "access_token = login()\n",
        "\n",
        "search_headers = {\"Authorization\": f\"Bearer {access_token}\"}\n",
        "params = {\n",
        "    \"q\": artist_name,\n",
        "    \"type\": \"artist\",\n",
        "    \"limit\": 1\n",
        "}\n",
        "response = requests.get(search_url, headers=search_headers, params=params)\n",
        "result = response.json()\n",
        "\n",
        "# Get artist ID\n",
        "if result[\"artists\"][\"items\"]:\n",
        "    artist = result[\"artists\"][\"items\"][0]\n",
        "    print(\"Artist:\", artist[\"name\"])\n",
        "    print(\"Spotify ID:\", artist[\"id\"])\n",
        "else:\n",
        "    print(\"Artist not found\")\n",
        "\n",
        "\n",
        "csv = {\"artist\" : artist[\"name\"]}"
      ],
      "metadata": {
        "colab": {
          "base_uri": "https://localhost:8080/"
        },
        "id": "ZLHAxhYSdNJ5",
        "outputId": "f377ef17-7904-4838-e1ae-81a1bc8dc7fc"
      },
      "execution_count": null,
      "outputs": [
        {
          "output_type": "stream",
          "name": "stdout",
          "text": [
            "Artist: Katy Perry\n",
            "Spotify ID: 6jJ0s89eD6GaHleKKya26X\n"
          ]
        }
      ]
    },
    {
      "cell_type": "markdown",
      "source": [
        "# Get Albums, Songs"
      ],
      "metadata": {
        "id": "sbqpE-Fo4JeO"
      }
    },
    {
      "cell_type": "code",
      "source": [
        "#get albums\n",
        "\n",
        "\n",
        "import json\n",
        "\n",
        "artist_id = artist[\"id\"]\n",
        "\n",
        "access_token = login()\n",
        "\n",
        "headers = {\n",
        "    \"Authorization\": f\"Basic {access_token}\"\n",
        "}\n",
        "\n",
        "url=f\"https://api.spotify.com/v1/artists/{artist_id}/albums\"\n",
        "\n",
        "params = {\n",
        "    \"include_groups\": \"album,single,compilation,appears_on\",\n",
        "    \"market\": \"UA\",\n",
        "    \"limit\": 50,\n",
        "    \"offset\": 0\n",
        "}\n",
        "\n",
        "\n",
        "response = requests.get(url, headers=search_headers, params=params)\n",
        "albums = response.json()\n",
        "\n",
        "\n",
        "\n",
        "\n",
        "first_album = albums['items'][0]\n",
        "\n",
        "album_ids = []\n",
        "\n",
        "for a in albums['items']:\n",
        "  album_ids.append(a['id'])\n",
        "\n"
      ],
      "metadata": {
        "id": "OZhqlM4efFS4"
      },
      "execution_count": null,
      "outputs": []
    },
    {
      "cell_type": "code",
      "source": [
        "first_album"
      ],
      "metadata": {
        "colab": {
          "base_uri": "https://localhost:8080/"
        },
        "id": "Z5aXA-Ph6MS8",
        "outputId": "0f47306e-6c0a-4759-b7ba-cd1d2fda95a7"
      },
      "execution_count": null,
      "outputs": [
        {
          "output_type": "execute_result",
          "data": {
            "text/plain": [
              "{'album_type': 'album',\n",
              " 'total_tracks': 15,\n",
              " 'is_playable': True,\n",
              " 'external_urls': {'spotify': 'https://open.spotify.com/album/5Xd0KCzb0EJtPbUEiyxYVH'},\n",
              " 'href': 'https://api.spotify.com/v1/albums/5Xd0KCzb0EJtPbUEiyxYVH',\n",
              " 'id': '5Xd0KCzb0EJtPbUEiyxYVH',\n",
              " 'images': [{'url': 'https://i.scdn.co/image/ab67616d0000b273ddac71a12622bdc7e9d3e795',\n",
              "   'height': 640,\n",
              "   'width': 640},\n",
              "  {'url': 'https://i.scdn.co/image/ab67616d00001e02ddac71a12622bdc7e9d3e795',\n",
              "   'height': 300,\n",
              "   'width': 300},\n",
              "  {'url': 'https://i.scdn.co/image/ab67616d00004851ddac71a12622bdc7e9d3e795',\n",
              "   'height': 64,\n",
              "   'width': 64}],\n",
              " 'name': '1432',\n",
              " 'release_date': '2024-12-20',\n",
              " 'release_date_precision': 'day',\n",
              " 'type': 'album',\n",
              " 'uri': 'spotify:album:5Xd0KCzb0EJtPbUEiyxYVH',\n",
              " 'artists': [{'external_urls': {'spotify': 'https://open.spotify.com/artist/6jJ0s89eD6GaHleKKya26X'},\n",
              "   'href': 'https://api.spotify.com/v1/artists/6jJ0s89eD6GaHleKKya26X',\n",
              "   'id': '6jJ0s89eD6GaHleKKya26X',\n",
              "   'name': 'Katy Perry',\n",
              "   'type': 'artist',\n",
              "   'uri': 'spotify:artist:6jJ0s89eD6GaHleKKya26X'}],\n",
              " 'album_group': 'album'}"
            ]
          },
          "metadata": {},
          "execution_count": 4
        }
      ]
    },
    {
      "cell_type": "markdown",
      "source": [
        "# Get Albums"
      ],
      "metadata": {
        "id": "BqJeVDzT4f9u"
      }
    },
    {
      "cell_type": "code",
      "source": [
        "\n",
        "import requests\n",
        "import base64\n",
        "import json\n",
        "\n",
        "\n",
        "access_token = login()\n",
        "\n",
        "\n",
        "\n",
        "# Now use bearer token for API requests\n",
        "headers = {\n",
        "    \"Authorization\": f\"Bearer {access_token}\"\n",
        "}\n",
        "\n",
        "\n",
        "params = {\n",
        "    \"limit\": 50\n",
        "}\n",
        "\n",
        "csvs = []\n",
        "\n",
        "for al_id in album_ids:\n",
        "\n",
        "  url=f\"https://api.spotify.com/v1/albums/{al_id}\"\n",
        "\n",
        "  params = {\"limit\": 50}\n",
        "\n",
        "  response = requests.get(url, headers=headers, params=params)\n",
        "\n",
        "  album = response.json()\n",
        "\n",
        "  tracks_list = []\n",
        "\n",
        "  tracks_dict = {}\n",
        "\n",
        "  for a in album['tracks']['items']:\n",
        "\n",
        "   #get track name\n",
        "   tracks_dict[\"track_name\"] = a[\"name\"]\n",
        "\n",
        "   # get track URL\n",
        "   tracks_dict[\"track_url\"] = a[\"external_urls\"][\"spotify\"]\n",
        "\n",
        "   # get album name\n",
        "   tracks_dict[\"album_name\"] = album['name']\n",
        "\n",
        "   print(\"existing csv dictionary\", csv)\n",
        "   # merge this dictionay with existing dictionary\n",
        "   csv = {**csv, **tracks_dict}\n",
        "   csvs.append(csv)\n",
        "\n",
        "\n",
        "\n"
      ],
      "metadata": {
        "colab": {
          "base_uri": "https://localhost:8080/"
        },
        "id": "7sBUqrgp4hpz",
        "outputId": "19a5743e-939c-4733-c10a-a9787953589a"
      },
      "execution_count": null,
      "outputs": [
        {
          "output_type": "stream",
          "name": "stdout",
          "text": [
            "existing csv dictionary {'artist': 'Katy Perry'}\n",
            "existing csv dictionary {'artist': 'Katy Perry', 'track_name': 'WOMAN’S WORLD', 'track_url': 'https://open.spotify.com/track/2pB9AGZ4AxUciBzXEeCJjZ', 'album_name': '1432'}\n",
            "existing csv dictionary {'artist': 'Katy Perry', 'track_name': 'GIMME GIMME (feat. 21 Savage)', 'track_url': 'https://open.spotify.com/track/79rpgo6CHntMDIK1SSbqMh', 'album_name': '1432'}\n",
            "existing csv dictionary {'artist': 'Katy Perry', 'track_name': 'GORGEOUS (feat. Kim Petras)', 'track_url': 'https://open.spotify.com/track/0KTKTA4SbC7aQ4H4vA8SDO', 'album_name': '1432'}\n",
            "existing csv dictionary {'artist': 'Katy Perry', 'track_name': \"I'M HIS, HE'S MINE (feat. Doechii)\", 'track_url': 'https://open.spotify.com/track/7ExmmbxmuVl4wnvnposbiQ', 'album_name': '1432'}\n",
            "existing csv dictionary {'artist': 'Katy Perry', 'track_name': 'CRUSH', 'track_url': 'https://open.spotify.com/track/3ldc3Y0Oz8FVaXIutOSCaD', 'album_name': '1432'}\n",
            "existing csv dictionary {'artist': 'Katy Perry', 'track_name': 'LIFETIMES', 'track_url': 'https://open.spotify.com/track/3xF4TXGJDb9nJjHyqMXV9Q', 'album_name': '1432'}\n",
            "existing csv dictionary {'artist': 'Katy Perry', 'track_name': 'ALL THE LOVE', 'track_url': 'https://open.spotify.com/track/0RpOo08CfQ2CHSZIqyjrjy', 'album_name': '1432'}\n",
            "existing csv dictionary {'artist': 'Katy Perry', 'track_name': 'NIRVANA', 'track_url': 'https://open.spotify.com/track/1cRezHug9egnhYnPxyypG4', 'album_name': '1432'}\n",
            "existing csv dictionary {'artist': 'Katy Perry', 'track_name': 'ARTIFICIAL (feat. JID)', 'track_url': 'https://open.spotify.com/track/3F7nQ5YqYYYHKvRnIRtKYh', 'album_name': '1432'}\n",
            "existing csv dictionary {'artist': 'Katy Perry', 'track_name': 'TRUTH', 'track_url': 'https://open.spotify.com/track/6HyqlFV51dva0OQm19uIA0', 'album_name': '1432'}\n",
            "existing csv dictionary {'artist': 'Katy Perry', 'track_name': 'WONDER', 'track_url': 'https://open.spotify.com/track/7i36Jxd6sH38R8YErPuPd7', 'album_name': '1432'}\n",
            "existing csv dictionary {'artist': 'Katy Perry', 'track_name': 'I WOKE UP', 'track_url': 'https://open.spotify.com/track/6mqevjxkKFzckFuiNDE4GQ', 'album_name': '1432'}\n",
            "existing csv dictionary {'artist': 'Katy Perry', 'track_name': 'HAS A HEART', 'track_url': 'https://open.spotify.com/track/3LFy6yVZ1gcQ2uolOrbk2m', 'album_name': '1432'}\n",
            "existing csv dictionary {'artist': 'Katy Perry', 'track_name': \"NO TEARS FOR NEW YEAR'S\", 'track_url': 'https://open.spotify.com/track/29f9Fsie82gDA7PVdq3qrc', 'album_name': '1432'}\n",
            "existing csv dictionary {'artist': 'Katy Perry', 'track_name': 'OK', 'track_url': 'https://open.spotify.com/track/48iz5WV02KT4CTYFPXJF4U', 'album_name': '1432'}\n",
            "existing csv dictionary {'artist': 'Katy Perry', 'track_name': 'WOMAN’S WORLD', 'track_url': 'https://open.spotify.com/track/6oUwz8LPQpzQGTaAgUai4c', 'album_name': '143'}\n",
            "existing csv dictionary {'artist': 'Katy Perry', 'track_name': 'GIMME GIMME (feat. 21 Savage)', 'track_url': 'https://open.spotify.com/track/0mIdd1nk8c57gCIoaEtGXw', 'album_name': '143'}\n",
            "existing csv dictionary {'artist': 'Katy Perry', 'track_name': 'GORGEOUS (feat. Kim Petras)', 'track_url': 'https://open.spotify.com/track/2c121Da4d1kLut5aqRgzpK', 'album_name': '143'}\n",
            "existing csv dictionary {'artist': 'Katy Perry', 'track_name': \"I'M HIS, HE'S MINE (feat. Doechii)\", 'track_url': 'https://open.spotify.com/track/7EIPVo13rl0uwKbjubMnc7', 'album_name': '143'}\n",
            "existing csv dictionary {'artist': 'Katy Perry', 'track_name': 'CRUSH', 'track_url': 'https://open.spotify.com/track/1WUsiRA6CCf6FmFzkt88fa', 'album_name': '143'}\n",
            "existing csv dictionary {'artist': 'Katy Perry', 'track_name': 'LIFETIMES', 'track_url': 'https://open.spotify.com/track/160z8DkFSFoF4ScpYim6aS', 'album_name': '143'}\n",
            "existing csv dictionary {'artist': 'Katy Perry', 'track_name': 'ALL THE LOVE', 'track_url': 'https://open.spotify.com/track/69VB7MiNVwwDkl5sgRBYod', 'album_name': '143'}\n",
            "existing csv dictionary {'artist': 'Katy Perry', 'track_name': 'NIRVANA', 'track_url': 'https://open.spotify.com/track/2c6yhYLBR3BZhJoIaBZ1hC', 'album_name': '143'}\n",
            "existing csv dictionary {'artist': 'Katy Perry', 'track_name': 'ARTIFICIAL (feat. JID)', 'track_url': 'https://open.spotify.com/track/3UxPCKSa8fPIhP7KMSD0HW', 'album_name': '143'}\n",
            "existing csv dictionary {'artist': 'Katy Perry', 'track_name': 'TRUTH', 'track_url': 'https://open.spotify.com/track/1ksZu2u56ut93LAuLGxUXD', 'album_name': '143'}\n",
            "existing csv dictionary {'artist': 'Katy Perry', 'track_name': 'WONDER', 'track_url': 'https://open.spotify.com/track/1nJNqdhKLx2LF01wAtkH8j', 'album_name': '143'}\n",
            "existing csv dictionary {'artist': 'Katy Perry', 'track_name': 'One Of The Boys', 'track_url': 'https://open.spotify.com/track/6uIODsxIHybW8ngRUAACb6', 'album_name': 'One Of The Boys (15th Anniversary Edition)'}\n",
            "existing csv dictionary {'artist': 'Katy Perry', 'track_name': 'I Kissed A Girl', 'track_url': 'https://open.spotify.com/track/1uQDjeqWqHd3LwkYZ2vKvP', 'album_name': 'One Of The Boys (15th Anniversary Edition)'}\n",
            "existing csv dictionary {'artist': 'Katy Perry', 'track_name': 'Waking Up In Vegas', 'track_url': 'https://open.spotify.com/track/0WDYdvKkDrwnVuxtNJtLHE', 'album_name': 'One Of The Boys (15th Anniversary Edition)'}\n",
            "existing csv dictionary {'artist': 'Katy Perry', 'track_name': 'Thinking Of You', 'track_url': 'https://open.spotify.com/track/584fagKwwsFMKjxqFi2AOo', 'album_name': 'One Of The Boys (15th Anniversary Edition)'}\n",
            "existing csv dictionary {'artist': 'Katy Perry', 'track_name': 'Mannequin', 'track_url': 'https://open.spotify.com/track/3200Oy2pnzyxUjTIwGWCEL', 'album_name': 'One Of The Boys (15th Anniversary Edition)'}\n",
            "existing csv dictionary {'artist': 'Katy Perry', 'track_name': 'Ur So Gay', 'track_url': 'https://open.spotify.com/track/5CTUG0mPVqyinO2ZHPgn3I', 'album_name': 'One Of The Boys (15th Anniversary Edition)'}\n",
            "existing csv dictionary {'artist': 'Katy Perry', 'track_name': 'Hot N Cold', 'track_url': 'https://open.spotify.com/track/6Qq8K305vIxgvtMWI1fkQG', 'album_name': 'One Of The Boys (15th Anniversary Edition)'}\n",
            "existing csv dictionary {'artist': 'Katy Perry', 'track_name': 'If You Can Afford Me', 'track_url': 'https://open.spotify.com/track/4WqiQqsqWRqcLPnoxwfPAi', 'album_name': 'One Of The Boys (15th Anniversary Edition)'}\n",
            "existing csv dictionary {'artist': 'Katy Perry', 'track_name': 'Lost', 'track_url': 'https://open.spotify.com/track/3YHr20DraO9onR5iadROdA', 'album_name': 'One Of The Boys (15th Anniversary Edition)'}\n",
            "existing csv dictionary {'artist': 'Katy Perry', 'track_name': 'Self Inflicted', 'track_url': 'https://open.spotify.com/track/3jIVingRpdEMBPWX0dr4tY', 'album_name': 'One Of The Boys (15th Anniversary Edition)'}\n",
            "existing csv dictionary {'artist': 'Katy Perry', 'track_name': \"I'm Still Breathing\", 'track_url': 'https://open.spotify.com/track/7wMPIOO8yxtjCp2S9cPpos', 'album_name': 'One Of The Boys (15th Anniversary Edition)'}\n",
            "existing csv dictionary {'artist': 'Katy Perry', 'track_name': 'Fingerprints', 'track_url': 'https://open.spotify.com/track/4iinyMWT3lxJNeqx44apHm', 'album_name': 'One Of The Boys (15th Anniversary Edition)'}\n",
            "existing csv dictionary {'artist': 'Katy Perry', 'track_name': 'A Cup Of Coffee - Remixed / Remastered 2023', 'track_url': 'https://open.spotify.com/track/4036mSGS7NnpDnn2Cq3c5l', 'album_name': 'One Of The Boys (15th Anniversary Edition)'}\n",
            "existing csv dictionary {'artist': 'Katy Perry', 'track_name': \"I Think I'm Ready - Remixed / Remastered 2023\", 'track_url': 'https://open.spotify.com/track/6mHWixfm40ovj9hWesDU9h', 'album_name': 'One Of The Boys (15th Anniversary Edition)'}\n",
            "existing csv dictionary {'artist': 'Katy Perry', 'track_name': 'Never Really Over', 'track_url': 'https://open.spotify.com/track/1IIV8jglA0klVZy17q665k', 'album_name': 'Smile'}\n",
            "existing csv dictionary {'artist': 'Katy Perry', 'track_name': 'Cry About It Later', 'track_url': 'https://open.spotify.com/track/7cLrrJ1Dk6WAQyDIj9j26A', 'album_name': 'Smile'}\n",
            "existing csv dictionary {'artist': 'Katy Perry', 'track_name': 'Teary Eyes', 'track_url': 'https://open.spotify.com/track/3i0uu4DEpcmEAudChpVDBh', 'album_name': 'Smile'}\n",
            "existing csv dictionary {'artist': 'Katy Perry', 'track_name': 'Daisies', 'track_url': 'https://open.spotify.com/track/367wyLNqQMr5e8S2E6Zvpp', 'album_name': 'Smile'}\n",
            "existing csv dictionary {'artist': 'Katy Perry', 'track_name': 'Resilient', 'track_url': 'https://open.spotify.com/track/3By64Pmpn0LkwPKSjqSTBp', 'album_name': 'Smile'}\n",
            "existing csv dictionary {'artist': 'Katy Perry', 'track_name': 'Not the End of the World', 'track_url': 'https://open.spotify.com/track/2F20djOXWDSFEXu3tPdV71', 'album_name': 'Smile'}\n",
            "existing csv dictionary {'artist': 'Katy Perry', 'track_name': 'Smile', 'track_url': 'https://open.spotify.com/track/59s3aMqR9uOzLIXAcgBCEm', 'album_name': 'Smile'}\n",
            "existing csv dictionary {'artist': 'Katy Perry', 'track_name': 'Champagne Problems', 'track_url': 'https://open.spotify.com/track/5iKXqTVr88ghRPwMEeVKVM', 'album_name': 'Smile'}\n",
            "existing csv dictionary {'artist': 'Katy Perry', 'track_name': 'Tucked', 'track_url': 'https://open.spotify.com/track/5ahNnBifspeXOi1sMbiXHT', 'album_name': 'Smile'}\n",
            "existing csv dictionary {'artist': 'Katy Perry', 'track_name': 'Harleys In Hawaii', 'track_url': 'https://open.spotify.com/track/3B4etxytImrRKQgV3XHjnR', 'album_name': 'Smile'}\n",
            "existing csv dictionary {'artist': 'Katy Perry', 'track_name': 'Only Love', 'track_url': 'https://open.spotify.com/track/6lWp5O5XH6smTt4vzd4Mgy', 'album_name': 'Smile'}\n",
            "existing csv dictionary {'artist': 'Katy Perry', 'track_name': 'What Makes A Woman', 'track_url': 'https://open.spotify.com/track/2czhdHhprTLjvlIzj56jQt', 'album_name': 'Smile'}\n",
            "existing csv dictionary {'artist': 'Katy Perry', 'track_name': 'Witness', 'track_url': 'https://open.spotify.com/track/6EzuVdWmzgOBmqHpzbbzfQ', 'album_name': 'Witness (Deluxe)'}\n",
            "existing csv dictionary {'artist': 'Katy Perry', 'track_name': 'Hey Hey Hey', 'track_url': 'https://open.spotify.com/track/3tqwKg0W8XfYORNrP4aIhu', 'album_name': 'Witness (Deluxe)'}\n",
            "existing csv dictionary {'artist': 'Katy Perry', 'track_name': 'Roulette', 'track_url': 'https://open.spotify.com/track/2rk4s5NBhtHhhJIfjoaWES', 'album_name': 'Witness (Deluxe)'}\n",
            "existing csv dictionary {'artist': 'Katy Perry', 'track_name': 'Swish Swish', 'track_url': 'https://open.spotify.com/track/3OtMnyUaiipcAT23A8liyi', 'album_name': 'Witness (Deluxe)'}\n",
            "existing csv dictionary {'artist': 'Katy Perry', 'track_name': 'Déjà Vu', 'track_url': 'https://open.spotify.com/track/60XMmxciP1qewvkcD16qKQ', 'album_name': 'Witness (Deluxe)'}\n",
            "existing csv dictionary {'artist': 'Katy Perry', 'track_name': 'Power', 'track_url': 'https://open.spotify.com/track/6Bat8YJaSEVzWwYFHqgqep', 'album_name': 'Witness (Deluxe)'}\n",
            "existing csv dictionary {'artist': 'Katy Perry', 'track_name': 'Mind Maze', 'track_url': 'https://open.spotify.com/track/6W20KhhJcEhRh71l5hQq8C', 'album_name': 'Witness (Deluxe)'}\n",
            "existing csv dictionary {'artist': 'Katy Perry', 'track_name': 'Miss You More', 'track_url': 'https://open.spotify.com/track/7BZSIG9TyowrVzSdZJpmeI', 'album_name': 'Witness (Deluxe)'}\n",
            "existing csv dictionary {'artist': 'Katy Perry', 'track_name': 'Chained To The Rhythm', 'track_url': 'https://open.spotify.com/track/7qvxFz3JodM0A7xEM7k3YD', 'album_name': 'Witness (Deluxe)'}\n",
            "existing csv dictionary {'artist': 'Katy Perry', 'track_name': 'Tsunami', 'track_url': 'https://open.spotify.com/track/0frWUvNyEqlfy1WAxBAFbb', 'album_name': 'Witness (Deluxe)'}\n",
            "existing csv dictionary {'artist': 'Katy Perry', 'track_name': 'Bon Appétit', 'track_url': 'https://open.spotify.com/track/4rHmKlFRiFzabiVO6e9w2e', 'album_name': 'Witness (Deluxe)'}\n",
            "existing csv dictionary {'artist': 'Katy Perry', 'track_name': 'Bigger Than Me', 'track_url': 'https://open.spotify.com/track/10jcBOZo0OwQVLPxp7bwB6', 'album_name': 'Witness (Deluxe)'}\n",
            "existing csv dictionary {'artist': 'Katy Perry', 'track_name': 'Save As Draft', 'track_url': 'https://open.spotify.com/track/732x2Fy6jbt7qC70Zg463q', 'album_name': 'Witness (Deluxe)'}\n",
            "existing csv dictionary {'artist': 'Katy Perry', 'track_name': 'Pendulum', 'track_url': 'https://open.spotify.com/track/6Pp0cu0y4lOyRd04L3e9lS', 'album_name': 'Witness (Deluxe)'}\n",
            "existing csv dictionary {'artist': 'Katy Perry', 'track_name': 'Into Me You See', 'track_url': 'https://open.spotify.com/track/784C7m9r88GPKe2yOAzGYJ', 'album_name': 'Witness (Deluxe)'}\n",
            "existing csv dictionary {'artist': 'Katy Perry', 'track_name': 'Dance With The Devil', 'track_url': 'https://open.spotify.com/track/5CYXQ9WzVTUbyOYiSKwRFG', 'album_name': 'Witness (Deluxe)'}\n",
            "existing csv dictionary {'artist': 'Katy Perry', 'track_name': 'Act My Age', 'track_url': 'https://open.spotify.com/track/6HtHyWKAzwFwrSnnTunDMl', 'album_name': 'Witness (Deluxe)'}\n",
            "existing csv dictionary {'artist': 'Katy Perry', 'track_name': 'Roar', 'track_url': 'https://open.spotify.com/track/6F5c58TMEs1byxUstkzVeM', 'album_name': 'PRISM (Deluxe)'}\n",
            "existing csv dictionary {'artist': 'Katy Perry', 'track_name': 'Legendary Lovers', 'track_url': 'https://open.spotify.com/track/5Uc37Y6FijZcM538PqqkWd', 'album_name': 'PRISM (Deluxe)'}\n",
            "existing csv dictionary {'artist': 'Katy Perry', 'track_name': 'Birthday', 'track_url': 'https://open.spotify.com/track/2xLOMHjkOK8nzxJ4r6yOKR', 'album_name': 'PRISM (Deluxe)'}\n",
            "existing csv dictionary {'artist': 'Katy Perry', 'track_name': 'Walking On Air', 'track_url': 'https://open.spotify.com/track/0RCsGhR44nFVAd5WiZZcGq', 'album_name': 'PRISM (Deluxe)'}\n",
            "existing csv dictionary {'artist': 'Katy Perry', 'track_name': 'Unconditionally', 'track_url': 'https://open.spotify.com/track/4fwbGKNExPtPHbor1TBSY4', 'album_name': 'PRISM (Deluxe)'}\n",
            "existing csv dictionary {'artist': 'Katy Perry', 'track_name': 'Dark Horse', 'track_url': 'https://open.spotify.com/track/5jrdCoLpJSvHHorevXBATy', 'album_name': 'PRISM (Deluxe)'}\n",
            "existing csv dictionary {'artist': 'Katy Perry', 'track_name': 'This Is How We Do', 'track_url': 'https://open.spotify.com/track/5vL0yvddknhGj7IrBc6UTj', 'album_name': 'PRISM (Deluxe)'}\n",
            "existing csv dictionary {'artist': 'Katy Perry', 'track_name': 'International Smile', 'track_url': 'https://open.spotify.com/track/5OzIe9IL95B23n4rN59JZ3', 'album_name': 'PRISM (Deluxe)'}\n",
            "existing csv dictionary {'artist': 'Katy Perry', 'track_name': 'Ghost', 'track_url': 'https://open.spotify.com/track/665T5MrQUl7sSwivPm7pEW', 'album_name': 'PRISM (Deluxe)'}\n",
            "existing csv dictionary {'artist': 'Katy Perry', 'track_name': 'Love Me', 'track_url': 'https://open.spotify.com/track/2BSFAQuiYKu4VcMjovRgRQ', 'album_name': 'PRISM (Deluxe)'}\n",
            "existing csv dictionary {'artist': 'Katy Perry', 'track_name': 'This Moment', 'track_url': 'https://open.spotify.com/track/0NfwNHAyi4s9HVes4JkaXA', 'album_name': 'PRISM (Deluxe)'}\n",
            "existing csv dictionary {'artist': 'Katy Perry', 'track_name': 'Double Rainbow', 'track_url': 'https://open.spotify.com/track/2ve1HouBhfDbqROVQm2IBd', 'album_name': 'PRISM (Deluxe)'}\n",
            "existing csv dictionary {'artist': 'Katy Perry', 'track_name': 'By The Grace Of God', 'track_url': 'https://open.spotify.com/track/2IRK3qdY6BzbKxKr8eBk8o', 'album_name': 'PRISM (Deluxe)'}\n",
            "existing csv dictionary {'artist': 'Katy Perry', 'track_name': 'Spiritual', 'track_url': 'https://open.spotify.com/track/6lOS1dPkjHlAzRCMplJupN', 'album_name': 'PRISM (Deluxe)'}\n",
            "existing csv dictionary {'artist': 'Katy Perry', 'track_name': 'It Takes Two', 'track_url': 'https://open.spotify.com/track/4MxGfhE3DKxBhdSWTYvc4h', 'album_name': 'PRISM (Deluxe)'}\n",
            "existing csv dictionary {'artist': 'Katy Perry', 'track_name': 'Choose Your Battles', 'track_url': 'https://open.spotify.com/track/3rHUpjfq9JjrfaTsEAmQBC', 'album_name': 'PRISM (Deluxe)'}\n",
            "existing csv dictionary {'artist': 'Katy Perry', 'track_name': 'Roar', 'track_url': 'https://open.spotify.com/track/27tNWlhdAryQY04Gb2ZhUI', 'album_name': 'PRISM'}\n",
            "existing csv dictionary {'artist': 'Katy Perry', 'track_name': 'Legendary Lovers', 'track_url': 'https://open.spotify.com/track/0pOZYYEJawmTAPtkzYKSa2', 'album_name': 'PRISM'}\n",
            "existing csv dictionary {'artist': 'Katy Perry', 'track_name': 'Birthday', 'track_url': 'https://open.spotify.com/track/1NOZvdCovG42qQV7ftVD5d', 'album_name': 'PRISM'}\n",
            "existing csv dictionary {'artist': 'Katy Perry', 'track_name': 'Walking On Air', 'track_url': 'https://open.spotify.com/track/6eQbRfp5DxLSOL5pGozYf1', 'album_name': 'PRISM'}\n",
            "existing csv dictionary {'artist': 'Katy Perry', 'track_name': 'Unconditionally', 'track_url': 'https://open.spotify.com/track/009ImBOrIUlWgla8U05RAC', 'album_name': 'PRISM'}\n",
            "existing csv dictionary {'artist': 'Katy Perry', 'track_name': 'Dark Horse', 'track_url': 'https://open.spotify.com/track/4jbmgIyjGoXjY01XxatOx6', 'album_name': 'PRISM'}\n",
            "existing csv dictionary {'artist': 'Katy Perry', 'track_name': 'This Is How We Do', 'track_url': 'https://open.spotify.com/track/7GCElX2eJA5t0AFWw3WzKn', 'album_name': 'PRISM'}\n",
            "existing csv dictionary {'artist': 'Katy Perry', 'track_name': 'International Smile', 'track_url': 'https://open.spotify.com/track/6q2jvC1htmreAOxJwRtnUD', 'album_name': 'PRISM'}\n",
            "existing csv dictionary {'artist': 'Katy Perry', 'track_name': 'Ghost', 'track_url': 'https://open.spotify.com/track/2Vl6VlxpDQk99QU7TfQGjO', 'album_name': 'PRISM'}\n",
            "existing csv dictionary {'artist': 'Katy Perry', 'track_name': 'Love Me', 'track_url': 'https://open.spotify.com/track/2lrMNui7pK7P7KDWrp86Ru', 'album_name': 'PRISM'}\n",
            "existing csv dictionary {'artist': 'Katy Perry', 'track_name': 'This Moment', 'track_url': 'https://open.spotify.com/track/5Fm0hRkJ9kHQmO3ziYl1Sa', 'album_name': 'PRISM'}\n",
            "existing csv dictionary {'artist': 'Katy Perry', 'track_name': 'Double Rainbow', 'track_url': 'https://open.spotify.com/track/7B8TA3WaoMiKZ3wfnF7PgN', 'album_name': 'PRISM'}\n",
            "existing csv dictionary {'artist': 'Katy Perry', 'track_name': 'By The Grace Of God', 'track_url': 'https://open.spotify.com/track/1i0Rv7GtiCnnhpEkNAya80', 'album_name': 'PRISM'}\n",
            "existing csv dictionary {'artist': 'Katy Perry', 'track_name': 'Teenage Dream', 'track_url': 'https://open.spotify.com/track/55qBw1900pZKfXJ6Q9A2Lc', 'album_name': 'Teenage Dream: The Complete Confection'}\n",
            "existing csv dictionary {'artist': 'Katy Perry', 'track_name': 'Last Friday Night (T.G.I.F.)', 'track_url': 'https://open.spotify.com/track/455AfCsOhhLPRc68sE01D8', 'album_name': 'Teenage Dream: The Complete Confection'}\n",
            "existing csv dictionary {'artist': 'Katy Perry', 'track_name': 'California Gurls', 'track_url': 'https://open.spotify.com/track/6tS3XVuOyu10897O3ae7bi', 'album_name': 'Teenage Dream: The Complete Confection'}\n",
            "existing csv dictionary {'artist': 'Katy Perry', 'track_name': 'Firework', 'track_url': 'https://open.spotify.com/track/4lCv7b86sLynZbXhfScfm2', 'album_name': 'Teenage Dream: The Complete Confection'}\n",
            "existing csv dictionary {'artist': 'Katy Perry', 'track_name': 'Peacock', 'track_url': 'https://open.spotify.com/track/0rXw5rWZpOdfeeCbMln8MU', 'album_name': 'Teenage Dream: The Complete Confection'}\n",
            "existing csv dictionary {'artist': 'Katy Perry', 'track_name': 'Circle The Drain', 'track_url': 'https://open.spotify.com/track/7s0YfJE6hNNYq9BV26iCw6', 'album_name': 'Teenage Dream: The Complete Confection'}\n",
            "existing csv dictionary {'artist': 'Katy Perry', 'track_name': 'The One That Got Away', 'track_url': 'https://open.spotify.com/track/3oL3XRtkP1WVbMxf7dtTdu', 'album_name': 'Teenage Dream: The Complete Confection'}\n",
            "existing csv dictionary {'artist': 'Katy Perry', 'track_name': 'E.T.', 'track_url': 'https://open.spotify.com/track/4z8ssgZfs5TzKiO8HaGWXO', 'album_name': 'Teenage Dream: The Complete Confection'}\n",
            "existing csv dictionary {'artist': 'Katy Perry', 'track_name': 'Who Am I Living For?', 'track_url': 'https://open.spotify.com/track/6WR4l21xoK1pQDhjxg7wg7', 'album_name': 'Teenage Dream: The Complete Confection'}\n",
            "existing csv dictionary {'artist': 'Katy Perry', 'track_name': 'Pearl', 'track_url': 'https://open.spotify.com/track/0SrCokfLVXjRV94KpP3iPm', 'album_name': 'Teenage Dream: The Complete Confection'}\n",
            "existing csv dictionary {'artist': 'Katy Perry', 'track_name': 'Hummingbird Heartbeat', 'track_url': 'https://open.spotify.com/track/089keBWJUOsI9wUeVr1uIr', 'album_name': 'Teenage Dream: The Complete Confection'}\n",
            "existing csv dictionary {'artist': 'Katy Perry', 'track_name': 'Not Like The Movies', 'track_url': 'https://open.spotify.com/track/1EFNEJyZUsctm6yVzGqLl6', 'album_name': 'Teenage Dream: The Complete Confection'}\n",
            "existing csv dictionary {'artist': 'Katy Perry', 'track_name': 'The One That Got Away - Acoustic', 'track_url': 'https://open.spotify.com/track/5jx8tCxiO0uIbo2uNia23K', 'album_name': 'Teenage Dream: The Complete Confection'}\n",
            "existing csv dictionary {'artist': 'Katy Perry', 'track_name': 'Part Of Me', 'track_url': 'https://open.spotify.com/track/1nZzRJbFvCEct3uzu04ZoL', 'album_name': 'Teenage Dream: The Complete Confection'}\n",
            "existing csv dictionary {'artist': 'Katy Perry', 'track_name': 'Wide Awake', 'track_url': 'https://open.spotify.com/track/5JLv62qFIS1DR3zGEcApRt', 'album_name': 'Teenage Dream: The Complete Confection'}\n",
            "existing csv dictionary {'artist': 'Katy Perry', 'track_name': \"Dressin' Up\", 'track_url': 'https://open.spotify.com/track/7GsYM767NTEiUFjq00tspw', 'album_name': 'Teenage Dream: The Complete Confection'}\n",
            "existing csv dictionary {'artist': 'Katy Perry', 'track_name': 'E.T.', 'track_url': 'https://open.spotify.com/track/36ux3YuUsGTWPT8fXclS45', 'album_name': 'Teenage Dream: The Complete Confection'}\n",
            "existing csv dictionary {'artist': 'Katy Perry', 'track_name': 'Last Friday Night (T.G.I.F.)', 'track_url': 'https://open.spotify.com/track/4Smx7N3TVs9McglUSCWEYn', 'album_name': 'Teenage Dream: The Complete Confection'}\n",
            "existing csv dictionary {'artist': 'Katy Perry', 'track_name': \"Tommie Sunshine's Megasix Smash-Up\", 'track_url': 'https://open.spotify.com/track/5Rilw7PyAua7lmQCYPiQKq', 'album_name': 'Teenage Dream: The Complete Confection'}\n",
            "existing csv dictionary {'artist': 'Katy Perry', 'track_name': 'Teenage Dream', 'track_url': 'https://open.spotify.com/track/235LXPXfi0SmOaS9TaCh3c', 'album_name': 'Teenage Dream'}\n",
            "existing csv dictionary {'artist': 'Katy Perry', 'track_name': 'Last Friday Night (T.G.I.F.)', 'track_url': 'https://open.spotify.com/track/3oHNJECGN3bBoGXejlw2b1', 'album_name': 'Teenage Dream'}\n",
            "existing csv dictionary {'artist': 'Katy Perry', 'track_name': 'California Gurls', 'track_url': 'https://open.spotify.com/track/3f7gYMirBEKuc57218BjOY', 'album_name': 'Teenage Dream'}\n",
            "existing csv dictionary {'artist': 'Katy Perry', 'track_name': 'Firework', 'track_url': 'https://open.spotify.com/track/1mXuMM6zjPgjL4asbBsgnt', 'album_name': 'Teenage Dream'}\n",
            "existing csv dictionary {'artist': 'Katy Perry', 'track_name': 'Peacock', 'track_url': 'https://open.spotify.com/track/4hJ5VaRy16jJcENIMZT4sl', 'album_name': 'Teenage Dream'}\n",
            "existing csv dictionary {'artist': 'Katy Perry', 'track_name': 'Circle The Drain', 'track_url': 'https://open.spotify.com/track/2t3BqduzpMJVMo5cceBLQY', 'album_name': 'Teenage Dream'}\n",
            "existing csv dictionary {'artist': 'Katy Perry', 'track_name': 'The One That Got Away', 'track_url': 'https://open.spotify.com/track/4uQY80TKE1u4ZQZQKHzVEi', 'album_name': 'Teenage Dream'}\n",
            "existing csv dictionary {'artist': 'Katy Perry', 'track_name': 'E.T.', 'track_url': 'https://open.spotify.com/track/50r1EUDpmSZRPo5aIZpmWi', 'album_name': 'Teenage Dream'}\n",
            "existing csv dictionary {'artist': 'Katy Perry', 'track_name': 'Who Am I Living For?', 'track_url': 'https://open.spotify.com/track/7IxiJEqnqql7SXFukFvCnO', 'album_name': 'Teenage Dream'}\n",
            "existing csv dictionary {'artist': 'Katy Perry', 'track_name': 'Pearl', 'track_url': 'https://open.spotify.com/track/3ztuZHBzHoqv3NeaxnSvxP', 'album_name': 'Teenage Dream'}\n",
            "existing csv dictionary {'artist': 'Katy Perry', 'track_name': 'Hummingbird Heartbeat', 'track_url': 'https://open.spotify.com/track/73WKf5dSl59yT5mrwDWuuH', 'album_name': 'Teenage Dream'}\n",
            "existing csv dictionary {'artist': 'Katy Perry', 'track_name': 'Not Like The Movies', 'track_url': 'https://open.spotify.com/track/02Z1u6mX0puSryZFJpqV0G', 'album_name': 'Teenage Dream'}\n",
            "existing csv dictionary {'artist': 'Katy Perry', 'track_name': 'If We Ever Meet Again', 'track_url': 'https://open.spotify.com/track/0PRqWiyOFMHVee81mr1bp6', 'album_name': 'Teenage Dream'}\n",
            "existing csv dictionary {'artist': 'Katy Perry', 'track_name': 'Starstrukk', 'track_url': 'https://open.spotify.com/track/1CuzzAbJ4q28V5JOLCzQVp', 'album_name': 'Teenage Dream'}\n",
            "existing csv dictionary {'artist': 'Katy Perry', 'track_name': 'California Gurls - Passion Pit Main Mix', 'track_url': 'https://open.spotify.com/track/7BAuEd5WLrd4gHKyInRk4B', 'album_name': 'Teenage Dream'}\n",
            "existing csv dictionary {'artist': 'Katy Perry', 'track_name': 'California Gurls - Armand Van Helden Remix', 'track_url': 'https://open.spotify.com/track/38XaC5ruJI06vqa3uKeB0K', 'album_name': 'Teenage Dream'}\n",
            "existing csv dictionary {'artist': 'Katy Perry', 'track_name': 'Teenage Dream - Kaskade Club Remix', 'track_url': 'https://open.spotify.com/track/3CVi9Tc6zZgaHnkjvj7obb', 'album_name': 'Teenage Dream'}\n",
            "existing csv dictionary {'artist': 'Katy Perry', 'track_name': 'I Kissed A Girl - Live At MTV Unplugged, 2009', 'track_url': 'https://open.spotify.com/track/7IdznjcKCOWhydUH02Istz', 'album_name': 'Unplugged (Live At MTV Unplugged, New York, NY/2009)'}\n",
            "existing csv dictionary {'artist': 'Katy Perry', 'track_name': 'Ur So Gay - Live At MTV Unplugged, 2009', 'track_url': 'https://open.spotify.com/track/68QGxyVl0E9XaI54jO9nzP', 'album_name': 'Unplugged (Live At MTV Unplugged, New York, NY/2009)'}\n",
            "existing csv dictionary {'artist': 'Katy Perry', 'track_name': 'Hackensack - Live At MTV Unplugged, 2009', 'track_url': 'https://open.spotify.com/track/5c9pa7wTZsRU3Mycb0daM6', 'album_name': 'Unplugged (Live At MTV Unplugged, New York, NY/2009)'}\n",
            "existing csv dictionary {'artist': 'Katy Perry', 'track_name': 'Thinking Of You - Live At MTV Unplugged, 2009', 'track_url': 'https://open.spotify.com/track/7c9qf9V6PapwNsAHTjzVI9', 'album_name': 'Unplugged (Live At MTV Unplugged, New York, NY/2009)'}\n",
            "existing csv dictionary {'artist': 'Katy Perry', 'track_name': 'Lost - Live At MTV Unplugged, 2009', 'track_url': 'https://open.spotify.com/track/73CbwVzYNTEkfLOCC2mkC3', 'album_name': 'Unplugged (Live At MTV Unplugged, New York, NY/2009)'}\n",
            "existing csv dictionary {'artist': 'Katy Perry', 'track_name': 'Waking Up In Vegas - Live At MTV Unplugged, 2009', 'track_url': 'https://open.spotify.com/track/532jcgk0ZQgRze05omDsqo', 'album_name': 'Unplugged (Live At MTV Unplugged, New York, NY/2009)'}\n",
            "existing csv dictionary {'artist': 'Katy Perry', 'track_name': 'Brick By Brick - Live At MTV Unplugged, 2009', 'track_url': 'https://open.spotify.com/track/6Hup9P0Ggb3ff5tneUdWeM', 'album_name': 'Unplugged (Live At MTV Unplugged, New York, NY/2009)'}\n",
            "existing csv dictionary {'artist': 'Katy Perry', 'track_name': 'One Of The Boys', 'track_url': 'https://open.spotify.com/track/5PS8ZVLMFyGklBFZksIQcz', 'album_name': 'One Of The Boys'}\n",
            "existing csv dictionary {'artist': 'Katy Perry', 'track_name': 'I Kissed A Girl', 'track_url': 'https://open.spotify.com/track/14iN3o8ptQ8cFVZTEmyQRV', 'album_name': 'One Of The Boys'}\n",
            "existing csv dictionary {'artist': 'Katy Perry', 'track_name': 'Waking Up In Vegas', 'track_url': 'https://open.spotify.com/track/0CINJz55gaKzuAsqhZ0hEU', 'album_name': 'One Of The Boys'}\n",
            "existing csv dictionary {'artist': 'Katy Perry', 'track_name': 'Thinking Of You', 'track_url': 'https://open.spotify.com/track/59WVntWmghQXfST8TZRUW9', 'album_name': 'One Of The Boys'}\n",
            "existing csv dictionary {'artist': 'Katy Perry', 'track_name': 'Mannequin', 'track_url': 'https://open.spotify.com/track/7CP7JttF3DYtRL4Z80k46D', 'album_name': 'One Of The Boys'}\n",
            "existing csv dictionary {'artist': 'Katy Perry', 'track_name': 'Ur So Gay', 'track_url': 'https://open.spotify.com/track/6Gsc7sbHZLx2kS4QyIzrlK', 'album_name': 'One Of The Boys'}\n",
            "existing csv dictionary {'artist': 'Katy Perry', 'track_name': 'Hot N Cold', 'track_url': 'https://open.spotify.com/track/0iGckQFyv6svOfAbAY9aWJ', 'album_name': 'One Of The Boys'}\n",
            "existing csv dictionary {'artist': 'Katy Perry', 'track_name': 'If You Can Afford Me', 'track_url': 'https://open.spotify.com/track/0K9eEhOn1SRg0BHdhtaIj3', 'album_name': 'One Of The Boys'}\n",
            "existing csv dictionary {'artist': 'Katy Perry', 'track_name': 'Lost', 'track_url': 'https://open.spotify.com/track/1nwi4hxOs0v8ThgXWQfrf8', 'album_name': 'One Of The Boys'}\n",
            "existing csv dictionary {'artist': 'Katy Perry', 'track_name': 'Self Inflicted', 'track_url': 'https://open.spotify.com/track/6llfjLzNRoxYfuFAHUrX0A', 'album_name': 'One Of The Boys'}\n",
            "existing csv dictionary {'artist': 'Katy Perry', 'track_name': \"I'm Still Breathing\", 'track_url': 'https://open.spotify.com/track/3DaNAC9EE3VDWE4eV5gJST', 'album_name': 'One Of The Boys'}\n",
            "existing csv dictionary {'artist': 'Katy Perry', 'track_name': 'Fingerprints', 'track_url': 'https://open.spotify.com/track/1Ik7i87HSzvyFLi6iiJXfh', 'album_name': 'One Of The Boys'}\n",
            "existing csv dictionary {'artist': 'Katy Perry', 'track_name': 'I Kissed A Girl - Rock Remix', 'track_url': 'https://open.spotify.com/track/1TOKDNTBEnlhcXzvLinKgd', 'album_name': 'One Of The Boys'}\n",
            "existing csv dictionary {'artist': 'Katy Perry', 'track_name': \"I'M HIS, HE'S MINE (feat. Doechii)\", 'track_url': 'https://open.spotify.com/track/3NPY62YGNoM3lALLaKWiFL', 'album_name': \"I'M HIS, HE'S MINE (feat. Doechii)\"}\n",
            "existing csv dictionary {'artist': 'Katy Perry', 'track_name': 'LIFETIMES', 'track_url': 'https://open.spotify.com/track/0K8sKuo6xLHZgySZmmw2rV', 'album_name': 'LIFETIMES'}\n",
            "existing csv dictionary {'artist': 'Katy Perry', 'track_name': 'WOMAN’S WORLD', 'track_url': 'https://open.spotify.com/track/0EE51Hoaw12rSNWYMBnkDg', 'album_name': 'WOMAN’S WORLD EP'}\n",
            "existing csv dictionary {'artist': 'Katy Perry', 'track_name': 'WOMAN’S WORLD - BRB Woman Version', 'track_url': 'https://open.spotify.com/track/0yoepB3QZVEfz56wgkJ51V', 'album_name': 'WOMAN’S WORLD EP'}\n",
            "existing csv dictionary {'artist': 'Katy Perry', 'track_name': 'WOMAN’S WORLD - Doing The Most Woman Version', 'track_url': 'https://open.spotify.com/track/65RnZc2rxj2pNj40iGogB5', 'album_name': 'WOMAN’S WORLD EP'}\n",
            "existing csv dictionary {'artist': 'Katy Perry', 'track_name': 'WOMAN’S WORLD - Transcendental Woman Version', 'track_url': 'https://open.spotify.com/track/63IVo55mzZzazx0N8Zx3J4', 'album_name': 'WOMAN’S WORLD EP'}\n",
            "existing csv dictionary {'artist': 'Katy Perry', 'track_name': 'WOMAN’S WORLD - Super Woman Version', 'track_url': 'https://open.spotify.com/track/0JBlHS7B5Q0HzGaTAvEgRp', 'album_name': 'WOMAN’S WORLD EP'}\n",
            "existing csv dictionary {'artist': 'Katy Perry', 'track_name': 'WOMAN’S WORLD - Naked Woman Version', 'track_url': 'https://open.spotify.com/track/0cKPtfjLxSLnjNIXuliIJf', 'album_name': 'WOMAN’S WORLD EP'}\n",
            "existing csv dictionary {'artist': 'Katy Perry', 'track_name': 'WOMAN’S WORLD', 'track_url': 'https://open.spotify.com/track/7hDvcL88hXoofWcxPGmBpW', 'album_name': 'WOMAN’S WORLD'}\n",
            "existing csv dictionary {'artist': 'Katy Perry', 'track_name': 'Where We Started', 'track_url': 'https://open.spotify.com/track/7EBJeRTwxPT00K35jazm7W', 'album_name': 'Where We Started'}\n",
            "existing csv dictionary {'artist': 'Katy Perry', 'track_name': \"When I'm Gone (with Katy Perry) [VIP Mix]\", 'track_url': 'https://open.spotify.com/track/53y02rkTgMKgaJihn2Y2jE', 'album_name': \"When I'm Gone (with Katy Perry) [VIP Mix]\"}\n",
            "existing csv dictionary {'artist': 'Katy Perry', 'track_name': \"When I'm Gone (with Katy Perry)\", 'track_url': 'https://open.spotify.com/track/2FARqOyp84KT8emHG5TukP', 'album_name': \"When I'm Gone (with Katy Perry) [VIP Mix]\"}\n",
            "existing csv dictionary {'artist': 'Katy Perry', 'track_name': 'When I’m Gone (with Katy Perry)', 'track_url': 'https://open.spotify.com/track/5902W4uHWzhtOff1UK7the', 'album_name': 'When I’m Gone (with Katy Perry)'}\n",
            "existing csv dictionary {'artist': 'Katy Perry', 'track_name': 'All You Need Is Love', 'track_url': 'https://open.spotify.com/track/4yyHCYD1ZmeIXEEbvLjCqh', 'album_name': 'All You Need Is Love'}\n",
            "existing csv dictionary {'artist': 'Katy Perry', 'track_name': 'Electric - Pokemon 25 Version', 'track_url': 'https://open.spotify.com/track/63eV5hreY9feQP2CmYavpj', 'album_name': 'Electric'}\n",
            "existing csv dictionary {'artist': 'Katy Perry', 'track_name': 'Cry About It Later (feat. Luísa Sonza & Bruno Martini)', 'track_url': 'https://open.spotify.com/track/43WYPxyEfIxlIjNlxQGYzc', 'album_name': 'Cry About It Later (feat. Luísa Sonza & Bruno Martini)'}\n",
            "existing csv dictionary {'artist': 'Katy Perry', 'track_name': 'Not the End of the World', 'track_url': 'https://open.spotify.com/track/2YCi66BWOu8S2OqMp1ulfL', 'album_name': 'Cosmic Energy'}\n",
            "existing csv dictionary {'artist': 'Katy Perry', 'track_name': 'E.T.', 'track_url': 'https://open.spotify.com/track/6ppt4IaZ99VglKYgBOPzve', 'album_name': 'Cosmic Energy'}\n",
            "existing csv dictionary {'artist': 'Katy Perry', 'track_name': 'This Moment', 'track_url': 'https://open.spotify.com/track/7pKF99ljxBi78x8uK2GOdK', 'album_name': 'Cosmic Energy'}\n",
            "existing csv dictionary {'artist': 'Katy Perry', 'track_name': 'By The Grace Of God', 'track_url': 'https://open.spotify.com/track/30jckq2sFf8E1yM6q64oys', 'album_name': 'Cosmic Energy'}\n",
            "existing csv dictionary {'artist': 'Katy Perry', 'track_name': 'Bigger Than Me', 'track_url': 'https://open.spotify.com/track/02Mc4ocohVQ5ze8w1itn7s', 'album_name': 'Cosmic Energy'}\n",
            "existing csv dictionary {'artist': 'Katy Perry', 'track_name': 'Wide Awake', 'track_url': 'https://open.spotify.com/track/4DCFe4ZsltfBW98VrLmjW8', 'album_name': 'Cosmic Energy'}\n",
            "existing csv dictionary {'artist': 'Katy Perry', 'track_name': 'Resilient (ft. Aitana) [Tiësto Remix]', 'track_url': 'https://open.spotify.com/track/4abn7Lc3illnEHFc9ki6x2', 'album_name': 'Resilient (ft. Aitana) [Tiësto Remix]'}\n",
            "existing csv dictionary {'artist': 'Katy Perry', 'track_name': 'Resilient', 'track_url': 'https://open.spotify.com/track/01Do7wJpYOwHHbmj19vnVI', 'album_name': 'Empowered'}\n",
            "existing csv dictionary {'artist': 'Katy Perry', 'track_name': 'Roar', 'track_url': 'https://open.spotify.com/track/6LChPeIMte68qTHRX4PnGY', 'album_name': 'Empowered'}\n",
            "existing csv dictionary {'artist': 'Katy Perry', 'track_name': 'Firework', 'track_url': 'https://open.spotify.com/track/2bJURVFGWqB7ROPCLNo3mp', 'album_name': 'Empowered'}\n",
            "existing csv dictionary {'artist': 'Katy Perry', 'track_name': 'Fingerprints', 'track_url': 'https://open.spotify.com/track/3nkqllPjCjO7fZaAB4W64W', 'album_name': 'Empowered'}\n",
            "existing csv dictionary {'artist': 'Katy Perry', 'track_name': 'Power', 'track_url': 'https://open.spotify.com/track/3Z46AaeKFQNcQtDDnhyQfe', 'album_name': 'Empowered'}\n",
            "existing csv dictionary {'artist': 'Katy Perry', 'track_name': 'What Makes A Woman', 'track_url': 'https://open.spotify.com/track/6Hi8zihdVk8r7XarEL0oYv', 'album_name': 'Empowered'}\n",
            "existing csv dictionary {'artist': 'Katy Perry', 'track_name': 'Cry About It Later', 'track_url': 'https://open.spotify.com/track/0gyFOBM8BrLromC6VtdThk', 'album_name': 'Scorpio SZN'}\n",
            "existing csv dictionary {'artist': 'Katy Perry', 'track_name': 'E.T.', 'track_url': 'https://open.spotify.com/track/34BOIMHbTojsTHbBuMaLfK', 'album_name': 'Scorpio SZN'}\n",
            "existing csv dictionary {'artist': 'Katy Perry', 'track_name': 'Dark Horse', 'track_url': 'https://open.spotify.com/track/6kYWEELtjf3eM0fI6zqfcp', 'album_name': 'Scorpio SZN'}\n",
            "existing csv dictionary {'artist': 'Katy Perry', 'track_name': 'Ghost', 'track_url': 'https://open.spotify.com/track/4GMhDuUNawEOqHCSvVrLpj', 'album_name': 'Scorpio SZN'}\n",
            "existing csv dictionary {'artist': 'Katy Perry', 'track_name': 'Spiritual', 'track_url': 'https://open.spotify.com/track/38yE3wLUCkn8SkxPvXv8EQ', 'album_name': 'Scorpio SZN'}\n",
            "existing csv dictionary {'artist': 'Katy Perry', 'track_name': 'Dance With The Devil', 'track_url': 'https://open.spotify.com/track/16xsl6dV9D179YpSsIL3ny', 'album_name': 'Scorpio SZN'}\n",
            "existing csv dictionary {'artist': 'Katy Perry', 'track_name': 'Tucked', 'track_url': 'https://open.spotify.com/track/1Uo2pkayxN1QGZK94lBSHF', 'album_name': 'Camp Katy'}\n",
            "existing csv dictionary {'artist': 'Katy Perry', 'track_name': 'Peacock', 'track_url': 'https://open.spotify.com/track/28h4wrZ1zUo9osXVPtV0EG', 'album_name': 'Camp Katy'}\n",
            "existing csv dictionary {'artist': 'Katy Perry', 'track_name': 'California Gurls', 'track_url': 'https://open.spotify.com/track/3S6NRRUXxMSWYm9Dnwv1Eh', 'album_name': 'Camp Katy'}\n",
            "existing csv dictionary {'artist': 'Katy Perry', 'track_name': 'Swish Swish', 'track_url': 'https://open.spotify.com/track/0mlADdMSJvSnPhy43TRIrL', 'album_name': 'Camp Katy'}\n",
            "existing csv dictionary {'artist': 'Katy Perry', 'track_name': 'Walking On Air', 'track_url': 'https://open.spotify.com/track/2u9EEBRhsSl6NuVZ83STyr', 'album_name': 'Camp Katy'}\n",
            "existing csv dictionary {'artist': 'Katy Perry', 'track_name': 'Waking Up In Vegas', 'track_url': 'https://open.spotify.com/track/22s05QXNsKSGobR43cacS9', 'album_name': 'Camp Katy'}\n",
            "existing csv dictionary {'artist': 'Katy Perry', 'track_name': 'Smile - Tough Love Remix', 'track_url': 'https://open.spotify.com/track/0bLICvP5XRUN42O8E3YyEM', 'album_name': 'Smile (Tough Love Remix)'}\n",
            "existing csv dictionary {'artist': 'Katy Perry', 'track_name': 'Smile - Marshall Jefferson Remix', 'track_url': 'https://open.spotify.com/track/4wYhYfmKLxt77TwxLx0FRI', 'album_name': 'Smile (Marshall Jefferson Remix)'}\n",
            "existing csv dictionary {'artist': 'Katy Perry', 'track_name': 'Smile - M-22 Remix', 'track_url': 'https://open.spotify.com/track/1sh66NH4sPwQhbfZZkSx0k', 'album_name': 'Smile (M-22 Remix)'}\n",
            "existing csv dictionary {'artist': 'Katy Perry', 'track_name': 'Smile - Joel Corry Remix', 'track_url': 'https://open.spotify.com/track/4HpgUlwIh3JbSW4r8C2SmP', 'album_name': 'Smile (Joel Corry Remix)'}\n",
            "existing csv dictionary {'artist': 'Katy Perry', 'track_name': 'Smile - Giorgio Moroder Remix', 'track_url': 'https://open.spotify.com/track/2yQRnVlNpRz5m2LnWqHfuu', 'album_name': 'Smile (Giorgio Moroder Remix)'}\n",
            "existing csv dictionary {'artist': 'Katy Perry', 'track_name': 'What Makes A Woman', 'track_url': 'https://open.spotify.com/track/1tH2L4hkZU7IMJbreHFcMs', 'album_name': 'What Makes A Woman'}\n",
            "existing csv dictionary {'artist': 'Katy Perry', 'track_name': 'High On Your Supply', 'track_url': 'https://open.spotify.com/track/76yp4jNv7IIftlEAxfeuEW', 'album_name': 'High On Your Supply'}\n",
            "existing csv dictionary {'artist': 'Katy Perry', 'track_name': 'Smile', 'track_url': 'https://open.spotify.com/track/3DXdjHnePKnh6oXw2ZgGSl', 'album_name': 'Smile'}\n",
            "existing csv dictionary {'artist': 'Katy Perry', 'track_name': 'Daisies - Acoustic', 'track_url': 'https://open.spotify.com/track/2XJ9DC1as0YobPVqOS9JyE', 'album_name': 'Daisies (Acoustic)'}\n",
            "existing csv dictionary {'artist': 'Katy Perry', 'track_name': 'Daisies - Oliver Heldens Remix', 'track_url': 'https://open.spotify.com/track/04Ff953Oi4uwN6yttURuhk', 'album_name': 'Daisies (Oliver Heldens Remix)'}\n",
            "existing csv dictionary {'artist': 'Katy Perry', 'track_name': 'Daisies - MK Remix', 'track_url': 'https://open.spotify.com/track/6FEdC7kIM0adzi030XNqvU', 'album_name': 'Daisies (MK Remix)'}\n",
            "existing csv dictionary {'artist': 'Katy Perry', 'track_name': 'Daisies', 'track_url': 'https://open.spotify.com/track/4uqh9bualXNHXXwO2wPorc', 'album_name': 'Daisies'}\n",
            "existing csv dictionary {'artist': 'Katy Perry', 'track_name': 'Never Worn White', 'track_url': 'https://open.spotify.com/track/3ksNHUNCTP6Pan8rjFnmtw', 'album_name': 'Never Worn White'}\n",
            "existing csv dictionary {'artist': 'Katy Perry', 'track_name': 'Harleys In Hawaii - Win and Woo Remix', 'track_url': 'https://open.spotify.com/track/0n6b1rFzDJlFmTG7hyncxh', 'album_name': 'Harleys In Hawaii (Win and Woo Remix)'}\n",
            "existing csv dictionary {'artist': 'Katy Perry', 'track_name': 'Harleys In Hawaii - KANDY Remix', 'track_url': 'https://open.spotify.com/track/5EECgBC0NjIaUd8ke9YYTo', 'album_name': 'Harleys In Hawaii (KANDY Remix)'}\n",
            "existing csv dictionary {'artist': 'Katy Perry', 'track_name': 'Harleys In Hawaii', 'track_url': 'https://open.spotify.com/track/5nCthAh3jt4xKuLJAifAaR', 'album_name': 'Harleys In Hawaii'}\n",
            "existing csv dictionary {'artist': 'Katy Perry', 'track_name': 'Small Talk - White Panda Remix', 'track_url': 'https://open.spotify.com/track/1qKKXno9L0FPCJfZcRzocE', 'album_name': 'Small Talk (White Panda Remix)'}\n",
            "existing csv dictionary {'artist': 'Katy Perry', 'track_name': 'Small Talk - Sofi Tukker Remix', 'track_url': 'https://open.spotify.com/track/2vQQX3NOzl7UIE5ACjnyY4', 'album_name': 'Small Talk (Sofi Tukker Remix)'}\n",
            "existing csv dictionary {'artist': 'Katy Perry', 'track_name': 'Small Talk - Lost Kings Remix', 'track_url': 'https://open.spotify.com/track/6dKxXef5Y4bxaAfIhz7AiA', 'album_name': 'Small Talk (Lost Kings Remix)'}\n",
            "existing csv dictionary {'artist': 'Katy Perry', 'track_name': 'Small Talk', 'track_url': 'https://open.spotify.com/track/4NmE2ytXI8S2svTRSmEdpO', 'album_name': 'Small Talk'}\n",
            "existing csv dictionary {'artist': 'Katy Perry', 'track_name': 'Never Really Over - Wow & Flutter Remix', 'track_url': 'https://open.spotify.com/track/6SLWPBasKQgpLZAnwsNzDP', 'album_name': 'Never Really Over (Wow & Flutter Remix)'}\n",
            "existing csv dictionary {'artist': 'Katy Perry', 'track_name': 'Never Really Over - Syn Cole Remix', 'track_url': 'https://open.spotify.com/track/6bfTktuowT5bIMe87Q5rmp', 'album_name': 'Never Really Over (Syn Cole Remix)'}\n",
            "existing csv dictionary {'artist': 'Katy Perry', 'track_name': 'Never Really Over - R3HAB Remix', 'track_url': 'https://open.spotify.com/track/2OAylPUDDfwRGfe0lYqlCQ', 'album_name': 'Never Really Over (R3HAB Remix)'}\n"
          ]
        }
      ]
    },
    {
      "cell_type": "code",
      "source": [
        "csvs[0].keys()"
      ],
      "metadata": {
        "colab": {
          "base_uri": "https://localhost:8080/"
        },
        "id": "q7DNyGCTI_a9",
        "outputId": "9921e516-70f0-45eb-d9a8-a7b7dce288be"
      },
      "execution_count": null,
      "outputs": [
        {
          "output_type": "execute_result",
          "data": {
            "text/plain": [
              "dict_keys(['artist', 'track_name', 'track_url', 'album_name'])"
            ]
          },
          "metadata": {},
          "execution_count": 6
        }
      ]
    },
    {
      "cell_type": "code",
      "source": [
        "# convert dictionary keys to list.  this will be the first line in the csv file\n",
        "\n",
        "key_list = list(csvs[0].keys())\n",
        "column_header = \",\".join(key_list)\n",
        "\n",
        "column_header\n"
      ],
      "metadata": {
        "colab": {
          "base_uri": "https://localhost:8080/",
          "height": 35
        },
        "id": "kMHpTHT2Jq_w",
        "outputId": "82200fee-cc7b-4ecc-b931-157f53b6f05e"
      },
      "execution_count": null,
      "outputs": [
        {
          "output_type": "execute_result",
          "data": {
            "text/plain": [
              "'artist,track_name,track_url,album_name'"
            ],
            "application/vnd.google.colaboratory.intrinsic+json": {
              "type": "string"
            }
          },
          "metadata": {},
          "execution_count": 7
        }
      ]
    },
    {
      "cell_type": "code",
      "source": [
        "# now created csf file\n",
        "\n",
        "lines = []\n",
        "\n",
        "for l in csvs:\n",
        "  values = list(l.values())\n",
        "  line =  \",\".join(values)\n",
        "  lines.append(line)\n",
        "\n",
        "lines\n"
      ],
      "metadata": {
        "colab": {
          "base_uri": "https://localhost:8080/"
        },
        "id": "qN26zZHXJ60u",
        "outputId": "5add8540-55b3-47aa-c77d-17b46d2052d7"
      },
      "execution_count": null,
      "outputs": [
        {
          "output_type": "execute_result",
          "data": {
            "text/plain": [
              "['Katy Perry,WOMAN’S WORLD,https://open.spotify.com/track/2pB9AGZ4AxUciBzXEeCJjZ,1432',\n",
              " 'Katy Perry,GIMME GIMME (feat. 21 Savage),https://open.spotify.com/track/79rpgo6CHntMDIK1SSbqMh,1432',\n",
              " 'Katy Perry,GORGEOUS (feat. Kim Petras),https://open.spotify.com/track/0KTKTA4SbC7aQ4H4vA8SDO,1432',\n",
              " \"Katy Perry,I'M HIS, HE'S MINE (feat. Doechii),https://open.spotify.com/track/7ExmmbxmuVl4wnvnposbiQ,1432\",\n",
              " 'Katy Perry,CRUSH,https://open.spotify.com/track/3ldc3Y0Oz8FVaXIutOSCaD,1432',\n",
              " 'Katy Perry,LIFETIMES,https://open.spotify.com/track/3xF4TXGJDb9nJjHyqMXV9Q,1432',\n",
              " 'Katy Perry,ALL THE LOVE,https://open.spotify.com/track/0RpOo08CfQ2CHSZIqyjrjy,1432',\n",
              " 'Katy Perry,NIRVANA,https://open.spotify.com/track/1cRezHug9egnhYnPxyypG4,1432',\n",
              " 'Katy Perry,ARTIFICIAL (feat. JID),https://open.spotify.com/track/3F7nQ5YqYYYHKvRnIRtKYh,1432',\n",
              " 'Katy Perry,TRUTH,https://open.spotify.com/track/6HyqlFV51dva0OQm19uIA0,1432',\n",
              " 'Katy Perry,WONDER,https://open.spotify.com/track/7i36Jxd6sH38R8YErPuPd7,1432',\n",
              " 'Katy Perry,I WOKE UP,https://open.spotify.com/track/6mqevjxkKFzckFuiNDE4GQ,1432',\n",
              " 'Katy Perry,HAS A HEART,https://open.spotify.com/track/3LFy6yVZ1gcQ2uolOrbk2m,1432',\n",
              " \"Katy Perry,NO TEARS FOR NEW YEAR'S,https://open.spotify.com/track/29f9Fsie82gDA7PVdq3qrc,1432\",\n",
              " 'Katy Perry,OK,https://open.spotify.com/track/48iz5WV02KT4CTYFPXJF4U,1432',\n",
              " 'Katy Perry,WOMAN’S WORLD,https://open.spotify.com/track/6oUwz8LPQpzQGTaAgUai4c,143',\n",
              " 'Katy Perry,GIMME GIMME (feat. 21 Savage),https://open.spotify.com/track/0mIdd1nk8c57gCIoaEtGXw,143',\n",
              " 'Katy Perry,GORGEOUS (feat. Kim Petras),https://open.spotify.com/track/2c121Da4d1kLut5aqRgzpK,143',\n",
              " \"Katy Perry,I'M HIS, HE'S MINE (feat. Doechii),https://open.spotify.com/track/7EIPVo13rl0uwKbjubMnc7,143\",\n",
              " 'Katy Perry,CRUSH,https://open.spotify.com/track/1WUsiRA6CCf6FmFzkt88fa,143',\n",
              " 'Katy Perry,LIFETIMES,https://open.spotify.com/track/160z8DkFSFoF4ScpYim6aS,143',\n",
              " 'Katy Perry,ALL THE LOVE,https://open.spotify.com/track/69VB7MiNVwwDkl5sgRBYod,143',\n",
              " 'Katy Perry,NIRVANA,https://open.spotify.com/track/2c6yhYLBR3BZhJoIaBZ1hC,143',\n",
              " 'Katy Perry,ARTIFICIAL (feat. JID),https://open.spotify.com/track/3UxPCKSa8fPIhP7KMSD0HW,143',\n",
              " 'Katy Perry,TRUTH,https://open.spotify.com/track/1ksZu2u56ut93LAuLGxUXD,143',\n",
              " 'Katy Perry,WONDER,https://open.spotify.com/track/1nJNqdhKLx2LF01wAtkH8j,143',\n",
              " 'Katy Perry,One Of The Boys,https://open.spotify.com/track/6uIODsxIHybW8ngRUAACb6,One Of The Boys (15th Anniversary Edition)',\n",
              " 'Katy Perry,I Kissed A Girl,https://open.spotify.com/track/1uQDjeqWqHd3LwkYZ2vKvP,One Of The Boys (15th Anniversary Edition)',\n",
              " 'Katy Perry,Waking Up In Vegas,https://open.spotify.com/track/0WDYdvKkDrwnVuxtNJtLHE,One Of The Boys (15th Anniversary Edition)',\n",
              " 'Katy Perry,Thinking Of You,https://open.spotify.com/track/584fagKwwsFMKjxqFi2AOo,One Of The Boys (15th Anniversary Edition)',\n",
              " 'Katy Perry,Mannequin,https://open.spotify.com/track/3200Oy2pnzyxUjTIwGWCEL,One Of The Boys (15th Anniversary Edition)',\n",
              " 'Katy Perry,Ur So Gay,https://open.spotify.com/track/5CTUG0mPVqyinO2ZHPgn3I,One Of The Boys (15th Anniversary Edition)',\n",
              " 'Katy Perry,Hot N Cold,https://open.spotify.com/track/6Qq8K305vIxgvtMWI1fkQG,One Of The Boys (15th Anniversary Edition)',\n",
              " 'Katy Perry,If You Can Afford Me,https://open.spotify.com/track/4WqiQqsqWRqcLPnoxwfPAi,One Of The Boys (15th Anniversary Edition)',\n",
              " 'Katy Perry,Lost,https://open.spotify.com/track/3YHr20DraO9onR5iadROdA,One Of The Boys (15th Anniversary Edition)',\n",
              " 'Katy Perry,Self Inflicted,https://open.spotify.com/track/3jIVingRpdEMBPWX0dr4tY,One Of The Boys (15th Anniversary Edition)',\n",
              " \"Katy Perry,I'm Still Breathing,https://open.spotify.com/track/7wMPIOO8yxtjCp2S9cPpos,One Of The Boys (15th Anniversary Edition)\",\n",
              " 'Katy Perry,Fingerprints,https://open.spotify.com/track/4iinyMWT3lxJNeqx44apHm,One Of The Boys (15th Anniversary Edition)',\n",
              " 'Katy Perry,A Cup Of Coffee - Remixed / Remastered 2023,https://open.spotify.com/track/4036mSGS7NnpDnn2Cq3c5l,One Of The Boys (15th Anniversary Edition)',\n",
              " \"Katy Perry,I Think I'm Ready - Remixed / Remastered 2023,https://open.spotify.com/track/6mHWixfm40ovj9hWesDU9h,One Of The Boys (15th Anniversary Edition)\",\n",
              " 'Katy Perry,Never Really Over,https://open.spotify.com/track/1IIV8jglA0klVZy17q665k,Smile',\n",
              " 'Katy Perry,Cry About It Later,https://open.spotify.com/track/7cLrrJ1Dk6WAQyDIj9j26A,Smile',\n",
              " 'Katy Perry,Teary Eyes,https://open.spotify.com/track/3i0uu4DEpcmEAudChpVDBh,Smile',\n",
              " 'Katy Perry,Daisies,https://open.spotify.com/track/367wyLNqQMr5e8S2E6Zvpp,Smile',\n",
              " 'Katy Perry,Resilient,https://open.spotify.com/track/3By64Pmpn0LkwPKSjqSTBp,Smile',\n",
              " 'Katy Perry,Not the End of the World,https://open.spotify.com/track/2F20djOXWDSFEXu3tPdV71,Smile',\n",
              " 'Katy Perry,Smile,https://open.spotify.com/track/59s3aMqR9uOzLIXAcgBCEm,Smile',\n",
              " 'Katy Perry,Champagne Problems,https://open.spotify.com/track/5iKXqTVr88ghRPwMEeVKVM,Smile',\n",
              " 'Katy Perry,Tucked,https://open.spotify.com/track/5ahNnBifspeXOi1sMbiXHT,Smile',\n",
              " 'Katy Perry,Harleys In Hawaii,https://open.spotify.com/track/3B4etxytImrRKQgV3XHjnR,Smile',\n",
              " 'Katy Perry,Only Love,https://open.spotify.com/track/6lWp5O5XH6smTt4vzd4Mgy,Smile',\n",
              " 'Katy Perry,What Makes A Woman,https://open.spotify.com/track/2czhdHhprTLjvlIzj56jQt,Smile',\n",
              " 'Katy Perry,Witness,https://open.spotify.com/track/6EzuVdWmzgOBmqHpzbbzfQ,Witness (Deluxe)',\n",
              " 'Katy Perry,Hey Hey Hey,https://open.spotify.com/track/3tqwKg0W8XfYORNrP4aIhu,Witness (Deluxe)',\n",
              " 'Katy Perry,Roulette,https://open.spotify.com/track/2rk4s5NBhtHhhJIfjoaWES,Witness (Deluxe)',\n",
              " 'Katy Perry,Swish Swish,https://open.spotify.com/track/3OtMnyUaiipcAT23A8liyi,Witness (Deluxe)',\n",
              " 'Katy Perry,Déjà Vu,https://open.spotify.com/track/60XMmxciP1qewvkcD16qKQ,Witness (Deluxe)',\n",
              " 'Katy Perry,Power,https://open.spotify.com/track/6Bat8YJaSEVzWwYFHqgqep,Witness (Deluxe)',\n",
              " 'Katy Perry,Mind Maze,https://open.spotify.com/track/6W20KhhJcEhRh71l5hQq8C,Witness (Deluxe)',\n",
              " 'Katy Perry,Miss You More,https://open.spotify.com/track/7BZSIG9TyowrVzSdZJpmeI,Witness (Deluxe)',\n",
              " 'Katy Perry,Chained To The Rhythm,https://open.spotify.com/track/7qvxFz3JodM0A7xEM7k3YD,Witness (Deluxe)',\n",
              " 'Katy Perry,Tsunami,https://open.spotify.com/track/0frWUvNyEqlfy1WAxBAFbb,Witness (Deluxe)',\n",
              " 'Katy Perry,Bon Appétit,https://open.spotify.com/track/4rHmKlFRiFzabiVO6e9w2e,Witness (Deluxe)',\n",
              " 'Katy Perry,Bigger Than Me,https://open.spotify.com/track/10jcBOZo0OwQVLPxp7bwB6,Witness (Deluxe)',\n",
              " 'Katy Perry,Save As Draft,https://open.spotify.com/track/732x2Fy6jbt7qC70Zg463q,Witness (Deluxe)',\n",
              " 'Katy Perry,Pendulum,https://open.spotify.com/track/6Pp0cu0y4lOyRd04L3e9lS,Witness (Deluxe)',\n",
              " 'Katy Perry,Into Me You See,https://open.spotify.com/track/784C7m9r88GPKe2yOAzGYJ,Witness (Deluxe)',\n",
              " 'Katy Perry,Dance With The Devil,https://open.spotify.com/track/5CYXQ9WzVTUbyOYiSKwRFG,Witness (Deluxe)',\n",
              " 'Katy Perry,Act My Age,https://open.spotify.com/track/6HtHyWKAzwFwrSnnTunDMl,Witness (Deluxe)',\n",
              " 'Katy Perry,Roar,https://open.spotify.com/track/6F5c58TMEs1byxUstkzVeM,PRISM (Deluxe)',\n",
              " 'Katy Perry,Legendary Lovers,https://open.spotify.com/track/5Uc37Y6FijZcM538PqqkWd,PRISM (Deluxe)',\n",
              " 'Katy Perry,Birthday,https://open.spotify.com/track/2xLOMHjkOK8nzxJ4r6yOKR,PRISM (Deluxe)',\n",
              " 'Katy Perry,Walking On Air,https://open.spotify.com/track/0RCsGhR44nFVAd5WiZZcGq,PRISM (Deluxe)',\n",
              " 'Katy Perry,Unconditionally,https://open.spotify.com/track/4fwbGKNExPtPHbor1TBSY4,PRISM (Deluxe)',\n",
              " 'Katy Perry,Dark Horse,https://open.spotify.com/track/5jrdCoLpJSvHHorevXBATy,PRISM (Deluxe)',\n",
              " 'Katy Perry,This Is How We Do,https://open.spotify.com/track/5vL0yvddknhGj7IrBc6UTj,PRISM (Deluxe)',\n",
              " 'Katy Perry,International Smile,https://open.spotify.com/track/5OzIe9IL95B23n4rN59JZ3,PRISM (Deluxe)',\n",
              " 'Katy Perry,Ghost,https://open.spotify.com/track/665T5MrQUl7sSwivPm7pEW,PRISM (Deluxe)',\n",
              " 'Katy Perry,Love Me,https://open.spotify.com/track/2BSFAQuiYKu4VcMjovRgRQ,PRISM (Deluxe)',\n",
              " 'Katy Perry,This Moment,https://open.spotify.com/track/0NfwNHAyi4s9HVes4JkaXA,PRISM (Deluxe)',\n",
              " 'Katy Perry,Double Rainbow,https://open.spotify.com/track/2ve1HouBhfDbqROVQm2IBd,PRISM (Deluxe)',\n",
              " 'Katy Perry,By The Grace Of God,https://open.spotify.com/track/2IRK3qdY6BzbKxKr8eBk8o,PRISM (Deluxe)',\n",
              " 'Katy Perry,Spiritual,https://open.spotify.com/track/6lOS1dPkjHlAzRCMplJupN,PRISM (Deluxe)',\n",
              " 'Katy Perry,It Takes Two,https://open.spotify.com/track/4MxGfhE3DKxBhdSWTYvc4h,PRISM (Deluxe)',\n",
              " 'Katy Perry,Choose Your Battles,https://open.spotify.com/track/3rHUpjfq9JjrfaTsEAmQBC,PRISM (Deluxe)',\n",
              " 'Katy Perry,Roar,https://open.spotify.com/track/27tNWlhdAryQY04Gb2ZhUI,PRISM',\n",
              " 'Katy Perry,Legendary Lovers,https://open.spotify.com/track/0pOZYYEJawmTAPtkzYKSa2,PRISM',\n",
              " 'Katy Perry,Birthday,https://open.spotify.com/track/1NOZvdCovG42qQV7ftVD5d,PRISM',\n",
              " 'Katy Perry,Walking On Air,https://open.spotify.com/track/6eQbRfp5DxLSOL5pGozYf1,PRISM',\n",
              " 'Katy Perry,Unconditionally,https://open.spotify.com/track/009ImBOrIUlWgla8U05RAC,PRISM',\n",
              " 'Katy Perry,Dark Horse,https://open.spotify.com/track/4jbmgIyjGoXjY01XxatOx6,PRISM',\n",
              " 'Katy Perry,This Is How We Do,https://open.spotify.com/track/7GCElX2eJA5t0AFWw3WzKn,PRISM',\n",
              " 'Katy Perry,International Smile,https://open.spotify.com/track/6q2jvC1htmreAOxJwRtnUD,PRISM',\n",
              " 'Katy Perry,Ghost,https://open.spotify.com/track/2Vl6VlxpDQk99QU7TfQGjO,PRISM',\n",
              " 'Katy Perry,Love Me,https://open.spotify.com/track/2lrMNui7pK7P7KDWrp86Ru,PRISM',\n",
              " 'Katy Perry,This Moment,https://open.spotify.com/track/5Fm0hRkJ9kHQmO3ziYl1Sa,PRISM',\n",
              " 'Katy Perry,Double Rainbow,https://open.spotify.com/track/7B8TA3WaoMiKZ3wfnF7PgN,PRISM',\n",
              " 'Katy Perry,By The Grace Of God,https://open.spotify.com/track/1i0Rv7GtiCnnhpEkNAya80,PRISM',\n",
              " 'Katy Perry,Teenage Dream,https://open.spotify.com/track/55qBw1900pZKfXJ6Q9A2Lc,Teenage Dream: The Complete Confection',\n",
              " 'Katy Perry,Last Friday Night (T.G.I.F.),https://open.spotify.com/track/455AfCsOhhLPRc68sE01D8,Teenage Dream: The Complete Confection',\n",
              " 'Katy Perry,California Gurls,https://open.spotify.com/track/6tS3XVuOyu10897O3ae7bi,Teenage Dream: The Complete Confection',\n",
              " 'Katy Perry,Firework,https://open.spotify.com/track/4lCv7b86sLynZbXhfScfm2,Teenage Dream: The Complete Confection',\n",
              " 'Katy Perry,Peacock,https://open.spotify.com/track/0rXw5rWZpOdfeeCbMln8MU,Teenage Dream: The Complete Confection',\n",
              " 'Katy Perry,Circle The Drain,https://open.spotify.com/track/7s0YfJE6hNNYq9BV26iCw6,Teenage Dream: The Complete Confection',\n",
              " 'Katy Perry,The One That Got Away,https://open.spotify.com/track/3oL3XRtkP1WVbMxf7dtTdu,Teenage Dream: The Complete Confection',\n",
              " 'Katy Perry,E.T.,https://open.spotify.com/track/4z8ssgZfs5TzKiO8HaGWXO,Teenage Dream: The Complete Confection',\n",
              " 'Katy Perry,Who Am I Living For?,https://open.spotify.com/track/6WR4l21xoK1pQDhjxg7wg7,Teenage Dream: The Complete Confection',\n",
              " 'Katy Perry,Pearl,https://open.spotify.com/track/0SrCokfLVXjRV94KpP3iPm,Teenage Dream: The Complete Confection',\n",
              " 'Katy Perry,Hummingbird Heartbeat,https://open.spotify.com/track/089keBWJUOsI9wUeVr1uIr,Teenage Dream: The Complete Confection',\n",
              " 'Katy Perry,Not Like The Movies,https://open.spotify.com/track/1EFNEJyZUsctm6yVzGqLl6,Teenage Dream: The Complete Confection',\n",
              " 'Katy Perry,The One That Got Away - Acoustic,https://open.spotify.com/track/5jx8tCxiO0uIbo2uNia23K,Teenage Dream: The Complete Confection',\n",
              " 'Katy Perry,Part Of Me,https://open.spotify.com/track/1nZzRJbFvCEct3uzu04ZoL,Teenage Dream: The Complete Confection',\n",
              " 'Katy Perry,Wide Awake,https://open.spotify.com/track/5JLv62qFIS1DR3zGEcApRt,Teenage Dream: The Complete Confection',\n",
              " \"Katy Perry,Dressin' Up,https://open.spotify.com/track/7GsYM767NTEiUFjq00tspw,Teenage Dream: The Complete Confection\",\n",
              " 'Katy Perry,E.T.,https://open.spotify.com/track/36ux3YuUsGTWPT8fXclS45,Teenage Dream: The Complete Confection',\n",
              " 'Katy Perry,Last Friday Night (T.G.I.F.),https://open.spotify.com/track/4Smx7N3TVs9McglUSCWEYn,Teenage Dream: The Complete Confection',\n",
              " \"Katy Perry,Tommie Sunshine's Megasix Smash-Up,https://open.spotify.com/track/5Rilw7PyAua7lmQCYPiQKq,Teenage Dream: The Complete Confection\",\n",
              " 'Katy Perry,Teenage Dream,https://open.spotify.com/track/235LXPXfi0SmOaS9TaCh3c,Teenage Dream',\n",
              " 'Katy Perry,Last Friday Night (T.G.I.F.),https://open.spotify.com/track/3oHNJECGN3bBoGXejlw2b1,Teenage Dream',\n",
              " 'Katy Perry,California Gurls,https://open.spotify.com/track/3f7gYMirBEKuc57218BjOY,Teenage Dream',\n",
              " 'Katy Perry,Firework,https://open.spotify.com/track/1mXuMM6zjPgjL4asbBsgnt,Teenage Dream',\n",
              " 'Katy Perry,Peacock,https://open.spotify.com/track/4hJ5VaRy16jJcENIMZT4sl,Teenage Dream',\n",
              " 'Katy Perry,Circle The Drain,https://open.spotify.com/track/2t3BqduzpMJVMo5cceBLQY,Teenage Dream',\n",
              " 'Katy Perry,The One That Got Away,https://open.spotify.com/track/4uQY80TKE1u4ZQZQKHzVEi,Teenage Dream',\n",
              " 'Katy Perry,E.T.,https://open.spotify.com/track/50r1EUDpmSZRPo5aIZpmWi,Teenage Dream',\n",
              " 'Katy Perry,Who Am I Living For?,https://open.spotify.com/track/7IxiJEqnqql7SXFukFvCnO,Teenage Dream',\n",
              " 'Katy Perry,Pearl,https://open.spotify.com/track/3ztuZHBzHoqv3NeaxnSvxP,Teenage Dream',\n",
              " 'Katy Perry,Hummingbird Heartbeat,https://open.spotify.com/track/73WKf5dSl59yT5mrwDWuuH,Teenage Dream',\n",
              " 'Katy Perry,Not Like The Movies,https://open.spotify.com/track/02Z1u6mX0puSryZFJpqV0G,Teenage Dream',\n",
              " 'Katy Perry,If We Ever Meet Again,https://open.spotify.com/track/0PRqWiyOFMHVee81mr1bp6,Teenage Dream',\n",
              " 'Katy Perry,Starstrukk,https://open.spotify.com/track/1CuzzAbJ4q28V5JOLCzQVp,Teenage Dream',\n",
              " 'Katy Perry,California Gurls - Passion Pit Main Mix,https://open.spotify.com/track/7BAuEd5WLrd4gHKyInRk4B,Teenage Dream',\n",
              " 'Katy Perry,California Gurls - Armand Van Helden Remix,https://open.spotify.com/track/38XaC5ruJI06vqa3uKeB0K,Teenage Dream',\n",
              " 'Katy Perry,Teenage Dream - Kaskade Club Remix,https://open.spotify.com/track/3CVi9Tc6zZgaHnkjvj7obb,Teenage Dream',\n",
              " 'Katy Perry,I Kissed A Girl - Live At MTV Unplugged, 2009,https://open.spotify.com/track/7IdznjcKCOWhydUH02Istz,Unplugged (Live At MTV Unplugged, New York, NY/2009)',\n",
              " 'Katy Perry,Ur So Gay - Live At MTV Unplugged, 2009,https://open.spotify.com/track/68QGxyVl0E9XaI54jO9nzP,Unplugged (Live At MTV Unplugged, New York, NY/2009)',\n",
              " 'Katy Perry,Hackensack - Live At MTV Unplugged, 2009,https://open.spotify.com/track/5c9pa7wTZsRU3Mycb0daM6,Unplugged (Live At MTV Unplugged, New York, NY/2009)',\n",
              " 'Katy Perry,Thinking Of You - Live At MTV Unplugged, 2009,https://open.spotify.com/track/7c9qf9V6PapwNsAHTjzVI9,Unplugged (Live At MTV Unplugged, New York, NY/2009)',\n",
              " 'Katy Perry,Lost - Live At MTV Unplugged, 2009,https://open.spotify.com/track/73CbwVzYNTEkfLOCC2mkC3,Unplugged (Live At MTV Unplugged, New York, NY/2009)',\n",
              " 'Katy Perry,Waking Up In Vegas - Live At MTV Unplugged, 2009,https://open.spotify.com/track/532jcgk0ZQgRze05omDsqo,Unplugged (Live At MTV Unplugged, New York, NY/2009)',\n",
              " 'Katy Perry,Brick By Brick - Live At MTV Unplugged, 2009,https://open.spotify.com/track/6Hup9P0Ggb3ff5tneUdWeM,Unplugged (Live At MTV Unplugged, New York, NY/2009)',\n",
              " 'Katy Perry,One Of The Boys,https://open.spotify.com/track/5PS8ZVLMFyGklBFZksIQcz,One Of The Boys',\n",
              " 'Katy Perry,I Kissed A Girl,https://open.spotify.com/track/14iN3o8ptQ8cFVZTEmyQRV,One Of The Boys',\n",
              " 'Katy Perry,Waking Up In Vegas,https://open.spotify.com/track/0CINJz55gaKzuAsqhZ0hEU,One Of The Boys',\n",
              " 'Katy Perry,Thinking Of You,https://open.spotify.com/track/59WVntWmghQXfST8TZRUW9,One Of The Boys',\n",
              " 'Katy Perry,Mannequin,https://open.spotify.com/track/7CP7JttF3DYtRL4Z80k46D,One Of The Boys',\n",
              " 'Katy Perry,Ur So Gay,https://open.spotify.com/track/6Gsc7sbHZLx2kS4QyIzrlK,One Of The Boys',\n",
              " 'Katy Perry,Hot N Cold,https://open.spotify.com/track/0iGckQFyv6svOfAbAY9aWJ,One Of The Boys',\n",
              " 'Katy Perry,If You Can Afford Me,https://open.spotify.com/track/0K9eEhOn1SRg0BHdhtaIj3,One Of The Boys',\n",
              " 'Katy Perry,Lost,https://open.spotify.com/track/1nwi4hxOs0v8ThgXWQfrf8,One Of The Boys',\n",
              " 'Katy Perry,Self Inflicted,https://open.spotify.com/track/6llfjLzNRoxYfuFAHUrX0A,One Of The Boys',\n",
              " \"Katy Perry,I'm Still Breathing,https://open.spotify.com/track/3DaNAC9EE3VDWE4eV5gJST,One Of The Boys\",\n",
              " 'Katy Perry,Fingerprints,https://open.spotify.com/track/1Ik7i87HSzvyFLi6iiJXfh,One Of The Boys',\n",
              " 'Katy Perry,I Kissed A Girl - Rock Remix,https://open.spotify.com/track/1TOKDNTBEnlhcXzvLinKgd,One Of The Boys',\n",
              " \"Katy Perry,I'M HIS, HE'S MINE (feat. Doechii),https://open.spotify.com/track/3NPY62YGNoM3lALLaKWiFL,I'M HIS, HE'S MINE (feat. Doechii)\",\n",
              " 'Katy Perry,LIFETIMES,https://open.spotify.com/track/0K8sKuo6xLHZgySZmmw2rV,LIFETIMES',\n",
              " 'Katy Perry,WOMAN’S WORLD,https://open.spotify.com/track/0EE51Hoaw12rSNWYMBnkDg,WOMAN’S WORLD EP',\n",
              " 'Katy Perry,WOMAN’S WORLD - BRB Woman Version,https://open.spotify.com/track/0yoepB3QZVEfz56wgkJ51V,WOMAN’S WORLD EP',\n",
              " 'Katy Perry,WOMAN’S WORLD - Doing The Most Woman Version,https://open.spotify.com/track/65RnZc2rxj2pNj40iGogB5,WOMAN’S WORLD EP',\n",
              " 'Katy Perry,WOMAN’S WORLD - Transcendental Woman Version,https://open.spotify.com/track/63IVo55mzZzazx0N8Zx3J4,WOMAN’S WORLD EP',\n",
              " 'Katy Perry,WOMAN’S WORLD - Super Woman Version,https://open.spotify.com/track/0JBlHS7B5Q0HzGaTAvEgRp,WOMAN’S WORLD EP',\n",
              " 'Katy Perry,WOMAN’S WORLD - Naked Woman Version,https://open.spotify.com/track/0cKPtfjLxSLnjNIXuliIJf,WOMAN’S WORLD EP',\n",
              " 'Katy Perry,WOMAN’S WORLD,https://open.spotify.com/track/7hDvcL88hXoofWcxPGmBpW,WOMAN’S WORLD',\n",
              " 'Katy Perry,Where We Started,https://open.spotify.com/track/7EBJeRTwxPT00K35jazm7W,Where We Started',\n",
              " \"Katy Perry,When I'm Gone (with Katy Perry) [VIP Mix],https://open.spotify.com/track/53y02rkTgMKgaJihn2Y2jE,When I'm Gone (with Katy Perry) [VIP Mix]\",\n",
              " \"Katy Perry,When I'm Gone (with Katy Perry),https://open.spotify.com/track/2FARqOyp84KT8emHG5TukP,When I'm Gone (with Katy Perry) [VIP Mix]\",\n",
              " 'Katy Perry,When I’m Gone (with Katy Perry),https://open.spotify.com/track/5902W4uHWzhtOff1UK7the,When I’m Gone (with Katy Perry)',\n",
              " 'Katy Perry,All You Need Is Love,https://open.spotify.com/track/4yyHCYD1ZmeIXEEbvLjCqh,All You Need Is Love',\n",
              " 'Katy Perry,Electric - Pokemon 25 Version,https://open.spotify.com/track/63eV5hreY9feQP2CmYavpj,Electric',\n",
              " 'Katy Perry,Cry About It Later (feat. Luísa Sonza & Bruno Martini),https://open.spotify.com/track/43WYPxyEfIxlIjNlxQGYzc,Cry About It Later (feat. Luísa Sonza & Bruno Martini)',\n",
              " 'Katy Perry,Not the End of the World,https://open.spotify.com/track/2YCi66BWOu8S2OqMp1ulfL,Cosmic Energy',\n",
              " 'Katy Perry,E.T.,https://open.spotify.com/track/6ppt4IaZ99VglKYgBOPzve,Cosmic Energy',\n",
              " 'Katy Perry,This Moment,https://open.spotify.com/track/7pKF99ljxBi78x8uK2GOdK,Cosmic Energy',\n",
              " 'Katy Perry,By The Grace Of God,https://open.spotify.com/track/30jckq2sFf8E1yM6q64oys,Cosmic Energy',\n",
              " 'Katy Perry,Bigger Than Me,https://open.spotify.com/track/02Mc4ocohVQ5ze8w1itn7s,Cosmic Energy',\n",
              " 'Katy Perry,Wide Awake,https://open.spotify.com/track/4DCFe4ZsltfBW98VrLmjW8,Cosmic Energy',\n",
              " 'Katy Perry,Resilient (ft. Aitana) [Tiësto Remix],https://open.spotify.com/track/4abn7Lc3illnEHFc9ki6x2,Resilient (ft. Aitana) [Tiësto Remix]',\n",
              " 'Katy Perry,Resilient,https://open.spotify.com/track/01Do7wJpYOwHHbmj19vnVI,Empowered',\n",
              " 'Katy Perry,Roar,https://open.spotify.com/track/6LChPeIMte68qTHRX4PnGY,Empowered',\n",
              " 'Katy Perry,Firework,https://open.spotify.com/track/2bJURVFGWqB7ROPCLNo3mp,Empowered',\n",
              " 'Katy Perry,Fingerprints,https://open.spotify.com/track/3nkqllPjCjO7fZaAB4W64W,Empowered',\n",
              " 'Katy Perry,Power,https://open.spotify.com/track/3Z46AaeKFQNcQtDDnhyQfe,Empowered',\n",
              " 'Katy Perry,What Makes A Woman,https://open.spotify.com/track/6Hi8zihdVk8r7XarEL0oYv,Empowered',\n",
              " 'Katy Perry,Cry About It Later,https://open.spotify.com/track/0gyFOBM8BrLromC6VtdThk,Scorpio SZN',\n",
              " 'Katy Perry,E.T.,https://open.spotify.com/track/34BOIMHbTojsTHbBuMaLfK,Scorpio SZN',\n",
              " 'Katy Perry,Dark Horse,https://open.spotify.com/track/6kYWEELtjf3eM0fI6zqfcp,Scorpio SZN',\n",
              " 'Katy Perry,Ghost,https://open.spotify.com/track/4GMhDuUNawEOqHCSvVrLpj,Scorpio SZN',\n",
              " 'Katy Perry,Spiritual,https://open.spotify.com/track/38yE3wLUCkn8SkxPvXv8EQ,Scorpio SZN',\n",
              " 'Katy Perry,Dance With The Devil,https://open.spotify.com/track/16xsl6dV9D179YpSsIL3ny,Scorpio SZN',\n",
              " 'Katy Perry,Tucked,https://open.spotify.com/track/1Uo2pkayxN1QGZK94lBSHF,Camp Katy',\n",
              " 'Katy Perry,Peacock,https://open.spotify.com/track/28h4wrZ1zUo9osXVPtV0EG,Camp Katy',\n",
              " 'Katy Perry,California Gurls,https://open.spotify.com/track/3S6NRRUXxMSWYm9Dnwv1Eh,Camp Katy',\n",
              " 'Katy Perry,Swish Swish,https://open.spotify.com/track/0mlADdMSJvSnPhy43TRIrL,Camp Katy',\n",
              " 'Katy Perry,Walking On Air,https://open.spotify.com/track/2u9EEBRhsSl6NuVZ83STyr,Camp Katy',\n",
              " 'Katy Perry,Waking Up In Vegas,https://open.spotify.com/track/22s05QXNsKSGobR43cacS9,Camp Katy',\n",
              " 'Katy Perry,Smile - Tough Love Remix,https://open.spotify.com/track/0bLICvP5XRUN42O8E3YyEM,Smile (Tough Love Remix)',\n",
              " 'Katy Perry,Smile - Marshall Jefferson Remix,https://open.spotify.com/track/4wYhYfmKLxt77TwxLx0FRI,Smile (Marshall Jefferson Remix)',\n",
              " 'Katy Perry,Smile - M-22 Remix,https://open.spotify.com/track/1sh66NH4sPwQhbfZZkSx0k,Smile (M-22 Remix)',\n",
              " 'Katy Perry,Smile - Joel Corry Remix,https://open.spotify.com/track/4HpgUlwIh3JbSW4r8C2SmP,Smile (Joel Corry Remix)',\n",
              " 'Katy Perry,Smile - Giorgio Moroder Remix,https://open.spotify.com/track/2yQRnVlNpRz5m2LnWqHfuu,Smile (Giorgio Moroder Remix)',\n",
              " 'Katy Perry,What Makes A Woman,https://open.spotify.com/track/1tH2L4hkZU7IMJbreHFcMs,What Makes A Woman',\n",
              " 'Katy Perry,High On Your Supply,https://open.spotify.com/track/76yp4jNv7IIftlEAxfeuEW,High On Your Supply',\n",
              " 'Katy Perry,Smile,https://open.spotify.com/track/3DXdjHnePKnh6oXw2ZgGSl,Smile',\n",
              " 'Katy Perry,Daisies - Acoustic,https://open.spotify.com/track/2XJ9DC1as0YobPVqOS9JyE,Daisies (Acoustic)',\n",
              " 'Katy Perry,Daisies - Oliver Heldens Remix,https://open.spotify.com/track/04Ff953Oi4uwN6yttURuhk,Daisies (Oliver Heldens Remix)',\n",
              " 'Katy Perry,Daisies - MK Remix,https://open.spotify.com/track/6FEdC7kIM0adzi030XNqvU,Daisies (MK Remix)',\n",
              " 'Katy Perry,Daisies,https://open.spotify.com/track/4uqh9bualXNHXXwO2wPorc,Daisies',\n",
              " 'Katy Perry,Never Worn White,https://open.spotify.com/track/3ksNHUNCTP6Pan8rjFnmtw,Never Worn White',\n",
              " 'Katy Perry,Harleys In Hawaii - Win and Woo Remix,https://open.spotify.com/track/0n6b1rFzDJlFmTG7hyncxh,Harleys In Hawaii (Win and Woo Remix)',\n",
              " 'Katy Perry,Harleys In Hawaii - KANDY Remix,https://open.spotify.com/track/5EECgBC0NjIaUd8ke9YYTo,Harleys In Hawaii (KANDY Remix)',\n",
              " 'Katy Perry,Harleys In Hawaii,https://open.spotify.com/track/5nCthAh3jt4xKuLJAifAaR,Harleys In Hawaii',\n",
              " 'Katy Perry,Small Talk - White Panda Remix,https://open.spotify.com/track/1qKKXno9L0FPCJfZcRzocE,Small Talk (White Panda Remix)',\n",
              " 'Katy Perry,Small Talk - Sofi Tukker Remix,https://open.spotify.com/track/2vQQX3NOzl7UIE5ACjnyY4,Small Talk (Sofi Tukker Remix)',\n",
              " 'Katy Perry,Small Talk - Lost Kings Remix,https://open.spotify.com/track/6dKxXef5Y4bxaAfIhz7AiA,Small Talk (Lost Kings Remix)',\n",
              " 'Katy Perry,Small Talk,https://open.spotify.com/track/4NmE2ytXI8S2svTRSmEdpO,Small Talk',\n",
              " 'Katy Perry,Never Really Over - Wow & Flutter Remix,https://open.spotify.com/track/6SLWPBasKQgpLZAnwsNzDP,Never Really Over (Wow & Flutter Remix)',\n",
              " 'Katy Perry,Never Really Over - Syn Cole Remix,https://open.spotify.com/track/6bfTktuowT5bIMe87Q5rmp,Never Really Over (Syn Cole Remix)',\n",
              " 'Katy Perry,Never Really Over - R3HAB Remix,https://open.spotify.com/track/2OAylPUDDfwRGfe0lYqlCQ,Never Really Over (R3HAB Remix)',\n",
              " 'Katy Perry,Never Really Over,https://open.spotify.com/track/5PYQUBXc7NYeI1obMKSJK0,Never Really Over']"
            ]
          },
          "metadata": {},
          "execution_count": 8
        }
      ]
    },
    {
      "cell_type": "code",
      "source": [
        "\n",
        "fname = \"songs.csv\"\n",
        "\n",
        "with open(fname, \"w\") as f:\n",
        "    f.write(f\"{column_header}\\n\")\n",
        "    for item in lines:\n",
        "        f.write(f\"{item}\\n\")"
      ],
      "metadata": {
        "id": "NzfcLKAeKn3L"
      },
      "execution_count": null,
      "outputs": []
    },
    {
      "cell_type": "code",
      "source": [
        "!head -100 songs.csv"
      ],
      "metadata": {
        "colab": {
          "base_uri": "https://localhost:8080/"
        },
        "id": "O2JEurL9K5H6",
        "outputId": "80121293-2c9e-4dbb-ae4a-5cb78701b0bc"
      },
      "execution_count": null,
      "outputs": [
        {
          "output_type": "stream",
          "name": "stdout",
          "text": [
            "artist,track_name,track_url,album_name\n",
            "Katy Perry,WOMAN’S WORLD,https://open.spotify.com/track/2pB9AGZ4AxUciBzXEeCJjZ,1432\n",
            "Katy Perry,GIMME GIMME (feat. 21 Savage),https://open.spotify.com/track/79rpgo6CHntMDIK1SSbqMh,1432\n",
            "Katy Perry,GORGEOUS (feat. Kim Petras),https://open.spotify.com/track/0KTKTA4SbC7aQ4H4vA8SDO,1432\n",
            "Katy Perry,I'M HIS, HE'S MINE (feat. Doechii),https://open.spotify.com/track/7ExmmbxmuVl4wnvnposbiQ,1432\n",
            "Katy Perry,CRUSH,https://open.spotify.com/track/3ldc3Y0Oz8FVaXIutOSCaD,1432\n",
            "Katy Perry,LIFETIMES,https://open.spotify.com/track/3xF4TXGJDb9nJjHyqMXV9Q,1432\n",
            "Katy Perry,ALL THE LOVE,https://open.spotify.com/track/0RpOo08CfQ2CHSZIqyjrjy,1432\n",
            "Katy Perry,NIRVANA,https://open.spotify.com/track/1cRezHug9egnhYnPxyypG4,1432\n",
            "Katy Perry,ARTIFICIAL (feat. JID),https://open.spotify.com/track/3F7nQ5YqYYYHKvRnIRtKYh,1432\n",
            "Katy Perry,TRUTH,https://open.spotify.com/track/6HyqlFV51dva0OQm19uIA0,1432\n",
            "Katy Perry,WONDER,https://open.spotify.com/track/7i36Jxd6sH38R8YErPuPd7,1432\n",
            "Katy Perry,I WOKE UP,https://open.spotify.com/track/6mqevjxkKFzckFuiNDE4GQ,1432\n",
            "Katy Perry,HAS A HEART,https://open.spotify.com/track/3LFy6yVZ1gcQ2uolOrbk2m,1432\n",
            "Katy Perry,NO TEARS FOR NEW YEAR'S,https://open.spotify.com/track/29f9Fsie82gDA7PVdq3qrc,1432\n",
            "Katy Perry,OK,https://open.spotify.com/track/48iz5WV02KT4CTYFPXJF4U,1432\n",
            "Katy Perry,WOMAN’S WORLD,https://open.spotify.com/track/6oUwz8LPQpzQGTaAgUai4c,143\n",
            "Katy Perry,GIMME GIMME (feat. 21 Savage),https://open.spotify.com/track/0mIdd1nk8c57gCIoaEtGXw,143\n",
            "Katy Perry,GORGEOUS (feat. Kim Petras),https://open.spotify.com/track/2c121Da4d1kLut5aqRgzpK,143\n",
            "Katy Perry,I'M HIS, HE'S MINE (feat. Doechii),https://open.spotify.com/track/7EIPVo13rl0uwKbjubMnc7,143\n",
            "Katy Perry,CRUSH,https://open.spotify.com/track/1WUsiRA6CCf6FmFzkt88fa,143\n",
            "Katy Perry,LIFETIMES,https://open.spotify.com/track/160z8DkFSFoF4ScpYim6aS,143\n",
            "Katy Perry,ALL THE LOVE,https://open.spotify.com/track/69VB7MiNVwwDkl5sgRBYod,143\n",
            "Katy Perry,NIRVANA,https://open.spotify.com/track/2c6yhYLBR3BZhJoIaBZ1hC,143\n",
            "Katy Perry,ARTIFICIAL (feat. JID),https://open.spotify.com/track/3UxPCKSa8fPIhP7KMSD0HW,143\n",
            "Katy Perry,TRUTH,https://open.spotify.com/track/1ksZu2u56ut93LAuLGxUXD,143\n",
            "Katy Perry,WONDER,https://open.spotify.com/track/1nJNqdhKLx2LF01wAtkH8j,143\n",
            "Katy Perry,One Of The Boys,https://open.spotify.com/track/6uIODsxIHybW8ngRUAACb6,One Of The Boys (15th Anniversary Edition)\n",
            "Katy Perry,I Kissed A Girl,https://open.spotify.com/track/1uQDjeqWqHd3LwkYZ2vKvP,One Of The Boys (15th Anniversary Edition)\n",
            "Katy Perry,Waking Up In Vegas,https://open.spotify.com/track/0WDYdvKkDrwnVuxtNJtLHE,One Of The Boys (15th Anniversary Edition)\n",
            "Katy Perry,Thinking Of You,https://open.spotify.com/track/584fagKwwsFMKjxqFi2AOo,One Of The Boys (15th Anniversary Edition)\n",
            "Katy Perry,Mannequin,https://open.spotify.com/track/3200Oy2pnzyxUjTIwGWCEL,One Of The Boys (15th Anniversary Edition)\n",
            "Katy Perry,Ur So Gay,https://open.spotify.com/track/5CTUG0mPVqyinO2ZHPgn3I,One Of The Boys (15th Anniversary Edition)\n",
            "Katy Perry,Hot N Cold,https://open.spotify.com/track/6Qq8K305vIxgvtMWI1fkQG,One Of The Boys (15th Anniversary Edition)\n",
            "Katy Perry,If You Can Afford Me,https://open.spotify.com/track/4WqiQqsqWRqcLPnoxwfPAi,One Of The Boys (15th Anniversary Edition)\n",
            "Katy Perry,Lost,https://open.spotify.com/track/3YHr20DraO9onR5iadROdA,One Of The Boys (15th Anniversary Edition)\n",
            "Katy Perry,Self Inflicted,https://open.spotify.com/track/3jIVingRpdEMBPWX0dr4tY,One Of The Boys (15th Anniversary Edition)\n",
            "Katy Perry,I'm Still Breathing,https://open.spotify.com/track/7wMPIOO8yxtjCp2S9cPpos,One Of The Boys (15th Anniversary Edition)\n",
            "Katy Perry,Fingerprints,https://open.spotify.com/track/4iinyMWT3lxJNeqx44apHm,One Of The Boys (15th Anniversary Edition)\n",
            "Katy Perry,A Cup Of Coffee - Remixed / Remastered 2023,https://open.spotify.com/track/4036mSGS7NnpDnn2Cq3c5l,One Of The Boys (15th Anniversary Edition)\n",
            "Katy Perry,I Think I'm Ready - Remixed / Remastered 2023,https://open.spotify.com/track/6mHWixfm40ovj9hWesDU9h,One Of The Boys (15th Anniversary Edition)\n",
            "Katy Perry,Never Really Over,https://open.spotify.com/track/1IIV8jglA0klVZy17q665k,Smile\n",
            "Katy Perry,Cry About It Later,https://open.spotify.com/track/7cLrrJ1Dk6WAQyDIj9j26A,Smile\n",
            "Katy Perry,Teary Eyes,https://open.spotify.com/track/3i0uu4DEpcmEAudChpVDBh,Smile\n",
            "Katy Perry,Daisies,https://open.spotify.com/track/367wyLNqQMr5e8S2E6Zvpp,Smile\n",
            "Katy Perry,Resilient,https://open.spotify.com/track/3By64Pmpn0LkwPKSjqSTBp,Smile\n",
            "Katy Perry,Not the End of the World,https://open.spotify.com/track/2F20djOXWDSFEXu3tPdV71,Smile\n",
            "Katy Perry,Smile,https://open.spotify.com/track/59s3aMqR9uOzLIXAcgBCEm,Smile\n",
            "Katy Perry,Champagne Problems,https://open.spotify.com/track/5iKXqTVr88ghRPwMEeVKVM,Smile\n",
            "Katy Perry,Tucked,https://open.spotify.com/track/5ahNnBifspeXOi1sMbiXHT,Smile\n",
            "Katy Perry,Harleys In Hawaii,https://open.spotify.com/track/3B4etxytImrRKQgV3XHjnR,Smile\n",
            "Katy Perry,Only Love,https://open.spotify.com/track/6lWp5O5XH6smTt4vzd4Mgy,Smile\n",
            "Katy Perry,What Makes A Woman,https://open.spotify.com/track/2czhdHhprTLjvlIzj56jQt,Smile\n",
            "Katy Perry,Witness,https://open.spotify.com/track/6EzuVdWmzgOBmqHpzbbzfQ,Witness (Deluxe)\n",
            "Katy Perry,Hey Hey Hey,https://open.spotify.com/track/3tqwKg0W8XfYORNrP4aIhu,Witness (Deluxe)\n",
            "Katy Perry,Roulette,https://open.spotify.com/track/2rk4s5NBhtHhhJIfjoaWES,Witness (Deluxe)\n",
            "Katy Perry,Swish Swish,https://open.spotify.com/track/3OtMnyUaiipcAT23A8liyi,Witness (Deluxe)\n",
            "Katy Perry,Déjà Vu,https://open.spotify.com/track/60XMmxciP1qewvkcD16qKQ,Witness (Deluxe)\n",
            "Katy Perry,Power,https://open.spotify.com/track/6Bat8YJaSEVzWwYFHqgqep,Witness (Deluxe)\n",
            "Katy Perry,Mind Maze,https://open.spotify.com/track/6W20KhhJcEhRh71l5hQq8C,Witness (Deluxe)\n",
            "Katy Perry,Miss You More,https://open.spotify.com/track/7BZSIG9TyowrVzSdZJpmeI,Witness (Deluxe)\n",
            "Katy Perry,Chained To The Rhythm,https://open.spotify.com/track/7qvxFz3JodM0A7xEM7k3YD,Witness (Deluxe)\n",
            "Katy Perry,Tsunami,https://open.spotify.com/track/0frWUvNyEqlfy1WAxBAFbb,Witness (Deluxe)\n",
            "Katy Perry,Bon Appétit,https://open.spotify.com/track/4rHmKlFRiFzabiVO6e9w2e,Witness (Deluxe)\n",
            "Katy Perry,Bigger Than Me,https://open.spotify.com/track/10jcBOZo0OwQVLPxp7bwB6,Witness (Deluxe)\n",
            "Katy Perry,Save As Draft,https://open.spotify.com/track/732x2Fy6jbt7qC70Zg463q,Witness (Deluxe)\n",
            "Katy Perry,Pendulum,https://open.spotify.com/track/6Pp0cu0y4lOyRd04L3e9lS,Witness (Deluxe)\n",
            "Katy Perry,Into Me You See,https://open.spotify.com/track/784C7m9r88GPKe2yOAzGYJ,Witness (Deluxe)\n",
            "Katy Perry,Dance With The Devil,https://open.spotify.com/track/5CYXQ9WzVTUbyOYiSKwRFG,Witness (Deluxe)\n",
            "Katy Perry,Act My Age,https://open.spotify.com/track/6HtHyWKAzwFwrSnnTunDMl,Witness (Deluxe)\n",
            "Katy Perry,Roar,https://open.spotify.com/track/6F5c58TMEs1byxUstkzVeM,PRISM (Deluxe)\n",
            "Katy Perry,Legendary Lovers,https://open.spotify.com/track/5Uc37Y6FijZcM538PqqkWd,PRISM (Deluxe)\n",
            "Katy Perry,Birthday,https://open.spotify.com/track/2xLOMHjkOK8nzxJ4r6yOKR,PRISM (Deluxe)\n",
            "Katy Perry,Walking On Air,https://open.spotify.com/track/0RCsGhR44nFVAd5WiZZcGq,PRISM (Deluxe)\n",
            "Katy Perry,Unconditionally,https://open.spotify.com/track/4fwbGKNExPtPHbor1TBSY4,PRISM (Deluxe)\n",
            "Katy Perry,Dark Horse,https://open.spotify.com/track/5jrdCoLpJSvHHorevXBATy,PRISM (Deluxe)\n",
            "Katy Perry,This Is How We Do,https://open.spotify.com/track/5vL0yvddknhGj7IrBc6UTj,PRISM (Deluxe)\n",
            "Katy Perry,International Smile,https://open.spotify.com/track/5OzIe9IL95B23n4rN59JZ3,PRISM (Deluxe)\n",
            "Katy Perry,Ghost,https://open.spotify.com/track/665T5MrQUl7sSwivPm7pEW,PRISM (Deluxe)\n",
            "Katy Perry,Love Me,https://open.spotify.com/track/2BSFAQuiYKu4VcMjovRgRQ,PRISM (Deluxe)\n",
            "Katy Perry,This Moment,https://open.spotify.com/track/0NfwNHAyi4s9HVes4JkaXA,PRISM (Deluxe)\n",
            "Katy Perry,Double Rainbow,https://open.spotify.com/track/2ve1HouBhfDbqROVQm2IBd,PRISM (Deluxe)\n",
            "Katy Perry,By The Grace Of God,https://open.spotify.com/track/2IRK3qdY6BzbKxKr8eBk8o,PRISM (Deluxe)\n",
            "Katy Perry,Spiritual,https://open.spotify.com/track/6lOS1dPkjHlAzRCMplJupN,PRISM (Deluxe)\n",
            "Katy Perry,It Takes Two,https://open.spotify.com/track/4MxGfhE3DKxBhdSWTYvc4h,PRISM (Deluxe)\n",
            "Katy Perry,Choose Your Battles,https://open.spotify.com/track/3rHUpjfq9JjrfaTsEAmQBC,PRISM (Deluxe)\n",
            "Katy Perry,Roar,https://open.spotify.com/track/27tNWlhdAryQY04Gb2ZhUI,PRISM\n",
            "Katy Perry,Legendary Lovers,https://open.spotify.com/track/0pOZYYEJawmTAPtkzYKSa2,PRISM\n",
            "Katy Perry,Birthday,https://open.spotify.com/track/1NOZvdCovG42qQV7ftVD5d,PRISM\n",
            "Katy Perry,Walking On Air,https://open.spotify.com/track/6eQbRfp5DxLSOL5pGozYf1,PRISM\n",
            "Katy Perry,Unconditionally,https://open.spotify.com/track/009ImBOrIUlWgla8U05RAC,PRISM\n",
            "Katy Perry,Dark Horse,https://open.spotify.com/track/4jbmgIyjGoXjY01XxatOx6,PRISM\n",
            "Katy Perry,This Is How We Do,https://open.spotify.com/track/7GCElX2eJA5t0AFWw3WzKn,PRISM\n",
            "Katy Perry,International Smile,https://open.spotify.com/track/6q2jvC1htmreAOxJwRtnUD,PRISM\n",
            "Katy Perry,Ghost,https://open.spotify.com/track/2Vl6VlxpDQk99QU7TfQGjO,PRISM\n",
            "Katy Perry,Love Me,https://open.spotify.com/track/2lrMNui7pK7P7KDWrp86Ru,PRISM\n",
            "Katy Perry,This Moment,https://open.spotify.com/track/5Fm0hRkJ9kHQmO3ziYl1Sa,PRISM\n",
            "Katy Perry,Double Rainbow,https://open.spotify.com/track/7B8TA3WaoMiKZ3wfnF7PgN,PRISM\n",
            "Katy Perry,By The Grace Of God,https://open.spotify.com/track/1i0Rv7GtiCnnhpEkNAya80,PRISM\n",
            "Katy Perry,Teenage Dream,https://open.spotify.com/track/55qBw1900pZKfXJ6Q9A2Lc,Teenage Dream: The Complete Confection\n"
          ]
        }
      ]
    },
    {
      "cell_type": "code",
      "source": [
        "from google.colab import drive\n",
        "import shutil\n",
        "\n",
        "drive.mount('/content/drive')\n",
        "\n",
        "source_path = fname\n",
        "\n",
        "destination_path = '/content/drive/My Drive/' + fname\n",
        "\n",
        "shutil.copy(source_path, destination_path)"
      ],
      "metadata": {
        "colab": {
          "base_uri": "https://localhost:8080/",
          "height": 53
        },
        "id": "naQpOFPFLjc9",
        "outputId": "98dcd384-11d4-4b5f-f084-9e83551699ef"
      },
      "execution_count": null,
      "outputs": [
        {
          "output_type": "stream",
          "name": "stdout",
          "text": [
            "Mounted at /content/drive\n"
          ]
        },
        {
          "output_type": "execute_result",
          "data": {
            "text/plain": [
              "'/content/drive/My Drive/songs.csv'"
            ],
            "application/vnd.google.colaboratory.intrinsic+json": {
              "type": "string"
            }
          },
          "metadata": {},
          "execution_count": 11
        }
      ]
    },
    {
      "cell_type": "code",
      "source": [
        "!grep -i standing songs.csv"
      ],
      "metadata": {
        "id": "1kP-h8sOMrH1"
      },
      "execution_count": null,
      "outputs": []
    },
    {
      "cell_type": "markdown",
      "source": [
        "##csv\n",
        "csv means comma-separated values\n",
        "\n",
        "* first line -- column headings\n",
        "* every other line --data"
      ],
      "metadata": {
        "id": "C-qdVUl_m07a"
      }
    },
    {
      "cell_type": "code",
      "source": [
        "!head songs.csv"
      ],
      "metadata": {
        "colab": {
          "base_uri": "https://localhost:8080/"
        },
        "id": "JcWYosgEMzWO",
        "outputId": "15d499b8-1f21-4985-932b-f383a17a8b59"
      },
      "execution_count": null,
      "outputs": [
        {
          "output_type": "stream",
          "name": "stdout",
          "text": [
            "artist,track_name,track_url,album_name\n",
            "Katy Perry,WOMAN’S WORLD,https://open.spotify.com/track/2pB9AGZ4AxUciBzXEeCJjZ,1432\n",
            "Katy Perry,GIMME GIMME (feat. 21 Savage),https://open.spotify.com/track/79rpgo6CHntMDIK1SSbqMh,1432\n",
            "Katy Perry,GORGEOUS (feat. Kim Petras),https://open.spotify.com/track/0KTKTA4SbC7aQ4H4vA8SDO,1432\n",
            "Katy Perry,I'M HIS, HE'S MINE (feat. Doechii),https://open.spotify.com/track/7ExmmbxmuVl4wnvnposbiQ,1432\n",
            "Katy Perry,CRUSH,https://open.spotify.com/track/3ldc3Y0Oz8FVaXIutOSCaD,1432\n",
            "Katy Perry,LIFETIMES,https://open.spotify.com/track/3xF4TXGJDb9nJjHyqMXV9Q,1432\n",
            "Katy Perry,ALL THE LOVE,https://open.spotify.com/track/0RpOo08CfQ2CHSZIqyjrjy,1432\n",
            "Katy Perry,NIRVANA,https://open.spotify.com/track/1cRezHug9egnhYnPxyypG4,1432\n",
            "Katy Perry,ARTIFICIAL (feat. JID),https://open.spotify.com/track/3F7nQ5YqYYYHKvRnIRtKYh,1432\n"
          ]
        }
      ]
    },
    {
      "cell_type": "markdown",
      "source": [
        "# Homework\n",
        "\n",
        "\n",
        "\n",
        "\n",
        "\n",
        "\n",
        "\n",
        "2.  Look at this example to show how to convert from a dictionary to a csv file.  https://colab.research.google.com/drive/17CNG8c7Nt0f4IDcQ34sxdFXMnRbcACOA?usp=sharing\n",
        "\n"
      ],
      "metadata": {
        "id": "CfbfqDAM71-g"
      }
    }
  ]
}