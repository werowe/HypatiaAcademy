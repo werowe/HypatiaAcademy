{
  "nbformat": 4,
  "nbformat_minor": 0,
  "metadata": {
    "colab": {
      "provenance": [],
      "authorship_tag": "ABX9TyMNrzpTB+q1X5+hPansvq5D",
      "include_colab_link": true
    },
    "kernelspec": {
      "name": "python3",
      "display_name": "Python 3"
    },
    "language_info": {
      "name": "python"
    }
  },
  "cells": [
    {
      "cell_type": "markdown",
      "metadata": {
        "id": "view-in-github",
        "colab_type": "text"
      },
      "source": [
        "<a href=\"https://colab.research.google.com/github/werowe/HypatiaAcademy/blob/master/class/games.ipynb\" target=\"_parent\"><img src=\"https://colab.research.google.com/assets/colab-badge.svg\" alt=\"Open In Colab\"/></a>"
      ]
    },
    {
      "cell_type": "code",
      "execution_count": null,
      "metadata": {
        "id": "SWKcsAAfel5Q"
      },
      "outputs": [],
      "source": [
        "\n",
        "class Piece():\n",
        "\n",
        "  pass\n",
        "\n",
        "\n",
        "class Rook(Piece):\n",
        "\n",
        "# 2 possibilities vertical or horizontal\n",
        "\n",
        "# vertical means row changes but column does not\n",
        "# horizontal means columns changes but row does not\n",
        "\n",
        "\n",
        "class Bishop(Piece):\n",
        "\n",
        "# bishop can only move on a diagonal\n",
        "# how many square\n",
        "# +- some rows, subject to the column has to be different\n",
        "\n",
        "class Pawn(Piece):\n",
        "\n",
        "  def move(self):\n",
        "\n",
        "  # current location + 1 row\n",
        "\n",
        "  e4 + 1 = f4\n",
        "\n",
        "\n",
        "class Board():\n",
        "\n",
        "    def __init__(self, rows, columns):\n",
        "\n",
        "        self.rows = rows\n",
        "        self.colums = columns\n",
        "        self.matrix = [[ _ for _ in columns] for _ in rows]\n",
        "\n",
        "class Chess(Board):\n",
        "\n",
        "    def __init__(self, rows, columns):\n",
        "\n",
        "      super().__init__(rows, columns)\n",
        "\n",
        "      self.pieces = []\n",
        "\n",
        "      self.clabels = ['a', 'b', 'c', 'd', 'e', 'f', 'g', 'h']\n",
        "      self.rlabels = list(range(1,9))\n",
        "\n",
        "    def __repr__(self):\n",
        "\n",
        "      i=0\n",
        "\n",
        "      lines = []\n",
        "      lines.append('  ' + '  '.join(map(str, self.rlabels)) + '\\n')\n",
        "\n",
        "      for row in self.matrix:\n",
        "        lines.append(self.clabels[i] + \"  |\" + ', '.join(map(str, row)) + \"|\")\n",
        "        i += 1\n",
        "\n",
        "      return \"\\n\".join(lines)\n",
        "\n",
        "    # homework is finish this move\n",
        "\n",
        "    def movePiece(self, piece,direction,steps):\n",
        "\n",
        "\n",
        "\n",
        "      pass\n",
        "\n",
        "\n",
        "class Checkers(Board):\n",
        "\n",
        "  pass\n",
        "\n",
        "class Go(Board):\n",
        "\n",
        "  pass\n",
        "\n",
        "\n",
        "\n"
      ]
    },
    {
      "cell_type": "code",
      "source": [
        "chess=Chess(range(1,9),range(1,9))"
      ],
      "metadata": {
        "id": "_kRcSlu1e-WT"
      },
      "execution_count": null,
      "outputs": []
    },
    {
      "cell_type": "code",
      "source": [
        "print(chess)\n"
      ],
      "metadata": {
        "colab": {
          "base_uri": "https://localhost:8080/"
        },
        "id": "pdB3WTIkf5cq",
        "outputId": "d2b73e82-3ef7-47b0-a889-e4b998561283"
      },
      "execution_count": null,
      "outputs": [
        {
          "output_type": "stream",
          "name": "stdout",
          "text": [
            "  1  2  3  4  5  6  7  8\n",
            "\n",
            "a  |1, 2, 3, 4, 5, 6, 7, 8|\n",
            "b  |1, 2, 3, 4, 5, 6, 7, 8|\n",
            "c  |1, 2, 3, 4, 5, 6, 7, 8|\n",
            "d  |1, 2, 3, 4, 5, 6, 7, 8|\n",
            "e  |1, 2, 3, 4, 5, 6, 7, 8|\n",
            "f  |1, 2, 3, 4, 5, 6, 7, 8|\n",
            "g  |1, 2, 3, 4, 5, 6, 7, 8|\n",
            "h  |1, 2, 3, 4, 5, 6, 7, 8|\n"
          ]
        }
      ]
    }
  ]
}