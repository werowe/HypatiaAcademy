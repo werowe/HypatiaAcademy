{
  "nbformat": 4,
  "nbformat_minor": 0,
  "metadata": {
    "colab": {
      "provenance": [],
      "authorship_tag": "ABX9TyNVytLutbLO7RRZLLz+559x",
      "include_colab_link": true
    },
    "kernelspec": {
      "name": "python3",
      "display_name": "Python 3"
    },
    "language_info": {
      "name": "python"
    }
  },
  "cells": [
    {
      "cell_type": "markdown",
      "metadata": {
        "id": "view-in-github",
        "colab_type": "text"
      },
      "source": [
        "<a href=\"https://colab.research.google.com/github/werowe/HypatiaAcademy/blob/master/class/games.ipynb\" target=\"_parent\"><img src=\"https://colab.research.google.com/assets/colab-badge.svg\" alt=\"Open In Colab\"/></a>"
      ]
    },
    {
      "cell_type": "code",
      "execution_count": null,
      "metadata": {
        "id": "SWKcsAAfel5Q"
      },
      "outputs": [],
      "source": [
        "\n",
        "class Piece():\n",
        "\n",
        "  pass\n",
        "\n",
        "\n",
        "class Rook(Piece):\n",
        "\n",
        "# 2 possibilities vertical or horizontal\n",
        "\n",
        "# vertical means row changes but column does not\n",
        "# horizontal means columns changes but row does not\n",
        "\n",
        "  pass\n",
        "\n",
        "\n",
        "\n",
        "class Bishop(Piece):\n",
        "\n",
        "# bishop can only move on a diagonal\n",
        "# how many square\n",
        "# +- some rows, subject to the column has to be different\n",
        "\n",
        "  pass\n",
        "\n",
        "class Pawn(Piece):\n",
        "\n",
        "\n",
        "  # the pawn needs a constructor\n",
        "  # this will have the rules on how it can move\n",
        "  # and it's current position\n",
        "\n",
        "  def move(self):\n",
        "    pass\n",
        "\n",
        "\n",
        "  # current location + 1 row\n",
        "\n",
        "  #e4 + 1 = f4\n",
        "\n",
        "\n",
        "class Board():\n",
        "\n",
        "    def __init__(self, rows, columns):\n",
        "\n",
        "        self.rows = rows\n",
        "        self.colums = columns\n",
        "        self.matrix = [[ _ for _ in columns] for _ in rows]\n",
        "\n",
        "class Chess(Board):\n",
        "\n",
        "    def __init__(self, rows, columns):\n",
        "\n",
        "      super().__init__(rows, columns)\n",
        "\n",
        "      self.pieces = []\n",
        "\n",
        "      self.clabels = ['a', 'b', 'c', 'd', 'e', 'f', 'g', 'h']\n",
        "      self.rlabels = list(range(1,9))\n",
        "\n",
        "    def __repr__(self):\n",
        "\n",
        "      i=0\n",
        "\n",
        "      lines = []\n",
        "      lines.append('  ' + '  '.join(map(str, self.rlabels)) + '\\n')\n",
        "\n",
        "      for row in self.matrix:\n",
        "        lines.append(self.clabels[i] + \"  |\" + ', '.join(map(str, row)) + \"|\")\n",
        "        i += 1\n",
        "\n",
        "      return \"\\n\".join(lines)\n",
        "\n",
        "    # homework is finish this move\n",
        "\n",
        "    def movePiece(self, piece,direction,steps):\n",
        "\n",
        "\n",
        "\n",
        "      pass\n",
        "\n",
        "\n",
        "class Checkers(Board):\n",
        "\n",
        "  pass\n",
        "\n",
        "class Go(Board):\n",
        "\n",
        "  pass\n",
        "\n",
        "\n",
        "\n"
      ]
    },
    {
      "cell_type": "code",
      "source": [
        "chess=Chess(range(1,9),range(1,9))"
      ],
      "metadata": {
        "id": "_kRcSlu1e-WT"
      },
      "execution_count": null,
      "outputs": []
    },
    {
      "cell_type": "code",
      "source": [
        "print(chess)\n"
      ],
      "metadata": {
        "colab": {
          "base_uri": "https://localhost:8080/"
        },
        "id": "pdB3WTIkf5cq",
        "outputId": "b381da94-16a9-4010-cef3-1c8fbb772633"
      },
      "execution_count": null,
      "outputs": [
        {
          "output_type": "stream",
          "name": "stdout",
          "text": [
            "  1  2  3  4  5  6  7  8\n",
            "\n",
            "a  |1, 2, 3, 4, 5, 6, 7, 8|\n",
            "b  |1, 2, 3, 4, 5, 6, 7, 8|\n",
            "c  |1, 2, 3, 4, 5, 6, 7, 8|\n",
            "d  |1, 2, 3, 4, 5, 6, 7, 8|\n",
            "e  |1, 2, 3, 4, 5, 6, 7, 8|\n",
            "f  |1, 2, 3, 4, 5, 6, 7, 8|\n",
            "g  |1, 2, 3, 4, 5, 6, 7, 8|\n",
            "h  |1, 2, 3, 4, 5, 6, 7, 8|\n"
          ]
        }
      ]
    },
    {
      "cell_type": "code",
      "source": [
        "rows = range(1,9)\n",
        "columns = range(1,9)\n",
        "\n",
        "# list comprehension\n",
        "\n",
        "matrix = [[ \"\" for _ in columns] for _ in rows]"
      ],
      "metadata": {
        "id": "GUYsoLq5Ypm3"
      },
      "execution_count": null,
      "outputs": []
    },
    {
      "cell_type": "code",
      "source": [
        "rows"
      ],
      "metadata": {
        "colab": {
          "base_uri": "https://localhost:8080/"
        },
        "id": "8htvqbPqY0wg",
        "outputId": "de913e93-712b-43eb-c18f-3ad7daa8eec6"
      },
      "execution_count": null,
      "outputs": [
        {
          "output_type": "execute_result",
          "data": {
            "text/plain": [
              "range(1, 9)"
            ]
          },
          "metadata": {},
          "execution_count": 13
        }
      ]
    },
    {
      "cell_type": "code",
      "source": [
        "columns"
      ],
      "metadata": {
        "colab": {
          "base_uri": "https://localhost:8080/"
        },
        "id": "QuubELFUY2qY",
        "outputId": "e6a592b3-a4a9-4ef2-d0dd-02e0f05cdde7"
      },
      "execution_count": null,
      "outputs": [
        {
          "output_type": "execute_result",
          "data": {
            "text/plain": [
              "range(1, 9)"
            ]
          },
          "metadata": {},
          "execution_count": 14
        }
      ]
    },
    {
      "cell_type": "code",
      "source": [
        "# use list to turn the range object into a list\n",
        "\n",
        "list(rows)"
      ],
      "metadata": {
        "colab": {
          "base_uri": "https://localhost:8080/"
        },
        "id": "KC6zRLWbY4im",
        "outputId": "57d6c4e8-c2c3-4fc5-ba6b-b56c2eb8adc9"
      },
      "execution_count": null,
      "outputs": [
        {
          "output_type": "execute_result",
          "data": {
            "text/plain": [
              "[1, 2, 3, 4, 5, 6, 7, 8]"
            ]
          },
          "metadata": {},
          "execution_count": 15
        }
      ]
    },
    {
      "cell_type": "code",
      "source": [
        "matrix"
      ],
      "metadata": {
        "colab": {
          "base_uri": "https://localhost:8080/"
        },
        "id": "yc_tvq5mY-hq",
        "outputId": "e78ca7db-060a-4a8d-b478-3367241452a8"
      },
      "execution_count": null,
      "outputs": [
        {
          "output_type": "execute_result",
          "data": {
            "text/plain": [
              "[['', '', '', '', '', '', '', ''],\n",
              " ['', '', '', '', '', '', '', ''],\n",
              " ['', '', '', '', '', '', '', ''],\n",
              " ['', '', '', '', '', '', '', ''],\n",
              " ['', '', '', '', '', '', '', ''],\n",
              " ['', '', '', '', '', '', '', ''],\n",
              " ['', '', '', '', '', '', '', ''],\n",
              " ['', '', '', '', '', '', '', '']]"
            ]
          },
          "metadata": {},
          "execution_count": 18
        }
      ]
    }
  ]
}