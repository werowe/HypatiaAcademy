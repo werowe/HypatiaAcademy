{
  "nbformat": 4,
  "nbformat_minor": 0,
  "metadata": {
    "colab": {
      "provenance": [],
      "authorship_tag": "ABX9TyPhhmTivljrZLajRzSfy9Vk",
      "include_colab_link": true
    },
    "kernelspec": {
      "name": "python3",
      "display_name": "Python 3"
    },
    "language_info": {
      "name": "python"
    }
  },
  "cells": [
    {
      "cell_type": "markdown",
      "metadata": {
        "id": "view-in-github",
        "colab_type": "text"
      },
      "source": [
        "<a href=\"https://colab.research.google.com/github/werowe/HypatiaAcademy/blob/master/class/2024_08_20_string_functions.ipynb\" target=\"_parent\"><img src=\"https://colab.research.google.com/assets/colab-badge.svg\" alt=\"Open In Colab\"/></a>"
      ]
    },
    {
      "cell_type": "code",
      "execution_count": null,
      "metadata": {
        "id": "7WW7AI0QRBqx"
      },
      "outputs": [],
      "source": [
        "# turn on recording\n",
        "\n",
        "# def means define\n",
        "\n",
        "def function(parameters):\n",
        "\n",
        "    # do something\n",
        "\n",
        "    # return some value\n",
        "\n",
        "\n",
        "# call the function\n",
        "\n",
        "function(2)\n",
        "\n"
      ]
    },
    {
      "cell_type": "code",
      "source": [
        "def hello(name):\n",
        "\n",
        "    return name. # <----return that means send back\n",
        "\n",
        "hello(\"Walker\"). # -------> call hello and send it the parameter \"walker\""
      ],
      "metadata": {
        "colab": {
          "base_uri": "https://localhost:8080/",
          "height": 35
        },
        "id": "jW_ytVcpU1MV",
        "outputId": "491ff6eb-fac1-4afc-bfc3-510479854dbf"
      },
      "execution_count": 1,
      "outputs": [
        {
          "output_type": "execute_result",
          "data": {
            "text/plain": [
              "'Walker'"
            ],
            "application/vnd.google.colaboratory.intrinsic+json": {
              "type": "string"
            }
          },
          "metadata": {},
          "execution_count": 1
        }
      ]
    },
    {
      "cell_type": "code",
      "source": [
        "def multiplier(x,y):\n",
        "\n",
        "    product = x * y # do some calculation\n",
        "\n",
        "    return product\n",
        "\n",
        "def multiplier2(x,y):\n",
        "\n",
        "    return x * y\n",
        "\n",
        "\n",
        "\n"
      ],
      "metadata": {
        "id": "SnLlShkuVVLW"
      },
      "execution_count": null,
      "outputs": []
    },
    {
      "cell_type": "code",
      "source": [
        "def doubler(x):\n",
        "\n",
        "    return 2 * x\n",
        "\n",
        "print(doubler(2))"
      ],
      "metadata": {
        "colab": {
          "base_uri": "https://localhost:8080/"
        },
        "id": "fcV2-0IkVqVU",
        "outputId": "8d39546d-b7ff-4b94-baec-3848ed6e18a8"
      },
      "execution_count": 3,
      "outputs": [
        {
          "output_type": "stream",
          "name": "stdout",
          "text": [
            "4\n"
          ]
        }
      ]
    },
    {
      "cell_type": "code",
      "source": [
        "def doubler(x, y):\n",
        "\n",
        "    return 2 * x, 2 * y\n",
        "\n",
        "x = 2\n",
        "y = 3\n",
        "\n",
        "a , b = doubler(x , y)\n",
        "\n",
        "a , b"
      ],
      "metadata": {
        "colab": {
          "base_uri": "https://localhost:8080/"
        },
        "id": "r-gK6G7DV12A",
        "outputId": "ffc063c1-d7b6-4a45-f057-2380594b4c27"
      },
      "execution_count": 7,
      "outputs": [
        {
          "output_type": "execute_result",
          "data": {
            "text/plain": [
              "(4, 6)"
            ]
          },
          "metadata": {},
          "execution_count": 7
        }
      ]
    },
    {
      "cell_type": "markdown",
      "source": [
        "# Scope\n",
        "\n",
        "global scope, variable exists in the whole program\n",
        "\n",
        "local scope, variable exists only inside the function of it statement\n",
        "\n"
      ],
      "metadata": {
        "id": "iQiQuVqpagTm"
      }
    },
    {
      "cell_type": "code",
      "source": [
        "def f(x):\n",
        "\n",
        "  return 2 * x # local to f\n",
        "\n",
        "def g(x):\n",
        "\n",
        "  return(2 * f(x)) # local to g\n",
        "\n",
        "\n",
        "g(2)\n"
      ],
      "metadata": {
        "colab": {
          "base_uri": "https://localhost:8080/"
        },
        "id": "ukh6GRSSWY5v",
        "outputId": "99cd3f7a-f112-4ef1-fc63-ab6283823b8e"
      },
      "execution_count": 8,
      "outputs": [
        {
          "output_type": "execute_result",
          "data": {
            "text/plain": [
              "8"
            ]
          },
          "metadata": {},
          "execution_count": 8
        }
      ]
    },
    {
      "cell_type": "markdown",
      "source": [
        "**explain**\n",
        "\n",
        "1. g(2) means 2 -----> g()\n",
        "2. g take 2 and ---->  2 ----> f(x)\n",
        "3. 2. ---->. f(x) -----> 2 * 2 = 4\n",
        "4. 2 * 4 = 8\n"
      ],
      "metadata": {
        "id": "ieXDSA43XWLB"
      }
    },
    {
      "cell_type": "code",
      "source": [
        "# compound function\n",
        "\n",
        "f(g(x))\n",
        "\n",
        "\n",
        "\n"
      ],
      "metadata": {
        "colab": {
          "base_uri": "https://localhost:8080/"
        },
        "id": "xdcKUpArXKZl",
        "outputId": "cbf256c8-c868-431d-d18f-0cf059ffadc9"
      },
      "execution_count": 10,
      "outputs": [
        {
          "output_type": "execute_result",
          "data": {
            "text/plain": [
              "16"
            ]
          },
          "metadata": {},
          "execution_count": 10
        }
      ]
    },
    {
      "cell_type": "code",
      "source": [
        "def readfile():\n",
        "\n",
        "\n",
        "    if True:\n",
        "      calulate()\n",
        "\n",
        "    sort()\n",
        "\n",
        "    return\n",
        "\n",
        "\n",
        "readfile()\n"
      ],
      "metadata": {
        "id": "fVmZJG4XX-Y-"
      },
      "execution_count": 15,
      "outputs": []
    },
    {
      "cell_type": "code",
      "source": [
        "# function with a variable number arguments (parameters)\n",
        "\n",
        "#def mutiplier(x,y):\n",
        "\n",
        "#    return x, y\n",
        "\n",
        "\n",
        "\n",
        "def mutiplier(*args):\n",
        "\n",
        "    for arg in args:\n",
        "      print(arg)\n",
        "\n",
        "\n",
        "mutiplier(3,4,5)\n"
      ],
      "metadata": {
        "colab": {
          "base_uri": "https://localhost:8080/"
        },
        "id": "XGzdlh6kYZn_",
        "outputId": "5928fc1a-2edf-486b-cbdf-9315234d9059"
      },
      "execution_count": 16,
      "outputs": [
        {
          "output_type": "stream",
          "name": "stdout",
          "text": [
            "3\n",
            "4\n",
            "5\n"
          ]
        }
      ]
    },
    {
      "cell_type": "code",
      "source": [
        "\n",
        "def multiplier(*args):\n",
        "\n",
        "\n",
        "    product = 1 # give is starting value\n",
        "\n",
        "    for arg in args:  # create a variable called arg and loop through the list called args\n",
        "      product = product * arg # inside, lower level or hierarchy\n",
        "      print(\"argument \" , arg, \" running product\", product)\n",
        "\n",
        "    return product  # same level of hierarchy, same indentation\n",
        "\n",
        "\n",
        "multiplier(3,4,5)"
      ],
      "metadata": {
        "colab": {
          "base_uri": "https://localhost:8080/"
        },
        "id": "pGfQZmKvZAnr",
        "outputId": "ca47eb0f-0d85-4a07-d27f-ff272d491bd9"
      },
      "execution_count": 23,
      "outputs": [
        {
          "output_type": "stream",
          "name": "stdout",
          "text": [
            "argument  3  running product 3\n",
            "argument  4  running product 12\n",
            "argument  5  running product 60\n"
          ]
        },
        {
          "output_type": "execute_result",
          "data": {
            "text/plain": [
              "60"
            ]
          },
          "metadata": {},
          "execution_count": 23
        }
      ]
    },
    {
      "cell_type": "markdown",
      "source": [
        "\n",
        "```\n",
        "\n",
        "function() {\n",
        " for (x) {\n",
        "\n",
        "   do something\n",
        "\n",
        " }\n",
        "\n",
        "   do the last thing\n",
        "}\n",
        "\n",
        "\n",
        "\n",
        "```\n",
        "\n"
      ],
      "metadata": {
        "id": "wRTyroP8aLw4"
      }
    },
    {
      "cell_type": "code",
      "source": [
        "\n",
        "# function that calls itself\n",
        "# this one keeps going until the last number is 1 or 0\n",
        "\n",
        "# so it goes\n",
        "\n",
        "# 1. factorial (3)\n",
        "# 2. factorial (2)\n",
        "# 3. factorial (1)\n",
        "\n",
        "def factorial(n):\n",
        "    # Base case: if n is 0 or 1, return 1\n",
        "    if n == 1:\n",
        "        return 1\n",
        "    # Recursive case: n * factorial of (n-1)\n",
        "    else:\n",
        "        return n * factorial(n-1)\n",
        "\n",
        "\n",
        "factorial(3)"
      ],
      "metadata": {
        "colab": {
          "base_uri": "https://localhost:8080/"
        },
        "id": "5c_xp8Dna8uw",
        "outputId": "6cdf3672-d19d-4e25-8969-131fe3cd8952"
      },
      "execution_count": 25,
      "outputs": [
        {
          "output_type": "execute_result",
          "data": {
            "text/plain": [
              "6"
            ]
          },
          "metadata": {},
          "execution_count": 25
        }
      ]
    },
    {
      "cell_type": "code",
      "source": [
        "# 3! = 3 * 2 * 1\n",
        "\n",
        "# 3 * 2 = 6\n",
        "\n",
        "# 6 * 1\n",
        "\n"
      ],
      "metadata": {
        "id": "mwnuQBn9bErG"
      },
      "execution_count": 26,
      "outputs": []
    },
    {
      "cell_type": "code",
      "source": [
        "# Named Argument\n",
        "\n",
        "\n",
        "\n",
        "\n",
        "def d(x,y):\n",
        "\n",
        "    return x/y\n",
        "\n",
        "# positional\n",
        "print(d(4,2))\n",
        "\n",
        "\n",
        "# named arguments\n",
        "\n",
        "d(y=2,x=4)\n",
        "\n",
        "d(x=4,y=2)"
      ],
      "metadata": {
        "colab": {
          "base_uri": "https://localhost:8080/"
        },
        "id": "elWN3E9xbte-",
        "outputId": "ca7c0a81-665f-4fff-e5b1-8104ba4e2325"
      },
      "execution_count": 30,
      "outputs": [
        {
          "output_type": "stream",
          "name": "stdout",
          "text": [
            "2.0\n"
          ]
        },
        {
          "output_type": "execute_result",
          "data": {
            "text/plain": [
              "2.0"
            ]
          },
          "metadata": {},
          "execution_count": 30
        }
      ]
    },
    {
      "cell_type": "code",
      "source": [
        "# default value\n",
        "\n",
        "def complex(x,y=0,z=0):\n",
        "\n",
        "    pass\n",
        "\n",
        "\n",
        "complex(x=2)"
      ],
      "metadata": {
        "id": "QdbLBRAlcRCU"
      },
      "execution_count": 33,
      "outputs": []
    },
    {
      "cell_type": "markdown",
      "source": [
        "##Homework: First Assignment:\n",
        "\n",
        "Write a function to check if a number is:\n",
        "\n",
        "1. divisible by 3 or 5\n",
        "2. or both 3 and 5\n",
        "\n",
        "Remember a number n is divisible by 3 if the remainder when divided by 3 is 0, like 6/3 = 2. But 3 is not divisible by 2 since 3/2= 1 1/2.\n",
        "\n",
        "Use the remainder operator to see if one number is divisible by another and 3 % 2 = 1.\n",
        "\n",
        "See below how to write if statments. You code will need to look something like\n",
        "\n",
        "```\n",
        "def is_divisible (numerator, a, b):\n",
        "\n",
        "# question: why do we check a AND b first?\n",
        "\n",
        "    if numerator is divisible by a and divisible by b:\n",
        "      return \"divisible by a and divisible by b\"\n",
        "    elif divisble by a:\n",
        "      return \"divisble by a\"\n",
        "    elif divible by b:\n",
        "      return \"divible by b\"\n",
        "    elif\n",
        "      return \"neither divisble by a or b.\n",
        "\n",
        "```\n",
        "\n",
        "##Second (more difficult)\n",
        "\n",
        "Do the same thing but instead of use any number values.  so the arguments will be (numerator, divisors):\n",
        "\n",
        "Hint:  the code is below.  Just put it together in one function.\n",
        "\n",
        "\n",
        "##Third assignment (most difficult)\n",
        "\n",
        "See if you can add a variable number of numbers having a function called adder() add itself"
      ],
      "metadata": {
        "id": "qIFeSkSnc8X0"
      }
    },
    {
      "cell_type": "code",
      "source": [
        "# here is if then else\n",
        "\n",
        "\n",
        "if True and False:\n",
        "    pass\n",
        "elif 1 > 2:\n",
        "    pass\n",
        "else:\n",
        "  print(\"nothing above was true\")\n",
        "\n"
      ],
      "metadata": {
        "colab": {
          "base_uri": "https://localhost:8080/"
        },
        "id": "-WkrT5i0eCtG",
        "outputId": "60daeb02-c104-4e7d-a655-cdba3d9ef2f0"
      },
      "execution_count": 35,
      "outputs": [
        {
          "output_type": "stream",
          "name": "stdout",
          "text": [
            "nothing above was true\n"
          ]
        }
      ]
    },
    {
      "cell_type": "code",
      "source": [
        "# definition:  a number n is divisible by d if  n % d =0\n",
        "\n",
        "# 3 / 2 = 2/2 + 1/2 = 1 1/2\n",
        "\n",
        "\n",
        "# numerator is the number on top\n",
        "# denominator is the number of the bottom\n",
        "\n",
        "\n",
        "\n",
        "3 % 2"
      ],
      "metadata": {
        "colab": {
          "base_uri": "https://localhost:8080/"
        },
        "id": "skdz0VCjbsQS",
        "outputId": "15f956ae-ff76-44cd-933d-c2a215887f85"
      },
      "execution_count": 34,
      "outputs": [
        {
          "output_type": "execute_result",
          "data": {
            "text/plain": [
              "1"
            ]
          },
          "metadata": {},
          "execution_count": 34
        }
      ]
    },
    {
      "cell_type": "code",
      "source": [
        "# when is n (numerator) is divisible by d (denominator)\n",
        "\n",
        "n = 100\n",
        "d = 25\n",
        "\n",
        "print(n % d) # calculate\n",
        "\n",
        "print(n % d == 0) # tests if it's true\n",
        "\n"
      ],
      "metadata": {
        "id": "IRL1JdEueYTG"
      },
      "execution_count": null,
      "outputs": []
    },
    {
      "cell_type": "code",
      "source": [
        "# if you want to do the second homework here are the pieces.  put them together\n",
        "\n",
        "numerator = 10\n",
        "\n",
        "divisors = [2,5]\n",
        "\n",
        "\n",
        "# this checks OR\n",
        "\n",
        "one=False\n",
        "for d in divisors:\n",
        "    if numerator % d == 0:\n",
        "        one=True\n",
        "        print(\"numerator\", numerator, \"is divisible by\", n)\n",
        "    else:\n",
        "        one=False\n",
        "        print(\"numerator\", numerator, \"is not divisible by\", n)\n",
        "\n",
        "\n",
        "\n",
        "\n",
        "if one:  # not that this is the same as saying if one==True\n",
        "   print(\"all the divisors \", divisors, \" divide the numerator\", numerator, \"\\n\" )\n",
        "else:\n",
        "  print(\"not all divisors \", divisors, \" divide the numerator\", numerator, \"\\n\" )\n",
        "\n",
        "\n",
        "# this checks AND by toggling True and False on and off\n",
        "\n",
        "all=False  # first set the condition to True\n",
        "for d in divisors:\n",
        "    if numerator % d == 0:\n",
        "        print(\"numerator \", d , \" is divisible by \", d)\n",
        "        all=True\n",
        "    else:\n",
        "        all=False # if any one of them is not divisible then set the all statement back to false\n",
        "        break\n",
        "\n",
        "if all:\n",
        "    print(\"numerator\", numerator, \"is divisible by\", divisors)\n",
        "\n"
      ],
      "metadata": {
        "id": "RRBzkzvtfDZK"
      },
      "execution_count": null,
      "outputs": []
    }
  ]
}