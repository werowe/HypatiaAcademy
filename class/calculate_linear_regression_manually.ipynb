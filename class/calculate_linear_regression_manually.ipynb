{
  "nbformat": 4,
  "nbformat_minor": 0,
  "metadata": {
    "colab": {
      "provenance": [],
      "authorship_tag": "ABX9TyO22oIDcu59A74Sz4VZR9kC",
      "include_colab_link": true
    },
    "kernelspec": {
      "name": "python3",
      "display_name": "Python 3"
    },
    "language_info": {
      "name": "python"
    }
  },
  "cells": [
    {
      "cell_type": "markdown",
      "metadata": {
        "id": "view-in-github",
        "colab_type": "text"
      },
      "source": [
        "<a href=\"https://colab.research.google.com/github/werowe/HypatiaAcademy/blob/master/class/calculate_linear_regression_manually.ipynb\" target=\"_parent\"><img src=\"https://colab.research.google.com/assets/colab-badge.svg\" alt=\"Open In Colab\"/></a>"
      ]
    },
    {
      "cell_type": "markdown",
      "source": [
        "### Algorithm for Least Squares with Zero Intercept\n",
        "\n",
        "1. **Initialize the Coefficient**:\n",
        "   - Start with a guess for the slope ($ b $).\n",
        "   - For example, $ b = 1 $.\n",
        "\n",
        "2. **Compute Predictions**:\n",
        "   - Use the current slope ($ b $) to predict $ \\hat{y}_i = b \\cdot x_i $.\n",
        "\n",
        "3. **Calculate Error**:\n",
        "   - Compute the Sum of Squared Errors (SSE):\n",
        "$$\n",
        "\\text{SSE} = \\sum_{i=1}^n (y_i - \\hat{y}_i)^2 = \\sum_{i=1}^n (y_i - b \\cdot x_i)^2\n",
        "$$\n",
        "\n",
        "\n",
        "4. **Adjust Coefficient**:\n",
        "   - If SSE decreases, increase $ b $ slightly.\n",
        "   - If SSE increases, decrease $ b $ slightly.\n",
        "   - Use a small step size ($ \\Delta b $) for adjustments.\n",
        "\n",
        "5. **Repeat Until Convergence**:\n",
        "   - Stop when SSE stabilizes or changes by less than a small threshold (e.g., $ 0.001 $).\n",
        "\n",
        "\n"
      ],
      "metadata": {
        "id": "Cf_GgNJVJADe"
      }
    },
    {
      "cell_type": "code",
      "source": [
        "x = np.array([0, 1, 2])\n",
        "\n",
        "# guess the coefficient, let b = 1\n",
        "# calculate y =  b * x\n",
        "\n",
        "# calculate math.sqrt((y - b * x) ** 2 )\n",
        "\n",
        "math.sqrt( )\n"
      ],
      "metadata": {
        "id": "jUIeuiw6aqbt"
      },
      "execution_count": null,
      "outputs": []
    },
    {
      "cell_type": "markdown",
      "source": [
        "#  setup\n",
        "\n",
        "write an algorithm to find the lowest mean squared error\n",
        "\n",
        "```\n",
        "n , n + 1, n + 2\n",
        "\n",
        "\n",
        "\n",
        "Σ i=0 to 2 of n + i\n",
        "\n",
        "i = 0,  n + i = n + 0 = n\n",
        "i = 1, n + i, n + 1\n",
        "i = 2, n + i, n + 2\n",
        "```\n",
        "\n",
        "for i in len(array):\n",
        "  do something"
      ],
      "metadata": {
        "id": "4UBJ8HAEYyDP"
      }
    },
    {
      "cell_type": "code",
      "execution_count": 25,
      "metadata": {
        "colab": {
          "base_uri": "https://localhost:8080/"
        },
        "id": "9IEoeFpII-Xs",
        "outputId": "1ad55134-1037-4621-d002-4beb0f5644ef"
      },
      "outputs": [
        {
          "output_type": "execute_result",
          "data": {
            "text/plain": [
              "array([ 0,  2,  4,  6,  8, 12, 14, 16, 18])"
            ]
          },
          "metadata": {},
          "execution_count": 25
        }
      ],
      "source": [
        "# make up some linear function just a any m\n",
        "\n",
        "\n",
        "import numpy as np\n",
        "\n",
        "\n",
        "# m is actual correct answer.  it is the coefficient\n",
        "\n",
        "# the goal is to an algorithm to find  m\n",
        "m = 2\n",
        "\n",
        "\n",
        "x = np.array([0,1,2,3,4,6,7,8,9])\n",
        "y = m * x\n",
        "y"
      ]
    },
    {
      "cell_type": "code",
      "source": [
        "x\n"
      ],
      "metadata": {
        "colab": {
          "base_uri": "https://localhost:8080/"
        },
        "id": "XQmcflzGZhCK",
        "outputId": "732a8aa4-6732-42f2-c95a-827fcd84bf2a"
      },
      "execution_count": 26,
      "outputs": [
        {
          "output_type": "execute_result",
          "data": {
            "text/plain": [
              "array([0, 1, 2, 3, 4, 6, 7, 8, 9])"
            ]
          },
          "metadata": {},
          "execution_count": 26
        }
      ]
    },
    {
      "cell_type": "code",
      "source": [
        "y"
      ],
      "metadata": {
        "colab": {
          "base_uri": "https://localhost:8080/"
        },
        "id": "wfgB4dT1bikb",
        "outputId": "0a6e321b-b804-47cd-b15d-f7a8277842e1"
      },
      "execution_count": 27,
      "outputs": [
        {
          "output_type": "execute_result",
          "data": {
            "text/plain": [
              "array([ 0,  2,  4,  6,  8, 12, 14, 16, 18])"
            ]
          },
          "metadata": {},
          "execution_count": 27
        }
      ]
    },
    {
      "cell_type": "code",
      "source": [
        "# let b = 3\n",
        "\n",
        "b = 3\n",
        "\n",
        "ŷ = b * x\n",
        "\n",
        "# here is the first guess\n",
        "ŷ"
      ],
      "metadata": {
        "colab": {
          "base_uri": "https://localhost:8080/"
        },
        "id": "97quhu5hbkOu",
        "outputId": "3b0c5902-cd66-4ed7-a73f-112052fbbff2"
      },
      "execution_count": 28,
      "outputs": [
        {
          "output_type": "execute_result",
          "data": {
            "text/plain": [
              "array([ 0,  3,  6,  9, 12, 18, 21, 24, 27])"
            ]
          },
          "metadata": {},
          "execution_count": 28
        }
      ]
    },
    {
      "cell_type": "code",
      "source": [
        "# solve for minimum error.\n",
        "# guess slop m\n",
        "# intercept is 0\n",
        "\n",
        "m=3\n",
        "\n",
        "lr = 0.1\n",
        "converged = 0.01\n",
        "\n",
        "# calculate error\n",
        "\n",
        "# y = 3 * x + 0\n",
        "\n",
        "ŷ  = 3 * x\n",
        "print(\"ŷ \", y)\n",
        "\n",
        "# calculate errors\n",
        "\n",
        "# calculate mean (average error)\n",
        "\n",
        ""
      ],
      "metadata": {
        "colab": {
          "base_uri": "https://localhost:8080/"
        },
        "id": "d0Xvi47AUSDj",
        "outputId": "0e21742d-16c9-4846-d735-582caa50a7f3"
      },
      "execution_count": 3,
      "outputs": [
        {
          "output_type": "execute_result",
          "data": {
            "text/plain": [
              "array([ 0,  3,  6,  9, 12, 18, 21, 24, 27])"
            ]
          },
          "metadata": {},
          "execution_count": 3
        }
      ]
    },
    {
      "cell_type": "code",
      "source": [
        "# what I need to do is first the error for each element in y, ŷ"
      ],
      "metadata": {
        "id": "p1B06hcWcN7J"
      },
      "execution_count": null,
      "outputs": []
    },
    {
      "cell_type": "code",
      "source": [
        "y - ŷ"
      ],
      "metadata": {
        "colab": {
          "base_uri": "https://localhost:8080/"
        },
        "id": "Ed9JLXYmcKPU",
        "outputId": "e05c7fb0-029d-4e46-d0ff-d7932b71e649"
      },
      "execution_count": 29,
      "outputs": [
        {
          "output_type": "execute_result",
          "data": {
            "text/plain": [
              "array([ 0, -1, -2, -3, -4, -6, -7, -8, -9])"
            ]
          },
          "metadata": {},
          "execution_count": 29
        }
      ]
    },
    {
      "cell_type": "code",
      "source": [
        "\n",
        "import math\n",
        "\n",
        "def mse(x,y):\n",
        "    return math.sqrt((x - y)**2)\n"
      ],
      "metadata": {
        "id": "TCjTBBANVZBP"
      },
      "execution_count": 33,
      "outputs": []
    },
    {
      "cell_type": "code",
      "source": [
        "mse(0,0)"
      ],
      "metadata": {
        "colab": {
          "base_uri": "https://localhost:8080/"
        },
        "id": "2U8bEyU1Vq93",
        "outputId": "23d8c82a-1ccc-4b2a-a01a-1d1ebf937e86"
      },
      "execution_count": 34,
      "outputs": [
        {
          "output_type": "execute_result",
          "data": {
            "text/plain": [
              "0.0"
            ]
          },
          "metadata": {},
          "execution_count": 34
        }
      ]
    },
    {
      "cell_type": "code",
      "source": [
        "mse(1,2)"
      ],
      "metadata": {
        "colab": {
          "base_uri": "https://localhost:8080/"
        },
        "id": "408v_TPUcj9T",
        "outputId": "5b0432fd-5d7e-4730-c470-9d9a47effcf4"
      },
      "execution_count": 35,
      "outputs": [
        {
          "output_type": "execute_result",
          "data": {
            "text/plain": [
              "1.0"
            ]
          },
          "metadata": {},
          "execution_count": 35
        }
      ]
    },
    {
      "cell_type": "code",
      "source": [
        "mse(4,6)"
      ],
      "metadata": {
        "colab": {
          "base_uri": "https://localhost:8080/"
        },
        "id": "thf8K6WRcmIV",
        "outputId": "1eeac307-c723-4c5f-9fa3-502b92357fa4"
      },
      "execution_count": 36,
      "outputs": [
        {
          "output_type": "execute_result",
          "data": {
            "text/plain": [
              "2.0"
            ]
          },
          "metadata": {},
          "execution_count": 36
        }
      ]
    },
    {
      "cell_type": "code",
      "source": [
        "mse(6,9)"
      ],
      "metadata": {
        "colab": {
          "base_uri": "https://localhost:8080/"
        },
        "id": "TTdoN12fdKn4",
        "outputId": "c94eba01-e69a-4783-e540-7f402ac58ca9"
      },
      "execution_count": 39,
      "outputs": [
        {
          "output_type": "execute_result",
          "data": {
            "text/plain": [
              "3.0"
            ]
          },
          "metadata": {},
          "execution_count": 39
        }
      ]
    },
    {
      "cell_type": "code",
      "source": [
        "# Vectorize the function this\n",
        "vectorized_function = np.vectorize(mse)\n",
        "\n",
        "# Apply the vectorized function\n",
        "result = vectorized_function(y,ŷ)\n"
      ],
      "metadata": {
        "id": "ehS5uhOYVoyf"
      },
      "execution_count": 37,
      "outputs": []
    },
    {
      "cell_type": "code",
      "source": [
        "print(result)\n",
        "\n",
        "d = result"
      ],
      "metadata": {
        "colab": {
          "base_uri": "https://localhost:8080/"
        },
        "id": "-MPotnHyWxA_",
        "outputId": "29964d48-f20e-47e6-9754-f5d45db74a70"
      },
      "execution_count": 38,
      "outputs": [
        {
          "output_type": "stream",
          "name": "stdout",
          "text": [
            "[0. 1. 2. 3. 4. 6. 7. 8. 9.]\n"
          ]
        }
      ]
    },
    {
      "cell_type": "code",
      "source": [
        "# this shows y = m * x\n",
        "\n",
        "# is our first guess (b we guessed to be 3) ŷ = 3 * x\n",
        "\n",
        "# d is our mse math.sqrt((ŷ - y)**2)\n",
        "\n",
        "\n",
        "\n",
        "\n",
        "np.column_stack([y, ŷ, d])"
      ],
      "metadata": {
        "colab": {
          "base_uri": "https://localhost:8080/"
        },
        "id": "UhGIekJXW0by",
        "outputId": "d4ffd01e-4b71-42fb-885e-2d4e34eb544f"
      },
      "execution_count": 40,
      "outputs": [
        {
          "output_type": "execute_result",
          "data": {
            "text/plain": [
              "array([[ 0.,  0.,  0.],\n",
              "       [ 2.,  3.,  1.],\n",
              "       [ 4.,  6.,  2.],\n",
              "       [ 6.,  9.,  3.],\n",
              "       [ 8., 12.,  4.],\n",
              "       [12., 18.,  6.],\n",
              "       [14., 21.,  7.],\n",
              "       [16., 24.,  8.],\n",
              "       [18., 27.,  9.]])"
            ]
          },
          "metadata": {},
          "execution_count": 40
        }
      ]
    },
    {
      "cell_type": "code",
      "source": [
        "# our mean square error\n",
        "\n",
        "mse_quess = np.mean(d)\n",
        "\n",
        "print(\"first guess mse_quess\", mse_quess)\n",
        "\n",
        "\n",
        "# the agorithm is done when mse_quess - m = 0.01\n",
        "\n",
        "# for example we could stop when we mse_quess 2.01\n",
        "\n"
      ],
      "metadata": {
        "colab": {
          "base_uri": "https://localhost:8080/"
        },
        "id": "Nhof_EUkfbLw",
        "outputId": "1ea0d1f0-d726-4fe6-e117-c3a38ad19856"
      },
      "execution_count": 68,
      "outputs": [
        {
          "output_type": "stream",
          "name": "stdout",
          "text": [
            "first guess mse_quess 4.444444444444445\n"
          ]
        }
      ]
    },
    {
      "cell_type": "code",
      "source": [
        "# adjust m (the guess) by some small value (learning rate)\n",
        "\n",
        "lr = 0.1\n",
        "\n",
        "new_m = m + lr\n",
        "\n",
        "# calulate ŷ again\n",
        "\n",
        "\n",
        "\n",
        "# check the error\n",
        "\n",
        "\n",
        "# compute new error to old error\n",
        "\n",
        "# if the error increase then our guess it too high, to take new_m_second_time m - lr\n",
        "\n",
        "\n",
        "\n",
        "# keep going until this\n",
        "\n",
        "# in a perfect work eventually the difference between the calculation (predictions) and observations would be 0\n",
        "\n",
        "# looking for the minium error so when ŷ - y = 0.1 stop\n",
        "\n",
        "\n",
        "\n",
        "print(\"original guess was b=\", b)\n",
        "\n",
        "print(\"first guess array was ŷ \", ŷ)\n",
        "\n",
        "print(\"and the correct answer was y \", y)"
      ],
      "metadata": {
        "colab": {
          "base_uri": "https://localhost:8080/"
        },
        "id": "vug0-pAyW9Lc",
        "outputId": "b6c7a853-829e-40f3-c4fe-d58e6ab46231"
      },
      "execution_count": 56,
      "outputs": [
        {
          "output_type": "stream",
          "name": "stdout",
          "text": [
            "original guess was b= 3\n",
            "first guess array was ŷ  [ 0  3  6  9 12 18 21 24 27]\n",
            "and the correct answer was y  [ 0  2  4  6  8 12 14 16 18]\n"
          ]
        }
      ]
    },
    {
      "cell_type": "code",
      "source": [
        "# second iteration\n",
        "\n",
        "lr = 0.1\n",
        "\n",
        "new_m = b + lr\n",
        "\n",
        "print(\"our second quess was afer adding the learning rate new_m=\", new_m)\n",
        "\n",
        "ŷ_new = new_m * x\n",
        "\n",
        "ŷ_new\n",
        "\n",
        "\n",
        "#mse_quess"
      ],
      "metadata": {
        "colab": {
          "base_uri": "https://localhost:8080/"
        },
        "id": "CrPRfxPUgPiJ",
        "outputId": "9a4662f6-ecf9-460b-dba3-82a20c6422a7"
      },
      "execution_count": 59,
      "outputs": [
        {
          "output_type": "stream",
          "name": "stdout",
          "text": [
            "our second quess was afer adding the learning rate new_m= 3.1\n"
          ]
        },
        {
          "output_type": "execute_result",
          "data": {
            "text/plain": [
              "array([ 0. ,  3.1,  6.2,  9.3, 12.4, 18.6, 21.7, 24.8, 27.9])"
            ]
          },
          "metadata": {},
          "execution_count": 59
        }
      ]
    },
    {
      "cell_type": "code",
      "source": [
        "error_new = vectorized_function(y,ŷ_new)\n",
        "error_new\n",
        "\n",
        "print(\"this is our second guess\")"
      ],
      "metadata": {
        "colab": {
          "base_uri": "https://localhost:8080/"
        },
        "id": "cspHPPJTgwRr",
        "outputId": "07fb4cee-b4d3-4309-9bd5-d0c1b136fc01"
      },
      "execution_count": 60,
      "outputs": [
        {
          "output_type": "stream",
          "name": "stdout",
          "text": [
            "this is our second guess\n"
          ]
        }
      ]
    },
    {
      "cell_type": "code",
      "source": [
        "np.column_stack([y, ŷ_new, error_new])"
      ],
      "metadata": {
        "colab": {
          "base_uri": "https://localhost:8080/"
        },
        "id": "iQ6d3DIZg9Fn",
        "outputId": "ffbb477b-522c-4201-8e15-c3190b6f47df"
      },
      "execution_count": 61,
      "outputs": [
        {
          "output_type": "execute_result",
          "data": {
            "text/plain": [
              "array([[ 0. ,  0. ,  0. ],\n",
              "       [ 2. ,  3.1,  1.1],\n",
              "       [ 4. ,  6.2,  2.2],\n",
              "       [ 6. ,  9.3,  3.3],\n",
              "       [ 8. , 12.4,  4.4],\n",
              "       [12. , 18.6,  6.6],\n",
              "       [14. , 21.7,  7.7],\n",
              "       [16. , 24.8,  8.8],\n",
              "       [18. , 27.9,  9.9]])"
            ]
          },
          "metadata": {},
          "execution_count": 61
        }
      ]
    },
    {
      "cell_type": "code",
      "source": [
        "mse_quess_new = np.mean(error_new)"
      ],
      "metadata": {
        "id": "7caQm_Y7hIx1"
      },
      "execution_count": 62,
      "outputs": []
    },
    {
      "cell_type": "code",
      "source": [
        "print(\"first guess mse_guess\", mse_quess)\n",
        "\n",
        "\n",
        "print(\"second guess mse_guess_new\", mse_quess_new)\n",
        "\n",
        "print(\" difference between subsequent guesses mse_quess-mse_quess_new\",  mse_quess-mse_quess_new)\n",
        "\n"
      ],
      "metadata": {
        "colab": {
          "base_uri": "https://localhost:8080/"
        },
        "id": "c9DFn_C8hCV3",
        "outputId": "ed8ca66d-0e51-4a53-937b-48ab4cf7c685"
      },
      "execution_count": 71,
      "outputs": [
        {
          "output_type": "stream",
          "name": "stdout",
          "text": [
            "first guess mse_guess 4.444444444444445\n",
            "second guess mse_guess_new 4.888888888888889\n",
            " difference between subsequent guesses mse_quess-mse_quess_new -0.44444444444444464\n"
          ]
        }
      ]
    },
    {
      "cell_type": "code",
      "source": [
        "# now we need to calculate the next guess\n",
        "\n",
        "# we have to figure out whether to add or subtract the lr to get the next guess\n",
        "\n",
        "\n",
        "# the different now is\n",
        "\n",
        "\n",
        "# open question is the new_new_guess doe it need to go up or down\n",
        "\n",
        "\n"
      ],
      "metadata": {
        "id": "hQzqlO77hhhu"
      },
      "execution_count": null,
      "outputs": []
    }
  ]
}