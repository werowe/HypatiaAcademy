{
  "nbformat": 4,
  "nbformat_minor": 0,
  "metadata": {
    "colab": {
      "provenance": [],
      "authorship_tag": "ABX9TyMjL1Ujh5py1qO0UJzug+Gx",
      "include_colab_link": true
    },
    "kernelspec": {
      "name": "python3",
      "display_name": "Python 3"
    },
    "language_info": {
      "name": "python"
    }
  },
  "cells": [
    {
      "cell_type": "markdown",
      "metadata": {
        "id": "view-in-github",
        "colab_type": "text"
      },
      "source": [
        "<a href=\"https://colab.research.google.com/github/werowe/HypatiaAcademy/blob/master/class/2024_08_16_slicing_operations.ipynb\" target=\"_parent\"><img src=\"https://colab.research.google.com/assets/colab-badge.svg\" alt=\"Open In Colab\"/></a>"
      ]
    },
    {
      "cell_type": "code",
      "execution_count": 3,
      "metadata": {
        "id": "5vNucFiVw-bI"
      },
      "outputs": [],
      "source": [
        "# slicing operation\n",
        "# characters and strings are the same thing\n",
        "\n",
        "\n",
        "s=\"Today is Friday.  It is sunny\"\n",
        "\n",
        "#Today is Friday.  It is sunny\n",
        "#01234567890123456789012345678\n"
      ]
    },
    {
      "cell_type": "code",
      "source": [
        "#s[start:end:step]\n",
        "\n",
        "start=0\n",
        "end=5 # position 4 since we started counting at 0\n",
        "step=1\n",
        "\n",
        "s[0:5]\n"
      ],
      "metadata": {
        "colab": {
          "base_uri": "https://localhost:8080/",
          "height": 35
        },
        "id": "6H-hNOIkxs2t",
        "outputId": "4bca8eae-792e-4756-e640-58b03bd86b55"
      },
      "execution_count": 7,
      "outputs": [
        {
          "output_type": "execute_result",
          "data": {
            "text/plain": [
              "'Today'"
            ],
            "application/vnd.google.colaboratory.intrinsic+json": {
              "type": "string"
            }
          },
          "metadata": {},
          "execution_count": 7
        }
      ]
    },
    {
      "cell_type": "code",
      "source": [
        "start=0\n",
        "end=10\n",
        "step=3 (means skip over it)\n",
        "\n",
        "#Today is Friday.  It is sunny\n",
        "#01234567890123456789012345678\n",
        "\n",
        "s[start:end:step]"
      ],
      "metadata": {
        "colab": {
          "base_uri": "https://localhost:8080/",
          "height": 35
        },
        "id": "sC0QqaQByTfY",
        "outputId": "479843ad-e7c5-4ae4-cdd0-e567e2a0e224"
      },
      "execution_count": 9,
      "outputs": [
        {
          "output_type": "execute_result",
          "data": {
            "text/plain": [
              "'TaiF'"
            ],
            "application/vnd.google.colaboratory.intrinsic+json": {
              "type": "string"
            }
          },
          "metadata": {},
          "execution_count": 9
        }
      ]
    },
    {
      "cell_type": "code",
      "source": [
        "# last five\n",
        "\n",
        "start=24\n",
        "end=29\n",
        "s[start:end]"
      ],
      "metadata": {
        "colab": {
          "base_uri": "https://localhost:8080/",
          "height": 35
        },
        "id": "g2Db4G4wyyNc",
        "outputId": "ca722a2f-9182-40c8-91f6-d691472ea6e1"
      },
      "execution_count": 12,
      "outputs": [
        {
          "output_type": "execute_result",
          "data": {
            "text/plain": [
              "'sunny'"
            ],
            "application/vnd.google.colaboratory.intrinsic+json": {
              "type": "string"
            }
          },
          "metadata": {},
          "execution_count": 12
        }
      ]
    },
    {
      "cell_type": "code",
      "source": [
        "# bad word is \"hard cording\"\n",
        "# counting on your fingers\n",
        "\n",
        "\n",
        "s[len(s)-5:len(s)]\n"
      ],
      "metadata": {
        "colab": {
          "base_uri": "https://localhost:8080/",
          "height": 35
        },
        "id": "GW81rw_TzIb5",
        "outputId": "aa0fbf4c-11dc-4305-819e-b70d6fca674d"
      },
      "execution_count": 14,
      "outputs": [
        {
          "output_type": "execute_result",
          "data": {
            "text/plain": [
              "'sunny'"
            ],
            "application/vnd.google.colaboratory.intrinsic+json": {
              "type": "string"
            }
          },
          "metadata": {},
          "execution_count": 14
        }
      ]
    },
    {
      "cell_type": "code",
      "source": [
        "s[-5::2]"
      ],
      "metadata": {
        "colab": {
          "base_uri": "https://localhost:8080/",
          "height": 35
        },
        "id": "OqHoae95ze67",
        "outputId": "842a9e76-3654-4d82-b7af-2aebad671e06"
      },
      "execution_count": 18,
      "outputs": [
        {
          "output_type": "execute_result",
          "data": {
            "text/plain": [
              "'sny'"
            ],
            "application/vnd.google.colaboratory.intrinsic+json": {
              "type": "string"
            }
          },
          "metadata": {},
          "execution_count": 18
        }
      ]
    },
    {
      "cell_type": "code",
      "source": [
        "s[-5:]"
      ],
      "metadata": {
        "colab": {
          "base_uri": "https://localhost:8080/",
          "height": 35
        },
        "id": "qYmGJ9XLztgB",
        "outputId": "6b998359-bf43-4fc7-eba7-6cabca223ab5"
      },
      "execution_count": 19,
      "outputs": [
        {
          "output_type": "execute_result",
          "data": {
            "text/plain": [
              "'sunny'"
            ],
            "application/vnd.google.colaboratory.intrinsic+json": {
              "type": "string"
            }
          },
          "metadata": {},
          "execution_count": 19
        }
      ]
    },
    {
      "cell_type": "code",
      "source": [
        "# def means define function\n",
        "\n",
        "def square(n):\n",
        "\n",
        "  return n**2\n",
        "\n",
        "\n",
        "square(2)\n",
        "\n"
      ],
      "metadata": {
        "colab": {
          "base_uri": "https://localhost:8080/"
        },
        "id": "0nD3z7ce0Z1D",
        "outputId": "b03076c2-07a3-43d8-dc43-d08c7714b669"
      },
      "execution_count": 20,
      "outputs": [
        {
          "output_type": "execute_result",
          "data": {
            "text/plain": [
              "4"
            ]
          },
          "metadata": {},
          "execution_count": 20
        }
      ]
    },
    {
      "cell_type": "code",
      "source": [
        "# in the paranthese are called arguments\n",
        "\n",
        "def hello():\n",
        "\n",
        "  return \"hello world\"\n",
        "\n",
        "hello()\n"
      ],
      "metadata": {
        "colab": {
          "base_uri": "https://localhost:8080/",
          "height": 35
        },
        "id": "wdMQiG6O0pWU",
        "outputId": "7ec17329-e413-4e3c-9834-7c991d832a0f"
      },
      "execution_count": 21,
      "outputs": [
        {
          "output_type": "execute_result",
          "data": {
            "text/plain": [
              "'hello world'"
            ],
            "application/vnd.google.colaboratory.intrinsic+json": {
              "type": "string"
            }
          },
          "metadata": {},
          "execution_count": 21
        }
      ]
    },
    {
      "cell_type": "code",
      "source": [
        "# left()\n",
        "# mid()\n",
        "# right()\n",
        "\n",
        "\n",
        "\n",
        "# this has two arguments\n",
        "def left(s,no):\n",
        "\n",
        "  return s[0:no]\n",
        "\n",
        "\n",
        "s=\"Today is Friday.  It is sunny.\"\n",
        "\n",
        "left(s,5)\n"
      ],
      "metadata": {
        "colab": {
          "base_uri": "https://localhost:8080/",
          "height": 35
        },
        "id": "Su_0xzR703Sl",
        "outputId": "2052c383-4145-4f7c-99a3-99c8a9886233"
      },
      "execution_count": 23,
      "outputs": [
        {
          "output_type": "execute_result",
          "data": {
            "text/plain": [
              "'Today'"
            ],
            "application/vnd.google.colaboratory.intrinsic+json": {
              "type": "string"
            }
          },
          "metadata": {},
          "execution_count": 23
        }
      ]
    },
    {
      "cell_type": "markdown",
      "source": [
        "# Homework is\n",
        "\n",
        "write the mid() and right() functions\n",
        "\n",
        "mid(string,start,stop)\n",
        "\n",
        "right(string,count)"
      ],
      "metadata": {
        "id": "KmXBwElx1mUl"
      }
    }
  ]
}