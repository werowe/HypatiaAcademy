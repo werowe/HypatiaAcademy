{
  "nbformat": 4,
  "nbformat_minor": 0,
  "metadata": {
    "colab": {
      "provenance": [],
      "authorship_tag": "ABX9TyOPmYusknwfBVLNoZa1utMZ",
      "include_colab_link": true
    },
    "kernelspec": {
      "name": "python3",
      "display_name": "Python 3"
    },
    "language_info": {
      "name": "python"
    }
  },
  "cells": [
    {
      "cell_type": "markdown",
      "metadata": {
        "id": "view-in-github",
        "colab_type": "text"
      },
      "source": [
        "<a href=\"https://colab.research.google.com/github/werowe/HypatiaAcademy/blob/master/class/2024_09_27_random_random_emojis_list_rotate.ipynb\" target=\"_parent\"><img src=\"https://colab.research.google.com/assets/colab-badge.svg\" alt=\"Open In Colab\"/></a>"
      ]
    },
    {
      "cell_type": "code",
      "execution_count": null,
      "metadata": {
        "id": "Kk9u-eHPQiTA"
      },
      "outputs": [],
      "source": [
        "\n",
        "\n",
        "\n",
        "import random\n",
        "\n",
        "\n",
        "class emojRand(random.Random):\n",
        "\n",
        "\n",
        " # List of popular emojis\n",
        "  emojis = [\n",
        "    \"😀\",  # Grinning face\n",
        "    \"😂\",  # Face with tears of joy\n",
        "    \"❤️\",  # Red heart\n",
        "    \"😍\",  # Smiling face with heart-eyes\n",
        "    \"😊\",  # Smiling face with smiling eyes\n",
        "    \"🙏\",  # Folded hands (prayer)\n",
        "    \"💕\",  # Two hearts\n",
        "    \"😎\",  # Smiling face with sunglasses\n",
        "    \"👍\",  # Thumbs up\n",
        "    \"🎉\",  # Party popper\n",
        "    \"🔥\",  # Fire\n",
        "    \"🥳\",  # Partying face\n",
        "    \"🤔\",  # Thinking face\n",
        "    \"🥺\",  # Pleading face\n",
        "    \"💔\",  # Broken heart\n",
        "    \"🤗\",  # Hugging face\n",
        "    \"😅\",  # Grinning face with sweat\n",
        "    \"😢\",  # Crying face\n",
        "    \"😡\",  # Pouting face\n",
        "    \"👀\",  # Eyes (watching)\n",
        "    \"💪\",  # Flexed biceps\n",
        "    \"🎶\",  # Musical notes\n",
        "    \"✨\",  # Sparkles\n",
        "    \"🤩\",  # Star-struck\n",
        "    \"🤯\",  # Exploding head\n",
        "  ]\n",
        "\n",
        "# nothing is passed to it\n",
        "# *args means variable number of arguments\n",
        "# **kwargs used to pass variables to inherited objects\n",
        "# in that case the arguments are going to be a lot different\n",
        "\n",
        "\n",
        "  def __init__(self, *args, **kwargs):\n",
        "        super().__init__(*args, **kwargs)\n",
        "\n",
        "\n",
        "  def randomEmoji(self):\n",
        "      return self.emojis[random.randint(0,len(self.emojis))]\n",
        "\n",
        "\n"
      ]
    },
    {
      "cell_type": "code",
      "source": [
        "a=[1,2,3]\n",
        "\n",
        "a.reverse()\n",
        "\n",
        "print(a)"
      ],
      "metadata": {
        "id": "92CQ2WmhmoJw",
        "colab": {
          "base_uri": "https://localhost:8080/"
        },
        "outputId": "6506a75a-c54c-42ec-dc42-1fa8546da06d"
      },
      "execution_count": null,
      "outputs": [
        {
          "output_type": "stream",
          "name": "stdout",
          "text": [
            "[3, 2, 1]\n"
          ]
        }
      ]
    },
    {
      "cell_type": "code",
      "source": [
        "emojRand().randomEmoji()"
      ],
      "metadata": {
        "colab": {
          "base_uri": "https://localhost:8080/",
          "height": 35
        },
        "id": "G1vdCWsaSEth",
        "outputId": "fd2f28ff-55dd-4f60-c468-473dc36e9ef4"
      },
      "execution_count": null,
      "outputs": [
        {
          "output_type": "execute_result",
          "data": {
            "text/plain": [
              "'🙏'"
            ],
            "application/vnd.google.colaboratory.intrinsic+json": {
              "type": "string"
            }
          },
          "metadata": {},
          "execution_count": 9
        }
      ]
    },
    {
      "cell_type": "code",
      "source": [
        "random.randint(1,20)\n"
      ],
      "metadata": {
        "colab": {
          "base_uri": "https://localhost:8080/"
        },
        "id": "3bFUosLpH0oY",
        "outputId": "7e47aa43-30a0-4072-c6e5-a08c98b725fd"
      },
      "execution_count": null,
      "outputs": [
        {
          "output_type": "execute_result",
          "data": {
            "text/plain": [
              "4"
            ]
          },
          "metadata": {},
          "execution_count": 11
        }
      ]
    },
    {
      "cell_type": "code",
      "source": [
        "emojRand().randint(1,20)"
      ],
      "metadata": {
        "colab": {
          "base_uri": "https://localhost:8080/"
        },
        "id": "Fs8Sfl9fH6BI",
        "outputId": "dceeb9b9-8d33-4263-e777-d454bdb6d9bc"
      },
      "execution_count": null,
      "outputs": [
        {
          "output_type": "execute_result",
          "data": {
            "text/plain": [
              "8"
            ]
          },
          "metadata": {},
          "execution_count": 13
        }
      ]
    },
    {
      "cell_type": "code",
      "source": [
        "class mlist(list):\n",
        "\n",
        "\n",
        "  def __init__(self, l):\n",
        "      super().__init__(l)\n",
        "      self.l = l\n",
        "\n",
        "  def rotate(self):\n",
        "    backwards=[]\n",
        "\n",
        "    for i in range(len(self.l),0,-1):\n",
        "      backwards.append(i)\n",
        "\n",
        "    return backwards\n"
      ],
      "metadata": {
        "id": "nbJ2P_VHVfP5"
      },
      "execution_count": null,
      "outputs": []
    },
    {
      "cell_type": "code",
      "source": [
        "mlist([i for i in range(1,26)]).rotate()"
      ],
      "metadata": {
        "colab": {
          "base_uri": "https://localhost:8080/"
        },
        "id": "YB6k9kPeXx43",
        "outputId": "7f75c4bb-3b2e-4b28-9863-3d5ccd007f4d"
      },
      "execution_count": null,
      "outputs": [
        {
          "output_type": "execute_result",
          "data": {
            "text/plain": [
              "[25,\n",
              " 24,\n",
              " 23,\n",
              " 22,\n",
              " 21,\n",
              " 20,\n",
              " 19,\n",
              " 18,\n",
              " 17,\n",
              " 16,\n",
              " 15,\n",
              " 14,\n",
              " 13,\n",
              " 12,\n",
              " 11,\n",
              " 10,\n",
              " 9,\n",
              " 8,\n",
              " 7,\n",
              " 6,\n",
              " 5,\n",
              " 4,\n",
              " 3,\n",
              " 2,\n",
              " 1]"
            ]
          },
          "metadata": {},
          "execution_count": 11
        }
      ]
    },
    {
      "cell_type": "code",
      "source": [
        "# Python has no sorted list\n",
        "\n",
        "\n",
        "class SortedList(list):\n",
        "\n",
        "    1==1\n",
        "\n",
        "\n",
        "# fast way or the slow way\n",
        "\n",
        "# the fast way would be to count from the beginning\n",
        "# [4]\n",
        "# add a 2.  start at index position [0] and see if 2 is less than  whatever is [0] there.\n",
        "# [4]\n",
        "\n",
        "# put 2 in the list ->\n",
        "\n",
        "# [2,4]\n",
        "\n",
        "# we will assume the list is empty so you can put the 2 at the first position\n",
        "# then appean the 4 meaning make it growing by one more number\n",
        "\n",
        "# what happens if we add 5 to the list [4]\n",
        "\n",
        "# we want to end up with [4,5]\n",
        "\n",
        "# [?, ?]\n",
        "\n",
        "# in this case don't move the 4 just append to the end\n",
        "\n",
        "\n",
        "# 0, 1, 2, 3, 4, 5, 6, until you find get to a number which is\n",
        "    def appendSorted(self,i):\n",
        "\n",
        "         pass\n",
        "\n",
        "\n",
        "\n"
      ],
      "metadata": {
        "id": "iYEMSR4KIU_S"
      },
      "execution_count": null,
      "outputs": []
    },
    {
      "cell_type": "code",
      "source": [
        "sortedList=sortedList([])\n",
        "\n",
        "# we do not have to handle the complexity or sorting the entire list each time we add an item.  Why?  Because the list will have nothing it in it we start with sortedList([])\n",
        "\n",
        "sortedList.append(2)\n",
        "sortedList.append(7)\n",
        "sortedList.append(3)\n",
        "\n",
        "sortedList"
      ],
      "metadata": {
        "colab": {
          "base_uri": "https://localhost:8080/"
        },
        "id": "H9sZeI_GI8e1",
        "outputId": "ab21b776-daee-4ab5-9ed6-212e05993053"
      },
      "execution_count": null,
      "outputs": [
        {
          "output_type": "execute_result",
          "data": {
            "text/plain": [
              "[2, 7, 3]"
            ]
          },
          "metadata": {},
          "execution_count": 17
        }
      ]
    },
    {
      "cell_type": "code",
      "source": [
        "# that algorithm would not work this:\n",
        "\n",
        "# extra difficult.  what do we do about this.  it's starting off not empty\n",
        "\n",
        "# it does seem logical that you should be able to make a sorted list from a list that has more than one entry it in already\n",
        "\n",
        "sortedList=sortedList([4,7,8])"
      ],
      "metadata": {
        "id": "-idWW1spLMA-"
      },
      "execution_count": null,
      "outputs": []
    }
  ]
}