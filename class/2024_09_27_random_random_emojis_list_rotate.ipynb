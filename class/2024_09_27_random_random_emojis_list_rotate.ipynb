{
  "nbformat": 4,
  "nbformat_minor": 0,
  "metadata": {
    "colab": {
      "provenance": [],
      "authorship_tag": "ABX9TyO4rrHIPrd3Yir9Isa4BqUV",
      "include_colab_link": true
    },
    "kernelspec": {
      "name": "python3",
      "display_name": "Python 3"
    },
    "language_info": {
      "name": "python"
    }
  },
  "cells": [
    {
      "cell_type": "markdown",
      "metadata": {
        "id": "view-in-github",
        "colab_type": "text"
      },
      "source": [
        "<a href=\"https://colab.research.google.com/github/werowe/HypatiaAcademy/blob/master/class/2024_09_27_random_random_emojis_list_rotate.ipynb\" target=\"_parent\"><img src=\"https://colab.research.google.com/assets/colab-badge.svg\" alt=\"Open In Colab\"/></a>"
      ]
    },
    {
      "cell_type": "code",
      "execution_count": 6,
      "metadata": {
        "id": "Kk9u-eHPQiTA"
      },
      "outputs": [],
      "source": [
        "\n",
        "\n",
        "\n",
        "import random\n",
        "\n",
        "\n",
        "class emojRand(random.Random):\n",
        "\n",
        "\n",
        " # List of popular emojis\n",
        "  emojis = [\n",
        "    \"😀\",  # Grinning face\n",
        "    \"😂\",  # Face with tears of joy\n",
        "    \"❤️\",  # Red heart\n",
        "    \"😍\",  # Smiling face with heart-eyes\n",
        "    \"😊\",  # Smiling face with smiling eyes\n",
        "    \"🙏\",  # Folded hands (prayer)\n",
        "    \"💕\",  # Two hearts\n",
        "    \"😎\",  # Smiling face with sunglasses\n",
        "    \"👍\",  # Thumbs up\n",
        "    \"🎉\",  # Party popper\n",
        "    \"🔥\",  # Fire\n",
        "    \"🥳\",  # Partying face\n",
        "    \"🤔\",  # Thinking face\n",
        "    \"🥺\",  # Pleading face\n",
        "    \"💔\",  # Broken heart\n",
        "    \"🤗\",  # Hugging face\n",
        "    \"😅\",  # Grinning face with sweat\n",
        "    \"😢\",  # Crying face\n",
        "    \"😡\",  # Pouting face\n",
        "    \"👀\",  # Eyes (watching)\n",
        "    \"💪\",  # Flexed biceps\n",
        "    \"🎶\",  # Musical notes\n",
        "    \"✨\",  # Sparkles\n",
        "    \"🤩\",  # Star-struck\n",
        "    \"🤯\",  # Exploding head\n",
        "  ]\n",
        "\n",
        "\n",
        "  def __init__(self, *args, **kwargs):\n",
        "        super().__init__(*args, **kwargs)\n",
        "\n",
        "\n",
        "  def randomEmoji(self):\n",
        "      return self.emojis[random.randint(0,len(self.emojis))]\n",
        "\n",
        "\n",
        ""
      ]
    },
    {
      "cell_type": "code",
      "source": [
        "emojRand().randomEmoji()"
      ],
      "metadata": {
        "colab": {
          "base_uri": "https://localhost:8080/",
          "height": 35
        },
        "id": "G1vdCWsaSEth",
        "outputId": "eea14d56-55dc-47f9-d8b2-9fde0419930c"
      },
      "execution_count": 9,
      "outputs": [
        {
          "output_type": "execute_result",
          "data": {
            "text/plain": [
              "'😂'"
            ],
            "application/vnd.google.colaboratory.intrinsic+json": {
              "type": "string"
            }
          },
          "metadata": {},
          "execution_count": 9
        }
      ]
    },
    {
      "cell_type": "code",
      "source": [
        "class mlist(list):\n",
        "\n",
        "\n",
        "  def __init__(self, l):\n",
        "      super().__init__(l)\n",
        "      self.l = l\n",
        "\n",
        "  def rotate(self):\n",
        "    backwards=[]\n",
        "\n",
        "    for i in range(len(self.l),0,-1):\n",
        "      backwards.append(i)\n",
        "\n",
        "    return backwards\n"
      ],
      "metadata": {
        "id": "nbJ2P_VHVfP5"
      },
      "execution_count": 3,
      "outputs": []
    },
    {
      "cell_type": "code",
      "source": [
        "mlist([1,2,3,4,5]).rotate()"
      ],
      "metadata": {
        "colab": {
          "base_uri": "https://localhost:8080/"
        },
        "id": "YB6k9kPeXx43",
        "outputId": "6b15c538-c80a-466c-c9b7-36f08a729d1d"
      },
      "execution_count": 4,
      "outputs": [
        {
          "output_type": "execute_result",
          "data": {
            "text/plain": [
              "[5, 4, 3, 2, 1]"
            ]
          },
          "metadata": {},
          "execution_count": 4
        }
      ]
    }
  ]
}