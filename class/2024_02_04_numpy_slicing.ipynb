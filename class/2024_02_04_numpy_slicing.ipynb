{
  "nbformat": 4,
  "nbformat_minor": 0,
  "metadata": {
    "colab": {
      "provenance": [],
      "authorship_tag": "ABX9TyOWafXAeHt186drI0Bm89vq",
      "include_colab_link": true
    },
    "kernelspec": {
      "name": "python3",
      "display_name": "Python 3"
    },
    "language_info": {
      "name": "python"
    }
  },
  "cells": [
    {
      "cell_type": "markdown",
      "metadata": {
        "id": "view-in-github",
        "colab_type": "text"
      },
      "source": [
        "<a href=\"https://colab.research.google.com/github/werowe/HypatiaAcademy/blob/master/class/2024_02_04_numpy_slicing.ipynb\" target=\"_parent\"><img src=\"https://colab.research.google.com/assets/colab-badge.svg\" alt=\"Open In Colab\"/></a>"
      ]
    },
    {
      "cell_type": "code",
      "execution_count": 1,
      "metadata": {
        "colab": {
          "base_uri": "https://localhost:8080/"
        },
        "id": "N0mfh9NKwRMR",
        "outputId": "bbc0e0ff-e4b4-47a8-ae08-107cd3997983"
      },
      "outputs": [
        {
          "output_type": "execute_result",
          "data": {
            "text/plain": [
              "(array([1, 2, 3]), 1, (3,))"
            ]
          },
          "metadata": {},
          "execution_count": 1
        }
      ],
      "source": [
        "import numpy as np\n",
        "\n",
        "#  1 dimensional\n",
        "\n",
        "\n",
        "\n",
        "arr=np.array([1,2,3])\n",
        "\n",
        "arr,arr.ndim,arr.shape"
      ]
    },
    {
      "cell_type": "code",
      "source": [
        "# 2 dimensional\n",
        "\n",
        "arr=np.array([\n",
        "               [1,2,3],\n",
        "               [4,5,6]\n",
        "              ])\n",
        "\n",
        "print(arr)\n",
        "print(\"\\nndim\", arr.ndim)\n",
        "print(\"\\nshape\",arr.shape)"
      ],
      "metadata": {
        "colab": {
          "base_uri": "https://localhost:8080/"
        },
        "id": "OEnU8TYHw_Ik",
        "outputId": "b44b8258-62e2-429d-8aab-1a6a75c30866"
      },
      "execution_count": 3,
      "outputs": [
        {
          "output_type": "stream",
          "name": "stdout",
          "text": [
            "[[1 2 3]\n",
            " [4 5 6]]\n",
            "\n",
            "ndim 2\n",
            "\n",
            "shape (2, 3)\n"
          ]
        }
      ]
    },
    {
      "cell_type": "code",
      "source": [
        "arr=np.array([\n",
        "           [\n",
        "             [1, 2, 3],\n",
        "             [4, 5, 6],\n",
        "             [7, 8, 9]\n",
        "          ],\n",
        "         [\n",
        "           [1, 2, 3],\n",
        "           [4, 5, 6],\n",
        "          [7, 8, 9]\n",
        "        ],\n",
        "         [\n",
        "           [1, 2, 3],\n",
        "           [4, 5, 6],\n",
        "           [7, 8, 9]\n",
        "           ]\n",
        "        ])\n",
        "\n",
        "print(arr)\n",
        "print(\"\\nndim\", arr.ndim)\n",
        "print(\"\\nshape\",arr.shape)\n",
        "\n",
        "\n",
        "# shape: means number of elements in each dimension"
      ],
      "metadata": {
        "colab": {
          "base_uri": "https://localhost:8080/"
        },
        "id": "yP9KcrD2xkE2",
        "outputId": "a59ce30b-17a8-4f5e-d0f6-0ed8a1f80d5b"
      },
      "execution_count": 4,
      "outputs": [
        {
          "output_type": "stream",
          "name": "stdout",
          "text": [
            "[[[1 2 3]\n",
            "  [4 5 6]\n",
            "  [7 8 9]]\n",
            "\n",
            " [[1 2 3]\n",
            "  [4 5 6]\n",
            "  [7 8 9]]\n",
            "\n",
            " [[1 2 3]\n",
            "  [4 5 6]\n",
            "  [7 8 9]]]\n",
            "\n",
            "ndim 3\n",
            "\n",
            "shape (3, 3, 3)\n"
          ]
        }
      ]
    },
    {
      "cell_type": "code",
      "source": [
        "arr = np.random.randint(1,100,(7,7))\n",
        "\n",
        "\n",
        "print(arr)\n",
        "print(\"\\nndim\", arr.ndim)\n",
        "print(\"\\nshape\",arr.shape)\n"
      ],
      "metadata": {
        "colab": {
          "base_uri": "https://localhost:8080/"
        },
        "id": "1fwnKv95x8rf",
        "outputId": "d4517d15-3895-4b6b-e070-01d4296b425d"
      },
      "execution_count": 7,
      "outputs": [
        {
          "output_type": "stream",
          "name": "stdout",
          "text": [
            "[[32  1 97 32 94 48 13]\n",
            " [60 65 78  3 57 60 92]\n",
            " [74 83 56 53 82 48 87]\n",
            " [43 17 53 63  9 84 58]\n",
            " [44 96 46 66 45 59 96]\n",
            " [97 45  5 37 38 10 21]\n",
            " [29 60 99 77 69 11 84]]\n",
            "\n",
            "ndim 2\n",
            "\n",
            "shape (7, 7)\n"
          ]
        }
      ]
    },
    {
      "cell_type": "code",
      "source": [
        "arr"
      ],
      "metadata": {
        "colab": {
          "base_uri": "https://localhost:8080/"
        },
        "id": "m33bHSXFyunh",
        "outputId": "42c299b6-9ab5-4c8f-a8f7-4a95b6474986"
      },
      "execution_count": 10,
      "outputs": [
        {
          "output_type": "execute_result",
          "data": {
            "text/plain": [
              "array([[32,  1, 97, 32, 94, 48, 13],\n",
              "       [60, 65, 78,  3, 57, 60, 92],\n",
              "       [74, 83, 56, 53, 82, 48, 87],\n",
              "       [43, 17, 53, 63,  9, 84, 58],\n",
              "       [44, 96, 46, 66, 45, 59, 96],\n",
              "       [97, 45,  5, 37, 38, 10, 21],\n",
              "       [29, 60, 99, 77, 69, 11, 84]])"
            ]
          },
          "metadata": {},
          "execution_count": 10
        }
      ]
    },
    {
      "cell_type": "code",
      "source": [
        "\n",
        "# now we show how to do slicing.  the general format for a 2x2 array is\n",
        "\n",
        "# a[from : to -1 , from : to -1]\n",
        "\n",
        "# the colon by itself means all elements, like a[:,:]\n",
        "\n",
        "# so the comma seperates the axis and the colon says what to do within the axis\n",
        "\n",
        "\n",
        "# first columns from the 4th and 5th rows\n",
        "# remember we start counting array elements at 0 so we write 3 when we mean element 4\n",
        "\n",
        "arr[3:5,:]"
      ],
      "metadata": {
        "id": "zlEjaVY9yZ3w"
      },
      "execution_count": null,
      "outputs": []
    },
    {
      "cell_type": "code",
      "source": [
        "arr[3:5,:]"
      ],
      "metadata": {
        "colab": {
          "base_uri": "https://localhost:8080/"
        },
        "id": "wE5z33n4ygxF",
        "outputId": "7c7ac698-a549-491f-fc1a-c4f863ef54b9"
      },
      "execution_count": 9,
      "outputs": [
        {
          "output_type": "execute_result",
          "data": {
            "text/plain": [
              "array([[43, 17, 53, 63,  9, 84, 58],\n",
              "       [44, 96, 46, 66, 45, 59, 96]])"
            ]
          },
          "metadata": {},
          "execution_count": 9
        }
      ]
    },
    {
      "cell_type": "code",
      "source": [
        "# here the first row is:\n",
        "\n",
        "# [1, 2, 3, 4]\n",
        "\n",
        "# the first column is:\n",
        "\n",
        "# [1 , 5, 8, 13]\n",
        "\n",
        "\n",
        "arr"
      ],
      "metadata": {
        "colab": {
          "base_uri": "https://localhost:8080/"
        },
        "id": "yBngFaCY4QW-",
        "outputId": "ec1c8459-b5ee-4cd9-d873-49b6c0c60ed4"
      },
      "execution_count": 37,
      "outputs": [
        {
          "output_type": "execute_result",
          "data": {
            "text/plain": [
              "array([[ 1,  2,  3,  4],\n",
              "       [ 5,  6,  7,  8],\n",
              "       [ 9, 10, 11, 12],\n",
              "       [13, 14, 15, 16]], dtype=int8)"
            ]
          },
          "metadata": {},
          "execution_count": 37
        }
      ]
    },
    {
      "cell_type": "code",
      "source": [
        "\n",
        "# this would not work with a 2-dimensional python list.  why?\n",
        "# but with numpy this mean print the element at row=0, column=0\n",
        "arr[0,0]\n",
        "\n"
      ],
      "metadata": {
        "colab": {
          "base_uri": "https://localhost:8080/"
        },
        "id": "tCRMoNXo4q_G",
        "outputId": "8b600d0b-e265-4921-af5a-94586dbc1f77"
      },
      "execution_count": 38,
      "outputs": [
        {
          "output_type": "execute_result",
          "data": {
            "text/plain": [
              "1"
            ]
          },
          "metadata": {},
          "execution_count": 38
        }
      ]
    },
    {
      "cell_type": "code",
      "source": [
        "# how can I print the 13?\n",
        "\n",
        "arr[3,0]"
      ],
      "metadata": {
        "colab": {
          "base_uri": "https://localhost:8080/"
        },
        "id": "CuI-iXvW47jS",
        "outputId": "e536c223-bd0b-4faf-9f02-41e9e44201e9"
      },
      "execution_count": 39,
      "outputs": [
        {
          "output_type": "execute_result",
          "data": {
            "text/plain": [
              "13"
            ]
          },
          "metadata": {},
          "execution_count": 39
        }
      ]
    },
    {
      "cell_type": "code",
      "source": [
        "# arr[row from : to + 1, column from to + 1]\n",
        "\n",
        "\n",
        "arr[3:5,3:5]\n"
      ],
      "metadata": {
        "id": "-OpFHHdY3_GE"
      },
      "execution_count": null,
      "outputs": []
    },
    {
      "cell_type": "code",
      "source": [
        "#rows,columns when it is 2 dimensional\n",
        "\n",
        "# this means start at 0 and end and 0 because you end at 1 before the last number\n",
        "\n",
        "arr[0:1,:]"
      ],
      "metadata": {
        "colab": {
          "base_uri": "https://localhost:8080/"
        },
        "id": "9ffRnA_py5qx",
        "outputId": "159c631b-5d07-40d6-e992-fcae2810e8b0"
      },
      "execution_count": 11,
      "outputs": [
        {
          "output_type": "execute_result",
          "data": {
            "text/plain": [
              "array([[32,  1, 97, 32, 94, 48, 13]])"
            ]
          },
          "metadata": {},
          "execution_count": 11
        }
      ]
    },
    {
      "cell_type": "code",
      "source": [
        "arr[:,0:1]"
      ],
      "metadata": {
        "colab": {
          "base_uri": "https://localhost:8080/"
        },
        "id": "N9Xbkwh-zOyR",
        "outputId": "755773ba-8730-4b35-f1f0-2353dad26543"
      },
      "execution_count": 12,
      "outputs": [
        {
          "output_type": "execute_result",
          "data": {
            "text/plain": [
              "array([[32],\n",
              "       [60],\n",
              "       [74],\n",
              "       [43],\n",
              "       [44],\n",
              "       [97],\n",
              "       [29]])"
            ]
          },
          "metadata": {},
          "execution_count": 12
        }
      ]
    },
    {
      "cell_type": "code",
      "source": [
        "arr[:,0:1].ndim,arr[:,0:1].shape"
      ],
      "metadata": {
        "colab": {
          "base_uri": "https://localhost:8080/"
        },
        "id": "JsuKMUf5zZZ6",
        "outputId": "21aacbdc-b7e4-4a1a-e0b3-bb0f8cf23ea9"
      },
      "execution_count": 13,
      "outputs": [
        {
          "output_type": "execute_result",
          "data": {
            "text/plain": [
              "(2, (7, 1))"
            ]
          },
          "metadata": {},
          "execution_count": 13
        }
      ]
    },
    {
      "cell_type": "code",
      "source": [
        "# print first two columns\n",
        "\n",
        "# array[from row : to row + 1 , from column to column + 1]\n",
        "\n",
        "# you should not use reserve works like array for variable names\n",
        "\n",
        "\n",
        "arr[0:2,:]"
      ],
      "metadata": {
        "colab": {
          "base_uri": "https://localhost:8080/"
        },
        "id": "16NFtACYzryO",
        "outputId": "8af678f9-1989-440c-d1d3-a110fc54c183"
      },
      "execution_count": 17,
      "outputs": [
        {
          "output_type": "execute_result",
          "data": {
            "text/plain": [
              "array([[32,  1, 97, 32, 94, 48, 13],\n",
              "       [60, 65, 78,  3, 57, 60, 92]])"
            ]
          },
          "metadata": {},
          "execution_count": 17
        }
      ]
    },
    {
      "cell_type": "code",
      "source": [
        "\n",
        "# make 16 elements ranging from 1 to 16\n",
        "\n",
        "arr=np.linspace(1,16,16)\n",
        "\n",
        "# this would be the same as writing\n",
        "\n",
        "arr=np.linspace(1,16,16,(16,),dtype=np.int16)\n",
        "\n",
        "print(arr)\n",
        "print(\"\\nndim\", arr.ndim)\n",
        "print(\"\\nshape\",arr.shape)"
      ],
      "metadata": {
        "colab": {
          "base_uri": "https://localhost:8080/"
        },
        "id": "xorIBTst0KSb",
        "outputId": "1aa6f018-b673-40b7-862e-7f979a3c2b0e"
      },
      "execution_count": 23,
      "outputs": [
        {
          "output_type": "stream",
          "name": "stdout",
          "text": [
            "[ 1  2  3  4  5  6  7  8  9 10 11 12 13 14 15 16]\n",
            "\n",
            "ndim 1\n",
            "\n",
            "shape (16,)\n"
          ]
        }
      ]
    },
    {
      "cell_type": "code",
      "source": [
        "\n",
        "\n",
        "\n",
        "# here we show how to print every other element.\n",
        "\n",
        "# so the format is [from : to : step]\n",
        "\n",
        "b=arr[0:4:2]\n",
        "\n",
        "print(b)\n",
        "print(\"\\nndim\", b.ndim)\n",
        "print(\"\\nshape\",b.shape)"
      ],
      "metadata": {
        "colab": {
          "base_uri": "https://localhost:8080/"
        },
        "id": "LncBx7sy0dJU",
        "outputId": "15fe1779-3aa9-4e6b-9da4-f47bdcb25bd8"
      },
      "execution_count": 24,
      "outputs": [
        {
          "output_type": "stream",
          "name": "stdout",
          "text": [
            "[1 3]\n",
            "\n",
            "ndim 1\n",
            "\n",
            "shape (2,)\n"
          ]
        }
      ]
    },
    {
      "cell_type": "code",
      "source": [
        "a"
      ],
      "metadata": {
        "colab": {
          "base_uri": "https://localhost:8080/"
        },
        "id": "BkgCyE9E1DQs",
        "outputId": "0e40b629-09c6-456e-9048-920853b6cc4e"
      },
      "execution_count": 25,
      "outputs": [
        {
          "output_type": "execute_result",
          "data": {
            "text/plain": [
              "array([ 1,  2,  3,  4,  5,  6,  7,  8,  9, 10, 11, 12, 13, 14, 15, 16],\n",
              "      dtype=int16)"
            ]
          },
          "metadata": {},
          "execution_count": 25
        }
      ]
    },
    {
      "cell_type": "code",
      "source": [
        "# start\n",
        "\n",
        "# this is invalid\n",
        "\n",
        "#a[start=0,stop=4,step=2]\n",
        "\n",
        "# function(arg1=a, arg2=b)\n",
        "\n",
        "# address operators a[0]\n",
        "\n",
        "a[0:4:2]"
      ],
      "metadata": {
        "colab": {
          "base_uri": "https://localhost:8080/"
        },
        "id": "n2uicmok1HCE",
        "outputId": "bcd4d438-f66c-4a10-abff-149b64531177"
      },
      "execution_count": 26,
      "outputs": [
        {
          "output_type": "execute_result",
          "data": {
            "text/plain": [
              "array([1, 3], dtype=int16)"
            ]
          },
          "metadata": {},
          "execution_count": 26
        }
      ]
    },
    {
      "cell_type": "code",
      "source": [
        "a[0:4]"
      ],
      "metadata": {
        "colab": {
          "base_uri": "https://localhost:8080/"
        },
        "id": "Ixio_sTc2JC5",
        "outputId": "f62327c9-222c-43d0-e57b-845cf5e2d667"
      },
      "execution_count": 31,
      "outputs": [
        {
          "output_type": "execute_result",
          "data": {
            "text/plain": [
              "array([1, 2, 3, 4], dtype=int16)"
            ]
          },
          "metadata": {},
          "execution_count": 31
        }
      ]
    },
    {
      "cell_type": "code",
      "source": [
        "d=[[1,2,3],\n",
        "   [4,5,6]]\n",
        "\n",
        "\n",
        "# addressing things in a list is simpler\n",
        "\n",
        "d[0][0]\n",
        "\n",
        ""
      ],
      "metadata": {
        "colab": {
          "base_uri": "https://localhost:8080/"
        },
        "id": "UK8KwbwB1eO1",
        "outputId": "3f362ced-b326-4481-d900-736612d0f801"
      },
      "execution_count": 32,
      "outputs": [
        {
          "output_type": "execute_result",
          "data": {
            "text/plain": [
              "1"
            ]
          },
          "metadata": {},
          "execution_count": 32
        }
      ]
    },
    {
      "cell_type": "code",
      "source": [
        "# original rule\n",
        "\n",
        "# a[from : to -1 , from : to -1]\n",
        "\n",
        "# that is quite different from\n",
        "\n",
        "# why is there no comma?  because it's one dimensional\n",
        "\n",
        "a[0:4]\n",
        "\n",
        "\n"
      ],
      "metadata": {
        "id": "-AzVK6Ku2Zmx"
      },
      "execution_count": null,
      "outputs": []
    },
    {
      "cell_type": "code",
      "source": [
        "####. Wait for next class to do this\n",
        "\n",
        "\n",
        "# here we show that y[a:b,c:d] is the same as y[a:b,:][:,c:d] or y[a:b][:,c:d]\n",
        "\n",
        "# first let's make the array have 2 dimensions using reshape.  we have 16 elements\n",
        "# which w can divide into 4 rows and 4 columns\n",
        "\n",
        "\n",
        "# you can designate the type of number when you create is using dtype\n",
        "# but you can cast the type use astype\n",
        "\n",
        "# I can cast a float to an integer, but will I lose the decimal point?  or does it round\n",
        "\n",
        "# I can cast an integer to a float like take 1 and make 1.0.  or 1.  that's obviously legal\n",
        "\n",
        "a=arr.reshape(4,4).astype(np.int8)\n",
        "a"
      ],
      "metadata": {
        "colab": {
          "base_uri": "https://localhost:8080/"
        },
        "id": "tiqXP1h126F9",
        "outputId": "ecff1766-2543-4b18-fe0b-c32ea8b33be9"
      },
      "execution_count": 36,
      "outputs": [
        {
          "output_type": "execute_result",
          "data": {
            "text/plain": [
              "array([[ 1,  2,  3,  4],\n",
              "       [ 5,  6,  7,  8],\n",
              "       [ 9, 10, 11, 12],\n",
              "       [13, 14, 15, 16]], dtype=int8)"
            ]
          },
          "metadata": {},
          "execution_count": 36
        }
      ]
    },
    {
      "cell_type": "code",
      "source": [
        " #here we show that y[a:b,c:d] is the same as y[a:b,:][:,c:d] or y[a:b][:,c:d]\n",
        "\n",
        "\n",
        "# lets print the 2nd and 3rd row item from the 2rd and 3rd column\n",
        "\n",
        "a[1:3, 1:3]\n"
      ],
      "metadata": {
        "id": "CzWatXHt3PbE"
      },
      "execution_count": null,
      "outputs": []
    },
    {
      "cell_type": "markdown",
      "source": [
        "# Homework\n",
        "\n",
        "1. (difficult) For the 4 x 4 array, how can you print elements along the diagonal\n",
        "\n",
        "2.  easy.  create an array of numbers from 1 to 25 with shape (25,)\n",
        "\n",
        "3. create an array of numbers from 1 to 25 with shape (5,5)\n",
        "\n",
        "4.  create an array of 20 random integers ranging from 10 to 40\n",
        "\n",
        "5.  reshapse item (4) to be (4,5)\n",
        "\n",
        "\n"
      ],
      "metadata": {
        "id": "YXKXwNui5FVR"
      }
    }
  ]
}