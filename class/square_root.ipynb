{
  "nbformat": 4,
  "nbformat_minor": 0,
  "metadata": {
    "colab": {
      "provenance": [],
      "authorship_tag": "ABX9TyNJX62brbr5BoRIdb1bmlmv",
      "include_colab_link": true
    },
    "kernelspec": {
      "name": "python3",
      "display_name": "Python 3"
    },
    "language_info": {
      "name": "python"
    }
  },
  "cells": [
    {
      "cell_type": "markdown",
      "metadata": {
        "id": "view-in-github",
        "colab_type": "text"
      },
      "source": [
        "<a href=\"https://colab.research.google.com/github/werowe/HypatiaAcademy/blob/master/class/square_root.ipynb\" target=\"_parent\"><img src=\"https://colab.research.google.com/assets/colab-badge.svg\" alt=\"Open In Colab\"/></a>"
      ]
    },
    {
      "cell_type": "markdown",
      "source": [
        "# How to Calculate Square Roots Manually\n",
        "Later we will show that all a computer do it add.  For example, 4*3 = 4 + 4 + 4.  So, in order to solve math problems they have to be reduce to addition.\n",
        "\n",
        "The Babylonians did this more than 2,000 years ago.  Here is their approach.\n",
        "\n",
        "First, give a number s, to find it's square root you find start with a guess, say, $x_0$.\n",
        "\n",
        "\n",
        "### Given:\n",
        "- $x_0 > \\sqrt{s}$\n",
        "\n",
        "### To prove:\n",
        "- $\\frac{s}{x_0} < \\sqrt{s}$\n",
        "\n",
        "### Proof:\n",
        "\n",
        "Start with the inequality $x_0 > \\sqrt{s}$.\n",
        "\n",
        "1. **Multiply both sides by $\\sqrt{s}$:**\n",
        "\n",
        "   Since $\\sqrt{s}$ is a positive number (because $s$ is non-negative), we can multiply both sides of the inequality by $\\sqrt{s}$ without changing the direction of the inequality:\n",
        "   \n",
        "   $\n",
        "   x_0 \\cdot \\sqrt{s} > s\n",
        "  $\n",
        "\n",
        "2. **Divide both sides by $x_0$:**\n",
        "\n",
        "   Because $x$ is positive (since $x_0 > \\sqrt{s}$ and $\\sqrt{s} \\geq 0$), dividing both sides by $x$ does not change the inequality's direction:\n",
        "\n",
        "   $\n",
        "   \\sqrt{s} > \\frac{s}{x}\n",
        "  $\n",
        "\n",
        "3. **Rewrite the inequality:**\n",
        "\n",
        "  $\n",
        "   \\frac{s}{x_0} < \\sqrt{s}\n",
        "  $\n",
        "\n",
        "This completes the proof.\n",
        "\n",
        "So obviously:\n",
        "\n",
        "- $\\frac{s}{x_0}  < \\sqrt{s} < x_0$\n",
        "\n",
        "\n",
        "So we find a number between:\n",
        "\n",
        "- $ x_1 =  \\frac{1}{2}(   \\frac{s}{x_0} + x_0)$\n",
        "\n",
        "and we keep repeating this pattern until the numbers converge, meaning the get close together.  \n"
      ],
      "metadata": {
        "id": "noTtqaj8naz5"
      }
    },
    {
      "cell_type": "markdown",
      "source": [
        "\n",
        "##Example\n",
        "\n",
        "For example, if s = 16 and $x_0 = 5$\n",
        "\n",
        "5 is too big:\n",
        "\n",
        "\n",
        "- $ 5 > \\sqrt{16}$\n",
        "\n",
        "and obviously this is too small\n",
        "\n",
        "- $\\frac{16}{5} < \\sqrt{16}$\n",
        "\n",
        "because:\n",
        "\n",
        "- $3.5 < 4$\n",
        "\n",
        "\n"
      ],
      "metadata": {
        "id": "N1uaLSkupFK-"
      }
    },
    {
      "cell_type": "code",
      "source": [
        " a=2\n",
        " a1 = (a / 2)\n",
        " b1=a/a1\n",
        " a2 = 1/2 * (a1 + b1)\n",
        " b2=a/a2\n",
        " a3= 1/2 * (a2 + b2)\n",
        " b3 = a/a3\n",
        " a4 = 1/2 * (a3 + b3)\n",
        " b4 = a / a4\n",
        " a5 = 1/2 * (a4 + b4)\n",
        " b5 = a / a5\n",
        "\n",
        "\n",
        "b5"
      ],
      "metadata": {
        "colab": {
          "base_uri": "https://localhost:8080/"
        },
        "id": "aMD6E7GcQtca",
        "outputId": "5d12c4c2-a3eb-4dc8-e344-411f09d41f4e"
      },
      "execution_count": 35,
      "outputs": [
        {
          "output_type": "execute_result",
          "data": {
            "text/plain": [
              "1.4142135623715002"
            ]
          },
          "metadata": {},
          "execution_count": 35
        }
      ]
    },
    {
      "cell_type": "code",
      "source": [
        "# watch this converge to the square root of 2, which is 1.414"
      ],
      "metadata": {
        "id": "CPWKQz62pqHW",
        "outputId": "44448512-0396-4002-e602-b972ee887e40",
        "colab": {
          "base_uri": "https://localhost:8080/"
        }
      },
      "execution_count": 24,
      "outputs": [
        {
          "output_type": "execute_result",
          "data": {
            "text/plain": [
              "1.4142135623715002"
            ]
          },
          "metadata": {},
          "execution_count": 24
        }
      ]
    },
    {
      "cell_type": "code",
      "source": [
        " print(\"a / 2 =\", a1)\n",
        " print(\"a / a1 =\", b1)\n",
        " print(\"\\n1/2 * (a1 + b1)=\", a1)\n",
        " print(\"a / a2 =\", b2)\n",
        " print(\"\\n1/2 * (a2 + b2) =\", a3)\n",
        " print(\"a / a3 =\", b3)\n",
        " print(\"\\n1/2 * (a3 + b3) =\", a4)\n",
        " print(\"a / a4 =\", b4)\n",
        " print(\"\\n1/2 * (a4 + b4) =\", a5)\n",
        " print(\"a / a5 =\", b5)\n"
      ],
      "metadata": {
        "colab": {
          "base_uri": "https://localhost:8080/"
        },
        "id": "YZg2sBqfSo1T",
        "outputId": "0db470c3-bc76-4eae-a766-20e9d4b8c59f"
      },
      "execution_count": 37,
      "outputs": [
        {
          "output_type": "stream",
          "name": "stdout",
          "text": [
            "a / 2 = 1.0\n",
            "a / a1 = 2.0\n",
            "\n",
            "1/2 * (a1 + b1)= 1.0\n",
            "a / a2 = 1.3333333333333333\n",
            "\n",
            "1/2 * (a2 + b2) = 1.4166666666666665\n",
            "a / a3 = 1.411764705882353\n",
            "\n",
            "1/2 * (a3 + b3) = 1.4142156862745097\n",
            "a / a4 = 1.41421143847487\n",
            "\n",
            "1/2 * (a4 + b4) = 1.4142135623746899\n",
            "a / a5 = 1.4142135623715002\n"
          ]
        }
      ]
    },
    {
      "cell_type": "code",
      "source": [
        "# Here is solution:\n",
        "\n",
        "a=2\n",
        "\n",
        "a1 = (a/2)+1\n",
        "b1 = a/a1\n",
        "aminus1 = a1\n",
        "bminus1 = b1\n",
        "\n",
        "\n",
        "while (aminus1-bminus1 > 0):\n",
        "    an = 0.5 * (aminus1 + bminus1)\n",
        "    bn = a / an\n",
        "    aminus1 = an\n",
        "    bminus1 = bn\n",
        "\n",
        "print(an)\n"
      ],
      "metadata": {
        "id": "NVGP0rXzu8Gm",
        "outputId": "1012498a-7b0f-42ec-8c0a-47587d3edbab",
        "colab": {
          "base_uri": "https://localhost:8080/"
        }
      },
      "execution_count": 39,
      "outputs": [
        {
          "output_type": "stream",
          "name": "stdout",
          "text": [
            "1.414213562373095\n"
          ]
        }
      ]
    }
  ]
}