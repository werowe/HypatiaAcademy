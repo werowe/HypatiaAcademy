{
  "nbformat": 4,
  "nbformat_minor": 0,
  "metadata": {
    "colab": {
      "provenance": [],
      "authorship_tag": "ABX9TyNBfE1dSb2JZJ4oa8sJtxdi",
      "include_colab_link": true
    },
    "kernelspec": {
      "name": "python3",
      "display_name": "Python 3"
    },
    "language_info": {
      "name": "python"
    }
  },
  "cells": [
    {
      "cell_type": "markdown",
      "metadata": {
        "id": "view-in-github",
        "colab_type": "text"
      },
      "source": [
        "<a href=\"https://colab.research.google.com/github/werowe/HypatiaAcademy/blob/master/class/2024_10_22_classes_and_inheritance.ipynb\" target=\"_parent\"><img src=\"https://colab.research.google.com/assets/colab-badge.svg\" alt=\"Open In Colab\"/></a>"
      ]
    },
    {
      "cell_type": "code",
      "execution_count": null,
      "metadata": {
        "id": "Ug2OGQ1lvxN1"
      },
      "outputs": [],
      "source": [
        "from enum import Enum\n",
        "\n",
        "class Color(Enum):\n",
        "  BLUE = 1,\n",
        "  BLACK = 2,\n",
        "  RED = 3,\n",
        "  YELLOW = 4\n",
        "\n",
        "class Transmission(Enum):\n",
        "  MANUAL = 1,\n",
        "  AUTOMATIC = 2\n",
        "\n",
        "class Fuel(Enum):\n",
        "    ELECTRIC = 1\n",
        "    GASOLINE = 2\n",
        "    DIESEL = 3\n",
        "    HYBRID = 4\n",
        "\n",
        "# reusable code.\n",
        "\n",
        "# Java or Haskell.  Some languages require that everything be a Class (Object)\n",
        "# Python is optional\n",
        "\n",
        "# list\n",
        "# type\n",
        "# int\n",
        "\n",
        "\n",
        "# base class\n",
        "class Vehicle:\n",
        "\n",
        "  #constructor.\n",
        "\n",
        "  # class Something -- this is class definition.\n",
        "\n",
        "  # something = Something() this now becomes and object or an instance a Something.  When you create a class it runs the constructor.  That gives it is default values\n",
        "\n",
        "  def __init__(self, manufacturer, model, year, color, fuelType):\n",
        "        self.manufacturer = manufacturer\n",
        "        self.model = model\n",
        "        self.year = year\n",
        "        self.color = color\n",
        "        self.running = False\n",
        "\n",
        "  def start(self):\n",
        "      self.running = True\n",
        "\n",
        "  def stop(self):\n",
        "      self.running = False\n",
        "\n",
        "\n",
        "# inherited class\n",
        "\n",
        "# extend Cars.  Here we say Cars are derived from Vehicle.  So everything that a Vehicle has so does a car.\n",
        "\n",
        "class Car(Vehicle):\n",
        "\n",
        "    # constructor\n",
        "\n",
        "    # teslaModel = Car(\"Tesla\", \"Model S\", 2020, Color.BLUE, Fuel.ELECTRIC)\n",
        "\n",
        "\n",
        "    def __init__(self, manufacturer, model, year, color, fuelType, transmission):\n",
        "        # Initialize parent class (vehicle) with 4 parameters\n",
        "        # notice the word super().  That means the class that you are extending from\n",
        "\n",
        "\n",
        "        # suppose only cars have transmissions.  then we do not need to pass\n",
        "        # transmission to super() because vehicles don't have transmissions\n",
        "\n",
        "        super().__init__(manufacturer, model, year, color, fuelType)\n",
        "\n",
        "\n",
        "        # Set additional attributes specific to Car\n",
        "\n",
        "        self.transmission=transmission\n",
        "\n",
        "        # it's not necessary to put the type of vehicle.  I will show you below\n",
        "\n",
        "        #self.vtype = vType.CAR  # Assuming it's a car; you can modify as needed\n",
        "\n",
        "        self.volts = 0\n",
        "\n",
        "\n",
        "\n",
        "\n",
        "class MotorCycle:\n",
        "    pass\n",
        "\n",
        "class Tractor:\n",
        "    pass\n",
        "\n"
      ]
    },
    {
      "cell_type": "code",
      "source": [
        "\n",
        "class Bus(Vehicle):\n",
        "\n",
        "    # constructor\n",
        "\n",
        "    hasLift=False\n",
        "\n",
        "\n",
        "\n",
        "    def __init__(self, manufacturer, model, year, color, fuelType, transmission, seats):\n",
        "        # Initialize parent class (vehicle) with 4 parameters\n",
        "        # notice the word super().  That means the class that you are extending from\n",
        "\n",
        "\n",
        "        # suppose only cars have transmissions.  then we do not need to pass\n",
        "        # transmission to super() because vehicles don't have transmissions\n",
        "\n",
        "        super().__init__(manufacturer, model, year, color, fuelType)\n",
        "\n",
        "\n",
        "        # Set additional attributes specific to Car\n",
        "\n",
        "        self.transmission=transmission\n",
        "        self.seats=seats\n",
        "\n",
        "        # it's not necessary to put the type of vehicle.  I will show you below\n",
        "\n",
        "        #self.vtype = vType.CAR  # Assuming it's a car; you can modify as needed\n",
        "\n",
        "        self.volts = 0"
      ],
      "metadata": {
        "id": "FIhte8HP26hh"
      },
      "execution_count": null,
      "outputs": []
    },
    {
      "cell_type": "code",
      "source": [
        "\n",
        "teslaModelS = Car(\"Tesla\", \"Model S\", 2020, Color.BLUE, Fuel.ELECTRIC, Transmission.MANUAL)\n"
      ],
      "metadata": {
        "id": "ppFFPN04wnvr"
      },
      "execution_count": null,
      "outputs": []
    },
    {
      "cell_type": "code",
      "source": [
        " teslaModelS.start()\n"
      ],
      "metadata": {
        "id": "sMLvQ-Qa189P"
      },
      "execution_count": null,
      "outputs": []
    },
    {
      "cell_type": "code",
      "source": [
        "kidsBus = Bus(\"IH\", \"kidsModel2\", 2006, Color.YELLOW, Fuel.DIESEL, Transmission.AUTOMATIC,75)"
      ],
      "metadata": {
        "id": "IAmLXQWz2_a2"
      },
      "execution_count": null,
      "outputs": []
    }
  ]
}