{
  "nbformat": 4,
  "nbformat_minor": 0,
  "metadata": {
    "colab": {
      "provenance": [],
      "authorship_tag": "ABX9TyMe1iwjE8io+880e7vYIOmj",
      "include_colab_link": true
    },
    "kernelspec": {
      "name": "python3",
      "display_name": "Python 3"
    },
    "language_info": {
      "name": "python"
    }
  },
  "cells": [
    {
      "cell_type": "markdown",
      "metadata": {
        "id": "view-in-github",
        "colab_type": "text"
      },
      "source": [
        "<a href=\"https://colab.research.google.com/github/werowe/HypatiaAcademy/blob/master/class/2024_02_04_numpy_slicing_diagonal.ipynb\" target=\"_parent\"><img src=\"https://colab.research.google.com/assets/colab-badge.svg\" alt=\"Open In Colab\"/></a>"
      ]
    },
    {
      "cell_type": "code",
      "execution_count": 1,
      "metadata": {
        "colab": {
          "base_uri": "https://localhost:8080/"
        },
        "id": "N0mfh9NKwRMR",
        "outputId": "b42af733-c90c-46c4-c6ea-ea3e724c2ea2"
      },
      "outputs": [
        {
          "output_type": "execute_result",
          "data": {
            "text/plain": [
              "(array([1, 2, 3]), 1, (3,))"
            ]
          },
          "metadata": {},
          "execution_count": 1
        }
      ],
      "source": [
        "import numpy as np\n",
        "\n",
        "#  1 dimensional\n",
        "\n",
        "\n",
        "\n",
        "arr=np.array([1,2,3])\n",
        "\n",
        "arr,arr.ndim,arr.shape"
      ]
    },
    {
      "cell_type": "code",
      "source": [
        "# 2 dimensional\n",
        "\n",
        "arr=np.array([\n",
        "               [1,2,3],\n",
        "               [4,5,6]\n",
        "              ])\n",
        "\n",
        "print(arr)\n",
        "print(\"\\nndim\", arr.ndim)\n",
        "print(\"\\nshape\",arr.shape)"
      ],
      "metadata": {
        "colab": {
          "base_uri": "https://localhost:8080/"
        },
        "id": "OEnU8TYHw_Ik",
        "outputId": "eb1528aa-d6ba-40f0-f2fc-d4687f3cccee"
      },
      "execution_count": 2,
      "outputs": [
        {
          "output_type": "stream",
          "name": "stdout",
          "text": [
            "[[1 2 3]\n",
            " [4 5 6]]\n",
            "\n",
            "ndim 2\n",
            "\n",
            "shape (2, 3)\n"
          ]
        }
      ]
    },
    {
      "cell_type": "code",
      "source": [
        "arr=np.array([\n",
        "           [\n",
        "             [1, 2, 3],\n",
        "             [4, 5, 6],\n",
        "             [7, 8, 9]\n",
        "          ],\n",
        "         [\n",
        "           [1, 2, 3],\n",
        "           [4, 5, 6],\n",
        "          [7, 8, 9]\n",
        "        ],\n",
        "         [\n",
        "           [1, 2, 3],\n",
        "           [4, 5, 6],\n",
        "           [7, 8, 9]\n",
        "           ]\n",
        "        ])\n",
        "\n",
        "print(arr)\n",
        "print(\"\\nndim\", arr.ndim)\n",
        "print(\"\\nshape\",arr.shape)\n",
        "\n",
        "\n",
        "# shape: means number of elements in each dimension"
      ],
      "metadata": {
        "colab": {
          "base_uri": "https://localhost:8080/"
        },
        "id": "yP9KcrD2xkE2",
        "outputId": "e7c0a576-1afa-47f4-cdc0-05a0a767a7b0"
      },
      "execution_count": 3,
      "outputs": [
        {
          "output_type": "stream",
          "name": "stdout",
          "text": [
            "[[[1 2 3]\n",
            "  [4 5 6]\n",
            "  [7 8 9]]\n",
            "\n",
            " [[1 2 3]\n",
            "  [4 5 6]\n",
            "  [7 8 9]]\n",
            "\n",
            " [[1 2 3]\n",
            "  [4 5 6]\n",
            "  [7 8 9]]]\n",
            "\n",
            "ndim 3\n",
            "\n",
            "shape (3, 3, 3)\n"
          ]
        }
      ]
    },
    {
      "cell_type": "code",
      "source": [
        "arr = np.random.randint(1,100,(7,7))\n",
        "\n",
        "\n",
        "print(arr)\n",
        "print(\"\\nndim\", arr.ndim)\n",
        "print(\"\\nshape\",arr.shape)\n"
      ],
      "metadata": {
        "colab": {
          "base_uri": "https://localhost:8080/"
        },
        "id": "1fwnKv95x8rf",
        "outputId": "c26f1433-1aae-43c8-f30a-bd90bc997458"
      },
      "execution_count": 4,
      "outputs": [
        {
          "output_type": "stream",
          "name": "stdout",
          "text": [
            "[[80 12 26 76 30 12 57]\n",
            " [37 93 76 28 64 47 84]\n",
            " [91 37 25 85  4 82 17]\n",
            " [ 1 79 46  4 41 48 91]\n",
            " [67 11 35 57 64  2 41]\n",
            " [47 47 37 25 16 10 22]\n",
            " [18 16 66 19  2 34 36]]\n",
            "\n",
            "ndim 2\n",
            "\n",
            "shape (7, 7)\n"
          ]
        }
      ]
    },
    {
      "cell_type": "code",
      "source": [
        "arr"
      ],
      "metadata": {
        "colab": {
          "base_uri": "https://localhost:8080/"
        },
        "id": "m33bHSXFyunh",
        "outputId": "91bbb166-752f-4b5d-e291-2805723e27d7"
      },
      "execution_count": 5,
      "outputs": [
        {
          "output_type": "execute_result",
          "data": {
            "text/plain": [
              "array([[80, 12, 26, 76, 30, 12, 57],\n",
              "       [37, 93, 76, 28, 64, 47, 84],\n",
              "       [91, 37, 25, 85,  4, 82, 17],\n",
              "       [ 1, 79, 46,  4, 41, 48, 91],\n",
              "       [67, 11, 35, 57, 64,  2, 41],\n",
              "       [47, 47, 37, 25, 16, 10, 22],\n",
              "       [18, 16, 66, 19,  2, 34, 36]])"
            ]
          },
          "metadata": {},
          "execution_count": 5
        }
      ]
    },
    {
      "cell_type": "code",
      "source": [
        "\n",
        "# now we show how to do slicing.  the general format for a 2x2 array is\n",
        "\n",
        "# a[from : to -1 , from : to -1]\n",
        "\n",
        "# the colon by itself means all elements, like a[:,:]\n",
        "\n",
        "# so the comma seperates the axis and the colon says what to do within the axis\n",
        "\n",
        "\n",
        "# first columns from the 4th and 5th rows\n",
        "# remember we start counting array elements at 0 so we write 3 when we mean element 4\n",
        "\n",
        "arr[3:5,:]"
      ],
      "metadata": {
        "id": "zlEjaVY9yZ3w",
        "colab": {
          "base_uri": "https://localhost:8080/"
        },
        "outputId": "12295ada-18fe-4da0-af56-8b2d27a83b8d"
      },
      "execution_count": 6,
      "outputs": [
        {
          "output_type": "execute_result",
          "data": {
            "text/plain": [
              "array([[ 1, 79, 46,  4, 41, 48, 91],\n",
              "       [67, 11, 35, 57, 64,  2, 41]])"
            ]
          },
          "metadata": {},
          "execution_count": 6
        }
      ]
    },
    {
      "cell_type": "code",
      "source": [
        "arr[3:5,:]"
      ],
      "metadata": {
        "colab": {
          "base_uri": "https://localhost:8080/"
        },
        "id": "wE5z33n4ygxF",
        "outputId": "83ca6e3b-99e1-4f3b-8fba-0ffe71155dfa"
      },
      "execution_count": 7,
      "outputs": [
        {
          "output_type": "execute_result",
          "data": {
            "text/plain": [
              "array([[ 1, 79, 46,  4, 41, 48, 91],\n",
              "       [67, 11, 35, 57, 64,  2, 41]])"
            ]
          },
          "metadata": {},
          "execution_count": 7
        }
      ]
    },
    {
      "cell_type": "code",
      "source": [
        "# here the first row is:\n",
        "\n",
        "# [1, 2, 3, 4]\n",
        "\n",
        "# the first column is:\n",
        "\n",
        "# [1 , 5, 8, 13]\n",
        "\n",
        "\n",
        "arr"
      ],
      "metadata": {
        "colab": {
          "base_uri": "https://localhost:8080/"
        },
        "id": "yBngFaCY4QW-",
        "outputId": "a8e184cd-415e-42f0-8280-9b8930a3fb65"
      },
      "execution_count": 8,
      "outputs": [
        {
          "output_type": "execute_result",
          "data": {
            "text/plain": [
              "array([[80, 12, 26, 76, 30, 12, 57],\n",
              "       [37, 93, 76, 28, 64, 47, 84],\n",
              "       [91, 37, 25, 85,  4, 82, 17],\n",
              "       [ 1, 79, 46,  4, 41, 48, 91],\n",
              "       [67, 11, 35, 57, 64,  2, 41],\n",
              "       [47, 47, 37, 25, 16, 10, 22],\n",
              "       [18, 16, 66, 19,  2, 34, 36]])"
            ]
          },
          "metadata": {},
          "execution_count": 8
        }
      ]
    },
    {
      "cell_type": "code",
      "source": [
        "\n",
        "# this would not work with a 2-dimensional python list.  why?\n",
        "# but with numpy this mean print the element at row=0, column=0\n",
        "arr[0,0]\n",
        "\n"
      ],
      "metadata": {
        "colab": {
          "base_uri": "https://localhost:8080/"
        },
        "id": "tCRMoNXo4q_G",
        "outputId": "bee7c98c-ae7e-42fb-a11d-c20f59bdce55"
      },
      "execution_count": 9,
      "outputs": [
        {
          "output_type": "execute_result",
          "data": {
            "text/plain": [
              "80"
            ]
          },
          "metadata": {},
          "execution_count": 9
        }
      ]
    },
    {
      "cell_type": "code",
      "source": [
        "# how can I print the 13?\n",
        "\n",
        "arr[3,0]"
      ],
      "metadata": {
        "colab": {
          "base_uri": "https://localhost:8080/"
        },
        "id": "CuI-iXvW47jS",
        "outputId": "a4d6cc4c-61cb-45df-f4d9-c90a59ce95ac"
      },
      "execution_count": 10,
      "outputs": [
        {
          "output_type": "execute_result",
          "data": {
            "text/plain": [
              "1"
            ]
          },
          "metadata": {},
          "execution_count": 10
        }
      ]
    },
    {
      "cell_type": "code",
      "source": [
        "# arr[row from : to + 1, column from to + 1]\n",
        "\n",
        "\n",
        "arr[3:5,3:5]\n"
      ],
      "metadata": {
        "id": "-OpFHHdY3_GE",
        "colab": {
          "base_uri": "https://localhost:8080/"
        },
        "outputId": "2a339f62-f16d-4a9f-8226-478d3d35a967"
      },
      "execution_count": 11,
      "outputs": [
        {
          "output_type": "execute_result",
          "data": {
            "text/plain": [
              "array([[ 4, 41],\n",
              "       [57, 64]])"
            ]
          },
          "metadata": {},
          "execution_count": 11
        }
      ]
    },
    {
      "cell_type": "code",
      "source": [
        "#rows,columns when it is 2 dimensional\n",
        "\n",
        "# this means start at 0 and end and 0 because you end at 1 before the last number\n",
        "\n",
        "arr[0:1,:]"
      ],
      "metadata": {
        "colab": {
          "base_uri": "https://localhost:8080/"
        },
        "id": "9ffRnA_py5qx",
        "outputId": "6d3045e4-8d51-42ff-9677-6c650404f660"
      },
      "execution_count": 12,
      "outputs": [
        {
          "output_type": "execute_result",
          "data": {
            "text/plain": [
              "array([[80, 12, 26, 76, 30, 12, 57]])"
            ]
          },
          "metadata": {},
          "execution_count": 12
        }
      ]
    },
    {
      "cell_type": "code",
      "source": [
        "arr[:,0:1]"
      ],
      "metadata": {
        "colab": {
          "base_uri": "https://localhost:8080/"
        },
        "id": "N9Xbkwh-zOyR",
        "outputId": "e3de7e02-fb67-49d4-c10c-10daf4745b70"
      },
      "execution_count": 13,
      "outputs": [
        {
          "output_type": "execute_result",
          "data": {
            "text/plain": [
              "array([[80],\n",
              "       [37],\n",
              "       [91],\n",
              "       [ 1],\n",
              "       [67],\n",
              "       [47],\n",
              "       [18]])"
            ]
          },
          "metadata": {},
          "execution_count": 13
        }
      ]
    },
    {
      "cell_type": "code",
      "source": [
        "arr[:,0:1].ndim,arr[:,0:1].shape"
      ],
      "metadata": {
        "colab": {
          "base_uri": "https://localhost:8080/"
        },
        "id": "JsuKMUf5zZZ6",
        "outputId": "750a8b94-140b-4ddd-9b1e-25fcf4940622"
      },
      "execution_count": 14,
      "outputs": [
        {
          "output_type": "execute_result",
          "data": {
            "text/plain": [
              "(2, (7, 1))"
            ]
          },
          "metadata": {},
          "execution_count": 14
        }
      ]
    },
    {
      "cell_type": "code",
      "source": [
        "# print first two columns\n",
        "\n",
        "# array[from row : to row + 1 , from column to column + 1]\n",
        "\n",
        "# you should not use reserve works like array for variable names\n",
        "\n",
        "\n",
        "arr[0:2,:]"
      ],
      "metadata": {
        "colab": {
          "base_uri": "https://localhost:8080/"
        },
        "id": "16NFtACYzryO",
        "outputId": "85986af3-dbd4-4923-c896-2b63cde6e280"
      },
      "execution_count": 15,
      "outputs": [
        {
          "output_type": "execute_result",
          "data": {
            "text/plain": [
              "array([[80, 12, 26, 76, 30, 12, 57],\n",
              "       [37, 93, 76, 28, 64, 47, 84]])"
            ]
          },
          "metadata": {},
          "execution_count": 15
        }
      ]
    },
    {
      "cell_type": "code",
      "source": [
        "\n",
        "# make 16 elements ranging from 1 to 16\n",
        "\n",
        "arr=np.linspace(1,16,16)\n",
        "\n",
        "# this would be the same as writing\n",
        "\n",
        "arr=np.linspace(1,16,16,(16,),dtype=np.int16)\n",
        "\n",
        "print(arr)\n",
        "print(\"\\nndim\", arr.ndim)\n",
        "print(\"\\nshape\",arr.shape)"
      ],
      "metadata": {
        "colab": {
          "base_uri": "https://localhost:8080/"
        },
        "id": "xorIBTst0KSb",
        "outputId": "c488d35d-9d9e-459a-a54f-2db780aac181"
      },
      "execution_count": 16,
      "outputs": [
        {
          "output_type": "stream",
          "name": "stdout",
          "text": [
            "[ 1  2  3  4  5  6  7  8  9 10 11 12 13 14 15 16]\n",
            "\n",
            "ndim 1\n",
            "\n",
            "shape (16,)\n"
          ]
        }
      ]
    },
    {
      "cell_type": "code",
      "source": [
        "\n",
        "\n",
        "\n",
        "# here we show how to print every other element.\n",
        "\n",
        "# so the format is [from : to : step]\n",
        "\n",
        "b=arr[0:4:2]\n",
        "\n",
        "print(b)\n",
        "print(\"\\nndim\", b.ndim)\n",
        "print(\"\\nshape\",b.shape)"
      ],
      "metadata": {
        "colab": {
          "base_uri": "https://localhost:8080/"
        },
        "id": "LncBx7sy0dJU",
        "outputId": "2fb6dee3-6280-4e85-9dc9-9fb537a491eb"
      },
      "execution_count": 17,
      "outputs": [
        {
          "output_type": "stream",
          "name": "stdout",
          "text": [
            "[1 3]\n",
            "\n",
            "ndim 1\n",
            "\n",
            "shape (2,)\n"
          ]
        }
      ]
    },
    {
      "cell_type": "code",
      "source": [
        "# start\n",
        "\n",
        "# this is invalid\n",
        "\n",
        "#a[start=0,stop=4,step=2]\n",
        "\n",
        "# function(arg1=a, arg2=b)\n",
        "\n",
        "# address operators a[0]\n",
        "\n",
        "#a[0:4:2]"
      ],
      "metadata": {
        "id": "n2uicmok1HCE"
      },
      "execution_count": 19,
      "outputs": []
    },
    {
      "cell_type": "code",
      "source": [
        "d=[[1,2,3],\n",
        "   [4,5,6]]\n",
        "\n",
        "\n",
        "# addressing things in a list is simpler\n",
        "\n",
        "d[0][0]\n",
        "\n"
      ],
      "metadata": {
        "id": "UK8KwbwB1eO1"
      },
      "execution_count": null,
      "outputs": []
    },
    {
      "cell_type": "code",
      "source": [
        "# original rule\n",
        "\n",
        "# a[from : to -1 , from : to -1]\n",
        "\n",
        "# that is quite different from\n",
        "\n",
        "# why is there no comma?  because it's one dimensional\n",
        "\n",
        "arr[0:4]\n",
        "\n",
        "\n"
      ],
      "metadata": {
        "id": "-AzVK6Ku2Zmx",
        "outputId": "dbd82ab7-833d-4cf4-ce55-a0291fb4627e",
        "colab": {
          "base_uri": "https://localhost:8080/"
        }
      },
      "execution_count": 21,
      "outputs": [
        {
          "output_type": "execute_result",
          "data": {
            "text/plain": [
              "array([1, 2, 3, 4], dtype=int16)"
            ]
          },
          "metadata": {},
          "execution_count": 21
        }
      ]
    },
    {
      "cell_type": "code",
      "source": [
        "####. Wait for next class to do this\n",
        "\n",
        "\n",
        "# here we show that y[a:b,c:d] is the same as y[a:b,:][:,c:d] or y[a:b][:,c:d]\n",
        "\n",
        "# first let's make the array have 2 dimensions using reshape.  we have 16 elements\n",
        "# which w can divide into 4 rows and 4 columns\n",
        "\n",
        "\n",
        "# you can designate the type of number when you create is using dtype\n",
        "# but you can cast the type use astype\n",
        "\n",
        "# I can cast a float to an integer, but will I lose the decimal point?  or does it round\n",
        "\n",
        "# I can cast an integer to a float like take 1 and make 1.0.  or 1.  that's obviously legal\n",
        "\n",
        "a=arr.reshape(4,4).astype(np.int8)\n",
        "a"
      ],
      "metadata": {
        "id": "tiqXP1h126F9"
      },
      "execution_count": null,
      "outputs": []
    },
    {
      "cell_type": "code",
      "source": [
        " #here we show that y[a:b,c:d] is the same as y[a:b,:][:,c:d] or y[a:b][:,c:d]\n",
        "\n",
        "\n",
        "# lets print the 2nd and 3rd row item from the 2rd and 3rd column\n",
        "\n",
        "a[1:3, 1:3]\n"
      ],
      "metadata": {
        "id": "CzWatXHt3PbE"
      },
      "execution_count": null,
      "outputs": []
    },
    {
      "cell_type": "markdown",
      "source": [
        "# Homework\n",
        "\n",
        "1. (difficult) For the 4 x 4 array, how can you print elements along the diagonal\n",
        "\n",
        "2.  easy.  create an array of numbers from 1 to 25 with shape (25,)\n",
        "\n",
        "3. create an array of numbers from 1 to 25 with shape (5,5)\n",
        "\n",
        "4.  create an array of 20 random integers ranging from 10 to 40\n",
        "\n",
        "5.  reshapse item (4) to be (4,5)\n",
        "\n",
        "\n"
      ],
      "metadata": {
        "id": "YXKXwNui5FVR"
      }
    },
    {
      "cell_type": "code",
      "source": [
        "# print items along diagonal\n",
        "\n",
        "a=arr.reshape(4,4)\n",
        "print(a, \"\\n\")\n",
        "\n",
        "# first it would need to have a diagonal\n",
        "\n",
        "# in other words it would need to have a line where row number = column number and go all the way from one corner to another\n",
        "\n",
        "a[:,2]\n",
        "\n",
        "\n",
        "# we want\n",
        "\n",
        "# 1, 6, 11, 16\n",
        "\n",
        "\n",
        "\n"
      ],
      "metadata": {
        "colab": {
          "base_uri": "https://localhost:8080/"
        },
        "id": "Xj9bsTWs6jmV",
        "outputId": "d0192e50-976d-40a0-91ab-060295fc90a9"
      },
      "execution_count": 22,
      "outputs": [
        {
          "output_type": "stream",
          "name": "stdout",
          "text": [
            "[[ 1  2  3  4]\n",
            " [ 5  6  7  8]\n",
            " [ 9 10 11 12]\n",
            " [13 14 15 16]] \n",
            "\n"
          ]
        },
        {
          "output_type": "execute_result",
          "data": {
            "text/plain": [
              "array([ 3,  7, 11, 15], dtype=int16)"
            ]
          },
          "metadata": {},
          "execution_count": 22
        }
      ]
    },
    {
      "cell_type": "markdown",
      "source": [
        "so we want:\n",
        "\n",
        "```\n",
        "[[a[0,0],a[1,1],a[2,2],a[3,3]]\n",
        "```"
      ],
      "metadata": {
        "id": "iotYTT0u7zgL"
      }
    },
    {
      "cell_type": "code",
      "source": [
        "#hard code diagonal\n",
        "\n",
        "[a[0,0],a[1,1],a[2,2],a[3,3]]"
      ],
      "metadata": {
        "colab": {
          "base_uri": "https://localhost:8080/"
        },
        "id": "1QRkUhY98Y5A",
        "outputId": "c138d309-b729-4b3e-8085-d615c3390279"
      },
      "execution_count": 23,
      "outputs": [
        {
          "output_type": "execute_result",
          "data": {
            "text/plain": [
              "[1, 6, 11, 16]"
            ]
          },
          "metadata": {},
          "execution_count": 23
        }
      ]
    },
    {
      "cell_type": "code",
      "source": [
        "# cheat and reshape and step through it\n",
        "\n",
        "b=a.reshape(16,)\n",
        "print(a, \"\\n\")\n",
        "\n",
        "print(\"b\", b)\n",
        "\n",
        "print(\"diagonal\", b[0:16:5])"
      ],
      "metadata": {
        "colab": {
          "base_uri": "https://localhost:8080/"
        },
        "id": "e2PsmZ2u9TDl",
        "outputId": "f1cb2336-8d3b-4b30-8a9a-e1e899ed2f74"
      },
      "execution_count": 24,
      "outputs": [
        {
          "output_type": "stream",
          "name": "stdout",
          "text": [
            "[[ 1  2  3  4]\n",
            " [ 5  6  7  8]\n",
            " [ 9 10 11 12]\n",
            " [13 14 15 16]] \n",
            "\n",
            "b [ 1  2  3  4  5  6  7  8  9 10 11 12 13 14 15 16]\n",
            "diagonal [ 1  6 11 16]\n"
          ]
        }
      ]
    },
    {
      "cell_type": "code",
      "source": [
        "a[np.arange(a.shape[0]), np.arange(a.shape[1])]"
      ],
      "metadata": {
        "id": "88-XuR3MoEGo",
        "outputId": "761a6dad-5495-4ab3-ee12-317e56a33155",
        "colab": {
          "base_uri": "https://localhost:8080/"
        }
      },
      "execution_count": 26,
      "outputs": [
        {
          "output_type": "execute_result",
          "data": {
            "text/plain": [
              "array([ 1,  6, 11, 16], dtype=int16)"
            ]
          },
          "metadata": {},
          "execution_count": 26
        }
      ]
    },
    {
      "cell_type": "code",
      "source": [
        "a.shape"
      ],
      "metadata": {
        "id": "rGxAMuFGpG_k",
        "outputId": "9151f02d-ac07-4bfe-b0a1-689a95986817",
        "colab": {
          "base_uri": "https://localhost:8080/"
        }
      },
      "execution_count": 27,
      "outputs": [
        {
          "output_type": "execute_result",
          "data": {
            "text/plain": [
              "(4, 4)"
            ]
          },
          "metadata": {},
          "execution_count": 27
        }
      ]
    },
    {
      "cell_type": "code",
      "source": [
        "np.arange(4)"
      ],
      "metadata": {
        "id": "DmYsb3WWplHu",
        "outputId": "ba2d3cda-d408-40b7-bba5-0e6a5b347c26",
        "colab": {
          "base_uri": "https://localhost:8080/"
        }
      },
      "execution_count": 29,
      "outputs": [
        {
          "output_type": "execute_result",
          "data": {
            "text/plain": [
              "array([0, 1, 2, 3])"
            ]
          },
          "metadata": {},
          "execution_count": 29
        }
      ]
    },
    {
      "cell_type": "code",
      "source": [
        "a[[0,1,2,3],[0,1,2,3]]"
      ],
      "metadata": {
        "id": "NB8Cp_tgpzMK",
        "outputId": "38304817-d360-4936-f314-f455f3a25fb8",
        "colab": {
          "base_uri": "https://localhost:8080/"
        }
      },
      "execution_count": 30,
      "outputs": [
        {
          "output_type": "execute_result",
          "data": {
            "text/plain": [
              "array([ 1,  6, 11, 16], dtype=int16)"
            ]
          },
          "metadata": {},
          "execution_count": 30
        }
      ]
    }
  ]
}