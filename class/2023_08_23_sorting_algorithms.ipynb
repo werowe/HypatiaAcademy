{
  "cells": [
    {
      "cell_type": "markdown",
      "metadata": {
        "id": "view-in-github",
        "colab_type": "text"
      },
      "source": [
        "<a href=\"https://colab.research.google.com/github/werowe/HypatiaAcademy/blob/master/class/2023_08_23_sorting_algorithms.ipynb\" target=\"_parent\"><img src=\"https://colab.research.google.com/assets/colab-badge.svg\" alt=\"Open In Colab\"/></a>"
      ]
    },
    {
      "cell_type": "code",
      "execution_count": null,
      "id": "433e3db1",
      "metadata": {
        "colab": {
          "base_uri": "https://localhost:8080/"
        },
        "id": "433e3db1",
        "outputId": "82239e08-cbf9-45ef-ce5e-53bd861ea486"
      },
      "outputs": [
        {
          "output_type": "stream",
          "name": "stdout",
          "text": [
            "before sorting [4, 1] \n",
            "\n",
            "first number 4 is bigger than second 1\n",
            "so the list is not sorted.  so swap their positions\n",
            "\n",
            "after sorting [1, 4] \n",
            "\n"
          ]
        }
      ],
      "source": [
        "n=[4,1]\n",
        "\n",
        "print('before sorting', n, \"\\n\")\n",
        "\n",
        "if n[0] > n[1]:\n",
        "  print(\"first number\", n[0] , \"is bigger than second\", n[1])\n",
        "  print(\"so the list is not sorted.  so swap their positions\\n\")\n",
        "  n[0], n[1] =  n[1], n[0]\n",
        "\n",
        "print('after sorting', n, \"\\n\")\n"
      ]
    },
    {
      "cell_type": "markdown",
      "source": [
        "# First Steps\n",
        "\n",
        "Here is a more general way to do that.  We will sort all the items in one list.\n",
        "\n",
        "This is one pass through the algorithm.\n",
        "\n",
        "\n"
      ],
      "metadata": {
        "id": "KrGsQcvcHt82"
      },
      "id": "KrGsQcvcHt82"
    },
    {
      "cell_type": "code",
      "execution_count": null,
      "id": "c3837c41",
      "metadata": {
        "colab": {
          "base_uri": "https://localhost:8080/"
        },
        "id": "c3837c41",
        "outputId": "81a53f5d-240d-44d6-93a4-dbea81544653"
      },
      "outputs": [
        {
          "output_type": "stream",
          "name": "stdout",
          "text": [
            "before [8, 2, 2, 8, 2]\n",
            "\n",
            " after [2, 2, 8, 2, 8]\n"
          ]
        }
      ],
      "source": [
        "import random\n",
        "\n",
        "numbers=[]\n",
        "\n",
        "for i in range(5):\n",
        "  numbers.append(random.randint(1,10))\n",
        "\n",
        "print(\"before\", numbers )\n",
        "\n",
        "for i in range(len(numbers)-1):\n",
        "    if(numbers[i]>numbers[i+1]):\n",
        "        numbers[i],numbers[i+1] = numbers[i+1],numbers[i]\n",
        "\n",
        "print(\"\\n after\", numbers)"
      ]
    },
    {
      "cell_type": "markdown",
      "source": [
        "# Complete Algorithm\n",
        "\n",
        "Here is the complete working algorithm.  The difference is we checked the list numbers=[a,b,c,d,e] len(numbers) of times.  That is, the first time we check:\n",
        "\n",
        "a < b\n",
        "b < c\n",
        "d < e\n",
        "e < f\n",
        "\n",
        "swapping each pair that is out of order.\n",
        "\n",
        "Then repeat len(numbers) of times.\n",
        "\n",
        "Notice that algorithm runs len(numbers) of times.  It could quit earlier.  There are more efficient algorithms.\n",
        "\n",
        "\n"
      ],
      "metadata": {
        "id": "AT-_saytH5rU"
      },
      "id": "AT-_saytH5rU"
    },
    {
      "cell_type": "code",
      "execution_count": 4,
      "id": "7f20e397",
      "metadata": {
        "colab": {
          "base_uri": "https://localhost:8080/"
        },
        "id": "7f20e397",
        "outputId": "90fc6ee1-0472-416a-d5d8-9eebdd8af329"
      },
      "outputs": [
        {
          "output_type": "stream",
          "name": "stdout",
          "text": [
            "unsorted [1, 8, 5, 9] \n",
            "\n",
            "\n",
            "working current list [1, 8, 5, 9]\n",
            "inner loop [1, 8, 5, 9]\n",
            "\n",
            "\tcheck if position  0 number  1 > position 1 number 8\n",
            "inner loop [1, 8, 5, 9]\n",
            "\n",
            "\tcheck if position  1 number  8 > position 2 number 5\n",
            "\tswap positions of  [5, 8] \n",
            "\n",
            "inner loop [1, 5, 8, 9]\n",
            "\n",
            "\tcheck if position  2 number  8 > position 3 number 9\n",
            "sorted [1, 5, 8, 9]\n"
          ]
        }
      ],
      "source": [
        "# a list\n",
        "\n",
        "import random\n",
        "\n",
        "numbers=[]\n",
        "\n",
        "\n",
        "\n",
        "for i in range(4):\n",
        "  numbers.append(random.randint(1,10))\n",
        "\n",
        "\n",
        "\n",
        "print(\"unsorted\", numbers, \"\\n\")\n",
        "\n",
        "# here j is not many number are in numbers list\n",
        "\n",
        "# check every number in list against every other\n",
        "\n",
        "#for j in range(len(numbers)):\n",
        "for j in [2]:\n",
        "\n",
        "    print(\"\\nworking current list\", numbers)\n",
        "\n",
        "\n",
        "    for i in range(len(numbers)-1):\n",
        "        print(\"inner loop\", numbers)\n",
        "        print(\"\\n\\tcheck if position \", i, \"number \", numbers[i] , \"> position\" , i+1, \"number\", numbers[i+1])\n",
        "\n",
        "        if(numbers[i]>numbers[i+1]):\n",
        "            print(\"\\tswap positions of \", [numbers[i+1],numbers[i]], \"\\n\" )\n",
        "            numbers[i],numbers[i+1] = numbers[i+1],numbers[i]\n",
        "\n",
        "\n",
        "\n",
        "\n",
        "print(\"sorted\", numbers)"
      ]
    },
    {
      "cell_type": "markdown",
      "source": [
        "# Here is the longest run time.\n",
        "\n",
        "Here we sort the list numbers=[9,8,7,6,5,4,3,2,1].  \n",
        "\n",
        "Watch and you say see that it takes exactly len(numbers) of loops.  You can see the 9 and then the 8,9 and then the 7,8,9 move from right to left."
      ],
      "metadata": {
        "id": "AluHs_URRLfd"
      },
      "id": "AluHs_URRLfd"
    },
    {
      "cell_type": "code",
      "source": [
        "#Here is is without all the print statements so you can see the list getting sorted.\n",
        "\n",
        "\n",
        "\n",
        "\n",
        "\n",
        "numbers=[9,8,7,6,5,4,3,2,1]\n",
        "\n",
        "print(\"unsorted\", numbers, \"\\n\")\n",
        "\n",
        "# here j is not many number are in numbers list\n",
        "\n",
        "# check every number in list against every other\n",
        "\n",
        "for j in range(len(numbers)):\n",
        "\n",
        "    print(\"\\nworking current list\", numbers)\n",
        "\n",
        "    for i in range(len(numbers)-1):\n",
        "\n",
        "\n",
        "        if(numbers[i]>numbers[i+1]):\n",
        "               numbers[i],numbers[i+1] = numbers[i+1],numbers[i]\n",
        "\n",
        "\n",
        "\n",
        "\n",
        "print(\"\\nsorted\", numbers)\n"
      ],
      "metadata": {
        "colab": {
          "base_uri": "https://localhost:8080/"
        },
        "id": "68ObEgeFQtUe",
        "outputId": "b9dc75c9-eb9e-452c-a11d-05f7cd58b574"
      },
      "id": "68ObEgeFQtUe",
      "execution_count": null,
      "outputs": [
        {
          "output_type": "stream",
          "name": "stdout",
          "text": [
            "unsorted [9, 8, 7, 6, 5, 4, 3, 2, 1] \n",
            "\n",
            "\n",
            "working current list [9, 8, 7, 6, 5, 4, 3, 2, 1]\n",
            "\n",
            "working current list [8, 7, 6, 5, 4, 3, 2, 1, 9]\n",
            "\n",
            "working current list [7, 6, 5, 4, 3, 2, 1, 8, 9]\n",
            "\n",
            "working current list [6, 5, 4, 3, 2, 1, 7, 8, 9]\n",
            "\n",
            "working current list [5, 4, 3, 2, 1, 6, 7, 8, 9]\n",
            "\n",
            "working current list [4, 3, 2, 1, 5, 6, 7, 8, 9]\n",
            "\n",
            "working current list [3, 2, 1, 4, 5, 6, 7, 8, 9]\n",
            "\n",
            "working current list [2, 1, 3, 4, 5, 6, 7, 8, 9]\n",
            "\n",
            "working current list [1, 2, 3, 4, 5, 6, 7, 8, 9]\n",
            "\n",
            "sorted [1, 2, 3, 4, 5, 6, 7, 8, 9]\n"
          ]
        }
      ]
    }
  ],
  "metadata": {
    "kernelspec": {
      "display_name": "Python 3 (ipykernel)",
      "language": "python",
      "name": "python3"
    },
    "language_info": {
      "codemirror_mode": {
        "name": "ipython",
        "version": 3
      },
      "file_extension": ".py",
      "mimetype": "text/x-python",
      "name": "python",
      "nbconvert_exporter": "python",
      "pygments_lexer": "ipython3",
      "version": "3.10.9"
    },
    "colab": {
      "provenance": [],
      "include_colab_link": true
    }
  },
  "nbformat": 4,
  "nbformat_minor": 5
}