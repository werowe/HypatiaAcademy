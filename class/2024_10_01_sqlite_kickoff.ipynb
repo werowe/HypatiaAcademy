{
  "nbformat": 4,
  "nbformat_minor": 0,
  "metadata": {
    "colab": {
      "provenance": [],
      "authorship_tag": "ABX9TyP1F8F7dq8IuczTWMhj6iYA",
      "include_colab_link": true
    },
    "kernelspec": {
      "name": "python3",
      "display_name": "Python 3"
    },
    "language_info": {
      "name": "python"
    }
  },
  "cells": [
    {
      "cell_type": "markdown",
      "metadata": {
        "id": "view-in-github",
        "colab_type": "text"
      },
      "source": [
        "<a href=\"https://colab.research.google.com/github/werowe/HypatiaAcademy/blob/master/class/2024_10_01_sqlite_kickoff.ipynb\" target=\"_parent\"><img src=\"https://colab.research.google.com/assets/colab-badge.svg\" alt=\"Open In Colab\"/></a>"
      ]
    },
    {
      "cell_type": "markdown",
      "source": [
        "#SQL Lite 3\n",
        "\n",
        "\n",
        "SQL Light is the world's most popular database.  It is designed to be very small.  It in in every iPhone and Android phone, for example.\n",
        "\n",
        "It is an **RDBMS** relational database management system.\n",
        "\n",
        "We can use Python to work with it.  But even with Python the way we work with it is with SQL.  Below we show some of the most common SQL commands.\n",
        "\n",
        "Data is stored in **rows** and **columns**.\n",
        "\n",
        "The [documentation is here](https://www.sqlite.org/lang.html)/\n",
        "\n",
        "\n",
        "# So Many Databases\n",
        "\n",
        "* Oracle--5th richest man.  1970s.  IBM. Larry Ellison.  SQL (structured query language).\n",
        "\n",
        "* MySQL--free. (SQL)\n",
        "* PostgreSQL--free. (SQL)\n",
        "\n",
        "* MongoDB--JavaScript database.  JSON.\n",
        "\n",
        "* Cassandra--Uber\n",
        "\n",
        "* Google Big Table--Yahoo Hadoop.  \n",
        "\n",
        "* Microsoft SQL Server---must pay\n",
        "\n",
        "* Redis--data warehouse\n",
        "\n",
        "* ElasticSearch--cybersecurity.  JSON.  Lucene.\n",
        "\n",
        "* IBM DB2--IBM mainframe.  \n",
        "\n",
        "* MariaDB--"
      ],
      "metadata": {
        "id": "eSqyCMGOm_xN"
      }
    },
    {
      "cell_type": "code",
      "source": [
        "# load SQL command line interepreter\n",
        "# % magic commands\n",
        "# ! meant bash command\n",
        "\n",
        "%load_ext sql"
      ],
      "metadata": {
        "id": "jfNZ8eeaoF4u"
      },
      "execution_count": 1,
      "outputs": []
    },
    {
      "cell_type": "code",
      "source": [
        "!ls"
      ],
      "metadata": {
        "colab": {
          "base_uri": "https://localhost:8080/"
        },
        "id": "pwB_4UbbogKB",
        "outputId": "43c26872-7ca9-4cdc-9e9b-17791bede104"
      },
      "execution_count": 4,
      "outputs": [
        {
          "output_type": "stream",
          "name": "stdout",
          "text": [
            "sample_data  students.db\n"
          ]
        }
      ]
    },
    {
      "cell_type": "code",
      "source": [
        "%sql sqlite:///students.db"
      ],
      "metadata": {
        "id": "RpwHWyNpoiaq"
      },
      "execution_count": 3,
      "outputs": []
    },
    {
      "cell_type": "markdown",
      "source": [
        "A database **table** stores data in rows and columns.\n",
        "\n",
        "Here we say:\n",
        "\n",
        "* create a table called students\n",
        "* integer, text, boolean, real\n",
        "* primary key.  \n",
        "* autoincrement.  random() is not always unique.  uuid4() is a very large number.  **autoincrement**"
      ],
      "metadata": {
        "id": "IG506XFBo4MP"
      }
    },
    {
      "cell_type": "code",
      "source": [
        "\n",
        "\n",
        "%%sql\n",
        "\n",
        "CREATE TABLE students\n",
        "  (\n",
        "    studentnumber INTEGER PRIMARY KEY AUTOINCREMENT,\n",
        "    studentname text,\n",
        "    phonenumber text,\n",
        "    email text,\n",
        "    datecreated text\n",
        "  );"
      ],
      "metadata": {
        "colab": {
          "base_uri": "https://localhost:8080/"
        },
        "id": "T7ukR_uUo8yI",
        "outputId": "6527ad2b-f5a2-499f-ce21-5f93b98f8a72"
      },
      "execution_count": 5,
      "outputs": [
        {
          "output_type": "stream",
          "name": "stdout",
          "text": [
            " * sqlite:///students.db\n",
            "Done.\n"
          ]
        },
        {
          "output_type": "execute_result",
          "data": {
            "text/plain": [
              "[]"
            ]
          },
          "metadata": {},
          "execution_count": 5
        }
      ]
    },
    {
      "cell_type": "code",
      "source": [
        "# insert\n",
        "\n",
        "%%sql\n",
        "\n",
        "INSERT INTO students (studentname, phonenumber, email, datecreated)\n",
        "VALUES ('William Shakespeare',\"555-1212\", \"will@globe.uk.com\", strftime('%s', 'now'));\n",
        "\n"
      ],
      "metadata": {
        "colab": {
          "base_uri": "https://localhost:8080/"
        },
        "id": "3-MAwLRQpz0i",
        "outputId": "6dd0fc5c-f6dc-4c1e-a6c0-9e3daa2a9cbb"
      },
      "execution_count": 28,
      "outputs": [
        {
          "output_type": "stream",
          "name": "stdout",
          "text": [
            " * sqlite:///students.db\n",
            "1 rows affected.\n"
          ]
        },
        {
          "output_type": "execute_result",
          "data": {
            "text/plain": [
              "[]"
            ]
          },
          "metadata": {},
          "execution_count": 28
        }
      ]
    },
    {
      "cell_type": "code",
      "source": [
        "%%sql\n",
        "\n",
        "\n",
        "INSERT INTO students (studentname, phonenumber, email, datecreated)\n",
        "VALUES ('Thomas Mann',\"555-1212\", \"a@a.com\", strftime('%s', 'now'));"
      ],
      "metadata": {
        "colab": {
          "base_uri": "https://localhost:8080/"
        },
        "id": "0EeTb5YEqWL4",
        "outputId": "4c64d5a6-2b32-4322-c488-878ab6af6510"
      },
      "execution_count": 26,
      "outputs": [
        {
          "output_type": "stream",
          "name": "stdout",
          "text": [
            " * sqlite:///students.db\n",
            "1 rows affected.\n"
          ]
        },
        {
          "output_type": "execute_result",
          "data": {
            "text/plain": [
              "[]"
            ]
          },
          "metadata": {},
          "execution_count": 26
        }
      ]
    },
    {
      "cell_type": "code",
      "source": [
        "# list rows in table\n",
        "%%sql\n",
        "\n",
        "select email, studentnumber from students;\n"
      ],
      "metadata": {
        "colab": {
          "base_uri": "https://localhost:8080/",
          "height": 118
        },
        "id": "D7d7_WTPqdAP",
        "outputId": "045410f9-9d2f-4d3a-830e-6721f6bd603b"
      },
      "execution_count": 9,
      "outputs": [
        {
          "output_type": "stream",
          "name": "stdout",
          "text": [
            " * sqlite:///students.db\n",
            "Done.\n"
          ]
        },
        {
          "output_type": "execute_result",
          "data": {
            "text/plain": [
              "[('will@globe.uk.com', 1), ('a@a.com', 2)]"
            ],
            "text/html": [
              "<table>\n",
              "    <thead>\n",
              "        <tr>\n",
              "            <th>email</th>\n",
              "            <th>studentnumber</th>\n",
              "        </tr>\n",
              "    </thead>\n",
              "    <tbody>\n",
              "        <tr>\n",
              "            <td>will@globe.uk.com</td>\n",
              "            <td>1</td>\n",
              "        </tr>\n",
              "        <tr>\n",
              "            <td>a@a.com</td>\n",
              "            <td>2</td>\n",
              "        </tr>\n",
              "    </tbody>\n",
              "</table>"
            ]
          },
          "metadata": {},
          "execution_count": 9
        }
      ]
    },
    {
      "cell_type": "code",
      "source": [
        "%%sql\n",
        "\n",
        "select * from students;"
      ],
      "metadata": {
        "colab": {
          "base_uri": "https://localhost:8080/",
          "height": 118
        },
        "id": "Uf6t_61UqnFr",
        "outputId": "bee9aa4d-e9f6-4782-acb7-ff883be74ce2"
      },
      "execution_count": 10,
      "outputs": [
        {
          "output_type": "stream",
          "name": "stdout",
          "text": [
            " * sqlite:///students.db\n",
            "Done.\n"
          ]
        },
        {
          "output_type": "execute_result",
          "data": {
            "text/plain": [
              "[(1, 'William Shakespeare', '555-1212', 'will@globe.uk.com', '1727795894'),\n",
              " (2, 'Thomas Mann', '555-1212', 'a@a.com', '1727795925')]"
            ],
            "text/html": [
              "<table>\n",
              "    <thead>\n",
              "        <tr>\n",
              "            <th>studentnumber</th>\n",
              "            <th>studentname</th>\n",
              "            <th>phonenumber</th>\n",
              "            <th>email</th>\n",
              "            <th>datecreated</th>\n",
              "        </tr>\n",
              "    </thead>\n",
              "    <tbody>\n",
              "        <tr>\n",
              "            <td>1</td>\n",
              "            <td>William Shakespeare</td>\n",
              "            <td>555-1212</td>\n",
              "            <td>will@globe.uk.com</td>\n",
              "            <td>1727795894</td>\n",
              "        </tr>\n",
              "        <tr>\n",
              "            <td>2</td>\n",
              "            <td>Thomas Mann</td>\n",
              "            <td>555-1212</td>\n",
              "            <td>a@a.com</td>\n",
              "            <td>1727795925</td>\n",
              "        </tr>\n",
              "    </tbody>\n",
              "</table>"
            ]
          },
          "metadata": {},
          "execution_count": 10
        }
      ]
    },
    {
      "cell_type": "code",
      "source": [
        "# find by column value\n",
        "\n",
        "%%sql\n",
        "\n",
        "select * from students where email=\"a@a.com\";"
      ],
      "metadata": {
        "colab": {
          "base_uri": "https://localhost:8080/",
          "height": 96
        },
        "id": "DPb8s6huqwvg",
        "outputId": "6c4abab0-de68-447f-f310-442a91cbdb5d"
      },
      "execution_count": 11,
      "outputs": [
        {
          "output_type": "stream",
          "name": "stdout",
          "text": [
            " * sqlite:///students.db\n",
            "Done.\n"
          ]
        },
        {
          "output_type": "execute_result",
          "data": {
            "text/plain": [
              "[(2, 'Thomas Mann', '555-1212', 'a@a.com', '1727795925')]"
            ],
            "text/html": [
              "<table>\n",
              "    <thead>\n",
              "        <tr>\n",
              "            <th>studentnumber</th>\n",
              "            <th>studentname</th>\n",
              "            <th>phonenumber</th>\n",
              "            <th>email</th>\n",
              "            <th>datecreated</th>\n",
              "        </tr>\n",
              "    </thead>\n",
              "    <tbody>\n",
              "        <tr>\n",
              "            <td>2</td>\n",
              "            <td>Thomas Mann</td>\n",
              "            <td>555-1212</td>\n",
              "            <td>a@a.com</td>\n",
              "            <td>1727795925</td>\n",
              "        </tr>\n",
              "    </tbody>\n",
              "</table>"
            ]
          },
          "metadata": {},
          "execution_count": 11
        }
      ]
    },
    {
      "cell_type": "code",
      "source": [
        "import sqlite3\n",
        "\n",
        "\n",
        "# connect to the database students.db.  if it does not exist then create it\n",
        "\n",
        "conn = sqlite3.connect(\"students.db\")\n",
        "\n",
        "# cursor is like a list of rows.  you go forward, backup, etc.\n",
        "\n",
        "cursor = conn.cursor()\n",
        "\n",
        "sql=\"select * from students\";\n",
        "\n",
        "\n",
        "# there is no assignment operator.  it operators on itself.\n",
        "# in otherwords customer.execute() updates cursor\n",
        "\n",
        "cursor.execute(sql)\n",
        "\n"
      ],
      "metadata": {
        "colab": {
          "base_uri": "https://localhost:8080/"
        },
        "id": "Fj5Ks5BJq549",
        "outputId": "27467787-f974-437a-882f-f5a074b3f7da"
      },
      "execution_count": 12,
      "outputs": [
        {
          "output_type": "execute_result",
          "data": {
            "text/plain": [
              "<sqlite3.Cursor at 0x7bb283b28cc0>"
            ]
          },
          "metadata": {},
          "execution_count": 12
        }
      ]
    },
    {
      "cell_type": "code",
      "source": [
        "# fetch it.  means go get it\n",
        "# go get all rows\n",
        "\n",
        "rows = cursor.fetchall()"
      ],
      "metadata": {
        "id": "Lv1EIgT8rWAd"
      },
      "execution_count": 13,
      "outputs": []
    },
    {
      "cell_type": "code",
      "source": [
        "type(rows)"
      ],
      "metadata": {
        "colab": {
          "base_uri": "https://localhost:8080/"
        },
        "id": "l64Sjnmlrl2J",
        "outputId": "16cefca9-4568-4fc3-f46e-d5573bf312c2"
      },
      "execution_count": 14,
      "outputs": [
        {
          "output_type": "execute_result",
          "data": {
            "text/plain": [
              "list"
            ]
          },
          "metadata": {},
          "execution_count": 14
        }
      ]
    },
    {
      "cell_type": "code",
      "source": [
        "for row in rows:\n",
        "  print(row)\n",
        ""
      ],
      "metadata": {
        "colab": {
          "base_uri": "https://localhost:8080/"
        },
        "id": "oPN5PgNNrpE1",
        "outputId": "3d79a68c-17e2-460e-dbb6-9a0dd04c38b4"
      },
      "execution_count": 15,
      "outputs": [
        {
          "output_type": "stream",
          "name": "stdout",
          "text": [
            "(1, 'William Shakespeare', '555-1212', 'will@globe.uk.com', '1727795894')\n",
            "(2, 'Thomas Mann', '555-1212', 'a@a.com', '1727795925')\n"
          ]
        }
      ]
    },
    {
      "cell_type": "code",
      "source": [
        "# parentheses\n",
        "\n",
        "t=(1, 'William Shakespeare', '555-1212', 'will@globe.uk.com', '1727795894')\n",
        "\n",
        "t[0], t[1]\n",
        "\n"
      ],
      "metadata": {
        "colab": {
          "base_uri": "https://localhost:8080/"
        },
        "id": "fWKYoAhTr1kA",
        "outputId": "490aeb7a-a4f5-4dc1-89bb-bf118907a5b6"
      },
      "execution_count": 19,
      "outputs": [
        {
          "output_type": "execute_result",
          "data": {
            "text/plain": [
              "(1, 'William Shakespeare')"
            ]
          },
          "metadata": {},
          "execution_count": 19
        }
      ]
    },
    {
      "cell_type": "code",
      "source": [
        "for row in rows:\n",
        "  print(row[1], \" student number is \", row[0])\n"
      ],
      "metadata": {
        "colab": {
          "base_uri": "https://localhost:8080/"
        },
        "id": "ePz5ABXcsKko",
        "outputId": "78f74fe2-8ed5-4562-8343-9f63bd08a471"
      },
      "execution_count": 18,
      "outputs": [
        {
          "output_type": "stream",
          "name": "stdout",
          "text": [
            "William Shakespeare  student number is  1\n",
            "Thomas Mann  student number is  2\n"
          ]
        }
      ]
    },
    {
      "cell_type": "code",
      "source": [
        "%%sql\n",
        "\n",
        "delete from students;"
      ],
      "metadata": {
        "colab": {
          "base_uri": "https://localhost:8080/"
        },
        "id": "txq3D-2hsxUu",
        "outputId": "8b0b1629-4ce7-44e4-cbc8-8d8ad526a433"
      },
      "execution_count": 21,
      "outputs": [
        {
          "output_type": "stream",
          "name": "stdout",
          "text": [
            " * sqlite:///students.db\n",
            "2 rows affected.\n"
          ]
        },
        {
          "output_type": "execute_result",
          "data": {
            "text/plain": [
              "[]"
            ]
          },
          "metadata": {},
          "execution_count": 21
        }
      ]
    },
    {
      "cell_type": "code",
      "source": [
        "%%sql\n",
        "\n",
        "select * from students;\n"
      ],
      "metadata": {
        "colab": {
          "base_uri": "https://localhost:8080/",
          "height": 182
        },
        "id": "P8oDH4bss7mZ",
        "outputId": "82dd3818-1c3e-4ffe-e5eb-40aac76ff92c"
      },
      "execution_count": 29,
      "outputs": [
        {
          "output_type": "stream",
          "name": "stdout",
          "text": [
            " * sqlite:///students.db\n",
            "Done.\n"
          ]
        },
        {
          "output_type": "execute_result",
          "data": {
            "text/plain": [
              "[(3, 'Thomas Mann', '555-1212', 'a@a.com', '1727796684'),\n",
              " (4, 'Thomas Mann', '555-1212', 'a@a.com', '1727796687'),\n",
              " (5, 'Thomas Mann', '555-1212', 'a@a.com', '1727796690'),\n",
              " (6, 'William Shakespeare', '555-1212', 'will@globe.uk.com', '1727796694'),\n",
              " (7, 'William Shakespeare', '555-1212', 'will@globe.uk.com', '1727796696')]"
            ],
            "text/html": [
              "<table>\n",
              "    <thead>\n",
              "        <tr>\n",
              "            <th>studentnumber</th>\n",
              "            <th>studentname</th>\n",
              "            <th>phonenumber</th>\n",
              "            <th>email</th>\n",
              "            <th>datecreated</th>\n",
              "        </tr>\n",
              "    </thead>\n",
              "    <tbody>\n",
              "        <tr>\n",
              "            <td>3</td>\n",
              "            <td>Thomas Mann</td>\n",
              "            <td>555-1212</td>\n",
              "            <td>a@a.com</td>\n",
              "            <td>1727796684</td>\n",
              "        </tr>\n",
              "        <tr>\n",
              "            <td>4</td>\n",
              "            <td>Thomas Mann</td>\n",
              "            <td>555-1212</td>\n",
              "            <td>a@a.com</td>\n",
              "            <td>1727796687</td>\n",
              "        </tr>\n",
              "        <tr>\n",
              "            <td>5</td>\n",
              "            <td>Thomas Mann</td>\n",
              "            <td>555-1212</td>\n",
              "            <td>a@a.com</td>\n",
              "            <td>1727796690</td>\n",
              "        </tr>\n",
              "        <tr>\n",
              "            <td>6</td>\n",
              "            <td>William Shakespeare</td>\n",
              "            <td>555-1212</td>\n",
              "            <td>will@globe.uk.com</td>\n",
              "            <td>1727796694</td>\n",
              "        </tr>\n",
              "        <tr>\n",
              "            <td>7</td>\n",
              "            <td>William Shakespeare</td>\n",
              "            <td>555-1212</td>\n",
              "            <td>will@globe.uk.com</td>\n",
              "            <td>1727796696</td>\n",
              "        </tr>\n",
              "    </tbody>\n",
              "</table>"
            ]
          },
          "metadata": {},
          "execution_count": 29
        }
      ]
    },
    {
      "cell_type": "code",
      "source": [
        "# update data\n",
        "\n",
        "# update\n",
        "# set meaning change\n",
        "# where\n",
        "\n",
        "\n",
        "%%sql\n",
        "\n",
        "UPDATE students\n",
        "SET studentname = \"David Foster Wallace\"\n",
        "WHERE email = \"a@a.com\";\n"
      ],
      "metadata": {
        "colab": {
          "base_uri": "https://localhost:8080/"
        },
        "id": "wCPSXptdtcAj",
        "outputId": "ababf469-8023-49e1-e921-a97847cc2bb5"
      },
      "execution_count": 30,
      "outputs": [
        {
          "output_type": "stream",
          "name": "stdout",
          "text": [
            " * sqlite:///students.db\n",
            "3 rows affected.\n"
          ]
        },
        {
          "output_type": "execute_result",
          "data": {
            "text/plain": [
              "[]"
            ]
          },
          "metadata": {},
          "execution_count": 30
        }
      ]
    },
    {
      "cell_type": "code",
      "source": [
        "%%sql\n",
        "\n",
        "select * from students;"
      ],
      "metadata": {
        "colab": {
          "base_uri": "https://localhost:8080/",
          "height": 182
        },
        "id": "TFDnvVrktpIS",
        "outputId": "b9cba6dc-78d2-4363-c337-d2311f01de30"
      },
      "execution_count": 31,
      "outputs": [
        {
          "output_type": "stream",
          "name": "stdout",
          "text": [
            " * sqlite:///students.db\n",
            "Done.\n"
          ]
        },
        {
          "output_type": "execute_result",
          "data": {
            "text/plain": [
              "[(3, 'David Foster Wallace', '555-1212', 'a@a.com', '1727796684'),\n",
              " (4, 'David Foster Wallace', '555-1212', 'a@a.com', '1727796687'),\n",
              " (5, 'David Foster Wallace', '555-1212', 'a@a.com', '1727796690'),\n",
              " (6, 'William Shakespeare', '555-1212', 'will@globe.uk.com', '1727796694'),\n",
              " (7, 'William Shakespeare', '555-1212', 'will@globe.uk.com', '1727796696')]"
            ],
            "text/html": [
              "<table>\n",
              "    <thead>\n",
              "        <tr>\n",
              "            <th>studentnumber</th>\n",
              "            <th>studentname</th>\n",
              "            <th>phonenumber</th>\n",
              "            <th>email</th>\n",
              "            <th>datecreated</th>\n",
              "        </tr>\n",
              "    </thead>\n",
              "    <tbody>\n",
              "        <tr>\n",
              "            <td>3</td>\n",
              "            <td>David Foster Wallace</td>\n",
              "            <td>555-1212</td>\n",
              "            <td>a@a.com</td>\n",
              "            <td>1727796684</td>\n",
              "        </tr>\n",
              "        <tr>\n",
              "            <td>4</td>\n",
              "            <td>David Foster Wallace</td>\n",
              "            <td>555-1212</td>\n",
              "            <td>a@a.com</td>\n",
              "            <td>1727796687</td>\n",
              "        </tr>\n",
              "        <tr>\n",
              "            <td>5</td>\n",
              "            <td>David Foster Wallace</td>\n",
              "            <td>555-1212</td>\n",
              "            <td>a@a.com</td>\n",
              "            <td>1727796690</td>\n",
              "        </tr>\n",
              "        <tr>\n",
              "            <td>6</td>\n",
              "            <td>William Shakespeare</td>\n",
              "            <td>555-1212</td>\n",
              "            <td>will@globe.uk.com</td>\n",
              "            <td>1727796694</td>\n",
              "        </tr>\n",
              "        <tr>\n",
              "            <td>7</td>\n",
              "            <td>William Shakespeare</td>\n",
              "            <td>555-1212</td>\n",
              "            <td>will@globe.uk.com</td>\n",
              "            <td>1727796696</td>\n",
              "        </tr>\n",
              "    </tbody>\n",
              "</table>"
            ]
          },
          "metadata": {},
          "execution_count": 31
        }
      ]
    },
    {
      "cell_type": "code",
      "source": [
        "# delete whole table\n",
        "\n",
        "%%sql\n",
        "\n",
        "drop table students"
      ],
      "metadata": {
        "colab": {
          "base_uri": "https://localhost:8080/"
        },
        "id": "nB0KMmknt8j4",
        "outputId": "2d3de136-256a-4986-b44d-2b87cea38cdc"
      },
      "execution_count": 32,
      "outputs": [
        {
          "output_type": "stream",
          "name": "stdout",
          "text": [
            " * sqlite:///students.db\n",
            "Done.\n"
          ]
        },
        {
          "output_type": "execute_result",
          "data": {
            "text/plain": [
              "[]"
            ]
          },
          "metadata": {},
          "execution_count": 32
        }
      ]
    },
    {
      "cell_type": "markdown",
      "source": [
        "# Homework\n",
        "\n",
        "1.  Create a table.  Anything that is interesting.  Like for example, people on your football team.  Of members of your family.\n",
        "\n",
        "* name\n",
        "* age\n",
        "* favorite food\n",
        "\n",
        "2.  Do all the commands I did above.  So add them, search for them, delete them.\n",
        "\n",
        "\n",
        "\n"
      ],
      "metadata": {
        "id": "lu4ePpmwt-2n"
      }
    }
  ]
}