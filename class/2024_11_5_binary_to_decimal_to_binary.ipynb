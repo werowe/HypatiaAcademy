{
  "nbformat": 4,
  "nbformat_minor": 0,
  "metadata": {
    "colab": {
      "provenance": [],
      "authorship_tag": "ABX9TyNr2bqe+MWqx+aFsD4K7Phu",
      "include_colab_link": true
    },
    "kernelspec": {
      "name": "python3",
      "display_name": "Python 3"
    },
    "language_info": {
      "name": "python"
    }
  },
  "cells": [
    {
      "cell_type": "markdown",
      "metadata": {
        "id": "view-in-github",
        "colab_type": "text"
      },
      "source": [
        "<a href=\"https://colab.research.google.com/github/werowe/HypatiaAcademy/blob/master/class/2024_11_5_binary_to_decimal_to_binary.ipynb\" target=\"_parent\"><img src=\"https://colab.research.google.com/assets/colab-badge.svg\" alt=\"Open In Colab\"/></a>"
      ]
    },
    {
      "cell_type": "code",
      "execution_count": 1,
      "metadata": {
        "colab": {
          "base_uri": "https://localhost:8080/",
          "height": 35
        },
        "id": "vywrk9EArzXt",
        "outputId": "aca297a2-f996-4bf8-8a4e-5cd03a4a19c5"
      },
      "outputs": [
        {
          "output_type": "execute_result",
          "data": {
            "text/plain": [
              "'0b11'"
            ],
            "application/vnd.google.colaboratory.intrinsic+json": {
              "type": "string"
            }
          },
          "metadata": {},
          "execution_count": 1
        }
      ],
      "source": [
        "# python built in function convert decimal to bin\n",
        "\n",
        "bin(3)\n"
      ]
    },
    {
      "cell_type": "code",
      "source": [
        "3==1*2**1 + 1*2**0"
      ],
      "metadata": {
        "colab": {
          "base_uri": "https://localhost:8080/"
        },
        "id": "f-A80zQesFMt",
        "outputId": "680bde97-d184-4be5-ba11-9ea5f779e726"
      },
      "execution_count": 6,
      "outputs": [
        {
          "output_type": "execute_result",
          "data": {
            "text/plain": [
              "True"
            ]
          },
          "metadata": {},
          "execution_count": 6
        }
      ]
    },
    {
      "cell_type": "code",
      "source": [
        "# error.  ^ in Python is the bitshift operator\n",
        "# what we wanted is **\n",
        "# in google sheets ^ means exponent\n",
        "\n",
        "1*2^1"
      ],
      "metadata": {
        "colab": {
          "base_uri": "https://localhost:8080/"
        },
        "id": "xrdJrpPysSS1",
        "outputId": "55972267-876f-4e0b-bcc6-00a7e49cdded"
      },
      "execution_count": 4,
      "outputs": [
        {
          "output_type": "execute_result",
          "data": {
            "text/plain": [
              "3"
            ]
          },
          "metadata": {},
          "execution_count": 4
        }
      ]
    },
    {
      "cell_type": "code",
      "source": [
        "# conver it back to an integer\n",
        "\n",
        "int('0b11',2)"
      ],
      "metadata": {
        "colab": {
          "base_uri": "https://localhost:8080/"
        },
        "id": "ms6MRzqVsW6J",
        "outputId": "d45091f4-81d4-4e03-d1cd-f187c7110423"
      },
      "execution_count": 7,
      "outputs": [
        {
          "output_type": "execute_result",
          "data": {
            "text/plain": [
              "3"
            ]
          },
          "metadata": {},
          "execution_count": 7
        }
      ]
    },
    {
      "cell_type": "code",
      "source": [
        "# rules.  binary numbers are written is 8 digits\n",
        "# one byte in a computer in the ASCII character set is 8 bits\n",
        "\n",
        "int('0b11111111',2)\n"
      ],
      "metadata": {
        "colab": {
          "base_uri": "https://localhost:8080/"
        },
        "id": "xDsOyztos5Us",
        "outputId": "5daf0412-471a-4d62-ec9a-d902f4b6a249"
      },
      "execution_count": 8,
      "outputs": [
        {
          "output_type": "execute_result",
          "data": {
            "text/plain": [
              "255"
            ]
          },
          "metadata": {},
          "execution_count": 8
        }
      ]
    },
    {
      "cell_type": "code",
      "source": [
        "# polynomial is something like x**3 + x**2 + x + 4\n",
        "# x**3 is the higher order number\n",
        "\n",
        "i = 7\n",
        "\n",
        "for d in '11111111':\n",
        "  print('digit={}, exponent{}'.format(d, i))\n",
        "  i -= 1\n",
        "\n",
        "\n",
        "\n"
      ],
      "metadata": {
        "colab": {
          "base_uri": "https://localhost:8080/"
        },
        "id": "vETFbPCTtMl9",
        "outputId": "c085ed16-3327-41f4-925a-330bb91846ff"
      },
      "execution_count": 9,
      "outputs": [
        {
          "output_type": "stream",
          "name": "stdout",
          "text": [
            "digit=1, exponent7\n",
            "digit=1, exponent6\n",
            "digit=1, exponent5\n",
            "digit=1, exponent4\n",
            "digit=1, exponent3\n",
            "digit=1, exponent2\n",
            "digit=1, exponent1\n",
            "digit=1, exponent0\n"
          ]
        }
      ]
    },
    {
      "cell_type": "code",
      "source": [
        "3==1*2**1 + 1*2**0"
      ],
      "metadata": {
        "id": "gL6ZOGF2uAdL"
      },
      "execution_count": null,
      "outputs": []
    },
    {
      "cell_type": "code",
      "source": [
        "i = 7\n",
        "\n",
        "for d in '00000011':\n",
        "  print('digit={}, exponent{}'.format(d, i))\n",
        "  i -= 1\n"
      ],
      "metadata": {
        "colab": {
          "base_uri": "https://localhost:8080/"
        },
        "id": "0pzo6HhAuHZG",
        "outputId": "106cdd55-2ed5-4743-b594-67e35a3fc677"
      },
      "execution_count": 10,
      "outputs": [
        {
          "output_type": "stream",
          "name": "stdout",
          "text": [
            "digit=0, exponent7\n",
            "digit=0, exponent6\n",
            "digit=0, exponent5\n",
            "digit=0, exponent4\n",
            "digit=0, exponent3\n",
            "digit=0, exponent2\n",
            "digit=1, exponent1\n",
            "digit=1, exponent0\n"
          ]
        }
      ]
    },
    {
      "cell_type": "code",
      "source": [
        "2**7"
      ],
      "metadata": {
        "colab": {
          "base_uri": "https://localhost:8080/"
        },
        "id": "pZu-1VwxuSJr",
        "outputId": "e6dec73c-cda3-4534-8fd7-b59e2ef0e87f"
      },
      "execution_count": 11,
      "outputs": [
        {
          "output_type": "execute_result",
          "data": {
            "text/plain": [
              "128"
            ]
          },
          "metadata": {},
          "execution_count": 11
        }
      ]
    },
    {
      "cell_type": "code",
      "source": [
        "i = 7\n",
        "\n",
        "b='10000000'\n",
        "\n",
        "for d in b:\n",
        "  if len(b) != 8:\n",
        "      print(\"must be 8 digits\")\n",
        "      break\n",
        "  print('digit={}, exponent{}'.format(d, i))\n",
        "  i -= 1"
      ],
      "metadata": {
        "colab": {
          "base_uri": "https://localhost:8080/"
        },
        "id": "4W4xxS5buWom",
        "outputId": "c4b22083-e4df-43d2-a7d4-076904cdabdd"
      },
      "execution_count": 17,
      "outputs": [
        {
          "output_type": "stream",
          "name": "stdout",
          "text": [
            "digit=1, exponent7\n",
            "digit=0, exponent6\n",
            "digit=0, exponent5\n",
            "digit=0, exponent4\n",
            "digit=0, exponent3\n",
            "digit=0, exponent2\n",
            "digit=0, exponent1\n",
            "digit=0, exponent0\n"
          ]
        }
      ]
    },
    {
      "cell_type": "code",
      "source": [
        "# that says 1 * 2**7"
      ],
      "metadata": {
        "id": "8HVX4eq9ug2o"
      },
      "execution_count": null,
      "outputs": []
    },
    {
      "cell_type": "markdown",
      "source": [
        "#HOMEWORK I\n",
        "\n",
        "Finish the code above or write your own to convert binary to decimal\n"
      ],
      "metadata": {
        "id": "Nmz5HTTquyw8"
      }
    },
    {
      "cell_type": "markdown",
      "source": [
        "#HOMEWORK II\n",
        "\n",
        "Convert decimal to binary, i.e., go the other way\n",
        "\n",
        "Try the code you wrote for decimal to hex and change the division to calculate the remainder to be n / 2 instead of n / 16\n",
        "\n",
        "Make up your own algorithm or see if [this one](https://github.com/werowe/HypatiaAcademy/blob/master/class/2024_11_15_left_to_right_convert_decimal_to_hex.ipynb) works when you change 16 to 2\n",
        "\n"
      ],
      "metadata": {
        "id": "irdgcdvavVcv"
      }
    },
    {
      "cell_type": "code",
      "source": [
        "# this is the hard one to understand\n",
        "\n",
        "# if you want to understand this one then you can get the algorithm from the top of here https://github.com/werowe/HypatiaAcademy/blob/master/basics/decimal_to_hex.ipynb\n",
        "\n",
        "\n",
        "import math\n",
        "\n",
        "\n",
        "toConvert=7\n",
        "answer=toConvert\n",
        "remainder=answer\n",
        "\n",
        "bin=['0','0','0','0','0','0','0','0']\n",
        "\n",
        "\n",
        "def toDecimal(answer):\n",
        "\n",
        "    exponent=int(math.log(answer,2))\n",
        "    print(\"answer %i log 2 = %i\" % (answer,exponent), end=\" \")\n",
        "    position=7-exponent\n",
        "    bin[position]=str(1)\n",
        "    remainder=answer-2**exponent\n",
        "    print(\"remainder=\", remainder, end=\" \")\n",
        "    print(\" array position=\", position, end=\" \")\n",
        "    print(\"update bit \", bin, \"\\n\")\n",
        "    return remainder\n",
        "\n",
        "\n",
        "if toConvert > 255:\n",
        "  print(\"max number is 255\")\n",
        "else:\n",
        "  while (answer > 0):\n",
        "    answer = toDecimal(answer)"
      ],
      "metadata": {
        "colab": {
          "base_uri": "https://localhost:8080/"
        },
        "id": "hSdQaNBwvo2B",
        "outputId": "05e8f50f-35c0-430c-e75e-9439e142e31c"
      },
      "execution_count": 19,
      "outputs": [
        {
          "output_type": "stream",
          "name": "stdout",
          "text": [
            "answer 7 log 2 = 2 remainder= 3  array position= 5 update bit  ['0', '0', '0', '0', '0', '1', '0', '0'] \n",
            "\n",
            "answer 3 log 2 = 1 remainder= 1  array position= 6 update bit  ['0', '0', '0', '0', '0', '1', '1', '0'] \n",
            "\n",
            "answer 1 log 2 = 0 remainder= 0  array position= 7 update bit  ['0', '0', '0', '0', '0', '1', '1', '1'] \n",
            "\n"
          ]
        }
      ]
    },
    {
      "cell_type": "code",
      "source": [
        "# why do we do logarithm\n",
        "\n",
        "# if we have for example 77\n",
        "\n",
        "# then I know the higher order digit is 6\n",
        "# meaning the first number is going to be a * 2**6\n",
        "\n",
        "\n",
        "math.log(77,2)"
      ],
      "metadata": {
        "colab": {
          "base_uri": "https://localhost:8080/"
        },
        "id": "eepYBD4SwGtm",
        "outputId": "870eccd0-c005-4812-b209-2908e2b5e4a6"
      },
      "execution_count": 20,
      "outputs": [
        {
          "output_type": "execute_result",
          "data": {
            "text/plain": [
              "6.266786540694902"
            ]
          },
          "metadata": {},
          "execution_count": 20
        }
      ]
    },
    {
      "cell_type": "code",
      "source": [
        "# it basically means how many times you need to loop\n",
        "\n",
        "2**6.266786540694902"
      ],
      "metadata": {
        "colab": {
          "base_uri": "https://localhost:8080/"
        },
        "id": "OJ-uYQ9bwYdq",
        "outputId": "30a6cf57-41a6-4e2f-b2b5-3187db1dc00d"
      },
      "execution_count": 22,
      "outputs": [
        {
          "output_type": "execute_result",
          "data": {
            "text/plain": [
              "77.00000000000003"
            ]
          },
          "metadata": {},
          "execution_count": 22
        }
      ]
    },
    {
      "cell_type": "code",
      "source": [],
      "metadata": {
        "id": "aCW2XaYfxMJb"
      },
      "execution_count": null,
      "outputs": []
    }
  ]
}