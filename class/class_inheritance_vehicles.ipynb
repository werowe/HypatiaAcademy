{
  "nbformat": 4,
  "nbformat_minor": 0,
  "metadata": {
    "colab": {
      "provenance": [],
      "authorship_tag": "ABX9TyNG1QHswac4BO6g9m5T+y4E",
      "include_colab_link": true
    },
    "kernelspec": {
      "name": "python3",
      "display_name": "Python 3"
    },
    "language_info": {
      "name": "python"
    }
  },
  "cells": [
    {
      "cell_type": "markdown",
      "metadata": {
        "id": "view-in-github",
        "colab_type": "text"
      },
      "source": [
        "<a href=\"https://colab.research.google.com/github/werowe/HypatiaAcademy/blob/master/class/class_inheritance_vehicles.ipynb\" target=\"_parent\"><img src=\"https://colab.research.google.com/assets/colab-badge.svg\" alt=\"Open In Colab\"/></a>"
      ]
    },
    {
      "cell_type": "code",
      "execution_count": null,
      "metadata": {
        "id": "Ug2OGQ1lvxN1"
      },
      "outputs": [],
      "source": [
        "from enum import Enum\n",
        "\n",
        "\n",
        "class Color(Enum):\n",
        "  BLUE = 1,\n",
        "  BLACK = 2,\n",
        "  RED = 3,\n",
        "  YELLOW = 4\n",
        "\n",
        "class Transmission(Enum):\n",
        "  MANUAL = 1,\n",
        "  AUTOMATIC = 2\n",
        "\n",
        "class Fuel(Enum):\n",
        "    ELECTRIC = 1\n",
        "    GASOLINE = 2\n",
        "    DIESEL = 3\n",
        "    HYBRID = 4\n",
        "\n",
        "\n",
        "class Location:\n",
        "\n",
        "# We will use Kiev, Ukraine as our default location.  Then for each vehicle we will implement a drive() method.  By having default values in the constructor for location we do not have to specify a value when we create a vehile.\n",
        "#\n",
        "# Here is the longitude and latitude for Ukraine given in degrees in decimal noation (as opposed minutes and seconds)\n",
        "#\n",
        "# Ukraine  Latitude: 50.4501\n",
        "#Longitude: 30.5234\n",
        "\n",
        "\n",
        "# decimal.   hours, minutes, second.  convert to decimal\n",
        "\n",
        "  def __init__(self, longitude=30.5234, latitude=50.4501):\n",
        "\n",
        "    self.longitude = longitude\n",
        "    self.latitude = latitude\n",
        "\n",
        " # long -- up and down\n",
        " # latitude--across\n",
        "\n",
        "\n",
        "# base class\n",
        "class Vehicle:\n",
        "\n",
        "  #constructor.\n",
        "\n",
        "  # class Something -- this is class definition.\n",
        "\n",
        "  # something = Something() this now becomes and object or an instance a Something.  When you create a class it runs the constructor.  That gives it is default values\n",
        "\n",
        "  # give fuelType default value to make it optional\n",
        "\n",
        "\n",
        "  def __init__(self, manufacturer, model, year, color, fuelType=None):\n",
        "        self.manufacturer = manufacturer\n",
        "        self.model = model\n",
        "        self.year = year\n",
        "        self.color = color\n",
        "        self.running = False\n",
        "        # this means run the function Location.  It is standalone class that sets the location to the default value of Kiev.\n",
        "        self.location = Location()\n",
        "\n",
        "  def start(self):\n",
        "      self.running = True\n",
        "\n",
        "  def stop(self):\n",
        "      self.running = False\n",
        "\n",
        "  # calculate the new location based upon directory, speed, and time\n",
        "\n",
        "  # if you __repr__ that will overrinde the print() function to print it like you want.  toString() is how you do it in JavaScript\n",
        "\n",
        "  # this lets you check whether two objects are the same.  car 1 == car2\n",
        "  # if you do not do this.  it will test whether both object are at the same\n",
        "  # memory address<--doing this is not what we do.\n",
        "\n",
        "  def __eq__(self, model, year):\n",
        "    # return self.model == model and self.year == year\n",
        "    pass\n",
        "\n",
        "\n",
        "  def __repr__(self):\n",
        "\n",
        "    return \"our {} is at location longitude {} and latitude {}\".format(type(self), self.location.longitude, self.location.latitude)\n",
        "\n",
        "  def drive(self, direction, speed, time):\n",
        "\n",
        "    # go look in chatGPT to write python code to calculate new location from old location in longtitude and latitude in decimal notation given direction in degrees, speed in kilometers per hours, and time in second\n",
        "\n",
        "\n",
        "   # existing location + (rate * time) + direction (compass 0 degrees , 180 degrees)\n",
        "    pass\n",
        "\n",
        "\n",
        "# inherited class\n",
        "\n",
        "# extend Cars.  Here we say Cars are derived from Vehicle.  So everything that a Vehicle has so does a car.\n",
        "\n",
        "class Car(Vehicle):\n",
        "\n",
        "    # constructor\n",
        "\n",
        "\n",
        "    def __init__(self, manufacturer, model, year, color, fuelType='XXX'):\n",
        "        # Initialize parent class (vehicle) with 4 parameters\n",
        "        # notice the word super().  That means the class that you are extending from\n",
        "\n",
        "        # suppose only cars have transmissions.  then we do not need to pass\n",
        "        # transmission to super() because vehicles don't have transmissions\n",
        "\n",
        "        super().__init__(manufacturer, model, year, color)\n",
        "\n",
        "        # Set additional attributes specific to Car\n",
        "        self.fuelType=fuelType\n"
      ]
    },
    {
      "cell_type": "code",
      "source": [
        "\n",
        "class ElectricCar(Car):\n",
        "\n",
        "     def __init__(self, manufacturer, model, year, color):\n",
        "        # Initialize parent class (vehicle) with 4 parameters\n",
        "        # notice the word super().  That means the class that you are extending from\n",
        "\n",
        "\n",
        "        # suppose only cars have transmissions.  then we do not need to pass\n",
        "        # transmission to super() because vehicles don't have transmissions\n",
        "\n",
        "        super().__init__(manufacturer, model, year, color)\n",
        "\n",
        "        self.amps = 0\n",
        "        self.wheels = []\n",
        "\n",
        "\n",
        "     # Java would have what are getters and setters\n",
        "     # that means you cannot update the object directly.  Java say\n",
        "     # all member variables are private\n",
        "\n",
        "     def setBattery(self,battery):\n",
        "        self.battery=battery\n",
        "\n",
        "     # existing charge + how much you added\n",
        "     # amps\n",
        "\n",
        "     def chargeBattery(self,amps):\n",
        "\n",
        "      # unary operation meaning one operates on itself\n",
        "      # this is short notation for  self.amps = self.amps + amps\n",
        "\n",
        "        self.amps += amps"
      ],
      "metadata": {
        "id": "TCm8i53ZIe8C"
      },
      "execution_count": null,
      "outputs": []
    },
    {
      "cell_type": "code",
      "source": [
        "\n",
        "class Bus(Vehicle):\n",
        "\n",
        "    # constructor\n",
        "\n",
        "    hasLift=False\n",
        "\n",
        "    def __init__(self, manufacturer, model, year, color, fuelType):\n",
        "        # Initialize parent class (vehicle) with 4 parameters\n",
        "        # notice the word super().  That means the class that you are extending from\n",
        "\n",
        "\n",
        "        # suppose only cars have transmissions.  then we do not need to pass\n",
        "        # transmission to super() because vehicles don't have transmissions\n",
        "\n",
        "        super().__init__(manufacturer, model, year, color, fuelType)"
      ],
      "metadata": {
        "id": "FIhte8HP26hh"
      },
      "execution_count": null,
      "outputs": []
    },
    {
      "cell_type": "code",
      "source": [
        "\n",
        "teslaModelS = ElectricCar(\"Tesla\", \"Model S\", 2020, Color.BLUE)\n",
        "teslaModelS.start()\n",
        "print(teslaModelS)\n"
      ],
      "metadata": {
        "id": "ppFFPN04wnvr",
        "colab": {
          "base_uri": "https://localhost:8080/"
        },
        "outputId": "fedd9838-1a69-4198-d439-5ffccdcb7c1f"
      },
      "execution_count": null,
      "outputs": [
        {
          "output_type": "stream",
          "name": "stdout",
          "text": [
            "our <class '__main__.ElectricCar'> is at location longitude 30.5234 and latitude 50.4501\n"
          ]
        }
      ]
    },
    {
      "cell_type": "code",
      "source": [
        "teslaModelS.setBattery(\"100 amp\")"
      ],
      "metadata": {
        "id": "INirD5VFSWxm"
      },
      "execution_count": null,
      "outputs": []
    },
    {
      "cell_type": "code",
      "source": [
        "teslaModelS.battery"
      ],
      "metadata": {
        "colab": {
          "base_uri": "https://localhost:8080/",
          "height": 35
        },
        "id": "EWVhbfA4Sf2c",
        "outputId": "94111547-2514-4bb1-fe0e-9993a60450fd"
      },
      "execution_count": null,
      "outputs": [
        {
          "output_type": "execute_result",
          "data": {
            "text/plain": [
              "'100 amp'"
            ],
            "application/vnd.google.colaboratory.intrinsic+json": {
              "type": "string"
            }
          },
          "metadata": {},
          "execution_count": 10
        }
      ]
    },
    {
      "cell_type": "code",
      "source": [
        "# 100 amps\n",
        "\n",
        "teslaModelS.chargeBattery(100)\n"
      ],
      "metadata": {
        "colab": {
          "base_uri": "https://localhost:8080/",
          "height": 263
        },
        "id": "8lM5LuIzUC9M",
        "outputId": "31d343a9-c713-4a29-a9f5-a2071b9adba8"
      },
      "execution_count": null,
      "outputs": [
        {
          "output_type": "error",
          "ename": "AttributeError",
          "evalue": "'ElectricCar' object has no attribute 'volts'",
          "traceback": [
            "\u001b[0;31m---------------------------------------------------------------------------\u001b[0m",
            "\u001b[0;31mAttributeError\u001b[0m                            Traceback (most recent call last)",
            "\u001b[0;32m<ipython-input-22-bbffbf357e6a>\u001b[0m in \u001b[0;36m<cell line: 3>\u001b[0;34m()\u001b[0m\n\u001b[1;32m      1\u001b[0m \u001b[0;31m# 100 amps\u001b[0m\u001b[0;34m\u001b[0m\u001b[0;34m\u001b[0m\u001b[0m\n\u001b[1;32m      2\u001b[0m \u001b[0;34m\u001b[0m\u001b[0m\n\u001b[0;32m----> 3\u001b[0;31m \u001b[0mteslaModelS\u001b[0m\u001b[0;34m.\u001b[0m\u001b[0mchargeBattery\u001b[0m\u001b[0;34m(\u001b[0m\u001b[0;36m100\u001b[0m\u001b[0;34m)\u001b[0m\u001b[0;34m\u001b[0m\u001b[0;34m\u001b[0m\u001b[0m\n\u001b[0m",
            "\u001b[0;32m<ipython-input-19-09b47f8977fe>\u001b[0m in \u001b[0;36mchargeBattery\u001b[0;34m(self, amps)\u001b[0m\n\u001b[1;32m     24\u001b[0m      \u001b[0;32mdef\u001b[0m \u001b[0mchargeBattery\u001b[0m\u001b[0;34m(\u001b[0m\u001b[0mself\u001b[0m\u001b[0;34m,\u001b[0m\u001b[0mamps\u001b[0m\u001b[0;34m)\u001b[0m\u001b[0;34m:\u001b[0m\u001b[0;34m\u001b[0m\u001b[0;34m\u001b[0m\u001b[0m\n\u001b[1;32m     25\u001b[0m \u001b[0;34m\u001b[0m\u001b[0m\n\u001b[0;32m---> 26\u001b[0;31m         \u001b[0mself\u001b[0m\u001b[0;34m.\u001b[0m\u001b[0mvolts\u001b[0m \u001b[0;34m+=\u001b[0m \u001b[0mamps\u001b[0m\u001b[0;34m\u001b[0m\u001b[0;34m\u001b[0m\u001b[0m\n\u001b[0m",
            "\u001b[0;31mAttributeError\u001b[0m: 'ElectricCar' object has no attribute 'volts'"
          ]
        }
      ]
    },
    {
      "cell_type": "code",
      "source": [
        "teslaModelS.battery=\"200 amp\""
      ],
      "metadata": {
        "id": "foHC9-TlSjd3"
      },
      "execution_count": null,
      "outputs": []
    },
    {
      "cell_type": "code",
      "source": [
        "# this lets me create variables on the object\n",
        "\n",
        "teslaModelS.windshield=\"tinted\"\n",
        "\n",
        "\n",
        "# Java is too wordy\n"
      ],
      "metadata": {
        "id": "QpFtToLbSnxg"
      },
      "execution_count": null,
      "outputs": []
    },
    {
      "cell_type": "code",
      "source": [
        "type(teslaModelS)"
      ],
      "metadata": {
        "colab": {
          "base_uri": "https://localhost:8080/",
          "height": 103
        },
        "id": "VjgFBSyWSB1p",
        "outputId": "5cc0b0ba-047c-4306-f7c5-c6cac06084b8"
      },
      "execution_count": null,
      "outputs": [
        {
          "output_type": "execute_result",
          "data": {
            "text/plain": [
              "__main__.ElectricCar"
            ],
            "text/html": [
              "<div style=\"max-width:800px; border: 1px solid var(--colab-border-color);\"><style>\n",
              "      pre.function-repr-contents {\n",
              "        overflow-x: auto;\n",
              "        padding: 8px 12px;\n",
              "        max-height: 500px;\n",
              "      }\n",
              "\n",
              "      pre.function-repr-contents.function-repr-contents-collapsed {\n",
              "        cursor: pointer;\n",
              "        max-height: 100px;\n",
              "      }\n",
              "    </style>\n",
              "    <pre style=\"white-space: initial; background:\n",
              "         var(--colab-secondary-surface-color); padding: 8px 12px;\n",
              "         border-bottom: 1px solid var(--colab-border-color);\"><b>ElectricCar</b><br/>def __init__(manufacturer, model, year, color)</pre><pre class=\"function-repr-contents function-repr-contents-collapsed\" style=\"\"><a class=\"filepath\" style=\"display:none\" href=\"#\"></a>&lt;no docstring&gt;</pre></div>"
            ]
          },
          "metadata": {},
          "execution_count": 8
        }
      ]
    },
    {
      "cell_type": "code",
      "source": [
        "teslaModelS.location.longitude"
      ],
      "metadata": {
        "colab": {
          "base_uri": "https://localhost:8080/"
        },
        "id": "WrIhIFrrsvJ1",
        "outputId": "bf7e54ec-f073-4aa7-915f-97ce9792b827"
      },
      "execution_count": null,
      "outputs": [
        {
          "output_type": "execute_result",
          "data": {
            "text/plain": [
              "30.5234"
            ]
          },
          "metadata": {},
          "execution_count": 5
        }
      ]
    },
    {
      "cell_type": "code",
      "source": [
        "kidsBus = Bus(\"IH\", \"kidsModel2\", 2006, Color.YELLOW, Fuel.DIESEL)\n",
        "\n",
        "\n",
        "# Here we assign attributes to the object outside of the constructor\n",
        "# in other words we can keep the constructor simpler to just create the Vehicle\n",
        "# object then we assign transmission and seats here.  Because electric cars #don't have an engine or transmission and only buses have so many seats\n",
        "\n",
        "kidsBus.transmission=Transmission.AUTOMATIC\n",
        "kidsBus.seats = 75"
      ],
      "metadata": {
        "id": "IAmLXQWz2_a2"
      },
      "execution_count": null,
      "outputs": []
    },
    {
      "cell_type": "code",
      "source": [
        "print(kidsBus)"
      ],
      "metadata": {
        "colab": {
          "base_uri": "https://localhost:8080/"
        },
        "id": "PVe8JGMxS9-U",
        "outputId": "db657695-ce21-4c23-9b4f-269961360f88"
      },
      "execution_count": null,
      "outputs": [
        {
          "output_type": "stream",
          "name": "stdout",
          "text": [
            "our <class '__main__.Bus'> is at location longitude 30.5234 and latitude 50.4501\n"
          ]
        }
      ]
    }
  ]
}