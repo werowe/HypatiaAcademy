{
  "nbformat": 4,
  "nbformat_minor": 0,
  "metadata": {
    "colab": {
      "provenance": [],
      "authorship_tag": "ABX9TyMgWEz9l9Z3JZIBV8MT90l1",
      "include_colab_link": true
    },
    "kernelspec": {
      "name": "python3",
      "display_name": "Python 3"
    },
    "language_info": {
      "name": "python"
    }
  },
  "cells": [
    {
      "cell_type": "markdown",
      "metadata": {
        "id": "view-in-github",
        "colab_type": "text"
      },
      "source": [
        "<a href=\"https://colab.research.google.com/github/werowe/HypatiaAcademy/blob/master/class/adder.ipynb\" target=\"_parent\"><img src=\"https://colab.research.google.com/assets/colab-badge.svg\" alt=\"Open In Colab\"/></a>"
      ]
    },
    {
      "cell_type": "code",
      "execution_count": 74,
      "metadata": {
        "colab": {
          "base_uri": "https://localhost:8080/"
        },
        "id": "JEQU7i9iNdvn",
        "outputId": "76197653-f247-4ca2-d856-234838c39eab"
      },
      "outputs": [
        {
          "output_type": "stream",
          "name": "stdout",
          "text": [
            "\n",
            "remaining items in list=[1, 2, 3, 4, 5, 6, 7, 8] item popped off list=8 sum=8\n",
            "\n",
            "remaining items in list=[1, 2, 3, 4, 5, 6, 7] item popped off list=7 sum=15\n",
            "\n",
            "remaining items in list=[1, 2, 3, 4, 5, 6] item popped off list=6 sum=21\n",
            "\n",
            "remaining items in list=[1, 2, 3, 4, 5] item popped off list=5 sum=26\n",
            "\n",
            "remaining items in list=[1, 2, 3, 4] item popped off list=4 sum=30\n",
            "\n",
            "remaining items in list=[1, 2, 3] item popped off list=3 sum=33\n",
            "\n",
            "remaining items in list=[1, 2] item popped off list=2 sum=35\n",
            "\n",
            "remaining items in list=[1] item popped off list=1 sum=36\n",
            "\n",
            "remaining items in list=[]\n",
            "grand total=36\n"
          ]
        }
      ],
      "source": [
        "\n",
        "def adder(l, sum=0):\n",
        "\n",
        "  print(f'\\nremaining items in list={l}', end=\"\")\n",
        "\n",
        "  try:\n",
        "    item = l.pop()\n",
        "    print(f' item popped off list={item}', end=\"\")\n",
        "    sum = sum + item\n",
        "    print(f' sum={sum}')\n",
        "  except IndexError:\n",
        "    return sum\n",
        "\n",
        "  return adder(l,sum)\n",
        "\n",
        "\n",
        "l = [1,2,3,4,5,6,7,8]\n",
        "\n",
        "sum = adder(l,0)\n",
        "\n",
        "print(f\"\\ngrand total={sum}\")\n"
      ]
    }
  ]
}