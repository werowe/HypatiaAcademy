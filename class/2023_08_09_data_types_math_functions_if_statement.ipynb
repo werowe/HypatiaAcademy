{
  "nbformat": 4,
  "nbformat_minor": 0,
  "metadata": {
    "colab": {
      "provenance": [],
      "authorship_tag": "ABX9TyN29n0va+AFUoWW3ImKSYgq",
      "include_colab_link": true
    },
    "kernelspec": {
      "name": "python3",
      "display_name": "Python 3"
    },
    "language_info": {
      "name": "python"
    }
  },
  "cells": [
    {
      "cell_type": "markdown",
      "metadata": {
        "id": "view-in-github",
        "colab_type": "text"
      },
      "source": [
        "<a href=\"https://colab.research.google.com/github/werowe/HypatiaAcademy/blob/master/class/2023_08_09_data_types_math_functions_if_statement.ipynb\" target=\"_parent\"><img src=\"https://colab.research.google.com/assets/colab-badge.svg\" alt=\"Open In Colab\"/></a>"
      ]
    },
    {
      "cell_type": "markdown",
      "source": [
        "# Data Types, Math Operators, Equality vs. Assignment, If Statement\n",
        "\n"
      ],
      "metadata": {
        "id": "kCZU_5FpTbHM"
      }
    },
    {
      "cell_type": "markdown",
      "source": [
        "#Data Types\n",
        "\n",
        "| Type | Example |\n",
        "| ----------- | ----------- |\n",
        "| integer | 2 |\n",
        "| float | 2.2 |\n",
        "| boolean.   | True |\n",
        "| characters, strings   | \"a\" |\n"
      ],
      "metadata": {
        "id": "Y4xAnTpDT0ml"
      }
    },
    {
      "cell_type": "code",
      "source": [
        "# integer. -2, -1, 0, 1, 2\n",
        "\n",
        "\n",
        "# primitive, scalar, a number.\n",
        "\n",
        "# nothing complicated\n",
        "\n",
        "\n",
        "x1 = 2\n",
        "\n",
        "# decimal is math class.  floating point\n",
        "\n",
        "# 23.456.      284.12346666\n",
        "\n",
        "y = 2.3\n",
        "\n",
        "\n"
      ],
      "metadata": {
        "id": "goNaaxQdrnt-"
      },
      "execution_count": 3,
      "outputs": []
    },
    {
      "cell_type": "code",
      "source": [
        "# here is an example of a string (in Java they say string).  In C++ they say character.\n",
        "\n",
        "matvey = \"Matvey\"\n",
        "\n",
        "\n",
        "\n",
        "# in computers a <> A.  case matters\n",
        "\n"
      ],
      "metadata": {
        "id": "5bbZuJGyvgRQ"
      },
      "execution_count": 23,
      "outputs": []
    },
    {
      "cell_type": "code",
      "source": [
        "Matvey"
      ],
      "metadata": {
        "colab": {
          "base_uri": "https://localhost:8080/",
          "height": 141
        },
        "id": "gZYmx4H8vuuu",
        "outputId": "d96f9273-09fa-41ac-cb5f-0352675080a4"
      },
      "execution_count": 24,
      "outputs": [
        {
          "output_type": "error",
          "ename": "NameError",
          "evalue": "name 'Matvey' is not defined",
          "traceback": [
            "\u001b[0;31m---------------------------------------------------------------------------\u001b[0m",
            "\u001b[0;31mNameError\u001b[0m                                 Traceback (most recent call last)",
            "\u001b[0;32m<ipython-input-24-b8fcf55e62a3>\u001b[0m in \u001b[0;36m<cell line: 1>\u001b[0;34m()\u001b[0m\n\u001b[0;32m----> 1\u001b[0;31m \u001b[0mMatvey\u001b[0m\u001b[0;34m\u001b[0m\u001b[0;34m\u001b[0m\u001b[0m\n\u001b[0m",
            "\u001b[0;31mNameError\u001b[0m: name 'Matvey' is not defined"
          ]
        }
      ]
    },
    {
      "cell_type": "code",
      "source": [
        "weather = \"It is raining\"\n",
        "\n",
        "# is it raining\n",
        "\n",
        "\n",
        "weather == \"It is raining\""
      ],
      "metadata": {
        "colab": {
          "base_uri": "https://localhost:8080/"
        },
        "id": "4cqSFswKvHUT",
        "outputId": "9eab7971-299c-484e-e60f-75f073ce06df"
      },
      "execution_count": 22,
      "outputs": [
        {
          "output_type": "execute_result",
          "data": {
            "text/plain": [
              "True"
            ]
          },
          "metadata": {},
          "execution_count": 22
        }
      ]
    },
    {
      "cell_type": "code",
      "source": [
        "# this means create the variable x and put the value 3 into it\n",
        "\n",
        "x = 4\n"
      ],
      "metadata": {
        "id": "k6sEfrEEuCBU"
      },
      "execution_count": 18,
      "outputs": []
    },
    {
      "cell_type": "code",
      "source": [
        "# test.  it means check to see if the statement is true\n",
        "\n",
        "x == 3\n"
      ],
      "metadata": {
        "colab": {
          "base_uri": "https://localhost:8080/"
        },
        "id": "vYfJtJB2uIN3",
        "outputId": "8d2573fb-9676-49cd-e0ca-e87d039a9502"
      },
      "execution_count": 15,
      "outputs": [
        {
          "output_type": "execute_result",
          "data": {
            "text/plain": [
              "True"
            ]
          },
          "metadata": {},
          "execution_count": 15
        }
      ]
    },
    {
      "cell_type": "code",
      "source": [
        "if x == 3:\n",
        "  print(\"True\")\n",
        "else:\n",
        "  print(\"False\")\n",
        "\n"
      ],
      "metadata": {
        "colab": {
          "base_uri": "https://localhost:8080/"
        },
        "id": "kUcjkoHquQpv",
        "outputId": "2f1b6056-cfe8-4dbd-e192-ebddf7fec038"
      },
      "execution_count": 19,
      "outputs": [
        {
          "output_type": "stream",
          "name": "stdout",
          "text": [
            "False\n"
          ]
        }
      ]
    },
    {
      "cell_type": "code",
      "source": [
        "type(x1)"
      ],
      "metadata": {
        "colab": {
          "base_uri": "https://localhost:8080/"
        },
        "id": "nJPRB3GTsOql",
        "outputId": "aee0349e-88af-4781-f66f-323416d5bff3"
      },
      "execution_count": 5,
      "outputs": [
        {
          "output_type": "execute_result",
          "data": {
            "text/plain": [
              "int"
            ]
          },
          "metadata": {},
          "execution_count": 5
        }
      ]
    },
    {
      "cell_type": "code",
      "source": [
        "type(y)"
      ],
      "metadata": {
        "colab": {
          "base_uri": "https://localhost:8080/"
        },
        "id": "r4o9kW2OsKap",
        "outputId": "bb137182-88d7-44b4-f7fa-74620a97f08b"
      },
      "execution_count": 4,
      "outputs": [
        {
          "output_type": "execute_result",
          "data": {
            "text/plain": [
              "float"
            ]
          },
          "metadata": {},
          "execution_count": 4
        }
      ]
    },
    {
      "cell_type": "code",
      "source": [
        "type(1/3)"
      ],
      "metadata": {
        "id": "xqjsjwjxsclk"
      },
      "execution_count": null,
      "outputs": []
    },
    {
      "cell_type": "code",
      "source": [
        "1/3"
      ],
      "metadata": {
        "colab": {
          "base_uri": "https://localhost:8080/"
        },
        "id": "aAY5BZPnslOT",
        "outputId": "2ed70c18-853a-4577-ca8c-75290037753e"
      },
      "execution_count": 6,
      "outputs": [
        {
          "output_type": "execute_result",
          "data": {
            "text/plain": [
              "0.3333333333333333"
            ]
          },
          "metadata": {},
          "execution_count": 6
        }
      ]
    },
    {
      "cell_type": "code",
      "source": [
        "# boolean. True or False\n",
        "\n",
        "pavlo = True\n",
        "\n",
        "elene = False\n",
        "\n",
        "\n"
      ],
      "metadata": {
        "id": "Zx7q9djhspbf"
      },
      "execution_count": 7,
      "outputs": []
    },
    {
      "cell_type": "markdown",
      "source": [
        "#Math Operators\n",
        "\n",
        "| addition | Example |\n",
        "| ----------- | ----------- |\n",
        "| addition |   |\n",
        "| subtraction |  |\n",
        "| remainder % |   |\n",
        "\n",
        "\n",
        "\n",
        "# logic operators\n",
        "\n",
        "| operator | means | example |\n",
        "| ----------- | ----------- |\n",
        "| == |  equals to | 2 == 2 |\n",
        "| >  | greater than  | 3  > 2 |\n",
        "| <  |  less than |  -2 < -1 |\n",
        "| not  |    |   |\n",
        "| !=  |    |   |\n",
        "| and  |    |   |\n",
        "| or  |    |   |\n",
        "| xor ?  |    |   |\n",
        "| >=  | greater than or equal to   |  3 >= 3 , 4 >=3   |\n",
        "\n",
        "\n",
        "##Test Equals\n",
        "\n",
        "##Cash, Coerce\n",
        "\n",
        "##Precedence\n",
        "\n",
        "2*3/2\n",
        "\n"
      ],
      "metadata": {
        "id": "_To3NoKmT5Nw"
      }
    },
    {
      "cell_type": "code",
      "source": [
        "# the short way.  short-hand\n",
        "\n",
        "3 >= 3\n",
        "\n",
        "# this is a short way to write is 3 equal to 3 or 3 bigger than 3\n",
        "\n",
        "\n"
      ],
      "metadata": {
        "id": "_Q4VSkfAwqhB"
      },
      "execution_count": null,
      "outputs": []
    },
    {
      "cell_type": "code",
      "source": [
        "3 > 3 or 3 == 3\n",
        "\n",
        "# when I write 3 = 3 that means put the number 3 into 3.  you can't change that.\n",
        "\n"
      ],
      "metadata": {
        "colab": {
          "base_uri": "https://localhost:8080/"
        },
        "id": "CXFSUdljxSZg",
        "outputId": "207a4920-0149-4a82-ed6e-c42e7f740ec8"
      },
      "execution_count": 26,
      "outputs": [
        {
          "output_type": "execute_result",
          "data": {
            "text/plain": [
              "True"
            ]
          },
          "metadata": {},
          "execution_count": 26
        }
      ]
    },
    {
      "cell_type": "code",
      "source": [
        "type(3 > 3 or 3 == 3)"
      ],
      "metadata": {
        "colab": {
          "base_uri": "https://localhost:8080/"
        },
        "id": "WSaMNb_JxlWe",
        "outputId": "12bc2d8e-8995-4ec4-803e-49a56d4a3aeb"
      },
      "execution_count": 27,
      "outputs": [
        {
          "output_type": "execute_result",
          "data": {
            "text/plain": [
              "bool"
            ]
          },
          "metadata": {},
          "execution_count": 27
        }
      ]
    },
    {
      "cell_type": "code",
      "source": [
        "z = 3\n",
        "\n",
        "z > 2\n"
      ],
      "metadata": {
        "colab": {
          "base_uri": "https://localhost:8080/"
        },
        "id": "HHs1y7gTuzFK",
        "outputId": "5c5dbbc7-a0ee-42d1-e895-9c78f9f9d30d"
      },
      "execution_count": 20,
      "outputs": [
        {
          "output_type": "execute_result",
          "data": {
            "text/plain": [
              "True"
            ]
          },
          "metadata": {},
          "execution_count": 20
        }
      ]
    },
    {
      "cell_type": "code",
      "source": [
        "3 != 2"
      ],
      "metadata": {
        "colab": {
          "base_uri": "https://localhost:8080/"
        },
        "id": "-AfPLS-txt8K",
        "outputId": "e6c01b48-5fc9-4192-f869-b63fbcab568d"
      },
      "execution_count": 28,
      "outputs": [
        {
          "output_type": "execute_result",
          "data": {
            "text/plain": [
              "True"
            ]
          },
          "metadata": {},
          "execution_count": 28
        }
      ]
    },
    {
      "cell_type": "code",
      "source": [
        "c = 4\n",
        "\n",
        "type(c)\n",
        "\n",
        "print(\"c=\", c)\n",
        "\n"
      ],
      "metadata": {
        "colab": {
          "base_uri": "https://localhost:8080/"
        },
        "id": "C3uTtWXhx-cu",
        "outputId": "74eef99f-4a3b-4960-e0da-713b58f4cb98"
      },
      "execution_count": 30,
      "outputs": [
        {
          "output_type": "stream",
          "name": "stdout",
          "text": [
            "c= 4\n"
          ]
        }
      ]
    },
    {
      "cell_type": "code",
      "source": [
        "print(\"Look at this interesting number \", 1/3)\n",
        "\n",
        "\n",
        "# 0.33\n",
        "\n",
        "\n"
      ],
      "metadata": {
        "colab": {
          "base_uri": "https://localhost:8080/"
        },
        "id": "o_1mln5myIsi",
        "outputId": "c1f92ff9-a8b5-4066-b7ef-e8fc95fdee65"
      },
      "execution_count": 31,
      "outputs": [
        {
          "output_type": "stream",
          "name": "stdout",
          "text": [
            "Look at this interesting number  0.3333333333333333\n"
          ]
        }
      ]
    },
    {
      "cell_type": "code",
      "source": [
        "\n",
        "\n",
        "print(\" print using only 2 decimal positions %.2f\" %  (1 / 3))\n",
        "\n",
        "\n"
      ],
      "metadata": {
        "colab": {
          "base_uri": "https://localhost:8080/"
        },
        "id": "Kj68ygM2yWJ4",
        "outputId": "e55c8196-2fa2-457d-e561-6e4f3506a5f6"
      },
      "execution_count": 35,
      "outputs": [
        {
          "output_type": "stream",
          "name": "stdout",
          "text": [
            " print using only 2 decimal positions 0.33\n"
          ]
        }
      ]
    },
    {
      "cell_type": "code",
      "source": [
        "print(\" print using only 2 decimal positions {:.2f}\".format(1 / 3))\n",
        ""
      ],
      "metadata": {
        "colab": {
          "base_uri": "https://localhost:8080/"
        },
        "id": "Hu3aft0RzqZP",
        "outputId": "25707312-dc4b-4f80-a387-b3a155816e09"
      },
      "execution_count": 38,
      "outputs": [
        {
          "output_type": "stream",
          "name": "stdout",
          "text": [
            " print using only 2 decimal positions 0.33\n"
          ]
        }
      ]
    },
    {
      "cell_type": "code",
      "source": [
        "print(\"x = {}\".format(x))\n"
      ],
      "metadata": {
        "colab": {
          "base_uri": "https://localhost:8080/"
        },
        "id": "giON_3Uvz8xA",
        "outputId": "c0e9c309-5157-482d-c13b-68d85bde70aa"
      },
      "execution_count": 39,
      "outputs": [
        {
          "output_type": "stream",
          "name": "stdout",
          "text": [
            "x = 4\n"
          ]
        }
      ]
    },
    {
      "cell_type": "code",
      "source": [
        "walker = \"walker\"\n",
        "ilias = \"ilias\"\n",
        "elene = \"elene\"\n",
        "\n",
        "print(\"hello {} who are  {} you  {}\".format(walker,ilias,elene))"
      ],
      "metadata": {
        "colab": {
          "base_uri": "https://localhost:8080/"
        },
        "id": "ZgEQ_lHK0E1J",
        "outputId": "c1764376-d345-4b01-9f1a-269e448330c2"
      },
      "execution_count": 40,
      "outputs": [
        {
          "output_type": "stream",
          "name": "stdout",
          "text": [
            "hello walker who are  ilias you  elene\n"
          ]
        }
      ]
    },
    {
      "cell_type": "code",
      "source": [
        "# precedence or order of operation\n",
        "\n",
        "( (\" print using only 2 decimal positions %.2f\" %  1) / 3 )"
      ],
      "metadata": {
        "id": "ElV1sKEPzN1f"
      },
      "execution_count": null,
      "outputs": []
    },
    {
      "cell_type": "code",
      "source": [
        "3%2"
      ],
      "metadata": {
        "colab": {
          "base_uri": "https://localhost:8080/"
        },
        "id": "nIgiIT_VzcjD",
        "outputId": "3c2cc192-ac9b-4cd1-82b4-c9352da46579"
      },
      "execution_count": 36,
      "outputs": [
        {
          "output_type": "execute_result",
          "data": {
            "text/plain": [
              "1"
            ]
          },
          "metadata": {},
          "execution_count": 36
        }
      ]
    },
    {
      "cell_type": "code",
      "source": [
        "# why do you put parentese\n",
        "# it (1) makes it easier to read and (2) you tell it what order to do the math\n",
        "\n",
        "#  (2 * 3) + (4 * 5)\n",
        "\n",
        "\n",
        "\n",
        "3 * 4 / 2\n",
        "\n",
        "\n",
        "3 * 8 / 2\n",
        "\n",
        "# if 3 * 8 / 2 = (3 * 8)  / 2 or 3 * (8 / 2)\n",
        "\n",
        "3 * 9 / 3\n",
        "\n",
        "# we know that is does division first and multication second\n",
        "\n",
        "# comment\n",
        "\n",
        "```\n",
        "1. Parentheses ()\n",
        "2. Exponents ^\n",
        "3. Multiplication *\n",
        "4. Division /\n",
        "5. Addition +\n",
        "6. Subtraction -\n",
        "```\n"
      ],
      "metadata": {
        "colab": {
          "base_uri": "https://localhost:8080/"
        },
        "id": "ydtCbowCxyyo",
        "outputId": "bf222456-4551-4242-fc52-f1dda358e1ba"
      },
      "execution_count": 41,
      "outputs": [
        {
          "output_type": "execute_result",
          "data": {
            "text/plain": [
              "9.0"
            ]
          },
          "metadata": {},
          "execution_count": 41
        }
      ]
    },
    {
      "cell_type": "code",
      "source": [
        "# the point of this is to use parentheses\n",
        "\n",
        "(3 * 9 ) / 3\n"
      ],
      "metadata": {
        "id": "bEmymCV82VyI"
      },
      "execution_count": null,
      "outputs": []
    },
    {
      "cell_type": "code",
      "source": [
        "# addition is associate and distributive\n",
        "\n",
        "4 + 2 - 3\n"
      ],
      "metadata": {
        "id": "tZJuEEW81pMW"
      },
      "execution_count": null,
      "outputs": []
    },
    {
      "cell_type": "code",
      "source": [
        "type(z > 2)"
      ],
      "metadata": {
        "colab": {
          "base_uri": "https://localhost:8080/"
        },
        "id": "qdECrsnpu6Sj",
        "outputId": "2c6d906c-9118-46ff-f826-dbc49e2af049"
      },
      "execution_count": 21,
      "outputs": [
        {
          "output_type": "execute_result",
          "data": {
            "text/plain": [
              "bool"
            ]
          },
          "metadata": {},
          "execution_count": 21
        }
      ]
    },
    {
      "cell_type": "markdown",
      "source": [
        "##Math Library"
      ],
      "metadata": {
        "id": "2iJ10KFaVGpR"
      }
    },
    {
      "cell_type": "code",
      "source": [
        "import math\n",
        "\n",
        "math.sqrt(16)\n"
      ],
      "metadata": {
        "colab": {
          "base_uri": "https://localhost:8080/"
        },
        "id": "rM3W2PcDU4rK",
        "outputId": "a4389d1f-5c73-4fdf-9ecb-6fda7bab90e0"
      },
      "execution_count": 43,
      "outputs": [
        {
          "output_type": "execute_result",
          "data": {
            "text/plain": [
              "4.0"
            ]
          },
          "metadata": {},
          "execution_count": 43
        }
      ]
    },
    {
      "cell_type": "markdown",
      "source": [
        "#If Statememt"
      ],
      "metadata": {
        "id": "D_2L2lchUA6r"
      }
    },
    {
      "cell_type": "code",
      "source": [
        "if True:\n",
        "  print(\"This is True\")\n",
        "\n",
        "# algorithms\n",
        "\n",
        "# written instructions, i.e., computer code\n",
        "\n",
        "\n"
      ],
      "metadata": {
        "id": "lmdjuB_3VT-e",
        "colab": {
          "base_uri": "https://localhost:8080/"
        },
        "outputId": "1ed7bd47-67e6-45a8-bc4f-671fd10a6619"
      },
      "execution_count": 11,
      "outputs": [
        {
          "output_type": "stream",
          "name": "stdout",
          "text": [
            "This is True\n"
          ]
        }
      ]
    },
    {
      "cell_type": "code",
      "source": [
        "if pavlo:\n",
        "  print(\"This is True\")"
      ],
      "metadata": {
        "colab": {
          "base_uri": "https://localhost:8080/"
        },
        "id": "r6gvfA29tl7n",
        "outputId": "97fe4c32-f860-4408-a24c-29c27f107089"
      },
      "execution_count": 12,
      "outputs": [
        {
          "output_type": "stream",
          "name": "stdout",
          "text": [
            "This is True\n"
          ]
        }
      ]
    },
    {
      "cell_type": "code",
      "source": [
        "if elene:\n",
        "  print(\"xxxxxx\")\n",
        "\n"
      ],
      "metadata": {
        "colab": {
          "base_uri": "https://localhost:8080/",
          "height": 141
        },
        "id": "TImmkU2DtBuv",
        "outputId": "c543cedb-c018-4912-d6d9-c0f9279d5616"
      },
      "execution_count": 9,
      "outputs": [
        {
          "output_type": "error",
          "ename": "NameError",
          "evalue": "name 'maria' is not defined",
          "traceback": [
            "\u001b[0;31m---------------------------------------------------------------------------\u001b[0m",
            "\u001b[0;31mNameError\u001b[0m                                 Traceback (most recent call last)",
            "\u001b[0;32m<ipython-input-9-43d252a7499b>\u001b[0m in \u001b[0;36m<cell line: 1>\u001b[0;34m()\u001b[0m\n\u001b[0;32m----> 1\u001b[0;31m \u001b[0mmaria\u001b[0m\u001b[0;34m\u001b[0m\u001b[0;34m\u001b[0m\u001b[0m\n\u001b[0m",
            "\u001b[0;31mNameError\u001b[0m: name 'maria' is not defined"
          ]
        }
      ]
    },
    {
      "cell_type": "code",
      "source": [
        "if elene == False:\n",
        "  print(\"xxxxxx\")"
      ],
      "metadata": {
        "colab": {
          "base_uri": "https://localhost:8080/"
        },
        "id": "ayoLOCsLt2Ks",
        "outputId": "f9956518-ccc1-48b2-f763-6d59bbb35bad"
      },
      "execution_count": 13,
      "outputs": [
        {
          "output_type": "stream",
          "name": "stdout",
          "text": [
            "xxxxxx\n"
          ]
        }
      ]
    },
    {
      "cell_type": "code",
      "source": [
        "maria = x1 * y\n",
        "print(maria)\n",
        "print(type(maria))"
      ],
      "metadata": {
        "colab": {
          "base_uri": "https://localhost:8080/"
        },
        "id": "dPqt2-s_tOZk",
        "outputId": "82f11d7a-7a08-4e18-f577-69d216995536"
      },
      "execution_count": 10,
      "outputs": [
        {
          "output_type": "stream",
          "name": "stdout",
          "text": [
            "4.6\n",
            "<class 'float'>\n"
          ]
        }
      ]
    },
    {
      "cell_type": "markdown",
      "source": [
        "# What did we Cover?\n",
        "\n",
        "* data types: integer, float [decimal is math], string, boolean\n",
        "\n",
        "* logical operators:  is equal (==), greater than (>)\n",
        "\n",
        "* if statements\n",
        "\n",
        "* formatting print output, like getting rid of decimal positions\n",
        "\n",
        "* order of precedence\n",
        "\n",
        "\n",
        "\n",
        "\n",
        "\n",
        "\n",
        "computer: * for multiplication\n",
        "math class: x for multiplication\n",
        "\n",
        "\n",
        "\n"
      ],
      "metadata": {
        "id": "oI4Dtt832qHj"
      }
    },
    {
      "cell_type": "markdown",
      "source": [
        "# Homework\n",
        "\n",
        "\n",
        "* create an example of an integer\n",
        "* create a float\n",
        "* show addition, subtraction, and exponentation (look this up, use perplexity.ai)\n",
        "* write an if statement testing whether you number is bigger than some other number\n",
        "* create a boolean statement.  give to examples\n"
      ],
      "metadata": {
        "id": "wr6pPVFw3kgw"
      }
    }
  ]
}