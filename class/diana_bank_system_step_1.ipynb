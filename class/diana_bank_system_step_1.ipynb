{
  "nbformat": 4,
  "nbformat_minor": 0,
  "metadata": {
    "colab": {
      "provenance": [],
      "include_colab_link": true
    },
    "kernelspec": {
      "name": "python3",
      "display_name": "Python 3"
    },
    "language_info": {
      "name": "python"
    }
  },
  "cells": [
    {
      "cell_type": "markdown",
      "metadata": {
        "id": "view-in-github",
        "colab_type": "text"
      },
      "source": [
        "<a href=\"https://colab.research.google.com/github/werowe/HypatiaAcademy/blob/master/class/diana_bank_system_step_1.ipynb\" target=\"_parent\"><img src=\"https://colab.research.google.com/assets/colab-badge.svg\" alt=\"Open In Colab\"/></a>"
      ]
    },
    {
      "cell_type": "code",
      "execution_count": 24,
      "metadata": {
        "colab": {
          "base_uri": "https://localhost:8080/"
        },
        "id": "WyG1ECAac86o",
        "outputId": "18619515-765d-4772-c630-02d912fa1f81"
      },
      "outputs": [
        {
          "output_type": "stream",
          "name": "stdout",
          "text": [
            "Drive already mounted at /content/drive; to attempt to forcibly remount, call drive.mount(\"/content/drive\", force_remount=True).\n"
          ]
        }
      ],
      "source": [
        "from google.colab import drive\n",
        "drive.mount('/content/drive')"
      ]
    },
    {
      "cell_type": "code",
      "source": [
        "%load_ext sql"
      ],
      "metadata": {
        "colab": {
          "base_uri": "https://localhost:8080/"
        },
        "id": "ELaf25xSd6xI",
        "outputId": "a58c96c3-4455-4dd2-a739-63cdb5095a6c"
      },
      "execution_count": 25,
      "outputs": [
        {
          "output_type": "stream",
          "name": "stdout",
          "text": [
            "The sql extension is already loaded. To reload it, use:\n",
            "  %reload_ext sql\n"
          ]
        }
      ]
    },
    {
      "cell_type": "code",
      "source": [
        "%sql sqlite:////content/drive/MyDrive/bank.db/"
      ],
      "metadata": {
        "id": "sMjpUwoSevZe"
      },
      "execution_count": 26,
      "outputs": []
    },
    {
      "cell_type": "code",
      "source": [
        "%sql PRAGMA foreign_keys = ON;"
      ],
      "metadata": {
        "colab": {
          "base_uri": "https://localhost:8080/"
        },
        "id": "rk4zcucWfUu9",
        "outputId": "e8984d5b-6264-4d3f-eb2d-9b14e617a183"
      },
      "execution_count": 27,
      "outputs": [
        {
          "output_type": "stream",
          "name": "stdout",
          "text": [
            " * sqlite:////content/drive/MyDrive/bank.db/\n",
            "Done.\n"
          ]
        },
        {
          "output_type": "execute_result",
          "data": {
            "text/plain": [
              "[]"
            ]
          },
          "metadata": {},
          "execution_count": 27
        }
      ]
    },
    {
      "cell_type": "code",
      "source": [
        "%%sql\n",
        "drop table withdraws"
      ],
      "metadata": {
        "colab": {
          "base_uri": "https://localhost:8080/"
        },
        "id": "uruG2wbIA08H",
        "outputId": "1cebdfb4-0480-44c8-9012-c7428a3b4ce3"
      },
      "execution_count": 28,
      "outputs": [
        {
          "output_type": "stream",
          "name": "stdout",
          "text": [
            " * sqlite:////content/drive/MyDrive/bank.db/\n",
            "Done.\n"
          ]
        },
        {
          "output_type": "execute_result",
          "data": {
            "text/plain": [
              "[]"
            ]
          },
          "metadata": {},
          "execution_count": 28
        }
      ]
    },
    {
      "cell_type": "code",
      "source": [
        "%%sql\n",
        "drop table deposits"
      ],
      "metadata": {
        "id": "PJmdeBDSE44D",
        "colab": {
          "base_uri": "https://localhost:8080/"
        },
        "outputId": "052abdb2-6bac-40cf-aac9-fef3d0c4b664"
      },
      "execution_count": 29,
      "outputs": [
        {
          "output_type": "stream",
          "name": "stdout",
          "text": [
            " * sqlite:////content/drive/MyDrive/bank.db/\n",
            "Done.\n"
          ]
        },
        {
          "output_type": "execute_result",
          "data": {
            "text/plain": [
              "[]"
            ]
          },
          "metadata": {},
          "execution_count": 29
        }
      ]
    },
    {
      "cell_type": "code",
      "source": [
        "%%sql\n",
        "drop table account"
      ],
      "metadata": {
        "id": "PlcgO2R7rjBx",
        "colab": {
          "base_uri": "https://localhost:8080/"
        },
        "outputId": "c6a11fd5-e3ee-406b-fc11-49f1019032a8"
      },
      "execution_count": 30,
      "outputs": [
        {
          "output_type": "stream",
          "name": "stdout",
          "text": [
            " * sqlite:////content/drive/MyDrive/bank.db/\n",
            "Done.\n"
          ]
        },
        {
          "output_type": "execute_result",
          "data": {
            "text/plain": [
              "[]"
            ]
          },
          "metadata": {},
          "execution_count": 30
        }
      ]
    },
    {
      "cell_type": "code",
      "source": [
        "#VIEW THE TABLE\n",
        "\n",
        "%%sql\n",
        "\n",
        "SELECT * FROM account"
      ],
      "metadata": {
        "id": "BONxRgXgs-zv",
        "colab": {
          "base_uri": "https://localhost:8080/"
        },
        "outputId": "315cc89a-6cb3-4bf0-f28e-5f6e9c6da752"
      },
      "execution_count": 31,
      "outputs": [
        {
          "output_type": "stream",
          "name": "stdout",
          "text": [
            " * sqlite:////content/drive/MyDrive/bank.db/\n",
            "(sqlite3.OperationalError) no such table: account\n",
            "[SQL: SELECT * FROM account]\n",
            "(Background on this error at: https://sqlalche.me/e/20/e3q8)\n"
          ]
        }
      ]
    },
    {
      "cell_type": "code",
      "source": [
        "#VIEW THE TABLE\n",
        "\n",
        "%%sql\n",
        "\n",
        "SELECT * FROM withdraws"
      ],
      "metadata": {
        "colab": {
          "base_uri": "https://localhost:8080/"
        },
        "id": "ahiXYCbYBE-w",
        "outputId": "22bfa440-a6db-43b3-f3e1-8e48acf7d995"
      },
      "execution_count": 32,
      "outputs": [
        {
          "output_type": "stream",
          "name": "stdout",
          "text": [
            " * sqlite:////content/drive/MyDrive/bank.db/\n",
            "(sqlite3.OperationalError) no such table: withdraws\n",
            "[SQL: SELECT * FROM withdraws]\n",
            "(Background on this error at: https://sqlalche.me/e/20/e3q8)\n"
          ]
        }
      ]
    },
    {
      "cell_type": "code",
      "source": [
        "#VIEW THE TABLE\n",
        "\n",
        "%%sql\n",
        "\n",
        "SELECT * FROM deposits"
      ],
      "metadata": {
        "colab": {
          "base_uri": "https://localhost:8080/"
        },
        "id": "mbMa0B8xDbNY",
        "outputId": "a5966e8a-8a1c-411f-cffa-391b7d1e3108"
      },
      "execution_count": 33,
      "outputs": [
        {
          "output_type": "stream",
          "name": "stdout",
          "text": [
            " * sqlite:////content/drive/MyDrive/bank.db/\n",
            "(sqlite3.OperationalError) no such table: deposits\n",
            "[SQL: SELECT * FROM deposits]\n",
            "(Background on this error at: https://sqlalche.me/e/20/e3q8)\n"
          ]
        }
      ]
    },
    {
      "cell_type": "code",
      "source": [
        "# CREATE THE ACCOUNT TABLE\n",
        "\n",
        "import sqlite3\n",
        "\n",
        "db_path = '/content/drive/MyDrive/bank.db'\n",
        "\n",
        "conn = sqlite3.connect(db_path)\n",
        "\n",
        "conn.execute('PRAGMA foreign_keys = ON')\n",
        "\n",
        "cursor = conn.cursor()\n",
        "\n",
        "create_account_table = '''\n",
        "CREATE TABLE account\n",
        "  (\n",
        "    account_number INTEGER PRIMARY KEY AUTOINCREMENT,\n",
        "    account_name TEXT,\n",
        "    date_of_birth TEXT,\n",
        "    address TEXT,\n",
        "    phone_number INTEGER,\n",
        "    balance INTEGER\n",
        "  )\n",
        "'''\n",
        "\n",
        "try:\n",
        "    cursor.execute(create_account_table)\n",
        "except Exception as e:\n",
        "    print(e)\n",
        "\n",
        "conn.commit()\n",
        "conn.close()\n"
      ],
      "metadata": {
        "id": "5RJtBh9Kg4xc"
      },
      "execution_count": 34,
      "outputs": []
    },
    {
      "cell_type": "code",
      "source": [
        "%%sql\n",
        "INSERT INTO account (account_name, date_of_birth, address, phone_number, balance)\n",
        "VALUES ('John Smith', '1985-06-15', '123 Elm St, Springfield', 4298918, 1500);"
      ],
      "metadata": {
        "colab": {
          "base_uri": "https://localhost:8080/"
        },
        "id": "L5XT6XbGrME1",
        "outputId": "9310c59f-e3e2-475f-8064-f4063bc8fbab"
      },
      "execution_count": 35,
      "outputs": [
        {
          "output_type": "stream",
          "name": "stdout",
          "text": [
            " * sqlite:////content/drive/MyDrive/bank.db/\n",
            "1 rows affected.\n"
          ]
        },
        {
          "output_type": "execute_result",
          "data": {
            "text/plain": [
              "[]"
            ]
          },
          "metadata": {},
          "execution_count": 35
        }
      ]
    },
    {
      "cell_type": "code",
      "source": [
        "%%sql\n",
        "INSERT INTO account (account_name, date_of_birth, address, phone_number, balance)\n",
        "VALUES ('Maria Williams', '2000-01-13', '789 Green Lane, Lakeview', 69824541, 973)"
      ],
      "metadata": {
        "colab": {
          "base_uri": "https://localhost:8080/"
        },
        "id": "kn3HowS0QJK6",
        "outputId": "b440fe32-9a83-49c6-a797-78f17f5f2fb7"
      },
      "execution_count": 36,
      "outputs": [
        {
          "output_type": "stream",
          "name": "stdout",
          "text": [
            " * sqlite:////content/drive/MyDrive/bank.db/\n",
            "1 rows affected.\n"
          ]
        },
        {
          "output_type": "execute_result",
          "data": {
            "text/plain": [
              "[]"
            ]
          },
          "metadata": {},
          "execution_count": 36
        }
      ]
    },
    {
      "cell_type": "code",
      "source": [
        "%%sql\n",
        "INSERT INTO account (account_name, date_of_birth, address, phone_number, balance)\n",
        "VALUES ('Alice Johnson', '1990-09-25', '456 Oak Ave, Rivertown', 5308421, 3200);"
      ],
      "metadata": {
        "colab": {
          "base_uri": "https://localhost:8080/"
        },
        "id": "B4oHFlaIsaVo",
        "outputId": "2be52fb2-a027-42dd-c02e-b914a88c1db4"
      },
      "execution_count": 37,
      "outputs": [
        {
          "output_type": "stream",
          "name": "stdout",
          "text": [
            " * sqlite:////content/drive/MyDrive/bank.db/\n",
            "1 rows affected.\n"
          ]
        },
        {
          "output_type": "execute_result",
          "data": {
            "text/plain": [
              "[]"
            ]
          },
          "metadata": {},
          "execution_count": 37
        }
      ]
    },
    {
      "cell_type": "code",
      "source": [
        "%%sql\n",
        "INSERT INTO account (account_name, date_of_birth, address, phone_number, balance)\n",
        "VALUES ('Michael Brown', '1978-03-30', '789 Pine Rd, Lakeside', 9152835, 800);"
      ],
      "metadata": {
        "colab": {
          "base_uri": "https://localhost:8080/"
        },
        "id": "nD7jpBLesqX5",
        "outputId": "09e4bba8-201e-4a8c-8875-ce8ba195f44c"
      },
      "execution_count": 178,
      "outputs": [
        {
          "output_type": "stream",
          "name": "stdout",
          "text": [
            " * sqlite:////content/drive/MyDrive/bank.db/\n",
            "1 rows affected.\n"
          ]
        },
        {
          "output_type": "execute_result",
          "data": {
            "text/plain": [
              "[]"
            ]
          },
          "metadata": {},
          "execution_count": 178
        }
      ]
    },
    {
      "cell_type": "code",
      "source": [
        "# CREATE TABLE WITHDRAWS\n",
        "\n",
        "import sqlite3\n",
        "\n",
        "db_path = '/content/drive/MyDrive/bank.db'\n",
        "\n",
        "conn = sqlite3.connect(db_path)\n",
        "\n",
        "conn.execute('PRAGMA foreign_keys = ON')\n",
        "\n",
        "cursor = conn.cursor()\n",
        "\n",
        "create_withdraws_table = '''\n",
        "CREATE TABLE withdraws\n",
        "  (\n",
        "    withdraw_id INTEGER PRIMARY KEY AUTOINCREMENT,\n",
        "    account_number INTEGER,\n",
        "    withdraw_date TEXT,\n",
        "    withdraw_amount INTEGER,\n",
        "    FOREIGN KEY (account_number) REFERENCES account(account_number)\n",
        "  )\n",
        "'''\n",
        "\n",
        "try:\n",
        "    cursor.execute(create_withdraws_table)\n",
        "\n",
        "except Exception as e:\n",
        "    print(e)\n",
        "\n",
        "conn.commit()\n",
        "\n",
        "conn.close()\n"
      ],
      "metadata": {
        "id": "FHRX-HXO2wnn"
      },
      "execution_count": 39,
      "outputs": []
    },
    {
      "cell_type": "code",
      "source": [
        "%%sql\n",
        "INSERT INTO withdraws (account_number, withdraw_date, withdraw_amount)\n",
        "VALUES (2, strftime('%s', 'now'), 500);\n",
        "\n",
        "UPDATE account\n",
        "SET balance = balance - 500\n",
        "WHERE account_number = 2"
      ],
      "metadata": {
        "colab": {
          "base_uri": "https://localhost:8080/"
        },
        "id": "Z-kfS_a--43n",
        "outputId": "9316396d-dc27-47d1-f454-cb380e91c7e3"
      },
      "execution_count": 40,
      "outputs": [
        {
          "output_type": "stream",
          "name": "stdout",
          "text": [
            " * sqlite:////content/drive/MyDrive/bank.db/\n",
            "1 rows affected.\n",
            "1 rows affected.\n"
          ]
        },
        {
          "output_type": "execute_result",
          "data": {
            "text/plain": [
              "[]"
            ]
          },
          "metadata": {},
          "execution_count": 40
        }
      ]
    },
    {
      "cell_type": "code",
      "source": [
        "%%sql\n",
        "INSERT INTO withdraws (account_number, withdraw_date, withdraw_amount)\n",
        "VALUES (4, strftime('%s', 'now'), 291);\n",
        "\n",
        "UPDATE account\n",
        "SET balance = balance - 291\n",
        "WHERE account_number =  4"
      ],
      "metadata": {
        "colab": {
          "base_uri": "https://localhost:8080/"
        },
        "id": "eqFU-YNtSJDq",
        "outputId": "5c7a08fc-3c1f-4614-a9a7-0d258ce454dc"
      },
      "execution_count": 41,
      "outputs": [
        {
          "output_type": "stream",
          "name": "stdout",
          "text": [
            " * sqlite:////content/drive/MyDrive/bank.db/\n",
            "1 rows affected.\n",
            "1 rows affected.\n"
          ]
        },
        {
          "output_type": "execute_result",
          "data": {
            "text/plain": [
              "[]"
            ]
          },
          "metadata": {},
          "execution_count": 41
        }
      ]
    },
    {
      "cell_type": "code",
      "source": [
        "%%sql\n",
        "INSERT INTO withdraws (account_number, withdraw_date, withdraw_amount)\n",
        "VALUES (1, strftime('%s', 'now'), 2000);\n",
        "\n",
        "UPDATE account\n",
        "SET balance = balance - 2000\n",
        "WHERE account_number = 1"
      ],
      "metadata": {
        "colab": {
          "base_uri": "https://localhost:8080/"
        },
        "id": "bV247aSrFGgn",
        "outputId": "1fbcc23a-58ef-4217-8d19-5d94528fbe86"
      },
      "execution_count": 42,
      "outputs": [
        {
          "output_type": "stream",
          "name": "stdout",
          "text": [
            " * sqlite:////content/drive/MyDrive/bank.db/\n",
            "1 rows affected.\n",
            "1 rows affected.\n"
          ]
        },
        {
          "output_type": "execute_result",
          "data": {
            "text/plain": [
              "[]"
            ]
          },
          "metadata": {},
          "execution_count": 42
        }
      ]
    },
    {
      "cell_type": "code",
      "source": [
        "#CREATE THE DEPOSITS TABLE\n",
        "\n",
        "import sqlite3\n",
        "\n",
        "db_path = '/content/drive/MyDrive/bank.db'\n",
        "conn = sqlite3.connect(db_path)\n",
        "\n",
        "conn.execute('PRAGMA foreign_keys = ON')\n",
        "\n",
        "cursor = conn.cursor()\n",
        "\n",
        "create_deposits_table = '''\n",
        "CREATE TABLE deposits\n",
        "  (\n",
        "    deposit_id INTEGER PRIMARY KEY AUTOINCREMENT,\n",
        "    account_number INTEGER,\n",
        "    deposit_date TEXT,\n",
        "    deposit_amount INTEGER,\n",
        "    FOREIGN KEY (account_number) REFERENCES account(account_number)\n",
        "  )\n",
        "'''\n",
        "\n",
        "try:\n",
        "    cursor.execute(create_deposits_table)\n",
        "except Exception as e:\n",
        "    print(e)\n",
        "\n",
        "conn.commit()\n",
        "\n",
        "conn.close()\n"
      ],
      "metadata": {
        "id": "3lkQEkY_BV0A"
      },
      "execution_count": 43,
      "outputs": []
    },
    {
      "cell_type": "code",
      "source": [
        "%%sql\n",
        "INSERT INTO deposits (account_number, deposit_date, deposit_amount)\n",
        "VALUES (1, strftime('%s', 'now'), 297);\n",
        "\n",
        "UPDATE account\n",
        "SET balance = balance + 297\n",
        "WHERE account_number = 1"
      ],
      "metadata": {
        "colab": {
          "base_uri": "https://localhost:8080/"
        },
        "id": "LNU12OCyB6bH",
        "outputId": "110d245f-3cee-4541-c69f-9114f1a4f60d"
      },
      "execution_count": 44,
      "outputs": [
        {
          "output_type": "stream",
          "name": "stdout",
          "text": [
            " * sqlite:////content/drive/MyDrive/bank.db/\n",
            "1 rows affected.\n",
            "1 rows affected.\n"
          ]
        },
        {
          "output_type": "execute_result",
          "data": {
            "text/plain": [
              "[]"
            ]
          },
          "metadata": {},
          "execution_count": 44
        }
      ]
    },
    {
      "cell_type": "code",
      "source": [
        "%%sql\n",
        "INSERT INTO deposits (account_number, deposit_date, deposit_amount)\n",
        "VALUES (3, strftime('%s', 'now'), 7612);\n",
        "\n",
        "UPDATE account\n",
        "SET balance = balance + 7612\n",
        "WHERE account_number = 3"
      ],
      "metadata": {
        "colab": {
          "base_uri": "https://localhost:8080/"
        },
        "id": "i_uP9ZekDsaE",
        "outputId": "c8d343d3-c132-4dd8-90d1-690396837b9b"
      },
      "execution_count": 45,
      "outputs": [
        {
          "output_type": "stream",
          "name": "stdout",
          "text": [
            " * sqlite:////content/drive/MyDrive/bank.db/\n",
            "1 rows affected.\n",
            "1 rows affected.\n"
          ]
        },
        {
          "output_type": "execute_result",
          "data": {
            "text/plain": [
              "[]"
            ]
          },
          "metadata": {},
          "execution_count": 45
        }
      ]
    },
    {
      "cell_type": "code",
      "source": [
        "%%sql\n",
        "INSERT INTO deposits (account_number, deposit_date, deposit_amount)\n",
        "VALUES (4, strftime('%s', 'now'), 100);\n",
        "\n",
        "UPDATE account\n",
        "SET balance = balance + 100\n",
        "WHERE account_number = 4"
      ],
      "metadata": {
        "colab": {
          "base_uri": "https://localhost:8080/"
        },
        "id": "wsY7AdALS_46",
        "outputId": "998c8ddb-2074-42c1-b81f-885b791e3087"
      },
      "execution_count": 46,
      "outputs": [
        {
          "output_type": "stream",
          "name": "stdout",
          "text": [
            " * sqlite:////content/drive/MyDrive/bank.db/\n",
            "1 rows affected.\n",
            "1 rows affected.\n"
          ]
        },
        {
          "output_type": "execute_result",
          "data": {
            "text/plain": [
              "[]"
            ]
          },
          "metadata": {},
          "execution_count": 46
        }
      ]
    },
    {
      "cell_type": "code",
      "source": [
        "import random\n",
        "\n",
        "\n",
        "\n",
        "def getName():\n",
        "\n",
        "    fnames = [\"Marya\", \"Diana\", \"Oleskii\", \"Yulia\", \"Illias\", \"Vlad\", \"Egor\"]\n",
        "\n",
        "    lnames = [\"Zelensky\", \"Kovalenko\", \"Kravchenko\", \"Hrytsenko\", \"Melnyk\"]\n",
        "\n",
        "    return fnames[random.randint(0, len(fnames)-1)] +  \" \" + lnames[random.randint(0, len(lnames)-1)]\n",
        "\n",
        "def getDate():\n",
        "\n",
        "  from datetime import datetime, timedelta\n",
        "\n",
        "  d = datetime.now() + timedelta(days=random.randint(-10,10))\n",
        "\n",
        "  return d.strftime('%Y-%m-%d')\n",
        "\n"
      ],
      "metadata": {
        "id": "pr--URWp-aDk"
      },
      "execution_count": 75,
      "outputs": []
    },
    {
      "cell_type": "code",
      "source": [
        "getName()"
      ],
      "metadata": {
        "colab": {
          "base_uri": "https://localhost:8080/",
          "height": 35
        },
        "id": "lXGXGDT-_3Dl",
        "outputId": "7e2fe293-b278-4408-ed8f-6722a487b23f"
      },
      "execution_count": 170,
      "outputs": [
        {
          "output_type": "execute_result",
          "data": {
            "text/plain": [
              "'Yulia Zelensky'"
            ],
            "application/vnd.google.colaboratory.intrinsic+json": {
              "type": "string"
            }
          },
          "metadata": {},
          "execution_count": 170
        }
      ]
    },
    {
      "cell_type": "code",
      "source": [
        "getDate()\n"
      ],
      "metadata": {
        "colab": {
          "base_uri": "https://localhost:8080/",
          "height": 35
        },
        "id": "rU1feFJv_72z",
        "outputId": "cd95a2f4-bd05-44bc-8002-ca8076bd32ca"
      },
      "execution_count": 171,
      "outputs": [
        {
          "output_type": "execute_result",
          "data": {
            "text/plain": [
              "'2024-10-11'"
            ],
            "application/vnd.google.colaboratory.intrinsic+json": {
              "type": "string"
            }
          },
          "metadata": {},
          "execution_count": 171
        }
      ]
    },
    {
      "cell_type": "code",
      "source": [
        "import sqlite3\n",
        "\n",
        "db_path = '/content/drive/MyDrive/bank.db'\n",
        "conn = sqlite3.connect(db_path)\n",
        "\n",
        "conn.execute('PRAGMA foreign_keys = ON')\n",
        "\n",
        "\n",
        "for i in range(10):\n",
        "  generateAccounts(conn)\n",
        "  for j in range (10):\n",
        "    generateTransactions(conn)\n",
        "\n",
        "\n",
        "#don't commit yet.  You will see we only do that when we have completed what is called a transaction\n",
        "#conn.commit()\n",
        "\n",
        "\n",
        "# don't close connection until the end\n",
        "conn.close()"
      ],
      "metadata": {
        "colab": {
          "base_uri": "https://localhost:8080/"
        },
        "id": "xK_MuUxvBv2J",
        "outputId": "04fa86aa-9b22-4a15-b38a-95d18775d811"
      },
      "execution_count": 112,
      "outputs": [
        {
          "output_type": "execute_result",
          "data": {
            "text/plain": [
              "<sqlite3.Cursor at 0x7efa0b5f8a40>"
            ]
          },
          "metadata": {},
          "execution_count": 112
        }
      ]
    },
    {
      "cell_type": "code",
      "source": [
        "# complete this.  the conn object is alive.  all you need to do is create accounts\n",
        "\n",
        "# see below where I show \"here is now to build a dynamic SQL statement\"\n",
        "\n",
        "def generateAccounts(conn):\n",
        "\n",
        "  pass\n",
        "\n",
        "# complete this.  same thing.  create transactions\n",
        "\n",
        "def generateTransactions(conn):\n",
        "\n",
        "  pass"
      ],
      "metadata": {
        "id": "5DnNeJvxD7u8"
      },
      "execution_count": 154,
      "outputs": []
    },
    {
      "cell_type": "code",
      "source": [
        "\n",
        "def getRandomAccount(conn):\n",
        "\n",
        "\n",
        "  cursor = conn.cursor()\n",
        "\n",
        "  sql=\"select account_number from account\"\n",
        "\n",
        "  cursor.execute(sql)\n",
        "\n",
        "  accounts=cursor.fetchall()\n",
        "\n",
        "  return accounts[random.randint(0,len(accounts)-1)][0]\n",
        "\n",
        "\n",
        "\n"
      ],
      "metadata": {
        "id": "ikKdyedmBDUj"
      },
      "execution_count": 134,
      "outputs": []
    },
    {
      "cell_type": "code",
      "source": [
        "getRandomAccount(conn)"
      ],
      "metadata": {
        "colab": {
          "base_uri": "https://localhost:8080/"
        },
        "id": "iaKgJ2CjHFEw",
        "outputId": "3e25f91f-eb30-4705-a8f1-f17fed7b46bc"
      },
      "execution_count": 184,
      "outputs": [
        {
          "output_type": "execute_result",
          "data": {
            "text/plain": [
              "7"
            ]
          },
          "metadata": {},
          "execution_count": 184
        }
      ]
    },
    {
      "cell_type": "code",
      "source": [
        "# here is now to build a dynamic SQL statement\n",
        "\n",
        "\n",
        "\n",
        "\n",
        "aa=str(getRandomAccount(conn))\n",
        "bb=getDate()\n",
        "cc=str(random.randint(1, 5000))\n",
        "\n",
        "\n",
        "\n",
        "sql=\"INSERT INTO deposits (account_number, deposit_date, deposit_amount (VALUES ({}, {}, {})\".format(aa,bb,cc)\n",
        "\n",
        "\n",
        "\n",
        "sql"
      ],
      "metadata": {
        "colab": {
          "base_uri": "https://localhost:8080/",
          "height": 53
        },
        "id": "-2DJcqnjG806",
        "outputId": "58b52891-b15a-4c86-b5d3-d5710c2e8a6d"
      },
      "execution_count": 169,
      "outputs": [
        {
          "output_type": "execute_result",
          "data": {
            "text/plain": [
              "'INSERT INTO deposits (account_number, deposit_date, deposit_amount (VALUES (2, 2024-10-12, 588)'"
            ],
            "application/vnd.google.colaboratory.intrinsic+json": {
              "type": "string"
            }
          },
          "metadata": {},
          "execution_count": 169
        }
      ]
    },
    {
      "cell_type": "code",
      "source": [
        "#INSERT INTO deposits (account_number, deposit_date, deposit_amount)\n",
        "#VALUES (1, strftime('%s', 'now'), 297);"
      ],
      "metadata": {
        "id": "UAdU0gtVDg2J"
      },
      "execution_count": null,
      "outputs": []
    }
  ]
}