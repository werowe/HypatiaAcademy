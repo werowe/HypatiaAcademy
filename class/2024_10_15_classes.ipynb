{
  "nbformat": 4,
  "nbformat_minor": 0,
  "metadata": {
    "colab": {
      "provenance": [],
      "authorship_tag": "ABX9TyNkKAdSS9IC45LQIaSYKtqK",
      "include_colab_link": true
    },
    "kernelspec": {
      "name": "python3",
      "display_name": "Python 3"
    },
    "language_info": {
      "name": "python"
    }
  },
  "cells": [
    {
      "cell_type": "markdown",
      "metadata": {
        "id": "view-in-github",
        "colab_type": "text"
      },
      "source": [
        "<a href=\"https://colab.research.google.com/github/werowe/HypatiaAcademy/blob/master/class/2024_10_15_classes.ipynb\" target=\"_parent\"><img src=\"https://colab.research.google.com/assets/colab-badge.svg\" alt=\"Open In Colab\"/></a>"
      ]
    },
    {
      "cell_type": "code",
      "execution_count": 123,
      "metadata": {
        "id": "9TIf5whhrK7i"
      },
      "outputs": [],
      "source": [
        "from datetime import datetime\n",
        "\n",
        "# a class\n",
        "\n",
        "# data types:  int, float, char boolean, dictionaries, lists\n",
        "\n",
        "# a class is meant to be something more like a real world object\n",
        "\n",
        "\n",
        "# some programming languages, like Java and Haskell, require you to use classes for everything\n",
        "\n",
        "# in Python especially if you are doing most things, machine learning, you\n",
        "# don't really need to use classes.  You use it when it will make things simpler\n",
        "\n",
        "# class definition\n",
        "class Team:\n",
        "\n",
        "  # initialize this\n",
        "\n",
        "  #games = []\n",
        "\n",
        "  # players = []\n",
        "\n",
        "  # constructor.  This is the function that gives the class its initial values\n",
        "  # self means the class.\n",
        "  def __init__(self,teamName):\n",
        "\n",
        "        # here we pass in values but we also initialize values\n",
        "        self.teamName=teamName\n",
        "        self.games = []\n",
        "        self.players = []\n",
        "\n",
        "\n",
        "  def addPlayer(self, player):\n",
        "    self.players.append(player)\n",
        "\n",
        "  # in Python you don't this.  You can chose to use this the Java-approach\n",
        "  # One thing I don't like about Java is it is so wordy.  Long\n",
        "  # It's stylistic chode\n",
        "  def changeTeamName(self,newTeamName):\n",
        "    # this is a difficult bug to find.\n",
        "    # here I created a new variable called name\n",
        "    # logical error as oppose to a syntax one.  Python will show you\n",
        "    # when you have syntax or other errors.  But this kind it does not know\n",
        "    # that you've don't something wrong here\n",
        "    #self.name=newTeamName\n",
        "\n",
        "    self.teamName=newTeamName\n",
        "\n",
        "  def toString(self):\n",
        "\n",
        "    return(\"The team name is \", self.teamName, \" it has no. players\", len(self.players))\n",
        "\n",
        "\n",
        "# an instance of the class\n",
        "\n",
        "  def removePlayer(self, player):\n",
        "\n",
        "      idx = 0\n",
        "      for p in self.players:\n",
        "        if player.isequal(p):\n",
        "          del self.players[idx]\n",
        "        idx+=1\n",
        "\n",
        "  # TODO\n",
        "\n",
        "  #def addGame(\"XXXX\"):\n",
        "\n",
        "  #  pass\n",
        "\n",
        "class Game:\n",
        "\n",
        "  def __init__(self,team, teamScore, opponentScore, gameDate):\n",
        "\n",
        "        # here we pass in values but we also initialize values\n",
        "\n",
        "        # team is another instance of a team class\n",
        "\n",
        "        self.opponent = team\n",
        "        self.teamScore = teamScore\n",
        "        self.opponentScore = opponentScore\n",
        "        self.gameDate = gameDate\n",
        "\n",
        "class Player:\n",
        "\n",
        "  def __init__(self,name, salary, birthDate):\n",
        "        self.name=name\n",
        "        self.salary = salary\n",
        "        self.birthDate = birthDate\n",
        "        self.goals=0\n",
        "\n",
        "  # compare this player to someone else\n",
        "  # here player is an object\n",
        "  def isequal(self,player):\n",
        "    # the parameter player is a class.  so we put player.name\n",
        "    return self.name == player.name and self.birthDate == player.birthDate\n",
        "\n",
        "  def toString(self):\n",
        "    return ' '.join([self.name, \"birthday=\", self.birthDate.strftime(\"%Y-%m-%d\"), \"salary=\", str(self.salary), \"goals=\", str(self.goals)])\n",
        "\n",
        "\n",
        "\n"
      ]
    },
    {
      "cell_type": "code",
      "source": [
        "realMadrid=Team(\"Real Madrid\")\n",
        "barcelona=Team(\"Barcelona\")"
      ],
      "metadata": {
        "id": "S8sghbyWtG24"
      },
      "execution_count": 124,
      "outputs": []
    },
    {
      "cell_type": "code",
      "source": [
        "messi=Player(\"Lionel Messi\", 200, datetime.strptime(\"1990-01-01\", \"%Y-%m-%d\"))\n",
        "\n",
        "ronaldo=Player(\"Christian Ronaldo\", 400, datetime.strptime(\"1997-01-01\",\"%Y-%m-%d\"))\n",
        "\n",
        "messiTwin=Player(\"Lionel Messi\", 200, datetime.strptime(\"1990-01-01\", \"%Y-%m-%d\"))\n",
        ""
      ],
      "metadata": {
        "id": "-EVx51tcvxUn"
      },
      "execution_count": 125,
      "outputs": []
    },
    {
      "cell_type": "code",
      "source": [
        "\n",
        "\n"
      ],
      "metadata": {
        "id": "PTb60Scj4hjp"
      },
      "execution_count": 125,
      "outputs": []
    },
    {
      "cell_type": "code",
      "source": [
        "realMadrid.players"
      ],
      "metadata": {
        "colab": {
          "base_uri": "https://localhost:8080/"
        },
        "id": "wgMJDqsI5BQF",
        "outputId": "4427c7f0-5a8b-4eb7-f8f4-f8e9780ee30c"
      },
      "execution_count": 126,
      "outputs": [
        {
          "output_type": "execute_result",
          "data": {
            "text/plain": [
              "[]"
            ]
          },
          "metadata": {},
          "execution_count": 126
        }
      ]
    },
    {
      "cell_type": "code",
      "source": [
        "messi.isequal(messiTwin)"
      ],
      "metadata": {
        "colab": {
          "base_uri": "https://localhost:8080/"
        },
        "id": "bkDXYfOm0lCe",
        "outputId": "d64b0705-267d-4910-94a2-f4a82521602a"
      },
      "execution_count": 127,
      "outputs": [
        {
          "output_type": "execute_result",
          "data": {
            "text/plain": [
              "True"
            ]
          },
          "metadata": {},
          "execution_count": 127
        }
      ]
    },
    {
      "cell_type": "code",
      "source": [
        "messi.name, messi.birthDate"
      ],
      "metadata": {
        "colab": {
          "base_uri": "https://localhost:8080/"
        },
        "id": "OD9kyBOg0rqn",
        "outputId": "ff6005c9-a807-46bb-f102-809a06ff9fa0"
      },
      "execution_count": 128,
      "outputs": [
        {
          "output_type": "execute_result",
          "data": {
            "text/plain": [
              "('Lionel Messi', datetime.datetime(1990, 1, 1, 0, 0))"
            ]
          },
          "metadata": {},
          "execution_count": 128
        }
      ]
    },
    {
      "cell_type": "code",
      "source": [
        "messiTwin.name, messiTwin.birthDate"
      ],
      "metadata": {
        "colab": {
          "base_uri": "https://localhost:8080/"
        },
        "id": "Wz6mADCb02iV",
        "outputId": "bb2ab3e2-0d31-453d-b40a-446d29e75bda"
      },
      "execution_count": 129,
      "outputs": [
        {
          "output_type": "execute_result",
          "data": {
            "text/plain": [
              "('Lionel Messi', datetime.datetime(1990, 1, 1, 0, 0))"
            ]
          },
          "metadata": {},
          "execution_count": 129
        }
      ]
    },
    {
      "cell_type": "code",
      "source": [
        "\n",
        "messi.isequal(ronaldo)\n"
      ],
      "metadata": {
        "colab": {
          "base_uri": "https://localhost:8080/"
        },
        "id": "Y1nmONbD08Kg",
        "outputId": "52b4a9ab-0fc1-4fb8-a6c8-09c0ecb6a199"
      },
      "execution_count": 130,
      "outputs": [
        {
          "output_type": "execute_result",
          "data": {
            "text/plain": [
              "False"
            ]
          },
          "metadata": {},
          "execution_count": 130
        }
      ]
    },
    {
      "cell_type": "code",
      "source": [
        "print(messi)\n",
        "\n",
        "\n",
        "# <__main__.Player object at 0x7bb11d92e920>\n",
        "\n",
        "\n",
        "print(messi.toString())\n"
      ],
      "metadata": {
        "colab": {
          "base_uri": "https://localhost:8080/"
        },
        "id": "IPpcyj3E1JYu",
        "outputId": "b816d0e0-2cbb-4e4e-f365-57cfd639e245"
      },
      "execution_count": 131,
      "outputs": [
        {
          "output_type": "stream",
          "name": "stdout",
          "text": [
            "<__main__.Player object at 0x7bb11d9a4610>\n",
            "Lionel Messi birthday= 1990-01-01 salary= 200 goals= 0\n"
          ]
        }
      ]
    },
    {
      "cell_type": "code",
      "source": [
        "realMadrid.addPlayer(messi)\n",
        "realMadrid.addPlayer(ronaldo)\n",
        "realMadrid.addPlayer(messiTwin)"
      ],
      "metadata": {
        "id": "40TWju_owJCH"
      },
      "execution_count": 132,
      "outputs": []
    },
    {
      "cell_type": "code",
      "source": [
        "print(realMadrid.toString())"
      ],
      "metadata": {
        "colab": {
          "base_uri": "https://localhost:8080/"
        },
        "id": "STSJ3PR5y34m",
        "outputId": "03632d9e-e8d5-4788-ad85-24cef7640d4e"
      },
      "execution_count": 133,
      "outputs": [
        {
          "output_type": "stream",
          "name": "stdout",
          "text": [
            "('The team name is ', 'Real Madrid', ' it has no. players', 3)\n"
          ]
        }
      ]
    },
    {
      "cell_type": "code",
      "source": [
        "# for example in Java you cannot update a class variable directly.  Python lets you do that\n",
        "\n",
        "#realMadrid.changeTeamName(\"Ukraine\")\n",
        "\n",
        "#realMadrid.name"
      ],
      "metadata": {
        "id": "p3u1Rt94wdIn"
      },
      "execution_count": 134,
      "outputs": []
    },
    {
      "cell_type": "code",
      "source": [
        "# a list has no primary key\n",
        "# it not keys at at all.\n",
        "\n",
        "\n",
        "# how can we remove a letter from the list\n",
        "\n",
        "letters = [\"a\", \"b\", \"c\", \"d\"]\n",
        "\n",
        "remove=\"c\"\n",
        "\n",
        "# we need some counter.  we can call it idx meaning index\n",
        "# we have no real index that means we have to check everyone\n",
        "\n",
        "idx = 0\n",
        "\n",
        "for letter in letters:\n",
        "    print(letter,idx)\n",
        "    if letter == remove:\n",
        "      #del is the python function to remove an item from a list at that position\n",
        "      del letters[idx]\n",
        "    # increment the value to go to the next item\n",
        "    # this means assign the value positive 1 to each idx loop\n",
        "    idx += 1\n",
        "\n",
        "\n",
        "\n",
        "letters\n"
      ],
      "metadata": {
        "colab": {
          "base_uri": "https://localhost:8080/"
        },
        "id": "ig08cxKQ2YfJ",
        "outputId": "5bcff9dc-61ea-499d-9b43-bb56d550a94f"
      },
      "execution_count": 135,
      "outputs": [
        {
          "output_type": "stream",
          "name": "stdout",
          "text": [
            "a 0\n",
            "b 1\n",
            "c 2\n"
          ]
        },
        {
          "output_type": "execute_result",
          "data": {
            "text/plain": [
              "['a', 'b', 'd']"
            ]
          },
          "metadata": {},
          "execution_count": 135
        }
      ]
    },
    {
      "cell_type": "code",
      "source": [
        "realMadrid.removePlayer(ronaldo)"
      ],
      "metadata": {
        "id": "L6aS04OL4J50"
      },
      "execution_count": 136,
      "outputs": []
    },
    {
      "cell_type": "code",
      "source": [
        "for player in realMadrid.players:\n",
        "  print(player.toString())\n",
        "\n"
      ],
      "metadata": {
        "colab": {
          "base_uri": "https://localhost:8080/"
        },
        "id": "vKNDGF065MPv",
        "outputId": "90c12c0a-96a3-43a5-c3e5-3c56365a9675"
      },
      "execution_count": 137,
      "outputs": [
        {
          "output_type": "stream",
          "name": "stdout",
          "text": [
            "Lionel Messi birthday= 1990-01-01 salary= 200 goals= 0\n",
            "Lionel Messi birthday= 1990-01-01 salary= 200 goals= 0\n"
          ]
        }
      ]
    },
    {
      "cell_type": "markdown",
      "source": [
        "# Homework\n",
        "\n",
        "1. Write the code to add a game to the team\n",
        "\n",
        "# TODO\n",
        "\n",
        " create a game.  so put something here game = Game(xxxxx).   You only need one.  Decide who wines it.  Put in the score.  \n",
        "\n",
        " remember as game has these values:\n",
        "\n",
        " team, teamScore, opponentScore, gameDate\n",
        "\n",
        "\n",
        " a game has to have two teams\n",
        "\n",
        " you would have to do this for both teams\n",
        "\n",
        "```\n",
        " realMadrid.addGame( winner)\n",
        " barcelona.addGame( lose)\n",
        "```\n",
        "\n",
        "\n",
        "2. write the code to add to the player's score\n",
        "\n",
        "in the Player class write the function def addScore():\n",
        "\n",
        "```\n",
        " self.score = self.score + 1\n",
        "```\n",
        "\n"
      ],
      "metadata": {
        "id": "QzCrzXV45aSH"
      }
    }
  ]
}