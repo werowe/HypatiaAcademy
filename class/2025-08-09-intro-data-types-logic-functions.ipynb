{
  "nbformat": 4,
  "nbformat_minor": 0,
  "metadata": {
    "colab": {
      "provenance": [],
      "authorship_tag": "ABX9TyOgTGIK24bwLAMv3O1hGmfv",
      "include_colab_link": true
    },
    "kernelspec": {
      "name": "python3",
      "display_name": "Python 3"
    },
    "language_info": {
      "name": "python"
    }
  },
  "cells": [
    {
      "cell_type": "markdown",
      "metadata": {
        "id": "view-in-github",
        "colab_type": "text"
      },
      "source": [
        "<a href=\"https://colab.research.google.com/github/werowe/HypatiaAcademy/blob/master/class/2025-08-09-intro-data-types-logic-functions.ipynb\" target=\"_parent\"><img src=\"https://colab.research.google.com/assets/colab-badge.svg\" alt=\"Open In Colab\"/></a>"
      ]
    },
    {
      "cell_type": "code",
      "execution_count": null,
      "metadata": {
        "colab": {
          "base_uri": "https://localhost:8080/"
        },
        "id": "In8TasCobeNW",
        "outputId": "736a99e8-c29c-4ec4-c52d-27172765fab2"
      },
      "outputs": [
        {
          "output_type": "stream",
          "name": "stdout",
          "text": [
            "3\n"
          ]
        }
      ],
      "source": [
        "# we have variables x and y\n",
        "\n",
        "# below we assign the value 1 to the variable x\n",
        "\n",
        "x=1\n",
        "y=2\n",
        "\n",
        "# print the results\n",
        "# this does two things:\n",
        "#\n",
        "# 1.  it adds x + y , which is called sum\n",
        "# 2.  it prints the results\n",
        "\n",
        "print(x+y)"
      ]
    },
    {
      "cell_type": "code",
      "source": [
        "# this is called a variable assignment\n",
        "# the item on the left side of the equals sign [=] is the variable\n",
        "# the item on the right is the value to assign to the variable\n",
        "\n",
        "a = 2   # put the value 2 into a 2----->a\n",
        "b = 4\n",
        "\n",
        "# we can add :\n",
        "\n",
        "a + b # operation\n",
        "\n",
        "z=x+y"
      ],
      "metadata": {
        "id": "7nKKP8E6hJOu"
      },
      "execution_count": null,
      "outputs": []
    },
    {
      "cell_type": "code",
      "source": [
        "print(z)"
      ],
      "metadata": {
        "colab": {
          "base_uri": "https://localhost:8080/"
        },
        "id": "0ecxXJC4hLPY",
        "outputId": "bca08d41-3f80-4c6e-f182-164f6e73ef4f"
      },
      "execution_count": null,
      "outputs": [
        {
          "output_type": "stream",
          "name": "stdout",
          "text": [
            "3\n"
          ]
        }
      ]
    },
    {
      "cell_type": "code",
      "source": [
        "print(\"the value of z is\", z)\n",
        "print(\"1 + 2 =\", z)"
      ],
      "metadata": {
        "colab": {
          "base_uri": "https://localhost:8080/"
        },
        "id": "1BHdqBosh6_j",
        "outputId": "7fb8f269-3634-44b7-a2c1-ce696cfa3ac8"
      },
      "execution_count": null,
      "outputs": [
        {
          "output_type": "stream",
          "name": "stdout",
          "text": [
            "the value of z is 3\n",
            "1 + 2 = 3\n"
          ]
        }
      ]
    },
    {
      "cell_type": "code",
      "source": [
        "# operations\n",
        "\n",
        "\n",
        "#  add.    2 + 3\n",
        "# divide.  2 / 3\n",
        "# multiply. 2 * 3\n",
        "# subtract.  3 - 2\n",
        "# exponent.  3**2\n",
        "# remainder.  3 % 2\n"
      ],
      "metadata": {
        "id": "T7BTkanwi2wn"
      },
      "execution_count": null,
      "outputs": []
    },
    {
      "cell_type": "code",
      "source": [
        "3**2\n",
        "\n",
        "3*3\n"
      ],
      "metadata": {
        "colab": {
          "base_uri": "https://localhost:8080/"
        },
        "id": "SvyglUoPjQ81",
        "outputId": "7069b6e9-760d-4420-c411-5f6fa220ee14"
      },
      "execution_count": null,
      "outputs": [
        {
          "output_type": "execute_result",
          "data": {
            "text/plain": [
              "9"
            ]
          },
          "metadata": {},
          "execution_count": 10
        }
      ]
    },
    {
      "cell_type": "code",
      "source": [
        "print(3)"
      ],
      "metadata": {
        "colab": {
          "base_uri": "https://localhost:8080/"
        },
        "id": "WRs1dRerjZl3",
        "outputId": "7be8d899-ba1c-4e85-a50f-069b230c6464"
      },
      "execution_count": null,
      "outputs": [
        {
          "output_type": "stream",
          "name": "stdout",
          "text": [
            "3\n"
          ]
        }
      ]
    },
    {
      "cell_type": "code",
      "source": [
        "# logic\n",
        "\n",
        "# in Python you tell the computer where a new command it by putting in 4 spaces.  that is also called an indent\n",
        "\n",
        "# if statement\n",
        "# if it is sunny, then we will play tennis\n",
        "# if it is raining, then we will watch netflix\n",
        "\n",
        "\n",
        "if 3 > 2:   #<------------the first line\n",
        "    print(\"3 is bigger than 2\")   #<------here is the second part of the if statement\n",
        "\n"
      ],
      "metadata": {
        "colab": {
          "base_uri": "https://localhost:8080/",
          "height": 133
        },
        "id": "3U3iJUGcjcSt",
        "outputId": "1c8b9e6b-e3e5-48b0-bade-4965e134eeb5"
      },
      "execution_count": null,
      "outputs": [
        {
          "output_type": "error",
          "ename": "IndentationError",
          "evalue": "ignored",
          "traceback": [
            "\u001b[0;36m  File \u001b[0;32m\"<ipython-input-18-809a77ade5b9>\"\u001b[0;36m, line \u001b[0;32m14\u001b[0m\n\u001b[0;31m    print(\"wrong\") # <--------this is a new command\u001b[0m\n\u001b[0m    ^\u001b[0m\n\u001b[0;31mIndentationError\u001b[0m\u001b[0;31m:\u001b[0m unexpected indent\n"
          ]
        }
      ]
    },
    {
      "cell_type": "code",
      "source": [
        "# functions\n",
        "# do something\n",
        "\n",
        "\n",
        "def someName(x,y):\n",
        "  do something\n",
        "\n",
        "\n",
        "# a game function might be rotate the object the screen\n",
        "\n"
      ],
      "metadata": {
        "id": "zgHmehVwksjA"
      },
      "execution_count": null,
      "outputs": []
    },
    {
      "cell_type": "code",
      "source": [
        "# data types\n",
        "\n",
        "logic=\"logic\"\n",
        "\n",
        "# json\n",
        "\n",
        "# how to read files\n",
        "\n",
        "# how to write files\n",
        "\n",
        "# that symbol means ignore that.  means it's not python.  this lets me write a description in the middle of a program\n",
        "\n",
        "print(logic)\n",
        "\n"
      ],
      "metadata": {
        "colab": {
          "base_uri": "https://localhost:8080/"
        },
        "id": "r-zA3GCZk7bI",
        "outputId": "29ba1c30-bc2d-488b-8f25-d0cb4c7464ba"
      },
      "execution_count": null,
      "outputs": [
        {
          "output_type": "stream",
          "name": "stdout",
          "text": [
            "logic\n"
          ]
        }
      ]
    },
    {
      "cell_type": "markdown",
      "source": [
        "#Homework\n",
        "\n",
        "Create a colab noteback showing the following concepts.  Save your work in github.\n",
        "\n",
        "1. add two numbers\n",
        "2. add three numbers\n",
        "3.  multiple 2 numbers\n",
        "4.  calculate s square, hint: use exponent\n",
        "5.  create a variable x equal to 2.  write code that says if x is bigger than 2 then print \"x is bigger than 2\".\n",
        "6.  create a function to multiple any two numbers\n",
        "7.  save your work in github\n"
      ],
      "metadata": {
        "id": "6q3mgYpx7W5J"
      }
    },
    {
      "cell_type": "code",
      "source": [],
      "metadata": {
        "id": "3AYh91nDmEeX"
      },
      "execution_count": null,
      "outputs": []
    }
  ]
}