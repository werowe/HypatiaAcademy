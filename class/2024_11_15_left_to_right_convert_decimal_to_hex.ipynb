{
  "nbformat": 4,
  "nbformat_minor": 0,
  "metadata": {
    "colab": {
      "provenance": [],
      "include_colab_link": true
    },
    "kernelspec": {
      "name": "python3",
      "display_name": "Python 3"
    },
    "language_info": {
      "name": "python"
    }
  },
  "cells": [
    {
      "cell_type": "markdown",
      "metadata": {
        "id": "view-in-github",
        "colab_type": "text"
      },
      "source": [
        "<a href=\"https://colab.research.google.com/github/werowe/HypatiaAcademy/blob/master/class/2024_11_15_left_to_right_convert_decimal_to_hex.ipynb\" target=\"_parent\"><img src=\"https://colab.research.google.com/assets/colab-badge.svg\" alt=\"Open In Colab\"/></a>"
      ]
    },
    {
      "cell_type": "markdown",
      "source": [
        "# Algorithm\n",
        "\n",
        "* n is the decimal number\n",
        "* r is the remainder\n",
        "\n",
        "$i=1$\n",
        "\n",
        "$xi=n$\n",
        "\n",
        "mod means modulo in math which is % in Python which is the remainder after division.  So $65 \\mod 4 = 1$.\n",
        "\n",
        "repeat until x is 0.  Add each $r_i$ to a list translating it to its corresponding hexadecimal digit as you do so.  The list is in reverse order so sort when done to\n",
        "\n",
        "$$r_{i} = (x_i \\mod 16)$$\n",
        "\n",
        "$$x_{i+1} = \\frac{x_1 - r_1}{16}$$\n",
        "\n",
        "Example:\n",
        "\n",
        "$$n=65$$\n",
        "\n",
        "$$x1=65$$\n",
        "\n",
        "first loop:\n",
        "\n",
        "$$r_1 = (65 \\mod 16) = 1$$\n",
        "\n",
        "$$x2 = \\frac{65 - 1}{16} = 4$$\n",
        "\n",
        "second loop:\n",
        "\n",
        "$$r_2 = (4  \\mod  16) = 4$$\n",
        "\n",
        "$$x3 = \\frac{4 - 4}{16} = 0$$\n",
        "\n",
        "\n"
      ],
      "metadata": {
        "id": "GLBy4RwDfXrU"
      }
    },
    {
      "cell_type": "code",
      "source": [
        "#cHex(5207253)\n",
        "\n",
        "cHex(17)"
      ],
      "metadata": {
        "colab": {
          "base_uri": "https://localhost:8080/",
          "height": 174
        },
        "id": "omK5PMTpu0Eb",
        "outputId": "076438c8-8ca6-4b20-fd59-42e2dfbf3410"
      },
      "execution_count": null,
      "outputs": [
        {
          "output_type": "stream",
          "name": "stdout",
          "text": [
            "\n",
            "x= 17 remainder= 1 new x = 1.0 \n",
            "\n",
            "['1']\n",
            "\n",
            "x= 1.0 remainder= 1.0 new x = 0.0 \n",
            "\n",
            "['1', '1']\n"
          ]
        },
        {
          "output_type": "execute_result",
          "data": {
            "text/plain": [
              "'11'"
            ],
            "application/vnd.google.colaboratory.intrinsic+json": {
              "type": "string"
            }
          },
          "metadata": {},
          "execution_count": 16
        }
      ]
    },
    {
      "cell_type": "code",
      "source": [
        "hex(5207253)"
      ],
      "metadata": {
        "colab": {
          "base_uri": "https://localhost:8080/",
          "height": 35
        },
        "id": "GkZOgHNm-iAA",
        "outputId": "bc974e3e-4970-4dfd-8244-58a822e68fb2"
      },
      "execution_count": null,
      "outputs": [
        {
          "output_type": "execute_result",
          "data": {
            "text/plain": [
              "'0x4f74d5'"
            ],
            "application/vnd.google.colaboratory.intrinsic+json": {
              "type": "string"
            }
          },
          "metadata": {},
          "execution_count": 10
        }
      ]
    },
    {
      "cell_type": "code",
      "source": [
        "hex(17)"
      ],
      "metadata": {
        "colab": {
          "base_uri": "https://localhost:8080/",
          "height": 35
        },
        "id": "jNmvwl-ZL8tt",
        "outputId": "8fc84213-c7c6-46e3-dd59-a1a778bcfc38"
      },
      "execution_count": null,
      "outputs": [
        {
          "output_type": "execute_result",
          "data": {
            "text/plain": [
              "'0x11'"
            ],
            "application/vnd.google.colaboratory.intrinsic+json": {
              "type": "string"
            }
          },
          "metadata": {},
          "execution_count": 20
        }
      ]
    },
    {
      "cell_type": "code",
      "source": [
        "int('0x11',16)"
      ],
      "metadata": {
        "colab": {
          "base_uri": "https://localhost:8080/"
        },
        "id": "Uo7D2p4Hp52Q",
        "outputId": "4ca301aa-332c-4164-8713-7c28f9b8fdd2"
      },
      "execution_count": null,
      "outputs": [
        {
          "output_type": "execute_result",
          "data": {
            "text/plain": [
              "17"
            ]
          },
          "metadata": {},
          "execution_count": 26
        }
      ]
    },
    {
      "cell_type": "code",
      "source": [
        "'0b11'\n"
      ],
      "metadata": {
        "colab": {
          "base_uri": "https://localhost:8080/",
          "height": 35
        },
        "id": "zf9RruQgphwS",
        "outputId": "b33c65ba-00e8-41f6-dae3-b5c859b326de"
      },
      "execution_count": null,
      "outputs": [
        {
          "output_type": "execute_result",
          "data": {
            "text/plain": [
              "'0b11'"
            ],
            "application/vnd.google.colaboratory.intrinsic+json": {
              "type": "string"
            }
          },
          "metadata": {},
          "execution_count": 23
        }
      ]
    },
    {
      "cell_type": "code",
      "source": [
        "bin(4)"
      ],
      "metadata": {
        "colab": {
          "base_uri": "https://localhost:8080/",
          "height": 35
        },
        "id": "AshCVWjtpo5F",
        "outputId": "1a653135-75f1-4242-c400-f1b48edac45a"
      },
      "execution_count": null,
      "outputs": [
        {
          "output_type": "execute_result",
          "data": {
            "text/plain": [
              "'0b100'"
            ],
            "application/vnd.google.colaboratory.intrinsic+json": {
              "type": "string"
            }
          },
          "metadata": {},
          "execution_count": 22
        }
      ]
    },
    {
      "cell_type": "code",
      "source": [
        "int('0b100',2)"
      ],
      "metadata": {
        "colab": {
          "base_uri": "https://localhost:8080/"
        },
        "id": "Nn5R8LOZpwi6",
        "outputId": "aa77632e-d0f4-4373-9e08-ed6deb57a427"
      },
      "execution_count": null,
      "outputs": [
        {
          "output_type": "execute_result",
          "data": {
            "text/plain": [
              "4"
            ]
          },
          "metadata": {},
          "execution_count": 25
        }
      ]
    }
  ]
}