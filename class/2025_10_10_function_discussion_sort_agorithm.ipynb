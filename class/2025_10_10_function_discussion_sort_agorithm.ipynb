{
  "nbformat": 4,
  "nbformat_minor": 0,
  "metadata": {
    "colab": {
      "provenance": [],
      "authorship_tag": "ABX9TyOPFFoWEBV7njS9Y+kYVRIM",
      "include_colab_link": true
    },
    "kernelspec": {
      "name": "python3",
      "display_name": "Python 3"
    },
    "language_info": {
      "name": "python"
    }
  },
  "cells": [
    {
      "cell_type": "markdown",
      "metadata": {
        "id": "view-in-github",
        "colab_type": "text"
      },
      "source": [
        "<a href=\"https://colab.research.google.com/github/werowe/HypatiaAcademy/blob/master/class/2025_10_10_function_discussion_sort_agorithm.ipynb\" target=\"_parent\"><img src=\"https://colab.research.google.com/assets/colab-badge.svg\" alt=\"Open In Colab\"/></a>"
      ]
    },
    {
      "cell_type": "markdown",
      "source": [
        "# Lists\n",
        "\n",
        "| Function (Arguments)           | Description                                                               |\n",
        "|--------------------------------|---------------------------------------------------------------------------|\n",
        "| list(iterable)                 | Creates a new list from an iterable (string, tuple, etc.)                 |\n",
        "| append(element)                | Adds an element to the end of the list                                    |\n",
        "| copy()                         | Returns a shallow copy of the list                                        |\n",
        "| count(value)                   | Returns the number of occurrences of a value in the list                  |\n",
        "| clear()                        | Removes all elements from the list                                        |\n",
        "| remove(value)                  | Removes the first occurrence of a value in the list                       |\n",
        "| extend(iterable)               | Extends the list by adding elements from another iterable                 |\n",
        "| index(value)                   | Returns the index of the first occurrence of a value                      |\n",
        "| insert(index, value)           | Inserts an element at a specified position                                |\n",
        "| pop([index])                   | Removes and returns an element at a given index (default: last element)   |\n",
        "| reverse()                      | Reverses the order of elements in the list                                |\n",
        "| sort()                         | Sorts the list in ascending order by default                              |\n"
      ],
      "metadata": {
        "id": "t66VMyBdh_qj"
      }
    },
    {
      "cell_type": "code",
      "execution_count": null,
      "metadata": {
        "colab": {
          "base_uri": "https://localhost:8080/"
        },
        "id": "BUldE_Nfhhmr",
        "outputId": "d91ccdad-864e-4c3b-e48c-f1d2f85489d9"
      },
      "outputs": [
        {
          "output_type": "execute_result",
          "data": {
            "text/plain": [
              "[1, 2, 3, 4, 5, 6, 7, 8, 9]"
            ]
          },
          "metadata": {},
          "execution_count": 4
        }
      ],
      "source": [
        "# here we use the function called sorted.  it works with any iterable\n",
        "# other students did list.sort() which only works with a list\n",
        "\n",
        "\n",
        "l=[9,8,7,6,5,4,3,2,1]\n",
        "m=sorted(l)\n",
        "m"
      ]
    },
    {
      "cell_type": "code",
      "source": [
        "m[2]=\"x\"\n",
        "m"
      ],
      "metadata": {
        "colab": {
          "base_uri": "https://localhost:8080/"
        },
        "id": "SzogWOERs4MM",
        "outputId": "2175dca5-a7d9-4a8c-cadf-c5b8837a930c"
      },
      "execution_count": null,
      "outputs": [
        {
          "output_type": "execute_result",
          "data": {
            "text/plain": [
              "[1, 2, 'x', 4, 5, 6, 7, 8, 9]"
            ]
          },
          "metadata": {},
          "execution_count": 9
        }
      ]
    },
    {
      "cell_type": "code",
      "source": [
        "l.sort()\n",
        "print(l)"
      ],
      "metadata": {
        "colab": {
          "base_uri": "https://localhost:8080/"
        },
        "id": "eUsX9ZvosFL4",
        "outputId": "3909c6f2-50ad-48cf-c6cc-75d56c5792ac"
      },
      "execution_count": null,
      "outputs": [
        {
          "output_type": "stream",
          "name": "stdout",
          "text": [
            "[1, 2, 3, 4, 5, 6, 7, 8, 9]\n"
          ]
        }
      ]
    },
    {
      "cell_type": "markdown",
      "source": [
        "You can sort a dictionary because it is an iterable"
      ],
      "metadata": {
        "id": "NtTXWfWZj6Gf"
      }
    },
    {
      "cell_type": "code",
      "source": [
        "sorted({\"f\": 1,\n",
        "        \"e\": 2,\n",
        "        \"d\": 3,\n",
        "        \"c\": 4,\n",
        "        \"b\": 5})"
      ],
      "metadata": {
        "colab": {
          "base_uri": "https://localhost:8080/"
        },
        "id": "rclNz2sFjnTK",
        "outputId": "ac06ecb2-3772-4899-9817-3b4ca5aa2504"
      },
      "execution_count": null,
      "outputs": [
        {
          "output_type": "execute_result",
          "data": {
            "text/plain": [
              "['b', 'c', 'd', 'e', 'f']"
            ]
          },
          "metadata": {},
          "execution_count": 2
        }
      ]
    },
    {
      "cell_type": "markdown",
      "source": [
        "Assignable"
      ],
      "metadata": {
        "id": "dsJlhU9sjWQ4"
      }
    },
    {
      "cell_type": "code",
      "source": [
        "t = [1,2,3]\n",
        "t[2] = 4\n",
        "t"
      ],
      "metadata": {
        "colab": {
          "base_uri": "https://localhost:8080/"
        },
        "id": "gindvNx2jRIU",
        "outputId": "c90c0e18-7b4c-4f30-c691-acd85ed701cf"
      },
      "execution_count": null,
      "outputs": [
        {
          "output_type": "execute_result",
          "data": {
            "text/plain": [
              "[1, 2, 4]"
            ]
          },
          "metadata": {},
          "execution_count": 11
        }
      ]
    },
    {
      "cell_type": "code",
      "source": [
        "# something that you cannot change is immutable\n",
        "\n",
        "# set\n",
        "s = {1,2,3}\n",
        "s[2] = 0\n",
        "\n",
        "type(s)\n"
      ],
      "metadata": {
        "colab": {
          "base_uri": "https://localhost:8080/"
        },
        "id": "G8j2JDLZhrR_",
        "outputId": "c74c9816-b0bf-4222-8b72-77a01365d7c4"
      },
      "execution_count": null,
      "outputs": [
        {
          "output_type": "execute_result",
          "data": {
            "text/plain": [
              "set"
            ]
          },
          "metadata": {},
          "execution_count": 11
        }
      ]
    },
    {
      "cell_type": "code",
      "source": [
        "type(l)"
      ],
      "metadata": {
        "colab": {
          "base_uri": "https://localhost:8080/"
        },
        "id": "Em9M5KvWtB4B",
        "outputId": "c7dbc1a6-5dd7-43c1-b66d-ad5978fab4d0"
      },
      "execution_count": null,
      "outputs": [
        {
          "output_type": "execute_result",
          "data": {
            "text/plain": [
              "list"
            ]
          },
          "metadata": {},
          "execution_count": 12
        }
      ]
    },
    {
      "cell_type": "code",
      "source": [
        "t = (1,2,3)\n",
        "t[0]=1"
      ],
      "metadata": {
        "colab": {
          "base_uri": "https://localhost:8080/",
          "height": 162
        },
        "id": "1X5GWKJPsvNE",
        "outputId": "12a27670-f96c-45ac-9458-40e90b93c932"
      },
      "execution_count": null,
      "outputs": [
        {
          "output_type": "error",
          "ename": "TypeError",
          "evalue": "'tuple' object does not support item assignment",
          "traceback": [
            "\u001b[0;31m---------------------------------------------------------------------------\u001b[0m",
            "\u001b[0;31mTypeError\u001b[0m                                 Traceback (most recent call last)",
            "\u001b[0;32m/tmp/ipython-input-859626368.py\u001b[0m in \u001b[0;36m<cell line: 0>\u001b[0;34m()\u001b[0m\n\u001b[1;32m      1\u001b[0m \u001b[0mt\u001b[0m \u001b[0;34m=\u001b[0m \u001b[0;34m(\u001b[0m\u001b[0;36m1\u001b[0m\u001b[0;34m,\u001b[0m\u001b[0;36m2\u001b[0m\u001b[0;34m,\u001b[0m\u001b[0;36m3\u001b[0m\u001b[0;34m)\u001b[0m\u001b[0;34m\u001b[0m\u001b[0;34m\u001b[0m\u001b[0m\n\u001b[0;32m----> 2\u001b[0;31m \u001b[0mt\u001b[0m\u001b[0;34m[\u001b[0m\u001b[0;36m0\u001b[0m\u001b[0;34m]\u001b[0m\u001b[0;34m=\u001b[0m\u001b[0;36m1\u001b[0m\u001b[0;34m\u001b[0m\u001b[0;34m\u001b[0m\u001b[0m\n\u001b[0m",
            "\u001b[0;31mTypeError\u001b[0m: 'tuple' object does not support item assignment"
          ]
        }
      ]
    },
    {
      "cell_type": "code",
      "source": [
        "name = \"Walker\"\n",
        "\n",
        "name[1] = \"j\""
      ],
      "metadata": {
        "id": "gkDYPycCJg2V",
        "outputId": "47a8c864-ced3-4b65-9f8f-9e5ae4fcbb4a",
        "colab": {
          "base_uri": "https://localhost:8080/"
        }
      },
      "execution_count": null,
      "outputs": [
        {
          "output_type": "error",
          "ename": "TypeError",
          "evalue": "'str' object does not support item assignment",
          "traceback": [
            "\u001b[0;31m---------------------------------------------------------------------------\u001b[0m",
            "\u001b[0;31mTypeError\u001b[0m                                 Traceback (most recent call last)",
            "\u001b[0;32m/tmp/ipython-input-2514706526.py\u001b[0m in \u001b[0;36m<cell line: 0>\u001b[0;34m()\u001b[0m\n\u001b[1;32m      1\u001b[0m \u001b[0mname\u001b[0m \u001b[0;34m=\u001b[0m \u001b[0;34m\"Walker\"\u001b[0m\u001b[0;34m\u001b[0m\u001b[0;34m\u001b[0m\u001b[0m\n\u001b[1;32m      2\u001b[0m \u001b[0;34m\u001b[0m\u001b[0m\n\u001b[0;32m----> 3\u001b[0;31m \u001b[0mname\u001b[0m\u001b[0;34m[\u001b[0m\u001b[0;36m1\u001b[0m\u001b[0;34m]\u001b[0m \u001b[0;34m=\u001b[0m \u001b[0;34m\"j\"\u001b[0m\u001b[0;34m\u001b[0m\u001b[0;34m\u001b[0m\u001b[0m\n\u001b[0m",
            "\u001b[0;31mTypeError\u001b[0m: 'str' object does not support item assignment"
          ]
        }
      ]
    },
    {
      "cell_type": "code",
      "source": [
        "sorted(s)"
      ],
      "metadata": {
        "colab": {
          "base_uri": "https://localhost:8080/"
        },
        "id": "7FjCq6YbjY8T",
        "outputId": "9ddc9c63-81ed-4dc5-9f70-b4bde0ae0602"
      },
      "execution_count": null,
      "outputs": [
        {
          "output_type": "execute_result",
          "data": {
            "text/plain": [
              "[1, 2, 3]"
            ]
          },
          "metadata": {},
          "execution_count": 13
        }
      ]
    },
    {
      "cell_type": "code",
      "source": [
        "# I made the mistake of thinkging that l.sort() returns a new list.  No .  It sorts in place\n",
        "\n",
        "l=[9,8,7,6,5,4,3,2,1]\n",
        "n=l.sort()\n",
        "print(n)"
      ],
      "metadata": {
        "colab": {
          "base_uri": "https://localhost:8080/"
        },
        "id": "VzPuUJVohrkf",
        "outputId": "61975d64-d356-46f5-ec40-d9da03c92d94"
      },
      "execution_count": null,
      "outputs": [
        {
          "output_type": "stream",
          "name": "stdout",
          "text": [
            "None\n"
          ]
        }
      ]
    },
    {
      "cell_type": "markdown",
      "source": [
        "Difference must be in the display.  "
      ],
      "metadata": {
        "id": "1TaAwTBPiy4d"
      }
    },
    {
      "cell_type": "code",
      "source": [
        "l.sort() #<-----does it returns none.  No.  I works in place.  In-situ.\n",
        "l"
      ],
      "metadata": {
        "colab": {
          "base_uri": "https://localhost:8080/"
        },
        "id": "skOnHfnJh2Zl",
        "outputId": "af47f95b-951e-4327-e2d5-09a256f72945"
      },
      "execution_count": null,
      "outputs": [
        {
          "output_type": "execute_result",
          "data": {
            "text/plain": [
              "[1, 2, 3, 4, 5, 6, 7, 8, 9]"
            ]
          },
          "metadata": {},
          "execution_count": 9
        }
      ]
    },
    {
      "cell_type": "code",
      "source": [
        "None == L.sort()"
      ],
      "metadata": {
        "id": "-FqlVPFVh6cL"
      },
      "execution_count": null,
      "outputs": []
    },
    {
      "cell_type": "markdown",
      "source": [
        "You can make a list from an iterable"
      ],
      "metadata": {
        "id": "9LtQddWukCpj"
      }
    },
    {
      "cell_type": "code",
      "source": [
        "range(0,10,2)"
      ],
      "metadata": {
        "colab": {
          "base_uri": "https://localhost:8080/"
        },
        "id": "1Z1EvCLmkG_S",
        "outputId": "a908d7b3-0e1b-4b9a-e4d1-3c318089db57"
      },
      "execution_count": null,
      "outputs": [
        {
          "output_type": "execute_result",
          "data": {
            "text/plain": [
              "range(0, 10, 2)"
            ]
          },
          "metadata": {},
          "execution_count": 14
        }
      ]
    },
    {
      "cell_type": "code",
      "source": [
        "for i in range(0,10,2):\n",
        "  print(i)"
      ],
      "metadata": {
        "colab": {
          "base_uri": "https://localhost:8080/"
        },
        "id": "w94RL_81kKhf",
        "outputId": "5446154c-16c4-4ea3-8004-6ad06dc66506"
      },
      "execution_count": null,
      "outputs": [
        {
          "output_type": "stream",
          "name": "stdout",
          "text": [
            "0\n",
            "2\n",
            "4\n",
            "6\n",
            "8\n"
          ]
        }
      ]
    },
    {
      "cell_type": "code",
      "source": [
        "for i in range(5):\n",
        "  print(i)"
      ],
      "metadata": {
        "colab": {
          "base_uri": "https://localhost:8080/"
        },
        "id": "7MY1WSrZtgOi",
        "outputId": "ad6bbabb-32ec-4697-852d-0d19219176b8"
      },
      "execution_count": null,
      "outputs": [
        {
          "output_type": "stream",
          "name": "stdout",
          "text": [
            "0\n",
            "1\n",
            "2\n",
            "3\n",
            "4\n"
          ]
        }
      ]
    },
    {
      "cell_type": "code",
      "source": [
        "list(range(5))"
      ],
      "metadata": {
        "colab": {
          "base_uri": "https://localhost:8080/"
        },
        "id": "H9iG3xyniPhH",
        "outputId": "4eec7c01-20a1-4f36-f54b-d0c08753287f"
      },
      "execution_count": null,
      "outputs": [
        {
          "output_type": "execute_result",
          "data": {
            "text/plain": [
              "[0, 1, 2, 3, 4]"
            ]
          },
          "metadata": {},
          "execution_count": 17
        }
      ]
    },
    {
      "cell_type": "code",
      "source": [
        "students = [\"Sam\", \"Jill\", \"Fred\"]\n",
        "\n",
        "students.index(\"Jill\")"
      ],
      "metadata": {
        "colab": {
          "base_uri": "https://localhost:8080/"
        },
        "id": "gXaq46j1iZ38",
        "outputId": "3d3a2a05-3d35-43e8-8d65-2fd613ceb745"
      },
      "execution_count": null,
      "outputs": [
        {
          "output_type": "execute_result",
          "data": {
            "text/plain": [
              "1"
            ]
          },
          "metadata": {},
          "execution_count": 18
        }
      ]
    },
    {
      "cell_type": "code",
      "source": [
        "# this is a list comprehension\n",
        "\n",
        "[i**2 for i in [2,4,6]]"
      ],
      "metadata": {
        "colab": {
          "base_uri": "https://localhost:8080/"
        },
        "id": "nUyxi_BSt2Ql",
        "outputId": "93333962-86ab-4b55-d126-20e210494a10"
      },
      "execution_count": null,
      "outputs": [
        {
          "output_type": "execute_result",
          "data": {
            "text/plain": [
              "[4, 16, 36]"
            ]
          },
          "metadata": {},
          "execution_count": 19
        }
      ]
    },
    {
      "cell_type": "code",
      "source": [
        "[i**2 for i in [2,4,6] if i%2==0]"
      ],
      "metadata": {
        "colab": {
          "base_uri": "https://localhost:8080/"
        },
        "id": "EM7wtlTut8cu",
        "outputId": "a9a789b4-124e-433b-e6d0-f329e2fb747b"
      },
      "execution_count": null,
      "outputs": [
        {
          "output_type": "execute_result",
          "data": {
            "text/plain": [
              "[4, 16, 36]"
            ]
          },
          "metadata": {},
          "execution_count": 20
        }
      ]
    },
    {
      "cell_type": "markdown",
      "source": [
        "# Homework:  Implement Sort Algorithm\n",
        "\n",
        "do pairwise comparison a, b.  if a > b then swap a and b.  do it is one step like this:\n",
        "\n",
        "a , b = b , a\n",
        "\n",
        "hints below\n",
        "\n"
      ],
      "metadata": {
        "id": "exwFCcc9kbOc"
      }
    },
    {
      "cell_type": "code",
      "source": [
        "a=[3,5,1,2]\n",
        "a.sort()\n",
        "a"
      ],
      "metadata": {
        "colab": {
          "base_uri": "https://localhost:8080/"
        },
        "id": "_OYoO5d2uKjo",
        "outputId": "fa17e6c7-f265-43d4-b0f3-0c3324bcd57e"
      },
      "execution_count": null,
      "outputs": [
        {
          "output_type": "execute_result",
          "data": {
            "text/plain": [
              "[1, 2, 3, 5]"
            ]
          },
          "metadata": {},
          "execution_count": 22
        }
      ]
    },
    {
      "cell_type": "code",
      "source": [
        "# where do we start\n",
        "\n",
        "#DO IT MANUALLY FIRST\n",
        "\n",
        "\n",
        "3 > 5\n",
        "5 > 1\n",
        "\n",
        "[3,1,5,2]\n",
        "\n",
        "5 > 2\n",
        "\n",
        "[3,1,2,5]\n",
        "\n",
        "# start over\n",
        "\n",
        "3 > 1\n",
        "[1,3,2,5]\n",
        "\n",
        "3 > 2\n",
        "\n",
        "[1,2,3,5]\n",
        "\n",
        "\n",
        "# pair wise comparisons\n",
        "\n",
        "a=[3,1,5,2]\n",
        "b=a\n",
        "\n",
        "\n",
        "a[0] > a[1]\n",
        "\n",
        "# swap in one step of swap in two steps\n",
        "\n",
        "\n",
        "# two steps\n",
        "# here we used a temporary value.  sometimes I call it work\n",
        "\n",
        "temporary = a[0]\n",
        "a[0] = a[1]\n",
        "a[1] = temporary\n",
        "\n",
        "a[0], a[1]\n",
        "\n",
        "# one step\n",
        "\n",
        "a[2], a[3] = a[3], a[2]\n",
        "\n",
        "a\n",
        "\n",
        "a[1], a[2] = a[2], a[1]\n",
        "\n",
        "a"
      ],
      "metadata": {
        "colab": {
          "base_uri": "https://localhost:8080/"
        },
        "id": "-J_K6UhquV7d",
        "outputId": "977ceead-bc34-462d-f259-822928570086"
      },
      "execution_count": null,
      "outputs": [
        {
          "output_type": "execute_result",
          "data": {
            "text/plain": [
              "[1, 2, 3, 5]"
            ]
          },
          "metadata": {},
          "execution_count": 33
        }
      ]
    },
    {
      "cell_type": "code",
      "source": [
        "[a[0] <= a[1] < a[2] < a[3]]"
      ],
      "metadata": {
        "colab": {
          "base_uri": "https://localhost:8080/"
        },
        "id": "B2tbCKclxdaN",
        "outputId": "e28821f1-4926-4240-c7d0-491f6d995adb"
      },
      "execution_count": null,
      "outputs": [
        {
          "output_type": "execute_result",
          "data": {
            "text/plain": [
              "[True]"
            ]
          },
          "metadata": {},
          "execution_count": 36
        }
      ]
    },
    {
      "cell_type": "code",
      "source": [
        "[1,1,2,3]"
      ],
      "metadata": {
        "id": "SidbyfTyxpgs"
      },
      "execution_count": null,
      "outputs": []
    },
    {
      "cell_type": "code",
      "source": [
        "# swap two elements is how you sort.\n",
        "# swap like this\n",
        "\n",
        "a = 3\n",
        "b = 2\n",
        "\n",
        "if a > b:\n",
        "  a , b = b, a\n",
        "\n",
        "# we don't check if a < b\n",
        "# because that is the definition of sorted\n",
        "\n",
        "\n",
        "a,b"
      ],
      "metadata": {
        "colab": {
          "base_uri": "https://localhost:8080/"
        },
        "id": "I7PCi3eVmDWO",
        "outputId": "1a9acf83-680c-4c1b-ddf2-e4395c506e4f"
      },
      "execution_count": null,
      "outputs": [
        {
          "output_type": "execute_result",
          "data": {
            "text/plain": [
              "(2, 3)"
            ]
          },
          "metadata": {},
          "execution_count": 29
        }
      ]
    },
    {
      "cell_type": "code",
      "source": [
        "# and with a list\n",
        "\n",
        "h = [2,1]\n",
        "\n",
        "if h[0] > h[1]:\n",
        "  h[0], h[1] = h[1], h[0]\n",
        "\n",
        "h[0], h[1]\n"
      ],
      "metadata": {
        "colab": {
          "base_uri": "https://localhost:8080/"
        },
        "id": "5lySG03QmYzB",
        "outputId": "c3aba171-2641-4b86-a2a3-818f06ffb77c"
      },
      "execution_count": null,
      "outputs": [
        {
          "output_type": "execute_result",
          "data": {
            "text/plain": [
              "(1, 2)"
            ]
          },
          "metadata": {},
          "execution_count": 31
        }
      ]
    },
    {
      "cell_type": "code",
      "source": [
        "# enumerate means to list\n",
        "\n",
        "# KEY POINT:  to do pair wise comparisons first make a copy of the list\n",
        "# then look every possible pair\n",
        "\n",
        "\n",
        "\n",
        "a = [1, 2, 3]\n",
        "b = a.copy()\n",
        "\n",
        "\n",
        "\n",
        "\n",
        "cnt = 0\n",
        "for i in a:\n",
        "  for j in b:\n",
        "    print(cnt,[i,j])\n",
        "\n",
        "    # now check if i > j if so swap\n",
        "\n",
        "    cnt += 1"
      ],
      "metadata": {
        "colab": {
          "base_uri": "https://localhost:8080/"
        },
        "id": "nFbSfqwNyIpI",
        "outputId": "83897d23-fc71-431b-82cb-43b5599d26c0"
      },
      "execution_count": null,
      "outputs": [
        {
          "output_type": "stream",
          "name": "stdout",
          "text": [
            "0 [1, 1]\n",
            "1 [1, 2]\n",
            "2 [1, 3]\n",
            "3 [2, 1]\n",
            "4 [2, 2]\n",
            "5 [2, 3]\n",
            "6 [3, 1]\n",
            "7 [3, 2]\n",
            "8 [3, 3]\n"
          ]
        }
      ]
    },
    {
      "cell_type": "code",
      "source": [
        "# POINT OF CLARIFICATION.  What is we use one list\n",
        "# THIS MIGHT BE EASIER\n",
        "\n",
        "\n",
        "\n",
        "cnt = 0\n",
        "for i in a:\n",
        "  for j in a:\n",
        "    print(cnt,[i,j])\n",
        "\n",
        "    # now check if i > j if so swap\n",
        "\n",
        "    cnt += 1\n"
      ],
      "metadata": {
        "colab": {
          "base_uri": "https://localhost:8080/"
        },
        "id": "Ocr6r8FT0pyB",
        "outputId": "d42544af-3234-4bdb-df3b-1ef44b9fb5c3"
      },
      "execution_count": null,
      "outputs": [
        {
          "output_type": "stream",
          "name": "stdout",
          "text": [
            "0 [1, 1]\n",
            "1 [1, 2]\n",
            "2 [1, 3]\n",
            "3 [2, 1]\n",
            "4 [2, 2]\n",
            "5 [2, 3]\n",
            "6 [3, 1]\n",
            "7 [3, 2]\n",
            "8 [3, 3]\n"
          ]
        }
      ]
    },
    {
      "cell_type": "code",
      "source": [
        "# HOW DO WE SWAP\n",
        "\n",
        "# we swap based on the index\n",
        "\n",
        "c = [1,2,3]\n",
        "\n",
        "for i in c:\n",
        "  print(i)\n",
        "  # we don't know the index of the element in in c\n",
        "  # so we can't write c[?]\n",
        "  # so we need to count\n"
      ],
      "metadata": {
        "id": "-HTCW2oM1CB1"
      },
      "execution_count": null,
      "outputs": []
    },
    {
      "cell_type": "code",
      "source": [
        "# subtle.  this technique would be more complicated.  figure it out if you want to\n",
        "\n",
        "l = [5,4,3,2,1]\n",
        "\n",
        "# g and l are the same\n",
        "g = l\n",
        "\n",
        "# there are many ways to do pairwise comparisons.  here is one:\n",
        "\n",
        "for i in l:\n",
        "  # update g by takeing the next value.  remember we start at 0 so 1: means take from the 2nd positon\n",
        "  g = g[1:]\n",
        "  print(l, g)"
      ],
      "metadata": {
        "colab": {
          "base_uri": "https://localhost:8080/"
        },
        "id": "RCS7-849k8Zd",
        "outputId": "267690cc-67a9-41a8-a369-3773fd40ac3b"
      },
      "execution_count": null,
      "outputs": [
        {
          "output_type": "stream",
          "name": "stdout",
          "text": [
            "[5, 4, 3, 2, 1] [4, 3, 2, 1]\n",
            "[5, 4, 3, 2, 1] [3, 2, 1]\n",
            "[5, 4, 3, 2, 1] [2, 1]\n",
            "[5, 4, 3, 2, 1] [1]\n",
            "[5, 4, 3, 2, 1] []\n"
          ]
        }
      ]
    },
    {
      "cell_type": "code",
      "source": [
        "# slicing operations\n",
        "\n",
        "\n",
        "l[1:4:2]\n"
      ],
      "metadata": {
        "colab": {
          "base_uri": "https://localhost:8080/"
        },
        "id": "v3zjc2e6zQ3h",
        "outputId": "efa65026-e478-4e69-ede5-5f123932a550"
      },
      "execution_count": null,
      "outputs": [
        {
          "output_type": "execute_result",
          "data": {
            "text/plain": [
              "[4, 2]"
            ]
          },
          "metadata": {},
          "execution_count": 51
        }
      ]
    },
    {
      "cell_type": "code",
      "source": [
        "# you could also make copy lists and compare them\n",
        "\n",
        "# USE THIS\n",
        "# do pairwise comparisons\n",
        "# then use the > and the swap to sort the list\n",
        "\n",
        "\n",
        "l = [4,3,2,1]\n",
        "k = l.copy()\n",
        "\n",
        "for i in l:\n",
        "  for j in k:\n",
        "    print(i,j)"
      ],
      "metadata": {
        "colab": {
          "base_uri": "https://localhost:8080/"
        },
        "id": "Gts8kmBJlrPq",
        "outputId": "056d6c75-cb49-4ce3-f2f2-a480a0856e9c"
      },
      "execution_count": null,
      "outputs": [
        {
          "output_type": "stream",
          "name": "stdout",
          "text": [
            "4 4\n",
            "4 3\n",
            "4 2\n",
            "4 1\n",
            "3 4\n",
            "3 3\n",
            "3 2\n",
            "3 1\n",
            "2 4\n",
            "2 3\n",
            "2 2\n",
            "2 1\n",
            "1 4\n",
            "1 3\n",
            "1 2\n",
            "1 1\n"
          ]
        }
      ]
    },
    {
      "cell_type": "code",
      "source": [
        "# FINAL EASY WAY RECOMMENDATION\n",
        "\n",
        "\n",
        "\n",
        "l = [4,3,2,1]\n",
        "\n",
        "\n",
        "for i in range(len(l)):\n",
        "  for j in range(len(l)):\n",
        "      print(f\"outer index {i} inner index {j} the element at i and j\",[l[i],l[j]])\n",
        "      # ALL YOU NEED TO DO\n",
        "      # HERE 1) test which is bigger 2) swap\n",
        "      # for example you could write l[i], l[j] = l[j], l[i]\n",
        "\n",
        "      FINISH CODE\n",
        "\n"
      ],
      "metadata": {
        "colab": {
          "base_uri": "https://localhost:8080/"
        },
        "id": "_bbvgQ701Vzi",
        "outputId": "a516e1fd-3056-4f97-f383-a88db89181c8"
      },
      "execution_count": null,
      "outputs": [
        {
          "output_type": "stream",
          "name": "stdout",
          "text": [
            "outer index 0 inner index 0 the element at i and j [4, 4]\n",
            "outer index 0 inner index 1 the element at i and j [4, 3]\n",
            "outer index 0 inner index 2 the element at i and j [4, 2]\n",
            "outer index 0 inner index 3 the element at i and j [4, 1]\n",
            "outer index 1 inner index 0 the element at i and j [3, 4]\n",
            "outer index 1 inner index 1 the element at i and j [3, 3]\n",
            "outer index 1 inner index 2 the element at i and j [3, 2]\n",
            "outer index 1 inner index 3 the element at i and j [3, 1]\n",
            "outer index 2 inner index 0 the element at i and j [2, 4]\n",
            "outer index 2 inner index 1 the element at i and j [2, 3]\n",
            "outer index 2 inner index 2 the element at i and j [2, 2]\n",
            "outer index 2 inner index 3 the element at i and j [2, 1]\n",
            "outer index 3 inner index 0 the element at i and j [1, 4]\n",
            "outer index 3 inner index 1 the element at i and j [1, 3]\n",
            "outer index 3 inner index 2 the element at i and j [1, 2]\n",
            "outer index 3 inner index 3 the element at i and j [1, 1]\n"
          ]
        }
      ]
    },
    {
      "cell_type": "code",
      "source": [
        "len(l)"
      ],
      "metadata": {
        "colab": {
          "base_uri": "https://localhost:8080/"
        },
        "id": "kuvVL3Pg1fJV",
        "outputId": "6759aff6-290d-4a27-8dcd-4c073fa49aeb"
      },
      "execution_count": null,
      "outputs": [
        {
          "output_type": "execute_result",
          "data": {
            "text/plain": [
              "5"
            ]
          },
          "metadata": {},
          "execution_count": 53
        }
      ]
    },
    {
      "cell_type": "markdown",
      "source": [
        "# Dictionaries\n",
        "\n",
        "These are key-value pairs.\n"
      ],
      "metadata": {
        "id": "jLSbLoBIyyUz"
      }
    },
    {
      "cell_type": "code",
      "source": [
        "l = [1,2,3]\n",
        "type(l)"
      ],
      "metadata": {
        "colab": {
          "base_uri": "https://localhost:8080/"
        },
        "id": "5UdhriNsy22l",
        "outputId": "d5d13ff6-fef0-460b-95b1-7ea52ee34dc4"
      },
      "execution_count": 1,
      "outputs": [
        {
          "output_type": "execute_result",
          "data": {
            "text/plain": [
              "list"
            ]
          },
          "metadata": {},
          "execution_count": 1
        }
      ]
    },
    {
      "cell_type": "code",
      "source": [
        "student = {\n",
        "    \"name\": \"Petro\",\n",
        "    \"age\": 15,\n",
        "    \"isGoofy\": True\n",
        "}\n",
        "\n",
        "student\n",
        "\n"
      ],
      "metadata": {
        "colab": {
          "base_uri": "https://localhost:8080/"
        },
        "id": "q-xsA9KWy7gQ",
        "outputId": "3534bd90-5db3-451c-c16a-53b2af60bed5"
      },
      "execution_count": 4,
      "outputs": [
        {
          "output_type": "execute_result",
          "data": {
            "text/plain": [
              "{'name': 'Petro', 'age': 15, 'isGoofy': True}"
            ]
          },
          "metadata": {},
          "execution_count": 4
        }
      ]
    },
    {
      "cell_type": "code",
      "source": [
        "student.keys()"
      ],
      "metadata": {
        "colab": {
          "base_uri": "https://localhost:8080/"
        },
        "id": "vSCXmFSlzT7i",
        "outputId": "2bd04789-4f31-4a3a-f9b3-2bd23257332a"
      },
      "execution_count": 5,
      "outputs": [
        {
          "output_type": "execute_result",
          "data": {
            "text/plain": [
              "dict_keys(['name', 'age', 'isGoofy'])"
            ]
          },
          "metadata": {},
          "execution_count": 5
        }
      ]
    },
    {
      "cell_type": "code",
      "source": [
        "student.values()"
      ],
      "metadata": {
        "colab": {
          "base_uri": "https://localhost:8080/"
        },
        "id": "wrMasJ9azYsr",
        "outputId": "b7bda139-5f7d-4f34-c2c2-ad0a5e97bc40"
      },
      "execution_count": 6,
      "outputs": [
        {
          "output_type": "execute_result",
          "data": {
            "text/plain": [
              "dict_values(['Petro', 15, True])"
            ]
          },
          "metadata": {},
          "execution_count": 6
        }
      ]
    },
    {
      "cell_type": "code",
      "source": [
        "for k in student.keys():\n",
        "  print(\"key\", k)"
      ],
      "metadata": {
        "colab": {
          "base_uri": "https://localhost:8080/"
        },
        "id": "SI0LIc-Izf5X",
        "outputId": "cab27044-18c9-4684-aa75-ca61ca2b7633"
      },
      "execution_count": 7,
      "outputs": [
        {
          "output_type": "stream",
          "name": "stdout",
          "text": [
            "key name\n",
            "key age\n",
            "key isGoofy\n"
          ]
        }
      ]
    },
    {
      "cell_type": "code",
      "source": [
        "student['address']='123 Old Street'"
      ],
      "metadata": {
        "id": "plELyG3Gzy2N"
      },
      "execution_count": 10,
      "outputs": []
    },
    {
      "cell_type": "code",
      "source": [
        "for k, v in student.items():\n",
        "  print(\"key\", k, \"\\tvalue\", v)"
      ],
      "metadata": {
        "colab": {
          "base_uri": "https://localhost:8080/"
        },
        "id": "eH6u5JBXzlxJ",
        "outputId": "2ffe3e35-4b02-41af-8734-d1ad250d06bf"
      },
      "execution_count": 11,
      "outputs": [
        {
          "output_type": "stream",
          "name": "stdout",
          "text": [
            "key name \tvalue Petro\n",
            "key age \tvalue 15\n",
            "key isGoofy \tvalue True\n",
            "key address \tvalue 123 Old Street\n"
          ]
        }
      ]
    },
    {
      "cell_type": "code",
      "source": [
        "ela = {\n",
        "    \"name\": \"Ela\",\n",
        "    \"age\": 19,\n",
        "    \"isGoofy\": True\n",
        "}\n",
        "\n",
        "rebecca = {\n",
        "    \"name\": \"Rebecca\",\n",
        "    \"age\": 21,\n",
        "    \"isGoofy\": True\n",
        "}\n",
        "\n",
        "\n",
        "pclass = [ela, rebecca]\n",
        "\n",
        "print(pclass)\n"
      ],
      "metadata": {
        "colab": {
          "base_uri": "https://localhost:8080/"
        },
        "id": "xsmqWv5rz9T5",
        "outputId": "ea3d931c-019c-4717-e2a1-f797ce67e3da"
      },
      "execution_count": 13,
      "outputs": [
        {
          "output_type": "stream",
          "name": "stdout",
          "text": [
            "[{'name': 'Ela', 'age': 19, 'isGoofy': True}, {'name': 'Rebecca', 'age': 21, 'isGoofy': True}]\n"
          ]
        }
      ]
    },
    {
      "cell_type": "code",
      "source": [
        "for student in pclass:\n",
        "  for k,v in student.items():\n",
        "    print(f\"{k}={v}\")"
      ],
      "metadata": {
        "colab": {
          "base_uri": "https://localhost:8080/"
        },
        "id": "-fHPoytJ0aW1",
        "outputId": "ba2bde00-a0fa-4301-b4c9-7eece8ba04c3"
      },
      "execution_count": 18,
      "outputs": [
        {
          "output_type": "stream",
          "name": "stdout",
          "text": [
            "name=Ela\n",
            "age=19\n",
            "isGoofy=True\n",
            "name=Rebecca\n",
            "age=21\n",
            "isGoofy=True\n"
          ]
        }
      ]
    },
    {
      "cell_type": "code",
      "source": [
        "ela.items()"
      ],
      "metadata": {
        "colab": {
          "base_uri": "https://localhost:8080/"
        },
        "id": "uFvWyMud0_Aj",
        "outputId": "14769392-7e16-44d8-8d35-d42f8249f1ed"
      },
      "execution_count": 20,
      "outputs": [
        {
          "output_type": "execute_result",
          "data": {
            "text/plain": [
              "dict_items([('name', 'Ela'), ('age', 19), ('isGoofy', True)])"
            ]
          },
          "metadata": {},
          "execution_count": 20
        }
      ]
    },
    {
      "cell_type": "code",
      "source": [
        "l = [\"name\", \"age\", \"isGoofy\"]\n",
        "\n",
        "dl=dict.fromkeys(l)\n",
        "\n",
        "dl\n",
        "\n",
        "# hint:  use update() with a list of three values"
      ],
      "metadata": {
        "colab": {
          "base_uri": "https://localhost:8080/"
        },
        "id": "gxYYZJnn1dgL",
        "outputId": "3d4c6bcf-62de-4d44-f731-9766cbe7e086"
      },
      "execution_count": 24,
      "outputs": [
        {
          "output_type": "execute_result",
          "data": {
            "text/plain": [
              "{'name': None, 'age': None, 'isGoofy': None}"
            ]
          },
          "metadata": {},
          "execution_count": 24
        }
      ]
    },
    {
      "cell_type": "markdown",
      "source": [
        "# Homework\n",
        "\n",
        "1.  Figure out how to assign values to the dictionary dl above.\n",
        "\n",
        "2.  Create examples using 4 of these functions (not the easy ones, don't use what I already used.)\n",
        "\n",
        "| Method         | Description                                                      |\n",
        "|----------------|------------------------------------------------------------------|\n",
        "| clear()        | Removes all items from the dictionary                            |\n",
        "| copy()         | Returns a shallow copy of the dictionary                         |\n",
        "| fromkeys()     | Creates a new dictionary from an iterable of keys                |\n",
        "| get()          | Returns the value for a specified key                            |\n",
        "| items()        | Returns a view object of (key, value) pairs                      |\n",
        "| keys()         | Returns a view object of the dictionary’s keys                   |\n",
        "| pop()          | Removes and returns the value for a specified key                |\n",
        "| popitem()      | Removes and returns the last inserted (key, value) pair          |\n",
        "| setdefault()   | Returns the value of a key, inserting it with a default if not present |\n",
        "| update()       | Updates the dictionary with elements from another dict or iterable|\n",
        "| values()       | Returns a view object of the dictionary’s values                 |\n"
      ],
      "metadata": {
        "id": "J83Iu5IQ1Ric"
      }
    }
  ]
}