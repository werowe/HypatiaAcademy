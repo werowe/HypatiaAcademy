{
  "nbformat": 4,
  "nbformat_minor": 0,
  "metadata": {
    "colab": {
      "provenance": [],
      "authorship_tag": "ABX9TyPGGQwkYleBiH4R8/f7woQ9",
      "include_colab_link": true
    },
    "kernelspec": {
      "name": "python3",
      "display_name": "Python 3"
    },
    "language_info": {
      "name": "python"
    }
  },
  "cells": [
    {
      "cell_type": "markdown",
      "metadata": {
        "id": "view-in-github",
        "colab_type": "text"
      },
      "source": [
        "<a href=\"https://colab.research.google.com/github/werowe/HypatiaAcademy/blob/master/class/2024_11_19_regular_expressions.ipynb\" target=\"_parent\"><img src=\"https://colab.research.google.com/assets/colab-badge.svg\" alt=\"Open In Colab\"/></a>"
      ]
    },
    {
      "cell_type": "markdown",
      "source": [
        "[regex tester](https://regex101.com/)\n",
        "\n",
        "[regex cheat sheet](https://cheatography.com/davechild/cheat-sheets/regular-expressions/)\n"
      ],
      "metadata": {
        "id": "a9yQpRbjGd4w"
      }
    },
    {
      "cell_type": "code",
      "source": [
        "import re\n",
        "\n",
        "# re.match(): This function checks for a match only at the beginning of the string. If the pattern does not occur at the start, it returns None.\n",
        "\n",
        "# re.search(): This function scans the entire string for a match, returning the first occurrence found regardless of its position within the string.\n",
        "\n",
        "\n",
        "\n",
        "# text to match\n",
        "txt=\"2024-11-22\"\n",
        "\n",
        "\n",
        "# regular expression\n",
        "regex=\"(\\d+)-(\\d+)-(\\d+)\"\n",
        "\n",
        "# it looks like re.search() returns a match object\n",
        "x = re.search(regex, txt)\n",
        "\n",
        "#x = re.match(\"[0134256789]\", txt)\n",
        "\n",
        "#x = re.search(\"\\d.\", txt)\n",
        "\n",
        "x"
      ],
      "metadata": {
        "id": "kjS48cU3FjS9",
        "colab": {
          "base_uri": "https://localhost:8080/"
        },
        "outputId": "79413e7f-e2b6-47b6-d93c-192133ddd98a"
      },
      "execution_count": 8,
      "outputs": [
        {
          "output_type": "execute_result",
          "data": {
            "text/plain": [
              "<re.Match object; span=(0, 10), match='2024-11-22'>"
            ]
          },
          "metadata": {},
          "execution_count": 8
        }
      ]
    },
    {
      "cell_type": "code",
      "source": [
        "# matchobject.groups() shows what groups it match and prints them in a tuple\n",
        "\n",
        "x.groups()"
      ],
      "metadata": {
        "colab": {
          "base_uri": "https://localhost:8080/"
        },
        "id": "OmucuobdNAo2",
        "outputId": "67b04d49-a380-4eef-ffa8-6b43e225be06"
      },
      "execution_count": 10,
      "outputs": [
        {
          "output_type": "execute_result",
          "data": {
            "text/plain": [
              "('2024', '11', '22')"
            ]
          },
          "metadata": {},
          "execution_count": 10
        }
      ]
    },
    {
      "cell_type": "markdown",
      "source": [
        "# Python `re` Package Functions\n",
        "\n",
        "## Primary Functions in the `re` Module\n",
        "\n",
        "| **Function**       | **Description**                                                                                         |\n",
        "|---------------------|-------------------------------------------------------------------------------------------------------|\n",
        "| `re.compile(pattern, flags=0)` | Compiles a regular expression pattern into a regular expression object for reuse.              |\n",
        "| `re.match(pattern, string, flags=0)` | Attempts to match a pattern at the **beginning** of a string.                                 |\n",
        "| `re.search(pattern, string, flags=0)` | Searches the string for the first location where the pattern matches.                         |\n",
        "| `re.findall(pattern, string, flags=0)` | Returns all non-overlapping matches of the pattern in the string as a list.                    |\n",
        "| `re.finditer(pattern, string, flags=0)` | Returns an iterator yielding match objects for all non-overlapping matches in the string.      |\n",
        "| `re.fullmatch(pattern, string, flags=0)` | Matches the pattern **only** if it matches the entire string.                                 |\n",
        "| `re.split(pattern, string, maxsplit=0, flags=0)` | Splits the string by occurrences of the pattern. Returns a list.                             |\n",
        "| `re.sub(pattern, repl, string, count=0, flags=0)` | Replaces occurrences of the pattern with a replacement string (`repl`).                    |\n",
        "| `re.subn(pattern, repl, string, count=0, flags=0)` | Same as `re.sub`, but returns a tuple (`new_string`, `number_of_substitutions`).              |\n",
        "| `re.escape(string)` | Escapes all special characters in the string so they can be used literally in a regex pattern.         |\n",
        "| `re.purge()`        | Clears the regular expression cache.                                                                   |\n",
        "| `re.DEBUG`          | A flag that outputs debug information about the compiled regex when used with `re.compile`.            |\n",
        "\n",
        "---\n",
        "\n",
        "## RegexObject Methods (from `re.compile()`)\n",
        "\n",
        "| **RegexObject Method**       | **Description**                                                                                         |\n",
        "|-------------------------------|-------------------------------------------------------------------------------------------------------|\n",
        "| `pattern.match(string[, pos[, endpos]])` | Matches the pattern at the start of the string.                                                   |\n",
        "| `pattern.search(string[, pos[, endpos]])` | Searches for the first match in the string.                                                       |\n",
        "| `pattern.findall(string[, pos[, endpos]])` | Returns all non-overlapping matches in the string as a list.                                       |\n",
        "| `pattern.finditer(string[, pos[, endpos]])` | Returns an iterator yielding match objects for all matches in the string.                         |\n",
        "| `pattern.fullmatch(string[, pos[, endpos]])` | Matches the pattern **only** if it matches the entire string.                                      |\n",
        "| `pattern.split(string, maxsplit=0)` | Splits the string by occurrences of the pattern.                                                   |\n",
        "| `pattern.sub(repl, string, count=0)` | Replaces occurrences of the pattern with a replacement string (`repl`).                           |\n",
        "| `pattern.subn(repl, string, count=0)` | Same as `sub`, but returns a tuple (`new_string`, `number_of_substitutions`).                     |\n",
        "\n",
        "---\n",
        "\n",
        "## MatchObject Methods and Attributes\n",
        "\n",
        "| **MatchObject Method/Attribute**       | **Description**                                                                                         |\n",
        "|----------------------------------------|---------------------------------------------------------------------------------------------------------|\n",
        "| `match.group([group1, ...])` | Returns the string matched by the pattern or specific capturing group(s).                                  |\n",
        "| `match.groups(default=None)` | Returns all captured groups as a tuple.                                                                    |\n",
        "| `match.groupdict(default=None)` | Returns a dictionary of named groups.                                                                      |\n",
        "| `match.start([group])` | Returns the start position of the match or group.                                                            |\n",
        "| `match.end([group])` | Returns the end position of the match or group.                                                              |\n",
        "| `match.span([group])` | Returns a tuple `(start, end)` of the match or group.                                                         |\n",
        "| `match.string` | The original string passed to the matching function.                                                              |\n",
        "| `match.re` | The regular expression object that produced the match.                                                            |\n"
      ],
      "metadata": {
        "id": "WBD4o-m6GH4m"
      }
    },
    {
      "cell_type": "markdown",
      "source": [
        "# Items for discussion next time\n",
        "\n",
        "\n",
        "\n",
        "| **Question** | **Description** |\n",
        "|--------------|------------------|\n",
        "| **1. Regex Construction** | Write a regular expression that matches the following: starts with a lowercase letter, contains at least one uppercase letter, at least one digit, ends with a punctuation mark (e.g., `.`, `!`, or `?`), and has no whitespace characters. <br>**Example Matches:** `aB1!`, `cX9?`. <br>**Non-Matches:** `aB 1!`, `ab1`. |\n",
        "| **2. Regex Debugging** | The following regex is designed to match email addresses: <br>`^[a-zA-Z0-9._%+-]+@[a-zA-Z0-9.-]+\\.[a-zA-Z]{2,}$`. <br>It fails for some valid emails and incorrectly matches some invalid ones. <br>Identify two issues and provide a corrected version. |\n",
        "| **3. Extracting IPv4 Addresses** | Given a string containing IP addresses, write a regular expression to extract valid IPv4 addresses. A valid IPv4 address has four octets (0-255). <br>**Example Text:** `The server IPs are 192.168.1.1 and 10.0.0.256, but 999.999.999.999 is not valid.` <br>**Match:** `192.168.1.1`. <br>**Non-Match:** `10.0.0.256`. |\n",
        "| **4. Palindrome Matching** | Write a regex to capture words that are palindromes (e.g., `madam`, `level`, `racecar`). <br>Words contain only alphabetic characters and are separated by spaces or punctuation. <br>**Non-Matches:** `hello`, `world`. |\n"
      ],
      "metadata": {
        "id": "XU5hGAk-R8X0"
      }
    },
    {
      "cell_type": "markdown",
      "source": [
        "# Ip address\n",
        "\n",
        "172.28.0.12\n",
        "\n",
        "\n",
        "can be like :\n",
        "\n",
        "255.255.255.255\n",
        "\n",
        "it can't be\n",
        "\n",
        "999.999.999.999\n",
        "\n",
        "\\d{3} not good enough\n"
      ],
      "metadata": {
        "id": "ZZ4rUDScSdBc"
      }
    },
    {
      "cell_type": "code",
      "source": [
        "bin(255)"
      ],
      "metadata": {
        "colab": {
          "base_uri": "https://localhost:8080/",
          "height": 35
        },
        "id": "QBLY0A6qSis8",
        "outputId": "eccbad41-6853-4096-a26f-99dbfe5b947e"
      },
      "execution_count": 16,
      "outputs": [
        {
          "output_type": "execute_result",
          "data": {
            "text/plain": [
              "'0b11111111'"
            ],
            "application/vnd.google.colaboratory.intrinsic+json": {
              "type": "string"
            }
          },
          "metadata": {},
          "execution_count": 16
        }
      ]
    },
    {
      "cell_type": "markdown",
      "source": [
        "Homework.  Why is not working\n",
        "\n",
        "\n",
        "Greedy (.*): Matches the longest possible string.\n",
        "Non-Greedy (.*?): Matches the shortest possible string.\n",
        "\n",
        "\n",
        "You might be writing something long and you don't won't it to match the end maybe you want it to just match near the beginning\n",
        "\n",
        "\n",
        "\n",
        "<a>content</a> some other text <a>more content</a>\n",
        "\n",
        "\n",
        "greedy:\n",
        "\n",
        "<a>.*<\\/a>\n",
        "\n",
        "\n",
        "not greedy:\n",
        "\n",
        "<a>.*?<\\/a>\n"
      ],
      "metadata": {
        "id": "xMRD0CsgUDHz"
      }
    },
    {
      "cell_type": "code",
      "source": [
        "!ls sample_data | egrep 'california|README'"
      ],
      "metadata": {
        "colab": {
          "base_uri": "https://localhost:8080/"
        },
        "id": "6vuBqN2qS69o",
        "outputId": "dd490229-c35e-4d51-ee4f-27ff47447025"
      },
      "execution_count": 22,
      "outputs": [
        {
          "output_type": "stream",
          "name": "stdout",
          "text": [
            "california_housing_test.csv\n",
            "california_housing_train.csv\n",
            "README.md\n"
          ]
        }
      ]
    },
    {
      "cell_type": "code",
      "source": [
        "!ip addr show"
      ],
      "metadata": {
        "id": "p_tDchE0FopV",
        "colab": {
          "base_uri": "https://localhost:8080/"
        },
        "outputId": "41aaa617-b228-4fc2-bda2-5aaa83fa9965"
      },
      "execution_count": 14,
      "outputs": [
        {
          "output_type": "stream",
          "name": "stdout",
          "text": [
            "1: lo: <LOOPBACK,UP,LOWER_UP> mtu 65536 qdisc noqueue state UNKNOWN group default qlen 1000\n",
            "    link/loopback 00:00:00:00:00:00 brd 00:00:00:00:00:00\n",
            "    inet 127.0.0.1/8 scope host lo\n",
            "       valid_lft forever preferred_lft forever\n",
            "9: eth0@if10: <BROADCAST,MULTICAST,UP,LOWER_UP> mtu 1500 qdisc noqueue state UP group default \n",
            "    link/ether 02:42:ac:1c:00:0c brd ff:ff:ff:ff:ff:ff link-netnsid 0\n",
            "    inet 172.28.0.12/16 brd 172.28.255.255 scope global eth0\n",
            "       valid_lft forever preferred_lft forever\n"
          ]
        }
      ]
    },
    {
      "cell_type": "markdown",
      "source": [
        "#Homework\n",
        "\n",
        "\n",
        "Just put this in a word document\n",
        "\n",
        "\n",
        "1.  Match an IP address\n",
        "\n",
        "2.  Match the phone number is the area that you live\n",
        "\n",
        "3.  postal code\n",
        "\n",
        "4.  Write one regular expression to match your name in upper or lower or mixed case letters like Maria MARIA mARia.\n"
      ],
      "metadata": {
        "id": "pjLUcJo6WiTr"
      }
    }
  ]
}