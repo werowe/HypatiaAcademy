{
  "nbformat": 4,
  "nbformat_minor": 0,
  "metadata": {
    "colab": {
      "provenance": [],
      "authorship_tag": "ABX9TyPw5dM8iAeEebWH3Biwv0tQ",
      "include_colab_link": true
    },
    "kernelspec": {
      "name": "python3",
      "display_name": "Python 3"
    },
    "language_info": {
      "name": "python"
    }
  },
  "cells": [
    {
      "cell_type": "markdown",
      "metadata": {
        "id": "view-in-github",
        "colab_type": "text"
      },
      "source": [
        "<a href=\"https://colab.research.google.com/github/werowe/HypatiaAcademy/blob/master/class/2024_08_30_list_functions.ipynb\" target=\"_parent\"><img src=\"https://colab.research.google.com/assets/colab-badge.svg\" alt=\"Open In Colab\"/></a>"
      ]
    },
    {
      "cell_type": "markdown",
      "source": [
        "# Python List Functions\n",
        "\n",
        "| **Function Name** | **Description & Parameters** |\n",
        "|-------------------|------------------------------|\n",
        "| `append(x)`       | Adds an item `x` to the end of the list. |\n",
        "| `extend(iterable)`| Extends the list by appending all the items from the iterable. |\n",
        "| `insert(i, x)`    | Inserts an item `x` at a given position `i`. The first parameter is the index where the item is inserted. |\n",
        "| `remove(x)`       | Removes the first item from the list whose value is `x`. Raises a `ValueError` if the item is not found. |\n",
        "| `pop([i])`        | Removes and returns the item at the given position `i` in the list. If no index is specified, `pop()` removes and returns the last item in the list. |\n",
        "| `clear()`         | Removes all items from the list. |\n",
        "| `index(x[, start[, end]])` | Returns the index of the first item whose value is `x`. Optional arguments `start` and `end` are interpreted as in slice notation and can be used to limit the search to a particular subsequence of the list. Raises a `ValueError` if the value is not found. |\n",
        "| `count(x)`        | Returns the number of times `x` appears in the list. |\n",
        "| `sort(key=None, reverse=False)` | Sorts the items of the list in place (the arguments can be used for sort customization). `key` is a function that serves as a key for the sort comparison, and `reverse` is a boolean to sort in descending order. |\n",
        "| `reverse()`       | Reverses the elements of the list in place. |\n",
        "| `copy()`          | Returns a shallow copy of the list. |\n",
        "\n"
      ],
      "metadata": {
        "id": "e3diFztuxdMe"
      }
    },
    {
      "cell_type": "code",
      "source": [
        "l1 = [9,8,7,5]\n",
        "l2 = [\"a\", \"b\", \"c\", \"d\"]\n",
        "\n",
        "l2.append(\"e\")\n",
        "print(l2)\n",
        "\n",
        "\n",
        "[9,8,7,5]\n",
        "\n",
        "# insert extends the list by 1 and then inserts an item at the position you told it to\n",
        "\n",
        "[9,8,7,6,5]"
      ],
      "metadata": {
        "colab": {
          "base_uri": "https://localhost:8080/"
        },
        "id": "Y6acJpAjzvfH",
        "outputId": "dc9aaca8-3467-4b2f-f33c-7196fdd1e074"
      },
      "execution_count": null,
      "outputs": [
        {
          "output_type": "stream",
          "name": "stdout",
          "text": [
            "['a', 'b', 'c', 'd', 'e']\n"
          ]
        }
      ]
    },
    {
      "cell_type": "code",
      "source": [
        "# index means where it is:\n",
        "\n",
        "# first item in the list\n",
        "l1[0]"
      ],
      "metadata": {
        "colab": {
          "base_uri": "https://localhost:8080/"
        },
        "id": "vfyHcwlO0H5y",
        "outputId": "2b674f22-de53-4a25-911d-fc8b876d8cc0"
      },
      "execution_count": null,
      "outputs": [
        {
          "output_type": "execute_result",
          "data": {
            "text/plain": [
              "9"
            ]
          },
          "metadata": {},
          "execution_count": 2
        }
      ]
    },
    {
      "cell_type": "code",
      "source": [
        "\n",
        "l1[0:3]"
      ],
      "metadata": {
        "colab": {
          "base_uri": "https://localhost:8080/"
        },
        "id": "NeMbAGl80SPO",
        "outputId": "a4a47e1d-63de-4589-9641-21d465d716bf"
      },
      "execution_count": null,
      "outputs": [
        {
          "output_type": "execute_result",
          "data": {
            "text/plain": [
              "[9, 8, 7]"
            ]
          },
          "metadata": {},
          "execution_count": 3
        }
      ]
    },
    {
      "cell_type": "code",
      "source": [
        "# slice. l[from: to - 1]\n",
        "\n",
        "# put colon (:) between the numbers\n",
        "\n",
        "\n",
        "l = [1,2,3,4]\n",
        "#.   0,1,2,3\n",
        "\n",
        "start=2\n",
        "stop=3\n",
        "\n",
        "l[start:stop]\n",
        "\n",
        "# this means start 2 and end at 3-2=2\n",
        "\n"
      ],
      "metadata": {
        "colab": {
          "base_uri": "https://localhost:8080/"
        },
        "id": "WQHuc-mE0iNB",
        "outputId": "a47035d0-3043-4e02-99d4-7063cc9af2e1"
      },
      "execution_count": null,
      "outputs": [
        {
          "output_type": "execute_result",
          "data": {
            "text/plain": [
              "[3]"
            ]
          },
          "metadata": {},
          "execution_count": 7
        }
      ]
    },
    {
      "cell_type": "code",
      "source": [
        "# classic way of making a loop, like in c++\n",
        "j = 0\n",
        "\n",
        "for i in l:\n",
        "  print(\"i=\",i,\"j=\",j)\n",
        "  j = j + 1"
      ],
      "metadata": {
        "colab": {
          "base_uri": "https://localhost:8080/"
        },
        "id": "rDjVYJNz1TrB",
        "outputId": "f3903004-5e87-420e-fe4c-3c78095cd5fd"
      },
      "execution_count": null,
      "outputs": [
        {
          "output_type": "stream",
          "name": "stdout",
          "text": [
            "i= 1 j= 0\n",
            "i= 2 j= 1\n",
            "i= 3 j= 2\n",
            "i= 4 j= 3\n"
          ]
        }
      ]
    },
    {
      "cell_type": "code",
      "source": [
        "for i in range(len(l)):\n",
        "  print(\"index=\", i, \"item at that position=\", l[i])"
      ],
      "metadata": {
        "colab": {
          "base_uri": "https://localhost:8080/"
        },
        "id": "bxi05wkr2VfQ",
        "outputId": "43f1dfcd-2627-4cc2-df2a-2672547fde45"
      },
      "execution_count": null,
      "outputs": [
        {
          "output_type": "stream",
          "name": "stdout",
          "text": [
            "index= 0 item at that position= 1\n",
            "index= 1 item at that position= 2\n",
            "index= 2 item at that position= 3\n",
            "index= 3 item at that position= 4\n"
          ]
        }
      ]
    },
    {
      "cell_type": "markdown",
      "source": [
        "# List Slice Operations\n",
        "\n",
        "| **Slice Operation**     | **Description & Parameters** |\n",
        "|-------------------------|------------------------------|\n",
        "| `list[start:stop]`       | Returns a new list containing elements from index `start` to `stop-1`. If `start` is omitted, it defaults to the beginning of the list. If `stop` is omitted, it defaults to the end of the list. |\n",
        "| `list[start:stop:step]`  | Returns a new list containing elements from index `start` to `stop-1`, with a step size of `step`. If `step` is omitted, it defaults to `1`. Negative `step` values can be used to reverse the list. |\n",
        "| `list[:stop]`            | Returns a new list containing elements from the beginning of the list up to `stop-1`. |\n",
        "| `list[start:]`           | Returns a new list containing elements from index `start` to the end of the list. |\n",
        "| `list[:]`                | Returns a shallow copy of the entire list. Equivalent to `list.copy()`. |\n",
        "| `list[::-1]`             | Returns a new list that is the reverse of the original list. The `-1` step indicates a reverse order. |\n",
        "| `list[start:stop] = iterable` | Replaces the slice from `start` to `stop-1` with the elements from `iterable`. |\n",
        "| `del list[start:stop]`   | Deletes the elements in the slice from `start` to `stop-1`. |\n",
        "\n"
      ],
      "metadata": {
        "id": "-XknI1xAyjG7"
      }
    },
    {
      "cell_type": "markdown",
      "source": [
        "# Homework\n",
        "\n",
        "Do <font color='red'>BOTH</font> items 1 and 2.  That is, 5 functions and 5 list slice operations.\n",
        "\n",
        "1. Pick any 5 functions and write examples that you know how to use list functions.\n",
        "\n",
        "2. Do the same this for List Operations.  (The easier ones are at the top.  The ones at the bottom are harder to understand.)\n",
        "\n",
        "Do <font color='red'>BOTH</font> items 1 and 2.\n",
        "\n"
      ],
      "metadata": {
        "id": "81AMVL7Ty4T5"
      }
    },
    {
      "cell_type": "markdown",
      "source": [
        "# Queue versus Stack\n",
        "\n",
        "* queue--FIFO (first in first out)\n",
        "* stack--LIFO (last in first out)\n",
        "\n",
        "![](https://gohighbrow.com/wp-content/uploads/2018/07/Computer-science-fundamentals_6.1.png)\n",
        "\n"
      ],
      "metadata": {
        "id": "VFSmw7LZwMQT"
      }
    },
    {
      "cell_type": "code",
      "source": [],
      "metadata": {
        "id": "3mqq9G2wwObV"
      },
      "execution_count": null,
      "outputs": []
    }
  ]
}