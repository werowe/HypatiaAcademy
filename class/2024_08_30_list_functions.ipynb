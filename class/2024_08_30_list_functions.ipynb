{
  "nbformat": 4,
  "nbformat_minor": 0,
  "metadata": {
    "colab": {
      "provenance": [],
      "authorship_tag": "ABX9TyOOLAYTm+RVZ6yx74jThZYn",
      "include_colab_link": true
    },
    "kernelspec": {
      "name": "python3",
      "display_name": "Python 3"
    },
    "language_info": {
      "name": "python"
    }
  },
  "cells": [
    {
      "cell_type": "markdown",
      "metadata": {
        "id": "view-in-github",
        "colab_type": "text"
      },
      "source": [
        "<a href=\"https://colab.research.google.com/github/werowe/HypatiaAcademy/blob/master/class/2024_08_30_list_functions.ipynb\" target=\"_parent\"><img src=\"https://colab.research.google.com/assets/colab-badge.svg\" alt=\"Open In Colab\"/></a>"
      ]
    },
    {
      "cell_type": "markdown",
      "source": [
        "# Python List Functions\n",
        "\n",
        "| **Function Name** | **Description & Parameters** |\n",
        "|-------------------|------------------------------|\n",
        "| `append(x)`       | Adds an item `x` to the end of the list. |\n",
        "| `extend(iterable)`| Extends the list by appending all the items from the iterable. |\n",
        "| `insert(i, x)`    | Inserts an item `x` at a given position `i`. The first parameter is the index where the item is inserted. |\n",
        "| `remove(x)`       | Removes the first item from the list whose value is `x`. Raises a `ValueError` if the item is not found. |\n",
        "| `pop([i])`        | Removes and returns the item at the given position `i` in the list. If no index is specified, `pop()` removes and returns the last item in the list. |\n",
        "| `clear()`         | Removes all items from the list. |\n",
        "| `index(x[, start[, end]])` | Returns the index of the first item whose value is `x`. Optional arguments `start` and `end` are interpreted as in slice notation and can be used to limit the search to a particular subsequence of the list. Raises a `ValueError` if the value is not found. |\n",
        "| `count(x)`        | Returns the number of times `x` appears in the list. |\n",
        "| `sort(key=None, reverse=False)` | Sorts the items of the list in place (the arguments can be used for sort customization). `key` is a function that serves as a key for the sort comparison, and `reverse` is a boolean to sort in descending order. |\n",
        "| `reverse()`       | Reverses the elements of the list in place. |\n",
        "| `copy()`          | Returns a shallow copy of the list. |\n",
        "\n"
      ],
      "metadata": {
        "id": "e3diFztuxdMe"
      }
    }
  ]
}