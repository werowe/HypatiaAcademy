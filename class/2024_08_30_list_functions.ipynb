{
  "nbformat": 4,
  "nbformat_minor": 0,
  "metadata": {
    "colab": {
      "provenance": [],
      "toc_visible": true,
      "authorship_tag": "ABX9TyO6faJ845uX/0ezENZRD7mP",
      "include_colab_link": true
    },
    "kernelspec": {
      "name": "python3",
      "display_name": "Python 3"
    },
    "language_info": {
      "name": "python"
    }
  },
  "cells": [
    {
      "cell_type": "markdown",
      "metadata": {
        "id": "view-in-github",
        "colab_type": "text"
      },
      "source": [
        "<a href=\"https://colab.research.google.com/github/werowe/HypatiaAcademy/blob/master/class/2024_08_30_list_functions.ipynb\" target=\"_parent\"><img src=\"https://colab.research.google.com/assets/colab-badge.svg\" alt=\"Open In Colab\"/></a>"
      ]
    },
    {
      "cell_type": "markdown",
      "source": [
        "# Queue versus Stack\n",
        "\n",
        "* queue--FIFO (first in first out)\n",
        "* stack--LIFO (last in first out)\n",
        "\n",
        "![](https://gohighbrow.com/wp-content/uploads/2018/07/Computer-science-fundamentals_6.1.png)\n",
        "\n"
      ],
      "metadata": {
        "id": "VFSmw7LZwMQT"
      }
    },
    {
      "cell_type": "code",
      "source": [
        "\n",
        "import random\n",
        "\n",
        "queue=[]\n",
        "stack=[]\n",
        "\n",
        "# here first item added is queue[0] and stack[0]\n",
        "# last item added is queue[9] and stack[9]\n",
        "\n",
        "for i in range(10):\n",
        "  queue.append(i)\n",
        "  stack.append(i)\n",
        "\n",
        "print(queue, \"\\n\")\n"
      ],
      "metadata": {
        "id": "3mqq9G2wwObV",
        "colab": {
          "base_uri": "https://localhost:8080/"
        },
        "outputId": "365cf99f-2c24-451e-a402-a78f6e2f9888"
      },
      "execution_count": null,
      "outputs": [
        {
          "output_type": "stream",
          "name": "stdout",
          "text": [
            "[0, 1, 2, 3, 4, 5, 6, 7, 8, 9] \n",
            "\n"
          ]
        }
      ]
    },
    {
      "cell_type": "code",
      "source": [
        "# puzzle:  why does this loop stop before len(queue)\n",
        "#for i in queue:\n",
        "#  popped = queue.pop()\n",
        "#  print(popped, queue)\n",
        "\n"
      ],
      "metadata": {
        "id": "gKWIzf7Lqr0s"
      },
      "execution_count": null,
      "outputs": []
    },
    {
      "cell_type": "code",
      "source": [
        "# LIFO\n",
        "\n",
        "# the last time in is the first item removed.  we 'pop' it off.  it's the\n",
        "# person at the kiosk who exits the line first\n",
        "\n",
        "\n",
        "for i in range(len(stack)):\n",
        "  leave = stack.pop()\n",
        "  print(leave, stack)"
      ],
      "metadata": {
        "colab": {
          "base_uri": "https://localhost:8080/"
        },
        "id": "A-G0WfxuqiPD",
        "outputId": "7270fe8e-7df3-422f-f753-b4c004bf026e"
      },
      "execution_count": null,
      "outputs": [
        {
          "output_type": "stream",
          "name": "stdout",
          "text": [
            "9 [0, 1, 2, 3, 4, 5, 6, 7, 8]\n",
            "8 [0, 1, 2, 3, 4, 5, 6, 7]\n",
            "7 [0, 1, 2, 3, 4, 5, 6]\n",
            "6 [0, 1, 2, 3, 4, 5]\n",
            "5 [0, 1, 2, 3, 4]\n",
            "4 [0, 1, 2, 3]\n",
            "3 [0, 1, 2]\n",
            "2 [0, 1]\n",
            "1 [0]\n",
            "0 []\n"
          ]
        }
      ]
    },
    {
      "cell_type": "code",
      "source": [
        "# FIFO.  This removes the first item from the list first.  This is the doctor's waiting room.\n",
        "\n",
        "i = 0\n",
        "\n",
        "while len(stack) > 0:\n",
        "  out = stack[i]\n",
        "  del stack[i]\n",
        "  print(out,stack)\n",
        "  i ++ 1\n",
        "\n"
      ],
      "metadata": {
        "colab": {
          "base_uri": "https://localhost:8080/"
        },
        "id": "UGfpPPcwrHtb",
        "outputId": "8613aa89-8fa6-4286-fe7f-412226530d5e"
      },
      "execution_count": null,
      "outputs": [
        {
          "output_type": "stream",
          "name": "stdout",
          "text": [
            "1 [2, 3, 4, 5, 6, 7, 8, 9]\n",
            "2 [3, 4, 5, 6, 7, 8, 9]\n",
            "3 [4, 5, 6, 7, 8, 9]\n",
            "4 [5, 6, 7, 8, 9]\n",
            "5 [6, 7, 8, 9]\n",
            "6 [7, 8, 9]\n",
            "7 [8, 9]\n",
            "8 [9]\n",
            "9 []\n"
          ]
        }
      ]
    },
    {
      "cell_type": "code",
      "source": [],
      "metadata": {
        "colab": {
          "base_uri": "https://localhost:8080/"
        },
        "id": "PTxDs3Qjs5NT",
        "outputId": "8ac790b2-33d2-4d05-97a6-330355783ba0"
      },
      "execution_count": null,
      "outputs": [
        {
          "output_type": "execute_result",
          "data": {
            "text/plain": [
              "[1, 2, 3, 4, 5, 6, 7, 8, 9]"
            ]
          },
          "metadata": {},
          "execution_count": 21
        }
      ]
    },
    {
      "cell_type": "markdown",
      "source": [
        "#Two Dimensional Lists\n",
        "\n"
      ],
      "metadata": {
        "id": "hdQRKg1ytZOa"
      }
    },
    {
      "cell_type": "code",
      "source": [
        "x = []\n",
        "\n",
        "for i in range(10):\n",
        "  x.append([random.randint(1,10),random.randint(1,10)])\n",
        "\n",
        "x"
      ],
      "metadata": {
        "colab": {
          "base_uri": "https://localhost:8080/"
        },
        "id": "-vgv_ZvittJD",
        "outputId": "d319ed62-f8f7-4d1d-d496-0e351f4e299f"
      },
      "execution_count": null,
      "outputs": [
        {
          "output_type": "execute_result",
          "data": {
            "text/plain": [
              "[[10, 10],\n",
              " [7, 3],\n",
              " [8, 9],\n",
              " [5, 1],\n",
              " [4, 5],\n",
              " [7, 9],\n",
              " [5, 3],\n",
              " [10, 9],\n",
              " [10, 4],\n",
              " [10, 6]]"
            ]
          },
          "metadata": {},
          "execution_count": 28
        }
      ]
    },
    {
      "cell_type": "code",
      "source": [
        "# what is first item in 3rd item\n",
        "\n",
        "print(x[3][0])\n",
        "\n",
        "\n",
        "# second\n",
        "\n",
        "print(x[3][1])"
      ],
      "metadata": {
        "colab": {
          "base_uri": "https://localhost:8080/"
        },
        "id": "sntQpG-xuSNy",
        "outputId": "0947c1ac-6e75-4c99-fa02-d2496d56962f"
      },
      "execution_count": null,
      "outputs": [
        {
          "output_type": "stream",
          "name": "stdout",
          "text": [
            "5\n",
            "1\n"
          ]
        }
      ]
    },
    {
      "cell_type": "markdown",
      "source": [
        "# List Comprehension"
      ],
      "metadata": {
        "id": "dN_g9GhyvJG0"
      }
    },
    {
      "cell_type": "code",
      "source": [
        "l=[]\n",
        "\n",
        "for i in range(10):\n",
        "  l.append(i)\n",
        "\n",
        "odd = [i for i in l if i % 2 > 0]\n",
        "\n",
        "odd"
      ],
      "metadata": {
        "colab": {
          "base_uri": "https://localhost:8080/"
        },
        "id": "KsFePRWZvLtb",
        "outputId": "4f655706-3066-485c-975e-bd4d36b3be3a"
      },
      "execution_count": null,
      "outputs": [
        {
          "output_type": "execute_result",
          "data": {
            "text/plain": [
              "[1, 3, 5, 7, 9]"
            ]
          },
          "metadata": {},
          "execution_count": 35
        }
      ]
    },
    {
      "cell_type": "code",
      "source": [
        "l=[]\n",
        "\n",
        "for i in range(10):\n",
        "  l.append(i)\n",
        "\n",
        "squares = [i**2 for i in l]\n",
        "\n",
        "squares\n"
      ],
      "metadata": {
        "colab": {
          "base_uri": "https://localhost:8080/"
        },
        "id": "nzn1sl0xvmmw",
        "outputId": "d5e65848-4ab3-489d-8c8c-d860f612e799"
      },
      "execution_count": null,
      "outputs": [
        {
          "output_type": "execute_result",
          "data": {
            "text/plain": [
              "[0, 1, 4, 9, 16, 25, 36, 49, 64, 81]"
            ]
          },
          "metadata": {},
          "execution_count": 37
        }
      ]
    },
    {
      "cell_type": "markdown",
      "source": [
        "## Lamdba Functions"
      ],
      "metadata": {
        "id": "UnmwmeOI17s1"
      }
    },
    {
      "cell_type": "code",
      "source": [
        "\n",
        "square = lambda s: s**2\n",
        "\n",
        "s(5)"
      ],
      "metadata": {
        "colab": {
          "base_uri": "https://localhost:8080/"
        },
        "id": "P_XylhpqvvHm",
        "outputId": "31636d62-b044-496f-aa08-14068806e48e"
      },
      "execution_count": null,
      "outputs": [
        {
          "output_type": "execute_result",
          "data": {
            "text/plain": [
              "25"
            ]
          },
          "metadata": {},
          "execution_count": 44
        }
      ]
    },
    {
      "cell_type": "code",
      "source": [
        "l"
      ],
      "metadata": {
        "colab": {
          "base_uri": "https://localhost:8080/"
        },
        "id": "fU7tsnDywEmX",
        "outputId": "fc785b3f-574b-4718-ee38-f4266c77fad4"
      },
      "execution_count": null,
      "outputs": [
        {
          "output_type": "execute_result",
          "data": {
            "text/plain": [
              "[0, 1, 2, 3, 4, 5, 6, 7, 8, 9]"
            ]
          },
          "metadata": {},
          "execution_count": 43
        }
      ]
    },
    {
      "cell_type": "code",
      "source": [
        "squares = [square(i) for i in l]\n",
        "\n",
        "squares"
      ],
      "metadata": {
        "colab": {
          "base_uri": "https://localhost:8080/"
        },
        "id": "JZZ5qVYMv279",
        "outputId": "3aeea5d1-3c23-451b-c491-2d3f55b69a33"
      },
      "execution_count": null,
      "outputs": [
        {
          "output_type": "execute_result",
          "data": {
            "text/plain": [
              "[0, 1, 4, 9, 16, 25, 36, 49, 64, 81]"
            ]
          },
          "metadata": {},
          "execution_count": 45
        }
      ]
    },
    {
      "cell_type": "markdown",
      "source": [
        "# Homework\n",
        "\n",
        "Write a lambda function to swap the order of every [a,b] in x.\n",
        "\n",
        "Hint.  See below.  So just make this a loop and do this for every item in x.\n"
      ],
      "metadata": {
        "id": "JYzsd7sswSLw"
      }
    },
    {
      "cell_type": "code",
      "source": [
        "a=[[1,3]]\n",
        "\n",
        "swap = [[i[1],i[0]] for i in a]\n",
        "\n",
        "swap"
      ],
      "metadata": {
        "colab": {
          "base_uri": "https://localhost:8080/"
        },
        "id": "F_qEJzVMw7TQ",
        "outputId": "6c040840-f57d-43f1-a3b1-1f3051d9c54d"
      },
      "execution_count": null,
      "outputs": [
        {
          "output_type": "execute_result",
          "data": {
            "text/plain": [
              "[[3, 1]]"
            ]
          },
          "metadata": {},
          "execution_count": 57
        }
      ]
    },
    {
      "cell_type": "code",
      "source": [
        "x = []\n",
        "\n",
        "for i in range(10):\n",
        "  a=[random.randint(1,10),random.randint(1,10)]\n",
        "  x.append(a)\n",
        "\n",
        "x\n"
      ],
      "metadata": {
        "colab": {
          "base_uri": "https://localhost:8080/"
        },
        "id": "5rhnVEHlwVWL",
        "outputId": "75b7a541-2b17-427e-e475-a45268958184"
      },
      "execution_count": null,
      "outputs": [
        {
          "output_type": "execute_result",
          "data": {
            "text/plain": [
              "[[3, 10],\n",
              " [9, 10],\n",
              " [9, 2],\n",
              " [4, 9],\n",
              " [1, 7],\n",
              " [2, 6],\n",
              " [5, 6],\n",
              " [1, 8],\n",
              " [8, 10],\n",
              " [5, 5]]"
            ]
          },
          "metadata": {},
          "execution_count": 58
        }
      ]
    }
  ]
}