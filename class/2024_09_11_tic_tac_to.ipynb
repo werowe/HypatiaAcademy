{
  "cells": [
    {
      "cell_type": "markdown",
      "metadata": {
        "id": "view-in-github",
        "colab_type": "text"
      },
      "source": [
        "<a href=\"https://colab.research.google.com/github/werowe/HypatiaAcademy/blob/master/class/2024_09_11_tic_tac_to.ipynb\" target=\"_parent\"><img src=\"https://colab.research.google.com/assets/colab-badge.svg\" alt=\"Open In Colab\"/></a>"
      ]
    },
    {
      "cell_type": "markdown",
      "source": [
        "#Tick-Tac-Toe\n",
        "\n",
        "The code generates an empty board, allowing players to fill it step-by-step, and stops when there is a winner"
      ],
      "metadata": {
        "id": "Vf28v6DPt2r5"
      }
    },
    {
      "cell_type": "code",
      "source": [
        "import random\n",
        "\n",
        "#Checking for a winner\n",
        "\n",
        "def check_winner(t):\n",
        "\n",
        "#Check rows\n",
        "      for i in range(3):\n",
        "        if t[i][0] == t[i][1] == t[i][2] and t[i][0] is not None:\n",
        "            return t[i][0]\n",
        "\n",
        "#Check columns\n",
        "      for i in range(3):\n",
        "        if t[0][i] == t[1][i] == t[2][i] and t[0][i] is not None:\n",
        "            return t[0][i]\n",
        "\n",
        "#Check diagonals\n",
        "      if t[0][0] == t[1][1] == t[2][2] and t[0][0] is not None:\n",
        "        return t[0][0]\n",
        "      if t[0][2] == t[1][1] == t[2][0] and t[0][2] is not None:\n",
        "        return t[0][2]\n",
        "\n",
        "      return None\n",
        "\n",
        "\n",
        "#creating the board\n",
        "board = [[None, None, None],\n",
        "         [None, None, None],\n",
        "         [None, None, None]]\n",
        "\n",
        "player = 0 #the first player starts the game\n",
        "all_filled = False #check if all cells are filled\n",
        "winner = None\n",
        "\n",
        "while not all_filled and not winner: #continue while not all cells are filled by a player or there is no winner\n",
        "\n",
        "    row = random.randint(0, 2) #pick a random row\n",
        "    col = random.randint(0, 2) #pick a random coloumn\n",
        "\n",
        "    if board[row][col] is None: #check if the cell you picked is empty\n",
        "\n",
        "#pick which player makes the move\n",
        "\n",
        "        if player == 0:\n",
        "            board[row][col] = 'x'\n",
        "        else:\n",
        "            board[row][col] = 'o'\n",
        "\n",
        "        player = 1 - player\n",
        "\n",
        "#print the board\n",
        "\n",
        "        for b in board:\n",
        "            print(b)\n",
        "        print(\"\\n\")\n",
        "\n",
        "#check for a winner\n",
        "        winner = check_winner(board)\n",
        "\n",
        "#check if the board is full\n",
        "        all_filled = True #assume that the board IS full\n",
        "\n",
        "        for r in board: #iterates over each row in the board\n",
        "            for cell in r: #iterates over each cell in the current row\n",
        "                if cell is None: #check if the cell is empty\n",
        "\n",
        "                    all_filled = False #if an empty cell was found - set to false\n",
        "                    break\n",
        "\n",
        "            else:\n",
        "              continue\n",
        "\n",
        "\n",
        "#print a winner message if there is one\n",
        "if winner:\n",
        "    print(f\"The winner is {winner}\")\n",
        "\n",
        "#otherwise print a tie message\n",
        "else:\n",
        "    print(\"Tie\")\n",
        "\n",
        "print()\n",
        "\n",
        "#print the final board\n",
        "print(\"Final board:\")\n",
        "for b in board:\n",
        "    print(b)\n",
        "\n"
      ],
      "metadata": {
        "colab": {
          "base_uri": "https://localhost:8080/"
        },
        "id": "ohXMXgZD4Lc-",
        "outputId": "9cf3c95d-1a02-4552-e3f9-c7b89d0798a3"
      },
      "execution_count": 3,
      "outputs": [
        {
          "output_type": "stream",
          "name": "stdout",
          "text": [
            "[None, 'x', None]\n",
            "[None, None, None]\n",
            "[None, None, None]\n",
            "\n",
            "\n",
            "[None, 'x', None]\n",
            "['o', None, None]\n",
            "[None, None, None]\n",
            "\n",
            "\n",
            "['x', 'x', None]\n",
            "['o', None, None]\n",
            "[None, None, None]\n",
            "\n",
            "\n",
            "['x', 'x', None]\n",
            "['o', None, None]\n",
            "['o', None, None]\n",
            "\n",
            "\n",
            "['x', 'x', None]\n",
            "['o', None, None]\n",
            "['o', None, 'x']\n",
            "\n",
            "\n",
            "['x', 'x', None]\n",
            "['o', None, 'o']\n",
            "['o', None, 'x']\n",
            "\n",
            "\n",
            "['x', 'x', None]\n",
            "['o', None, 'o']\n",
            "['o', 'x', 'x']\n",
            "\n",
            "\n",
            "['x', 'x', None]\n",
            "['o', 'o', 'o']\n",
            "['o', 'x', 'x']\n",
            "\n",
            "\n",
            "The winner is o\n",
            "\n",
            "Final board:\n",
            "['x', 'x', None]\n",
            "['o', 'o', 'o']\n",
            "['o', 'x', 'x']\n"
          ]
        }
      ]
    }
  ],
  "metadata": {
    "kernelspec": {
      "display_name": "Python 3",
      "language": "python",
      "name": "python3"
    },
    "language_info": {
      "codemirror_mode": {
        "name": "ipython",
        "version": 3
      },
      "file_extension": ".py",
      "mimetype": "text/x-python",
      "name": "python",
      "nbconvert_exporter": "python",
      "pygments_lexer": "ipython3",
      "version": "3.4.4"
    },
    "colab": {
      "provenance": [],
      "include_colab_link": true
    }
  },
  "nbformat": 4,
  "nbformat_minor": 0
}