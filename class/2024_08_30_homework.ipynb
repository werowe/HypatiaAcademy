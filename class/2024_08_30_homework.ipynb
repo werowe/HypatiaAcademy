{
  "nbformat": 4,
  "nbformat_minor": 0,
  "metadata": {
    "colab": {
      "provenance": [],
      "authorship_tag": "ABX9TyNOtLbpienUlWSm+UIKgcLD",
      "include_colab_link": true
    },
    "kernelspec": {
      "name": "python3",
      "display_name": "Python 3"
    },
    "language_info": {
      "name": "python"
    }
  },
  "cells": [
    {
      "cell_type": "markdown",
      "metadata": {
        "id": "view-in-github",
        "colab_type": "text"
      },
      "source": [
        "<a href=\"https://colab.research.google.com/github/werowe/HypatiaAcademy/blob/master/class/2024_08_30_homework.ipynb\" target=\"_parent\"><img src=\"https://colab.research.google.com/assets/colab-badge.svg\" alt=\"Open In Colab\"/></a>"
      ]
    },
    {
      "cell_type": "code",
      "execution_count": null,
      "metadata": {
        "id": "FZsgEMxca4iD"
      },
      "outputs": [],
      "source": [
        "\n",
        "\n",
        "# remove this on the second loop\n",
        "#numbers = [10,9,8,7]\n",
        "\n",
        "[10,9]\n",
        "[9,10]\n",
        "\n",
        "print (\"Ilias start\", numbers)\n",
        "\n",
        "print(\"\\n checking 0 and 1\", numbers)\n",
        "if numbers[0] > numbers[1]:\n",
        "    numbers[0], numbers[1] = numbers[1], numbers[0]\n",
        "\n",
        "# ....\n",
        "\n",
        "\n",
        "# finish this\n",
        "\n",
        "\n"
      ]
    }
  ]
}