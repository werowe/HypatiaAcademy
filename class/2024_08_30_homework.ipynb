{
  "nbformat": 4,
  "nbformat_minor": 0,
  "metadata": {
    "colab": {
      "provenance": [],
      "authorship_tag": "ABX9TyMQrfJnoR5daZBaVVf5H7Qw",
      "include_colab_link": true
    },
    "kernelspec": {
      "name": "python3",
      "display_name": "Python 3"
    },
    "language_info": {
      "name": "python"
    }
  },
  "cells": [
    {
      "cell_type": "markdown",
      "metadata": {
        "id": "view-in-github",
        "colab_type": "text"
      },
      "source": [
        "<a href=\"https://colab.research.google.com/github/werowe/HypatiaAcademy/blob/master/class/2024_08_30_homework.ipynb\" target=\"_parent\"><img src=\"https://colab.research.google.com/assets/colab-badge.svg\" alt=\"Open In Colab\"/></a>"
      ]
    },
    {
      "cell_type": "code",
      "execution_count": null,
      "metadata": {
        "id": "FZsgEMxca4iD"
      },
      "outputs": [],
      "source": [
        "\n",
        "\n",
        "# remove this on the second loop\n",
        "#numbers = [10,9,8,7]\n",
        "\n",
        "[10,9]\n",
        "[9,10]\n",
        "\n",
        "print (\"Ilias start\", numbers)\n",
        "\n",
        "print(\"\\n checking 0 and 1\", numbers)\n",
        "if numbers[0] > numbers[1]:\n",
        "    numbers[0], numbers[1] = numbers[1], numbers[0]\n",
        "\n",
        "# ....\n",
        "\n",
        "\n",
        "# finish this\n",
        "\n",
        "\n"
      ]
    },
    {
      "cell_type": "code",
      "source": [
        "# Homework:  See if you can understand this\n",
        "\n",
        "# remove hard-coding.  write algorithm to work with any length list\n",
        "# this is the classic bubble-sort\n",
        "\n",
        "\n",
        "\n",
        "import random\n",
        "\n",
        "s=[10,9,8,7]\n",
        "\n",
        "#works with words too\n",
        "s=[\"Pavlo\", \"Oleski\", \"Julia\", \"Alex\"]\n",
        "\n",
        "\n",
        "\n",
        "#s=[]\n",
        "#for i in range(5):\n",
        "#  s.append(random.randint(1,10))\n",
        "\n",
        "print(\"\\nstart sorting\", s)\n",
        "\n",
        "loops = int(len(s) - 1)\n",
        "\n",
        "\n",
        "# this is not hard coded\n",
        "\n",
        "\n",
        "for j in range(loops):\n",
        "  print(\"\\n===============start loop========\", j)\n",
        "\n",
        "  for i in range(loops):\n",
        "    print(\"\\nchecking {0} < {1}\\n\".format(i, i+1))\n",
        "    if s[i] > s[i+1]:\n",
        "      s[i], s[i+1] = s[i+1], s[i]\n",
        "\n",
        "  print(\"\\n============end loop============\", s)\n",
        "\n",
        "print(\"\\ndone sorting\", s)\n"
      ],
      "metadata": {
        "id": "J2OPcrNKhAD7"
      },
      "execution_count": null,
      "outputs": []
    }
  ]
}