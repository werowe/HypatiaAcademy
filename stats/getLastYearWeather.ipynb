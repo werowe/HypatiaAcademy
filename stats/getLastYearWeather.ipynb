{
 "cells": [
  {
   "cell_type": "code",
   "execution_count": 1,
   "id": "f4c89cb9",
   "metadata": {},
   "outputs": [],
   "source": [
    "import pandas as pd\n",
    "\n",
    "def toDate(epoch_time):\n",
    "    return datetime.fromtimestamp(epoch_time)\n",
    "\n",
    "\n",
    "df=pd.read_json('https://raw.githubusercontent.com/werowe/HypatiaAcademy/master/assignments/paphosWeather2023.json',lines=True)\n",
    "\n",
    "df=df.T\n",
    "\n",
    "df = pd.json_normalize(df[0])\n",
    "# Function to clean and convert the timestamp strings\n",
    "def clean_timestamp(timestamp):\n",
    "    # Remove the \" UTC\" part and convert to datetime\n",
    "    cleaned_timestamp = timestamp.replace(\" UTC\", \"\")\n",
    "    return pd.to_datetime(cleaned_timestamp)\n",
    "\n",
    "# Apply the function to the Timestamp column\n",
    "df['dt_iso'] = df['dt_iso'].apply(clean_timestamp)\n",
    "\n",
    "df['datetime'] = pd.to_datetime(df['dt_iso'])\n",
    "\n",
    "df.set_index('datetime', inplace=True)\n",
    "\n",
    "last=df.loc[df.index.year==2023]\n"
   ]
  },
  {
   "cell_type": "code",
   "execution_count": 2,
   "id": "51e324fe",
   "metadata": {},
   "outputs": [],
   "source": [
    "last.to_csv(\"last_year.csv\")"
   ]
  },
  {
   "cell_type": "code",
   "execution_count": null,
   "id": "068990f3",
   "metadata": {},
   "outputs": [],
   "source": []
  }
 ],
 "metadata": {
  "kernelspec": {
   "display_name": "Python 3 (ipykernel)",
   "language": "python",
   "name": "python3"
  },
  "language_info": {
   "codemirror_mode": {
    "name": "ipython",
    "version": 3
   },
   "file_extension": ".py",
   "mimetype": "text/x-python",
   "name": "python",
   "nbconvert_exporter": "python",
   "pygments_lexer": "ipython3",
   "version": "3.10.9"
  }
 },
 "nbformat": 4,
 "nbformat_minor": 5
}
