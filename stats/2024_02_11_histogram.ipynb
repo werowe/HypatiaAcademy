{
  "nbformat": 4,
  "nbformat_minor": 0,
  "metadata": {
    "colab": {
      "provenance": [],
      "authorship_tag": "ABX9TyMH8ZV5mF+GhBm+Q94WDdXM",
      "include_colab_link": true
    },
    "kernelspec": {
      "name": "python3",
      "display_name": "Python 3"
    },
    "language_info": {
      "name": "python"
    }
  },
  "cells": [
    {
      "cell_type": "markdown",
      "metadata": {
        "id": "view-in-github",
        "colab_type": "text"
      },
      "source": [
        "<a href=\"https://colab.research.google.com/github/werowe/HypatiaAcademy/blob/master/stats/2024_02_11_histogram.ipynb\" target=\"_parent\"><img src=\"https://colab.research.google.com/assets/colab-badge.svg\" alt=\"Open In Colab\"/></a>"
      ]
    },
    {
      "cell_type": "markdown",
      "source": [
        "# Bar Chart: Sizing the Bins\n",
        "\n",
        "By default, numpy.histogram uses 10 bins (bins=10) unless specified otherwise.\n"
      ],
      "metadata": {
        "id": "79fZkiMoX6wl"
      }
    },
    {
      "cell_type": "code",
      "source": [
        "import numpy as np\n",
        "\n",
        "import matplotlib.pyplot as plt\n",
        "\n",
        "arr = np.random.randint(1,5,20)\n",
        "\n",
        "arr"
      ],
      "metadata": {
        "id": "WTQSGIm5X-FU",
        "outputId": "262fe221-e46b-47f1-aa9b-468fb1e299df",
        "colab": {
          "base_uri": "https://localhost:8080/"
        }
      },
      "execution_count": 1,
      "outputs": [
        {
          "output_type": "execute_result",
          "data": {
            "text/plain": [
              "array([1, 4, 1, 2, 1, 4, 4, 2, 1, 4, 3, 3, 2, 3, 2, 2, 4, 1, 3, 4])"
            ]
          },
          "metadata": {},
          "execution_count": 1
        }
      ]
    },
    {
      "cell_type": "code",
      "source": [
        "# by default bins is size 10\n",
        "\n",
        "\n",
        "cnt, bins = np.histogram(arr)\n",
        "\n",
        "\n",
        "\n",
        "print(\"sort the array\", np.sort(arr))\n",
        "print(\"\\ncount\", cnt)\n",
        "print(\"\\nbins\", bins, \"how many\", len(bins))\n",
        "print(\"\\nunique values\", np.unique(arr))\n"
      ],
      "metadata": {
        "id": "6IbuPBigYKnH",
        "outputId": "c027a91a-792f-4d40-bc0b-af9bc6553dc0",
        "colab": {
          "base_uri": "https://localhost:8080/"
        }
      },
      "execution_count": 2,
      "outputs": [
        {
          "output_type": "stream",
          "name": "stdout",
          "text": [
            "sort the array [1 1 1 1 1 2 2 2 2 2 3 3 3 3 4 4 4 4 4 4]\n",
            "\n",
            "count [5 0 0 5 0 0 4 0 0 6]\n",
            "\n",
            "bins [1.  1.3 1.6 1.9 2.2 2.5 2.8 3.1 3.4 3.7 4. ] how many 11\n",
            "\n",
            "unique values [1 2 3 4]\n"
          ]
        }
      ]
    },
    {
      "cell_type": "code",
      "source": [
        "# Here make the bins be equal to the unique values so we don't have integers\n",
        "\n",
        "cnt, bins = np.histogram(arr, bins=np.unique(arr))\n",
        "\n",
        "print(\"\\ncount\", cnt)\n",
        "print(\"\\nbins\", bins, \"how many\", len(bins))\n",
        "\n"
      ],
      "metadata": {
        "id": "Cz0H6l7yY4RO",
        "outputId": "b6d4461b-4f05-4d01-d1d3-0ba85b0dcd8f",
        "colab": {
          "base_uri": "https://localhost:8080/"
        }
      },
      "execution_count": 3,
      "outputs": [
        {
          "output_type": "stream",
          "name": "stdout",
          "text": [
            "\n",
            "count [ 5  5 10]\n",
            "\n",
            "bins [1 2 3 4] how many 4\n"
          ]
        }
      ]
    },
    {
      "cell_type": "code",
      "source": [
        "\n",
        "# now plot\n",
        "# add edge color so you can see between the bars\n",
        "\n",
        "plt.hist(arr,bins=len(np.unique(arr)),edgecolor=\"white\")\n",
        "\n",
        "\n",
        "plt.grid\n",
        "\n",
        "plt.show()"
      ],
      "metadata": {
        "id": "AS7EVaZzZV5L",
        "outputId": "400ec43c-0a6c-49bd-89e7-87b15e0d6e55",
        "colab": {
          "base_uri": "https://localhost:8080/",
          "height": 430
        }
      },
      "execution_count": 4,
      "outputs": [
        {
          "output_type": "display_data",
          "data": {
            "text/plain": [
              "<Figure size 640x480 with 1 Axes>"
            ],
            "image/png": "[encoded data removed]"
          },
          "metadata": {}
        }
      ]
    },
    {
      "cell_type": "markdown",
      "source": [
        "# Center to get rid of floats\n",
        "\n",
        "How can we center the bars around the integers so we don't have any floating numbers\n"
      ],
      "metadata": {
        "id": "hd2Yt8Ddew1o"
      }
    },
    {
      "cell_type": "code",
      "source": [
        "# find the mid point of the bins.  first show what is to be added\n",
        "\n",
        "bins[:-1], bins[1:]"
      ],
      "metadata": {
        "colab": {
          "base_uri": "https://localhost:8080/"
        },
        "id": "eLWCo5BsgBLd",
        "outputId": "1f20d2b4-ee1e-4ab7-e7d5-a44a58e43987"
      },
      "execution_count": 5,
      "outputs": [
        {
          "output_type": "execute_result",
          "data": {
            "text/plain": [
              "(array([1, 2, 3]), array([2, 3, 4]))"
            ]
          },
          "metadata": {},
          "execution_count": 5
        }
      ]
    },
    {
      "cell_type": "code",
      "source": [
        "centers = 0.5 * (bins[:-1] + bins[1:])\n",
        "\n",
        "centers"
      ],
      "metadata": {
        "colab": {
          "base_uri": "https://localhost:8080/"
        },
        "id": "3GEmWP1AhQwm",
        "outputId": "9c4984f0-a6b6-4076-db12-89df379d99e3"
      },
      "execution_count": 6,
      "outputs": [
        {
          "output_type": "execute_result",
          "data": {
            "text/plain": [
              "array([1.5, 2.5, 3.5])"
            ]
          },
          "metadata": {},
          "execution_count": 6
        }
      ]
    },
    {
      "cell_type": "code",
      "source": [
        "#labels can be done two ways\n",
        "\n",
        "labels=np.unique(arr)\n",
        "\n",
        "labels"
      ],
      "metadata": {
        "colab": {
          "base_uri": "https://localhost:8080/"
        },
        "id": "i8sSE3hNkkqa",
        "outputId": "ce0cc5f8-068b-47a6-f31e-4e704bf47663"
      },
      "execution_count": 7,
      "outputs": [
        {
          "output_type": "execute_result",
          "data": {
            "text/plain": [
              "array([1, 2, 3, 4])"
            ]
          },
          "metadata": {},
          "execution_count": 7
        }
      ]
    },
    {
      "cell_type": "code",
      "source": [
        "labels=np.arange(arr.min(), arr.max() + 1)\n",
        "\n",
        "labels"
      ],
      "metadata": {
        "colab": {
          "base_uri": "https://localhost:8080/"
        },
        "id": "AkEAugM2hfk6",
        "outputId": "66c1121f-733a-4aff-b18c-bec58b3443eb"
      },
      "execution_count": 8,
      "outputs": [
        {
          "output_type": "execute_result",
          "data": {
            "text/plain": [
              "array([1, 2, 3, 4])"
            ]
          },
          "metadata": {},
          "execution_count": 8
        }
      ]
    },
    {
      "cell_type": "code",
      "source": [
        "bins = np.arange(arr.min(), arr.max() + 2)  # Add 2 to include the last integer bin\n",
        "\n",
        "bins"
      ],
      "metadata": {
        "colab": {
          "base_uri": "https://localhost:8080/"
        },
        "id": "eeHqQgZwjAKy",
        "outputId": "d006f6e1-75fc-4f9d-c0a6-766e208d1b85"
      },
      "execution_count": 9,
      "outputs": [
        {
          "output_type": "execute_result",
          "data": {
            "text/plain": [
              "array([1, 2, 3, 4, 5])"
            ]
          },
          "metadata": {},
          "execution_count": 9
        }
      ]
    },
    {
      "cell_type": "code",
      "source": [
        "# adding 1 does not work (to make room for the 5)\n",
        "\n",
        "\n",
        "bins = np.unique(arr) + 1\n",
        "\n",
        "bins"
      ],
      "metadata": {
        "colab": {
          "base_uri": "https://localhost:8080/"
        },
        "id": "WyNY9SrnjYYf",
        "outputId": "d38dc3c5-80d6-46fa-9cf7-5d4a30e64dbf"
      },
      "execution_count": 10,
      "outputs": [
        {
          "output_type": "execute_result",
          "data": {
            "text/plain": [
              "array([2, 3, 4, 5])"
            ]
          },
          "metadata": {},
          "execution_count": 10
        }
      ]
    },
    {
      "cell_type": "code",
      "source": [
        "# Add 2 to include the last integer bin\n",
        "\n",
        "bins = np.arange(arr.min(), arr.max() + 2)\n",
        "\n",
        "bins"
      ],
      "metadata": {
        "colab": {
          "base_uri": "https://localhost:8080/"
        },
        "id": "sbHBEdK9jg2X",
        "outputId": "67bf6e53-8ac3-489f-e2da-088b35b613c8"
      },
      "execution_count": 11,
      "outputs": [
        {
          "output_type": "execute_result",
          "data": {
            "text/plain": [
              "array([1, 2, 3, 4, 5])"
            ]
          },
          "metadata": {},
          "execution_count": 11
        }
      ]
    },
    {
      "cell_type": "code",
      "source": [
        "import matplotlib.pyplot as plt\n",
        "import numpy as np\n",
        "\n",
        "\n",
        "# Create a histogram with bins for integers\n",
        "bins = np.arange(arr.min(), arr.max() + 2)  # Add 2 to include the last integer bin\n",
        "\n",
        "counts, bin_edges, _ = plt.hist(arr, bins=bins, align='mid', edgecolor='black')\n",
        "\n",
        "# Set x-ticks at the center of each bar\n",
        "bin_centers = 0.5 * (bin_edges[:-1] + bin_edges[1:])  # Midpoints of bins\n",
        "\n",
        "# Integer labels\n",
        "\n",
        "plt.xticks(bin_centers, labels=np.unique(arr))\n",
        "\n",
        "plt.show()\n"
      ],
      "metadata": {
        "colab": {
          "base_uri": "https://localhost:8080/",
          "height": 430
        },
        "id": "6TneVhx-iKg0",
        "outputId": "7b3df823-100d-4ffd-89b3-adc0123479c4"
      },
      "execution_count": 12,
      "outputs": [
        {
          "output_type": "display_data",
          "data": {
            "text/plain": [
              "<Figure size 640x480 with 1 Axes>"
            ],
            "image/png": "[encoded data removed]"
          },
          "metadata": {}
        }
      ]
    },
    {
      "cell_type": "code",
      "source": [
        "np.unique(arr),bins,bin_centers"
      ],
      "metadata": {
        "colab": {
          "base_uri": "https://localhost:8080/"
        },
        "id": "W9LR9aHslgyR",
        "outputId": "a061b987-521b-4427-b018-5fdc002ee0ea"
      },
      "execution_count": 13,
      "outputs": [
        {
          "output_type": "execute_result",
          "data": {
            "text/plain": [
              "(array([1, 2, 3, 4]), array([1, 2, 3, 4, 5]), array([1.5, 2.5, 3.5, 4.5]))"
            ]
          },
          "metadata": {},
          "execution_count": 13
        }
      ]
    },
    {
      "cell_type": "markdown",
      "source": [
        "#Bar Chart with Text\n",
        "\n",
        "\n",
        "Edges not an Issue when Dealing with Text"
      ],
      "metadata": {
        "id": "2bunNv-FqGfB"
      }
    },
    {
      "cell_type": "code",
      "source": [
        "words = ['Fred', 'Sam', 'Yulia', 'Oleskii']\n",
        "\n",
        "choices = np.random.randint(1,5,20)\n",
        "\n",
        "\n",
        "# Adjust choices to be zero-indexed for proper indexing in the words list\n",
        "adjusted_choices = choices - 1\n",
        "\n",
        "randomWords = [words[i] for i in adjusted_choices]\n",
        "\n",
        "# Remove x-axis ticks\n",
        "plt.tick_params(axis='x', which='both', bottom=False)\n",
        "\n",
        "plt.hist(randomWords)\n",
        "\n",
        "plt.show()"
      ],
      "metadata": {
        "id": "VB5YpzoNlL_G",
        "colab": {
          "base_uri": "https://localhost:8080/",
          "height": 430
        },
        "outputId": "37c9af62-8573-4d48-f59e-a3b9864daa29"
      },
      "execution_count": 14,
      "outputs": [
        {
          "output_type": "display_data",
          "data": {
            "text/plain": [
              "<Figure size 640x480 with 1 Axes>"
            ],
            "image/png": "[encoded data removed]"
          },
          "metadata": {}
        }
      ]
    }
  ]
}