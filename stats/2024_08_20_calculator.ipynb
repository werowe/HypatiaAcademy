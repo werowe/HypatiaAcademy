{
  "nbformat": 4,
  "nbformat_minor": 0,
  "metadata": {
    "colab": {
      "provenance": [],
      "authorship_tag": "ABX9TyNzJZJ88aowU7xf7fliPden",
      "include_colab_link": true
    },
    "kernelspec": {
      "name": "python3",
      "display_name": "Python 3"
    },
    "language_info": {
      "name": "python"
    }
  },
  "cells": [
    {
      "cell_type": "markdown",
      "metadata": {
        "id": "view-in-github",
        "colab_type": "text"
      },
      "source": [
        "<a href=\"https://colab.research.google.com/github/werowe/HypatiaAcademy/blob/master/stats/2024_08_20_calculator.ipynb\" target=\"_parent\"><img src=\"https://colab.research.google.com/assets/colab-badge.svg\" alt=\"Open In Colab\"/></a>"
      ]
    },
    {
      "cell_type": "code",
      "execution_count": 4,
      "metadata": {
        "colab": {
          "base_uri": "https://localhost:8080/"
        },
        "id": "FJwVgtDTz9DO",
        "outputId": "7c59db8f-0a88-4c81-93ab-cb27289f69b7"
      },
      "outputs": [
        {
          "output_type": "stream",
          "name": "stdout",
          "text": [
            "3\n",
            "4\n",
            "2\n"
          ]
        },
        {
          "output_type": "execute_result",
          "data": {
            "text/plain": [
              "24"
            ]
          },
          "metadata": {},
          "execution_count": 4
        }
      ],
      "source": [
        "# variable number of arguments\n",
        "\n",
        "\n",
        "def multiply(*number):\n",
        "\n",
        "    product = 1\n",
        "\n",
        "    for n in number:\n",
        "      print(n)\n",
        "      product = product * n\n",
        "\n",
        "    return product\n",
        "\n",
        "\n",
        "multiply(3,4,2)\n"
      ]
    },
    {
      "cell_type": "code",
      "source": [
        "# homework (extra difficult):  make a calculator\n",
        "\n",
        "\n",
        "def calculate(number):\n",
        "\n",
        "    return 1\n",
        "\n",
        "\n",
        "#where number is a string like \"2*3+2\"\n",
        "\n",
        "import re\n",
        "\n",
        "# The input string\n",
        "input_string = \"24*3+2\"\n",
        "\n",
        "# this regular express basically means get all number and all not-numbers and put in a list\n",
        "result = re.findall(r'\\d+|\\D', input_string)\n",
        "\n",
        "print(\"split numbers and operators\", result,\"\\n\")\n",
        "\n",
        "\n",
        "# then loop through each item in result:\n",
        "\n",
        "c=\"\" # always initalize to some value to get started\n",
        "\n",
        "numbers=[]\n",
        "operators=[]\n",
        "\n",
        "for n in result:\n",
        "  if n.isdigit():\n",
        "    c=c + str(n)\n",
        "    print(\"\\nfound number\", c)\n",
        "\n",
        "  if n in [\"+\", \"*\", \"/\", \"-\"]:\n",
        "    op=n\n",
        "    print(\"\\nfound operator\", n)\n",
        "    numbers.append(int(c))\n",
        "    operators.append(n)\n",
        "    c=\"\" # erase string to prepare for next number\n",
        "\n",
        "# get the last number\n",
        "\n",
        "numbers.append(c)\n",
        "\n",
        "\n",
        "print(\"\\nnumbers found\", numbers)\n",
        "print(\"\\noperators found\", operators)\n",
        "\n",
        "# \\n\\ntake the 1st number, 1st operator, and 2nd number\n",
        "\n",
        "n1=numbers[0]\n",
        "n2=numbers[1]\n",
        "o1=operators[0]\n",
        "\n",
        "print(\"\\n\\n now calculate\")\n",
        "\n",
        "if o1 == \"*\":\n",
        "  product=multiply(n1,n2)\n",
        "  print(\"product of \", n1, \"x\", n2, \" = \", product)\n",
        "\n",
        "\n",
        "# that is generalized.  not finish algorithm to handle all 4 math operators\n",
        "# next you would use 72 and add 2\n",
        "\n"
      ],
      "metadata": {
        "colab": {
          "base_uri": "https://localhost:8080/"
        },
        "id": "X-r9Mv3G0pDM",
        "outputId": "a5712166-288d-48ee-897a-034458d4f6b9"
      },
      "execution_count": 42,
      "outputs": [
        {
          "output_type": "stream",
          "name": "stdout",
          "text": [
            "split numbers and operators ['24', '*', '3', '+', '2'] \n",
            "\n",
            "\n",
            "found number 24\n",
            "\n",
            "found operator *\n",
            "\n",
            "found number 3\n",
            "\n",
            "found operator +\n",
            "\n",
            "found number 2\n",
            "\n",
            "numbers found [24, 3, '2']\n",
            "\n",
            "operators found ['*', '+']\n",
            "\n",
            "\n",
            " now calculate\n",
            "24\n",
            "3\n",
            "product of  24 x 3  =  72\n"
          ]
        }
      ]
    }
  ]
}