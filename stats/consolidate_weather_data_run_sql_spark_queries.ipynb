{
  "cells": [
    {
      "cell_type": "markdown",
      "metadata": {
        "id": "view-in-github",
        "colab_type": "text"
      },
      "source": [
        "<a href=\"https://colab.research.google.com/github/werowe/HypatiaAcademy/blob/master/stats/consolidate_weather_data_run_sql_spark_queries.ipynb\" target=\"_parent\"><img src=\"https://colab.research.google.com/assets/colab-badge.svg\" alt=\"Open In Colab\"/></a>"
      ]
    },
    {
      "cell_type": "code",
      "execution_count": 1,
      "id": "66d4c911-ce31-48b6-8481-cfb6c16a8d7f",
      "metadata": {
        "colab": {
          "base_uri": "https://localhost:8080/"
        },
        "id": "66d4c911-ce31-48b6-8481-cfb6c16a8d7f",
        "outputId": "3903e283-0ae7-47c8-eed5-5dfda69c3a74"
      },
      "outputs": [
        {
          "output_type": "stream",
          "name": "stdout",
          "text": [
            "Mounted at /content/drive\n"
          ]
        }
      ],
      "source": [
        "from google.colab import drive\n",
        "drive.mount('/content/drive')"
      ]
    },
    {
      "cell_type": "code",
      "execution_count": 2,
      "id": "93195920-9c74-4605-a6ba-b5c3b67f41af",
      "metadata": {
        "colab": {
          "base_uri": "https://localhost:8080/"
        },
        "id": "93195920-9c74-4605-a6ba-b5c3b67f41af",
        "outputId": "ef6ce866-d0a0-434e-f8c3-d9e5d8aaea44"
      },
      "outputs": [
        {
          "output_type": "stream",
          "name": "stdout",
          "text": [
            "Combined DataFrame shape: (25226, 24)\n"
          ]
        }
      ],
      "source": [
        "import os\n",
        "import pandas as pd\n",
        "\n",
        "# Define the directory containing the CSV files\n",
        "directory = 'drive/MyDrive/weather'\n",
        "\n",
        "# Initialize an empty list to store DataFrames\n",
        "dataframes = []\n",
        "\n",
        "# Loop through files in the directory\n",
        "for filename in os.listdir(directory):\n",
        "    # Check if the file starts with 'paphos2024' and ends with '.csv'\n",
        "    if filename.startswith('paphos20') and filename.endswith('.csv'):\n",
        "        # Read the CSV file into a DataFrame\n",
        "        filepath = os.path.join(directory, filename)\n",
        "        df = pd.read_csv(filepath)\n",
        "        dataframes.append(df)\n",
        "\n",
        "# Combine all DataFrames into one\n",
        "df_combined = pd.concat(dataframes, ignore_index=True)\n",
        "\n",
        "# Drop duplicate rows\n",
        "df_combined = df_combined.drop_duplicates()\n",
        "\n",
        "# Save the combined DataFrame to a new CSV file (optional)\n",
        "df_combined.to_csv('combined_weather.csv', index=False)\n",
        "\n",
        "# Print a summary of the combined DataFrame\n",
        "print(f\"Combined DataFrame shape: {df_combined.shape}\")"
      ]
    },
    {
      "cell_type": "code",
      "execution_count": 3,
      "id": "d274ac16-319c-452b-908f-1e4d16615dff",
      "metadata": {
        "id": "d274ac16-319c-452b-908f-1e4d16615dff"
      },
      "outputs": [],
      "source": [
        "from pyspark.sql import SparkSession\n",
        "\n",
        "\n",
        "# Initialize SparkSession\n",
        "spark = SparkSession.builder \\\n",
        "    .appName(\"weather\") \\\n",
        "    .getOrCreate()\n",
        "\n",
        "df = spark.read.csv(\n",
        "    \"combined_weather.csv\",\n",
        "    header=True,        # Use the first row as column names\n",
        "    inferSchema=True,   # Automatically infer data types\n",
        "    sep=\",\",            # Specify delimiter (default is ',')\n",
        "    encoding=\"UTF-8\"    # Handle encoding\n",
        ")\n",
        "\n"
      ]
    },
    {
      "cell_type": "code",
      "source": [
        "df.columns"
      ],
      "metadata": {
        "id": "IupJCWCHKOsi",
        "outputId": "c179f5a3-fcc3-49e9-d213-d12cf28b32b5",
        "colab": {
          "base_uri": "https://localhost:8080/"
        }
      },
      "id": "IupJCWCHKOsi",
      "execution_count": 4,
      "outputs": [
        {
          "output_type": "execute_result",
          "data": {
            "text/plain": [
              "['name',\n",
              " 'datetime',\n",
              " 'temp',\n",
              " 'feelslike',\n",
              " 'dew',\n",
              " 'humidity',\n",
              " 'precip',\n",
              " 'precipprob',\n",
              " 'preciptype',\n",
              " 'snow',\n",
              " 'snowdepth',\n",
              " 'windgust',\n",
              " 'windspeed',\n",
              " 'winddir',\n",
              " 'sealevelpressure',\n",
              " 'cloudcover',\n",
              " 'visibility',\n",
              " 'solarradiation',\n",
              " 'solarenergy',\n",
              " 'uvindex',\n",
              " 'severerisk',\n",
              " 'conditions',\n",
              " 'icon',\n",
              " 'stations']"
            ]
          },
          "metadata": {},
          "execution_count": 4
        }
      ]
    },
    {
      "cell_type": "code",
      "source": [
        "df.createOrReplaceTempView(\"weather\")"
      ],
      "metadata": {
        "id": "8SUAdh7AKQv7"
      },
      "id": "8SUAdh7AKQv7",
      "execution_count": 5,
      "outputs": []
    },
    {
      "cell_type": "code",
      "source": [
        "\n",
        "sql = '''\n",
        "SELECT round(SUM(precip)) AS total_precip, YEAR(datetime) AS year, MONTH(datetime) AS month\n",
        "FROM weather\n",
        "GROUP BY YEAR(datetime), MONTH(datetime)\n",
        "ORDER BY year, month\n",
        "\n",
        "'''\n",
        "\n",
        "result = spark.sql(sql)\n",
        "result.show()"
      ],
      "metadata": {
        "colab": {
          "base_uri": "https://localhost:8080/"
        },
        "id": "8dXKQSRLKVhe",
        "outputId": "29ed9756-6261-47a1-f727-0a1f519bca3c"
      },
      "id": "8dXKQSRLKVhe",
      "execution_count": 13,
      "outputs": [
        {
          "output_type": "stream",
          "name": "stdout",
          "text": [
            "+------------+----+-----+\n",
            "|total_precip|year|month|\n",
            "+------------+----+-----+\n",
            "|        69.0|2024|    1|\n",
            "|        35.0|2024|    2|\n",
            "|         9.0|2024|    3|\n",
            "|       239.0|2024|    4|\n",
            "|        18.0|2024|    5|\n",
            "|         0.0|2024|    6|\n",
            "|         0.0|2024|    7|\n",
            "|         0.0|2024|    8|\n",
            "|         2.0|2024|    9|\n",
            "|         2.0|2024|   10|\n",
            "|       166.0|2024|   11|\n",
            "|       487.0|2024|   12|\n",
            "|        64.0|2025|    1|\n",
            "|       108.0|2025|    2|\n",
            "|        45.0|2025|    3|\n",
            "|        84.0|2025|    4|\n",
            "|        58.0|2025|    5|\n",
            "|         1.0|2025|    6|\n",
            "+------------+----+-----+\n",
            "\n"
          ]
        }
      ]
    },
    {
      "cell_type": "code",
      "source": [
        "# is it cloudier this year than last\n",
        "\n",
        "\n",
        "sql = '''\n",
        "SELECT CAST(SUM(cloudcover) AS INT) AS clouds, YEAR(datetime) AS year, MONTH(datetime) AS month\n",
        "FROM weather\n",
        "GROUP BY YEAR(datetime), MONTH(datetime)\n",
        "HAVING MONTH(datetime) = 5\n",
        "ORDER BY year, month\n",
        "\n",
        "'''\n",
        "\n",
        "\n",
        "result = spark.sql(sql)\n",
        "result.show()"
      ],
      "metadata": {
        "id": "vXVsmkONcU36",
        "outputId": "90476bb4-f349-4aa9-ff3c-84bc421508a0",
        "colab": {
          "base_uri": "https://localhost:8080/"
        }
      },
      "id": "vXVsmkONcU36",
      "execution_count": 23,
      "outputs": [
        {
          "output_type": "stream",
          "name": "stdout",
          "text": [
            "+------+----+-----+\n",
            "|clouds|year|month|\n",
            "+------+----+-----+\n",
            "| 28069|2024|    5|\n",
            "|101716|2025|    5|\n",
            "+------+----+-----+\n",
            "\n"
          ]
        }
      ]
    },
    {
      "cell_type": "code",
      "source": [
        "# is it rainier this year than last\n",
        "\n",
        "\n",
        "sql = '''\n",
        "SELECT CAST(SUM(precip) AS INT) AS precip, YEAR(datetime) AS year, MONTH(datetime) AS month\n",
        "FROM weather\n",
        "GROUP BY YEAR(datetime), MONTH(datetime)\n",
        "HAVING MONTH(datetime) = 5\n",
        "ORDER BY year, month\n",
        "\n",
        "'''\n",
        "\n",
        "\n",
        "result = spark.sql(sql)\n",
        "result.show()"
      ],
      "metadata": {
        "id": "w330iTLZjDJ9",
        "outputId": "c8907197-51b5-4568-9cc9-c2d4e0142774",
        "colab": {
          "base_uri": "https://localhost:8080/"
        }
      },
      "id": "w330iTLZjDJ9",
      "execution_count": 50,
      "outputs": [
        {
          "output_type": "stream",
          "name": "stdout",
          "text": [
            "+------+----+-----+\n",
            "|precip|year|month|\n",
            "+------+----+-----+\n",
            "|    18|2024|    5|\n",
            "|    57|2025|    5|\n",
            "+------+----+-----+\n",
            "\n"
          ]
        }
      ]
    },
    {
      "cell_type": "code",
      "source": [
        "# maximum temperature\n",
        "\n",
        "\n",
        "sql = '''\n",
        "SELECT round(max(temp),2) AS max_temp, date_format(datetime, 'yy-MM-dd') as YYMMDD\n",
        "FROM weather\n",
        "GROUP BY YYMMDD\n",
        "ORDER BY max_temp desc\n",
        "\n",
        "'''\n",
        "\n",
        "result = spark.sql(sql)\n",
        "result.show()"
      ],
      "metadata": {
        "id": "Dv-3eQgIeXS3",
        "outputId": "9e22f46f-4f4f-4ddc-ff60-52240a3f80ea",
        "colab": {
          "base_uri": "https://localhost:8080/"
        }
      },
      "id": "Dv-3eQgIeXS3",
      "execution_count": 39,
      "outputs": [
        {
          "output_type": "stream",
          "name": "stdout",
          "text": [
            "+--------+--------+\n",
            "|max_temp|  YYMMDD|\n",
            "+--------+--------+\n",
            "|    34.6|24-07-28|\n",
            "|    33.5|24-07-21|\n",
            "|    33.4|24-07-29|\n",
            "|    33.3|24-04-24|\n",
            "|    33.3|24-07-20|\n",
            "|    33.3|24-07-27|\n",
            "|    33.1|24-08-17|\n",
            "|    33.0|24-08-01|\n",
            "|    32.9|24-08-21|\n",
            "|    32.9|24-08-12|\n",
            "|    32.9|24-07-31|\n",
            "|    32.9|24-08-14|\n",
            "|    32.9|24-07-24|\n",
            "|    32.8|24-08-16|\n",
            "|    32.8|24-08-18|\n",
            "|    32.8|24-08-26|\n",
            "|    32.7|24-07-25|\n",
            "|    32.6|24-07-15|\n",
            "|    32.3|24-07-19|\n",
            "|    32.2|24-07-22|\n",
            "+--------+--------+\n",
            "only showing top 20 rows\n",
            "\n"
          ]
        }
      ]
    },
    {
      "cell_type": "code",
      "source": [
        "sql = '''\n",
        "SELECT round(avg(temp),2) AS temp, YEAR(datetime) AS year, MONTH(datetime) AS month\n",
        "FROM weather\n",
        "GROUP BY YEAR(datetime), MONTH(datetime)\n",
        "ORDER BY year, month\n",
        "\n",
        "'''\n",
        "\n",
        "result = spark.sql(sql)\n",
        "result.show()"
      ],
      "metadata": {
        "id": "J-BfRSsAtLLi",
        "outputId": "1936075a-b124-4901-9098-1f8edcee5381",
        "colab": {
          "base_uri": "https://localhost:8080/"
        }
      },
      "id": "J-BfRSsAtLLi",
      "execution_count": 7,
      "outputs": [
        {
          "output_type": "stream",
          "name": "stdout",
          "text": [
            "+-----+----+-----+\n",
            "| temp|year|month|\n",
            "+-----+----+-----+\n",
            "|14.35|2024|    1|\n",
            "|14.39|2024|    2|\n",
            "|16.43|2024|    3|\n",
            "|20.06|2024|    4|\n",
            "|21.59|2024|    5|\n",
            "|25.29|2024|    6|\n",
            "|29.12|2024|    7|\n",
            "|28.42|2024|    8|\n",
            "|26.56|2024|    9|\n",
            "|22.68|2024|   10|\n",
            "|18.29|2024|   11|\n",
            "|15.07|2024|   12|\n",
            "|14.31|2025|    1|\n",
            "|11.74|2025|    2|\n",
            "|16.74|2025|    3|\n",
            "|17.84|2025|    4|\n",
            "| 21.4|2025|    5|\n",
            "|21.92|2025|    6|\n",
            "+-----+----+-----+\n",
            "\n"
          ]
        }
      ]
    },
    {
      "cell_type": "code",
      "source": [
        "# average temperature by month and year\n",
        "\n",
        "sql = '''\n",
        "SELECT round(avg(temp),1) AS temp, YEAR(datetime) AS year, MONTH(datetime) AS month\n",
        "FROM weather\n",
        "GROUP BY YEAR(datetime), MONTH(datetime)\n",
        "ORDER BY month, year\n",
        "\n",
        "'''\n",
        "\n",
        "result = spark.sql(sql)\n",
        "result.show()"
      ],
      "metadata": {
        "id": "bJKTvVCMtt0k",
        "outputId": "b96308c9-4fc9-41da-c8a3-0cab3f198a7b",
        "colab": {
          "base_uri": "https://localhost:8080/"
        }
      },
      "id": "bJKTvVCMtt0k",
      "execution_count": 46,
      "outputs": [
        {
          "output_type": "stream",
          "name": "stdout",
          "text": [
            "+----+----+-----+\n",
            "|temp|year|month|\n",
            "+----+----+-----+\n",
            "|14.4|2024|    1|\n",
            "|14.3|2025|    1|\n",
            "|14.4|2024|    2|\n",
            "|11.7|2025|    2|\n",
            "|16.4|2024|    3|\n",
            "|16.7|2025|    3|\n",
            "|20.1|2024|    4|\n",
            "|17.8|2025|    4|\n",
            "|21.6|2024|    5|\n",
            "|21.4|2025|    5|\n",
            "|25.3|2024|    6|\n",
            "|21.9|2025|    6|\n",
            "|29.1|2024|    7|\n",
            "|28.4|2024|    8|\n",
            "|26.6|2024|    9|\n",
            "|22.7|2024|   10|\n",
            "|18.3|2024|   11|\n",
            "|15.1|2024|   12|\n",
            "+----+----+-----+\n",
            "\n"
          ]
        }
      ]
    },
    {
      "cell_type": "code",
      "source": [
        "# average temperature particular month\n",
        "\n",
        "sql = '''\n",
        "SELECT YEAR(datetime) AS year, MONTH(datetime) AS month, round(AVG(temp),2) AS avg_temp\n",
        "FROM weather\n",
        "WHERE YEAR(datetime) IN (2025, 2024, 2023) AND MONTH(datetime) = 5\n",
        "GROUP BY YEAR(datetime), MONTH(datetime);\n",
        "\n",
        "'''\n",
        "\n",
        "result = spark.sql(sql)\n",
        "result.show()"
      ],
      "metadata": {
        "id": "UBWbrQiJuYOX",
        "outputId": "c32dd900-bb33-4d7a-b1ac-74ea31722d22",
        "colab": {
          "base_uri": "https://localhost:8080/"
        }
      },
      "id": "UBWbrQiJuYOX",
      "execution_count": 48,
      "outputs": [
        {
          "output_type": "stream",
          "name": "stdout",
          "text": [
            "+----+-----+--------+\n",
            "|year|month|avg_temp|\n",
            "+----+-----+--------+\n",
            "|2025|    5|    21.4|\n",
            "|2024|    5|   21.59|\n",
            "+----+-----+--------+\n",
            "\n"
          ]
        }
      ]
    }
  ],
  "metadata": {
    "kernelspec": {
      "display_name": "Python 3 (ipykernel)",
      "language": "python",
      "name": "python3"
    },
    "language_info": {
      "codemirror_mode": {
        "name": "ipython",
        "version": 3
      },
      "file_extension": ".py",
      "mimetype": "text/x-python",
      "name": "python",
      "nbconvert_exporter": "python",
      "pygments_lexer": "ipython3",
      "version": "3.12.7"
    },
    "colab": {
      "provenance": [],
      "include_colab_link": true
    }
  },
  "nbformat": 4,
  "nbformat_minor": 5
}