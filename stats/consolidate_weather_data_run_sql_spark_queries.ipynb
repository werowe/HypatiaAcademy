{
  "cells": [
    {
      "cell_type": "markdown",
      "metadata": {
        "id": "view-in-github",
        "colab_type": "text"
      },
      "source": [
        "<a href=\"https://colab.research.google.com/github/werowe/HypatiaAcademy/blob/master/stats/consolidate_weather_data_run_sql_spark_queries.ipynb\" target=\"_parent\"><img src=\"https://colab.research.google.com/assets/colab-badge.svg\" alt=\"Open In Colab\"/></a>"
      ]
    },
    {
      "cell_type": "code",
      "execution_count": 1,
      "id": "66d4c911-ce31-48b6-8481-cfb6c16a8d7f",
      "metadata": {
        "colab": {
          "base_uri": "https://localhost:8080/"
        },
        "id": "66d4c911-ce31-48b6-8481-cfb6c16a8d7f",
        "outputId": "764fe9fb-a6ba-4cc3-d7cd-7616dfe01721"
      },
      "outputs": [
        {
          "output_type": "stream",
          "name": "stdout",
          "text": [
            "Mounted at /content/drive\n"
          ]
        }
      ],
      "source": [
        "from google.colab import drive\n",
        "drive.mount('/content/drive')"
      ]
    },
    {
      "cell_type": "code",
      "execution_count": 2,
      "id": "93195920-9c74-4605-a6ba-b5c3b67f41af",
      "metadata": {
        "colab": {
          "base_uri": "https://localhost:8080/"
        },
        "id": "93195920-9c74-4605-a6ba-b5c3b67f41af",
        "outputId": "ed218baa-0ec3-4a01-e03d-9018fa83a6f3"
      },
      "outputs": [
        {
          "output_type": "stream",
          "name": "stdout",
          "text": [
            "Combined DataFrame shape: (34373, 24)\n"
          ]
        }
      ],
      "source": [
        "import os\n",
        "import pandas as pd\n",
        "\n",
        "# Define the directory containing the CSV files\n",
        "directory = 'drive/MyDrive/weather'\n",
        "\n",
        "# Initialize an empty list to store DataFrames\n",
        "dataframes = []\n",
        "\n",
        "# Loop through files in the directory\n",
        "for filename in os.listdir(directory):\n",
        "    # Check if the file starts with 'paphos2024' and ends with '.csv'\n",
        "    if filename.startswith('paphos20') and filename.endswith('.csv'):\n",
        "        # Read the CSV file into a DataFrame\n",
        "        filepath = os.path.join(directory, filename)\n",
        "        df = pd.read_csv(filepath)\n",
        "        dataframes.append(df)\n",
        "\n",
        "# Combine all DataFrames into one\n",
        "df_combined = pd.concat(dataframes, ignore_index=True)\n",
        "\n",
        "# Drop duplicate rows\n",
        "df_combined = df_combined.drop_duplicates()\n",
        "\n",
        "# Save the combined DataFrame to a new CSV file (optional)\n",
        "df_combined.to_csv('combined_weather.csv', index=False)\n",
        "\n",
        "# Print a summary of the combined DataFrame\n",
        "print(f\"Combined DataFrame shape: {df_combined.shape}\")"
      ]
    },
    {
      "cell_type": "code",
      "execution_count": 3,
      "id": "d274ac16-319c-452b-908f-1e4d16615dff",
      "metadata": {
        "id": "d274ac16-319c-452b-908f-1e4d16615dff"
      },
      "outputs": [],
      "source": [
        "from pyspark.sql import SparkSession\n",
        "\n",
        "\n",
        "# Initialize SparkSession\n",
        "spark = SparkSession.builder \\\n",
        "    .appName(\"weather\") \\\n",
        "    .getOrCreate()\n",
        "\n",
        "df = spark.read.csv(\n",
        "    \"combined_weather.csv\",\n",
        "    header=True,        # Use the first row as column names\n",
        "    inferSchema=True,   # Automatically infer data types\n",
        "    sep=\",\",            # Specify delimiter (default is ',')\n",
        "    encoding=\"UTF-8\"    # Handle encoding\n",
        ")\n",
        "\n"
      ]
    },
    {
      "cell_type": "code",
      "source": [
        "df.columns"
      ],
      "metadata": {
        "id": "IupJCWCHKOsi",
        "outputId": "4e459b23-a947-4ddc-fb57-2f719ab7ff77",
        "colab": {
          "base_uri": "https://localhost:8080/"
        }
      },
      "id": "IupJCWCHKOsi",
      "execution_count": 4,
      "outputs": [
        {
          "output_type": "execute_result",
          "data": {
            "text/plain": [
              "['name',\n",
              " 'datetime',\n",
              " 'temp',\n",
              " 'feelslike',\n",
              " 'dew',\n",
              " 'humidity',\n",
              " 'precip',\n",
              " 'precipprob',\n",
              " 'preciptype',\n",
              " 'snow',\n",
              " 'snowdepth',\n",
              " 'windgust',\n",
              " 'windspeed',\n",
              " 'winddir',\n",
              " 'sealevelpressure',\n",
              " 'cloudcover',\n",
              " 'visibility',\n",
              " 'solarradiation',\n",
              " 'solarenergy',\n",
              " 'uvindex',\n",
              " 'severerisk',\n",
              " 'conditions',\n",
              " 'icon',\n",
              " 'stations']"
            ]
          },
          "metadata": {},
          "execution_count": 4
        }
      ]
    },
    {
      "cell_type": "code",
      "source": [
        "df.createOrReplaceTempView(\"weather\")"
      ],
      "metadata": {
        "id": "8SUAdh7AKQv7"
      },
      "id": "8SUAdh7AKQv7",
      "execution_count": 5,
      "outputs": []
    },
    {
      "cell_type": "code",
      "source": [
        "\n",
        "#rainiest months\n",
        "\n",
        "sql = '''\n",
        "SELECT round(SUM(precip)) AS rain, YEAR(datetime) AS year, MONTH(datetime) AS month\n",
        "FROM weather\n",
        "GROUP BY YEAR(datetime), MONTH(datetime)\n",
        "ORDER BY rain desc\n",
        "\n",
        "'''\n",
        "\n",
        "result = spark.sql(sql)\n",
        "result.show()"
      ],
      "metadata": {
        "colab": {
          "base_uri": "https://localhost:8080/"
        },
        "id": "8dXKQSRLKVhe",
        "outputId": "774abec4-8182-419a-f73e-f794e7712205"
      },
      "id": "8dXKQSRLKVhe",
      "execution_count": 24,
      "outputs": [
        {
          "output_type": "stream",
          "name": "stdout",
          "text": [
            "+-----+----+-----+\n",
            "| rain|year|month|\n",
            "+-----+----+-----+\n",
            "|487.0|2024|   12|\n",
            "|239.0|2024|    4|\n",
            "|166.0|2024|   11|\n",
            "|108.0|2025|    2|\n",
            "| 84.0|2025|    4|\n",
            "| 69.0|2024|    1|\n",
            "| 64.0|2025|    1|\n",
            "| 58.0|2025|    5|\n",
            "| 45.0|2025|    3|\n",
            "| 35.0|2024|    2|\n",
            "| 21.0|2025|   10|\n",
            "| 18.0|2024|    5|\n",
            "|  9.0|2024|    3|\n",
            "|  4.0|2025|    9|\n",
            "|  3.0|2025|    6|\n",
            "|  2.0|2025|    7|\n",
            "|  2.0|2024|   10|\n",
            "|  1.0|2024|    9|\n",
            "|  0.0|2024|    7|\n",
            "|  0.0|2025|    8|\n",
            "+-----+----+-----+\n",
            "only showing top 20 rows\n",
            "\n"
          ]
        }
      ]
    },
    {
      "cell_type": "code",
      "source": [
        "# earliest precipitation\n",
        "\n",
        "sql = '''\n",
        "\n",
        "SELECT\n",
        "    ROUND(SUM(precip)) AS rain,\n",
        "    YEAR(datetime) AS year,\n",
        "    MONTH(datetime) AS month\n",
        "FROM weather\n",
        "WHERE MONTH(datetime) > 8\n",
        "GROUP BY YEAR(datetime), MONTH(datetime)\n",
        "ORDER BY rain;\n",
        "\n",
        "\n",
        "'''\n",
        "\n",
        "result = spark.sql(sql)\n",
        "result.show()"
      ],
      "metadata": {
        "id": "AP33BK1tpQnt",
        "outputId": "1e59c9cc-24e3-4a0a-9bc5-2a1c0325cb3b",
        "colab": {
          "base_uri": "https://localhost:8080/"
        }
      },
      "id": "AP33BK1tpQnt",
      "execution_count": 19,
      "outputs": [
        {
          "output_type": "stream",
          "name": "stdout",
          "text": [
            "+-----+----+-----+\n",
            "| rain|year|month|\n",
            "+-----+----+-----+\n",
            "|  1.0|2024|    9|\n",
            "|  2.0|2024|   10|\n",
            "|  4.0|2025|    9|\n",
            "| 21.0|2025|   10|\n",
            "|166.0|2024|   11|\n",
            "|487.0|2024|   12|\n",
            "+-----+----+-----+\n",
            "\n"
          ]
        }
      ]
    },
    {
      "cell_type": "code",
      "source": [
        "# is it cloudier this year than last\n",
        "\n",
        "\n",
        "sql = '''\n",
        "SELECT CAST(SUM(cloudcover) AS INT) AS clouds, YEAR(datetime) AS year, MONTH(datetime) AS month\n",
        "FROM weather\n",
        "GROUP BY YEAR(datetime), MONTH(datetime)\n",
        "HAVING MONTH(datetime) = 5\n",
        "ORDER BY year, month\n",
        "\n",
        "'''\n",
        "\n",
        "\n",
        "result = spark.sql(sql)\n",
        "result.show()"
      ],
      "metadata": {
        "id": "vXVsmkONcU36",
        "outputId": "b7e21a4c-af98-4dd8-a44c-e4fae43124b7",
        "colab": {
          "base_uri": "https://localhost:8080/"
        }
      },
      "id": "vXVsmkONcU36",
      "execution_count": 7,
      "outputs": [
        {
          "output_type": "stream",
          "name": "stdout",
          "text": [
            "+------+----+-----+\n",
            "|clouds|year|month|\n",
            "+------+----+-----+\n",
            "| 28069|2024|    5|\n",
            "|103483|2025|    5|\n",
            "+------+----+-----+\n",
            "\n"
          ]
        }
      ]
    },
    {
      "cell_type": "code",
      "source": [
        "# is it rainier this year than last\n",
        "\n",
        "\n",
        "sql = '''\n",
        "SELECT CAST(SUM(precip) AS INT) AS precip, YEAR(datetime) AS year, MONTH(datetime) AS month\n",
        "FROM weather\n",
        "GROUP BY YEAR(datetime), MONTH(datetime)\n",
        "HAVING MONTH(datetime) = 5\n",
        "ORDER BY year, month\n",
        "\n",
        "'''\n",
        "\n",
        "\n",
        "result = spark.sql(sql)\n",
        "result.show()"
      ],
      "metadata": {
        "id": "w330iTLZjDJ9",
        "outputId": "ada3b1b8-0f36-46e9-eaf4-6e2b7884ffed",
        "colab": {
          "base_uri": "https://localhost:8080/"
        }
      },
      "id": "w330iTLZjDJ9",
      "execution_count": 8,
      "outputs": [
        {
          "output_type": "stream",
          "name": "stdout",
          "text": [
            "+------+----+-----+\n",
            "|precip|year|month|\n",
            "+------+----+-----+\n",
            "|    18|2024|    5|\n",
            "|    57|2025|    5|\n",
            "+------+----+-----+\n",
            "\n"
          ]
        }
      ]
    },
    {
      "cell_type": "code",
      "source": [
        "# maximum temperature\n",
        "\n",
        "\n",
        "sql = '''\n",
        "SELECT round(max(temp),2) AS max_temp, date_format(datetime, 'yy-MM-dd') as YYMMDD\n",
        "FROM weather\n",
        "GROUP BY YYMMDD\n",
        "ORDER BY max_temp desc\n",
        "\n",
        "'''\n",
        "\n",
        "result = spark.sql(sql)\n",
        "result.show()"
      ],
      "metadata": {
        "id": "Dv-3eQgIeXS3",
        "outputId": "841256f4-1d90-48c1-8cad-83faa53bf7b9",
        "colab": {
          "base_uri": "https://localhost:8080/"
        }
      },
      "id": "Dv-3eQgIeXS3",
      "execution_count": 9,
      "outputs": [
        {
          "output_type": "stream",
          "name": "stdout",
          "text": [
            "+--------+--------+\n",
            "|max_temp|  YYMMDD|\n",
            "+--------+--------+\n",
            "|    37.6|24-06-07|\n",
            "|    35.8|25-08-14|\n",
            "|    35.5|25-08-13|\n",
            "|    34.9|24-06-08|\n",
            "|    34.8|24-06-13|\n",
            "|    34.6|24-07-28|\n",
            "|    33.8|25-07-27|\n",
            "|    33.5|24-06-06|\n",
            "|    33.5|25-08-12|\n",
            "|    33.4|24-07-29|\n",
            "|    33.4|25-08-09|\n",
            "|    33.4|25-07-26|\n",
            "|    33.3|24-04-24|\n",
            "|    33.3|24-07-20|\n",
            "|    33.3|24-07-21|\n",
            "|    33.3|24-07-27|\n",
            "|    33.2|24-06-14|\n",
            "|    33.2|25-07-25|\n",
            "|    33.1|24-08-17|\n",
            "|    33.0|24-08-01|\n",
            "+--------+--------+\n",
            "only showing top 20 rows\n",
            "\n"
          ]
        }
      ]
    },
    {
      "cell_type": "markdown",
      "source": [
        "# Question:  When does heat drop off in the fall"
      ],
      "metadata": {
        "id": "ID5j5Zx65Ees"
      },
      "id": "ID5j5Zx65Ees"
    },
    {
      "cell_type": "code",
      "source": [
        "sql = '''\n",
        "SELECT round(avg(temp),2) AS ave_temp, round(max(temp),2) AS max_temp,  MONTH(datetime) AS month\n",
        "FROM weather\n",
        "\n",
        "GROUP BY MONTH(datetime)\n",
        "HAVING MONTH(datetime) in (8, 9, 10, 11)\n",
        "ORDER BY month\n",
        "\n",
        "'''\n",
        "\n",
        "result = spark.sql(sql)\n",
        "result.show()"
      ],
      "metadata": {
        "id": "J-BfRSsAtLLi",
        "outputId": "54285b02-fc7e-4e58-f3fc-cfc725118a2a",
        "colab": {
          "base_uri": "https://localhost:8080/"
        }
      },
      "id": "J-BfRSsAtLLi",
      "execution_count": 10,
      "outputs": [
        {
          "output_type": "stream",
          "name": "stdout",
          "text": [
            "+--------+--------+-----+\n",
            "|ave_temp|max_temp|month|\n",
            "+--------+--------+-----+\n",
            "|   28.35|    35.8|    8|\n",
            "|   26.36|    32.1|    9|\n",
            "|    23.0|    28.9|   10|\n",
            "|   18.29|    27.0|   11|\n",
            "+--------+--------+-----+\n",
            "\n"
          ]
        }
      ]
    },
    {
      "cell_type": "code",
      "source": [
        "sql = '''\n",
        "SELECT round(avg(temp),2) AS ave_temp, round(max(temp),2) AS max_temp,  MONTH(datetime) AS month,  DAY(datetime) AS day\n",
        "FROM weather\n",
        "\n",
        "GROUP BY MONTH(datetime), DAY(datetime)\n",
        "HAVING MONTH(datetime) in (9)\n",
        "ORDER BY month, day\n",
        "\n",
        "'''\n",
        "\n",
        "result = spark.sql(sql)\n",
        "result.show()"
      ],
      "metadata": {
        "id": "2z9NU_KA6Han",
        "outputId": "abd59d5d-0d62-4791-d3a3-1dd407ad37e4",
        "colab": {
          "base_uri": "https://localhost:8080/"
        }
      },
      "id": "2z9NU_KA6Han",
      "execution_count": 11,
      "outputs": [
        {
          "output_type": "stream",
          "name": "stdout",
          "text": [
            "+--------+--------+-----+---+\n",
            "|ave_temp|max_temp|month|day|\n",
            "+--------+--------+-----+---+\n",
            "|   27.29|    30.8|    9|  1|\n",
            "|   27.43|    30.8|    9|  2|\n",
            "|   26.97|    29.9|    9|  3|\n",
            "|   27.21|    30.9|    9|  4|\n",
            "|   27.24|    30.8|    9|  5|\n",
            "|   27.11|    31.0|    9|  6|\n",
            "|   27.25|    32.1|    9|  7|\n",
            "|   27.27|    31.9|    9|  8|\n",
            "|   26.31|    31.1|    9|  9|\n",
            "|   26.65|    30.9|    9| 10|\n",
            "|   26.96|    30.2|    9| 11|\n",
            "|   27.62|    32.0|    9| 12|\n",
            "|   26.93|    30.1|    9| 13|\n",
            "|   27.26|    30.7|    9| 14|\n",
            "|   26.73|    29.9|    9| 15|\n",
            "|   26.34|    29.0|    9| 16|\n",
            "|   26.54|    29.8|    9| 17|\n",
            "|   26.12|    30.0|    9| 18|\n",
            "|   26.06|    30.1|    9| 19|\n",
            "|   25.79|    30.1|    9| 20|\n",
            "+--------+--------+-----+---+\n",
            "only showing top 20 rows\n",
            "\n"
          ]
        }
      ]
    },
    {
      "cell_type": "code",
      "source": [
        "sql = '''\n",
        "SELECT round(avg(temp),2) AS temp, YEAR(datetime) AS year, MONTH(datetime) AS month\n",
        "FROM weather\n",
        "GROUP BY YEAR(datetime), MONTH(datetime)\n",
        "ORDER BY year, month\n",
        "\n",
        "'''\n",
        "\n",
        "result = spark.sql(sql)\n",
        "result.show()"
      ],
      "metadata": {
        "id": "chfm6pHx467Z",
        "outputId": "0f66e538-9c0c-4c88-c723-121bb024e2fa",
        "colab": {
          "base_uri": "https://localhost:8080/"
        }
      },
      "id": "chfm6pHx467Z",
      "execution_count": 12,
      "outputs": [
        {
          "output_type": "stream",
          "name": "stdout",
          "text": [
            "+-----+----+-----+\n",
            "| temp|year|month|\n",
            "+-----+----+-----+\n",
            "|14.35|2024|    1|\n",
            "|14.39|2024|    2|\n",
            "|16.43|2024|    3|\n",
            "|20.06|2024|    4|\n",
            "|21.59|2024|    5|\n",
            "|27.37|2024|    6|\n",
            "|28.84|2024|    7|\n",
            "|28.42|2024|    8|\n",
            "|26.38|2024|    9|\n",
            "|22.91|2024|   10|\n",
            "|18.29|2024|   11|\n",
            "|15.07|2024|   12|\n",
            "|14.31|2025|    1|\n",
            "|11.74|2025|    2|\n",
            "|16.74|2025|    3|\n",
            "|17.84|2025|    4|\n",
            "| 21.4|2025|    5|\n",
            "|25.11|2025|    6|\n",
            "|27.92|2025|    7|\n",
            "| 28.3|2025|    8|\n",
            "+-----+----+-----+\n",
            "only showing top 20 rows\n",
            "\n"
          ]
        }
      ]
    },
    {
      "cell_type": "code",
      "source": [
        "# average temperature by month and year\n",
        "\n",
        "sql = '''\n",
        "SELECT round(avg(temp),1) AS temp, YEAR(datetime) AS year, MONTH(datetime) AS month\n",
        "FROM weather\n",
        "GROUP BY YEAR(datetime), MONTH(datetime)\n",
        "ORDER BY month, year\n",
        "\n",
        "'''\n",
        "\n",
        "result = spark.sql(sql)\n",
        "result.show()"
      ],
      "metadata": {
        "id": "bJKTvVCMtt0k",
        "outputId": "8a88d691-ea51-447b-9ef8-31df80027965",
        "colab": {
          "base_uri": "https://localhost:8080/"
        }
      },
      "id": "bJKTvVCMtt0k",
      "execution_count": 13,
      "outputs": [
        {
          "output_type": "stream",
          "name": "stdout",
          "text": [
            "+----+----+-----+\n",
            "|temp|year|month|\n",
            "+----+----+-----+\n",
            "|14.4|2024|    1|\n",
            "|14.3|2025|    1|\n",
            "|14.4|2024|    2|\n",
            "|11.7|2025|    2|\n",
            "|16.4|2024|    3|\n",
            "|16.7|2025|    3|\n",
            "|20.1|2024|    4|\n",
            "|17.8|2025|    4|\n",
            "|21.6|2024|    5|\n",
            "|21.4|2025|    5|\n",
            "|27.4|2024|    6|\n",
            "|25.1|2025|    6|\n",
            "|28.8|2024|    7|\n",
            "|27.9|2025|    7|\n",
            "|28.4|2024|    8|\n",
            "|28.3|2025|    8|\n",
            "|26.4|2024|    9|\n",
            "|26.3|2025|    9|\n",
            "|22.9|2024|   10|\n",
            "|23.4|2025|   10|\n",
            "+----+----+-----+\n",
            "only showing top 20 rows\n",
            "\n"
          ]
        }
      ]
    },
    {
      "cell_type": "code",
      "source": [
        "# average temperature particular month\n",
        "\n",
        "sql = '''\n",
        "SELECT YEAR(datetime) AS year, MONTH(datetime) AS month, round(AVG(temp),2) AS avg_temp\n",
        "FROM weather\n",
        "WHERE YEAR(datetime) IN (2025, 2024, 2023) AND MONTH(datetime) = 5\n",
        "GROUP BY YEAR(datetime), MONTH(datetime);\n",
        "\n",
        "'''\n",
        "\n",
        "result = spark.sql(sql)\n",
        "result.show()"
      ],
      "metadata": {
        "id": "UBWbrQiJuYOX",
        "outputId": "78de6495-9c40-4268-cec0-617d20cfcef7",
        "colab": {
          "base_uri": "https://localhost:8080/"
        }
      },
      "id": "UBWbrQiJuYOX",
      "execution_count": 14,
      "outputs": [
        {
          "output_type": "stream",
          "name": "stdout",
          "text": [
            "+----+-----+--------+\n",
            "|year|month|avg_temp|\n",
            "+----+-----+--------+\n",
            "|2025|    5|    21.4|\n",
            "|2024|    5|   21.59|\n",
            "+----+-----+--------+\n",
            "\n"
          ]
        }
      ]
    }
  ],
  "metadata": {
    "kernelspec": {
      "display_name": "Python 3 (ipykernel)",
      "language": "python",
      "name": "python3"
    },
    "language_info": {
      "codemirror_mode": {
        "name": "ipython",
        "version": 3
      },
      "file_extension": ".py",
      "mimetype": "text/x-python",
      "name": "python",
      "nbconvert_exporter": "python",
      "pygments_lexer": "ipython3",
      "version": "3.12.7"
    },
    "colab": {
      "provenance": [],
      "include_colab_link": true
    }
  },
  "nbformat": 4,
  "nbformat_minor": 5
}