{
  "cells": [
    {
      "cell_type": "markdown",
      "metadata": {
        "id": "view-in-github",
        "colab_type": "text"
      },
      "source": [
        "<a href=\"https://colab.research.google.com/github/werowe/HypatiaAcademy/blob/master/stats/consolidate_weather_data_run_sql_spark_queries.ipynb\" target=\"_parent\"><img src=\"https://colab.research.google.com/assets/colab-badge.svg\" alt=\"Open In Colab\"/></a>"
      ]
    },
    {
      "cell_type": "code",
      "execution_count": 1,
      "id": "66d4c911-ce31-48b6-8481-cfb6c16a8d7f",
      "metadata": {
        "colab": {
          "base_uri": "https://localhost:8080/"
        },
        "id": "66d4c911-ce31-48b6-8481-cfb6c16a8d7f",
        "outputId": "7b5f3a6b-05ad-4eba-d266-81b34d4733be"
      },
      "outputs": [
        {
          "output_type": "stream",
          "name": "stdout",
          "text": [
            "Mounted at /content/drive\n"
          ]
        }
      ],
      "source": [
        "from google.colab import drive\n",
        "drive.mount('/content/drive')"
      ]
    },
    {
      "cell_type": "code",
      "source": [
        "!ls drive/MyDrive/weather\n"
      ],
      "metadata": {
        "colab": {
          "base_uri": "https://localhost:8080/"
        },
        "id": "T891i71GJagh",
        "outputId": "90e27baf-e894-4ef1-d8d0-25c44ebfff4f"
      },
      "id": "T891i71GJagh",
      "execution_count": 4,
      "outputs": [
        {
          "output_type": "stream",
          "name": "stdout",
          "text": [
            " 2023-08-06T07:28:40Z.waves.json   2024-08-11T10:44:14Z.waves.json   paphos2024-07-30.csv\n",
            " 2023-08-07T03:02:07Z.waves.json   2024-08-12T04:48:07Z.waves.json   paphos2024-07-31.csv\n",
            " 2023-08-08T03:45:13Z.waves.json   2024-08-13T02:33:41Z.waves.json   paphos2024-08-01.csv\n",
            " 2023-08-09T02:27:07Z.waves.json   2024-08-14T04:41:42Z.waves.json   paphos2024-08-01.gsheet\n",
            " 2023-08-10T07:23:49Z.waves.json   2024-08-15T04:49:59Z.waves.json   paphos2024-08-02.csv\n",
            " 2023-08-11T03:05:31Z.waves.json   2024-08-16T13:17:25Z.waves.json   paphos2024-08-03.csv\n",
            " 2023-08-12T10:44:14Z.waves.json   2024-08-17T03:52:20Z.waves.json   paphos2024-08-04.csv\n",
            " 2023-08-13T04:48:07Z.waves.json   2024-08-18T13:28:30Z.waves.json   paphos2024-08-05.csv\n",
            " 2023-08-14T02:33:41Z.waves.json   2024-08-19T03:06:16Z.waves.json   paphos2024-08-06.csv\n",
            " 2023-08-15T04:41:42Z.waves.json   2024-08-20T02:15:52Z.waves.json   paphos2024-08-07.csv\n",
            " 2023-08-16T04:49:59Z.waves.json   2024-08-21T07:08:36Z.waves.json   paphos2024-08-08.csv\n",
            " 2023-08-17T13:17:25Z.waves.json   2024-08-22T02:17:34Z.waves.json   paphos2024-08-09.csv\n",
            " 2023-08-18T03:52:20Z.waves.json   2024-08-23T06:30:16Z.waves.json   paphos2024-08-10.csv\n",
            " 2023-08-19T13:28:30Z.waves.json   2024-08-24T07:06:56Z.waves.json   paphos2024-08-11.csv\n",
            " 2023-08-20T03:06:16Z.waves.json   2024-08-25T02:00:37Z.waves.json   paphos2024-08-12.csv\n",
            " 2023-08-21T02:15:52Z.waves.json   2024-08-26T06:30:44Z.waves.json   paphos2024-08-13.csv\n",
            " 2023-08-22T07:08:36Z.waves.json   2024-08-27T02:50:17Z.waves.json   paphos2024-08-14.csv\n",
            " 2023-08-23T02:17:34Z.waves.json   2024-08-28T02:25:37Z.waves.json   paphos2024-08-15.csv\n",
            " 2023-08-24T06:30:16Z.waves.json   2024-08-29T03:10:18Z.waves.json   paphos2024-08-16.csv\n",
            " 2023-08-25T07:06:56Z.waves.json   2024-08-31T02:26:02Z.waves.json   paphos2024-08-17.csv\n",
            " 2023-08-26T02:00:37Z.waves.json   2024-09-01T15:17:35Z.waves.json   paphos2024-08-18.csv\n",
            " 2023-08-27T06:30:44Z.waves.json   2024-09-02T17:23:34Z.waves.json   paphos2024-08-19.csv\n",
            " 2023-08-28T02:50:17Z.waves.json   2024-09-04T16:38:33Z.waves.json   paphos2024-08-20.csv\n",
            " 2023-08-29T02:25:37Z.waves.json   2024-09-07T03:02:55Z.waves.json   paphos2024-08-21.csv\n",
            " 2023-08-30T03:10:18Z.waves.json   2024-09-08T02:42:34Z.waves.json   paphos2024-08-22.csv\n",
            " 2023-09-01T02:26:02Z.waves.json   2024-09-09T12:03:05Z.waves.json   paphos2024-08-23.csv\n",
            " 2023-09-02T15:17:35Z.waves.json   2024-09-11T02:57:10Z.waves.json   paphos2024-08-24.csv\n",
            " 2023-09-03T17:23:34Z.waves.json   2024-09-12T14:32:00Z.waves.json   paphos2024-08-25.csv\n",
            " 2023-09-05T16:38:33Z.waves.json   2024-09-13T04:46:16Z.waves.json   paphos2024-08-26.csv\n",
            " 2023-09-08T03:02:55Z.waves.json   2024-09-15T15:19:10Z.waves.json   paphos2024-08-27.csv\n",
            " 2023-09-09T02:42:34Z.waves.json   2024-09-17T02:38:49Z.waves.json   paphos2024-08-27.gsheet\n",
            " 2023-09-10T12:03:05Z.waves.json   2024-09-19T02:13:12Z.waves.json   paphos2024-08-28.csv\n",
            " 2023-09-12T02:57:10Z.waves.json   2024-09-22T03:11:13Z.waves.json   paphos2024-08-29.csv\n",
            " 2023-09-13T14:32:00Z.waves.json   2024-09-23T02:37:02Z.waves.json   paphos2024-08-31.csv\n",
            " 2023-09-14T04:46:16Z.waves.json   2024-09-24T02:32:59Z.waves.json   paphos2024-09-01.csv\n",
            " 2023-09-16T15:19:10Z.waves.json   2024-09-27T03:07:04Z.waves.json   paphos2024-09-02.csv\n",
            " 2023-09-18T02:38:49Z.waves.json   2024-09-28T04:14:28Z.waves.json   paphos2024-09-04.csv\n",
            " 2023-09-20T02:13:12Z.waves.json   2024-09-30T02:21:04Z.waves.json   paphos2024-09-07.csv\n",
            " 2023-09-23T03:11:13Z.waves.json   2024-10-04T03:17:56Z.waves.json   paphos2024-09-08.csv\n",
            " 2023-09-24T02:37:02Z.waves.json   2024-10-08T09:45:25Z.waves.json   paphos2024-09-09.csv\n",
            " 2023-09-25T02:32:59Z.waves.json   2024-10-08T09:46:55Z.waves.json   paphos2024-09-11.csv\n",
            " 2023-09-28T03:07:04Z.waves.json   2024-10-10T04:11:00Z.waves.json   paphos2024-09-12.csv\n",
            " 2023-09-29T04:14:28Z.waves.json   2024-10-10T04:30:05Z.waves.json   paphos2024-09-13.csv\n",
            " 2023-10-01T02:21:04Z.waves.json   2024-10-12T03:47:54Z.waves.json   paphos2024-09-15.csv\n",
            " 2023-10-05T03:17:56Z.waves.json   2024-10-14T09:00:26Z.waves.json   paphos2024-09-17.csv\n",
            " 2023-10-09T09:45:25Z.waves.json   2024-10-16T12:41:06Z.waves.json   paphos2024-09-19.csv\n",
            " 2023-10-09T09:46:55Z.waves.json   2024-10-17T02:58:56Z.waves.json   paphos2024-09-22.csv\n",
            " 2023-10-11T04:11:00Z.waves.json   2024-10-18T03:15:33Z.waves.json   paphos2024-09-23.csv\n",
            " 2023-10-11T04:30:05Z.waves.json   2024-10-20T01:56:33Z.waves.json   paphos2024-09-24.csv\n",
            " 2023-10-13T03:47:54Z.waves.json   2024-10-21T07:54:55Z.waves.json   paphos2024-09-27.csv\n",
            " 2023-10-15T09:00:26Z.waves.json   2024-10-22T02:21:59Z.waves.json   paphos2024-09-28.csv\n",
            " 2023-10-17T12:41:06Z.waves.json   2024-10-23T07:31:43Z.waves.json   paphos2024-09-30.csv\n",
            " 2023-10-18T02:58:56Z.waves.json   2024-10-24T03:18:07Z.waves.json   paphos2024-09-30.gsheet\n",
            " 2023-10-19T03:15:33Z.waves.json   2024-10-27T06:08:27Z.waves.json   paphos2024-10-04.csv\n",
            " 2023-10-21T01:56:33Z.waves.json   2024-10-28T13:07:06Z.waves.json   paphos2024-10-08.csv\n",
            " 2023-10-22T07:54:55Z.waves.json   2024-10-30T08:03:17Z.waves.json   paphos2024-10-10.csv\n",
            " 2023-10-23T02:21:59Z.waves.json   2024-10-31T13:39:16Z.waves.json   paphos2024-10-12.csv\n",
            " 2023-10-24T07:31:43Z.waves.json   2024-11-01T04:59:19Z.waves.json   paphos2024-10-14.csv\n",
            " 2023-10-25T03:18:07Z.waves.json   2024-11-02T03:44:35Z.waves.json   paphos2024-10-16.csv\n",
            " 2023-10-28T06:08:27Z.waves.json   2024-11-03T12:34:37Z.waves.json   paphos2024-10-17.csv\n",
            " 2023-10-29T13:07:06Z.waves.json   2024-11-04T02:52:53Z.waves.json   paphos2024-10-18.csv\n",
            " 2023-10-31T08:03:17Z.waves.json   2024-11-06T04:24:05Z.waves.json   paphos2024-10-20.csv\n",
            " 2023-11-01T13:39:16Z.waves.json   2024-11-07T03:32:57Z.waves.json   paphos2024-10-21.csv\n",
            " 2023-11-02T04:59:19Z.waves.json   2024-11-09T05:33:21Z.waves.json   paphos2024-10-22.csv\n",
            " 2023-11-03T03:44:35Z.waves.json   2024-11-09T08:29:01Z.waves.json   paphos2024-10-23.csv\n",
            " 2023-11-04T12:34:37Z.waves.json   2024-11-10T06:10:49Z.waves.json   paphos2024-10-24.csv\n",
            " 2023-11-05T02:52:53Z.waves.json   2024-11-11T04:44:37Z.waves.json   paphos2024-10-27.csv\n",
            " 2023-11-07T04:24:05Z.waves.json   2024-11-12T04:28:03Z.waves.json   paphos2024-10-28.csv\n",
            " 2023-11-08T03:32:57Z.waves.json   2024-11-13T11:56:45Z.waves.json   paphos2024-10-30.csv\n",
            " 2023-11-10T05:33:21Z.waves.json   2024-11-14T05:11:43Z.waves.json   paphos2024-10-31.csv\n",
            " 2023-11-10T08:29:01Z.waves.json   2024-11-15T04:32:46Z.waves.json   paphos2024-11-01.csv\n",
            " 2023-11-11T06:10:49Z.waves.json   2024-11-16T12:57:14Z.waves.json   paphos2024-11-02.csv\n",
            " 2023-11-12T04:44:37Z.waves.json   2024-11-17T04:55:41Z.waves.json   paphos2024-11-02.gsheet\n",
            " 2023-11-13T04:28:03Z.waves.json   2024-11-19T04:40:47Z.waves.json   paphos2024-11-03.csv\n",
            " 2023-11-14T11:56:45Z.waves.json   2024-11-20T13:37:34Z.waves.json   paphos2024-11-04.csv\n",
            " 2023-11-15T05:11:43Z.waves.json   2024-11-21T03:22:19Z.waves.json   paphos2024-11-06.csv\n",
            " 2023-11-16T04:32:46Z.waves.json   2024-11-22T14:29:35Z.waves.json   paphos2024-11-07.csv\n",
            " 2023-11-17T12:57:14Z.waves.json   2024-11-23T04:22:28Z.waves.json   paphos2024-11-09.csv\n",
            " 2023-11-18T04:55:41Z.waves.json   2024-11-24T03:17:22Z.waves.json   paphos2024-11-10.csv\n",
            " 2023-11-20T04:40:47Z.waves.json   2024-11-25T04:45:04Z.waves.json   paphos2024-11-11.csv\n",
            " 2023-11-21T13:37:34Z.waves.json   2024-11-26T03:06:03Z.waves.json   paphos2024-11-12.csv\n",
            " 2023-11-22T03:22:19Z.waves.json   2024-11-27T05:06:25Z.waves.json   paphos2024-11-13.csv\n",
            " 2023-11-23T14:29:35Z.waves.json   2024-11-29T14:18:26Z.waves.json   paphos2024-11-14.csv\n",
            " 2023-11-24T04:22:28Z.waves.json   2024-11-30T04:06:58Z.waves.json   paphos2024-11-15.csv\n",
            " 2023-11-25T03:17:22Z.waves.json   2024-12-02T03:41:58Z.waves.json   paphos2024-11-16.csv\n",
            " 2023-11-26T04:45:04Z.waves.json   2024-12-04T16:27:44Z.waves.json   paphos2024-11-17.csv\n",
            " 2023-11-27T03:06:03Z.waves.json   2024-12-06T08:38:05Z.waves.json   paphos2024-11-19.csv\n",
            " 2023-11-28T05:06:25Z.waves.json   2024-12-07T08:37:25Z.waves.json   paphos2024-11-20.csv\n",
            " 2023-11-30T14:18:26Z.waves.json   2024-12-08T04:31:47Z.waves.json   paphos2024-11-21.csv\n",
            " 2023-12-01T04:06:58Z.waves.json   2024-12-10T03:24:15Z.waves.json   paphos2024-11-22.csv\n",
            " 2023-12-03T03:41:58Z.waves.json   2024-12-11T04:14:59Z.waves.json   paphos2024-11-23.csv\n",
            " 2023-12-05T16:27:44Z.waves.json   2024-12-12T15:01:24Z.waves.json   paphos2024-11-24.csv\n",
            " 2023-12-07T08:38:05Z.waves.json   2024-12-13T04:16:52Z.waves.json   paphos2024-11-25.csv\n",
            " 2023-12-08T08:37:25Z.waves.json   2024-12-14T04:23:14Z.waves.json   paphos2024-11-26.csv\n",
            " 2023-12-09T04:31:47Z.waves.json   2024-12-15T19:52:46Z.waves.json   paphos2024-11-27.csv\n",
            " 2023-12-11T03:24:15Z.waves.json   2024-12-16T03:12:33Z.waves.json   paphos2024-11-29.csv\n",
            " 2023-12-12T04:14:59Z.waves.json   2024-12-17T14:41:56Z.waves.json   paphos2024-11-30.csv\n",
            " 2023-12-13T15:01:24Z.waves.json   2024-12-18T03:39:39Z.waves.json   paphos2024-12-02.csv\n",
            " 2023-12-14T04:16:52Z.waves.json   2024-12-19T13:02:08Z.waves.json   paphos2024-12-04.csv\n",
            " 2023-12-15T04:23:14Z.waves.json   2024-12-20T05:30:57Z.waves.json   paphos2024-12-06.csv\n",
            " 2023-12-16T19:52:46Z.waves.json   2024-12-22T07:36:40Z.waves.json   paphos2024-12-07.csv\n",
            " 2023-12-17T03:12:33Z.waves.json   2024-12-23T03:51:53Z.waves.json   paphos2024-12-08.csv\n",
            " 2023-12-18T14:41:56Z.waves.json   2024-12-24T07:38:09Z.waves.json   paphos2024-12-10.csv\n",
            " 2023-12-19T03:39:39Z.waves.json   2024-12-25T03:30:10Z.waves.json   paphos2024-12-11.csv\n",
            " 2023-12-20T13:02:08Z.waves.json   2024-12-26T03:13:04Z.waves.json   paphos2024-12-12.csv\n",
            " 2023-12-21T05:30:57Z.waves.json  'forecast (1).gsheet'\t\t     paphos2024-12-13.csv\n",
            " 2023-12-23T07:36:40Z.waves.json  'forecast (2).gsheet'\t\t     paphos2024-12-14.csv\n",
            " 2023-12-24T03:51:53Z.waves.json   forecast.csv\t\t\t     paphos2024-12-15.csv\n",
            " 2023-12-25T07:38:09Z.waves.json   forecast.gsheet\t\t     paphos2024-12-16.csv\n",
            " 2023-12-26T03:30:10Z.waves.json   paphos2024-07-23.csv\t\t     paphos2024-12-17.csv\n",
            " 2023-12-27T03:13:04Z.waves.json   paphos2024-07-23.gsheet\t     paphos2024-12-18.csv\n",
            " 2024-08-05T07:28:40Z.waves.json   paphos2024-07-24.csv\t\t     paphos2024-12-19.csv\n",
            " 2024-08-05T07:53:00Z.waves.json   paphos2024-07-24.gsheet\t     paphos2024-12-20.csv\n",
            " 2024-08-06T03:02:07Z.waves.json   paphos2024-07-25.csv\t\t     paphos2024-12-22.csv\n",
            " 2024-08-07T03:45:13Z.waves.json   paphos2024-07-26.csv\t\t     paphos2024-12-23.csv\n",
            " 2024-08-08T02:27:07Z.waves.json   paphos2024-07-27.csv\t\t     paphos2024-12-24.csv\n",
            " 2024-08-09T07:23:49Z.waves.json   paphos2024-07-28.csv\t\t     paphos2024-12-25.csv\n",
            " 2024-08-10T03:05:31Z.waves.json   paphos2024-07-29.csv\t\t     paphos2024-12-26.csv\n"
          ]
        }
      ]
    },
    {
      "cell_type": "code",
      "execution_count": 5,
      "id": "93195920-9c74-4605-a6ba-b5c3b67f41af",
      "metadata": {
        "colab": {
          "base_uri": "https://localhost:8080/"
        },
        "id": "93195920-9c74-4605-a6ba-b5c3b67f41af",
        "outputId": "7622ef94-a18f-4324-d41d-fda110baf5bb"
      },
      "outputs": [
        {
          "output_type": "stream",
          "name": "stdout",
          "text": [
            "Combined DataFrame shape: (9222, 24)\n"
          ]
        }
      ],
      "source": [
        "import os\n",
        "import pandas as pd\n",
        "\n",
        "# Define the directory containing the CSV files\n",
        "directory = 'drive/MyDrive/weather'\n",
        "\n",
        "# Initialize an empty list to store DataFrames\n",
        "dataframes = []\n",
        "\n",
        "# Loop through files in the directory\n",
        "for filename in os.listdir(directory):\n",
        "    # Check if the file starts with 'paphos2024' and ends with '.csv'\n",
        "    if filename.startswith('paphos2024') and filename.endswith('.csv'):\n",
        "        # Read the CSV file into a DataFrame\n",
        "        filepath = os.path.join(directory, filename)\n",
        "        df = pd.read_csv(filepath)\n",
        "        dataframes.append(df)\n",
        "\n",
        "# Combine all DataFrames into one\n",
        "df_combined = pd.concat(dataframes, ignore_index=True)\n",
        "\n",
        "# Drop duplicate rows\n",
        "df_combined = df_combined.drop_duplicates()\n",
        "\n",
        "# Save the combined DataFrame to a new CSV file (optional)\n",
        "df_combined.to_csv('combined_paphos2024.csv', index=False)\n",
        "\n",
        "# Print a summary of the combined DataFrame\n",
        "print(f\"Combined DataFrame shape: {df_combined.shape}\")"
      ]
    },
    {
      "cell_type": "code",
      "execution_count": 7,
      "id": "d274ac16-319c-452b-908f-1e4d16615dff",
      "metadata": {
        "id": "d274ac16-319c-452b-908f-1e4d16615dff"
      },
      "outputs": [],
      "source": [
        "from pyspark.sql import SparkSession\n",
        "\n",
        "\n",
        "\n",
        "# Initialize SparkSession\n",
        "spark = SparkSession.builder \\\n",
        "    .appName(\"weather\") \\\n",
        "    .getOrCreate()\n",
        "\n",
        "df = spark.read.csv(\n",
        "    \"combined_paphos2024.csv\",\n",
        "    header=True,        # Use the first row as column names\n",
        "    inferSchema=True,   # Automatically infer data types\n",
        "    sep=\",\",            # Specify delimiter (default is ',')\n",
        "    encoding=\"UTF-8\"    # Handle encoding\n",
        ")\n",
        "\n"
      ]
    },
    {
      "cell_type": "code",
      "source": [
        "df.columns"
      ],
      "metadata": {
        "id": "IupJCWCHKOsi"
      },
      "id": "IupJCWCHKOsi",
      "execution_count": null,
      "outputs": []
    },
    {
      "cell_type": "code",
      "source": [
        "df.createOrReplaceTempView(\"weather\")"
      ],
      "metadata": {
        "id": "8SUAdh7AKQv7"
      },
      "id": "8SUAdh7AKQv7",
      "execution_count": 8,
      "outputs": []
    },
    {
      "cell_type": "code",
      "source": [
        "\n",
        "sql = '''\n",
        "SELECT SUM(precip) AS total_precip, MONTH(datetime) AS month\n",
        "FROM weather\n",
        "GROUP BY MONTH(datetime)\n",
        "\n",
        "'''\n",
        "\n",
        "result = spark.sql(sql)\n",
        "result.show()"
      ],
      "metadata": {
        "colab": {
          "base_uri": "https://localhost:8080/"
        },
        "id": "8dXKQSRLKVhe",
        "outputId": "1afac803-1110-4140-f25a-4d1edf4875fe"
      },
      "id": "8dXKQSRLKVhe",
      "execution_count": 9,
      "outputs": [
        {
          "output_type": "stream",
          "name": "stdout",
          "text": [
            "+------------------+-----+\n",
            "|      total_precip|month|\n",
            "+------------------+-----+\n",
            "|259.33699999999976|   12|\n",
            "|1.6430000000000005|    9|\n",
            "|             0.008|    8|\n",
            "|               0.0|    7|\n",
            "|1.5000000000000002|   10|\n",
            "|166.32799999999978|   11|\n",
            "+------------------+-----+\n",
            "\n"
          ]
        }
      ]
    }
  ],
  "metadata": {
    "kernelspec": {
      "display_name": "Python 3 (ipykernel)",
      "language": "python",
      "name": "python3"
    },
    "language_info": {
      "codemirror_mode": {
        "name": "ipython",
        "version": 3
      },
      "file_extension": ".py",
      "mimetype": "text/x-python",
      "name": "python",
      "nbconvert_exporter": "python",
      "pygments_lexer": "ipython3",
      "version": "3.12.7"
    },
    "colab": {
      "provenance": [],
      "include_colab_link": true
    }
  },
  "nbformat": 4,
  "nbformat_minor": 5
}