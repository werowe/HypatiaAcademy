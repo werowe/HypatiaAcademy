{
  "nbformat": 4,
  "nbformat_minor": 0,
  "metadata": {
    "colab": {
      "provenance": [],
      "authorship_tag": "ABX9TyNodfy9HZm+LjzyGxpsOmij",
      "include_colab_link": true
    },
    "kernelspec": {
      "name": "python3",
      "display_name": "Python 3"
    },
    "language_info": {
      "name": "python"
    }
  },
  "cells": [
    {
      "cell_type": "markdown",
      "metadata": {
        "id": "view-in-github",
        "colab_type": "text"
      },
      "source": [
        "<a href=\"https://colab.research.google.com/github/werowe/HypatiaAcademy/blob/master/stats/ocean_open_meteo_historical.ipynb\" target=\"_parent\"><img src=\"https://colab.research.google.com/assets/colab-badge.svg\" alt=\"Open In Colab\"/></a>"
      ]
    },
    {
      "cell_type": "markdown",
      "source": [
        "https://open-meteo.com/en/docs/marine-weather-api#latitude=35&longitude=33&past_days=14&start_date=2023-01-01&end_date=2023-12-31&time_mode=time_interval&models=era5_ocean"
      ],
      "metadata": {
        "id": "SAtOOe3YJSZO"
      }
    },
    {
      "cell_type": "code",
      "source": [
        "https://open-meteo.com/en/docs/marine-weather-api#latitude=35&longitude=33&past_days=14&start_date=2023-01-01&end_date=2023-12-31&time_mode=time_interval&models=era5_ocean"
      ],
      "metadata": {
        "id": "EMOLPwR1JXVp"
      },
      "execution_count": null,
      "outputs": []
    },
    {
      "cell_type": "code",
      "execution_count": null,
      "metadata": {
        "id": "C7frHdDbJPFc"
      },
      "outputs": [],
      "source": [
        "import openmeteo_requests\n",
        "\n",
        "import requests_cache\n",
        "import pandas as pd\n",
        "from retry_requests import retry\n",
        "\n",
        "# Setup the Open-Meteo API client with cache and retry on error\n",
        "cache_session = requests_cache.CachedSession('.cache', expire_after = 3600)\n",
        "retry_session = retry(cache_session, retries = 5, backoff_factor = 0.2)\n",
        "openmeteo = openmeteo_requests.Client(session = retry_session)\n",
        "\n",
        "# Make sure all required weather variables are listed here\n",
        "# The order of variables in hourly or daily is important to assign them correctly below\n",
        "url = \"https://marine-api.open-meteo.com/v1/marine\"\n",
        "params = {\n",
        "\t\"latitude\": 35,\n",
        "\t\"longitude\": 33,\n",
        "\t\"hourly\": \"wave_height\",\n",
        "\t\"start_date\": \"2023-01-01\",\n",
        "\t\"end_date\": \"2023-12-31\",\n",
        "\t\"models\": \"era5_ocean\"\n",
        "}\n",
        "responses = openmeteo.weather_api(url, params=params)\n",
        "\n",
        "# Process first location. Add a for-loop for multiple locations or weather models\n",
        "response = responses[0]\n",
        "print(f\"Coordinates {response.Latitude()}°N {response.Longitude()}°E\")\n",
        "print(f\"Elevation {response.Elevation()} m asl\")\n",
        "print(f\"Timezone {response.Timezone()} {response.TimezoneAbbreviation()}\")\n",
        "print(f\"Timezone difference to GMT+0 {response.UtcOffsetSeconds()} s\")\n",
        "\n",
        "# Process hourly data. The order of variables needs to be the same as requested.\n",
        "hourly = response.Hourly()\n",
        "hourly_wave_height = hourly.Variables(0).ValuesAsNumpy()\n",
        "\n",
        "hourly_data = {\"date\": pd.date_range(\n",
        "\tstart = pd.to_datetime(hourly.Time(), unit = \"s\", utc = True),\n",
        "\tend = pd.to_datetime(hourly.TimeEnd(), unit = \"s\", utc = True),\n",
        "\tfreq = pd.Timedelta(seconds = hourly.Interval()),\n",
        "\tinclusive = \"left\"\n",
        ")}\n",
        "hourly_data[\"wave_height\"] = hourly_wave_height\n",
        "\n",
        "hourly_dataframe = pd.DataFrame(data = hourly_data)\n",
        "print(hourly_dataframe)"
      ]
    }
  ]
}