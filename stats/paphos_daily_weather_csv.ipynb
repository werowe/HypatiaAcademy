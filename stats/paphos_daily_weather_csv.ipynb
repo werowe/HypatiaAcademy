{
  "nbformat": 4,
  "nbformat_minor": 0,
  "metadata": {
    "colab": {
      "provenance": [],
      "authorship_tag": "ABX9TyMZqJWCQJ6Rd8G3hghISXBG",
      "include_colab_link": true
    },
    "kernelspec": {
      "name": "python3",
      "display_name": "Python 3"
    },
    "language_info": {
      "name": "python"
    }
  },
  "cells": [
    {
      "cell_type": "markdown",
      "metadata": {
        "id": "view-in-github",
        "colab_type": "text"
      },
      "source": [
        "<a href=\"https://colab.research.google.com/github/werowe/HypatiaAcademy/blob/master/stats/paphos_daily_weather_csv.ipynb\" target=\"_parent\"><img src=\"https://colab.research.google.com/assets/colab-badge.svg\" alt=\"Open In Colab\"/></a>"
      ]
    },
    {
      "cell_type": "markdown",
      "source": [
        "https://www.visualcrossing.com/weather/weather-data-services#"
      ],
      "metadata": {
        "id": "FOFAOLzAvlPd"
      }
    },
    {
      "cell_type": "code",
      "source": [
        "from datetime import datetime, timedelta\n",
        "\n",
        "# Get today's date\n",
        "today = datetime.now() - timedelta(days=1)\n",
        "\n",
        "# Calculate the date 14 days ago\n",
        "date_14_days_ago = today - timedelta(days=14)\n",
        "\n",
        "# Format the dates in YYYY-MM-DD format\n",
        "today_str = today.strftime('%Y-%m-%d')\n",
        "date_14_days_ago_str = date_14_days_ago.strftime('%Y-%m-%d')\n",
        "\n",
        "date1=date_14_days_ago_str\n",
        "date2=today_str\n",
        "\n",
        "print (\"from \", date1, \" to \", date2)\n",
        "\n",
        "paphos=\"34.68,32.61\"\n",
        "\n",
        "sc=\"33.46242581990894,-79.13561525981794\"\n",
        "\n",
        "\n",
        "location=paphos\n",
        "filestr = \"paphos\"\n",
        "unitgroup = \"metric\"\n",
        "\n",
        "apikey=\"ET2UEWPH7KFHT289DDMPTQJFV\"\n",
        "\n",
        "#thomas\n",
        "#apikey=\"7GV5JCTFSZYEZ2XZGJUE9SDMD\"\n"
      ],
      "metadata": {
        "colab": {
          "base_uri": "https://localhost:8080/"
        },
        "id": "Jn9c73XEY3oB",
        "outputId": "d8febd52-8222-4fec-d677-56232fcd2ea7"
      },
      "execution_count": 1,
      "outputs": [
        {
          "output_type": "stream",
          "name": "stdout",
          "text": [
            "from  2025-01-04  to  2025-01-18\n"
          ]
        }
      ]
    },
    {
      "cell_type": "code",
      "source": [
        "\n",
        "url='https://weather.visualcrossing.com/VisualCrossingWebServices/rest/services/timeline/{0}/{1}/{2}?key={3}&include=hours&contentType=csv&unitGroup={4}'.format(location,date1,date2,apikey,unitgroup)\n",
        "\n",
        "import requests\n",
        "\n",
        "headers = {'Accept': 'text/csv'}\n",
        "\n",
        "\n",
        "# Send the GET request\n",
        "response = requests.get(url, headers=headers)\n",
        "\n",
        "# Check if the request was successful\n",
        "if response.status_code == 200:\n",
        "    # Save the content to a CSV file\n",
        "    with open(filestr + \".csv\", 'wb') as file:\n",
        "        file.write(response.content)\n",
        "    print(\"CSV file downloaded and saved as \", filestr + \".csv\")\n",
        "else:\n",
        "    print(f\"Failed to retrieve the CSV file. Status code: {response.status_code}\")\n",
        "\n",
        "import pandas as pd\n",
        "\n"
      ],
      "metadata": {
        "colab": {
          "base_uri": "https://localhost:8080/"
        },
        "id": "KtDEQi1MUjtp",
        "outputId": "dea66bb4-b587-47eb-a029-cda54aa36fd6"
      },
      "execution_count": 2,
      "outputs": [
        {
          "output_type": "stream",
          "name": "stdout",
          "text": [
            "Failed to retrieve the CSV file. Status code: 429\n"
          ]
        }
      ]
    },
    {
      "cell_type": "code",
      "source": [
        "import pandas as pd\n",
        "\n",
        "\n",
        "#df=pd.read_csv(filestr + \".csv\",usecols=['datetime','temp','feelslike','humidity'],parse_dates=['datetime'])\n",
        "\n",
        "df=pd.read_csv(filestr + \".csv\",parse_dates=['datetime'])\n",
        "df.set_index('datetime', inplace=True)\n",
        "now=df\n",
        "\n",
        "# rem out time filter for winter\n",
        "#df=df.between_time('08:00', '18:00')"
      ],
      "metadata": {
        "id": "Z4FHNKrWCQs3",
        "outputId": "1ca083ff-f727-4236-82dc-7efdc6a0af99",
        "colab": {
          "base_uri": "https://localhost:8080/",
          "height": 382
        }
      },
      "execution_count": 5,
      "outputs": [
        {
          "output_type": "error",
          "ename": "FileNotFoundError",
          "evalue": "[Errno 2] No such file or directory: 'paphos.csv'",
          "traceback": [
            "\u001b[0;31m---------------------------------------------------------------------------\u001b[0m",
            "\u001b[0;31mFileNotFoundError\u001b[0m                         Traceback (most recent call last)",
            "\u001b[0;32m<ipython-input-5-dcf6c3a52c94>\u001b[0m in \u001b[0;36m<cell line: 0>\u001b[0;34m()\u001b[0m\n\u001b[1;32m      4\u001b[0m \u001b[0;31m#df=pd.read_csv(filestr + \".csv\",usecols=['datetime','temp','feelslike','humidity'],parse_dates=['datetime'])\u001b[0m\u001b[0;34m\u001b[0m\u001b[0;34m\u001b[0m\u001b[0m\n\u001b[1;32m      5\u001b[0m \u001b[0;34m\u001b[0m\u001b[0m\n\u001b[0;32m----> 6\u001b[0;31m \u001b[0mdf\u001b[0m\u001b[0;34m=\u001b[0m\u001b[0mpd\u001b[0m\u001b[0;34m.\u001b[0m\u001b[0mread_csv\u001b[0m\u001b[0;34m(\u001b[0m\u001b[0mfilestr\u001b[0m \u001b[0;34m+\u001b[0m \u001b[0;34m\".csv\"\u001b[0m\u001b[0;34m,\u001b[0m\u001b[0mparse_dates\u001b[0m\u001b[0;34m=\u001b[0m\u001b[0;34m[\u001b[0m\u001b[0;34m'datetime'\u001b[0m\u001b[0;34m]\u001b[0m\u001b[0;34m)\u001b[0m\u001b[0;34m\u001b[0m\u001b[0;34m\u001b[0m\u001b[0m\n\u001b[0m\u001b[1;32m      7\u001b[0m \u001b[0mdf\u001b[0m\u001b[0;34m.\u001b[0m\u001b[0mset_index\u001b[0m\u001b[0;34m(\u001b[0m\u001b[0;34m'datetime'\u001b[0m\u001b[0;34m,\u001b[0m \u001b[0minplace\u001b[0m\u001b[0;34m=\u001b[0m\u001b[0;32mTrue\u001b[0m\u001b[0;34m)\u001b[0m\u001b[0;34m\u001b[0m\u001b[0;34m\u001b[0m\u001b[0m\n\u001b[1;32m      8\u001b[0m \u001b[0mnow\u001b[0m\u001b[0;34m=\u001b[0m\u001b[0mdf\u001b[0m\u001b[0;34m\u001b[0m\u001b[0;34m\u001b[0m\u001b[0m\n",
            "\u001b[0;32m/usr/local/lib/python3.11/dist-packages/pandas/io/parsers/readers.py\u001b[0m in \u001b[0;36mread_csv\u001b[0;34m(filepath_or_buffer, sep, delimiter, header, names, index_col, usecols, dtype, engine, converters, true_values, false_values, skipinitialspace, skiprows, skipfooter, nrows, na_values, keep_default_na, na_filter, verbose, skip_blank_lines, parse_dates, infer_datetime_format, keep_date_col, date_parser, date_format, dayfirst, cache_dates, iterator, chunksize, compression, thousands, decimal, lineterminator, quotechar, quoting, doublequote, escapechar, comment, encoding, encoding_errors, dialect, on_bad_lines, delim_whitespace, low_memory, memory_map, float_precision, storage_options, dtype_backend)\u001b[0m\n\u001b[1;32m   1024\u001b[0m     \u001b[0mkwds\u001b[0m\u001b[0;34m.\u001b[0m\u001b[0mupdate\u001b[0m\u001b[0;34m(\u001b[0m\u001b[0mkwds_defaults\u001b[0m\u001b[0;34m)\u001b[0m\u001b[0;34m\u001b[0m\u001b[0;34m\u001b[0m\u001b[0m\n\u001b[1;32m   1025\u001b[0m \u001b[0;34m\u001b[0m\u001b[0m\n\u001b[0;32m-> 1026\u001b[0;31m     \u001b[0;32mreturn\u001b[0m \u001b[0m_read\u001b[0m\u001b[0;34m(\u001b[0m\u001b[0mfilepath_or_buffer\u001b[0m\u001b[0;34m,\u001b[0m \u001b[0mkwds\u001b[0m\u001b[0;34m)\u001b[0m\u001b[0;34m\u001b[0m\u001b[0;34m\u001b[0m\u001b[0m\n\u001b[0m\u001b[1;32m   1027\u001b[0m \u001b[0;34m\u001b[0m\u001b[0m\n\u001b[1;32m   1028\u001b[0m \u001b[0;34m\u001b[0m\u001b[0m\n",
            "\u001b[0;32m/usr/local/lib/python3.11/dist-packages/pandas/io/parsers/readers.py\u001b[0m in \u001b[0;36m_read\u001b[0;34m(filepath_or_buffer, kwds)\u001b[0m\n\u001b[1;32m    618\u001b[0m \u001b[0;34m\u001b[0m\u001b[0m\n\u001b[1;32m    619\u001b[0m     \u001b[0;31m# Create the parser.\u001b[0m\u001b[0;34m\u001b[0m\u001b[0;34m\u001b[0m\u001b[0m\n\u001b[0;32m--> 620\u001b[0;31m     \u001b[0mparser\u001b[0m \u001b[0;34m=\u001b[0m \u001b[0mTextFileReader\u001b[0m\u001b[0;34m(\u001b[0m\u001b[0mfilepath_or_buffer\u001b[0m\u001b[0;34m,\u001b[0m \u001b[0;34m**\u001b[0m\u001b[0mkwds\u001b[0m\u001b[0;34m)\u001b[0m\u001b[0;34m\u001b[0m\u001b[0;34m\u001b[0m\u001b[0m\n\u001b[0m\u001b[1;32m    621\u001b[0m \u001b[0;34m\u001b[0m\u001b[0m\n\u001b[1;32m    622\u001b[0m     \u001b[0;32mif\u001b[0m \u001b[0mchunksize\u001b[0m \u001b[0;32mor\u001b[0m \u001b[0miterator\u001b[0m\u001b[0;34m:\u001b[0m\u001b[0;34m\u001b[0m\u001b[0;34m\u001b[0m\u001b[0m\n",
            "\u001b[0;32m/usr/local/lib/python3.11/dist-packages/pandas/io/parsers/readers.py\u001b[0m in \u001b[0;36m__init__\u001b[0;34m(self, f, engine, **kwds)\u001b[0m\n\u001b[1;32m   1618\u001b[0m \u001b[0;34m\u001b[0m\u001b[0m\n\u001b[1;32m   1619\u001b[0m         \u001b[0mself\u001b[0m\u001b[0;34m.\u001b[0m\u001b[0mhandles\u001b[0m\u001b[0;34m:\u001b[0m \u001b[0mIOHandles\u001b[0m \u001b[0;34m|\u001b[0m \u001b[0;32mNone\u001b[0m \u001b[0;34m=\u001b[0m \u001b[0;32mNone\u001b[0m\u001b[0;34m\u001b[0m\u001b[0;34m\u001b[0m\u001b[0m\n\u001b[0;32m-> 1620\u001b[0;31m         \u001b[0mself\u001b[0m\u001b[0;34m.\u001b[0m\u001b[0m_engine\u001b[0m \u001b[0;34m=\u001b[0m \u001b[0mself\u001b[0m\u001b[0;34m.\u001b[0m\u001b[0m_make_engine\u001b[0m\u001b[0;34m(\u001b[0m\u001b[0mf\u001b[0m\u001b[0;34m,\u001b[0m \u001b[0mself\u001b[0m\u001b[0;34m.\u001b[0m\u001b[0mengine\u001b[0m\u001b[0;34m)\u001b[0m\u001b[0;34m\u001b[0m\u001b[0;34m\u001b[0m\u001b[0m\n\u001b[0m\u001b[1;32m   1621\u001b[0m \u001b[0;34m\u001b[0m\u001b[0m\n\u001b[1;32m   1622\u001b[0m     \u001b[0;32mdef\u001b[0m \u001b[0mclose\u001b[0m\u001b[0;34m(\u001b[0m\u001b[0mself\u001b[0m\u001b[0;34m)\u001b[0m \u001b[0;34m->\u001b[0m \u001b[0;32mNone\u001b[0m\u001b[0;34m:\u001b[0m\u001b[0;34m\u001b[0m\u001b[0;34m\u001b[0m\u001b[0m\n",
            "\u001b[0;32m/usr/local/lib/python3.11/dist-packages/pandas/io/parsers/readers.py\u001b[0m in \u001b[0;36m_make_engine\u001b[0;34m(self, f, engine)\u001b[0m\n\u001b[1;32m   1878\u001b[0m                 \u001b[0;32mif\u001b[0m \u001b[0;34m\"b\"\u001b[0m \u001b[0;32mnot\u001b[0m \u001b[0;32min\u001b[0m \u001b[0mmode\u001b[0m\u001b[0;34m:\u001b[0m\u001b[0;34m\u001b[0m\u001b[0;34m\u001b[0m\u001b[0m\n\u001b[1;32m   1879\u001b[0m                     \u001b[0mmode\u001b[0m \u001b[0;34m+=\u001b[0m \u001b[0;34m\"b\"\u001b[0m\u001b[0;34m\u001b[0m\u001b[0;34m\u001b[0m\u001b[0m\n\u001b[0;32m-> 1880\u001b[0;31m             self.handles = get_handle(\n\u001b[0m\u001b[1;32m   1881\u001b[0m                 \u001b[0mf\u001b[0m\u001b[0;34m,\u001b[0m\u001b[0;34m\u001b[0m\u001b[0;34m\u001b[0m\u001b[0m\n\u001b[1;32m   1882\u001b[0m                 \u001b[0mmode\u001b[0m\u001b[0;34m,\u001b[0m\u001b[0;34m\u001b[0m\u001b[0;34m\u001b[0m\u001b[0m\n",
            "\u001b[0;32m/usr/local/lib/python3.11/dist-packages/pandas/io/common.py\u001b[0m in \u001b[0;36mget_handle\u001b[0;34m(path_or_buf, mode, encoding, compression, memory_map, is_text, errors, storage_options)\u001b[0m\n\u001b[1;32m    871\u001b[0m         \u001b[0;32mif\u001b[0m \u001b[0mioargs\u001b[0m\u001b[0;34m.\u001b[0m\u001b[0mencoding\u001b[0m \u001b[0;32mand\u001b[0m \u001b[0;34m\"b\"\u001b[0m \u001b[0;32mnot\u001b[0m \u001b[0;32min\u001b[0m \u001b[0mioargs\u001b[0m\u001b[0;34m.\u001b[0m\u001b[0mmode\u001b[0m\u001b[0;34m:\u001b[0m\u001b[0;34m\u001b[0m\u001b[0;34m\u001b[0m\u001b[0m\n\u001b[1;32m    872\u001b[0m             \u001b[0;31m# Encoding\u001b[0m\u001b[0;34m\u001b[0m\u001b[0;34m\u001b[0m\u001b[0m\n\u001b[0;32m--> 873\u001b[0;31m             handle = open(\n\u001b[0m\u001b[1;32m    874\u001b[0m                 \u001b[0mhandle\u001b[0m\u001b[0;34m,\u001b[0m\u001b[0;34m\u001b[0m\u001b[0;34m\u001b[0m\u001b[0m\n\u001b[1;32m    875\u001b[0m                 \u001b[0mioargs\u001b[0m\u001b[0;34m.\u001b[0m\u001b[0mmode\u001b[0m\u001b[0;34m,\u001b[0m\u001b[0;34m\u001b[0m\u001b[0;34m\u001b[0m\u001b[0m\n",
            "\u001b[0;31mFileNotFoundError\u001b[0m: [Errno 2] No such file or directory: 'paphos.csv'"
          ]
        }
      ]
    },
    {
      "cell_type": "code",
      "source": [
        "# copy current weather to Google Drive\n",
        "\n",
        "\n",
        "from google.colab import drive\n",
        "import shutil\n",
        "\n",
        "# Mount Google Drive\n",
        "drive.mount('/content/drive')\n",
        "\n",
        "# Source path of your file (assuming it's in the current working directory)\n",
        "source_path = filestr + \".csv\"\n",
        "\n",
        "# Destination path in your Google Drive\n",
        "#destination_path = '/content/drive/My Drive/' + filestr + \".\" + today_str\n",
        "\n",
        "destination_path = '/content/drive/My Drive/weather/' + filestr +  today_str + \".csv\"\n",
        "\n",
        "# Copy the file\n",
        "shutil.copy(source_path, destination_path)\n",
        "\n",
        "print(f'File saved to {destination_path}')"
      ],
      "metadata": {
        "id": "YlWzx0M1Pk-r"
      },
      "execution_count": null,
      "outputs": []
    },
    {
      "cell_type": "code",
      "source": [
        "import matplotlib.dates as mdates\n",
        "import matplotlib.pyplot as plt\n",
        "\n",
        "\n",
        "# Plotting\n",
        "fig, ax = plt.subplots(figsize=(12, 6))\n",
        "\n",
        "#plt.cm.hot_r\n",
        "\n",
        "# Scatter plot with colormap\n",
        "sc = ax.scatter(df.index, df['temp'], c=df['temp'],cmap=\"magma\",  alpha=0.6)\n",
        "\n",
        "# Adding color bar\n",
        "cbar = plt.colorbar(sc)\n",
        "cbar.set_label('Temp ')\n",
        "\n",
        "# Set labels\n",
        "ax.set_xlabel('Date')\n",
        "\n",
        "plt.xticks(rotation=90)\n",
        "\n",
        "# Set major and minor ticks format\n",
        "ax.xaxis.set_major_locator(mdates.DayLocator())\n",
        "#ax.xaxis.set_minor_locator(mdates.HourLocator(interval=4))\n",
        "ax.xaxis.set_major_formatter(mdates.DateFormatter('%Y-%m-%d'))\n",
        "#ax.xaxis.set_minor_formatter(mdates.DateFormatter('%H'))\n",
        "\n",
        "# Rotate x-ticks\n",
        "plt.setp(ax.xaxis.get_majorticklabels(), rotation=90, color='blue', ha='center', va='top', position=(0, -0.02))\n",
        "#plt.setp(ax.xaxis.get_minorticklabels(), rotation=90, color='purple', ha='center', va='bottom')\n",
        "\n",
        "# Move minor ticks (hours) below x-axis\n",
        "ax.tick_params(axis='x', which='minor', pad=15)\n",
        "\n",
        "#ax.tick_params(axis='x', which='major', pad=15)\n",
        "\n",
        "#plt.ylim(80,95)\n",
        "\n",
        "# Adding a title\n",
        "if unitgroup == \"metric\":\n",
        "  plt.title('Temp (°C) ' + filestr)\n",
        "else:\n",
        "  plt.title('Temp (°F) ' + filestr)\n",
        "\n",
        "# Adding legends\n",
        "#plt.legend()\n",
        "\n",
        "plt.grid()\n",
        "\n",
        "# Displaying the chart\n",
        "plt.tight_layout()\n",
        "plt.show()"
      ],
      "metadata": {
        "id": "HF5o7gyi7dyB"
      },
      "execution_count": null,
      "outputs": []
    },
    {
      "cell_type": "code",
      "source": [
        "import matplotlib.pyplot as plt\n",
        "import matplotlib.dates as mdates\n",
        "\n",
        "\n",
        "# Your data preparation code here (e.g., df creation, filestr, unitgroup)\n",
        "\n",
        "# Plotting\n",
        "fig, ax = plt.subplots(figsize=(12, 6))\n",
        "\n",
        "# Scatter plot with colormap\n",
        "sc = ax.scatter(df.index, df['feelslike'], c=df['feelslike'], cmap='magma', alpha=0.6)\n",
        "\n",
        "# Adding color bar\n",
        "cbar = plt.colorbar(sc)\n",
        "cbar.set_label('Heat Index')\n",
        "\n",
        "# Set labels\n",
        "ax.set_xlabel('Heat Index')\n",
        "plt.xticks(rotation=90)\n",
        "\n",
        "\n",
        "ax.xaxis.set_major_locator(mdates.DayLocator())\n",
        "\n",
        "ax.xaxis.set_major_formatter(mdates.DateFormatter('%Y-%m-%d'))\n",
        "\n",
        "\n",
        "\n",
        "plt.setp(ax.xaxis.get_majorticklabels(), rotation=90, color='blue', ha='center', va='top', position=(0, -0.02))\n",
        "\n",
        "\n",
        "# Move minor ticks (hours) below x-axis\n",
        "ax.tick_params(axis='x', which='minor', pad=15)\n",
        "# ax.tick_params(axis='x', which='major', pad=15)\n",
        "\n",
        "# Adding a title\n",
        "if unitgroup == \"metric\":\n",
        "    plt.title('Heat Index (°C) ' + filestr)\n",
        "else:\n",
        "    plt.title('Heat Index (°F) ' + filestr)\n",
        "\n",
        "plt.grid()\n",
        "\n",
        "# Displaying the chart\n",
        "plt.tight_layout()\n",
        "plt.show()\n"
      ],
      "metadata": {
        "id": "iP8kmblZ70rW"
      },
      "execution_count": null,
      "outputs": []
    },
    {
      "cell_type": "markdown",
      "source": [
        "# Save LastYear's Data"
      ],
      "metadata": {
        "id": "AaYeVmWVRJtZ"
      }
    },
    {
      "cell_type": "code",
      "source": [
        "# Calculate the date for 'yesterday' in UTC\n",
        "yesterday = datetime.utcnow() - timedelta(days=1)\n",
        "yesterday_str = yesterday.strftime('%Y-%m-%dT%H:%M:%SZ')\n",
        "\n",
        "# Calculate the date for '10 days before yesterday' in UTC\n",
        "tendays = yesterday - timedelta(days=14)\n",
        "tendays_str = tendays.strftime('%Y-%m-%dT%H:%M:%SZ')\n",
        "\n",
        "# Calculate the date for '1 year before yesterday' in UTC\n",
        "lastyearyesterday = yesterday - timedelta(days=365)\n",
        "lastyearyesterday_str = lastyearyesterday.strftime('%Y-%m-%dT%H:%M:%SZ')\n",
        "\n",
        "# Calculate the date for '10 days before 1 year before yesterday' in UTC\n",
        "lastyeartendays = lastyearyesterday - timedelta(days=10)\n",
        "lastyeartendays_str = lastyeartendays.strftime('%Y-%m-%dT%H:%M:%SZ')\n"
      ],
      "metadata": {
        "id": "ZhycbBpeRHxq"
      },
      "execution_count": null,
      "outputs": []
    },
    {
      "cell_type": "code",
      "source": [
        "\n",
        "print(\"last year, last\")\n",
        "print(\"1 year before Yesterday (UTC):\", lastyearyesterday_str)\n",
        "print(\"10 days before 1 year before Yesterday (UTC):\", lastyearyesterday_str)\n",
        "\n",
        "date1=lastyeartendays_str\n",
        "date2=lastyearyesterday_str\n",
        "\n",
        "(date1,date2)"
      ],
      "metadata": {
        "id": "NcZdQbOJRZOd"
      },
      "execution_count": null,
      "outputs": []
    },
    {
      "cell_type": "code",
      "source": [
        "\n",
        "\n",
        "url='https://weather.visualcrossing.com/VisualCrossingWebServices/rest/services/timeline/{0}/{1}/{2}?key={3}&include=hours&contentType=csv&unitGroup={4}'.format(location,date1,date2,apikey,unitgroup)\n",
        "\n",
        "import requests\n",
        "\n",
        "headers = {'Accept': 'text/csv'}\n",
        "\n",
        "\n",
        "# Send the GET request\n",
        "response = requests.get(url, headers=headers)\n",
        "\n",
        "# Check if the request was successful\n",
        "if response.status_code == 200:\n",
        "    # Save the content to a CSV file\n",
        "    with open(filestr + \".csv\", 'wb') as file:\n",
        "        file.write(response.content)\n",
        "    print(\"CSV file downloaded and saved as \", filestr + \".csv\")\n",
        "else:\n",
        "    print(f\"Failed to retrieve the CSV file. Status code: {response.status_code}\")"
      ],
      "metadata": {
        "id": "4GcUdTEISdPA"
      },
      "execution_count": null,
      "outputs": []
    },
    {
      "cell_type": "code",
      "source": [
        "lastyearstr = lastyearyesterday.strftime('%Y-%m-%d')\n",
        "lastyearstr"
      ],
      "metadata": {
        "id": "hB9Nu6WUS07L"
      },
      "execution_count": null,
      "outputs": []
    },
    {
      "cell_type": "code",
      "source": [
        "destination_path = '/content/drive/My Drive/weather/' + lastyearstr +  \".csv\"\n",
        "\n",
        "destination_path"
      ],
      "metadata": {
        "id": "e4MTqrvgTjZ1"
      },
      "execution_count": null,
      "outputs": []
    },
    {
      "cell_type": "code",
      "source": [
        "\n",
        "\n",
        "# Copy the file\n",
        "shutil.copy(source_path, destination_path)\n",
        "\n",
        "print(\"saving \", destination_path)"
      ],
      "metadata": {
        "id": "OqzbHWi2SGqf"
      },
      "execution_count": null,
      "outputs": []
    },
    {
      "cell_type": "code",
      "source": [
        "#df=pd.read_csv(filestr + \".csv\",usecols=['datetime','temp','feelslike','humidity'],parse_dates=['datetime'])\n",
        "\n",
        "df=pd.read_csv(filestr + \".csv\",parse_dates=['datetime'])\n",
        "\n",
        "df.set_index('datetime', inplace=True)\n",
        "df=df.between_time('08:00', '18:00')\n",
        "\n",
        "last=df"
      ],
      "metadata": {
        "id": "cWtAGtKiT9Av"
      },
      "execution_count": null,
      "outputs": []
    },
    {
      "cell_type": "markdown",
      "source": [
        "# Intersection\n",
        "\n",
        "* **now** now\n",
        "* **last** last year\n"
      ],
      "metadata": {
        "id": "8d6ld0kIofLe"
      }
    },
    {
      "cell_type": "code",
      "source": [
        "\n",
        "now['match'] = now.index.strftime('%m-%d %H:%M')\n",
        "last['match'] = last.index.strftime('%m-%d %H:%M')\n",
        "\n",
        "\n",
        "intersection = pd.merge(now, last, on='match', how='inner')"
      ],
      "metadata": {
        "id": "rrBmbEFEUKrP"
      },
      "execution_count": null,
      "outputs": []
    },
    {
      "cell_type": "code",
      "source": [
        "intersection"
      ],
      "metadata": {
        "id": "kdFf4XfeUTEq"
      },
      "execution_count": null,
      "outputs": []
    },
    {
      "cell_type": "code",
      "source": [
        "import matplotlib.pyplot as plt\n",
        "\n",
        "\n",
        "df=intersection.iloc[::2, :]\n",
        "\n",
        "fig, ax = plt.subplots(figsize=(12, 6))\n",
        "\n",
        "# Plot the data\n",
        "ax.scatter(df['match'], df['temp_x'], s=200, alpha=0.6, color=\"orange\", label='2024')\n",
        "ax.scatter(df['match'], df['temp_y'], s=200, alpha=0.6, color=\"purple\", label='2023')\n",
        "\n",
        "# Set the x-axis label\n",
        "ax.set_xlabel('Date')\n",
        "\n",
        "# Set the y-axis label\n",
        "ax.set_ylabel('Temperature (°C)')\n",
        "\n",
        "# Rotate x-axis labels by 90 degrees for better readability\n",
        "plt.xticks(rotation=90)\n",
        "plt.xticks(fontsize=8)\n",
        "\n",
        "# Set the title\n",
        "plt.title('Two-Weeks Temperature Comparison (°C)')\n",
        "\n",
        "# Add legend\n",
        "legend = plt.legend(loc='lower center', bbox_to_anchor=(0.5, 1.05), ncol=2, fontsize=12)\n",
        "\n",
        "plt.grid()\n",
        "\n",
        "# Show the plot\n",
        "plt.show()"
      ],
      "metadata": {
        "id": "vBdMnsZrUcqH"
      },
      "execution_count": null,
      "outputs": []
    },
    {
      "cell_type": "code",
      "source": [
        "\n",
        "import matplotlib.pyplot as plt\n",
        "\n",
        "\n",
        "df=intersection.iloc[::2, :]\n",
        "\n",
        "fig, ax = plt.subplots(figsize=(12, 6))\n",
        "\n",
        "# Plot the data\n",
        "ax.scatter(df['match'], df['feelslike_x'], s=200, alpha=0.6, color=\"orange\", label='2024')\n",
        "ax.scatter(df['match'], df['feelslike_y'], s=200, alpha=0.6, color=\"purple\", label='2023')\n",
        "\n",
        "# Set the x-axis label\n",
        "ax.set_xlabel('Date')\n",
        "\n",
        "# Set the y-axis label\n",
        "ax.set_ylabel('Temperature (°C)')\n",
        "\n",
        "# Rotate x-axis labels by 90 degrees for better readability\n",
        "plt.xticks(rotation=90)\n",
        "plt.xticks(fontsize=8)\n",
        "\n",
        "# Set the title\n",
        "plt.title('Two-Weeks Feels Like Comparison (°C)')\n",
        "\n",
        "# Add legend\n",
        "legend = plt.legend(loc='lower center', bbox_to_anchor=(0.5, 1.05), ncol=2, fontsize=12)\n",
        "\n",
        "plt.grid()\n",
        "\n",
        "# Show the plot\n",
        "plt.show()"
      ],
      "metadata": {
        "id": "99SJk464Ukku"
      },
      "execution_count": null,
      "outputs": []
    },
    {
      "cell_type": "markdown",
      "source": [
        "# Get Sea Conditions"
      ],
      "metadata": {
        "id": "urh_OPPyRyfQ"
      }
    },
    {
      "cell_type": "code",
      "source": [
        "\n",
        "from datetime import datetime, timedelta\n",
        "import json\n",
        "\n",
        "# Calculate the date for 'yesterday' in UTC\n",
        "yesterday = datetime.utcnow() - timedelta(days=1)\n",
        "yesterday_str = yesterday.strftime('%Y-%m-%dT%H:%M:%SZ')\n",
        "\n",
        "# Calculate the date for '10 days before yesterday' in UTC\n",
        "tendays = yesterday - timedelta(days=10)\n",
        "tendays_str = tendays.strftime('%Y-%m-%dT%H:%M:%SZ')\n",
        "\n",
        "# Calculate the date for '1 year before yesterday' in UTC\n",
        "lastyearyesterday = yesterday - timedelta(days=365)\n",
        "lastyearyesterday_str = lastyearyesterday.strftime('%Y-%m-%dT%H:%M:%SZ')\n",
        "\n",
        "# Calculate the date for '10 days before 1 year before yesterday' in UTC\n",
        "lastyeartendays = lastyearyesterday - timedelta(days=10)\n",
        "lastyeartendays_str = lastyeartendays.strftime('%Y-%m-%dT%H:%M:%SZ')\n",
        "\n",
        "\n",
        "\n",
        "apikey=\"b74de4f2-5352-11ef-aa85-0242ac130004-b74de5d8-5352-11ef-aa85-0242ac130004\"\n",
        "\n",
        "\n",
        "\n",
        "\n",
        "# https://dashboard.stormglass.io/\n",
        "\n",
        "# https://docs.stormglass.io/?utm_medium=email&_hsenc=p2ANqtz-9NtG7HIa1BhxP3kX2NPRJLRhL3kaXEfAvVmC9k-p8qYUe0KFQrPtaz34Ucy8W71I9wyEopdsQsCGZxj-QaXWlZug1hHQ&_hsmi=290896009&utm_content=290896009&utm_source=hs_automation#/weather\n",
        "\n",
        "\n",
        "import requests\n",
        "\n",
        "params='currentDirection,currentSpeed,gust,waterTemperature,waveDirection,waveHeight,wavePeriod,windWaveDirection,windWaveHeight,windWavePeriod,windDirection,swellDirection,swellHeight,swellPeriod'\n",
        "\n",
        "\n",
        "response = requests.get(\n",
        "  'https://api.stormglass.io/v2/weather/point',\n",
        "  params={\n",
        "    'lat': 34.68,\n",
        "    'lng': 32.61,\n",
        "    'start' : tendays_str,\n",
        "    'end' : yesterday_str,\n",
        "    'params': params\n",
        "  },\n",
        "  headers={\n",
        "    'Authorization': apikey\n",
        "  }\n",
        ")\n",
        "\n",
        "# Do something with response data.\n",
        "json_data = response.json()\n",
        "\n",
        "currentSea = json_data\n",
        "\n",
        "params='currentDirection,currentSpeed,gust,waterTemperature,waveDirection,waveHeight,wavePeriod,windWaveDirection,windWaveHeight,windWavePeriod,windDirection,swellDirection,swellHeight,swellPeriod'\n",
        "\n",
        "response = requests.get(\n",
        "  'https://api.stormglass.io/v2/weather/point',\n",
        "  params={\n",
        "    'lat': 34.68,\n",
        "    'lng': 32.61,\n",
        "    'start' : lastyeartendays_str,\n",
        "    'end' : lastyearyesterday_str,\n",
        "    'params': params\n",
        "  },\n",
        "  headers={\n",
        "    'Authorization': apikey\n",
        "  }\n",
        ")\n",
        "\n",
        "# Do something with response data.\n",
        "lastYearData = response.json()\n",
        "lastYearsea= lastYearData\n",
        "\n",
        "# Writing JSON data to a file\n",
        "with open(yesterday_str + \".waves.json\", 'w', encoding='utf-8') as f:\n",
        "    json.dump(json_data, f, ensure_ascii=False, indent=4)\n",
        "\n",
        "# Source path of your file (assuming it's in the current working directory)\n",
        "now_source_path = yesterday_str + \".waves.json\"\n",
        "\n",
        "now_destination_path = '/content/drive/My Drive/weather/' + yesterday_str + \".waves.json\"\n",
        "\n",
        "# Copy the file\n",
        "shutil.copy(now_source_path, now_destination_path)\n",
        "\n",
        "print(f'File saved to {now_destination_path}')\n",
        "\n",
        "# Writing JSON data to a file\n",
        "with open(lastyearyesterday_str + \".waves.json\", 'w', encoding='utf-8') as f:\n",
        "    json.dump(lastYearData, f, ensure_ascii=False, indent=4)\n",
        "\n",
        "# Source path of your file (assuming it's in the current working directory)\n",
        "now_source_path = lastyearyesterday_str + \".waves.json\"\n",
        "\n",
        "now_destination_path = '/content/drive/My Drive/weather/' + lastyearyesterday_str + \".waves.json\"\n",
        "\n",
        "# Copy the file\n",
        "shutil.copy(now_source_path, now_destination_path)\n",
        "\n",
        "print(f'File saved to {now_destination_path}')"
      ],
      "metadata": {
        "id": "7MlD9BaTpVtI",
        "colab": {
          "base_uri": "https://localhost:8080/",
          "height": 216
        },
        "outputId": "a9e08660-3092-48af-9e97-c058a569ec67"
      },
      "execution_count": 6,
      "outputs": [
        {
          "output_type": "error",
          "ename": "NameError",
          "evalue": "name 'shutil' is not defined",
          "traceback": [
            "\u001b[0;31m---------------------------------------------------------------------------\u001b[0m",
            "\u001b[0;31mNameError\u001b[0m                                 Traceback (most recent call last)",
            "\u001b[0;32m<ipython-input-6-0ba1420ac127>\u001b[0m in \u001b[0;36m<cell line: 0>\u001b[0;34m()\u001b[0m\n\u001b[1;32m     82\u001b[0m \u001b[0;34m\u001b[0m\u001b[0m\n\u001b[1;32m     83\u001b[0m \u001b[0;31m# Copy the file\u001b[0m\u001b[0;34m\u001b[0m\u001b[0;34m\u001b[0m\u001b[0m\n\u001b[0;32m---> 84\u001b[0;31m \u001b[0mshutil\u001b[0m\u001b[0;34m.\u001b[0m\u001b[0mcopy\u001b[0m\u001b[0;34m(\u001b[0m\u001b[0mnow_source_path\u001b[0m\u001b[0;34m,\u001b[0m \u001b[0mnow_destination_path\u001b[0m\u001b[0;34m)\u001b[0m\u001b[0;34m\u001b[0m\u001b[0;34m\u001b[0m\u001b[0m\n\u001b[0m\u001b[1;32m     85\u001b[0m \u001b[0;34m\u001b[0m\u001b[0m\n\u001b[1;32m     86\u001b[0m \u001b[0mprint\u001b[0m\u001b[0;34m(\u001b[0m\u001b[0;34mf'File saved to {now_destination_path}'\u001b[0m\u001b[0;34m)\u001b[0m\u001b[0;34m\u001b[0m\u001b[0;34m\u001b[0m\u001b[0m\n",
            "\u001b[0;31mNameError\u001b[0m: name 'shutil' is not defined"
          ]
        }
      ]
    },
    {
      "cell_type": "code",
      "source": [
        "currentSea['hours'][0]['time']"
      ],
      "metadata": {
        "id": "ziJ4PijSSPod",
        "outputId": "1a280dea-5a6d-4e73-c847-e9e89a405ba2",
        "colab": {
          "base_uri": "https://localhost:8080/",
          "height": 35
        }
      },
      "execution_count": 22,
      "outputs": [
        {
          "output_type": "execute_result",
          "data": {
            "text/plain": [
              "'2025-01-08T06:00:00+00:00'"
            ],
            "application/vnd.google.colaboratory.intrinsic+json": {
              "type": "string"
            }
          },
          "metadata": {},
          "execution_count": 22
        }
      ]
    },
    {
      "cell_type": "code",
      "source": [
        "se=[]\n",
        "\n",
        "for s in currentSea['hours']:\n",
        "  f=[s['time'], s['waterTemperature']['noaa'],s['waveHeight']['noaa'],s['swellHeight']['noaa'],s['windWaveHeight']['noaa']]\n",
        "  g=pd.DataFrame(f).T\n",
        "  g.columns=['time','temp','height', 'swell', 'wind']\n",
        "  g['time'] = pd.to_datetime(g['time'])\n",
        "  se.append(g)\n",
        "\n",
        "sea=pd.concat(se,ignore_index=True)\n",
        "\n",
        "sea.set_index(\"time\",inplace=True)\n",
        ""
      ],
      "metadata": {
        "id": "izIlcavqTioC",
        "outputId": "c61c8d7a-8b3f-451d-83a5-96bc439ea6f7",
        "colab": {
          "base_uri": "https://localhost:8080/"
        }
      },
      "execution_count": 98,
      "outputs": [
        {
          "output_type": "execute_result",
          "data": {
            "text/plain": [
              "DatetimeIndex(['2025-01-08 06:00:00+00:00', '2025-01-08 07:00:00+00:00',\n",
              "               '2025-01-08 08:00:00+00:00', '2025-01-08 09:00:00+00:00',\n",
              "               '2025-01-08 10:00:00+00:00', '2025-01-08 11:00:00+00:00',\n",
              "               '2025-01-08 12:00:00+00:00', '2025-01-08 13:00:00+00:00',\n",
              "               '2025-01-08 14:00:00+00:00', '2025-01-08 15:00:00+00:00',\n",
              "               ...\n",
              "               '2025-01-17 21:00:00+00:00', '2025-01-17 22:00:00+00:00',\n",
              "               '2025-01-17 23:00:00+00:00', '2025-01-18 00:00:00+00:00',\n",
              "               '2025-01-18 01:00:00+00:00', '2025-01-18 02:00:00+00:00',\n",
              "               '2025-01-18 03:00:00+00:00', '2025-01-18 04:00:00+00:00',\n",
              "               '2025-01-18 05:00:00+00:00', '2025-01-18 06:00:00+00:00'],\n",
              "              dtype='datetime64[ns, UTC]', name='time', length=241, freq=None)"
            ]
          },
          "metadata": {},
          "execution_count": 98
        }
      ]
    },
    {
      "cell_type": "code",
      "source": [
        "import matplotlib.pyplot as plt\n",
        "\n",
        "\n",
        "# Plot the 'height' column with some decorations\n",
        "sea['height'].plot(figsize=(10, 6), color='dodgerblue', linestyle='-', marker='o', markersize=6)\n",
        "\n",
        "# Title and labels\n",
        "plt.title('Sea Height Over Time', fontsize=16)\n",
        "plt.xlabel('Time', fontsize=12)\n",
        "plt.ylabel('Height (m)', fontsize=12)\n",
        "\n",
        "# Customize the ticks on the x and y axes\n",
        "plt.xticks(rotation=45, ha='right')  # Rotate x-axis labels for better readability\n",
        "plt.yticks(fontsize=10)\n",
        "\n",
        "# Add a grid\n",
        "plt.grid(True, linestyle='--', alpha=0.6)\n",
        "\n",
        "# Add a legend (even if there's only one line)\n",
        "plt.legend(['Height'], loc='upper left')\n",
        "\n",
        "# Show the plot\n",
        "plt.tight_layout()  # Ensures everything fits without overlapping\n",
        "plt.show()"
      ],
      "metadata": {
        "id": "1ExroJXpZHKn",
        "outputId": "fc7e68ba-a635-49a5-8505-79b1519deb44",
        "colab": {
          "base_uri": "https://localhost:8080/",
          "height": 607
        }
      },
      "execution_count": 109,
      "outputs": [
        {
          "output_type": "display_data",
          "data": {
            "text/plain": [
              "<Figure size 1000x600 with 1 Axes>"
            ],
            "image/png": "[encoded data removed]"
          },
          "metadata": {}
        }
      ]
    },
    {
      "cell_type": "code",
      "source": [],
      "metadata": {
        "id": "O4PUQamNUMvk",
        "outputId": "6955e567-be3e-4157-efe8-011c5e8b991b",
        "colab": {
          "base_uri": "https://localhost:8080/"
        }
      },
      "execution_count": 31,
      "outputs": [
        {
          "output_type": "execute_result",
          "data": {
            "text/plain": [
              "0.2"
            ]
          },
          "metadata": {},
          "execution_count": 31
        }
      ]
    },
    {
      "cell_type": "code",
      "source": [
        "currentSea['hours'][0]"
      ],
      "metadata": {
        "id": "WtVKS4ZQUbn3",
        "outputId": "f655da90-dd1f-47ad-ef12-30c489f9b826",
        "colab": {
          "base_uri": "https://localhost:8080/"
        }
      },
      "execution_count": 28,
      "outputs": [
        {
          "output_type": "execute_result",
          "data": {
            "text/plain": [
              "{'currentDirection': {'meto': 126.87, 'sg': 126.87},\n",
              " 'currentSpeed': {'meto': 0.1, 'sg': 0.1},\n",
              " 'gust': {'dwd': 4.99, 'noaa': 1.12, 'sg': 4.99},\n",
              " 'swellDirection': {'dwd': 249.12,\n",
              "  'meteo': 265.03,\n",
              "  'noaa': 272.42,\n",
              "  'sg': 265.03},\n",
              " 'swellHeight': {'dwd': 0.32, 'meteo': 0.19, 'noaa': 0.12, 'sg': 0.19},\n",
              " 'swellPeriod': {'dwd': 5.37, 'meteo': 5.11, 'noaa': 3.99, 'sg': 5.11},\n",
              " 'time': '2025-01-08T06:00:00+00:00',\n",
              " 'waterTemperature': {'meto': 18.62, 'noaa': 18.83, 'sg': 18.62},\n",
              " 'waveDirection': {'meteo': 166.02, 'noaa': 141.9, 'sg': 166.02},\n",
              " 'waveHeight': {'dwd': 0.32, 'meteo': 0.32, 'noaa': 0.27, 'sg': 0.32},\n",
              " 'wavePeriod': {'meteo': 3.6, 'noaa': 4.01, 'sg': 3.6},\n",
              " 'windDirection': {'noaa': 36.82, 'sg': 36.82},\n",
              " 'windWaveDirection': {'dwd': 180.0,\n",
              "  'meteo': 42.38,\n",
              "  'noaa': 89.32,\n",
              "  'sg': 42.38},\n",
              " 'windWaveHeight': {'dwd': 0.0, 'meteo': 0.0, 'noaa': 0.2, 'sg': 0.0},\n",
              " 'windWavePeriod': {'dwd': 1.0, 'meteo': 0.1, 'noaa': 3.95, 'sg': 0.1}}"
            ]
          },
          "metadata": {},
          "execution_count": 28
        }
      ]
    },
    {
      "cell_type": "code",
      "source": [
        "import pandas as pd\n",
        "\n",
        "# Input dictionary\n",
        "data = {\n",
        "    'currentDirection': {'meto': 126.87, 'sg': 126.87},\n",
        "    'currentSpeed': {'meto': 0.1, 'sg': 0.1},\n",
        "    'gust': {'dwd': 4.99, 'noaa': 1.12, 'sg': 4.99},\n",
        "    'swellDirection': {'dwd': 249.12, 'meteo': 265.03, 'noaa': 272.42, 'sg': 265.03},\n",
        "    'swellHeight': {'dwd': 0.32, 'meteo': 0.19, 'noaa': 0.12, 'sg': 0.19},\n",
        "    'swellPeriod': {'dwd': 5.37, 'meteo': 5.11, 'noaa': 3.99, 'sg': 5.11},\n",
        "    'time': '2025-01-08T06:00:00+00:00',\n",
        "    'waterTemperature': {'meto': 18.62, 'noaa': 18.83, 'sg': 18.62},\n",
        "    'waveDirection': {'meteo': 166.02, 'noaa': 141.9, 'sg': 166.02},\n",
        "    'waveHeight': {'dwd': 0.32, 'meteo': 0.32, 'noaa': 0.27, 'sg': 0.32},\n",
        "    'wavePeriod': {'meteo': 3.6, 'noaa': 4.01, 'sg': 3.6},\n",
        "    'windDirection': {'noaa': 36.82, 'sg': 36.82},\n",
        "    'windWaveDirection': {'dwd': 180.0, 'meteo': 42.38, 'noaa': 89.32, 'sg': 42.38},\n",
        "    'windWaveHeight': {'dwd': 0.0, 'meteo': 0.0, 'noaa': 0.2, 'sg': 0.0},\n",
        "    'windWavePeriod': {'dwd': 1.0, 'meteo': 0.1, 'noaa': 3.95, 'sg': 0.1}\n",
        "}\n",
        "\n",
        "# Convert dictionary to DataFrame\n",
        "df = pd.DataFrame(data).T\n",
        "\n",
        "# Display the DataFrame\n",
        "print(df)\n"
      ],
      "metadata": {
        "id": "iM9LvEkKTnbB",
        "outputId": "afdaa133-2d11-48d0-a658-09637d314537",
        "colab": {
          "base_uri": "https://localhost:8080/"
        }
      },
      "execution_count": 19,
      "outputs": [
        {
          "output_type": "stream",
          "name": "stdout",
          "text": [
            "                                        meto                         sg  \\\n",
            "currentDirection                      126.87                     126.87   \n",
            "currentSpeed                             0.1                        0.1   \n",
            "gust                                     NaN                       4.99   \n",
            "swellDirection                           NaN                     265.03   \n",
            "swellHeight                              NaN                       0.19   \n",
            "swellPeriod                              NaN                       5.11   \n",
            "time               2025-01-08T06:00:00+00:00  2025-01-08T06:00:00+00:00   \n",
            "waterTemperature                       18.62                      18.62   \n",
            "waveDirection                            NaN                     166.02   \n",
            "waveHeight                               NaN                       0.32   \n",
            "wavePeriod                               NaN                        3.6   \n",
            "windDirection                            NaN                      36.82   \n",
            "windWaveDirection                        NaN                      42.38   \n",
            "windWaveHeight                           NaN                        0.0   \n",
            "windWavePeriod                           NaN                        0.1   \n",
            "\n",
            "                                         dwd                       noaa  \\\n",
            "currentDirection                         NaN                        NaN   \n",
            "currentSpeed                             NaN                        NaN   \n",
            "gust                                    4.99                       1.12   \n",
            "swellDirection                        249.12                     272.42   \n",
            "swellHeight                             0.32                       0.12   \n",
            "swellPeriod                             5.37                       3.99   \n",
            "time               2025-01-08T06:00:00+00:00  2025-01-08T06:00:00+00:00   \n",
            "waterTemperature                         NaN                      18.83   \n",
            "waveDirection                            NaN                      141.9   \n",
            "waveHeight                              0.32                       0.27   \n",
            "wavePeriod                               NaN                       4.01   \n",
            "windDirection                            NaN                      36.82   \n",
            "windWaveDirection                      180.0                      89.32   \n",
            "windWaveHeight                           0.0                        0.2   \n",
            "windWavePeriod                           1.0                       3.95   \n",
            "\n",
            "                                       meteo  \n",
            "currentDirection                         NaN  \n",
            "currentSpeed                             NaN  \n",
            "gust                                     NaN  \n",
            "swellDirection                        265.03  \n",
            "swellHeight                             0.19  \n",
            "swellPeriod                             5.11  \n",
            "time               2025-01-08T06:00:00+00:00  \n",
            "waterTemperature                         NaN  \n",
            "waveDirection                         166.02  \n",
            "waveHeight                              0.32  \n",
            "wavePeriod                               3.6  \n",
            "windDirection                            NaN  \n",
            "windWaveDirection                      42.38  \n",
            "windWaveHeight                           0.0  \n",
            "windWavePeriod                           0.1  \n"
          ]
        }
      ]
    },
    {
      "cell_type": "code",
      "source": [
        "currentSea['hours'][0]"
      ],
      "metadata": {
        "id": "o69dk4svSuHm",
        "outputId": "cf048239-9da7-4e17-b369-5e5e1f44512d",
        "colab": {
          "base_uri": "https://localhost:8080/"
        }
      },
      "execution_count": 14,
      "outputs": [
        {
          "output_type": "execute_result",
          "data": {
            "text/plain": [
              "{'currentDirection': {'meto': 126.87, 'sg': 126.87},\n",
              " 'currentSpeed': {'meto': 0.1, 'sg': 0.1},\n",
              " 'gust': {'dwd': 4.99, 'noaa': 1.12, 'sg': 4.99},\n",
              " 'swellDirection': {'dwd': 249.12,\n",
              "  'meteo': 265.03,\n",
              "  'noaa': 272.42,\n",
              "  'sg': 265.03},\n",
              " 'swellHeight': {'dwd': 0.32, 'meteo': 0.19, 'noaa': 0.12, 'sg': 0.19},\n",
              " 'swellPeriod': {'dwd': 5.37, 'meteo': 5.11, 'noaa': 3.99, 'sg': 5.11},\n",
              " 'time': '2025-01-08T06:00:00+00:00',\n",
              " 'waterTemperature': {'meto': 18.62, 'noaa': 18.83, 'sg': 18.62},\n",
              " 'waveDirection': {'meteo': 166.02, 'noaa': 141.9, 'sg': 166.02},\n",
              " 'waveHeight': {'dwd': 0.32, 'meteo': 0.32, 'noaa': 0.27, 'sg': 0.32},\n",
              " 'wavePeriod': {'meteo': 3.6, 'noaa': 4.01, 'sg': 3.6},\n",
              " 'windDirection': {'noaa': 36.82, 'sg': 36.82},\n",
              " 'windWaveDirection': {'dwd': 180.0,\n",
              "  'meteo': 42.38,\n",
              "  'noaa': 89.32,\n",
              "  'sg': 42.38},\n",
              " 'windWaveHeight': {'dwd': 0.0, 'meteo': 0.0, 'noaa': 0.2, 'sg': 0.0},\n",
              " 'windWavePeriod': {'dwd': 1.0, 'meteo': 0.1, 'noaa': 3.95, 'sg': 0.1}}"
            ]
          },
          "metadata": {},
          "execution_count": 14
        }
      ]
    },
    {
      "cell_type": "code",
      "source": [
        "import matplotlib.dates as mdates\n",
        "import matplotlib.pyplot as plt\n",
        "\n",
        "\n",
        "# Plotting\n",
        "fig, ax = plt.subplots(figsize=(12, 6))\n",
        "\n",
        "#plt.cm.hot_r\n",
        "\n",
        "# Scatter plot with colormap\n",
        "sc = ax.scatter(df.index, df['temp'], c=df['temp'],cmap=\"magma\",  alpha=0.6)\n",
        "\n",
        "# Adding color bar\n",
        "cbar = plt.colorbar(sc)\n",
        "cbar.set_label('Temp ')\n",
        "\n",
        "# Set labels\n",
        "ax.set_xlabel('Date')\n",
        "\n",
        "plt.xticks(rotation=90)\n",
        "\n",
        "# Set major and minor ticks format\n",
        "ax.xaxis.set_major_locator(mdates.DayLocator())\n",
        "#ax.xaxis.set_minor_locator(mdates.HourLocator(interval=4))\n",
        "ax.xaxis.set_major_formatter(mdates.DateFormatter('%Y-%m-%d'))\n",
        "#ax.xaxis.set_minor_formatter(mdates.DateFormatter('%H'))\n",
        "\n",
        "# Rotate x-ticks\n",
        "plt.setp(ax.xaxis.get_majorticklabels(), rotation=90, color='blue', ha='center', va='top', position=(0, -0.02))\n",
        "#plt.setp(ax.xaxis.get_minorticklabels(), rotation=90, color='purple', ha='center', va='bottom')\n",
        "\n",
        "# Move minor ticks (hours) below x-axis\n",
        "ax.tick_params(axis='x', which='minor', pad=15)\n",
        "\n",
        "#ax.tick_params(axis='x', which='major', pad=15)\n",
        "\n",
        "#plt.ylim(80,95)\n",
        "\n",
        "# Adding a title\n",
        "if unitgroup == \"metric\":\n",
        "  plt.title('Temp (°C) ' + filestr)\n",
        "else:\n",
        "  plt.title('Temp (°F) ' + filestr)\n",
        "\n",
        "# Adding legends\n",
        "#plt.legend()\n",
        "\n",
        "plt.grid()\n",
        "\n",
        "# Displaying the chart\n",
        "plt.tight_layout()\n",
        "plt.show()"
      ],
      "metadata": {
        "id": "YOdqlYlAR1uU"
      },
      "execution_count": 7,
      "outputs": []
    },
    {
      "cell_type": "markdown",
      "source": [
        "# TODO Plot Sea Conditions\n",
        "\n",
        "* **json_data** current conditions\n",
        "\n",
        "* **lastYearData** last year"
      ],
      "metadata": {
        "id": "Ih9sDD6Rnk5Z"
      }
    },
    {
      "cell_type": "markdown",
      "source": [
        "#TO PLOT: Rain and Wind Data"
      ],
      "metadata": {
        "id": "XC6hUCgykSAE"
      }
    },
    {
      "cell_type": "code",
      "source": [
        "rain=now.loc[now['preciptype'].notna()]\n",
        "rain[['precip','preciptype','windspeed','winddir','cloudcover','visibility','windgust']]"
      ],
      "metadata": {
        "id": "ezHDjFgGNo_U"
      },
      "execution_count": null,
      "outputs": []
    },
    {
      "cell_type": "code",
      "source": [
        "\n",
        "\n",
        "wind=rain.loc[pd.Timestamp.now() - pd.Timedelta(days=2):, ['windgust', 'windspeed', 'winddir']]\n",
        "\n"
      ],
      "metadata": {
        "id": "P8FQGTI1abVb"
      },
      "execution_count": null,
      "outputs": []
    },
    {
      "cell_type": "code",
      "source": [
        "import numpy as np\n",
        "import matplotlib.pyplot as plt\n",
        "\n",
        "# Sample data\n",
        "windspeed = wind['windspeed']  # Example wind speeds\n",
        "winddir = wind['winddir']  # Wind directions in degrees\n",
        "\n",
        "# Convert degrees to radians\n",
        "winddir_radians = np.deg2rad(winddir)\n",
        "\n",
        "# Create polar plot\n",
        "fig, ax = plt.subplots(subplot_kw={'projection': 'polar'})\n",
        "ax.bar(winddir_radians, windspeed, width=0.1, color='b', alpha=0.7)  # Bars for windspeed\n",
        "\n",
        "# Customize plot\n",
        "ax.set_theta_zero_location(\"N\")  # North at the top\n",
        "ax.set_theta_direction(-1)       # Clockwise direction\n",
        "ax.set_title(\"Wind Speed and Direction\", va='bottom')\n",
        "\n",
        "plt.show()\n"
      ],
      "metadata": {
        "id": "_FFImUsedtv0"
      },
      "execution_count": null,
      "outputs": []
    }
  ]
}