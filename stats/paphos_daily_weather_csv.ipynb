{
  "nbformat": 4,
  "nbformat_minor": 0,
  "metadata": {
    "colab": {
      "provenance": [],
      "authorship_tag": "ABX9TyMz9XIZ/LysJJrZ9fBgeVsv",
      "include_colab_link": true
    },
    "kernelspec": {
      "name": "python3",
      "display_name": "Python 3"
    },
    "language_info": {
      "name": "python"
    }
  },
  "cells": [
    {
      "cell_type": "markdown",
      "metadata": {
        "id": "view-in-github",
        "colab_type": "text"
      },
      "source": [
        "<a href=\"https://colab.research.google.com/github/werowe/HypatiaAcademy/blob/master/stats/paphos_daily_weather_csv.ipynb\" target=\"_parent\"><img src=\"https://colab.research.google.com/assets/colab-badge.svg\" alt=\"Open In Colab\"/></a>"
      ]
    },
    {
      "cell_type": "markdown",
      "source": [
        "https://www.visualcrossing.com/weather/weather-data-services#"
      ],
      "metadata": {
        "id": "FOFAOLzAvlPd"
      }
    },
    {
      "cell_type": "code",
      "source": [
        "from datetime import datetime, timedelta\n",
        "\n",
        "# Get today's date\n",
        "today = datetime.now() - timedelta(days=1)\n",
        "\n",
        "# Calculate the date 14 days ago\n",
        "date_14_days_ago = today - timedelta(days=14)\n",
        "\n",
        "# Format the dates in YYYY-MM-DD format\n",
        "today_str = today.strftime('%Y-%m-%d')\n",
        "date_14_days_ago_str = date_14_days_ago.strftime('%Y-%m-%d')\n",
        "\n",
        "\n",
        "date1=date_14_days_ago_str\n",
        "date2=today_str\n",
        "\n",
        "print (\"from \", date1, \" to \", date2)\n",
        "\n",
        "\n",
        "\n",
        "paphos=\"34.68,32.61\"\n",
        "\n",
        "sc=\"33.46242581990894,-79.13561525981794\"\n",
        "\n",
        "#prompt=input(\"1 for Pahos 2 for Myrtle Beach \")\n",
        "\n",
        "prompt = \"1\"\n",
        "\n",
        "if prompt == \"1\":\n",
        "  location=paphos\n",
        "  filestr = \"paphos\"\n",
        "  unitgroup = \"metric\"\n",
        "else:\n",
        "  location=sc\n",
        "  filestr = \"sc\"\n",
        "  unitgroup = \"us\"\n",
        "\n",
        "\n",
        "#apikey = input(\"API Key\")\n",
        "\n",
        "apikey=\"ET2UEWPH7KFHT289DDMPTQJFV\"\n",
        "\n",
        "#thomas\n",
        "#apikey=\"7GV5JCTFSZYEZ2XZGJUE9SDMD\"\n"
      ],
      "metadata": {
        "colab": {
          "base_uri": "https://localhost:8080/"
        },
        "id": "Jn9c73XEY3oB",
        "outputId": "87460b2a-b2f9-41bd-ac34-3d127764d925"
      },
      "execution_count": 41,
      "outputs": [
        {
          "output_type": "stream",
          "name": "stdout",
          "text": [
            "from  2025-01-03  to  2025-01-17\n"
          ]
        }
      ]
    },
    {
      "cell_type": "code",
      "source": [
        "\n",
        "url='https://weather.visualcrossing.com/VisualCrossingWebServices/rest/services/timeline/{0}/{1}/{2}?key={3}&include=hours&contentType=csv&unitGroup={4}'.format(location,date1,date2,apikey,unitgroup)\n",
        "\n",
        "import requests\n",
        "\n",
        "headers = {'Accept': 'text/csv'}\n",
        "\n",
        "\n",
        "# Send the GET request\n",
        "response = requests.get(url, headers=headers)\n",
        "\n",
        "# Check if the request was successful\n",
        "if response.status_code == 200:\n",
        "    # Save the content to a CSV file\n",
        "    with open(filestr + \".csv\", 'wb') as file:\n",
        "        file.write(response.content)\n",
        "    print(\"CSV file downloaded and saved as \", filestr + \".csv\")\n",
        "else:\n",
        "    print(f\"Failed to retrieve the CSV file. Status code: {response.status_code}\")\n",
        "\n",
        "import pandas as pd\n",
        "\n"
      ],
      "metadata": {
        "colab": {
          "base_uri": "https://localhost:8080/"
        },
        "id": "KtDEQi1MUjtp",
        "outputId": "dd63e2bb-8d5c-4c68-88cc-54698f76f4d4"
      },
      "execution_count": 42,
      "outputs": [
        {
          "output_type": "stream",
          "name": "stdout",
          "text": [
            "Failed to retrieve the CSV file. Status code: 429\n"
          ]
        }
      ]
    },
    {
      "cell_type": "code",
      "source": [
        "import pandas as pd\n",
        "\n",
        "df=pd.read_csv(filestr + \".csv\",usecols=['datetime','temp','feelslike','humidity'],parse_dates=['datetime'])\n",
        "\n",
        "\n",
        "df.set_index('datetime', inplace=True)\n",
        "now=df\n",
        "\n",
        "# rem out time filter for winter\n",
        "#df=df.between_time('08:00', '18:00')"
      ],
      "metadata": {
        "id": "Z4FHNKrWCQs3"
      },
      "execution_count": 43,
      "outputs": []
    },
    {
      "cell_type": "code",
      "source": [
        "now_destination_path = '/content/drive/My Drive/weather/' + yesterday_str + \".waves.json\"\n",
        "\n",
        "# Copy the file\n",
        "shutil.copy(now_source_path, now_destination_path)\n",
        "\n",
        "print(f'File saved to {now_destination_path}')"
      ],
      "metadata": {
        "id": "aA3mEdQoPmyg",
        "outputId": "8e2a34fc-c78f-4671-c919-a944b529e7a7",
        "colab": {
          "base_uri": "https://localhost:8080/",
          "height": 216
        }
      },
      "execution_count": 44,
      "outputs": [
        {
          "output_type": "error",
          "ename": "NameError",
          "evalue": "name 'now_source_path' is not defined",
          "traceback": [
            "\u001b[0;31m---------------------------------------------------------------------------\u001b[0m",
            "\u001b[0;31mNameError\u001b[0m                                 Traceback (most recent call last)",
            "\u001b[0;32m<ipython-input-44-09f913f71219>\u001b[0m in \u001b[0;36m<cell line: 0>\u001b[0;34m()\u001b[0m\n\u001b[1;32m      2\u001b[0m \u001b[0;34m\u001b[0m\u001b[0m\n\u001b[1;32m      3\u001b[0m \u001b[0;31m# Copy the file\u001b[0m\u001b[0;34m\u001b[0m\u001b[0;34m\u001b[0m\u001b[0m\n\u001b[0;32m----> 4\u001b[0;31m \u001b[0mshutil\u001b[0m\u001b[0;34m.\u001b[0m\u001b[0mcopy\u001b[0m\u001b[0;34m(\u001b[0m\u001b[0mnow_source_path\u001b[0m\u001b[0;34m,\u001b[0m \u001b[0mnow_destination_path\u001b[0m\u001b[0;34m)\u001b[0m\u001b[0;34m\u001b[0m\u001b[0;34m\u001b[0m\u001b[0m\n\u001b[0m\u001b[1;32m      5\u001b[0m \u001b[0;34m\u001b[0m\u001b[0m\n\u001b[1;32m      6\u001b[0m \u001b[0mprint\u001b[0m\u001b[0;34m(\u001b[0m\u001b[0;34mf'File saved to {now_destination_path}'\u001b[0m\u001b[0;34m)\u001b[0m\u001b[0;34m\u001b[0m\u001b[0;34m\u001b[0m\u001b[0m\n",
            "\u001b[0;31mNameError\u001b[0m: name 'now_source_path' is not defined"
          ]
        }
      ]
    },
    {
      "cell_type": "code",
      "source": [
        "# copy current weather to Google Drive\n",
        "\n",
        "\n",
        "from google.colab import drive\n",
        "import shutil\n",
        "\n",
        "# Mount Google Drive\n",
        "drive.mount('/content/drive')\n",
        "\n",
        "# Source path of your file (assuming it's in the current working directory)\n",
        "source_path = filestr + \".csv\"\n",
        "\n",
        "# Destination path in your Google Drive\n",
        "#destination_path = '/content/drive/My Drive/' + filestr + \".\" + today_str\n",
        "\n",
        "destination_path = '/content/drive/My Drive/weather/' + filestr +  today_str + \".csv\"\n",
        "\n",
        "# Copy the file\n",
        "shutil.copy(source_path, destination_path)"
      ],
      "metadata": {
        "id": "YlWzx0M1Pk-r"
      },
      "execution_count": null,
      "outputs": []
    },
    {
      "cell_type": "code",
      "source": [
        "import matplotlib.dates as mdates\n",
        "import matplotlib.pyplot as plt\n",
        "\n",
        "\n",
        "# Plotting\n",
        "fig, ax = plt.subplots(figsize=(12, 6))\n",
        "\n",
        "#plt.cm.hot_r\n",
        "\n",
        "# Scatter plot with colormap\n",
        "sc = ax.scatter(df.index, df['temp'], c=df['temp'],cmap=\"magma\",  alpha=0.6)\n",
        "\n",
        "# Adding color bar\n",
        "cbar = plt.colorbar(sc)\n",
        "cbar.set_label('Temp ')\n",
        "\n",
        "# Set labels\n",
        "ax.set_xlabel('Date')\n",
        "\n",
        "plt.xticks(rotation=90)\n",
        "\n",
        "# Set major and minor ticks format\n",
        "ax.xaxis.set_major_locator(mdates.DayLocator())\n",
        "#ax.xaxis.set_minor_locator(mdates.HourLocator(interval=4))\n",
        "ax.xaxis.set_major_formatter(mdates.DateFormatter('%Y-%m-%d'))\n",
        "#ax.xaxis.set_minor_formatter(mdates.DateFormatter('%H'))\n",
        "\n",
        "# Rotate x-ticks\n",
        "plt.setp(ax.xaxis.get_majorticklabels(), rotation=90, color='blue', ha='center', va='top', position=(0, -0.02))\n",
        "#plt.setp(ax.xaxis.get_minorticklabels(), rotation=90, color='purple', ha='center', va='bottom')\n",
        "\n",
        "# Move minor ticks (hours) below x-axis\n",
        "ax.tick_params(axis='x', which='minor', pad=15)\n",
        "\n",
        "#ax.tick_params(axis='x', which='major', pad=15)\n",
        "\n",
        "#plt.ylim(80,95)\n",
        "\n",
        "# Adding a title\n",
        "if unitgroup == \"metric\":\n",
        "  plt.title('Temp (°C) ' + filestr)\n",
        "else:\n",
        "  plt.title('Temp (°F) ' + filestr)\n",
        "\n",
        "# Adding legends\n",
        "#plt.legend()\n",
        "\n",
        "plt.grid()\n",
        "\n",
        "# Displaying the chart\n",
        "plt.tight_layout()\n",
        "plt.show()"
      ],
      "metadata": {
        "id": "HF5o7gyi7dyB"
      },
      "execution_count": null,
      "outputs": []
    },
    {
      "cell_type": "code",
      "source": [
        "import matplotlib.pyplot as plt\n",
        "import matplotlib.dates as mdates\n",
        "\n",
        "\n",
        "# Your data preparation code here (e.g., df creation, filestr, unitgroup)\n",
        "\n",
        "# Plotting\n",
        "fig, ax = plt.subplots(figsize=(12, 6))\n",
        "\n",
        "# Scatter plot with colormap\n",
        "sc = ax.scatter(df.index, df['feelslike'], c=df['feelslike'], cmap='magma', alpha=0.6)\n",
        "\n",
        "# Adding color bar\n",
        "cbar = plt.colorbar(sc)\n",
        "cbar.set_label('Heat Index')\n",
        "\n",
        "# Set labels\n",
        "ax.set_xlabel('Heat Index')\n",
        "plt.xticks(rotation=90)\n",
        "\n",
        "\n",
        "ax.xaxis.set_major_locator(mdates.DayLocator())\n",
        "\n",
        "ax.xaxis.set_major_formatter(mdates.DateFormatter('%Y-%m-%d'))\n",
        "\n",
        "\n",
        "\n",
        "plt.setp(ax.xaxis.get_majorticklabels(), rotation=90, color='blue', ha='center', va='top', position=(0, -0.02))\n",
        "\n",
        "\n",
        "# Move minor ticks (hours) below x-axis\n",
        "ax.tick_params(axis='x', which='minor', pad=15)\n",
        "# ax.tick_params(axis='x', which='major', pad=15)\n",
        "\n",
        "# Adding a title\n",
        "if unitgroup == \"metric\":\n",
        "    plt.title('Heat Index (°C) ' + filestr)\n",
        "else:\n",
        "    plt.title('Heat Index (°F) ' + filestr)\n",
        "\n",
        "plt.grid()\n",
        "\n",
        "# Displaying the chart\n",
        "plt.tight_layout()\n",
        "plt.show()\n"
      ],
      "metadata": {
        "id": "iP8kmblZ70rW"
      },
      "execution_count": null,
      "outputs": []
    },
    {
      "cell_type": "markdown",
      "source": [
        "# Save LastYear's Data"
      ],
      "metadata": {
        "id": "AaYeVmWVRJtZ"
      }
    },
    {
      "cell_type": "code",
      "source": [
        "# Calculate the date for 'yesterday' in UTC\n",
        "yesterday = datetime.utcnow() - timedelta(days=1)\n",
        "yesterday_str = yesterday.strftime('%Y-%m-%dT%H:%M:%SZ')\n",
        "\n",
        "# Calculate the date for '10 days before yesterday' in UTC\n",
        "tendays = yesterday - timedelta(days=14)\n",
        "tendays_str = tendays.strftime('%Y-%m-%dT%H:%M:%SZ')\n",
        "\n",
        "# Calculate the date for '1 year before yesterday' in UTC\n",
        "lastyearyesterday = yesterday - timedelta(days=365)\n",
        "lastyearyesterday_str = lastyearyesterday.strftime('%Y-%m-%dT%H:%M:%SZ')\n",
        "\n",
        "# Calculate the date for '10 days before 1 year before yesterday' in UTC\n",
        "lastyeartendays = lastyearyesterday - timedelta(days=10)\n",
        "lastyeartendays_str = lastyeartendays.strftime('%Y-%m-%dT%H:%M:%SZ')\n"
      ],
      "metadata": {
        "id": "ZhycbBpeRHxq"
      },
      "execution_count": null,
      "outputs": []
    },
    {
      "cell_type": "code",
      "source": [
        "\n",
        "print(\"last year, last\")\n",
        "print(\"1 year before Yesterday (UTC):\", lastyearyesterday_str)\n",
        "print(\"10 days before 1 year before Yesterday (UTC):\", lastyearyesterday_str)\n",
        "\n",
        "date1=lastyeartendays_str\n",
        "date2=lastyearyesterday_str\n",
        "\n",
        "(date1,date2)"
      ],
      "metadata": {
        "id": "NcZdQbOJRZOd"
      },
      "execution_count": null,
      "outputs": []
    },
    {
      "cell_type": "code",
      "source": [
        "url='https://weather.visualcrossing.com/VisualCrossingWebServices/rest/services/timeline/{0}/{1}/{2}?key={3}&include=hours&contentType=csv&unitGroup={4}'.format(location,date1,date2,apikey,unitgroup)\n",
        "\n",
        "import requests\n",
        "\n",
        "headers = {'Accept': 'text/csv'}\n",
        "\n",
        "\n",
        "# Send the GET request\n",
        "response = requests.get(url, headers=headers)\n",
        "\n",
        "# Check if the request was successful\n",
        "if response.status_code == 200:\n",
        "    # Save the content to a CSV file\n",
        "    with open(filestr + \".csv\", 'wb') as file:\n",
        "        file.write(response.content)\n",
        "    print(\"CSV file downloaded and saved as \", filestr + \".csv\")\n",
        "else:\n",
        "    print(f\"Failed to retrieve the CSV file. Status code: {response.status_code}\")"
      ],
      "metadata": {
        "id": "4GcUdTEISdPA"
      },
      "execution_count": null,
      "outputs": []
    },
    {
      "cell_type": "code",
      "source": [
        "lastyearstr = lastyearyesterday.strftime('%Y-%m-%d')\n",
        "lastyearstr"
      ],
      "metadata": {
        "id": "hB9Nu6WUS07L"
      },
      "execution_count": null,
      "outputs": []
    },
    {
      "cell_type": "code",
      "source": [
        "destination_path = '/content/drive/My Drive/weather/' + lastyearstr +  \".csv\"\n",
        "\n",
        "destination_path"
      ],
      "metadata": {
        "id": "e4MTqrvgTjZ1"
      },
      "execution_count": null,
      "outputs": []
    },
    {
      "cell_type": "code",
      "source": [
        "\n",
        "\n",
        "# Copy the file\n",
        "shutil.copy(source_path, destination_path)\n",
        "\n",
        "print(\"saving \", destination_path)"
      ],
      "metadata": {
        "id": "OqzbHWi2SGqf"
      },
      "execution_count": null,
      "outputs": []
    },
    {
      "cell_type": "code",
      "source": [
        "df=pd.read_csv(filestr + \".csv\",usecols=['datetime','temp','feelslike','humidity'],parse_dates=['datetime'])\n",
        "\n",
        "\n",
        "df.set_index('datetime', inplace=True)\n",
        "df=df.between_time('08:00', '18:00')\n",
        "\n",
        "last=df"
      ],
      "metadata": {
        "id": "cWtAGtKiT9Av"
      },
      "execution_count": null,
      "outputs": []
    },
    {
      "cell_type": "code",
      "source": [
        "\n",
        "now['match'] = now.index.strftime('%m-%d %H:%M')\n",
        "last['match'] = last.index.strftime('%m-%d %H:%M')\n",
        "\n",
        "\n",
        "intersection = pd.merge(now, last, on='match', how='inner')"
      ],
      "metadata": {
        "id": "rrBmbEFEUKrP"
      },
      "execution_count": null,
      "outputs": []
    },
    {
      "cell_type": "code",
      "source": [
        "intersection"
      ],
      "metadata": {
        "id": "kdFf4XfeUTEq"
      },
      "execution_count": null,
      "outputs": []
    },
    {
      "cell_type": "code",
      "source": [
        "import matplotlib.pyplot as plt\n",
        "\n",
        "\n",
        "df=intersection.iloc[::2, :]\n",
        "\n",
        "fig, ax = plt.subplots(figsize=(12, 6))\n",
        "\n",
        "# Plot the data\n",
        "ax.scatter(df['match'], df['temp_x'], s=200, alpha=0.6, color=\"orange\", label='2024')\n",
        "ax.scatter(df['match'], df['temp_y'], s=200, alpha=0.6, color=\"purple\", label='2023')\n",
        "\n",
        "# Set the x-axis label\n",
        "ax.set_xlabel('Date')\n",
        "\n",
        "# Set the y-axis label\n",
        "ax.set_ylabel('Temperature (°C)')\n",
        "\n",
        "# Rotate x-axis labels by 90 degrees for better readability\n",
        "plt.xticks(rotation=90)\n",
        "plt.xticks(fontsize=8)\n",
        "\n",
        "# Set the title\n",
        "plt.title('Two-Weeks Temperature Comparison (°C)')\n",
        "\n",
        "# Add legend\n",
        "legend = plt.legend(loc='lower center', bbox_to_anchor=(0.5, 1.05), ncol=2, fontsize=12)\n",
        "\n",
        "plt.grid()\n",
        "\n",
        "# Show the plot\n",
        "plt.show()"
      ],
      "metadata": {
        "id": "vBdMnsZrUcqH"
      },
      "execution_count": null,
      "outputs": []
    },
    {
      "cell_type": "code",
      "source": [
        "\n",
        "import matplotlib.pyplot as plt\n",
        "\n",
        "\n",
        "df=intersection.iloc[::2, :]\n",
        "\n",
        "fig, ax = plt.subplots(figsize=(12, 6))\n",
        "\n",
        "# Plot the data\n",
        "ax.scatter(df['match'], df['feelslike_x'], s=200, alpha=0.6, color=\"orange\", label='2024')\n",
        "ax.scatter(df['match'], df['feelslike_y'], s=200, alpha=0.6, color=\"purple\", label='2023')\n",
        "\n",
        "# Set the x-axis label\n",
        "ax.set_xlabel('Date')\n",
        "\n",
        "# Set the y-axis label\n",
        "ax.set_ylabel('Temperature (°C)')\n",
        "\n",
        "# Rotate x-axis labels by 90 degrees for better readability\n",
        "plt.xticks(rotation=90)\n",
        "plt.xticks(fontsize=8)\n",
        "\n",
        "# Set the title\n",
        "plt.title('Two-Weeks Feels Like Comparison (°C)')\n",
        "\n",
        "# Add legend\n",
        "legend = plt.legend(loc='lower center', bbox_to_anchor=(0.5, 1.05), ncol=2, fontsize=12)\n",
        "\n",
        "plt.grid()\n",
        "\n",
        "# Show the plot\n",
        "plt.show()"
      ],
      "metadata": {
        "id": "99SJk464Ukku"
      },
      "execution_count": null,
      "outputs": []
    },
    {
      "cell_type": "markdown",
      "source": [
        "# Get Sea Conditions"
      ],
      "metadata": {
        "id": "urh_OPPyRyfQ"
      }
    },
    {
      "cell_type": "code",
      "source": [
        "\n",
        "\n",
        "url='https://weather.visualcrossing.com/VisualCrossingWebServices/rest/services/timeline/{0}/{1}/{2}?key={3}&include=hours&contentType=csv&unitGroup={4}'.format(location,date1,date2,apikey,unitgroup)\n",
        "\n",
        "import requests\n",
        "\n",
        "headers = {'Accept': 'text/csv'}\n",
        "\n",
        "\n",
        "# Send the GET request\n",
        "response = requests.get(url, headers=headers)\n",
        "\n",
        "# Check if the request was successful\n",
        "if response.status_code == 200:\n",
        "    # Save the content to a CSV file\n",
        "    with open(filestr + \".csv\", 'wb') as file:\n",
        "        file.write(response.content)\n",
        "    print(\"CSV file downloaded and saved as \", filestr + \".csv\")\n",
        "else:\n",
        "    print(f\"Failed to retrieve the CSV file. Status code: {response.status_code}\")\n",
        "\n"
      ],
      "metadata": {
        "id": "hsldXVbYQeAl"
      },
      "execution_count": null,
      "outputs": []
    },
    {
      "cell_type": "code",
      "source": [
        "# -*- coding: utf-8 -*-\n",
        "\"\"\"waves.ipynb\n",
        "\n",
        "Automatically generated by Colab.\n",
        "\n",
        "Original file is located at\n",
        "    https://colab.research.google.com/github/werowe/HypatiaAcademy/blob/master/stats/waves.ipynb\n",
        "\n",
        "\n",
        "\n",
        "\"\"\"\n",
        "\n",
        "\n",
        "\n",
        "print(f'File saved to {destination_path}')\n",
        "\n",
        "from datetime import datetime, timedelta\n",
        "\n",
        "# Calculate the date for 'yesterday' in UTC\n",
        "yesterday = datetime.utcnow() - timedelta(days=1)\n",
        "yesterday_str = yesterday.strftime('%Y-%m-%dT%H:%M:%SZ')\n",
        "\n",
        "# Calculate the date for '10 days before yesterday' in UTC\n",
        "tendays = yesterday - timedelta(days=10)\n",
        "tendays_str = tendays.strftime('%Y-%m-%dT%H:%M:%SZ')\n",
        "\n",
        "# Calculate the date for '1 year before yesterday' in UTC\n",
        "lastyearyesterday = yesterday - timedelta(days=365)\n",
        "lastyearyesterday_str = lastyearyesterday.strftime('%Y-%m-%dT%H:%M:%SZ')\n",
        "\n",
        "# Calculate the date for '10 days before 1 year before yesterday' in UTC\n",
        "lastyeartendays = lastyearyesterday - timedelta(days=10)\n",
        "lastyeartendays_str = lastyeartendays.strftime('%Y-%m-%dT%H:%M:%SZ')\n",
        "\n",
        "# Print the results\n",
        "print(\"Yesterday (UTC):\", yesterday_str)\n",
        "print(\"10 days before Yesterday (UTC):\", tendays_str)\n",
        "print(\"1 year before Yesterday (UTC):\", lastyearyesterday_str)\n",
        "print(\"10 days before 1 year before Yesterday (UTC):\", lastyeartendays_str)\n",
        "\n",
        "apikey=\"b74de4f2-5352-11ef-aa85-0242ac130004-b74de5d8-5352-11ef-aa85-0242ac130004\"\n",
        "\n",
        "\n",
        "\n",
        "\n",
        "# https://dashboard.stormglass.io/\n",
        "\n",
        "# https://docs.stormglass.io/?utm_medium=email&_hsenc=p2ANqtz-9NtG7HIa1BhxP3kX2NPRJLRhL3kaXEfAvVmC9k-p8qYUe0KFQrPtaz34Ucy8W71I9wyEopdsQsCGZxj-QaXWlZug1hHQ&_hsmi=290896009&utm_content=290896009&utm_source=hs_automation#/weather\n",
        "\n",
        "\n",
        "import requests\n",
        "\n",
        "params='currentDirection,currentSpeed,gust,waterTemperature,waveDirection,waveHeight,wavePeriod,windWaveDirection,windWaveHeight,windWavePeriod,windDirection,swellDirection,swellHeight,swellPeriod'\n",
        "\n",
        "\n",
        "response = requests.get(\n",
        "  'https://api.stormglass.io/v2/weather/point',\n",
        "  params={\n",
        "    'lat': 34.68,\n",
        "    'lng': 32.61,\n",
        "    'start' : tendays_str,\n",
        "    'end' : yesterday_str,\n",
        "    'params': params\n",
        "  },\n",
        "  headers={\n",
        "    'Authorization': apikey\n",
        "  }\n",
        ")\n",
        "\n",
        "# Do something with response data.\n",
        "json_data = response.json()\n",
        "\n",
        "json_data\n",
        "\n",
        "\n",
        "\n",
        "import requests\n",
        "\n",
        "params='currentDirection,currentSpeed,gust,waterTemperature,waveDirection,waveHeight,wavePeriod,windWaveDirection,windWaveHeight,windWavePeriod,windDirection,swellDirection,swellHeight,swellPeriod'\n",
        "\n",
        "\n",
        "response = requests.get(\n",
        "  'https://api.stormglass.io/v2/weather/point',\n",
        "  params={\n",
        "    'lat': 34.68,\n",
        "    'lng': 32.61,\n",
        "    'start' : lastyeartendays_str,\n",
        "    'end' : lastyearyesterday_str,\n",
        "    'params': params\n",
        "  },\n",
        "  headers={\n",
        "    'Authorization': apikey\n",
        "  }\n",
        ")\n",
        "\n",
        "# Do something with response data.\n",
        "lastYearData = response.json()\n",
        "\n",
        "\n",
        "\n",
        "import json\n",
        "\n",
        "\n",
        "# Writing JSON data to a file\n",
        "with open(yesterday_str + \".waves.json\", 'w', encoding='utf-8') as f:\n",
        "    json.dump(json_data, f, ensure_ascii=False, indent=4)\n",
        "\n",
        "# Source path of your file (assuming it's in the current working directory)\n",
        "now_source_path = yesterday_str + \".waves.json\"\n",
        "\n",
        "now_destination_path = '/content/drive/My Drive/weather/' + yesterday_str + \".waves.json\"\n",
        "\n",
        "# Copy the file\n",
        "shutil.copy(now_source_path, now_destination_path)\n",
        "\n",
        "print(f'File saved to {now_destination_path}')\n",
        "\n",
        "# Writing JSON data to a file\n",
        "with open(lastyearyesterday_str + \".waves.json\", 'w', encoding='utf-8') as f:\n",
        "    json.dump(lastYearData, f, ensure_ascii=False, indent=4)\n",
        "\n",
        "# Source path of your file (assuming it's in the current working directory)\n",
        "now_source_path = lastyearyesterday_str + \".waves.json\"\n",
        "\n",
        "now_destination_path = '/content/drive/My Drive/weather/' + lastyearyesterday_str + \".waves.json\"\n",
        "\n",
        "# Copy the file\n",
        "shutil.copy(now_source_path, now_destination_path)\n",
        "\n",
        "print(f'File saved to {now_destination_path}')"
      ],
      "metadata": {
        "id": "7MlD9BaTpVtI"
      },
      "execution_count": null,
      "outputs": []
    },
    {
      "cell_type": "code",
      "source": [
        "df=pd.read_csv(filestr + \".csv\",parse_dates=['datetime'])\n",
        "\n",
        "df.set_index('datetime', inplace=True)"
      ],
      "metadata": {
        "id": "Iykm2Aarmfle"
      },
      "execution_count": null,
      "outputs": []
    },
    {
      "cell_type": "code",
      "source": [
        "df.columns"
      ],
      "metadata": {
        "id": "32E29ppAMzkj"
      },
      "execution_count": null,
      "outputs": []
    },
    {
      "cell_type": "code",
      "source": [
        "rain=df.loc[df['preciptype'].notna()]\n",
        "rain[['precip','preciptype','windspeed','winddir','cloudcover','visibility','windgust']]"
      ],
      "metadata": {
        "id": "ezHDjFgGNo_U"
      },
      "execution_count": null,
      "outputs": []
    },
    {
      "cell_type": "code",
      "source": [
        "\n",
        "\n",
        "wind=rain.loc[pd.Timestamp.now() - pd.Timedelta(days=2):, ['windgust', 'windspeed', 'winddir']]\n",
        "\n",
        "wind"
      ],
      "metadata": {
        "id": "P8FQGTI1abVb"
      },
      "execution_count": null,
      "outputs": []
    },
    {
      "cell_type": "code",
      "source": [
        "import numpy as np\n",
        "import matplotlib.pyplot as plt\n",
        "\n",
        "# Sample data\n",
        "windspeed = wind['windspeed']  # Example wind speeds\n",
        "winddir = wind['winddir']  # Wind directions in degrees\n",
        "\n",
        "# Convert degrees to radians\n",
        "winddir_radians = np.deg2rad(winddir)\n",
        "\n",
        "# Create polar plot\n",
        "fig, ax = plt.subplots(subplot_kw={'projection': 'polar'})\n",
        "ax.bar(winddir_radians, windspeed, width=0.1, color='b', alpha=0.7)  # Bars for windspeed\n",
        "\n",
        "# Customize plot\n",
        "ax.set_theta_zero_location(\"N\")  # North at the top\n",
        "ax.set_theta_direction(-1)       # Clockwise direction\n",
        "ax.set_title(\"Wind Speed and Direction\", va='bottom')\n",
        "\n",
        "plt.show()\n"
      ],
      "metadata": {
        "id": "_FFImUsedtv0"
      },
      "execution_count": null,
      "outputs": []
    }
  ]
}