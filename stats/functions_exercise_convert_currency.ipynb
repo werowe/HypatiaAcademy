{
  "nbformat": 4,
  "nbformat_minor": 0,
  "metadata": {
    "colab": {
      "provenance": [],
      "authorship_tag": "ABX9TyNpKpcGmX8Wgo8oUTPohuRM",
      "include_colab_link": true
    },
    "kernelspec": {
      "name": "python3",
      "display_name": "Python 3"
    },
    "language_info": {
      "name": "python"
    }
  },
  "cells": [
    {
      "cell_type": "markdown",
      "metadata": {
        "id": "view-in-github",
        "colab_type": "text"
      },
      "source": [
        "<a href=\"https://colab.research.google.com/github/werowe/HypatiaAcademy/blob/master/stats/functions_exercise_convert_currency.ipynb\" target=\"_parent\"><img src=\"https://colab.research.google.com/assets/colab-badge.svg\" alt=\"Open In Colab\"/></a>"
      ]
    },
    {
      "cell_type": "markdown",
      "source": [
        "### Russian and Ukrainian Money Systems Before Decimalization\n",
        "\n",
        "Before adopting the decimal system, both Russia and Ukraine used monetary systems based on non-decimal denominations.\n",
        "\n",
        "\n",
        "However, before the full decimalization under Peter the Great in 1704, Russia's currency system was more complex:\n",
        "\n",
        "- **Denga**: Equivalent to 1/2 kopek.\n",
        "- **Polushka**: Equivalent to 1/4 kopek.\n",
        "- **Altyn**: A coin worth 3 kopeks.\n",
        "\n",
        "### Example Currency Calculation Prior to 1704\n",
        "\n",
        "To generate an amount of Russian currency using the denominations Denga, Polushka, Kopek, Altyn, and Ruble, here's a randomly created example:\n",
        "\n",
        "- **2 Rubles**: The primary unit of currency.\n",
        "- **3 Altyn**: Each Altyn is worth 3 kopeks, so 3 Altyn equals 9 kopeks.\n",
        "- **5 Kopeks**: Standard subdivision of the Ruble.\n",
        "- **7 Denga**: Each Denga is worth 1/2 kopek, so 7 Denga equals 3.5 kopeks.\n",
        "- **4 Polushka**: Each Polushka is worth 1/4 kopek, so 4 Polushka equals 1 kopek.\n",
        "\n",
        "### Calculation:\n",
        "- **Rubles**: 2 Rubles\n",
        "- **Kopeks from Altyn**: 9 Kopeks\n",
        "- **Kopeks**: 5 Kopeks\n",
        "- **Kopeks from Denga**: 3.5 Kopeks\n",
        "- **Kopeks from Polushka**: 1 Kopek\n",
        "\n",
        "Total in Kopeks = 9 + 5 + 3.5 + 1 = **18.5 Kopeks**\n",
        "\n",
        "Now, combining with the Rubles:\n",
        "- **2 Rubles and 18.5 Kopeks**\n",
        "\n",
        "### Final Currency Amount:\n",
        "- **2 Rubles, 18 Kopeks, and 1/2 Kopek (from the Denga)**\n"
      ],
      "metadata": {
        "id": "n1BjoSvm9pjI"
      }
    },
    {
      "cell_type": "markdown",
      "source": [
        "# Homework\n",
        "\n",
        "Write a program to convert any Kopeks, Altyn, Denga, and Polushka into rubles.   Then do this in Google Sheets.\n",
        "\n",
        "for example, convert this to rubles:\n",
        "\n",
        "20 poluska + 30 denga + 40 atlyn + 100 kopeks\n",
        "\n",
        "\n",
        "#hint\n",
        "It would be easiest of you converted every currency to rubles. Then add all the rubles.  so write a function for each currency.\n",
        "\n",
        "```\n",
        "poluska = kopek\n",
        "denga = 3.5 * kopek\n",
        "atlyn = 9 * kopek\n",
        "ruble = 100 * kopek\n",
        "\n",
        "```\n",
        "\n"
      ],
      "metadata": {
        "id": "tJ91W0p__HYv"
      }
    },
    {
      "cell_type": "code",
      "execution_count": 33,
      "metadata": {
        "colab": {
          "base_uri": "https://localhost:8080/"
        },
        "id": "8iEykVb-9oyT",
        "outputId": "b1c5b19f-177f-40df-ffbb-dd1f35e67508"
      },
      "outputs": [
        {
          "output_type": "stream",
          "name": "stdout",
          "text": [
            "1 dengas: is  0.005  rubles\n"
          ]
        }
      ],
      "source": [
        "\n",
        "# convert denga to roubles\n",
        "\n",
        "def dengaToRuble(dengas):\n",
        "\n",
        "    # 1 denaga = 0.5 kopeks\n",
        "    # ruble is 100 kopeks\n",
        "    # so 1 kopek is 1/100 rubles\n",
        "\n",
        "    kopeks = 0.5 * dengas\n",
        "\n",
        "    rubles = kopeks / 100\n",
        "\n",
        "    return rubles\n",
        "\n",
        "dengas = 1\n",
        "print(dengas, \"dengas: is \", dengaToRuble(dengas), \" rubles\")\n"
      ]
    }
  ]
}