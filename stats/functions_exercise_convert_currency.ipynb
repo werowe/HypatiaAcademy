{
  "nbformat": 4,
  "nbformat_minor": 0,
  "metadata": {
    "colab": {
      "provenance": [],
      "authorship_tag": "ABX9TyMcxw5CWGZy7NcWOahN99Se",
      "include_colab_link": true
    },
    "kernelspec": {
      "name": "python3",
      "display_name": "Python 3"
    },
    "language_info": {
      "name": "python"
    }
  },
  "cells": [
    {
      "cell_type": "markdown",
      "metadata": {
        "id": "view-in-github",
        "colab_type": "text"
      },
      "source": [
        "<a href=\"https://colab.research.google.com/github/werowe/HypatiaAcademy/blob/master/stats/functions_exercise_convert_currency.ipynb\" target=\"_parent\"><img src=\"https://colab.research.google.com/assets/colab-badge.svg\" alt=\"Open In Colab\"/></a>"
      ]
    },
    {
      "cell_type": "markdown",
      "source": [
        "### Russian and Ukrainian Money Systems Before Decimalization\n",
        "\n",
        "Before adopting the decimal system, both Russia and Ukraine used monetary systems based on non-decimal denominations.\n",
        "\n",
        "\n",
        "- **Rubles**: The primary unit of currency.\n",
        "- **Altyn**: Each Altyn is worth 3 kopeks.\n",
        "- **Kopeks**: 100 Kopeks is 1 ruble.\n",
        "- **Denga**: Each Denga is worth 1/2 kopek.\n",
        "- **Polushka**: Each Polushka is worth 1/4 kopek.\n",
        "\n",
        "\n"
      ],
      "metadata": {
        "id": "n1BjoSvm9pjI"
      }
    },
    {
      "cell_type": "markdown",
      "source": [
        "# Homework\n",
        "\n",
        "Write a program to convert any Kopeks, Altyn, Denga, and Polushka into rubles.   Then do this in Google Sheets.\n",
        "\n",
        "for example, convert this to rubles:\n",
        "\n",
        "20 poluska + 30 denga + 40 atlyn + 100 kopeks\n",
        "\n",
        "\n",
        "#hint\n",
        "It would be easiest of you converted every currency to rubles. Then add all the rubles.  so write a function for each currency.  Below is how to convert 1 denga to roubles.\n",
        "\n",
        "\n",
        "\n",
        "\n"
      ],
      "metadata": {
        "id": "tJ91W0p__HYv"
      }
    },
    {
      "cell_type": "code",
      "execution_count": 33,
      "metadata": {
        "colab": {
          "base_uri": "https://localhost:8080/"
        },
        "id": "8iEykVb-9oyT",
        "outputId": "b1c5b19f-177f-40df-ffbb-dd1f35e67508"
      },
      "outputs": [
        {
          "output_type": "stream",
          "name": "stdout",
          "text": [
            "1 dengas: is  0.005  rubles\n"
          ]
        }
      ],
      "source": [
        "\n",
        "# convert denga to roubles\n",
        "\n",
        "def dengaToRuble(dengas):\n",
        "\n",
        "    # 1 denaga = 0.5 kopeks\n",
        "    # ruble is 100 kopeks\n",
        "    # so 1 kopek is 1/100 rubles\n",
        "\n",
        "    kopeks = 0.5 * dengas\n",
        "\n",
        "    rubles = kopeks / 100\n",
        "\n",
        "    return rubles\n",
        "\n",
        "dengas = 1\n",
        "print(dengas, \"dengas: is \", dengaToRuble(dengas), \" rubles\")\n"
      ]
    }
  ]
}