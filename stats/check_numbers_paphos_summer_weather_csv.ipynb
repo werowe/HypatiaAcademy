{
  "nbformat": 4,
  "nbformat_minor": 0,
  "metadata": {
    "colab": {
      "provenance": [],
      "authorship_tag": "ABX9TyMvmPVNbcE5ruLCz/zO8KBi",
      "include_colab_link": true
    },
    "kernelspec": {
      "name": "python3",
      "display_name": "Python 3"
    },
    "language_info": {
      "name": "python"
    }
  },
  "cells": [
    {
      "cell_type": "markdown",
      "metadata": {
        "id": "view-in-github",
        "colab_type": "text"
      },
      "source": [
        "<a href=\"https://colab.research.google.com/github/werowe/HypatiaAcademy/blob/master/stats/check_numbers_paphos_summer_weather_csv.ipynb\" target=\"_parent\"><img src=\"https://colab.research.google.com/assets/colab-badge.svg\" alt=\"Open In Colab\"/></a>"
      ]
    },
    {
      "cell_type": "markdown",
      "source": [
        "https://www.visualcrossing.com/weather/weather-data-services#"
      ],
      "metadata": {
        "id": "FOFAOLzAvlPd"
      }
    },
    {
      "cell_type": "code",
      "source": [
        "# check data\n",
        "\n",
        "from datetime import datetime, timedelta\n",
        "\n",
        "# Calculate the date for 'yesterday' in UTC\n",
        "yesterday = datetime.utcnow() - timedelta(days=1)\n",
        "yesterday_str = yesterday.strftime('%Y-%m-%dT%H:%M:%SZ')\n",
        "\n",
        "# Calculate the date for '10 days before yesterday' in UTC\n",
        "tendays = yesterday - timedelta(days=10)\n",
        "tendays_str = tendays.strftime('%Y-%m-%dT%H:%M:%SZ')\n",
        "\n",
        "# Calculate the date for '1 year before yesterday' in UTC\n",
        "lastyearyesterday = yesterday - timedelta(days=365)\n",
        "lastyearyesterday_str = lastyearyesterday.strftime('%Y-%m-%dT%H:%M:%SZ')\n",
        "\n",
        "# Calculate the date for '10 days before 1 year before yesterday' in UTC\n",
        "lastyeartendays = lastyearyesterday - timedelta(days=10)\n",
        "lastyeartendays_str = lastyeartendays.strftime('%Y-%m-%dT%H:%M:%SZ')\n",
        "\n",
        "# Print the results\n",
        "print(\"Yesterday (UTC):\", yesterday_str)\n",
        "print(\"10 days before Yesterday (UTC):\", tendays_str)\n",
        "print(\"1 year before Yesterday (UTC):\", lastyearyesterday_str)\n",
        "print(\"10 days before 1 year before Yesterday (UTC):\", lastyeartendays_str)"
      ],
      "metadata": {
        "colab": {
          "base_uri": "https://localhost:8080/"
        },
        "id": "VzQyQRXFki1X",
        "outputId": "eac0c60e-bf29-473e-e22a-2a61c5814f73"
      },
      "execution_count": 1,
      "outputs": [
        {
          "output_type": "stream",
          "name": "stdout",
          "text": [
            "Yesterday (UTC): 2024-08-10T03:54:13Z\n",
            "10 days before Yesterday (UTC): 2024-07-31T03:54:13Z\n",
            "1 year before Yesterday (UTC): 2023-08-11T03:54:13Z\n",
            "10 days before 1 year before Yesterday (UTC): 2023-08-01T03:54:13Z\n"
          ]
        }
      ]
    },
    {
      "cell_type": "code",
      "source": [
        "from datetime import datetime, timedelta\n",
        "\n",
        "# Get today's date\n",
        "today = datetime.now() - timedelta(days=1)\n",
        "\n",
        "# Calculate the date 14 days ago\n",
        "date_14_days_ago = today - timedelta(days=14)\n",
        "\n",
        "# Format the dates in YYYY-MM-DD format\n",
        "today_str = today.strftime('%Y-%m-%d')\n",
        "date_14_days_ago_str = date_14_days_ago.strftime('%Y-%m-%d')\n",
        "\n",
        "\n",
        "date1=date_14_days_ago_str\n",
        "date2=today_str\n",
        "\n",
        "print (\"from \", lastyeartendays_str, \" to \", lastyearyesterday_str)\n",
        "\n",
        "\n",
        "\n",
        "paphos=\"34.68,32.61\"\n",
        "\n",
        "sc=\"33.46242581990894,-79.13561525981794\"\n",
        "\n",
        "#prompt=input(\"1 for Pahos 2 for Myrtle Beach \")\n",
        "\n",
        "prompt = \"1\"\n",
        "\n",
        "if prompt == \"1\":\n",
        "  location=paphos\n",
        "  filestr = \"paphos\"\n",
        "  unitgroup = \"metric\"\n",
        "else:\n",
        "  location=sc\n",
        "  filestr = \"sc\"\n",
        "  unitgroup = \"us\"\n",
        "\n",
        "\n",
        "#apikey = input(\"API Key\")\n",
        "\n",
        "apikey=\"ET2UEWPH7KFHT289DDMPTQJFV\"\n"
      ],
      "metadata": {
        "colab": {
          "base_uri": "https://localhost:8080/"
        },
        "id": "Jn9c73XEY3oB",
        "outputId": "ab91275b-6889-47b4-fc53-c1623ec39537"
      },
      "execution_count": 2,
      "outputs": [
        {
          "output_type": "stream",
          "name": "stdout",
          "text": [
            "from  2023-08-01T03:54:13Z  to  2023-08-11T03:54:13Z\n"
          ]
        }
      ]
    },
    {
      "cell_type": "code",
      "source": [
        "\n",
        "url='https://weather.visualcrossing.com/VisualCrossingWebServices/rest/services/timeline/{0}/{1}/{2}?key={3}&include=hours&contentType=csv&unitGroup={4}'.format(location,date1,date2,apikey,unitgroup)\n",
        "\n",
        "import requests\n",
        "\n",
        "headers = {'Accept': 'text/csv'}\n",
        "\n",
        "\n",
        "# Send the GET request\n",
        "response = requests.get(url, headers=headers)\n",
        "\n",
        "# Check if the request was successful\n",
        "if response.status_code == 200:\n",
        "    # Save the content to a CSV file\n",
        "    with open(filestr + \".csv\", 'wb') as file:\n",
        "        file.write(response.content)\n",
        "    print(\"CSV file downloaded and saved as \", filestr + \".csv\")\n",
        "else:\n",
        "    print(f\"Failed to retrieve the CSV file. Status code: {response.status_code}\")\n",
        "\n",
        "import pandas as pd\n",
        "\n"
      ],
      "metadata": {
        "colab": {
          "base_uri": "https://localhost:8080/"
        },
        "id": "KtDEQi1MUjtp",
        "outputId": "67e15e2d-4c53-4733-f966-4d9be838c387"
      },
      "execution_count": 3,
      "outputs": [
        {
          "output_type": "stream",
          "name": "stdout",
          "text": [
            "CSV file downloaded and saved as  paphos.csv\n"
          ]
        }
      ]
    },
    {
      "cell_type": "code",
      "source": [
        "import pandas as pd\n",
        "\n",
        "df=pd.read_csv(filestr + \".csv\",usecols=['datetime','temp','feelslike','humidity'],parse_dates=['datetime'])\n",
        "\n",
        "\n",
        "df.set_index('datetime', inplace=True)\n",
        "df=df.between_time('08:00', '18:00')"
      ],
      "metadata": {
        "id": "Z4FHNKrWCQs3"
      },
      "execution_count": 4,
      "outputs": []
    }
  ]
}