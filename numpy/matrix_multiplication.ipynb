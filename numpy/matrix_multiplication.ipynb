{
  "nbformat": 4,
  "nbformat_minor": 0,
  "metadata": {
    "colab": {
      "provenance": [],
      "authorship_tag": "ABX9TyN565tdDeESTuPgtRVwyGNo",
      "include_colab_link": true
    },
    "kernelspec": {
      "name": "python3",
      "display_name": "Python 3"
    },
    "language_info": {
      "name": "python"
    }
  },
  "cells": [
    {
      "cell_type": "markdown",
      "metadata": {
        "id": "view-in-github",
        "colab_type": "text"
      },
      "source": [
        "<a href=\"https://colab.research.google.com/github/werowe/HypatiaAcademy/blob/master/numpy/matrix_multiplication.ipynb\" target=\"_parent\"><img src=\"https://colab.research.google.com/assets/colab-badge.svg\" alt=\"Open In Colab\"/></a>"
      ]
    },
    {
      "cell_type": "markdown",
      "source": [
        "## How to Multiply a 3x3 Matrix by a 3x4 Matrix\n",
        "\n",
        "### Matrix Dimensions\n",
        "\n",
        "- **3x3 matrix**: 3 rows and 3 columns  \n",
        "- **3x4 matrix**: 3 rows and 4 columns\n",
        "\n",
        "**Matrix multiplication is possible when the number of columns in the first matrix equals the number of rows in the second matrix.**  \n",
        "Here, both have 3 columns/rows, so multiplication is valid.\n",
        "\n",
        "- **Resulting matrix:** The product will be a **3x4 matrix** (rows of the first, columns of the second).\n",
        "\n",
        "---\n",
        "\n",
        "### Step-by-Step Process\n",
        "\n",
        "#### 1. Define the Matrices\n",
        "\n",
        "Let:  \n",
        "- $A$ be the 3x3 matrix  \n",
        "- $B$ be the 3x4 matrix\n",
        "\n",
        "$$\n",
        "A = \\begin{bmatrix}\n",
        "a_{11} & a_{12} & a_{13} \\\\\n",
        "a_{21} & a_{22} & a_{23} \\\\\n",
        "a_{31} & a_{32} & a_{33}\n",
        "\\end{bmatrix}\n",
        "$$\n",
        "\n",
        "$$\n",
        "B = \\begin{bmatrix}\n",
        "b_{11} & b_{12} & b_{13} & b_{14} \\\\\n",
        "b_{21} & b_{22} & b_{23} & b_{24} \\\\\n",
        "b_{31} & b_{32} & b_{33} & b_{34}\n",
        "\\end{bmatrix}\n",
        "$$\n",
        "\n",
        "---\n",
        "\n",
        "#### 2. Compute Each Entry in the Result\n",
        "\n",
        "The entry in row $i$, column $j$ of the result ($C_{ij}$) is calculated as:\n",
        "\n",
        "$$\n",
        "C_{ij} = a_{i1}b_{1j} + a_{i2}b_{2j} + a_{i3}b_{3j}\n",
        "$$\n",
        "\n",
        "---\n",
        "\n",
        "#### 3. Example Calculation\n",
        "\n",
        "Suppose you want to find the entry in the **first row, second column** of the result ($C_{12}$):\n",
        "\n",
        "$$\n",
        "C_{12} = a_{11}b_{12} + a_{12}b_{22} + a_{13}b_{32}\n",
        "$$\n",
        "\n",
        "Repeat this process for all combinations of rows (1 to 3) and columns (1 to 4).\n",
        "\n",
        "---\n",
        "\n",
        "### General Formula for the Product\n",
        "\n",
        "$$\n",
        "C = A \\times B\n",
        "$$\n",
        "\n",
        "$$\n",
        "C_{ij} = \\sum_{k=1}^{3} a_{ik} \\cdot b_{kj}\n",
        "$$\n",
        "\n",
        "Where:\n",
        "- $i$ = row index (1 to 3)\n",
        "- $j$ = column index (1 to 4)\n",
        "- $k$ = index for summing over the shared dimension (1 to 3)\n",
        "\n",
        "---\n",
        "\n",
        "### Example with Numbers\n",
        "\n",
        "Let\n",
        "\n",
        "$$\n",
        "A = \\begin{bmatrix}\n",
        "1 & 2 & 3 \\\\\n",
        "4 & 5 & 6 \\\\\n",
        "7 & 8 & 9\n",
        "\\end{bmatrix}\n",
        "$$\n",
        "\n",
        "$$\n",
        "B = \\begin{bmatrix}\n",
        "1 & 2 & 3 & 4 \\\\\n",
        "5 & 6 & 7 & 8 \\\\\n",
        "9 & 10 & 11 & 12\n",
        "\\end{bmatrix}\n",
        "$$\n",
        "\n",
        "To find the entry in the **second row, third column** of the result ($C_{23}$):\n",
        "\n",
        "$$\n",
        "C_{23} = 4 \\times 3 + 5 \\times 7 + 6 \\times 11 = 12 + 35 + 66 = 113\n",
        "$$\n",
        "\n",
        "---\n",
        "\n",
        "### Resulting Matrix Structure\n",
        "\n",
        "$$\n",
        "C = \\begin{bmatrix}\n",
        "C_{11} & C_{12} & C_{13} & C_{14} \\\\\n",
        "C_{21} & C_{22} & C_{23} & C_{24} \\\\\n",
        "C_{31} & C_{32} & C_{33} & C_{34}\n",
        "\\end{bmatrix}\n",
        "$$\n",
        "\n",
        "---\n",
        "\n",
        "### Summary Table\n",
        "\n",
        "| Step                | What to Do                                                                 |\n",
        "|---------------------|----------------------------------------------------------------------------|\n",
        "| 1. Check dimensions | Columns of first = rows of second (both 3)                                 |\n",
        "| 2. Set up result    | Result is 3x4 matrix                                                       |\n",
        "| 3. Multiply         | Each entry: sum of products of row from first and column from second matrix |\n",
        "| 4. Fill all entries | Repeat for all row/column combinations                                     |\n",
        "\n",
        "---\n",
        "\n",
        "**In short:**  \n",
        "Multiply each row of the 3x3 matrix by each column of the 3x4 matrix, sum the products, and place the result in the corresponding position of the 3x4 product matrix.\n"
      ],
      "metadata": {
        "id": "7Q3pRfcK3NH_"
      }
    },
    {
      "cell_type": "code",
      "execution_count": 11,
      "metadata": {
        "colab": {
          "base_uri": "https://localhost:8080/"
        },
        "id": "X6c3o-d53MiO",
        "outputId": "34cefaac-b6b1-4616-9922-a4a5e186abbf"
      },
      "outputs": [
        {
          "output_type": "stream",
          "name": "stdout",
          "text": [
            "resulting shape is (3,3)\n"
          ]
        },
        {
          "output_type": "execute_result",
          "data": {
            "text/plain": [
              "array([[0., 0., 0.],\n",
              "       [0., 0., 0.],\n",
              "       [0., 0., 0.]])"
            ]
          },
          "metadata": {},
          "execution_count": 11
        }
      ],
      "source": [
        "\n",
        "\n"
      ]
    },
    {
      "cell_type": "markdown",
      "source": [
        "### General Formula for the Product\n",
        "\n",
        "$$\n",
        "C = A \\times B\n",
        "$$\n",
        "\n",
        "$$\n",
        "C_{ij} = \\sum_{k=1}^{3} a_{ik} \\cdot b_{kj}\n",
        "$$\n",
        "\n",
        "Where:\n",
        "- $i$ = row index (1 to 3)\n",
        "- $j$ = column index (1 to 4)\n",
        "- $k$ = index for summing over the shared dimension (1 to 3)\n",
        "\n",
        "Multiply each row of the 3x3 matrix by each column of the 3x4 matrix, sum the products, and place the result in the corresponding position of the 3x4 product matrix.\n",
        "\n"
      ],
      "metadata": {
        "id": "-FRI2lY24tx5"
      }
    },
    {
      "cell_type": "code",
      "source": [
        "import numpy as np\n",
        "\n",
        "a = np.array([[1,2,3],\n",
        "               [4,5,6],\n",
        "              [7,8,9]])\n",
        "\n",
        "b = np.array([[1,2,3,4],\n",
        "             [5,6,7,8],\n",
        "             [9,10,11,12]])\n",
        "\n",
        "assert a.shape[1] == b.shape[0]\n",
        "\n",
        "\n",
        "# create an array of that size\n",
        "\n",
        "\n",
        "# share Dimentions the same as the rows of the first matrix or columns on the second\n",
        "sharedDim=a.shape[1]\n",
        "\n",
        "aRows=a.shape[0]\n",
        "bColumns=b.shape[1]\n",
        "\n",
        "# create an empty array with the correct shape\n",
        "c=np.zeros([a.shape[0],b.shape[1]])\n",
        "\n",
        "for i in range(aRows):\n",
        "    for j in range(bColumns):\n",
        "      # make an accumulator and then plug it into the correct row, column position in c\n",
        "      print(\"multiplying a\", a[i], \"and b\", b[:,j])\n",
        "      cSum = 0\n",
        "      for k in range(sharedDim):\n",
        "        cSum += a[i][k] * b[k][j]\n",
        "      c[i,j]=cSum\n",
        "    print(\"\\n\")\n",
        "\n",
        "print(c)\n",
        "\n",
        "print(\"\\nchecking results\")\n",
        "\n",
        "np.dot(a,b)"
      ],
      "metadata": {
        "colab": {
          "base_uri": "https://localhost:8080/"
        },
        "id": "3B-PaD634Dna",
        "outputId": "769679ed-2e6c-496d-cbe2-8b5684c3c382"
      },
      "execution_count": 93,
      "outputs": [
        {
          "output_type": "stream",
          "name": "stdout",
          "text": [
            "multiplying a [1 2 3] and b [1 5 9]\n",
            "multiplying a [1 2 3] and b [ 2  6 10]\n",
            "multiplying a [1 2 3] and b [ 3  7 11]\n",
            "multiplying a [1 2 3] and b [ 4  8 12]\n",
            "\n",
            "\n",
            "multiplying a [4 5 6] and b [1 5 9]\n",
            "multiplying a [4 5 6] and b [ 2  6 10]\n",
            "multiplying a [4 5 6] and b [ 3  7 11]\n",
            "multiplying a [4 5 6] and b [ 4  8 12]\n",
            "\n",
            "\n",
            "multiplying a [7 8 9] and b [1 5 9]\n",
            "multiplying a [7 8 9] and b [ 2  6 10]\n",
            "multiplying a [7 8 9] and b [ 3  7 11]\n",
            "multiplying a [7 8 9] and b [ 4  8 12]\n",
            "\n",
            "\n",
            "[[ 38.  44.  50.  56.]\n",
            " [ 83.  98. 113. 128.]\n",
            " [128. 152. 176. 200.]]\n",
            "\n",
            "checking results\n"
          ]
        },
        {
          "output_type": "execute_result",
          "data": {
            "text/plain": [
              "array([[ 38,  44,  50,  56],\n",
              "       [ 83,  98, 113, 128],\n",
              "       [128, 152, 176, 200]])"
            ]
          },
          "metadata": {},
          "execution_count": 93
        }
      ]
    }
  ]
}