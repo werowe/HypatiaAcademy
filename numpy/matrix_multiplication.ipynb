{
  "nbformat": 4,
  "nbformat_minor": 0,
  "metadata": {
    "colab": {
      "provenance": [],
      "authorship_tag": "ABX9TyMzsN5AIpmCHY9/uqSD/icB",
      "include_colab_link": true
    },
    "kernelspec": {
      "name": "python3",
      "display_name": "Python 3"
    },
    "language_info": {
      "name": "python"
    }
  },
  "cells": [
    {
      "cell_type": "markdown",
      "metadata": {
        "id": "view-in-github",
        "colab_type": "text"
      },
      "source": [
        "<a href=\"https://colab.research.google.com/github/werowe/HypatiaAcademy/blob/master/numpy/matrix_multiplication.ipynb\" target=\"_parent\"><img src=\"https://colab.research.google.com/assets/colab-badge.svg\" alt=\"Open In Colab\"/></a>"
      ]
    },
    {
      "cell_type": "markdown",
      "source": [
        "## How to Multiply a 3x3 Matrix by a 3x4 Matrix\n",
        "\n",
        "### Matrix Dimensions\n",
        "\n",
        "- **3x3 matrix**: 3 rows and 3 columns  \n",
        "- **3x4 matrix**: 3 rows and 4 columns\n",
        "\n",
        "**Matrix multiplication is possible when the number of columns in the first matrix equals the number of rows in the second matrix.**  \n",
        "Here, both have 3 columns/rows, so multiplication is valid.\n",
        "\n",
        "- **Resulting matrix:** The product will be a **3x4 matrix** (rows of the first, columns of the second).\n",
        "\n",
        "\n",
        "\n",
        "### General Formula for the Product\n",
        "\n",
        "$$\n",
        "C = A \\times B\n",
        "$$\n",
        "\n",
        "$$\n",
        "C_{ij} = \\sum_{k=1}^{3} a_{ik} \\cdot b_{kj}\n",
        "$$\n",
        "\n",
        "Where:\n",
        "- $i$ = row index (1 to 3)\n",
        "- $j$ = column index (1 to 4)\n",
        "- $k$ = index for summing over the shared dimension (1 to 3)\n",
        "\n",
        "---\n",
        "\n",
        "\n",
        "\n",
        "**In short:**  \n",
        "Multiply each row of the 3x3 matrix by each column of the 3x4 matrix, sum the products, and place the result in the corresponding position of the 3x4 product matrix.\n"
      ],
      "metadata": {
        "id": "7Q3pRfcK3NH_"
      }
    },
    {
      "cell_type": "code",
      "source": [
        "import numpy as np\n",
        "\n",
        "a = np.array([[1,2,3],\n",
        "               [4,5,6],\n",
        "              [7,8,9]])\n",
        "\n",
        "b = np.array([[1,2,3,4],\n",
        "             [5,6,7,8],\n",
        "             [9,10,11,12]])\n",
        "\n",
        "assert a.shape[1] == b.shape[0]\n",
        "\n",
        "\n",
        "# create an array of that size\n",
        "\n",
        "\n",
        "# share Dimentions the same as the rows of the first matrix or columns on the second\n",
        "sharedDim=a.shape[1]\n",
        "\n",
        "aRows=a.shape[0]\n",
        "bColumns=b.shape[1]\n",
        "\n",
        "# create an empty array with the correct shape\n",
        "c=np.zeros([a.shape[0],b.shape[1]])\n",
        "\n",
        "for i in range(aRows):\n",
        "    for j in range(bColumns):\n",
        "      # make an accumulator and then plug it into the correct row, column position in c\n",
        "      print(\"multiplying a\", a[i], \"and b\", b[:,j])\n",
        "      cSum = 0\n",
        "      for k in range(sharedDim):\n",
        "        cSum += a[i][k] * b[k][j]\n",
        "      c[i,j]=cSum\n",
        "    print(\"\\n\")\n",
        "\n",
        "print(c)\n",
        "\n",
        "print(\"\\nchecking results\")\n",
        "\n",
        "np.dot(a,b)"
      ],
      "metadata": {
        "colab": {
          "base_uri": "https://localhost:8080/"
        },
        "id": "3B-PaD634Dna",
        "outputId": "769679ed-2e6c-496d-cbe2-8b5684c3c382"
      },
      "execution_count": null,
      "outputs": [
        {
          "output_type": "stream",
          "name": "stdout",
          "text": [
            "multiplying a [1 2 3] and b [1 5 9]\n",
            "multiplying a [1 2 3] and b [ 2  6 10]\n",
            "multiplying a [1 2 3] and b [ 3  7 11]\n",
            "multiplying a [1 2 3] and b [ 4  8 12]\n",
            "\n",
            "\n",
            "multiplying a [4 5 6] and b [1 5 9]\n",
            "multiplying a [4 5 6] and b [ 2  6 10]\n",
            "multiplying a [4 5 6] and b [ 3  7 11]\n",
            "multiplying a [4 5 6] and b [ 4  8 12]\n",
            "\n",
            "\n",
            "multiplying a [7 8 9] and b [1 5 9]\n",
            "multiplying a [7 8 9] and b [ 2  6 10]\n",
            "multiplying a [7 8 9] and b [ 3  7 11]\n",
            "multiplying a [7 8 9] and b [ 4  8 12]\n",
            "\n",
            "\n",
            "[[ 38.  44.  50.  56.]\n",
            " [ 83.  98. 113. 128.]\n",
            " [128. 152. 176. 200.]]\n",
            "\n",
            "checking results\n"
          ]
        },
        {
          "output_type": "execute_result",
          "data": {
            "text/plain": [
              "array([[ 38,  44,  50,  56],\n",
              "       [ 83,  98, 113, 128],\n",
              "       [128, 152, 176, 200]])"
            ]
          },
          "metadata": {},
          "execution_count": 93
        }
      ]
    }
  ]
}