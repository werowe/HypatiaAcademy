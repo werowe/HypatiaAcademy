{
  "nbformat": 4,
  "nbformat_minor": 0,
  "metadata": {
    "colab": {
      "provenance": [],
      "authorship_tag": "ABX9TyOXUfIKkGYYpkSVt+iXxDz4",
      "include_colab_link": true
    },
    "kernelspec": {
      "name": "python3",
      "display_name": "Python 3"
    },
    "language_info": {
      "name": "python"
    }
  },
  "cells": [
    {
      "cell_type": "markdown",
      "metadata": {
        "id": "view-in-github",
        "colab_type": "text"
      },
      "source": [
        "<a href=\"https://colab.research.google.com/github/werowe/HypatiaAcademy/blob/master/numpy/matrix_multiplication.ipynb\" target=\"_parent\"><img src=\"https://colab.research.google.com/assets/colab-badge.svg\" alt=\"Open In Colab\"/></a>"
      ]
    },
    {
      "cell_type": "markdown",
      "source": [
        "## Matrix Multiplication Easy Explanation and Example\n",
        "\n",
        "\n",
        "This codes shows how to make it easier to understand matrix multiplication.\n",
        "\n",
        "You can think of it like this:\n",
        "\n",
        "* For two matrices: **a** and **b**, for every row in the matrix on the left (a) multiply it by every column in the matrix on the right (b).\n",
        "\n",
        "Each of these multiplication pairs is the multiplication of two vectors. That give you a scalars to plug into the resulting new matrix **c**.\n",
        "\n",
        "###Example\n",
        "In this example, we have a a 3x3 matrix **a** and a 3x4 matrix **b**.\n",
        "\n",
        "You can multiply a times b only when `a.shape[1] = b.shape[0]`, that is the inside numbers.\n",
        "\n",
        "`shape()` is a function in Numpy. It means the number of elements along a **dimension**. A 3x3 matrix has two dimensions (one is called row and the other is called column) with 3 elements along each dimension.\n",
        "\n",
        "The resulting matrix will have shape `([a.shape[0],b.shape[1])`, that is, the outside numbers.\n",
        "\n",
        "If `i` is the number or rows in `a` and `j` is the number of columns in `b` then for each `(i,j)` pair the number that you plug into that location `c[i,j]` is the result of multiplying vector `a[i]` (row) times vector `b[j]` (column).\n",
        "\n",
        "You can see that here where is the print statement shows the first row in a is multiplied by each column in b, plugging the result is plus into empty matrix `c[i,j]`.\n",
        "\n",
        "```\n",
        "multiplying a [1 2 3] and b [1 5 9]\n",
        "multiplying a [1 2 3] and b [ 2 6 10]\n",
        "multiplying a [1 2 3] and b [ 3 7 11]\n",
        "multiplying a [1 2 3] and b [ 4 8 12]\n",
        "```\n",
        "\n",
        "\n",
        "### General Formula for the Product\n",
        "\n",
        "$$\n",
        "C = A \\times B\n",
        "$$\n",
        "\n",
        "$$\n",
        "C_{ij} = \\sum_{k=1}^{3} a_{ik} \\cdot b_{kj}\n",
        "$$\n",
        "\n",
        "Where:\n",
        "- $i$ = row index (1 to 3)\n",
        "- $j$ = column index (1 to 4)\n",
        "- $k$ = index for summing over the shared dimension (1 to 3)\n",
        "\n",
        "---\n",
        "\n",
        "\n",
        "\n",
        "**In short:**  \n",
        "Multiply each row of the 3x3 matrix by each column of the 3x4 matrix, sum the products, and place the result in the corresponding position of the 3x4 product matrix.\n"
      ],
      "metadata": {
        "id": "7Q3pRfcK3NH_"
      }
    },
    {
      "cell_type": "code",
      "source": [
        "import numpy as np\n",
        "\n",
        "a = np.array([[1,2,3],\n",
        "               [4,5,6],\n",
        "              [7,8,9]])\n",
        "\n",
        "b = np.array([[1,2,3,4],\n",
        "             [5,6,7,8],\n",
        "             [9,10,11,12]])\n",
        "\n",
        "assert a.shape[1] == b.shape[0]\n",
        "\n",
        "\n",
        "# shared Dimension is the same as the rows of the first matrix or columns on the second.  We need that number to tell us how may times to do the multiplication for the number to plug into c[i,j]\n",
        "sharedDim=a.shape[1]\n",
        "\n",
        "aRows=a.shape[0]\n",
        "bColumns=b.shape[1]\n",
        "\n",
        "# create an empty array with the correct shape\n",
        "c=np.zeros([a.shape[0],b.shape[1]])\n",
        "\n",
        "for i in range(aRows):\n",
        "    for j in range(bColumns):\n",
        "      # make an accumulator and then plug it into the correct row, column position in c\n",
        "      print(\"multiplying row a\", a[i], \"and column b\", b[:,j], end=\" \")\n",
        "      cSum = 0\n",
        "      for k in range(sharedDim):\n",
        "        cSum += a[i][k] * b[k][j]\n",
        "      c[i,j]=cSum\n",
        "      print(\"put result in location c[{},{}]={}\\n\".format(i, j, c[i,j]))\n",
        "\n",
        "print(\"resulting matrix c\\n\")\n",
        "print(c)\n",
        "\n",
        "print(\"\\n\\nNow use numpy function np.dot to check that the results are correct.\\n\")\n",
        "\n",
        "np.dot(a,b)"
      ],
      "metadata": {
        "colab": {
          "base_uri": "https://localhost:8080/"
        },
        "id": "3B-PaD634Dna",
        "outputId": "43496a37-cd35-4bf3-c6cf-e64aaa335991"
      },
      "execution_count": 16,
      "outputs": [
        {
          "output_type": "stream",
          "name": "stdout",
          "text": [
            "multiplying row a [1 2 3] and column b [1 5 9] put result in location c[0,0]=38.0\n",
            "\n",
            "multiplying row a [1 2 3] and column b [ 2  6 10] put result in location c[0,1]=44.0\n",
            "\n",
            "multiplying row a [1 2 3] and column b [ 3  7 11] put result in location c[0,2]=50.0\n",
            "\n",
            "multiplying row a [1 2 3] and column b [ 4  8 12] put result in location c[0,3]=56.0\n",
            "\n",
            "multiplying row a [4 5 6] and column b [1 5 9] put result in location c[1,0]=83.0\n",
            "\n",
            "multiplying row a [4 5 6] and column b [ 2  6 10] put result in location c[1,1]=98.0\n",
            "\n",
            "multiplying row a [4 5 6] and column b [ 3  7 11] put result in location c[1,2]=113.0\n",
            "\n",
            "multiplying row a [4 5 6] and column b [ 4  8 12] put result in location c[1,3]=128.0\n",
            "\n",
            "multiplying row a [7 8 9] and column b [1 5 9] put result in location c[2,0]=128.0\n",
            "\n",
            "multiplying row a [7 8 9] and column b [ 2  6 10] put result in location c[2,1]=152.0\n",
            "\n",
            "multiplying row a [7 8 9] and column b [ 3  7 11] put result in location c[2,2]=176.0\n",
            "\n",
            "multiplying row a [7 8 9] and column b [ 4  8 12] put result in location c[2,3]=200.0\n",
            "\n",
            "resulting matric c\n",
            "\n",
            "[[ 38.  44.  50.  56.]\n",
            " [ 83.  98. 113. 128.]\n",
            " [128. 152. 176. 200.]]\n",
            "\n",
            "\n",
            "Now use numpy function np.dot to check that the results are correct.\n",
            "\n"
          ]
        },
        {
          "output_type": "execute_result",
          "data": {
            "text/plain": [
              "array([[ 38,  44,  50,  56],\n",
              "       [ 83,  98, 113, 128],\n",
              "       [128, 152, 176, 200]])"
            ]
          },
          "metadata": {},
          "execution_count": 16
        }
      ]
    }
  ]
}