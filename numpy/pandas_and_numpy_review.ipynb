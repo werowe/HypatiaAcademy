{
  "nbformat": 4,
  "nbformat_minor": 0,
  "metadata": {
    "colab": {
      "provenance": [],
      "authorship_tag": "ABX9TyPmXV3/SAwuA8znwImcmamh",
      "include_colab_link": true
    },
    "kernelspec": {
      "name": "python3",
      "display_name": "Python 3"
    },
    "language_info": {
      "name": "python"
    }
  },
  "cells": [
    {
      "cell_type": "markdown",
      "metadata": {
        "id": "view-in-github",
        "colab_type": "text"
      },
      "source": [
        "<a href=\"https://colab.research.google.com/github/werowe/HypatiaAcademy/blob/master/numpy/pandas_and_numpy_review.ipynb\" target=\"_parent\"><img src=\"https://colab.research.google.com/assets/colab-badge.svg\" alt=\"Open In Colab\"/></a>"
      ]
    },
    {
      "cell_type": "markdown",
      "source": [
        "# Homework\n",
        "\n",
        "We need to do a review as we will be using Pandas and Numpy a lot now to do machine learning.  Most important is that you know everything about numpy\n",
        "\n",
        "## Do these numpy operations\n",
        "\n",
        "* convert a pandas dataframe to Numpy.  What does a dataframe have that numpy does not have.  Numpy has no column names and not indexes.\n",
        "\n",
        "You can review this.\n",
        "\n",
        "* https://github.com/werowe/HypatiaAcademy/blob/master/numpy/numpy_tutorial_start.ipynb\n",
        "\n",
        "* https://github.com/werowe/HypatiaAcademy/blob/master/numpy/numpy_dimensions_and_arrays_video.ipynb\n",
        "\n",
        "* https://github.com/werowe/HypatiaAcademy/blob/master/classNotes/14%20july%202021%20numpy%20dimensions%20and%20slicing.ipynb\n",
        "\n",
        "\n",
        "For the homework make up some data or read a Pandas dataframe and convert it to numpy then do items 1 and 2:\n",
        "\n",
        "1. slicing--how to select rows or columns\n",
        "2. reshape--means change from for example shape (4,2) to (8,1)\n",
        "3. how to run a function on elements in a numpy array (We have not covered.  We did with Pandas)\n",
        "\n",
        "\n",
        "\n",
        "\n",
        "\n",
        "\n",
        "# Upcoming Topics\n",
        "\n",
        "We studied:\n",
        "\n",
        "* linear regression y = mx + b\n",
        "* multiple regression y = m1x1 + m2x2 + m3x3 + .... mnxn + b\n",
        "\n",
        "Coming Up:\n",
        "\n",
        "* logistic regression.  yes or no.  If I study 7 hours for a test will I pass.  Yes or No.  \n",
        "\n",
        "* classification.  this means putting similar items together.  \n",
        "\n",
        "* neural network\n",
        "  - image recognition.  take a picture and say what it is\n",
        "  - natural language processing.  like read some text and say if it happy or angry\n",
        "  - regression\n",
        "  - classification\n",
        "\n",
        "**ChatGPT** is a neural network with words instead of numbers.  \n",
        "\n",
        "## Tools that We Used\n",
        "\n",
        "* Google Sheets\n",
        "* numpy functions for regression\n",
        "* scikit-learn\n",
        "\n",
        "We will use:\n",
        "\n",
        "* Keras Neural Networks & TensorFlow\n",
        "\n",
        "\n",
        "\n"
      ],
      "metadata": {
        "id": "pLzmJ_c9gXz-"
      }
    }
  ]
}