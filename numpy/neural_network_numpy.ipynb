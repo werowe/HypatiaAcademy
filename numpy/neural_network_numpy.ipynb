{
  "nbformat": 4,
  "nbformat_minor": 0,
  "metadata": {
    "colab": {
      "provenance": [],
      "authorship_tag": "ABX9TyOdAK+jPKWz2NjLn7aA4WUv",
      "include_colab_link": true
    },
    "kernelspec": {
      "name": "python3",
      "display_name": "Python 3"
    },
    "language_info": {
      "name": "python"
    }
  },
  "cells": [
    {
      "cell_type": "markdown",
      "metadata": {
        "id": "view-in-github",
        "colab_type": "text"
      },
      "source": [
        "<a href=\"https://colab.research.google.com/github/werowe/HypatiaAcademy/blob/master/numpy/neural_network_numpy.ipynb\" target=\"_parent\"><img src=\"https://colab.research.google.com/assets/colab-badge.svg\" alt=\"Open In Colab\"/></a>"
      ]
    },
    {
      "cell_type": "code",
      "source": [
        "# vector (1d)\n",
        "\n",
        "\n",
        "import numpy as np\n",
        "\n",
        "\n",
        "\n",
        "\n",
        "arr=np.array([1,2,3])\n",
        "\n",
        "v=arr\n",
        "\n",
        "arr,arr.ndim,arr.shape"
      ],
      "metadata": {
        "colab": {
          "base_uri": "https://localhost:8080/"
        },
        "id": "EtDRJhbvYLIf",
        "outputId": "73f320e5-9e1d-4de5-bb95-e574f9cc7417"
      },
      "execution_count": 5,
      "outputs": [
        {
          "output_type": "execute_result",
          "data": {
            "text/plain": [
              "(array([1, 2, 3]), 1, (3,))"
            ]
          },
          "metadata": {},
          "execution_count": 5
        }
      ]
    },
    {
      "cell_type": "code",
      "source": [
        "# matric (2d)\n",
        "\n",
        "\n",
        "# 2 dimensional\n",
        "\n",
        "arr=np.array([\n",
        "               [1,2,3],\n",
        "               [4,5,6]\n",
        "              ])\n",
        "\n",
        "d2 = arr\n",
        "\n",
        "print(arr)\n",
        "print(\"\\nndim\", arr.ndim)\n",
        "print(\"\\nshape\",arr.shape)"
      ],
      "metadata": {
        "colab": {
          "base_uri": "https://localhost:8080/"
        },
        "id": "qxL0ellwYR1Z",
        "outputId": "99c16b20-c060-423d-da47-a7863fd5e7f0"
      },
      "execution_count": 6,
      "outputs": [
        {
          "output_type": "stream",
          "name": "stdout",
          "text": [
            "[[1 2 3]\n",
            " [4 5 6]]\n",
            "\n",
            "ndim 2\n",
            "\n",
            "shape (2, 3)\n"
          ]
        }
      ]
    },
    {
      "cell_type": "code",
      "source": [
        "# 3d\n",
        "\n",
        "\n",
        "\n",
        "arr=np.array([\n",
        "           [\n",
        "             [1, 2, 3],\n",
        "             [4, 5, 6],\n",
        "             [7, 8, 9]\n",
        "          ],\n",
        "         [\n",
        "           [1, 2, 3],\n",
        "           [4, 5, 6],\n",
        "          [7, 8, 9]\n",
        "        ],\n",
        "         [\n",
        "           [1, 2, 3],\n",
        "           [4, 5, 6],\n",
        "           [7, 8, 9]\n",
        "           ]\n",
        "        ])\n",
        "\n",
        "d3 = arr\n",
        "\n",
        "print(arr)\n",
        "print(\"\\nndim\", arr.ndim)\n",
        "print(\"\\nshape\",arr.shape)\n",
        "\n",
        "\n",
        "# shape: means number of elements in each dimension\n",
        ""
      ],
      "metadata": {
        "colab": {
          "base_uri": "https://localhost:8080/"
        },
        "id": "rL6sCo3JYUv_",
        "outputId": "44ad002f-988a-4b26-be87-dc760596ab0a"
      },
      "execution_count": 8,
      "outputs": [
        {
          "output_type": "stream",
          "name": "stdout",
          "text": [
            "[[[1 2 3]\n",
            "  [4 5 6]\n",
            "  [7 8 9]]\n",
            "\n",
            " [[1 2 3]\n",
            "  [4 5 6]\n",
            "  [7 8 9]]\n",
            "\n",
            " [[1 2 3]\n",
            "  [4 5 6]\n",
            "  [7 8 9]]]\n",
            "\n",
            "ndim 3\n",
            "\n",
            "shape (3, 3, 3)\n"
          ]
        }
      ]
    },
    {
      "cell_type": "code",
      "source": [
        "def naive_add(x, y):\n",
        "    assert len(x.shape) == 2\n",
        "    assert x.shape == y.shape\n",
        "\n",
        "    x = x.copy()\n",
        "    for i in range(x.shape[0]):\n",
        "        for j in range(x.shape[1]):\n",
        "            x[i, j] += y[i, j]\n",
        "    return x\n"
      ],
      "metadata": {
        "id": "-AxMNnamWPqA"
      },
      "execution_count": 9,
      "outputs": []
    },
    {
      "cell_type": "code",
      "source": [
        "print(\"d2\")\n",
        "print(d2)\n",
        "\n",
        "print (\"\\nd2 + d2\")\n",
        "print(d2 + d2)\n",
        ""
      ],
      "metadata": {
        "colab": {
          "base_uri": "https://localhost:8080/"
        },
        "id": "SBwsS5EigLvU",
        "outputId": "40e190e7-6fd4-489d-9d3f-fb73506ebdcc"
      },
      "execution_count": 13,
      "outputs": [
        {
          "output_type": "stream",
          "name": "stdout",
          "text": [
            "d2\n",
            "[[1 2 3]\n",
            " [4 5 6]]\n",
            "\n",
            "d2 + d2\n",
            "[[ 2  4  6]\n",
            " [ 8 10 12]]\n"
          ]
        }
      ]
    },
    {
      "cell_type": "markdown",
      "source": [
        "# Neural Network Activation Function"
      ],
      "metadata": {
        "id": "VkWPyx7QfwYR"
      }
    },
    {
      "cell_type": "code",
      "execution_count": 15,
      "metadata": {
        "id": "mSfHvt9ZThRo"
      },
      "outputs": [],
      "source": [
        "\n",
        "def naive_relu(x):\n",
        "    assert len(x.shape) == 2\n",
        "\n",
        "    x = x.copy()\n",
        "    for i in range(x.shape[0]):\n",
        "        for j in range(x.shape[1]):\n",
        "            x[i, j] = max(x[i, j], 0)\n",
        "\n",
        "    return x\n",
        "\n",
        "\n"
      ]
    },
    {
      "cell_type": "code",
      "source": [
        "r=naive_relu(d2)\n",
        "r"
      ],
      "metadata": {
        "colab": {
          "base_uri": "https://localhost:8080/"
        },
        "id": "TDFnbLqpgtqW",
        "outputId": "42c0c5de-97ef-4fa3-b53a-3f7b4058bc6d"
      },
      "execution_count": 16,
      "outputs": [
        {
          "output_type": "execute_result",
          "data": {
            "text/plain": [
              "array([[1, 2, 3],\n",
              "       [4, 5, 6]])"
            ]
          },
          "metadata": {},
          "execution_count": 16
        }
      ]
    },
    {
      "cell_type": "markdown",
      "source": [
        "## Mutiply vector by 2-d Array"
      ],
      "metadata": {
        "id": "S7il85nufRIr"
      }
    },
    {
      "cell_type": "code",
      "source": [
        "def naive_vector_dot(x, y):\n",
        "    assert len(x.shape) == 1\n",
        "    assert len(y.shape) == 1\n",
        "    assert x.shape[0] == y.shape[0]\n",
        "\n",
        "    z = 0\n",
        "    for i in range(x.shape[0]):\n",
        "        z += x[i] * y[i]\n",
        "    return z\n",
        "\n"
      ],
      "metadata": {
        "id": "S7EzFd1fXPDq"
      },
      "execution_count": null,
      "outputs": []
    },
    {
      "cell_type": "markdown",
      "source": [
        "##Multiply 2-d Array by 2-d Array\n",
        "\n",
        "```\n",
        "d2 = np.array([\n",
        "        [1 2 3],\n",
        "        [4 5 6]\n",
        "        ])\n",
        "\n",
        "np.dot(d2,d2)\n",
        "\n",
        "\n",
        "ValueError: shapes (2,3) and (2,3) not aligned: 3 (dim 1) != 2 (dim 0)\n",
        "\n",
        "```\n",
        "\n",
        "\n",
        "\n",
        "happens because np.dot(d2, d2) tries to perform matrix multiplication, which requires that the number of columns in the first matrix matches the number of rows in the second matrix."
      ],
      "metadata": {
        "id": "j2K4I96dfcCi"
      }
    },
    {
      "cell_type": "code",
      "source": [
        "d2_2 = d2.T\n",
        "\n",
        "print(d2)\n",
        "\n",
        "print(\"\\n\", d2_2, \"\\n\")\n",
        "\n",
        "np.dot(d2, d2.T)"
      ],
      "metadata": {
        "colab": {
          "base_uri": "https://localhost:8080/"
        },
        "id": "AcRpTXu-g9pc",
        "outputId": "6b388511-2706-4702-c1c2-5cd3ee635f4c"
      },
      "execution_count": 29,
      "outputs": [
        {
          "output_type": "stream",
          "name": "stdout",
          "text": [
            "[[1 2 3]\n",
            " [4 5 6]]\n",
            "\n",
            " [[1 4]\n",
            " [2 5]\n",
            " [3 6]] \n",
            "\n"
          ]
        },
        {
          "output_type": "execute_result",
          "data": {
            "text/plain": [
              "array([[14, 32],\n",
              "       [32, 77]])"
            ]
          },
          "metadata": {},
          "execution_count": 29
        }
      ]
    },
    {
      "cell_type": "markdown",
      "source": [
        "# Broadcasting\n",
        "\n"
      ],
      "metadata": {
        "id": "q0LPlA6BX-NV"
      }
    },
    {
      "cell_type": "markdown",
      "source": [
        "When two arrays are of different shapes one is broadcast onto another.  That means it is copied to fill the other."
      ],
      "metadata": {
        "id": "vDFrMvA9eeXi"
      }
    },
    {
      "cell_type": "code",
      "source": [
        "\n",
        "import numpy as np\n",
        "\n",
        "a = np.array ([1,2,3,4])\n",
        "\n",
        "b = np.array([\n",
        "    [1,2,3,4],\n",
        "    [5,6,7,8]\n",
        "         ])\n",
        "\n",
        "# what is a + b?\n",
        "\n",
        "a + b\n",
        "\n"
      ],
      "metadata": {
        "colab": {
          "base_uri": "https://localhost:8080/"
        },
        "id": "xA6UcaDMYB7G",
        "outputId": "7b06fabc-030e-4e58-91ac-4d2a947cc690"
      },
      "execution_count": 2,
      "outputs": [
        {
          "output_type": "execute_result",
          "data": {
            "text/plain": [
              "array([[ 2,  4,  6,  8],\n",
              "       [ 6,  8, 10, 12]])"
            ]
          },
          "metadata": {},
          "execution_count": 2
        }
      ]
    },
    {
      "cell_type": "code",
      "source": [
        "def naive_add_matrix_and_vector(x, y):\n",
        "    assert len(x.shape) == 2\n",
        "    assert len(y.shape) == 1\n",
        "    assert x.shape[1] == y.shape[0]\n",
        "\n",
        "    x = x.copy()\n",
        "    for i in range(x.shape[0]):\n",
        "        for j in range(x.shape[1]):\n",
        "            x[i, j] += y[j]\n",
        "    return x\n",
        "\n",
        "\n",
        "x=naive_add_matrix_and_vector(b,a)\n",
        "\n",
        "x"
      ],
      "metadata": {
        "colab": {
          "base_uri": "https://localhost:8080/"
        },
        "id": "uGS4vHeqe-TB",
        "outputId": "ef539dc5-56e4-4ed5-8bbc-b4e8d9cc05a8"
      },
      "execution_count": 4,
      "outputs": [
        {
          "output_type": "execute_result",
          "data": {
            "text/plain": [
              "array([[ 2,  4,  6,  8],\n",
              "       [ 6,  8, 10, 12]])"
            ]
          },
          "metadata": {},
          "execution_count": 4
        }
      ]
    }
  ]
}