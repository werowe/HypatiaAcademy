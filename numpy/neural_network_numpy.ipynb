{
  "nbformat": 4,
  "nbformat_minor": 0,
  "metadata": {
    "colab": {
      "provenance": [],
      "authorship_tag": "ABX9TyNPmoKisXf6TSCWIgIkPTCZ",
      "include_colab_link": true
    },
    "kernelspec": {
      "name": "python3",
      "display_name": "Python 3"
    },
    "language_info": {
      "name": "python"
    }
  },
  "cells": [
    {
      "cell_type": "markdown",
      "metadata": {
        "id": "view-in-github",
        "colab_type": "text"
      },
      "source": [
        "<a href=\"https://colab.research.google.com/github/werowe/HypatiaAcademy/blob/master/numpy/neural_network_numpy.ipynb\" target=\"_parent\"><img src=\"https://colab.research.google.com/assets/colab-badge.svg\" alt=\"Open In Colab\"/></a>"
      ]
    },
    {
      "cell_type": "code",
      "source": [
        "# vector (1d)\n",
        "\n",
        "\n",
        "import numpy as np\n",
        "\n",
        "\n",
        "\n",
        "\n",
        "arr=np.array([1,2,3])\n",
        "\n",
        "v=arr\n",
        "\n",
        "arr,arr.ndim,arr.shape"
      ],
      "metadata": {
        "colab": {
          "base_uri": "https://localhost:8080/"
        },
        "id": "EtDRJhbvYLIf",
        "outputId": "ae52ddd4-0d61-4287-d264-27bf21c77002"
      },
      "execution_count": 1,
      "outputs": [
        {
          "output_type": "execute_result",
          "data": {
            "text/plain": [
              "(array([1, 2, 3]), 1, (3,))"
            ]
          },
          "metadata": {},
          "execution_count": 1
        }
      ]
    },
    {
      "cell_type": "code",
      "source": [
        "# matric (2d)\n",
        "\n",
        "\n",
        "# 2 dimensional\n",
        "\n",
        "arr=np.array([\n",
        "               [1,2,3],\n",
        "               [4,5,6]\n",
        "              ])\n",
        "\n",
        "d2 = arr\n",
        "\n",
        "print(arr)\n",
        "print(\"\\nndim\", arr.ndim)\n",
        "print(\"\\nshape\",arr.shape)"
      ],
      "metadata": {
        "colab": {
          "base_uri": "https://localhost:8080/"
        },
        "id": "qxL0ellwYR1Z",
        "outputId": "3fd14d7b-0072-4e80-c991-c77f231ae7e5"
      },
      "execution_count": 2,
      "outputs": [
        {
          "output_type": "stream",
          "name": "stdout",
          "text": [
            "[[1 2 3]\n",
            " [4 5 6]]\n",
            "\n",
            "ndim 2\n",
            "\n",
            "shape (2, 3)\n"
          ]
        }
      ]
    },
    {
      "cell_type": "code",
      "source": [
        "# 3d\n",
        "\n",
        "\n",
        "\n",
        "arr=np.array([\n",
        "           [\n",
        "             [1, 2, 3],\n",
        "             [4, 5, 6],\n",
        "             [7, 8, 9]\n",
        "          ],\n",
        "         [\n",
        "           [1, 2, 3],\n",
        "           [4, 5, 6],\n",
        "          [7, 8, 9]\n",
        "        ],\n",
        "         [\n",
        "           [1, 2, 3],\n",
        "           [4, 5, 6],\n",
        "           [7, 8, 9]\n",
        "           ]\n",
        "        ])\n",
        "\n",
        "d3 = arr\n",
        "\n",
        "print(arr)\n",
        "print(\"\\nndim\", arr.ndim)\n",
        "print(\"\\nshape\",arr.shape)\n",
        "\n",
        "\n",
        "# shape: means number of elements in each dimension\n"
      ],
      "metadata": {
        "colab": {
          "base_uri": "https://localhost:8080/"
        },
        "id": "rL6sCo3JYUv_",
        "outputId": "9353368b-a6c6-4568-accf-59084cf0f3fc"
      },
      "execution_count": 3,
      "outputs": [
        {
          "output_type": "stream",
          "name": "stdout",
          "text": [
            "[[[1 2 3]\n",
            "  [4 5 6]\n",
            "  [7 8 9]]\n",
            "\n",
            " [[1 2 3]\n",
            "  [4 5 6]\n",
            "  [7 8 9]]\n",
            "\n",
            " [[1 2 3]\n",
            "  [4 5 6]\n",
            "  [7 8 9]]]\n",
            "\n",
            "ndim 3\n",
            "\n",
            "shape (3, 3, 3)\n"
          ]
        }
      ]
    },
    {
      "cell_type": "code",
      "source": [
        "def naive_add(x, y):\n",
        "    assert len(x.shape) == 2\n",
        "    assert x.shape == y.shape\n",
        "\n",
        "    x = x.copy()\n",
        "    for i in range(x.shape[0]):\n",
        "        for j in range(x.shape[1]):\n",
        "            x[i, j] += y[i, j]\n",
        "    return x\n"
      ],
      "metadata": {
        "id": "-AxMNnamWPqA"
      },
      "execution_count": 4,
      "outputs": []
    },
    {
      "cell_type": "code",
      "source": [
        "print(\"d2\")\n",
        "print(d2)\n",
        "\n",
        "print (\"\\nd2 + d2\")\n",
        "print(d2 + d2)\n"
      ],
      "metadata": {
        "colab": {
          "base_uri": "https://localhost:8080/"
        },
        "id": "SBwsS5EigLvU",
        "outputId": "47da3caf-a637-454c-967f-fb452d261e1d"
      },
      "execution_count": 5,
      "outputs": [
        {
          "output_type": "stream",
          "name": "stdout",
          "text": [
            "d2\n",
            "[[1 2 3]\n",
            " [4 5 6]]\n",
            "\n",
            "d2 + d2\n",
            "[[ 2  4  6]\n",
            " [ 8 10 12]]\n"
          ]
        }
      ]
    },
    {
      "cell_type": "markdown",
      "source": [
        "# Neural Network Activation Function"
      ],
      "metadata": {
        "id": "VkWPyx7QfwYR"
      }
    },
    {
      "cell_type": "code",
      "execution_count": 6,
      "metadata": {
        "id": "mSfHvt9ZThRo"
      },
      "outputs": [],
      "source": [
        "\n",
        "def naive_relu(x):\n",
        "    assert len(x.shape) == 2\n",
        "\n",
        "    x = x.copy()\n",
        "    for i in range(x.shape[0]):\n",
        "        for j in range(x.shape[1]):\n",
        "            x[i, j] = max(x[i, j], 0)\n",
        "\n",
        "    return x\n",
        "\n",
        "\n"
      ]
    },
    {
      "cell_type": "code",
      "source": [
        "r=naive_relu(d2)\n",
        "r"
      ],
      "metadata": {
        "colab": {
          "base_uri": "https://localhost:8080/"
        },
        "id": "TDFnbLqpgtqW",
        "outputId": "ad2003de-c0e2-4b7a-b429-e15a7ce6a221"
      },
      "execution_count": 7,
      "outputs": [
        {
          "output_type": "execute_result",
          "data": {
            "text/plain": [
              "array([[1, 2, 3],\n",
              "       [4, 5, 6]])"
            ]
          },
          "metadata": {},
          "execution_count": 7
        }
      ]
    },
    {
      "cell_type": "markdown",
      "source": [
        "# Matrix MUltiplcation\n",
        "\n",
        "* For 1D arrays (vectors): Returns the standard dot product (a scalar).\n",
        "\n",
        "* For 2D arrays (matrices): Performs matrix multiplication, i.e., the dot product of rows of the first matrix with columns of the second.\n",
        "\n",
        "* For higher-dimensional arrays: It performs a sum product over the last axis of the first array and the second-to-last axis of the second array.\n",
        "\n",
        "\n",
        "## Mutiply vector by 2-d Array"
      ],
      "metadata": {
        "id": "S7il85nufRIr"
      }
    },
    {
      "cell_type": "code",
      "source": [
        "def naive_vector_dot(x, y):\n",
        "    assert len(x.shape) == 1\n",
        "    assert len(y.shape) == 1\n",
        "    assert x.shape[0] == y.shape[0]\n",
        "\n",
        "    z = 0\n",
        "    for i in range(x.shape[0]):\n",
        "        z += x[i] * y[i]\n",
        "    return z\n",
        "\n"
      ],
      "metadata": {
        "id": "S7EzFd1fXPDq"
      },
      "execution_count": 8,
      "outputs": []
    },
    {
      "cell_type": "markdown",
      "source": [
        "##Multiply 2-d Array by 2-d Array\n",
        "\n",
        "```\n",
        "d2 = np.array([\n",
        "        [1 2 3],\n",
        "        [4 5 6]\n",
        "        ])\n",
        "\n",
        "np.dot(d2,d2)\n",
        "\n",
        "\n",
        "ValueError: shapes (2,3) and (2,3) not aligned: 3 (dim 1) != 2 (dim 0)\n",
        "\n",
        "```\n",
        "\n",
        "\n",
        "\n",
        "happens because np.dot(d2, d2) tries to perform matrix multiplication, which requires that the number of columns in the first matrix matches the number of rows in the second matrix."
      ],
      "metadata": {
        "id": "j2K4I96dfcCi"
      }
    },
    {
      "cell_type": "code",
      "source": [
        "d2_2 = d2.T\n",
        "\n",
        "print(d2)\n",
        "\n",
        "print(\"\\n\", d2_2, \"\\n\")\n",
        "\n",
        "np.dot(d2, d2.T)"
      ],
      "metadata": {
        "colab": {
          "base_uri": "https://localhost:8080/"
        },
        "id": "AcRpTXu-g9pc",
        "outputId": "747c29b1-c31d-4ad9-a612-e46dc5b66583"
      },
      "execution_count": 9,
      "outputs": [
        {
          "output_type": "stream",
          "name": "stdout",
          "text": [
            "[[1 2 3]\n",
            " [4 5 6]]\n",
            "\n",
            " [[1 4]\n",
            " [2 5]\n",
            " [3 6]] \n",
            "\n"
          ]
        },
        {
          "output_type": "execute_result",
          "data": {
            "text/plain": [
              "array([[14, 32],\n",
              "       [32, 77]])"
            ]
          },
          "metadata": {},
          "execution_count": 9
        }
      ]
    },
    {
      "cell_type": "markdown",
      "source": [
        "# Broadcasting\n",
        "\n"
      ],
      "metadata": {
        "id": "q0LPlA6BX-NV"
      }
    },
    {
      "cell_type": "markdown",
      "source": [
        "When two arrays are of different shapes one is broadcast onto another.  That means it is copied to fill the other.\n",
        "\n",
        "Here illustrate with vector and matrix."
      ],
      "metadata": {
        "id": "vDFrMvA9eeXi"
      }
    },
    {
      "cell_type": "code",
      "source": [
        "\n",
        "import numpy as np\n",
        "\n",
        "a = np.array ([1,2,3,4])\n",
        "\n",
        "b = np.array([\n",
        "    [1,2,3,4],\n",
        "    [5,6,7,8]\n",
        "         ])\n",
        "\n",
        "# what is a + b?\n",
        "\n",
        "a + b\n",
        "\n"
      ],
      "metadata": {
        "colab": {
          "base_uri": "https://localhost:8080/"
        },
        "id": "xA6UcaDMYB7G",
        "outputId": "cd5974ba-7859-4058-e2a8-af84341f1e00"
      },
      "execution_count": 14,
      "outputs": [
        {
          "output_type": "execute_result",
          "data": {
            "text/plain": [
              "array([[ 2,  4,  6,  8],\n",
              "       [ 6,  8, 10, 12]])"
            ]
          },
          "metadata": {},
          "execution_count": 14
        }
      ]
    },
    {
      "cell_type": "markdown",
      "source": [
        "See, result is the same when vector is copied."
      ],
      "metadata": {
        "id": "_bQWe8YHMixA"
      }
    },
    {
      "cell_type": "code",
      "source": [
        "# same as\n",
        "import numpy as np\n",
        "\n",
        "a = np.array ([[1,2,3,4],\n",
        "              [1,2,3,4]])\n",
        "\n",
        "b = np.array([\n",
        "    [1,2,3,4],\n",
        "    [5,6,7,8]\n",
        "         ])\n",
        "\n",
        "# what is a + b?\n",
        "\n",
        "a + b\n"
      ],
      "metadata": {
        "id": "IVw59ZJ-MPES",
        "outputId": "36a4fa89-9eaf-485c-d52e-fc4e1dd9af8b",
        "colab": {
          "base_uri": "https://localhost:8080/"
        }
      },
      "execution_count": 17,
      "outputs": [
        {
          "output_type": "execute_result",
          "data": {
            "text/plain": [
              "array([[ 2,  4,  6,  8],\n",
              "       [ 6,  8, 10, 12]])"
            ]
          },
          "metadata": {},
          "execution_count": 17
        }
      ]
    },
    {
      "cell_type": "code",
      "source": [
        "def naive_add_matrix_and_vector(x, y):\n",
        "    assert len(x.shape) == 2\n",
        "    assert len(y.shape) == 1\n",
        "    assert x.shape[1] == y.shape[0]\n",
        "\n",
        "    x = x.copy()\n",
        "    for i in range(x.shape[0]):\n",
        "        for j in range(x.shape[1]):\n",
        "            x[i, j] += y[j]\n",
        "    return x\n",
        "\n",
        "a = np.array ([1,2,3,4])\n",
        "\n",
        "b = np.array([\n",
        "    [1,2,3,4],\n",
        "    [5,6,7,8]\n",
        "         ])\n",
        "\n",
        "\n",
        "x=naive_add_matrix_and_vector(b,a)\n",
        "\n",
        "x"
      ],
      "metadata": {
        "colab": {
          "base_uri": "https://localhost:8080/"
        },
        "id": "uGS4vHeqe-TB",
        "outputId": "0803fc21-ce24-4dd7-f2f4-704faa41974d"
      },
      "execution_count": 19,
      "outputs": [
        {
          "output_type": "execute_result",
          "data": {
            "text/plain": [
              "array([[ 2,  4,  6,  8],\n",
              "       [ 6,  8, 10, 12]])"
            ]
          },
          "metadata": {},
          "execution_count": 19
        }
      ]
    }
  ]
}