{
  "nbformat": 4,
  "nbformat_minor": 0,
  "metadata": {
    "colab": {
      "provenance": [],
      "gpuType": "T4",
      "collapsed_sections": [
        "oEpEBEaY0NPC",
        "vr-j5aAvNywr",
        "fM_BKRGf0ssx",
        "PIerJ3hn1fLG"
      ],
      "include_colab_link": true
    },
    "kernelspec": {
      "name": "python3",
      "display_name": "Python 3"
    },
    "language_info": {
      "name": "python"
    }
  },
  "cells": [
    {
      "cell_type": "markdown",
      "metadata": {
        "id": "view-in-github",
        "colab_type": "text"
      },
      "source": [
        "<a href=\"https://colab.research.google.com/github/werowe/HypatiaAcademy/blob/master/numpy/linear_algebra.ipynb\" target=\"_parent\"><img src=\"https://colab.research.google.com/assets/colab-badge.svg\" alt=\"Open In Colab\"/></a>"
      ]
    },
    {
      "cell_type": "markdown",
      "source": [
        "# Matrix Multiplication: Dot Product"
      ],
      "metadata": {
        "id": "GqwWZ9UtS_ax"
      }
    },
    {
      "cell_type": "code",
      "source": [
        "# scalar times a matrix\n",
        "\n",
        "import numpy as np\n",
        "\n",
        "a=np.array(3)\n",
        "b=np.array([\n",
        "    [1,2,3],\n",
        "    [4,5,6]\n",
        "])\n",
        "\n",
        "np.dot(a,b)"
      ],
      "metadata": {
        "colab": {
          "base_uri": "https://localhost:8080/"
        },
        "id": "8SX5bpATMzks",
        "outputId": "f80b6740-6a23-43af-c509-b31a93278319"
      },
      "execution_count": null,
      "outputs": [
        {
          "output_type": "execute_result",
          "data": {
            "text/plain": [
              "array([[ 3,  6,  9],\n",
              "       [12, 15, 18]])"
            ]
          },
          "metadata": {},
          "execution_count": 28
        }
      ]
    },
    {
      "cell_type": "code",
      "source": [
        "# the dot product of two vectors is a scalar\n",
        "\n",
        "a=np.array([1,2,3])\n",
        "b=np.array([4,5,6])\n",
        "\n",
        "\n",
        "np.dot(a,b)"
      ],
      "metadata": {
        "colab": {
          "base_uri": "https://localhost:8080/"
        },
        "id": "5cvZ2L0ZNDPm",
        "outputId": "8a3582b7-6847-42df-c04c-61145a13fc36"
      },
      "execution_count": null,
      "outputs": [
        {
          "output_type": "execute_result",
          "data": {
            "text/plain": [
              "np.int64(32)"
            ]
          },
          "metadata": {},
          "execution_count": 29
        }
      ]
    },
    {
      "cell_type": "code",
      "source": [
        "# same as\n",
        "1*4+2*5+3*6"
      ],
      "metadata": {
        "colab": {
          "base_uri": "https://localhost:8080/"
        },
        "id": "COOtNdisNL2W",
        "outputId": "ced67a05-74ea-4710-8984-583b11693ce3"
      },
      "execution_count": null,
      "outputs": [
        {
          "output_type": "execute_result",
          "data": {
            "text/plain": [
              "32"
            ]
          },
          "metadata": {},
          "execution_count": 31
        }
      ]
    },
    {
      "cell_type": "code",
      "source": [
        "a=np.array([1,2,3])\n",
        "\n",
        "b=np.array([4,\n",
        "            5,\n",
        "            6])\n",
        "\n",
        "np.dot(a,b)"
      ],
      "metadata": {
        "colab": {
          "base_uri": "https://localhost:8080/"
        },
        "id": "mMS8_MojNbhO",
        "outputId": "d304ec2d-6510-417c-ea2b-778f9549325e"
      },
      "execution_count": null,
      "outputs": [
        {
          "output_type": "execute_result",
          "data": {
            "text/plain": [
              "np.int64(32)"
            ]
          },
          "metadata": {},
          "execution_count": 32
        }
      ]
    },
    {
      "cell_type": "code",
      "source": [
        "# multiple a vector and a matrix\n",
        "\n",
        "a=np.array([1,2,3])\n",
        "\n",
        "b=np.array([[4,7],\n",
        "            [5,8],\n",
        "            [6,9]])\n",
        "\n",
        "np.dot(a,b)"
      ],
      "metadata": {
        "colab": {
          "base_uri": "https://localhost:8080/"
        },
        "id": "XISY9NLHNi5k",
        "outputId": "e8efc74e-db57-449b-b387-5463940a9e03"
      },
      "execution_count": null,
      "outputs": [
        {
          "output_type": "execute_result",
          "data": {
            "text/plain": [
              "array([32, 50])"
            ]
          },
          "metadata": {},
          "execution_count": 33
        }
      ]
    },
    {
      "cell_type": "code",
      "source": [
        "# mutiply two matrics\n",
        "\n",
        "#The number of columns in the first matrix (a.shape) must equal the number of rows in the second matrix (b.shape)\n",
        "\n",
        "#The resulting matrix has dimensions (rows of a , columns of b).\n",
        "\n",
        "\n",
        "\n",
        "a=np.array([\n",
        "            [1,2,3],\n",
        "            [1,2,3]\n",
        "            ])\n",
        "\n",
        "b=np.array([[4,7],\n",
        "            [5,8],\n",
        "            [6,9]])\n",
        "\n",
        "print(\"a\", a, \"\\na.shape=\", a.shape, \"\\na.ndim\", a.ndim)\n",
        "print(\"\\nb\", b, \"\\nb.shape=\", b.shape,\"\\nb.ndim\", b.ndim)\n",
        "\n",
        "\n",
        "assert a.shape[0] == b.shape[1]\n",
        "\n",
        "print(\"\\nnp.dot(a,b)\", np.dot(a,b))\n"
      ],
      "metadata": {
        "colab": {
          "base_uri": "https://localhost:8080/"
        },
        "id": "DpPxNGQXNu0q",
        "outputId": "01b3b100-0cf2-414b-f145-b0d6462ac076"
      },
      "execution_count": null,
      "outputs": [
        {
          "output_type": "stream",
          "name": "stdout",
          "text": [
            "a [[1 2 3]\n",
            " [1 2 3]] \n",
            "a.shape= (2, 3) \n",
            "a.ndim 2\n",
            "\n",
            "b [[4 7]\n",
            " [5 8]\n",
            " [6 9]] \n",
            "b.shape= (3, 2) \n",
            "b.ndim 2\n",
            "\n",
            "np.dot(a,b) [[32 50]\n",
            " [32 50]]\n"
          ]
        }
      ]
    },
    {
      "cell_type": "markdown",
      "source": [
        "# Matrix Multiplication: matmul\n",
        "\n",
        "| Feature                            | `np.dot`                                                | `np.matmul` (and `@` operator)                |\n",
        "|-------------------------------------|--------------------------------------------------------|-----------------------------------------------|\n",
        "| **1D arrays**                      | Computes vector dot product                            | Computes vector dot product                   |\n",
        "| **2D arrays**                      | Matrix multiplication                                  | Matrix multiplication                         |\n",
        "| **N-D arrays (N > 2)**             | Sums products over the last axis of the first array and the second-to-last axis of the second array (can lead to unintuitive results) | Performs matrix multiplication over the last two axes, broadcasting batch dimensions (more intuitive for stacks of matrices/tensors) |\n",
        "| **Broadcasting (batch dimensions)**| No broadcasting for stacks of matrices                 | Yes, supports broadcasting for leading (batch) dimensions |\n",
        "| **Scalar multiplication**          | Allowed                                                | Not allowed (use `*` for elementwise)         |\n",
        "| **Elementwise multiplication**      | Not supported (use `np.multiply` or `*`)               | Not supported (use `np.multiply` or `*`)      |\n"
      ],
      "metadata": {
        "id": "1kwxUd9uXQCO"
      }
    },
    {
      "cell_type": "code",
      "source": [
        "\n",
        "\n",
        "a=np.array([[1,2,3],\n",
        "           [4,5,6]])\n",
        "\n",
        "b=a\n",
        "\n",
        "np.matmul(a,b.T)"
      ],
      "metadata": {
        "colab": {
          "base_uri": "https://localhost:8080/"
        },
        "id": "7SLh83RPXXzs",
        "outputId": "ba85cc64-bd7e-4069-88e9-b070dbe0081e"
      },
      "execution_count": null,
      "outputs": [
        {
          "output_type": "execute_result",
          "data": {
            "text/plain": [
              "array([[14, 32],\n",
              "       [32, 77]])"
            ]
          },
          "metadata": {},
          "execution_count": 97
        }
      ]
    },
    {
      "cell_type": "markdown",
      "source": [
        "# Broadcasting\n",
        "\n",
        "**Basic Rule**:\n",
        "Two dimensions are compatible when:\n",
        "\n",
        "*They are equal, or\n",
        "\n",
        "* One of them is 1\n",
        "\n",
        "the smaller tensor will be broadcasted to match the shape of the larger tensor. Broadcasting consists of two steps:\n",
        "\n",
        "1. Axes (called broadcast axes) are added to the smaller tensor to match the ndim of the larger tensor.\n",
        "2. The smaller tensor is repeated alongside these new axes to match the full shape of the larger tensor.\n",
        "\n",
        "Broadcasting allows arrays of different shapes to be used together in arithmetic operations (addition, multiplication, etc.) by automatically expanding the smaller array along dimensions of size one or missing dimensions, so their shapes become compatible\n",
        "\n",
        "## Example np.matmul with 2D and 1D arrays\n",
        "\n",
        "Rule for np.matmul with 2D and 1D arrays:\n",
        "NumPy treats the 1D array b as a column vector (shape (3, 1)) for the operation, then removes the trailing dimension from the result."
      ],
      "metadata": {
        "id": "7Kt0-MOIS4aW"
      }
    },
    {
      "cell_type": "code",
      "source": [
        "import numpy as np\n",
        "\n",
        "a = np.array([\n",
        "                      [1,1,1],\n",
        "                      [2,2,2],\n",
        "                      [3,3,3]\n",
        "                      ])\n",
        "\n",
        "b = np.array([4,5,6])\n",
        "\n",
        "print(\"\\na.shape\",a.shape, \"a.ndim\", a.ndim)\n",
        "print(\"\\nb.shape\",b.shape, \"b.ndim\", b.ndim)\n",
        "\n",
        "print(\"\\na\", a)\n",
        "\n",
        "print(\"\\nb\", b)\n",
        "\n",
        "\n",
        "print(\"\\nnp.matmul(a,b)\", np.matmul(a,b))\n",
        "\n",
        "\n"
      ],
      "metadata": {
        "colab": {
          "base_uri": "https://localhost:8080/"
        },
        "id": "uJHaWAxQTGN8",
        "outputId": "edfb81d4-e7e6-455e-84bb-d9516f1ef499"
      },
      "execution_count": null,
      "outputs": [
        {
          "output_type": "stream",
          "name": "stdout",
          "text": [
            "\n",
            "a.shape (3, 3) a.ndim 2\n",
            "\n",
            "b.shape (3,) b.ndim 1\n",
            "\n",
            "a [[1 1 1]\n",
            " [2 2 2]\n",
            " [3 3 3]]\n",
            "\n",
            "b [4 5 6]\n",
            "\n",
            "np.matmul(a,b) [15 30 45]\n"
          ]
        }
      ]
    },
    {
      "cell_type": "markdown",
      "source": [
        "#Explanation\n",
        "\n",
        "Implicit reshaping of b for matmul:\n",
        "NumPy treats b as a column vector with shape (3, 1) for the operation.\n",
        "\n",
        "1. First row of a:\n",
        "\n",
        "$$1*4 + 1*5 + 1*6 = 4 + 5 + 6 = 15$$\n",
        "\n",
        "\n",
        "2. Second row of a:\n",
        "\n",
        "$$2*4 + 2*5 + 2*6 = 8 + 10 + 12 = 30$$\n",
        "\n",
        "3. Third row of a:\n",
        "\n",
        "$$3*4 + 3*5 + 3*6 = 12 + 15 + 18 = 45$$\n",
        "\n"
      ],
      "metadata": {
        "id": "8CV9egpBZvkj"
      }
    },
    {
      "cell_type": "markdown",
      "source": [
        "# The Same\n",
        "\n",
        "This is the same as:\n",
        "\n",
        "1. Add a dimension to b so that it goes from (3,) to (3, 1).\n",
        "(This turns b into a column vector.)\n",
        "\n",
        "2. Perform np.matmul(a, b), which multiplies each row of a by the corresponding element of b and sums the results (i.e., computes the dot product of each row of a with b).\n",
        "\n",
        "\n",
        "3. Remove the singleton dimension from the result, so the output shape goes from (3, 1) to (3,).\n"
      ],
      "metadata": {
        "id": "2pSHfyWbb4pm"
      }
    },
    {
      "cell_type": "code",
      "source": [
        "import numpy as np\n",
        "\n",
        "a = np.array([\n",
        "                      [1,1,1],\n",
        "                      [2,2,2],\n",
        "                      [3,3,3]\n",
        "                      ])\n",
        "\n",
        "b = np.array([\n",
        "        [4],\n",
        "         [5],\n",
        "         [6]\n",
        "        ])\n",
        "\n",
        "print(\"\\na.shape\",a.shape, \"a.ndim\", a.ndim)\n",
        "print(\"\\nb.shape\",b.shape, \"b.ndim\", b.ndim)\n",
        "\n",
        "print(\"\\na\", a)\n",
        "\n",
        "print(\"\\nb\", b)\n",
        "\n",
        "\n",
        "# remove all dimensions of size 1\n",
        "\n",
        "print(\"\\nnp.matmul(a,b)\", np.squeeze(np.matmul(a,b)))"
      ],
      "metadata": {
        "colab": {
          "base_uri": "https://localhost:8080/"
        },
        "id": "Yi8PPNtyaw05",
        "outputId": "121b596e-bfec-4007-c94f-67e387d7d112"
      },
      "execution_count": null,
      "outputs": [
        {
          "output_type": "stream",
          "name": "stdout",
          "text": [
            "\n",
            "a.shape (3, 3) a.ndim 2\n",
            "\n",
            "b.shape (3, 1) b.ndim 2\n",
            "\n",
            "a [[1 1 1]\n",
            " [2 2 2]\n",
            " [3 3 3]]\n",
            "\n",
            "b [[4]\n",
            " [5]\n",
            " [6]]\n",
            "\n",
            "np.matmul(a,b) [15 30 45]\n"
          ]
        }
      ]
    },
    {
      "cell_type": "markdown",
      "source": [
        "# Addition\n",
        "\n"
      ],
      "metadata": {
        "id": "2ByrQ40QZ9Kg"
      }
    },
    {
      "cell_type": "code",
      "source": [
        "#Here, b is broadcast to match the shape of a (copied for each row)\n",
        "\n",
        "import numpy as np\n",
        "\n",
        "a = np.array([[1,2,3],\n",
        "              [4,5,6]])\n",
        "\n",
        "b = np.array([10,20,30])\n",
        "\n",
        "print(a.ndim, b.ndim)\n",
        "\n",
        "\n",
        "\n",
        "a + b\n",
        ""
      ],
      "metadata": {
        "id": "wLYibmYGZ_ZH",
        "outputId": "6a9236f6-3910-451a-e466-1855e419989e",
        "colab": {
          "base_uri": "https://localhost:8080/"
        }
      },
      "execution_count": 3,
      "outputs": [
        {
          "output_type": "stream",
          "name": "stdout",
          "text": [
            "2 1\n"
          ]
        },
        {
          "output_type": "execute_result",
          "data": {
            "text/plain": [
              "array([[11, 22, 33],\n",
              "       [14, 25, 36]])"
            ]
          },
          "metadata": {},
          "execution_count": 3
        }
      ]
    }
  ]
}