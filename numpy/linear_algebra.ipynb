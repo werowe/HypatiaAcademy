{
  "nbformat": 4,
  "nbformat_minor": 0,
  "metadata": {
    "colab": {
      "provenance": [],
      "authorship_tag": "ABX9TyMJXEcF6gIDKw84lx7RfzoG",
      "include_colab_link": true
    },
    "kernelspec": {
      "name": "python3",
      "display_name": "Python 3"
    },
    "language_info": {
      "name": "python"
    }
  },
  "cells": [
    {
      "cell_type": "markdown",
      "metadata": {
        "id": "view-in-github",
        "colab_type": "text"
      },
      "source": [
        "<a href=\"https://colab.research.google.com/github/werowe/HypatiaAcademy/blob/master/numpy/linear_algebra.ipynb\" target=\"_parent\"><img src=\"https://colab.research.google.com/assets/colab-badge.svg\" alt=\"Open In Colab\"/></a>"
      ]
    },
    {
      "cell_type": "markdown",
      "source": [
        "# Linear Algebra\n",
        "Here we explain how to add and multiply vectors and matrices.  These operations are called **linear algebra**\n",
        "\n",
        "> Credit.  Much of this material is adapted from Deep Learning with Python, Third Edition  François Chollet and Matthew Watson.  \n",
        "\n"
      ],
      "metadata": {
        "id": "LFxiJ48ET88B"
      }
    },
    {
      "cell_type": "markdown",
      "source": [
        "## Addition\n",
        "\n",
        "Just add each element in row, column position to the element in the same position in the second matrix."
      ],
      "metadata": {
        "id": "VzgOchaDuV1O"
      }
    },
    {
      "cell_type": "code",
      "source": [
        "import numpy as np\n",
        "np.set_printoptions(suppress=True)\n",
        "\n",
        "x = np.array([[1,2],\n",
        "              [3,4]])\n",
        "\n",
        "y = np.array([[5,6],\n",
        "              [7,8]])\n"
      ],
      "metadata": {
        "id": "GceutI2Et8Rj"
      },
      "execution_count": null,
      "outputs": []
    },
    {
      "cell_type": "code",
      "source": [
        "x + y"
      ],
      "metadata": {
        "colab": {
          "base_uri": "https://localhost:8080/"
        },
        "id": "nbqmdt8lupYy",
        "outputId": "cf338048-4d72-49da-bda9-0b682d145c5c"
      },
      "execution_count": null,
      "outputs": [
        {
          "output_type": "execute_result",
          "data": {
            "text/plain": [
              "array([[ 6,  8],\n",
              "       [10, 12]])"
            ]
          },
          "metadata": {},
          "execution_count": 3
        }
      ]
    },
    {
      "cell_type": "code",
      "source": [
        "# Add Two Matrices times a Matrix\n",
        "\n",
        "\n",
        "x = np.array([[1, 2],\n",
        "              [3, 4]])\n",
        "\n",
        "y = np.array([[5, 6],\n",
        "               [7, 8]])\n",
        "\n",
        "x + y"
      ],
      "metadata": {
        "colab": {
          "base_uri": "https://localhost:8080/"
        },
        "id": "S3UrfQMNVAvA",
        "outputId": "cf058dfe-004a-404c-fea6-4ba533655436"
      },
      "execution_count": null,
      "outputs": [
        {
          "output_type": "execute_result",
          "data": {
            "text/plain": [
              "array([[ 6,  8],\n",
              "       [10, 12]])"
            ]
          },
          "metadata": {},
          "execution_count": 4
        }
      ]
    },
    {
      "cell_type": "markdown",
      "source": [
        "### Add a Vector to an Matrix\n",
        "\n",
        "Here we have use the idea of **broadcasting**"
      ],
      "metadata": {
        "id": "q8Nw9g5uvPR8"
      }
    },
    {
      "cell_type": "code",
      "source": [
        " # can't add because dimensions are different\n",
        " x = np.array([[1, 2],\n",
        "              [3, 4]])\n",
        "\n",
        " y = np.array([5, 6])\n",
        "\n",
        " x + y"
      ],
      "metadata": {
        "colab": {
          "base_uri": "https://localhost:8080/"
        },
        "id": "sTsoiMpMVREx",
        "outputId": "e8bfc81e-e71c-4b64-ba23-ce68eda1efd5"
      },
      "execution_count": null,
      "outputs": [
        {
          "output_type": "execute_result",
          "data": {
            "text/plain": [
              "array([[ 6,  8],\n",
              "       [ 8, 10]])"
            ]
          },
          "metadata": {},
          "execution_count": 5
        }
      ]
    },
    {
      "cell_type": "code",
      "source": [
        "# notice that an extra dimension is added, notice the [[]] number of brackets\n",
        "\n",
        "y = np.expand_dims(y, axis=0)\n",
        "y"
      ],
      "metadata": {
        "colab": {
          "base_uri": "https://localhost:8080/"
        },
        "id": "2Jn3iwzPvevs",
        "outputId": "0e04bb3e-e7ff-4189-9970-79d1ea5ebf2d"
      },
      "execution_count": null,
      "outputs": [
        {
          "output_type": "execute_result",
          "data": {
            "text/plain": [
              "array([[5, 6]])"
            ]
          },
          "metadata": {},
          "execution_count": 6
        }
      ]
    },
    {
      "cell_type": "code",
      "source": [
        "# When the actual addition is done y's first row is copied to the second, i.e., broadcast"
      ],
      "metadata": {
        "id": "YsIMll5Gv2Zc"
      },
      "execution_count": null,
      "outputs": []
    },
    {
      "cell_type": "code",
      "source": [
        "x + y"
      ],
      "metadata": {
        "colab": {
          "base_uri": "https://localhost:8080/"
        },
        "id": "4ban7hi4voEc",
        "outputId": "948dbcfc-3919-42d4-abf4-8f823394652e"
      },
      "execution_count": null,
      "outputs": [
        {
          "output_type": "execute_result",
          "data": {
            "text/plain": [
              "array([[ 6,  8],\n",
              "       [ 8, 10]])"
            ]
          },
          "metadata": {},
          "execution_count": 8
        }
      ]
    },
    {
      "cell_type": "code",
      "source": [
        "#It's the same as:\n",
        "\n",
        "x = np.array([[1, 2],\n",
        "              [3, 4]])\n",
        "\n",
        "y = np.array([[5, 6],\n",
        "              [5,6]])\n",
        "\n",
        "x + y"
      ],
      "metadata": {
        "colab": {
          "base_uri": "https://localhost:8080/"
        },
        "id": "UvfpIKyuv_4f",
        "outputId": "97a32a58-2643-43f6-eb38-71837e93cc0c"
      },
      "execution_count": null,
      "outputs": [
        {
          "output_type": "execute_result",
          "data": {
            "text/plain": [
              "array([[ 6,  8],\n",
              "       [ 8, 10]])"
            ]
          },
          "metadata": {},
          "execution_count": 9
        }
      ]
    },
    {
      "cell_type": "markdown",
      "source": [
        "\n",
        "# Multiplication\n",
        "\n",
        "There are 4 cases:\n",
        "\n",
        "1.  Scalar times a vector\n",
        "\n",
        "2.  Vector times a vector\n",
        "\n",
        "3.  Vector times a matrix\n",
        "\n",
        "4.  Matrix times a matrix\n"
      ],
      "metadata": {
        "id": "dT861851r_wA"
      }
    },
    {
      "cell_type": "markdown",
      "source": [
        "### Scalar times a vector\n",
        "\n"
      ],
      "metadata": {
        "id": "pb-XdHGh93A2"
      }
    },
    {
      "cell_type": "code",
      "source": [
        "x = np.array([1,2,3])\n",
        "\n",
        "2 * x"
      ],
      "metadata": {
        "colab": {
          "base_uri": "https://localhost:8080/"
        },
        "id": "WjWG1VuD94JE",
        "outputId": "19529831-77a7-42c7-dec0-63748fc546cb"
      },
      "execution_count": null,
      "outputs": [
        {
          "output_type": "execute_result",
          "data": {
            "text/plain": [
              "array([2, 4, 6])"
            ]
          },
          "metadata": {},
          "execution_count": 10
        }
      ]
    },
    {
      "cell_type": "markdown",
      "source": [
        "### Mutiply two Vectors\n",
        "\n",
        "This results in a scalar, i.e., a single number"
      ],
      "metadata": {
        "id": "xdLzU0m8w2R-"
      }
    },
    {
      "cell_type": "code",
      "source": [
        "# below same as\n",
        "\n",
        "import numpy as np\n",
        "\n",
        "# make vertical to make easier to see as a column\n",
        "\n",
        "x = np.array([1,\n",
        "              2,\n",
        "              3])\n",
        "\n",
        "y = np.array([4,5,6])\n",
        "\n",
        "d = 0\n",
        "\n",
        "for i in range(x.shape[0]):\n",
        "    d = d + x[i]* y[i]\n",
        "d\n"
      ],
      "metadata": {
        "colab": {
          "base_uri": "https://localhost:8080/"
        },
        "id": "mqVBmLbGew1n",
        "outputId": "01556692-c831-49e0-c901-f3982f7fca5b"
      },
      "execution_count": 9,
      "outputs": [
        {
          "output_type": "execute_result",
          "data": {
            "text/plain": [
              "np.int64(32)"
            ]
          },
          "metadata": {},
          "execution_count": 9
        }
      ]
    },
    {
      "cell_type": "code",
      "source": [
        "x = np.array([1,2,3])\n",
        "y = np.array([4,5,6])\n",
        "\n",
        "np.dot(x,y)\n"
      ],
      "metadata": {
        "colab": {
          "base_uri": "https://localhost:8080/"
        },
        "id": "MAzBCqnDw8JU",
        "outputId": "01d02e34-49e6-4396-f1d6-b3e1bec26961"
      },
      "execution_count": 5,
      "outputs": [
        {
          "output_type": "execute_result",
          "data": {
            "text/plain": [
              "np.int64(32)"
            ]
          },
          "metadata": {},
          "execution_count": 5
        }
      ]
    },
    {
      "cell_type": "code",
      "source": [
        "# this is the same as\n",
        "\n",
        "1 * 4 + 2 * 5 + 3 * 6"
      ],
      "metadata": {
        "colab": {
          "base_uri": "https://localhost:8080/"
        },
        "id": "6fSPl-JoxTrO",
        "outputId": "c4bdccf5-c30c-4ae9-9bdd-142da892dc5c"
      },
      "execution_count": null,
      "outputs": [
        {
          "output_type": "execute_result",
          "data": {
            "text/plain": [
              "32"
            ]
          },
          "metadata": {},
          "execution_count": 12
        }
      ]
    },
    {
      "cell_type": "markdown",
      "source": [
        "### Mutiply two Arrays\n",
        "\n",
        "You can also take the product between a matrix x and a vector y, which returns a vector where the coefficients are the products between y and the rows of x. You implement it as follows.\n",
        "\n"
      ],
      "metadata": {
        "id": "7fKSRkUjw8oG"
      }
    },
    {
      "cell_type": "code",
      "source": [
        "matrix = np.array([[1, 2],\n",
        "                   [3, 4]])\n",
        "\n",
        "print(\"matrix shape\", matrix.shape)\n",
        "\n",
        "vector = np.array([10, 20])\n",
        "\n",
        "print(\"\\nvector shape\", vector.shape, \"\\n\")\n",
        "\n"
      ],
      "metadata": {
        "colab": {
          "base_uri": "https://localhost:8080/"
        },
        "id": "uD67HNPYx3vr",
        "outputId": "66b970cf-689a-4382-8362-f4bc0e959a15"
      },
      "execution_count": null,
      "outputs": [
        {
          "output_type": "stream",
          "name": "stdout",
          "text": [
            "matrix shape (2, 2)\n",
            "\n",
            "vector shape (2,) \n",
            "\n"
          ]
        }
      ]
    },
    {
      "cell_type": "code",
      "source": [
        "#the coefficients are the products between vector and the rows of matrix\n",
        "\n",
        "np.dot(matrix,vector)\n",
        "\n"
      ],
      "metadata": {
        "colab": {
          "base_uri": "https://localhost:8080/"
        },
        "id": "QJxLJod2y3U2",
        "outputId": "b233fead-0863-4136-c579-c1a6d8b1c107"
      },
      "execution_count": null,
      "outputs": [
        {
          "output_type": "execute_result",
          "data": {
            "text/plain": [
              "array([ 50, 110])"
            ]
          },
          "metadata": {},
          "execution_count": 14
        }
      ]
    },
    {
      "cell_type": "code",
      "source": [
        "# in other words it's,\n",
        "\n",
        "np.array([np.dot(vector, matrix[0]), np.dot(vector, matrix[1])])\n",
        "\n"
      ],
      "metadata": {
        "colab": {
          "base_uri": "https://localhost:8080/"
        },
        "id": "e3xPCyumzeEq",
        "outputId": "186ccf1c-dbab-41de-8e14-a082ece56485"
      },
      "execution_count": null,
      "outputs": [
        {
          "output_type": "execute_result",
          "data": {
            "text/plain": [
              "array([ 50, 110])"
            ]
          },
          "metadata": {},
          "execution_count": 15
        }
      ]
    },
    {
      "cell_type": "markdown",
      "source": [
        "## Multiply Two Matrices\n",
        "\n",
        " You can take the product of two matrices x and y if and only if x.shape[1] == y.shape[0]. The result is a matrix with shape (x.shape[0], y.shape[1]), where the coefficients are the vector products between the rows of x and the columns of y.\n",
        "\n",
        " Below is the code.  Below that is a step-by-step explanation."
      ],
      "metadata": {
        "id": "Xwwzd70_0PRd"
      }
    },
    {
      "cell_type": "code",
      "source": [
        "# this is just vector times vector\n",
        "\n",
        "\n",
        "x = np.array([[1,2,3],\n",
        "              [3,4,5]])\n",
        "\n",
        "y = np.array([[5,6],\n",
        "              [7,8],\n",
        "              [9,10]])\n",
        "\n",
        "# this is the same as rows of x times columns of y\n",
        "\n",
        "# i.e. [1,2,3] * [5,7,9]\n",
        "#      [3,4,5] * [6,8,10]\n",
        "\n",
        "print(x[0])\n",
        "print(y[:,0])\n",
        "\n",
        "xy=np.dot(x[0],y[:,0])\n",
        "print(xy)\n",
        "\n",
        "\n",
        "#multiple row of each by column of second.  so obviously them just have same length\n",
        "\n",
        "print(\"x.shape=\", x.shape)\n",
        "print(\"y.shape=\", y.shape)\n",
        "\n",
        "assert x.shape[1] == y.shape[0]\n",
        "\n",
        "sum = np.zeros([x.shape[0],y.shape[1]])\n",
        "print(\"\\nmake empty array of y shape=\", sum)\n",
        "\n",
        "\n",
        "\n",
        "\n",
        "for i in range(x.shape[0]):\n",
        "  for j in range(y.shape[1]):\n",
        "    print(\"\\ni=\",i,\"j=\",j)\n",
        "    print(\"row\", x[i])\n",
        "    print(\"column\", y[:,j])\n",
        "    #multiply the two vectors\n",
        "    xy=np.dot(x[i],y[:,j])\n",
        "    #add to array in correct row-column location\n",
        "    sum[i,j]=xy\n",
        "    print(xy)\n",
        "    print(\"\\n======next column==========\")\n",
        "  print(\"\\n======next row==========\")\n",
        "\n",
        "print(sum)\n",
        "\n"
      ],
      "metadata": {
        "colab": {
          "base_uri": "https://localhost:8080/"
        },
        "id": "nPkdlKRGffi2",
        "outputId": "295770e1-43f3-4c40-bc5f-575dc4009749"
      },
      "execution_count": 60,
      "outputs": [
        {
          "output_type": "stream",
          "name": "stdout",
          "text": [
            "[1 2 3]\n",
            "[5 7 9]\n",
            "46\n",
            "x.shape= (2, 3)\n",
            "y.shape= (3, 2)\n",
            "\n",
            "make empty array of y shape= [[0. 0.]\n",
            " [0. 0.]]\n",
            "\n",
            "i= 0 j= 0\n",
            "row [1 2 3]\n",
            "column [5 7 9]\n",
            "46\n",
            "\n",
            "======next column==========\n",
            "\n",
            "i= 0 j= 1\n",
            "row [1 2 3]\n",
            "column [ 6  8 10]\n",
            "52\n",
            "\n",
            "======next column==========\n",
            "\n",
            "======next row==========\n",
            "\n",
            "i= 1 j= 0\n",
            "row [3 4 5]\n",
            "column [5 7 9]\n",
            "88\n",
            "\n",
            "======next column==========\n",
            "\n",
            "i= 1 j= 1\n",
            "row [3 4 5]\n",
            "column [ 6  8 10]\n",
            "100\n",
            "\n",
            "======next column==========\n",
            "\n",
            "======next row==========\n",
            "[[ 46.  52.]\n",
            " [ 88. 100.]]\n"
          ]
        }
      ]
    },
    {
      "cell_type": "code",
      "source": [
        "x = np.array([[1,2,3],\n",
        "              [3,4,5]])\n",
        "\n",
        "y = np.array([[5,6],\n",
        "              [7,8],\n",
        "              [9,10]])\n",
        "\n",
        "# check that number of rows in x is equal to the number of columns in y\n",
        "\n",
        "print(\"shapes \", x.shape, y.shape, \"\\n\")\n",
        "\n",
        "assert x.shape[1] == y.shape[0]\n",
        "\n",
        "\n",
        "np.dot(x,y)"
      ],
      "metadata": {
        "id": "t-m5BgXdySoR",
        "colab": {
          "base_uri": "https://localhost:8080/"
        },
        "outputId": "5eb2ad92-3890-4ea9-af43-240dc8ef67e0"
      },
      "execution_count": null,
      "outputs": [
        {
          "output_type": "stream",
          "name": "stdout",
          "text": [
            "shapes  (2, 3) (3, 2) \n",
            "\n"
          ]
        },
        {
          "output_type": "execute_result",
          "data": {
            "text/plain": [
              "array([[ 46,  52],\n",
              "       [ 88, 100]])"
            ]
          },
          "metadata": {},
          "execution_count": 16
        }
      ]
    },
    {
      "cell_type": "markdown",
      "source": [
        "## Step 1: Understand Matrix Dimensions\n",
        "x has shape 2x3 (2 rows, 3 columns)\n",
        "\n",
        "y has shape 3x2 (3 rows, 2 columns)\n",
        "\n",
        "The product np.dot(x,y) will have shape (2,2) (rows of x , columns of y).\n",
        "\n",
        "#Step 2: Compute Each Element of the Result\n",
        "Each element in the resulting matrix is the dot product of a row from x and a column from y.\n",
        "\n",
        "**First Row of Result**:\n",
        "First element (46):\n",
        "Row 1 of x · Column 1 of y\n",
        "\n",
        "$$(1×5) + (2×7) + (3×9) = 5 + 14 + 27 = 46$$\n",
        "\n",
        "**Second element (52)**:\n",
        "Row 1 of x · Column 2 of y\n",
        "\n",
        "$$(1×6) + (2×8) + (3×10) = 6 + 16 + 30 = 52$$\n",
        "\n",
        "**Second Row of Result**:\n",
        "First element (88):\n",
        "Row 2 of x · Column 1 of y\n",
        "\n",
        "$$(3×5) + (4×7) + (5×9) = 15 + 28 + 45 = 88$$\n",
        "\n",
        "**Second element (100)**:\n",
        "Row 2 of x · Column 2 of y\n",
        "$$(3×6) + (4×8) + (5×10) = 18 + 32 + 50 = 100$$\n",
        "\n",
        "##Key Rules of Matrix Multiplication\n",
        "**Compatibility**:\n",
        "The number of columns in the first matrix (x.shape) must equal the number of rows in the second matrix (y.shape).\n",
        "Here: 3 (columns in x) = 3 (rows in y) ✔️\n",
        "\n",
        "**Result Shape**:\n",
        "The resulting matrix has dimensions (rows of x × columns of y).\n",
        "Here: 2 (rows in x) × 2 (columns in y) = 2x2.\n",
        "\n",
        "**Dot Product**:\n",
        "Each element in the result is calculated by multiplying corresponding elements from a row of x and a column of y, then summing them.\n",
        "\n"
      ],
      "metadata": {
        "id": "4vRO3ZF2W3XG"
      }
    },
    {
      "cell_type": "code",
      "source": [
        "# simpler example\n",
        "\n",
        "x = np.array([[1,2],\n",
        "              [3,4]])\n",
        "\n",
        "y = np.array([[5,6],\n",
        "              [7,8]])\n",
        "\n",
        "\n",
        "print(x.shape, y.shape,\"\\n\")\n",
        "\n",
        "assert x.shape[1] == y.shape[0]\n",
        "\n",
        "\n",
        "np.dot(x,y)"
      ],
      "metadata": {
        "colab": {
          "base_uri": "https://localhost:8080/"
        },
        "id": "rq9ya4qT3TOq",
        "outputId": "63b68a2d-ec38-4158-99d2-cd5583b96881"
      },
      "execution_count": null,
      "outputs": [
        {
          "output_type": "stream",
          "name": "stdout",
          "text": [
            "(2, 2) (2, 2) \n",
            "\n"
          ]
        },
        {
          "output_type": "execute_result",
          "data": {
            "text/plain": [
              "array([[19, 22],\n",
              "       [43, 50]])"
            ]
          },
          "metadata": {},
          "execution_count": 17
        }
      ]
    },
    {
      "cell_type": "code",
      "source": [
        "# the coefficients are the vector products between the rows of x and the columns of y\n",
        "\n",
        "# rows of x: x[0], x[1]\n",
        "\n",
        "# columns of y: y[0], y[1]\n",
        "\n",
        "# row 1 * column 1 vector product\n",
        "\n",
        "# Because the rows of x and the columns of y must have the same size, it follows that the width of x must match the height of y\n",
        "\n",
        "\n",
        "assert x.shape[1] == y.shape[0]\n",
        "\n",
        "# make an array of that size and initialize it to zeros\n",
        "\n",
        "z = np.zeros((x.shape[0] , y.shape[1]))\n",
        "\n",
        "for i in range(x.shape[0]):\n",
        "      for j in range(y.shape[1]):\n",
        "          row_x = x[i, :]\n",
        "          column_y = y[:, j]\n",
        "          z[i, j] = np.dot(row_x, column_y)\n",
        "\n",
        "z\n"
      ],
      "metadata": {
        "colab": {
          "base_uri": "https://localhost:8080/"
        },
        "id": "gTCtOCU-0z9v",
        "outputId": "92ba0f6b-0016-449c-be11-5ac41e85bf45"
      },
      "execution_count": null,
      "outputs": [
        {
          "output_type": "execute_result",
          "data": {
            "text/plain": [
              "array([[19., 22.],\n",
              "       [43., 50.]])"
            ]
          },
          "metadata": {},
          "execution_count": 18
        }
      ]
    },
    {
      "cell_type": "markdown",
      "source": [
        "More generally, you can take the product between higher-dimensional tensors, following these rules for shape compatibility:\n",
        "\n",
        "```\n",
        "(a, b, c, d) • (d,) -> (a, b, c)\n",
        "(a, b, c, d) • (d, e) -> (a, b, c, e)\n",
        "\n",
        "```"
      ],
      "metadata": {
        "id": "ywQ6neYx6k7g"
      }
    },
    {
      "cell_type": "markdown",
      "source": [
        "### Repeat definition from above\n",
        "\n",
        "You can take the product of two matrices x and y if and only if x.shape[1] == y.shape[0]. The result is a matrix with shape (x.shape[0], y.shape[1]), where the coefficients are the vector products between the rows of x and the columns of y. Here’s the naive implementation.\n",
        "\n",
        "So make a matrix where x.shape[1] = y.shape[0]"
      ],
      "metadata": {
        "id": "OWnOQseD8EWf"
      }
    },
    {
      "cell_type": "code",
      "source": [
        "import numpy as np\n",
        "\n",
        "x = np.array([[1,2,3,4],\n",
        "              [5,6,7,8]])\n",
        "\n",
        "# swap rows and columns\n",
        "\n",
        "y = x.T\n",
        "\n",
        "assert x.shape[1] == y.shape[0]\n",
        "\n",
        "\n",
        "print(y, \"\\n\")\n",
        "\n",
        "np.dot(x,y)\n"
      ],
      "metadata": {
        "id": "xt_wNVPW6wlh",
        "colab": {
          "base_uri": "https://localhost:8080/"
        },
        "outputId": "099a1d37-5fea-4d72-efc7-b1204f9d0d1c"
      },
      "execution_count": null,
      "outputs": [
        {
          "output_type": "stream",
          "name": "stdout",
          "text": [
            "[[1 5]\n",
            " [2 6]\n",
            " [3 7]\n",
            " [4 8]] \n",
            "\n"
          ]
        },
        {
          "output_type": "execute_result",
          "data": {
            "text/plain": [
              "array([[ 30,  70],\n",
              "       [ 70, 174]])"
            ]
          },
          "metadata": {},
          "execution_count": 19
        }
      ]
    },
    {
      "cell_type": "code",
      "source": [
        "# explain The result is a matrix with shape (x.shape[0], y.shape[1]), where the coefficients are the vector products between the rows of x and the columns of y\n",
        "\n",
        "# NOT READY THIS CELL\n",
        "\n",
        "row_1_x = x[:,0]\n",
        "col_1_y= y[0,:]\n",
        "\n",
        "print(y,\"\\n\")\n",
        "print(row_1_x, \"\\n\")\n",
        "print(col_1_y)\n",
        "\n",
        "np.dot(row_1_x, col_1_y)"
      ],
      "metadata": {
        "id": "EGljCQVdGmla",
        "outputId": "b69eee26-c4e2-4c61-847f-6db499431041",
        "colab": {
          "base_uri": "https://localhost:8080/"
        }
      },
      "execution_count": null,
      "outputs": [
        {
          "output_type": "stream",
          "name": "stdout",
          "text": [
            "[[1 5]\n",
            " [2 6]\n",
            " [3 7]\n",
            " [4 8]] \n",
            "\n",
            "[1 5] \n",
            "\n",
            "[1 5]\n"
          ]
        },
        {
          "output_type": "execute_result",
          "data": {
            "text/plain": [
              "np.int64(26)"
            ]
          },
          "metadata": {},
          "execution_count": 20
        }
      ]
    },
    {
      "cell_type": "code",
      "source": [
        "# use the code we wrote above\n",
        "\n",
        "z = np.zeros((x.shape[0] , y.shape[1]))\n",
        "\n",
        "for i in range(x.shape[0]):\n",
        "      for j in range(y.shape[1]):\n",
        "          row_x = x[i, :]\n",
        "          column_y = y[:, j]\n",
        "          z[i, j] = np.dot(row_x, column_y)\n",
        "\n",
        "z\n"
      ],
      "metadata": {
        "colab": {
          "base_uri": "https://localhost:8080/"
        },
        "id": "sxJ4nmdC84D2",
        "outputId": "31a0b791-5982-4a53-9d52-d20ad7ba1ad7"
      },
      "execution_count": null,
      "outputs": [
        {
          "output_type": "execute_result",
          "data": {
            "text/plain": [
              "array([[ 30.,  70.],\n",
              "       [ 70., 174.]])"
            ]
          },
          "metadata": {},
          "execution_count": 21
        }
      ]
    }
  ]
}