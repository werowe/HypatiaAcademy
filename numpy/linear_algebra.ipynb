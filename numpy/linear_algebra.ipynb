{
  "nbformat": 4,
  "nbformat_minor": 0,
  "metadata": {
    "colab": {
      "provenance": [],
      "authorship_tag": "ABX9TyNi2pJ9UfAqDCg6oMnVui/f",
      "include_colab_link": true
    },
    "kernelspec": {
      "name": "python3",
      "display_name": "Python 3"
    },
    "language_info": {
      "name": "python"
    }
  },
  "cells": [
    {
      "cell_type": "markdown",
      "metadata": {
        "id": "view-in-github",
        "colab_type": "text"
      },
      "source": [
        "<a href=\"https://colab.research.google.com/github/werowe/HypatiaAcademy/blob/master/numpy/linear_algebra.ipynb\" target=\"_parent\"><img src=\"https://colab.research.google.com/assets/colab-badge.svg\" alt=\"Open In Colab\"/></a>"
      ]
    },
    {
      "cell_type": "markdown",
      "source": [
        "# Linear Algebra\n",
        "Here we explain how to add and multiply vectors and matrices.  These operations are called **linear algebra**\n",
        "\n",
        "> Credit.  Much of this material is adapted from Deep Learning with Python, Third Edition  François Chollet and Matthew Watson.  \n",
        "\n"
      ],
      "metadata": {
        "id": "LFxiJ48ET88B"
      }
    },
    {
      "cell_type": "markdown",
      "source": [
        "## Addition\n",
        "\n",
        "Just add each element in row, column position to the element in the same position in the second matrix."
      ],
      "metadata": {
        "id": "VzgOchaDuV1O"
      }
    },
    {
      "cell_type": "code",
      "source": [
        "import numpy as np\n",
        "np.set_printoptions(suppress=True)\n",
        "\n",
        "x = np.array([[1,2],\n",
        "              [3,4]])\n",
        "\n",
        "y = np.array([[5,6],\n",
        "              [7,8]])\n"
      ],
      "metadata": {
        "id": "GceutI2Et8Rj"
      },
      "execution_count": null,
      "outputs": []
    },
    {
      "cell_type": "code",
      "source": [
        "\n",
        "\n",
        "x + y"
      ],
      "metadata": {
        "colab": {
          "base_uri": "https://localhost:8080/"
        },
        "id": "nbqmdt8lupYy",
        "outputId": "a5fcd607-4e3c-421a-d4e9-b7570061f9c1"
      },
      "execution_count": null,
      "outputs": [
        {
          "output_type": "execute_result",
          "data": {
            "text/plain": [
              "array([[ 6,  8],\n",
              "       [10, 12]])"
            ]
          },
          "metadata": {},
          "execution_count": 5
        }
      ]
    },
    {
      "cell_type": "markdown",
      "source": [
        "### Scalar times a vector"
      ],
      "metadata": {
        "id": "WlkedKJwu8v8"
      }
    },
    {
      "cell_type": "code",
      "source": [
        "2 * x"
      ],
      "metadata": {
        "colab": {
          "base_uri": "https://localhost:8080/"
        },
        "id": "nXjAQ5G3soF0",
        "outputId": "2fc562b9-64ea-40ef-e786-0019844e5b12"
      },
      "execution_count": null,
      "outputs": [
        {
          "output_type": "execute_result",
          "data": {
            "text/plain": [
              "array([[2, 4],\n",
              "       [6, 8]])"
            ]
          },
          "metadata": {},
          "execution_count": 7
        }
      ]
    },
    {
      "cell_type": "code",
      "source": [
        "# Matrix times a Matrix\n",
        "\n",
        "\n",
        " x = np.array([[1, 2],\n",
        "              [3, 4]])\n",
        "\n",
        " y = np.array([[5, 6],\n",
        "               [7, 8]])\n",
        "\n",
        " x + y"
      ],
      "metadata": {
        "colab": {
          "base_uri": "https://localhost:8080/"
        },
        "id": "S3UrfQMNVAvA",
        "outputId": "71d3bb67-28d7-440d-8d0e-081e52a169c6"
      },
      "execution_count": null,
      "outputs": [
        {
          "output_type": "execute_result",
          "data": {
            "text/plain": [
              "array([[ 6,  8],\n",
              "       [10, 12]])"
            ]
          },
          "metadata": {},
          "execution_count": 40
        }
      ]
    },
    {
      "cell_type": "markdown",
      "source": [
        "### Add a Vector to an Matrix\n",
        "\n",
        "Here we have use the idea of **broadcasting**"
      ],
      "metadata": {
        "id": "q8Nw9g5uvPR8"
      }
    },
    {
      "cell_type": "code",
      "source": [
        " # can't add because dimensions are different\n",
        " x = np.array([[1, 2],\n",
        "              [3, 4]])\n",
        "\n",
        " y = np.array([5, 6])\n",
        "\n",
        " x + y"
      ],
      "metadata": {
        "colab": {
          "base_uri": "https://localhost:8080/"
        },
        "id": "sTsoiMpMVREx",
        "outputId": "a212f4f1-17e0-4823-e1f0-1a979a4bf788"
      },
      "execution_count": null,
      "outputs": [
        {
          "output_type": "execute_result",
          "data": {
            "text/plain": [
              "array([[ 6,  8],\n",
              "       [ 8, 10]])"
            ]
          },
          "metadata": {},
          "execution_count": 17
        }
      ]
    },
    {
      "cell_type": "code",
      "source": [
        "# notice that an extra dimension is added, notice the [[]] number of brackets\n",
        "\n",
        "y = np.expand_dims(y, axis=0)\n",
        "y"
      ],
      "metadata": {
        "colab": {
          "base_uri": "https://localhost:8080/"
        },
        "id": "2Jn3iwzPvevs",
        "outputId": "0cdcb231-dfca-4516-a78e-d38080957cac"
      },
      "execution_count": null,
      "outputs": [
        {
          "output_type": "execute_result",
          "data": {
            "text/plain": [
              "array([[5, 6]])"
            ]
          },
          "metadata": {},
          "execution_count": 12
        }
      ]
    },
    {
      "cell_type": "code",
      "source": [
        "# When the actual addition is done y's first row is copied to the second, i.e., broadcast"
      ],
      "metadata": {
        "id": "YsIMll5Gv2Zc"
      },
      "execution_count": null,
      "outputs": []
    },
    {
      "cell_type": "code",
      "source": [
        "x + y"
      ],
      "metadata": {
        "colab": {
          "base_uri": "https://localhost:8080/"
        },
        "id": "4ban7hi4voEc",
        "outputId": "e03c6d63-0815-4ec6-a141-b59955552bb8"
      },
      "execution_count": null,
      "outputs": [
        {
          "output_type": "execute_result",
          "data": {
            "text/plain": [
              "array([[ 6,  8],\n",
              "       [ 8, 10]])"
            ]
          },
          "metadata": {},
          "execution_count": 19
        }
      ]
    },
    {
      "cell_type": "code",
      "source": [
        "#It's the same as:\n",
        "\n",
        "x = np.array([[1, 2],\n",
        "              [3, 4]])\n",
        "\n",
        "y = np.array([[5, 6],\n",
        "              [5,6]])\n",
        "\n",
        "x + y"
      ],
      "metadata": {
        "colab": {
          "base_uri": "https://localhost:8080/"
        },
        "id": "UvfpIKyuv_4f",
        "outputId": "1c8fb764-875c-44dd-a014-f6ddaac8c69d"
      },
      "execution_count": null,
      "outputs": [
        {
          "output_type": "execute_result",
          "data": {
            "text/plain": [
              "array([[ 6,  8],\n",
              "       [ 8, 10]])"
            ]
          },
          "metadata": {},
          "execution_count": 18
        }
      ]
    },
    {
      "cell_type": "markdown",
      "source": [
        "\n",
        "# Multiplication\n",
        "\n",
        "1.  Scale times a vector\n",
        "\n",
        "2.  Vector times a vector\n",
        "\n",
        "3.  Vector times a matrix\n",
        "\n",
        "4.  matrix times a matrix\n"
      ],
      "metadata": {
        "id": "dT861851r_wA"
      }
    },
    {
      "cell_type": "markdown",
      "source": [
        "### Mutiply two Vectors\n",
        "\n",
        "This results in a scalar, i.e., a single number"
      ],
      "metadata": {
        "id": "xdLzU0m8w2R-"
      }
    },
    {
      "cell_type": "code",
      "source": [
        "x = np.array([1,2,3])\n",
        "y = np.array([4,5,6])\n",
        "\n",
        "np.dot(x,y)\n"
      ],
      "metadata": {
        "colab": {
          "base_uri": "https://localhost:8080/"
        },
        "id": "MAzBCqnDw8JU",
        "outputId": "3a045cfd-eecb-438d-af38-328e7e6ccab8"
      },
      "execution_count": null,
      "outputs": [
        {
          "output_type": "execute_result",
          "data": {
            "text/plain": [
              "np.int64(32)"
            ]
          },
          "metadata": {},
          "execution_count": 20
        }
      ]
    },
    {
      "cell_type": "code",
      "source": [
        "# this is the same as\n",
        "\n",
        "1 * 4 + 2 * 5 + 3 * 6"
      ],
      "metadata": {
        "colab": {
          "base_uri": "https://localhost:8080/"
        },
        "id": "6fSPl-JoxTrO",
        "outputId": "911eb68d-c849-4742-a6bd-51318ac58d4f"
      },
      "execution_count": null,
      "outputs": [
        {
          "output_type": "execute_result",
          "data": {
            "text/plain": [
              "32"
            ]
          },
          "metadata": {},
          "execution_count": 21
        }
      ]
    },
    {
      "cell_type": "markdown",
      "source": [
        "### Mutiply two Arrays\n",
        "\n",
        "You can also take the product between a matrix x and a vector y, which returns a vector where the coefficients are the products between y and the rows of x. You implement it as follows.\n",
        "\n"
      ],
      "metadata": {
        "id": "7fKSRkUjw8oG"
      }
    },
    {
      "cell_type": "code",
      "source": [
        "matrix = np.array([[1, 2],\n",
        "                   [3, 4]])\n",
        "\n",
        "print(\"matrix shape\", matrix.shape)\n",
        "\n",
        "vector = np.array([10, 20])\n",
        "\n",
        "print(\"\\nvector shape\", vector.shape, \"\\n\")\n",
        "\n"
      ],
      "metadata": {
        "colab": {
          "base_uri": "https://localhost:8080/"
        },
        "id": "uD67HNPYx3vr",
        "outputId": "659cd847-6816-4f11-f384-e9005663eb5e"
      },
      "execution_count": null,
      "outputs": [
        {
          "output_type": "stream",
          "name": "stdout",
          "text": [
            "matrix shape (2, 2)\n",
            "\n",
            "vector shape (2,) \n",
            "\n"
          ]
        }
      ]
    },
    {
      "cell_type": "code",
      "source": [
        "#the coefficients are the products between vector and the rows of matrix\n",
        "\n",
        "np.dot(matrix,vector)\n",
        "\n"
      ],
      "metadata": {
        "colab": {
          "base_uri": "https://localhost:8080/"
        },
        "id": "QJxLJod2y3U2",
        "outputId": "427b790a-33f4-4ecd-a779-1461f6b14920"
      },
      "execution_count": null,
      "outputs": [
        {
          "output_type": "execute_result",
          "data": {
            "text/plain": [
              "array([ 50., 110.])"
            ]
          },
          "metadata": {},
          "execution_count": 34
        }
      ]
    },
    {
      "cell_type": "code",
      "source": [
        "# in other words it's,\n",
        "\n",
        "np.array([np.dot(vector, matrix[0]), np.dot(vector, matrix[1])])\n",
        "\n"
      ],
      "metadata": {
        "colab": {
          "base_uri": "https://localhost:8080/"
        },
        "id": "e3xPCyumzeEq",
        "outputId": "9fde5a37-7144-4961-accc-39317027754a"
      },
      "execution_count": null,
      "outputs": [
        {
          "output_type": "execute_result",
          "data": {
            "text/plain": [
              "array([ 50, 110])"
            ]
          },
          "metadata": {},
          "execution_count": 40
        }
      ]
    },
    {
      "cell_type": "markdown",
      "source": [
        "## Multiply Two Matrices\n",
        "\n",
        " You can take the product of two matrices x and y if and only if x.shape[1] == y.shape[0]. The result is a matrix with shape (x.shape[0], y.shape[1]), where the coefficients are the vector products between the rows of x and the columns of y. Here’s the naive implementation:"
      ],
      "metadata": {
        "id": "Xwwzd70_0PRd"
      }
    },
    {
      "cell_type": "code",
      "source": [
        "x = np.array([[1,2,3],\n",
        "              [3,4,5]])\n",
        "\n",
        "y = np.array([[5,6],\n",
        "              [7,8],\n",
        "              [9,10]])"
      ],
      "metadata": {
        "id": "t-m5BgXdySoR"
      },
      "execution_count": null,
      "outputs": []
    },
    {
      "cell_type": "code",
      "source": [
        "# check that number of rows in x is equal to the number of columns in y\n",
        "\n",
        "print(\"shapes \", x.shape, y.shape, \"\\n\")\n",
        "\n",
        "assert x.shape[1] == y.shape[0]\n",
        "\n",
        "\n",
        "np.dot(x,y)"
      ],
      "metadata": {
        "colab": {
          "base_uri": "https://localhost:8080/"
        },
        "id": "lkTZBejR0ZmC",
        "outputId": "d16dbbbf-1d1e-4882-b03e-02ab5dec331f"
      },
      "execution_count": null,
      "outputs": [
        {
          "output_type": "stream",
          "name": "stdout",
          "text": [
            "shapes  (2, 3) (3, 2) \n",
            "\n"
          ]
        },
        {
          "output_type": "execute_result",
          "data": {
            "text/plain": [
              "array([[ 46,  52],\n",
              "       [ 88, 100]])"
            ]
          },
          "metadata": {},
          "execution_count": 57
        }
      ]
    },
    {
      "cell_type": "code",
      "source": [
        "# simpler example\n",
        "\n",
        "x = np.array([[1,2],\n",
        "              [3,4]])\n",
        "\n",
        "y = np.array([[5,6],\n",
        "              [7,8]])\n",
        "\n",
        "\n",
        "print(x.shape, y.shape,\"\\n\")\n",
        "\n",
        "assert x.shape[1] == y.shape[0]\n",
        "\n",
        "\n",
        "np.dot(x,y)"
      ],
      "metadata": {
        "colab": {
          "base_uri": "https://localhost:8080/"
        },
        "id": "rq9ya4qT3TOq",
        "outputId": "cada03f8-b570-436d-851b-ee182b4a1b27"
      },
      "execution_count": null,
      "outputs": [
        {
          "output_type": "stream",
          "name": "stdout",
          "text": [
            "(2, 2) (2, 2) \n",
            "\n"
          ]
        },
        {
          "output_type": "execute_result",
          "data": {
            "text/plain": [
              "array([[19, 22],\n",
              "       [43, 50]])"
            ]
          },
          "metadata": {},
          "execution_count": 59
        }
      ]
    },
    {
      "cell_type": "code",
      "source": [
        "# the coefficients are the vector products between the rows of x and the columns of y\n",
        "\n",
        "# rows of x: x[0], x[1]\n",
        "\n",
        "# columns of y: y[0], y[1]\n",
        "\n",
        "# row 1 * column 1 vector product\n",
        "\n",
        "# Because the rows of x and the columns of y must have the same size, it follows that the width of x must match the height of y\n",
        "\n",
        "\n",
        "assert x.shape[1] == y.shape[0]\n",
        "\n",
        "# make an array of that size and initialize it to zeros\n",
        "\n",
        "z = np.zeros((x.shape[1] , y.shape[0]))\n",
        "\n",
        "for i in range(x.shape[0]):\n",
        "      for j in range(y.shape[1]):\n",
        "          row_x = x[i, :]\n",
        "          column_y = y[:, j]\n",
        "          z[i, j] = np.dot(row_x, column_y)\n",
        "\n",
        "z\n"
      ],
      "metadata": {
        "colab": {
          "base_uri": "https://localhost:8080/"
        },
        "id": "gTCtOCU-0z9v",
        "outputId": "94840bf9-6c55-4964-faf2-c0ad940f42c7"
      },
      "execution_count": null,
      "outputs": [
        {
          "output_type": "execute_result",
          "data": {
            "text/plain": [
              "array([[19., 22.],\n",
              "       [43., 50.]])"
            ]
          },
          "metadata": {},
          "execution_count": 63
        }
      ]
    },
    {
      "cell_type": "markdown",
      "source": [
        "More generally, you can take the product between higher-dimensional tensors, following the same rules for shape compatibility as outlined earlier for the 2D case:\n",
        "\n",
        "```\n",
        "(a, b, c, d) • (d,) -> (a, b, c)\n",
        "(a, b, c, d) • (d, e) -> (a, b, c, e)\n",
        "\n",
        "```"
      ],
      "metadata": {
        "id": "ywQ6neYx6k7g"
      }
    },
    {
      "cell_type": "markdown",
      "source": [
        "### Repeat definition from above\n",
        "\n",
        "You can take the product of two matrices x and y if and only if x.shape[1] == y.shape[0]. The result is a matrix with shape (x.shape[0], y.shape[1]), where the coefficients are the vector products between the rows of x and the columns of y. Here’s the naive implementation.\n",
        "\n",
        "So make a matrix where x.shape[1] = y.shape[0]"
      ],
      "metadata": {
        "id": "OWnOQseD8EWf"
      }
    },
    {
      "cell_type": "code",
      "source": [
        "import numpy as np\n",
        "\n",
        "x = np.array([[1,2,3,4],\n",
        "              [5,6,7,8]])\n",
        "\n",
        "# swap rows and columns\n",
        "\n",
        "y = x.T\n",
        "\n",
        "assert x.shape[1] == y.shape[0]\n",
        "\n",
        "\n",
        "print(y, \"\\n\")\n",
        "\n",
        "np.dot(x,y)\n"
      ],
      "metadata": {
        "id": "xt_wNVPW6wlh",
        "outputId": "918d2878-974d-4b05-e7ac-f9620efbf94f",
        "colab": {
          "base_uri": "https://localhost:8080/"
        }
      },
      "execution_count": 4,
      "outputs": [
        {
          "output_type": "stream",
          "name": "stdout",
          "text": [
            "[[1 5]\n",
            " [2 6]\n",
            " [3 7]\n",
            " [4 8]] \n",
            "\n"
          ]
        },
        {
          "output_type": "execute_result",
          "data": {
            "text/plain": [
              "array([[ 30,  70],\n",
              "       [ 70, 174]])"
            ]
          },
          "metadata": {},
          "execution_count": 4
        }
      ]
    },
    {
      "cell_type": "code",
      "source": [
        "# notice that the code we wrote above does not work.  Why?\n",
        "\n",
        "z = np.zeros((x.shape[1] , y.shape[0]))\n",
        "\n",
        "for i in range(x.shape[0]):\n",
        "      for j in range(y.shape[1]):\n",
        "          row_x = x[i, :]\n",
        "          column_y = y[:, j]\n",
        "          z[i, j] = np.dot(row_x, column_y)\n",
        "\n",
        "z\n"
      ],
      "metadata": {
        "id": "sxJ4nmdC84D2",
        "outputId": "faa72d6f-7400-46be-df3f-f952dfdbc6a3",
        "colab": {
          "base_uri": "https://localhost:8080/"
        }
      },
      "execution_count": 5,
      "outputs": [
        {
          "output_type": "execute_result",
          "data": {
            "text/plain": [
              "array([[ 30.,  70.,   0.,   0.],\n",
              "       [ 70., 174.,   0.,   0.],\n",
              "       [  0.,   0.,   0.,   0.],\n",
              "       [  0.,   0.,   0.,   0.]])"
            ]
          },
          "metadata": {},
          "execution_count": 5
        }
      ]
    }
  ]
}