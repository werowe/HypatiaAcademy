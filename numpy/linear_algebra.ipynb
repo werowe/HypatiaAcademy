{
  "nbformat": 4,
  "nbformat_minor": 0,
  "metadata": {
    "colab": {
      "provenance": [],
      "authorship_tag": "ABX9TyOdHJbf6X6ZTz27wY+GB88Y",
      "include_colab_link": true
    },
    "kernelspec": {
      "name": "python3",
      "display_name": "Python 3"
    },
    "language_info": {
      "name": "python"
    }
  },
  "cells": [
    {
      "cell_type": "markdown",
      "metadata": {
        "id": "view-in-github",
        "colab_type": "text"
      },
      "source": [
        "<a href=\"https://colab.research.google.com/github/werowe/HypatiaAcademy/blob/master/numpy/linear_algebra.ipynb\" target=\"_parent\"><img src=\"https://colab.research.google.com/assets/colab-badge.svg\" alt=\"Open In Colab\"/></a>"
      ]
    },
    {
      "cell_type": "markdown",
      "source": [
        "# Linear Algebra\n",
        "Here we explain how to add and multiply vectors and matrices.  These operations are called **linear algebra**\n",
        "\n",
        "> Credit.  Much of this material is adapted from Deep Learning with Python, Third Edition  François Chollet and Matthew Watson.  \n",
        "\n"
      ],
      "metadata": {
        "id": "LFxiJ48ET88B"
      }
    },
    {
      "cell_type": "markdown",
      "source": [
        "## Addition\n",
        "\n",
        "Just add each element in row, column position to the element in the same position in the second matrix."
      ],
      "metadata": {
        "id": "VzgOchaDuV1O"
      }
    },
    {
      "cell_type": "code",
      "source": [
        "import numpy as np\n",
        "np.set_printoptions(suppress=True)\n",
        "\n",
        "x = np.array([[1,2],\n",
        "              [3,4]])\n",
        "\n",
        "y = np.array([[5,6],\n",
        "              [7,8]])\n"
      ],
      "metadata": {
        "id": "GceutI2Et8Rj"
      },
      "execution_count": 51,
      "outputs": []
    },
    {
      "cell_type": "code",
      "source": [
        "\n",
        "\n",
        "x + y"
      ],
      "metadata": {
        "colab": {
          "base_uri": "https://localhost:8080/"
        },
        "id": "nbqmdt8lupYy",
        "outputId": "17c1f73b-728b-4f44-b9f4-458e7564fdb1"
      },
      "execution_count": 52,
      "outputs": [
        {
          "output_type": "execute_result",
          "data": {
            "text/plain": [
              "array([[ 6,  8],\n",
              "       [10, 12]])"
            ]
          },
          "metadata": {},
          "execution_count": 52
        }
      ]
    },
    {
      "cell_type": "code",
      "source": [
        "# Add Two Matrices times a Matrix\n",
        "\n",
        "\n",
        "x = np.array([[1, 2],\n",
        "              [3, 4]])\n",
        "\n",
        "y = np.array([[5, 6],\n",
        "               [7, 8]])\n",
        "\n",
        "x + y"
      ],
      "metadata": {
        "colab": {
          "base_uri": "https://localhost:8080/"
        },
        "id": "S3UrfQMNVAvA",
        "outputId": "09e88d2a-a74c-4ee9-e2de-5d92071e605f"
      },
      "execution_count": 53,
      "outputs": [
        {
          "output_type": "execute_result",
          "data": {
            "text/plain": [
              "array([[ 6,  8],\n",
              "       [10, 12]])"
            ]
          },
          "metadata": {},
          "execution_count": 53
        }
      ]
    },
    {
      "cell_type": "markdown",
      "source": [
        "### Add a Vector to an Matrix\n",
        "\n",
        "Here we have use the idea of **broadcasting**"
      ],
      "metadata": {
        "id": "q8Nw9g5uvPR8"
      }
    },
    {
      "cell_type": "code",
      "source": [
        " # can't add because dimensions are different\n",
        " x = np.array([[1, 2],\n",
        "              [3, 4]])\n",
        "\n",
        " y = np.array([5, 6])\n",
        "\n",
        " x + y"
      ],
      "metadata": {
        "colab": {
          "base_uri": "https://localhost:8080/"
        },
        "id": "sTsoiMpMVREx",
        "outputId": "04d9607e-7868-4a11-cb17-b4ed776e83dc"
      },
      "execution_count": 54,
      "outputs": [
        {
          "output_type": "execute_result",
          "data": {
            "text/plain": [
              "array([[ 6,  8],\n",
              "       [ 8, 10]])"
            ]
          },
          "metadata": {},
          "execution_count": 54
        }
      ]
    },
    {
      "cell_type": "code",
      "source": [
        "# notice that an extra dimension is added, notice the [[]] number of brackets\n",
        "\n",
        "y = np.expand_dims(y, axis=0)\n",
        "y"
      ],
      "metadata": {
        "colab": {
          "base_uri": "https://localhost:8080/"
        },
        "id": "2Jn3iwzPvevs",
        "outputId": "19e91057-5ab1-45d6-c515-d87bfb5221c7"
      },
      "execution_count": 55,
      "outputs": [
        {
          "output_type": "execute_result",
          "data": {
            "text/plain": [
              "array([[5, 6]])"
            ]
          },
          "metadata": {},
          "execution_count": 55
        }
      ]
    },
    {
      "cell_type": "code",
      "source": [
        "# When the actual addition is done y's first row is copied to the second, i.e., broadcast"
      ],
      "metadata": {
        "id": "YsIMll5Gv2Zc"
      },
      "execution_count": 56,
      "outputs": []
    },
    {
      "cell_type": "code",
      "source": [
        "x + y"
      ],
      "metadata": {
        "colab": {
          "base_uri": "https://localhost:8080/"
        },
        "id": "4ban7hi4voEc",
        "outputId": "1bd3d580-5771-4f2d-da95-ae23d565b18c"
      },
      "execution_count": 57,
      "outputs": [
        {
          "output_type": "execute_result",
          "data": {
            "text/plain": [
              "array([[ 6,  8],\n",
              "       [ 8, 10]])"
            ]
          },
          "metadata": {},
          "execution_count": 57
        }
      ]
    },
    {
      "cell_type": "code",
      "source": [
        "#It's the same as:\n",
        "\n",
        "x = np.array([[1, 2],\n",
        "              [3, 4]])\n",
        "\n",
        "y = np.array([[5, 6],\n",
        "              [5,6]])\n",
        "\n",
        "x + y"
      ],
      "metadata": {
        "colab": {
          "base_uri": "https://localhost:8080/"
        },
        "id": "UvfpIKyuv_4f",
        "outputId": "a5f3dc52-fc8f-4064-d0e8-659caccab1e8"
      },
      "execution_count": 58,
      "outputs": [
        {
          "output_type": "execute_result",
          "data": {
            "text/plain": [
              "array([[ 6,  8],\n",
              "       [ 8, 10]])"
            ]
          },
          "metadata": {},
          "execution_count": 58
        }
      ]
    },
    {
      "cell_type": "markdown",
      "source": [
        "\n",
        "# Multiplication\n",
        "\n",
        "There are 4 cases:\n",
        "\n",
        "1.  Scalar times a vector\n",
        "\n",
        "2.  Vector times a vector\n",
        "\n",
        "3.  Vector times a matrix\n",
        "\n",
        "4.  Matrix times a matrix\n"
      ],
      "metadata": {
        "id": "dT861851r_wA"
      }
    },
    {
      "cell_type": "markdown",
      "source": [
        "### Scalar times a vector\n",
        "\n"
      ],
      "metadata": {
        "id": "pb-XdHGh93A2"
      }
    },
    {
      "cell_type": "code",
      "source": [
        "x = np.array([1,2,3])\n",
        "\n",
        "2 * x"
      ],
      "metadata": {
        "colab": {
          "base_uri": "https://localhost:8080/"
        },
        "id": "WjWG1VuD94JE",
        "outputId": "90f4fe9e-af3e-4942-94c4-ef0976a4a13d"
      },
      "execution_count": 59,
      "outputs": [
        {
          "output_type": "execute_result",
          "data": {
            "text/plain": [
              "array([2, 4, 6])"
            ]
          },
          "metadata": {},
          "execution_count": 59
        }
      ]
    },
    {
      "cell_type": "markdown",
      "source": [
        "### Mutiply two Vectors\n",
        "\n",
        "This results in a scalar, i.e., a single number"
      ],
      "metadata": {
        "id": "xdLzU0m8w2R-"
      }
    },
    {
      "cell_type": "code",
      "source": [
        "x = np.array([1,2,3])\n",
        "y = np.array([4,5,6])\n",
        "\n",
        "np.dot(x,y)\n"
      ],
      "metadata": {
        "colab": {
          "base_uri": "https://localhost:8080/"
        },
        "id": "MAzBCqnDw8JU",
        "outputId": "bff59e33-175f-4b0d-ed0f-6676ea4a67b0"
      },
      "execution_count": 60,
      "outputs": [
        {
          "output_type": "execute_result",
          "data": {
            "text/plain": [
              "np.int64(32)"
            ]
          },
          "metadata": {},
          "execution_count": 60
        }
      ]
    },
    {
      "cell_type": "code",
      "source": [
        "# this is the same as\n",
        "\n",
        "1 * 4 + 2 * 5 + 3 * 6"
      ],
      "metadata": {
        "colab": {
          "base_uri": "https://localhost:8080/"
        },
        "id": "6fSPl-JoxTrO",
        "outputId": "1d6f97a7-1f41-4be3-9953-5add72a86a7f"
      },
      "execution_count": 61,
      "outputs": [
        {
          "output_type": "execute_result",
          "data": {
            "text/plain": [
              "32"
            ]
          },
          "metadata": {},
          "execution_count": 61
        }
      ]
    },
    {
      "cell_type": "markdown",
      "source": [
        "### Mutiply two Arrays\n",
        "\n",
        "You can also take the product between a matrix x and a vector y, which returns a vector where the coefficients are the products between y and the rows of x. You implement it as follows.\n",
        "\n"
      ],
      "metadata": {
        "id": "7fKSRkUjw8oG"
      }
    },
    {
      "cell_type": "code",
      "source": [
        "matrix = np.array([[1, 2],\n",
        "                   [3, 4]])\n",
        "\n",
        "print(\"matrix shape\", matrix.shape)\n",
        "\n",
        "vector = np.array([10, 20])\n",
        "\n",
        "print(\"\\nvector shape\", vector.shape, \"\\n\")\n",
        "\n"
      ],
      "metadata": {
        "colab": {
          "base_uri": "https://localhost:8080/"
        },
        "id": "uD67HNPYx3vr",
        "outputId": "b636ef3f-2142-4618-d20e-1671870112c4"
      },
      "execution_count": 62,
      "outputs": [
        {
          "output_type": "stream",
          "name": "stdout",
          "text": [
            "matrix shape (2, 2)\n",
            "\n",
            "vector shape (2,) \n",
            "\n"
          ]
        }
      ]
    },
    {
      "cell_type": "code",
      "source": [
        "#the coefficients are the products between vector and the rows of matrix\n",
        "\n",
        "np.dot(matrix,vector)\n",
        "\n"
      ],
      "metadata": {
        "colab": {
          "base_uri": "https://localhost:8080/"
        },
        "id": "QJxLJod2y3U2",
        "outputId": "9b68f381-70c6-45ea-c4c4-af5b21480e75"
      },
      "execution_count": 63,
      "outputs": [
        {
          "output_type": "execute_result",
          "data": {
            "text/plain": [
              "array([ 50, 110])"
            ]
          },
          "metadata": {},
          "execution_count": 63
        }
      ]
    },
    {
      "cell_type": "code",
      "source": [
        "# in other words it's,\n",
        "\n",
        "np.array([np.dot(vector, matrix[0]), np.dot(vector, matrix[1])])\n",
        "\n"
      ],
      "metadata": {
        "colab": {
          "base_uri": "https://localhost:8080/"
        },
        "id": "e3xPCyumzeEq",
        "outputId": "81cef3b2-9715-4b29-bf39-3fde64f5760a"
      },
      "execution_count": 64,
      "outputs": [
        {
          "output_type": "execute_result",
          "data": {
            "text/plain": [
              "array([ 50, 110])"
            ]
          },
          "metadata": {},
          "execution_count": 64
        }
      ]
    },
    {
      "cell_type": "markdown",
      "source": [
        "## Multiply Two Matrices\n",
        "\n",
        " You can take the product of two matrices x and y if and only if x.shape[1] == y.shape[0]. The result is a matrix with shape (x.shape[0], y.shape[1]), where the coefficients are the vector products between the rows of x and the columns of y. Here’s the naive implementation:"
      ],
      "metadata": {
        "id": "Xwwzd70_0PRd"
      }
    },
    {
      "cell_type": "code",
      "source": [
        "x = np.array([[1,2,3],\n",
        "              [3,4,5]])\n",
        "\n",
        "y = np.array([[5,6],\n",
        "              [7,8],\n",
        "              [9,10]])"
      ],
      "metadata": {
        "id": "t-m5BgXdySoR"
      },
      "execution_count": 65,
      "outputs": []
    },
    {
      "cell_type": "code",
      "source": [
        "# check that number of rows in x is equal to the number of columns in y\n",
        "\n",
        "print(\"shapes \", x.shape, y.shape, \"\\n\")\n",
        "\n",
        "assert x.shape[1] == y.shape[0]\n",
        "\n",
        "\n",
        "np.dot(x,y)"
      ],
      "metadata": {
        "colab": {
          "base_uri": "https://localhost:8080/"
        },
        "id": "lkTZBejR0ZmC",
        "outputId": "b6d0c6e9-2d04-4189-c0b9-e184055dc7f3"
      },
      "execution_count": 66,
      "outputs": [
        {
          "output_type": "stream",
          "name": "stdout",
          "text": [
            "shapes  (2, 3) (3, 2) \n",
            "\n"
          ]
        },
        {
          "output_type": "execute_result",
          "data": {
            "text/plain": [
              "array([[ 46,  52],\n",
              "       [ 88, 100]])"
            ]
          },
          "metadata": {},
          "execution_count": 66
        }
      ]
    },
    {
      "cell_type": "code",
      "source": [
        "# simpler example\n",
        "\n",
        "x = np.array([[1,2],\n",
        "              [3,4]])\n",
        "\n",
        "y = np.array([[5,6],\n",
        "              [7,8]])\n",
        "\n",
        "\n",
        "print(x.shape, y.shape,\"\\n\")\n",
        "\n",
        "assert x.shape[1] == y.shape[0]\n",
        "\n",
        "\n",
        "np.dot(x,y)"
      ],
      "metadata": {
        "colab": {
          "base_uri": "https://localhost:8080/"
        },
        "id": "rq9ya4qT3TOq",
        "outputId": "97cd9841-c78a-4d0b-81fe-8c92d8c5ec14"
      },
      "execution_count": 67,
      "outputs": [
        {
          "output_type": "stream",
          "name": "stdout",
          "text": [
            "(2, 2) (2, 2) \n",
            "\n"
          ]
        },
        {
          "output_type": "execute_result",
          "data": {
            "text/plain": [
              "array([[19, 22],\n",
              "       [43, 50]])"
            ]
          },
          "metadata": {},
          "execution_count": 67
        }
      ]
    },
    {
      "cell_type": "code",
      "source": [
        "# the coefficients are the vector products between the rows of x and the columns of y\n",
        "\n",
        "# rows of x: x[0], x[1]\n",
        "\n",
        "# columns of y: y[0], y[1]\n",
        "\n",
        "# row 1 * column 1 vector product\n",
        "\n",
        "# Because the rows of x and the columns of y must have the same size, it follows that the width of x must match the height of y\n",
        "\n",
        "\n",
        "assert x.shape[1] == y.shape[0]\n",
        "\n",
        "# make an array of that size and initialize it to zeros\n",
        "\n",
        "z = np.zeros((x.shape[0] , y.shape[1]))\n",
        "\n",
        "for i in range(x.shape[0]):\n",
        "      for j in range(y.shape[1]):\n",
        "          row_x = x[i, :]\n",
        "          column_y = y[:, j]\n",
        "          z[i, j] = np.dot(row_x, column_y)\n",
        "\n",
        "z\n"
      ],
      "metadata": {
        "colab": {
          "base_uri": "https://localhost:8080/"
        },
        "id": "gTCtOCU-0z9v",
        "outputId": "51584e05-f709-435f-8e67-02fc2d7bfebf"
      },
      "execution_count": 72,
      "outputs": [
        {
          "output_type": "execute_result",
          "data": {
            "text/plain": [
              "array([[ 30.,  70.],\n",
              "       [ 70., 174.]])"
            ]
          },
          "metadata": {},
          "execution_count": 72
        }
      ]
    },
    {
      "cell_type": "markdown",
      "source": [
        "More generally, you can take the product between higher-dimensional tensors, following these rules for shape compatibility:\n",
        "\n",
        "```\n",
        "(a, b, c, d) • (d,) -> (a, b, c)\n",
        "(a, b, c, d) • (d, e) -> (a, b, c, e)\n",
        "\n",
        "```"
      ],
      "metadata": {
        "id": "ywQ6neYx6k7g"
      }
    },
    {
      "cell_type": "markdown",
      "source": [
        "### Repeat definition from above\n",
        "\n",
        "You can take the product of two matrices x and y if and only if x.shape[1] == y.shape[0]. The result is a matrix with shape (x.shape[0], y.shape[1]), where the coefficients are the vector products between the rows of x and the columns of y. Here’s the naive implementation.\n",
        "\n",
        "So make a matrix where x.shape[1] = y.shape[0]"
      ],
      "metadata": {
        "id": "OWnOQseD8EWf"
      }
    },
    {
      "cell_type": "code",
      "source": [
        "import numpy as np\n",
        "\n",
        "x = np.array([[1,2,3,4],\n",
        "              [5,6,7,8]])\n",
        "\n",
        "# swap rows and columns\n",
        "\n",
        "y = x.T\n",
        "\n",
        "assert x.shape[1] == y.shape[0]\n",
        "\n",
        "\n",
        "print(y, \"\\n\")\n",
        "\n",
        "np.dot(x,y)\n"
      ],
      "metadata": {
        "id": "xt_wNVPW6wlh",
        "colab": {
          "base_uri": "https://localhost:8080/"
        },
        "outputId": "2bca2449-0cda-44c0-80fe-76ac01f8d619"
      },
      "execution_count": 69,
      "outputs": [
        {
          "output_type": "stream",
          "name": "stdout",
          "text": [
            "[[1 5]\n",
            " [2 6]\n",
            " [3 7]\n",
            " [4 8]] \n",
            "\n"
          ]
        },
        {
          "output_type": "execute_result",
          "data": {
            "text/plain": [
              "array([[ 30,  70],\n",
              "       [ 70, 174]])"
            ]
          },
          "metadata": {},
          "execution_count": 69
        }
      ]
    },
    {
      "cell_type": "code",
      "source": [
        "# use the code we wrote above\n",
        "\n",
        "z = np.zeros((x.shape[0] , y.shape[1]))\n",
        "\n",
        "for i in range(x.shape[0]):\n",
        "      for j in range(y.shape[1]):\n",
        "          row_x = x[i, :]\n",
        "          column_y = y[:, j]\n",
        "          z[i, j] = np.dot(row_x, column_y)\n",
        "\n",
        "z\n"
      ],
      "metadata": {
        "colab": {
          "base_uri": "https://localhost:8080/"
        },
        "id": "sxJ4nmdC84D2",
        "outputId": "acbef331-68db-43bb-8500-3061fc2df9bd"
      },
      "execution_count": 71,
      "outputs": [
        {
          "output_type": "execute_result",
          "data": {
            "text/plain": [
              "array([[ 30.,  70.],\n",
              "       [ 70., 174.]])"
            ]
          },
          "metadata": {},
          "execution_count": 71
        }
      ]
    }
  ]
}