{
  "nbformat": 4,
  "nbformat_minor": 0,
  "metadata": {
    "colab": {
      "provenance": [],
      "authorship_tag": "ABX9TyNxKnle1gX1/l4yoi7AC0LU",
      "include_colab_link": true
    },
    "kernelspec": {
      "name": "python3",
      "display_name": "Python 3"
    },
    "language_info": {
      "name": "python"
    }
  },
  "cells": [
    {
      "cell_type": "markdown",
      "metadata": {
        "id": "view-in-github",
        "colab_type": "text"
      },
      "source": [
        "<a href=\"https://colab.research.google.com/github/werowe/HypatiaAcademy/blob/master/numpy/broadcasting.ipynb\" target=\"_parent\"><img src=\"https://colab.research.google.com/assets/colab-badge.svg\" alt=\"Open In Colab\"/></a>"
      ]
    },
    {
      "cell_type": "code",
      "execution_count": 10,
      "metadata": {
        "colab": {
          "base_uri": "https://localhost:8080/"
        },
        "id": "XS9_L0wCtl6r",
        "outputId": "8c103202-f101-4efe-ee43-300c27af3a5f"
      },
      "outputs": [
        {
          "output_type": "execute_result",
          "data": {
            "text/plain": [
              "array([[2, 2, 1],\n",
              "       [4, 8, 4],\n",
              "       [0, 0, 0]])"
            ]
          },
          "metadata": {},
          "execution_count": 10
        }
      ],
      "source": [
        "# matrix * multiply in place\n",
        "\n",
        "\n",
        "import numpy as np\n",
        "\n",
        "a = np.array([[2, 2, 1],\n",
        "       [2, 4, 2],\n",
        "       [0, 0, 0]])\n",
        "\n",
        "b = np.array([[1],\n",
        "       [2],\n",
        "       [0]])\n",
        "\n",
        "\n",
        "c = a * b\n",
        "\n",
        "\n",
        "c"
      ]
    },
    {
      "cell_type": "code",
      "source": [
        "import numpy as np\n",
        "\n",
        "a = np.array([[2, 2, 1],\n",
        "       [2, 4, 2],\n",
        "       [0, 0, 0]])\n",
        "\n",
        "b = np.array([[1, 1, 1],\n",
        "       [2, 2, 2],\n",
        "       [0,0,0]])\n",
        "\n",
        "\n",
        "c = a * b\n",
        "\n",
        "\n",
        "c"
      ],
      "metadata": {
        "colab": {
          "base_uri": "https://localhost:8080/"
        },
        "id": "rYZ-C5jYUwWY",
        "outputId": "8c648cbd-7e6b-453a-e40c-a98680beda47"
      },
      "execution_count": 15,
      "outputs": [
        {
          "output_type": "execute_result",
          "data": {
            "text/plain": [
              "array([[2, 2, 1],\n",
              "       [4, 8, 4],\n",
              "       [0, 0, 0]])"
            ]
          },
          "metadata": {},
          "execution_count": 15
        }
      ]
    },
    {
      "cell_type": "code",
      "source": [
        "# this is not the same as\n",
        "np.dot(a,b)"
      ],
      "metadata": {
        "colab": {
          "base_uri": "https://localhost:8080/"
        },
        "id": "SoC6nJaqUxnB",
        "outputId": "f2f60f58-5c99-4e6e-9265-9f9626b04759"
      },
      "execution_count": 16,
      "outputs": [
        {
          "output_type": "execute_result",
          "data": {
            "text/plain": [
              "array([[ 6,  6,  6],\n",
              "       [10, 10, 10],\n",
              "       [ 0,  0,  0]])"
            ]
          },
          "metadata": {},
          "execution_count": 16
        }
      ]
    }
  ]
}