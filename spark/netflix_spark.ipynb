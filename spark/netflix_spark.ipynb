{
  "nbformat": 4,
  "nbformat_minor": 0,
  "metadata": {
    "colab": {
      "provenance": [],
      "include_colab_link": true
    },
    "kernelspec": {
      "name": "python3",
      "display_name": "Python 3"
    },
    "language_info": {
      "name": "python"
    }
  },
  "cells": [
    {
      "cell_type": "markdown",
      "metadata": {
        "id": "view-in-github",
        "colab_type": "text"
      },
      "source": [
        "<a href=\"https://colab.research.google.com/github/werowe/HypatiaAcademy/blob/master/spark/netflix_spark.ipynb\" target=\"_parent\"><img src=\"https://colab.research.google.com/assets/colab-badge.svg\" alt=\"Open In Colab\"/></a>"
      ]
    },
    {
      "cell_type": "markdown",
      "source": [
        "#Netlix Pandas then Spark\n",
        "Here we show you how it is easier to query data by converting it to Apache Spark.  There are limits.  For example, you cannot graph Spark data.  But you can study data and then later write code using Pandas once you figure out what data is important\n",
        "\n",
        "First refer to this work by Diana:\n",
        "\n",
        "https://colab.research.google.com/drive/1Nd7w840GkA3AuvVaEnirsjJzvH9M1Vvm#scrollTo=4Ud5EhU0dT7f\n"
      ],
      "metadata": {
        "id": "YHsV_85UM1zt"
      }
    },
    {
      "cell_type": "code",
      "source": [
        "!wget https://raw.githubusercontent.com/werowe/HypatiaAcademy/refs/heads/master/spark/netflix_titles.csv"
      ],
      "metadata": {
        "colab": {
          "base_uri": "https://localhost:8080/"
        },
        "id": "tJwcsoY0TbFD",
        "outputId": "190c2651-1549-4f05-914b-b774752da706"
      },
      "execution_count": 1,
      "outputs": [
        {
          "output_type": "stream",
          "name": "stdout",
          "text": [
            "--2025-02-23 09:52:31--  https://raw.githubusercontent.com/werowe/HypatiaAcademy/refs/heads/master/spark/netflix_titles.csv\n",
            "Resolving raw.githubusercontent.com (raw.githubusercontent.com)... 185.199.109.133, 185.199.108.133, 185.199.110.133, ...\n",
            "Connecting to raw.githubusercontent.com (raw.githubusercontent.com)|185.199.109.133|:443... connected.\n",
            "HTTP request sent, awaiting response... 200 OK\n",
            "Length: 3399671 (3.2M) [text/plain]\n",
            "Saving to: ‘netflix_titles.csv’\n",
            "\n",
            "netflix_titles.csv  100%[===================>]   3.24M  --.-KB/s    in 0.07s   \n",
            "\n",
            "2025-02-23 09:52:32 (44.7 MB/s) - ‘netflix_titles.csv’ saved [3399671/3399671]\n",
            "\n"
          ]
        }
      ]
    },
    {
      "cell_type": "code",
      "source": [
        "\n",
        "\n",
        "from pyspark.sql import SparkSession\n",
        "\n",
        "\n",
        "\n",
        "# Initialize SparkSession\n",
        "spark = SparkSession.builder \\\n",
        "    .appName(\"netflix\") \\\n",
        "    .getOrCreate()\n",
        "\n",
        "df = spark.read.csv(\n",
        "    \"netflix_titles.csv\",\n",
        "    header=True,        # Use the first row as column names\n",
        "    inferSchema=True,   # Automatically infer data types\n",
        "    sep=\",\",            # Specify delimiter (default is ',')\n",
        "    encoding=\"UTF-8\"    # Handle encoding\n",
        ")"
      ],
      "metadata": {
        "id": "MkIisV2yKJ7v"
      },
      "execution_count": 2,
      "outputs": []
    },
    {
      "cell_type": "code",
      "source": [
        "\n",
        "df.createOrReplaceTempView(\"netflix\")"
      ],
      "metadata": {
        "id": "YBPauGAuKW78"
      },
      "execution_count": 3,
      "outputs": []
    },
    {
      "cell_type": "code",
      "source": [
        "sql = '''\n",
        "describe netflix\n",
        "\n",
        "'''\n",
        "\n",
        "result = spark.sql(sql)\n",
        "result.show()"
      ],
      "metadata": {
        "colab": {
          "base_uri": "https://localhost:8080/"
        },
        "id": "PYZ7tb0ULD1D",
        "outputId": "00dd5fa6-23fe-411b-9022-1c07ef12c5b9"
      },
      "execution_count": 4,
      "outputs": [
        {
          "output_type": "stream",
          "name": "stdout",
          "text": [
            "+------------+---------+-------+\n",
            "|    col_name|data_type|comment|\n",
            "+------------+---------+-------+\n",
            "|     show_id|   string|   NULL|\n",
            "|        type|   string|   NULL|\n",
            "|       title|   string|   NULL|\n",
            "|    director|   string|   NULL|\n",
            "|        cast|   string|   NULL|\n",
            "|     country|   string|   NULL|\n",
            "|  date_added|   string|   NULL|\n",
            "|release_year|   string|   NULL|\n",
            "|      rating|   string|   NULL|\n",
            "|    duration|   string|   NULL|\n",
            "|   listed_in|   string|   NULL|\n",
            "| description|   string|   NULL|\n",
            "+------------+---------+-------+\n",
            "\n"
          ]
        }
      ]
    },
    {
      "cell_type": "code",
      "source": [
        "\n",
        "sql = '''\n",
        "SELECT distinct country from netflix\n",
        "'''\n",
        "\n",
        "result = spark.sql(sql)\n",
        "result.show()"
      ],
      "metadata": {
        "colab": {
          "base_uri": "https://localhost:8080/"
        },
        "id": "cT14TeX7L3a0",
        "outputId": "040e6e6c-a77c-4674-8840-9eabac7b8267"
      },
      "execution_count": 5,
      "outputs": [
        {
          "output_type": "stream",
          "name": "stdout",
          "text": [
            "+--------------------+\n",
            "|             country|\n",
            "+--------------------+\n",
            "|Peru, United Stat...|\n",
            "|India, United Kin...|\n",
            "|Japan, Canada, Un...|\n",
            "|United Kingdom, C...|\n",
            "|      India, Germany|\n",
            "|South Africa, Uni...|\n",
            "|              Russia|\n",
            "|United Kingdom, G...|\n",
            "|Chile, United Sta...|\n",
            "|South Africa, Angola|\n",
            "|United States, Po...|\n",
            "|  Philippines, Qatar|\n",
            "|Hong Kong, China,...|\n",
            "|  Germany, Sri Lanka|\n",
            "|Denmark, France, ...|\n",
            "|United States, Fr...|\n",
            "|United Kingdom, N...|\n",
            "|Australia, United...|\n",
            "|Brazil, France, G...|\n",
            "|United States, Ir...|\n",
            "+--------------------+\n",
            "only showing top 20 rows\n",
            "\n"
          ]
        }
      ]
    },
    {
      "cell_type": "code",
      "source": [
        "\n",
        "sql = '''\n",
        "SELECT count(country) AS country_count , country\n",
        "FROM netflix\n",
        "GROUP BY country\n",
        "order by country_count desc\n",
        "\n",
        "'''\n",
        "\n",
        "result = spark.sql(sql)\n",
        "result.show()"
      ],
      "metadata": {
        "colab": {
          "base_uri": "https://localhost:8080/"
        },
        "id": "CtzsODhtKkWV",
        "outputId": "d71e24b7-405e-4668-d5d4-9b6db52140a6"
      },
      "execution_count": 6,
      "outputs": [
        {
          "output_type": "stream",
          "name": "stdout",
          "text": [
            "+-------------+--------------------+\n",
            "|country_count|             country|\n",
            "+-------------+--------------------+\n",
            "|         2805|       United States|\n",
            "|          972|               India|\n",
            "|          419|      United Kingdom|\n",
            "|          245|               Japan|\n",
            "|          199|         South Korea|\n",
            "|          181|              Canada|\n",
            "|          145|               Spain|\n",
            "|          123|              France|\n",
            "|          110|              Mexico|\n",
            "|          106|               Egypt|\n",
            "|          105|              Turkey|\n",
            "|           93|             Nigeria|\n",
            "|           87|           Australia|\n",
            "|           81|              Taiwan|\n",
            "|           79|           Indonesia|\n",
            "|           77|              Brazil|\n",
            "|           75|         Philippines|\n",
            "|           75|United Kingdom, U...|\n",
            "|           73|United States, Ca...|\n",
            "|           67|             Germany|\n",
            "+-------------+--------------------+\n",
            "only showing top 20 rows\n",
            "\n"
          ]
        }
      ]
    },
    {
      "cell_type": "code",
      "source": [
        "\n",
        "sql = '''\n",
        "select title, release_year\n",
        "from netflix\n",
        "order by release_year desc\n",
        "'''\n",
        "\n",
        "result = spark.sql(sql)\n",
        "result.show()"
      ],
      "metadata": {
        "colab": {
          "base_uri": "https://localhost:8080/"
        },
        "id": "8R_4dxYQMGDq",
        "outputId": "97216681-0afb-4936-aeeb-538c749402dc"
      },
      "execution_count": 7,
      "outputs": [
        {
          "output_type": "stream",
          "name": "stdout",
          "text": [
            "+--------------------+-----------------+\n",
            "|               title|     release_year|\n",
            "+--------------------+-----------------+\n",
            "| The Next Karate Kid|    United States|\n",
            "|To All the Boys: ...|    June 12, 2021|\n",
            "|What Would Sophia...| January 15, 2021|\n",
            "| An Imperfect Murder| January 13, 2021|\n",
            "|       The Challenge|December 15, 2020|\n",
            "|        An Easy Girl|  August 13, 2020|\n",
            "|                NULL|           40 min|\n",
            "|   Dear White People|             2021|\n",
            "|He-Man and the Ma...|             2021|\n",
            "|       Blood & Water|             2021|\n",
            "|           Intrusion|             2021|\n",
            "|Jailbirds New Orl...|             2021|\n",
            "|              Jaguar|             2021|\n",
            "|       Midnight Mass|             2021|\n",
            "|Monsters Inside: ...|             2021|\n",
            "|The Great British...|             2021|\n",
            "|My Heroes Were Co...|             2021|\n",
            "|Vendetta: Truth, ...|             2021|\n",
            "|Go! Go! Cory Cars...|             2021|\n",
            "|        Je Suis Karl|             2021|\n",
            "+--------------------+-----------------+\n",
            "only showing top 20 rows\n",
            "\n"
          ]
        }
      ]
    },
    {
      "cell_type": "code",
      "source": [
        "sql = '''\n",
        "select * from netflix\n",
        "'''\n",
        "\n",
        "result = spark.sql(sql)\n",
        "result.show()"
      ],
      "metadata": {
        "id": "JaU9eYeJORGG",
        "outputId": "f77b6e44-a575-4740-c8ec-7f8a9be88de4",
        "colab": {
          "base_uri": "https://localhost:8080/"
        }
      },
      "execution_count": 9,
      "outputs": [
        {
          "output_type": "stream",
          "name": "stdout",
          "text": [
            "+-------+-------+--------------------+--------------------+--------------------+--------------------+------------------+------------+------+---------+--------------------+--------------------+\n",
            "|show_id|   type|               title|            director|                cast|             country|        date_added|release_year|rating| duration|           listed_in|         description|\n",
            "+-------+-------+--------------------+--------------------+--------------------+--------------------+------------------+------------+------+---------+--------------------+--------------------+\n",
            "|     s1|  Movie|Dick Johnson Is Dead|     Kirsten Johnson|                NULL|       United States|September 25, 2021|        2020| PG-13|   90 min|       Documentaries|As her father nea...|\n",
            "|     s2|TV Show|       Blood & Water|                NULL|Ama Qamata, Khosi...|        South Africa|September 24, 2021|        2021| TV-MA|2 Seasons|International TV ...|After crossing pa...|\n",
            "|     s3|TV Show|           Ganglands|     Julien Leclercq|Sami Bouajila, Tr...|                NULL|September 24, 2021|        2021| TV-MA| 1 Season|Crime TV Shows, I...|To protect his fa...|\n",
            "|     s4|TV Show|Jailbirds New Orl...|                NULL|                NULL|                NULL|September 24, 2021|        2021| TV-MA| 1 Season|Docuseries, Reali...|Feuds, flirtation...|\n",
            "|     s5|TV Show|        Kota Factory|                NULL|Mayur More, Jiten...|               India|September 24, 2021|        2021| TV-MA|2 Seasons|International TV ...|In a city of coac...|\n",
            "|     s6|TV Show|       Midnight Mass|       Mike Flanagan|Kate Siegel, Zach...|                NULL|September 24, 2021|        2021| TV-MA| 1 Season|TV Dramas, TV Hor...|The arrival of a ...|\n",
            "|     s7|  Movie|My Little Pony: A...|Robert Cullen, Jo...|Vanessa Hudgens, ...|                NULL|September 24, 2021|        2021|    PG|   91 min|Children & Family...|Equestria's divid...|\n",
            "|     s8|  Movie|             Sankofa|        Haile Gerima|Kofi Ghanaba, Oya...|United States, Gh...|September 24, 2021|        1993| TV-MA|  125 min|Dramas, Independe...|On a photo shoot ...|\n",
            "|     s9|TV Show|The Great British...|     Andy Devonshire|Mel Giedroyc, Sue...|      United Kingdom|September 24, 2021|        2021| TV-14|9 Seasons|British TV Shows,...|A talented batch ...|\n",
            "|    s10|  Movie|        The Starling|      Theodore Melfi|Melissa McCarthy,...|       United States|September 24, 2021|        2021| PG-13|  104 min|    Comedies, Dramas|A woman adjusting...|\n",
            "|    s11|TV Show|Vendetta: Truth, ...|                NULL|                NULL|                NULL|September 24, 2021|        2021| TV-MA| 1 Season|Crime TV Shows, D...|\"Sicily boasts a ...|\n",
            "|    s12|TV Show|    Bangkok Breaking|   Kongkiat Komesiri|Sukollawat Kanaro...|                NULL|September 23, 2021|        2021| TV-MA| 1 Season|Crime TV Shows, I...|Struggling to ear...|\n",
            "|    s13|  Movie|        Je Suis Karl| Christian Schwochow|Luna Wedler, Jann...|Germany, Czech Re...|September 23, 2021|        2021| TV-MA|  127 min|Dramas, Internati...|After most of her...|\n",
            "|    s14|  Movie|Confessions of an...|       Bruno Garotti|Klara Castanho, L...|                NULL|September 22, 2021|        2021| TV-PG|   91 min|Children & Family...|When the clever b...|\n",
            "|    s15|TV Show|Crime Stories: In...|                NULL|                NULL|                NULL|September 22, 2021|        2021| TV-MA| 1 Season|British TV Shows,...|Cameras following...|\n",
            "|    s16|TV Show|   Dear White People|                NULL|Logan Browning, B...|       United States|September 22, 2021|        2021| TV-MA|4 Seasons|TV Comedies, TV D...|\"Students of colo...|\n",
            "|    s17|  Movie|Europe's Most Dan...|Pedro de Echave G...|                NULL|                NULL|September 22, 2021|        2020| TV-MA|   67 min|Documentaries, In...|Declassified docu...|\n",
            "|    s18|TV Show|     Falsa identidad|                NULL|Luis Ernesto Fran...|              Mexico|September 22, 2021|        2020| TV-MA|2 Seasons|Crime TV Shows, S...|Strangers Diego a...|\n",
            "|    s19|  Movie|           Intrusion|          Adam Salky|Freida Pinto, Log...|                NULL|September 22, 2021|        2021| TV-14|   94 min|           Thrillers|After a deadly ho...|\n",
            "|    s20|TV Show|              Jaguar|                NULL|Blanca Suárez, Iv...|                NULL|September 22, 2021|        2021| TV-MA| 1 Season|International TV ...|In the 1960s, a H...|\n",
            "+-------+-------+--------------------+--------------------+--------------------+--------------------+------------------+------------+------+---------+--------------------+--------------------+\n",
            "only showing top 20 rows\n",
            "\n"
          ]
        }
      ]
    }
  ]
}