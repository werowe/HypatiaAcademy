{
  "nbformat": 4,
  "nbformat_minor": 0,
  "metadata": {
    "colab": {
      "provenance": [],
      "authorship_tag": "ABX9TyNB98/cQliYM9fau5Dcgz7q",
      "include_colab_link": true
    },
    "kernelspec": {
      "name": "python3",
      "display_name": "Python 3"
    },
    "language_info": {
      "name": "python"
    }
  },
  "cells": [
    {
      "cell_type": "markdown",
      "metadata": {
        "id": "view-in-github",
        "colab_type": "text"
      },
      "source": [
        "<a href=\"https://colab.research.google.com/github/werowe/HypatiaAcademy/blob/master/spark/spark_youtube_german_channels.ipynb\" target=\"_parent\"><img src=\"https://colab.research.google.com/assets/colab-badge.svg\" alt=\"Open In Colab\"/></a>"
      ]
    },
    {
      "cell_type": "code",
      "source": [
        "!wget https://raw.githubusercontent.com/Annepikson/HypatiaAcademy/refs/heads/master/numpy/top-1000-most-subscribed-youtube-channels-in-germany%204.csv youtube.csv"
      ],
      "metadata": {
        "colab": {
          "base_uri": "https://localhost:8080/"
        },
        "id": "60f5HCZhbD8-",
        "outputId": "d80835d6-63cb-463e-c3af-baababcf3073"
      },
      "execution_count": 43,
      "outputs": [
        {
          "output_type": "stream",
          "name": "stdout",
          "text": [
            "--2025-02-26 06:20:23--  https://raw.githubusercontent.com/Annepikson/HypatiaAcademy/refs/heads/master/numpy/top-1000-most-subscribed-youtube-channels-in-germany%204.csv\n",
            "Resolving raw.githubusercontent.com (raw.githubusercontent.com)... 185.199.111.133, 185.199.110.133, 185.199.108.133, ...\n",
            "Connecting to raw.githubusercontent.com (raw.githubusercontent.com)|185.199.111.133|:443... connected.\n",
            "HTTP request sent, awaiting response... 200 OK\n",
            "Length: 70079 (68K) [text/plain]\n",
            "Saving to: ‘top-1000-most-subscribed-youtube-channels-in-germany 4.csv.2’\n",
            "\n",
            "top-1000-most-subsc 100%[===================>]  68.44K  --.-KB/s    in 0.01s   \n",
            "\n",
            "2025-02-26 06:20:23 (4.50 MB/s) - ‘top-1000-most-subscribed-youtube-channels-in-germany 4.csv.2’ saved [70079/70079]\n",
            "\n",
            "--2025-02-26 06:20:23--  http://youtube.csv/\n",
            "Resolving youtube.csv (youtube.csv)... failed: Name or service not known.\n",
            "wget: unable to resolve host address ‘youtube.csv’\n",
            "FINISHED --2025-02-26 06:20:23--\n",
            "Total wall clock time: 0.3s\n",
            "Downloaded: 1 files, 68K in 0.01s (4.50 MB/s)\n"
          ]
        }
      ]
    },
    {
      "cell_type": "code",
      "source": [
        "!head \"top-1000-most-subscribed-youtube-channels-in-germany 4.csv\""
      ],
      "metadata": {
        "colab": {
          "base_uri": "https://localhost:8080/"
        },
        "id": "20VKhaxHk2O4",
        "outputId": "2349672f-8a66-489f-94f9-3905488b169e"
      },
      "execution_count": 44,
      "outputs": [
        {
          "output_type": "stream",
          "name": "stdout",
          "text": [
            "﻿rank,Youtuber,subscribers,video views,video count,category,started\r\n",
            "1,Tsuriki Show,\"34,100,000\",\"42,490,526,838\",\"4,739\",Entertainment,2019\r\n",
            "2,Kidibli (Kinder Spielzeug Kanal),\"29,600,000\",\"15,673,364,837\",\"1,236\",Entertainment,2015\r\n",
            "3,Kurzgesagt – In a Nutshell,\"23,600,000\",\"3,145,706,013\",271,Education,2013\r\n",
            "4,boxtoxtv,\"23,500,000\",\"18,303,986,629\",\"1,559\",Comedy,2022\r\n",
            "5,HaerteTest,\"19,500,000\",\"3,420,864,412\",\"1,712\",Science & Technology,2011\r\n",
            "6,Noel Robinson,\"18,600,000\",\"10,752,582,783\",\"1,639\",Entertainment,2015\r\n",
            "7,FAMILY BOOMS,\"16,800,000\",\"16,225,259,066\",\"1,587\",Entertainment,2021\r\n",
            "8,Talking Angela,\"13,300,000\",\"4,116,834,514\",345,Entertainment,2014\r\n",
            "9,Ice Cream Rolls,\"12,400,000\",\"1,709,743,695\",\"2,725\",Entertainment,2011\r\n"
          ]
        }
      ]
    },
    {
      "cell_type": "code",
      "source": [
        "from pyspark.sql.functions import col\n",
        "from pyspark.sql import SparkSession\n",
        "\n",
        "file=\"top-1000-most-subscribed-youtube-channels-in-germany 4.csv\"\n",
        "\n",
        "\n",
        "spark = SparkSession.builder.appName(\"youtube\").getOrCreate()\n",
        "\n",
        "\n",
        "df = spark.read.csv(file, sep=',', header=True,   inferSchema=True, encoding=\"UTF-8\" )\n",
        "\n",
        "\n",
        "df.printSchema()\n",
        "\n"
      ],
      "metadata": {
        "colab": {
          "base_uri": "https://localhost:8080/"
        },
        "id": "4lEP23XSfMxs",
        "outputId": "613ffc9c-0ca1-408f-e8b5-f5cfd79eded9"
      },
      "execution_count": 45,
      "outputs": [
        {
          "output_type": "stream",
          "name": "stdout",
          "text": [
            "root\n",
            " |-- rank: integer (nullable = true)\n",
            " |-- Youtuber: string (nullable = true)\n",
            " |-- subscribers: string (nullable = true)\n",
            " |-- video views: string (nullable = true)\n",
            " |-- video count: string (nullable = true)\n",
            " |-- category: string (nullable = true)\n",
            " |-- started: integer (nullable = true)\n",
            "\n"
          ]
        }
      ]
    },
    {
      "cell_type": "code",
      "source": [
        "df.show()"
      ],
      "metadata": {
        "colab": {
          "base_uri": "https://localhost:8080/"
        },
        "id": "K2eGVY_-cjT0",
        "outputId": "67309d0b-0380-4467-c396-6781ddd0d291"
      },
      "execution_count": 46,
      "outputs": [
        {
          "output_type": "stream",
          "name": "stdout",
          "text": [
            "+----+--------------------+-----------+--------------+-----------+--------------------+-------+\n",
            "|rank|            Youtuber|subscribers|   video views|video count|            category|started|\n",
            "+----+--------------------+-----------+--------------+-----------+--------------------+-------+\n",
            "|   1|        Tsuriki Show| 34,100,000|42,490,526,838|      4,739|       Entertainment|   2019|\n",
            "|   2|Kidibli (Kinder S...| 29,600,000|15,673,364,837|      1,236|       Entertainment|   2015|\n",
            "|   3|Kurzgesagt – In a...| 23,600,000| 3,145,706,013|        271|           Education|   2013|\n",
            "|   4|            boxtoxtv| 23,500,000|18,303,986,629|      1,559|              Comedy|   2022|\n",
            "|   5|          HaerteTest| 19,500,000| 3,420,864,412|      1,712|Science & Technology|   2011|\n",
            "|   6|       Noel Robinson| 18,600,000|10,752,582,783|      1,639|       Entertainment|   2015|\n",
            "|   7|        FAMILY BOOMS| 16,800,000|16,225,259,066|      1,587|       Entertainment|   2021|\n",
            "|   8|      Talking Angela| 13,300,000| 4,116,834,514|        345|       Entertainment|   2014|\n",
            "|   9|     Ice Cream Rolls| 12,400,000| 1,709,743,695|      2,725|       Entertainment|   2011|\n",
            "|  10|      The Voice Kids| 12,200,000| 4,238,778,683|      1,756|       Entertainment|   2013|\n",
            "|  11|      Electric Squad| 11,700,000| 1,108,711,604|        244|              Gaming|   2022|\n",
            "|  12|       German Spidey| 10,900,000|11,280,067,476|      1,479|              Comedy|   2021|\n",
            "|  13|         Pamela Reif| 10,200,000| 2,039,097,393|        283|       Howto & Style|   2013|\n",
            "|  14|      ag_soccer team|  9,050,000| 9,196,775,078|      1,636|              Sports|   2021|\n",
            "|  15|          Ameer Bros|  8,770,000| 1,664,205,957|        291|       Entertainment|   2018|\n",
            "|  16|         Dave Ardito|  8,660,000| 3,623,871,897|        259|       Entertainment|   2020|\n",
            "|  17|  Rammstein Official|  8,600,000| 6,634,639,951|        158|       Entertainment|   2015|\n",
            "|  18|         freekickerz|  8,540,000| 2,445,688,173|      1,679|              Sports|   2010|\n",
            "|  19|              COLORS|  7,850,000| 3,200,956,695|      1,364|               Music|   2016|\n",
            "|  20|      growingannanas|  7,110,000| 3,804,512,320|      1,055|              Sports|   2017|\n",
            "+----+--------------------+-----------+--------------+-----------+--------------------+-------+\n",
            "only showing top 20 rows\n",
            "\n"
          ]
        }
      ]
    },
    {
      "cell_type": "code",
      "source": [
        "from pyspark.sql.functions import regexp_replace, col\n",
        "\n",
        "df = df.withColumn(\"subscribers\", regexp_replace(col(\"subscribers\"), \",\", \"\").cast(\"long\"))\n",
        "\n",
        "df = df.withColumn(\"video views\", regexp_replace(col(\"video views\"), \",\", \"\").cast(\"long\"))\n",
        "\n",
        "df.printSchema()\n",
        "\n",
        "df.show()"
      ],
      "metadata": {
        "colab": {
          "base_uri": "https://localhost:8080/"
        },
        "id": "J20yntoxl3Pm",
        "outputId": "70a8b757-8c7a-410e-94bb-337cef933980"
      },
      "execution_count": 47,
      "outputs": [
        {
          "output_type": "stream",
          "name": "stdout",
          "text": [
            "root\n",
            " |-- rank: integer (nullable = true)\n",
            " |-- Youtuber: string (nullable = true)\n",
            " |-- subscribers: long (nullable = true)\n",
            " |-- video views: long (nullable = true)\n",
            " |-- video count: string (nullable = true)\n",
            " |-- category: string (nullable = true)\n",
            " |-- started: integer (nullable = true)\n",
            "\n",
            "+----+--------------------+-----------+-----------+-----------+--------------------+-------+\n",
            "|rank|            Youtuber|subscribers|video views|video count|            category|started|\n",
            "+----+--------------------+-----------+-----------+-----------+--------------------+-------+\n",
            "|   1|        Tsuriki Show|   34100000|42490526838|      4,739|       Entertainment|   2019|\n",
            "|   2|Kidibli (Kinder S...|   29600000|15673364837|      1,236|       Entertainment|   2015|\n",
            "|   3|Kurzgesagt – In a...|   23600000| 3145706013|        271|           Education|   2013|\n",
            "|   4|            boxtoxtv|   23500000|18303986629|      1,559|              Comedy|   2022|\n",
            "|   5|          HaerteTest|   19500000| 3420864412|      1,712|Science & Technology|   2011|\n",
            "|   6|       Noel Robinson|   18600000|10752582783|      1,639|       Entertainment|   2015|\n",
            "|   7|        FAMILY BOOMS|   16800000|16225259066|      1,587|       Entertainment|   2021|\n",
            "|   8|      Talking Angela|   13300000| 4116834514|        345|       Entertainment|   2014|\n",
            "|   9|     Ice Cream Rolls|   12400000| 1709743695|      2,725|       Entertainment|   2011|\n",
            "|  10|      The Voice Kids|   12200000| 4238778683|      1,756|       Entertainment|   2013|\n",
            "|  11|      Electric Squad|   11700000| 1108711604|        244|              Gaming|   2022|\n",
            "|  12|       German Spidey|   10900000|11280067476|      1,479|              Comedy|   2021|\n",
            "|  13|         Pamela Reif|   10200000| 2039097393|        283|       Howto & Style|   2013|\n",
            "|  14|      ag_soccer team|    9050000| 9196775078|      1,636|              Sports|   2021|\n",
            "|  15|          Ameer Bros|    8770000| 1664205957|        291|       Entertainment|   2018|\n",
            "|  16|         Dave Ardito|    8660000| 3623871897|        259|       Entertainment|   2020|\n",
            "|  17|  Rammstein Official|    8600000| 6634639951|        158|       Entertainment|   2015|\n",
            "|  18|         freekickerz|    8540000| 2445688173|      1,679|              Sports|   2010|\n",
            "|  19|              COLORS|    7850000| 3200956695|      1,364|               Music|   2016|\n",
            "|  20|      growingannanas|    7110000| 3804512320|      1,055|              Sports|   2017|\n",
            "+----+--------------------+-----------+-----------+-----------+--------------------+-------+\n",
            "only showing top 20 rows\n",
            "\n"
          ]
        }
      ]
    },
    {
      "cell_type": "code",
      "source": [
        "df = df.withColumnRenamed(\"video views\", \"video_views\")\n",
        "df = df.withColumnRenamed(\"video count\", \"video_count\")\n"
      ],
      "metadata": {
        "id": "5XeDB3SXnp2z"
      },
      "execution_count": 48,
      "outputs": []
    },
    {
      "cell_type": "code",
      "source": [
        "df.createOrReplaceTempView(\"videos\")"
      ],
      "metadata": {
        "id": "FT4ZR1TPoDUZ"
      },
      "execution_count": 49,
      "outputs": []
    },
    {
      "cell_type": "code",
      "source": [
        "\n",
        "sql=\"describe videos\"\n",
        "\n",
        "spark.sql(sql).show()"
      ],
      "metadata": {
        "colab": {
          "base_uri": "https://localhost:8080/"
        },
        "id": "xpaDtBw4oQsN",
        "outputId": "d0b1263f-5a8c-4bf1-ad9f-f13c1d838952"
      },
      "execution_count": 50,
      "outputs": [
        {
          "output_type": "stream",
          "name": "stdout",
          "text": [
            "+-----------+---------+-------+\n",
            "|   col_name|data_type|comment|\n",
            "+-----------+---------+-------+\n",
            "|       rank|      int|   NULL|\n",
            "|   Youtuber|   string|   NULL|\n",
            "|subscribers|   bigint|   NULL|\n",
            "|video_views|   bigint|   NULL|\n",
            "|video_count|   string|   NULL|\n",
            "|   category|   string|   NULL|\n",
            "|    started|      int|   NULL|\n",
            "+-----------+---------+-------+\n",
            "\n"
          ]
        }
      ]
    },
    {
      "cell_type": "code",
      "source": [
        "sql=\"\"\"\n",
        "    SELECT * from videos\n",
        "\"\"\"\n",
        "\n",
        "spark.sql(sql).show()\n",
        "\n",
        "\n"
      ],
      "metadata": {
        "colab": {
          "base_uri": "https://localhost:8080/"
        },
        "id": "13tsn0croECM",
        "outputId": "5a9b9fcb-4ed3-4d9c-cf50-3795f3dfbe2a"
      },
      "execution_count": 51,
      "outputs": [
        {
          "output_type": "stream",
          "name": "stdout",
          "text": [
            "+----+--------------------+-----------+-----------+-----------+--------------------+-------+\n",
            "|rank|            Youtuber|subscribers|video_views|video_count|            category|started|\n",
            "+----+--------------------+-----------+-----------+-----------+--------------------+-------+\n",
            "|   1|        Tsuriki Show|   34100000|42490526838|      4,739|       Entertainment|   2019|\n",
            "|   2|Kidibli (Kinder S...|   29600000|15673364837|      1,236|       Entertainment|   2015|\n",
            "|   3|Kurzgesagt – In a...|   23600000| 3145706013|        271|           Education|   2013|\n",
            "|   4|            boxtoxtv|   23500000|18303986629|      1,559|              Comedy|   2022|\n",
            "|   5|          HaerteTest|   19500000| 3420864412|      1,712|Science & Technology|   2011|\n",
            "|   6|       Noel Robinson|   18600000|10752582783|      1,639|       Entertainment|   2015|\n",
            "|   7|        FAMILY BOOMS|   16800000|16225259066|      1,587|       Entertainment|   2021|\n",
            "|   8|      Talking Angela|   13300000| 4116834514|        345|       Entertainment|   2014|\n",
            "|   9|     Ice Cream Rolls|   12400000| 1709743695|      2,725|       Entertainment|   2011|\n",
            "|  10|      The Voice Kids|   12200000| 4238778683|      1,756|       Entertainment|   2013|\n",
            "|  11|      Electric Squad|   11700000| 1108711604|        244|              Gaming|   2022|\n",
            "|  12|       German Spidey|   10900000|11280067476|      1,479|              Comedy|   2021|\n",
            "|  13|         Pamela Reif|   10200000| 2039097393|        283|       Howto & Style|   2013|\n",
            "|  14|      ag_soccer team|    9050000| 9196775078|      1,636|              Sports|   2021|\n",
            "|  15|          Ameer Bros|    8770000| 1664205957|        291|       Entertainment|   2018|\n",
            "|  16|         Dave Ardito|    8660000| 3623871897|        259|       Entertainment|   2020|\n",
            "|  17|  Rammstein Official|    8600000| 6634639951|        158|       Entertainment|   2015|\n",
            "|  18|         freekickerz|    8540000| 2445688173|      1,679|              Sports|   2010|\n",
            "|  19|              COLORS|    7850000| 3200956695|      1,364|               Music|   2016|\n",
            "|  20|      growingannanas|    7110000| 3804512320|      1,055|              Sports|   2017|\n",
            "+----+--------------------+-----------+-----------+-----------+--------------------+-------+\n",
            "only showing top 20 rows\n",
            "\n"
          ]
        }
      ]
    },
    {
      "cell_type": "code",
      "source": [
        "topChannels= spark.sql(\"\"\"\n",
        "    SELECT Youtuber, sum(subscribers) as sum_subscribers, sum(video_views) as sum_video_views\n",
        "    from videos\n",
        "    group by  Youtuber\n",
        "    order by sum_video_views desc\n",
        "\"\"\")\n",
        "topChannels.show()\n",
        "\n"
      ],
      "metadata": {
        "colab": {
          "base_uri": "https://localhost:8080/"
        },
        "id": "kLczBr8tpTMi",
        "outputId": "0fd3dcd5-c084-41df-f1ed-0451bf04027f"
      },
      "execution_count": 55,
      "outputs": [
        {
          "output_type": "stream",
          "name": "stdout",
          "text": [
            "+--------------------+---------------+---------------+\n",
            "|            Youtuber|sum_subscribers|sum_video_views|\n",
            "+--------------------+---------------+---------------+\n",
            "|        Tsuriki Show|       34100000|    42490526838|\n",
            "|            boxtoxtv|       23500000|    18303986629|\n",
            "|        FAMILY BOOMS|       16800000|    16225259066|\n",
            "|Kidibli (Kinder S...|       29600000|    15673364837|\n",
            "|       German Spidey|       10900000|    11280067476|\n",
            "|       Noel Robinson|       18600000|    10752582783|\n",
            "|      ag_soccer team|        9050000|     9196775078|\n",
            "|         ArkivaShqip|        4610000|     7678417494|\n",
            "|  Rammstein Official|        8600000|     6634639951|\n",
            "|             Paluten|        5530000|     5564401210|\n",
            "|           Uyen Ninh|        2920000|     5363263070|\n",
            "|      ProsafiaGaming|        4700000|     4919466523|\n",
            "|         TikTokTunes|        6990000|     4713201758|\n",
            "|        SKITS German|        5150000|     4640958734|\n",
            "|    Nik Wild Animals|        5490000|     4475179345|\n",
            "|        Robin Schulz|        3740000|     4271593171|\n",
            "|      The Voice Kids|       12200000|     4238778683|\n",
            "|        nadinebreaty|        5840000|     4191817862|\n",
            "|           marsgizmo|        3100000|     4127105317|\n",
            "|      Talking Angela|       13300000|     4116834514|\n",
            "+--------------------+---------------+---------------+\n",
            "only showing top 20 rows\n",
            "\n"
          ]
        }
      ]
    },
    {
      "cell_type": "code",
      "source": [
        "topChannels.coalesce(1).write.csv(\"videos_partition\", header=True)"
      ],
      "metadata": {
        "id": "QzeqxdPU6XO6"
      },
      "execution_count": 59,
      "outputs": []
    },
    {
      "cell_type": "code",
      "source": [
        "!ls videos_partition"
      ],
      "metadata": {
        "colab": {
          "base_uri": "https://localhost:8080/"
        },
        "id": "eCMjS_Av7TE8",
        "outputId": "a152d934-26ed-4f24-faba-3849b28f41d4"
      },
      "execution_count": 60,
      "outputs": [
        {
          "output_type": "stream",
          "name": "stdout",
          "text": [
            "part-00000-427162e2-f140-45a8-ac65-871b8fc0f2a0-c000.csv  _SUCCESS\n"
          ]
        }
      ]
    },
    {
      "cell_type": "code",
      "source": [
        "!head videos_partition/part-00000-427162e2-f140-45a8-ac65-871b8fc0f2a0-c000.csv"
      ],
      "metadata": {
        "colab": {
          "base_uri": "https://localhost:8080/"
        },
        "id": "ZcIGtYBX7YkL",
        "outputId": "d99d774e-0d87-4797-b243-218baf4c5968"
      },
      "execution_count": 62,
      "outputs": [
        {
          "output_type": "stream",
          "name": "stdout",
          "text": [
            "Youtuber,sum_subscribers,sum_video_views\n",
            "Tsuriki Show,34100000,42490526838\n",
            "boxtoxtv,23500000,18303986629\n",
            "FAMILY BOOMS,16800000,16225259066\n",
            "Kidibli (Kinder Spielzeug Kanal),29600000,15673364837\n",
            "German Spidey,10900000,11280067476\n",
            "Noel Robinson,18600000,10752582783\n",
            "ag_soccer team,9050000,9196775078\n",
            "ArkivaShqip,4610000,7678417494\n",
            "Rammstein Official,8600000,6634639951\n"
          ]
        }
      ]
    }
  ]
}