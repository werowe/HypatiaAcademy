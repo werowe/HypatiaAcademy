{
  "nbformat": 4,
  "nbformat_minor": 0,
  "metadata": {
    "colab": {
      "provenance": [],
      "include_colab_link": true
    },
    "kernelspec": {
      "name": "python3",
      "display_name": "Python 3"
    },
    "language_info": {
      "name": "python"
    }
  },
  "cells": [
    {
      "cell_type": "markdown",
      "metadata": {
        "id": "view-in-github",
        "colab_type": "text"
      },
      "source": [
        "<a href=\"https://colab.research.google.com/github/werowe/HypatiaAcademy/blob/master/spark/2025_02_28_diana_pandas_to_spark.ipynb\" target=\"_parent\"><img src=\"https://colab.research.google.com/assets/colab-badge.svg\" alt=\"Open In Colab\"/></a>"
      ]
    },
    {
      "cell_type": "code",
      "source": [
        "import pandas as pd"
      ],
      "metadata": {
        "id": "f7PEdUUcF1nq"
      },
      "execution_count": 2,
      "outputs": []
    },
    {
      "cell_type": "code",
      "source": [
        "# don't need this for spark\n",
        "\n",
        "df = pd.read_csv(\"https://raw.githubusercontent.com/Dianaepikson/HypatiaAcademy/refs/heads/master/numpy/webscrape.csv\")\n",
        "\n",
        "df"
      ],
      "metadata": {
        "colab": {
          "base_uri": "https://localhost:8080/",
          "height": 687
        },
        "id": "eSDdornaFUFF",
        "outputId": "9f1caabc-7509-4c3c-ef96-f404f109fbfa"
      },
      "execution_count": 3,
      "outputs": [
        {
          "output_type": "execute_result",
          "data": {
            "text/plain": [
              "    Rank                      Name                    Industry  \\\n",
              "0      1                   Walmart                      Retail   \n",
              "1      2                    Amazon  Retail and Cloud Computing   \n",
              "2      3               Exxon Mobil          Petroleum industry   \n",
              "3      4                     Apple        Electronics industry   \n",
              "4      5        UnitedHealth Group                  Healthcare   \n",
              "..   ...                       ...                         ...   \n",
              "95    96                  Best Buy                      Retail   \n",
              "96    97      Bristol-Myers Squibb     Pharmaceutical industry   \n",
              "97    98           United Airlines                     Airline   \n",
              "98    99  Thermo Fisher Scientific      Laboratory instruments   \n",
              "99   100                  Qualcomm                  Technology   \n",
              "\n",
              "   Revenue (USD millions) Revenue growth  Employees             Headquarters  \n",
              "0                 611,289           6.7%  2,100,000    Bentonville, Arkansas  \n",
              "1                 513,983           9.4%  1,540,000      Seattle, Washington  \n",
              "2                 413,680          44.8%     62,000            Spring, Texas  \n",
              "3                 394,328           7.8%    164,000    Cupertino, California  \n",
              "4                 324,162          12.7%    400,000    Minnetonka, Minnesota  \n",
              "..                    ...            ...        ...                      ...  \n",
              "95                 46,298          10.6%     71,100     Richfield, Minnesota  \n",
              "96                 46,159           0.5%     34,300  New York City, New York  \n",
              "97                 44,955          82.5%     92,795        Chicago, Illinois  \n",
              "98                 44,915          14.5%    130,000   Waltham, Massachusetts  \n",
              "99                 44,200          31.7%     51,000    San Diego, California  \n",
              "\n",
              "[100 rows x 7 columns]"
            ],
            "text/html": [
              "\n",
              "  <div id=\"df-71a16957-e0b9-4df7-9817-3f44df1ca02b\" class=\"colab-df-container\">\n",
              "    <div>\n",
              "<style scoped>\n",
              "    .dataframe tbody tr th:only-of-type {\n",
              "        vertical-align: middle;\n",
              "    }\n",
              "\n",
              "    .dataframe tbody tr th {\n",
              "        vertical-align: top;\n",
              "    }\n",
              "\n",
              "    .dataframe thead th {\n",
              "        text-align: right;\n",
              "    }\n",
              "</style>\n",
              "<table border=\"1\" class=\"dataframe\">\n",
              "  <thead>\n",
              "    <tr style=\"text-align: right;\">\n",
              "      <th></th>\n",
              "      <th>Rank</th>\n",
              "      <th>Name</th>\n",
              "      <th>Industry</th>\n",
              "      <th>Revenue (USD millions)</th>\n",
              "      <th>Revenue growth</th>\n",
              "      <th>Employees</th>\n",
              "      <th>Headquarters</th>\n",
              "    </tr>\n",
              "  </thead>\n",
              "  <tbody>\n",
              "    <tr>\n",
              "      <th>0</th>\n",
              "      <td>1</td>\n",
              "      <td>Walmart</td>\n",
              "      <td>Retail</td>\n",
              "      <td>611,289</td>\n",
              "      <td>6.7%</td>\n",
              "      <td>2,100,000</td>\n",
              "      <td>Bentonville, Arkansas</td>\n",
              "    </tr>\n",
              "    <tr>\n",
              "      <th>1</th>\n",
              "      <td>2</td>\n",
              "      <td>Amazon</td>\n",
              "      <td>Retail and Cloud Computing</td>\n",
              "      <td>513,983</td>\n",
              "      <td>9.4%</td>\n",
              "      <td>1,540,000</td>\n",
              "      <td>Seattle, Washington</td>\n",
              "    </tr>\n",
              "    <tr>\n",
              "      <th>2</th>\n",
              "      <td>3</td>\n",
              "      <td>Exxon Mobil</td>\n",
              "      <td>Petroleum industry</td>\n",
              "      <td>413,680</td>\n",
              "      <td>44.8%</td>\n",
              "      <td>62,000</td>\n",
              "      <td>Spring, Texas</td>\n",
              "    </tr>\n",
              "    <tr>\n",
              "      <th>3</th>\n",
              "      <td>4</td>\n",
              "      <td>Apple</td>\n",
              "      <td>Electronics industry</td>\n",
              "      <td>394,328</td>\n",
              "      <td>7.8%</td>\n",
              "      <td>164,000</td>\n",
              "      <td>Cupertino, California</td>\n",
              "    </tr>\n",
              "    <tr>\n",
              "      <th>4</th>\n",
              "      <td>5</td>\n",
              "      <td>UnitedHealth Group</td>\n",
              "      <td>Healthcare</td>\n",
              "      <td>324,162</td>\n",
              "      <td>12.7%</td>\n",
              "      <td>400,000</td>\n",
              "      <td>Minnetonka, Minnesota</td>\n",
              "    </tr>\n",
              "    <tr>\n",
              "      <th>...</th>\n",
              "      <td>...</td>\n",
              "      <td>...</td>\n",
              "      <td>...</td>\n",
              "      <td>...</td>\n",
              "      <td>...</td>\n",
              "      <td>...</td>\n",
              "      <td>...</td>\n",
              "    </tr>\n",
              "    <tr>\n",
              "      <th>95</th>\n",
              "      <td>96</td>\n",
              "      <td>Best Buy</td>\n",
              "      <td>Retail</td>\n",
              "      <td>46,298</td>\n",
              "      <td>10.6%</td>\n",
              "      <td>71,100</td>\n",
              "      <td>Richfield, Minnesota</td>\n",
              "    </tr>\n",
              "    <tr>\n",
              "      <th>96</th>\n",
              "      <td>97</td>\n",
              "      <td>Bristol-Myers Squibb</td>\n",
              "      <td>Pharmaceutical industry</td>\n",
              "      <td>46,159</td>\n",
              "      <td>0.5%</td>\n",
              "      <td>34,300</td>\n",
              "      <td>New York City, New York</td>\n",
              "    </tr>\n",
              "    <tr>\n",
              "      <th>97</th>\n",
              "      <td>98</td>\n",
              "      <td>United Airlines</td>\n",
              "      <td>Airline</td>\n",
              "      <td>44,955</td>\n",
              "      <td>82.5%</td>\n",
              "      <td>92,795</td>\n",
              "      <td>Chicago, Illinois</td>\n",
              "    </tr>\n",
              "    <tr>\n",
              "      <th>98</th>\n",
              "      <td>99</td>\n",
              "      <td>Thermo Fisher Scientific</td>\n",
              "      <td>Laboratory instruments</td>\n",
              "      <td>44,915</td>\n",
              "      <td>14.5%</td>\n",
              "      <td>130,000</td>\n",
              "      <td>Waltham, Massachusetts</td>\n",
              "    </tr>\n",
              "    <tr>\n",
              "      <th>99</th>\n",
              "      <td>100</td>\n",
              "      <td>Qualcomm</td>\n",
              "      <td>Technology</td>\n",
              "      <td>44,200</td>\n",
              "      <td>31.7%</td>\n",
              "      <td>51,000</td>\n",
              "      <td>San Diego, California</td>\n",
              "    </tr>\n",
              "  </tbody>\n",
              "</table>\n",
              "<p>100 rows × 7 columns</p>\n",
              "</div>\n",
              "    <div class=\"colab-df-buttons\">\n",
              "\n",
              "  <div class=\"colab-df-container\">\n",
              "    <button class=\"colab-df-convert\" onclick=\"convertToInteractive('df-71a16957-e0b9-4df7-9817-3f44df1ca02b')\"\n",
              "            title=\"Convert this dataframe to an interactive table.\"\n",
              "            style=\"display:none;\">\n",
              "\n",
              "  <svg xmlns=\"http://www.w3.org/2000/svg\" height=\"24px\" viewBox=\"0 -960 960 960\">\n",
              "    <path d=\"M120-120v-720h720v720H120Zm60-500h600v-160H180v160Zm220 220h160v-160H400v160Zm0 220h160v-160H400v160ZM180-400h160v-160H180v160Zm440 0h160v-160H620v160ZM180-180h160v-160H180v160Zm440 0h160v-160H620v160Z\"/>\n",
              "  </svg>\n",
              "    </button>\n",
              "\n",
              "  <style>\n",
              "    .colab-df-container {\n",
              "      display:flex;\n",
              "      gap: 12px;\n",
              "    }\n",
              "\n",
              "    .colab-df-convert {\n",
              "      background-color: #E8F0FE;\n",
              "      border: none;\n",
              "      border-radius: 50%;\n",
              "      cursor: pointer;\n",
              "      display: none;\n",
              "      fill: #1967D2;\n",
              "      height: 32px;\n",
              "      padding: 0 0 0 0;\n",
              "      width: 32px;\n",
              "    }\n",
              "\n",
              "    .colab-df-convert:hover {\n",
              "      background-color: #E2EBFA;\n",
              "      box-shadow: 0px 1px 2px rgba(60, 64, 67, 0.3), 0px 1px 3px 1px rgba(60, 64, 67, 0.15);\n",
              "      fill: #174EA6;\n",
              "    }\n",
              "\n",
              "    .colab-df-buttons div {\n",
              "      margin-bottom: 4px;\n",
              "    }\n",
              "\n",
              "    [theme=dark] .colab-df-convert {\n",
              "      background-color: #3B4455;\n",
              "      fill: #D2E3FC;\n",
              "    }\n",
              "\n",
              "    [theme=dark] .colab-df-convert:hover {\n",
              "      background-color: #434B5C;\n",
              "      box-shadow: 0px 1px 3px 1px rgba(0, 0, 0, 0.15);\n",
              "      filter: drop-shadow(0px 1px 2px rgba(0, 0, 0, 0.3));\n",
              "      fill: #FFFFFF;\n",
              "    }\n",
              "  </style>\n",
              "\n",
              "    <script>\n",
              "      const buttonEl =\n",
              "        document.querySelector('#df-71a16957-e0b9-4df7-9817-3f44df1ca02b button.colab-df-convert');\n",
              "      buttonEl.style.display =\n",
              "        google.colab.kernel.accessAllowed ? 'block' : 'none';\n",
              "\n",
              "      async function convertToInteractive(key) {\n",
              "        const element = document.querySelector('#df-71a16957-e0b9-4df7-9817-3f44df1ca02b');\n",
              "        const dataTable =\n",
              "          await google.colab.kernel.invokeFunction('convertToInteractive',\n",
              "                                                    [key], {});\n",
              "        if (!dataTable) return;\n",
              "\n",
              "        const docLinkHtml = 'Like what you see? Visit the ' +\n",
              "          '<a target=\"_blank\" href=https://colab.research.google.com/notebooks/data_table.ipynb>data table notebook</a>'\n",
              "          + ' to learn more about interactive tables.';\n",
              "        element.innerHTML = '';\n",
              "        dataTable['output_type'] = 'display_data';\n",
              "        await google.colab.output.renderOutput(dataTable, element);\n",
              "        const docLink = document.createElement('div');\n",
              "        docLink.innerHTML = docLinkHtml;\n",
              "        element.appendChild(docLink);\n",
              "      }\n",
              "    </script>\n",
              "  </div>\n",
              "\n",
              "\n",
              "<div id=\"df-bf9be3f3-c261-4f28-862e-a37674257a16\">\n",
              "  <button class=\"colab-df-quickchart\" onclick=\"quickchart('df-bf9be3f3-c261-4f28-862e-a37674257a16')\"\n",
              "            title=\"Suggest charts\"\n",
              "            style=\"display:none;\">\n",
              "\n",
              "<svg xmlns=\"http://www.w3.org/2000/svg\" height=\"24px\"viewBox=\"0 0 24 24\"\n",
              "     width=\"24px\">\n",
              "    <g>\n",
              "        <path d=\"M19 3H5c-1.1 0-2 .9-2 2v14c0 1.1.9 2 2 2h14c1.1 0 2-.9 2-2V5c0-1.1-.9-2-2-2zM9 17H7v-7h2v7zm4 0h-2V7h2v10zm4 0h-2v-4h2v4z\"/>\n",
              "    </g>\n",
              "</svg>\n",
              "  </button>\n",
              "\n",
              "<style>\n",
              "  .colab-df-quickchart {\n",
              "      --bg-color: #E8F0FE;\n",
              "      --fill-color: #1967D2;\n",
              "      --hover-bg-color: #E2EBFA;\n",
              "      --hover-fill-color: #174EA6;\n",
              "      --disabled-fill-color: #AAA;\n",
              "      --disabled-bg-color: #DDD;\n",
              "  }\n",
              "\n",
              "  [theme=dark] .colab-df-quickchart {\n",
              "      --bg-color: #3B4455;\n",
              "      --fill-color: #D2E3FC;\n",
              "      --hover-bg-color: #434B5C;\n",
              "      --hover-fill-color: #FFFFFF;\n",
              "      --disabled-bg-color: #3B4455;\n",
              "      --disabled-fill-color: #666;\n",
              "  }\n",
              "\n",
              "  .colab-df-quickchart {\n",
              "    background-color: var(--bg-color);\n",
              "    border: none;\n",
              "    border-radius: 50%;\n",
              "    cursor: pointer;\n",
              "    display: none;\n",
              "    fill: var(--fill-color);\n",
              "    height: 32px;\n",
              "    padding: 0;\n",
              "    width: 32px;\n",
              "  }\n",
              "\n",
              "  .colab-df-quickchart:hover {\n",
              "    background-color: var(--hover-bg-color);\n",
              "    box-shadow: 0 1px 2px rgba(60, 64, 67, 0.3), 0 1px 3px 1px rgba(60, 64, 67, 0.15);\n",
              "    fill: var(--button-hover-fill-color);\n",
              "  }\n",
              "\n",
              "  .colab-df-quickchart-complete:disabled,\n",
              "  .colab-df-quickchart-complete:disabled:hover {\n",
              "    background-color: var(--disabled-bg-color);\n",
              "    fill: var(--disabled-fill-color);\n",
              "    box-shadow: none;\n",
              "  }\n",
              "\n",
              "  .colab-df-spinner {\n",
              "    border: 2px solid var(--fill-color);\n",
              "    border-color: transparent;\n",
              "    border-bottom-color: var(--fill-color);\n",
              "    animation:\n",
              "      spin 1s steps(1) infinite;\n",
              "  }\n",
              "\n",
              "  @keyframes spin {\n",
              "    0% {\n",
              "      border-color: transparent;\n",
              "      border-bottom-color: var(--fill-color);\n",
              "      border-left-color: var(--fill-color);\n",
              "    }\n",
              "    20% {\n",
              "      border-color: transparent;\n",
              "      border-left-color: var(--fill-color);\n",
              "      border-top-color: var(--fill-color);\n",
              "    }\n",
              "    30% {\n",
              "      border-color: transparent;\n",
              "      border-left-color: var(--fill-color);\n",
              "      border-top-color: var(--fill-color);\n",
              "      border-right-color: var(--fill-color);\n",
              "    }\n",
              "    40% {\n",
              "      border-color: transparent;\n",
              "      border-right-color: var(--fill-color);\n",
              "      border-top-color: var(--fill-color);\n",
              "    }\n",
              "    60% {\n",
              "      border-color: transparent;\n",
              "      border-right-color: var(--fill-color);\n",
              "    }\n",
              "    80% {\n",
              "      border-color: transparent;\n",
              "      border-right-color: var(--fill-color);\n",
              "      border-bottom-color: var(--fill-color);\n",
              "    }\n",
              "    90% {\n",
              "      border-color: transparent;\n",
              "      border-bottom-color: var(--fill-color);\n",
              "    }\n",
              "  }\n",
              "</style>\n",
              "\n",
              "  <script>\n",
              "    async function quickchart(key) {\n",
              "      const quickchartButtonEl =\n",
              "        document.querySelector('#' + key + ' button');\n",
              "      quickchartButtonEl.disabled = true;  // To prevent multiple clicks.\n",
              "      quickchartButtonEl.classList.add('colab-df-spinner');\n",
              "      try {\n",
              "        const charts = await google.colab.kernel.invokeFunction(\n",
              "            'suggestCharts', [key], {});\n",
              "      } catch (error) {\n",
              "        console.error('Error during call to suggestCharts:', error);\n",
              "      }\n",
              "      quickchartButtonEl.classList.remove('colab-df-spinner');\n",
              "      quickchartButtonEl.classList.add('colab-df-quickchart-complete');\n",
              "    }\n",
              "    (() => {\n",
              "      let quickchartButtonEl =\n",
              "        document.querySelector('#df-bf9be3f3-c261-4f28-862e-a37674257a16 button');\n",
              "      quickchartButtonEl.style.display =\n",
              "        google.colab.kernel.accessAllowed ? 'block' : 'none';\n",
              "    })();\n",
              "  </script>\n",
              "</div>\n",
              "\n",
              "  <div id=\"id_88898432-d006-466a-887b-a70ac4e76615\">\n",
              "    <style>\n",
              "      .colab-df-generate {\n",
              "        background-color: #E8F0FE;\n",
              "        border: none;\n",
              "        border-radius: 50%;\n",
              "        cursor: pointer;\n",
              "        display: none;\n",
              "        fill: #1967D2;\n",
              "        height: 32px;\n",
              "        padding: 0 0 0 0;\n",
              "        width: 32px;\n",
              "      }\n",
              "\n",
              "      .colab-df-generate:hover {\n",
              "        background-color: #E2EBFA;\n",
              "        box-shadow: 0px 1px 2px rgba(60, 64, 67, 0.3), 0px 1px 3px 1px rgba(60, 64, 67, 0.15);\n",
              "        fill: #174EA6;\n",
              "      }\n",
              "\n",
              "      [theme=dark] .colab-df-generate {\n",
              "        background-color: #3B4455;\n",
              "        fill: #D2E3FC;\n",
              "      }\n",
              "\n",
              "      [theme=dark] .colab-df-generate:hover {\n",
              "        background-color: #434B5C;\n",
              "        box-shadow: 0px 1px 3px 1px rgba(0, 0, 0, 0.15);\n",
              "        filter: drop-shadow(0px 1px 2px rgba(0, 0, 0, 0.3));\n",
              "        fill: #FFFFFF;\n",
              "      }\n",
              "    </style>\n",
              "    <button class=\"colab-df-generate\" onclick=\"generateWithVariable('df')\"\n",
              "            title=\"Generate code using this dataframe.\"\n",
              "            style=\"display:none;\">\n",
              "\n",
              "  <svg xmlns=\"http://www.w3.org/2000/svg\" height=\"24px\"viewBox=\"0 0 24 24\"\n",
              "       width=\"24px\">\n",
              "    <path d=\"M7,19H8.4L18.45,9,17,7.55,7,17.6ZM5,21V16.75L18.45,3.32a2,2,0,0,1,2.83,0l1.4,1.43a1.91,1.91,0,0,1,.58,1.4,1.91,1.91,0,0,1-.58,1.4L9.25,21ZM18.45,9,17,7.55Zm-12,3A5.31,5.31,0,0,0,4.9,8.1,5.31,5.31,0,0,0,1,6.5,5.31,5.31,0,0,0,4.9,4.9,5.31,5.31,0,0,0,6.5,1,5.31,5.31,0,0,0,8.1,4.9,5.31,5.31,0,0,0,12,6.5,5.46,5.46,0,0,0,6.5,12Z\"/>\n",
              "  </svg>\n",
              "    </button>\n",
              "    <script>\n",
              "      (() => {\n",
              "      const buttonEl =\n",
              "        document.querySelector('#id_88898432-d006-466a-887b-a70ac4e76615 button.colab-df-generate');\n",
              "      buttonEl.style.display =\n",
              "        google.colab.kernel.accessAllowed ? 'block' : 'none';\n",
              "\n",
              "      buttonEl.onclick = () => {\n",
              "        google.colab.notebook.generateWithVariable('df');\n",
              "      }\n",
              "      })();\n",
              "    </script>\n",
              "  </div>\n",
              "\n",
              "    </div>\n",
              "  </div>\n"
            ],
            "application/vnd.google.colaboratory.intrinsic+json": {
              "type": "dataframe",
              "variable_name": "df",
              "summary": "{\n  \"name\": \"df\",\n  \"rows\": 100,\n  \"fields\": [\n    {\n      \"column\": \"Rank\",\n      \"properties\": {\n        \"dtype\": \"number\",\n        \"std\": 29,\n        \"min\": 1,\n        \"max\": 100,\n        \"num_unique_values\": 100,\n        \"samples\": [\n          84,\n          54,\n          71\n        ],\n        \"semantic_type\": \"\",\n        \"description\": \"\"\n      }\n    },\n    {\n      \"column\": \"Name\",\n      \"properties\": {\n        \"dtype\": \"string\",\n        \"num_unique_values\": 100,\n        \"samples\": [\n          \"Cisco\",\n          \"General Electric\",\n          \"Merck & Co.\"\n        ],\n        \"semantic_type\": \"\",\n        \"description\": \"\"\n      }\n    },\n    {\n      \"column\": \"Industry\",\n      \"properties\": {\n        \"dtype\": \"category\",\n        \"num_unique_values\": 38,\n        \"samples\": [\n          \"Telecom Hardware Manufacturing\",\n          \"Apparel\",\n          \"Healthcare\"\n        ],\n        \"semantic_type\": \"\",\n        \"description\": \"\"\n      }\n    },\n    {\n      \"column\": \"Revenue (USD millions)\",\n      \"properties\": {\n        \"dtype\": \"string\",\n        \"num_unique_values\": 99,\n        \"samples\": [\n          \"65,936\",\n          \"93,512\",\n          \"46,159\"\n        ],\n        \"semantic_type\": \"\",\n        \"description\": \"\"\n      }\n    },\n    {\n      \"column\": \"Revenue growth\",\n      \"properties\": {\n        \"dtype\": \"string\",\n        \"num_unique_values\": 92,\n        \"samples\": [\n          \"33.3%\",\n          \"7.5%\",\n          \"13.7%\"\n        ],\n        \"semantic_type\": \"\",\n        \"description\": \"\"\n      }\n    },\n    {\n      \"column\": \"Employees\",\n      \"properties\": {\n        \"dtype\": \"string\",\n        \"num_unique_values\": 97,\n        \"samples\": [\n          \"58,000\",\n          \"518,249\",\n          \"34,300\"\n        ],\n        \"semantic_type\": \"\",\n        \"description\": \"\"\n      }\n    },\n    {\n      \"column\": \"Headquarters\",\n      \"properties\": {\n        \"dtype\": \"string\",\n        \"num_unique_values\": 76,\n        \"samples\": [\n          \"Minnetonka, Minnesota\",\n          \"New Brunswick, New Jersey\",\n          \"Chesterbrook, Pennsylvania\"\n        ],\n        \"semantic_type\": \"\",\n        \"description\": \"\"\n      }\n    }\n  ]\n}"
            }
          },
          "metadata": {},
          "execution_count": 3
        }
      ]
    },
    {
      "cell_type": "markdown",
      "source": [
        "# Next couple of weeks\n",
        "\n",
        "* use Apache Spark\n",
        "\n",
        "* data cleansing using Pandas\n",
        "\n",
        "* use a 5 day Kaggle competition\n",
        "\n",
        "#IBM\n",
        "\n",
        "mainframe\n",
        "\n",
        "\n",
        "SAP\n",
        "\n",
        "\n"
      ],
      "metadata": {
        "id": "zJRToDpLTAeU"
      }
    },
    {
      "cell_type": "code",
      "source": [
        "# Print column names\n",
        "print(df.columns)"
      ],
      "metadata": {
        "colab": {
          "base_uri": "https://localhost:8080/"
        },
        "id": "_dWRFc4fIkbW",
        "outputId": "9d77045f-6d04-474a-e79d-2357a1008837"
      },
      "execution_count": null,
      "outputs": [
        {
          "output_type": "stream",
          "name": "stdout",
          "text": [
            "Index(['Rank', 'Name', 'Industry', 'Revenue (USD millions)', 'Revenue growth',\n",
            "       'Employees', 'Headquarters'],\n",
            "      dtype='object')\n"
          ]
        }
      ]
    },
    {
      "cell_type": "code",
      "source": [
        "!wget https://raw.githubusercontent.com/Dianaepikson/HypatiaAcademy/refs/heads/master/numpy/webscrape.csv"
      ],
      "metadata": {
        "colab": {
          "base_uri": "https://localhost:8080/"
        },
        "id": "lVtCzLXbTvst",
        "outputId": "743f930f-dd7b-45a8-a39f-9f968ce4a834"
      },
      "execution_count": 5,
      "outputs": [
        {
          "output_type": "stream",
          "name": "stdout",
          "text": [
            "--2025-02-28 16:06:27--  https://raw.githubusercontent.com/Dianaepikson/HypatiaAcademy/refs/heads/master/numpy/webscrape.csv\n",
            "Resolving raw.githubusercontent.com (raw.githubusercontent.com)... 185.199.108.133, 185.199.109.133, 185.199.110.133, ...\n",
            "Connecting to raw.githubusercontent.com (raw.githubusercontent.com)|185.199.108.133|:443... connected.\n",
            "HTTP request sent, awaiting response... 200 OK\n",
            "Length: 8038 (7.8K) [text/plain]\n",
            "Saving to: ‘webscrape.csv’\n",
            "\n",
            "webscrape.csv       100%[===================>]   7.85K  --.-KB/s    in 0s      \n",
            "\n",
            "2025-02-28 16:06:28 (71.0 MB/s) - ‘webscrape.csv’ saved [8038/8038]\n",
            "\n"
          ]
        }
      ]
    },
    {
      "cell_type": "code",
      "source": [
        "!ls"
      ],
      "metadata": {
        "colab": {
          "base_uri": "https://localhost:8080/"
        },
        "id": "2YfJJ-qKUbe3",
        "outputId": "d6da8270-439c-43b5-d564-23f3a5d82f70"
      },
      "execution_count": 49,
      "outputs": [
        {
          "output_type": "stream",
          "name": "stdout",
          "text": [
            "revenue_sum  sample_data  webscrape.csv\n"
          ]
        }
      ]
    },
    {
      "cell_type": "code",
      "source": [
        "!head webscrape.csv\n"
      ],
      "metadata": {
        "colab": {
          "base_uri": "https://localhost:8080/"
        },
        "id": "3GdtUSl8N0d6",
        "outputId": "cdcf9b18-40c9-4332-e2d0-59588a2158a1"
      },
      "execution_count": 7,
      "outputs": [
        {
          "output_type": "stream",
          "name": "stdout",
          "text": [
            "Rank,Name,Industry,Revenue (USD millions),Revenue growth,Employees,Headquarters\r\n",
            "1,Walmart,Retail,\"611,289\",6.7%,\"2,100,000\",\"Bentonville, Arkansas\"\r\n",
            "2,Amazon,Retail and Cloud Computing,\"513,983\",9.4%,\"1,540,000\",\"Seattle, Washington\"\r\n",
            "3,Exxon Mobil,Petroleum industry,\"413,680\",44.8%,\"62,000\",\"Spring, Texas\"\r\n",
            "4,Apple,Electronics industry,\"394,328\",7.8%,\"164,000\",\"Cupertino, California\"\r\n",
            "5,UnitedHealth Group,Healthcare,\"324,162\",12.7%,\"400,000\",\"Minnetonka, Minnesota\"\r\n",
            "6,CVS Health,Healthcare,\"322,467\",10.4%,\"259,500\",\"Woonsocket, Rhode Island\"\r\n",
            "7,Berkshire Hathaway,Conglomerate,\"302,089\",9.4%,\"383,000\",\"Omaha, Nebraska\"\r\n",
            "8,Alphabet,Technology,\"282,836\",9.8%,\"156,000\",\"Mountain View, California\"\r\n",
            "9,McKesson Corporation,Health,\"276,711\",4.8%,\"48,500\",\"Irving, Texas\"\r\n"
          ]
        }
      ]
    },
    {
      "cell_type": "code",
      "source": [
        "!wc -l webscrape.csv"
      ],
      "metadata": {
        "colab": {
          "base_uri": "https://localhost:8080/"
        },
        "id": "v7TdlT7OVktr",
        "outputId": "a94f5d42-ff4d-4956-8b01-e87702075a32"
      },
      "execution_count": 10,
      "outputs": [
        {
          "output_type": "stream",
          "name": "stdout",
          "text": [
            "101 webscrape.csv\n"
          ]
        }
      ]
    },
    {
      "cell_type": "code",
      "source": [
        "\n",
        "from pyspark.sql import SparkSession\n",
        "\n",
        "file=\"webscrape.csv\"\n",
        "\n",
        "\n",
        "# df is a spark dataframe\n",
        "# is not a pandas dataframe\n",
        "\n",
        "spark = SparkSession.builder.appName(\"youtube\").getOrCreate()\n",
        "\n",
        "df = spark.read.csv(file, sep=',', header=True,   inferSchema=True, encoding=\"UTF-8\" )\n",
        "\n",
        "df.printSchema()\n"
      ],
      "metadata": {
        "colab": {
          "base_uri": "https://localhost:8080/"
        },
        "id": "Eja5U5dpUrxG",
        "outputId": "81f09a04-d3ae-4068-95e1-00b1685e4a05"
      },
      "execution_count": 28,
      "outputs": [
        {
          "output_type": "stream",
          "name": "stdout",
          "text": [
            "root\n",
            " |-- Rank: integer (nullable = true)\n",
            " |-- Name: string (nullable = true)\n",
            " |-- Industry: string (nullable = true)\n",
            " |-- Revenue (USD millions): string (nullable = true)\n",
            " |-- Revenue growth: string (nullable = true)\n",
            " |-- Employees: string (nullable = true)\n",
            " |-- Headquarters: string (nullable = true)\n",
            "\n"
          ]
        }
      ]
    },
    {
      "cell_type": "code",
      "source": [
        "df.show()"
      ],
      "metadata": {
        "colab": {
          "base_uri": "https://localhost:8080/"
        },
        "id": "OB9b0ebMamXM",
        "outputId": "2a0f87f5-88e3-4b6a-d7f3-df8087311f73"
      },
      "execution_count": 29,
      "outputs": [
        {
          "output_type": "stream",
          "name": "stdout",
          "text": [
            "+----+--------------------+--------------------+----------------------+--------------+---------+--------------------+\n",
            "|Rank|                Name|            Industry|Revenue (USD millions)|Revenue growth|Employees|        Headquarters|\n",
            "+----+--------------------+--------------------+----------------------+--------------+---------+--------------------+\n",
            "|   1|             Walmart|              Retail|               611,289|          6.7%|2,100,000|Bentonville, Arka...|\n",
            "|   2|              Amazon|Retail and Cloud ...|               513,983|          9.4%|1,540,000| Seattle, Washington|\n",
            "|   3|         Exxon Mobil|  Petroleum industry|               413,680|         44.8%|   62,000|       Spring, Texas|\n",
            "|   4|               Apple|Electronics industry|               394,328|          7.8%|  164,000|Cupertino, Califo...|\n",
            "|   5|  UnitedHealth Group|          Healthcare|               324,162|         12.7%|  400,000|Minnetonka, Minne...|\n",
            "|   6|          CVS Health|          Healthcare|               322,467|         10.4%|  259,500|Woonsocket, Rhode...|\n",
            "|   7|  Berkshire Hathaway|        Conglomerate|               302,089|          9.4%|  383,000|     Omaha, Nebraska|\n",
            "|   8|            Alphabet|          Technology|               282,836|          9.8%|  156,000|Mountain View, Ca...|\n",
            "|   9|McKesson Corporation|              Health|               276,711|          4.8%|   48,500|       Irving, Texas|\n",
            "|  10| Chevron Corporation|  Petroleum industry|               246,252|         51.6%|   43,846|San Ramon, Califo...|\n",
            "|  11|   AmerisourceBergen|Pharmaceutical in...|               238,587|         11.5%|   41,500|Chesterbrook, Pen...|\n",
            "|  12|              Costco|              Retail|               226,954|         15.8%|  304,000|Issaquah, Washington|\n",
            "|  13|           Microsoft|          Technology|               198,270|         18.0%|  221,000| Redmond, Washington|\n",
            "|  14|     Cardinal Health|          Healthcare|               181,364|         11.6%|   46,035|        Dublin, Ohio|\n",
            "|  15|               Cigna|    Health Insurance|               180,516|          3.7%|   70,231|Bloomfield, Conne...|\n",
            "|  16|  Marathon Petroleum|  Petroleum industry|               180,012|         27.6%|   17,800|       Findlay, Ohio|\n",
            "|  17|         Phillips 66|  Petroleum industry|               175,702|         53.0%|   13,000|      Houston, Texas|\n",
            "|  18|       Valero Energy|  Petroleum industry|               171,189|         58.0%|    9,743|  San Antonio, Texas|\n",
            "|  19|  Ford Motor Company| Automotive industry|               158,057|         15.9%|  173,000|  Dearborn, Michigan|\n",
            "|  20|      The Home Depot|              Retail|               157,403|          4.1%|  471,600|    Atlanta, Georgia|\n",
            "+----+--------------------+--------------------+----------------------+--------------+---------+--------------------+\n",
            "only showing top 20 rows\n",
            "\n"
          ]
        }
      ]
    },
    {
      "cell_type": "markdown",
      "source": [
        "#Why use Spark\n",
        "\n",
        "it lets you use SQL\n",
        "\n",
        "very quick very easy to look at data using SQL\n"
      ],
      "metadata": {
        "id": "REYbdDkFV_Il"
      }
    },
    {
      "cell_type": "code",
      "source": [
        "df.createOrReplaceTempView(\"companies\")"
      ],
      "metadata": {
        "id": "2JyEKIw1Qcam"
      },
      "execution_count": 32,
      "outputs": []
    },
    {
      "cell_type": "code",
      "source": [
        "df.cache()"
      ],
      "metadata": {
        "colab": {
          "base_uri": "https://localhost:8080/"
        },
        "id": "uk2iFECxWhGS",
        "outputId": "c703c9fd-593b-4b00-bfc2-622b849b7568"
      },
      "execution_count": 13,
      "outputs": [
        {
          "output_type": "execute_result",
          "data": {
            "text/plain": [
              "DataFrame[Rank: int, Name: string, Industry: string, Revenue (USD millions): string, Revenue growth: string, Employees: string, Headquarters: string]"
            ]
          },
          "metadata": {},
          "execution_count": 13
        }
      ]
    },
    {
      "cell_type": "code",
      "source": [
        "df.show()"
      ],
      "metadata": {
        "colab": {
          "base_uri": "https://localhost:8080/"
        },
        "id": "M7DeNHkIZ6Go",
        "outputId": "9cf30030-508d-401b-90cf-77c9962396de"
      },
      "execution_count": 27,
      "outputs": [
        {
          "output_type": "stream",
          "name": "stdout",
          "text": [
            "+----+--------------------+--------------------+----------------------+--------------+---------+--------------------+\n",
            "|Rank|                Name|            Industry|Revenue (USD millions)|Revenue growth|Employees|        Headquarters|\n",
            "+----+--------------------+--------------------+----------------------+--------------+---------+--------------------+\n",
            "|   1|             Walmart|              Retail|               611,289|          6.7%|2,100,000|Bentonville, Arka...|\n",
            "|   2|              Amazon|Retail and Cloud ...|               513,983|          9.4%|1,540,000| Seattle, Washington|\n",
            "|   3|         Exxon Mobil|  Petroleum industry|               413,680|         44.8%|   62,000|       Spring, Texas|\n",
            "|   4|               Apple|Electronics industry|               394,328|          7.8%|  164,000|Cupertino, Califo...|\n",
            "|   5|  UnitedHealth Group|          Healthcare|               324,162|         12.7%|  400,000|Minnetonka, Minne...|\n",
            "|   6|          CVS Health|          Healthcare|               322,467|         10.4%|  259,500|Woonsocket, Rhode...|\n",
            "|   7|  Berkshire Hathaway|        Conglomerate|               302,089|          9.4%|  383,000|     Omaha, Nebraska|\n",
            "|   8|            Alphabet|          Technology|               282,836|          9.8%|  156,000|Mountain View, Ca...|\n",
            "|   9|McKesson Corporation|              Health|               276,711|          4.8%|   48,500|       Irving, Texas|\n",
            "|  10| Chevron Corporation|  Petroleum industry|               246,252|         51.6%|   43,846|San Ramon, Califo...|\n",
            "|  11|   AmerisourceBergen|Pharmaceutical in...|               238,587|         11.5%|   41,500|Chesterbrook, Pen...|\n",
            "|  12|              Costco|              Retail|               226,954|         15.8%|  304,000|Issaquah, Washington|\n",
            "|  13|           Microsoft|          Technology|               198,270|         18.0%|  221,000| Redmond, Washington|\n",
            "|  14|     Cardinal Health|          Healthcare|               181,364|         11.6%|   46,035|        Dublin, Ohio|\n",
            "|  15|               Cigna|    Health Insurance|               180,516|          3.7%|   70,231|Bloomfield, Conne...|\n",
            "|  16|  Marathon Petroleum|  Petroleum industry|               180,012|         27.6%|   17,800|       Findlay, Ohio|\n",
            "|  17|         Phillips 66|  Petroleum industry|               175,702|         53.0%|   13,000|      Houston, Texas|\n",
            "|  18|       Valero Energy|  Petroleum industry|               171,189|         58.0%|    9,743|  San Antonio, Texas|\n",
            "|  19|  Ford Motor Company| Automotive industry|               158,057|         15.9%|  173,000|  Dearborn, Michigan|\n",
            "|  20|      The Home Depot|              Retail|               157,403|          4.1%|  471,600|    Atlanta, Georgia|\n",
            "+----+--------------------+--------------------+----------------------+--------------+---------+--------------------+\n",
            "only showing top 20 rows\n",
            "\n"
          ]
        }
      ]
    },
    {
      "cell_type": "code",
      "source": [
        "# Spark is an in-memory database\n",
        "\n",
        "# with say Oracle database.\n",
        "\n",
        "# it will look on the disk drive and get the data\n",
        "\n",
        "# data is in-memory\n",
        "\n",
        "# so it goes faster\n",
        "\n",
        "# SSDs solid state no movie parts\n",
        "\n",
        "# magentic disk.  disk controller"
      ],
      "metadata": {
        "id": "faw8KVAYWlY3"
      },
      "execution_count": null,
      "outputs": []
    },
    {
      "cell_type": "code",
      "source": [
        "\n",
        "from pyspark.sql.functions import regexp_replace, col\n",
        "\n",
        "\n",
        "# cast means convert one type to another\n",
        "# int\n",
        "# long for numbers bigger than 2 billion\n",
        "\n",
        "\n",
        "\n",
        "\n",
        "df = df.withColumnRenamed(\"Revenue (USD millions)\", \"revenue\")\n",
        "df = df.withColumnRenamed(\"employees\", \"employees\")\n",
        "\n",
        "df = df.withColumnRenamed(\"Revenue growth\", \"growth\")\n",
        "\n",
        "df = df.withColumn(\"revenue\", regexp_replace(col(\"revenue\"), \",\", \"\").cast(\"int\"))\n",
        "\n",
        "df = df.withColumn(\"employees\", regexp_replace(col(\"employees\"), \",\", \"\").cast(\"int\"))\n",
        "\n",
        "\n",
        "df = df.withColumn(\"growth\", regexp_replace(col(\"growth\"), \"%\", \"\").cast(\"float\"))\n",
        "\n",
        "df = df.withColumn(\"growth\", col(\"growth\")/100)\n",
        "\n"
      ],
      "metadata": {
        "id": "UThyPZ2YXyDz"
      },
      "execution_count": 30,
      "outputs": []
    },
    {
      "cell_type": "code",
      "source": [
        "\n",
        "\n",
        "sql=\"describe companies\"\n",
        "\n",
        "spark.sql(sql).show()"
      ],
      "metadata": {
        "colab": {
          "base_uri": "https://localhost:8080/"
        },
        "id": "MRMBTBj3OzrZ",
        "outputId": "b620d71c-82d7-4d71-82ae-e7473ffe233a"
      },
      "execution_count": 33,
      "outputs": [
        {
          "output_type": "stream",
          "name": "stdout",
          "text": [
            "+------------+---------+-------+\n",
            "|    col_name|data_type|comment|\n",
            "+------------+---------+-------+\n",
            "|        Rank|      int|   NULL|\n",
            "|        Name|   string|   NULL|\n",
            "|    Industry|   string|   NULL|\n",
            "|     revenue|      int|   NULL|\n",
            "|      growth|   double|   NULL|\n",
            "|   employees|      int|   NULL|\n",
            "|Headquarters|   string|   NULL|\n",
            "+------------+---------+-------+\n",
            "\n"
          ]
        }
      ]
    },
    {
      "cell_type": "code",
      "source": [
        "sql=\"select * from companies\"\n",
        "\n",
        "spark.sql(sql).show()"
      ],
      "metadata": {
        "colab": {
          "base_uri": "https://localhost:8080/"
        },
        "id": "8nQ171DyXTGu",
        "outputId": "ce89fa68-cdbe-4f21-d8f6-63a661b5e10d"
      },
      "execution_count": 34,
      "outputs": [
        {
          "output_type": "stream",
          "name": "stdout",
          "text": [
            "+----+--------------------+--------------------+-------+--------------------+---------+--------------------+\n",
            "|Rank|                Name|            Industry|revenue|              growth|employees|        Headquarters|\n",
            "+----+--------------------+--------------------+-------+--------------------+---------+--------------------+\n",
            "|   1|             Walmart|              Retail| 611289| 0.06699999809265136|  2100000|Bentonville, Arka...|\n",
            "|   2|              Amazon|Retail and Cloud ...| 513983| 0.09399999618530273|  1540000| Seattle, Washington|\n",
            "|   3|         Exxon Mobil|  Petroleum industry| 413680| 0.44799999237060545|    62000|       Spring, Texas|\n",
            "|   4|               Apple|Electronics industry| 394328| 0.07800000190734863|   164000|Cupertino, Califo...|\n",
            "|   5|  UnitedHealth Group|          Healthcare| 324162| 0.12699999809265136|   400000|Minnetonka, Minne...|\n",
            "|   6|          CVS Health|          Healthcare| 322467| 0.10399999618530273|   259500|Woonsocket, Rhode...|\n",
            "|   7|  Berkshire Hathaway|        Conglomerate| 302089| 0.09399999618530273|   383000|     Omaha, Nebraska|\n",
            "|   8|            Alphabet|          Technology| 282836| 0.09800000190734863|   156000|Mountain View, Ca...|\n",
            "|   9|McKesson Corporation|              Health| 276711|0.048000001907348634|    48500|       Irving, Texas|\n",
            "|  10| Chevron Corporation|  Petroleum industry| 246252|  0.5159999847412109|    43846|San Ramon, Califo...|\n",
            "|  11|   AmerisourceBergen|Pharmaceutical in...| 238587|               0.115|    41500|Chesterbrook, Pen...|\n",
            "|  12|              Costco|              Retail| 226954| 0.15800000190734864|   304000|Issaquah, Washington|\n",
            "|  13|           Microsoft|          Technology| 198270|                0.18|   221000| Redmond, Washington|\n",
            "|  14|     Cardinal Health|          Healthcare| 181364| 0.11600000381469727|    46035|        Dublin, Ohio|\n",
            "|  15|               Cigna|    Health Insurance| 180516| 0.03700000047683716|    70231|Bloomfield, Conne...|\n",
            "|  16|  Marathon Petroleum|  Petroleum industry| 180012| 0.27600000381469725|    17800|       Findlay, Ohio|\n",
            "|  17|         Phillips 66|  Petroleum industry| 175702|                0.53|    13000|      Houston, Texas|\n",
            "|  18|       Valero Energy|  Petroleum industry| 171189|                0.58|     9743|  San Antonio, Texas|\n",
            "|  19|  Ford Motor Company| Automotive industry| 158057| 0.15899999618530272|   173000|  Dearborn, Michigan|\n",
            "|  20|      The Home Depot|              Retail| 157403| 0.04099999904632568|   471600|    Atlanta, Georgia|\n",
            "+----+--------------------+--------------------+-------+--------------------+---------+--------------------+\n",
            "only showing top 20 rows\n",
            "\n"
          ]
        }
      ]
    },
    {
      "cell_type": "code",
      "source": [
        "\n",
        "sql='''\n",
        "select Name , revenue from companies\n",
        "where revenue > 394328\n",
        "'''\n",
        "\n",
        "spark.sql(sql).show()"
      ],
      "metadata": {
        "colab": {
          "base_uri": "https://localhost:8080/"
        },
        "id": "_Gcx-CSFbK6o",
        "outputId": "0eba1edd-4ff0-4773-b83c-1d68c4a9abe1"
      },
      "execution_count": 36,
      "outputs": [
        {
          "output_type": "stream",
          "name": "stdout",
          "text": [
            "+-----------+-------+\n",
            "|       Name|revenue|\n",
            "+-----------+-------+\n",
            "|    Walmart| 611289|\n",
            "|     Amazon| 513983|\n",
            "|Exxon Mobil| 413680|\n",
            "+-----------+-------+\n",
            "\n"
          ]
        }
      ]
    },
    {
      "cell_type": "code",
      "source": [
        "\n",
        "sql='''\n",
        "select * from companies\n",
        "\n",
        "'''\n",
        "\n",
        "spark.sql(sql).show()"
      ],
      "metadata": {
        "colab": {
          "base_uri": "https://localhost:8080/"
        },
        "id": "F0hOi0-PfJ9X",
        "outputId": "ace63b49-3a70-47e1-d6d4-19a0396fc0ee"
      },
      "execution_count": 50,
      "outputs": [
        {
          "output_type": "stream",
          "name": "stdout",
          "text": [
            "+----+--------------------+--------------------+-------+--------------------+---------+--------------------+\n",
            "|Rank|                Name|            Industry|revenue|              growth|employees|        Headquarters|\n",
            "+----+--------------------+--------------------+-------+--------------------+---------+--------------------+\n",
            "|   1|             Walmart|              Retail| 611289| 0.06699999809265136|  2100000|Bentonville, Arka...|\n",
            "|   2|              Amazon|Retail and Cloud ...| 513983| 0.09399999618530273|  1540000| Seattle, Washington|\n",
            "|   3|         Exxon Mobil|  Petroleum industry| 413680| 0.44799999237060545|    62000|       Spring, Texas|\n",
            "|   4|               Apple|Electronics industry| 394328| 0.07800000190734863|   164000|Cupertino, Califo...|\n",
            "|   5|  UnitedHealth Group|          Healthcare| 324162| 0.12699999809265136|   400000|Minnetonka, Minne...|\n",
            "|   6|          CVS Health|          Healthcare| 322467| 0.10399999618530273|   259500|Woonsocket, Rhode...|\n",
            "|   7|  Berkshire Hathaway|        Conglomerate| 302089| 0.09399999618530273|   383000|     Omaha, Nebraska|\n",
            "|   8|            Alphabet|          Technology| 282836| 0.09800000190734863|   156000|Mountain View, Ca...|\n",
            "|   9|McKesson Corporation|              Health| 276711|0.048000001907348634|    48500|       Irving, Texas|\n",
            "|  10| Chevron Corporation|  Petroleum industry| 246252|  0.5159999847412109|    43846|San Ramon, Califo...|\n",
            "|  11|   AmerisourceBergen|Pharmaceutical in...| 238587|               0.115|    41500|Chesterbrook, Pen...|\n",
            "|  12|              Costco|              Retail| 226954| 0.15800000190734864|   304000|Issaquah, Washington|\n",
            "|  13|           Microsoft|          Technology| 198270|                0.18|   221000| Redmond, Washington|\n",
            "|  14|     Cardinal Health|          Healthcare| 181364| 0.11600000381469727|    46035|        Dublin, Ohio|\n",
            "|  15|               Cigna|    Health Insurance| 180516| 0.03700000047683716|    70231|Bloomfield, Conne...|\n",
            "|  16|  Marathon Petroleum|  Petroleum industry| 180012| 0.27600000381469725|    17800|       Findlay, Ohio|\n",
            "|  17|         Phillips 66|  Petroleum industry| 175702|                0.53|    13000|      Houston, Texas|\n",
            "|  18|       Valero Energy|  Petroleum industry| 171189|                0.58|     9743|  San Antonio, Texas|\n",
            "|  19|  Ford Motor Company| Automotive industry| 158057| 0.15899999618530272|   173000|  Dearborn, Michigan|\n",
            "|  20|      The Home Depot|              Retail| 157403| 0.04099999904632568|   471600|    Atlanta, Georgia|\n",
            "+----+--------------------+--------------------+-------+--------------------+---------+--------------------+\n",
            "only showing top 20 rows\n",
            "\n"
          ]
        }
      ]
    },
    {
      "cell_type": "code",
      "source": [
        "sql='''\n",
        "select industry, sum(revenue) as revenue_sum from companies\n",
        "group by industry\n",
        "order by revenue_sum desc\n",
        "'''\n",
        "\n",
        "# run this sql and create dataframe total\n",
        "totals=spark.sql(sql)\n",
        "totals.show()\n"
      ],
      "metadata": {
        "colab": {
          "base_uri": "https://localhost:8080/"
        },
        "id": "GAIDWoH2bxj0",
        "outputId": "e6c26708-8e31-4245-b1a5-c107cbcb0a7d"
      },
      "execution_count": 40,
      "outputs": [
        {
          "output_type": "stream",
          "name": "stdout",
          "text": [
            "+--------------------+-----------+\n",
            "|            industry|revenue_sum|\n",
            "+--------------------+-----------+\n",
            "|              Retail|    1578909|\n",
            "|  Petroleum industry|    1521225|\n",
            "|          Healthcare|    1189368|\n",
            "|          Technology|     930783|\n",
            "|          Financials|     927262|\n",
            "|Pharmaceutical in...|     730059|\n",
            "|        Conglomerate|     566459|\n",
            "|Retail and Cloud ...|     513983|\n",
            "|Electronics industry|     394328|\n",
            "|  Telecommunications|     312284|\n",
            "|              Health|     276711|\n",
            "|    Health Insurance|     273386|\n",
            "|           Insurance|     265861|\n",
            "|      Transportation|     193850|\n",
            "|       Food industry|     168788|\n",
            "| Automotive industry|     158057|\n",
            "|          Automotive|     156735|\n",
            "|  Financial services|     154792|\n",
            "|             Airline|     144508|\n",
            "|           Financial|     107075|\n",
            "+--------------------+-----------+\n",
            "only showing top 20 rows\n",
            "\n"
          ]
        }
      ]
    },
    {
      "cell_type": "code",
      "source": [
        "# expensive\n",
        "\n",
        "totals.coalesce(1).write.csv(\"revenue_sum\", header=True)"
      ],
      "metadata": {
        "id": "uauXW7Zpcbrn"
      },
      "execution_count": 42,
      "outputs": []
    },
    {
      "cell_type": "code",
      "source": [
        "!ls revenue_sum"
      ],
      "metadata": {
        "colab": {
          "base_uri": "https://localhost:8080/"
        },
        "id": "wUsdw6Ync5fx",
        "outputId": "26fa6af9-1b06-4dee-d614-08ec2898ef2c"
      },
      "execution_count": 44,
      "outputs": [
        {
          "output_type": "stream",
          "name": "stdout",
          "text": [
            "part-00000-80b8587c-8040-478d-a731-6a960e39aea0-c000.csv  _SUCCESS\n"
          ]
        }
      ]
    },
    {
      "cell_type": "code",
      "source": [
        "# when you copy spark, hadoop other Big Data data to a disk drive you usually Parquet\n",
        "\n",
        "!file revenue_sum/part-00000-80b8587c-8040-478d-a731-6a960e39aea0-c000.csv"
      ],
      "metadata": {
        "colab": {
          "base_uri": "https://localhost:8080/"
        },
        "id": "1IRDnR7zdLy9",
        "outputId": "eb6b939c-669f-4abe-bbde-66a6c7039cef"
      },
      "execution_count": 45,
      "outputs": [
        {
          "output_type": "stream",
          "name": "stdout",
          "text": [
            "revenue_sum/part-00000-80b8587c-8040-478d-a731-6a960e39aea0-c000.csv: CSV text\n"
          ]
        }
      ]
    },
    {
      "cell_type": "code",
      "source": [
        "!head revenue_sum/part-00000-80b8587c-8040-478d-a731-6a960e39aea0-c000.csv"
      ],
      "metadata": {
        "colab": {
          "base_uri": "https://localhost:8080/"
        },
        "id": "qHgwr-DhdaM_",
        "outputId": "5de4f419-5011-420d-9bd0-17d4c67ba773"
      },
      "execution_count": 48,
      "outputs": [
        {
          "output_type": "stream",
          "name": "stdout",
          "text": [
            "industry,revenue_sum\n",
            "Retail,1578909\n",
            "Petroleum industry,1521225\n",
            "Healthcare,1189368\n",
            "Technology,930783\n",
            "Financials,927262\n",
            "Pharmaceutical industry,730059\n",
            "Conglomerate,566459\n",
            "Retail and Cloud Computing,513983\n",
            "Electronics industry,394328\n"
          ]
        }
      ]
    },
    {
      "cell_type": "markdown",
      "source": [
        "# Homework\n",
        "\n",
        "\n",
        "1.  go get the data you use to make a pandas dataframe and create a Spark Dataframe\n",
        "\n",
        "2. convert anything that's not a number to number\n",
        "\n",
        "3.  do some aggregate operation\n",
        "\n",
        "select count(*)\n",
        "select count(column_name)\n",
        "\n",
        "select sum(), averagee\n",
        "\n",
        "\n",
        "4. do a group by and order and logical operation in SQL like >\n",
        "\n",
        "\n",
        "\n",
        "\n",
        "\n",
        "\n",
        "\n"
      ],
      "metadata": {
        "id": "vUWlgJyAdrV2"
      }
    }
  ]
}