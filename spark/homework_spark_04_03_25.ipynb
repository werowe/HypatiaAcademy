{
  "nbformat": 4,
  "nbformat_minor": 0,
  "metadata": {
    "colab": {
      "provenance": [],
      "include_colab_link": true
    },
    "kernelspec": {
      "name": "python3",
      "display_name": "Python 3"
    },
    "language_info": {
      "name": "python"
    }
  },
  "cells": [
    {
      "cell_type": "markdown",
      "metadata": {
        "id": "view-in-github",
        "colab_type": "text"
      },
      "source": [
        "<a href=\"https://colab.research.google.com/github/werowe/HypatiaAcademy/blob/master/spark/homework_spark_04_03_25.ipynb\" target=\"_parent\"><img src=\"https://colab.research.google.com/assets/colab-badge.svg\" alt=\"Open In Colab\"/></a>"
      ]
    },
    {
      "cell_type": "code",
      "execution_count": null,
      "metadata": {
        "colab": {
          "base_uri": "https://localhost:8080/"
        },
        "id": "iJM8eFEZg6ML",
        "outputId": "0fabe23b-17e4-40c7-dd9d-cab2d43ff4ab"
      },
      "outputs": [
        {
          "output_type": "stream",
          "name": "stdout",
          "text": [
            "--2025-03-06 17:12:53--  https://raw.githubusercontent.com/illiazhupanov/pandas/refs/heads/main/steam_games.csv\n",
            "Resolving raw.githubusercontent.com (raw.githubusercontent.com)... 185.199.111.133, 185.199.110.133, 185.199.108.133, ...\n",
            "Connecting to raw.githubusercontent.com (raw.githubusercontent.com)|185.199.111.133|:443... connected.\n",
            "HTTP request sent, awaiting response... 200 OK\n",
            "Length: 20395976 (19M) [text/plain]\n",
            "Saving to: ‘steam_games.csv’\n",
            "\n",
            "steam_games.csv     100%[===================>]  19.45M   125MB/s    in 0.2s    \n",
            "\n",
            "2025-03-06 17:12:54 (125 MB/s) - ‘steam_games.csv’ saved [20395976/20395976]\n",
            "\n"
          ]
        }
      ],
      "source": [
        "# importing the data\n",
        "!wget https://raw.githubusercontent.com/illiazhupanov/pandas/refs/heads/main/steam_games.csv"
      ]
    },
    {
      "cell_type": "code",
      "source": [
        "!ls"
      ],
      "metadata": {
        "colab": {
          "base_uri": "https://localhost:8080/"
        },
        "id": "fTnCkClJhlJN",
        "outputId": "d7414f2a-fb64-4af0-9afd-2f15c63b033b"
      },
      "execution_count": null,
      "outputs": [
        {
          "output_type": "stream",
          "name": "stdout",
          "text": [
            "sample_data  steam_games.csv\n"
          ]
        }
      ]
    },
    {
      "cell_type": "code",
      "source": [
        "# added this to remove the file\n",
        "#!rm steam_games.csv"
      ],
      "metadata": {
        "id": "92k7IoCjpbDb"
      },
      "execution_count": null,
      "outputs": []
    },
    {
      "cell_type": "code",
      "source": [
        "from pyspark.sql import SparkSession\n",
        "\n",
        "spark = SparkSession.builder.appName('spark').getOrCreate()"
      ],
      "metadata": {
        "id": "np8DFGznhxOH"
      },
      "execution_count": null,
      "outputs": []
    },
    {
      "cell_type": "code",
      "source": [
        "df = spark.read.csv('steam_games.csv', header = True, inferSchema = True, sep = ',', encoding=\"UTF-8\")\n",
        "df.printSchema()"
      ],
      "metadata": {
        "colab": {
          "base_uri": "https://localhost:8080/"
        },
        "id": "NlnKTT0EiU75",
        "outputId": "3c8946a2-f177-4aeb-a8d6-bfe8ba79eecf"
      },
      "execution_count": null,
      "outputs": [
        {
          "output_type": "stream",
          "name": "stdout",
          "text": [
            "root\n",
            " |-- steam_appid: integer (nullable = true)\n",
            " |-- name: string (nullable = true)\n",
            " |-- developers: string (nullable = true)\n",
            " |-- publishers: string (nullable = true)\n",
            " |-- categories: string (nullable = true)\n",
            " |-- genres: string (nullable = true)\n",
            " |-- required_age: string (nullable = true)\n",
            " |-- n_achievements: string (nullable = true)\n",
            " |-- platforms: string (nullable = true)\n",
            " |-- is_released: string (nullable = true)\n",
            " |-- release_date: string (nullable = true)\n",
            " |-- additional_content: string (nullable = true)\n",
            " |-- total_reviews: string (nullable = true)\n",
            " |-- total_positive: string (nullable = true)\n",
            " |-- total_negative: string (nullable = true)\n",
            " |-- review_score: string (nullable = true)\n",
            " |-- review_score_desc: string (nullable = true)\n",
            " |-- positive_percentual: string (nullable = true)\n",
            " |-- metacritic: string (nullable = true)\n",
            " |-- is_free: string (nullable = true)\n",
            " |-- price_initial (USD): string (nullable = true)\n",
            "\n"
          ]
        }
      ]
    },
    {
      "cell_type": "code",
      "source": [
        "from pyspark.sql.functions import regexp_replace, col\n",
        "# renaming one of the columns\n",
        "\n",
        "# get rid of space\n",
        "\n",
        "df = df.withColumnRenamed('price_initial (USD)', 'price_initial')\n",
        "df.printSchema()"
      ],
      "metadata": {
        "colab": {
          "base_uri": "https://localhost:8080/"
        },
        "id": "BmOFA9enjKoc",
        "outputId": "8b6be1d5-8576-4b89-9b85-7c2618943976"
      },
      "execution_count": null,
      "outputs": [
        {
          "output_type": "stream",
          "name": "stdout",
          "text": [
            "root\n",
            " |-- steam_appid: integer (nullable = true)\n",
            " |-- name: string (nullable = true)\n",
            " |-- developers: string (nullable = true)\n",
            " |-- publishers: string (nullable = true)\n",
            " |-- categories: string (nullable = true)\n",
            " |-- genres: string (nullable = true)\n",
            " |-- required_age: string (nullable = true)\n",
            " |-- n_achievements: string (nullable = true)\n",
            " |-- platforms: string (nullable = true)\n",
            " |-- is_released: string (nullable = true)\n",
            " |-- release_date: string (nullable = true)\n",
            " |-- additional_content: string (nullable = true)\n",
            " |-- total_reviews: string (nullable = true)\n",
            " |-- total_positive: string (nullable = true)\n",
            " |-- total_negative: string (nullable = true)\n",
            " |-- review_score: string (nullable = true)\n",
            " |-- review_score_desc: string (nullable = true)\n",
            " |-- positive_percentual: string (nullable = true)\n",
            " |-- metacritic: string (nullable = true)\n",
            " |-- is_free: string (nullable = true)\n",
            " |-- price_initial: string (nullable = true)\n",
            "\n"
          ]
        }
      ]
    },
    {
      "cell_type": "markdown",
      "source": [
        "it seems that we need to call\n",
        "\n",
        "'df.createOrReplaceTempView(\"games\")'\n",
        "\n",
        "every time when we update a dataframe\n",
        "\n",
        "cuz if we don't, it will just show the last updated version\n"
      ],
      "metadata": {
        "id": "dYXGv4TUvTA_"
      }
    },
    {
      "cell_type": "code",
      "source": [
        "df.createOrReplaceTempView(\"games\")\n",
        "\n",
        "com = '''\n",
        "select name, release_date from games\n",
        "where release_date like '%00:00:00%'\n",
        "''' # we can use the like operator to do a sort of filtering rows by the fact whether they contain a particular string in them (kinda like regex)\n",
        "# in this case we are telling it to find only the rows that contain 00:00:00 in the string value in the release_date column\n",
        "spark.sql(com).show()"
      ],
      "metadata": {
        "colab": {
          "base_uri": "https://localhost:8080/"
        },
        "id": "zs8_u71GlVUi",
        "outputId": "ade29691-9d5f-48d7-d03a-8ffc9b9f76b5"
      },
      "execution_count": null,
      "outputs": [
        {
          "output_type": "stream",
          "name": "stdout",
          "text": [
            "+--------------------+-------------------+\n",
            "|                name|       release_date|\n",
            "+--------------------+-------------------+\n",
            "|      Sexy Blackjack|2024-01-25 00:00:00|\n",
            "|They Came From Venus|2024-07-22 00:00:00|\n",
            "|         Bubble Wrap|2024-09-19 00:00:00|\n",
            "|           It Mimics|2023-12-25 00:00:00|\n",
            "|        Lost Mansion|2023-12-22 00:00:00|\n",
            "|            热血大唐|2024-04-24 00:00:00|\n",
            "|     Boundless Skies|2023-12-20 00:00:00|\n",
            "|           Ace Triad|2024-01-22 00:00:00|\n",
            "| Apathy In Our Stars|2024-01-15 00:00:00|\n",
            "| SEARCH ALL - SNAILS|2023-12-18 00:00:00|\n",
            "|Christmas Fables:...|2023-12-27 00:00:00|\n",
            "|        The Skirmish|2024-01-05 00:00:00|\n",
            "|Mortui: Outbreak ...|2024-02-19 00:00:00|\n",
            "|Escape from Black...|2024-01-01 00:00:00|\n",
            "|               Maze!|2023-12-27 00:00:00|\n",
            "|        Tipsy Rescue|2024-02-24 00:00:00|\n",
            "|         Void Reaper|2024-09-01 00:00:00|\n",
            "| The Last Human: GO!|2024-01-08 00:00:00|\n",
            "|  Roll Over Princess|2024-02-13 00:00:00|\n",
            "| Tobla - Divine Path|2024-03-29 00:00:00|\n",
            "+--------------------+-------------------+\n",
            "only showing top 20 rows\n",
            "\n"
          ]
        }
      ]
    },
    {
      "cell_type": "code",
      "source": [
        "com = '''\n",
        "select name, release_date from games\n",
        "\n",
        "''' # we can use the like operator to do a sort of filtering rows by the fact whether they contain a particular string in them (kinda like regex)\n",
        "# in this case we are telling it to find only the rows that contain 00:00:00 in the string value in the release_date column\n",
        "spark.sql(com).show()"
      ],
      "metadata": {
        "colab": {
          "base_uri": "https://localhost:8080/"
        },
        "id": "BCwN_EI-AGmx",
        "outputId": "9cee6bbe-0289-4608-ac94-8ad4347feb86"
      },
      "execution_count": null,
      "outputs": [
        {
          "output_type": "stream",
          "name": "stdout",
          "text": [
            "+--------------------+------------+\n",
            "|                name|release_date|\n",
            "+--------------------+------------+\n",
            "|    勇者の伝説の勇者|  2024-01-04|\n",
            "|       Light No Fire|Not Released|\n",
            "|Lorhaven: Cursed War|  2024-01-26|\n",
            "|        PUIQ: Demons|  2024-02-17|\n",
            "|      Project XSTING|  2024-01-05|\n",
            "|The Milgram Exper...|Not Released|\n",
            "| 5 Bucks for the Bus|Not Released|\n",
            "|       Manor Madness|  2024-01-15|\n",
            "|           Fly Hands|  2024-03-26|\n",
            "|      Zero Caliber 2|Not Released|\n",
            "|          Star Birds|Not Released|\n",
            "|CLIMB UP! Battle ...|Not Released|\n",
            "|            Tafl PTK|  2024-02-29|\n",
            "|Striker Manager 3...|  2024-05-23|\n",
            "|Fantastic Haven: ...|  2024-06-08|\n",
            "|Super Spelling Ducks|Not Released|\n",
            "|            Solstale|  2024-04-06|\n",
            "|   Asylum Nightmares|  2024-07-01|\n",
            "|           Unveiling|  2024-01-08|\n",
            "|      Hotdog Kitchen|  2024-04-04|\n",
            "+--------------------+------------+\n",
            "only showing top 20 rows\n",
            "\n"
          ]
        }
      ]
    },
    {
      "cell_type": "code",
      "source": [
        "df = df.withColumn('release_date', regexp_replace(col('release_date'), '\\s\\d\\d:\\d\\d:\\d\\d', '')) # removing the 00:00:00 -like values from the release_date\n",
        "df = df.withColumn('release_date', regexp_replace(col('release_date'), 'Not Released', ''))\n",
        "df.createOrReplaceTempView(\"games\") # creating a temp view of the updated df\n",
        "\n",
        "# this now doesn't return any values, that means that we got rid of the times\n",
        "com = '''\n",
        "select name, release_date from games\n",
        "where release_date like '%00:00:00%' or release_date like ''\n",
        "'''\n",
        "spark.sql(com).show()"
      ],
      "metadata": {
        "id": "PJcBcv9UjtRG",
        "colab": {
          "base_uri": "https://localhost:8080/"
        },
        "outputId": "1379ce6c-be0d-41f8-ff11-5ac3a49ab553"
      },
      "execution_count": null,
      "outputs": [
        {
          "output_type": "stream",
          "name": "stdout",
          "text": [
            "+--------------------+------------+\n",
            "|                name|release_date|\n",
            "+--------------------+------------+\n",
            "|       Light No Fire|            |\n",
            "|The Milgram Exper...|            |\n",
            "| 5 Bucks for the Bus|            |\n",
            "|      Zero Caliber 2|            |\n",
            "|          Star Birds|            |\n",
            "|CLIMB UP! Battle ...|            |\n",
            "|Super Spelling Ducks|            |\n",
            "|        Neon Goddess|            |\n",
            "|          Tearfallen|            |\n",
            "|              Return|            |\n",
            "|    Spirits of Baciu|            |\n",
            "|          The Rising|            |\n",
            "|             The Mom|            |\n",
            "|      Lottery Winner|            |\n",
            "|Legends of Awen: ...|            |\n",
            "|   Crusader's Legacy|            |\n",
            "|                Into|            |\n",
            "| RUVN Contest Reboot|            |\n",
            "|Xstall One - eVTO...|            |\n",
            "|         Green Again|            |\n",
            "+--------------------+------------+\n",
            "only showing top 20 rows\n",
            "\n"
          ]
        }
      ]
    },
    {
      "cell_type": "code",
      "source": [
        "from pyspark.sql.functions import to_date\n",
        "# I used the to_date func instead of cast because it converts any values that are formatted inconsistently (Not Released in this case) to null\n",
        "df = df.withColumn('release_date', to_date(col('release_date'), 'yyyy-MM-dd'))\n",
        "\n",
        "df.printSchema()"
      ],
      "metadata": {
        "id": "QOzmjmwUqR4p",
        "colab": {
          "base_uri": "https://localhost:8080/"
        },
        "outputId": "2919100c-dcfa-4061-d0f5-d48259531941"
      },
      "execution_count": null,
      "outputs": [
        {
          "output_type": "stream",
          "name": "stdout",
          "text": [
            "root\n",
            " |-- steam_appid: integer (nullable = true)\n",
            " |-- name: string (nullable = true)\n",
            " |-- developers: string (nullable = true)\n",
            " |-- publishers: string (nullable = true)\n",
            " |-- categories: string (nullable = true)\n",
            " |-- genres: string (nullable = true)\n",
            " |-- required_age: string (nullable = true)\n",
            " |-- n_achievements: string (nullable = true)\n",
            " |-- platforms: string (nullable = true)\n",
            " |-- is_released: string (nullable = true)\n",
            " |-- release_date: date (nullable = true)\n",
            " |-- additional_content: string (nullable = true)\n",
            " |-- total_reviews: string (nullable = true)\n",
            " |-- total_positive: string (nullable = true)\n",
            " |-- total_negative: string (nullable = true)\n",
            " |-- review_score: string (nullable = true)\n",
            " |-- review_score_desc: string (nullable = true)\n",
            " |-- positive_percentual: string (nullable = true)\n",
            " |-- metacritic: string (nullable = true)\n",
            " |-- is_free: string (nullable = true)\n",
            " |-- price_initial: string (nullable = true)\n",
            "\n"
          ]
        }
      ]
    },
    {
      "cell_type": "code",
      "source": [
        "df = df.withColumn('is_released', col('is_released').cast('boolean'))\n",
        "df.printSchema()\n",
        "df.createOrReplaceTempView('games')\n",
        "com = '''\n",
        "select is_released, count(is_released) as cnt from games\n",
        "where price_initial > 10.0\n",
        "group by is_released\n",
        "'''\n",
        "spark.sql(com).show()"
      ],
      "metadata": {
        "colab": {
          "base_uri": "https://localhost:8080/"
        },
        "id": "hnIvfrkCdV54",
        "outputId": "f20836d5-7574-4ae1-9b86-345a32e53eed"
      },
      "execution_count": null,
      "outputs": [
        {
          "output_type": "stream",
          "name": "stdout",
          "text": [
            "root\n",
            " |-- steam_appid: integer (nullable = true)\n",
            " |-- name: string (nullable = true)\n",
            " |-- developers: string (nullable = true)\n",
            " |-- publishers: string (nullable = true)\n",
            " |-- categories: string (nullable = true)\n",
            " |-- genres: string (nullable = true)\n",
            " |-- required_age: string (nullable = true)\n",
            " |-- n_achievements: string (nullable = true)\n",
            " |-- platforms: string (nullable = true)\n",
            " |-- is_released: boolean (nullable = true)\n",
            " |-- release_date: date (nullable = true)\n",
            " |-- additional_content: string (nullable = true)\n",
            " |-- total_reviews: string (nullable = true)\n",
            " |-- total_positive: string (nullable = true)\n",
            " |-- total_negative: string (nullable = true)\n",
            " |-- review_score: string (nullable = true)\n",
            " |-- review_score_desc: string (nullable = true)\n",
            " |-- positive_percentual: string (nullable = true)\n",
            " |-- metacritic: string (nullable = true)\n",
            " |-- is_free: string (nullable = true)\n",
            " |-- price_initial: string (nullable = true)\n",
            "\n",
            "+-----------+-----+\n",
            "|is_released|  cnt|\n",
            "+-----------+-----+\n",
            "|       true|12189|\n",
            "|      false|   22|\n",
            "+-----------+-----+\n",
            "\n"
          ]
        }
      ]
    },
    {
      "cell_type": "code",
      "source": [
        "df.createOrReplaceTempView(\"games\")\n",
        "# now we can see that all the correctly formatted dates were left, but the Not Released strings turned into null\n",
        "com = '''\n",
        "select release_date from games\n",
        "'''\n",
        "spark.sql(com).show()"
      ],
      "metadata": {
        "id": "Zt4iQqwBr-7z"
      },
      "execution_count": null,
      "outputs": []
    },
    {
      "cell_type": "code",
      "source": [
        "df.createOrReplaceTempView(\"games\")\n",
        "# we can also call only the null values with sql\n",
        "com = '''\n",
        "select name, release_date from games\n",
        "where release_date IS NULL\n",
        "'''\n",
        "spark.sql(com).show()"
      ],
      "metadata": {
        "id": "-yiL_EEksYXG"
      },
      "execution_count": null,
      "outputs": []
    },
    {
      "cell_type": "code",
      "source": [
        "# I also converted the price_initial to be float instead of string\n",
        "df = df.withColumn('price_initial', col('price_initial').cast('float'))\n",
        "df.printSchema()"
      ],
      "metadata": {
        "id": "AnDQE_VRt-jA",
        "colab": {
          "base_uri": "https://localhost:8080/"
        },
        "outputId": "cd6d3a91-1600-4fca-d096-cec8675472c3"
      },
      "execution_count": null,
      "outputs": [
        {
          "output_type": "stream",
          "name": "stdout",
          "text": [
            "root\n",
            " |-- steam_appid: integer (nullable = true)\n",
            " |-- name: string (nullable = true)\n",
            " |-- developers: string (nullable = true)\n",
            " |-- publishers: string (nullable = true)\n",
            " |-- categories: string (nullable = true)\n",
            " |-- genres: string (nullable = true)\n",
            " |-- required_age: string (nullable = true)\n",
            " |-- n_achievements: string (nullable = true)\n",
            " |-- platforms: string (nullable = true)\n",
            " |-- is_released: boolean (nullable = true)\n",
            " |-- release_date: date (nullable = true)\n",
            " |-- additional_content: string (nullable = true)\n",
            " |-- total_reviews: string (nullable = true)\n",
            " |-- total_positive: string (nullable = true)\n",
            " |-- total_negative: string (nullable = true)\n",
            " |-- review_score: string (nullable = true)\n",
            " |-- review_score_desc: string (nullable = true)\n",
            " |-- positive_percentual: string (nullable = true)\n",
            " |-- metacritic: string (nullable = true)\n",
            " |-- is_free: string (nullable = true)\n",
            " |-- price_initial: float (nullable = true)\n",
            "\n"
          ]
        }
      ]
    },
    {
      "cell_type": "code",
      "source": [
        "df.createOrReplaceTempView(\"games\")\n",
        "\n",
        "# we can now filter by price in sql statements\n",
        "com = '''\n",
        "select name, price_initial from games\n",
        "where price_initial < 10 and price_initial > 8\n",
        "order by price_initial asc\n",
        "'''\n",
        "spark.sql(com).show()"
      ],
      "metadata": {
        "id": "0YnBXMbyuR9v"
      },
      "execution_count": null,
      "outputs": []
    },
    {
      "cell_type": "code",
      "source": [
        "df.createOrReplaceTempView(\"games\")\n",
        "# here I displayed the sum of prices of all games per platforms they are available on\n",
        "# since platforms is still a str, we have to use 'like' in the sql statements\n",
        "com = '''\n",
        "select sum(price_initial) as total_price, sum(case when is_released is TRUE then 1 else 0 end) as released, sum(case when is_released is FALSE then 1 else 0 end) as not_released\n",
        "from games\n",
        "where platforms like '%windows%' or platforms like '%linux%' or platforms like '%mac%'\n",
        "group by platforms\n",
        "'''\n",
        "spark.sql(com).show()"
      ],
      "metadata": {
        "id": "5xE534SYu-b-",
        "colab": {
          "base_uri": "https://localhost:8080/"
        },
        "outputId": "6ecef9f7-7426-4b51-da53-efd65e4edcc6"
      },
      "execution_count": null,
      "outputs": [
        {
          "output_type": "stream",
          "name": "stdout",
          "text": [
            "+------------------+--------+------------+\n",
            "|       total_price|released|not_released|\n",
            "+------------------+--------+------------+\n",
            "| 837208.5765452981|   44026|       10830|\n",
            "| 34.97999954223633|       3|           3|\n",
            "| 42909.98935389519|    5538|         994|\n",
            "|208.91000199317932|      13|           8|\n",
            "|13505.539759159088|    2065|         546|\n",
            "| 74798.88980722427|    6352|        1004|\n",
            "| 4.989999771118164|       1|           0|\n",
            "+------------------+--------+------------+\n",
            "\n"
          ]
        }
      ]
    },
    {
      "cell_type": "code",
      "source": [
        "com = '''\n",
        "select sum(case when is_released is FALSE then 1 end) as count from games\n",
        "where is_released is FALSE\n",
        "'''\n",
        "spark.sql(com).show()"
      ],
      "metadata": {
        "colab": {
          "base_uri": "https://localhost:8080/"
        },
        "id": "7PfD0l14gWZc",
        "outputId": "803f6281-2e67-4987-9ecb-1d0026ff8382"
      },
      "execution_count": null,
      "outputs": [
        {
          "output_type": "stream",
          "name": "stdout",
          "text": [
            "+-----+\n",
            "|count|\n",
            "+-----+\n",
            "|13388|\n",
            "+-----+\n",
            "\n"
          ]
        }
      ]
    }
  ]
}