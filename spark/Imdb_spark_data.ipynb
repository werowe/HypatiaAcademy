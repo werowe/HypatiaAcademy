{
  "nbformat": 4,
  "nbformat_minor": 0,
  "metadata": {
    "colab": {
      "provenance": [],
      "include_colab_link": true
    },
    "kernelspec": {
      "name": "python3",
      "display_name": "Python 3"
    },
    "language_info": {
      "name": "python"
    }
  },
  "cells": [
    {
      "cell_type": "markdown",
      "metadata": {
        "id": "view-in-github",
        "colab_type": "text"
      },
      "source": [
        "<a href=\"https://colab.research.google.com/github/werowe/HypatiaAcademy/blob/master/spark/Imdb_spark_data.ipynb\" target=\"_parent\"><img src=\"https://colab.research.google.com/assets/colab-badge.svg\" alt=\"Open In Colab\"/></a>"
      ]
    },
    {
      "cell_type": "markdown",
      "source": [
        "source:  https://datasets.imdbws.com/\n"
      ],
      "metadata": {
        "id": "bUMi1ZNcVyqR"
      }
    },
    {
      "cell_type": "code",
      "execution_count": 1,
      "metadata": {
        "colab": {
          "base_uri": "https://localhost:8080/"
        },
        "id": "XHtNCgrGVu36",
        "outputId": "8862aa01-31ce-4558-da1c-f4a341c4d058"
      },
      "outputs": [
        {
          "output_type": "stream",
          "name": "stdout",
          "text": [
            "--2025-02-24 09:52:40--  https://datasets.imdbws.com/title.ratings.tsv.gz\n",
            "Resolving datasets.imdbws.com (datasets.imdbws.com)... 13.249.98.91, 13.249.98.35, 13.249.98.61, ...\n",
            "Connecting to datasets.imdbws.com (datasets.imdbws.com)|13.249.98.91|:443... connected.\n",
            "HTTP request sent, awaiting response... 200 OK\n",
            "Length: 7735068 (7.4M) [binary/octet-stream]\n",
            "Saving to: ‘title.ratings.tsv.gz’\n",
            "\n",
            "title.ratings.tsv.g 100%[===================>]   7.38M  21.7MB/s    in 0.3s    \n",
            "\n",
            "2025-02-24 09:52:40 (21.7 MB/s) - ‘title.ratings.tsv.gz’ saved [7735068/7735068]\n",
            "\n"
          ]
        }
      ],
      "source": [
        "!wget https://datasets.imdbws.com/title.ratings.tsv.gz"
      ]
    },
    {
      "cell_type": "code",
      "source": [
        "!gunzip title.ratings.tsv.gz"
      ],
      "metadata": {
        "id": "JEgSwhK8WTbU"
      },
      "execution_count": 2,
      "outputs": []
    },
    {
      "cell_type": "code",
      "source": [
        "!head title.ratings.tsv"
      ],
      "metadata": {
        "colab": {
          "base_uri": "https://localhost:8080/"
        },
        "id": "C0AokmX_FYlX",
        "outputId": "d5baf496-c030-40f5-d5fa-536a7a97b0f8"
      },
      "execution_count": 3,
      "outputs": [
        {
          "output_type": "stream",
          "name": "stdout",
          "text": [
            "tconst\taverageRating\tnumVotes\n",
            "tt0000001\t5.7\t2133\n",
            "tt0000002\t5.5\t289\n",
            "tt0000003\t6.4\t2169\n",
            "tt0000004\t5.3\t184\n",
            "tt0000005\t6.2\t2897\n",
            "tt0000006\t5.0\t208\n",
            "tt0000007\t5.3\t901\n",
            "tt0000008\t5.4\t2280\n",
            "tt0000009\t5.3\t221\n"
          ]
        }
      ]
    },
    {
      "cell_type": "code",
      "source": [
        "!head title.ratings.tsv > debug.tsv"
      ],
      "metadata": {
        "id": "usL5ChgC9qbr"
      },
      "execution_count": 4,
      "outputs": []
    },
    {
      "cell_type": "code",
      "source": [
        "!tail title.ratings.tsv  > debug.tsv"
      ],
      "metadata": {
        "id": "H5l0iNK7XZAL"
      },
      "execution_count": 5,
      "outputs": []
    },
    {
      "cell_type": "code",
      "source": [
        "!cat title.ratings.tsv | egrep \".*([7-9])(\\.).*\" > good.rating.tsv\n"
      ],
      "metadata": {
        "id": "UmA3sDQS-3iB"
      },
      "execution_count": 6,
      "outputs": []
    },
    {
      "cell_type": "code",
      "source": [
        "! wc -l *.tsv"
      ],
      "metadata": {
        "colab": {
          "base_uri": "https://localhost:8080/"
        },
        "id": "GSed2ICQC7vV",
        "outputId": "2ccc1f77-fd04-494f-8fc3-46ec88e7c6d7"
      },
      "execution_count": 7,
      "outputs": [
        {
          "output_type": "stream",
          "name": "stdout",
          "text": [
            "      10 debug.tsv\n",
            "  858793 good.rating.tsv\n",
            " 1537374 title.ratings.tsv\n",
            " 2396177 total\n"
          ]
        }
      ]
    },
    {
      "cell_type": "code",
      "source": [
        "!head good.rating.tsv"
      ],
      "metadata": {
        "colab": {
          "base_uri": "https://localhost:8080/"
        },
        "id": "xtZ2dS8cCBjH",
        "outputId": "cfb87abc-e278-4037-b86f-63e69956b76d"
      },
      "execution_count": 8,
      "outputs": [
        {
          "output_type": "stream",
          "name": "stdout",
          "text": [
            "tt0000012\t7.4\t13375\n",
            "tt0000014\t7.1\t6103\n",
            "tt0000060\t7.1\t93\n",
            "tt0000211\t7.4\t5017\n",
            "tt0000310\t7.4\t36\n",
            "tt0000359\t7.1\t3356\n",
            "tt0000361\t7.4\t27\n",
            "tt0000417\t8.1\t58011\n",
            "tt0000439\t7.2\t21753\n",
            "tt0000441\t7.2\t12\n"
          ]
        }
      ]
    },
    {
      "cell_type": "code",
      "source": [
        "from pyspark.sql.functions import col\n",
        "from pyspark.sql import SparkSession\n",
        "\n",
        "from pyspark.sql.types import StructType, StructField, StringType, IntegerType, DecimalType\n",
        "\n",
        "# tconst\taverageRating\tnumVotes\n",
        "schema = StructType([\n",
        "    StructField(\"tconst\", StringType(), True),\n",
        "    StructField(\"averageRating\", DecimalType(4, 2), True),\n",
        "    StructField(\"numVotes\", IntegerType(), True)\n",
        "])\n",
        "\n",
        "spark = SparkSession.builder.appName(\"IMDB Ratings\").getOrCreate()\n",
        "\n",
        "\n",
        "df = spark.read.csv('good.rating.tsv', sep='\\t', header=True,  schema=schema)\n",
        "\n",
        "\n"
      ],
      "metadata": {
        "id": "lVxBo7qt9Lbk"
      },
      "execution_count": 9,
      "outputs": []
    },
    {
      "cell_type": "code",
      "source": [
        "df.show()"
      ],
      "metadata": {
        "colab": {
          "base_uri": "https://localhost:8080/"
        },
        "id": "4PlImlNAC1UP",
        "outputId": "17e7d8ee-1f0e-457d-ec7f-79a47f81f776"
      },
      "execution_count": 10,
      "outputs": [
        {
          "output_type": "stream",
          "name": "stdout",
          "text": [
            "+---------+-------------+--------+\n",
            "|   tconst|averageRating|numVotes|\n",
            "+---------+-------------+--------+\n",
            "|tt0000014|         7.10|    6103|\n",
            "|tt0000060|         7.10|      93|\n",
            "|tt0000211|         7.40|    5017|\n",
            "|tt0000310|         7.40|      36|\n",
            "|tt0000359|         7.10|    3356|\n",
            "|tt0000361|         7.40|      27|\n",
            "|tt0000417|         8.10|   58011|\n",
            "|tt0000439|         7.20|   21753|\n",
            "|tt0000441|         7.20|      12|\n",
            "|tt0000465|         7.30|    1968|\n",
            "|tt0000499|         7.50|    4213|\n",
            "|tt0000578|         7.20|      29|\n",
            "|tt0000606|         7.40|      18|\n",
            "|tt0000618|         8.90|      16|\n",
            "|tt0000650|         7.40|      23|\n",
            "|tt0000661|         7.80|      24|\n",
            "|tt0000738|         7.90|      22|\n",
            "|tt0000746|         7.80|      19|\n",
            "|tt0000775|         7.50|      11|\n",
            "|tt0000778|         7.00|      16|\n",
            "+---------+-------------+--------+\n",
            "only showing top 20 rows\n",
            "\n"
          ]
        }
      ]
    },
    {
      "cell_type": "code",
      "source": [
        "#good_titles = df.filter(col('averageRating') >= 7.0)\n",
        "\n",
        "#good_titles.show()\n",
        "\n",
        "#save the filtered data to a new file, overwrite if the file already exists\n",
        "#good_titles.write.csv('good.tsv', sep='\\t', header=True, mode='overwrite')"
      ],
      "metadata": {
        "id": "rhpX6IATCyH0"
      },
      "execution_count": 11,
      "outputs": []
    },
    {
      "cell_type": "code",
      "source": [
        "\n",
        "#from pyspark.sql import SparkSession\n",
        "\n",
        "# Initialize SparkSession\n",
        "#spark = SparkSession.builder \\\n",
        "#    .appName(\"netflix\") \\\n",
        "#    .getOrCreate()\n",
        "\n",
        "##df = spark.read.option(\"ratings\", \"\\t\").option(\"header\", True).csv(\"title.ratings.tsv\")\n",
        "\n",
        "# Display the DataFrame\n",
        "\n",
        "\n",
        "#df = spark.read.csv(\n",
        "#    \"good.tsv\",\n",
        "#    header=True,        # Use the first row as column names\n",
        "#    inferSchema=True,   # Automatically infer data types\n",
        "#    sep=\"\\t\",            # Specify delimiter (default is ',')\n",
        "#    encoding=\"UTF-8\"    # Handle encoding\n",
        "#)\n",
        "\n",
        "#df.show()"
      ],
      "metadata": {
        "id": "UvVe_qWCW-jv"
      },
      "execution_count": 12,
      "outputs": []
    },
    {
      "cell_type": "code",
      "source": [
        "!head title.ratings.tsv"
      ],
      "metadata": {
        "colab": {
          "base_uri": "https://localhost:8080/"
        },
        "id": "2q65qt8eWCEE",
        "outputId": "ab9f0dff-7563-49a4-d4f2-75ec9ea73bde"
      },
      "execution_count": 13,
      "outputs": [
        {
          "output_type": "stream",
          "name": "stdout",
          "text": [
            "tconst\taverageRating\tnumVotes\n",
            "tt0000001\t5.7\t2133\n",
            "tt0000002\t5.5\t289\n",
            "tt0000003\t6.4\t2169\n",
            "tt0000004\t5.3\t184\n",
            "tt0000005\t6.2\t2897\n",
            "tt0000006\t5.0\t208\n",
            "tt0000007\t5.3\t901\n",
            "tt0000008\t5.4\t2280\n",
            "tt0000009\t5.3\t221\n"
          ]
        }
      ]
    },
    {
      "cell_type": "code",
      "source": [
        "df.createOrReplaceTempView(\"ratings\")"
      ],
      "metadata": {
        "id": "QfBmNXK4X2Py"
      },
      "execution_count": 14,
      "outputs": []
    },
    {
      "cell_type": "code",
      "source": [
        "\n",
        "sql = '''\n",
        "describe ratings\n",
        "\n",
        "'''\n",
        "\n",
        "result = spark.sql(sql)\n",
        "result.show()\n"
      ],
      "metadata": {
        "colab": {
          "base_uri": "https://localhost:8080/"
        },
        "id": "MouT8MQcYcde",
        "outputId": "95358ad1-9dd5-4706-c9fd-ed74c3e7f509"
      },
      "execution_count": 15,
      "outputs": [
        {
          "output_type": "stream",
          "name": "stdout",
          "text": [
            "+-------------+------------+-------+\n",
            "|     col_name|   data_type|comment|\n",
            "+-------------+------------+-------+\n",
            "|       tconst|      string|   NULL|\n",
            "|averageRating|decimal(4,2)|   NULL|\n",
            "|     numVotes|         int|   NULL|\n",
            "+-------------+------------+-------+\n",
            "\n"
          ]
        }
      ]
    },
    {
      "cell_type": "code",
      "source": [
        "sql = '''\n",
        "select * from ratings\n",
        "\n",
        "'''\n",
        "\n",
        "result = spark.sql(sql)\n",
        "result.show()"
      ],
      "metadata": {
        "colab": {
          "base_uri": "https://localhost:8080/"
        },
        "id": "p1c257I2ZhJx",
        "outputId": "af0fd22c-a063-4d76-e410-d10ee25235d2"
      },
      "execution_count": 16,
      "outputs": [
        {
          "output_type": "stream",
          "name": "stdout",
          "text": [
            "+---------+-------------+--------+\n",
            "|   tconst|averageRating|numVotes|\n",
            "+---------+-------------+--------+\n",
            "|tt0000014|         7.10|    6103|\n",
            "|tt0000060|         7.10|      93|\n",
            "|tt0000211|         7.40|    5017|\n",
            "|tt0000310|         7.40|      36|\n",
            "|tt0000359|         7.10|    3356|\n",
            "|tt0000361|         7.40|      27|\n",
            "|tt0000417|         8.10|   58011|\n",
            "|tt0000439|         7.20|   21753|\n",
            "|tt0000441|         7.20|      12|\n",
            "|tt0000465|         7.30|    1968|\n",
            "|tt0000499|         7.50|    4213|\n",
            "|tt0000578|         7.20|      29|\n",
            "|tt0000606|         7.40|      18|\n",
            "|tt0000618|         8.90|      16|\n",
            "|tt0000650|         7.40|      23|\n",
            "|tt0000661|         7.80|      24|\n",
            "|tt0000738|         7.90|      22|\n",
            "|tt0000746|         7.80|      19|\n",
            "|tt0000775|         7.50|      11|\n",
            "|tt0000778|         7.00|      16|\n",
            "+---------+-------------+--------+\n",
            "only showing top 20 rows\n",
            "\n"
          ]
        }
      ]
    },
    {
      "cell_type": "code",
      "source": [
        "!wget https://datasets.imdbws.com/title.basics.tsv.gz"
      ],
      "metadata": {
        "colab": {
          "base_uri": "https://localhost:8080/"
        },
        "id": "Cc6QYR37Y-8Z",
        "outputId": "5b59639e-6239-492f-bed0-b40d80a25026"
      },
      "execution_count": 17,
      "outputs": [
        {
          "output_type": "stream",
          "name": "stdout",
          "text": [
            "--2025-02-24 09:53:10--  https://datasets.imdbws.com/title.basics.tsv.gz\n",
            "Resolving datasets.imdbws.com (datasets.imdbws.com)... 99.84.160.48, 99.84.160.41, 99.84.160.94, ...\n",
            "Connecting to datasets.imdbws.com (datasets.imdbws.com)|99.84.160.48|:443... connected.\n",
            "HTTP request sent, awaiting response... 200 OK\n",
            "Length: 202185834 (193M) [binary/octet-stream]\n",
            "Saving to: ‘title.basics.tsv.gz’\n",
            "\n",
            "title.basics.tsv.gz 100%[===================>] 192.82M   168MB/s    in 1.2s    \n",
            "\n",
            "2025-02-24 09:53:11 (168 MB/s) - ‘title.basics.tsv.gz’ saved [202185834/202185834]\n",
            "\n"
          ]
        }
      ]
    },
    {
      "cell_type": "code",
      "source": [
        "!gunzip title.basics.tsv.gz"
      ],
      "metadata": {
        "id": "I0SK_rTbZCI5"
      },
      "execution_count": 18,
      "outputs": []
    },
    {
      "cell_type": "code",
      "source": [
        "!head title.basics.tsv"
      ],
      "metadata": {
        "colab": {
          "base_uri": "https://localhost:8080/"
        },
        "id": "Fsml56LgRQj0",
        "outputId": "17301712-e30a-4b3d-ce42-7cf1cace4864"
      },
      "execution_count": 19,
      "outputs": [
        {
          "output_type": "stream",
          "name": "stdout",
          "text": [
            "tconst\ttitleType\tprimaryTitle\toriginalTitle\tisAdult\tstartYear\tendYear\truntimeMinutes\tgenres\n",
            "tt0000001\tshort\tCarmencita\tCarmencita\t0\t1894\t\\N\t1\tDocumentary,Short\n",
            "tt0000002\tshort\tLe clown et ses chiens\tLe clown et ses chiens\t0\t1892\t\\N\t5\tAnimation,Short\n",
            "tt0000003\tshort\tPoor Pierrot\tPauvre Pierrot\t0\t1892\t\\N\t5\tAnimation,Comedy,Romance\n",
            "tt0000004\tshort\tUn bon bock\tUn bon bock\t0\t1892\t\\N\t12\tAnimation,Short\n",
            "tt0000005\tshort\tBlacksmith Scene\tBlacksmith Scene\t0\t1893\t\\N\t1\tShort\n",
            "tt0000006\tshort\tChinese Opium Den\tChinese Opium Den\t0\t1894\t\\N\t1\tShort\n",
            "tt0000007\tshort\tCorbett and Courtney Before the Kinetograph\tCorbett and Courtney Before the Kinetograph\t0\t1894\t\\N\t1\tShort,Sport\n",
            "tt0000008\tshort\tEdison Kinetoscopic Record of a Sneeze\tEdison Kinetoscopic Record of a Sneeze\t0\t1894\t\\N\t1\tDocumentary,Short\n",
            "tt0000009\tmovie\tMiss Jerry\tMiss Jerry\t0\t1894\t\\N\t45\tRomance\n"
          ]
        }
      ]
    },
    {
      "cell_type": "code",
      "source": [
        "basics = spark.read.csv(\n",
        "    \"title.basics.tsv\",\n",
        "    header=True,        # Use the first row as column names\n",
        "    inferSchema=True,   # Automatically infer data types\n",
        "    sep=\"\\t\",            # Specify delimiter (default is ',')\n",
        "    encoding=\"UTF-8\"    # Handle encoding\n",
        ")\n",
        "\n",
        "basics.show()"
      ],
      "metadata": {
        "colab": {
          "base_uri": "https://localhost:8080/"
        },
        "id": "N6o4fN7ZZIJR",
        "outputId": "a0297009-8a65-4bae-e21f-75ff6abbde7d"
      },
      "execution_count": 20,
      "outputs": [
        {
          "output_type": "stream",
          "name": "stdout",
          "text": [
            "+---------+---------+--------------------+--------------------+-------+---------+-------+--------------+--------------------+\n",
            "|   tconst|titleType|        primaryTitle|       originalTitle|isAdult|startYear|endYear|runtimeMinutes|              genres|\n",
            "+---------+---------+--------------------+--------------------+-------+---------+-------+--------------+--------------------+\n",
            "|tt0000001|    short|          Carmencita|          Carmencita|      0|     1894|     \\N|             1|   Documentary,Short|\n",
            "|tt0000002|    short|Le clown et ses c...|Le clown et ses c...|      0|     1892|     \\N|             5|     Animation,Short|\n",
            "|tt0000003|    short|        Poor Pierrot|      Pauvre Pierrot|      0|     1892|     \\N|             5|Animation,Comedy,...|\n",
            "|tt0000004|    short|         Un bon bock|         Un bon bock|      0|     1892|     \\N|            12|     Animation,Short|\n",
            "|tt0000005|    short|    Blacksmith Scene|    Blacksmith Scene|      0|     1893|     \\N|             1|               Short|\n",
            "|tt0000006|    short|   Chinese Opium Den|   Chinese Opium Den|      0|     1894|     \\N|             1|               Short|\n",
            "|tt0000007|    short|Corbett and Court...|Corbett and Court...|      0|     1894|     \\N|             1|         Short,Sport|\n",
            "|tt0000008|    short|Edison Kinetoscop...|Edison Kinetoscop...|      0|     1894|     \\N|             1|   Documentary,Short|\n",
            "|tt0000009|    movie|          Miss Jerry|          Miss Jerry|      0|     1894|     \\N|            45|             Romance|\n",
            "|tt0000010|    short| Leaving the Factory|La sortie de l'us...|      0|     1895|     \\N|             1|   Documentary,Short|\n",
            "|tt0000011|    short|Akrobatisches Pot...|Akrobatisches Pot...|      0|     1895|     \\N|             1|   Documentary,Short|\n",
            "|tt0000012|    short|The Arrival of a ...|L'arrivée d'un tr...|      0|     1896|     \\N|             1|   Documentary,Short|\n",
            "|tt0000013|    short|The Photographica...|Le débarquement d...|      0|     1895|     \\N|             1|   Documentary,Short|\n",
            "|tt0000014|    short| The Waterer Watered|   L'arroseur arrosé|      0|     1895|     \\N|             1|        Comedy,Short|\n",
            "|tt0000015|    short|      Around a Cabin| Autour d'une cabine|      0|     1894|     \\N|             2|     Animation,Short|\n",
            "|tt0000016|    short|Boat Leaving the ...|Barque sortant du...|      0|     1895|     \\N|             1|   Documentary,Short|\n",
            "|tt0000017|    short|Italienischer Bau...|Italienischer Bau...|      0|     1895|     \\N|             1|   Documentary,Short|\n",
            "|tt0000018|    short|Das boxende Känguruh|Das boxende Känguruh|      0|     1895|     \\N|             1|         Short,Sport|\n",
            "|tt0000019|    short|    The Clown Barber|    The Clown Barber|      0|     1898|     \\N|            \\N|        Comedy,Short|\n",
            "|tt0000020|    short|      The Derby 1895|      The Derby 1895|      0|     1895|     \\N|             1|Documentary,Short...|\n",
            "+---------+---------+--------------------+--------------------+-------+---------+-------+--------------+--------------------+\n",
            "only showing top 20 rows\n",
            "\n"
          ]
        }
      ]
    },
    {
      "cell_type": "code",
      "source": [
        "basics.createOrReplaceTempView(\"basics\")"
      ],
      "metadata": {
        "id": "XEh3KkgQZQMK"
      },
      "execution_count": 21,
      "outputs": []
    },
    {
      "cell_type": "code",
      "source": [
        "sql = '''\n",
        "select * from basics\n",
        "\n",
        "'''\n",
        "\n",
        "result = spark.sql(sql)\n",
        "result.show()\n"
      ],
      "metadata": {
        "colab": {
          "base_uri": "https://localhost:8080/"
        },
        "id": "mq2C799jZTg4",
        "outputId": "9d747fe3-31b2-442d-930a-3843a557a389"
      },
      "execution_count": 22,
      "outputs": [
        {
          "output_type": "stream",
          "name": "stdout",
          "text": [
            "+---------+---------+--------------------+--------------------+-------+---------+-------+--------------+--------------------+\n",
            "|   tconst|titleType|        primaryTitle|       originalTitle|isAdult|startYear|endYear|runtimeMinutes|              genres|\n",
            "+---------+---------+--------------------+--------------------+-------+---------+-------+--------------+--------------------+\n",
            "|tt0000001|    short|          Carmencita|          Carmencita|      0|     1894|     \\N|             1|   Documentary,Short|\n",
            "|tt0000002|    short|Le clown et ses c...|Le clown et ses c...|      0|     1892|     \\N|             5|     Animation,Short|\n",
            "|tt0000003|    short|        Poor Pierrot|      Pauvre Pierrot|      0|     1892|     \\N|             5|Animation,Comedy,...|\n",
            "|tt0000004|    short|         Un bon bock|         Un bon bock|      0|     1892|     \\N|            12|     Animation,Short|\n",
            "|tt0000005|    short|    Blacksmith Scene|    Blacksmith Scene|      0|     1893|     \\N|             1|               Short|\n",
            "|tt0000006|    short|   Chinese Opium Den|   Chinese Opium Den|      0|     1894|     \\N|             1|               Short|\n",
            "|tt0000007|    short|Corbett and Court...|Corbett and Court...|      0|     1894|     \\N|             1|         Short,Sport|\n",
            "|tt0000008|    short|Edison Kinetoscop...|Edison Kinetoscop...|      0|     1894|     \\N|             1|   Documentary,Short|\n",
            "|tt0000009|    movie|          Miss Jerry|          Miss Jerry|      0|     1894|     \\N|            45|             Romance|\n",
            "|tt0000010|    short| Leaving the Factory|La sortie de l'us...|      0|     1895|     \\N|             1|   Documentary,Short|\n",
            "|tt0000011|    short|Akrobatisches Pot...|Akrobatisches Pot...|      0|     1895|     \\N|             1|   Documentary,Short|\n",
            "|tt0000012|    short|The Arrival of a ...|L'arrivée d'un tr...|      0|     1896|     \\N|             1|   Documentary,Short|\n",
            "|tt0000013|    short|The Photographica...|Le débarquement d...|      0|     1895|     \\N|             1|   Documentary,Short|\n",
            "|tt0000014|    short| The Waterer Watered|   L'arroseur arrosé|      0|     1895|     \\N|             1|        Comedy,Short|\n",
            "|tt0000015|    short|      Around a Cabin| Autour d'une cabine|      0|     1894|     \\N|             2|     Animation,Short|\n",
            "|tt0000016|    short|Boat Leaving the ...|Barque sortant du...|      0|     1895|     \\N|             1|   Documentary,Short|\n",
            "|tt0000017|    short|Italienischer Bau...|Italienischer Bau...|      0|     1895|     \\N|             1|   Documentary,Short|\n",
            "|tt0000018|    short|Das boxende Känguruh|Das boxende Känguruh|      0|     1895|     \\N|             1|         Short,Sport|\n",
            "|tt0000019|    short|    The Clown Barber|    The Clown Barber|      0|     1898|     \\N|            \\N|        Comedy,Short|\n",
            "|tt0000020|    short|      The Derby 1895|      The Derby 1895|      0|     1895|     \\N|             1|Documentary,Short...|\n",
            "+---------+---------+--------------------+--------------------+-------+---------+-------+--------------+--------------------+\n",
            "only showing top 20 rows\n",
            "\n"
          ]
        }
      ]
    },
    {
      "cell_type": "code",
      "source": [
        "movies = spark.sql(\"\"\"\n",
        "    SELECT b.originalTitle, b.tconst, b.startYear, r.averageRating, r.numVotes\n",
        "    FROM basics b\n",
        "    INNER JOIN ratings r\n",
        "    ON b.tconst = r.tconst\n",
        "    where b.startYear RLIKE '^[0-9]+$' and LENGTH(r.numVotes) > 3 and titleType NOT IN ('videoGame', 'short', 'video')\n",
        "    order by b.startYear desc, r.averageRating desc\n",
        "\"\"\")"
      ],
      "metadata": {
        "id": "mS5RQDXgEXP7"
      },
      "execution_count": 34,
      "outputs": []
    },
    {
      "cell_type": "code",
      "source": [
        "movies.cache()"
      ],
      "metadata": {
        "colab": {
          "base_uri": "https://localhost:8080/"
        },
        "id": "Zy8oNp7CQDZE",
        "outputId": "541847c5-9b52-4c2a-af15-e38d0dcfc084"
      },
      "execution_count": 32,
      "outputs": [
        {
          "output_type": "execute_result",
          "data": {
            "text/plain": [
              "DataFrame[originalTitle: string, tconst: string, startYear: string, averageRating: decimal(4,2), numVotes: int]"
            ]
          },
          "metadata": {},
          "execution_count": 32
        }
      ]
    },
    {
      "cell_type": "code",
      "source": [
        "movies.count()"
      ],
      "metadata": {
        "id": "n_5SYowvGjdj",
        "colab": {
          "base_uri": "https://localhost:8080/"
        },
        "outputId": "64a90e2d-ffd4-45b4-84ce-3f272ce38272"
      },
      "execution_count": 36,
      "outputs": [
        {
          "output_type": "execute_result",
          "data": {
            "text/plain": [
              "50322"
            ]
          },
          "metadata": {},
          "execution_count": 36
        }
      ]
    },
    {
      "cell_type": "code",
      "source": [
        "movies.show()"
      ],
      "metadata": {
        "colab": {
          "base_uri": "https://localhost:8080/"
        },
        "id": "uesoyVlwGHgD",
        "outputId": "c1eb724b-d79d-46af-a6c6-6baa4b25897e"
      },
      "execution_count": 35,
      "outputs": [
        {
          "output_type": "stream",
          "name": "stdout",
          "text": [
            "+--------------------+----------+---------+-------------+--------+\n",
            "|       originalTitle|    tconst|startYear|averageRating|numVotes|\n",
            "+--------------------+----------+---------+-------------+--------+\n",
            "|Don't Look Down o...|tt35667354|     2025|         9.70|    9113|\n",
            "|       Ex-Degenerate|tt32267664|     2025|         9.60|    3675|\n",
            "|Looking Up Was Ti...|tt35868733|     2025|         9.60|    2898|\n",
            "|            Betrayal|tt35838909|     2025|         9.60|    2793|\n",
            "|         Strike Last|tt32269370|     2025|         9.50|    3126|\n",
            "|Anamadheya Ashok ...|tt34442671|     2025|         9.50|    1097|\n",
            "|I Suppose You Are...|tt35283832|     2025|         9.50|    6720|\n",
            "|           Awakening|tt35678050|     2025|         9.50|    3341|\n",
            "|                Fire|tt34604827|     2025|         9.40|   10165|\n",
            "|              Sangee|tt33084735|     2025|         9.30|    1928|\n",
            "|           Nesippaya|tt27190164|     2025|         9.30|    2105|\n",
            "|      Brahma Anandam|tt32324361|     2025|         9.30|    1089|\n",
            "|          Sammelanam|tt35747039|     2025|         9.30|    1980|\n",
            "|The Plan to Conqu...|tt34000793|     2025|         9.30|    1648|\n",
            "|          Racharikam|tt33337133|     2025|         9.30|    2041|\n",
            "|    You Were My Hero|tt33397685|     2025|         9.30|    4483|\n",
            "|           Skeletons|tt32269368|     2025|         9.20|    2728|\n",
            "|A Deal with the D...|tt31322395|     2025|         9.20|    4930|\n",
            "|        Woe's Hollow|tt15241844|     2025|         9.10|    9173|\n",
            "|You Aren't E-Rank...|tt31960864|     2025|         9.10|    6262|\n",
            "+--------------------+----------+---------+-------------+--------+\n",
            "only showing top 20 rows\n",
            "\n"
          ]
        }
      ]
    },
    {
      "cell_type": "code",
      "source": [
        "spark.sql(\"\"\"\n",
        "    SELECT distinct titleType from basics\n",
        "\"\"\").show()"
      ],
      "metadata": {
        "id": "ysKlL5iUYogX",
        "outputId": "307fbeef-a803-43b5-9b6c-7154b3ab0bba",
        "colab": {
          "base_uri": "https://localhost:8080/"
        }
      },
      "execution_count": 30,
      "outputs": [
        {
          "output_type": "stream",
          "name": "stdout",
          "text": [
            "+------------+\n",
            "|   titleType|\n",
            "+------------+\n",
            "|    tvSeries|\n",
            "|tvMiniSeries|\n",
            "|     tvMovie|\n",
            "|   tvEpisode|\n",
            "|       movie|\n",
            "|   tvSpecial|\n",
            "|       video|\n",
            "|   videoGame|\n",
            "|     tvShort|\n",
            "|       short|\n",
            "|     tvPilot|\n",
            "+------------+\n",
            "\n"
          ]
        }
      ]
    },
    {
      "cell_type": "code",
      "source": [
        "'''\n",
        "\n",
        "#create a new Spark session and name it MovieRatings\n",
        "spark = SparkSession.builder.appName(\"MovieRatings\").getOrCreate()\n",
        "\n",
        "#reads the ratings tsv as a csv, use the first row as headers, inferSchema\n",
        "#will automatically figure out what type of data is in each column, like numbers or text\n",
        "#sep tells that the data is seperated by tabs\n",
        "#UTF-8 will help deal with any special charachters without errors\n",
        "ratings = spark.read.csv(\"title.ratings.tsv\", header=True, inferSchema=True, sep=\"\\t\", encoding=\"UTF-8\")\n",
        "\n",
        "#the same thing as the line before, but basics tsv is being read instead\n",
        "basics = spark.read.csv(\"title.akas.tsv\", header=True, inferSchema=True, sep=\"\\t\", encoding=\"UTF-8\")\n",
        "\n",
        "#explode the knownForTitles column, split the rows since they ara a list\n",
        "#basics_exploded = basics.withColumn(\"tconst\", explode(basics[\"titleId\"]))\n",
        "\n",
        "#rename the columns\n",
        "basics = basics.withColumnRenamed(\"titleId\", \"titleId_basics\")\n",
        "ratings = ratings.withColumnRenamed(\"tconst\", \"titleId_ratings\")\n",
        "\n",
        "#join\n",
        "result = basics.join(ratings, basics[\"titleId_basics\"] == ratings[\"titleId_ratings\"], how=\"inner\")\n",
        "\n",
        "result.show()\n",
        "\n",
        "'''\n"
      ],
      "metadata": {
        "colab": {
          "base_uri": "https://localhost:8080/",
          "height": 161
        },
        "id": "RmbAOZS469Ir",
        "outputId": "ace7d179-6990-4deb-852b-465a41524b75"
      },
      "execution_count": 27,
      "outputs": [
        {
          "output_type": "execute_result",
          "data": {
            "text/plain": [
              "'\\n\\n#create a new Spark session and name it MovieRatings\\nspark = SparkSession.builder.appName(\"MovieRatings\").getOrCreate()\\n\\n#reads the ratings tsv as a csv, use the first row as headers, inferSchema\\n#will automatically figure out what type of data is in each column, like numbers or text\\n#sep tells that the data is seperated by tabs\\n#UTF-8 will help deal with any special charachters without errors\\nratings = spark.read.csv(\"title.ratings.tsv\", header=True, inferSchema=True, sep=\"\\t\", encoding=\"UTF-8\")\\n\\n#the same thing as the line before, but basics tsv is being read instead\\nbasics = spark.read.csv(\"title.akas.tsv\", header=True, inferSchema=True, sep=\"\\t\", encoding=\"UTF-8\")\\n\\n#explode the knownForTitles column, split the rows since they ara a list\\n#basics_exploded = basics.withColumn(\"tconst\", explode(basics[\"titleId\"]))\\n\\n#rename the columns\\nbasics = basics.withColumnRenamed(\"titleId\", \"titleId_basics\")\\nratings = ratings.withColumnRenamed(\"tconst\", \"titleId_ratings\")\\n\\n#join\\nresult = basics.join(ratings, basics[\"titleId_basics\"] == ratings[\"titleId_ratings\"], how=\"inner\")\\n\\nresult.show()\\n\\n'"
            ],
            "application/vnd.google.colaboratory.intrinsic+json": {
              "type": "string"
            }
          },
          "metadata": {},
          "execution_count": 27
        }
      ]
    },
    {
      "cell_type": "code",
      "source": [],
      "metadata": {
        "id": "TBG3n7i5Xhev"
      },
      "execution_count": 27,
      "outputs": []
    },
    {
      "cell_type": "code",
      "source": [
        "spark.sql(\"DESCRIBE TABLE basics\").show()"
      ],
      "metadata": {
        "colab": {
          "base_uri": "https://localhost:8080/"
        },
        "id": "jvZyL8bb1Xt5",
        "outputId": "de0177fe-cf7f-42ca-ede0-2a388f6a2d40"
      },
      "execution_count": 28,
      "outputs": [
        {
          "output_type": "stream",
          "name": "stdout",
          "text": [
            "+--------------+---------+-------+\n",
            "|      col_name|data_type|comment|\n",
            "+--------------+---------+-------+\n",
            "|        tconst|   string|   NULL|\n",
            "|     titleType|   string|   NULL|\n",
            "|  primaryTitle|   string|   NULL|\n",
            "| originalTitle|   string|   NULL|\n",
            "|       isAdult|   string|   NULL|\n",
            "|     startYear|   string|   NULL|\n",
            "|       endYear|   string|   NULL|\n",
            "|runtimeMinutes|   string|   NULL|\n",
            "|        genres|   string|   NULL|\n",
            "+--------------+---------+-------+\n",
            "\n"
          ]
        }
      ]
    },
    {
      "cell_type": "code",
      "source": [
        "spark.sql(\"DESCRIBE TABLE ratings\").show()"
      ],
      "metadata": {
        "colab": {
          "base_uri": "https://localhost:8080/"
        },
        "id": "W6yJMIkq0xZx",
        "outputId": "a22d19c1-beda-40e4-b359-115b6f637c0a"
      },
      "execution_count": 29,
      "outputs": [
        {
          "output_type": "stream",
          "name": "stdout",
          "text": [
            "+-------------+------------+-------+\n",
            "|     col_name|   data_type|comment|\n",
            "+-------------+------------+-------+\n",
            "|       tconst|      string|   NULL|\n",
            "|averageRating|decimal(4,2)|   NULL|\n",
            "|     numVotes|         int|   NULL|\n",
            "+-------------+------------+-------+\n",
            "\n"
          ]
        }
      ]
    }
  ]
}