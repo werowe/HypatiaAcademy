{
  "nbformat": 4,
  "nbformat_minor": 0,
  "metadata": {
    "colab": {
      "provenance": [],
      "include_colab_link": true
    },
    "kernelspec": {
      "name": "python3",
      "display_name": "Python 3"
    },
    "language_info": {
      "name": "python"
    }
  },
  "cells": [
    {
      "cell_type": "markdown",
      "metadata": {
        "id": "view-in-github",
        "colab_type": "text"
      },
      "source": [
        "<a href=\"https://colab.research.google.com/github/werowe/HypatiaAcademy/blob/master/spark/Imdb_spark_data.ipynb\" target=\"_parent\"><img src=\"https://colab.research.google.com/assets/colab-badge.svg\" alt=\"Open In Colab\"/></a>"
      ]
    },
    {
      "cell_type": "markdown",
      "source": [
        "source:  https://datasets.imdbws.com/\n"
      ],
      "metadata": {
        "id": "bUMi1ZNcVyqR"
      }
    },
    {
      "cell_type": "code",
      "execution_count": 75,
      "metadata": {
        "colab": {
          "base_uri": "https://localhost:8080/"
        },
        "id": "XHtNCgrGVu36",
        "outputId": "acd4e40f-861d-43e3-da3f-48fec153ccdb"
      },
      "outputs": [
        {
          "output_type": "stream",
          "name": "stdout",
          "text": [
            "--2025-02-24 09:13:00--  https://datasets.imdbws.com/title.ratings.tsv.gz\n",
            "Resolving datasets.imdbws.com (datasets.imdbws.com)... 18.239.69.29, 18.239.69.2, 18.239.69.88, ...\n",
            "Connecting to datasets.imdbws.com (datasets.imdbws.com)|18.239.69.29|:443... connected.\n",
            "HTTP request sent, awaiting response... 200 OK\n",
            "Length: 7735068 (7.4M) [binary/octet-stream]\n",
            "Saving to: ‘title.ratings.tsv.gz.1’\n",
            "\n",
            "\rtitle.ratings.tsv.g   0%[                    ]       0  --.-KB/s               \rtitle.ratings.tsv.g 100%[===================>]   7.38M  --.-KB/s    in 0.05s   \n",
            "\n",
            "2025-02-24 09:13:00 (163 MB/s) - ‘title.ratings.tsv.gz.1’ saved [7735068/7735068]\n",
            "\n"
          ]
        }
      ],
      "source": [
        "!wget https://datasets.imdbws.com/title.ratings.tsv.gz"
      ]
    },
    {
      "cell_type": "code",
      "source": [
        "!gunzip title.ratings.tsv.gz"
      ],
      "metadata": {
        "id": "JEgSwhK8WTbU",
        "colab": {
          "base_uri": "https://localhost:8080/"
        },
        "outputId": "450886b0-a2fb-40df-cc78-65f4fc8b7fe0"
      },
      "execution_count": 76,
      "outputs": [
        {
          "output_type": "stream",
          "name": "stdout",
          "text": [
            "gzip: title.ratings.tsv already exists; do you wish to overwrite (y or n)? y\n"
          ]
        }
      ]
    },
    {
      "cell_type": "code",
      "source": [
        "!head title.ratings.tsv"
      ],
      "metadata": {
        "colab": {
          "base_uri": "https://localhost:8080/"
        },
        "id": "C0AokmX_FYlX",
        "outputId": "9fbed55d-4786-4ffb-f274-2cd01c0789d5"
      },
      "execution_count": null,
      "outputs": [
        {
          "output_type": "stream",
          "name": "stdout",
          "text": [
            "tconst\taverageRating\tnumVotes\n",
            "tt0000001\t5.7\t2133\n",
            "tt0000002\t5.5\t289\n",
            "tt0000003\t6.4\t2169\n",
            "tt0000004\t5.3\t184\n",
            "tt0000005\t6.2\t2897\n",
            "tt0000006\t5.0\t208\n",
            "tt0000007\t5.3\t901\n",
            "tt0000008\t5.4\t2280\n",
            "tt0000009\t5.3\t221\n"
          ]
        }
      ]
    },
    {
      "cell_type": "code",
      "source": [
        "!head title.ratings.tsv > debug.tsv"
      ],
      "metadata": {
        "id": "usL5ChgC9qbr"
      },
      "execution_count": null,
      "outputs": []
    },
    {
      "cell_type": "code",
      "source": [
        "!tail title.ratings.tsv  > debug.tsv"
      ],
      "metadata": {
        "id": "H5l0iNK7XZAL"
      },
      "execution_count": null,
      "outputs": []
    },
    {
      "cell_type": "code",
      "source": [
        "!cat title.ratings.tsv | egrep \".*([7-9])(\\.).*\" > good.rating.tsv\n"
      ],
      "metadata": {
        "id": "UmA3sDQS-3iB"
      },
      "execution_count": null,
      "outputs": []
    },
    {
      "cell_type": "code",
      "source": [
        "! wc -l *.tsv"
      ],
      "metadata": {
        "colab": {
          "base_uri": "https://localhost:8080/"
        },
        "id": "GSed2ICQC7vV",
        "outputId": "18df2cd0-0edb-4778-9ee7-678f7fd67cee"
      },
      "execution_count": null,
      "outputs": [
        {
          "output_type": "stream",
          "name": "stdout",
          "text": [
            "      10 debug.tsv\n",
            "  858793 good.rating.tsv\n",
            " 1537374 title.ratings.tsv\n",
            " 2396177 total\n"
          ]
        }
      ]
    },
    {
      "cell_type": "code",
      "source": [
        "!head good.rating.tsv"
      ],
      "metadata": {
        "colab": {
          "base_uri": "https://localhost:8080/"
        },
        "id": "xtZ2dS8cCBjH",
        "outputId": "4754b46b-ebd0-4aaf-84ee-3e39c4644ece"
      },
      "execution_count": null,
      "outputs": [
        {
          "output_type": "stream",
          "name": "stdout",
          "text": [
            "tt0000012\t7.4\t13375\n",
            "tt0000014\t7.1\t6103\n",
            "tt0000060\t7.1\t93\n",
            "tt0000211\t7.4\t5017\n",
            "tt0000310\t7.4\t36\n",
            "tt0000359\t7.1\t3356\n",
            "tt0000361\t7.4\t27\n",
            "tt0000417\t8.1\t58011\n",
            "tt0000439\t7.2\t21753\n",
            "tt0000441\t7.2\t12\n"
          ]
        }
      ]
    },
    {
      "cell_type": "code",
      "source": [
        "from pyspark.sql.functions import col\n",
        "from pyspark.sql import SparkSession\n",
        "\n",
        "from pyspark.sql.types import StructType, StructField, StringType, IntegerType, DecimalType\n",
        "\n",
        "# tconst\taverageRating\tnumVotes\n",
        "schema = StructType([\n",
        "    StructField(\"tconst\", StringType(), True),\n",
        "    StructField(\"averageRating\", DecimalType(4, 2), True),\n",
        "    StructField(\"numVotes\", IntegerType(), True)\n",
        "])\n",
        "\n",
        "spark = SparkSession.builder.appName(\"IMDB Ratings\").getOrCreate()\n",
        "\n",
        "\n",
        "df = spark.read.csv('good.rating.tsv', sep='\\t', header=True,  schema=schema)\n",
        "\n",
        "\n"
      ],
      "metadata": {
        "id": "lVxBo7qt9Lbk"
      },
      "execution_count": null,
      "outputs": []
    },
    {
      "cell_type": "code",
      "source": [
        "df.show()"
      ],
      "metadata": {
        "colab": {
          "base_uri": "https://localhost:8080/"
        },
        "id": "4PlImlNAC1UP",
        "outputId": "500e3657-5eec-4236-b7a5-e103cce9032c"
      },
      "execution_count": 77,
      "outputs": [
        {
          "output_type": "stream",
          "name": "stdout",
          "text": [
            "+---------+-------------+--------+\n",
            "|   tconst|averageRating|numVotes|\n",
            "+---------+-------------+--------+\n",
            "|tt0000014|         7.10|    6103|\n",
            "|tt0000060|         7.10|      93|\n",
            "|tt0000211|         7.40|    5017|\n",
            "|tt0000310|         7.40|      36|\n",
            "|tt0000359|         7.10|    3356|\n",
            "|tt0000361|         7.40|      27|\n",
            "|tt0000417|         8.10|   58011|\n",
            "|tt0000439|         7.20|   21753|\n",
            "|tt0000441|         7.20|      12|\n",
            "|tt0000465|         7.30|    1968|\n",
            "|tt0000499|         7.50|    4213|\n",
            "|tt0000578|         7.20|      29|\n",
            "|tt0000606|         7.40|      18|\n",
            "|tt0000618|         8.90|      16|\n",
            "|tt0000650|         7.40|      23|\n",
            "|tt0000661|         7.80|      24|\n",
            "|tt0000738|         7.90|      22|\n",
            "|tt0000746|         7.80|      19|\n",
            "|tt0000775|         7.50|      11|\n",
            "|tt0000778|         7.00|      16|\n",
            "+---------+-------------+--------+\n",
            "only showing top 20 rows\n",
            "\n"
          ]
        }
      ]
    },
    {
      "cell_type": "code",
      "source": [
        "#good_titles = df.filter(col('averageRating') >= 7.0)\n",
        "\n",
        "#good_titles.show()\n",
        "\n",
        "#save the filtered data to a new file, overwrite if the file already exists\n",
        "#good_titles.write.csv('good.tsv', sep='\\t', header=True, mode='overwrite')"
      ],
      "metadata": {
        "id": "rhpX6IATCyH0"
      },
      "execution_count": null,
      "outputs": []
    },
    {
      "cell_type": "code",
      "source": [
        "\n",
        "#from pyspark.sql import SparkSession\n",
        "\n",
        "# Initialize SparkSession\n",
        "#spark = SparkSession.builder \\\n",
        "#    .appName(\"netflix\") \\\n",
        "#    .getOrCreate()\n",
        "\n",
        "##df = spark.read.option(\"ratings\", \"\\t\").option(\"header\", True).csv(\"title.ratings.tsv\")\n",
        "\n",
        "# Display the DataFrame\n",
        "\n",
        "\n",
        "#df = spark.read.csv(\n",
        "#    \"good.tsv\",\n",
        "#    header=True,        # Use the first row as column names\n",
        "#    inferSchema=True,   # Automatically infer data types\n",
        "#    sep=\"\\t\",            # Specify delimiter (default is ',')\n",
        "#    encoding=\"UTF-8\"    # Handle encoding\n",
        "#)\n",
        "\n",
        "#df.show()"
      ],
      "metadata": {
        "colab": {
          "base_uri": "https://localhost:8080/"
        },
        "id": "UvVe_qWCW-jv",
        "outputId": "3a97efba-dbe3-4fd4-8330-1017158a69b3"
      },
      "execution_count": null,
      "outputs": [
        {
          "output_type": "stream",
          "name": "stdout",
          "text": [
            "+---------+-------------+--------+\n",
            "|   tconst|averageRating|numVotes|\n",
            "+---------+-------------+--------+\n",
            "|tt0000012|          7.4|   13371|\n",
            "|tt0000014|          7.1|    6099|\n",
            "|tt0000060|          7.1|      93|\n",
            "|tt0000211|          7.4|    5015|\n",
            "|tt0000310|          7.4|      36|\n",
            "|tt0000359|          7.1|    3353|\n",
            "|tt0000361|          7.4|      27|\n",
            "|tt0000417|          8.1|   58007|\n",
            "|tt0000439|          7.2|   21748|\n",
            "|tt0000441|          7.2|      12|\n",
            "|tt0000465|          7.3|    1967|\n",
            "|tt0000499|          7.5|    4212|\n",
            "|tt0000578|          7.2|      29|\n",
            "|tt0000606|          7.4|      18|\n",
            "|tt0000618|          8.9|      16|\n",
            "|tt0000650|          7.4|      23|\n",
            "|tt0000661|          7.8|      24|\n",
            "|tt0000738|          7.9|      22|\n",
            "|tt0000746|          7.8|      19|\n",
            "|tt0000775|          7.5|      11|\n",
            "+---------+-------------+--------+\n",
            "only showing top 20 rows\n",
            "\n"
          ]
        }
      ]
    },
    {
      "cell_type": "code",
      "source": [
        "!head title.ratings.tsv"
      ],
      "metadata": {
        "colab": {
          "base_uri": "https://localhost:8080/"
        },
        "id": "2q65qt8eWCEE",
        "outputId": "dffbf0a4-6066-498a-b218-3c5222e472aa"
      },
      "execution_count": null,
      "outputs": [
        {
          "output_type": "stream",
          "name": "stdout",
          "text": [
            "tconst\taverageRating\tnumVotes\n",
            "tt0000001\t5.7\t2133\n",
            "tt0000002\t5.5\t289\n",
            "tt0000003\t6.4\t2169\n",
            "tt0000004\t5.3\t184\n",
            "tt0000005\t6.2\t2896\n",
            "tt0000006\t5.0\t208\n",
            "tt0000007\t5.3\t901\n",
            "tt0000008\t5.4\t2280\n",
            "tt0000009\t5.3\t220\n"
          ]
        }
      ]
    },
    {
      "cell_type": "code",
      "source": [
        "df.createOrReplaceTempView(\"ratings\")"
      ],
      "metadata": {
        "id": "QfBmNXK4X2Py"
      },
      "execution_count": null,
      "outputs": []
    },
    {
      "cell_type": "code",
      "source": [
        "\n",
        "sql = '''\n",
        "describe ratings\n",
        "\n",
        "'''\n",
        "\n",
        "result = spark.sql(sql)\n",
        "result.show()\n"
      ],
      "metadata": {
        "colab": {
          "base_uri": "https://localhost:8080/"
        },
        "id": "MouT8MQcYcde",
        "outputId": "cea461e1-2d70-4d67-f01c-83521007899e"
      },
      "execution_count": null,
      "outputs": [
        {
          "output_type": "stream",
          "name": "stdout",
          "text": [
            "+-------------+------------+-------+\n",
            "|     col_name|   data_type|comment|\n",
            "+-------------+------------+-------+\n",
            "|       tconst|      string|   NULL|\n",
            "|averageRating|decimal(4,2)|   NULL|\n",
            "|     numVotes|         int|   NULL|\n",
            "+-------------+------------+-------+\n",
            "\n"
          ]
        }
      ]
    },
    {
      "cell_type": "code",
      "source": [
        "sql = '''\n",
        "select * from ratings\n",
        "\n",
        "'''\n",
        "\n",
        "result = spark.sql(sql)\n",
        "result.show()"
      ],
      "metadata": {
        "colab": {
          "base_uri": "https://localhost:8080/"
        },
        "id": "p1c257I2ZhJx",
        "outputId": "6bc9bb09-eb5d-4cbf-f863-2a69ecc303c4"
      },
      "execution_count": null,
      "outputs": [
        {
          "output_type": "stream",
          "name": "stdout",
          "text": [
            "+---------+-------------+--------+\n",
            "|   tconst|averageRating|numVotes|\n",
            "+---------+-------------+--------+\n",
            "|tt0000014|         7.10|    6103|\n",
            "|tt0000060|         7.10|      93|\n",
            "|tt0000211|         7.40|    5017|\n",
            "|tt0000310|         7.40|      36|\n",
            "|tt0000359|         7.10|    3356|\n",
            "|tt0000361|         7.40|      27|\n",
            "|tt0000417|         8.10|   58011|\n",
            "|tt0000439|         7.20|   21753|\n",
            "|tt0000441|         7.20|      12|\n",
            "|tt0000465|         7.30|    1968|\n",
            "|tt0000499|         7.50|    4213|\n",
            "|tt0000578|         7.20|      29|\n",
            "|tt0000606|         7.40|      18|\n",
            "|tt0000618|         8.90|      16|\n",
            "|tt0000650|         7.40|      23|\n",
            "|tt0000661|         7.80|      24|\n",
            "|tt0000738|         7.90|      22|\n",
            "|tt0000746|         7.80|      19|\n",
            "|tt0000775|         7.50|      11|\n",
            "|tt0000778|         7.00|      16|\n",
            "+---------+-------------+--------+\n",
            "only showing top 20 rows\n",
            "\n"
          ]
        }
      ]
    },
    {
      "cell_type": "code",
      "source": [
        "!wget https://datasets.imdbws.com/title.basics.tsv.gz"
      ],
      "metadata": {
        "colab": {
          "base_uri": "https://localhost:8080/"
        },
        "id": "Cc6QYR37Y-8Z",
        "outputId": "f9005f52-eb6b-4ab4-e28f-38bbebc06067"
      },
      "execution_count": 71,
      "outputs": [
        {
          "output_type": "stream",
          "name": "stdout",
          "text": [
            "--2025-02-24 09:08:45--  https://datasets.imdbws.com/title.basics.tsv.gz\n",
            "Resolving datasets.imdbws.com (datasets.imdbws.com)... 18.239.69.88, 18.239.69.29, 18.239.69.2, ...\n",
            "Connecting to datasets.imdbws.com (datasets.imdbws.com)|18.239.69.88|:443... connected.\n",
            "HTTP request sent, awaiting response... 200 OK\n",
            "Length: 202185834 (193M) [binary/octet-stream]\n",
            "Saving to: ‘title.basics.tsv.gz’\n",
            "\n",
            "title.basics.tsv.gz 100%[===================>] 192.82M   184MB/s    in 1.0s    \n",
            "\n",
            "2025-02-24 09:08:46 (184 MB/s) - ‘title.basics.tsv.gz’ saved [202185834/202185834]\n",
            "\n"
          ]
        }
      ]
    },
    {
      "cell_type": "code",
      "source": [
        "!gunzip title.basics.tsv.gz"
      ],
      "metadata": {
        "id": "I0SK_rTbZCI5",
        "colab": {
          "base_uri": "https://localhost:8080/"
        },
        "outputId": "2062bf56-5be5-427f-d81f-5c7806468843"
      },
      "execution_count": 72,
      "outputs": [
        {
          "output_type": "stream",
          "name": "stdout",
          "text": [
            "gzip: title.basics.tsv already exists; do you wish to overwrite (y or n)? y\n"
          ]
        }
      ]
    },
    {
      "cell_type": "code",
      "source": [
        "!head title.basics.tsv"
      ],
      "metadata": {
        "colab": {
          "base_uri": "https://localhost:8080/"
        },
        "id": "Fsml56LgRQj0",
        "outputId": "429b1863-b51c-4a33-bbb2-b825b7df0cf5"
      },
      "execution_count": 97,
      "outputs": [
        {
          "output_type": "stream",
          "name": "stdout",
          "text": [
            "tconst\ttitleType\tprimaryTitle\toriginalTitle\tisAdult\tstartYear\tendYear\truntimeMinutes\tgenres\n",
            "tt0000001\tshort\tCarmencita\tCarmencita\t0\t1894\t\\N\t1\tDocumentary,Short\n",
            "tt0000002\tshort\tLe clown et ses chiens\tLe clown et ses chiens\t0\t1892\t\\N\t5\tAnimation,Short\n",
            "tt0000003\tshort\tPoor Pierrot\tPauvre Pierrot\t0\t1892\t\\N\t5\tAnimation,Comedy,Romance\n",
            "tt0000004\tshort\tUn bon bock\tUn bon bock\t0\t1892\t\\N\t12\tAnimation,Short\n",
            "tt0000005\tshort\tBlacksmith Scene\tBlacksmith Scene\t0\t1893\t\\N\t1\tShort\n",
            "tt0000006\tshort\tChinese Opium Den\tChinese Opium Den\t0\t1894\t\\N\t1\tShort\n",
            "tt0000007\tshort\tCorbett and Courtney Before the Kinetograph\tCorbett and Courtney Before the Kinetograph\t0\t1894\t\\N\t1\tShort,Sport\n",
            "tt0000008\tshort\tEdison Kinetoscopic Record of a Sneeze\tEdison Kinetoscopic Record of a Sneeze\t0\t1894\t\\N\t1\tDocumentary,Short\n",
            "tt0000009\tmovie\tMiss Jerry\tMiss Jerry\t0\t1894\t\\N\t45\tRomance\n"
          ]
        }
      ]
    },
    {
      "cell_type": "code",
      "source": [
        "basics = spark.read.csv(\n",
        "    \"title.basics.tsv\",\n",
        "    header=True,        # Use the first row as column names\n",
        "    inferSchema=True,   # Automatically infer data types\n",
        "    sep=\"\\t\",            # Specify delimiter (default is ',')\n",
        "    encoding=\"UTF-8\"    # Handle encoding\n",
        ")\n",
        "\n",
        "basics.show()"
      ],
      "metadata": {
        "colab": {
          "base_uri": "https://localhost:8080/"
        },
        "id": "N6o4fN7ZZIJR",
        "outputId": "dfa5079d-fc6d-4a51-b69f-7a076016491d"
      },
      "execution_count": 74,
      "outputs": [
        {
          "output_type": "stream",
          "name": "stdout",
          "text": [
            "+---------+---------+--------------------+--------------------+-------+---------+-------+--------------+--------------------+\n",
            "|   tconst|titleType|        primaryTitle|       originalTitle|isAdult|startYear|endYear|runtimeMinutes|              genres|\n",
            "+---------+---------+--------------------+--------------------+-------+---------+-------+--------------+--------------------+\n",
            "|tt0000001|    short|          Carmencita|          Carmencita|      0|     1894|     \\N|             1|   Documentary,Short|\n",
            "|tt0000002|    short|Le clown et ses c...|Le clown et ses c...|      0|     1892|     \\N|             5|     Animation,Short|\n",
            "|tt0000003|    short|        Poor Pierrot|      Pauvre Pierrot|      0|     1892|     \\N|             5|Animation,Comedy,...|\n",
            "|tt0000004|    short|         Un bon bock|         Un bon bock|      0|     1892|     \\N|            12|     Animation,Short|\n",
            "|tt0000005|    short|    Blacksmith Scene|    Blacksmith Scene|      0|     1893|     \\N|             1|               Short|\n",
            "|tt0000006|    short|   Chinese Opium Den|   Chinese Opium Den|      0|     1894|     \\N|             1|               Short|\n",
            "|tt0000007|    short|Corbett and Court...|Corbett and Court...|      0|     1894|     \\N|             1|         Short,Sport|\n",
            "|tt0000008|    short|Edison Kinetoscop...|Edison Kinetoscop...|      0|     1894|     \\N|             1|   Documentary,Short|\n",
            "|tt0000009|    movie|          Miss Jerry|          Miss Jerry|      0|     1894|     \\N|            45|             Romance|\n",
            "|tt0000010|    short| Leaving the Factory|La sortie de l'us...|      0|     1895|     \\N|             1|   Documentary,Short|\n",
            "|tt0000011|    short|Akrobatisches Pot...|Akrobatisches Pot...|      0|     1895|     \\N|             1|   Documentary,Short|\n",
            "|tt0000012|    short|The Arrival of a ...|L'arrivée d'un tr...|      0|     1896|     \\N|             1|   Documentary,Short|\n",
            "|tt0000013|    short|The Photographica...|Le débarquement d...|      0|     1895|     \\N|             1|   Documentary,Short|\n",
            "|tt0000014|    short| The Waterer Watered|   L'arroseur arrosé|      0|     1895|     \\N|             1|        Comedy,Short|\n",
            "|tt0000015|    short|      Around a Cabin| Autour d'une cabine|      0|     1894|     \\N|             2|     Animation,Short|\n",
            "|tt0000016|    short|Boat Leaving the ...|Barque sortant du...|      0|     1895|     \\N|             1|   Documentary,Short|\n",
            "|tt0000017|    short|Italienischer Bau...|Italienischer Bau...|      0|     1895|     \\N|             1|   Documentary,Short|\n",
            "|tt0000018|    short|Das boxende Känguruh|Das boxende Känguruh|      0|     1895|     \\N|             1|         Short,Sport|\n",
            "|tt0000019|    short|    The Clown Barber|    The Clown Barber|      0|     1898|     \\N|            \\N|        Comedy,Short|\n",
            "|tt0000020|    short|      The Derby 1895|      The Derby 1895|      0|     1895|     \\N|             1|Documentary,Short...|\n",
            "+---------+---------+--------------------+--------------------+-------+---------+-------+--------------+--------------------+\n",
            "only showing top 20 rows\n",
            "\n"
          ]
        }
      ]
    },
    {
      "cell_type": "code",
      "source": [
        "basics.createOrReplaceTempView(\"basics\")"
      ],
      "metadata": {
        "id": "XEh3KkgQZQMK"
      },
      "execution_count": 80,
      "outputs": []
    },
    {
      "cell_type": "code",
      "source": [
        "sql = '''\n",
        "select * from basics\n",
        "\n",
        "'''\n",
        "\n",
        "result = spark.sql(sql)\n",
        "result.show()\n"
      ],
      "metadata": {
        "colab": {
          "base_uri": "https://localhost:8080/"
        },
        "id": "mq2C799jZTg4",
        "outputId": "2fc16021-4a55-4d9e-a0f7-2a977e5b4d50"
      },
      "execution_count": 82,
      "outputs": [
        {
          "output_type": "stream",
          "name": "stdout",
          "text": [
            "+---------+---------+--------------------+--------------------+-------+---------+-------+--------------+--------------------+\n",
            "|   tconst|titleType|        primaryTitle|       originalTitle|isAdult|startYear|endYear|runtimeMinutes|              genres|\n",
            "+---------+---------+--------------------+--------------------+-------+---------+-------+--------------+--------------------+\n",
            "|tt0000001|    short|          Carmencita|          Carmencita|      0|     1894|     \\N|             1|   Documentary,Short|\n",
            "|tt0000002|    short|Le clown et ses c...|Le clown et ses c...|      0|     1892|     \\N|             5|     Animation,Short|\n",
            "|tt0000003|    short|        Poor Pierrot|      Pauvre Pierrot|      0|     1892|     \\N|             5|Animation,Comedy,...|\n",
            "|tt0000004|    short|         Un bon bock|         Un bon bock|      0|     1892|     \\N|            12|     Animation,Short|\n",
            "|tt0000005|    short|    Blacksmith Scene|    Blacksmith Scene|      0|     1893|     \\N|             1|               Short|\n",
            "|tt0000006|    short|   Chinese Opium Den|   Chinese Opium Den|      0|     1894|     \\N|             1|               Short|\n",
            "|tt0000007|    short|Corbett and Court...|Corbett and Court...|      0|     1894|     \\N|             1|         Short,Sport|\n",
            "|tt0000008|    short|Edison Kinetoscop...|Edison Kinetoscop...|      0|     1894|     \\N|             1|   Documentary,Short|\n",
            "|tt0000009|    movie|          Miss Jerry|          Miss Jerry|      0|     1894|     \\N|            45|             Romance|\n",
            "|tt0000010|    short| Leaving the Factory|La sortie de l'us...|      0|     1895|     \\N|             1|   Documentary,Short|\n",
            "|tt0000011|    short|Akrobatisches Pot...|Akrobatisches Pot...|      0|     1895|     \\N|             1|   Documentary,Short|\n",
            "|tt0000012|    short|The Arrival of a ...|L'arrivée d'un tr...|      0|     1896|     \\N|             1|   Documentary,Short|\n",
            "|tt0000013|    short|The Photographica...|Le débarquement d...|      0|     1895|     \\N|             1|   Documentary,Short|\n",
            "|tt0000014|    short| The Waterer Watered|   L'arroseur arrosé|      0|     1895|     \\N|             1|        Comedy,Short|\n",
            "|tt0000015|    short|      Around a Cabin| Autour d'une cabine|      0|     1894|     \\N|             2|     Animation,Short|\n",
            "|tt0000016|    short|Boat Leaving the ...|Barque sortant du...|      0|     1895|     \\N|             1|   Documentary,Short|\n",
            "|tt0000017|    short|Italienischer Bau...|Italienischer Bau...|      0|     1895|     \\N|             1|   Documentary,Short|\n",
            "|tt0000018|    short|Das boxende Känguruh|Das boxende Känguruh|      0|     1895|     \\N|             1|         Short,Sport|\n",
            "|tt0000019|    short|    The Clown Barber|    The Clown Barber|      0|     1898|     \\N|            \\N|        Comedy,Short|\n",
            "|tt0000020|    short|      The Derby 1895|      The Derby 1895|      0|     1895|     \\N|             1|Documentary,Short...|\n",
            "+---------+---------+--------------------+--------------------+-------+---------+-------+--------------+--------------------+\n",
            "only showing top 20 rows\n",
            "\n"
          ]
        }
      ]
    },
    {
      "cell_type": "code",
      "source": [
        "movies = spark.sql(\"\"\"\n",
        "    SELECT b.originalTitle, b.tconst, b.startYear, r.averageRating\n",
        "    FROM basics b\n",
        "    INNER JOIN ratings r\n",
        "    ON b.tconst = r.tconst\n",
        "    where b.startYear RLIKE '^[0-9]+$'\n",
        "    order by b.startYear desc, r.averageRating desc\n",
        "\"\"\")"
      ],
      "metadata": {
        "id": "mS5RQDXgEXP7"
      },
      "execution_count": 112,
      "outputs": []
    },
    {
      "cell_type": "code",
      "source": [
        "movies.cache()"
      ],
      "metadata": {
        "colab": {
          "base_uri": "https://localhost:8080/"
        },
        "id": "Zy8oNp7CQDZE",
        "outputId": "1c7351e5-7ddc-43fe-e655-3bae4c91adb0"
      },
      "execution_count": 113,
      "outputs": [
        {
          "output_type": "execute_result",
          "data": {
            "text/plain": [
              "DataFrame[originalTitle: string, tconst: string, startYear: string, averageRating: decimal(4,2)]"
            ]
          },
          "metadata": {},
          "execution_count": 113
        }
      ]
    },
    {
      "cell_type": "code",
      "source": [
        "movies.count()"
      ],
      "metadata": {
        "id": "n_5SYowvGjdj",
        "colab": {
          "base_uri": "https://localhost:8080/"
        },
        "outputId": "5e5b0061-1092-4465-bb70-b570f6919204"
      },
      "execution_count": 115,
      "outputs": [
        {
          "output_type": "execute_result",
          "data": {
            "text/plain": [
              "858653"
            ]
          },
          "metadata": {},
          "execution_count": 115
        }
      ]
    },
    {
      "cell_type": "code",
      "source": [
        "movies.show()"
      ],
      "metadata": {
        "colab": {
          "base_uri": "https://localhost:8080/"
        },
        "id": "uesoyVlwGHgD",
        "outputId": "4b03b696-2031-4017-f2fd-dd7a722403d8"
      },
      "execution_count": 114,
      "outputs": [
        {
          "output_type": "stream",
          "name": "stdout",
          "text": [
            "+--------------------+----------+---------+-------------+\n",
            "|       originalTitle|    tconst|startYear|averageRating|\n",
            "+--------------------+----------+---------+-------------+\n",
            "|         Twin Sister|tt35283338|     2025|         9.90|\n",
            "|          The Killer|tt35541866|     2025|         9.90|\n",
            "|        Episode #1.9|tt35296787|     2025|         9.90|\n",
            "|Estados Unidos No...|tt35508260|     2025|         9.90|\n",
            "| Bhaava Theera Yaana|tt35674627|     2025|         9.90|\n",
            "|      The Last Fight|tt35685040|     2025|         9.90|\n",
            "|Is This the Bed W...|tt10957056|     2025|         9.90|\n",
            "|           Binnenvet|tt35310520|     2025|         9.90|\n",
            "|        Episode #2.2|tt35335040|     2025|         9.90|\n",
            "|          168. Bölüm|tt35364807|     2025|         9.90|\n",
            "|               Sword|tt35541865|     2025|         9.90|\n",
            "|Mere Khayal Se - ...|tt35678755|     2025|         9.90|\n",
            "|        Flat No. 403|tt35783944|     2025|         9.90|\n",
            "|       Episode #1.15|tt26733876|     2025|         9.90|\n",
            "|        Episode #1.9|tt35309360|     2025|         9.90|\n",
            "|New Year's Gift G...|tt35405725|     2025|         9.90|\n",
            "|     Olive Green +ve|tt35101558|     2025|         9.90|\n",
            "|     Beyond the Tide|tt35288669|     2025|         9.90|\n",
            "|       Episode #1.12|tt35487906|     2025|         9.90|\n",
            "|After Hours: The ...|tt34855241|     2025|         9.80|\n",
            "+--------------------+----------+---------+-------------+\n",
            "only showing top 20 rows\n",
            "\n"
          ]
        }
      ]
    },
    {
      "cell_type": "code",
      "source": [
        "'''\n",
        "\n",
        "#create a new Spark session and name it MovieRatings\n",
        "spark = SparkSession.builder.appName(\"MovieRatings\").getOrCreate()\n",
        "\n",
        "#reads the ratings tsv as a csv, use the first row as headers, inferSchema\n",
        "#will automatically figure out what type of data is in each column, like numbers or text\n",
        "#sep tells that the data is seperated by tabs\n",
        "#UTF-8 will help deal with any special charachters without errors\n",
        "ratings = spark.read.csv(\"title.ratings.tsv\", header=True, inferSchema=True, sep=\"\\t\", encoding=\"UTF-8\")\n",
        "\n",
        "#the same thing as the line before, but basics tsv is being read instead\n",
        "basics = spark.read.csv(\"title.akas.tsv\", header=True, inferSchema=True, sep=\"\\t\", encoding=\"UTF-8\")\n",
        "\n",
        "#explode the knownForTitles column, split the rows since they ara a list\n",
        "#basics_exploded = basics.withColumn(\"tconst\", explode(basics[\"titleId\"]))\n",
        "\n",
        "#rename the columns\n",
        "basics = basics.withColumnRenamed(\"titleId\", \"titleId_basics\")\n",
        "ratings = ratings.withColumnRenamed(\"tconst\", \"titleId_ratings\")\n",
        "\n",
        "#join\n",
        "result = basics.join(ratings, basics[\"titleId_basics\"] == ratings[\"titleId_ratings\"], how=\"inner\")\n",
        "\n",
        "result.show()\n",
        "\n",
        "'''\n"
      ],
      "metadata": {
        "colab": {
          "base_uri": "https://localhost:8080/"
        },
        "id": "RmbAOZS469Ir",
        "outputId": "4d68b96d-c74e-4433-ef17-63058b794b93"
      },
      "execution_count": null,
      "outputs": [
        {
          "output_type": "stream",
          "name": "stdout",
          "text": [
            "+--------------+--------+--------------------------------+------+--------+-----------+----------+---------------+---------------+-------------+--------+\n",
            "|titleId_basics|ordering|                           title|region|language|      types|attributes|isOriginalTitle|titleId_ratings|averageRating|numVotes|\n",
            "+--------------+--------+--------------------------------+------+--------+-----------+----------+---------------+---------------+-------------+--------+\n",
            "|     tt0000019|       1|                The Clown Barber|    \\N|      \\N|   original|        \\N|              1|      tt0000019|          5.2|      33|\n",
            "|     tt0000019|       2|                The Clown Barber|    GB|      \\N|imdbDisplay|        \\N|              0|      tt0000019|          5.2|      33|\n",
            "|     tt0000058|       1|            Cortège de tzar a...|    \\N|      \\N|   original|        \\N|              1|      tt0000058|          4.2|      35|\n",
            "|     tt0000058|       2|            Cortège de tzar a...|    FR|      \\N|imdbDisplay|        \\N|              0|      tt0000058|          4.2|      35|\n",
            "|     tt0000058|       3|            The Czar's Corteg...|    GB|      \\N|imdbDisplay|        \\N|              0|      tt0000058|          4.2|      35|\n",
            "|     tt0000145|       1|                       En classe|    \\N|      \\N|   original|        \\N|              1|      tt0000145|          3.5|      14|\n",
            "|     tt0000145|       2|                       En classe|    FR|      \\N|imdbDisplay|        \\N|              0|      tt0000145|          3.5|      14|\n",
            "|     tt0000146|       1|            Le cocher de fiac...|    \\N|      \\N|   original|        \\N|              1|      tt0000146|          5.0|      27|\n",
            "|     tt0000146|       2|                  Alvó taxisofőr|    HU|      \\N|imdbDisplay|        \\N|              0|      tt0000146|          5.0|      27|\n",
            "|     tt0000146|       3|            Le cocher de fiac...|    FR|      \\N|imdbDisplay|        \\N|              0|      tt0000146|          5.0|      27|\n",
            "|     tt0000186|       1|               Le cuirassé Maine|    \\N|      \\N|   original|        \\N|              1|      tt0000186|          4.8|      25|\n",
            "|     tt0000186|       2|               Le cuirassé Maine|    FR|      \\N|imdbDisplay|        \\N|              0|      tt0000186|          4.8|      25|\n",
            "|     tt0000186|       3|            Гибель крейсера «...|    RU|      \\N|imdbDisplay|        \\N|              0|      tt0000186|          4.8|      25|\n",
            "|     tt0000264|       1|               Évocation spirite|    \\N|      \\N|   original|        \\N|              1|      tt0000264|          5.7|     519|\n",
            "|     tt0000264|       2|               Évocation spirite|    FR|      \\N|imdbDisplay|        \\N|              0|      tt0000264|          5.7|     519|\n",
            "|     tt0000264|       3|            Invocação de um E...|    BR|      \\N|imdbDisplay|        \\N|              0|      tt0000264|          5.7|     519|\n",
            "|     tt0000264|       4|            Summoning the Spi...|    US|      \\N|         \\N|        \\N|              0|      tt0000264|          5.7|     519|\n",
            "|     tt0000264|       5|                    Призыв духов|    RU|      \\N|imdbDisplay|        \\N|              0|      tt0000264|          5.7|     519|\n",
            "|     tt0000302|       1|            La fée aux choux,...|    \\N|      \\N|   original|        \\N|              1|      tt0000302|          5.2|     316|\n",
            "|     tt0000302|      10|キャベツの妖精、または子供の誕生|    JP|      ja|imdbDisplay|        \\N|              0|      tt0000302|          5.2|     316|\n",
            "+--------------+--------+--------------------------------+------+--------+-----------+----------+---------------+---------------+-------------+--------+\n",
            "only showing top 20 rows\n",
            "\n"
          ]
        }
      ]
    },
    {
      "cell_type": "code",
      "source": [],
      "metadata": {
        "id": "TBG3n7i5Xhev"
      },
      "execution_count": null,
      "outputs": []
    },
    {
      "cell_type": "code",
      "source": [
        "spark.sql(\"DESCRIBE TABLE basics\").show()"
      ],
      "metadata": {
        "colab": {
          "base_uri": "https://localhost:8080/"
        },
        "id": "jvZyL8bb1Xt5",
        "outputId": "a8f062ee-ae29-44b5-adb1-529f255a15da"
      },
      "execution_count": null,
      "outputs": [
        {
          "output_type": "stream",
          "name": "stdout",
          "text": [
            "+---------------+---------+-------+\n",
            "|       col_name|data_type|comment|\n",
            "+---------------+---------+-------+\n",
            "|        titleId|   string|   NULL|\n",
            "|       ordering|      int|   NULL|\n",
            "|          title|   string|   NULL|\n",
            "|         region|   string|   NULL|\n",
            "|       language|   string|   NULL|\n",
            "|          types|   string|   NULL|\n",
            "|     attributes|   string|   NULL|\n",
            "|isOriginalTitle|      int|   NULL|\n",
            "+---------------+---------+-------+\n",
            "\n"
          ]
        }
      ]
    },
    {
      "cell_type": "code",
      "source": [
        "spark.sql(\"DESCRIBE TABLE ratings\").show()"
      ],
      "metadata": {
        "colab": {
          "base_uri": "https://localhost:8080/"
        },
        "id": "W6yJMIkq0xZx",
        "outputId": "4d39d105-d35a-4d4e-aeff-0002a4765b49"
      },
      "execution_count": null,
      "outputs": [
        {
          "output_type": "stream",
          "name": "stdout",
          "text": [
            "+-------------+---------+-------+\n",
            "|     col_name|data_type|comment|\n",
            "+-------------+---------+-------+\n",
            "|       tconst|   string|   NULL|\n",
            "|averageRating|   double|   NULL|\n",
            "|     numVotes|      int|   NULL|\n",
            "+-------------+---------+-------+\n",
            "\n"
          ]
        }
      ]
    }
  ]
}