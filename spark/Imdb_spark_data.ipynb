{
  "nbformat": 4,
  "nbformat_minor": 0,
  "metadata": {
    "colab": {
      "provenance": [],
      "include_colab_link": true
    },
    "kernelspec": {
      "name": "python3",
      "display_name": "Python 3"
    },
    "language_info": {
      "name": "python"
    }
  },
  "cells": [
    {
      "cell_type": "markdown",
      "metadata": {
        "id": "view-in-github",
        "colab_type": "text"
      },
      "source": [
        "<a href=\"https://colab.research.google.com/github/werowe/HypatiaAcademy/blob/master/spark/Imdb_spark_data.ipynb\" target=\"_parent\"><img src=\"https://colab.research.google.com/assets/colab-badge.svg\" alt=\"Open In Colab\"/></a>"
      ]
    },
    {
      "cell_type": "markdown",
      "source": [
        "source:  https://datasets.imdbws.com/\n"
      ],
      "metadata": {
        "id": "bUMi1ZNcVyqR"
      }
    },
    {
      "cell_type": "code",
      "execution_count": null,
      "metadata": {
        "colab": {
          "base_uri": "https://localhost:8080/"
        },
        "id": "XHtNCgrGVu36",
        "outputId": "3c38419a-5fec-4447-aa77-a7221a73d44f"
      },
      "outputs": [
        {
          "output_type": "stream",
          "name": "stdout",
          "text": [
            "--2025-02-23 13:43:30--  https://datasets.imdbws.com/title.ratings.tsv.gz\n",
            "Resolving datasets.imdbws.com (datasets.imdbws.com)... 99.84.160.48, 99.84.160.94, 99.84.160.101, ...\n",
            "Connecting to datasets.imdbws.com (datasets.imdbws.com)|99.84.160.48|:443... connected.\n",
            "HTTP request sent, awaiting response... 200 OK\n",
            "Length: 7732895 (7.4M) [binary/octet-stream]\n",
            "Saving to: ‘title.ratings.tsv.gz’\n",
            "\n",
            "title.ratings.tsv.g 100%[===================>]   7.37M  43.8MB/s    in 0.2s    \n",
            "\n",
            "2025-02-23 13:43:31 (43.8 MB/s) - ‘title.ratings.tsv.gz’ saved [7732895/7732895]\n",
            "\n"
          ]
        }
      ],
      "source": [
        "!wget https://datasets.imdbws.com/title.ratings.tsv.gz"
      ]
    },
    {
      "cell_type": "code",
      "source": [
        "!gunzip title.ratings.tsv.gz"
      ],
      "metadata": {
        "id": "JEgSwhK8WTbU"
      },
      "execution_count": null,
      "outputs": []
    },
    {
      "cell_type": "code",
      "source": [
        "!ls"
      ],
      "metadata": {
        "colab": {
          "base_uri": "https://localhost:8080/"
        },
        "id": "H5l0iNK7XZAL",
        "outputId": "7f23f819-0e59-4869-d4ef-1e8e3a2d02c4"
      },
      "execution_count": null,
      "outputs": [
        {
          "output_type": "stream",
          "name": "stdout",
          "text": [
            "sample_data  title.ratings.tsv\n"
          ]
        }
      ]
    },
    {
      "cell_type": "code",
      "source": [
        "\n",
        "from pyspark.sql import SparkSession\n",
        "\n",
        "# Initialize SparkSession\n",
        "spark = SparkSession.builder \\\n",
        "    .appName(\"netflix\") \\\n",
        "    .getOrCreate()\n",
        "\n",
        "##df = spark.read.option(\"ratings\", \"\\t\").option(\"header\", True).csv(\"title.ratings.tsv\")\n",
        "\n",
        "# Display the DataFrame\n",
        "\n",
        "\n",
        "df = spark.read.csv(\n",
        "    \"title.ratings.tsv\",\n",
        "    header=True,        # Use the first row as column names\n",
        "    inferSchema=True,   # Automatically infer data types\n",
        "    sep=\"\\t\",            # Specify delimiter (default is ',')\n",
        "    encoding=\"UTF-8\"    # Handle encoding\n",
        ")\n",
        "\n",
        "df.show()"
      ],
      "metadata": {
        "colab": {
          "base_uri": "https://localhost:8080/"
        },
        "id": "UvVe_qWCW-jv",
        "outputId": "e0481355-06ad-463f-9e75-753f51dba45f"
      },
      "execution_count": null,
      "outputs": [
        {
          "output_type": "stream",
          "name": "stdout",
          "text": [
            "+---------+-------------+--------+\n",
            "|   tconst|averageRating|numVotes|\n",
            "+---------+-------------+--------+\n",
            "|tt0000001|          5.7|    2133|\n",
            "|tt0000002|          5.5|     289|\n",
            "|tt0000003|          6.4|    2169|\n",
            "|tt0000004|          5.3|     184|\n",
            "|tt0000005|          6.2|    2896|\n",
            "|tt0000006|          5.0|     208|\n",
            "|tt0000007|          5.3|     901|\n",
            "|tt0000008|          5.4|    2280|\n",
            "|tt0000009|          5.3|     220|\n",
            "|tt0000010|          6.8|    7871|\n",
            "|tt0000011|          5.2|     412|\n",
            "|tt0000012|          7.4|   13371|\n",
            "|tt0000013|          5.7|    2049|\n",
            "|tt0000014|          7.1|    6099|\n",
            "|tt0000015|          6.1|    1261|\n",
            "|tt0000016|          5.9|    1645|\n",
            "|tt0000017|          4.6|     375|\n",
            "|tt0000018|          5.2|     656|\n",
            "|tt0000019|          5.2|      33|\n",
            "|tt0000020|          4.7|     408|\n",
            "+---------+-------------+--------+\n",
            "only showing top 20 rows\n",
            "\n"
          ]
        }
      ]
    },
    {
      "cell_type": "code",
      "source": [
        "!head title.ratings.tsv"
      ],
      "metadata": {
        "colab": {
          "base_uri": "https://localhost:8080/"
        },
        "id": "2q65qt8eWCEE",
        "outputId": "dffbf0a4-6066-498a-b218-3c5222e472aa"
      },
      "execution_count": null,
      "outputs": [
        {
          "output_type": "stream",
          "name": "stdout",
          "text": [
            "tconst\taverageRating\tnumVotes\n",
            "tt0000001\t5.7\t2133\n",
            "tt0000002\t5.5\t289\n",
            "tt0000003\t6.4\t2169\n",
            "tt0000004\t5.3\t184\n",
            "tt0000005\t6.2\t2896\n",
            "tt0000006\t5.0\t208\n",
            "tt0000007\t5.3\t901\n",
            "tt0000008\t5.4\t2280\n",
            "tt0000009\t5.3\t220\n"
          ]
        }
      ]
    },
    {
      "cell_type": "code",
      "source": [
        "df.createOrReplaceTempView(\"ratings\")"
      ],
      "metadata": {
        "id": "QfBmNXK4X2Py"
      },
      "execution_count": null,
      "outputs": []
    },
    {
      "cell_type": "code",
      "source": [
        "\n",
        "sql = '''\n",
        "describe ratings\n",
        "\n",
        "'''\n",
        "\n",
        "result = spark.sql(sql)\n",
        "result.show()\n"
      ],
      "metadata": {
        "colab": {
          "base_uri": "https://localhost:8080/"
        },
        "id": "MouT8MQcYcde",
        "outputId": "c2be365f-44f8-4bf3-ad16-3041dfd8afed"
      },
      "execution_count": null,
      "outputs": [
        {
          "output_type": "stream",
          "name": "stdout",
          "text": [
            "+-------------+---------+-------+\n",
            "|     col_name|data_type|comment|\n",
            "+-------------+---------+-------+\n",
            "|       tconst|   string|   NULL|\n",
            "|averageRating|   double|   NULL|\n",
            "|     numVotes|      int|   NULL|\n",
            "+-------------+---------+-------+\n",
            "\n"
          ]
        }
      ]
    },
    {
      "cell_type": "code",
      "source": [
        "sql = '''\n",
        "select * from ratings\n",
        "\n",
        "'''\n",
        "\n",
        "result = spark.sql(sql)\n",
        "result.show()"
      ],
      "metadata": {
        "colab": {
          "base_uri": "https://localhost:8080/"
        },
        "id": "p1c257I2ZhJx",
        "outputId": "10b9ce0d-204a-4a8e-d432-f72656dade06"
      },
      "execution_count": null,
      "outputs": [
        {
          "output_type": "stream",
          "name": "stdout",
          "text": [
            "+---------+-------------+--------+\n",
            "|   tconst|averageRating|numVotes|\n",
            "+---------+-------------+--------+\n",
            "|tt0000001|          5.7|    2133|\n",
            "|tt0000002|          5.5|     289|\n",
            "|tt0000003|          6.4|    2169|\n",
            "|tt0000004|          5.3|     184|\n",
            "|tt0000005|          6.2|    2896|\n",
            "|tt0000006|          5.0|     208|\n",
            "|tt0000007|          5.3|     901|\n",
            "|tt0000008|          5.4|    2280|\n",
            "|tt0000009|          5.3|     220|\n",
            "|tt0000010|          6.8|    7871|\n",
            "|tt0000011|          5.2|     412|\n",
            "|tt0000012|          7.4|   13371|\n",
            "|tt0000013|          5.7|    2049|\n",
            "|tt0000014|          7.1|    6099|\n",
            "|tt0000015|          6.1|    1261|\n",
            "|tt0000016|          5.9|    1645|\n",
            "|tt0000017|          4.6|     375|\n",
            "|tt0000018|          5.2|     656|\n",
            "|tt0000019|          5.2|      33|\n",
            "|tt0000020|          4.7|     408|\n",
            "+---------+-------------+--------+\n",
            "only showing top 20 rows\n",
            "\n"
          ]
        }
      ]
    },
    {
      "cell_type": "code",
      "source": [
        "!wget https://datasets.imdbws.com/title.akas.tsv.gz"
      ],
      "metadata": {
        "colab": {
          "base_uri": "https://localhost:8080/"
        },
        "id": "Cc6QYR37Y-8Z",
        "outputId": "02d74c16-df04-4a24-b072-3e114950aac1"
      },
      "execution_count": null,
      "outputs": [
        {
          "output_type": "stream",
          "name": "stdout",
          "text": [
            "--2025-02-23 14:03:53--  https://datasets.imdbws.com/title.akas.tsv.gz\n",
            "Resolving datasets.imdbws.com (datasets.imdbws.com)... 18.160.60.120, 18.160.60.121, 18.160.60.98, ...\n",
            "Connecting to datasets.imdbws.com (datasets.imdbws.com)|18.160.60.120|:443... connected.\n",
            "HTTP request sent, awaiting response... 200 OK\n",
            "Length: 446128769 (425M) [binary/octet-stream]\n",
            "Saving to: ‘title.akas.tsv.gz’\n",
            "\n",
            "title.akas.tsv.gz   100%[===================>] 425.46M  30.2MB/s    in 13s     \n",
            "\n",
            "2025-02-23 14:04:07 (31.5 MB/s) - ‘title.akas.tsv.gz’ saved [446128769/446128769]\n",
            "\n"
          ]
        }
      ]
    },
    {
      "cell_type": "code",
      "source": [
        "!gunzip title.akas.tsv.gz"
      ],
      "metadata": {
        "id": "I0SK_rTbZCI5"
      },
      "execution_count": null,
      "outputs": []
    },
    {
      "cell_type": "code",
      "source": [
        "basics = spark.read.csv(\n",
        "    \"title.akas.tsv\",\n",
        "    header=True,        # Use the first row as column names\n",
        "    inferSchema=True,   # Automatically infer data types\n",
        "    sep=\"\\t\",            # Specify delimiter (default is ',')\n",
        "    encoding=\"UTF-8\"    # Handle encoding\n",
        ")\n",
        "\n",
        "basics.show()"
      ],
      "metadata": {
        "colab": {
          "base_uri": "https://localhost:8080/"
        },
        "id": "N6o4fN7ZZIJR",
        "outputId": "bbf821d4-e71d-4945-acd9-6fe9b31202ee"
      },
      "execution_count": null,
      "outputs": [
        {
          "output_type": "stream",
          "name": "stdout",
          "text": [
            "+---------+--------+--------------------+------+--------+-----------+--------------------+---------------+\n",
            "|  titleId|ordering|               title|region|language|      types|          attributes|isOriginalTitle|\n",
            "+---------+--------+--------------------+------+--------+-----------+--------------------+---------------+\n",
            "|tt0000001|       1|          Carmencita|    \\N|      \\N|   original|                  \\N|              1|\n",
            "|tt0000001|       2|          Carmencita|    DE|      \\N|         \\N|       literal title|              0|\n",
            "|tt0000001|       3|          Carmencita|    US|      \\N|imdbDisplay|                  \\N|              0|\n",
            "|tt0000001|       4|Carmencita - span...|    HU|      \\N|imdbDisplay|                  \\N|              0|\n",
            "|tt0000001|       5|          Καρμενσίτα|    GR|      \\N|imdbDisplay|                  \\N|              0|\n",
            "|tt0000001|       6|          Карменсита|    RU|      \\N|imdbDisplay|                  \\N|              0|\n",
            "|tt0000001|       7|          Карменсіта|    UA|      \\N|imdbDisplay|                  \\N|              0|\n",
            "|tt0000001|       8|      カルメンチータ|    JP|      ja|imdbDisplay|                  \\N|              0|\n",
            "|tt0000002|       1|Le clown et ses c...|    \\N|      \\N|   original|                  \\N|              1|\n",
            "|tt0000002|       2|   A bohóc és kutyái|    HU|      \\N|imdbDisplay|                  \\N|              0|\n",
            "|tt0000002|       3|Clovnul si cainii...|    RO|      \\N|imdbDisplay|                  \\N|              0|\n",
            "|tt0000002|       4|Der Clown und sei...|    DE|      \\N|         \\N|       literal title|              0|\n",
            "|tt0000002|       5|Le clown et ses c...|    FR|      \\N|imdbDisplay|                  \\N|              0|\n",
            "|tt0000002|       6|The Clown and His...|    US|      \\N|         \\N|literal English t...|              0|\n",
            "|tt0000002|       7|  Клоун и его собаки|    RU|      \\N|imdbDisplay|                  \\N|              0|\n",
            "|tt0000002|       8|          道化師と犬|    JP|      ja|imdbDisplay|                  \\N|              0|\n",
            "|tt0000003|       1|      Pauvre Pierrot|    \\N|      \\N|   original|                  \\N|              1|\n",
            "|tt0000003|      10|        哀れなピエロ|    JP|      ja|imdbDisplay|                  \\N|              0|\n",
            "|tt0000003|       2|        Poor Pierrot|    GB|      \\N|imdbDisplay|                  \\N|              0|\n",
            "|tt0000003|       3|        Poor Pierrot|    US|      \\N|imdbDisplay|                  \\N|              0|\n",
            "+---------+--------+--------------------+------+--------+-----------+--------------------+---------------+\n",
            "only showing top 20 rows\n",
            "\n"
          ]
        }
      ]
    },
    {
      "cell_type": "code",
      "source": [
        "basics.createOrReplaceTempView(\"basics\")"
      ],
      "metadata": {
        "id": "XEh3KkgQZQMK"
      },
      "execution_count": null,
      "outputs": []
    },
    {
      "cell_type": "code",
      "source": [
        "sql = '''\n",
        "select * from basics\n",
        "\n",
        "'''\n",
        "\n",
        "result = spark.sql(sql)\n",
        "result.show()\n"
      ],
      "metadata": {
        "colab": {
          "base_uri": "https://localhost:8080/"
        },
        "id": "mq2C799jZTg4",
        "outputId": "4dca65a7-58c7-454a-b7f6-db9e6981dfea"
      },
      "execution_count": null,
      "outputs": [
        {
          "output_type": "stream",
          "name": "stdout",
          "text": [
            "+---------+--------+--------------------+------+--------+-----------+--------------------+---------------+\n",
            "|  titleId|ordering|               title|region|language|      types|          attributes|isOriginalTitle|\n",
            "+---------+--------+--------------------+------+--------+-----------+--------------------+---------------+\n",
            "|tt0000001|       1|          Carmencita|    \\N|      \\N|   original|                  \\N|              1|\n",
            "|tt0000001|       2|          Carmencita|    DE|      \\N|         \\N|       literal title|              0|\n",
            "|tt0000001|       3|          Carmencita|    US|      \\N|imdbDisplay|                  \\N|              0|\n",
            "|tt0000001|       4|Carmencita - span...|    HU|      \\N|imdbDisplay|                  \\N|              0|\n",
            "|tt0000001|       5|          Καρμενσίτα|    GR|      \\N|imdbDisplay|                  \\N|              0|\n",
            "|tt0000001|       6|          Карменсита|    RU|      \\N|imdbDisplay|                  \\N|              0|\n",
            "|tt0000001|       7|          Карменсіта|    UA|      \\N|imdbDisplay|                  \\N|              0|\n",
            "|tt0000001|       8|      カルメンチータ|    JP|      ja|imdbDisplay|                  \\N|              0|\n",
            "|tt0000002|       1|Le clown et ses c...|    \\N|      \\N|   original|                  \\N|              1|\n",
            "|tt0000002|       2|   A bohóc és kutyái|    HU|      \\N|imdbDisplay|                  \\N|              0|\n",
            "|tt0000002|       3|Clovnul si cainii...|    RO|      \\N|imdbDisplay|                  \\N|              0|\n",
            "|tt0000002|       4|Der Clown und sei...|    DE|      \\N|         \\N|       literal title|              0|\n",
            "|tt0000002|       5|Le clown et ses c...|    FR|      \\N|imdbDisplay|                  \\N|              0|\n",
            "|tt0000002|       6|The Clown and His...|    US|      \\N|         \\N|literal English t...|              0|\n",
            "|tt0000002|       7|  Клоун и его собаки|    RU|      \\N|imdbDisplay|                  \\N|              0|\n",
            "|tt0000002|       8|          道化師と犬|    JP|      ja|imdbDisplay|                  \\N|              0|\n",
            "|tt0000003|       1|      Pauvre Pierrot|    \\N|      \\N|   original|                  \\N|              1|\n",
            "|tt0000003|      10|        哀れなピエロ|    JP|      ja|imdbDisplay|                  \\N|              0|\n",
            "|tt0000003|       2|        Poor Pierrot|    GB|      \\N|imdbDisplay|                  \\N|              0|\n",
            "|tt0000003|       3|        Poor Pierrot|    US|      \\N|imdbDisplay|                  \\N|              0|\n",
            "+---------+--------+--------------------+------+--------+-----------+--------------------+---------------+\n",
            "only showing top 20 rows\n",
            "\n"
          ]
        }
      ]
    },
    {
      "cell_type": "markdown",
      "source": [
        "# Perform an inner join using Spark SQL\n",
        "\n",
        "```\n",
        "\n",
        "result = spark.sql(\"\"\"\n",
        "    SELECT t1.*, t2.*\n",
        "    FROM table1 t1\n",
        "    INNER JOIN table2 t2\n",
        "    ON t1.common_column = t2.common_column\n",
        "\"\"\")\n",
        "\n",
        "# Show the result\n",
        "result.show()\n",
        "```"
      ],
      "metadata": {
        "id": "3QEg0BgGasBo"
      }
    },
    {
      "cell_type": "code",
      "source": [
        "#create a new Spark session and name it MovieRatings\n",
        "spark = SparkSession.builder.appName(\"MovieRatings\").getOrCreate()\n",
        "\n",
        "#reads the ratings tsv as a csv, use the first row as headers, inferSchema\n",
        "#will automatically figure out what type of data is in each column, like numbers or text\n",
        "#sep tells that the data is seperated by tabs\n",
        "#UTF-8 will help deal with any special charachters without errors\n",
        "ratings = spark.read.csv(\"title.ratings.tsv\", header=True, inferSchema=True, sep=\"\\t\", encoding=\"UTF-8\")\n",
        "\n",
        "#the same thing as the line before, but basics tsv is being read instead\n",
        "basics = spark.read.csv(\"title.akas.tsv\", header=True, inferSchema=True, sep=\"\\t\", encoding=\"UTF-8\")\n",
        "\n",
        "#explode the knownForTitles column, split the rows since they ara a list\n",
        "#basics_exploded = basics.withColumn(\"tconst\", explode(basics[\"titleId\"]))\n",
        "\n",
        "#rename the columns\n",
        "basics = basics.withColumnRenamed(\"titleId\", \"titleId_basics\")\n",
        "ratings = ratings.withColumnRenamed(\"tconst\", \"titleId_ratings\")\n",
        "\n",
        "#join\n",
        "result = basics.join(ratings, basics[\"titleId_basics\"] == ratings[\"titleId_ratings\"], how=\"inner\")\n",
        "\n",
        "result.show()\n"
      ],
      "metadata": {
        "colab": {
          "base_uri": "https://localhost:8080/"
        },
        "id": "RmbAOZS469Ir",
        "outputId": "4d68b96d-c74e-4433-ef17-63058b794b93"
      },
      "execution_count": null,
      "outputs": [
        {
          "output_type": "stream",
          "name": "stdout",
          "text": [
            "+--------------+--------+--------------------------------+------+--------+-----------+----------+---------------+---------------+-------------+--------+\n",
            "|titleId_basics|ordering|                           title|region|language|      types|attributes|isOriginalTitle|titleId_ratings|averageRating|numVotes|\n",
            "+--------------+--------+--------------------------------+------+--------+-----------+----------+---------------+---------------+-------------+--------+\n",
            "|     tt0000019|       1|                The Clown Barber|    \\N|      \\N|   original|        \\N|              1|      tt0000019|          5.2|      33|\n",
            "|     tt0000019|       2|                The Clown Barber|    GB|      \\N|imdbDisplay|        \\N|              0|      tt0000019|          5.2|      33|\n",
            "|     tt0000058|       1|            Cortège de tzar a...|    \\N|      \\N|   original|        \\N|              1|      tt0000058|          4.2|      35|\n",
            "|     tt0000058|       2|            Cortège de tzar a...|    FR|      \\N|imdbDisplay|        \\N|              0|      tt0000058|          4.2|      35|\n",
            "|     tt0000058|       3|            The Czar's Corteg...|    GB|      \\N|imdbDisplay|        \\N|              0|      tt0000058|          4.2|      35|\n",
            "|     tt0000145|       1|                       En classe|    \\N|      \\N|   original|        \\N|              1|      tt0000145|          3.5|      14|\n",
            "|     tt0000145|       2|                       En classe|    FR|      \\N|imdbDisplay|        \\N|              0|      tt0000145|          3.5|      14|\n",
            "|     tt0000146|       1|            Le cocher de fiac...|    \\N|      \\N|   original|        \\N|              1|      tt0000146|          5.0|      27|\n",
            "|     tt0000146|       2|                  Alvó taxisofőr|    HU|      \\N|imdbDisplay|        \\N|              0|      tt0000146|          5.0|      27|\n",
            "|     tt0000146|       3|            Le cocher de fiac...|    FR|      \\N|imdbDisplay|        \\N|              0|      tt0000146|          5.0|      27|\n",
            "|     tt0000186|       1|               Le cuirassé Maine|    \\N|      \\N|   original|        \\N|              1|      tt0000186|          4.8|      25|\n",
            "|     tt0000186|       2|               Le cuirassé Maine|    FR|      \\N|imdbDisplay|        \\N|              0|      tt0000186|          4.8|      25|\n",
            "|     tt0000186|       3|            Гибель крейсера «...|    RU|      \\N|imdbDisplay|        \\N|              0|      tt0000186|          4.8|      25|\n",
            "|     tt0000264|       1|               Évocation spirite|    \\N|      \\N|   original|        \\N|              1|      tt0000264|          5.7|     519|\n",
            "|     tt0000264|       2|               Évocation spirite|    FR|      \\N|imdbDisplay|        \\N|              0|      tt0000264|          5.7|     519|\n",
            "|     tt0000264|       3|            Invocação de um E...|    BR|      \\N|imdbDisplay|        \\N|              0|      tt0000264|          5.7|     519|\n",
            "|     tt0000264|       4|            Summoning the Spi...|    US|      \\N|         \\N|        \\N|              0|      tt0000264|          5.7|     519|\n",
            "|     tt0000264|       5|                    Призыв духов|    RU|      \\N|imdbDisplay|        \\N|              0|      tt0000264|          5.7|     519|\n",
            "|     tt0000302|       1|            La fée aux choux,...|    \\N|      \\N|   original|        \\N|              1|      tt0000302|          5.2|     316|\n",
            "|     tt0000302|      10|キャベツの妖精、または子供の誕生|    JP|      ja|imdbDisplay|        \\N|              0|      tt0000302|          5.2|     316|\n",
            "+--------------+--------+--------------------------------+------+--------+-----------+----------+---------------+---------------+-------------+--------+\n",
            "only showing top 20 rows\n",
            "\n"
          ]
        }
      ]
    },
    {
      "cell_type": "code",
      "source": [
        "spark.sql(\"DESCRIBE TABLE basics\").show()"
      ],
      "metadata": {
        "colab": {
          "base_uri": "https://localhost:8080/"
        },
        "id": "jvZyL8bb1Xt5",
        "outputId": "a8f062ee-ae29-44b5-adb1-529f255a15da"
      },
      "execution_count": null,
      "outputs": [
        {
          "output_type": "stream",
          "name": "stdout",
          "text": [
            "+---------------+---------+-------+\n",
            "|       col_name|data_type|comment|\n",
            "+---------------+---------+-------+\n",
            "|        titleId|   string|   NULL|\n",
            "|       ordering|      int|   NULL|\n",
            "|          title|   string|   NULL|\n",
            "|         region|   string|   NULL|\n",
            "|       language|   string|   NULL|\n",
            "|          types|   string|   NULL|\n",
            "|     attributes|   string|   NULL|\n",
            "|isOriginalTitle|      int|   NULL|\n",
            "+---------------+---------+-------+\n",
            "\n"
          ]
        }
      ]
    },
    {
      "cell_type": "code",
      "source": [
        "spark.sql(\"DESCRIBE TABLE ratings\").show()"
      ],
      "metadata": {
        "colab": {
          "base_uri": "https://localhost:8080/"
        },
        "id": "W6yJMIkq0xZx",
        "outputId": "4d39d105-d35a-4d4e-aeff-0002a4765b49"
      },
      "execution_count": null,
      "outputs": [
        {
          "output_type": "stream",
          "name": "stdout",
          "text": [
            "+-------------+---------+-------+\n",
            "|     col_name|data_type|comment|\n",
            "+-------------+---------+-------+\n",
            "|       tconst|   string|   NULL|\n",
            "|averageRating|   double|   NULL|\n",
            "|     numVotes|      int|   NULL|\n",
            "+-------------+---------+-------+\n",
            "\n"
          ]
        }
      ]
    }
  ]
}