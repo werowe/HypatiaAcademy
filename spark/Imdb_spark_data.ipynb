{
  "nbformat": 4,
  "nbformat_minor": 0,
  "metadata": {
    "colab": {
      "provenance": [],
      "include_colab_link": true
    },
    "kernelspec": {
      "name": "python3",
      "display_name": "Python 3"
    },
    "language_info": {
      "name": "python"
    }
  },
  "cells": [
    {
      "cell_type": "markdown",
      "metadata": {
        "id": "view-in-github",
        "colab_type": "text"
      },
      "source": [
        "<a href=\"https://colab.research.google.com/github/werowe/HypatiaAcademy/blob/master/spark/Imdb_spark_data.ipynb\" target=\"_parent\"><img src=\"https://colab.research.google.com/assets/colab-badge.svg\" alt=\"Open In Colab\"/></a>"
      ]
    },
    {
      "cell_type": "markdown",
      "source": [
        "source:  https://datasets.imdbws.com/\n"
      ],
      "metadata": {
        "id": "bUMi1ZNcVyqR"
      }
    },
    {
      "cell_type": "code",
      "execution_count": 1,
      "metadata": {
        "colab": {
          "base_uri": "https://localhost:8080/"
        },
        "id": "XHtNCgrGVu36",
        "outputId": "19a2240e-c5af-4a53-c07f-e9e5f7a91afc"
      },
      "outputs": [
        {
          "output_type": "stream",
          "name": "stdout",
          "text": [
            "--2025-02-24 07:58:00--  https://datasets.imdbws.com/title.ratings.tsv.gz\n",
            "Resolving datasets.imdbws.com (datasets.imdbws.com)... 18.239.69.2, 18.239.69.88, 18.239.69.122, ...\n",
            "Connecting to datasets.imdbws.com (datasets.imdbws.com)|18.239.69.2|:443... connected.\n",
            "HTTP request sent, awaiting response... 200 OK\n",
            "Length: 7735068 (7.4M) [binary/octet-stream]\n",
            "Saving to: ‘title.ratings.tsv.gz’\n",
            "\n",
            "\rtitle.ratings.tsv.g   0%[                    ]       0  --.-KB/s               \rtitle.ratings.tsv.g 100%[===================>]   7.38M  --.-KB/s    in 0.07s   \n",
            "\n",
            "2025-02-24 07:58:00 (105 MB/s) - ‘title.ratings.tsv.gz’ saved [7735068/7735068]\n",
            "\n"
          ]
        }
      ],
      "source": [
        "!wget https://datasets.imdbws.com/title.ratings.tsv.gz"
      ]
    },
    {
      "cell_type": "code",
      "source": [
        "!gunzip title.ratings.tsv.gz"
      ],
      "metadata": {
        "id": "JEgSwhK8WTbU",
        "colab": {
          "base_uri": "https://localhost:8080/"
        },
        "outputId": "bd4f500a-7587-414a-e1d5-632dde45e577"
      },
      "execution_count": 48,
      "outputs": [
        {
          "output_type": "stream",
          "name": "stdout",
          "text": [
            "gzip: title.ratings.tsv.gz: No such file or directory\n"
          ]
        }
      ]
    },
    {
      "cell_type": "code",
      "source": [
        "!head title.ratings.tsv"
      ],
      "metadata": {
        "colab": {
          "base_uri": "https://localhost:8080/"
        },
        "id": "C0AokmX_FYlX",
        "outputId": "9fbed55d-4786-4ffb-f274-2cd01c0789d5"
      },
      "execution_count": 49,
      "outputs": [
        {
          "output_type": "stream",
          "name": "stdout",
          "text": [
            "tconst\taverageRating\tnumVotes\n",
            "tt0000001\t5.7\t2133\n",
            "tt0000002\t5.5\t289\n",
            "tt0000003\t6.4\t2169\n",
            "tt0000004\t5.3\t184\n",
            "tt0000005\t6.2\t2897\n",
            "tt0000006\t5.0\t208\n",
            "tt0000007\t5.3\t901\n",
            "tt0000008\t5.4\t2280\n",
            "tt0000009\t5.3\t221\n"
          ]
        }
      ]
    },
    {
      "cell_type": "code",
      "source": [
        "!head title.ratings.tsv > debug.tsv"
      ],
      "metadata": {
        "id": "usL5ChgC9qbr"
      },
      "execution_count": 7,
      "outputs": []
    },
    {
      "cell_type": "code",
      "source": [
        "!tail title.ratings.tsv  > debug.tsv"
      ],
      "metadata": {
        "id": "H5l0iNK7XZAL"
      },
      "execution_count": 26,
      "outputs": []
    },
    {
      "cell_type": "code",
      "source": [
        "!cat title.ratings.tsv | egrep \".*([7-9])(\\.).*\" > good.rating.tsv\n"
      ],
      "metadata": {
        "id": "UmA3sDQS-3iB"
      },
      "execution_count": 28,
      "outputs": []
    },
    {
      "cell_type": "code",
      "source": [
        "! wc -l *.tsv"
      ],
      "metadata": {
        "colab": {
          "base_uri": "https://localhost:8080/"
        },
        "id": "GSed2ICQC7vV",
        "outputId": "18df2cd0-0edb-4778-9ee7-678f7fd67cee"
      },
      "execution_count": 35,
      "outputs": [
        {
          "output_type": "stream",
          "name": "stdout",
          "text": [
            "      10 debug.tsv\n",
            "  858793 good.rating.tsv\n",
            " 1537374 title.ratings.tsv\n",
            " 2396177 total\n"
          ]
        }
      ]
    },
    {
      "cell_type": "code",
      "source": [
        "!head good.rating.tsv"
      ],
      "metadata": {
        "colab": {
          "base_uri": "https://localhost:8080/"
        },
        "id": "xtZ2dS8cCBjH",
        "outputId": "4754b46b-ebd0-4aaf-84ee-3e39c4644ece"
      },
      "execution_count": 29,
      "outputs": [
        {
          "output_type": "stream",
          "name": "stdout",
          "text": [
            "tt0000012\t7.4\t13375\n",
            "tt0000014\t7.1\t6103\n",
            "tt0000060\t7.1\t93\n",
            "tt0000211\t7.4\t5017\n",
            "tt0000310\t7.4\t36\n",
            "tt0000359\t7.1\t3356\n",
            "tt0000361\t7.4\t27\n",
            "tt0000417\t8.1\t58011\n",
            "tt0000439\t7.2\t21753\n",
            "tt0000441\t7.2\t12\n"
          ]
        }
      ]
    },
    {
      "cell_type": "code",
      "source": [
        "from pyspark.sql.functions import col\n",
        "from pyspark.sql import SparkSession\n",
        "\n",
        "from pyspark.sql.types import StructType, StructField, StringType, IntegerType, DecimalType\n",
        "\n",
        "# tconst\taverageRating\tnumVotes\n",
        "schema = StructType([\n",
        "    StructField(\"tconst\", StringType(), True),\n",
        "    StructField(\"averageRating\", DecimalType(1, 1), True),\n",
        "    StructField(\"numVotes\", IntegerType(), True)\n",
        "])\n",
        "\n",
        "spark = SparkSession.builder.appName(\"IMDB Ratings\").getOrCreate()\n",
        "\n",
        "\n",
        "df = spark.read.csv('good.rating.tsv', sep='\\t', header=True,  schema=schema)\n",
        "\n",
        "\n"
      ],
      "metadata": {
        "id": "lVxBo7qt9Lbk"
      },
      "execution_count": 51,
      "outputs": []
    },
    {
      "cell_type": "code",
      "source": [
        "df.show()"
      ],
      "metadata": {
        "colab": {
          "base_uri": "https://localhost:8080/"
        },
        "id": "4PlImlNAC1UP",
        "outputId": "5163d6f5-4450-406c-9191-c0d9c75d3d02"
      },
      "execution_count": 52,
      "outputs": [
        {
          "output_type": "stream",
          "name": "stdout",
          "text": [
            "+---------+-------------+--------+\n",
            "|   tconst|averageRating|numVotes|\n",
            "+---------+-------------+--------+\n",
            "|tt0000014|         NULL|    6103|\n",
            "|tt0000060|         NULL|      93|\n",
            "|tt0000211|         NULL|    5017|\n",
            "|tt0000310|         NULL|      36|\n",
            "|tt0000359|         NULL|    3356|\n",
            "|tt0000361|         NULL|      27|\n",
            "|tt0000417|         NULL|   58011|\n",
            "|tt0000439|         NULL|   21753|\n",
            "|tt0000441|         NULL|      12|\n",
            "|tt0000465|         NULL|    1968|\n",
            "|tt0000499|         NULL|    4213|\n",
            "|tt0000578|         NULL|      29|\n",
            "|tt0000606|         NULL|      18|\n",
            "|tt0000618|         NULL|      16|\n",
            "|tt0000650|         NULL|      23|\n",
            "|tt0000661|         NULL|      24|\n",
            "|tt0000738|         NULL|      22|\n",
            "|tt0000746|         NULL|      19|\n",
            "|tt0000775|         NULL|      11|\n",
            "|tt0000778|         NULL|      16|\n",
            "+---------+-------------+--------+\n",
            "only showing top 20 rows\n",
            "\n"
          ]
        }
      ]
    },
    {
      "cell_type": "code",
      "source": [
        "#good_titles = df.filter(col('averageRating') >= 7.0)\n",
        "\n",
        "#good_titles.show()\n",
        "\n",
        "#save the filtered data to a new file, overwrite if the file already exists\n",
        "#good_titles.write.csv('good.tsv', sep='\\t', header=True, mode='overwrite')"
      ],
      "metadata": {
        "id": "rhpX6IATCyH0"
      },
      "execution_count": null,
      "outputs": []
    },
    {
      "cell_type": "code",
      "source": [
        "\n",
        "#from pyspark.sql import SparkSession\n",
        "\n",
        "# Initialize SparkSession\n",
        "#spark = SparkSession.builder \\\n",
        "#    .appName(\"netflix\") \\\n",
        "#    .getOrCreate()\n",
        "\n",
        "##df = spark.read.option(\"ratings\", \"\\t\").option(\"header\", True).csv(\"title.ratings.tsv\")\n",
        "\n",
        "# Display the DataFrame\n",
        "\n",
        "\n",
        "#df = spark.read.csv(\n",
        "#    \"good.tsv\",\n",
        "#    header=True,        # Use the first row as column names\n",
        "#    inferSchema=True,   # Automatically infer data types\n",
        "#    sep=\"\\t\",            # Specify delimiter (default is ',')\n",
        "#    encoding=\"UTF-8\"    # Handle encoding\n",
        "#)\n",
        "\n",
        "#df.show()"
      ],
      "metadata": {
        "colab": {
          "base_uri": "https://localhost:8080/"
        },
        "id": "UvVe_qWCW-jv",
        "outputId": "3a97efba-dbe3-4fd4-8330-1017158a69b3"
      },
      "execution_count": null,
      "outputs": [
        {
          "output_type": "stream",
          "name": "stdout",
          "text": [
            "+---------+-------------+--------+\n",
            "|   tconst|averageRating|numVotes|\n",
            "+---------+-------------+--------+\n",
            "|tt0000012|          7.4|   13371|\n",
            "|tt0000014|          7.1|    6099|\n",
            "|tt0000060|          7.1|      93|\n",
            "|tt0000211|          7.4|    5015|\n",
            "|tt0000310|          7.4|      36|\n",
            "|tt0000359|          7.1|    3353|\n",
            "|tt0000361|          7.4|      27|\n",
            "|tt0000417|          8.1|   58007|\n",
            "|tt0000439|          7.2|   21748|\n",
            "|tt0000441|          7.2|      12|\n",
            "|tt0000465|          7.3|    1967|\n",
            "|tt0000499|          7.5|    4212|\n",
            "|tt0000578|          7.2|      29|\n",
            "|tt0000606|          7.4|      18|\n",
            "|tt0000618|          8.9|      16|\n",
            "|tt0000650|          7.4|      23|\n",
            "|tt0000661|          7.8|      24|\n",
            "|tt0000738|          7.9|      22|\n",
            "|tt0000746|          7.8|      19|\n",
            "|tt0000775|          7.5|      11|\n",
            "+---------+-------------+--------+\n",
            "only showing top 20 rows\n",
            "\n"
          ]
        }
      ]
    },
    {
      "cell_type": "code",
      "source": [
        "!head title.ratings.tsv"
      ],
      "metadata": {
        "colab": {
          "base_uri": "https://localhost:8080/"
        },
        "id": "2q65qt8eWCEE",
        "outputId": "dffbf0a4-6066-498a-b218-3c5222e472aa"
      },
      "execution_count": null,
      "outputs": [
        {
          "output_type": "stream",
          "name": "stdout",
          "text": [
            "tconst\taverageRating\tnumVotes\n",
            "tt0000001\t5.7\t2133\n",
            "tt0000002\t5.5\t289\n",
            "tt0000003\t6.4\t2169\n",
            "tt0000004\t5.3\t184\n",
            "tt0000005\t6.2\t2896\n",
            "tt0000006\t5.0\t208\n",
            "tt0000007\t5.3\t901\n",
            "tt0000008\t5.4\t2280\n",
            "tt0000009\t5.3\t220\n"
          ]
        }
      ]
    },
    {
      "cell_type": "code",
      "source": [
        "df.createOrReplaceTempView(\"ratings\")"
      ],
      "metadata": {
        "id": "QfBmNXK4X2Py"
      },
      "execution_count": 53,
      "outputs": []
    },
    {
      "cell_type": "code",
      "source": [
        "\n",
        "sql = '''\n",
        "describe ratings\n",
        "\n",
        "'''\n",
        "\n",
        "result = spark.sql(sql)\n",
        "result.show()\n"
      ],
      "metadata": {
        "colab": {
          "base_uri": "https://localhost:8080/"
        },
        "id": "MouT8MQcYcde",
        "outputId": "8aa0975d-f6e2-4c8b-ef2e-499bdb08ea4e"
      },
      "execution_count": 54,
      "outputs": [
        {
          "output_type": "stream",
          "name": "stdout",
          "text": [
            "+-------------+------------+-------+\n",
            "|     col_name|   data_type|comment|\n",
            "+-------------+------------+-------+\n",
            "|       tconst|      string|   NULL|\n",
            "|averageRating|decimal(1,1)|   NULL|\n",
            "|     numVotes|         int|   NULL|\n",
            "+-------------+------------+-------+\n",
            "\n"
          ]
        }
      ]
    },
    {
      "cell_type": "code",
      "source": [
        "sql = '''\n",
        "select * from ratings\n",
        "\n",
        "'''\n",
        "\n",
        "result = spark.sql(sql)\n",
        "result.show()"
      ],
      "metadata": {
        "colab": {
          "base_uri": "https://localhost:8080/"
        },
        "id": "p1c257I2ZhJx",
        "outputId": "789ff1a5-5576-45a2-aaa4-af2c63a4dfb3"
      },
      "execution_count": 55,
      "outputs": [
        {
          "output_type": "stream",
          "name": "stdout",
          "text": [
            "+---------+-------------+--------+\n",
            "|   tconst|averageRating|numVotes|\n",
            "+---------+-------------+--------+\n",
            "|tt0000014|         NULL|    6103|\n",
            "|tt0000060|         NULL|      93|\n",
            "|tt0000211|         NULL|    5017|\n",
            "|tt0000310|         NULL|      36|\n",
            "|tt0000359|         NULL|    3356|\n",
            "|tt0000361|         NULL|      27|\n",
            "|tt0000417|         NULL|   58011|\n",
            "|tt0000439|         NULL|   21753|\n",
            "|tt0000441|         NULL|      12|\n",
            "|tt0000465|         NULL|    1968|\n",
            "|tt0000499|         NULL|    4213|\n",
            "|tt0000578|         NULL|      29|\n",
            "|tt0000606|         NULL|      18|\n",
            "|tt0000618|         NULL|      16|\n",
            "|tt0000650|         NULL|      23|\n",
            "|tt0000661|         NULL|      24|\n",
            "|tt0000738|         NULL|      22|\n",
            "|tt0000746|         NULL|      19|\n",
            "|tt0000775|         NULL|      11|\n",
            "|tt0000778|         NULL|      16|\n",
            "+---------+-------------+--------+\n",
            "only showing top 20 rows\n",
            "\n"
          ]
        }
      ]
    },
    {
      "cell_type": "code",
      "source": [
        "!wget https://datasets.imdbws.com/title.akas.tsv.gz"
      ],
      "metadata": {
        "colab": {
          "base_uri": "https://localhost:8080/"
        },
        "id": "Cc6QYR37Y-8Z",
        "outputId": "e543b9f2-19d3-453c-ffbf-7e51555c56af"
      },
      "execution_count": 39,
      "outputs": [
        {
          "output_type": "stream",
          "name": "stdout",
          "text": [
            "--2025-02-24 08:23:58--  https://datasets.imdbws.com/title.akas.tsv.gz\n",
            "Resolving datasets.imdbws.com (datasets.imdbws.com)... 18.239.69.2, 18.239.69.88, 18.239.69.122, ...\n",
            "Connecting to datasets.imdbws.com (datasets.imdbws.com)|18.239.69.2|:443... connected.\n",
            "HTTP request sent, awaiting response... 200 OK\n",
            "Length: 446128769 (425M) [binary/octet-stream]\n",
            "Saving to: ‘title.akas.tsv.gz’\n",
            "\n",
            "title.akas.tsv.gz   100%[===================>] 425.46M  48.7MB/s    in 5.9s    \n",
            "\n",
            "2025-02-24 08:24:04 (71.6 MB/s) - ‘title.akas.tsv.gz’ saved [446128769/446128769]\n",
            "\n"
          ]
        }
      ]
    },
    {
      "cell_type": "code",
      "source": [
        "!gunzip title.akas.tsv.gz"
      ],
      "metadata": {
        "id": "I0SK_rTbZCI5",
        "colab": {
          "base_uri": "https://localhost:8080/"
        },
        "outputId": "21f6351c-f8a7-4cfa-ab8c-13ab5fccbc83"
      },
      "execution_count": 44,
      "outputs": [
        {
          "output_type": "stream",
          "name": "stdout",
          "text": [
            "debug.tsv  good.rating.tsv  sample_data  title.akas.tsv  title.ratings.tsv\n"
          ]
        }
      ]
    },
    {
      "cell_type": "code",
      "source": [
        "basics = spark.read.csv(\n",
        "    \"title.akas.tsv\",\n",
        "    header=True,        # Use the first row as column names\n",
        "    inferSchema=True,   # Automatically infer data types\n",
        "    sep=\"\\t\",            # Specify delimiter (default is ',')\n",
        "    encoding=\"UTF-8\"    # Handle encoding\n",
        ")\n",
        "\n",
        "basics.show()"
      ],
      "metadata": {
        "colab": {
          "base_uri": "https://localhost:8080/"
        },
        "id": "N6o4fN7ZZIJR",
        "outputId": "b3c17e71-6791-4fca-cd0c-c764f1973047"
      },
      "execution_count": 45,
      "outputs": [
        {
          "output_type": "stream",
          "name": "stdout",
          "text": [
            "+---------+--------+--------------------+------+--------+-----------+--------------------+---------------+\n",
            "|  titleId|ordering|               title|region|language|      types|          attributes|isOriginalTitle|\n",
            "+---------+--------+--------------------+------+--------+-----------+--------------------+---------------+\n",
            "|tt0000001|       1|          Carmencita|    \\N|      \\N|   original|                  \\N|              1|\n",
            "|tt0000001|       2|          Carmencita|    DE|      \\N|         \\N|       literal title|              0|\n",
            "|tt0000001|       3|          Carmencita|    US|      \\N|imdbDisplay|                  \\N|              0|\n",
            "|tt0000001|       4|Carmencita - span...|    HU|      \\N|imdbDisplay|                  \\N|              0|\n",
            "|tt0000001|       5|          Καρμενσίτα|    GR|      \\N|imdbDisplay|                  \\N|              0|\n",
            "|tt0000001|       6|          Карменсита|    RU|      \\N|imdbDisplay|                  \\N|              0|\n",
            "|tt0000001|       7|          Карменсіта|    UA|      \\N|imdbDisplay|                  \\N|              0|\n",
            "|tt0000001|       8|      カルメンチータ|    JP|      ja|imdbDisplay|                  \\N|              0|\n",
            "|tt0000002|       1|Le clown et ses c...|    \\N|      \\N|   original|                  \\N|              1|\n",
            "|tt0000002|       2|   A bohóc és kutyái|    HU|      \\N|imdbDisplay|                  \\N|              0|\n",
            "|tt0000002|       3|Clovnul si cainii...|    RO|      \\N|imdbDisplay|                  \\N|              0|\n",
            "|tt0000002|       4|Der Clown und sei...|    DE|      \\N|         \\N|       literal title|              0|\n",
            "|tt0000002|       5|Le clown et ses c...|    FR|      \\N|imdbDisplay|                  \\N|              0|\n",
            "|tt0000002|       6|The Clown and His...|    US|      \\N|         \\N|literal English t...|              0|\n",
            "|tt0000002|       7|  Клоун и его собаки|    RU|      \\N|imdbDisplay|                  \\N|              0|\n",
            "|tt0000002|       8|          道化師と犬|    JP|      ja|imdbDisplay|                  \\N|              0|\n",
            "|tt0000003|       1|      Pauvre Pierrot|    \\N|      \\N|   original|                  \\N|              1|\n",
            "|tt0000003|      10|        哀れなピエロ|    JP|      ja|imdbDisplay|                  \\N|              0|\n",
            "|tt0000003|       2|        Poor Pierrot|    GB|      \\N|imdbDisplay|                  \\N|              0|\n",
            "|tt0000003|       3|        Poor Pierrot|    US|      \\N|imdbDisplay|                  \\N|              0|\n",
            "+---------+--------+--------------------+------+--------+-----------+--------------------+---------------+\n",
            "only showing top 20 rows\n",
            "\n"
          ]
        }
      ]
    },
    {
      "cell_type": "code",
      "source": [
        "basics.createOrReplaceTempView(\"basics\")"
      ],
      "metadata": {
        "id": "XEh3KkgQZQMK"
      },
      "execution_count": 46,
      "outputs": []
    },
    {
      "cell_type": "code",
      "source": [
        "sql = '''\n",
        "select * from basics\n",
        "\n",
        "'''\n",
        "\n",
        "result = spark.sql(sql)\n",
        "result.show()\n"
      ],
      "metadata": {
        "colab": {
          "base_uri": "https://localhost:8080/"
        },
        "id": "mq2C799jZTg4",
        "outputId": "518b0f3a-d7c0-4f0b-f34b-e812334f65e9"
      },
      "execution_count": 47,
      "outputs": [
        {
          "output_type": "stream",
          "name": "stdout",
          "text": [
            "+---------+--------+--------------------+------+--------+-----------+--------------------+---------------+\n",
            "|  titleId|ordering|               title|region|language|      types|          attributes|isOriginalTitle|\n",
            "+---------+--------+--------------------+------+--------+-----------+--------------------+---------------+\n",
            "|tt0000001|       1|          Carmencita|    \\N|      \\N|   original|                  \\N|              1|\n",
            "|tt0000001|       2|          Carmencita|    DE|      \\N|         \\N|       literal title|              0|\n",
            "|tt0000001|       3|          Carmencita|    US|      \\N|imdbDisplay|                  \\N|              0|\n",
            "|tt0000001|       4|Carmencita - span...|    HU|      \\N|imdbDisplay|                  \\N|              0|\n",
            "|tt0000001|       5|          Καρμενσίτα|    GR|      \\N|imdbDisplay|                  \\N|              0|\n",
            "|tt0000001|       6|          Карменсита|    RU|      \\N|imdbDisplay|                  \\N|              0|\n",
            "|tt0000001|       7|          Карменсіта|    UA|      \\N|imdbDisplay|                  \\N|              0|\n",
            "|tt0000001|       8|      カルメンチータ|    JP|      ja|imdbDisplay|                  \\N|              0|\n",
            "|tt0000002|       1|Le clown et ses c...|    \\N|      \\N|   original|                  \\N|              1|\n",
            "|tt0000002|       2|   A bohóc és kutyái|    HU|      \\N|imdbDisplay|                  \\N|              0|\n",
            "|tt0000002|       3|Clovnul si cainii...|    RO|      \\N|imdbDisplay|                  \\N|              0|\n",
            "|tt0000002|       4|Der Clown und sei...|    DE|      \\N|         \\N|       literal title|              0|\n",
            "|tt0000002|       5|Le clown et ses c...|    FR|      \\N|imdbDisplay|                  \\N|              0|\n",
            "|tt0000002|       6|The Clown and His...|    US|      \\N|         \\N|literal English t...|              0|\n",
            "|tt0000002|       7|  Клоун и его собаки|    RU|      \\N|imdbDisplay|                  \\N|              0|\n",
            "|tt0000002|       8|          道化師と犬|    JP|      ja|imdbDisplay|                  \\N|              0|\n",
            "|tt0000003|       1|      Pauvre Pierrot|    \\N|      \\N|   original|                  \\N|              1|\n",
            "|tt0000003|      10|        哀れなピエロ|    JP|      ja|imdbDisplay|                  \\N|              0|\n",
            "|tt0000003|       2|        Poor Pierrot|    GB|      \\N|imdbDisplay|                  \\N|              0|\n",
            "|tt0000003|       3|        Poor Pierrot|    US|      \\N|imdbDisplay|                  \\N|              0|\n",
            "+---------+--------+--------------------+------+--------+-----------+--------------------+---------------+\n",
            "only showing top 20 rows\n",
            "\n"
          ]
        }
      ]
    },
    {
      "cell_type": "code",
      "source": [
        "movies = spark.sql(\"\"\"\n",
        "    SELECT b.*, r.*\n",
        "    FROM basics b\n",
        "    INNER JOIN ratings r\n",
        "    ON b.titleId = r.tconst\n",
        "\"\"\")"
      ],
      "metadata": {
        "id": "mS5RQDXgEXP7"
      },
      "execution_count": 57,
      "outputs": []
    },
    {
      "cell_type": "code",
      "source": [
        "movies.count()"
      ],
      "metadata": {
        "id": "n_5SYowvGjdj"
      },
      "execution_count": null,
      "outputs": []
    },
    {
      "cell_type": "code",
      "source": [
        "movies.show()"
      ],
      "metadata": {
        "colab": {
          "base_uri": "https://localhost:8080/"
        },
        "id": "uesoyVlwGHgD",
        "outputId": "affa8794-6eeb-4435-ef2d-43bac5cd6c94"
      },
      "execution_count": 58,
      "outputs": [
        {
          "output_type": "stream",
          "name": "stdout",
          "text": [
            "+---------+--------+--------------------+------+--------+-----------+----------+---------------+---------+-------------+--------+\n",
            "|  titleId|ordering|               title|region|language|      types|attributes|isOriginalTitle|   tconst|averageRating|numVotes|\n",
            "+---------+--------+--------------------+------+--------+-----------+----------+---------------+---------+-------------+--------+\n",
            "|tt0002451|       1|           The Raven|    \\N|      \\N|   original|        \\N|              1|tt0002451|         NULL|      24|\n",
            "|tt0002451|       2|           The Raven|    US|      \\N|imdbDisplay|        \\N|              0|tt0002451|         NULL|      24|\n",
            "|tt0004008|       1| Gertie the Dinosaur|    \\N|      \\N|   original|        \\N|              1|tt0004008|         NULL|    3800|\n",
            "|tt0004008|      10|      Динозавр Герти|    RU|      \\N|imdbDisplay|        \\N|              0|tt0004008|         NULL|    3800|\n",
            "|tt0004008|      11|        恐竜ガーティ|    JP|      ja|imdbDisplay|        \\N|              0|tt0004008|         NULL|    3800|\n",
            "|tt0004008|      12|            恐龍葛蒂|    TW|      \\N|imdbDisplay|        \\N|              0|tt0004008|         NULL|    3800|\n",
            "|tt0004008|       2| Gertie the Dinosaur|    DE|      \\N|imdbDisplay|        \\N|              0|tt0004008|         NULL|    3800|\n",
            "|tt0004008|       3| Gertie the Dinosaur|    US|      \\N|imdbDisplay|        \\N|              0|tt0004008|         NULL|    3800|\n",
            "|tt0004008|       4|              Gertie|    US|      \\N|alternative|        \\N|              0|tt0004008|         NULL|    3800|\n",
            "|tt0004008|       5| Gertie il dinosauro|    IT|      \\N|imdbDisplay|        \\N|              0|tt0004008|         NULL|    3800|\n",
            "|tt0004008|       6|Gertie the Traine...|    \\N|      \\N|         \\N|        \\N|              0|tt0004008|         NULL|    3800|\n",
            "|tt0004008|       7|Gertie, a dinosza...|    HU|      \\N|imdbDisplay|        \\N|              0|tt0004008|         NULL|    3800|\n",
            "|tt0004008|       8|Gertie, o Dinossauro|    BR|      \\N|imdbDisplay|        \\N|              0|tt0004008|         NULL|    3800|\n",
            "|tt0004008|       9|Winsor Mc Cay, th...|    \\N|      \\N|         \\N| new title|              0|tt0004008|         NULL|    3800|\n",
            "|tt0008321|       1|            The Moth|    \\N|      \\N|   original|        \\N|              1|tt0008321|         NULL|      14|\n",
            "|tt0008321|       2|            The Moth|    GB|      \\N|imdbDisplay|        \\N|              0|tt0008321|         NULL|      14|\n",
            "|tt0008321|       3|            The Moth|    US|      \\N|imdbDisplay|        \\N|              0|tt0008321|         NULL|      14|\n",
            "|tt0008321|       4|Ægteskabets Fata ...|    DK|      \\N|imdbDisplay|        \\N|              0|tt0008321|         NULL|      14|\n",
            "|tt0008321|       5|          La phalène|    FR|      \\N|imdbDisplay|        \\N|              0|tt0008321|         NULL|      14|\n",
            "|tt0009137|       1|       The Gun Woman|    \\N|      \\N|   original|        \\N|              1|tt0009137|         NULL|      35|\n",
            "+---------+--------+--------------------+------+--------+-----------+----------+---------------+---------+-------------+--------+\n",
            "only showing top 20 rows\n",
            "\n"
          ]
        }
      ]
    },
    {
      "cell_type": "code",
      "source": [
        "'''\n",
        "\n",
        "#create a new Spark session and name it MovieRatings\n",
        "spark = SparkSession.builder.appName(\"MovieRatings\").getOrCreate()\n",
        "\n",
        "#reads the ratings tsv as a csv, use the first row as headers, inferSchema\n",
        "#will automatically figure out what type of data is in each column, like numbers or text\n",
        "#sep tells that the data is seperated by tabs\n",
        "#UTF-8 will help deal with any special charachters without errors\n",
        "ratings = spark.read.csv(\"title.ratings.tsv\", header=True, inferSchema=True, sep=\"\\t\", encoding=\"UTF-8\")\n",
        "\n",
        "#the same thing as the line before, but basics tsv is being read instead\n",
        "basics = spark.read.csv(\"title.akas.tsv\", header=True, inferSchema=True, sep=\"\\t\", encoding=\"UTF-8\")\n",
        "\n",
        "#explode the knownForTitles column, split the rows since they ara a list\n",
        "#basics_exploded = basics.withColumn(\"tconst\", explode(basics[\"titleId\"]))\n",
        "\n",
        "#rename the columns\n",
        "basics = basics.withColumnRenamed(\"titleId\", \"titleId_basics\")\n",
        "ratings = ratings.withColumnRenamed(\"tconst\", \"titleId_ratings\")\n",
        "\n",
        "#join\n",
        "result = basics.join(ratings, basics[\"titleId_basics\"] == ratings[\"titleId_ratings\"], how=\"inner\")\n",
        "\n",
        "result.show()\n",
        "\n",
        "'''\n"
      ],
      "metadata": {
        "colab": {
          "base_uri": "https://localhost:8080/"
        },
        "id": "RmbAOZS469Ir",
        "outputId": "4d68b96d-c74e-4433-ef17-63058b794b93"
      },
      "execution_count": null,
      "outputs": [
        {
          "output_type": "stream",
          "name": "stdout",
          "text": [
            "+--------------+--------+--------------------------------+------+--------+-----------+----------+---------------+---------------+-------------+--------+\n",
            "|titleId_basics|ordering|                           title|region|language|      types|attributes|isOriginalTitle|titleId_ratings|averageRating|numVotes|\n",
            "+--------------+--------+--------------------------------+------+--------+-----------+----------+---------------+---------------+-------------+--------+\n",
            "|     tt0000019|       1|                The Clown Barber|    \\N|      \\N|   original|        \\N|              1|      tt0000019|          5.2|      33|\n",
            "|     tt0000019|       2|                The Clown Barber|    GB|      \\N|imdbDisplay|        \\N|              0|      tt0000019|          5.2|      33|\n",
            "|     tt0000058|       1|            Cortège de tzar a...|    \\N|      \\N|   original|        \\N|              1|      tt0000058|          4.2|      35|\n",
            "|     tt0000058|       2|            Cortège de tzar a...|    FR|      \\N|imdbDisplay|        \\N|              0|      tt0000058|          4.2|      35|\n",
            "|     tt0000058|       3|            The Czar's Corteg...|    GB|      \\N|imdbDisplay|        \\N|              0|      tt0000058|          4.2|      35|\n",
            "|     tt0000145|       1|                       En classe|    \\N|      \\N|   original|        \\N|              1|      tt0000145|          3.5|      14|\n",
            "|     tt0000145|       2|                       En classe|    FR|      \\N|imdbDisplay|        \\N|              0|      tt0000145|          3.5|      14|\n",
            "|     tt0000146|       1|            Le cocher de fiac...|    \\N|      \\N|   original|        \\N|              1|      tt0000146|          5.0|      27|\n",
            "|     tt0000146|       2|                  Alvó taxisofőr|    HU|      \\N|imdbDisplay|        \\N|              0|      tt0000146|          5.0|      27|\n",
            "|     tt0000146|       3|            Le cocher de fiac...|    FR|      \\N|imdbDisplay|        \\N|              0|      tt0000146|          5.0|      27|\n",
            "|     tt0000186|       1|               Le cuirassé Maine|    \\N|      \\N|   original|        \\N|              1|      tt0000186|          4.8|      25|\n",
            "|     tt0000186|       2|               Le cuirassé Maine|    FR|      \\N|imdbDisplay|        \\N|              0|      tt0000186|          4.8|      25|\n",
            "|     tt0000186|       3|            Гибель крейсера «...|    RU|      \\N|imdbDisplay|        \\N|              0|      tt0000186|          4.8|      25|\n",
            "|     tt0000264|       1|               Évocation spirite|    \\N|      \\N|   original|        \\N|              1|      tt0000264|          5.7|     519|\n",
            "|     tt0000264|       2|               Évocation spirite|    FR|      \\N|imdbDisplay|        \\N|              0|      tt0000264|          5.7|     519|\n",
            "|     tt0000264|       3|            Invocação de um E...|    BR|      \\N|imdbDisplay|        \\N|              0|      tt0000264|          5.7|     519|\n",
            "|     tt0000264|       4|            Summoning the Spi...|    US|      \\N|         \\N|        \\N|              0|      tt0000264|          5.7|     519|\n",
            "|     tt0000264|       5|                    Призыв духов|    RU|      \\N|imdbDisplay|        \\N|              0|      tt0000264|          5.7|     519|\n",
            "|     tt0000302|       1|            La fée aux choux,...|    \\N|      \\N|   original|        \\N|              1|      tt0000302|          5.2|     316|\n",
            "|     tt0000302|      10|キャベツの妖精、または子供の誕生|    JP|      ja|imdbDisplay|        \\N|              0|      tt0000302|          5.2|     316|\n",
            "+--------------+--------+--------------------------------+------+--------+-----------+----------+---------------+---------------+-------------+--------+\n",
            "only showing top 20 rows\n",
            "\n"
          ]
        }
      ]
    },
    {
      "cell_type": "code",
      "source": [],
      "metadata": {
        "id": "TBG3n7i5Xhev"
      },
      "execution_count": null,
      "outputs": []
    },
    {
      "cell_type": "code",
      "source": [
        "spark.sql(\"DESCRIBE TABLE basics\").show()"
      ],
      "metadata": {
        "colab": {
          "base_uri": "https://localhost:8080/"
        },
        "id": "jvZyL8bb1Xt5",
        "outputId": "a8f062ee-ae29-44b5-adb1-529f255a15da"
      },
      "execution_count": null,
      "outputs": [
        {
          "output_type": "stream",
          "name": "stdout",
          "text": [
            "+---------------+---------+-------+\n",
            "|       col_name|data_type|comment|\n",
            "+---------------+---------+-------+\n",
            "|        titleId|   string|   NULL|\n",
            "|       ordering|      int|   NULL|\n",
            "|          title|   string|   NULL|\n",
            "|         region|   string|   NULL|\n",
            "|       language|   string|   NULL|\n",
            "|          types|   string|   NULL|\n",
            "|     attributes|   string|   NULL|\n",
            "|isOriginalTitle|      int|   NULL|\n",
            "+---------------+---------+-------+\n",
            "\n"
          ]
        }
      ]
    },
    {
      "cell_type": "code",
      "source": [
        "spark.sql(\"DESCRIBE TABLE ratings\").show()"
      ],
      "metadata": {
        "colab": {
          "base_uri": "https://localhost:8080/"
        },
        "id": "W6yJMIkq0xZx",
        "outputId": "4d39d105-d35a-4d4e-aeff-0002a4765b49"
      },
      "execution_count": null,
      "outputs": [
        {
          "output_type": "stream",
          "name": "stdout",
          "text": [
            "+-------------+---------+-------+\n",
            "|     col_name|data_type|comment|\n",
            "+-------------+---------+-------+\n",
            "|       tconst|   string|   NULL|\n",
            "|averageRating|   double|   NULL|\n",
            "|     numVotes|      int|   NULL|\n",
            "+-------------+---------+-------+\n",
            "\n"
          ]
        }
      ]
    }
  ]
}