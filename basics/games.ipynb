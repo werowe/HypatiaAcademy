{
  "nbformat": 4,
  "nbformat_minor": 0,
  "metadata": {
    "colab": {
      "provenance": [],
      "authorship_tag": "ABX9TyNHRrTgtO5sZL8YbLi3NGfG",
      "include_colab_link": true
    },
    "kernelspec": {
      "name": "python3",
      "display_name": "Python 3"
    },
    "language_info": {
      "name": "python"
    }
  },
  "cells": [
    {
      "cell_type": "markdown",
      "metadata": {
        "id": "view-in-github",
        "colab_type": "text"
      },
      "source": [
        "<a href=\"https://colab.research.google.com/github/werowe/HypatiaAcademy/blob/master/basics/games.ipynb\" target=\"_parent\"><img src=\"https://colab.research.google.com/assets/colab-badge.svg\" alt=\"Open In Colab\"/></a>"
      ]
    },
    {
      "cell_type": "code",
      "execution_count": 85,
      "metadata": {
        "id": "SWKcsAAfel5Q"
      },
      "outputs": [],
      "source": [
        "\n",
        "class Piece():\n",
        "\n",
        "  pass\n",
        "\n",
        "class Board():\n",
        "\n",
        "    def __init__(self, rows, columns):\n",
        "\n",
        "        self.rows = rows\n",
        "        self.colums = columns\n",
        "        self.matrix = [[ _ for _ in columns] for _ in rows]\n",
        "\n",
        "class Chess(Board):\n",
        "\n",
        "    def __init__(self, rows, columns):\n",
        "\n",
        "      super().__init__(rows, columns)\n",
        "\n",
        "      self.pieces = []\n",
        "\n",
        "      self.clabels = ['a', 'b', 'c', 'd', 'e', 'f', 'g', 'h']\n",
        "      self.rlabels = list(range(1,9))\n",
        "\n",
        "    def __repr__(self):\n",
        "\n",
        "      i=0\n",
        "\n",
        "      lines = []\n",
        "      lines.append('  ' + '  '.join(map(str, self.rlabels)) + '\\n')\n",
        "\n",
        "      for row in matrix:\n",
        "        lines.append(self.clabels[i] + \"  |\" + ', '.join(map(str, row)) + \"|\")\n",
        "        i += 1\n",
        "\n",
        "      return \"\\n\".join(lines)\n",
        "\n",
        "    def movePiece(self, piece,direction,steps):\n",
        "\n",
        "      pass\n",
        "\n",
        "\n",
        "class Checkers(Game):\n",
        "\n",
        "  pass\n",
        "\n",
        "class Go(Game):\n",
        "\n",
        "  pass\n",
        "\n",
        "\n",
        "\n"
      ]
    },
    {
      "cell_type": "code",
      "source": [
        "chess=Chess(range(1,9),range(1,9))"
      ],
      "metadata": {
        "id": "_kRcSlu1e-WT"
      },
      "execution_count": 86,
      "outputs": []
    },
    {
      "cell_type": "code",
      "source": [
        "print(chess)\n"
      ],
      "metadata": {
        "colab": {
          "base_uri": "https://localhost:8080/"
        },
        "id": "pdB3WTIkf5cq",
        "outputId": "44674dbc-7458-4ea2-9ea8-b8b91cd271ae"
      },
      "execution_count": 87,
      "outputs": [
        {
          "output_type": "stream",
          "name": "stdout",
          "text": [
            "  1  2  3  4  5  6  7  8\n",
            "\n",
            "a  |0, 1, 2, 3, 4, 5, 6, 7|\n",
            "b  |0, 1, 2, 3, 4, 5, 6, 7|\n",
            "c  |0, 1, 2, 3, 4, 5, 6, 7|\n",
            "d  |0, 1, 2, 3, 4, 5, 6, 7|\n",
            "e  |0, 1, 2, 3, 4, 5, 6, 7|\n",
            "f  |0, 1, 2, 3, 4, 5, 6, 7|\n",
            "g  |0, 1, 2, 3, 4, 5, 6, 7|\n",
            "h  |0, 1, 2, 3, 4, 5, 6, 7|\n"
          ]
        }
      ]
    }
  ]
}