{
  "nbformat": 4,
  "nbformat_minor": 0,
  "metadata": {
    "colab": {
      "provenance": [],
      "authorship_tag": "ABX9TyM0IOD4+baw0XUWsJs+PC1t",
      "include_colab_link": true
    },
    "kernelspec": {
      "name": "python3",
      "display_name": "Python 3"
    },
    "language_info": {
      "name": "python"
    }
  },
  "cells": [
    {
      "cell_type": "markdown",
      "metadata": {
        "id": "view-in-github",
        "colab_type": "text"
      },
      "source": [
        "<a href=\"https://colab.research.google.com/github/werowe/HypatiaAcademy/blob/master/basics/sqllite_getting_started.ipynb\" target=\"_parent\"><img src=\"https://colab.research.google.com/assets/colab-badge.svg\" alt=\"Open In Colab\"/></a>"
      ]
    },
    {
      "cell_type": "markdown",
      "source": [
        "#SQL Lite 3\n",
        "\n",
        "\n",
        "SQL Light is the world's most popular database.  It is designed to be very small.  It in in every iPhone and Android phone, for example.\n",
        "\n",
        "We can use Python to work with it.  But even with Python the way we work with it is with SQL.  Below we show some of the most common SQL commands.\n",
        "\n",
        "Data is stored in **rows** and **columns**.\n",
        "\n",
        "The [documentation is here](https://www.sqlite.org/lang.html)/\n",
        "\n",
        "\n",
        "# So Many Databases\n",
        "\n",
        "* Oracle\n",
        "* MySQL\n",
        "* PostgreSQL\n",
        "* MongoDB\n",
        "* Cassandra\n",
        "* Google Big Table\n",
        "* Microsoft SQL Server\n",
        "* Redis\n",
        "* ElasticSearch\n",
        "* IBM DB2\n",
        "* MariaDB\n",
        "\n"
      ],
      "metadata": {
        "id": "Dmx3Id3Ytf2s"
      }
    },
    {
      "cell_type": "code",
      "execution_count": null,
      "metadata": {
        "id": "l7BYmLWtm-H8"
      },
      "outputs": [],
      "source": [
        "# load SQL command line interepreter\n",
        "\n",
        "%load_ext sql"
      ]
    },
    {
      "cell_type": "code",
      "source": [
        "# create or connect to database\n",
        "\n",
        "%sql sqlite:///students.db"
      ],
      "metadata": {
        "id": "QbF1EqnpnQ4f"
      },
      "execution_count": null,
      "outputs": []
    },
    {
      "cell_type": "code",
      "source": [
        "# list files to show it was created\n",
        "\n",
        "!ls"
      ],
      "metadata": {
        "colab": {
          "base_uri": "https://localhost:8080/"
        },
        "id": "5YG2mVcwnXfg",
        "outputId": "84455cf4-998a-445b-be35-510caf0e0187"
      },
      "execution_count": null,
      "outputs": [
        {
          "output_type": "stream",
          "name": "stdout",
          "text": [
            "sample_data  students.db\n"
          ]
        }
      ]
    },
    {
      "cell_type": "code",
      "source": [
        "%%sql\n",
        "\n",
        "CREATE TABLE students\n",
        "  (\n",
        "    studentnumber INTEGER PRIMARY KEY AUTOINCREMENT,\n",
        "    studentname text,\n",
        "    phonenumber text,\n",
        "    email text,\n",
        "    datecreated text\n",
        "  );"
      ],
      "metadata": {
        "colab": {
          "base_uri": "https://localhost:8080/"
        },
        "id": "VCv42_aPoTkJ",
        "outputId": "4d99388e-f847-4e63-b142-9fbf23a1487a"
      },
      "execution_count": null,
      "outputs": [
        {
          "output_type": "stream",
          "name": "stdout",
          "text": [
            " * sqlite:///students.db\n",
            "Done.\n"
          ]
        },
        {
          "output_type": "execute_result",
          "data": {
            "text/plain": [
              "[]"
            ]
          },
          "metadata": {},
          "execution_count": 4
        }
      ]
    },
    {
      "cell_type": "code",
      "source": [
        "# add user to table.  Notice that we want the datecreated to be the current epoch time\n",
        "\n",
        "\n",
        "%%sql\n",
        "\n",
        "INSERT INTO students (studentname, phonenumber, email, datecreated)\n",
        "VALUES ('William Shakespeare',\"555-1212\", \"will@globe.uk.com\", strftime('%s', 'now'));"
      ],
      "metadata": {
        "colab": {
          "base_uri": "https://localhost:8080/"
        },
        "id": "VVbJMijApHkB",
        "outputId": "16bdd048-ee73-4946-bce4-357b06465bd9"
      },
      "execution_count": null,
      "outputs": [
        {
          "output_type": "stream",
          "name": "stdout",
          "text": [
            " * sqlite:///students.db\n",
            "1 rows affected.\n"
          ]
        },
        {
          "output_type": "execute_result",
          "data": {
            "text/plain": [
              "[]"
            ]
          },
          "metadata": {},
          "execution_count": 5
        }
      ]
    },
    {
      "cell_type": "code",
      "source": [
        "%%sql\n",
        "\n",
        "\n",
        "INSERT INTO students (studentname, phonenumber, email, datecreated)\n",
        "VALUES ('Thomas Mann',\"555-1212\", \"a@a.com\", strftime('%s', 'now'));"
      ],
      "metadata": {
        "colab": {
          "base_uri": "https://localhost:8080/"
        },
        "id": "VHcPbe0HsDsW",
        "outputId": "983202ed-e54c-4c37-9caf-709afa6ec488"
      },
      "execution_count": null,
      "outputs": [
        {
          "output_type": "stream",
          "name": "stdout",
          "text": [
            " * sqlite:///students.db\n",
            "1 rows affected.\n"
          ]
        },
        {
          "output_type": "execute_result",
          "data": {
            "text/plain": [
              "[]"
            ]
          },
          "metadata": {},
          "execution_count": 6
        }
      ]
    },
    {
      "cell_type": "code",
      "source": [
        "# list rows in table\n",
        "%%sql\n",
        "\n",
        "select * from students;\n"
      ],
      "metadata": {
        "colab": {
          "base_uri": "https://localhost:8080/",
          "height": 118
        },
        "id": "iOdaTKKvr6qj",
        "outputId": "ab7c6f2c-62fe-405b-b1f9-62d89c8008f0"
      },
      "execution_count": null,
      "outputs": [
        {
          "output_type": "stream",
          "name": "stdout",
          "text": [
            " * sqlite:///students.db\n",
            "Done.\n"
          ]
        },
        {
          "output_type": "execute_result",
          "data": {
            "text/plain": [
              "[(1, 'William Shakespeare', '555-1212', 'will@globe.uk.com', '1727785541'),\n",
              " (2, 'Thomas Mann', '555-1212', 'a@a.com', '1727785546')]"
            ],
            "text/html": [
              "<table>\n",
              "    <thead>\n",
              "        <tr>\n",
              "            <th>studentnumber</th>\n",
              "            <th>studentname</th>\n",
              "            <th>phonenumber</th>\n",
              "            <th>email</th>\n",
              "            <th>datecreated</th>\n",
              "        </tr>\n",
              "    </thead>\n",
              "    <tbody>\n",
              "        <tr>\n",
              "            <td>1</td>\n",
              "            <td>William Shakespeare</td>\n",
              "            <td>555-1212</td>\n",
              "            <td>will@globe.uk.com</td>\n",
              "            <td>1727785541</td>\n",
              "        </tr>\n",
              "        <tr>\n",
              "            <td>2</td>\n",
              "            <td>Thomas Mann</td>\n",
              "            <td>555-1212</td>\n",
              "            <td>a@a.com</td>\n",
              "            <td>1727785546</td>\n",
              "        </tr>\n",
              "    </tbody>\n",
              "</table>"
            ]
          },
          "metadata": {},
          "execution_count": 7
        }
      ]
    },
    {
      "cell_type": "code",
      "source": [
        "# find by column value\n",
        "\n",
        "%%sql\n",
        "\n",
        "select * from students where email=\"a@a.com\";"
      ],
      "metadata": {
        "colab": {
          "base_uri": "https://localhost:8080/",
          "height": 96
        },
        "id": "a-X1QI0psPZv",
        "outputId": "dc6205a3-6447-4c73-ca79-974bec037e73"
      },
      "execution_count": null,
      "outputs": [
        {
          "output_type": "stream",
          "name": "stdout",
          "text": [
            " * sqlite:///students.db\n",
            "Done.\n"
          ]
        },
        {
          "output_type": "execute_result",
          "data": {
            "text/plain": [
              "[(2, 'Thomas Mann', '555-1212', 'a@a.com', '1727785546')]"
            ],
            "text/html": [
              "<table>\n",
              "    <thead>\n",
              "        <tr>\n",
              "            <th>studentnumber</th>\n",
              "            <th>studentname</th>\n",
              "            <th>phonenumber</th>\n",
              "            <th>email</th>\n",
              "            <th>datecreated</th>\n",
              "        </tr>\n",
              "    </thead>\n",
              "    <tbody>\n",
              "        <tr>\n",
              "            <td>2</td>\n",
              "            <td>Thomas Mann</td>\n",
              "            <td>555-1212</td>\n",
              "            <td>a@a.com</td>\n",
              "            <td>1727785546</td>\n",
              "        </tr>\n",
              "    </tbody>\n",
              "</table>"
            ]
          },
          "metadata": {},
          "execution_count": 8
        }
      ]
    },
    {
      "cell_type": "code",
      "source": [
        "\n",
        "import sqlite3\n",
        "\n",
        "conn = sqlite3.connect(\"students.db\")\n",
        "\n",
        "cursor = conn.cursor()\n",
        "\n",
        "sql=\"select * from students\";\n",
        "\n",
        "\n",
        "cursor.execute(sql)\n",
        "\n",
        "#this will return all records from the \"customers\" table\n",
        "rows = cursor.fetchall()\n",
        "\n",
        "#check if rows were found and print them\n",
        "if rows:\n",
        "    print(\"Students Records:\")\n",
        "    for row in rows:\n",
        "        print(row)\n",
        "else:\n",
        "    print(\"No records found.\")\n",
        "\n",
        "#save the changes\n",
        "conn.commit()\n",
        "\n",
        "#close the connection\n",
        "conn.close()"
      ],
      "metadata": {
        "colab": {
          "base_uri": "https://localhost:8080/"
        },
        "id": "ARU41A98CQHr",
        "outputId": "924d202e-0911-4257-9b78-0d323292cee4"
      },
      "execution_count": null,
      "outputs": [
        {
          "output_type": "stream",
          "name": "stdout",
          "text": [
            "Students Records:\n",
            "(1, 'William Shakespeare', '555-1212', 'will@globe.uk.com', '1727785541')\n",
            "(2, 'Thomas Mann', '555-1212', 'a@a.com', '1727785546')\n"
          ]
        }
      ]
    },
    {
      "cell_type": "code",
      "source": [
        "# delete all rows in table\n",
        "%%sql\n",
        "\n",
        "delete from students;"
      ],
      "metadata": {
        "colab": {
          "base_uri": "https://localhost:8080/"
        },
        "id": "7kIHWx91sXYL",
        "outputId": "0d5170b1-b7cf-481b-8d39-69684c6805a1"
      },
      "execution_count": null,
      "outputs": [
        {
          "output_type": "stream",
          "name": "stdout",
          "text": [
            "   sqlite:////students.db\n",
            " * sqlite:///students.db\n",
            "3 rows affected.\n"
          ]
        },
        {
          "output_type": "execute_result",
          "data": {
            "text/plain": [
              "[]"
            ]
          },
          "metadata": {},
          "execution_count": 25
        }
      ]
    },
    {
      "cell_type": "code",
      "source": [
        "# update data\n",
        "\n",
        "%%sql\n",
        "\n",
        "UPDATE students\n",
        "SET studentname = \"David Foster Wallace\"\n",
        "WHERE email = \"a@a.com\";\n",
        "\n",
        "\n"
      ],
      "metadata": {
        "colab": {
          "base_uri": "https://localhost:8080/"
        },
        "id": "vqyznMVvtA4X",
        "outputId": "210dbd6a-bee8-4d1c-e91b-1b56402649f3"
      },
      "execution_count": null,
      "outputs": [
        {
          "output_type": "stream",
          "name": "stdout",
          "text": [
            "   sqlite:////students.db\n",
            " * sqlite:///students.db\n",
            "1 rows affected.\n"
          ]
        },
        {
          "output_type": "execute_result",
          "data": {
            "text/plain": [
              "[]"
            ]
          },
          "metadata": {},
          "execution_count": 30
        }
      ]
    },
    {
      "cell_type": "code",
      "source": [
        "# delete whole table\n",
        "\n",
        "%%sql\n",
        "\n",
        "drop table students"
      ],
      "metadata": {
        "colab": {
          "base_uri": "https://localhost:8080/"
        },
        "id": "GG9yE-YCqNIH",
        "outputId": "334cd9ef-cc04-4c55-da2c-2e246a2202f5"
      },
      "execution_count": null,
      "outputs": [
        {
          "output_type": "stream",
          "name": "stdout",
          "text": [
            "   sqlite:////students.db\n",
            " * sqlite:///students.db\n",
            "Done.\n"
          ]
        },
        {
          "output_type": "execute_result",
          "data": {
            "text/plain": [
              "[]"
            ]
          },
          "metadata": {},
          "execution_count": 12
        }
      ]
    },
    {
      "cell_type": "code",
      "source": [],
      "metadata": {
        "id": "bu6qHefVB4TR"
      },
      "execution_count": null,
      "outputs": []
    }
  ]
}