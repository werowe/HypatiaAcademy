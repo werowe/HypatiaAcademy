{
  "nbformat": 4,
  "nbformat_minor": 0,
  "metadata": {
    "colab": {
      "provenance": [],
      "authorship_tag": "ABX9TyNG61Zm7KDApdM7EzC2WKBy",
      "include_colab_link": true
    },
    "kernelspec": {
      "name": "python3",
      "display_name": "Python 3"
    },
    "language_info": {
      "name": "python"
    }
  },
  "cells": [
    {
      "cell_type": "markdown",
      "metadata": {
        "id": "view-in-github",
        "colab_type": "text"
      },
      "source": [
        "<a href=\"https://colab.research.google.com/github/werowe/HypatiaAcademy/blob/master/basics/sqllite_getting_started.ipynb\" target=\"_parent\"><img src=\"https://colab.research.google.com/assets/colab-badge.svg\" alt=\"Open In Colab\"/></a>"
      ]
    },
    {
      "cell_type": "markdown",
      "source": [
        "#SQL Lite 3\n",
        "\n",
        "\n",
        "SQL Light is the world's most popular database.  It is designed to be very small.  It in in every iPhone and Android phone, for example.\n",
        "\n",
        "We can use Python to work with it.  But even with Python the way we work with it is with SQL.  Below we show some of the most common SQL commands.\n",
        "\n",
        "\n",
        "\n",
        "The [document is here](https://www.sqlite.org/lang.html)/"
      ],
      "metadata": {
        "id": "Dmx3Id3Ytf2s"
      }
    },
    {
      "cell_type": "code",
      "execution_count": 1,
      "metadata": {
        "id": "l7BYmLWtm-H8"
      },
      "outputs": [],
      "source": [
        "# load SQL command line interepreter\n",
        "\n",
        "%load_ext sql"
      ]
    },
    {
      "cell_type": "code",
      "source": [
        "# create or connect to database\n",
        "\n",
        "%sql sqlite:///students.db"
      ],
      "metadata": {
        "id": "QbF1EqnpnQ4f"
      },
      "execution_count": 5,
      "outputs": []
    },
    {
      "cell_type": "code",
      "source": [
        "# list files to show it was created\n",
        "\n",
        "!ls"
      ],
      "metadata": {
        "colab": {
          "base_uri": "https://localhost:8080/"
        },
        "id": "5YG2mVcwnXfg",
        "outputId": "36fb432b-6e65-4ffa-923d-f753d5acd7b1"
      },
      "execution_count": 6,
      "outputs": [
        {
          "output_type": "stream",
          "name": "stdout",
          "text": [
            "sample_data  students.db\n"
          ]
        }
      ]
    },
    {
      "cell_type": "code",
      "source": [
        "%%sql\n",
        "\n",
        "CREATE TABLE students\n",
        "  (\n",
        "    studentnumber INTEGER PRIMARY KEY AUTOINCREMENT,\n",
        "    studentname text,\n",
        "    phonenumber text,\n",
        "    email text,\n",
        "    datecreated text\n",
        "  );"
      ],
      "metadata": {
        "colab": {
          "base_uri": "https://localhost:8080/"
        },
        "id": "VCv42_aPoTkJ",
        "outputId": "6b840a60-ee15-4386-bd26-703e3a60d280"
      },
      "execution_count": 13,
      "outputs": [
        {
          "output_type": "stream",
          "name": "stdout",
          "text": [
            "   sqlite:////students.db\n",
            " * sqlite:///students.db\n",
            "Done.\n"
          ]
        },
        {
          "output_type": "execute_result",
          "data": {
            "text/plain": [
              "[]"
            ]
          },
          "metadata": {},
          "execution_count": 13
        }
      ]
    },
    {
      "cell_type": "code",
      "source": [
        "# add user to table.  Notice that we want the datecreated to be the current epoch time\n",
        "\n",
        "\n",
        "%%sql\n",
        "\n",
        "INSERT INTO students (studentname, phonenumber, email, datecreated)\n",
        "VALUES ('William Shakespeare',\"555-1212\", \"will@globe.uk.com\", strftime('%s', 'now'));"
      ],
      "metadata": {
        "colab": {
          "base_uri": "https://localhost:8080/"
        },
        "id": "VVbJMijApHkB",
        "outputId": "3c8acba2-a225-4ad7-9f48-2f210be19422"
      },
      "execution_count": 27,
      "outputs": [
        {
          "output_type": "stream",
          "name": "stdout",
          "text": [
            "   sqlite:////students.db\n",
            " * sqlite:///students.db\n",
            "1 rows affected.\n"
          ]
        },
        {
          "output_type": "execute_result",
          "data": {
            "text/plain": [
              "[]"
            ]
          },
          "metadata": {},
          "execution_count": 27
        }
      ]
    },
    {
      "cell_type": "code",
      "source": [
        "%%sql\n",
        "\n",
        "\n",
        "INSERT INTO students (studentname, phonenumber, email, datecreated)\n",
        "VALUES ('Thomas Mann',\"555-1212\", \"a@a.com\", strftime('%s', 'now'));"
      ],
      "metadata": {
        "colab": {
          "base_uri": "https://localhost:8080/"
        },
        "id": "VHcPbe0HsDsW",
        "outputId": "7a8a1a19-b64b-4a03-8a5b-eb4eafaf3054"
      },
      "execution_count": 26,
      "outputs": [
        {
          "output_type": "stream",
          "name": "stdout",
          "text": [
            "   sqlite:////students.db\n",
            " * sqlite:///students.db\n",
            "1 rows affected.\n"
          ]
        },
        {
          "output_type": "execute_result",
          "data": {
            "text/plain": [
              "[]"
            ]
          },
          "metadata": {},
          "execution_count": 26
        }
      ]
    },
    {
      "cell_type": "code",
      "source": [
        "# list rows in table\n",
        "%%sql\n",
        "\n",
        "select * from students;\n"
      ],
      "metadata": {
        "colab": {
          "base_uri": "https://localhost:8080/",
          "height": 135
        },
        "id": "iOdaTKKvr6qj",
        "outputId": "19b651f5-cf17-47eb-ed17-16f73d54a04e"
      },
      "execution_count": 28,
      "outputs": [
        {
          "output_type": "stream",
          "name": "stdout",
          "text": [
            "   sqlite:////students.db\n",
            " * sqlite:///students.db\n",
            "Done.\n"
          ]
        },
        {
          "output_type": "execute_result",
          "data": {
            "text/plain": [
              "[(4, 'Thomas Mann', '555-1212', 'a@a.com', '1727595222'),\n",
              " (5, 'William Shakespeare', '555-1212', 'will@globe.uk.com', '1727595225')]"
            ],
            "text/html": [
              "<table>\n",
              "    <thead>\n",
              "        <tr>\n",
              "            <th>studentnumber</th>\n",
              "            <th>studentname</th>\n",
              "            <th>phonenumber</th>\n",
              "            <th>email</th>\n",
              "            <th>datecreated</th>\n",
              "        </tr>\n",
              "    </thead>\n",
              "    <tbody>\n",
              "        <tr>\n",
              "            <td>4</td>\n",
              "            <td>Thomas Mann</td>\n",
              "            <td>555-1212</td>\n",
              "            <td>a@a.com</td>\n",
              "            <td>1727595222</td>\n",
              "        </tr>\n",
              "        <tr>\n",
              "            <td>5</td>\n",
              "            <td>William Shakespeare</td>\n",
              "            <td>555-1212</td>\n",
              "            <td>will@globe.uk.com</td>\n",
              "            <td>1727595225</td>\n",
              "        </tr>\n",
              "    </tbody>\n",
              "</table>"
            ]
          },
          "metadata": {},
          "execution_count": 28
        }
      ]
    },
    {
      "cell_type": "code",
      "source": [
        "# find by column value\n",
        "\n",
        "%%sql\n",
        "\n",
        "select * from students where email=\"a@a.com\";"
      ],
      "metadata": {
        "colab": {
          "base_uri": "https://localhost:8080/",
          "height": 114
        },
        "id": "a-X1QI0psPZv",
        "outputId": "cad696ae-2b0a-4c19-f27e-f9f86215c6ea"
      },
      "execution_count": 21,
      "outputs": [
        {
          "output_type": "stream",
          "name": "stdout",
          "text": [
            "   sqlite:////students.db\n",
            " * sqlite:///students.db\n",
            "Done.\n"
          ]
        },
        {
          "output_type": "execute_result",
          "data": {
            "text/plain": [
              "[(3, 'Thomas Mann', '555-1212', 'a@a.com', '1727595074')]"
            ],
            "text/html": [
              "<table>\n",
              "    <thead>\n",
              "        <tr>\n",
              "            <th>studentnumber</th>\n",
              "            <th>studentname</th>\n",
              "            <th>phonenumber</th>\n",
              "            <th>email</th>\n",
              "            <th>datecreated</th>\n",
              "        </tr>\n",
              "    </thead>\n",
              "    <tbody>\n",
              "        <tr>\n",
              "            <td>3</td>\n",
              "            <td>Thomas Mann</td>\n",
              "            <td>555-1212</td>\n",
              "            <td>a@a.com</td>\n",
              "            <td>1727595074</td>\n",
              "        </tr>\n",
              "    </tbody>\n",
              "</table>"
            ]
          },
          "metadata": {},
          "execution_count": 21
        }
      ]
    },
    {
      "cell_type": "code",
      "source": [
        "# delete all rows in table\n",
        "%%sql\n",
        "\n",
        "delete from students;"
      ],
      "metadata": {
        "colab": {
          "base_uri": "https://localhost:8080/"
        },
        "id": "7kIHWx91sXYL",
        "outputId": "0d5170b1-b7cf-481b-8d39-69684c6805a1"
      },
      "execution_count": 25,
      "outputs": [
        {
          "output_type": "stream",
          "name": "stdout",
          "text": [
            "   sqlite:////students.db\n",
            " * sqlite:///students.db\n",
            "3 rows affected.\n"
          ]
        },
        {
          "output_type": "execute_result",
          "data": {
            "text/plain": [
              "[]"
            ]
          },
          "metadata": {},
          "execution_count": 25
        }
      ]
    },
    {
      "cell_type": "code",
      "source": [
        "# update data\n",
        "\n",
        "%%sql\n",
        "\n",
        "UPDATE students\n",
        "SET studentname = \"David Foster Wallace\"\n",
        "WHERE email = \"a@a.com\";\n",
        "\n",
        "\n"
      ],
      "metadata": {
        "colab": {
          "base_uri": "https://localhost:8080/"
        },
        "id": "vqyznMVvtA4X",
        "outputId": "210dbd6a-bee8-4d1c-e91b-1b56402649f3"
      },
      "execution_count": 30,
      "outputs": [
        {
          "output_type": "stream",
          "name": "stdout",
          "text": [
            "   sqlite:////students.db\n",
            " * sqlite:///students.db\n",
            "1 rows affected.\n"
          ]
        },
        {
          "output_type": "execute_result",
          "data": {
            "text/plain": [
              "[]"
            ]
          },
          "metadata": {},
          "execution_count": 30
        }
      ]
    },
    {
      "cell_type": "code",
      "source": [
        "# delete whole table\n",
        "\n",
        "%%sql\n",
        "\n",
        "drop table students"
      ],
      "metadata": {
        "colab": {
          "base_uri": "https://localhost:8080/"
        },
        "id": "GG9yE-YCqNIH",
        "outputId": "334cd9ef-cc04-4c55-da2c-2e246a2202f5"
      },
      "execution_count": 12,
      "outputs": [
        {
          "output_type": "stream",
          "name": "stdout",
          "text": [
            "   sqlite:////students.db\n",
            " * sqlite:///students.db\n",
            "Done.\n"
          ]
        },
        {
          "output_type": "execute_result",
          "data": {
            "text/plain": [
              "[]"
            ]
          },
          "metadata": {},
          "execution_count": 12
        }
      ]
    }
  ]
}