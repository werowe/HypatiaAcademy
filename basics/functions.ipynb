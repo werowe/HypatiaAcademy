{
  "cells": [
    {
      "cell_type": "markdown",
      "metadata": {
        "id": "view-in-github",
        "colab_type": "text"
      },
      "source": [
        "<a href=\"https://colab.research.google.com/github/werowe/HypatiaAcademy/blob/master/basics/functions.ipynb\" target=\"_parent\"><img src=\"https://colab.research.google.com/assets/colab-badge.svg\" alt=\"Open In Colab\"/></a>"
      ]
    },
    {
      "cell_type": "markdown",
      "metadata": {
        "id": "DqtCLu4vqvg8"
      },
      "source": [
        "# Python Functions\n",
        "\n",
        "A function takes input, processes it, and returns output.\n",
        "\n",
        "The input is called **parameters**.  The output is the **returned value**.\n",
        "\n",
        "Python is different than other languages because you can return more than one value."
      ]
    },
    {
      "cell_type": "code",
      "execution_count": null,
      "metadata": {
        "id": "YUm0f_q8qvg-"
      },
      "outputs": [],
      "source": [
        "def functionName(parameters):\n",
        "\n",
        "    returnValue=\"doSomething\"\n",
        "\n",
        "    return returnValue"
      ]
    },
    {
      "cell_type": "markdown",
      "metadata": {
        "id": "QLZhujc0qvg_"
      },
      "source": [
        "To call a function you use its name and supply some parameters:"
      ]
    },
    {
      "cell_type": "code",
      "execution_count": null,
      "metadata": {
        "id": "oct23newqvg_",
        "outputId": "9e6e5376-1523-4e8b-b7b7-b59791843845"
      },
      "outputs": [
        {
          "data": {
            "text/plain": [
              "'doSomething'"
            ]
          },
          "execution_count": 13,
          "metadata": {},
          "output_type": "execute_result"
        }
      ],
      "source": [
        "\n",
        "functionName(\"parameter1\")\n"
      ]
    },
    {
      "cell_type": "markdown",
      "metadata": {
        "id": "NCtc2rZ5qvhA"
      },
      "source": [
        "Here we call the function **multiplier**.  It returns the results of multiplying the two parameters x and y."
      ]
    },
    {
      "cell_type": "code",
      "execution_count": null,
      "metadata": {
        "id": "NMV8L78sqvhA",
        "outputId": "b6fedc63-999c-41f3-9767-1ae9d6030bb6"
      },
      "outputs": [
        {
          "name": "stdout",
          "output_type": "stream",
          "text": [
            "6\n"
          ]
        }
      ],
      "source": [
        "def multiplier(x,y):\n",
        "    return x*y\n",
        "\n",
        "print(multiplier(2,3))"
      ]
    },
    {
      "cell_type": "markdown",
      "metadata": {
        "id": "lny-OufGqvhA"
      },
      "source": [
        "A function can call another function.  Here is a function in a function.  "
      ]
    },
    {
      "cell_type": "code",
      "execution_count": null,
      "metadata": {
        "id": "yFp8U183qvhA",
        "outputId": "dcc2bea7-dfab-4961-d253-b63f1edcac81"
      },
      "outputs": [
        {
          "name": "stdout",
          "output_type": "stream",
          "text": [
            "4\n"
          ]
        }
      ],
      "source": [
        "def f(x):\n",
        "    return 2*x\n",
        "\n",
        "def g(x):\n",
        "    return f(x)\n",
        "\n",
        "print(g(2))\n",
        "\n",
        "\n"
      ]
    },
    {
      "cell_type": "code",
      "source": [
        "# return two values\n"
      ],
      "metadata": {
        "id": "5TGYYQBcIjya"
      },
      "execution_count": null,
      "outputs": []
    },
    {
      "cell_type": "markdown",
      "metadata": {
        "id": "8q81n43eqvhB"
      },
      "source": [
        "Why is this 8 and not 2?  "
      ]
    },
    {
      "cell_type": "markdown",
      "metadata": {
        "id": "Gxe7j-P7qvhB"
      },
      "source": [
        "A function can return more than one value:"
      ]
    },
    {
      "cell_type": "code",
      "execution_count": null,
      "metadata": {
        "id": "CYZRyvLQqvhB",
        "outputId": "3ee72b55-2230-4f1c-cda4-b161229e6479"
      },
      "outputs": [
        {
          "data": {
            "text/plain": [
              "(4, 4)"
            ]
          },
          "execution_count": 17,
          "metadata": {},
          "output_type": "execute_result"
        }
      ],
      "source": [
        "def doubler(x,y):\n",
        "    return 2*x,2*y\n",
        "\n",
        "doubler(2,2)"
      ]
    },
    {
      "cell_type": "markdown",
      "metadata": {
        "id": "6F1i5vF5qvhB"
      },
      "source": [
        "A function can have a variable number of parameters."
      ]
    },
    {
      "cell_type": "code",
      "execution_count": null,
      "metadata": {
        "id": "P6OX2tH_qvhB",
        "outputId": "7d406db2-6da6-4404-9d22-c5ba1f799002"
      },
      "outputs": [
        {
          "name": "stdout",
          "output_type": "stream",
          "text": [
            "Costas\n",
            "Michael\n",
            "Walker\n"
          ]
        }
      ],
      "source": [
        "def variable(*argv):\n",
        "    for arg in argv:\n",
        "        print (arg)\n",
        "\n",
        "\n",
        "variable(\"Costas\", \"Michael\", \"Walker\")\n"
      ]
    },
    {
      "cell_type": "code",
      "execution_count": null,
      "metadata": {
        "id": "CTHsqggLqvhB",
        "outputId": "679e184f-e847-449f-cd41-9f2fdf0b2c50"
      },
      "outputs": [
        {
          "data": {
            "text/plain": [
              "8"
            ]
          },
          "execution_count": 16,
          "metadata": {},
          "output_type": "execute_result"
        }
      ],
      "source": [
        "g(f(2))"
      ]
    },
    {
      "cell_type": "code",
      "source": [
        "def multiply(*numbers):\n",
        "    total = 1\n",
        "    for number in numbers:\n",
        "        total *= number\n",
        "    return total\n",
        "\n",
        "multiply(2,3,4,5)\n"
      ],
      "metadata": {
        "colab": {
          "base_uri": "https://localhost:8080/"
        },
        "id": "Dre4_jLJqzYt",
        "outputId": "094ba684-15d9-44d4-b487-2292d4e4aef2"
      },
      "execution_count": null,
      "outputs": [
        {
          "output_type": "execute_result",
          "data": {
            "text/plain": [
              "120"
            ]
          },
          "metadata": {},
          "execution_count": 3
        }
      ]
    },
    {
      "cell_type": "code",
      "execution_count": 24,
      "metadata": {
        "id": "5ikwMdyKqvhC",
        "colab": {
          "base_uri": "https://localhost:8080/"
        },
        "outputId": "a52093ed-3675-4f22-fbf7-4d782a6233de"
      },
      "outputs": [
        {
          "output_type": "execute_result",
          "data": {
            "text/plain": [
              "6"
            ]
          },
          "metadata": {},
          "execution_count": 24
        }
      ],
      "source": [
        "# function that calls itself\n",
        "# this one keeps going until the last number is 1 or 0\n",
        "\n",
        "# so it goes\n",
        "\n",
        "# 1. factorial (3)\n",
        "# 2. factorial (2)\n",
        "# 3. factorial (1)\n",
        "\n",
        "def factorial(n):\n",
        "    # Base case: if n is 0 or 1, return 1\n",
        "    if n == 0 or n == 1:\n",
        "        return 1\n",
        "    # Recursive case: n * factorial of (n-1)\n",
        "    else:\n",
        "        return n * factorial(n-1)\n",
        "\n",
        "\n",
        "factorial(3)\n"
      ]
    },
    {
      "cell_type": "markdown",
      "source": [
        "# Name arguments\n"
      ],
      "metadata": {
        "id": "SFKhWNETrfuf"
      }
    },
    {
      "cell_type": "code",
      "source": [
        "def f(time,rate):\n",
        "\n",
        "  distance = rate * time\n",
        "\n",
        "  return distance\n",
        "\n",
        "\n",
        "# notice the order is backwards\n",
        "\n",
        "f(rate=160,time=1)\n",
        "\n",
        "\n",
        "\n"
      ],
      "metadata": {
        "colab": {
          "base_uri": "https://localhost:8080/"
        },
        "id": "b6D82rKUrh1d",
        "outputId": "8db4a09d-750f-4899-fdb9-435462a8b342"
      },
      "execution_count": null,
      "outputs": [
        {
          "output_type": "execute_result",
          "data": {
            "text/plain": [
              "160"
            ]
          },
          "metadata": {},
          "execution_count": 7
        }
      ]
    },
    {
      "cell_type": "markdown",
      "source": [
        "# Homework\n",
        "\n",
        "##First Assignment:\n",
        "\n",
        "Write a function to check if a number is:\n",
        "\n",
        "1. divisible by 3 or 5\n",
        "2. or both 3 and 5\n",
        "\n",
        "Remember a number n is divisible by 3 if the remainder when divided by 3 is 0, like 6/3 = 2. But 3 is not divisible by 2 since 3/2= 1 1/2.\n",
        "\n",
        "Use the remainder operator to see if one number is divisible by another and 3 % 2 = 1.\n",
        "\n",
        "See below how to write if statments. You code will need to look something like\n",
        "\n",
        "```\n",
        "def is_divisible (numerator, a, b):\n",
        "\n",
        "# question: why do we check a AND b first?\n",
        "\n",
        "    if numerator is divisible by a and divisible by b:\n",
        "      return \"divisible by a and divisible by b\"\n",
        "    elif divisble by a:\n",
        "      return \"divisble by a\"\n",
        "    elif divible by b:\n",
        "      return \"divible by b\"\n",
        "    elif\n",
        "      return \"neither divisble by a or b.\n",
        "\n",
        "```\n",
        "\n",
        "##Second (more difficult)\n",
        "\n",
        "Do the same thing but instead of use any number values.  so the arguments will be (numerator, divisors):\n",
        "\n",
        "Hint:  the code is below.  Just put it together in one function.\n",
        "\n",
        "\n",
        "##Third assignment (most difficult)\n",
        "\n",
        "See if you can add a variable number of numbers having a function called adder() add itself"
      ],
      "metadata": {
        "id": "BT64WclSJluU"
      }
    },
    {
      "cell_type": "code",
      "source": [
        "if True and False:\n",
        "    pass\n",
        "elif 1 > 2:\n",
        "    pass\n",
        "else:\n",
        "  print(\"nothing above was true\")\n"
      ],
      "metadata": {
        "colab": {
          "base_uri": "https://localhost:8080/"
        },
        "id": "Nk8iu_ZpETfo",
        "outputId": "7434c7f3-954d-43d0-ff14-5e874d8d3167"
      },
      "execution_count": 25,
      "outputs": [
        {
          "output_type": "stream",
          "name": "stdout",
          "text": [
            "nothing above was true\n"
          ]
        }
      ]
    },
    {
      "cell_type": "code",
      "source": [
        "\n",
        "numerator = 10\n",
        "\n",
        "divisors = [2,5]\n",
        "\n",
        "\n",
        "# this checks OR\n",
        "\n",
        "one=False\n",
        "for d in divisors:\n",
        "    if numerator % d == 0:\n",
        "        one=True\n",
        "        print(\"numerator\", numerator, \"is divisible by\", n)\n",
        "    else:\n",
        "        one=False\n",
        "        print(\"numerator\", numerator, \"is not divisible by\", n)\n",
        "\n",
        "\n",
        "\n",
        "\n",
        "if one:  # not that this is the same as saying if one==True\n",
        "   print(\"all the divisors \", divisors, \" divide the numerator\", numerator, \"\\n\" )\n",
        "else:\n",
        "  print(\"not all divisors \", divisors, \" divide the numerator\", numerator, \"\\n\" )\n",
        "\n",
        "\n",
        "# this checks AND by toggling True and False on and off\n",
        "\n",
        "all=False  # first set the condition to True\n",
        "for d in divisors:\n",
        "    if numerator % d == 0:\n",
        "        print(\"numerator \", d , \" is divisible by \", d)\n",
        "        all=True\n",
        "    else:\n",
        "        all=False # if any one of them is not divisible then set the all statement back to false\n",
        "        break\n",
        "\n",
        "if all:\n",
        "    print(\"numerator\", numerator, \"is divisible by\", divisors)\n"
      ],
      "metadata": {
        "colab": {
          "base_uri": "https://localhost:8080/"
        },
        "id": "C97G_-G_GVWM",
        "outputId": "13b72e3c-6f3f-40e1-cf05-d785781ed2c5"
      },
      "execution_count": 26,
      "outputs": [
        {
          "output_type": "stream",
          "name": "stdout",
          "text": [
            "numerator 10 is divisible by 3\n",
            "numerator 10 is divisible by 3\n",
            "all the divisors  [2, 5]  divide the numerator 10 \n",
            "\n",
            "numerator  2  is divisible by  2\n",
            "numerator  5  is divisible by  5\n",
            "numerator 10 is divisible by [2, 5]\n"
          ]
        }
      ]
    },
    {
      "cell_type": "code",
      "source": [
        "def adder([numbers]):\n",
        "\n",
        "    n=numbers\n",
        "    if len(n) == 0:\n",
        "      return\n",
        "    else:\n",
        "      yield numbers[0] * numbers[1]\n",
        "\n",
        "    return adder(numbers.pop(number[len(numbers)]))\n",
        "\n",
        "adder([1,2,3])\n",
        "\n"
      ],
      "metadata": {
        "id": "2PmwHH-3KqaN",
        "outputId": "18370d6e-0107-431d-d4ff-df2dd34f0f4d",
        "colab": {
          "base_uri": "https://localhost:8080/",
          "height": 106
        }
      },
      "execution_count": 30,
      "outputs": [
        {
          "output_type": "error",
          "ename": "SyntaxError",
          "evalue": "invalid syntax (<ipython-input-30-ee4966f80ddf>, line 1)",
          "traceback": [
            "\u001b[0;36m  File \u001b[0;32m\"<ipython-input-30-ee4966f80ddf>\"\u001b[0;36m, line \u001b[0;32m1\u001b[0m\n\u001b[0;31m    def adder([numbers])\u001b[0m\n\u001b[0m              ^\u001b[0m\n\u001b[0;31mSyntaxError\u001b[0m\u001b[0;31m:\u001b[0m invalid syntax\n"
          ]
        }
      ]
    },
    {
      "cell_type": "code",
      "source": [
        "def adder(numbers,sum):\n",
        "    # Base case: if n is 0 or 1, return 1\n",
        "    print(\"numbers \", numbers)\n",
        "\n",
        "\n",
        "    if len(numbers) < 2:\n",
        "        return sum\n",
        "    # Recursive case: n * factorial of (n-1)\n",
        "    else:\n",
        "        sum = numbers[0] + numbers[1]\n",
        "        numbers.pop()\n",
        "        adder(numbers)\n",
        "\n",
        "\n",
        "adder([1,2,3])\n"
      ],
      "metadata": {
        "id": "emVE8VJPNAMN",
        "outputId": "ad37c819-12ce-4dc6-d828-84213b65af54",
        "colab": {
          "base_uri": "https://localhost:8080/",
          "height": 373
        }
      },
      "execution_count": 36,
      "outputs": [
        {
          "output_type": "stream",
          "name": "stdout",
          "text": [
            "numbers  [1, 2, 3]\n",
            "numbers  [1, 2]\n",
            "numbers  [1]\n"
          ]
        },
        {
          "output_type": "error",
          "ename": "UnboundLocalError",
          "evalue": "local variable 'sum' referenced before assignment",
          "traceback": [
            "\u001b[0;31m---------------------------------------------------------------------------\u001b[0m",
            "\u001b[0;31mUnboundLocalError\u001b[0m                         Traceback (most recent call last)",
            "\u001b[0;32m<ipython-input-36-af7aefd8926e>\u001b[0m in \u001b[0;36m<cell line: 14>\u001b[0;34m()\u001b[0m\n\u001b[1;32m     12\u001b[0m \u001b[0;34m\u001b[0m\u001b[0m\n\u001b[1;32m     13\u001b[0m \u001b[0;34m\u001b[0m\u001b[0m\n\u001b[0;32m---> 14\u001b[0;31m \u001b[0madder\u001b[0m\u001b[0;34m(\u001b[0m\u001b[0;34m[\u001b[0m\u001b[0;36m1\u001b[0m\u001b[0;34m,\u001b[0m\u001b[0;36m2\u001b[0m\u001b[0;34m,\u001b[0m\u001b[0;36m3\u001b[0m\u001b[0;34m]\u001b[0m\u001b[0;34m)\u001b[0m\u001b[0;34m\u001b[0m\u001b[0;34m\u001b[0m\u001b[0m\n\u001b[0m",
            "\u001b[0;32m<ipython-input-36-af7aefd8926e>\u001b[0m in \u001b[0;36madder\u001b[0;34m(numbers)\u001b[0m\n\u001b[1;32m      9\u001b[0m         \u001b[0msum\u001b[0m \u001b[0;34m=\u001b[0m \u001b[0mnumbers\u001b[0m\u001b[0;34m[\u001b[0m\u001b[0;36m0\u001b[0m\u001b[0;34m]\u001b[0m \u001b[0;34m+\u001b[0m \u001b[0mnumbers\u001b[0m\u001b[0;34m[\u001b[0m\u001b[0;36m1\u001b[0m\u001b[0;34m]\u001b[0m\u001b[0;34m\u001b[0m\u001b[0;34m\u001b[0m\u001b[0m\n\u001b[1;32m     10\u001b[0m         \u001b[0mnumbers\u001b[0m\u001b[0;34m.\u001b[0m\u001b[0mpop\u001b[0m\u001b[0;34m(\u001b[0m\u001b[0;34m)\u001b[0m\u001b[0;34m\u001b[0m\u001b[0;34m\u001b[0m\u001b[0m\n\u001b[0;32m---> 11\u001b[0;31m         \u001b[0madder\u001b[0m\u001b[0;34m(\u001b[0m\u001b[0mnumbers\u001b[0m\u001b[0;34m)\u001b[0m\u001b[0;34m\u001b[0m\u001b[0;34m\u001b[0m\u001b[0m\n\u001b[0m\u001b[1;32m     12\u001b[0m \u001b[0;34m\u001b[0m\u001b[0m\n\u001b[1;32m     13\u001b[0m \u001b[0;34m\u001b[0m\u001b[0m\n",
            "\u001b[0;32m<ipython-input-36-af7aefd8926e>\u001b[0m in \u001b[0;36madder\u001b[0;34m(numbers)\u001b[0m\n\u001b[1;32m      9\u001b[0m         \u001b[0msum\u001b[0m \u001b[0;34m=\u001b[0m \u001b[0mnumbers\u001b[0m\u001b[0;34m[\u001b[0m\u001b[0;36m0\u001b[0m\u001b[0;34m]\u001b[0m \u001b[0;34m+\u001b[0m \u001b[0mnumbers\u001b[0m\u001b[0;34m[\u001b[0m\u001b[0;36m1\u001b[0m\u001b[0;34m]\u001b[0m\u001b[0;34m\u001b[0m\u001b[0;34m\u001b[0m\u001b[0m\n\u001b[1;32m     10\u001b[0m         \u001b[0mnumbers\u001b[0m\u001b[0;34m.\u001b[0m\u001b[0mpop\u001b[0m\u001b[0;34m(\u001b[0m\u001b[0;34m)\u001b[0m\u001b[0;34m\u001b[0m\u001b[0;34m\u001b[0m\u001b[0m\n\u001b[0;32m---> 11\u001b[0;31m         \u001b[0madder\u001b[0m\u001b[0;34m(\u001b[0m\u001b[0mnumbers\u001b[0m\u001b[0;34m)\u001b[0m\u001b[0;34m\u001b[0m\u001b[0;34m\u001b[0m\u001b[0m\n\u001b[0m\u001b[1;32m     12\u001b[0m \u001b[0;34m\u001b[0m\u001b[0m\n\u001b[1;32m     13\u001b[0m \u001b[0;34m\u001b[0m\u001b[0m\n",
            "\u001b[0;32m<ipython-input-36-af7aefd8926e>\u001b[0m in \u001b[0;36madder\u001b[0;34m(numbers)\u001b[0m\n\u001b[1;32m      4\u001b[0m \u001b[0;34m\u001b[0m\u001b[0m\n\u001b[1;32m      5\u001b[0m     \u001b[0;32mif\u001b[0m \u001b[0mlen\u001b[0m\u001b[0;34m(\u001b[0m\u001b[0mnumbers\u001b[0m\u001b[0;34m)\u001b[0m \u001b[0;34m<\u001b[0m \u001b[0;36m2\u001b[0m\u001b[0;34m:\u001b[0m\u001b[0;34m\u001b[0m\u001b[0;34m\u001b[0m\u001b[0m\n\u001b[0;32m----> 6\u001b[0;31m         \u001b[0;32mreturn\u001b[0m \u001b[0msum\u001b[0m\u001b[0;34m\u001b[0m\u001b[0;34m\u001b[0m\u001b[0m\n\u001b[0m\u001b[1;32m      7\u001b[0m     \u001b[0;31m# Recursive case: n * factorial of (n-1)\u001b[0m\u001b[0;34m\u001b[0m\u001b[0;34m\u001b[0m\u001b[0m\n\u001b[1;32m      8\u001b[0m     \u001b[0;32melse\u001b[0m\u001b[0;34m:\u001b[0m\u001b[0;34m\u001b[0m\u001b[0;34m\u001b[0m\u001b[0m\n",
            "\u001b[0;31mUnboundLocalError\u001b[0m: local variable 'sum' referenced before assignment"
          ]
        }
      ]
    },
    {
      "cell_type": "code",
      "source": [
        "numbers=[1,2,3]\n",
        "n==numbers.pop()\n",
        "print(n,numbers)"
      ],
      "metadata": {
        "id": "yjOLvFOqLmNS",
        "outputId": "f4318307-0c01-46e9-fc9b-649e6935f56c",
        "colab": {
          "base_uri": "https://localhost:8080/"
        }
      },
      "execution_count": 29,
      "outputs": [
        {
          "output_type": "stream",
          "name": "stdout",
          "text": [
            "3 [1, 2]\n"
          ]
        }
      ]
    }
  ],
  "metadata": {
    "kernelspec": {
      "display_name": "Python 3",
      "language": "python",
      "name": "python3"
    },
    "language_info": {
      "codemirror_mode": {
        "name": "ipython",
        "version": 3
      },
      "file_extension": ".py",
      "mimetype": "text/x-python",
      "name": "python",
      "nbconvert_exporter": "python",
      "pygments_lexer": "ipython3",
      "version": "3.4.4"
    },
    "colab": {
      "provenance": [],
      "include_colab_link": true
    }
  },
  "nbformat": 4,
  "nbformat_minor": 0
}