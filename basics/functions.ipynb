{
  "cells": [
    {
      "cell_type": "markdown",
      "metadata": {
        "id": "view-in-github",
        "colab_type": "text"
      },
      "source": [
        "<a href=\"https://colab.research.google.com/github/werowe/HypatiaAcademy/blob/master/basics/functions.ipynb\" target=\"_parent\"><img src=\"https://colab.research.google.com/assets/colab-badge.svg\" alt=\"Open In Colab\"/></a>"
      ]
    },
    {
      "cell_type": "markdown",
      "metadata": {
        "id": "DqtCLu4vqvg8"
      },
      "source": [
        "# Python Functions\n",
        "\n",
        "A function takes input, processes it, and returns output.\n",
        "\n",
        "The input is called **parameters**.  The output is the **returned value**.\n",
        "\n",
        "Python is different than other languages because you can return more than one value."
      ]
    },
    {
      "cell_type": "code",
      "execution_count": null,
      "metadata": {
        "id": "YUm0f_q8qvg-"
      },
      "outputs": [],
      "source": [
        "def functionName(parameters):\n",
        "\n",
        "    returnValue=\"doSomething\"\n",
        "\n",
        "    return returnValue"
      ]
    },
    {
      "cell_type": "markdown",
      "metadata": {
        "id": "QLZhujc0qvg_"
      },
      "source": [
        "To call a function you use its name and supply some parameters:"
      ]
    },
    {
      "cell_type": "code",
      "execution_count": null,
      "metadata": {
        "id": "oct23newqvg_",
        "outputId": "ee897fa1-cc17-45fb-a653-45a623647358",
        "colab": {
          "base_uri": "https://localhost:8080/",
          "height": 35
        }
      },
      "outputs": [
        {
          "output_type": "execute_result",
          "data": {
            "text/plain": [
              "'doSomething'"
            ],
            "application/vnd.google.colaboratory.intrinsic+json": {
              "type": "string"
            }
          },
          "metadata": {},
          "execution_count": 2
        }
      ],
      "source": [
        "\n",
        "functionName(\"parameter1\")\n"
      ]
    },
    {
      "cell_type": "markdown",
      "metadata": {
        "id": "NCtc2rZ5qvhA"
      },
      "source": [
        "Here we call the function **multiplier**.  It returns the results of multiplying the two parameters x and y."
      ]
    },
    {
      "cell_type": "code",
      "execution_count": null,
      "metadata": {
        "id": "NMV8L78sqvhA",
        "outputId": "3759e266-4ac7-46b5-9ceb-449679c049eb",
        "colab": {
          "base_uri": "https://localhost:8080/"
        }
      },
      "outputs": [
        {
          "output_type": "stream",
          "name": "stdout",
          "text": [
            "6\n"
          ]
        }
      ],
      "source": [
        "def multiplier(x,y):\n",
        "    return x*y\n",
        "\n",
        "print(multiplier(2,3))"
      ]
    },
    {
      "cell_type": "markdown",
      "metadata": {
        "id": "lny-OufGqvhA"
      },
      "source": [
        "A function can call another function.  Here is a function in a function.  "
      ]
    },
    {
      "cell_type": "code",
      "execution_count": null,
      "metadata": {
        "id": "yFp8U183qvhA",
        "outputId": "a797f0bf-f700-40c6-f59d-e4ebfc4843ff",
        "colab": {
          "base_uri": "https://localhost:8080/"
        }
      },
      "outputs": [
        {
          "output_type": "stream",
          "name": "stdout",
          "text": [
            "4\n"
          ]
        }
      ],
      "source": [
        "def f(x):\n",
        "    return 2*x\n",
        "\n",
        "def g(x):\n",
        "    return f(x)\n",
        "\n",
        "print(g(2))\n",
        "\n",
        "\n"
      ]
    },
    {
      "cell_type": "code",
      "source": [
        "# return two values\n"
      ],
      "metadata": {
        "id": "5TGYYQBcIjya"
      },
      "execution_count": null,
      "outputs": []
    },
    {
      "cell_type": "markdown",
      "metadata": {
        "id": "8q81n43eqvhB"
      },
      "source": [
        "Why is this 8 and not 2?  "
      ]
    },
    {
      "cell_type": "markdown",
      "metadata": {
        "id": "Gxe7j-P7qvhB"
      },
      "source": [
        "A function can return more than one value:"
      ]
    },
    {
      "cell_type": "code",
      "execution_count": null,
      "metadata": {
        "id": "CYZRyvLQqvhB",
        "outputId": "0166783d-91f8-448b-8b5f-edf6269e5d58",
        "colab": {
          "base_uri": "https://localhost:8080/"
        }
      },
      "outputs": [
        {
          "output_type": "execute_result",
          "data": {
            "text/plain": [
              "(4, 4)"
            ]
          },
          "metadata": {},
          "execution_count": 6
        }
      ],
      "source": [
        "def doubler(x,y):\n",
        "    return 2*x,2*y\n",
        "\n",
        "doubler(2,2)"
      ]
    },
    {
      "cell_type": "markdown",
      "metadata": {
        "id": "6F1i5vF5qvhB"
      },
      "source": [
        "A function can have a variable number of parameters."
      ]
    },
    {
      "cell_type": "code",
      "execution_count": null,
      "metadata": {
        "id": "P6OX2tH_qvhB",
        "outputId": "9af432f2-af01-4d7b-d275-392a38c9b59e",
        "colab": {
          "base_uri": "https://localhost:8080/"
        }
      },
      "outputs": [
        {
          "output_type": "stream",
          "name": "stdout",
          "text": [
            "Costas\n",
            "Michael\n",
            "Walker\n"
          ]
        }
      ],
      "source": [
        "def variable(*argv):\n",
        "    for arg in argv:\n",
        "        print (arg)\n",
        "\n",
        "\n",
        "variable(\"Costas\", \"Michael\", \"Walker\")\n"
      ]
    },
    {
      "cell_type": "code",
      "execution_count": null,
      "metadata": {
        "id": "CTHsqggLqvhB",
        "outputId": "ace36578-fff1-49b3-8769-e123b5a38618",
        "colab": {
          "base_uri": "https://localhost:8080/"
        }
      },
      "outputs": [
        {
          "output_type": "execute_result",
          "data": {
            "text/plain": [
              "8"
            ]
          },
          "metadata": {},
          "execution_count": 8
        }
      ],
      "source": [
        "g(f(2))"
      ]
    },
    {
      "cell_type": "code",
      "source": [
        "def multiply(*numbers):\n",
        "    total = 1\n",
        "    for number in numbers:\n",
        "        total *= number\n",
        "    return total\n",
        "\n",
        "multiply(2,3,4,5)\n"
      ],
      "metadata": {
        "colab": {
          "base_uri": "https://localhost:8080/"
        },
        "id": "Dre4_jLJqzYt",
        "outputId": "655e0f95-5790-4c12-cf5a-6f3c73cf54bc"
      },
      "execution_count": null,
      "outputs": [
        {
          "output_type": "execute_result",
          "data": {
            "text/plain": [
              "120"
            ]
          },
          "metadata": {},
          "execution_count": 9
        }
      ]
    },
    {
      "cell_type": "code",
      "execution_count": null,
      "metadata": {
        "id": "5ikwMdyKqvhC",
        "colab": {
          "base_uri": "https://localhost:8080/"
        },
        "outputId": "2d41dc3f-9ccc-4c70-ed44-7d7eed9bb10f"
      },
      "outputs": [
        {
          "output_type": "execute_result",
          "data": {
            "text/plain": [
              "6"
            ]
          },
          "metadata": {},
          "execution_count": 10
        }
      ],
      "source": [
        "# function that calls itself\n",
        "# this one keeps going until the last number is 1 or 0\n",
        "\n",
        "# so it goes\n",
        "\n",
        "# 1. factorial (3)\n",
        "# 2. factorial (2)\n",
        "# 3. factorial (1)\n",
        "\n",
        "def factorial(n):\n",
        "    # Base case: if n is 0 or 1, return 1\n",
        "    if n == 0 or n == 1:\n",
        "        return 1\n",
        "    # Recursive case: n * factorial of (n-1)\n",
        "    else:\n",
        "        return n * factorial(n-1)\n",
        "\n",
        "\n",
        "factorial(3)\n"
      ]
    },
    {
      "cell_type": "markdown",
      "source": [
        "# Name arguments\n"
      ],
      "metadata": {
        "id": "SFKhWNETrfuf"
      }
    },
    {
      "cell_type": "code",
      "source": [
        "def f(time,rate):\n",
        "\n",
        "  distance = rate * time\n",
        "\n",
        "  return distance\n",
        "\n",
        "\n",
        "# notice the order is backwards\n",
        "\n",
        "f(rate=160,time=1)\n",
        "\n",
        "\n",
        "\n"
      ],
      "metadata": {
        "colab": {
          "base_uri": "https://localhost:8080/"
        },
        "id": "b6D82rKUrh1d",
        "outputId": "1cbaa47a-1156-4cbd-d7bf-fc9350df9ea5"
      },
      "execution_count": null,
      "outputs": [
        {
          "output_type": "execute_result",
          "data": {
            "text/plain": [
              "160"
            ]
          },
          "metadata": {},
          "execution_count": 11
        }
      ]
    },
    {
      "cell_type": "markdown",
      "source": [
        "# Homework\n",
        "\n",
        "##First Assignment:\n",
        "\n",
        "Write a function to check if a number is:\n",
        "\n",
        "1. divisible by 3 or 5\n",
        "2. or both 3 and 5\n",
        "\n",
        "Remember a number n is divisible by 3 if the remainder when divided by 3 is 0, like 6/3 = 2. But 3 is not divisible by 2 since 3/2= 1 1/2.\n",
        "\n",
        "Use the remainder operator to see if one number is divisible by another and 3 % 2 = 1.\n",
        "\n",
        "See below how to write if statments. You code will need to look something like\n",
        "\n",
        "```\n",
        "def is_divisible (numerator, a, b):\n",
        "\n",
        "# question: why do we check a AND b first?\n",
        "\n",
        "    if numerator is divisible by a and divisible by b:\n",
        "      return \"divisible by a and divisible by b\"\n",
        "    elif divisble by a:\n",
        "      return \"divisble by a\"\n",
        "    elif divible by b:\n",
        "      return \"divible by b\"\n",
        "    elif\n",
        "      return \"neither divisble by a or b.\n",
        "\n",
        "```\n",
        "\n",
        "##Second (more difficult)\n",
        "\n",
        "Do the same thing but instead of use any number values.  so the arguments will be (numerator, divisors):\n",
        "\n",
        "Hint:  the code is below.  Just put it together in one function.\n",
        "\n",
        "\n",
        "##Third assignment (most difficult)\n",
        "\n",
        "See if you can add a variable number of numbers having a function called adder() add itself"
      ],
      "metadata": {
        "id": "BT64WclSJluU"
      }
    },
    {
      "cell_type": "code",
      "source": [
        "if True and False:\n",
        "    pass\n",
        "elif 1 > 2:\n",
        "    pass\n",
        "else:\n",
        "  print(\"nothing above was true\")\n"
      ],
      "metadata": {
        "colab": {
          "base_uri": "https://localhost:8080/"
        },
        "id": "Nk8iu_ZpETfo",
        "outputId": "0739c61a-dcf0-466a-e72c-9c4bb209173d"
      },
      "execution_count": null,
      "outputs": [
        {
          "output_type": "stream",
          "name": "stdout",
          "text": [
            "nothing above was true\n"
          ]
        }
      ]
    },
    {
      "cell_type": "markdown",
      "source": [
        "#Second HomeWork Hints\n",
        "\n",
        "Below are the pieces you need to make the second homework.  Just put them together into one or two functions."
      ],
      "metadata": {
        "id": "Yj3cnPgEE1Lz"
      }
    },
    {
      "cell_type": "code",
      "source": [
        "\n",
        "numerator = 10\n",
        "\n",
        "divisors = [2,5]\n",
        "\n",
        "\n",
        "# this checks OR\n",
        "\n",
        "one=False\n",
        "for d in divisors:\n",
        "    if numerator % d == 0:\n",
        "        one=True\n",
        "        print(\"numerator\", numerator, \"is divisible by\", d)\n",
        "    else:\n",
        "        one=False\n",
        "        print(\"numerator\", numerator, \"is not divisible by\", d)\n",
        "\n",
        "\n",
        "\n",
        "\n",
        "if one:  # not that this is the same as saying if one==True\n",
        "   print(\"AT LEAST ONE OF the divisors \", divisors, \" divide the numerator\", numerator, \"\\n\" )\n",
        "else:\n",
        "  print(\"NOT all divisors \", divisors, \" divide the numerator\", numerator, \"\\n\" )\n",
        "\n",
        "\n",
        "# this checks AND by toggling True and False on and off\n",
        "\n",
        "all=False  # first set the condition to True\n",
        "for d in divisors:\n",
        "    if numerator % d == 0:\n",
        "        print(\"numerator \", numerator , \" is divisible by \", d)\n",
        "        all=True\n",
        "    else:\n",
        "        all=False # if any one of them is not divisible then set the all statement back to false\n",
        "        break\n",
        "\n",
        "if all:\n",
        "    print(\"numerator\", numerator, \"is divisible by ALL of \", divisors)\n"
      ],
      "metadata": {
        "colab": {
          "base_uri": "https://localhost:8080/"
        },
        "id": "C97G_-G_GVWM",
        "outputId": "b061674f-6e50-419c-dc3b-f873122bd20d"
      },
      "execution_count": null,
      "outputs": [
        {
          "output_type": "stream",
          "name": "stdout",
          "text": [
            "numerator 10 is divisible by 2\n",
            "numerator 10 is divisible by 5\n",
            "AT LEAST ONE OF the divisors  [2, 5]  divide the numerator 10 \n",
            "\n",
            "numerator  10  is divisible by  2\n",
            "numerator  10  is divisible by  5\n",
            "numerator 10 is divisible by ALL of  [2, 5]\n"
          ]
        }
      ]
    },
    {
      "cell_type": "markdown",
      "source": [
        "#Third Homework Example\n",
        "\n",
        "Make your own example.  Here is one I came up with.  I explain it below"
      ],
      "metadata": {
        "id": "nfzEtHJKFFHo"
      }
    },
    {
      "cell_type": "code",
      "source": [
        "# another recursive example\n",
        "\n",
        "def adder(numbers,sum):\n",
        "    # Base case: if n is 0 or 1, return 1\n",
        "  print(\"numbers \", numbers, \"sum\", sum)\n",
        "\n",
        "  if len(numbers) == 0:\n",
        "    return sum\n",
        "  else:\n",
        "      x=numbers.pop()\n",
        "      print(x,sum)\n",
        "      return adder(numbers,sum+x)\n",
        "\n",
        "\n",
        "adder([1,2,3],0)"
      ],
      "metadata": {
        "id": "emVE8VJPNAMN",
        "outputId": "1a5914b8-e7d6-478a-ebbc-856631d2753d",
        "colab": {
          "base_uri": "https://localhost:8080/"
        }
      },
      "execution_count": null,
      "outputs": [
        {
          "output_type": "stream",
          "name": "stdout",
          "text": [
            "numbers  [1, 2, 3] sum 0\n",
            "3 0\n",
            "numbers  [1, 2] sum 3\n",
            "2 3\n",
            "numbers  [1] sum 5\n",
            "1 5\n",
            "numbers  [] sum 6\n"
          ]
        },
        {
          "output_type": "execute_result",
          "data": {
            "text/plain": [
              "6"
            ]
          },
          "metadata": {},
          "execution_count": 17
        }
      ]
    },
    {
      "cell_type": "markdown",
      "source": [
        "#Swiftest Technique"
      ],
      "metadata": {
        "id": "vqGwhWtJqBt1"
      }
    },
    {
      "cell_type": "code",
      "source": [
        "for d in divisors:\n",
        "  factor=numerator % d\n",
        "  if factor == 0:\n",
        "    one = True\n",
        "    print(\"YES at least one divides \", numerator, \"divisor\",d )\n",
        "    break\n",
        "\n",
        "one = True\n",
        "for d in divisors:\n",
        "  factor=numerator % d\n",
        "  if factor > 0:\n",
        "    one = False\n",
        "    print(\"NO NOT all divide \", numerator, \"divisor\",d )\n",
        "    break\n"
      ],
      "metadata": {
        "id": "bqyXhWlLqEPU"
      },
      "execution_count": null,
      "outputs": []
    }
  ],
  "metadata": {
    "kernelspec": {
      "display_name": "Python 3",
      "language": "python",
      "name": "python3"
    },
    "language_info": {
      "codemirror_mode": {
        "name": "ipython",
        "version": 3
      },
      "file_extension": ".py",
      "mimetype": "text/x-python",
      "name": "python",
      "nbconvert_exporter": "python",
      "pygments_lexer": "ipython3",
      "version": "3.4.4"
    },
    "colab": {
      "provenance": [],
      "include_colab_link": true
    }
  },
  "nbformat": 4,
  "nbformat_minor": 0
}