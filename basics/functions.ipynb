{
  "cells": [
    {
      "cell_type": "markdown",
      "metadata": {
        "id": "view-in-github",
        "colab_type": "text"
      },
      "source": [
        "<a href=\"https://colab.research.google.com/github/werowe/HypatiaAcademy/blob/master/basics/functions.ipynb\" target=\"_parent\"><img src=\"https://colab.research.google.com/assets/colab-badge.svg\" alt=\"Open In Colab\"/></a>"
      ]
    },
    {
      "cell_type": "markdown",
      "metadata": {
        "id": "DqtCLu4vqvg8"
      },
      "source": [
        "# Python Functions\n",
        "\n",
        "A function takes input, processes it, and returns output.\n",
        "\n",
        "The input is called **parameters**.  The output is the **returned value**.\n",
        "\n",
        "Python is different than other languages because you can return more than one value."
      ]
    },
    {
      "cell_type": "code",
      "execution_count": null,
      "metadata": {
        "id": "YUm0f_q8qvg-"
      },
      "outputs": [],
      "source": [
        "def functionName(parameters):\n",
        "\n",
        "    returnValue=\"doSomething\"\n",
        "\n",
        "    return returnValue"
      ]
    },
    {
      "cell_type": "markdown",
      "metadata": {
        "id": "QLZhujc0qvg_"
      },
      "source": [
        "To call a function you use its name and supply some parameters:"
      ]
    },
    {
      "cell_type": "code",
      "execution_count": null,
      "metadata": {
        "id": "oct23newqvg_",
        "outputId": "9e6e5376-1523-4e8b-b7b7-b59791843845"
      },
      "outputs": [
        {
          "data": {
            "text/plain": [
              "'doSomething'"
            ]
          },
          "execution_count": 13,
          "metadata": {},
          "output_type": "execute_result"
        }
      ],
      "source": [
        "\n",
        "functionName(\"parameter1\")\n"
      ]
    },
    {
      "cell_type": "markdown",
      "metadata": {
        "id": "NCtc2rZ5qvhA"
      },
      "source": [
        "Here we call the function **multiplier**.  It returns the results of multiplying the two parameters x and y."
      ]
    },
    {
      "cell_type": "code",
      "execution_count": null,
      "metadata": {
        "id": "NMV8L78sqvhA",
        "outputId": "b6fedc63-999c-41f3-9767-1ae9d6030bb6"
      },
      "outputs": [
        {
          "name": "stdout",
          "output_type": "stream",
          "text": [
            "6\n"
          ]
        }
      ],
      "source": [
        "def multiplier(x,y):\n",
        "    return x*y\n",
        "\n",
        "print(multiplier(2,3))"
      ]
    },
    {
      "cell_type": "markdown",
      "metadata": {
        "id": "lny-OufGqvhA"
      },
      "source": [
        "A function can call another function.  Here is a function in a function.  "
      ]
    },
    {
      "cell_type": "code",
      "execution_count": null,
      "metadata": {
        "id": "yFp8U183qvhA",
        "outputId": "dcc2bea7-dfab-4961-d253-b63f1edcac81"
      },
      "outputs": [
        {
          "name": "stdout",
          "output_type": "stream",
          "text": [
            "4\n"
          ]
        }
      ],
      "source": [
        "def f(x):\n",
        "    return 2*x\n",
        "\n",
        "def g(x):\n",
        "    return f(x)\n",
        "\n",
        "print(g(2))\n",
        "\n",
        "\n"
      ]
    },
    {
      "cell_type": "markdown",
      "metadata": {
        "id": "8q81n43eqvhB"
      },
      "source": [
        "Why is this 8 and not 2?  "
      ]
    },
    {
      "cell_type": "code",
      "execution_count": null,
      "metadata": {
        "id": "CTHsqggLqvhB",
        "outputId": "679e184f-e847-449f-cd41-9f2fdf0b2c50"
      },
      "outputs": [
        {
          "data": {
            "text/plain": [
              "8"
            ]
          },
          "execution_count": 16,
          "metadata": {},
          "output_type": "execute_result"
        }
      ],
      "source": [
        "g(f(2))"
      ]
    },
    {
      "cell_type": "markdown",
      "metadata": {
        "id": "Gxe7j-P7qvhB"
      },
      "source": [
        "A function can return more than one value:"
      ]
    },
    {
      "cell_type": "code",
      "execution_count": null,
      "metadata": {
        "id": "CYZRyvLQqvhB",
        "outputId": "3ee72b55-2230-4f1c-cda4-b161229e6479"
      },
      "outputs": [
        {
          "data": {
            "text/plain": [
              "(4, 4)"
            ]
          },
          "execution_count": 17,
          "metadata": {},
          "output_type": "execute_result"
        }
      ],
      "source": [
        "def doubler(x,y):\n",
        "    return 2*x,2*y\n",
        "\n",
        "doubler(2,2)"
      ]
    },
    {
      "cell_type": "markdown",
      "metadata": {
        "id": "6F1i5vF5qvhB"
      },
      "source": [
        "A function can have a variable number of parameters."
      ]
    },
    {
      "cell_type": "code",
      "execution_count": null,
      "metadata": {
        "id": "P6OX2tH_qvhB",
        "outputId": "7d406db2-6da6-4404-9d22-c5ba1f799002"
      },
      "outputs": [
        {
          "name": "stdout",
          "output_type": "stream",
          "text": [
            "Costas\n",
            "Michael\n",
            "Walker\n"
          ]
        }
      ],
      "source": [
        "def variable(*argv):\n",
        "    for arg in argv:\n",
        "        print (arg)\n",
        "\n",
        "\n",
        "variable(\"Costas\", \"Michael\", \"Walker\")\n",
        ""
      ]
    },
    {
      "cell_type": "code",
      "source": [
        "def multiply(*numbers):\n",
        "    total = 1\n",
        "    for number in numbers:\n",
        "        total *= number\n",
        "    return total\n",
        "\n",
        "multiply(2,3,4,5)\n"
      ],
      "metadata": {
        "colab": {
          "base_uri": "https://localhost:8080/"
        },
        "id": "Dre4_jLJqzYt",
        "outputId": "094ba684-15d9-44d4-b487-2292d4e4aef2"
      },
      "execution_count": 3,
      "outputs": [
        {
          "output_type": "execute_result",
          "data": {
            "text/plain": [
              "120"
            ]
          },
          "metadata": {},
          "execution_count": 3
        }
      ]
    },
    {
      "cell_type": "code",
      "execution_count": null,
      "metadata": {
        "id": "5ikwMdyKqvhC"
      },
      "outputs": [],
      "source": [
        "# function that calls itself\n",
        "\n",
        "def factorial(n):\n",
        "    # Base case: if n is 0 or 1, return 1\n",
        "    if n == 0 or n == 1:\n",
        "        return 1\n",
        "    # Recursive case: n * factorial of (n-1)\n",
        "    else:\n",
        "        return n * factorial(n-1)\n"
      ]
    },
    {
      "cell_type": "markdown",
      "source": [
        "# Name arguments\n"
      ],
      "metadata": {
        "id": "SFKhWNETrfuf"
      }
    },
    {
      "cell_type": "code",
      "source": [
        "def f(time,rate):\n",
        "\n",
        "  distance = rate * time\n",
        "\n",
        "  return distance\n",
        "\n",
        "\n",
        "# notice the order is backwards\n",
        "\n",
        "f(rate=160,time=1)\n",
        "\n",
        "\n",
        "\n"
      ],
      "metadata": {
        "colab": {
          "base_uri": "https://localhost:8080/"
        },
        "id": "b6D82rKUrh1d",
        "outputId": "8db4a09d-750f-4899-fdb9-435462a8b342"
      },
      "execution_count": 7,
      "outputs": [
        {
          "output_type": "execute_result",
          "data": {
            "text/plain": [
              "160"
            ]
          },
          "metadata": {},
          "execution_count": 7
        }
      ]
    }
  ],
  "metadata": {
    "kernelspec": {
      "display_name": "Python 3",
      "language": "python",
      "name": "python3"
    },
    "language_info": {
      "codemirror_mode": {
        "name": "ipython",
        "version": 3
      },
      "file_extension": ".py",
      "mimetype": "text/x-python",
      "name": "python",
      "nbconvert_exporter": "python",
      "pygments_lexer": "ipython3",
      "version": "3.4.4"
    },
    "colab": {
      "provenance": [],
      "include_colab_link": true
    }
  },
  "nbformat": 4,
  "nbformat_minor": 0
}