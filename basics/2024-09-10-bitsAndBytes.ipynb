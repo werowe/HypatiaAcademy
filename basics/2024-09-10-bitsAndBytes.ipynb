{
  "cells": [
    {
      "cell_type": "markdown",
      "metadata": {
        "id": "view-in-github",
        "colab_type": "text"
      },
      "source": [
        "<a href=\"https://colab.research.google.com/github/werowe/HypatiaAcademy/blob/master/basics/2024-09-10-bitsAndBytes.ipynb\" target=\"_parent\"><img src=\"https://colab.research.google.com/assets/colab-badge.svg\" alt=\"Open In Colab\"/></a>"
      ]
    },
    {
      "cell_type": "markdown",
      "metadata": {
        "id": "oR1z0sGHxJWd"
      },
      "source": [
        "# Bits, Bytes, Hexadecimal numbers, and ASCII characters\n",
        "\n",
        "\n",
        "\n",
        "* decimal number—are based 10 numbers, like 345\n",
        "* bit—are the digits 0 and 1.  These are called base 2 numbers.\n",
        "* bytes—are 8 bits.  Each ASCII character (see below)is one byte.\n",
        "* hexadecimal numbers—is a base 16 numbering system, often used in computer memory addresses, HTML color codes, etc.  For example, the hexadecimal letter F is the decimal number 16.  It is used because it is easier to read that bits.\n",
        "* ASCII characters—are the English (latin) letters A, B, a, b, z, $, !, etc.\n",
        "* UTF-8—extends the characters to double-byte character sets, like Greek and Chinese, and 4 byte emojis.\n",
        "\n"
      ]
    },
    {
      "cell_type": "markdown",
      "metadata": {
        "id": "ASet4CehxJWn"
      },
      "source": [
        "#Decimal Numbers\n",
        "In the decimal system numbers are written as powers of 10.  We use the digits 0,1,2,3,4,5,6,7,8,9.\n",
        "\n",
        "353 is:\n",
        "\n",
        "```text\n",
        "300 + 50 + 3\n",
        "\n",
        "= 3*10**2 + 5*10**1 + 3*10**0\n",
        "\n",
        "\n",
        "```\n",
        "\n",
        "\n",
        "\n",
        "\n",
        "\n",
        "\n",
        "\n"
      ]
    },
    {
      "cell_type": "code",
      "source": [
        "#543\n",
        "\n",
        "# why do we use 10\n",
        "\n",
        "# because the decimal system has 10 digits: 0, 1, 2, 3, 4, 5, 6, 7, 8, 9\n",
        "\n",
        "5*10**2 + 4*10*1 + 3*10**0\n"
      ],
      "metadata": {
        "id": "aebHpgStMgvR",
        "outputId": "48565ad4-0441-43b8-d189-c01c005dde24",
        "colab": {
          "base_uri": "https://localhost:8080/"
        }
      },
      "execution_count": 5,
      "outputs": [
        {
          "output_type": "execute_result",
          "data": {
            "text/plain": [
              "543"
            ]
          },
          "metadata": {},
          "execution_count": 5
        }
      ]
    },
    {
      "cell_type": "markdown",
      "metadata": {
        "id": "pyIkjLAuxJWn"
      },
      "source": [
        "#Binary Numbers\n",
        "In the binary system numbers are written as power of 2.  We use the digits 0 and 1.\n",
        "\n",
        "111 binary is 7 decimal:\n",
        "\n",
        "```text\n",
        "\n",
        "1*2**2 + 1*2**1 + 1*2**0\n",
        "\n",
        "```\n",
        "\n",
        "110 binary is 6 decimal:\n",
        "\n",
        "\n",
        "```text\n",
        "\n",
        "1*2**2 + 1*2**1 + 0*2**0\n",
        "\n",
        "```\n",
        "\n"
      ]
    },
    {
      "cell_type": "code",
      "source": [
        "# a byte is like a character like the letter a\n",
        "\n",
        "\n",
        "# this is the number 1\n",
        "#00000001\n",
        "\n",
        "\n",
        "# the binary number system has two digits: 0 and 1\n",
        "\n",
        "# Claude Shannon working AT&T phone company came up with idea of communication theory .  He showed the electric circuits can do do math\n",
        "\n",
        "# open (0)\n",
        "# close (1)\n",
        "\n",
        "# computer chip is compute circuits\n",
        "\n",
        "\n",
        "\n",
        "\n",
        "1*(2**0)\n",
        "\n"
      ],
      "metadata": {
        "id": "er4IXO7kNbRA",
        "outputId": "92b3b495-44f3-4d0c-8c28-4f6229a4fac7",
        "colab": {
          "base_uri": "https://localhost:8080/"
        }
      },
      "execution_count": 7,
      "outputs": [
        {
          "output_type": "execute_result",
          "data": {
            "text/plain": [
              "1"
            ]
          },
          "metadata": {},
          "execution_count": 7
        }
      ]
    },
    {
      "cell_type": "code",
      "source": [
        "#11\n",
        "\n",
        "1*2**1 + 1*2**0\n"
      ],
      "metadata": {
        "id": "25Mr9OK9NzzD",
        "outputId": "f8ff2bf9-b372-4b56-a69d-7609d2b20732",
        "colab": {
          "base_uri": "https://localhost:8080/"
        }
      },
      "execution_count": 9,
      "outputs": [
        {
          "output_type": "execute_result",
          "data": {
            "text/plain": [
              "3"
            ]
          },
          "metadata": {},
          "execution_count": 9
        }
      ]
    },
    {
      "cell_type": "code",
      "source": [
        "#111\n",
        "\n",
        "# is 7 decimal\n",
        "\n",
        "\n",
        "# XV + II\n",
        "\n",
        "# IX\n"
      ],
      "metadata": {
        "id": "4SQRTyjcOs1S",
        "outputId": "8c6331a1-1a63-4a9c-a92a-7ff4b0e071f5",
        "colab": {
          "base_uri": "https://localhost:8080/",
          "height": 35
        }
      },
      "execution_count": 10,
      "outputs": [
        {
          "output_type": "execute_result",
          "data": {
            "text/plain": [
              "'0b1101111'"
            ],
            "application/vnd.google.colaboratory.intrinsic+json": {
              "type": "string"
            }
          },
          "metadata": {},
          "execution_count": 10
        }
      ]
    },
    {
      "cell_type": "markdown",
      "source": [
        "#Hexadecimal Numbers"
      ],
      "metadata": {
        "id": "NXu7MmR2E6au"
      }
    },
    {
      "cell_type": "markdown",
      "metadata": {
        "id": "9DdwbkvtxJWo"
      },
      "source": [
        "1ac in hex is 428 in decimal\n",
        "\n",
        "```text\n",
        "\n",
        "1*16**2+10*16**1+12*16**0\n",
        "\n",
        "```\n",
        "\n",
        "ff is 255:\n",
        "\n",
        "```text\n",
        "15*(16**1)+15*(16**0)\n",
        "```\n",
        "\n"
      ]
    },
    {
      "cell_type": "code",
      "source": [
        "# digits 0, 1, 2, 3, 4, 5, 6, 7, 8, 9, A, B, C, D, E, F\n",
        "\n",
        "hex(16)\n"
      ],
      "metadata": {
        "id": "4DRQVeCdPLzm",
        "outputId": "22c42773-471e-4ebf-88e3-3c89f2491d1b",
        "colab": {
          "base_uri": "https://localhost:8080/",
          "height": 35
        }
      },
      "execution_count": 11,
      "outputs": [
        {
          "output_type": "execute_result",
          "data": {
            "text/plain": [
              "'0x10'"
            ],
            "application/vnd.google.colaboratory.intrinsic+json": {
              "type": "string"
            }
          },
          "metadata": {},
          "execution_count": 11
        }
      ]
    },
    {
      "cell_type": "code",
      "source": [
        "hex(1)"
      ],
      "metadata": {
        "id": "Y_UumzJVPmDH",
        "outputId": "4d7d0b02-c398-432e-9529-27d0fb04bc9e",
        "colab": {
          "base_uri": "https://localhost:8080/",
          "height": 35
        }
      },
      "execution_count": 12,
      "outputs": [
        {
          "output_type": "execute_result",
          "data": {
            "text/plain": [
              "'0x1'"
            ],
            "application/vnd.google.colaboratory.intrinsic+json": {
              "type": "string"
            }
          },
          "metadata": {},
          "execution_count": 12
        }
      ]
    },
    {
      "cell_type": "code",
      "source": [
        "# what is 10\n",
        "\n",
        "1*16**1 + 0*16**1\n"
      ],
      "metadata": {
        "id": "ud95f4_IP0zp",
        "outputId": "9a518a01-85a4-4a2a-875d-4a4da9f846e0",
        "colab": {
          "base_uri": "https://localhost:8080/"
        }
      },
      "execution_count": 15,
      "outputs": [
        {
          "output_type": "execute_result",
          "data": {
            "text/plain": [
              "16"
            ]
          },
          "metadata": {},
          "execution_count": 15
        }
      ]
    },
    {
      "cell_type": "code",
      "source": [],
      "metadata": {
        "id": "MZSE2uILQKQH"
      },
      "execution_count": null,
      "outputs": []
    },
    {
      "cell_type": "code",
      "source": [
        "# 0x means it's a hexadecimal number"
      ],
      "metadata": {
        "id": "g99J8Lv_PpaD"
      },
      "execution_count": null,
      "outputs": []
    },
    {
      "cell_type": "code",
      "source": [
        "# 0b means binary\n",
        "\n",
        "bin(1)"
      ],
      "metadata": {
        "id": "oKXTWhizPvEm",
        "outputId": "b496e473-de81-401d-90e7-09e9fcb602f0",
        "colab": {
          "base_uri": "https://localhost:8080/",
          "height": 35
        }
      },
      "execution_count": 13,
      "outputs": [
        {
          "output_type": "execute_result",
          "data": {
            "text/plain": [
              "'0b1'"
            ],
            "application/vnd.google.colaboratory.intrinsic+json": {
              "type": "string"
            }
          },
          "metadata": {},
          "execution_count": 13
        }
      ]
    },
    {
      "cell_type": "code",
      "source": [
        "# convert the hexadecimal number f to the base 16 aka hexadecimal number\n",
        "\n",
        "int('f', 16)"
      ],
      "metadata": {
        "id": "Mr_GjvaiQXIq",
        "outputId": "a62f3009-8af7-4dc1-c0e4-a7f99fe07769",
        "colab": {
          "base_uri": "https://localhost:8080/"
        }
      },
      "execution_count": 20,
      "outputs": [
        {
          "output_type": "execute_result",
          "data": {
            "text/plain": [
              "15"
            ]
          },
          "metadata": {},
          "execution_count": 20
        }
      ]
    },
    {
      "cell_type": "code",
      "source": [
        "#0123456789abcdef\n",
        "#0123456789012345\n",
        "\n",
        "int('a',16)"
      ],
      "metadata": {
        "id": "PrJFwM-sQ1Tp",
        "outputId": "3a14c31a-6c98-4d0b-e9a3-36f83beedeb5",
        "colab": {
          "base_uri": "https://localhost:8080/"
        }
      },
      "execution_count": 21,
      "outputs": [
        {
          "output_type": "execute_result",
          "data": {
            "text/plain": [
              "10"
            ]
          },
          "metadata": {},
          "execution_count": 21
        }
      ]
    },
    {
      "cell_type": "code",
      "source": [
        "# what is the decimal number 16 in hexadecimal notation\n",
        "\n",
        "hex(16)"
      ],
      "metadata": {
        "id": "brf-z9vKQkJ2",
        "outputId": "0624c16b-0a45-41fe-b122-c653fbba2d1c",
        "colab": {
          "base_uri": "https://localhost:8080/",
          "height": 35
        }
      },
      "execution_count": 19,
      "outputs": [
        {
          "output_type": "execute_result",
          "data": {
            "text/plain": [
              "'0x10'"
            ],
            "application/vnd.google.colaboratory.intrinsic+json": {
              "type": "string"
            }
          },
          "metadata": {},
          "execution_count": 19
        }
      ]
    },
    {
      "cell_type": "markdown",
      "source": [
        "#Convert Binary and Hex to Decimal and Decimal to Binary and Hex\n",
        "\n",
        "Use these functions to convert from one numbering system to another.\n",
        "\n",
        "| function    | Decimal |  \n",
        "|-----------|---------|\n",
        "| decimal to binary      | bin()       |  \n",
        "| decimal to hex     | hex()       |  \n",
        "| binary to decimal      | int(number, 2)      |  \n",
        "| hex to decimal      | int (number, 16)       |  \n",
        "\n",
        "\n"
      ],
      "metadata": {
        "id": "ThdoN6hDDXxo"
      }
    },
    {
      "cell_type": "code",
      "execution_count": 1,
      "metadata": {
        "colab": {
          "base_uri": "https://localhost:8080/",
          "height": 35
        },
        "id": "Qnu3XlwqxJWo",
        "outputId": "882d113f-9fce-41e8-9c64-3eb3225905eb"
      },
      "outputs": [
        {
          "output_type": "execute_result",
          "data": {
            "text/plain": [
              "'0b10'"
            ],
            "application/vnd.google.colaboratory.intrinsic+json": {
              "type": "string"
            }
          },
          "metadata": {},
          "execution_count": 1
        }
      ],
      "source": [
        "# Example: convert decimal value 2 to binary\n",
        "\n",
        "# Notice the '0b' in front.  They tells the number that this string is a binary number.\n",
        "bin(2)\n"
      ]
    },
    {
      "cell_type": "code",
      "source": [
        "# Example: convert decimal value 82 to hex\n",
        "\n",
        "#Notice the '0x' in front.  They tells the number that this string is a hexadecimal number.\n",
        "\n",
        "hex(85)"
      ],
      "metadata": {
        "colab": {
          "base_uri": "https://localhost:8080/",
          "height": 35
        },
        "id": "tMlPH-04FTUX",
        "outputId": "265c3def-ed70-4392-a930-7663c3a31349"
      },
      "execution_count": 2,
      "outputs": [
        {
          "output_type": "execute_result",
          "data": {
            "text/plain": [
              "'0x55'"
            ],
            "application/vnd.google.colaboratory.intrinsic+json": {
              "type": "string"
            }
          },
          "metadata": {},
          "execution_count": 2
        }
      ]
    },
    {
      "cell_type": "code",
      "source": [
        "# convert binarynumber 1000001 to decimal\n",
        "\n",
        "int('1000001',2)"
      ],
      "metadata": {
        "colab": {
          "base_uri": "https://localhost:8080/"
        },
        "id": "CRq9CRJmFNMu",
        "outputId": "ca7272de-8df9-4669-f851-2e1836766b92"
      },
      "execution_count": 3,
      "outputs": [
        {
          "output_type": "execute_result",
          "data": {
            "text/plain": [
              "65"
            ]
          },
          "metadata": {},
          "execution_count": 3
        }
      ]
    },
    {
      "cell_type": "code",
      "source": [
        "# convert hex number fff to decimal\n",
        "\n",
        "int('fff', 16)\n"
      ],
      "metadata": {
        "colab": {
          "base_uri": "https://localhost:8080/"
        },
        "id": "CcOgP6-2FaS9",
        "outputId": "9c8c5d2c-2c87-456f-f4a7-c1af1f356a0c"
      },
      "execution_count": 4,
      "outputs": [
        {
          "output_type": "execute_result",
          "data": {
            "text/plain": [
              "4095"
            ]
          },
          "metadata": {},
          "execution_count": 4
        }
      ]
    },
    {
      "cell_type": "code",
      "source": [
        "int('11111111',2)\n"
      ],
      "metadata": {
        "id": "dm7VSORdRSx4",
        "outputId": "96332668-c9ea-4ad8-f638-6580fd1af7d3",
        "colab": {
          "base_uri": "https://localhost:8080/"
        }
      },
      "execution_count": 22,
      "outputs": [
        {
          "output_type": "execute_result",
          "data": {
            "text/plain": [
              "255"
            ]
          },
          "metadata": {},
          "execution_count": 22
        }
      ]
    },
    {
      "cell_type": "code",
      "source": [
        "print(\"hello\\tmaria\")"
      ],
      "metadata": {
        "id": "Dp0rDnB7Rpnc",
        "outputId": "6561adc5-b931-405f-f10a-501a7f144e7c",
        "colab": {
          "base_uri": "https://localhost:8080/"
        }
      },
      "execution_count": 23,
      "outputs": [
        {
          "output_type": "stream",
          "name": "stdout",
          "text": [
            "hello\tmaria\n"
          ]
        }
      ]
    },
    {
      "cell_type": "markdown",
      "source": [
        "#ASCII Characters\n",
        "\n",
        "ASCII characters are basically the latin letters (i.e., English).  There are only 128 of these, because computer languages are in English.  It roughly is the same as the US English keyboard.  Later this was extended to Greek and other alphabets and emojis, using the [UTF-8](https://github.com/werowe/HypatiaAcademy/blob/master/class/27_june_2023_cyrillic_alphabet.ipynb) character encoding standard.\n",
        "\n",
        "A single ASCII character is one byte.  So it is 8 bits.  So there are 2**8=256 possible letters.\n",
        "\n",
        "The ASCII characters are divided into:\n",
        "\n",
        "* **non printable**—this includes the space, table, line feed, and even a bell (remember computers are old)\n",
        "\n",
        "* **printable**—the alphabet, dollar sign, numbers, exclamation (!)\n",
        "\n",
        "* **extended**—this added the British Pound, Japanese Yen, copyright symbol (©)\n",
        "\n",
        "# Double Byte Charactes\n",
        "Greek letters take 2 bytes, like this 2 byte string:\n",
        "\n",
        "```python\n",
        "\"λ\".encode('utf-8')\n",
        "b'\\xce\\xbb'\n",
        "```\n",
        "\n",
        "# Four Byte Characters\n",
        "Emojis are 4 bites, like this 4 byte string:\n",
        "\n",
        "\n",
        "```python\n",
        "\"😀\".encode('utf-8')\n",
        "b'\\xf0\\x9f\\x98\\x80'\n",
        "\n",
        "```"
      ],
      "metadata": {
        "id": "DfSllYB0-Nj6"
      }
    },
    {
      "cell_type": "code",
      "source": [
        "'Г'.encode('utf-8')"
      ],
      "metadata": {
        "id": "fprz7j-5SZnr",
        "outputId": "dff857d1-c327-4c53-bc0f-e3a7d60b8a9c",
        "colab": {
          "base_uri": "https://localhost:8080/"
        }
      },
      "execution_count": 24,
      "outputs": [
        {
          "output_type": "execute_result",
          "data": {
            "text/plain": [
              "b'\\xd0\\x93'"
            ]
          },
          "metadata": {},
          "execution_count": 24
        }
      ]
    },
    {
      "cell_type": "markdown",
      "source": [
        "UTF-8 Cyrillic alphabet\n",
        "https://www.w3schools.com/charsets/ref_utf_cyrillic.asp\n",
        "\n",
        "\n",
        "Bonus question:  How many possible letters can you make with 4 bytes?\n",
        "\n"
      ],
      "metadata": {
        "id": "GeCd4z4VTEFg"
      }
    }
  ],
  "metadata": {
    "kernelspec": {
      "display_name": "Python 3",
      "language": "python",
      "name": "python3"
    },
    "language_info": {
      "codemirror_mode": {
        "name": "ipython",
        "version": 3
      },
      "file_extension": ".py",
      "mimetype": "text/x-python",
      "name": "python",
      "nbconvert_exporter": "python",
      "pygments_lexer": "ipython3",
      "version": "3.4.4"
    },
    "colab": {
      "provenance": [],
      "include_colab_link": true
    }
  },
  "nbformat": 4,
  "nbformat_minor": 0
}