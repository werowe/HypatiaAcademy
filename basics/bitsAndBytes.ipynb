{
  "cells": [
    {
      "cell_type": "markdown",
      "metadata": {
        "id": "view-in-github",
        "colab_type": "text"
      },
      "source": [
        "<a href=\"https://colab.research.google.com/github/werowe/HypatiaAcademy/blob/master/basics/bitsAndBytes.ipynb\" target=\"_parent\"><img src=\"https://colab.research.google.com/assets/colab-badge.svg\" alt=\"Open In Colab\"/></a>"
      ]
    },
    {
      "cell_type": "markdown",
      "metadata": {
        "id": "oR1z0sGHxJWd"
      },
      "source": [
        "# Bits, Bytes, Hexadecimal numbers, and ASCII characters\n",
        "\n",
        "\n",
        "\n",
        "* decimal number—are based 10 numbers, like 345\n",
        "* bit—are the digits 0 and 1.  These are called base 2 numbers.\n",
        "* bytes—are 8 bits.  Each ASCII character (see below)is one byte.\n",
        "* hexadecimal numbers—is a base 16 numbering system, often used in computer memory addresses, HTML color codes, etc.  For example, the hexadecimal letter F is the decimal number 16.  It is used because it is easier to read that bits.\n",
        "* ASCII characters—are the English (latin) letters A, B, a, b, z, $, !, etc.\n",
        "* UTF-8—extends the characters to double-byte character sets, like Greek and Chinese, and 4 byte emojis.\n",
        "\n"
      ]
    },
    {
      "cell_type": "markdown",
      "metadata": {
        "id": "ASet4CehxJWn"
      },
      "source": [
        "#Decimal Numbers\n",
        "In the decimal system numbers are written as powers of 10.  We use the digits 0,1,2,3,4,5,6,7,8,9.\n",
        "\n",
        "353 is:\n",
        "\n",
        "```text\n",
        "300 + 50 + 3\n",
        "\n",
        "= 3*10**2 + 5*10**1 + 3*10**0\n",
        "\n",
        "\n",
        "```\n",
        "\n",
        "\n",
        "\n",
        "\n",
        "\n",
        "\n",
        "\n"
      ]
    },
    {
      "cell_type": "markdown",
      "metadata": {
        "id": "pyIkjLAuxJWn"
      },
      "source": [
        "#Binary Numbers\n",
        "In the binary system numbers are written as power of 2.  We use the digits 0 and 1.\n",
        "\n",
        "111 binary is 7 decimal:\n",
        "\n",
        "```text\n",
        "\n",
        "1*2**2 + 1*2**1 + 1*2**0\n",
        "\n",
        "```\n",
        "\n",
        "110 binary is 6 decimal:\n",
        "\n",
        "\n",
        "```text\n",
        "\n",
        "1*2**2 + 1*2**1 + 0*2**0\n",
        "\n",
        "```\n",
        "\n"
      ]
    },
    {
      "cell_type": "markdown",
      "source": [
        "#Hexadecimal Numbers\n",
        "\n",
        "one hexadecimal number is 4 bits.\n",
        "\n",
        "Proof:\n",
        "\n",
        "hex F =  binary 1111\n"
      ],
      "metadata": {
        "id": "NXu7MmR2E6au"
      }
    },
    {
      "cell_type": "code",
      "source": [
        "bin(int ('f', 16))\n"
      ],
      "metadata": {
        "id": "1u6ZilXp7Fc3",
        "outputId": "864845c2-2d24-46f5-c753-273c1f289e1d",
        "colab": {
          "base_uri": "https://localhost:8080/",
          "height": 35
        }
      },
      "execution_count": 2,
      "outputs": [
        {
          "output_type": "execute_result",
          "data": {
            "text/plain": [
              "'0b1111'"
            ],
            "application/vnd.google.colaboratory.intrinsic+json": {
              "type": "string"
            }
          },
          "metadata": {},
          "execution_count": 2
        }
      ]
    },
    {
      "cell_type": "markdown",
      "metadata": {
        "id": "9DdwbkvtxJWo"
      },
      "source": [
        "1ac in hex is 428 in decimal\n",
        "\n",
        "```text\n",
        "\n",
        "1*16**2+10*16**1+12*16**0\n",
        "\n",
        "```\n",
        "\n",
        "ff is 255:\n",
        "\n",
        "```text\n",
        "15*(16**1)+15*(16**0)\n",
        "```\n",
        "\n"
      ]
    },
    {
      "cell_type": "markdown",
      "source": [
        "#Convert Binary and Hex to Decimal and Decimal to Binary and Hex\n",
        "\n",
        "Use these functions to convert from one numbering system to another.\n",
        "\n",
        "| function    | Decimal |  \n",
        "|-----------|---------|\n",
        "| decimal to binary      | bin()       |  \n",
        "| decimal to hex     | hex()       |  \n",
        "| binary to decimal      | int(number, 2)      |  \n",
        "| hex to decimal      | int (number, 16)       |  \n",
        "\n",
        "\n"
      ],
      "metadata": {
        "id": "ThdoN6hDDXxo"
      }
    },
    {
      "cell_type": "code",
      "execution_count": null,
      "metadata": {
        "colab": {
          "base_uri": "https://localhost:8080/",
          "height": 37
        },
        "id": "Qnu3XlwqxJWo",
        "outputId": "0fa62df6-c8a6-4717-9e1a-f757c563fb89"
      },
      "outputs": [
        {
          "output_type": "execute_result",
          "data": {
            "text/plain": [
              "'0b10'"
            ],
            "application/vnd.google.colaboratory.intrinsic+json": {
              "type": "string"
            }
          },
          "metadata": {},
          "execution_count": 9
        }
      ],
      "source": [
        "# Example: convert decimal value 2 to binary\n",
        "\n",
        "# Notice the '0b' in front.  They tells the number that this string is a binary number.\n",
        "bin(2)\n"
      ]
    },
    {
      "cell_type": "code",
      "source": [
        "# Example: convert decimal value 82 to hex\n",
        "\n",
        "#Notice the '0x' in front.  They tells the number that this string is a hexadecimal number.\n",
        "\n",
        "hex(85)"
      ],
      "metadata": {
        "colab": {
          "base_uri": "https://localhost:8080/",
          "height": 37
        },
        "id": "tMlPH-04FTUX",
        "outputId": "c1525212-ca71-4fdf-b14c-6f8461b5cad6"
      },
      "execution_count": null,
      "outputs": [
        {
          "output_type": "execute_result",
          "data": {
            "text/plain": [
              "'0x55'"
            ],
            "application/vnd.google.colaboratory.intrinsic+json": {
              "type": "string"
            }
          },
          "metadata": {},
          "execution_count": 10
        }
      ]
    },
    {
      "cell_type": "code",
      "source": [
        "# convert binarynumber 1000001 to decimal\n",
        "\n",
        "int('1000001',2)"
      ],
      "metadata": {
        "colab": {
          "base_uri": "https://localhost:8080/"
        },
        "id": "CRq9CRJmFNMu",
        "outputId": "6b355835-f8c3-456e-a0a9-a9ace666c550"
      },
      "execution_count": null,
      "outputs": [
        {
          "output_type": "execute_result",
          "data": {
            "text/plain": [
              "65"
            ]
          },
          "metadata": {},
          "execution_count": 11
        }
      ]
    },
    {
      "cell_type": "code",
      "source": [
        "# convert hex number fff to decimal\n",
        "\n",
        "int('fff', 16)\n"
      ],
      "metadata": {
        "colab": {
          "base_uri": "https://localhost:8080/"
        },
        "id": "CcOgP6-2FaS9",
        "outputId": "9f211afa-7838-47f1-d37b-6e84973a2182"
      },
      "execution_count": null,
      "outputs": [
        {
          "output_type": "execute_result",
          "data": {
            "text/plain": [
              "4095"
            ]
          },
          "metadata": {},
          "execution_count": 12
        }
      ]
    },
    {
      "cell_type": "markdown",
      "source": [
        "#ASCII Characters\n",
        "\n",
        "ASCII characters are basically the latin letters (i.e., English).  There are only 128 of these, because computer languages are in English.  It roughly is the same as the US English keyboard.  Later this was extended to Greek and other alphabets and emojis, using the [UTF-8](https://github.com/werowe/HypatiaAcademy/blob/master/class/27_june_2023_cyrillic_alphabet.ipynb) character encoding standard.\n",
        "\n",
        "A single ASCII character is one byte.  So it is 8 bits.  So there are 2**8=256 possible letters.\n",
        "\n",
        "The ASCII characters are divided into:\n",
        "\n",
        "* **non printable**—this includes the space, table, line feed, and even a bell (remember computers are old)\n",
        "\n",
        "* **printable**—the alphabet, dollar sign, numbers, exclamation (!)\n",
        "\n",
        "* **extended**—this added the British Pound, Japanese Yen, copyright symbol (©)\n",
        "\n",
        "# Double Byte Charactes\n",
        "Greek letters take 2 bytes, like this 2 byte string:\n",
        "\n",
        "```python\n",
        "\"λ\".encode('utf-8')\n",
        "b'\\xce\\xbb'\n",
        "```\n",
        "\n",
        "# Four Byte Characters\n",
        "Emojis are 4 bites, like this 4 byte string:\n",
        "\n",
        "\n",
        "```python\n",
        "\"😀\".encode('utf-8')\n",
        "b'\\xf0\\x9f\\x98\\x80'\n",
        "\n",
        "```"
      ],
      "metadata": {
        "id": "DfSllYB0-Nj6"
      }
    }
  ],
  "metadata": {
    "kernelspec": {
      "display_name": "Python 3",
      "language": "python",
      "name": "python3"
    },
    "language_info": {
      "codemirror_mode": {
        "name": "ipython",
        "version": 3
      },
      "file_extension": ".py",
      "mimetype": "text/x-python",
      "name": "python",
      "nbconvert_exporter": "python",
      "pygments_lexer": "ipython3",
      "version": "3.4.4"
    },
    "colab": {
      "provenance": [],
      "include_colab_link": true
    }
  },
  "nbformat": 4,
  "nbformat_minor": 0
}