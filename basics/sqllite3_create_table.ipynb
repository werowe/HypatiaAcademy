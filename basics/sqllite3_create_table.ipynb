{
  "nbformat": 4,
  "nbformat_minor": 0,
  "metadata": {
    "colab": {
      "provenance": [],
      "authorship_tag": "ABX9TyNxtmSBY7ZAIjo51FzfRDC1",
      "include_colab_link": true
    },
    "kernelspec": {
      "name": "python3",
      "display_name": "Python 3"
    },
    "language_info": {
      "name": "python"
    }
  },
  "cells": [
    {
      "cell_type": "markdown",
      "metadata": {
        "id": "view-in-github",
        "colab_type": "text"
      },
      "source": [
        "<a href=\"https://colab.research.google.com/github/werowe/HypatiaAcademy/blob/master/basics/sqllite3_create_table.ipynb\" target=\"_parent\"><img src=\"https://colab.research.google.com/assets/colab-badge.svg\" alt=\"Open In Colab\"/></a>"
      ]
    },
    {
      "cell_type": "code",
      "source": [
        "from google.colab import drive\n",
        "drive.mount('/content/drive')"
      ],
      "metadata": {
        "colab": {
          "base_uri": "https://localhost:8080/"
        },
        "id": "wJwlRDch1Urf",
        "outputId": "324d8e97-2076-4a8f-b135-aede55b6fa5d"
      },
      "execution_count": 2,
      "outputs": [
        {
          "output_type": "stream",
          "name": "stdout",
          "text": [
            "Mounted at /content/drive\n"
          ]
        }
      ]
    },
    {
      "cell_type": "code",
      "source": [
        "!ls"
      ],
      "metadata": {
        "colab": {
          "base_uri": "https://localhost:8080/"
        },
        "id": "MryE9fAF26jh",
        "outputId": "72268268-d3d2-4748-ede7-01f3837fc2b8"
      },
      "execution_count": null,
      "outputs": [
        {
          "output_type": "stream",
          "name": "stdout",
          "text": [
            "drive  sample_data\n"
          ]
        }
      ]
    },
    {
      "cell_type": "markdown",
      "source": [
        "# Inventory System\n",
        "\n",
        "* products\n",
        "* vendors\n",
        "\n",
        "# Sales System\n",
        "\n",
        "* customers\n",
        "* sales transactions"
      ],
      "metadata": {
        "id": "acmT4hIX2LDP"
      }
    },
    {
      "cell_type": "markdown",
      "source": [
        "# SQL Has no API\n",
        "\n",
        "For example, Google would have an API to connect to Big Query.  That would let you add, update, or delete data.\n",
        "\n",
        "But most databases also support SQL (Structured Query Language).\n"
      ],
      "metadata": {
        "id": "0Dln7wIF3lPJ"
      }
    },
    {
      "cell_type": "code",
      "execution_count": null,
      "metadata": {
        "id": "_8cvXHKgzCag",
        "colab": {
          "base_uri": "https://localhost:8080/",
          "height": 211
        },
        "outputId": "54de5098-cee0-42bd-d3c6-b57c395ffb5b"
      },
      "outputs": [
        {
          "output_type": "error",
          "ename": "OperationalError",
          "evalue": "table customers already exists",
          "traceback": [
            "\u001b[0;31m---------------------------------------------------------------------------\u001b[0m",
            "\u001b[0;31mOperationalError\u001b[0m                          Traceback (most recent call last)",
            "\u001b[0;32m<ipython-input-3-ef9b48dbb500>\u001b[0m in \u001b[0;36m<cell line: 29>\u001b[0;34m()\u001b[0m\n\u001b[1;32m     27\u001b[0m \u001b[0;34m\u001b[0m\u001b[0m\n\u001b[1;32m     28\u001b[0m \u001b[0;31m# Execute the SQL command to create the parent table\u001b[0m\u001b[0;34m\u001b[0m\u001b[0;34m\u001b[0m\u001b[0m\n\u001b[0;32m---> 29\u001b[0;31m \u001b[0mcursor\u001b[0m\u001b[0;34m.\u001b[0m\u001b[0mexecute\u001b[0m\u001b[0;34m(\u001b[0m\u001b[0mcreate_parent_table\u001b[0m\u001b[0;34m)\u001b[0m\u001b[0;34m\u001b[0m\u001b[0;34m\u001b[0m\u001b[0m\n\u001b[0m\u001b[1;32m     30\u001b[0m \u001b[0;34m\u001b[0m\u001b[0m\n\u001b[1;32m     31\u001b[0m \u001b[0;34m\u001b[0m\u001b[0m\n",
            "\u001b[0;31mOperationalError\u001b[0m: table customers already exists"
          ]
        }
      ],
      "source": [
        "import sqlite3\n",
        "\n",
        "\n",
        "db_path = '/content/drive/MyDrive/inventory.db'\n",
        "\n",
        "# Connect to (or create) the SQLite database\n",
        "conn = sqlite3.connect(db_path)\n",
        "\n",
        "# Enable foreign key support\n",
        "conn.execute('PRAGMA foreign_keys = ON')\n",
        "\n",
        "# Create a cursor object to execute SQL commands\n",
        "cursor = conn.cursor()\n",
        "\n",
        "# SQL command to create the parent table\n",
        "create_parent_table = '''\n",
        "CREATE TABLE customers\n",
        "  (\n",
        "    customernumber INTEGER PRIMARY KEY,\n",
        "    customername text,\n",
        "    phonenumber text,\n",
        "    postalcode text,\n",
        "    datecreated int,\n",
        "    email text\n",
        "  );\n",
        "'''\n",
        "\n",
        "# Execute the SQL command to create the parent table\n",
        "cursor.execute(create_parent_table)\n",
        "\n",
        "\n",
        "\n",
        "# Commit the changes to the database\n",
        "conn.commit()\n",
        "\n",
        "# Close the connection\n",
        "conn.close()\n",
        "\n",
        "\n"
      ]
    },
    {
      "cell_type": "code",
      "source": [
        "\n",
        "# Connect to (or create) the SQLite database\n",
        "conn = sqlite3.connect(db_path)\n",
        "\n",
        "# Enable foreign key support\n",
        "conn.execute('PRAGMA foreign_keys = ON')\n",
        "\n",
        "# Create a cursor object to execute SQL commands\n",
        "cursor = conn.cursor()\n",
        "\n",
        "\n",
        "sql='''\n",
        "INSERT INTO customers (customernumber, customername, phonenumber, postalcode, datecreated, email)\n",
        "VALUES (1, 'John Doe', '555-1234', '12345', strftime('%s', 'now'), 'johndoe@example.com');\n",
        "'''\n",
        "\n",
        "sql=\"select * from customers\";\n",
        "\n",
        "# Execute the SQL command to create the parent table\n",
        "cursor.execute(sql)\n",
        "\n",
        "\n",
        "\n",
        "# Commit the changes to the database\n",
        "conn.commit()\n",
        "\n",
        "# Close the connection\n",
        "conn.close()\n",
        "\n"
      ],
      "metadata": {
        "id": "43wLoeAf1LfE"
      },
      "execution_count": null,
      "outputs": []
    },
    {
      "cell_type": "code",
      "source": [
        "import sqlite3\n",
        "\n",
        "# Connect to the SQLite database (replace 'your_database.db' with your actual database path)\n",
        "conn = sqlite3.connect(db_path)\n",
        "\n",
        "# Create a cursor object to execute SQL queries\n",
        "cursor = conn.cursor()\n",
        "\n",
        "# SQL command to select all rows from the customers table\n",
        "select_query = 'SELECT * FROM customers'\n",
        "\n",
        "# Execute the query\n",
        "cursor.execute(select_query)\n",
        "\n",
        "# Fetch all results from the executed query\n",
        "rows = cursor.fetchall()\n",
        "\n",
        "# Check if rows were found and print them\n",
        "if rows:\n",
        "    print(\"Customer Records:\")\n",
        "    for row in rows:\n",
        "        print(row)\n",
        "else:\n",
        "    print(\"No records found.\")\n",
        "\n",
        "# Close the connection\n",
        "conn.close()\n"
      ],
      "metadata": {
        "colab": {
          "base_uri": "https://localhost:8080/"
        },
        "id": "wyRcHS4s4zxB",
        "outputId": "c6659967-2d5c-40ed-f35b-27f317c0fa13"
      },
      "execution_count": null,
      "outputs": [
        {
          "output_type": "stream",
          "name": "stdout",
          "text": [
            "Customer Records:\n",
            "(1, 'John Doe', '555-1234', '12345', 1727447275, 'johndoe@example.com')\n"
          ]
        }
      ]
    },
    {
      "cell_type": "markdown",
      "source": [
        "```\n",
        "CREATE TABLE orders\n",
        "  (\n",
        "     customernumber    varchar(100) ,\n",
        "    ordernumber varchar(100) PRIMARY KEY,\n",
        "    comments varchar(200),\n",
        "    orderdate date,\n",
        "    ordertype varchar(10),\n",
        "    shipdate date,\n",
        "discount float,\n",
        "quantity int,\n",
        "    productnumber varchar(50)\n",
        ");\n",
        "\n",
        "```"
      ],
      "metadata": {
        "id": "ioWd7C2p49W4"
      }
    },
    {
      "cell_type": "code",
      "source": [
        "CREATE TABLE products\n",
        "  (\n",
        "     description    varchar(100) ,\n",
        "    productnumber varchar(100) PRIMARY KEY,\n",
        "     price    real\n",
        "\n",
        "  )"
      ],
      "metadata": {
        "id": "TRPiBEh_5sKk"
      },
      "execution_count": null,
      "outputs": []
    },
    {
      "cell_type": "markdown",
      "source": [
        "**Referential Integrity**--for example, if you have orders for customer number 3 and customer number 3 does not exist then you have a mess.\n",
        "\n",
        "Not logical consistent."
      ],
      "metadata": {
        "id": "fWV0hjOQ5URG"
      }
    },
    {
      "cell_type": "code",
      "source": [
        "%load_ext sql"
      ],
      "metadata": {
        "id": "TJ5pX9TfmORG"
      },
      "execution_count": 1,
      "outputs": []
    },
    {
      "cell_type": "code",
      "source": [
        "%%sql sqlite:////content/drive/MyDrive/inventory.db"
      ],
      "metadata": {
        "id": "eqLKt09lmqeP"
      },
      "execution_count": 8,
      "outputs": []
    },
    {
      "cell_type": "code",
      "source": [
        "%%sql\n",
        "SELECT * FROM customers;"
      ],
      "metadata": {
        "colab": {
          "base_uri": "https://localhost:8080/",
          "height": 116
        },
        "id": "iM1BxKz8n5Nw",
        "outputId": "09070c2d-dbbf-442f-e4a0-db7c8c91935a"
      },
      "execution_count": 9,
      "outputs": [
        {
          "output_type": "stream",
          "name": "stdout",
          "text": [
            " * sqlite:////content/drive/MyDrive/inventory.db\n",
            "Done.\n"
          ]
        },
        {
          "output_type": "execute_result",
          "data": {
            "text/plain": [
              "[(1, 'John Doe', '555-1234', '12345', 1727447275, 'johndoe@example.com')]"
            ],
            "text/html": [
              "<table>\n",
              "    <thead>\n",
              "        <tr>\n",
              "            <th>customernumber</th>\n",
              "            <th>customername</th>\n",
              "            <th>phonenumber</th>\n",
              "            <th>postalcode</th>\n",
              "            <th>datecreated</th>\n",
              "            <th>email</th>\n",
              "        </tr>\n",
              "    </thead>\n",
              "    <tbody>\n",
              "        <tr>\n",
              "            <td>1</td>\n",
              "            <td>John Doe</td>\n",
              "            <td>555-1234</td>\n",
              "            <td>12345</td>\n",
              "            <td>1727447275</td>\n",
              "            <td>johndoe@example.com</td>\n",
              "        </tr>\n",
              "    </tbody>\n",
              "</table>"
            ]
          },
          "metadata": {},
          "execution_count": 9
        }
      ]
    }
  ]
}