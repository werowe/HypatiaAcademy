{
  "nbformat": 4,
  "nbformat_minor": 0,
  "metadata": {
    "colab": {
      "provenance": [],
      "include_colab_link": true
    },
    "kernelspec": {
      "name": "python3",
      "display_name": "Python 3"
    },
    "language_info": {
      "name": "python"
    }
  },
  "cells": [
    {
      "cell_type": "markdown",
      "metadata": {
        "id": "view-in-github",
        "colab_type": "text"
      },
      "source": [
        "<a href=\"https://colab.research.google.com/github/werowe/HypatiaAcademy/blob/master/basics/sqllite3_create_table.ipynb\" target=\"_parent\"><img src=\"https://colab.research.google.com/assets/colab-badge.svg\" alt=\"Open In Colab\"/></a>"
      ]
    },
    {
      "cell_type": "markdown",
      "source": [
        "# Inventory System\n",
        "\n",
        "* products\n",
        "* vendors\n",
        "\n",
        "# Sales System\n",
        "\n",
        "* customers\n",
        "* sales transactions"
      ],
      "metadata": {
        "id": "acmT4hIX2LDP"
      }
    },
    {
      "cell_type": "markdown",
      "source": [
        "# SQL Has no API\n",
        "\n",
        "For example, Google would have an API to connect to Big Query.  That would let you add, update, or delete data.\n",
        "\n",
        "But most databases also support SQL (Structured Query Language).\n"
      ],
      "metadata": {
        "id": "0Dln7wIF3lPJ"
      }
    },
    {
      "cell_type": "markdown",
      "source": [
        "**Referential Integrity**--for example, if you have orders for customer number 3 and customer number 3 does not exist then you have a mess.\n",
        "\n",
        "Not logical consistent."
      ],
      "metadata": {
        "id": "fWV0hjOQ5URG"
      }
    },
    {
      "cell_type": "code",
      "source": [
        "#The first step is to mount all of this on Google Drive using this cell here.\n",
        "\n",
        "from google.colab import drive\n",
        "drive.mount('/content/drive')"
      ],
      "metadata": {
        "colab": {
          "base_uri": "https://localhost:8080/"
        },
        "id": "wJwlRDch1Urf",
        "outputId": "6cabbf22-ce3a-4b39-8d13-5d6948e61a55"
      },
      "execution_count": 137,
      "outputs": [
        {
          "output_type": "stream",
          "name": "stdout",
          "text": [
            "Drive already mounted at /content/drive; to attempt to forcibly remount, call drive.mount(\"/content/drive\", force_remount=True).\n"
          ]
        }
      ]
    },
    {
      "cell_type": "code",
      "source": [
        "#load the SQL extension\n",
        "\n",
        "%load_ext sql"
      ],
      "metadata": {
        "colab": {
          "base_uri": "https://localhost:8080/"
        },
        "id": "OjHpIE7q5N2j",
        "outputId": "2bfe5002-2e7f-4f0e-9f0c-8947137d4981"
      },
      "execution_count": 138,
      "outputs": [
        {
          "output_type": "stream",
          "name": "stdout",
          "text": [
            "The sql extension is already loaded. To reload it, use:\n",
            "  %reload_ext sql\n"
          ]
        }
      ]
    },
    {
      "cell_type": "code",
      "source": [
        "# Enable foreign key constraints\n",
        "%sql PRAGMA foreign_keys = ON;"
      ],
      "metadata": {
        "colab": {
          "base_uri": "https://localhost:8080/"
        },
        "id": "SaRIFO616HKP",
        "outputId": "022896a0-d49f-4b5f-c22e-952ad136399a"
      },
      "execution_count": 139,
      "outputs": [
        {
          "output_type": "stream",
          "name": "stdout",
          "text": [
            " * sqlite:////content/drive/MyDrive/inventory.db\n",
            "   sqlite:///db.path\n",
            "Done.\n"
          ]
        },
        {
          "output_type": "execute_result",
          "data": {
            "text/plain": [
              "[]"
            ]
          },
          "metadata": {},
          "execution_count": 139
        }
      ]
    },
    {
      "cell_type": "code",
      "source": [
        "%sql sqlite:////content/drive/MyDrive/inventory.db"
      ],
      "metadata": {
        "id": "m7IoWb0f0cu7"
      },
      "execution_count": 140,
      "outputs": []
    },
    {
      "cell_type": "code",
      "source": [
        "# I added this to delete the customers and orders table as a first step. This is because if we want to change the tables the first thing to do is to delete them if they already exist.\n",
        "\n",
        "%%sql\n",
        "drop table orders;\n"
      ],
      "metadata": {
        "colab": {
          "base_uri": "https://localhost:8080/"
        },
        "id": "tFnx_e_00fZF",
        "outputId": "4fa7ca1f-0fa6-4cf7-b931-b53cb5d96c90"
      },
      "execution_count": 141,
      "outputs": [
        {
          "output_type": "stream",
          "name": "stdout",
          "text": [
            " * sqlite:////content/drive/MyDrive/inventory.db\n",
            "   sqlite:///db.path\n",
            "Done.\n"
          ]
        },
        {
          "output_type": "execute_result",
          "data": {
            "text/plain": [
              "[]"
            ]
          },
          "metadata": {},
          "execution_count": 141
        }
      ]
    },
    {
      "cell_type": "code",
      "source": [
        "%%sql\n",
        "drop table customers"
      ],
      "metadata": {
        "colab": {
          "base_uri": "https://localhost:8080/"
        },
        "id": "byyPWGP31bS8",
        "outputId": "3f232f62-f021-4e60-8c3b-4feb322b42c8"
      },
      "execution_count": 142,
      "outputs": [
        {
          "output_type": "stream",
          "name": "stdout",
          "text": [
            " * sqlite:////content/drive/MyDrive/inventory.db\n",
            "   sqlite:///db.path\n",
            "Done.\n"
          ]
        },
        {
          "output_type": "execute_result",
          "data": {
            "text/plain": [
              "[]"
            ]
          },
          "metadata": {},
          "execution_count": 142
        }
      ]
    },
    {
      "cell_type": "code",
      "execution_count": 143,
      "metadata": {
        "id": "_8cvXHKgzCag"
      },
      "outputs": [],
      "source": [
        "#CREATING THE CUSTOMERS TABLE\n",
        "\n",
        "\n",
        "#import the SQLite library\n",
        "\n",
        "import sqlite3\n",
        "\n",
        "\n",
        "#define the path to the SQLite database file\n",
        "\n",
        "db_path = '/content/drive/MyDrive/inventory.db'\n",
        "\n",
        "\n",
        "#conn(short for connect) to the SQLite database\n",
        "#if the file doesn't exist, it will be created\n",
        "\n",
        "conn = sqlite3.connect(db_path)\n",
        "\n",
        "\n",
        "#put on foreign key support in SQLite\n",
        "conn.execute('PRAGMA foreign_keys = ON')\n",
        "\n",
        "\n",
        "#the cursor allows us to interact with the database by executing SQL statements\n",
        "cursor = conn.cursor()\n",
        "\n",
        "\n",
        "#SQL command to create a table, which will store all the info about our customers\n",
        "create_parent_table = '''\n",
        "CREATE TABLE customers\n",
        "  (\n",
        "    customernumber INTEGER PRIMARY KEY,\n",
        "    customername text,\n",
        "    phonenumber text,\n",
        "    postalcode text,\n",
        "    datecreated int,\n",
        "    email text\n",
        "  );\n",
        "'''\n",
        "\n",
        "\n",
        "try:\n",
        "    #execute the SQL command to create the \"customers\" table\n",
        "    cursor.execute(create_parent_table)\n",
        "\n",
        "\n",
        "except Exception as e:\n",
        "    #this will print any errors that we might get\n",
        "    print(e)\n",
        "\n",
        "\n",
        "#saving the changes\n",
        "conn.commit()\n",
        "\n",
        "\n",
        "#stop the connection with our database\n",
        "conn.close()\n",
        "\n"
      ]
    },
    {
      "cell_type": "code",
      "source": [
        "#ADDING NEW CUSTOMERS\n",
        "\n",
        "\n",
        "#connect to the database once more\n",
        "conn = sqlite3.connect(db_path)\n",
        "\n",
        "#put on the foreign key support\n",
        "conn.execute('PRAGMA foreign_keys = ON')\n",
        "\n",
        "#the cursor allows us to interact with the database by executing SQL statements\n",
        "cursor = conn.cursor()\n",
        "\n",
        "#this command adds a customer with specific details\n",
        "sql='''\n",
        "INSERT INTO customers (customernumber, customername, phonenumber, postalcode, datecreated, email)\n",
        "VALUES (1, 'John Doe', '555-1234', '12345', strftime('%s', 'now'), 'johndoe@example.com');\n",
        "'''\n",
        "\n",
        "sql=\"select * from customers\";\n",
        "\n",
        "#execute the SQL command to insert the new customer\n",
        "cursor.execute(sql)\n",
        "\n",
        "\n",
        "\n",
        "#save the changes\n",
        "conn.commit()\n",
        "\n",
        "#close the connection\n",
        "conn.close()\n",
        "\n"
      ],
      "metadata": {
        "id": "43wLoeAf1LfE"
      },
      "execution_count": 144,
      "outputs": []
    },
    {
      "cell_type": "code",
      "source": [
        "#EXECUTE A QUERY TO GET ALL RECORDS FROM THE CUSTOMERS TABLE\n",
        "\n",
        "import sqlite3\n",
        "\n",
        "#connect to the SQLite database\n",
        "conn = sqlite3.connect(db_path)\n",
        "\n",
        "#create a cursor\n",
        "cursor = conn.cursor()\n",
        "\n",
        "#SQL command to select all rows from the customers table\n",
        "select_query = 'SELECT * FROM customers'\n",
        "\n",
        "#execute the query\n",
        "cursor.execute(select_query)\n",
        "\n",
        "#this will return all records from the \"customers\" table\n",
        "rows = cursor.fetchall()\n",
        "\n",
        "#check if rows were found and print them\n",
        "if rows:\n",
        "    print(\"Customer Records:\")\n",
        "    for row in rows:\n",
        "        print(row)\n",
        "else:\n",
        "    print(\"No records found.\")\n",
        "\n",
        "#close the connection\n",
        "conn.close()"
      ],
      "metadata": {
        "colab": {
          "base_uri": "https://localhost:8080/"
        },
        "id": "wyRcHS4s4zxB",
        "outputId": "3b8e7969-0fdc-4d9d-e777-a9e6e9e17671"
      },
      "execution_count": 145,
      "outputs": [
        {
          "output_type": "stream",
          "name": "stdout",
          "text": [
            "No records found.\n"
          ]
        }
      ]
    },
    {
      "cell_type": "code",
      "source": [
        "#inserts information about a new customer into our database\n",
        "\n",
        "%%sql\n",
        "INSERT INTO customers (customernumber, customername, phonenumber, postalcode, datecreated, email)\n",
        "VALUES (4, 'Fred Smith', '555-1234', '12345', strftime('%s', 'now'), 'fred@example.com');\n"
      ],
      "metadata": {
        "id": "xI8X0Uj48Qqa",
        "colab": {
          "base_uri": "https://localhost:8080/"
        },
        "outputId": "57180d56-43b5-4fd5-e209-6d6df341e444"
      },
      "execution_count": 146,
      "outputs": [
        {
          "output_type": "stream",
          "name": "stdout",
          "text": [
            " * sqlite:////content/drive/MyDrive/inventory.db\n",
            "   sqlite:///db.path\n",
            "1 rows affected.\n"
          ]
        },
        {
          "output_type": "execute_result",
          "data": {
            "text/plain": [
              "[]"
            ]
          },
          "metadata": {},
          "execution_count": 146
        }
      ]
    },
    {
      "cell_type": "code",
      "source": [
        "#run SQL query to select all records from the \"customers\" table\n",
        "\n",
        "%%sql\n",
        "SELECT * FROM customers;"
      ],
      "metadata": {
        "id": "iM1BxKz8n5Nw",
        "colab": {
          "base_uri": "https://localhost:8080/",
          "height": 114
        },
        "outputId": "848e2475-826d-48a4-f294-941235d6c907"
      },
      "execution_count": 147,
      "outputs": [
        {
          "output_type": "stream",
          "name": "stdout",
          "text": [
            " * sqlite:////content/drive/MyDrive/inventory.db\n",
            "   sqlite:///db.path\n",
            "Done.\n"
          ]
        },
        {
          "output_type": "execute_result",
          "data": {
            "text/plain": [
              "[(4, 'Fred Smith', '555-1234', '12345', 1727581986, 'fred@example.com')]"
            ],
            "text/html": [
              "<table>\n",
              "    <thead>\n",
              "        <tr>\n",
              "            <th>customernumber</th>\n",
              "            <th>customername</th>\n",
              "            <th>phonenumber</th>\n",
              "            <th>postalcode</th>\n",
              "            <th>datecreated</th>\n",
              "            <th>email</th>\n",
              "        </tr>\n",
              "    </thead>\n",
              "    <tbody>\n",
              "        <tr>\n",
              "            <td>4</td>\n",
              "            <td>Fred Smith</td>\n",
              "            <td>555-1234</td>\n",
              "            <td>12345</td>\n",
              "            <td>1727581986</td>\n",
              "            <td>fred@example.com</td>\n",
              "        </tr>\n",
              "    </tbody>\n",
              "</table>"
            ]
          },
          "metadata": {},
          "execution_count": 147
        }
      ]
    },
    {
      "cell_type": "code",
      "source": [
        "#ADDING THE \"ORDERS\" TABLE\n",
        "\n",
        "\n",
        "import sqlite3\n",
        "\n",
        "\n",
        "conn = sqlite3.connect(db_path)\n",
        "\n",
        "cursor = conn.cursor()\n",
        "\n",
        "create_table_query = '''\n",
        "CREATE TABLE orders (\n",
        "    customernumber TEXT NOT NULL,\n",
        "    ordernumber TEXT PRIMARY KEY,\n",
        "    comments TEXT,\n",
        "    orderdate TEXT,\n",
        "    ordertype TEXT,\n",
        "    shipdate TEXT,\n",
        "    discount REAL,\n",
        "    quantity INTEGER,\n",
        "    productnumber TEXT\n",
        "    price INTEGER,\n",
        "    FOREIGN KEY (customernumber) REFERENCES customers(customernumber)\n",
        ");\n",
        "'''\n",
        "\n",
        "try:\n",
        "  cursor.execute(create_table_query)\n",
        "\n",
        "except Exception as e:\n",
        "  print(e)\n",
        "\n",
        "conn.commit()\n",
        "\n",
        "conn.close()\n"
      ],
      "metadata": {
        "id": "JQhSmooffuci"
      },
      "execution_count": 148,
      "outputs": []
    },
    {
      "cell_type": "code",
      "source": [
        "%%sql\n",
        "insert into orders(customernumber,\n",
        "    ordernumber,\n",
        "    quantity,\n",
        "    productnumber)\n",
        "  values(7,8,123,105);"
      ],
      "metadata": {
        "colab": {
          "base_uri": "https://localhost:8080/"
        },
        "id": "Mz5nLZQw3FfD",
        "outputId": "edfdaee6-212f-4604-bc68-b0c67e81ba4d"
      },
      "execution_count": 149,
      "outputs": [
        {
          "output_type": "stream",
          "name": "stdout",
          "text": [
            " * sqlite:////content/drive/MyDrive/inventory.db\n",
            "   sqlite:///db.path\n",
            "(sqlite3.IntegrityError) FOREIGN KEY constraint failed\n",
            "[SQL: insert into orders(customernumber,\n",
            "    ordernumber,\n",
            "    quantity,\n",
            "    productnumber)\n",
            "  values(7,8,123,105);]\n",
            "(Background on this error at: https://sqlalche.me/e/20/gkpj)\n"
          ]
        }
      ]
    },
    {
      "cell_type": "code",
      "source": [
        "%%sql\n",
        "insert into orders(customernumber,ordernumber,quantity, productnumber)\n",
        "  values(4,11, 8,123);"
      ],
      "metadata": {
        "colab": {
          "base_uri": "https://localhost:8080/"
        },
        "id": "cd_YwkaL33ry",
        "outputId": "495a4487-bde6-4b23-af77-1963227d07ee"
      },
      "execution_count": 150,
      "outputs": [
        {
          "output_type": "stream",
          "name": "stdout",
          "text": [
            " * sqlite:////content/drive/MyDrive/inventory.db\n",
            "   sqlite:///db.path\n",
            "1 rows affected.\n"
          ]
        },
        {
          "output_type": "execute_result",
          "data": {
            "text/plain": [
              "[]"
            ]
          },
          "metadata": {},
          "execution_count": 150
        }
      ]
    },
    {
      "cell_type": "code",
      "source": [
        "%%sql\n",
        "\n",
        "SELECT * FROM orders;"
      ],
      "metadata": {
        "colab": {
          "base_uri": "https://localhost:8080/",
          "height": 134
        },
        "id": "sB2QdulMhk-z",
        "outputId": "469e652e-3840-4ce0-83ae-9285a1e0c8a3"
      },
      "execution_count": 151,
      "outputs": [
        {
          "output_type": "stream",
          "name": "stdout",
          "text": [
            " * sqlite:////content/drive/MyDrive/inventory.db\n",
            "   sqlite:///db.path\n",
            "Done.\n"
          ]
        },
        {
          "output_type": "execute_result",
          "data": {
            "text/plain": [
              "[('4', '11', None, None, None, None, None, 8, 123)]"
            ],
            "text/html": [
              "<table>\n",
              "    <thead>\n",
              "        <tr>\n",
              "            <th>customernumber</th>\n",
              "            <th>ordernumber</th>\n",
              "            <th>comments</th>\n",
              "            <th>orderdate</th>\n",
              "            <th>ordertype</th>\n",
              "            <th>shipdate</th>\n",
              "            <th>discount</th>\n",
              "            <th>quantity</th>\n",
              "            <th>productnumber</th>\n",
              "        </tr>\n",
              "    </thead>\n",
              "    <tbody>\n",
              "        <tr>\n",
              "            <td>4</td>\n",
              "            <td>11</td>\n",
              "            <td>None</td>\n",
              "            <td>None</td>\n",
              "            <td>None</td>\n",
              "            <td>None</td>\n",
              "            <td>None</td>\n",
              "            <td>8</td>\n",
              "            <td>123</td>\n",
              "        </tr>\n",
              "    </tbody>\n",
              "</table>"
            ]
          },
          "metadata": {},
          "execution_count": 151
        }
      ]
    },
    {
      "cell_type": "code",
      "source": [
        "#command to view the tables we created\n",
        "\n",
        "%%sql\n",
        "PRAGMA table_info(orders);"
      ],
      "metadata": {
        "colab": {
          "base_uri": "https://localhost:8080/",
          "height": 302
        },
        "id": "aiMixTqU9vrT",
        "outputId": "747f5793-3bfd-4f5d-9dce-8b8e28d9aa1c"
      },
      "execution_count": 152,
      "outputs": [
        {
          "output_type": "stream",
          "name": "stdout",
          "text": [
            " * sqlite:////content/drive/MyDrive/inventory.db\n",
            "   sqlite:///db.path\n",
            "Done.\n"
          ]
        },
        {
          "output_type": "execute_result",
          "data": {
            "text/plain": [
              "[(0, 'customernumber', 'TEXT', 1, None, 0),\n",
              " (1, 'ordernumber', 'TEXT', 0, None, 1),\n",
              " (2, 'comments', 'TEXT', 0, None, 0),\n",
              " (3, 'orderdate', 'TEXT', 0, None, 0),\n",
              " (4, 'ordertype', 'TEXT', 0, None, 0),\n",
              " (5, 'shipdate', 'TEXT', 0, None, 0),\n",
              " (6, 'discount', 'REAL', 0, None, 0),\n",
              " (7, 'quantity', 'INTEGER', 0, None, 0),\n",
              " (8, 'productnumber', 'TEXT\\n    price INTEGER', 0, None, 0)]"
            ],
            "text/html": [
              "<table>\n",
              "    <thead>\n",
              "        <tr>\n",
              "            <th>cid</th>\n",
              "            <th>name</th>\n",
              "            <th>type</th>\n",
              "            <th>notnull</th>\n",
              "            <th>dflt_value</th>\n",
              "            <th>pk</th>\n",
              "        </tr>\n",
              "    </thead>\n",
              "    <tbody>\n",
              "        <tr>\n",
              "            <td>0</td>\n",
              "            <td>customernumber</td>\n",
              "            <td>TEXT</td>\n",
              "            <td>1</td>\n",
              "            <td>None</td>\n",
              "            <td>0</td>\n",
              "        </tr>\n",
              "        <tr>\n",
              "            <td>1</td>\n",
              "            <td>ordernumber</td>\n",
              "            <td>TEXT</td>\n",
              "            <td>0</td>\n",
              "            <td>None</td>\n",
              "            <td>1</td>\n",
              "        </tr>\n",
              "        <tr>\n",
              "            <td>2</td>\n",
              "            <td>comments</td>\n",
              "            <td>TEXT</td>\n",
              "            <td>0</td>\n",
              "            <td>None</td>\n",
              "            <td>0</td>\n",
              "        </tr>\n",
              "        <tr>\n",
              "            <td>3</td>\n",
              "            <td>orderdate</td>\n",
              "            <td>TEXT</td>\n",
              "            <td>0</td>\n",
              "            <td>None</td>\n",
              "            <td>0</td>\n",
              "        </tr>\n",
              "        <tr>\n",
              "            <td>4</td>\n",
              "            <td>ordertype</td>\n",
              "            <td>TEXT</td>\n",
              "            <td>0</td>\n",
              "            <td>None</td>\n",
              "            <td>0</td>\n",
              "        </tr>\n",
              "        <tr>\n",
              "            <td>5</td>\n",
              "            <td>shipdate</td>\n",
              "            <td>TEXT</td>\n",
              "            <td>0</td>\n",
              "            <td>None</td>\n",
              "            <td>0</td>\n",
              "        </tr>\n",
              "        <tr>\n",
              "            <td>6</td>\n",
              "            <td>discount</td>\n",
              "            <td>REAL</td>\n",
              "            <td>0</td>\n",
              "            <td>None</td>\n",
              "            <td>0</td>\n",
              "        </tr>\n",
              "        <tr>\n",
              "            <td>7</td>\n",
              "            <td>quantity</td>\n",
              "            <td>INTEGER</td>\n",
              "            <td>0</td>\n",
              "            <td>None</td>\n",
              "            <td>0</td>\n",
              "        </tr>\n",
              "        <tr>\n",
              "            <td>8</td>\n",
              "            <td>productnumber</td>\n",
              "            <td>TEXT<br>    price INTEGER</td>\n",
              "            <td>0</td>\n",
              "            <td>None</td>\n",
              "            <td>0</td>\n",
              "        </tr>\n",
              "    </tbody>\n",
              "</table>"
            ]
          },
          "metadata": {},
          "execution_count": 152
        }
      ]
    },
    {
      "cell_type": "code",
      "source": [
        "#command to view the tables we created\n",
        "\n",
        "%%sql\n",
        "PRAGMA table_info(customers);\n"
      ],
      "metadata": {
        "colab": {
          "base_uri": "https://localhost:8080/",
          "height": 221
        },
        "id": "oIfFYOlj1E-4",
        "outputId": "57cacc4f-f890-467f-fbdc-f53783ec4120"
      },
      "execution_count": 154,
      "outputs": [
        {
          "output_type": "stream",
          "name": "stdout",
          "text": [
            " * sqlite:////content/drive/MyDrive/inventory.db\n",
            "   sqlite:///db.path\n",
            "Done.\n"
          ]
        },
        {
          "output_type": "execute_result",
          "data": {
            "text/plain": [
              "[(0, 'customernumber', 'INTEGER', 0, None, 1),\n",
              " (1, 'customername', 'TEXT', 0, None, 0),\n",
              " (2, 'phonenumber', 'TEXT', 0, None, 0),\n",
              " (3, 'postalcode', 'TEXT', 0, None, 0),\n",
              " (4, 'datecreated', 'INT', 0, None, 0),\n",
              " (5, 'email', 'TEXT', 0, None, 0)]"
            ],
            "text/html": [
              "<table>\n",
              "    <thead>\n",
              "        <tr>\n",
              "            <th>cid</th>\n",
              "            <th>name</th>\n",
              "            <th>type</th>\n",
              "            <th>notnull</th>\n",
              "            <th>dflt_value</th>\n",
              "            <th>pk</th>\n",
              "        </tr>\n",
              "    </thead>\n",
              "    <tbody>\n",
              "        <tr>\n",
              "            <td>0</td>\n",
              "            <td>customernumber</td>\n",
              "            <td>INTEGER</td>\n",
              "            <td>0</td>\n",
              "            <td>None</td>\n",
              "            <td>1</td>\n",
              "        </tr>\n",
              "        <tr>\n",
              "            <td>1</td>\n",
              "            <td>customername</td>\n",
              "            <td>TEXT</td>\n",
              "            <td>0</td>\n",
              "            <td>None</td>\n",
              "            <td>0</td>\n",
              "        </tr>\n",
              "        <tr>\n",
              "            <td>2</td>\n",
              "            <td>phonenumber</td>\n",
              "            <td>TEXT</td>\n",
              "            <td>0</td>\n",
              "            <td>None</td>\n",
              "            <td>0</td>\n",
              "        </tr>\n",
              "        <tr>\n",
              "            <td>3</td>\n",
              "            <td>postalcode</td>\n",
              "            <td>TEXT</td>\n",
              "            <td>0</td>\n",
              "            <td>None</td>\n",
              "            <td>0</td>\n",
              "        </tr>\n",
              "        <tr>\n",
              "            <td>4</td>\n",
              "            <td>datecreated</td>\n",
              "            <td>INT</td>\n",
              "            <td>0</td>\n",
              "            <td>None</td>\n",
              "            <td>0</td>\n",
              "        </tr>\n",
              "        <tr>\n",
              "            <td>5</td>\n",
              "            <td>email</td>\n",
              "            <td>TEXT</td>\n",
              "            <td>0</td>\n",
              "            <td>None</td>\n",
              "            <td>0</td>\n",
              "        </tr>\n",
              "    </tbody>\n",
              "</table>"
            ]
          },
          "metadata": {},
          "execution_count": 154
        }
      ]
    }
  ]
}