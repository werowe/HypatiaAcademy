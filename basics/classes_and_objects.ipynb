{
  "nbformat": 4,
  "nbformat_minor": 0,
  "metadata": {
    "colab": {
      "provenance": [],
      "authorship_tag": "ABX9TyNHfpwlMFYBz1r1QprIBWL7",
      "include_colab_link": true
    },
    "kernelspec": {
      "name": "python3",
      "display_name": "Python 3"
    },
    "language_info": {
      "name": "python"
    }
  },
  "cells": [
    {
      "cell_type": "markdown",
      "metadata": {
        "id": "view-in-github",
        "colab_type": "text"
      },
      "source": [
        "<a href=\"https://colab.research.google.com/github/werowe/HypatiaAcademy/blob/master/basics/classes_and_objects.ipynb\" target=\"_parent\"><img src=\"https://colab.research.google.com/assets/colab-badge.svg\" alt=\"Open In Colab\"/></a>"
      ]
    },
    {
      "cell_type": "code",
      "execution_count": 23,
      "metadata": {
        "id": "ZWT7C-Rf91C7"
      },
      "outputs": [],
      "source": [
        "class Team:\n",
        "\n",
        "\n",
        "\n",
        "    def __init__(self,teamName):\n",
        "        self.teamName=teamName\n",
        "        self.games = []\n",
        "        self.players = []\n",
        "\n",
        "    def addGame(self, game):\n",
        "        self.games.append(game)\n",
        "\n",
        "    def addPlayer(self, player):\n",
        "        self.players.append(player)\n",
        "\n",
        "    def removePlayer(self, player):\n",
        "\n",
        "        self.players.remove(player)\n",
        "\n",
        "\n",
        "\n",
        "class Game:\n",
        "\n",
        "  def __init__(self,team, teamScore,opponentScore,gameDate):\n",
        "        self.opponent=team\n",
        "        self.teamScore = teamScore\n",
        "        self.opponentScore = opponentScore\n",
        "        self.gameDate = gameDate\n",
        "\n",
        "class Player:\n",
        "\n",
        "  def __init__(self,name, salary, dob):\n",
        "        self.name=name\n",
        "        self.salary = salary\n",
        "        self.dob = dob\n",
        "        self.goals=0\n",
        "\n",
        "\n",
        "  def __eq__(self,other):\n",
        "\n",
        "      return self.name == other.name and self.dob == other.dob\n",
        "\n",
        "  def __repr__(self):\n",
        "\n",
        "      return \"player name {} birthdate {}\". format(self.name, self.dob)"
      ]
    },
    {
      "cell_type": "code",
      "source": [
        "from datetime import datetime\n",
        "\n",
        "realMadrid=Team(\"Real Madrid\")\n",
        "\n",
        "messi=Player(\"Lionel Messi\", 200, datetime.strptime(\"1990-01-01\", \"%Y-%m-%d\"))\n",
        "\n",
        "ronaldo=Player(\"Christian Ronaldo\", 400, datetime.strptime(\"1997-01-01\", \"%Y-%m-%d\"))\n",
        "\n",
        "messiTwin=Player(\"Lionel Messi\", 200, datetime.strptime(\"1990-01-01\", \"%Y-%m-%d\"))\n",
        "\n",
        "realMadrid.addPlayer(messi)\n",
        "\n",
        "realMadrid.addPlayer(ronaldo)\n",
        "\n",
        "realMadrid.addPlayer(messiTwin)"
      ],
      "metadata": {
        "id": "uxmqWS-iBmyV"
      },
      "execution_count": 24,
      "outputs": []
    },
    {
      "cell_type": "code",
      "source": [
        "for p in realMadrid.players:\n",
        "  print(p)"
      ],
      "metadata": {
        "colab": {
          "base_uri": "https://localhost:8080/"
        },
        "id": "ZQ_jgDStDGIC",
        "outputId": "c8b03df4-ca51-4524-ec14-4fab75ab829d"
      },
      "execution_count": 25,
      "outputs": [
        {
          "output_type": "stream",
          "name": "stdout",
          "text": [
            "player name Lionel Messi birthdate 1990-01-01 00:00:00\n",
            "player name Christian Ronaldo birthdate 1997-01-01 00:00:00\n",
            "player name Lionel Messi birthdate 1990-01-01 00:00:00\n"
          ]
        }
      ]
    },
    {
      "cell_type": "code",
      "source": [
        "messiTwin == messi"
      ],
      "metadata": {
        "colab": {
          "base_uri": "https://localhost:8080/"
        },
        "id": "MR1miA5HFapp",
        "outputId": "5f6fc2a4-071f-4e72-b961-ca015a1ae3cf"
      },
      "execution_count": 16,
      "outputs": [
        {
          "output_type": "execute_result",
          "data": {
            "text/plain": [
              "True"
            ]
          },
          "metadata": {},
          "execution_count": 16
        }
      ]
    },
    {
      "cell_type": "code",
      "source": [
        "messi==ronaldo"
      ],
      "metadata": {
        "colab": {
          "base_uri": "https://localhost:8080/"
        },
        "id": "LllCBL-pF_A_",
        "outputId": "a8c409eb-2258-4b6f-9a8a-71ba78c9acaa"
      },
      "execution_count": 18,
      "outputs": [
        {
          "output_type": "execute_result",
          "data": {
            "text/plain": [
              "False"
            ]
          },
          "metadata": {},
          "execution_count": 18
        }
      ]
    },
    {
      "cell_type": "code",
      "source": [
        "realMadrid.removePlayer(ronaldo)"
      ],
      "metadata": {
        "id": "jkG1_lvVGKJd"
      },
      "execution_count": 26,
      "outputs": []
    },
    {
      "cell_type": "code",
      "source": [
        "for p in realMadrid.players:\n",
        "  print(p)"
      ],
      "metadata": {
        "colab": {
          "base_uri": "https://localhost:8080/"
        },
        "id": "tgb-C_d7Gki3",
        "outputId": "8a9af822-2149-4eb1-aa57-b5700c7b8208"
      },
      "execution_count": 27,
      "outputs": [
        {
          "output_type": "stream",
          "name": "stdout",
          "text": [
            "player name Lionel Messi birthdate 1990-01-01 00:00:00\n",
            "player name Lionel Messi birthdate 1990-01-01 00:00:00\n"
          ]
        }
      ]
    }
  ]
}