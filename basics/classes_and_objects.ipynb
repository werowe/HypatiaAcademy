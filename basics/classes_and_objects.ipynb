{
  "nbformat": 4,
  "nbformat_minor": 0,
  "metadata": {
    "colab": {
      "provenance": [],
      "authorship_tag": "ABX9TyOOpv08Pg58wEJlcpTBlHZ1",
      "include_colab_link": true
    },
    "kernelspec": {
      "name": "python3",
      "display_name": "Python 3"
    },
    "language_info": {
      "name": "python"
    }
  },
  "cells": [
    {
      "cell_type": "markdown",
      "metadata": {
        "id": "view-in-github",
        "colab_type": "text"
      },
      "source": [
        "<a href=\"https://colab.research.google.com/github/werowe/HypatiaAcademy/blob/master/basics/classes_and_objects.ipynb\" target=\"_parent\"><img src=\"https://colab.research.google.com/assets/colab-badge.svg\" alt=\"Open In Colab\"/></a>"
      ]
    },
    {
      "cell_type": "code",
      "execution_count": 78,
      "metadata": {
        "id": "ZWT7C-Rf91C7"
      },
      "outputs": [],
      "source": [
        "class Team:\n",
        "\n",
        "\n",
        "\n",
        "    def __init__(self,teamName):\n",
        "        self.teamName=teamName\n",
        "        self.games = []\n",
        "        self.players = []\n",
        "\n",
        "    def addGame(self, game):\n",
        "        self.games.append(game)\n",
        "\n",
        "    def addPlayer(self, player):\n",
        "        self.players.append(player)\n",
        "\n",
        "    def removePlayer(self, player):\n",
        "\n",
        "      idx = 0\n",
        "      for p in self.players:\n",
        "        if player.isequal(p):\n",
        "          del self.players[idx]\n",
        "        idx=+1\n",
        "\n",
        "\n",
        "    def isequal():\n",
        "\n",
        "      pass\n",
        "\n",
        "    def tostring():\n",
        "\n",
        "      pass\n",
        "\n",
        "class Game:\n",
        "\n",
        "  def __init__(self,opponent, teamScore,opponentScore):\n",
        "        self.opponent=opponent\n",
        "        self.teamScore = teamScore\n",
        "        self.opponentScore = opponentScore\n",
        "\n",
        "class Player:\n",
        "\n",
        "  def __init__(self,name, salary, birthDate):\n",
        "        self.name=name\n",
        "        self.salary = salary\n",
        "        self.birthDate = birthDate\n",
        "        self.goals=0\n",
        "\n",
        "  def isequal(self,player):\n",
        "    return self.name == player.name and self.birthDate == player.birthDate\n",
        "\n",
        "  def tostring(self):\n",
        "    return ' '.join([self.name, self.birthDate.strftime(\"%Y-%m-%d\"), str(self.salary),str(self.goals)])\n"
      ]
    },
    {
      "cell_type": "code",
      "source": [
        "from datetime import datetime\n",
        "\n",
        "realMadrid=Team(\"Real Madrid\")\n",
        "\n",
        "messi=Player(\"Lionel Messi\", 200, datetime.strptime(\"1990-01-01\", \"%Y-%m-%d\"))\n",
        "\n",
        "ronaldo=Player(\"Christian Ronaldo\", 400, datetime.strptime(\"1997-01-01\", \"%Y-%m-%d\"))\n",
        "\n",
        "messiTwin=Player(\"Lionel Messi\", 200, datetime.strptime(\"1990-01-01\", \"%Y-%m-%d\"))\n",
        "\n",
        "realMadrid.addPlayer(messi)\n",
        "\n",
        "realMadrid.addPlayer(ronaldo)\n",
        "\n",
        "realMadrid.addPlayer(messiTwin)"
      ],
      "metadata": {
        "id": "uxmqWS-iBmyV"
      },
      "execution_count": 85,
      "outputs": []
    },
    {
      "cell_type": "code",
      "source": [
        "for p in realMadrid.players:\n",
        "  print(p.tostring())"
      ],
      "metadata": {
        "colab": {
          "base_uri": "https://localhost:8080/"
        },
        "id": "ZQ_jgDStDGIC",
        "outputId": "2e41a4ef-73ea-4f7c-f27e-bd0636632d7f"
      },
      "execution_count": 80,
      "outputs": [
        {
          "output_type": "stream",
          "name": "stdout",
          "text": [
            "Lionel Messi 1990-01-01 200 0\n",
            "Christian Ronaldo 1997-01-01 400 0\n",
            "Lionel Messi 1990-01-01 200 0\n"
          ]
        }
      ]
    },
    {
      "cell_type": "code",
      "source": [
        "messiTwin.isequal(messi)"
      ],
      "metadata": {
        "colab": {
          "base_uri": "https://localhost:8080/"
        },
        "id": "MR1miA5HFapp",
        "outputId": "1ee59016-8014-4a79-d06c-2907ae1172e1"
      },
      "execution_count": 62,
      "outputs": [
        {
          "output_type": "execute_result",
          "data": {
            "text/plain": [
              "True"
            ]
          },
          "metadata": {},
          "execution_count": 62
        }
      ]
    },
    {
      "cell_type": "code",
      "source": [
        "messi.isequal(ronaldo)"
      ],
      "metadata": {
        "colab": {
          "base_uri": "https://localhost:8080/"
        },
        "id": "LllCBL-pF_A_",
        "outputId": "0cb4c8d1-8800-4525-d58a-cac3b3692b60"
      },
      "execution_count": 64,
      "outputs": [
        {
          "output_type": "execute_result",
          "data": {
            "text/plain": [
              "False"
            ]
          },
          "metadata": {},
          "execution_count": 64
        }
      ]
    },
    {
      "cell_type": "code",
      "source": [
        "realMadrid.removePlayer(ronaldo)"
      ],
      "metadata": {
        "id": "jkG1_lvVGKJd"
      },
      "execution_count": 86,
      "outputs": []
    },
    {
      "cell_type": "code",
      "source": [
        "for p in realMadrid.players:\n",
        "  print(p.tostring())"
      ],
      "metadata": {
        "colab": {
          "base_uri": "https://localhost:8080/"
        },
        "id": "tgb-C_d7Gki3",
        "outputId": "995f2fd9-47c2-4103-e949-2d4ea0d0e97b"
      },
      "execution_count": 87,
      "outputs": [
        {
          "output_type": "stream",
          "name": "stdout",
          "text": [
            "Lionel Messi 1990-01-01 200 0\n",
            "Lionel Messi 1990-01-01 200 0\n"
          ]
        }
      ]
    }
  ]
}