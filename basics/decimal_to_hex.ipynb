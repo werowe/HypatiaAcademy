{
  "cells": [
    {
      "cell_type": "markdown",
      "metadata": {
        "id": "view-in-github",
        "colab_type": "text"
      },
      "source": [
        "<a href=\"https://colab.research.google.com/github/werowe/HypatiaAcademy/blob/master/basics/decimal_to_hex.ipynb\" target=\"_parent\"><img src=\"https://colab.research.google.com/assets/colab-badge.svg\" alt=\"Open In Colab\"/></a>"
      ]
    },
    {
      "cell_type": "markdown",
      "source": [
        "# Convert Decimal Number to Hexadecimal\n",
        "\n",
        "This algorithm is explained in [this spreadsheet](https://docs.google.com/spreadsheets/d/1AgAsVTlWRKdYm9JaVSF3xh4hcf0kQclIaMNz5Jj4BxY/edit?usp=sharing).\n",
        "\n"
      ],
      "metadata": {
        "id": "Cv8MG3Z_D7My"
      },
      "id": "Cv8MG3Z_D7My"
    },
    {
      "cell_type": "code",
      "execution_count": null,
      "id": "34dda760",
      "metadata": {
        "id": "34dda760",
        "outputId": "a2340702-b8aa-4812-907c-b00606961fa5",
        "colab": {
          "base_uri": "https://localhost:8080/"
        }
      },
      "outputs": [
        {
          "output_type": "stream",
          "name": "stdout",
          "text": [
            "decimal= 4095\n",
            "==============\n",
            "exponent= 2\n",
            "coefficient= 15\n",
            "remainder= 255\n",
            "==============\n",
            "exponent= 1\n",
            "coefficient= 15\n",
            "remainder= 15\n",
            "==============\n",
            "exponent= 0\n",
            "coefficient= 15\n",
            "remainder= 0\n",
            "==============\n",
            "coefficients ['F', 'F', 'F']\n",
            "decimal written in hex= FFF\n",
            "check: decimal from hex= 4095\n"
          ]
        }
      ],
      "source": [
        "import math\n",
        "\n",
        "# enter decimal to convert here:\n",
        "\n",
        "#decimal=165333\n",
        "\n",
        "decimal=4095\n",
        "\n",
        "# loop log base 16 times + 1 times\n",
        "\n",
        "exponent=int(math.log(decimal,16))\n",
        "\n",
        "remainder=decimal\n",
        "coeffs=[]\n",
        "\n",
        "print(\"decimal=\",decimal)\n",
        "print(\"==============\")\n",
        "hexchars=[\"0\",\"1\",\"2\",\"3\",\"4\",\"5\",\"6\",\"7\",\"8\",\"9\", \"A\", \"B\", \"C\", \"D\", \"E\", \"F\"]\n",
        "\n",
        "while (exponent >= 0):\n",
        "    print(\"exponent=\", exponent)\n",
        "    if remainder < 16**exponent:\n",
        "        coefficient=0\n",
        "    else:\n",
        "        coefficient=int(remainder/16**exponent)\n",
        "        remainder=remainder-coefficient*16**exponent\n",
        "    print(\"coefficient=\",  coefficient)\n",
        "    print(\"remainder=\", remainder)\n",
        "    coeffs.append(hexchars[coefficient])\n",
        "    exponent=exponent-1\n",
        "    print(\"==============\")\n",
        "\n",
        "print(\"coefficients\", coeffs)\n",
        "\n",
        "letters=\"\"\n",
        "\n",
        "for c in coeffs:\n",
        "    letters = letters+str(c)\n",
        "\n",
        "print(\"decimal written in hex=\", letters)\n",
        "print(\"check: decimal from hex=\", int(\"0x\"+letters, base=16))"
      ]
    },
    {
      "cell_type": "code",
      "execution_count": null,
      "id": "6373bc27",
      "metadata": {
        "id": "6373bc27",
        "colab": {
          "base_uri": "https://localhost:8080/"
        },
        "outputId": "907b2892-2d1b-4289-a201-a87476a54e31"
      },
      "outputs": [
        {
          "output_type": "execute_result",
          "data": {
            "text/plain": [
              "4095"
            ]
          },
          "metadata": {},
          "execution_count": 6
        }
      ],
      "source": [
        "int('FFF',16)\n",
        "\n"
      ]
    }
  ],
  "metadata": {
    "kernelspec": {
      "display_name": "Python 3 (ipykernel)",
      "language": "python",
      "name": "python3"
    },
    "language_info": {
      "codemirror_mode": {
        "name": "ipython",
        "version": 3
      },
      "file_extension": ".py",
      "mimetype": "text/x-python",
      "name": "python",
      "nbconvert_exporter": "python",
      "pygments_lexer": "ipython3",
      "version": "3.8.9"
    },
    "colab": {
      "provenance": [],
      "include_colab_link": true
    }
  },
  "nbformat": 4,
  "nbformat_minor": 5
}