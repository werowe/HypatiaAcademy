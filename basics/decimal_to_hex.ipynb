{
  "cells": [
    {
      "cell_type": "markdown",
      "metadata": {
        "id": "view-in-github",
        "colab_type": "text"
      },
      "source": [
        "<a href=\"https://colab.research.google.com/github/werowe/HypatiaAcademy/blob/master/basics/decimal_to_hex.ipynb\" target=\"_parent\"><img src=\"https://colab.research.google.com/assets/colab-badge.svg\" alt=\"Open In Colab\"/></a>"
      ]
    },
    {
      "cell_type": "markdown",
      "source": [
        "# Convert Ddecimal Number to Hexadecimal\n",
        "The idea is to convert, for example decimal 165333 into hex 28FD5.\n",
        "\n",
        "This works by continually dividing by a power of 16 and translating the digits from 0 to 15 to 0 to F.\n",
        "\n",
        "\n",
        "\n",
        "```\n",
        "the first coefficient is the original number divided by the logartihm based 16 of the original number\n",
        "\n",
        "For example, if the original number is 165333 then the coefficient is 165333 -  log base 16 (165333)\n",
        "\n",
        "2 = 165333 / 16 ^ 4\n",
        "\n",
        "```\n",
        "\n",
        "\n",
        "```\n",
        "we use logarithm base 16 to figure out\n",
        "how many letters out answer should have\n",
        "It's 4+1 = 5 in this example 165333\n",
        "basically this is because FFFF is too small\n",
        "and FFFFF is too large.  So it's in the middle.\n",
        "```\n",
        "\n",
        "\n",
        "\n",
        "```\n",
        "definitions\n",
        "coefficient-means how many powers of 16 ^ exponent\n",
        "exponent-is the power of 16\n",
        "```\n",
        "\n",
        "\n",
        "\n",
        "```\n",
        "remainder is last number we calculated\n",
        "minus - (coefficient * power of 16)\n",
        "exponent decreases by 1 as we go from left to right\n",
        "```\n",
        "\n",
        "\n",
        "\n",
        "```\n",
        "for example here:\n",
        "what is the coefficient when\n",
        "exponent is 2 and\n",
        "remainder is 1493\n",
        "```\n"
      ],
      "metadata": {
        "id": "Cv8MG3Z_D7My"
      },
      "id": "Cv8MG3Z_D7My"
    },
    {
      "cell_type": "code",
      "execution_count": 2,
      "id": "34dda760",
      "metadata": {
        "id": "34dda760",
        "outputId": "5e791e0e-5c30-4e4a-8346-9b47748a8796",
        "colab": {
          "base_uri": "https://localhost:8080/"
        }
      },
      "outputs": [
        {
          "output_type": "stream",
          "name": "stdout",
          "text": [
            "decimal= 165333\n",
            "==============\n",
            "exponent= 4\n",
            "coefficient= 2\n",
            "remainder= 34261\n",
            "==============\n",
            "exponent= 3\n",
            "coefficient= 8\n",
            "remainder= 1493\n",
            "==============\n",
            "exponent= 2\n",
            "coefficient= 5\n",
            "remainder= 213\n",
            "==============\n",
            "exponent= 1\n",
            "coefficient= 13\n",
            "remainder= 5\n",
            "==============\n",
            "exponent= 0\n",
            "coefficient= 5\n",
            "remainder= 0\n",
            "==============\n",
            "coefficients ['2', '8', '5', 'D', '5']\n",
            "decimal written in hex= 285D5\n",
            "check: decimal from hex= 165333\n"
          ]
        }
      ],
      "source": [
        "import math\n",
        "\n",
        "# enter decimal to convert here:\n",
        "\n",
        "decimal=165333\n",
        "\n",
        "# loop log base 16 times\n",
        "\n",
        "exponent=int(math.log(decimal,16))\n",
        "\n",
        "remainder=decimal\n",
        "coeffs=[]\n",
        "\n",
        "print(\"decimal=\",decimal)\n",
        "print(\"==============\")\n",
        "hexchars=[\"0\",\"1\",\"2\",\"3\",\"4\",\"5\",\"6\",\"7\",\"8\",\"9\", \"A\", \"B\", \"C\", \"D\", \"E\", \"F\"]\n",
        "\n",
        "while (exponent >= 0):\n",
        "    print(\"exponent=\", exponent)\n",
        "    if remainder < 16**exponent:\n",
        "        coefficient=0\n",
        "    else:\n",
        "        coefficient=int(remainder/16**exponent)\n",
        "        remainder=remainder-coefficient*16**exponent\n",
        "    print(\"coefficient=\",  coefficient)\n",
        "    print(\"remainder=\", remainder)\n",
        "    coeffs.append(hexchars[coefficient])\n",
        "    exponent=exponent-1\n",
        "    print(\"==============\")\n",
        "\n",
        "print(\"coefficients\", coeffs)\n",
        "\n",
        "letters=\"\"\n",
        "\n",
        "for c in coeffs:\n",
        "    letters = letters+str(c)\n",
        "\n",
        "print(\"decimal written in hex=\", letters)\n",
        "print(\"check: decimal from hex=\", int(\"0x\"+letters, base=16))"
      ]
    },
    {
      "cell_type": "code",
      "execution_count": null,
      "id": "6373bc27",
      "metadata": {
        "id": "6373bc27"
      },
      "outputs": [],
      "source": []
    }
  ],
  "metadata": {
    "kernelspec": {
      "display_name": "Python 3 (ipykernel)",
      "language": "python",
      "name": "python3"
    },
    "language_info": {
      "codemirror_mode": {
        "name": "ipython",
        "version": 3
      },
      "file_extension": ".py",
      "mimetype": "text/x-python",
      "name": "python",
      "nbconvert_exporter": "python",
      "pygments_lexer": "ipython3",
      "version": "3.8.9"
    },
    "colab": {
      "provenance": [],
      "include_colab_link": true
    }
  },
  "nbformat": 4,
  "nbformat_minor": 5
}