{
  "cells": [
    {
      "cell_type": "markdown",
      "metadata": {
        "id": "view-in-github",
        "colab_type": "text"
      },
      "source": [
        "<a href=\"https://colab.research.google.com/github/werowe/HypatiaAcademy/blob/master/basics/decimal_to_hex.ipynb\" target=\"_parent\"><img src=\"https://colab.research.google.com/assets/colab-badge.svg\" alt=\"Open In Colab\"/></a>"
      ]
    },
    {
      "cell_type": "markdown",
      "source": [
        "# Convert Decimal Number to Hexadecimal\n",
        "If n is the number to convert then the logarithm will loop $log_{18}(n) + 1$ times.\n",
        "\n",
        "It loops once more than the integer portion of the exponent before we don't update the counter until the end of the loop.\n",
        "\n",
        "For example, if n is 256 then $log_{18}(256)=2$.  So we want to calculate coefficients for three exponents 2, 1, and 0 since:\n",
        "\n",
        "$$256=1*16**2 + 0*16**1 + 0*16**1$$\n",
        "\n",
        "\n",
        "We start with the higher order number, meaning the one furthest to the left.  This would be 16**2.  \n",
        "\n",
        "The algorithm:\n",
        "\n",
        "1. Set the initial remainder to the value we want to convert and the exponent, which we we use as a counter for the loop:\n",
        "\n",
        "```\n",
        "exponent=int(math.log(decimal,16))\n",
        "remainder=decimal\n",
        "```\n",
        "\n",
        "\n",
        "2.  Calculate the coefficient:\n",
        "\n",
        "```coefficient=int(remainder/16**exponent)```\n",
        "        \n",
        "3.  Calculate the remainder:\n",
        "\n",
        "```remainder=remainder-coefficient*16**exponent```\n",
        "\n",
        "4.  Decrement the exponent by 1 and stop when exponent=0.\n",
        "\n",
        "\n",
        "\n",
        "\n",
        "\n"
      ],
      "metadata": {
        "id": "Cv8MG3Z_D7My"
      },
      "id": "Cv8MG3Z_D7My"
    },
    {
      "cell_type": "code",
      "execution_count": 30,
      "id": "34dda760",
      "metadata": {
        "id": "34dda760",
        "outputId": "dd299dd8-921d-452e-837d-2569ce16794b",
        "colab": {
          "base_uri": "https://localhost:8080/"
        }
      },
      "outputs": [
        {
          "output_type": "stream",
          "name": "stdout",
          "text": [
            "number to convert= 256\n",
            "logartihm 2.0\n",
            "\n",
            "exponent= 2 coefficient= 1 remainder= 0\n",
            "\n",
            "exponent= 1 coefficient= 0 remainder= 0\n",
            "\n",
            "exponent= 0 coefficient= 0 remainder= 0\n",
            "\n",
            "decimal written in hex= 100\n",
            "\n",
            "check: hex from decimal= 0x100\n",
            "\n",
            "check: decimal from hex= 256\n"
          ]
        }
      ],
      "source": [
        "import math\n",
        "\n",
        "\n",
        "\n",
        "decimal=1*16**2 + 0*16**1 + 0*16**1\n",
        "\n",
        "\n",
        "print(\"number to convert=\",decimal)\n",
        "\n",
        "\n",
        "exponent=int(math.log(decimal,16))\n",
        "\n",
        "print(\"logartihm\", math.log(decimal,16))\n",
        "\n",
        "remainder=decimal\n",
        "coeffs=[]\n",
        "\n",
        "\n",
        "hexchars=[\"0\",\"1\",\"2\",\"3\",\"4\",\"5\",\"6\",\"7\",\"8\",\"9\", \"A\", \"B\", \"C\", \"D\", \"E\", \"F\"]\n",
        "\n",
        "while (exponent >= 0):\n",
        "\n",
        "    print(\"\\nexponent=\", exponent, end=\" \")\n",
        "\n",
        "    if remainder < 16**exponent:\n",
        "        coefficient=0\n",
        "    else:\n",
        "        coefficient=int(remainder/16**exponent)\n",
        "        remainder=remainder-coefficient*16**exponent\n",
        "\n",
        "    print(\"coefficient=\",  coefficient, end=\" \")\n",
        "    print(\"remainder=\", remainder)\n",
        "\n",
        "    coeffs.append(hexchars[coefficient])\n",
        "\n",
        "    exponent = exponent - 1\n",
        "\n",
        "\n",
        "letters=\"\"\n",
        "\n",
        "for c in coeffs:\n",
        "    letters = letters+str(c)\n",
        "\n",
        "print(\"\\ndecimal written in hex=\", letters)\n",
        "print(\"\\ncheck: hex from decimal=\", hex(decimal))\n",
        "print(\"\\ncheck: decimal from hex=\", int(\"0x\"+letters, base=16))"
      ]
    },
    {
      "cell_type": "code",
      "execution_count": 26,
      "id": "6373bc27",
      "metadata": {
        "id": "6373bc27",
        "colab": {
          "base_uri": "https://localhost:8080/"
        },
        "outputId": "8dbca2dc-0827-4348-b0b0-234c79eb074b"
      },
      "outputs": [
        {
          "output_type": "execute_result",
          "data": {
            "text/plain": [
              "256"
            ]
          },
          "metadata": {},
          "execution_count": 26
        }
      ],
      "source": [
        "16**2\n",
        "\n"
      ]
    }
  ],
  "metadata": {
    "kernelspec": {
      "display_name": "Python 3 (ipykernel)",
      "language": "python",
      "name": "python3"
    },
    "language_info": {
      "codemirror_mode": {
        "name": "ipython",
        "version": 3
      },
      "file_extension": ".py",
      "mimetype": "text/x-python",
      "name": "python",
      "nbconvert_exporter": "python",
      "pygments_lexer": "ipython3",
      "version": "3.8.9"
    },
    "colab": {
      "provenance": [],
      "include_colab_link": true
    }
  },
  "nbformat": 4,
  "nbformat_minor": 5
}