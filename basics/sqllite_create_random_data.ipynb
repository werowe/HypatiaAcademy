{
  "nbformat": 4,
  "nbformat_minor": 0,
  "metadata": {
    "colab": {
      "provenance": [],
      "authorship_tag": "ABX9TyOxQDY3JG2jxdKLRTpmBuHa",
      "include_colab_link": true
    },
    "kernelspec": {
      "name": "python3",
      "display_name": "Python 3"
    },
    "language_info": {
      "name": "python"
    }
  },
  "cells": [
    {
      "cell_type": "markdown",
      "metadata": {
        "id": "view-in-github",
        "colab_type": "text"
      },
      "source": [
        "<a href=\"https://colab.research.google.com/github/werowe/HypatiaAcademy/blob/master/basics/sqllite_create_random_data.ipynb\" target=\"_parent\"><img src=\"https://colab.research.google.com/assets/colab-badge.svg\" alt=\"Open In Colab\"/></a>"
      ]
    },
    {
      "cell_type": "markdown",
      "source": [
        "# Create Random Data\n",
        "\n",
        "<font color='red'>Now Create Data using the Tables you Created</font>\n",
        "\n",
        "\n",
        "Now that we have created data using insert and SQL we will do it with Python.\n",
        "\n",
        "Before we hard-coded our data.  Now we will insert random values.\n",
        "\n",
        "> **Definitions**\n",
        ">\n",
        "> When you have two tables one is called **parent** and the other is called **child**.  You can say **a parent has children** or **a child belongs to a parent**.  This just means that the tables connected to each other by some common element.\n",
        "\n",
        "\n",
        "The procedure is:\n",
        "\n",
        "1.  create tables\n",
        "2.  write some functions to create random information\n",
        "3.  insert data into the **parent** table\n",
        "4.  insert data into the **child** table\n",
        "\n",
        "When you are done write some SQL to show that it worked:\n",
        "\n",
        "```\n",
        "%%sql\n",
        "select * from parent;\n",
        "select * from child;\n",
        "```\n",
        "\n",
        "##Python Code\n",
        "\n",
        "Your Python code needs to work like this:\n",
        "\n",
        "1.  Create connection object.  Do not close this.  As long as it is open you can run multiple SQL statements.\n",
        "\n",
        "```\n",
        "conn = sqlite3.connect(db_path)\n",
        "```\n",
        "\n",
        "2.  Write Python code to insert records into the parent and child tables.\n",
        "\n",
        "3.  Close the connenction.\n",
        "\n",
        "```\n",
        "conn.close()\n",
        "```\n"
      ],
      "metadata": {
        "id": "6ge_k_-2ELCS"
      }
    },
    {
      "cell_type": "code",
      "source": [
        "%load_ext sql"
      ],
      "metadata": {
        "id": "Z5slljC3DX7i"
      },
      "execution_count": 1,
      "outputs": []
    },
    {
      "cell_type": "code",
      "source": [
        "%sql sqlite:////random.db"
      ],
      "metadata": {
        "id": "5Kree5jVDZW5"
      },
      "execution_count": 3,
      "outputs": []
    },
    {
      "cell_type": "code",
      "source": [
        "%%sql\n",
        "\n",
        "CREATE TABLE parent\n",
        "  (\n",
        "    parent_id INTEGER PRIMARY KEY AUTOINCREMENT,\n",
        "    parent_name text,\n",
        "    date_created text\n",
        "  );\n",
        "\n",
        "CREATE TABLE child\n",
        "  (\n",
        "    child_id INTEGER PRIMARY KEY AUTOINCREMENT,\n",
        "    parent_id INTEGER,\n",
        "    child_name text,\n",
        "    date_created text\n",
        "  );\n",
        "\n"
      ],
      "metadata": {
        "colab": {
          "base_uri": "https://localhost:8080/"
        },
        "id": "bjhDxIBsDJXq",
        "outputId": "55808caa-b838-46e8-8351-d74dc432d0df"
      },
      "execution_count": 4,
      "outputs": [
        {
          "output_type": "stream",
          "name": "stdout",
          "text": [
            " * sqlite:////random.db\n",
            "Done.\n",
            "Done.\n"
          ]
        },
        {
          "output_type": "execute_result",
          "data": {
            "text/plain": [
              "[]"
            ]
          },
          "metadata": {},
          "execution_count": 4
        }
      ]
    },
    {
      "cell_type": "code",
      "execution_count": null,
      "metadata": {
        "id": "DUL2d1vMCc9o"
      },
      "outputs": [],
      "source": [
        "import random\n",
        "\n",
        "\n",
        "# Here we make a list of common first and last names.  Then we pick a random integer to pick a first name and last name.  We put those together to give a full name.\n",
        "\n",
        "def getName():\n",
        "\n",
        "    fnames = [\"Marya\", \"Diana\", \"Oleskii\", \"Yulia\", \"Illias\", \"Vlad\", \"Egor\"]\n",
        "\n",
        "    lnames = [\"Zelensky\", \"Kovalenko\", \"Kravchenko\", \"Hrytsenko\", \"Melnyk\"]\n",
        "\n",
        "    return fnames[random.randint(0, len(fnames)-1)] +  \" \" + lnames[random.randint(0, len(lnames)-1)]\n",
        "\n",
        "\n",
        "# Take today's date and add a random number of days to it. This can be in the future (> 0) or past (< 0) or today (= 0)\n",
        "\n",
        "def getDate():\n",
        "\n",
        "  from datetime import datetime, timedelta\n",
        "\n",
        "  d = datetime.now() + timedelta(days=random.randint(-10,10))\n",
        "\n",
        "  return d.strftime('%Y-%m-%d')"
      ]
    },
    {
      "cell_type": "markdown",
      "source": [
        "# Outline for Program:  Homework\n",
        "\n",
        "Fill this the details of this code.  Use your own tables.  I used **parent** and **child**.   "
      ],
      "metadata": {
        "id": "l6vroHhoGEDU"
      }
    },
    {
      "cell_type": "code",
      "source": [
        "import sqlite3\n",
        "\n",
        "db_path = 'random.db'\n",
        "\n",
        "conn = sqlite3.connect(db_path)\n",
        "\n",
        "# repeat this pattern in a loop\n",
        "\n",
        "# make a list of parent_ids and put into a table.  Use the  getRandomAccount(conn) code below.\n",
        "\n",
        "# Use the code below \"here is now to build a dynamic SQL statement to build a SQL statement\n",
        "\n",
        "\n",
        "# you need a cursor object to execute SQL statements.  You can use the same cursor object many times.  You do not need to create a new one.\n",
        "\n",
        "cursor = conn.cursor()\n",
        "\n",
        "# add 10 records to the parent table\n",
        "for i in range(10:)\n",
        "  sql = \"insert random data into parent table\"\n",
        "  cursor.execute(sql)\n",
        "\n",
        "\n",
        "\n",
        "# the code below getRandomAccount(conn) to get a parent_id from the parent table.It will below one ID from the table.  Use that ID to add a record to the child table\n",
        "\n",
        "for i in range(10:)\n",
        "  sql = \"insert nsert random data into child table\"\n",
        "  cursor.execute(sql)\n",
        "\n",
        "\n",
        "# We don't need commit.  Later we will learn what that means.\n",
        "#conn.commit()\n",
        "\n",
        "\n",
        "# don't close connection until the end\n",
        "conn.close()"
      ],
      "metadata": {
        "id": "kH8Lj4tJC6es"
      },
      "execution_count": null,
      "outputs": []
    },
    {
      "cell_type": "code",
      "source": [
        "# each of these functions needs the conn (conection) object because the database is already open.  Just use the open database connection.  Don't make a new one.\n",
        "\n",
        "def getRandomParent(conn):\n",
        "\n",
        "\n",
        "  cursor = conn.cursor()\n",
        "\n",
        "  sql=\"select parent_id from parent\"\n",
        "\n",
        "  cursor.execute(sql)\n",
        "\n",
        "  accounts=cursor.fetchall()\n",
        "\n",
        "  return accounts[random.randint(0,len(accounts)-1)][0]\n",
        "\n",
        ""
      ],
      "metadata": {
        "id": "dPA_IlmIC_g9"
      },
      "execution_count": null,
      "outputs": []
    },
    {
      "cell_type": "code",
      "source": [
        "# here is now to build a dynamic SQL statement\n",
        "\n",
        "\n",
        "# the integer must be converted to a string in the SQL statement using str()\n",
        "\n",
        "id=str(getRandomAParent(conn))\n",
        "\n",
        "dt=getDate()\n",
        "\n",
        "name=getName()\n",
        "\n",
        "\n",
        "sql=\"INSERT INTO transactions (account_number, deposit_date, deposit_amount (VALUES ({}, {}, {})\".format(id,dt,name)\n",
        "\n",
        "\n",
        "sql"
      ],
      "metadata": {
        "id": "43jRnXYzDD_0"
      },
      "execution_count": null,
      "outputs": []
    }
  ]
}