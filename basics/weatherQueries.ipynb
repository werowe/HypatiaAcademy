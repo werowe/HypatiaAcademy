{
 "cells": [
  {
   "cell_type": "code",
   "execution_count": 34,
   "id": "8294aeb6-9fa3-43f2-9748-dc40606cb2f6",
   "metadata": {},
   "outputs": [],
   "source": [
    " \n",
    "from pyspark.sql import SparkSession\n",
    "\n",
    " \n",
    "\n",
    "# Initialize SparkSession\n",
    "spark = SparkSession.builder \\\n",
    "    .appName(\"weather\") \\\n",
    "    .getOrCreate()\n",
    "\n",
    "df = spark.read.csv(\n",
    "    \"combined_paphos2024.csv\",\n",
    "    header=True,        # Use the first row as column names\n",
    "    inferSchema=True,   # Automatically infer data types\n",
    "    sep=\",\",            # Specify delimiter (default is ',')\n",
    "    encoding=\"UTF-8\"    # Handle encoding\n",
    ")\n"
   ]
  },
  {
   "cell_type": "code",
   "execution_count": 35,
   "id": "0a7371de-a064-4da0-a53f-c977e0a7fcc1",
   "metadata": {},
   "outputs": [
    {
     "name": "stdout",
     "output_type": "stream",
     "text": [
      "+-----------+-------------------+----+---------+----+--------+------+----------+----------+----+---------+--------+---------+-------+----------------+----------+----------+--------------+-----------+-------+----------+--------------------+-------------------+--------------------+\n",
      "|       name|           datetime|temp|feelslike| dew|humidity|precip|precipprob|preciptype|snow|snowdepth|windgust|windspeed|winddir|sealevelpressure|cloudcover|visibility|solarradiation|solarenergy|uvindex|severerisk|          conditions|               icon|            stations|\n",
      "+-----------+-------------------+----+---------+----+--------+------+----------+----------+----+---------+--------+---------+-------+----------------+----------+----------+--------------+-----------+-------+----------+--------------------+-------------------+--------------------+\n",
      "|34.68,32.61|2024-12-08 00:00:00|15.0|     15.0|13.9|   92.91|   0.0|         0|      NULL|   0|        0|    16.6|      7.1|   69.0|          1017.0|      84.0|      10.0|           0.0|        0.0|    0.0|      NULL|    Partially cloudy|partly-cloudy-night|LCRA,17601099999,...|\n",
      "|34.68,32.61|2024-12-08 01:00:00|14.1|     14.1|12.9|   92.21|   0.0|         0|      NULL|   0|        0|    17.6|     11.8|   56.0|          1017.0|       5.7|      10.0|           0.0|        0.0|    0.0|      NULL|               Clear|        clear-night|LCRA,17601099999,...|\n",
      "|34.68,32.61|2024-12-08 02:00:00|13.8|     13.8|12.8|   93.76|   0.0|         0|      NULL|   0|        0|    17.6|      8.9|    6.0|          1017.3|      10.0|      31.8|           0.0|        0.0|    0.0|      NULL|               Clear|        clear-night|LCRA,17601099999,...|\n",
      "|34.68,32.61|2024-12-08 03:00:00|13.1|     13.1|12.7|   96.98|   0.0|         0|      NULL|   0|        0|    21.2|     10.5|   57.0|          1017.0|       0.2|      10.0|           0.0|        0.0|    0.0|      NULL|               Clear|        clear-night|LCRA,17601099999,...|\n",
      "|34.68,32.61|2024-12-08 04:00:00|14.9|     14.9|13.6|   92.37|   0.0|         0|      NULL|   0|        0|    22.7|     31.8|  312.0|          1017.9|      88.0|      10.0|           0.0|        0.0|    0.0|      NULL|    Partially cloudy|partly-cloudy-night|LCRA,17601099999,...|\n",
      "|34.68,32.61|2024-12-08 05:00:00|14.1|     14.1|13.0|   93.37|   0.0|         0|      NULL|   0|        0|    23.8|     21.9|  336.0|          1018.3|      81.4|       6.6|           0.0|        0.0|    0.0|      NULL|    Partially cloudy|partly-cloudy-night|LCRA,RCLKYXB,1760...|\n",
      "|34.68,32.61|2024-12-08 06:00:00|14.0|     14.0|12.8|   92.21|   0.0|         0|      NULL|   0|        0|    25.6|      6.9|    9.0|          1018.9|      88.4|       9.1|           0.0|        0.0|    0.0|      NULL|    Partially cloudy|partly-cloudy-night|LCRA,17601099999,...|\n",
      "|34.68,32.61|2024-12-08 07:00:00|14.1|     14.1|12.6|   90.75|   0.0|         0|      NULL|   0|        0|    20.5|     11.3|   54.0|          1018.0|      18.2|      10.0|           5.0|        0.0|    0.0|      NULL|               Clear|          clear-day|LCRA,17601099999,...|\n",
      "|34.68,32.61|2024-12-08 08:00:00|14.2|     14.2|12.4|   89.23| 5.645|       100|      rain|   0|        0|    20.2|     10.2|   53.0|          1018.6|      84.4|      17.1|          81.0|        0.3|    1.0|      NULL|Rain, Partially c...|               rain|17507099999,LCRA,...|\n",
      "|34.68,32.61|2024-12-08 09:00:00|15.1|     15.1|12.6|   84.99|   0.0|         0|      NULL|   0|        0|    17.6|      7.0|   69.0|          1018.9|      55.5|      10.0|         336.0|        1.2|    3.0|      NULL|    Partially cloudy|  partly-cloudy-day|17507099999,LCRA,...|\n",
      "|34.68,32.61|2024-12-08 10:00:00|18.0|     18.0|13.5|    75.0|   0.0|         0|      NULL|   0|        0|    25.2|      6.7|   56.0|          1019.0|      54.7|      10.0|         461.0|        1.7|    5.0|      NULL|    Partially cloudy|  partly-cloudy-day|17507099999,LCRA,...|\n",
      "|34.68,32.61|2024-12-08 11:00:00|19.9|     19.9|10.7|   55.56|   0.0|         0|      NULL|   0|        0|    28.4|      1.3|  331.0|          1019.1|      48.8|      17.1|         533.0|        1.9|    5.0|      NULL|    Partially cloudy|  partly-cloudy-day|17507099999,LCRA,...|\n",
      "|34.68,32.61|2024-12-08 12:00:00|20.7|     20.7|12.0|   57.34|   0.0|         0|      NULL|   0|        0|    22.0|     11.6|  123.0|          1018.1|      34.3|      10.0|         547.0|        2.0|    5.0|      NULL|    Partially cloudy|  partly-cloudy-day|17507099999,LCRA,...|\n",
      "|34.68,32.61|2024-12-08 13:00:00|19.7|     19.7|12.8|   64.32|   0.0|         0|      NULL|   0|        0|    21.6|     11.5|  131.0|          1018.1|      34.3|      10.0|         487.0|        1.8|    5.0|      NULL|    Partially cloudy|  partly-cloudy-day|17507099999,LCRA,...|\n",
      "|34.68,32.61|2024-12-08 14:00:00|19.0|     19.0|12.9|   67.68|   0.0|         0|      NULL|   0|        0|    18.7|      7.9|  129.0|          1018.4|      53.6|      17.1|         429.0|        1.5|    4.0|      NULL|    Partially cloudy|  partly-cloudy-day|17507099999,LCRA,...|\n",
      "|34.68,32.61|2024-12-08 15:00:00|19.7|     19.7|13.8|   68.47|   0.0|         0|      NULL|   0|        0|    15.8|      7.1|  122.0|          1019.0|      53.9|      10.0|          65.0|        0.2|    1.0|      NULL|    Partially cloudy|  partly-cloudy-day|17507099999,LCRA,...|\n",
      "|34.68,32.61|2024-12-08 16:00:00|19.8|     19.8|12.8|   63.94|   0.0|         0|      NULL|   0|        0|    12.6|      7.2|  126.0|          1019.0|      30.8|      10.0|          21.0|        0.1|    0.0|      NULL|    Partially cloudy|  partly-cloudy-day|17507099999,LCRA,...|\n",
      "|34.68,32.61|2024-12-08 17:00:00|17.9|     17.9|13.6|   75.79|   0.0|         0|      NULL|   0|        0|     8.6|      5.1|  117.0|          1019.9|      36.0|      17.1|           0.0|        0.0|    0.0|      NULL|    Partially cloudy|partly-cloudy-night|17507099999,LCRA,...|\n",
      "|34.68,32.61|2024-12-08 18:00:00|15.9|     15.9|13.7|   87.07|   0.0|         0|      NULL|   0|        0|     7.9|      6.9|    4.0|          1020.0|      28.1|      10.0|           0.0|        0.0|    0.0|      NULL|    Partially cloudy|partly-cloudy-night|LCRA,17601099999,...|\n",
      "|34.68,32.61|2024-12-08 19:00:00|15.0|     15.0|13.8|   92.72|   0.0|         0|      NULL|   0|        0|     9.0|      8.9|   17.0|          1020.0|      28.1|      10.0|           0.0|        0.0|    0.0|      NULL|    Partially cloudy|partly-cloudy-night|LCRA,17601099999,...|\n",
      "+-----------+-------------------+----+---------+----+--------+------+----------+----------+----+---------+--------+---------+-------+----------------+----------+----------+--------------+-----------+-------+----------+--------------------+-------------------+--------------------+\n",
      "only showing top 20 rows\n",
      "\n"
     ]
    }
   ],
   "source": [
    "df.show()"
   ]
  },
  {
   "cell_type": "code",
   "execution_count": 36,
   "id": "273cdcc3-33d1-48de-93ed-134e04c38198",
   "metadata": {},
   "outputs": [],
   "source": [
    "\n",
    "df.createOrReplaceTempView(\"weather\")"
   ]
  },
  {
   "cell_type": "code",
   "execution_count": 37,
   "id": "8561c2fc-4921-4e56-9086-4136f9d0dd88",
   "metadata": {},
   "outputs": [
    {
     "data": {
      "text/plain": [
       "['name',\n",
       " 'datetime',\n",
       " 'temp',\n",
       " 'feelslike',\n",
       " 'dew',\n",
       " 'humidity',\n",
       " 'precip',\n",
       " 'precipprob',\n",
       " 'preciptype',\n",
       " 'snow',\n",
       " 'snowdepth',\n",
       " 'windgust',\n",
       " 'windspeed',\n",
       " 'winddir',\n",
       " 'sealevelpressure',\n",
       " 'cloudcover',\n",
       " 'visibility',\n",
       " 'solarradiation',\n",
       " 'solarenergy',\n",
       " 'uvindex',\n",
       " 'severerisk',\n",
       " 'conditions',\n",
       " 'icon',\n",
       " 'stations']"
      ]
     },
     "execution_count": 37,
     "metadata": {},
     "output_type": "execute_result"
    }
   ],
   "source": [
    "df.columns"
   ]
  },
  {
   "cell_type": "code",
   "execution_count": 38,
   "id": "52a9a742-25a1-46b6-96ac-d83db57632a6",
   "metadata": {},
   "outputs": [],
   "source": [
    "sql = '''\n",
    "select max(temp) from weather  WHERE MONTH(datetime) = 8\n",
    "'''"
   ]
  },
  {
   "cell_type": "code",
   "execution_count": 39,
   "id": "27706ac5-322d-4b52-9c31-a8038d3651e9",
   "metadata": {},
   "outputs": [
    {
     "name": "stdout",
     "output_type": "stream",
     "text": [
      "+---------+\n",
      "|max(temp)|\n",
      "+---------+\n",
      "|     33.1|\n",
      "+---------+\n",
      "\n"
     ]
    }
   ],
   "source": [
    "result = spark.sql(sql)\n",
    "result.show()"
   ]
  },
  {
   "cell_type": "code",
   "execution_count": 40,
   "id": "1d83b3bc-26d2-421d-b15e-cff21bc76c24",
   "metadata": {},
   "outputs": [],
   "source": [
    "sql = '''\n",
    "SELECT SUM(precip) AS total_precip, MONTH(datetime) AS month\n",
    "FROM weather\n",
    "GROUP BY MONTH(datetime)\n",
    "\n",
    "''' "
   ]
  },
  {
   "cell_type": "code",
   "execution_count": 41,
   "id": "6597b813-4805-4157-b425-45e48ad10d60",
   "metadata": {},
   "outputs": [
    {
     "name": "stdout",
     "output_type": "stream",
     "text": [
      "+------------------+-----+\n",
      "|      total_precip|month|\n",
      "+------------------+-----+\n",
      "|205.63699999999983|   12|\n",
      "|1.6430000000000005|    9|\n",
      "|             0.008|    8|\n",
      "|               0.0|    7|\n",
      "|1.5000000000000002|   10|\n",
      "|166.32799999999978|   11|\n",
      "+------------------+-----+\n",
      "\n"
     ]
    }
   ],
   "source": [
    "result = spark.sql(sql)\n",
    "result.show()"
   ]
  },
  {
   "cell_type": "code",
   "execution_count": 42,
   "id": "1015644c-5c80-4270-a346-41a46df32825",
   "metadata": {},
   "outputs": [],
   "source": [
    "sql = '''\n",
    "SELECT max(temp) AS max_temp, MONTH(datetime) AS month\n",
    "FROM weather\n",
    "GROUP BY MONTH(datetime)\n",
    "'''\n"
   ]
  },
  {
   "cell_type": "code",
   "execution_count": 43,
   "id": "5d8b31da-7ae3-40b2-9f59-6c71a5c50c16",
   "metadata": {},
   "outputs": [
    {
     "name": "stdout",
     "output_type": "stream",
     "text": [
      "+--------+-----+\n",
      "|max_temp|month|\n",
      "+--------+-----+\n",
      "|    22.6|   12|\n",
      "|    32.1|    9|\n",
      "|    33.1|    8|\n",
      "|    34.6|    7|\n",
      "|    28.8|   10|\n",
      "|    27.0|   11|\n",
      "+--------+-----+\n",
      "\n"
     ]
    }
   ],
   "source": [
    "\n",
    "result = spark.sql(sql)\n",
    "result.show()\n"
   ]
  },
  {
   "cell_type": "code",
   "execution_count": null,
   "id": "a8f2bbd9-c813-41a9-a798-32a598ef4d52",
   "metadata": {},
   "outputs": [],
   "source": []
  },
  {
   "cell_type": "code",
   "execution_count": null,
   "id": "c1eb6ada-dc5c-4b84-bd11-5a285a4690b3",
   "metadata": {},
   "outputs": [],
   "source": []
  }
 ],
 "metadata": {
  "kernelspec": {
   "display_name": "Python 3 (ipykernel)",
   "language": "python",
   "name": "python3"
  },
  "language_info": {
   "codemirror_mode": {
    "name": "ipython",
    "version": 3
   },
   "file_extension": ".py",
   "mimetype": "text/x-python",
   "name": "python",
   "nbconvert_exporter": "python",
   "pygments_lexer": "ipython3",
   "version": "3.12.7"
  }
 },
 "nbformat": 4,
 "nbformat_minor": 5
}
