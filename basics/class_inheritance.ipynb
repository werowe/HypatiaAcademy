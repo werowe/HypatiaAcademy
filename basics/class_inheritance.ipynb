{
  "nbformat": 4,
  "nbformat_minor": 0,
  "metadata": {
    "colab": {
      "provenance": [],
      "authorship_tag": "ABX9TyPaSLfkEOHhOPojPAiOCWG6",
      "include_colab_link": true
    },
    "kernelspec": {
      "name": "python3",
      "display_name": "Python 3"
    },
    "language_info": {
      "name": "python"
    }
  },
  "cells": [
    {
      "cell_type": "markdown",
      "metadata": {
        "id": "view-in-github",
        "colab_type": "text"
      },
      "source": [
        "<a href=\"https://colab.research.google.com/github/werowe/HypatiaAcademy/blob/master/basics/class_inheritance.ipynb\" target=\"_parent\"><img src=\"https://colab.research.google.com/assets/colab-badge.svg\" alt=\"Open In Colab\"/></a>"
      ]
    },
    {
      "cell_type": "code",
      "execution_count": 29,
      "metadata": {
        "id": "hGvYu9ABZpjt"
      },
      "outputs": [],
      "source": [
        "import math\n",
        "\n",
        "class Shape:\n",
        "\n",
        "\n",
        "    def __init__(self, name, color):\n",
        "        self.name = name\n",
        "        self.color = color\n",
        "\n",
        "\n",
        "\n",
        "class RightTriangle(Shape):\n",
        "\n",
        "\n",
        "\n",
        "    def __init__(self,name,color,p0,p1,p2):\n",
        "        super().__init__(name,color)\n",
        "\n",
        "\n",
        "        self.points=[p0,p1,p2]\n",
        "\n",
        "        self.a = math.sqrt((p1[0]-p1[1])**2 + (p0[0]-p0[1])**2)\n",
        "        self.b = math.sqrt((p2[0]-p2[1])**2 + (p0[0]-p0[1])**2)\n",
        "\n",
        "        self.h= math.sqrt(a**2 + b**2)\n",
        "\n",
        "\n",
        "    def __repr__(self):\n",
        "\n",
        "      return \"right triangle {} has points {} and hypoteneuse {}\".format(self.name,self.points,self.h)\n",
        "\n",
        "\n",
        "class Rectangle(Shape):\n",
        "\n",
        "\n",
        "\n",
        "    def area(self,name,corners):\n",
        "\n",
        "      pass\n",
        "\n",
        "\n",
        "\n",
        "class Circle(Shape):\n",
        "\n",
        "    center=[0,0]\n",
        "    radius=0\n",
        "\n",
        ""
      ]
    },
    {
      "cell_type": "code",
      "source": [
        "\n",
        "\n",
        "p0 = [0,0]\n",
        "p1 = [4,0]\n",
        "p2 = [0,3]\n",
        "\n",
        "\n",
        "rt = RightTriangle(\"D\",\"green\",p0,p1,p2)\n",
        "\n",
        "print(rt)"
      ],
      "metadata": {
        "colab": {
          "base_uri": "https://localhost:8080/"
        },
        "id": "VSCXHi6ZcUGM",
        "outputId": "de633d44-cc03-494c-bbad-97f92ab96edd"
      },
      "execution_count": 30,
      "outputs": [
        {
          "output_type": "stream",
          "name": "stdout",
          "text": [
            "right triangle D has points [[0, 0], [4, 0], [0, 3]] and hypoteneuse 5.0\n"
          ]
        }
      ]
    },
    {
      "cell_type": "code",
      "source": [
        "max(p1[0],p1[0])**2"
      ],
      "metadata": {
        "colab": {
          "base_uri": "https://localhost:8080/"
        },
        "id": "NcDqpH12dJre",
        "outputId": "e93dc658-daff-4275-8496-a9a44d816039"
      },
      "execution_count": 3,
      "outputs": [
        {
          "output_type": "execute_result",
          "data": {
            "text/plain": [
              "16"
            ]
          },
          "metadata": {},
          "execution_count": 3
        }
      ]
    },
    {
      "cell_type": "code",
      "source": [
        "min(p1[0],p1[0])**2"
      ],
      "metadata": {
        "colab": {
          "base_uri": "https://localhost:8080/"
        },
        "id": "03tP3U34dOGz",
        "outputId": "cfcd63cb-8de5-4e4f-ffba-5267766a678e"
      },
      "execution_count": 4,
      "outputs": [
        {
          "output_type": "execute_result",
          "data": {
            "text/plain": [
              "16"
            ]
          },
          "metadata": {},
          "execution_count": 4
        }
      ]
    }
  ]
}