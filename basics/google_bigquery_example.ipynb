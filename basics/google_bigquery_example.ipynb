{
  "nbformat": 4,
  "nbformat_minor": 0,
  "metadata": {
    "colab": {
      "provenance": [],
      "authorship_tag": "ABX9TyN/E8KQxz2kBzggqKU3Al9F",
      "include_colab_link": true
    },
    "kernelspec": {
      "name": "python3",
      "display_name": "Python 3"
    },
    "language_info": {
      "name": "python"
    }
  },
  "cells": [
    {
      "cell_type": "markdown",
      "metadata": {
        "id": "view-in-github",
        "colab_type": "text"
      },
      "source": [
        "<a href=\"https://colab.research.google.com/github/werowe/HypatiaAcademy/blob/master/basics/google_bigquery_example.ipynb\" target=\"_parent\"><img src=\"https://colab.research.google.com/assets/colab-badge.svg\" alt=\"Open In Colab\"/></a>"
      ]
    },
    {
      "cell_type": "markdown",
      "source": [
        "# SQL\n",
        "\n",
        "\n",
        "\n",
        "\n",
        "```sql\n",
        "\n",
        "\n",
        "-- Create a dataset (only if you don't have one already)\n",
        "CREATE SCHEMA IF NOT EXISTS `project_id.dataset_name`;\n",
        "\n",
        "\n",
        "-- Create a table within the dataset\n",
        "CREATE OR REPLACE TABLE `project_id.dataset_name.table_name` (\n",
        "  id INT64,\n",
        "  name STRING,\n",
        "  email STRING,\n",
        "  signup_date DATE\n",
        ");\n",
        "\n",
        "\n",
        "\n",
        "-- Insert data into the table\n",
        "INSERT INTO `project_id.dataset_name.table_name` (id, name, email, signup_date)\n",
        "VALUES\n",
        "  (1, 'Alice Johnson', 'alice.johnson@example.com', '2024-01-01'),\n",
        "  (2, 'Bob Smith', 'bob.smith@example.com', '2024-02-01'),\n",
        "  (3, 'Charlie Brown', 'charlie.brown@example.com', '2024-03-01');\n",
        "\n",
        "\n",
        "```\n"
      ],
      "metadata": {
        "id": "4NgGuE21OAur"
      }
    },
    {
      "cell_type": "code",
      "source": [
        "from google.colab import auth\n",
        "auth.authenticate_user()\n"
      ],
      "metadata": {
        "id": "P09JmBhQj7zL"
      },
      "execution_count": 3,
      "outputs": []
    },
    {
      "cell_type": "code",
      "execution_count": 4,
      "metadata": {
        "id": "YKsIuINjjsQq"
      },
      "outputs": [],
      "source": [
        "from google.cloud import bigquery\n",
        "\n",
        "# Set your project ID\n",
        "project_id = \"hypatia-435300\"\n",
        "\n",
        "# Create a BigQuery client\n",
        "client = bigquery.Client(project=project_id)\n"
      ]
    },
    {
      "cell_type": "code",
      "source": [
        "# SQL query to run\n",
        "query = \"\"\"\n",
        "    SELECT *\n",
        "    FROM `hypatia-435300.students.students`\n",
        "    LIMIT 10;\n",
        "\"\"\"\n",
        "\n",
        "# Run the query\n",
        "query_job = client.query(query)\n",
        "\n",
        "# Fetch the results\n",
        "results = query_job.result()\n",
        "\n",
        "# Convert to a list of dictionaries for easier handling\n",
        "rows = [dict(row) for row in results]\n",
        "\n",
        "# Print the results\n",
        "for row in rows:\n",
        "    print(row)\n"
      ],
      "metadata": {
        "colab": {
          "base_uri": "https://localhost:8080/"
        },
        "id": "c_7gpoRSjzvz",
        "outputId": "5384f379-445b-4461-dc80-52bdd9670c9e"
      },
      "execution_count": 5,
      "outputs": [
        {
          "output_type": "stream",
          "name": "stdout",
          "text": [
            "{'id': 1, 'name': 'Alice Johnson', 'email': 'alice.johnson@example.com', 'signup_date': datetime.date(2024, 1, 1)}\n",
            "{'id': 2, 'name': 'Bob Smith', 'email': 'bob.smith@example.com', 'signup_date': datetime.date(2024, 2, 1)}\n",
            "{'id': 3, 'name': 'Charlie Brown', 'email': 'charlie.brown@example.com', 'signup_date': datetime.date(2024, 3, 1)}\n"
          ]
        }
      ]
    }
  ]
}