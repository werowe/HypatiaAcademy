{
  "nbformat": 4,
  "nbformat_minor": 0,
  "metadata": {
    "colab": {
      "provenance": [],
      "authorship_tag": "ABX9TyPwcNqOkZZOHoJ8dZWMbA1s",
      "include_colab_link": true
    },
    "kernelspec": {
      "name": "python3",
      "display_name": "Python 3"
    },
    "language_info": {
      "name": "python"
    }
  },
  "cells": [
    {
      "cell_type": "markdown",
      "metadata": {
        "id": "view-in-github",
        "colab_type": "text"
      },
      "source": [
        "<a href=\"https://colab.research.google.com/github/werowe/HypatiaAcademy/blob/master/basics/solution_sqllite_create_random_data.ipynb\" target=\"_parent\"><img src=\"https://colab.research.google.com/assets/colab-badge.svg\" alt=\"Open In Colab\"/></a>"
      ]
    },
    {
      "cell_type": "markdown",
      "source": [
        "# Create Random Data\n",
        "\n",
        "<font color='red'>Now Create Data using the Tables you Created in the Previous Exercise</font>\n",
        "\n",
        "\n",
        "Now that we have created data using insert and SQL we will do it with Python.\n",
        "\n",
        "Before we hard-coded our data.  Now we will insert random values.\n",
        "\n",
        "> **Definitions**\n",
        ">\n",
        "> When you have two tables one is called **parent** and the other is called **child**.  You can say **a parent has children** or **a child belongs to a parent**.  This just means that the tables connected to each other by some common element.\n",
        "\n",
        "\n",
        "The procedure is:\n",
        "\n",
        "1.  create tables\n",
        "2.  write some functions to create random information\n",
        "3.  insert data into the **parent** table\n",
        "4.  insert data into the **child** table\n",
        "\n",
        "When you are done write some SQL to show that it worked:\n",
        "\n",
        "```\n",
        "%%sql\n",
        "select * from parent;\n",
        "select * from child;\n",
        "```\n",
        "\n",
        "##Python Code\n",
        "\n",
        "Your Python code needs to work like this:\n",
        "\n",
        "1.  Create connection object.  Do not close this.  As long as it is open you can run multiple SQL statements.\n",
        "\n",
        "```\n",
        "conn = sqlite3.connect(db_path)\n",
        "```\n",
        "\n",
        "2.  Write Python code to insert records into the parent and child tables.\n",
        "\n",
        "3.  Close the connenction.\n",
        "\n",
        "```\n",
        "conn.close()\n",
        "```\n",
        "\n",
        "\n",
        "## Important Troubleshooting Tips\n",
        "\n",
        "1. If you put `%sql sqlite:////random.db` with 4 slashes (////) instead of 3 (///) then it will look for a file named `/random.db` and not `random.db`.  So use three.\n",
        "\n",
        "2.  When you do a lot of inserts and run your program many times the database case say **locked**.  That is what it is supposed to do when one person is updating one row.  It is supposed to lock the database so that no one else can overwrite that change.  But if it gets stuck then save your work when press runtime/restart session so it close all database connections.  Be careful as you will lose any unsaved work when you do this. You could even save a copy in drive to make an extra copy so you don't lose anything."
      ],
      "metadata": {
        "id": "6ge_k_-2ELCS"
      }
    },
    {
      "cell_type": "code",
      "source": [
        "%load_ext sql"
      ],
      "metadata": {
        "id": "Z5slljC3DX7i"
      },
      "execution_count": 1,
      "outputs": []
    },
    {
      "cell_type": "code",
      "source": [
        "%sql sqlite:///random.db"
      ],
      "metadata": {
        "id": "tvWj99a7ktR3"
      },
      "execution_count": 2,
      "outputs": []
    },
    {
      "cell_type": "code",
      "source": [
        "%%sql\n",
        "drop table parent;\n",
        "drop table child;"
      ],
      "metadata": {
        "colab": {
          "base_uri": "https://localhost:8080/"
        },
        "id": "PaArvi5SgTfm",
        "outputId": "4b2669ea-0c9b-4f1a-bd1b-072007a6b908"
      },
      "execution_count": 3,
      "outputs": [
        {
          "output_type": "stream",
          "name": "stdout",
          "text": [
            " * sqlite:///random.db\n",
            "(sqlite3.OperationalError) no such table: parent\n",
            "[SQL: drop table parent;]\n",
            "(Background on this error at: https://sqlalche.me/e/20/e3q8)\n"
          ]
        }
      ]
    },
    {
      "cell_type": "code",
      "source": [
        "%%sql\n",
        "\n",
        "CREATE TABLE parent\n",
        "  (\n",
        "    parent_id INTEGER PRIMARY KEY AUTOINCREMENT,\n",
        "    parent_name text,\n",
        "    date_created text\n",
        "  );\n",
        "\n",
        "CREATE TABLE child\n",
        "  (\n",
        "    child_id INTEGER PRIMARY KEY AUTOINCREMENT,\n",
        "    parent_id INTEGER,\n",
        "    child_name text,\n",
        "    date_created text\n",
        "  );\n",
        "\n"
      ],
      "metadata": {
        "colab": {
          "base_uri": "https://localhost:8080/"
        },
        "id": "bjhDxIBsDJXq",
        "outputId": "1e077fcf-1001-44d8-aee8-3d5007721f18"
      },
      "execution_count": 4,
      "outputs": [
        {
          "output_type": "stream",
          "name": "stdout",
          "text": [
            " * sqlite:///random.db\n",
            "Done.\n",
            "Done.\n"
          ]
        },
        {
          "output_type": "execute_result",
          "data": {
            "text/plain": [
              "[]"
            ]
          },
          "metadata": {},
          "execution_count": 4
        }
      ]
    },
    {
      "cell_type": "code",
      "execution_count": 5,
      "metadata": {
        "id": "DUL2d1vMCc9o"
      },
      "outputs": [],
      "source": [
        "import random\n",
        "\n",
        "\n",
        "# Here we make a list of common first and last names.  Then we pick a random integer to pick a first name and last name.  We put those together to give a full name.\n",
        "\n",
        "def getName():\n",
        "\n",
        "    fnames = [\"Marya\", \"Diana\", \"Oleskii\", \"Yulia\", \"Illias\", \"Vlad\", \"Egor\"]\n",
        "\n",
        "    lnames = [\"Zelensky\", \"Kovalenko\", \"Kravchenko\", \"Hrytsenko\", \"Melnyk\"]\n",
        "\n",
        "    return fnames[random.randint(0, len(fnames)-1)] +  \" \" + lnames[random.randint(0, len(lnames)-1)]\n",
        "\n",
        "\n",
        "# Take today's date and add a random number of days to it. This can be in the future (> 0) or past (< 0) or today (= 0)\n",
        "\n",
        "def getDate():\n",
        "\n",
        "  from datetime import datetime, timedelta\n",
        "\n",
        "  d = datetime.now() + timedelta(days=random.randint(-10,10))\n",
        "\n",
        "  return d.strftime('%Y-%m-%d')"
      ]
    },
    {
      "cell_type": "code",
      "source": [
        "!ls"
      ],
      "metadata": {
        "colab": {
          "base_uri": "https://localhost:8080/"
        },
        "id": "lLIl1ORCgCIr",
        "outputId": "5b01e4c8-3372-4cc5-ff1a-1534057f02a5"
      },
      "execution_count": 6,
      "outputs": [
        {
          "output_type": "stream",
          "name": "stdout",
          "text": [
            "random.db  sample_data\n"
          ]
        }
      ]
    },
    {
      "cell_type": "markdown",
      "source": [
        "# Outline for Program:  Homework\n",
        "\n",
        "Fill this the details of this code.  Use your own tables.  I used **parent** and **child**.   "
      ],
      "metadata": {
        "id": "l6vroHhoGEDU"
      }
    },
    {
      "cell_type": "code",
      "source": [
        "# each of these functions needs the conn (conection) object because the database is already open.  Just use the open database connection.  Don't make a new one.\n",
        "\n",
        "def getRandomParent(conn):\n",
        "\n",
        "\n",
        "  cursor = conn.cursor()\n",
        "\n",
        "  sql=\"select parent_id from parent\"\n",
        "\n",
        "  cursor.execute(sql)\n",
        "\n",
        "  accounts=cursor.fetchall()\n",
        "\n",
        "  return accounts[random.randint(0,len(accounts)-1)][0]\n",
        "\n"
      ],
      "metadata": {
        "id": "dPA_IlmIC_g9"
      },
      "execution_count": 7,
      "outputs": []
    },
    {
      "cell_type": "code",
      "source": [
        "# here is now to build a dynamic SQL statement\n",
        "\n",
        "\n",
        "# the integer must be converted to a string in the SQL statement using str()\n",
        "\n",
        "def generateParentSQL():\n",
        "\n",
        "  dt=getDate()\n",
        "\n",
        "\n",
        "  name=getName()\n",
        "\n",
        "  sql=\"INSERT INTO parent (parent_name, date_created) VALUES ('{}', '{}')\".format(name, dt)\n",
        "\n",
        "\n",
        "  return sql"
      ],
      "metadata": {
        "id": "43jRnXYzDD_0"
      },
      "execution_count": 8,
      "outputs": []
    },
    {
      "cell_type": "code",
      "source": [
        "# this one needs the connection object since we will look up a parent\n",
        "\n",
        "def generateChildSQL(conn):\n",
        "\n",
        "  dt=getDate()\n",
        "  parent_id = getRandomParent(conn)\n",
        "\n",
        "  name=getName()\n",
        "\n",
        "  sql=\"INSERT INTO child (parent_id, child_name, date_created) VALUES ({},'{}', '{}')\".format( parent_id,name, dt)\n",
        "\n",
        "\n",
        "  return sql"
      ],
      "metadata": {
        "id": "VCVrjn_zfKpp"
      },
      "execution_count": 9,
      "outputs": []
    },
    {
      "cell_type": "code",
      "source": [
        "import sqlite3\n",
        "\n",
        "db_path = 'random.db'\n",
        "\n",
        "\n",
        "\n",
        "conn = sqlite3.connect(db_path)\n",
        "conn.execute('PRAGMA journal_mode=WAL;')\n",
        "conn.commit()\n",
        "\n",
        "\n",
        "cursor = conn.cursor()\n",
        "\n",
        "print(\"connection\", conn)\n",
        "\n",
        "# repeat this pattern in a loop\n",
        "\n",
        "# make a list of parent_ids and put into a table.  Use the  getRandomAccount(conn) code below.\n",
        "\n",
        "# Use the code below \"here is now to build a dynamic SQL statement to build a SQL statement\n",
        "\n",
        "\n",
        "\n",
        "# add 10 records to the parent table\n",
        "for i in range(10):\n",
        "   sql=generateParentSQL()\n",
        "   print(sql)\n",
        "   cursor.execute(sql)\n",
        "   conn.commit()\n",
        "\n",
        "\n",
        "\n",
        "for i in range(10):\n",
        "   sql=generateChildSQL(conn)\n",
        "   print(sql)\n",
        "   cursor.execute(sql)\n",
        "   conn.commit()\n",
        "\n",
        "\n",
        "\n",
        "\n",
        "\n",
        "# don't close connection until the end\n",
        "conn.close()"
      ],
      "metadata": {
        "colab": {
          "base_uri": "https://localhost:8080/"
        },
        "id": "pV6JqSrCnvrD",
        "outputId": "f039292c-f88c-4fdc-c115-699212128a4e"
      },
      "execution_count": 10,
      "outputs": [
        {
          "output_type": "stream",
          "name": "stdout",
          "text": [
            "connection <sqlite3.Connection object at 0x7ab085b82840>\n",
            "INSERT INTO parent (parent_name, date_created) VALUES ('Yulia Kovalenko', '2024-10-18')\n",
            "INSERT INTO parent (parent_name, date_created) VALUES ('Yulia Zelensky', '2024-10-01')\n",
            "INSERT INTO parent (parent_name, date_created) VALUES ('Illias Zelensky', '2024-10-01')\n",
            "INSERT INTO parent (parent_name, date_created) VALUES ('Illias Kovalenko', '2024-10-15')\n",
            "INSERT INTO parent (parent_name, date_created) VALUES ('Vlad Hrytsenko', '2024-10-08')\n",
            "INSERT INTO parent (parent_name, date_created) VALUES ('Illias Zelensky', '2024-10-13')\n",
            "INSERT INTO parent (parent_name, date_created) VALUES ('Diana Hrytsenko', '2024-10-18')\n",
            "INSERT INTO parent (parent_name, date_created) VALUES ('Egor Zelensky', '2024-10-18')\n",
            "INSERT INTO parent (parent_name, date_created) VALUES ('Diana Melnyk', '2024-10-09')\n",
            "INSERT INTO parent (parent_name, date_created) VALUES ('Illias Melnyk', '2024-09-30')\n",
            "INSERT INTO child (parent_id, child_name, date_created) VALUES (4,'Yulia Melnyk', '2024-10-15')\n",
            "INSERT INTO child (parent_id, child_name, date_created) VALUES (4,'Oleskii Kravchenko', '2024-10-12')\n",
            "INSERT INTO child (parent_id, child_name, date_created) VALUES (3,'Oleskii Hrytsenko', '2024-10-10')\n",
            "INSERT INTO child (parent_id, child_name, date_created) VALUES (1,'Diana Hrytsenko', '2024-10-14')\n",
            "INSERT INTO child (parent_id, child_name, date_created) VALUES (8,'Oleskii Kravchenko', '2024-10-01')\n",
            "INSERT INTO child (parent_id, child_name, date_created) VALUES (8,'Diana Melnyk', '2024-10-02')\n",
            "INSERT INTO child (parent_id, child_name, date_created) VALUES (9,'Egor Kovalenko', '2024-10-07')\n",
            "INSERT INTO child (parent_id, child_name, date_created) VALUES (7,'Diana Kovalenko', '2024-10-19')\n",
            "INSERT INTO child (parent_id, child_name, date_created) VALUES (2,'Oleskii Kravchenko', '2024-10-17')\n",
            "INSERT INTO child (parent_id, child_name, date_created) VALUES (1,'Oleskii Hrytsenko', '2024-09-30')\n"
          ]
        }
      ]
    },
    {
      "cell_type": "code",
      "source": [
        "%%sql\n",
        "select * from parent;"
      ],
      "metadata": {
        "colab": {
          "base_uri": "https://localhost:8080/",
          "height": 289
        },
        "id": "0Z5GKyLWiSNX",
        "outputId": "0d925bd7-18bb-46fd-c829-df344cff5984"
      },
      "execution_count": 11,
      "outputs": [
        {
          "output_type": "stream",
          "name": "stdout",
          "text": [
            " * sqlite:///random.db\n",
            "Done.\n"
          ]
        },
        {
          "output_type": "execute_result",
          "data": {
            "text/plain": [
              "[(1, 'Yulia Kovalenko', '2024-10-18'),\n",
              " (2, 'Yulia Zelensky', '2024-10-01'),\n",
              " (3, 'Illias Zelensky', '2024-10-01'),\n",
              " (4, 'Illias Kovalenko', '2024-10-15'),\n",
              " (5, 'Vlad Hrytsenko', '2024-10-08'),\n",
              " (6, 'Illias Zelensky', '2024-10-13'),\n",
              " (7, 'Diana Hrytsenko', '2024-10-18'),\n",
              " (8, 'Egor Zelensky', '2024-10-18'),\n",
              " (9, 'Diana Melnyk', '2024-10-09'),\n",
              " (10, 'Illias Melnyk', '2024-09-30')]"
            ],
            "text/html": [
              "<table>\n",
              "    <thead>\n",
              "        <tr>\n",
              "            <th>parent_id</th>\n",
              "            <th>parent_name</th>\n",
              "            <th>date_created</th>\n",
              "        </tr>\n",
              "    </thead>\n",
              "    <tbody>\n",
              "        <tr>\n",
              "            <td>1</td>\n",
              "            <td>Yulia Kovalenko</td>\n",
              "            <td>2024-10-18</td>\n",
              "        </tr>\n",
              "        <tr>\n",
              "            <td>2</td>\n",
              "            <td>Yulia Zelensky</td>\n",
              "            <td>2024-10-01</td>\n",
              "        </tr>\n",
              "        <tr>\n",
              "            <td>3</td>\n",
              "            <td>Illias Zelensky</td>\n",
              "            <td>2024-10-01</td>\n",
              "        </tr>\n",
              "        <tr>\n",
              "            <td>4</td>\n",
              "            <td>Illias Kovalenko</td>\n",
              "            <td>2024-10-15</td>\n",
              "        </tr>\n",
              "        <tr>\n",
              "            <td>5</td>\n",
              "            <td>Vlad Hrytsenko</td>\n",
              "            <td>2024-10-08</td>\n",
              "        </tr>\n",
              "        <tr>\n",
              "            <td>6</td>\n",
              "            <td>Illias Zelensky</td>\n",
              "            <td>2024-10-13</td>\n",
              "        </tr>\n",
              "        <tr>\n",
              "            <td>7</td>\n",
              "            <td>Diana Hrytsenko</td>\n",
              "            <td>2024-10-18</td>\n",
              "        </tr>\n",
              "        <tr>\n",
              "            <td>8</td>\n",
              "            <td>Egor Zelensky</td>\n",
              "            <td>2024-10-18</td>\n",
              "        </tr>\n",
              "        <tr>\n",
              "            <td>9</td>\n",
              "            <td>Diana Melnyk</td>\n",
              "            <td>2024-10-09</td>\n",
              "        </tr>\n",
              "        <tr>\n",
              "            <td>10</td>\n",
              "            <td>Illias Melnyk</td>\n",
              "            <td>2024-09-30</td>\n",
              "        </tr>\n",
              "    </tbody>\n",
              "</table>"
            ]
          },
          "metadata": {},
          "execution_count": 11
        }
      ]
    },
    {
      "cell_type": "code",
      "source": [
        "%%sql\n",
        "select * from child;"
      ],
      "metadata": {
        "colab": {
          "base_uri": "https://localhost:8080/",
          "height": 289
        },
        "id": "f7Lf6pwMiogd",
        "outputId": "6a198642-eafa-4c5e-ca49-e5167835ffcd"
      },
      "execution_count": 12,
      "outputs": [
        {
          "output_type": "stream",
          "name": "stdout",
          "text": [
            " * sqlite:///random.db\n",
            "Done.\n"
          ]
        },
        {
          "output_type": "execute_result",
          "data": {
            "text/plain": [
              "[(1, 4, 'Yulia Melnyk', '2024-10-15'),\n",
              " (2, 4, 'Oleskii Kravchenko', '2024-10-12'),\n",
              " (3, 3, 'Oleskii Hrytsenko', '2024-10-10'),\n",
              " (4, 1, 'Diana Hrytsenko', '2024-10-14'),\n",
              " (5, 8, 'Oleskii Kravchenko', '2024-10-01'),\n",
              " (6, 8, 'Diana Melnyk', '2024-10-02'),\n",
              " (7, 9, 'Egor Kovalenko', '2024-10-07'),\n",
              " (8, 7, 'Diana Kovalenko', '2024-10-19'),\n",
              " (9, 2, 'Oleskii Kravchenko', '2024-10-17'),\n",
              " (10, 1, 'Oleskii Hrytsenko', '2024-09-30')]"
            ],
            "text/html": [
              "<table>\n",
              "    <thead>\n",
              "        <tr>\n",
              "            <th>child_id</th>\n",
              "            <th>parent_id</th>\n",
              "            <th>child_name</th>\n",
              "            <th>date_created</th>\n",
              "        </tr>\n",
              "    </thead>\n",
              "    <tbody>\n",
              "        <tr>\n",
              "            <td>1</td>\n",
              "            <td>4</td>\n",
              "            <td>Yulia Melnyk</td>\n",
              "            <td>2024-10-15</td>\n",
              "        </tr>\n",
              "        <tr>\n",
              "            <td>2</td>\n",
              "            <td>4</td>\n",
              "            <td>Oleskii Kravchenko</td>\n",
              "            <td>2024-10-12</td>\n",
              "        </tr>\n",
              "        <tr>\n",
              "            <td>3</td>\n",
              "            <td>3</td>\n",
              "            <td>Oleskii Hrytsenko</td>\n",
              "            <td>2024-10-10</td>\n",
              "        </tr>\n",
              "        <tr>\n",
              "            <td>4</td>\n",
              "            <td>1</td>\n",
              "            <td>Diana Hrytsenko</td>\n",
              "            <td>2024-10-14</td>\n",
              "        </tr>\n",
              "        <tr>\n",
              "            <td>5</td>\n",
              "            <td>8</td>\n",
              "            <td>Oleskii Kravchenko</td>\n",
              "            <td>2024-10-01</td>\n",
              "        </tr>\n",
              "        <tr>\n",
              "            <td>6</td>\n",
              "            <td>8</td>\n",
              "            <td>Diana Melnyk</td>\n",
              "            <td>2024-10-02</td>\n",
              "        </tr>\n",
              "        <tr>\n",
              "            <td>7</td>\n",
              "            <td>9</td>\n",
              "            <td>Egor Kovalenko</td>\n",
              "            <td>2024-10-07</td>\n",
              "        </tr>\n",
              "        <tr>\n",
              "            <td>8</td>\n",
              "            <td>7</td>\n",
              "            <td>Diana Kovalenko</td>\n",
              "            <td>2024-10-19</td>\n",
              "        </tr>\n",
              "        <tr>\n",
              "            <td>9</td>\n",
              "            <td>2</td>\n",
              "            <td>Oleskii Kravchenko</td>\n",
              "            <td>2024-10-17</td>\n",
              "        </tr>\n",
              "        <tr>\n",
              "            <td>10</td>\n",
              "            <td>1</td>\n",
              "            <td>Oleskii Hrytsenko</td>\n",
              "            <td>2024-09-30</td>\n",
              "        </tr>\n",
              "    </tbody>\n",
              "</table>"
            ]
          },
          "metadata": {},
          "execution_count": 12
        }
      ]
    },
    {
      "cell_type": "code",
      "source": [
        "%%sql\n",
        "\n",
        "SELECT parent.parent_name, child.child_name\n",
        "FROM parent, child\n",
        "WHERE parent.parent_id = child.parent_id\n",
        "\n"
      ],
      "metadata": {
        "colab": {
          "base_uri": "https://localhost:8080/",
          "height": 289
        },
        "id": "nEVkveoI_aOa",
        "outputId": "ff4f3839-d073-460e-c438-703093a292a4"
      },
      "execution_count": 13,
      "outputs": [
        {
          "output_type": "stream",
          "name": "stdout",
          "text": [
            " * sqlite:///random.db\n",
            "Done.\n"
          ]
        },
        {
          "output_type": "execute_result",
          "data": {
            "text/plain": [
              "[('Illias Kovalenko', 'Yulia Melnyk'),\n",
              " ('Illias Kovalenko', 'Oleskii Kravchenko'),\n",
              " ('Illias Zelensky', 'Oleskii Hrytsenko'),\n",
              " ('Yulia Kovalenko', 'Diana Hrytsenko'),\n",
              " ('Egor Zelensky', 'Oleskii Kravchenko'),\n",
              " ('Egor Zelensky', 'Diana Melnyk'),\n",
              " ('Diana Melnyk', 'Egor Kovalenko'),\n",
              " ('Diana Hrytsenko', 'Diana Kovalenko'),\n",
              " ('Yulia Zelensky', 'Oleskii Kravchenko'),\n",
              " ('Yulia Kovalenko', 'Oleskii Hrytsenko')]"
            ],
            "text/html": [
              "<table>\n",
              "    <thead>\n",
              "        <tr>\n",
              "            <th>parent_name</th>\n",
              "            <th>child_name</th>\n",
              "        </tr>\n",
              "    </thead>\n",
              "    <tbody>\n",
              "        <tr>\n",
              "            <td>Illias Kovalenko</td>\n",
              "            <td>Yulia Melnyk</td>\n",
              "        </tr>\n",
              "        <tr>\n",
              "            <td>Illias Kovalenko</td>\n",
              "            <td>Oleskii Kravchenko</td>\n",
              "        </tr>\n",
              "        <tr>\n",
              "            <td>Illias Zelensky</td>\n",
              "            <td>Oleskii Hrytsenko</td>\n",
              "        </tr>\n",
              "        <tr>\n",
              "            <td>Yulia Kovalenko</td>\n",
              "            <td>Diana Hrytsenko</td>\n",
              "        </tr>\n",
              "        <tr>\n",
              "            <td>Egor Zelensky</td>\n",
              "            <td>Oleskii Kravchenko</td>\n",
              "        </tr>\n",
              "        <tr>\n",
              "            <td>Egor Zelensky</td>\n",
              "            <td>Diana Melnyk</td>\n",
              "        </tr>\n",
              "        <tr>\n",
              "            <td>Diana Melnyk</td>\n",
              "            <td>Egor Kovalenko</td>\n",
              "        </tr>\n",
              "        <tr>\n",
              "            <td>Diana Hrytsenko</td>\n",
              "            <td>Diana Kovalenko</td>\n",
              "        </tr>\n",
              "        <tr>\n",
              "            <td>Yulia Zelensky</td>\n",
              "            <td>Oleskii Kravchenko</td>\n",
              "        </tr>\n",
              "        <tr>\n",
              "            <td>Yulia Kovalenko</td>\n",
              "            <td>Oleskii Hrytsenko</td>\n",
              "        </tr>\n",
              "    </tbody>\n",
              "</table>"
            ]
          },
          "metadata": {},
          "execution_count": 13
        }
      ]
    }
  ]
}