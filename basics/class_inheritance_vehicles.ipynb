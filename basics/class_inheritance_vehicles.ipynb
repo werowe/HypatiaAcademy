{
  "nbformat": 4,
  "nbformat_minor": 0,
  "metadata": {
    "colab": {
      "provenance": [],
      "authorship_tag": "ABX9TyMoQ8GaW8sFmKF4sF49DUmG",
      "include_colab_link": true
    },
    "kernelspec": {
      "name": "python3",
      "display_name": "Python 3"
    },
    "language_info": {
      "name": "python"
    }
  },
  "cells": [
    {
      "cell_type": "markdown",
      "metadata": {
        "id": "view-in-github",
        "colab_type": "text"
      },
      "source": [
        "<a href=\"https://colab.research.google.com/github/werowe/HypatiaAcademy/blob/master/basics/class_inheritance_vehicles.ipynb\" target=\"_parent\"><img src=\"https://colab.research.google.com/assets/colab-badge.svg\" alt=\"Open In Colab\"/></a>"
      ]
    },
    {
      "cell_type": "code",
      "execution_count": 37,
      "metadata": {
        "id": "Oly3XSL0J253"
      },
      "outputs": [],
      "source": [
        "from enum import Enum\n",
        "\n",
        "class Fuel(Enum):\n",
        "    ELECTRIC = 1\n",
        "    GASOLINE = 2\n",
        "    DIESEL = 3\n",
        "    HYBRID = 4\n",
        "\n",
        "class vType(Enum):\n",
        "    CAR = 1\n",
        "    TRUCK = 2\n",
        "    VAN = 3\n",
        "\n",
        "class vehicle:\n",
        "    def __init__(self, manufacturer, model, year, color):\n",
        "        self.manufacturer = manufacturer\n",
        "        self.model = model\n",
        "        self.year = year\n",
        "        self.color = color\n",
        "        self.running = False\n",
        "\n",
        "    def start(self):\n",
        "        self.running = True\n",
        "\n",
        "class Electric(vehicle):\n",
        "    def __init__(self, manufacturer, model, year, color, battery):\n",
        "        # Initialize parent class (vehicle) with 4 parameters\n",
        "        super().__init__(manufacturer, model, year, color)\n",
        "        # Set additional attributes specific to Electric\n",
        "        self.battery = battery\n",
        "        self.fuel_type = Fuel.ELECTRIC\n",
        "        self.vtype = vType.CAR  # Assuming it's a car; you can modify as needed\n",
        "\n",
        "        self.volts = 0\n",
        "\n",
        "    def charge(self,volts):\n",
        "\n",
        "        self.volts=volts\n",
        "\n",
        "\n"
      ]
    },
    {
      "cell_type": "code",
      "source": [
        "\n",
        "tesla = Electric(\"Tesla\", \"Model S\", 2020, \"blue\", 240)\n",
        "\n",
        "\n",
        "tesla.start()\n",
        "\n",
        "tesla.charge(200)\n"
      ],
      "metadata": {
        "id": "qHEOFtpOLQJY"
      },
      "execution_count": 38,
      "outputs": []
    }
  ]
}