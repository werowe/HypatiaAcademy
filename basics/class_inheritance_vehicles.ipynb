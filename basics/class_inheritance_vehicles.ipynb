{
  "nbformat": 4,
  "nbformat_minor": 0,
  "metadata": {
    "colab": {
      "provenance": [],
      "authorship_tag": "ABX9TyPF4bpVbNOWSV5vVy6exDEP",
      "include_colab_link": true
    },
    "kernelspec": {
      "name": "python3",
      "display_name": "Python 3"
    },
    "language_info": {
      "name": "python"
    }
  },
  "cells": [
    {
      "cell_type": "markdown",
      "metadata": {
        "id": "view-in-github",
        "colab_type": "text"
      },
      "source": [
        "<a href=\"https://colab.research.google.com/github/werowe/HypatiaAcademy/blob/master/basics/class_inheritance_vehicles.ipynb\" target=\"_parent\"><img src=\"https://colab.research.google.com/assets/colab-badge.svg\" alt=\"Open In Colab\"/></a>"
      ]
    },
    {
      "cell_type": "code",
      "execution_count": 62,
      "metadata": {
        "id": "Ug2OGQ1lvxN1"
      },
      "outputs": [],
      "source": [
        "from enum import Enum\n",
        "\n",
        "class Color(Enum):\n",
        "  BLUE = 1,\n",
        "  BLACK = 2,\n",
        "  RED = 3,\n",
        "  YELLOW = 4\n",
        "\n",
        "class Transmission(Enum):\n",
        "  MANUAL = 1,\n",
        "  AUTOMATIC = 2\n",
        "\n",
        "class Fuel(Enum):\n",
        "    ELECTRIC = 1\n",
        "    GASOLINE = 2\n",
        "    DIESEL = 3\n",
        "    HYBRID = 4\n",
        "\n",
        "# reusable code.\n",
        "\n",
        "# Java or Haskell.  Some languages require that everything be a Class (Object)\n",
        "# Python is optional\n",
        "\n",
        "# list\n",
        "# type\n",
        "# int\n",
        "\n",
        "\n",
        "# base class\n",
        "class Vehicle:\n",
        "\n",
        "  #constructor.\n",
        "\n",
        "  # class Something -- this is class definition.\n",
        "\n",
        "  # something = Something() this now becomes and object or an instance a Something.  When you create a class it runs the constructor.  That gives it is default values\n",
        "\n",
        "  # give fuelType default value to make it optional\n",
        "\n",
        "  def __init__(self, manufacturer, model, year, color, fuelType=None):\n",
        "        self.manufacturer = manufacturer\n",
        "        self.model = model\n",
        "        self.year = year\n",
        "        self.color = color\n",
        "        self.running = False\n",
        "\n",
        "  def start(self):\n",
        "      self.running = True\n",
        "\n",
        "  def stop(self):\n",
        "      self.running = False\n",
        "\n",
        "\n",
        "# inherited class\n",
        "\n",
        "# extend Cars.  Here we say Cars are derived from Vehicle.  So everything that a Vehicle has so does a car.\n",
        "\n",
        "class Car(Vehicle):\n",
        "\n",
        "    # constructor\n",
        "\n",
        "\n",
        "    def __init__(self, manufacturer, model, year, color, fuelType='XXX'):\n",
        "        # Initialize parent class (vehicle) with 4 parameters\n",
        "        # notice the word super().  That means the class that you are extending from\n",
        "\n",
        "        # suppose only cars have transmissions.  then we do not need to pass\n",
        "        # transmission to super() because vehicles don't have transmissions\n",
        "\n",
        "        super().__init__(manufacturer, model, year, color)\n",
        "\n",
        "        # Set additional attributes specific to Car\n",
        "        self.fuelType=fuelType\n",
        ""
      ]
    },
    {
      "cell_type": "code",
      "source": [
        "\n",
        "class ElectricCar(Car):\n",
        "\n",
        "     def __init__(self, manufacturer, model, year, color):\n",
        "        # Initialize parent class (vehicle) with 4 parameters\n",
        "        # notice the word super().  That means the class that you are extending from\n",
        "\n",
        "\n",
        "        # suppose only cars have transmissions.  then we do not need to pass\n",
        "        # transmission to super() because vehicles don't have transmissions\n",
        "\n",
        "        super().__init__(manufacturer, model, year, color)\n",
        "\n",
        "     def setBattery(self,battery):\n",
        "\n",
        "        self.battery=battery\n",
        "\n",
        "     def chargeBatter(self,volts):\n",
        "\n",
        "        self.volts += volts"
      ],
      "metadata": {
        "id": "TCm8i53ZIe8C"
      },
      "execution_count": 63,
      "outputs": []
    },
    {
      "cell_type": "code",
      "source": [
        "\n",
        "class Bus(Vehicle):\n",
        "\n",
        "    # constructor\n",
        "\n",
        "    hasLift=False\n",
        "\n",
        "    def __init__(self, manufacturer, model, year, color, fuelType):\n",
        "        # Initialize parent class (vehicle) with 4 parameters\n",
        "        # notice the word super().  That means the class that you are extending from\n",
        "\n",
        "\n",
        "        # suppose only cars have transmissions.  then we do not need to pass\n",
        "        # transmission to super() because vehicles don't have transmissions\n",
        "\n",
        "        super().__init__(manufacturer, model, year, color, fuelType)"
      ],
      "metadata": {
        "id": "FIhte8HP26hh"
      },
      "execution_count": 68,
      "outputs": []
    },
    {
      "cell_type": "code",
      "source": [
        "\n",
        "teslaModelS = ElectricCar(\"Tesla\", \"Model S\", 2020, Color.BLUE)\n",
        "teslaModelS.start()\n",
        "\n"
      ],
      "metadata": {
        "id": "ppFFPN04wnvr"
      },
      "execution_count": 64,
      "outputs": []
    },
    {
      "cell_type": "code",
      "source": [
        "kidsBus = Bus(\"IH\", \"kidsModel2\", 2006, Color.YELLOW, Fuel.DIESEL)\n",
        "\n",
        "\n",
        "# Here we assign attributes to the object outside of the constructor\n",
        "# in other words we can keep the constructor simpler to just create the Vehicle\n",
        "# object then we assign transmission and seats here.  Because electric cars #don't have an engine or transmission and only buses have so many seats\n",
        "\n",
        "kidsBus.transmission=Transmission.AUTOMATIC\n",
        "kidsBus.seats = 75"
      ],
      "metadata": {
        "id": "IAmLXQWz2_a2"
      },
      "execution_count": 70,
      "outputs": []
    }
  ]
}