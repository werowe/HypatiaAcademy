{
  "nbformat": 4,
  "nbformat_minor": 0,
  "metadata": {
    "colab": {
      "provenance": [],
      "authorship_tag": "ABX9TyNoUdXu0gOQtj3HrT+jLXcq",
      "include_colab_link": true
    },
    "kernelspec": {
      "name": "python3",
      "display_name": "Python 3"
    },
    "language_info": {
      "name": "python"
    }
  },
  "cells": [
    {
      "cell_type": "markdown",
      "metadata": {
        "id": "view-in-github",
        "colab_type": "text"
      },
      "source": [
        "<a href=\"https://colab.research.google.com/github/werowe/HypatiaAcademy/blob/master/basics/class_inheritance_vehicles.ipynb\" target=\"_parent\"><img src=\"https://colab.research.google.com/assets/colab-badge.svg\" alt=\"Open In Colab\"/></a>"
      ]
    },
    {
      "cell_type": "code",
      "execution_count": null,
      "metadata": {
        "id": "Ug2OGQ1lvxN1"
      },
      "outputs": [],
      "source": [
        "from enum import Enum\n",
        "\n",
        "\n",
        "class Color(Enum):\n",
        "  BLUE = 1,\n",
        "  BLACK = 2,\n",
        "  RED = 3,\n",
        "  YELLOW = 4\n",
        "\n",
        "class Transmission(Enum):\n",
        "  MANUAL = 1,\n",
        "  AUTOMATIC = 2\n",
        "\n",
        "class Fuel(Enum):\n",
        "    ELECTRIC = 1\n",
        "    GASOLINE = 2\n",
        "    DIESEL = 3\n",
        "    HYBRID = 4\n",
        "\n",
        "\n",
        "class Location:\n",
        "\n",
        "# We will use Kiev, Ukraine as our default location.  Then for each vehicle we will implement a drive() method.  By having default values in the constructor for location we do not have to specify a value when we create a vehile.\n",
        "#\n",
        "# Here is the longitude and latitude for Ukraine given in degrees in decimal noation (as opposed minutes and seconds)\n",
        "#\n",
        "# Ukraine  Latitude: 50.4501\n",
        "#Longitude: 30.5234\n",
        "\n",
        "  def __init__(self, longitude=30.5234, latitude=50.4501):\n",
        "\n",
        "    self.longitude = longitude\n",
        "    self.latitude = longitude\n",
        "\n",
        "\n",
        "# base class\n",
        "class Vehicle:\n",
        "\n",
        "  #constructor.\n",
        "\n",
        "  # class Something -- this is class definition.\n",
        "\n",
        "  # something = Something() this now becomes and object or an instance a Something.  When you create a class it runs the constructor.  That gives it is default values\n",
        "\n",
        "  # give fuelType default value to make it optional\n",
        "\n",
        "  def __init__(self, manufacturer, model, year, color, fuelType=None):\n",
        "        self.manufacturer = manufacturer\n",
        "        self.model = model\n",
        "        self.year = year\n",
        "        self.color = color\n",
        "        self.running = False\n",
        "        self.location = Location()\n",
        "\n",
        "  def start(self):\n",
        "      self.running = True\n",
        "\n",
        "  def stop(self):\n",
        "      self.running = False\n",
        "\n",
        "  # calculate the new location based upon directory, speed, and time\n",
        "\n",
        "  def __repr__(self):\n",
        "\n",
        "    return \"our {} is at location longitude {} and latitude {}\".format(type(self), self.location.longitude, self.location.latitude)\n",
        "\n",
        "  def drive(self, direction, speed, time):\n",
        "\n",
        "    pass\n",
        "\n",
        "\n",
        "# inherited class\n",
        "\n",
        "# extend Cars.  Here we say Cars are derived from Vehicle.  So everything that a Vehicle has so does a car.\n",
        "\n",
        "class Car(Vehicle):\n",
        "\n",
        "    # constructor\n",
        "\n",
        "\n",
        "    def __init__(self, manufacturer, model, year, color, fuelType='XXX'):\n",
        "        # Initialize parent class (vehicle) with 4 parameters\n",
        "        # notice the word super().  That means the class that you are extending from\n",
        "\n",
        "        # suppose only cars have transmissions.  then we do not need to pass\n",
        "        # transmission to super() because vehicles don't have transmissions\n",
        "\n",
        "        super().__init__(manufacturer, model, year, color)\n",
        "\n",
        "        # Set additional attributes specific to Car\n",
        "        self.fuelType=fuelType\n"
      ]
    },
    {
      "cell_type": "code",
      "source": [
        "\n",
        "class ElectricCar(Car):\n",
        "\n",
        "     def __init__(self, manufacturer, model, year, color):\n",
        "        # Initialize parent class (vehicle) with 4 parameters\n",
        "        # notice the word super().  That means the class that you are extending from\n",
        "\n",
        "\n",
        "        # suppose only cars have transmissions.  then we do not need to pass\n",
        "        # transmission to super() because vehicles don't have transmissions\n",
        "\n",
        "        super().__init__(manufacturer, model, year, color)\n",
        "\n",
        "     def setBattery(self,battery):\n",
        "\n",
        "        self.battery=battery\n",
        "\n",
        "     def chargeBatter(self,volts):\n",
        "\n",
        "        self.volts += volts"
      ],
      "metadata": {
        "id": "TCm8i53ZIe8C"
      },
      "execution_count": null,
      "outputs": []
    },
    {
      "cell_type": "code",
      "source": [
        "\n",
        "class Bus(Vehicle):\n",
        "\n",
        "    # constructor\n",
        "\n",
        "    hasLift=False\n",
        "\n",
        "    def __init__(self, manufacturer, model, year, color, fuelType):\n",
        "        # Initialize parent class (vehicle) with 4 parameters\n",
        "        # notice the word super().  That means the class that you are extending from\n",
        "\n",
        "\n",
        "        # suppose only cars have transmissions.  then we do not need to pass\n",
        "        # transmission to super() because vehicles don't have transmissions\n",
        "\n",
        "        super().__init__(manufacturer, model, year, color, fuelType)"
      ],
      "metadata": {
        "id": "FIhte8HP26hh"
      },
      "execution_count": null,
      "outputs": []
    },
    {
      "cell_type": "code",
      "source": [
        "\n",
        "teslaModelS = ElectricCar(\"Tesla\", \"Model S\", 2020, Color.BLUE)\n",
        "teslaModelS.start()\n",
        "print(teslaModelS)\n"
      ],
      "metadata": {
        "id": "ppFFPN04wnvr",
        "colab": {
          "base_uri": "https://localhost:8080/"
        },
        "outputId": "35e09ec9-4b5c-48d8-bbe8-e85bc50fda02"
      },
      "execution_count": null,
      "outputs": [
        {
          "output_type": "stream",
          "name": "stdout",
          "text": [
            "our <class '__main__.ElectricCar'> is at location longitude 30.5234 and latitude 30.5234\n"
          ]
        }
      ]
    },
    {
      "cell_type": "code",
      "source": [
        "teslaModelS.location.longitude"
      ],
      "metadata": {
        "colab": {
          "base_uri": "https://localhost:8080/"
        },
        "id": "WrIhIFrrsvJ1",
        "outputId": "5162d26b-2039-4c64-c60c-813edfbac6a2"
      },
      "execution_count": null,
      "outputs": [
        {
          "output_type": "execute_result",
          "data": {
            "text/plain": [
              "30.5234"
            ]
          },
          "metadata": {},
          "execution_count": 14
        }
      ]
    },
    {
      "cell_type": "code",
      "source": [
        "kidsBus = Bus(\"IH\", \"kidsModel2\", 2006, Color.YELLOW, Fuel.DIESEL)\n",
        "\n",
        "\n",
        "# Here we assign attributes to the object outside of the constructor\n",
        "# in other words we can keep the constructor simpler to just create the Vehicle\n",
        "# object then we assign transmission and seats here.  Because electric cars #don't have an engine or transmission and only buses have so many seats\n",
        "\n",
        "kidsBus.transmission=Transmission.AUTOMATIC\n",
        "kidsBus.seats = 75"
      ],
      "metadata": {
        "id": "IAmLXQWz2_a2"
      },
      "execution_count": null,
      "outputs": []
    }
  ]
}