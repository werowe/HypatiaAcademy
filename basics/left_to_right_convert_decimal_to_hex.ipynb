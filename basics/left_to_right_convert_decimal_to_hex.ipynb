{
  "nbformat": 4,
  "nbformat_minor": 0,
  "metadata": {
    "colab": {
      "provenance": [],
      "include_colab_link": true
    },
    "kernelspec": {
      "name": "python3",
      "display_name": "Python 3"
    },
    "language_info": {
      "name": "python"
    }
  },
  "cells": [
    {
      "cell_type": "markdown",
      "metadata": {
        "id": "view-in-github",
        "colab_type": "text"
      },
      "source": [
        "<a href=\"https://colab.research.google.com/github/werowe/HypatiaAcademy/blob/master/basics/left_to_right_convert_decimal_to_hex.ipynb\" target=\"_parent\"><img src=\"https://colab.research.google.com/assets/colab-badge.svg\" alt=\"Open In Colab\"/></a>"
      ]
    },
    {
      "cell_type": "code",
      "source": [
        "def remainder_to_hex(x):\n",
        "    remainder = x\n",
        "\n",
        "        hex_mapping = {\n",
        "        0: '0', 1: '1', 2: '2', 3: '3',\n",
        "        4: '4', 5: '5', 6: '6', 7: '7',\n",
        "        8: '8', 9: '9', 10: 'A', 11: 'B',\n",
        "        12: 'C', 13: 'D', 14: 'E', 15: 'F'\n",
        "    }\n",
        "\n",
        "      hex_value = hex_mapping[remainder]\n",
        "\n",
        "    return hex_value"
      ],
      "metadata": {
        "id": "xVC42rC_tPlL"
      },
      "execution_count": null,
      "outputs": []
    },
    {
      "cell_type": "markdown",
      "source": [
        "# Algorithm\n",
        "\n",
        "n is the decimal number\n",
        "r is the remainder\n",
        "\n",
        "i=1\n",
        "$xi=n$\n",
        "\n",
        "mod means modulo in math which is % in Python which is the remainder after division.  So $65 \\mod 4 = 1$.\n",
        "\n",
        "repeat until x is 0.  Add each $r_i$ to a list translating it to its corresponding hexadecimal digit as you do so.  The list is in reverse order so sort when done to\n",
        "\n",
        "$$r_{i} = (x_i \\mod 16)$$\n",
        "\n",
        "$$x_{i+1} = \\frac{x_1 - r_1}{16}$$\n",
        "\n",
        "Example:\n",
        "\n",
        "$$n=65$$\n",
        "\n",
        "$$x1=65$$\n",
        "\n",
        "first loop:\n",
        "\n",
        "$$r_1 = (65 \\mod 16) = 1$$\n",
        "\n",
        "$$x2 = \\frac{65 - 1}{16} = 4$$\n",
        "\n",
        "second loop:\n",
        "\n",
        "$$r_2 = (4  \\mod  16) = 4$$\n",
        "\n",
        "$$x3 = \\frac{4 - 4}{16} = 0$$\n",
        "\n",
        "\n"
      ],
      "metadata": {
        "id": "GLBy4RwDfXrU"
      }
    },
    {
      "cell_type": "code",
      "execution_count": null,
      "metadata": {
        "id": "MREBTv7WsZF3"
      },
      "outputs": [],
      "source": [
        "\n",
        "\n",
        "def cHex(x):\n",
        "  almost_an_output = []\n",
        "\n",
        "  while x>0:\n",
        "    print(\"\\nx=\", x, end=\" \")\n",
        "    remainder = x%16 # find the remainder\n",
        "    print(\"remainder=\", remainder, end=\" \")\n",
        "    almost_an_output.append(remainder_to_hex(remainder)) # save the output in a list\n",
        "    x = (x-remainder)/16 # new number for the loop\n",
        "    print(\"new x =\", x, \"\\n\")\n",
        "    print(almost_an_output) # check progress\n",
        "\n",
        "  almost_an_output.reverse()\n",
        "  output = \"\".join(almost_an_output)\n",
        "  return output\n"
      ]
    },
    {
      "cell_type": "code",
      "source": [
        "cHex(5207253)"
      ],
      "metadata": {
        "colab": {
          "base_uri": "https://localhost:8080/",
          "height": 452
        },
        "id": "omK5PMTpu0Eb",
        "outputId": "cf01165d-cc8d-4b78-901b-8dff4eb87295"
      },
      "execution_count": null,
      "outputs": [
        {
          "output_type": "stream",
          "name": "stdout",
          "text": [
            "\n",
            "x= 5207253 remainder= 5 new x = 325453.0 \n",
            "\n",
            "['5']\n",
            "\n",
            "x= 325453.0 remainder= 13.0 new x = 20340.0 \n",
            "\n",
            "['5', 'D']\n",
            "\n",
            "x= 20340.0 remainder= 4.0 new x = 1271.0 \n",
            "\n",
            "['5', 'D', '4']\n",
            "\n",
            "x= 1271.0 remainder= 7.0 new x = 79.0 \n",
            "\n",
            "['5', 'D', '4', '7']\n",
            "\n",
            "x= 79.0 remainder= 15.0 new x = 4.0 \n",
            "\n",
            "['5', 'D', '4', '7', 'F']\n",
            "\n",
            "x= 4.0 remainder= 4.0 new x = 0.0 \n",
            "\n",
            "['5', 'D', '4', '7', 'F', '4']\n"
          ]
        },
        {
          "output_type": "execute_result",
          "data": {
            "text/plain": [
              "'4F74D5'"
            ],
            "application/vnd.google.colaboratory.intrinsic+json": {
              "type": "string"
            }
          },
          "metadata": {},
          "execution_count": 3
        }
      ]
    },
    {
      "cell_type": "code",
      "source": [
        "cHex(65)"
      ],
      "metadata": {
        "colab": {
          "base_uri": "https://localhost:8080/",
          "height": 174
        },
        "id": "AMEsWM8RL3r9",
        "outputId": "48df19e9-8429-4cfb-9abb-3d6674badeac"
      },
      "execution_count": null,
      "outputs": [
        {
          "output_type": "stream",
          "name": "stdout",
          "text": [
            "\n",
            "x= 65 remainder= 1 new x = 4.0 \n",
            "\n",
            "['1']\n",
            "\n",
            "x= 4.0 remainder= 4.0 new x = 0.0 \n",
            "\n",
            "['1', '4']\n"
          ]
        },
        {
          "output_type": "execute_result",
          "data": {
            "text/plain": [
              "'41'"
            ],
            "application/vnd.google.colaboratory.intrinsic+json": {
              "type": "string"
            }
          },
          "metadata": {},
          "execution_count": 4
        }
      ]
    },
    {
      "cell_type": "code",
      "source": [
        "hex(5207253)"
      ],
      "metadata": {
        "colab": {
          "base_uri": "https://localhost:8080/",
          "height": 35
        },
        "id": "GkZOgHNm-iAA",
        "outputId": "673fdc5f-4062-4965-8eb1-d173a88e89b1"
      },
      "execution_count": null,
      "outputs": [
        {
          "output_type": "execute_result",
          "data": {
            "text/plain": [
              "'0x4f74d5'"
            ],
            "application/vnd.google.colaboratory.intrinsic+json": {
              "type": "string"
            }
          },
          "metadata": {},
          "execution_count": 5
        }
      ]
    },
    {
      "cell_type": "code",
      "source": [
        "hex(65)"
      ],
      "metadata": {
        "colab": {
          "base_uri": "https://localhost:8080/",
          "height": 35
        },
        "id": "jNmvwl-ZL8tt",
        "outputId": "496b1b5a-e0b4-4569-c368-f249a46c54a0"
      },
      "execution_count": null,
      "outputs": [
        {
          "output_type": "execute_result",
          "data": {
            "text/plain": [
              "'0x41'"
            ],
            "application/vnd.google.colaboratory.intrinsic+json": {
              "type": "string"
            }
          },
          "metadata": {},
          "execution_count": 6
        }
      ]
    }
  ]
}