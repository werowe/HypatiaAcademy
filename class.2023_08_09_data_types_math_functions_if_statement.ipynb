{
  "nbformat": 4,
  "nbformat_minor": 0,
  "metadata": {
    "colab": {
      "provenance": [],
      "toc_visible": true,
      "authorship_tag": "ABX9TyN90PhonzHv3qe6+uzRRUSS",
      "include_colab_link": true
    },
    "kernelspec": {
      "name": "python3",
      "display_name": "Python 3"
    },
    "language_info": {
      "name": "python"
    }
  },
  "cells": [
    {
      "cell_type": "markdown",
      "metadata": {
        "id": "view-in-github",
        "colab_type": "text"
      },
      "source": [
        "<a href=\"https://colab.research.google.com/github/werowe/HypatiaAcademy/blob/master/class.2023_08_09_data_types_math_functions_if_statement.ipynb\" target=\"_parent\"><img src=\"https://colab.research.google.com/assets/colab-badge.svg\" alt=\"Open In Colab\"/></a>"
      ]
    },
    {
      "cell_type": "markdown",
      "source": [
        "# Data Types, Math Operators, Equality vs. Assignment, If Statement\n",
        "\n"
      ],
      "metadata": {
        "id": "kCZU_5FpTbHM"
      }
    },
    {
      "cell_type": "markdown",
      "source": [
        "#Data Types\n",
        "\n",
        "| Type | Example |\n",
        "| ----------- | ----------- |\n",
        "| integer | 2 |\n",
        "| float | 2.2 |\n",
        "| boolean | True |\n"
      ],
      "metadata": {
        "id": "Y4xAnTpDT0ml"
      }
    },
    {
      "cell_type": "markdown",
      "source": [
        "#Math Operators\n",
        "\n",
        "| addition | Example |\n",
        "| ----------- | ----------- |\n",
        "| addition |   |\n",
        "| subtraction |  |\n",
        "|  |   |\n",
        "\n",
        "##Test Equals\n",
        "\n",
        "##Cash, Coerce\n",
        "\n",
        "##Precedence\n",
        "\n",
        "2*3/2\n",
        "\n"
      ],
      "metadata": {
        "id": "_To3NoKmT5Nw"
      }
    },
    {
      "cell_type": "markdown",
      "source": [
        "##Math Library"
      ],
      "metadata": {
        "id": "2iJ10KFaVGpR"
      }
    },
    {
      "cell_type": "code",
      "source": [
        "import math\n",
        "\n",
        "math.sqrt(2)"
      ],
      "metadata": {
        "colab": {
          "base_uri": "https://localhost:8080/"
        },
        "id": "rM3W2PcDU4rK",
        "outputId": "ea21a547-a70d-44dd-a0bc-4f8109bc7b2b"
      },
      "execution_count": 1,
      "outputs": [
        {
          "output_type": "execute_result",
          "data": {
            "text/plain": [
              "1.4142135623730951"
            ]
          },
          "metadata": {},
          "execution_count": 1
        }
      ]
    },
    {
      "cell_type": "markdown",
      "source": [
        "#If Statememt"
      ],
      "metadata": {
        "id": "D_2L2lchUA6r"
      }
    },
    {
      "cell_type": "code",
      "source": [
        "if\n"
      ],
      "metadata": {
        "id": "lmdjuB_3VT-e"
      },
      "execution_count": null,
      "outputs": []
    }
  ]
}