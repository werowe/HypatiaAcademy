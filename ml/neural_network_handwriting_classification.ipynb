{
  "nbformat": 4,
  "nbformat_minor": 0,
  "metadata": {
    "colab": {
      "provenance": [],
      "gpuType": "T4",
      "authorship_tag": "ABX9TyNRBj4dZw85kS8tVXs48zLY",
      "include_colab_link": true
    },
    "kernelspec": {
      "name": "python3",
      "display_name": "Python 3"
    },
    "language_info": {
      "name": "python"
    },
    "accelerator": "GPU"
  },
  "cells": [
    {
      "cell_type": "markdown",
      "metadata": {
        "id": "view-in-github",
        "colab_type": "text"
      },
      "source": [
        "<a href=\"https://colab.research.google.com/github/werowe/HypatiaAcademy/blob/master/ml/neural_network_handwriting_classification.ipynb\" target=\"_parent\"><img src=\"https://colab.research.google.com/assets/colab-badge.svg\" alt=\"Open In Colab\"/></a>"
      ]
    },
    {
      "cell_type": "markdown",
      "source": [
        "#MNIST\n",
        "\n",
        "The **hello world** program of **deep learing**.\n",
        "\n",
        "Each image is made up of 28 pixels in width and 28 pixels in height, resulting in a total of 784 pixels per image.  \n",
        "\n",
        "**Grayscale**: The images are not colored (RGB); instead, each pixel holds a single value representing the intensity of gray, ranging from 0 (black) to 255 (white), with intermediate values for shades of gray\n",
        "\n",
        "\n",
        "A **pixel** is the smallest unit of a digital image or display. It is a tiny square or dot that represents a single point of color or brightness in an image.\n",
        "\n",
        "#Keras\n",
        "\n",
        "Keras developed by François Chollet in 2015.  It was a high-level API designed to make TensorFlow easier to use.  \n",
        "\n",
        "Google integrated Keras into TensorFlow in early 2017.  \n",
        "\n",
        "> The code for his book is [online here](https://github.com/fchollet/deep-learning-with-python-notebooks). Much of it needs to be revised in small parts because the names of items have changed since Keras was made a part of TensorFlow\n",
        "\n"
      ],
      "metadata": {
        "id": "gqcf47wMa_7O"
      }
    },
    {
      "cell_type": "code",
      "execution_count": 68,
      "metadata": {
        "id": "fcJwPo00aJdb"
      },
      "outputs": [],
      "source": [
        "from tensorflow import keras\n",
        "\n",
        "(train_images, train_labels), (test_images, test_labels) = keras.datasets.mnist.load_data()\n"
      ]
    },
    {
      "cell_type": "markdown",
      "source": [
        "# Image Shape\n",
        "\n",
        "images three dimensions:  (width, heigh, color depth).\n",
        "\n",
        "Grayscale have 1 channel.  Color (RGB, red, green blub) have 3.  \n",
        "\n",
        "So 128 gray scale images shorted as shape:\n",
        "\n",
        "(128,256,256,1)\n",
        "\n",
        "color\n",
        "\n",
        "(128,256,256,3)\n",
        "\n",
        "\n",
        "## Color density\n",
        "\n",
        "Grayscale Images and Bit Depth\n",
        "In an 8-bit grayscale image, each pixel is represented by 8 bits (1 byte).\n",
        "\n",
        "This allows for $2^8 = 256$\n",
        "  possible intensity values.\n",
        "\n",
        "The convention is:\n",
        "\n",
        "* 0 = black (lowest intensity)\n",
        "\n",
        "* 255 = white (highest intensity)\n",
        "\n",
        "So, a pixel at a particular (height, width) coordinate with a value of 0 is black, and with a value of 255 is white. Values in between are shades of gray\n",
        "\n"
      ],
      "metadata": {
        "id": "jH5ffLXaNuc5"
      }
    },
    {
      "cell_type": "code",
      "source": [
        "import matplotlib.pyplot as plt\n",
        "\n",
        "plt.imshow(train_images[0], cmap='gray')"
      ],
      "metadata": {
        "colab": {
          "base_uri": "https://localhost:8080/",
          "height": 448
        },
        "id": "hrsYEtf_hvX2",
        "outputId": "0e64b339-671f-4701-d192-1e0a612f8085"
      },
      "execution_count": 69,
      "outputs": [
        {
          "output_type": "execute_result",
          "data": {
            "text/plain": [
              "<matplotlib.image.AxesImage at 0x7d7201d82cd0>"
            ]
          },
          "metadata": {},
          "execution_count": 69
        },
        {
          "output_type": "display_data",
          "data": {
            "text/plain": [
              "<Figure size 640x480 with 1 Axes>"
            ],
            "image/png": "[encoded data removed]"
          },
          "metadata": {}
        }
      ]
    },
    {
      "cell_type": "code",
      "source": [
        "# white\n",
        "\n",
        "train_images[0][0][0]"
      ],
      "metadata": {
        "colab": {
          "base_uri": "https://localhost:8080/"
        },
        "id": "oAbBfv_mQ-Q5",
        "outputId": "772649d1-616d-4af3-bc57-540868968ca9"
      },
      "execution_count": 70,
      "outputs": [
        {
          "output_type": "execute_result",
          "data": {
            "text/plain": [
              "np.uint8(0)"
            ]
          },
          "metadata": {},
          "execution_count": 70
        }
      ]
    },
    {
      "cell_type": "code",
      "source": [
        "train_images[0][5]"
      ],
      "metadata": {
        "colab": {
          "base_uri": "https://localhost:8080/"
        },
        "id": "O3Q4O5S2Rkdo",
        "outputId": "a5b43b16-3429-49ec-d024-f5e852d32c33"
      },
      "execution_count": 71,
      "outputs": [
        {
          "output_type": "execute_result",
          "data": {
            "text/plain": [
              "array([  0,   0,   0,   0,   0,   0,   0,   0,   0,   0,   0,   0,   3,\n",
              "        18,  18,  18, 126, 136, 175,  26, 166, 255, 247, 127,   0,   0,\n",
              "         0,   0], dtype=uint8)"
            ]
          },
          "metadata": {},
          "execution_count": 71
        }
      ]
    },
    {
      "cell_type": "code",
      "source": [
        "#black\n",
        "\n",
        "train_images[0][5][21]"
      ],
      "metadata": {
        "colab": {
          "base_uri": "https://localhost:8080/"
        },
        "id": "YhXucmEuRrRy",
        "outputId": "7456b1b7-f6c2-422a-db5c-dfaa2d5059ba"
      },
      "execution_count": 72,
      "outputs": [
        {
          "output_type": "execute_result",
          "data": {
            "text/plain": [
              "np.uint8(255)"
            ]
          },
          "metadata": {},
          "execution_count": 72
        }
      ]
    },
    {
      "cell_type": "code",
      "source": [
        "train_labels.shape"
      ],
      "metadata": {
        "id": "g63caOsuSFye",
        "outputId": "672b0b52-1c8d-4c59-ee50-d2dce51fff1b",
        "colab": {
          "base_uri": "https://localhost:8080/"
        }
      },
      "execution_count": 73,
      "outputs": [
        {
          "output_type": "execute_result",
          "data": {
            "text/plain": [
              "(60000,)"
            ]
          },
          "metadata": {},
          "execution_count": 73
        }
      ]
    },
    {
      "cell_type": "markdown",
      "source": [
        "This network has two **Dense** layers which are densly connected (aka fully-connected).  In a dense layer, every neuron in the layer receives input from every neuron in the previous layer.\n",
        "\n",
        "This means the layer is **fully connected**: all possible connections between the previous layer and the current layer exist.Each connection has an associated weight that is learned during training, allowing the network to model complex relationships in the data.\n",
        "\n",
        "The second layer is a 10-way softmax layer.  It will return the data probability that each images is one of the digits 0 to 9.\n",
        "\n",
        "\n",
        "> Credits: Excerpted from [this notebook](https://github.com/fchollet/deep-learning-with-python-notebooks/blob/master/chapter02_mathematical-building-blocks.ipynb)\n",
        "\n",
        "## Loss Functions\n",
        "Get's rid of linearity.  Otherwise model could only learn linear relationships.\n",
        "\n",
        "### relu (recitified linear unit)\n",
        "\n",
        "relu(x) = max(x, 0)\n",
        "\n",
        "### softmax\n",
        "\n",
        "Converts a vector of raw output scores (also called logits) from the network into a probability distribution over possible classes.\n",
        "\n",
        "$$\\text{softmax}(z_i) = \\frac{e^{z_i}}{\\sum_{j=1}^K e^{z_j}}$$\n",
        "\n",
        "where:\n",
        "\n",
        "* $ z_i $ is the raw score for class\n",
        "\n",
        "* K is the total number of classes\n",
        "\n",
        "\n",
        "\n",
        "\n"
      ],
      "metadata": {
        "id": "DYKA4PgydBNj"
      }
    },
    {
      "cell_type": "code",
      "source": [
        "from tensorflow import keras\n",
        "from tensorflow.keras import layers\n",
        "\n",
        "model = keras.Sequential([\n",
        "    layers.Dense(512, activation=\"relu\"),\n",
        "    layers.Dense(10, activation=\"softmax\")\n",
        "])"
      ],
      "metadata": {
        "id": "8fHYPu7fc4H7"
      },
      "execution_count": 74,
      "outputs": []
    },
    {
      "cell_type": "markdown",
      "source": [
        "Need to pick:\n",
        "\n",
        "1. a **loss function** to measure how the network will be able determine its performance\n",
        "\n",
        "2. and an **optimizer** which is the mechanism the network uses to update itself based on data and the loss function.\n",
        "\n",
        "## model.compile arguments\n",
        "\n",
        "\n",
        "* **optimizer=\"rmsprop\"**—specifies rules for using the gradient descent.  \n",
        "* **loss=\"sparse_categorical_crossentropy\"**—the loss function.  Use to minimize the loss using minibatch **stochastic gradient descent**.   \n"
      ],
      "metadata": {
        "id": "pFUgsV0B86RQ"
      }
    },
    {
      "cell_type": "code",
      "source": [
        "model.compile(optimizer=\"rmsprop\",\n",
        "              loss=\"sparse_categorical_crossentropy\",\n",
        "              metrics=[\"accuracy\"])"
      ],
      "metadata": {
        "id": "Bbt1ttKP9YEc"
      },
      "execution_count": 75,
      "outputs": []
    },
    {
      "cell_type": "code",
      "source": [
        "train_images.shape"
      ],
      "metadata": {
        "colab": {
          "base_uri": "https://localhost:8080/"
        },
        "id": "O4HxauWH-fHg",
        "outputId": "e8df8ab4-fbde-4d9f-eb9d-cbc1a56be31e"
      },
      "execution_count": 76,
      "outputs": [
        {
          "output_type": "execute_result",
          "data": {
            "text/plain": [
              "(60000, 28, 28)"
            ]
          },
          "metadata": {},
          "execution_count": 76
        }
      ]
    },
    {
      "cell_type": "markdown",
      "source": [
        "convert (60000, 28, 28) to (60000, 28 * 28) - (60000, 784)\n",
        "\n",
        "and then scale to between 0 and 1\n",
        "\n",
        "# Why Reshape to (60000, 784)?\n",
        "\n",
        "The first Dense layer in the provided model (layers.Dense(512, activation=\"relu\")) expects input as 1D vectors, not 2D images. Each neuron in a Dense layer connects to every element of the input, so the 28x28 grid is flattened into a 784-element vector.\n",
        "\n"
      ],
      "metadata": {
        "id": "te02odEn-cX1"
      }
    },
    {
      "cell_type": "code",
      "source": [
        "train_images = train_images.reshape((60000, 28 * 28))\n",
        "train_images = train_images.astype(\"float32\") / 255\n",
        "test_images = test_images.reshape((10000, 28 * 28))\n",
        "test_images = test_images.astype(\"float32\") / 255"
      ],
      "metadata": {
        "id": "gajacY8y9lmh"
      },
      "execution_count": 77,
      "outputs": []
    },
    {
      "cell_type": "code",
      "source": [
        "train_images.shape"
      ],
      "metadata": {
        "colab": {
          "base_uri": "https://localhost:8080/"
        },
        "id": "naKrVQgJ-pIb",
        "outputId": "43a4b4b7-6d05-4154-9bd2-c954c448cf51"
      },
      "execution_count": 78,
      "outputs": [
        {
          "output_type": "execute_result",
          "data": {
            "text/plain": [
              "(60000, 784)"
            ]
          },
          "metadata": {},
          "execution_count": 78
        }
      ]
    },
    {
      "cell_type": "code",
      "source": [
        "train_labels"
      ],
      "metadata": {
        "colab": {
          "base_uri": "https://localhost:8080/"
        },
        "id": "_mLI8r3a_S23",
        "outputId": "779f5492-622b-40ef-f1d4-0c8f4435a8c2"
      },
      "execution_count": 79,
      "outputs": [
        {
          "output_type": "execute_result",
          "data": {
            "text/plain": [
              "array([5, 0, 4, ..., 5, 6, 8], dtype=uint8)"
            ]
          },
          "metadata": {},
          "execution_count": 79
        }
      ]
    },
    {
      "cell_type": "markdown",
      "source": [
        "It shows the **loss** and **accuracy** as it runs.  We stop when the accuracy reaches a high enough number.  Achieving a higher accuracy is done by increasing the number of epochs and adding hidden layers.\n",
        "\n",
        "> **Remember** you reduce loss by moving in the opposite direction of the gradient.\n",
        "\n",
        "\n",
        "## model.fit\n",
        "\n",
        "Network iterates on the training data in mini-batches of 128 samples, 5 times over (each iteration over the training data is called an **epoch**)"
      ],
      "metadata": {
        "id": "euVTLuvhBC0M"
      }
    },
    {
      "cell_type": "code",
      "source": [
        "import time\n",
        "\n",
        "start = time.perf_counter()\n",
        "\n",
        "history=model.fit(train_images, train_labels, epochs=5, batch_size=128, validation_split=0.2)\n",
        "\n",
        "end = time.perf_counter()\n",
        "\n",
        "elapsed = end - start\n",
        "print(f\"Elapsed time: {elapsed:.6f} seconds\")"
      ],
      "metadata": {
        "colab": {
          "base_uri": "https://localhost:8080/"
        },
        "id": "hUcyHDPC_eBn",
        "outputId": "b0270b6e-d643-4076-b3de-1b6410c8b442"
      },
      "execution_count": 80,
      "outputs": [
        {
          "output_type": "stream",
          "name": "stdout",
          "text": [
            "Epoch 1/5\n",
            "\u001b[1m375/375\u001b[0m \u001b[32m━━━━━━━━━━━━━━━━━━━━\u001b[0m\u001b[37m\u001b[0m \u001b[1m2s\u001b[0m 4ms/step - accuracy: 0.8646 - loss: 0.4795 - val_accuracy: 0.9570 - val_loss: 0.1535\n",
            "Epoch 2/5\n",
            "\u001b[1m375/375\u001b[0m \u001b[32m━━━━━━━━━━━━━━━━━━━━\u001b[0m\u001b[37m\u001b[0m \u001b[1m1s\u001b[0m 3ms/step - accuracy: 0.9616 - loss: 0.1317 - val_accuracy: 0.9651 - val_loss: 0.1173\n",
            "Epoch 3/5\n",
            "\u001b[1m375/375\u001b[0m \u001b[32m━━━━━━━━━━━━━━━━━━━━\u001b[0m\u001b[37m\u001b[0m \u001b[1m1s\u001b[0m 3ms/step - accuracy: 0.9769 - loss: 0.0813 - val_accuracy: 0.9744 - val_loss: 0.0891\n",
            "Epoch 4/5\n",
            "\u001b[1m375/375\u001b[0m \u001b[32m━━━━━━━━━━━━━━━━━━━━\u001b[0m\u001b[37m\u001b[0m \u001b[1m2s\u001b[0m 4ms/step - accuracy: 0.9836 - loss: 0.0568 - val_accuracy: 0.9762 - val_loss: 0.0824\n",
            "Epoch 5/5\n",
            "\u001b[1m375/375\u001b[0m \u001b[32m━━━━━━━━━━━━━━━━━━━━\u001b[0m\u001b[37m\u001b[0m \u001b[1m2s\u001b[0m 3ms/step - accuracy: 0.9884 - loss: 0.0418 - val_accuracy: 0.9761 - val_loss: 0.0823\n",
            "Elapsed time: 8.709496 seconds\n"
          ]
        }
      ]
    },
    {
      "cell_type": "code",
      "source": [
        "import numpy as np\n",
        "\n",
        "np.set_printoptions(suppress=True)\n",
        "\n",
        "\n",
        "# you cannot know which image produced which prediction\n",
        "\n",
        "predictions=model.predict(test_images)\n",
        "\n"
      ],
      "metadata": {
        "id": "3KmOM8l3Scwg",
        "outputId": "8d60e815-093e-4e3b-e9fe-2e61fafbddb1",
        "colab": {
          "base_uri": "https://localhost:8080/"
        }
      },
      "execution_count": 81,
      "outputs": [
        {
          "output_type": "stream",
          "name": "stdout",
          "text": [
            "\u001b[1m313/313\u001b[0m \u001b[32m━━━━━━━━━━━━━━━━━━━━\u001b[0m\u001b[37m\u001b[0m \u001b[1m1s\u001b[0m 2ms/step\n"
          ]
        }
      ]
    },
    {
      "cell_type": "code",
      "source": [
        "\n",
        "plt.imshow(test_images[3].reshape(28,28), cmap='gray')"
      ],
      "metadata": {
        "id": "13YIiywxV6hx",
        "outputId": "e2a7fd21-2c65-4803-c279-8888dd42e672",
        "colab": {
          "base_uri": "https://localhost:8080/",
          "height": 448
        }
      },
      "execution_count": 82,
      "outputs": [
        {
          "output_type": "execute_result",
          "data": {
            "text/plain": [
              "<matplotlib.image.AxesImage at 0x7d71f801a6d0>"
            ]
          },
          "metadata": {},
          "execution_count": 82
        },
        {
          "output_type": "display_data",
          "data": {
            "text/plain": [
              "<Figure size 640x480 with 1 Axes>"
            ],
            "image/png": "[encoded data removed]"
          },
          "metadata": {}
        }
      ]
    },
    {
      "cell_type": "markdown",
      "source": [
        "# Prediction\n",
        "\n",
        "This\n",
        "\n",
        "```\n",
        "\n",
        "model.predict(test_images[3:4])\n",
        "\n",
        "[[0.99965656 0.00000034 0.0000693  0.00000061 0.00000191 0.00000301\n",
        "  0.00008055 0.00017799 0.00000002 0.00000961]]\n",
        "\n",
        "```\n",
        "\n",
        "Returns an array of shape (1, 10), representing the probability scores for each of the 10 digit classes (0-9) for the 4th test image.\n",
        "\n",
        " `test_images[3:4]` selects the 4th image as a batch of one, with shape (1, 784) (assuming your images are flattened for a dense network).\n",
        "\n",
        "`model.predict(test_images[3:4])` outputs an array of shape (1, 10), which contains the predicted probabilities for each digit class (0 through 9) for that image.\n",
        "\n",
        "\n",
        "so this says it's 99% probability the image is a zero:\n",
        "\n",
        "```\n",
        "[[0.99965656 0.00000034 0.0000693  0.00000061 0.00000191 0.00000301\n",
        "  0.00008055 0.00017799 0.00000002 0.00000961]]\n",
        "```\n"
      ],
      "metadata": {
        "id": "Wu6Elp8lYcUM"
      }
    },
    {
      "cell_type": "code",
      "source": [
        "\n",
        "\n",
        "prediction = model.predict(test_images[3:4])\n",
        "print(\"Prediction for test_images[3]:\", prediction)"
      ],
      "metadata": {
        "id": "seTf1n_-T9zy",
        "outputId": "5ea2394a-1d44-420e-f7eb-5a8c0ec078ed",
        "colab": {
          "base_uri": "https://localhost:8080/"
        }
      },
      "execution_count": 83,
      "outputs": [
        {
          "output_type": "stream",
          "name": "stdout",
          "text": [
            "\u001b[1m1/1\u001b[0m \u001b[32m━━━━━━━━━━━━━━━━━━━━\u001b[0m\u001b[37m\u001b[0m \u001b[1m0s\u001b[0m 137ms/step\n",
            "Prediction for test_images[3]: [[0.9993649  0.00000057 0.00011171 0.0000038  0.00000015 0.00003117\n",
            "  0.00014656 0.00033782 0.00000001 0.00000323]]\n"
          ]
        }
      ]
    },
    {
      "cell_type": "code",
      "source": [
        "predicted_digit = np.argmax(prediction)\n",
        "print(\"Predicted digit for test_images[3]:\", predicted_digit)"
      ],
      "metadata": {
        "id": "zXZUFmZLZsLY",
        "outputId": "1c4641c0-8807-4b73-938a-4c80ac5c5112",
        "colab": {
          "base_uri": "https://localhost:8080/"
        }
      },
      "execution_count": 84,
      "outputs": [
        {
          "output_type": "stream",
          "name": "stdout",
          "text": [
            "Predicted digit for test_images[3]: 0\n"
          ]
        }
      ]
    },
    {
      "cell_type": "code",
      "source": [
        "test_images[3:4].shape"
      ],
      "metadata": {
        "id": "s_jfFJh2WrH-",
        "outputId": "b9d9cfba-77d9-40e6-ee64-bca210b80e98",
        "colab": {
          "base_uri": "https://localhost:8080/"
        }
      },
      "execution_count": 85,
      "outputs": [
        {
          "output_type": "execute_result",
          "data": {
            "text/plain": [
              "(1, 784)"
            ]
          },
          "metadata": {},
          "execution_count": 85
        }
      ]
    },
    {
      "cell_type": "markdown",
      "source": [
        "# Tensors\n",
        "\n",
        "When you call model.fit(train_images, train_labels, ...), Keras (which runs on top of TensorFlow) automatically converts these NumPy arrays into TensorFlow tensors before passing them into the model for training"
      ],
      "metadata": {
        "id": "hGpAoCTuBd7u"
      }
    },
    {
      "cell_type": "code",
      "source": [
        "test_loss, test_acc = model.evaluate(test_images, test_labels)\n",
        "print(f\"test_acc: {test_acc}\")"
      ],
      "metadata": {
        "colab": {
          "base_uri": "https://localhost:8080/"
        },
        "id": "z2XpEjchC04Y",
        "outputId": "939cbd62-c0d2-4057-e1b2-07dfdb43c91a"
      },
      "execution_count": 86,
      "outputs": [
        {
          "output_type": "stream",
          "name": "stdout",
          "text": [
            "\u001b[1m313/313\u001b[0m \u001b[32m━━━━━━━━━━━━━━━━━━━━\u001b[0m\u001b[37m\u001b[0m \u001b[1m1s\u001b[0m 3ms/step - accuracy: 0.9767 - loss: 0.0799\n",
            "test_acc: 0.9790999889373779\n"
          ]
        }
      ]
    },
    {
      "cell_type": "code",
      "source": [
        "# Extract accuracy values\n",
        "acc = history.history['loss']\n",
        "\n",
        "# we need to save some traing data to be able to calculate validation loss\n",
        "\n",
        "val_loss = history.history['val_loss']\n",
        "\n",
        "# Extract epoch numbers\n",
        "epochs = range(1, len(acc) + 1)\n",
        "\n",
        "plt.plot(epochs, acc, 'bo', label='Training loss')\n",
        "plt.plot(epochs, val_loss, 'b', label='Validation loss')\n",
        "plt.title('Training and validation accuracy')\n",
        "plt.xlabel('Epochs')\n",
        "plt.ylabel('Accuracy')\n",
        "plt.legend()\n",
        "\n",
        "plt.show()"
      ],
      "metadata": {
        "colab": {
          "base_uri": "https://localhost:8080/",
          "height": 472
        },
        "id": "LfzEfzvwC6UL",
        "outputId": "50d5d0f6-07e2-49fe-ee94-73dbce4a39af"
      },
      "execution_count": 87,
      "outputs": [
        {
          "output_type": "display_data",
          "data": {
            "text/plain": [
              "<Figure size 640x480 with 1 Axes>"
            ],
            "image/png": "[encoded data removed]"
          },
          "metadata": {}
        }
      ]
    },
    {
      "cell_type": "markdown",
      "source": [
        "# Other Image Recognition DataSets\n",
        "\n",
        "\n",
        "| Dataset | Description | Image Type | Classes | Typical Use Case |\n",
        "|---------------------|----------------------------------------------------------|-----------------|---------|---------------------------------|\n",
        "| Fashion-MNIST | 28x28 grayscale images of clothing items | Grayscale | 10 | Classify T-shirts, shoes, etc. |\n",
        "| CIFAR-10 | 32x32 color images of objects (animals, vehicles, etc.) | RGB (color) | 10 | Classify cats, cars, etc. |\n",
        "| CIFAR-100 | 32x32 color images, more classes | RGB (color) | 100 | Fine-grained object classes |\n",
        "| STL-10 | 96x96 color images, 10 classes | RGB (color) | 10 | Higher-res objects |\n",
        "| EMNIST | 28x28 grayscale images of handwritten letters/numbers | Grayscale | 47 | Letters and digits |\n",
        "| Oxford-IIIT Pet | 256x256 color images of cats and dogs | RGB (color) | 37 | Pet breed classification |\n"
      ],
      "metadata": {
        "id": "G5TUoRTs52Aq"
      }
    }
  ]
}