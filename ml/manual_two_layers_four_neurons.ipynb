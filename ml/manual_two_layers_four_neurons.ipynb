{
  "nbformat": 4,
  "nbformat_minor": 0,
  "metadata": {
    "colab": {
      "provenance": [],
      "authorship_tag": "ABX9TyOuzcwhud7y44ztPfyDogED",
      "include_colab_link": true
    },
    "kernelspec": {
      "name": "python3",
      "display_name": "Python 3"
    },
    "language_info": {
      "name": "python"
    }
  },
  "cells": [
    {
      "cell_type": "markdown",
      "metadata": {
        "id": "view-in-github",
        "colab_type": "text"
      },
      "source": [
        "<a href=\"https://colab.research.google.com/github/werowe/HypatiaAcademy/blob/master/ml/manual_two_layers_four_neurons.ipynb\" target=\"_parent\"><img src=\"https://colab.research.google.com/assets/colab-badge.svg\" alt=\"Open In Colab\"/></a>"
      ]
    },
    {
      "cell_type": "markdown",
      "source": [
        " neural network with 3 inputs, 4 neurons in the first (hidden) layer, and 1 output neuron,"
      ],
      "metadata": {
        "id": "I_-IOHK7-OhT"
      }
    },
    {
      "cell_type": "markdown",
      "source": [
        "Use this data https://raw.githubusercontent.com/werowe/HypatiaAcademy/refs/heads/master/ml/log-neuron.txt\n"
      ],
      "metadata": {
        "id": "oWRoL9p08Dj9"
      }
    },
    {
      "cell_type": "markdown",
      "source": [
        "Input Layer (4) ---> [ 3 Neurons in Hidden Layer ] ---> Output Layer (1)\n"
      ],
      "metadata": {
        "id": "oSrPshdr7k38"
      }
    },
    {
      "cell_type": "code",
      "source": [
        "import numpy as np\n",
        "\n",
        "#TODO write code\n",
        "\n",
        "\n",
        "\n"
      ],
      "metadata": {
        "id": "S4zGDo556maC",
        "colab": {
          "base_uri": "https://localhost:8080/"
        },
        "outputId": "613e89c7-fcf0-4a8e-9a1f-e162fd871c6d"
      },
      "execution_count": 2,
      "outputs": [
        {
          "output_type": "stream",
          "name": "stdout",
          "text": [
            "output Z layer 1 [-0.12897979 -1.2688535   0.31424232 -0.52109791]\n",
            "activation a1 layer 1  [-0.12826929 -0.85348661  0.30429156 -0.47854694]\n",
            "\n",
            "output Z layer 2 (ouput layer) [1.72690756]\n",
            "activation a2 layer 2  0.8490164354238454\n",
            "\n",
            "loss y=1 y_hat 0.8490164354238454\n",
            "\n",
            "BACKPROPAGATION:\n",
            "dW2: [ 0.01936655  0.12886245 -0.04594302  0.07225272]\n",
            "db2: -0.15098356457615458\n",
            "dW1: [[-0.01106553 -0.02655727  0.01549174]\n",
            " [ 0.03752818  0.09006762 -0.05253945]\n",
            " [ 0.01451156  0.03482775 -0.02031619]\n",
            " [-0.07543753 -0.18105006  0.10561254]]\n",
            "db1: [-0.02213106  0.07505635  0.02902313 -0.15087505]\n"
          ]
        }
      ]
    },
    {
      "cell_type": "markdown",
      "source": [
        "#Formulas for Computing Derivatives\n",
        "\n",
        "\n",
        "## Forward Propagation\n",
        "\n",
        "$\n",
        "Z^{[1]} = W^{[1]}X + b^{[1]}\n",
        "$\n",
        "\n",
        "$\n",
        "A^{[1]} = g^{[1]}(Z^{[1]})\n",
        "$\n",
        "\n",
        "$\n",
        "Z^{[2]} = W^{[2]}A^{[1]} + b^{[2]}\n",
        "$\n",
        "\n",
        "$\n",
        "A^{[2]} = g^{[2]}(Z^{[2]}) = \\sigma(Z^{[2]})\n",
        "$\n",
        "\n",
        "---\n",
        "\n",
        "## Backward Propagation\n",
        "\n",
        "$\n",
        "dZ^{[2]} = A^{[2]} - Y\n",
        "$\n",
        "\n",
        "$\n",
        "dW^{[2]} = \\frac{1}{m} \\ dZ^{[2]} {A^{[1]}}^T\n",
        "$\n",
        "\n",
        "$\n",
        "db^{[2]} = \\frac{1}{m} \\ \\text{np.sum}(dZ^{[2]}, \\text{axis}=1, \\text{keepdims}=True)\n",
        "$\n",
        "\n",
        "$\n",
        "dZ^{[1]} = W^{[2]^\\top} dZ^{[2]} \\odot g^{[1]'}(Z^{[1]})\n",
        "$\n",
        "\n",
        "$\n",
        "dW^{[1]} = \\frac{1}{m} dZ^{[1]} X^T\n",
        "$\n",
        "\n",
        "$\n",
        "db^{[1]} = \\frac{1}{m} \\ \\text{np.sum}(dZ^{[1]}, \\text{axis}=1, \\text{keepdims}=True)\n",
        "$\n",
        "\n"
      ],
      "metadata": {
        "id": "H8XGJJG-6grm"
      }
    }
  ]
}