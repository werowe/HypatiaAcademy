{
  "nbformat": 4,
  "nbformat_minor": 0,
  "metadata": {
    "colab": {
      "provenance": [],
      "authorship_tag": "ABX9TyO44b/lcK0temS7Qi88imQS",
      "include_colab_link": true
    },
    "kernelspec": {
      "name": "python3",
      "display_name": "Python 3"
    },
    "language_info": {
      "name": "python"
    }
  },
  "cells": [
    {
      "cell_type": "markdown",
      "metadata": {
        "id": "view-in-github",
        "colab_type": "text"
      },
      "source": [
        "<a href=\"https://colab.research.google.com/github/werowe/HypatiaAcademy/blob/master/ml/perceptron.ipynb\" target=\"_parent\"><img src=\"https://colab.research.google.com/assets/colab-badge.svg\" alt=\"Open In Colab\"/></a>"
      ]
    },
    {
      "cell_type": "markdown",
      "source": [
        "This code and the graphics are copied from https://towardsdatascience.com/first-neural-network-for-beginners-explained-with-code-4cfd37e06eaf\n",
        "\n"
      ],
      "metadata": {
        "id": "KlI5xkSy4UTL"
      }
    },
    {
      "cell_type": "code",
      "execution_count": 1,
      "metadata": {
        "id": "Rv6MHY7W3zj2"
      },
      "outputs": [],
      "source": [
        "import numpy, random, os\n",
        "lr = 1 #learning rate\n",
        "bias = 1 #value of bias\n",
        "weights = [random.random(),random.random(),random.random()] #weights generated in a list (3 weights in total for 2 neurons and the bias)\n",
        "\n"
      ]
    },
    {
      "cell_type": "code",
      "source": [
        "def Perceptron(input1, input2, output) :\n",
        "   outputP = input1*weights[0]+input2*weights[1]+bias*weights[2]\n",
        "   if outputP > 0 : #activation function (here Heaviside)\n",
        "      outputP = 1\n",
        "   else :\n",
        "      outputP = 0\n",
        "   error = output - outputP\n",
        "   weights[0] += error * input1 * lr\n",
        "   weights[1] += error * input2 * lr\n",
        "   weights[2] += error * bias * lr"
      ],
      "metadata": {
        "id": "oLfPim3B36l9"
      },
      "execution_count": 3,
      "outputs": []
    },
    {
      "cell_type": "code",
      "source": [
        "for i in range(50) :\n",
        "   Perceptron(1,1,1) #True or true\n",
        "   Perceptron(1,0,1) #True or false\n",
        "   Perceptron(0,1,1) #False or true\n",
        "   Perceptron(0,0,0) #False or false"
      ],
      "metadata": {
        "id": "Tt_qb7NW37a5"
      },
      "execution_count": 4,
      "outputs": []
    },
    {
      "cell_type": "code",
      "source": [
        "x = int(input())\n",
        "y = int(input())\n",
        "outputP = x*weights[0] + y*weights[1] + bias*weights[2]\n",
        "if outputP > 0 : #activation function\n",
        "   outputP = 1\n",
        "else :\n",
        "   outputP = 0\n",
        "print(x, \"or\", y, \"is : \", outputP)"
      ],
      "metadata": {
        "colab": {
          "base_uri": "https://localhost:8080/"
        },
        "id": "aLTSMtfB3-jt",
        "outputId": "71d5d3a9-374a-47a1-e204-1f08b699cfcc"
      },
      "execution_count": 5,
      "outputs": [
        {
          "output_type": "stream",
          "name": "stdout",
          "text": [
            "1\n",
            "0\n",
            "1 or 0 is :  1\n"
          ]
        }
      ]
    }
  ]
}