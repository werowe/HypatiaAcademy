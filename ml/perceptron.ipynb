{
  "nbformat": 4,
  "nbformat_minor": 0,
  "metadata": {
    "colab": {
      "provenance": [],
      "authorship_tag": "ABX9TyOkmGwvgMVkK9E9hZwDZWQF",
      "include_colab_link": true
    },
    "kernelspec": {
      "name": "python3",
      "display_name": "Python 3"
    },
    "language_info": {
      "name": "python"
    }
  },
  "cells": [
    {
      "cell_type": "markdown",
      "metadata": {
        "id": "view-in-github",
        "colab_type": "text"
      },
      "source": [
        "<a href=\"https://colab.research.google.com/github/werowe/HypatiaAcademy/blob/master/ml/perceptron.ipynb\" target=\"_parent\"><img src=\"https://colab.research.google.com/assets/colab-badge.svg\" alt=\"Open In Colab\"/></a>"
      ]
    },
    {
      "cell_type": "markdown",
      "source": [
        "#A Perceptron Illustrated\n",
        "Here we look at [this tutorial](https://muneebsa.medium.com/deep-learning-101-lesson-7-perceptron-f6a698d81be8)\n",
        "\n",
        "\n",
        "The **perceptron**:\n",
        "\n",
        "1. takes inputs, multiplies them by their respective weights, adds them up, and applies a threshold to determine its output.\n",
        "\n",
        "2.  This output is then compared to the desired output, and the perceptron adjusts its weights using a process called gradient descent to minimize the difference between the actual and desired outputs.\n",
        "\n",
        "3.  **activation function** produces the output of the perceptron.  Here we use a simple one called step function.\n",
        "\n",
        "if:\n",
        "\n",
        "$$Σ = w1 * x1 + w2 * x2 + b $$\n",
        "\n",
        "then 0, otherwise 1\n",
        "\n",
        "$$\\mathrm{f}(x)= \\begin{cases}0, & \\text { if } x<0 \\\\ 1, & \\text { if } x \\geq 0\\end{cases}$$\n",
        "\n"
      ],
      "metadata": {
        "id": "KlI5xkSy4UTL"
      }
    },
    {
      "cell_type": "markdown",
      "source": [
        "# Logic Gate\n",
        "Simplest perceptron.\n",
        "\n",
        "\n",
        "\n",
        "![](https://miro.medium.com/v2/resize:fit:1400/format:webp/0*Ib3_FfuOy04kOmfO)\n"
      ],
      "metadata": {
        "id": "izh8gNxYY_hK"
      }
    },
    {
      "cell_type": "code",
      "source": [
        "import numpy as np\n",
        "\n",
        "w = np.array([0.6,0.5])\n",
        "\n",
        "x = np.array([[0, 0],\n",
        "             [0, 1],\n",
        "             [1, 0],\n",
        "              [1,1]])\n",
        "\n",
        "\n",
        "\n",
        "\n",
        "\n"
      ],
      "metadata": {
        "id": "H_b7sIObbaUx",
        "outputId": "7fd9319c-d715-4a42-bb03-0e50a6576164",
        "colab": {
          "base_uri": "https://localhost:8080/",
          "height": 216
        }
      },
      "execution_count": 17,
      "outputs": [
        {
          "output_type": "error",
          "ename": "ValueError",
          "evalue": "matmul: Input operand 1 has a mismatch in its core dimension 0, with gufunc signature (n?,k),(k,m?)->(n?,m?) (size 4 is different from 2)",
          "traceback": [
            "\u001b[0;31m---------------------------------------------------------------------------\u001b[0m",
            "\u001b[0;31mValueError\u001b[0m                                Traceback (most recent call last)",
            "\u001b[0;32m<ipython-input-17-1b5e1253e9cc>\u001b[0m in \u001b[0;36m<cell line: 0>\u001b[0;34m()\u001b[0m\n\u001b[1;32m      8\u001b[0m               [1,1]]) \n\u001b[1;32m      9\u001b[0m \u001b[0;34m\u001b[0m\u001b[0m\n\u001b[0;32m---> 10\u001b[0;31m \u001b[0mnp\u001b[0m\u001b[0;34m.\u001b[0m\u001b[0mmatmul\u001b[0m\u001b[0;34m(\u001b[0m\u001b[0mw\u001b[0m\u001b[0;34m,\u001b[0m\u001b[0mx\u001b[0m\u001b[0;34m)\u001b[0m\u001b[0;34m\u001b[0m\u001b[0;34m\u001b[0m\u001b[0m\n\u001b[0m\u001b[1;32m     11\u001b[0m \u001b[0;34m\u001b[0m\u001b[0m\n\u001b[1;32m     12\u001b[0m \u001b[0;34m\u001b[0m\u001b[0m\n",
            "\u001b[0;31mValueError\u001b[0m: matmul: Input operand 1 has a mismatch in its core dimension 0, with gufunc signature (n?,k),(k,m?)->(n?,m?) (size 4 is different from 2)"
          ]
        }
      ]
    },
    {
      "cell_type": "code",
      "source": [
        "def naive_vector_product(x, y):\n",
        "    assert len(x.shape) == 1             #1\n",
        "    assert len(y.shape) == 1             #1\n",
        "    assert x.shape[0] == y.shape[0]\n",
        "    z = 0.\n",
        "    for i in range(x.shape[0]):\n",
        "        z += x[i] * y[i]\n",
        "    return z\n",
        "\n",
        "x = np.array([1,2,3])\n",
        "y = np.array([4,5,6])\n",
        "\n",
        "naive_vector_product(x,y)"
      ],
      "metadata": {
        "id": "4ptE3qojhqb8",
        "outputId": "9914050d-e9ee-4426-8720-40d5d838b325",
        "colab": {
          "base_uri": "https://localhost:8080/"
        }
      },
      "execution_count": 18,
      "outputs": [
        {
          "output_type": "execute_result",
          "data": {
            "text/plain": [
              "np.float64(32.0)"
            ]
          },
          "metadata": {},
          "execution_count": 18
        }
      ]
    },
    {
      "cell_type": "code",
      "source": [
        "def naive_matrix_vector_product(x, y):\n",
        "    assert len(x.shape) == 2\n",
        "    assert len(y.shape) == 1\n",
        "    assert x.shape[1] == y.shape[0]\n",
        "    z = np.zeros(x.shape[0])\n",
        "    for i in range(x.shape[0]):\n",
        "        for j in range(x.shape[1]):\n",
        "            z[i] += x[i, j] * y[j]\n",
        "    return z\n",
        "\n",
        "w = np.array([0.6,0.5])\n",
        "\n",
        "x = np.array([[0, 0],\n",
        "             [0, 1],\n",
        "             [1, 0],\n",
        "              [1,1]])\n",
        "\n",
        "\n",
        "naive_matrix_vector_product(x,w)\n",
        "\n",
        "\n",
        "np.matmul(x,w)"
      ],
      "metadata": {
        "id": "KO-3DMT7h8-w",
        "outputId": "5ef79ed1-1f49-4c64-a4a5-cc828a1827d0",
        "colab": {
          "base_uri": "https://localhost:8080/"
        }
      },
      "execution_count": 26,
      "outputs": [
        {
          "output_type": "execute_result",
          "data": {
            "text/plain": [
              "array([0. , 0.5, 0.6, 1.1])"
            ]
          },
          "metadata": {},
          "execution_count": 26
        }
      ]
    }
  ]
}