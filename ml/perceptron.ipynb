{
  "nbformat": 4,
  "nbformat_minor": 0,
  "metadata": {
    "colab": {
      "provenance": [],
      "authorship_tag": "ABX9TyP5Yo2XS6vgsKq72uCg6znM",
      "include_colab_link": true
    },
    "kernelspec": {
      "name": "python3",
      "display_name": "Python 3"
    },
    "language_info": {
      "name": "python"
    }
  },
  "cells": [
    {
      "cell_type": "markdown",
      "metadata": {
        "id": "view-in-github",
        "colab_type": "text"
      },
      "source": [
        "<a href=\"https://colab.research.google.com/github/werowe/HypatiaAcademy/blob/master/ml/perceptron.ipynb\" target=\"_parent\"><img src=\"https://colab.research.google.com/assets/colab-badge.svg\" alt=\"Open In Colab\"/></a>"
      ]
    },
    {
      "cell_type": "markdown",
      "source": [
        "#A Perceptron Illustrated\n",
        "Perceptron consists of a single layer of input nodes that are fully connected to a layer of output nodes.\n",
        "\n",
        "\n",
        "$$output=activationfunction(weights * inputs+bias)$$\n",
        "\n",
        "\n",
        "#The AND Problem\n",
        "| A      | B      | XOR |\n",
        "| ------------- | ------------- |  ------------- |\n",
        "| 1| 1 | 1 |\n",
        "| 0| 1| 0 |\n",
        "| 1 | 0 | 0 |\n",
        "| 0| 0 | 0 |\n",
        "\n",
        "\n",
        "\n",
        "\n"
      ],
      "metadata": {
        "id": "KlI5xkSy4UTL"
      }
    },
    {
      "cell_type": "markdown",
      "source": [
        "![](https://miro.medium.com/v2/resize:fit:1400/format:webp/0*Ib3_FfuOy04kOmfO)\n",
        "\n",
        "Image credit:\n",
        "[Muneeb S. Ahma](https://muneebsa.medium.com/deep-learning-101-lesson-7-perceptron-f6a698d81be8)"
      ],
      "metadata": {
        "id": "dA-4EZcUxJTr"
      }
    },
    {
      "cell_type": "code",
      "source": [
        "import numpy as np\n",
        "\n",
        "# Define the perceptron for the AND problem\n",
        "class PerceptronAND:\n",
        "    def __init__(self, lr=0.1, epochs=1000):\n",
        "        self.lr = lr\n",
        "        self.epochs = epochs\n",
        "        self.weights = np.random.uniform(-0.1, 0.1, 3)  # 2 weights for inputs, 1 for bias\n",
        "        self.bias = 1\n",
        "\n",
        "    def activation(self, x):\n",
        "        return 1 if x > 0 else 0\n",
        "\n",
        "    def train(self, inputs, outputs):\n",
        "        for epoch in range(self.epochs):\n",
        "            total_error = 0\n",
        "            for x, target in zip(inputs, outputs):\n",
        "                # Compute weighted sum (including bias)\n",
        "                weighted_sum = np.dot(x, self.weights[:2]) + self.bias * self.weights[2]\n",
        "                prediction = self.activation(weighted_sum)\n",
        "                error = target - prediction\n",
        "                total_error += abs(error)\n",
        "                # Update weights and bias\n",
        "                self.weights[:2] += self.lr * error * x\n",
        "                self.weights[2] += self.lr * error * self.bias\n",
        "            if total_error == 0:\n",
        "                print(f\"Converged at epoch {epoch+1}!\")\n",
        "                break\n",
        "\n",
        "    def predict(self, x):\n",
        "        weighted_sum = np.dot(x, self.weights[:2]) + self.bias * self.weights[2]\n",
        "        return self.activation(weighted_sum)\n",
        "\n",
        "# Training data for AND\n",
        "inputs = np.array([[0, 0], [0, 1], [1, 0], [1, 1]])\n",
        "outputs = np.array([0, 0, 0, 1])\n",
        "\n",
        "# Create and train the perceptron\n",
        "perceptron = PerceptronAND(lr=0.1, epochs=1000)\n",
        "perceptron.train(inputs, outputs)\n",
        "\n",
        "# Test the perceptron\n",
        "for x, target in zip(inputs, outputs):\n",
        "    pred = perceptron.predict(x)\n",
        "    print(f\"Input: {x.tolist()} | Expected: {target} | Predicted: {pred}\")\n",
        "\n"
      ],
      "metadata": {
        "colab": {
          "base_uri": "https://localhost:8080/"
        },
        "id": "1rLcyoYBuRbC",
        "outputId": "ddbe116f-5816-49b2-c41f-a90a19335edc"
      },
      "execution_count": 11,
      "outputs": [
        {
          "output_type": "stream",
          "name": "stdout",
          "text": [
            "Converged at epoch 4!\n",
            "Input: [0, 0] | Expected: 0 | Predicted: 0\n",
            "Input: [0, 1] | Expected: 0 | Predicted: 0\n",
            "Input: [1, 0] | Expected: 0 | Predicted: 0\n",
            "Input: [1, 1] | Expected: 1 | Predicted: 1\n"
          ]
        }
      ]
    },
    {
      "cell_type": "code",
      "source": [
        "import numpy as np\n",
        "from tensorflow.keras.models import Sequential\n",
        "from tensorflow.keras.layers import Dense\n",
        "\n",
        "\n",
        "X = np.array([[0, 0],\n",
        "              [0, 1],\n",
        "              [1, 0],\n",
        "              [1, 1]])\n",
        "\n",
        "y = np.array([[1], [0], [0], [1]])\n",
        "\n",
        "\n",
        "model = Sequential([\n",
        "    Dense(2, activation='relu', input_shape=(2,)),\n",
        "    Dense(1, activation='sigmoid')\n",
        "])\n",
        "\n",
        "model.compile(optimizer='adam', loss='binary_crossentropy', metrics=['accuracy'])\n",
        "model.fit(X, y, epochs=100, verbose=0)\n",
        "\n",
        "preds=model.predict(X).round()\n",
        "\n",
        "print(X, \"\\n\")\n",
        "print(y,\"\\n\")\n",
        "print(preds)\n"
      ],
      "metadata": {
        "id": "wKLLPm2BT1s_",
        "outputId": "fbd8ee36-3eda-447f-d442-23b684272d2d",
        "colab": {
          "base_uri": "https://localhost:8080/"
        }
      },
      "execution_count": 9,
      "outputs": [
        {
          "output_type": "stream",
          "name": "stdout",
          "text": [
            "\u001b[1m1/1\u001b[0m \u001b[32m━━━━━━━━━━━━━━━━━━━━\u001b[0m\u001b[37m\u001b[0m \u001b[1m0s\u001b[0m 63ms/step\n",
            "[[0 0]\n",
            " [0 1]\n",
            " [1 0]\n",
            " [1 1]] \n",
            "\n",
            "[[1]\n",
            " [0]\n",
            " [0]\n",
            " [1]] \n",
            "\n",
            "[[0.]\n",
            " [1.]\n",
            " [0.]\n",
            " [1.]]\n"
          ]
        }
      ]
    }
  ]
}