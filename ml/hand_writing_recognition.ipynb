{
  "nbformat": 4,
  "nbformat_minor": 0,
  "metadata": {
    "colab": {
      "provenance": [],
      "gpuType": "T4",
      "authorship_tag": "ABX9TyPommeZ9ydV3LRelepb5vLl",
      "include_colab_link": true
    },
    "kernelspec": {
      "name": "python3",
      "display_name": "Python 3"
    },
    "language_info": {
      "name": "python"
    },
    "accelerator": "GPU"
  },
  "cells": [
    {
      "cell_type": "markdown",
      "metadata": {
        "id": "view-in-github",
        "colab_type": "text"
      },
      "source": [
        "<a href=\"https://colab.research.google.com/github/werowe/HypatiaAcademy/blob/master/ml/hand_writing_recognition.ipynb\" target=\"_parent\"><img src=\"https://colab.research.google.com/assets/colab-badge.svg\" alt=\"Open In Colab\"/></a>"
      ]
    },
    {
      "cell_type": "markdown",
      "source": [
        "Code is from [Deep Learning with Python](https://www.amazon.com/Deep-Learning-Python-Francois-Chollet/dp/1617294438) by Francois Chollet.  He wrote the Keras deep learning SDK while working for Google.\n"
      ],
      "metadata": {
        "id": "HqX3RqmU4pgq"
      }
    },
    {
      "cell_type": "markdown",
      "source": [
        "28 x 28 pixel images.   So the size of each image is 28 x 28 pixels.  This is very low resolution.  \n",
        "\n",
        "\n",
        "\n",
        "The image encoding system that uses a range of 0-255 for pixel values is typically referred to as 8-bit grayscale encoding. In this system each pixel value is represented by an 8-bit integer.\n",
        "The range of values is from 0 (black) to 255 (white), with 254 shades of gray in between.\n"
      ],
      "metadata": {
        "id": "U8S724xlRNUR"
      }
    },
    {
      "cell_type": "markdown",
      "source": [
        "##Loss Function\n",
        "A loss function is a mathematical function used in machine learning to measure the difference between the predicted output of a model and the actual target values. It quantifies how well or poorly the model is performing. The goal of training a model is to minimize the loss function.  The sparse_categorical_crossentropy loss function is used in machine learning for multi-class classification problems where the target labels are integers (i.e., not one-hot encoded).\n",
        "\n",
        "##Activation Function\n",
        "An activation function is a mathematical function applied to the output of a neuron in a neural network. It introduces non-linearity into the model, allowing it to learn complex patterns. Common activation functions include ReLU, sigmoid, and softmax."
      ],
      "metadata": {
        "id": "l2zxmyn-Ue0o"
      }
    },
    {
      "cell_type": "code",
      "execution_count": 54,
      "metadata": {
        "id": "IXhEcnNv4Ken"
      },
      "outputs": [],
      "source": [
        "import tensorflow as tf\n",
        "from tensorflow import keras\n",
        "from tensorflow.keras.models import Sequential\n",
        "from tensorflow.keras.layers import Dense\n",
        "import matplotlib.pyplot as plt\n",
        "from tensorflow.keras import layers\n",
        "\n",
        "\n",
        "\n",
        "from tensorflow.keras.datasets import mnist\n",
        "(train_images, train_labels), (test_images, test_labels) = mnist.load_data()"
      ]
    },
    {
      "cell_type": "code",
      "source": [
        "train_images.shape"
      ],
      "metadata": {
        "colab": {
          "base_uri": "https://localhost:8080/"
        },
        "id": "mKMqJP0G4nP4",
        "outputId": "e905548f-577a-43db-cbb1-3c7f3c071f57"
      },
      "execution_count": 55,
      "outputs": [
        {
          "output_type": "execute_result",
          "data": {
            "text/plain": [
              "(60000, 28, 28)"
            ]
          },
          "metadata": {},
          "execution_count": 55
        }
      ]
    },
    {
      "cell_type": "code",
      "source": [
        "train_images[4,1]"
      ],
      "metadata": {
        "colab": {
          "base_uri": "https://localhost:8080/"
        },
        "id": "-LM3MoFcRoWB",
        "outputId": "58d55331-7025-477e-92b9-3839aafe1909"
      },
      "execution_count": 56,
      "outputs": [
        {
          "output_type": "execute_result",
          "data": {
            "text/plain": [
              "array([0, 0, 0, 0, 0, 0, 0, 0, 0, 0, 0, 0, 0, 0, 0, 0, 0, 0, 0, 0, 0, 0,\n",
              "       0, 0, 0, 0, 0, 0], dtype=uint8)"
            ]
          },
          "metadata": {},
          "execution_count": 56
        }
      ]
    },
    {
      "cell_type": "code",
      "source": [
        "len(train_labels)"
      ],
      "metadata": {
        "colab": {
          "base_uri": "https://localhost:8080/"
        },
        "id": "bbyccc0P5H9R",
        "outputId": "c87fb914-6aed-4c2b-871c-97ac4019f27a"
      },
      "execution_count": 57,
      "outputs": [
        {
          "output_type": "execute_result",
          "data": {
            "text/plain": [
              "60000"
            ]
          },
          "metadata": {},
          "execution_count": 57
        }
      ]
    },
    {
      "cell_type": "code",
      "source": [
        "\n",
        "\n",
        "# Example: Flattened image\n",
        "flattened_digit = train_images[4].reshape(-1)  # Simulate a flattened image\n",
        "\n",
        "# Reshape the flattened image back to 28x28\n",
        "reshaped_digit = flattened_digit.reshape(28, 28)\n",
        "\n",
        "plt.imshow(reshaped_digit, cmap=plt.cm.binary)"
      ],
      "metadata": {
        "colab": {
          "base_uri": "https://localhost:8080/",
          "height": 447
        },
        "id": "Q7Y5zKqoCu0L",
        "outputId": "ac1ee2d6-6b85-4c39-f1df-3db0b256424f"
      },
      "execution_count": 58,
      "outputs": [
        {
          "output_type": "execute_result",
          "data": {
            "text/plain": [
              "<matplotlib.image.AxesImage at 0x7b20183e3580>"
            ]
          },
          "metadata": {},
          "execution_count": 58
        },
        {
          "output_type": "display_data",
          "data": {
            "text/plain": [
              "<Figure size 640x480 with 1 Axes>"
            ],
            "image/png": "[encoded data removed]"
          },
          "metadata": {}
        }
      ]
    },
    {
      "cell_type": "code",
      "source": [
        "train_labels"
      ],
      "metadata": {
        "colab": {
          "base_uri": "https://localhost:8080/"
        },
        "id": "7ReuIi_s5KBo",
        "outputId": "1550b8f3-fc3e-4cd2-95e5-e6907625e9e4"
      },
      "execution_count": 59,
      "outputs": [
        {
          "output_type": "execute_result",
          "data": {
            "text/plain": [
              "array([5, 0, 4, ..., 5, 6, 8], dtype=uint8)"
            ]
          },
          "metadata": {},
          "execution_count": 59
        }
      ]
    },
    {
      "cell_type": "markdown",
      "source": [
        "grayscale handwritten images"
      ],
      "metadata": {
        "id": "qzbxUEbn6BuN"
      }
    },
    {
      "cell_type": "code",
      "source": [
        "test_images.shape"
      ],
      "metadata": {
        "colab": {
          "base_uri": "https://localhost:8080/"
        },
        "id": "HGO4EW9D5TVe",
        "outputId": "8dcb0f43-feb9-47d7-a63d-072e82d48e80"
      },
      "execution_count": 60,
      "outputs": [
        {
          "output_type": "execute_result",
          "data": {
            "text/plain": [
              "(10000, 28, 28)"
            ]
          },
          "metadata": {},
          "execution_count": 60
        }
      ]
    },
    {
      "cell_type": "code",
      "source": [
        "len(test_labels)"
      ],
      "metadata": {
        "colab": {
          "base_uri": "https://localhost:8080/"
        },
        "id": "QJsvxvxh5Um_",
        "outputId": "20cb6f72-c31c-4b2a-dbda-bd5b7bd9a7dd"
      },
      "execution_count": 61,
      "outputs": [
        {
          "output_type": "execute_result",
          "data": {
            "text/plain": [
              "10000"
            ]
          },
          "metadata": {},
          "execution_count": 61
        }
      ]
    },
    {
      "cell_type": "code",
      "source": [
        "test_labels"
      ],
      "metadata": {
        "colab": {
          "base_uri": "https://localhost:8080/"
        },
        "id": "XzAwjPuZ5X4-",
        "outputId": "af9048e8-bca2-4d36-89ee-23ea8702d90e"
      },
      "execution_count": 62,
      "outputs": [
        {
          "output_type": "execute_result",
          "data": {
            "text/plain": [
              "array([7, 2, 1, ..., 4, 5, 6], dtype=uint8)"
            ]
          },
          "metadata": {},
          "execution_count": 62
        }
      ]
    },
    {
      "cell_type": "markdown",
      "source": [
        "\n",
        "* 2nd layer is softmax layer of 10 scalars, each a percentage that the image classification is correct\n",
        "\n",
        "* 512 units: This means the layer has 512 neurons. The choice of 512 units is somewhat arbitrary but is typically based on experimentation and empirical results showing that a certain number of units work well for the task\n",
        "\n",
        "* ReLU activation: The ReLU (Rectified Linear Unit) activation function is commonly used in hidden layers of neural networks. It introduces non-linearity into the model, enabling it to learn more complex patterns. ReLU is computationally efficient and helps mitigate the vanishing gradient problem, which is beneficial for training deep networks.\n",
        "\n",
        "\n",
        "* Input Layer: Not explicitly defined in the Sequential model, but implicitly the input to the first Dense layer (784 input features, one for each pixel of the 28x28 images).\n",
        "\n",
        "* Hidden Layer: The first Dense layer with 512 units and ReLU activation.\n",
        "\n",
        "* Output Layer: The second Dense layer with 10 units and softmax activation.\n",
        ""
      ],
      "metadata": {
        "id": "IybyVaMeA17f"
      }
    },
    {
      "cell_type": "code",
      "source": [
        "\n",
        "\n",
        "model = keras.Sequential([\n",
        "    layers.Dense(512, activation=\"relu\"),\n",
        "    layers.Dense(10, activation=\"softmax\")\n",
        "])"
      ],
      "metadata": {
        "id": "edBO9wpQ5aKT"
      },
      "execution_count": 63,
      "outputs": []
    },
    {
      "cell_type": "markdown",
      "source": [
        "We pick:\n",
        "\n",
        "* **loss function** measure performance on training data\n",
        "\n",
        "* **optimizer** how the model will update itself based upon the loss function\n",
        "\n",
        "* ** metrics to monitor** will use accuracy"
      ],
      "metadata": {
        "id": "Uuj84UX8BNCI"
      }
    },
    {
      "cell_type": "code",
      "source": [
        "model.compile(optimizer=\"rmsprop\",\n",
        "              loss=\"sparse_categorical_crossentropy\",\n",
        "              metrics=[\"accuracy\"])"
      ],
      "metadata": {
        "id": "AO4g9laK5dkO"
      },
      "execution_count": 64,
      "outputs": []
    },
    {
      "cell_type": "code",
      "source": [
        "# change shape to (60000, 784).  this will still include all images since it is the product of 28 x 28 pixels\n",
        "\n",
        "# divide by 255 to scale between 0 and 1\n",
        "\n",
        "\n",
        "train_images = train_images.reshape((60000, 28 * 28))\n",
        "train_images = train_images.astype(\"float32\") / 255\n",
        "test_images = test_images.reshape((10000, 28 * 28))\n",
        "test_images = test_images.astype(\"float32\") / 255\n",
        "\n",
        ""
      ],
      "metadata": {
        "id": "QMGRlYLo5gxH"
      },
      "execution_count": 65,
      "outputs": []
    },
    {
      "cell_type": "code",
      "source": [
        "train_images.shape"
      ],
      "metadata": {
        "colab": {
          "base_uri": "https://localhost:8080/"
        },
        "id": "ngvKYD0uTIHk",
        "outputId": "fec108b4-a76b-4ac5-88ca-53ddd684ba32"
      },
      "execution_count": 66,
      "outputs": [
        {
          "output_type": "execute_result",
          "data": {
            "text/plain": [
              "(60000, 784)"
            ]
          },
          "metadata": {},
          "execution_count": 66
        }
      ]
    },
    {
      "cell_type": "code",
      "source": [
        "history = model.fit(train_images, train_labels,\n",
        "                    epochs=10,\n",
        "                    batch_size=64,\n",
        "                    validation_split=0.2)"
      ],
      "metadata": {
        "colab": {
          "base_uri": "https://localhost:8080/"
        },
        "id": "sIOpoRvv5n5c",
        "outputId": "10b24e82-f4e1-4572-d8cd-2eba840deed8"
      },
      "execution_count": 67,
      "outputs": [
        {
          "output_type": "stream",
          "name": "stdout",
          "text": [
            "Epoch 1/10\n",
            "750/750 [==============================] - 3s 3ms/step - loss: 0.2507 - accuracy: 0.9270 - val_loss: 0.1475 - val_accuracy: 0.9568\n",
            "Epoch 2/10\n",
            "750/750 [==============================] - 2s 3ms/step - loss: 0.1003 - accuracy: 0.9696 - val_loss: 0.0946 - val_accuracy: 0.9712\n",
            "Epoch 3/10\n",
            "750/750 [==============================] - 3s 4ms/step - loss: 0.0660 - accuracy: 0.9797 - val_loss: 0.0907 - val_accuracy: 0.9729\n",
            "Epoch 4/10\n",
            "750/750 [==============================] - 2s 3ms/step - loss: 0.0474 - accuracy: 0.9858 - val_loss: 0.0865 - val_accuracy: 0.9738\n",
            "Epoch 5/10\n",
            "750/750 [==============================] - 2s 3ms/step - loss: 0.0341 - accuracy: 0.9895 - val_loss: 0.0779 - val_accuracy: 0.9771\n",
            "Epoch 6/10\n",
            "750/750 [==============================] - 3s 3ms/step - loss: 0.0256 - accuracy: 0.9926 - val_loss: 0.0806 - val_accuracy: 0.9793\n",
            "Epoch 7/10\n",
            "750/750 [==============================] - 2s 3ms/step - loss: 0.0187 - accuracy: 0.9945 - val_loss: 0.0879 - val_accuracy: 0.9773\n",
            "Epoch 8/10\n",
            "750/750 [==============================] - 3s 4ms/step - loss: 0.0133 - accuracy: 0.9963 - val_loss: 0.0975 - val_accuracy: 0.9773\n",
            "Epoch 9/10\n",
            "750/750 [==============================] - 2s 3ms/step - loss: 0.0101 - accuracy: 0.9971 - val_loss: 0.0815 - val_accuracy: 0.9801\n",
            "Epoch 10/10\n",
            "750/750 [==============================] - 2s 3ms/step - loss: 0.0074 - accuracy: 0.9979 - val_loss: 0.0890 - val_accuracy: 0.9784\n"
          ]
        }
      ]
    },
    {
      "cell_type": "code",
      "source": [
        "test_digits = test_images[0:1]\n",
        "predictions = model.predict(test_digits)\n",
        "predictions[0]"
      ],
      "metadata": {
        "colab": {
          "base_uri": "https://localhost:8080/"
        },
        "id": "gD4X0Gf05qTp",
        "outputId": "49758e44-a97d-495a-cba2-c2795f768c74"
      },
      "execution_count": 68,
      "outputs": [
        {
          "output_type": "stream",
          "name": "stdout",
          "text": [
            "1/1 [==============================] - 0s 39ms/step\n"
          ]
        },
        {
          "output_type": "execute_result",
          "data": {
            "text/plain": [
              "array([1.6718626e-12, 9.8150166e-13, 5.0340374e-11, 7.6983483e-08,\n",
              "       3.1476205e-18, 7.9933652e-14, 1.0346435e-16, 9.9999988e-01,\n",
              "       7.1120800e-13, 9.4888497e-09], dtype=float32)"
            ]
          },
          "metadata": {},
          "execution_count": 68
        }
      ]
    },
    {
      "cell_type": "code",
      "source": [
        "\n",
        "\n",
        "# Example: Flattened image\n",
        "flattened_digit = test_images[0].reshape(-1)  # Simulate a flattened image\n",
        "\n",
        "# Reshape the flattened image back to 28x28\n",
        "reshaped_digit = flattened_digit.reshape(28, 28)\n",
        "\n",
        "plt.imshow(reshaped_digit, cmap=plt.cm.binary)"
      ],
      "metadata": {
        "colab": {
          "base_uri": "https://localhost:8080/",
          "height": 447
        },
        "id": "GQSHLdKIQZTl",
        "outputId": "04c2025a-1261-483b-a01f-62f860f2e658"
      },
      "execution_count": 69,
      "outputs": [
        {
          "output_type": "execute_result",
          "data": {
            "text/plain": [
              "<matplotlib.image.AxesImage at 0x7b201819add0>"
            ]
          },
          "metadata": {},
          "execution_count": 69
        },
        {
          "output_type": "display_data",
          "data": {
            "text/plain": [
              "<Figure size 640x480 with 1 Axes>"
            ],
            "image/png": "[encoded data removed]"
          },
          "metadata": {}
        }
      ]
    },
    {
      "cell_type": "code",
      "source": [
        "#The numpy.argmax() function returns the indices of the maximum values along an axis of a NumPy array.\n",
        "\n",
        "predictions[0].argmax()"
      ],
      "metadata": {
        "id": "3SBfymZo5s7f",
        "colab": {
          "base_uri": "https://localhost:8080/"
        },
        "outputId": "78ecb77b-5d52-40d5-ebcc-99c686242781"
      },
      "execution_count": 70,
      "outputs": [
        {
          "output_type": "execute_result",
          "data": {
            "text/plain": [
              "7"
            ]
          },
          "metadata": {},
          "execution_count": 70
        }
      ]
    },
    {
      "cell_type": "code",
      "source": [
        "predictions[0]"
      ],
      "metadata": {
        "colab": {
          "base_uri": "https://localhost:8080/"
        },
        "id": "2dbBcBsNP1C3",
        "outputId": "c6a2ee6e-fef6-4887-fd04-7b0aa57ebda0"
      },
      "execution_count": 71,
      "outputs": [
        {
          "output_type": "execute_result",
          "data": {
            "text/plain": [
              "array([1.6718626e-12, 9.8150166e-13, 5.0340374e-11, 7.6983483e-08,\n",
              "       3.1476205e-18, 7.9933652e-14, 1.0346435e-16, 9.9999988e-01,\n",
              "       7.1120800e-13, 9.4888497e-09], dtype=float32)"
            ]
          },
          "metadata": {},
          "execution_count": 71
        }
      ]
    },
    {
      "cell_type": "code",
      "source": [
        "predictions[0][7]"
      ],
      "metadata": {
        "id": "DK0hmTyd5vOZ",
        "colab": {
          "base_uri": "https://localhost:8080/"
        },
        "outputId": "418a300e-1549-423b-f839-be56ee6cae55"
      },
      "execution_count": 72,
      "outputs": [
        {
          "output_type": "execute_result",
          "data": {
            "text/plain": [
              "0.9999999"
            ]
          },
          "metadata": {},
          "execution_count": 72
        }
      ]
    },
    {
      "cell_type": "code",
      "source": [
        "test_labels[0]"
      ],
      "metadata": {
        "id": "r08hE75r5xUu",
        "colab": {
          "base_uri": "https://localhost:8080/"
        },
        "outputId": "40b3469c-b871-4a9e-a80e-8dfb4b5eae10"
      },
      "execution_count": 73,
      "outputs": [
        {
          "output_type": "execute_result",
          "data": {
            "text/plain": [
              "7"
            ]
          },
          "metadata": {},
          "execution_count": 73
        }
      ]
    },
    {
      "cell_type": "code",
      "source": [
        "test_loss, test_acc = model.evaluate(test_images, test_labels)\n",
        "print(f\"test_acc: {test_acc}\")"
      ],
      "metadata": {
        "id": "q6qAXdr45zbd",
        "colab": {
          "base_uri": "https://localhost:8080/"
        },
        "outputId": "eca3244f-14f2-4d11-8e0a-63c113879c37"
      },
      "execution_count": 74,
      "outputs": [
        {
          "output_type": "stream",
          "name": "stdout",
          "text": [
            "313/313 [==============================] - 1s 2ms/step - loss: 0.0794 - accuracy: 0.9789\n",
            "test_acc: 0.9789000153541565\n"
          ]
        }
      ]
    },
    {
      "cell_type": "code",
      "source": [
        "# Extract accuracy values\n",
        "acc = history.history['loss']\n",
        "val_loss = history.history['val_loss']\n",
        "\n",
        "# Extract epoch numbers\n",
        "epochs = range(1, len(acc) + 1)\n",
        "\n",
        "plt.plot(epochs, acc, 'bo', label='Training loss')\n",
        "plt.plot(epochs, val_loss, 'b', label='Validation loss')\n",
        "plt.title('Training and validation accuracy')\n",
        "plt.xlabel('Epochs')\n",
        "plt.ylabel('Accuracy')\n",
        "plt.legend()\n",
        "\n",
        "plt.show()"
      ],
      "metadata": {
        "colab": {
          "base_uri": "https://localhost:8080/",
          "height": 472
        },
        "id": "yJ3GA_EeB7wS",
        "outputId": "9937dc75-8ae7-4f83-d71b-a2725038e9a0"
      },
      "execution_count": 75,
      "outputs": [
        {
          "output_type": "display_data",
          "data": {
            "text/plain": [
              "<Figure size 640x480 with 1 Axes>"
            ],
            "image/png": "[encoded data removed]"
          },
          "metadata": {}
        }
      ]
    },
    {
      "cell_type": "code",
      "source": [
        "# Extract accuracy values\n",
        "acc = history.history['accuracy']\n",
        "val_loss = history.history['val_accuracy']\n",
        "\n",
        "# Extract epoch numbers\n",
        "epochs = range(1, len(acc) + 1)\n",
        "\n",
        "plt.plot(epochs, acc, 'bo', label='Training accuracy')\n",
        "plt.plot(epochs, val_loss, 'b', label='Validation accuracy')\n",
        "plt.title('Training and validation accuracy')\n",
        "plt.xlabel('Epochs')\n",
        "plt.ylabel('Accuracy')\n",
        "plt.legend()\n",
        "\n",
        "plt.show()"
      ],
      "metadata": {
        "colab": {
          "base_uri": "https://localhost:8080/"
        },
        "outputId": "d4059b7e-e608-4d80-88a8-29b2e160d163",
        "id": "j7X6NBxFOX7F"
      },
      "execution_count": 76,
      "outputs": [
        {
          "output_type": "display_data",
          "data": {
            "text/plain": [
              "<Figure size 640x480 with 1 Axes>"
            ],
            "image/png": "[encoded data removed]"
          },
          "metadata": {}
        }
      ]
    }
  ]
}