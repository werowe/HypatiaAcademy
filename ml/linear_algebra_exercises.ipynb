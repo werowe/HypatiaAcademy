{
  "nbformat": 4,
  "nbformat_minor": 0,
  "metadata": {
    "colab": {
      "provenance": [],
      "authorship_tag": "ABX9TyPL+3wD7RoMSqyCsnIuLC1l",
      "include_colab_link": true
    },
    "kernelspec": {
      "name": "python3",
      "display_name": "Python 3"
    },
    "language_info": {
      "name": "python"
    }
  },
  "cells": [
    {
      "cell_type": "markdown",
      "metadata": {
        "id": "view-in-github",
        "colab_type": "text"
      },
      "source": [
        "<a href=\"https://colab.research.google.com/github/werowe/HypatiaAcademy/blob/master/ml/linear_algebra_exercises.ipynb\" target=\"_parent\"><img src=\"https://colab.research.google.com/assets/colab-badge.svg\" alt=\"Open In Colab\"/></a>"
      ]
    },
    {
      "cell_type": "markdown",
      "source": [
        "## Linear Algebra with NumPy: Multiple Choice Quiz\n",
        "\n",
        "### 1. What is the result of `np.dot(A, B)` when `A` is of shape (2, 3) and `B` is of shape (3, 4)?\n",
        "\n",
        "- A) Shape (2, 4)  \n",
        "- B) Shape (3, 2)  \n",
        "- C) Shape (2, 3)  \n",
        "- D) Shape (3, 4)  \n",
        "\n",
        "---\n",
        "\n",
        "### 2. If `A` is a (3, 2) matrix and `B` is a (3, 2) matrix, what is the shape of `A + B`?\n",
        "\n",
        "- A) (2, 3)  \n",
        "- B) (3, 2)  \n",
        "- C) (3, 3)  \n",
        "- D) Not possible due to shape mismatch  \n",
        "\n",
        "---\n",
        "\n",
        "### 3. Given `A` of shape (2, 3) and `B` of shape (3, 2), which operation is valid?\n",
        "\n",
        "- A) `A + B`  \n",
        "- B) `A * B`  \n",
        "- C) `np.dot(A, B)`  \n",
        "- D) `A.T + B`  \n",
        "\n",
        "---\n",
        "\n",
        "### 4. What does the `*` operator do when used as `A * B` for two NumPy arrays of the same shape?\n",
        "\n",
        "- A) Matrix multiplication  \n",
        "- B) Element-wise multiplication  \n",
        "- C) Element-wise addition  \n",
        "- D) Transposes the matrix  \n",
        "\n",
        "---\n",
        "\n",
        "### 5. Given `A` of shape (3, 1) and `B` of shape (1, 4), what is the shape of `A + B` due to broadcasting?\n",
        "\n",
        "- A) (3, 4)  \n",
        "- B) (1, 1)  \n",
        "- C) (3, 1)  \n",
        "- D) (1, 4)  \n",
        "\n",
        "---\n",
        "\n",
        "### 6. If `A` is of shape (2, 3), what is the shape of `A.T`?\n",
        "\n",
        "- A) (3, 2)  \n",
        "- B) (2, 3)  \n",
        "- C) (2, 2)  \n",
        "- D) (3, 3)  \n",
        "\n",
        "---\n",
        "\n",
        "### 7. Which of the following statements is true about broadcasting in NumPy?\n",
        "\n",
        "- A) Broadcasting allows addition of arrays with incompatible shapes.  \n",
        "- B) Broadcasting only works for scalar values.  \n",
        "- C) Broadcasting expands arrays so their shapes match for element-wise operations.  \n",
        "- D) Broadcasting is only used for matrix multiplication.  \n",
        "\n",
        "---\n",
        "\n",
        "### 8. Given `A` of shape (4, 3) and `B` of shape (3,), which operation is valid due to broadcasting?\n",
        "\n",
        "- A) `A + B`  \n",
        "- B) `A * B`  \n",
        "- C) Both A and B  \n",
        "- D) Neither A nor B  \n",
        "\n",
        "---\n",
        "\n",
        "### 9. If `A` is of shape (2, 3) and `B` is of shape (3, 2), which operation would allow you to add them together?\n",
        "\n",
        "- A) `A + B`  \n",
        "- B) `A + B.T`  \n",
        "- C) `A.T + B`  \n",
        "- D) Not possible  \n",
        "\n",
        "---\n",
        "\n",
        "### 10. Which operation computes the matrix product of `A` and `B` in NumPy?\n",
        "\n",
        "- A) `A * B`  \n",
        "- B) `A + B`  \n",
        "- C) `np.dot(A, B)`  \n",
        "- D) `A / B`  \n"
      ],
      "metadata": {
        "id": "51aq3R3DjppV"
      }
    }
  ]
}