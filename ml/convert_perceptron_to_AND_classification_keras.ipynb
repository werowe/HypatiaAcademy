{
  "nbformat": 4,
  "nbformat_minor": 0,
  "metadata": {
    "colab": {
      "provenance": [],
      "gpuType": "T4",
      "authorship_tag": "ABX9TyN+/ph0LRcwfIW+mc/RF8KR",
      "include_colab_link": true
    },
    "kernelspec": {
      "name": "python3",
      "display_name": "Python 3"
    },
    "language_info": {
      "name": "python"
    },
    "accelerator": "GPU"
  },
  "cells": [
    {
      "cell_type": "markdown",
      "metadata": {
        "id": "view-in-github",
        "colab_type": "text"
      },
      "source": [
        "<a href=\"https://colab.research.google.com/github/werowe/HypatiaAcademy/blob/master/ml/convert_perceptron_to_AND_classification_keras.ipynb\" target=\"_parent\"><img src=\"https://colab.research.google.com/assets/colab-badge.svg\" alt=\"Open In Colab\"/></a>"
      ]
    },
    {
      "cell_type": "code",
      "execution_count": 21,
      "metadata": {
        "id": "IXhEcnNv4Ken",
        "colab": {
          "base_uri": "https://localhost:8080/"
        },
        "outputId": "f7278934-821e-42c7-89b2-d6868223f678"
      },
      "outputs": [
        {
          "output_type": "stream",
          "name": "stdout",
          "text": [
            "Accuracy: 75.00%\n",
            "1/1 [==============================] - 0s 41ms/step\n",
            "Predictions:\n",
            "[[0.47549886]\n",
            " [0.2795016 ]\n",
            " [0.47549886]\n",
            " [0.47549886]]\n"
          ]
        }
      ],
      "source": [
        "import tensorflow as tf\n",
        "from tensorflow import keras\n",
        "from tensorflow.keras.models import Sequential\n",
        "from tensorflow.keras.layers import Dense\n",
        "import numpy as np\n",
        "\n",
        "# Correct inputs for the AND problem\n",
        "inputs = np.array([[0, 0],\n",
        "                   [0, 1],\n",
        "                   [1, 0],\n",
        "                   [1, 1]])\n",
        "\n",
        "# Correct labels for the AND problem\n",
        "labels = np.array([0, 0, 0, 1])\n",
        "\n",
        "# Define the model\n",
        "model = keras.Sequential([\n",
        "    Dense(4, activation=\"relu\", input_shape=(2,)),  # Correct input shape\n",
        "    Dense(1, activation=\"sigmoid\")  # One output neuron with sigmoid activation\n",
        "])\n",
        "\n",
        "# Compile the model\n",
        "model.compile(optimizer='adam',\n",
        "              loss='binary_crossentropy',\n",
        "              metrics=['accuracy'])\n",
        "\n",
        "# Train the model\n",
        "model.fit(inputs, labels, epochs=100, verbose=0)\n",
        "\n",
        "# Evaluate the model\n",
        "loss, accuracy = model.evaluate(inputs, labels, verbose=0)\n",
        "print(f\"Accuracy: {accuracy*100:.2f}%\")\n",
        "\n",
        "# Predict with the model\n",
        "predictions = model.predict(inputs)\n",
        "print(\"Predictions:\")\n",
        "print(predictions)\n"
      ]
    },
    {
      "cell_type": "code",
      "source": [
        "# Try with more data.  Copy the data onto itself\n",
        "\n",
        "import tensorflow as tf\n",
        "from tensorflow import keras\n",
        "from tensorflow.keras.models import Sequential\n",
        "from tensorflow.keras.layers import Dense\n",
        "import numpy as np\n",
        "\n",
        "# Original inputs and labels\n",
        "inputs = np.array([[0, 0],\n",
        "                   [0, 1],\n",
        "                   [1, 0],\n",
        "                   [1, 1]])\n",
        "\n",
        "labels = np.array([0, 0, 0, 1])\n",
        "\n",
        "# Duplicate the dataset\n",
        "inputs = np.tile(inputs, (100, 1))\n",
        "labels = np.tile(labels, 100)\n",
        "\n",
        "# Define the model\n",
        "model = keras.Sequential([\n",
        "    Dense(4, activation=\"relu\", input_shape=(2,)),\n",
        "    Dense(1, activation=\"sigmoid\")\n",
        "])\n",
        "\n",
        "# Compile the model\n",
        "model.compile(optimizer='adam',\n",
        "              loss='binary_crossentropy',\n",
        "              metrics=['accuracy'])\n",
        "\n",
        "# Train the model\n",
        "model.fit(inputs, labels, epochs=100, verbose=0)\n",
        "\n",
        "# Evaluate the model\n",
        "loss, accuracy = model.evaluate(inputs[:4], labels[:4], verbose=0)\n",
        "print(f\"Accuracy: {accuracy*100:.2f}%\")\n",
        "\n",
        "# Predict with the model\n",
        "predictions = model.predict(inputs[:4])\n",
        "print(\"Predictions:\")\n",
        "print(predictions)\n",
        "\n",
        "# Apply threshold to convert probabilities to class labels\n",
        "predicted_classes = (predictions > 0.5).astype(int)\n",
        "print(\"\\n Predictions:\")\n",
        "print(predicted_classes)\n",
        "\n",
        "\n",
        "print(\"\\n inputs, labels, predicted %, predicted 1 or 0\")\n",
        "np.column_stack([inputs[:4], labels[:4],predictions,predicted_classes])\n"
      ],
      "metadata": {
        "colab": {
          "base_uri": "https://localhost:8080/"
        },
        "id": "dF_N5ZpvNOKo",
        "outputId": "0d08a522-a205-4ba2-bb69-a1663f9cdbc8"
      },
      "execution_count": 24,
      "outputs": [
        {
          "output_type": "stream",
          "name": "stdout",
          "text": [
            "Accuracy: 100.00%\n",
            "1/1 [==============================] - 0s 72ms/step\n",
            "Predictions:\n",
            "[[0.17339316]\n",
            " [0.2736015 ]\n",
            " [0.10613744]\n",
            " [0.77932256]]\n",
            "\n",
            " Predictions:\n",
            "[[0]\n",
            " [0]\n",
            " [0]\n",
            " [1]]\n",
            "\n",
            " inputs, labels, predicted %, predicted 1 or 0\n"
          ]
        },
        {
          "output_type": "execute_result",
          "data": {
            "text/plain": [
              "array([[0.        , 0.        , 0.        , 0.17339316, 0.        ],\n",
              "       [0.        , 1.        , 0.        , 0.2736015 , 0.        ],\n",
              "       [1.        , 0.        , 0.        , 0.10613744, 0.        ],\n",
              "       [1.        , 1.        , 1.        , 0.77932256, 1.        ]])"
            ]
          },
          "metadata": {},
          "execution_count": 24
        }
      ]
    }
  ]
}