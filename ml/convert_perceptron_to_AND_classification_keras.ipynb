{
  "nbformat": 4,
  "nbformat_minor": 0,
  "metadata": {
    "colab": {
      "provenance": [],
      "gpuType": "T4",
      "authorship_tag": "ABX9TyOLy9YMWhop5zRNbrQUF9cX",
      "include_colab_link": true
    },
    "kernelspec": {
      "name": "python3",
      "display_name": "Python 3"
    },
    "language_info": {
      "name": "python"
    },
    "accelerator": "GPU"
  },
  "cells": [
    {
      "cell_type": "markdown",
      "metadata": {
        "id": "view-in-github",
        "colab_type": "text"
      },
      "source": [
        "<a href=\"https://colab.research.google.com/github/werowe/HypatiaAcademy/blob/master/ml/convert_perceptron_to_AND_classification_keras.ipynb\" target=\"_parent\"><img src=\"https://colab.research.google.com/assets/colab-badge.svg\" alt=\"Open In Colab\"/></a>"
      ]
    },
    {
      "cell_type": "code",
      "execution_count": 3,
      "metadata": {
        "id": "IXhEcnNv4Ken",
        "colab": {
          "base_uri": "https://localhost:8080/"
        },
        "outputId": "86cea079-e3f4-474b-e889-b15b1cb85bca"
      },
      "outputs": [
        {
          "output_type": "stream",
          "name": "stdout",
          "text": [
            "Accuracy: 75.00%\n",
            "1/1 [==============================] - 0s 75ms/step\n",
            "Predictions:\n",
            "[[0.4469737 ]\n",
            " [0.5047563 ]\n",
            " [0.3277525 ]\n",
            " [0.53041816]]\n"
          ]
        }
      ],
      "source": [
        "import tensorflow as tf\n",
        "from tensorflow import keras\n",
        "from tensorflow.keras.models import Sequential\n",
        "from tensorflow.keras.layers import Dense\n",
        "import numpy as np\n",
        "\n",
        "# Correct inputs for the AND problem\n",
        "inputs = np.array([[0, 0],\n",
        "                   [0, 1],\n",
        "                   [1, 0],\n",
        "                   [1, 1]])\n",
        "\n",
        "# Correct labels for the AND problem\n",
        "labels = np.array([0, 0, 0, 1])\n",
        "\n",
        "# Define the model\n",
        "model = keras.Sequential([\n",
        "    Dense(4, activation=\"relu\", input_shape=(2,)),  # Correct input shape\n",
        "    Dense(1, activation=\"sigmoid\")  # One output neuron with sigmoid activation\n",
        "])\n",
        "\n",
        "# Compile the model\n",
        "model.compile(optimizer='adam',\n",
        "              loss='binary_crossentropy',\n",
        "              metrics=['accuracy'])\n",
        "\n",
        "# Train the model\n",
        "model.fit(inputs, labels, epochs=100, verbose=0)\n",
        "\n",
        "# Evaluate the model\n",
        "loss, accuracy = model.evaluate(inputs, labels, verbose=0)\n",
        "print(f\"Accuracy: {accuracy*100:.2f}%\")\n",
        "\n",
        "# Predict with the model\n",
        "predictions = model.predict(inputs)\n",
        "print(\"Predictions:\")\n",
        "print(predictions)\n"
      ]
    },
    {
      "cell_type": "code",
      "source": [
        "# Try with more data.  Copy the data onto itself\n",
        "\n",
        "import tensorflow as tf\n",
        "from tensorflow import keras\n",
        "from tensorflow.keras.models import Sequential\n",
        "from tensorflow.keras.layers import Dense\n",
        "import numpy as np\n",
        "\n",
        "# Original inputs and labels\n",
        "inputs = np.array([[0, 0],\n",
        "                   [0, 1],\n",
        "                   [1, 0],\n",
        "                   [1, 1]])\n",
        "\n",
        "labels = np.array([0, 0, 0, 1])\n",
        "\n",
        "# Duplicate the dataset\n",
        "inputs = np.tile(inputs, (100, 1))\n",
        "labels = np.tile(labels, 100)\n",
        "\n",
        "# Define the model\n",
        "model = keras.Sequential([\n",
        "    Dense(4, activation=\"relu\", input_shape=(2,)),\n",
        "    Dense(1, activation=\"sigmoid\")\n",
        "])\n",
        "\n",
        "# Compile the model\n",
        "model.compile(optimizer='adam',\n",
        "              loss='binary_crossentropy',\n",
        "              metrics=['accuracy'])\n",
        "\n",
        "# Train the model\n",
        "model.fit(inputs, labels, epochs=100, verbose=0)\n",
        "\n",
        "# Evaluate the model\n",
        "loss, accuracy = model.evaluate(inputs[:4], labels[:4], verbose=0)\n",
        "print(f\"Accuracy: {accuracy*100:.2f}%\")\n",
        "\n",
        "# Predict with the model\n",
        "predictions = model.predict(inputs[:4])\n",
        "print(\"Predictions:\")\n",
        "print(predictions)\n",
        "\n",
        "\n"
      ],
      "metadata": {
        "colab": {
          "base_uri": "https://localhost:8080/"
        },
        "id": "dF_N5ZpvNOKo",
        "outputId": "a69dda2b-9026-4fee-ed70-857c6e7ad56c"
      },
      "execution_count": 4,
      "outputs": [
        {
          "output_type": "stream",
          "name": "stdout",
          "text": [
            "Accuracy: 100.00%\n",
            "1/1 [==============================] - 0s 64ms/step\n",
            "Predictions:\n",
            "[[0.09161109]\n",
            " [0.0948939 ]\n",
            " [0.30225238]\n",
            " [0.8030267 ]]\n"
          ]
        }
      ]
    }
  ]
}