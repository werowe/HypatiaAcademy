{
  "nbformat": 4,
  "nbformat_minor": 0,
  "metadata": {
    "colab": {
      "provenance": [],
      "gpuType": "T4",
      "include_colab_link": true
    },
    "kernelspec": {
      "name": "python3",
      "display_name": "Python 3"
    },
    "language_info": {
      "name": "python"
    },
    "accelerator": "GPU"
  },
  "cells": [
    {
      "cell_type": "markdown",
      "metadata": {
        "id": "view-in-github",
        "colab_type": "text"
      },
      "source": [
        "<a href=\"https://colab.research.google.com/github/werowe/HypatiaAcademy/blob/master/diana_fixed_generate_shakespeare.ipynb\" target=\"_parent\"><img src=\"https://colab.research.google.com/assets/colab-badge.svg\" alt=\"Open In Colab\"/></a>"
      ]
    },
    {
      "cell_type": "markdown",
      "source": [
        "# Transformers\n",
        "\n",
        " [Chollet](https://livebook.manning.com/book/deep-learning-with-python-third-edition/chapter-15/v-4/12)\n",
        "\n",
        " We can detokenize a sequence by proceeding in reverse – map ints back to string tokens and join them together. With this approach, **our problem becomes building a model that can predict an integer sequence of tokens**.\n",
        "\n",
        "\n",
        " A practical approach for making such a prediction problem feasible is to build a model that only **predicts a single token output at a time**.\n",
        "\n",
        " Given a sequence of all tokens observed up to a point, a language model will attempt to output a probability distribution over all possible tokens that could come next.\n"
      ],
      "metadata": {
        "id": "D0QmpplsjHo4"
      }
    },
    {
      "cell_type": "markdown",
      "source": [
        "\n",
        "Chatgpt:  I have a fever and a runny nose.  What do I have?\n",
        "\n",
        "labels                           features\n",
        "1234234550192919293919912333\n",
        "\n",
        "\n",
        "I have a fever and a runny ---->. predict what word comes next\n",
        "\n",
        "                                  predict what letter comes next\n",
        "\n",
        "                                  67 = vocabulary\n",
        "\n",
        "                                  lower case, upper case, space\n",
        "\n",
        "sigmoid, softmax\n",
        "\n",
        "probability of \"nose\" is 0.8\n",
        "\n",
        "\n",
        "input text:  how do I sort an array in numpy\n",
        "\n",
        "----->prediction np.sort() xxxxxxxxxxx\n",
        "\n",
        "predict the next letter\n",
        "\n",
        "how do I sort an array in numpy?  n\n",
        "how do I sort an array in numpy?  np\n",
        "\n",
        "how do I sort an array in numpy?  np------->tokenize it--->run neural network------->use vocabulary an predict letter or word codes next\n",
        "\n",
        "how do I sort an array in numpy?  np.\n",
        "\n",
        "\n",
        "\n",
        "\n",
        "\n",
        "MNIST output was 0 , 1\n",
        "\n",
        "vocabulary which can be letters or words\n",
        "\n",
        "\n",
        "\n",
        "\n"
      ],
      "metadata": {
        "id": "qaIacajpzZJo"
      }
    },
    {
      "cell_type": "markdown",
      "source": [
        "# 15.1.1 Training a Shakespeare Language Model\n",
        "\n"
      ],
      "metadata": {
        "id": "SiIOSA_VjveS"
      }
    },
    {
      "cell_type": "code",
      "source": [
        "import keras\n",
        "\n",
        "filename = keras.utils.get_file(\n",
        "    origin=(\n",
        "        \"https://storage.googleapis.com/download.tensorflow.org/\"\n",
        "        \"data/shakespeare.txt\"\n",
        "    ),\n",
        ")\n",
        "shakespeare = open(filename, \"r\").read()"
      ],
      "metadata": {
        "id": "PnLI4013j7Uq",
        "colab": {
          "base_uri": "https://localhost:8080/"
        },
        "outputId": "579b7355-58a0-49b9-8b3e-1610af3180c8"
      },
      "execution_count": 1,
      "outputs": [
        {
          "output_type": "stream",
          "name": "stdout",
          "text": [
            "Downloading data from https://storage.googleapis.com/download.tensorflow.org/data/shakespeare.txt\n",
            "\u001b[1m1115394/1115394\u001b[0m \u001b[32m━━━━━━━━━━━━━━━━━━━━\u001b[0m\u001b[37m\u001b[0m \u001b[1m1s\u001b[0m 1us/step\n"
          ]
        }
      ]
    },
    {
      "cell_type": "code",
      "source": [
        "shakespeare[0]"
      ],
      "metadata": {
        "colab": {
          "base_uri": "https://localhost:8080/",
          "height": 35
        },
        "id": "CdUFqiEp5Tbz",
        "outputId": "54e15b71-2fce-4ff3-8e40-a322729c09d8"
      },
      "execution_count": 2,
      "outputs": [
        {
          "output_type": "execute_result",
          "data": {
            "text/plain": [
              "'F'"
            ],
            "application/vnd.google.colaboratory.intrinsic+json": {
              "type": "string"
            }
          },
          "metadata": {},
          "execution_count": 2
        }
      ]
    },
    {
      "cell_type": "code",
      "source": [
        "shakespeare[:250]"
      ],
      "metadata": {
        "id": "EEhmFR_pkArv",
        "colab": {
          "base_uri": "https://localhost:8080/",
          "height": 71
        },
        "outputId": "ee2017df-567c-4b78-e285-10bd18795534"
      },
      "execution_count": 3,
      "outputs": [
        {
          "output_type": "execute_result",
          "data": {
            "text/plain": [
              "'First Citizen:\\nBefore we proceed any further, hear me speak.\\n\\nAll:\\nSpeak, speak.\\n\\nFirst Citizen:\\nYou are all resolved rather to die than to famish?\\n\\nAll:\\nResolved. resolved.\\n\\nFirst Citizen:\\nFirst, you know Caius Marcius is chief enemy to the people.\\n'"
            ],
            "application/vnd.google.colaboratory.intrinsic+json": {
              "type": "string"
            }
          },
          "metadata": {},
          "execution_count": 3
        }
      ]
    },
    {
      "cell_type": "markdown",
      "source": [
        " 1. First, we will split our data into equal-length chunks that we can batch and use for model training\n",
        "\n",
        " 2. We will also split each input into two separate feature and label sequences, each label sequence simply being the input sequence offset by a single character.\n"
      ],
      "metadata": {
        "id": "ZOyEtyvykGiG"
      }
    },
    {
      "cell_type": "code",
      "source": [
        "import tensorflow as tf\n",
        "\n",
        "sequence_length = 100\n",
        "\n",
        "\n",
        "# the yield function returns a value one at a time from another looping function that calls it.  So it's like a loop inside a loop except the second loop is in a seperate function.\n",
        "\n",
        "def split_input(input, sequence_length):\n",
        "    for i in range(0, len(input), sequence_length):\n",
        "        yield input[i : i + sequence_length]\n",
        "\n",
        "#label shakespeare[1:] means skip first letter and go to end\n",
        "# feature shakespear[:-1] means start at beginning and leave off last letter\n",
        "\n",
        "# yield\n",
        "features = list(split_input(shakespeare[:-1], sequence_length))\n",
        "labels = list(split_input(shakespeare[1:], sequence_length))\n",
        "dataset = tf.data.Dataset.from_tensor_slices((features, labels))"
      ],
      "metadata": {
        "id": "bRqZvUYMkZDN"
      },
      "execution_count": 4,
      "outputs": []
    },
    {
      "cell_type": "code",
      "source": [
        "labels[0]"
      ],
      "metadata": {
        "colab": {
          "base_uri": "https://localhost:8080/",
          "height": 35
        },
        "id": "EfbJvMZd3dUD",
        "outputId": "f4043afa-c8d1-4e4a-eea3-129adad31a5c"
      },
      "execution_count": 5,
      "outputs": [
        {
          "output_type": "execute_result",
          "data": {
            "text/plain": [
              "'irst Citizen:\\nBefore we proceed any further, hear me speak.\\n\\nAll:\\nSpeak, speak.\\n\\nFirst Citizen:\\nYou '"
            ],
            "application/vnd.google.colaboratory.intrinsic+json": {
              "type": "string"
            }
          },
          "metadata": {},
          "execution_count": 5
        }
      ]
    },
    {
      "cell_type": "code",
      "source": [
        "a='First Citizen:\\nBefore we proceed any further, hear'\n",
        "a[:-1]"
      ],
      "metadata": {
        "colab": {
          "base_uri": "https://localhost:8080/",
          "height": 35
        },
        "id": "5ImXuTAYINVF",
        "outputId": "e244838f-eba2-44a2-eec4-fd00e2859008"
      },
      "execution_count": 6,
      "outputs": [
        {
          "output_type": "execute_result",
          "data": {
            "text/plain": [
              "'First Citizen:\\nBefore we proceed any further, hea'"
            ],
            "application/vnd.google.colaboratory.intrinsic+json": {
              "type": "string"
            }
          },
          "metadata": {},
          "execution_count": 6
        }
      ]
    },
    {
      "cell_type": "code",
      "source": [
        "a[1:]"
      ],
      "metadata": {
        "colab": {
          "base_uri": "https://localhost:8080/",
          "height": 35
        },
        "id": "v-dxOV3lIVNe",
        "outputId": "0f0fa1a3-0326-4446-bd82-38490d2fe5e4"
      },
      "execution_count": 7,
      "outputs": [
        {
          "output_type": "execute_result",
          "data": {
            "text/plain": [
              "'irst Citizen:\\nBefore we proceed any further, hear'"
            ],
            "application/vnd.google.colaboratory.intrinsic+json": {
              "type": "string"
            }
          },
          "metadata": {},
          "execution_count": 7
        }
      ]
    },
    {
      "cell_type": "markdown",
      "source": [
        "Let’s look at an (x, y) input sample. Our label at each position in the sequence is the next character in the sequence."
      ],
      "metadata": {
        "id": "kog39sN6TkPo"
      }
    },
    {
      "cell_type": "code",
      "source": [
        "# x is feature and y is label\n",
        "\n",
        "\n",
        "# next means go next one.  it's the first one.  as_numpy_iterator() means return the data as numpy\n",
        "\n",
        "\n",
        "x, y = next(dataset.as_numpy_iterator())\n",
        "print(\"label\", x[:50])\n",
        "print(\"\\nfeature\", y[:50])\n"
      ],
      "metadata": {
        "id": "d--1k5Q7kh1O",
        "colab": {
          "base_uri": "https://localhost:8080/"
        },
        "outputId": "70a69980-2264-45b8-921d-2e4be730ee5a"
      },
      "execution_count": 8,
      "outputs": [
        {
          "output_type": "stream",
          "name": "stdout",
          "text": [
            "label b'First Citizen:\\nBefore we proceed any further, hear'\n",
            "\n",
            "feature b'irst Citizen:\\nBefore we proceed any further, hear '\n"
          ]
        }
      ]
    },
    {
      "cell_type": "markdown",
      "source": [
        "First Citizen:\\nBefore we proceed any further, hear\n",
        "\n",
        "irst Citizen:\\nBefore we proceed any further, hear\n",
        "\n",
        "\n"
      ],
      "metadata": {
        "id": "fIOln6yX1ukI"
      }
    },
    {
      "cell_type": "markdown",
      "source": [
        "To map this input to a sequence of integers, we can again use the TextVectorization layer we saw in the last chapter. To learn a character-level vocabulary instead of a word-level vocabulary, we can change our split argument. Rather than the default **whitespace** splitting, we instead split by **character**. We will do no standardization here – to keep things simple, we will preserve case and pass punctuation through unaltered.\n",
        "\n",
        "[Chollet](https://livebook.manning.com/book/deep-learning-with-python-third-edition/chapter-15/v-4/22)"
      ],
      "metadata": {
        "id": "fs086bhnkvIG"
      }
    },
    {
      "cell_type": "code",
      "source": [
        "from keras import layers\n",
        "\n",
        "tokenizer = layers.TextVectorization(\n",
        "    standardize=None,\n",
        "    split=\"character\",\n",
        "    output_sequence_length=sequence_length,\n",
        ")\n",
        "tokenizer.adapt(dataset.map(lambda text, labels: text))"
      ],
      "metadata": {
        "id": "ZMIheqIclAVt"
      },
      "execution_count": 9,
      "outputs": []
    },
    {
      "cell_type": "code",
      "source": [
        "type(tokenizer)"
      ],
      "metadata": {
        "colab": {
          "base_uri": "https://localhost:8080/",
          "height": 187
        },
        "id": "Ppv3k7o_4f1A",
        "outputId": "d0c9ed28-6011-465e-f18b-48c7e242b9b5"
      },
      "execution_count": 10,
      "outputs": [
        {
          "output_type": "execute_result",
          "data": {
            "text/plain": [
              "keras.src.layers.preprocessing.text_vectorization.TextVectorization"
            ],
            "text/html": [
              "<div style=\"max-width:800px; border: 1px solid var(--colab-border-color);\"><style>\n",
              "      pre.function-repr-contents {\n",
              "        overflow-x: auto;\n",
              "        padding: 8px 12px;\n",
              "        max-height: 500px;\n",
              "      }\n",
              "\n",
              "      pre.function-repr-contents.function-repr-contents-collapsed {\n",
              "        cursor: pointer;\n",
              "        max-height: 100px;\n",
              "      }\n",
              "    </style>\n",
              "    <pre style=\"white-space: initial; background:\n",
              "         var(--colab-secondary-surface-color); padding: 8px 12px;\n",
              "         border-bottom: 1px solid var(--colab-border-color);\"><b>keras.src.layers.preprocessing.text_vectorization.TextVectorization</b><br/>def error_handler(*args, **kwargs)</pre><pre class=\"function-repr-contents function-repr-contents-collapsed\" style=\"\"><a class=\"filepath\" style=\"display:none\" href=\"#\">/usr/local/lib/python3.11/dist-packages/keras/src/layers/preprocessing/text_vectorization.py</a>A preprocessing layer which maps text features to integer sequences.\n",
              "\n",
              "This layer has basic options for managing text in a Keras model. It\n",
              "transforms a batch of strings (one example = one string) into either a list\n",
              "of token indices (one example = 1D tensor of integer token indices) or a\n",
              "dense representation (one example = 1D tensor of float values representing\n",
              "data about the example&#x27;s tokens). This layer is meant to handle natural\n",
              "language inputs. To handle simple string inputs (categorical strings or\n",
              "pre-tokenized strings) see `kers_core.layers.StringLookup`.\n",
              "\n",
              "The vocabulary for the layer must be either supplied on construction or\n",
              "learned via `adapt()`. When this layer is adapted, it will analyze the\n",
              "dataset, determine the frequency of individual string values, and create a\n",
              "vocabulary from them. This vocabulary can have unlimited size or be capped,\n",
              "depending on the configuration options for this layer; if there are more\n",
              "unique values in the input than the maximum vocabulary size, the most\n",
              "frequent terms will be used to create the vocabulary.\n",
              "\n",
              "The processing of each example contains the following steps:\n",
              "\n",
              "1. Standardize each example (usually lowercasing + punctuation stripping)\n",
              "2. Split each example into substrings (usually words)\n",
              "3. Recombine substrings into tokens (usually ngrams)\n",
              "4. Index tokens (associate a unique int value with each token)\n",
              "5. Transform each example using this index, either into a vector of ints or\n",
              "   a dense float vector.\n",
              "\n",
              "Some notes on passing callables to customize splitting and normalization for\n",
              "this layer:\n",
              "\n",
              "1. Any callable can be passed to this Layer, but if you want to serialize\n",
              "   this object you should only pass functions that are registered Keras\n",
              "   serializables (see `keras.saving.register_keras_serializable`\n",
              "   for more details).\n",
              "2. When using a custom callable for `standardize`, the data received\n",
              "   by the callable will be exactly as passed to this layer. The callable\n",
              "   should return a tensor of the same shape as the input.\n",
              "3. When using a custom callable for `split`, the data received by the\n",
              "   callable will have the 1st dimension squeezed out - instead of\n",
              "   `[[&quot;string to split&quot;], [&quot;another string to split&quot;]]`, the Callable will\n",
              "   see `[&quot;string to split&quot;, &quot;another string to split&quot;]`.\n",
              "   The callable should return a `tf.Tensor` of dtype `string`\n",
              "   with the first dimension containing the split tokens -\n",
              "   in this example, we should see something like `[[&quot;string&quot;, &quot;to&quot;,\n",
              "   &quot;split&quot;], [&quot;another&quot;, &quot;string&quot;, &quot;to&quot;, &quot;split&quot;]]`.\n",
              "\n",
              "**Note:** This layer uses TensorFlow internally. It cannot\n",
              "be used as part of the compiled computation graph of a model with\n",
              "any backend other than TensorFlow.\n",
              "It can however be used with any backend when running eagerly.\n",
              "It can also always be used as part of an input preprocessing pipeline\n",
              "with any backend (outside the model itself), which is how we recommend\n",
              "to use this layer.\n",
              "\n",
              "**Note:** This layer is safe to use inside a `tf.data` pipeline\n",
              "(independently of which backend you&#x27;re using).\n",
              "\n",
              "Args:\n",
              "    max_tokens: Maximum size of the vocabulary for this layer. This should\n",
              "        only be specified when adapting a vocabulary or when setting\n",
              "        `pad_to_max_tokens=True`. Note that this vocabulary\n",
              "        contains 1 OOV token, so the effective number of tokens is\n",
              "        `(max_tokens - 1 - (1 if output_mode == &quot;int&quot; else 0))`.\n",
              "    standardize: Optional specification for standardization to apply to the\n",
              "        input text. Values can be:\n",
              "        - `None`: No standardization.\n",
              "        - `&quot;lower_and_strip_punctuation&quot;`: Text will be lowercased and all\n",
              "            punctuation removed.\n",
              "        - `&quot;lower&quot;`: Text will be lowercased.\n",
              "        - `&quot;strip_punctuation&quot;`: All punctuation will be removed.\n",
              "        - Callable: Inputs will passed to the callable function,\n",
              "            which should be standardized and returned.\n",
              "    split: Optional specification for splitting the input text.\n",
              "        Values can be:\n",
              "        - `None`: No splitting.\n",
              "        - `&quot;whitespace&quot;`: Split on whitespace.\n",
              "        - `&quot;character&quot;`: Split on each unicode character.\n",
              "        - Callable: Standardized inputs will passed to the callable\n",
              "            function, which should be split and returned.\n",
              "    ngrams: Optional specification for ngrams to create from the\n",
              "        possibly-split input text. Values can be `None`, an integer\n",
              "        or tuple of integers; passing an integer will create ngrams\n",
              "        up to that integer, and passing a tuple of integers will\n",
              "        create ngrams for the specified values in the tuple.\n",
              "        Passing `None` means that no ngrams will be created.\n",
              "    output_mode: Optional specification for the output of the layer.\n",
              "        Values can be `&quot;int&quot;`, `&quot;multi_hot&quot;`, `&quot;count&quot;` or `&quot;tf_idf&quot;`,\n",
              "        configuring the layer as follows:\n",
              "        - `&quot;int&quot;`: Outputs integer indices, one integer index per split\n",
              "            string token. When `output_mode == &quot;int&quot;`,\n",
              "            0 is reserved for masked locations;\n",
              "            this reduces the vocab size to `max_tokens - 2`\n",
              "            instead of `max_tokens - 1`.\n",
              "        - `&quot;multi_hot&quot;`: Outputs a single int array per batch, of either\n",
              "            vocab_size or max_tokens size, containing 1s in all elements\n",
              "            where the token mapped to that index exists at least\n",
              "            once in the batch item.\n",
              "        - `&quot;count&quot;`: Like `&quot;multi_hot&quot;`, but the int array contains\n",
              "            a count of the number of times the token at that index\n",
              "            appeared in the batch item.\n",
              "        - `&quot;tf_idf&quot;`: Like `&quot;multi_hot&quot;`, but the TF-IDF algorithm\n",
              "            is applied to find the value in each token slot.\n",
              "        For `&quot;int&quot;` output, any shape of input and output is supported.\n",
              "        For all other output modes, currently only rank 1 inputs\n",
              "        (and rank 2 outputs after splitting) are supported.\n",
              "    output_sequence_length: Only valid in INT mode. If set, the output will\n",
              "        have its time dimension padded or truncated to exactly\n",
              "        `output_sequence_length` values, resulting in a tensor of shape\n",
              "        `(batch_size, output_sequence_length)` regardless of how many tokens\n",
              "        resulted from the splitting step. Defaults to `None`. If `ragged`\n",
              "        is `True` then `output_sequence_length` may still truncate the\n",
              "        output.\n",
              "    pad_to_max_tokens: Only valid in  `&quot;multi_hot&quot;`, `&quot;count&quot;`,\n",
              "        and `&quot;tf_idf&quot;` modes. If `True`, the output will have\n",
              "        its feature axis padded to `max_tokens` even if the number\n",
              "        of unique tokens in the vocabulary is less than `max_tokens`,\n",
              "        resulting in a tensor of shape `(batch_size, max_tokens)`\n",
              "        regardless of vocabulary size. Defaults to `False`.\n",
              "    vocabulary: Optional. Either an array of strings or a string path to a\n",
              "        text file. If passing an array, can pass a tuple, list,\n",
              "        1D NumPy array, or 1D tensor containing the string vocabulary terms.\n",
              "        If passing a file path, the file should contain one line per term\n",
              "        in the vocabulary. If this argument is set,\n",
              "        there is no need to `adapt()` the layer.\n",
              "    idf_weights: Only valid when `output_mode` is `&quot;tf_idf&quot;`. A tuple, list,\n",
              "        1D NumPy array, or 1D tensor of the same length as the vocabulary,\n",
              "        containing the floating point inverse document frequency weights,\n",
              "        which will be multiplied by per sample term counts for\n",
              "        the final `tf_idf` weight. If the `vocabulary` argument is set,\n",
              "        and `output_mode` is `&quot;tf_idf&quot;`, this argument must be supplied.\n",
              "    ragged: Boolean. Only applicable to `&quot;int&quot;` output mode.\n",
              "        Only supported with TensorFlow backend.\n",
              "        If `True`, returns a `RaggedTensor` instead of a dense `Tensor`,\n",
              "        where each sequence may have a different length\n",
              "        after string splitting. Defaults to `False`.\n",
              "    sparse: Boolean. Only applicable to `&quot;multi_hot&quot;`, `&quot;count&quot;`, and\n",
              "        `&quot;tf_idf&quot;` output modes. Only supported with TensorFlow\n",
              "        backend. If `True`, returns a `SparseTensor`\n",
              "        instead of a dense `Tensor`. Defaults to `False`.\n",
              "    encoding: Optional. The text encoding to use to interpret the input\n",
              "        strings. Defaults to `&quot;utf-8&quot;`.\n",
              "\n",
              "Examples:\n",
              "\n",
              "This example instantiates a `TextVectorization` layer that lowercases text,\n",
              "splits on whitespace, strips punctuation, and outputs integer vocab indices.\n",
              "\n",
              "&gt;&gt;&gt; max_tokens = 5000  # Maximum vocab size.\n",
              "&gt;&gt;&gt; max_len = 4  # Sequence length to pad the outputs to.\n",
              "&gt;&gt;&gt; # Create the layer.\n",
              "&gt;&gt;&gt; vectorize_layer = TextVectorization(\n",
              "...     max_tokens=max_tokens,\n",
              "...     output_mode=&#x27;int&#x27;,\n",
              "...     output_sequence_length=max_len)\n",
              "\n",
              "&gt;&gt;&gt; # Now that the vocab layer has been created, call `adapt` on the\n",
              "&gt;&gt;&gt; # list of strings to create the vocabulary.\n",
              "&gt;&gt;&gt; vectorize_layer.adapt([&quot;foo bar&quot;, &quot;bar baz&quot;, &quot;baz bada boom&quot;])\n",
              "\n",
              "&gt;&gt;&gt; # Now, the layer can map strings to integers -- you can use an\n",
              "&gt;&gt;&gt; # embedding layer to map these integers to learned embeddings.\n",
              "&gt;&gt;&gt; input_data = [[&quot;foo qux bar&quot;], [&quot;qux baz&quot;]]\n",
              "&gt;&gt;&gt; vectorize_layer(input_data)\n",
              "array([[4, 1, 3, 0],\n",
              "       [1, 2, 0, 0]])\n",
              "\n",
              "This example instantiates a `TextVectorization` layer by passing a list\n",
              "of vocabulary terms to the layer&#x27;s `__init__()` method.\n",
              "\n",
              "&gt;&gt;&gt; vocab_data = [&quot;earth&quot;, &quot;wind&quot;, &quot;and&quot;, &quot;fire&quot;]\n",
              "&gt;&gt;&gt; max_len = 4  # Sequence length to pad the outputs to.\n",
              "&gt;&gt;&gt; # Create the layer, passing the vocab directly. You can also pass the\n",
              "&gt;&gt;&gt; # vocabulary arg a path to a file containing one vocabulary word per\n",
              "&gt;&gt;&gt; # line.\n",
              "&gt;&gt;&gt; vectorize_layer = keras.layers.TextVectorization(\n",
              "...     max_tokens=max_tokens,\n",
              "...     output_mode=&#x27;int&#x27;,\n",
              "...     output_sequence_length=max_len,\n",
              "...     vocabulary=vocab_data)\n",
              "\n",
              "&gt;&gt;&gt; # Because we&#x27;ve passed the vocabulary directly, we don&#x27;t need to adapt\n",
              "&gt;&gt;&gt; # the layer - the vocabulary is already set. The vocabulary contains the\n",
              "&gt;&gt;&gt; # padding token (&#x27;&#x27;) and OOV token (&#x27;[UNK]&#x27;)\n",
              "&gt;&gt;&gt; # as well as the passed tokens.\n",
              "&gt;&gt;&gt; vectorize_layer.get_vocabulary()\n",
              "[&#x27;&#x27;, &#x27;[UNK]&#x27;, &#x27;earth&#x27;, &#x27;wind&#x27;, &#x27;and&#x27;, &#x27;fire&#x27;]</pre>\n",
              "      <script>\n",
              "      if (google.colab.kernel.accessAllowed && google.colab.files && google.colab.files.view) {\n",
              "        for (const element of document.querySelectorAll('.filepath')) {\n",
              "          element.style.display = 'block'\n",
              "          element.onclick = (event) => {\n",
              "            event.preventDefault();\n",
              "            event.stopPropagation();\n",
              "            google.colab.files.view(element.textContent, 15);\n",
              "          };\n",
              "        }\n",
              "      }\n",
              "      for (const element of document.querySelectorAll('.function-repr-contents')) {\n",
              "        element.onclick = (event) => {\n",
              "          event.preventDefault();\n",
              "          event.stopPropagation();\n",
              "          element.classList.toggle('function-repr-contents-collapsed');\n",
              "        };\n",
              "      }\n",
              "      </script>\n",
              "      </div>"
            ]
          },
          "metadata": {},
          "execution_count": 10
        }
      ]
    },
    {
      "cell_type": "code",
      "source": [
        "vocabulary_size = tokenizer.vocabulary_size()\n",
        "vocabulary_size"
      ],
      "metadata": {
        "id": "d7TK1itOlKSu",
        "colab": {
          "base_uri": "https://localhost:8080/"
        },
        "outputId": "22a72cae-7e0f-4e67-da43-f4dedb8a009b"
      },
      "execution_count": 11,
      "outputs": [
        {
          "output_type": "execute_result",
          "data": {
            "text/plain": [
              "67"
            ]
          },
          "metadata": {},
          "execution_count": 11
        }
      ]
    },
    {
      "cell_type": "code",
      "source": [
        "vocabulary_size"
      ],
      "metadata": {
        "colab": {
          "base_uri": "https://localhost:8080/"
        },
        "id": "rvaGC9M04T16",
        "outputId": "51b94c1d-a2ac-4b1e-82ae-dfa3f8ac891f"
      },
      "execution_count": 12,
      "outputs": [
        {
          "output_type": "execute_result",
          "data": {
            "text/plain": [
              "67"
            ]
          },
          "metadata": {},
          "execution_count": 12
        }
      ]
    },
    {
      "cell_type": "markdown",
      "source": [
        " vocabulary size of 67 means the TextVectorization layer has identified 67 unique characters in your dataset when tokenizing at the character level.  "
      ],
      "metadata": {
        "id": "n7kxelFMlz_Z"
      }
    },
    {
      "cell_type": "markdown",
      "source": [
        "Next, we can apply our tokenization layer to our input text. And finally, we can shuffle, batch, and cache our dataset so we don’t need to recompute it every epoch."
      ],
      "metadata": {
        "id": "oz1Td5u1lQb4"
      }
    },
    {
      "cell_type": "code",
      "source": [
        "dataset = dataset.map(\n",
        "    lambda features, labels: (tokenizer(features), tokenizer(labels)),\n",
        "    num_parallel_calls=8,\n",
        ")\n",
        "training_data = dataset.shuffle(10_000).batch(64).cache()"
      ],
      "metadata": {
        "id": "9TcmAdH2lUaa"
      },
      "execution_count": 13,
      "outputs": []
    },
    {
      "cell_type": "markdown",
      "source": [
        "Print a portion of it to see what is inside:"
      ],
      "metadata": {
        "id": "ofzuoGJ8Jwas"
      }
    },
    {
      "cell_type": "code",
      "source": [
        "for batch in training_data.take(1):\n",
        "    features, labels = batch\n",
        "    print(\"Features (tokenized):\", features.numpy(),\" \\nshape\", features.numpy().shape)\n",
        "    print(\"Labels (tokenized):\", labels.numpy(), \" \\nshape\", labels.numpy().shape)\n"
      ],
      "metadata": {
        "colab": {
          "base_uri": "https://localhost:8080/"
        },
        "id": "NL_bPKuQJ0Lo",
        "outputId": "cd6df65d-9524-4dd8-fd3c-9b470bb6fd32"
      },
      "execution_count": 14,
      "outputs": [
        {
          "output_type": "stream",
          "name": "stdout",
          "text": [
            "Features (tokenized): [[15 21  7 ...  4  8  2]\n",
            " [ 7  6  9 ... 12 12 54]\n",
            " [ 6  4  7 ... 28  8  2]\n",
            " ...\n",
            " [ 6 10 21 ...  8  8  2]\n",
            " [ 2 16  3 ... 15  4  2]\n",
            " [27 12 12 ...  5 10  2]]  \n",
            "shape (64, 100)\n",
            "Labels (tokenized): [[21  7  2 ...  8  2  4]\n",
            " [ 6  9 14 ... 12 54 23]\n",
            " [ 4  7  2 ...  8  2 19]\n",
            " ...\n",
            " [10 21  6 ...  8  2  9]\n",
            " [16  3 48 ...  4  2 16]\n",
            " [12 12 49 ... 10  2 16]]  \n",
            "shape (64, 100)\n"
          ]
        }
      ]
    },
    {
      "cell_type": "code",
      "source": [
        "features.numpy()[0]"
      ],
      "metadata": {
        "colab": {
          "base_uri": "https://localhost:8080/"
        },
        "id": "bzu_J5-w4v4E",
        "outputId": "a0f9ca6a-d88c-4191-9d98-6944b86ff5cf"
      },
      "execution_count": 15,
      "outputs": [
        {
          "output_type": "execute_result",
          "data": {
            "text/plain": [
              "array([15, 21,  7,  2, 20,  6,  8,  4, 18, 12, 37,  5,  2,  3, 29,  3,  9,\n",
              "       17,  2,  8, 21,  5, 25,  3,  2, 24, 17,  2,  4,  7,  3,  2, 11, 16,\n",
              "       16,  5, 14,  3,  9,  6,  4,  3,  2, 15,  8,  3, 12, 31, 15,  9, 10,\n",
              "        8,  2,  4,  5,  2,  9,  3,  8,  4,  9,  6, 11, 10,  4, 27,  2, 34,\n",
              "       15,  9,  2, 10,  6,  4, 15,  9,  3,  8,  2, 14,  5,  2, 25, 15,  9,\n",
              "        8, 15,  3, 18, 12, 38, 11, 30,  3,  2,  9,  6,  4,  8,  2])"
            ]
          },
          "metadata": {},
          "execution_count": 15
        }
      ]
    },
    {
      "cell_type": "markdown",
      "source": [
        "#Build Language Model\n",
        "\n",
        "To build our simple language model, we want to predict the probability of a character given all past characters. Of all the modeling possibilities we have seen so far in this book, an RNN is the most natural fit, as the recurrent state of each cell allows the model to propagate information about past characters when predicting the label of the current character.\n",
        "\n",
        "> **Definition:  RNN**\n",
        ">\n",
        "> A **Recurrent Neural Network (RNN)** is a type of artificial neural network specifically designed to process sequential data, such as text, speech, or time series, where the order and context of the data points matter. Unlike traditional feedforward neural networks, which process each input independently, RNNs have a unique architecture that incorporates loops, allowing information from previous steps in the sequence to influence the processing of current and future inputs.\n",
        "\n",
        "\n",
        "We can also use an **Embedding**, to embed each input character as a unique 256-dimensional vector.\n",
        "\n",
        "We will use only a single recurrent layer to keep this model small and easy to train. Any recurrent layer would do here, but to keep things simple, we will use a GRU, which is fast and has a simpler internal state than an LSTM.\n",
        "\n",
        "> **Definitions:  GRU and LSTM**\n",
        ">\n",
        "> **Gated Recurrent Units (GRUs)** and **Long Short-Term Memory networks (LSTMs)** are both advanced types of recurrent neural networks (RNNs) designed to handle sequential data and overcome the vanishing gradient problem seen in standard RNNs."
      ],
      "metadata": {
        "id": "MicpMlAamBAb"
      }
    },
    {
      "cell_type": "code",
      "source": [
        "embedding_dim = 256\n",
        "hidden_dim = 1024\n",
        "\n",
        "inputs = layers.Input(shape=(sequence_length,), dtype=\"int\", name=\"token_ids\")\n",
        "x = layers.Embedding(vocabulary_size, embedding_dim)(inputs)\n",
        "x = layers.GRU(hidden_dim, return_sequences=True)(x)\n",
        "x = layers.Dropout(0.1)(x)\n",
        "\n",
        "outputs = layers.Dense(vocabulary_size, activation=\"softmax\")(x)\n",
        "\n",
        "model = keras.Model(inputs, outputs)"
      ],
      "metadata": {
        "id": "f_gb7fUJmWbe"
      },
      "execution_count": 16,
      "outputs": []
    },
    {
      "cell_type": "code",
      "source": [
        "model.summary(line_length=80)"
      ],
      "metadata": {
        "id": "VsssEyqxnOxO",
        "colab": {
          "base_uri": "https://localhost:8080/",
          "height": 298
        },
        "outputId": "9a598b53-3d48-4391-9f80-c529031c16f9"
      },
      "execution_count": 17,
      "outputs": [
        {
          "output_type": "display_data",
          "data": {
            "text/plain": [
              "\u001b[1mModel: \"functional\"\u001b[0m\n"
            ],
            "text/html": [
              "<pre style=\"white-space:pre;overflow-x:auto;line-height:normal;font-family:Menlo,'DejaVu Sans Mono',consolas,'Courier New',monospace\"><span style=\"font-weight: bold\">Model: \"functional\"</span>\n",
              "</pre>\n"
            ]
          },
          "metadata": {}
        },
        {
          "output_type": "display_data",
          "data": {
            "text/plain": [
              "┏━━━━━━━━━━━━━━━━━━━━━━━━━━━━━━━━━━━┳━━━━━━━━━━━━━━━━━━━━━━━━━━┳━━━━━━━━━━━━━━━┓\n",
              "┃\u001b[1m \u001b[0m\u001b[1mLayer (type)                     \u001b[0m\u001b[1m \u001b[0m┃\u001b[1m \u001b[0m\u001b[1mOutput Shape            \u001b[0m\u001b[1m \u001b[0m┃\u001b[1m \u001b[0m\u001b[1m      Param #\u001b[0m\u001b[1m \u001b[0m┃\n",
              "┡━━━━━━━━━━━━━━━━━━━━━━━━━━━━━━━━━━━╇━━━━━━━━━━━━━━━━━━━━━━━━━━╇━━━━━━━━━━━━━━━┩\n",
              "│ token_ids (\u001b[38;5;33mInputLayer\u001b[0m)            │ (\u001b[38;5;45mNone\u001b[0m, \u001b[38;5;34m100\u001b[0m)              │             \u001b[38;5;34m0\u001b[0m │\n",
              "├───────────────────────────────────┼──────────────────────────┼───────────────┤\n",
              "│ embedding (\u001b[38;5;33mEmbedding\u001b[0m)             │ (\u001b[38;5;45mNone\u001b[0m, \u001b[38;5;34m100\u001b[0m, \u001b[38;5;34m256\u001b[0m)         │        \u001b[38;5;34m17,152\u001b[0m │\n",
              "├───────────────────────────────────┼──────────────────────────┼───────────────┤\n",
              "│ gru (\u001b[38;5;33mGRU\u001b[0m)                         │ (\u001b[38;5;45mNone\u001b[0m, \u001b[38;5;34m100\u001b[0m, \u001b[38;5;34m1024\u001b[0m)        │     \u001b[38;5;34m3,938,304\u001b[0m │\n",
              "├───────────────────────────────────┼──────────────────────────┼───────────────┤\n",
              "│ dropout (\u001b[38;5;33mDropout\u001b[0m)                 │ (\u001b[38;5;45mNone\u001b[0m, \u001b[38;5;34m100\u001b[0m, \u001b[38;5;34m1024\u001b[0m)        │             \u001b[38;5;34m0\u001b[0m │\n",
              "├───────────────────────────────────┼──────────────────────────┼───────────────┤\n",
              "│ dense (\u001b[38;5;33mDense\u001b[0m)                     │ (\u001b[38;5;45mNone\u001b[0m, \u001b[38;5;34m100\u001b[0m, \u001b[38;5;34m67\u001b[0m)          │        \u001b[38;5;34m68,675\u001b[0m │\n",
              "└───────────────────────────────────┴──────────────────────────┴───────────────┘\n"
            ],
            "text/html": [
              "<pre style=\"white-space:pre;overflow-x:auto;line-height:normal;font-family:Menlo,'DejaVu Sans Mono',consolas,'Courier New',monospace\">┏━━━━━━━━━━━━━━━━━━━━━━━━━━━━━━━━━━━┳━━━━━━━━━━━━━━━━━━━━━━━━━━┳━━━━━━━━━━━━━━━┓\n",
              "┃<span style=\"font-weight: bold\"> Layer (type)                      </span>┃<span style=\"font-weight: bold\"> Output Shape             </span>┃<span style=\"font-weight: bold\">       Param # </span>┃\n",
              "┡━━━━━━━━━━━━━━━━━━━━━━━━━━━━━━━━━━━╇━━━━━━━━━━━━━━━━━━━━━━━━━━╇━━━━━━━━━━━━━━━┩\n",
              "│ token_ids (<span style=\"color: #0087ff; text-decoration-color: #0087ff\">InputLayer</span>)            │ (<span style=\"color: #00d7ff; text-decoration-color: #00d7ff\">None</span>, <span style=\"color: #00af00; text-decoration-color: #00af00\">100</span>)              │             <span style=\"color: #00af00; text-decoration-color: #00af00\">0</span> │\n",
              "├───────────────────────────────────┼──────────────────────────┼───────────────┤\n",
              "│ embedding (<span style=\"color: #0087ff; text-decoration-color: #0087ff\">Embedding</span>)             │ (<span style=\"color: #00d7ff; text-decoration-color: #00d7ff\">None</span>, <span style=\"color: #00af00; text-decoration-color: #00af00\">100</span>, <span style=\"color: #00af00; text-decoration-color: #00af00\">256</span>)         │        <span style=\"color: #00af00; text-decoration-color: #00af00\">17,152</span> │\n",
              "├───────────────────────────────────┼──────────────────────────┼───────────────┤\n",
              "│ gru (<span style=\"color: #0087ff; text-decoration-color: #0087ff\">GRU</span>)                         │ (<span style=\"color: #00d7ff; text-decoration-color: #00d7ff\">None</span>, <span style=\"color: #00af00; text-decoration-color: #00af00\">100</span>, <span style=\"color: #00af00; text-decoration-color: #00af00\">1024</span>)        │     <span style=\"color: #00af00; text-decoration-color: #00af00\">3,938,304</span> │\n",
              "├───────────────────────────────────┼──────────────────────────┼───────────────┤\n",
              "│ dropout (<span style=\"color: #0087ff; text-decoration-color: #0087ff\">Dropout</span>)                 │ (<span style=\"color: #00d7ff; text-decoration-color: #00d7ff\">None</span>, <span style=\"color: #00af00; text-decoration-color: #00af00\">100</span>, <span style=\"color: #00af00; text-decoration-color: #00af00\">1024</span>)        │             <span style=\"color: #00af00; text-decoration-color: #00af00\">0</span> │\n",
              "├───────────────────────────────────┼──────────────────────────┼───────────────┤\n",
              "│ dense (<span style=\"color: #0087ff; text-decoration-color: #0087ff\">Dense</span>)                     │ (<span style=\"color: #00d7ff; text-decoration-color: #00d7ff\">None</span>, <span style=\"color: #00af00; text-decoration-color: #00af00\">100</span>, <span style=\"color: #00af00; text-decoration-color: #00af00\">67</span>)          │        <span style=\"color: #00af00; text-decoration-color: #00af00\">68,675</span> │\n",
              "└───────────────────────────────────┴──────────────────────────┴───────────────┘\n",
              "</pre>\n"
            ]
          },
          "metadata": {}
        },
        {
          "output_type": "display_data",
          "data": {
            "text/plain": [
              "\u001b[1m Total params: \u001b[0m\u001b[38;5;34m4,024,131\u001b[0m (15.35 MB)\n"
            ],
            "text/html": [
              "<pre style=\"white-space:pre;overflow-x:auto;line-height:normal;font-family:Menlo,'DejaVu Sans Mono',consolas,'Courier New',monospace\"><span style=\"font-weight: bold\"> Total params: </span><span style=\"color: #00af00; text-decoration-color: #00af00\">4,024,131</span> (15.35 MB)\n",
              "</pre>\n"
            ]
          },
          "metadata": {}
        },
        {
          "output_type": "display_data",
          "data": {
            "text/plain": [
              "\u001b[1m Trainable params: \u001b[0m\u001b[38;5;34m4,024,131\u001b[0m (15.35 MB)\n"
            ],
            "text/html": [
              "<pre style=\"white-space:pre;overflow-x:auto;line-height:normal;font-family:Menlo,'DejaVu Sans Mono',consolas,'Courier New',monospace\"><span style=\"font-weight: bold\"> Trainable params: </span><span style=\"color: #00af00; text-decoration-color: #00af00\">4,024,131</span> (15.35 MB)\n",
              "</pre>\n"
            ]
          },
          "metadata": {}
        },
        {
          "output_type": "display_data",
          "data": {
            "text/plain": [
              "\u001b[1m Non-trainable params: \u001b[0m\u001b[38;5;34m0\u001b[0m (0.00 B)\n"
            ],
            "text/html": [
              "<pre style=\"white-space:pre;overflow-x:auto;line-height:normal;font-family:Menlo,'DejaVu Sans Mono',consolas,'Courier New',monospace\"><span style=\"font-weight: bold\"> Non-trainable params: </span><span style=\"color: #00af00; text-decoration-color: #00af00\">0</span> (0.00 B)\n",
              "</pre>\n"
            ]
          },
          "metadata": {}
        }
      ]
    },
    {
      "cell_type": "markdown",
      "source": [
        "This model outputs a softmax probability for every possible character in our vocabulary, and we will compile() it with a crossentropy loss. Note that our model is still training on a classification problem, it’s just that we will make one classification prediction for every token in our sequence. For our batch of 64 samples with 100 characters each, we will predict 6400 individual labels. Loss and accuracy metrics reported by Keras during training will be averaged first across each sequence and second across each batch."
      ],
      "metadata": {
        "id": "u2b3j-8rnYac"
      }
    },
    {
      "cell_type": "code",
      "source": [
        "model.compile(\n",
        "    optimizer=\"adam\",\n",
        "    loss=\"sparse_categorical_crossentropy\",\n",
        "    metrics=[\"sparse_categorical_accuracy\"],\n",
        ")\n",
        "model.fit(training_data, epochs=20)"
      ],
      "metadata": {
        "id": "Xnnnfwp4nZQ6",
        "colab": {
          "base_uri": "https://localhost:8080/"
        },
        "outputId": "dc801807-ebf3-4863-b2f3-b13cb543e7bb"
      },
      "execution_count": 18,
      "outputs": [
        {
          "output_type": "stream",
          "name": "stdout",
          "text": [
            "Epoch 1/20\n",
            "\u001b[1m175/175\u001b[0m \u001b[32m━━━━━━━━━━━━━━━━━━━━\u001b[0m\u001b[37m\u001b[0m \u001b[1m14s\u001b[0m 53ms/step - loss: 3.0399 - sparse_categorical_accuracy: 0.2407\n",
            "Epoch 2/20\n",
            "\u001b[1m175/175\u001b[0m \u001b[32m━━━━━━━━━━━━━━━━━━━━\u001b[0m\u001b[37m\u001b[0m \u001b[1m17s\u001b[0m 53ms/step - loss: 1.9292 - sparse_categorical_accuracy: 0.4318\n",
            "Epoch 3/20\n",
            "\u001b[1m175/175\u001b[0m \u001b[32m━━━━━━━━━━━━━━━━━━━━\u001b[0m\u001b[37m\u001b[0m \u001b[1m10s\u001b[0m 53ms/step - loss: 1.6566 - sparse_categorical_accuracy: 0.5061\n",
            "Epoch 4/20\n",
            "\u001b[1m175/175\u001b[0m \u001b[32m━━━━━━━━━━━━━━━━━━━━\u001b[0m\u001b[37m\u001b[0m \u001b[1m10s\u001b[0m 54ms/step - loss: 1.5187 - sparse_categorical_accuracy: 0.5423\n",
            "Epoch 5/20\n",
            "\u001b[1m175/175\u001b[0m \u001b[32m━━━━━━━━━━━━━━━━━━━━\u001b[0m\u001b[37m\u001b[0m \u001b[1m10s\u001b[0m 54ms/step - loss: 1.4363 - sparse_categorical_accuracy: 0.5627\n",
            "Epoch 6/20\n",
            "\u001b[1m175/175\u001b[0m \u001b[32m━━━━━━━━━━━━━━━━━━━━\u001b[0m\u001b[37m\u001b[0m \u001b[1m10s\u001b[0m 54ms/step - loss: 1.3783 - sparse_categorical_accuracy: 0.5774\n",
            "Epoch 7/20\n",
            "\u001b[1m175/175\u001b[0m \u001b[32m━━━━━━━━━━━━━━━━━━━━\u001b[0m\u001b[37m\u001b[0m \u001b[1m10s\u001b[0m 55ms/step - loss: 1.3314 - sparse_categorical_accuracy: 0.5890\n",
            "Epoch 8/20\n",
            "\u001b[1m175/175\u001b[0m \u001b[32m━━━━━━━━━━━━━━━━━━━━\u001b[0m\u001b[37m\u001b[0m \u001b[1m10s\u001b[0m 55ms/step - loss: 1.2901 - sparse_categorical_accuracy: 0.6007\n",
            "Epoch 9/20\n",
            "\u001b[1m175/175\u001b[0m \u001b[32m━━━━━━━━━━━━━━━━━━━━\u001b[0m\u001b[37m\u001b[0m \u001b[1m10s\u001b[0m 55ms/step - loss: 1.2513 - sparse_categorical_accuracy: 0.6104\n",
            "Epoch 10/20\n",
            "\u001b[1m175/175\u001b[0m \u001b[32m━━━━━━━━━━━━━━━━━━━━\u001b[0m\u001b[37m\u001b[0m \u001b[1m10s\u001b[0m 56ms/step - loss: 1.2138 - sparse_categorical_accuracy: 0.6213\n",
            "Epoch 11/20\n",
            "\u001b[1m175/175\u001b[0m \u001b[32m━━━━━━━━━━━━━━━━━━━━\u001b[0m\u001b[37m\u001b[0m \u001b[1m10s\u001b[0m 56ms/step - loss: 1.1736 - sparse_categorical_accuracy: 0.6327\n",
            "Epoch 12/20\n",
            "\u001b[1m175/175\u001b[0m \u001b[32m━━━━━━━━━━━━━━━━━━━━\u001b[0m\u001b[37m\u001b[0m \u001b[1m10s\u001b[0m 56ms/step - loss: 1.1365 - sparse_categorical_accuracy: 0.6434\n",
            "Epoch 13/20\n",
            "\u001b[1m175/175\u001b[0m \u001b[32m━━━━━━━━━━━━━━━━━━━━\u001b[0m\u001b[37m\u001b[0m \u001b[1m10s\u001b[0m 56ms/step - loss: 1.1014 - sparse_categorical_accuracy: 0.6538\n",
            "Epoch 14/20\n",
            "\u001b[1m175/175\u001b[0m \u001b[32m━━━━━━━━━━━━━━━━━━━━\u001b[0m\u001b[37m\u001b[0m \u001b[1m10s\u001b[0m 56ms/step - loss: 1.0688 - sparse_categorical_accuracy: 0.6628\n",
            "Epoch 15/20\n",
            "\u001b[1m175/175\u001b[0m \u001b[32m━━━━━━━━━━━━━━━━━━━━\u001b[0m\u001b[37m\u001b[0m \u001b[1m10s\u001b[0m 57ms/step - loss: 1.0460 - sparse_categorical_accuracy: 0.6690\n",
            "Epoch 16/20\n",
            "\u001b[1m175/175\u001b[0m \u001b[32m━━━━━━━━━━━━━━━━━━━━\u001b[0m\u001b[37m\u001b[0m \u001b[1m10s\u001b[0m 57ms/step - loss: 1.0313 - sparse_categorical_accuracy: 0.6733\n",
            "Epoch 17/20\n",
            "\u001b[1m175/175\u001b[0m \u001b[32m━━━━━━━━━━━━━━━━━━━━\u001b[0m\u001b[37m\u001b[0m \u001b[1m10s\u001b[0m 57ms/step - loss: 1.0057 - sparse_categorical_accuracy: 0.6804\n",
            "Epoch 18/20\n",
            "\u001b[1m175/175\u001b[0m \u001b[32m━━━━━━━━━━━━━━━━━━━━\u001b[0m\u001b[37m\u001b[0m \u001b[1m10s\u001b[0m 57ms/step - loss: 0.9763 - sparse_categorical_accuracy: 0.6900\n",
            "Epoch 19/20\n",
            "\u001b[1m175/175\u001b[0m \u001b[32m━━━━━━━━━━━━━━━━━━━━\u001b[0m\u001b[37m\u001b[0m \u001b[1m10s\u001b[0m 57ms/step - loss: 0.9509 - sparse_categorical_accuracy: 0.6974\n",
            "Epoch 20/20\n",
            "\u001b[1m175/175\u001b[0m \u001b[32m━━━━━━━━━━━━━━━━━━━━\u001b[0m\u001b[37m\u001b[0m \u001b[1m10s\u001b[0m 57ms/step - loss: 0.9341 - sparse_categorical_accuracy: 0.7022\n"
          ]
        },
        {
          "output_type": "execute_result",
          "data": {
            "text/plain": [
              "<keras.src.callbacks.history.History at 0x7c7eddb61350>"
            ]
          },
          "metadata": {},
          "execution_count": 18
        }
      ]
    },
    {
      "cell_type": "markdown",
      "source": [
        "After 20 epochs, our model can eventually predict the next character in our input sequences around 70% of the time.\n",
        "\n",
        "#15.1.2 Generating Shakespeare\n",
        "Now that we have trained a model that can predict the next individual tokens with some accuracy, we would like to use it to extrapolate an entire predicted sequence. We can do this by calling the model in a loop, where the model’s predicted output at one time-step becomes the model’s input at the next time step. A model built for this kind of feedback loop is sometimes called an autoregressive model.\n",
        "\n",
        "[Chollet](https://livebook.manning.com/book/deep-learning-with-python-third-edition/chapter-15/v-4/40)\n",
        "\n",
        "To run such a loop, we need to perform a slight surgery on the model we just trained. During training, our model handled only a fixed sequence length of 100 tokens, and the GRU cell’s state was handled implicitly when calling the layer. During generation, we would like to predict a single output token at a time and explicitly output the state of the GRU’s cell. We need to propagate that state, which contains all information the model has encoded about past input characters, the next time we call the model.\n",
        "\n",
        "Let’s make a model that handles a single input character at a time and allows explicitly passing the RNN state. Because this model will have the same computational structure, with slightly modified inputs and outputs, we can assign weights from one model to another."
      ],
      "metadata": {
        "id": "1MEpnq8tp6lp"
      }
    },
    {
      "cell_type": "code",
      "source": [
        "inputs = keras.Input(shape=(1,), dtype=\"int\", name=\"token_ids\")\n",
        "input_state = keras.Input(shape=(hidden_dim,), name=\"state\")\n",
        "\n",
        "x = layers.Embedding(vocabulary_size, embedding_dim)(inputs)\n",
        "x, output_state = layers.GRU(hidden_dim, return_state=True)(\n",
        "    x, initial_state=input_state\n",
        ")\n",
        "outputs = layers.Dense(vocabulary_size, activation=\"softmax\")(x)\n",
        "generation_model = keras.Model(\n",
        "    inputs=(inputs, input_state),\n",
        "    outputs=(outputs, output_state),\n",
        ")\n",
        "generation_model.set_weights(model.get_weights())"
      ],
      "metadata": {
        "id": "9uhgKR0Dqbuq"
      },
      "execution_count": 19,
      "outputs": []
    },
    {
      "cell_type": "markdown",
      "source": [
        "With this, we can call the model to predict an output sequence in a loop. Before we do, we will make explicit lookup tables so we switch from characters to integers and choose a prompt – a snippet of text we will feed as input to the model before we begin predicting new tokens."
      ],
      "metadata": {
        "id": "9i-zZ5wAd8C7"
      }
    },
    {
      "cell_type": "markdown",
      "source": [
        "# 1. Broken code from class lecture:\n",
        "\n",
        "```\n",
        "tokens = tokenizer.get_vocabulary()\n",
        "token_ids = range(vocabulary_size)\n",
        "\n",
        "# encode make numbers\n",
        "char_to_id = dict(zip(tokens, token_ids))\n",
        "\n",
        "# decode return to letters\n",
        "id_to_char = dict(zip(token_ids, tokens))\n",
        "\n",
        "prompt = \"\"\"\n",
        "KING RICHARD III:\n",
        "\"\"\"\n",
        "\n",
        "```"
      ],
      "metadata": {
        "id": "7yWYiLUZppUV"
      }
    },
    {
      "cell_type": "code",
      "source": [
        "tokens = tokenizer.get_vocabulary()\n",
        "char_to_id = {char: idx for idx, char in enumerate(tokens)}\n",
        "id_to_char = {idx: char for idx, char in enumerate(tokens)}\n",
        "\n",
        "prompt = \"\"\"\n",
        "KING RICHARD III:\n",
        "\"\"\""
      ],
      "metadata": {
        "id": "-GAP2Og7eFFa"
      },
      "execution_count": 20,
      "outputs": []
    },
    {
      "cell_type": "markdown",
      "source": [
        "To begin generation, we first need to “prime” the internal state of the GRU with our prompt. To do this, we will feed the prompt into the model one token at a time. This will compute the exact RNN state the model would see if this prompt had been encountered during training.\n",
        "\n",
        "When we feed the very last character of the prompt into the model, our state output will capture information about the entire prompt sequence. We can save the final output prediction to later select the first character of our generated response."
      ],
      "metadata": {
        "id": "TwQFIuuefWR_"
      }
    },
    {
      "cell_type": "markdown",
      "source": [
        "# changed code\n",
        "\n",
        "\n",
        "Diana replaced this broken code with what is in the next cell.\n",
        "\n",
        "The difference is that calling the .predict() method returns a numpy array but calling the model directly returns tensors.  I don't know why the code crashes when using the .predict() method.\n",
        "\n",
        "```\n",
        "input_ids = [char_to_id[c] for c in prompt]\n",
        "state = keras.ops.zeros(shape=(1, hidden_dim))\n",
        "for token_id in input_ids:\n",
        "    inputs = keras.ops.expand_dims([token_id], axis=0)\n",
        "    predictions, state = generation_model.predict((inputs, state), verbose=0)\n",
        "```"
      ],
      "metadata": {
        "id": "5j1uVHa8n4NB"
      }
    },
    {
      "cell_type": "code",
      "source": [
        "input_ids = [char_to_id[c] for c in prompt]\n",
        "state = tf.zeros((1, hidden_dim))\n",
        "\n",
        "for token_id in input_ids:\n",
        "    inputs = tf.constant([[token_id]], dtype=tf.int32)\n",
        "\n",
        "    #ensure state has correct shape: (1, 1024)\n",
        "    if len(state.shape) == 1:\n",
        "        state = tf.expand_dims(state, axis=0)\n",
        "\n",
        "    predictions, state = generation_model((inputs, state), training=False)\n"
      ],
      "metadata": {
        "id": "gaNoQnNyfarX"
      },
      "execution_count": 42,
      "outputs": []
    },
    {
      "cell_type": "markdown",
      "source": [
        "Now we are ready to let the model predict a new output sequence. In a loop, up to a desired length, we will continually select the most likely next character predicted by the model, feed that to the model, and persist the new RNN state. In this way, we can predict an entire sequence, a token at time."
      ],
      "metadata": {
        "id": "RD9GpWckgJry"
      }
    },
    {
      "cell_type": "markdown",
      "source": [
        "Let’s convert our output integer sequence to a string to see what the model predicted. To detokenize our input, we simply map all token ids to strings and join them together."
      ],
      "metadata": {
        "id": "BZKiWvTugWtg"
      }
    },
    {
      "cell_type": "code",
      "source": [
        "output = \"\".join([id_to_char[token_id] for token_id in generated_ids])\n",
        "print(prompt + output)\n"
      ],
      "metadata": {
        "id": "4FVER-icgbG4",
        "colab": {
          "base_uri": "https://localhost:8080/"
        },
        "outputId": "a79a8771-976e-443d-d4be-c90fd126dbba"
      },
      "execution_count": 30,
      "outputs": [
        {
          "output_type": "stream",
          "name": "stdout",
          "text": [
            "\n",
            "KING RICHARD III:\n",
            "W\n"
          ]
        }
      ]
    },
    {
      "cell_type": "markdown",
      "source": [
        "# Plan B.  See is can work using predict methon instead of direct call\n",
        "\n",
        "# Prepare a batch of inputs (e.g., for the first step in generation)\n",
        "\n"
      ],
      "metadata": {
        "id": "jEV6qMf0x18G"
      }
    }
  ]
}
