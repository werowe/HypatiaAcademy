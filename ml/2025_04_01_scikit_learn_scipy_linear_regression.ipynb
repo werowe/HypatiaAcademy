{
  "nbformat": 4,
  "nbformat_minor": 0,
  "metadata": {
    "colab": {
      "provenance": [],
      "authorship_tag": "ABX9TyNldu02cEAkp9Elif8f9nWv",
      "include_colab_link": true
    },
    "kernelspec": {
      "name": "python3",
      "display_name": "Python 3"
    },
    "language_info": {
      "name": "python"
    }
  },
  "cells": [
    {
      "cell_type": "markdown",
      "metadata": {
        "id": "view-in-github",
        "colab_type": "text"
      },
      "source": [
        "<a href=\"https://colab.research.google.com/github/werowe/HypatiaAcademy/blob/master/ml/2025_04_01_scikit_learn_scipy_linear_regression.ipynb\" target=\"_parent\"><img src=\"https://colab.research.google.com/assets/colab-badge.svg\" alt=\"Open In Colab\"/></a>"
      ]
    },
    {
      "cell_type": "markdown",
      "source": [
        "# Simple Linear Regression Using Python\n",
        "\n",
        "**simple**--one input variable.  one one feature\n",
        "**multiple regression**--means multiple input variables.  mutiple features\n",
        "\n",
        "example\n",
        "price of eggs--function of:\n",
        "\n",
        "1. cost of fuel\n",
        "2. cost of electricity\n",
        "3. mortality rate\n",
        "4. labor costs\n",
        "5. taxes\n",
        "\n",
        "a * x1 + b * x2 + ... + e * x5 + b = f(X) = predictive model for the price of eggs\n",
        "\n",
        "\n",
        "## Tools\n",
        "\n",
        "Google Sheets--simple\n",
        "\n",
        "* scikit-learn-use MSE\n",
        "* scipy-use MSE\n",
        "* TensorFlow/Keras-neural networks\n",
        "* PyTorch-neural networks\n"
      ],
      "metadata": {
        "id": "FgZA7Ktb5byk"
      }
    },
    {
      "cell_type": "code",
      "source": [
        "import io\n",
        "import numpy as np\n",
        "\n",
        "a='''\n",
        "1.2\n",
        "1.4\n",
        "1.6\n",
        "2.1\n",
        "2.3\n",
        "3\n",
        "3.1\n",
        "3.3\n",
        "3.3\n",
        "3.8\n",
        "4\n",
        "4.1\n",
        "4.1\n",
        "4.2\n",
        "4.6\n",
        "5\n",
        "5.2\n",
        "5.4\n",
        "6\n",
        "6.1\n",
        "6.9\n",
        "7.2\n",
        "8\n",
        "8.3\n",
        "8.8\n",
        "9.1\n",
        "9.6\n",
        "9.7\n",
        "10.4\n",
        "10.6\n",
        "'''\n",
        "\n",
        "\n",
        "b='''\n",
        "39344\n",
        "46206\n",
        "37732\n",
        "43526\n",
        "39892\n",
        "56643\n",
        "60151\n",
        "54446\n",
        "64446\n",
        "57190\n",
        "63219\n",
        "55795\n",
        "56958\n",
        "57082\n",
        "61112\n",
        "67939\n",
        "66030\n",
        "83089\n",
        "81364\n",
        "93941\n",
        "91739\n",
        "98274\n",
        "101303\n",
        "113813\n",
        "109432\n",
        "105583\n",
        "116970\n",
        "112636\n",
        "122392\n",
        "121873\n",
        "'''\n",
        "\n",
        "\n",
        "x = np.genfromtxt(io.StringIO(a), dtype=np.float32, delimiter=\"\\n\")\n",
        "\n",
        "y = np.genfromtxt(io.StringIO(b), dtype=int)"
      ],
      "metadata": {
        "id": "jbgq3bLG6fip"
      },
      "execution_count": 1,
      "outputs": []
    },
    {
      "cell_type": "code",
      "source": [
        "x.ndim"
      ],
      "metadata": {
        "colab": {
          "base_uri": "https://localhost:8080/"
        },
        "id": "lgmcNHgo7zTe",
        "outputId": "ce66db39-6e2b-4ed6-ae80-ddb64c5f1427"
      },
      "execution_count": 9,
      "outputs": [
        {
          "output_type": "execute_result",
          "data": {
            "text/plain": [
              "2"
            ]
          },
          "metadata": {},
          "execution_count": 9
        }
      ]
    },
    {
      "cell_type": "code",
      "source": [
        "x[0].ndim"
      ],
      "metadata": {
        "colab": {
          "base_uri": "https://localhost:8080/"
        },
        "id": "OBgb_3MK-Ef5",
        "outputId": "039f6cf3-ed73-4ba8-90fe-a41c2aa3c650"
      },
      "execution_count": 10,
      "outputs": [
        {
          "output_type": "execute_result",
          "data": {
            "text/plain": [
              "1"
            ]
          },
          "metadata": {},
          "execution_count": 10
        }
      ]
    },
    {
      "cell_type": "code",
      "source": [
        "y"
      ],
      "metadata": {
        "colab": {
          "base_uri": "https://localhost:8080/"
        },
        "id": "0DF-P_9C73KY",
        "outputId": "d23e3720-35ac-40c6-dbaa-9ab640ff238b"
      },
      "execution_count": 3,
      "outputs": [
        {
          "output_type": "execute_result",
          "data": {
            "text/plain": [
              "array([ 39344,  46206,  37732,  43526,  39892,  56643,  60151,  54446,\n",
              "        64446,  57190,  63219,  55795,  56958,  57082,  61112,  67939,\n",
              "        66030,  83089,  81364,  93941,  91739,  98274, 101303, 113813,\n",
              "       109432, 105583, 116970, 112636, 122392, 121873])"
            ]
          },
          "metadata": {},
          "execution_count": 3
        }
      ]
    },
    {
      "cell_type": "markdown",
      "source": [
        "We have 30 independent variables x and 30 dependent variables y"
      ],
      "metadata": {
        "id": "D1qXGCuMUjgf"
      }
    },
    {
      "cell_type": "code",
      "source": [
        "# print side-by-side t0 make easier to see\n",
        "np.set_printoptions(suppress=True)\n",
        "\n",
        "print (\"\\t x \\t\\t y\")\n",
        "np.column_stack([x,y])"
      ],
      "metadata": {
        "colab": {
          "base_uri": "https://localhost:8080/"
        },
        "id": "cuIKKaiUgv7f",
        "outputId": "95880f64-6af2-4630-eaac-a0aad263b056"
      },
      "execution_count": 8,
      "outputs": [
        {
          "output_type": "stream",
          "name": "stdout",
          "text": [
            "\t x \t\t y\n"
          ]
        },
        {
          "output_type": "execute_result",
          "data": {
            "text/plain": [
              "array([[     1.20000005,  39344.        ],\n",
              "       [     1.39999998,  46206.        ],\n",
              "       [     1.60000002,  37732.        ],\n",
              "       [     2.0999999 ,  43526.        ],\n",
              "       [     2.29999995,  39892.        ],\n",
              "       [     3.        ,  56643.        ],\n",
              "       [     3.0999999 ,  60151.        ],\n",
              "       [     3.29999995,  54446.        ],\n",
              "       [     3.29999995,  64446.        ],\n",
              "       [     3.79999995,  57190.        ],\n",
              "       [     4.        ,  63219.        ],\n",
              "       [     4.0999999 ,  55795.        ],\n",
              "       [     4.0999999 ,  56958.        ],\n",
              "       [     4.19999981,  57082.        ],\n",
              "       [     4.5999999 ,  61112.        ],\n",
              "       [     5.        ,  67939.        ],\n",
              "       [     5.19999981,  66030.        ],\n",
              "       [     5.4000001 ,  83089.        ],\n",
              "       [     6.        ,  81364.        ],\n",
              "       [     6.0999999 ,  93941.        ],\n",
              "       [     6.9000001 ,  91739.        ],\n",
              "       [     7.19999981,  98274.        ],\n",
              "       [     8.        , 101303.        ],\n",
              "       [     8.30000019, 113813.        ],\n",
              "       [     8.80000019, 109432.        ],\n",
              "       [     9.10000038, 105583.        ],\n",
              "       [     9.60000038, 116970.        ],\n",
              "       [     9.69999981, 112636.        ],\n",
              "       [    10.39999962, 122392.        ],\n",
              "       [    10.60000038, 121873.        ]])"
            ]
          },
          "metadata": {},
          "execution_count": 8
        }
      ]
    },
    {
      "cell_type": "code",
      "source": [
        "x.shape,y.shape"
      ],
      "metadata": {
        "colab": {
          "base_uri": "https://localhost:8080/"
        },
        "id": "QcwlHiHdg5wE",
        "outputId": "028f209d-44d9-4740-fef0-f8e4e296e537"
      },
      "execution_count": null,
      "outputs": [
        {
          "output_type": "execute_result",
          "data": {
            "text/plain": [
              "((30,), (30,))"
            ]
          },
          "metadata": {},
          "execution_count": 41
        }
      ]
    },
    {
      "cell_type": "markdown",
      "source": [
        "# Reshape input to fit Regression API\n",
        "\n",
        "Correct shape for regression (n_samples, n_features)\n",
        "\n",
        "x.reshape(-1, 1) converts a 1D array of shape (n,) into a 2D array of shape (n, 1) (a column vector).\n",
        "\n",
        "```\n",
        "reshape(-1, 1)\n",
        "```\n",
        "\n",
        "**-1** means second dimension should have one colums\n",
        "\n",
        "**1** Specifies that the second dimension (number of columns) should have exactly 1 column.\n"
      ],
      "metadata": {
        "id": "nOgtjwPfVPAa"
      }
    },
    {
      "cell_type": "code",
      "source": [
        "import matplotlib.pyplot as plt\n",
        "from sklearn import linear_model\n",
        "import numpy as np\n",
        "from sklearn.metrics import mean_squared_error, r2_score\n",
        "\n",
        "\n",
        "x"
      ],
      "metadata": {
        "id": "WUSs5AEdWDBk",
        "outputId": "5aabafe0-b26c-41e6-836c-b6f82f7445b3",
        "colab": {
          "base_uri": "https://localhost:8080/"
        }
      },
      "execution_count": 5,
      "outputs": [
        {
          "output_type": "execute_result",
          "data": {
            "text/plain": [
              "array([ 1.2,  1.4,  1.6,  2.1,  2.3,  3. ,  3.1,  3.3,  3.3,  3.8,  4. ,\n",
              "        4.1,  4.1,  4.2,  4.6,  5. ,  5.2,  5.4,  6. ,  6.1,  6.9,  7.2,\n",
              "        8. ,  8.3,  8.8,  9.1,  9.6,  9.7, 10.4, 10.6], dtype=float32)"
            ]
          },
          "metadata": {},
          "execution_count": 5
        }
      ]
    },
    {
      "cell_type": "code",
      "source": [
        "x=x.reshape(-1,1)\n",
        "\n",
        "print(x.shape)\n",
        "\n",
        "y=y.reshape(-1,1)\n",
        "\n",
        "print(y.shape)"
      ],
      "metadata": {
        "colab": {
          "base_uri": "https://localhost:8080/"
        },
        "id": "4PD_4maJ89yp",
        "outputId": "b089cae3-176f-434c-d6b0-de40a4778977"
      },
      "execution_count": 7,
      "outputs": [
        {
          "output_type": "stream",
          "name": "stdout",
          "text": [
            "(30, 1)\n",
            "(30, 1)\n"
          ]
        }
      ]
    },
    {
      "cell_type": "code",
      "source": [
        "y"
      ],
      "metadata": {
        "id": "bqcoJYeIWYWm",
        "outputId": "db873776-1bf6-49dc-e3e2-0f02e664b416",
        "colab": {
          "base_uri": "https://localhost:8080/"
        }
      },
      "execution_count": null,
      "outputs": [
        {
          "output_type": "execute_result",
          "data": {
            "text/plain": [
              "array([[ 39344],\n",
              "       [ 46206],\n",
              "       [ 37732],\n",
              "       [ 43526],\n",
              "       [ 39892],\n",
              "       [ 56643],\n",
              "       [ 60151],\n",
              "       [ 54446],\n",
              "       [ 64446],\n",
              "       [ 57190],\n",
              "       [ 63219],\n",
              "       [ 55795],\n",
              "       [ 56958],\n",
              "       [ 57082],\n",
              "       [ 61112],\n",
              "       [ 67939],\n",
              "       [ 66030],\n",
              "       [ 83089],\n",
              "       [ 81364],\n",
              "       [ 93941],\n",
              "       [ 91739],\n",
              "       [ 98274],\n",
              "       [101303],\n",
              "       [113813],\n",
              "       [109432],\n",
              "       [105583],\n",
              "       [116970],\n",
              "       [112636],\n",
              "       [122392],\n",
              "       [121873]])"
            ]
          },
          "metadata": {},
          "execution_count": 43
        }
      ]
    },
    {
      "cell_type": "markdown",
      "source": [
        "x must be array of shape(n_samples,n_features)\n",
        "\n",
        "30 samples\n",
        "1 feature\n",
        "\n",
        "the shape we have now is: (30,)\n",
        "\n",
        "it needs to be (30,1)\n",
        "\n",
        "# the model\n",
        "\n",
        "but now we are doing machine learning programming in Python\n",
        "\n",
        "1. instaniate a model `reg = linear_model.LinearRegression(fit_intercept=True)`\n",
        "\n",
        "2. train a model-means find the solution, find the coefficients and the bias, `reg.fit(x,y)`\n",
        "\n",
        "3. make predictions `preds = reg.predict(x)`\n",
        "\n"
      ],
      "metadata": {
        "id": "1XOyVKhn9C8Z"
      }
    },
    {
      "cell_type": "code",
      "execution_count": 11,
      "metadata": {
        "colab": {
          "base_uri": "https://localhost:8080/"
        },
        "id": "Ed2pjHUe6DBN",
        "outputId": "b7ab84a2-4bff-4ea3-c940-15b2507fc00d"
      },
      "outputs": [
        {
          "output_type": "stream",
          "name": "stdout",
          "text": [
            "coefficient  [9449.962]\n",
            "intercept  [24848.21]\n"
          ]
        }
      ],
      "source": [
        "\n",
        "\n",
        "\n",
        "reg = linear_model.LinearRegression(fit_intercept=True)\n",
        "\n",
        "reg.fit(x,y)\n",
        "\n",
        "print(\"coefficient \", reg.coef_[0])\n",
        "print(\"intercept \", reg.intercept_)\n",
        "\n"
      ]
    },
    {
      "cell_type": "markdown",
      "source": [
        "Remember in google sheets once we had m = reg.coef_[0] and b = reg.intercept_\n",
        "\n",
        "then in google sheets we wrote = ŷ = mx + b\n",
        "\n"
      ],
      "metadata": {
        "id": "WmP3iN6f-bGS"
      }
    },
    {
      "cell_type": "code",
      "source": [
        "preds = reg.predict(x)\n",
        "\n",
        "np.column_stack([x,y,preds])"
      ],
      "metadata": {
        "id": "LQzs6wFfXP3T",
        "outputId": "23ce2286-6e84-4b98-ce28-bd12f4365f59",
        "colab": {
          "base_uri": "https://localhost:8080/"
        }
      },
      "execution_count": 13,
      "outputs": [
        {
          "output_type": "execute_result",
          "data": {
            "text/plain": [
              "array([[     1.20000005,  39344.        ,  36188.1640625 ],\n",
              "       [     1.39999998,  46206.        ,  38078.15625   ],\n",
              "       [     1.60000002,  37732.        ,  39968.1484375 ],\n",
              "       [     2.0999999 ,  43526.        ,  44693.1328125 ],\n",
              "       [     2.29999995,  39892.        ,  46583.125     ],\n",
              "       [     3.        ,  56643.        ,  53198.09765625],\n",
              "       [     3.0999999 ,  60151.        ,  54143.09375   ],\n",
              "       [     3.29999995,  54446.        ,  56033.0859375 ],\n",
              "       [     3.29999995,  64446.        ,  56033.0859375 ],\n",
              "       [     3.79999995,  57190.        ,  60758.06640625],\n",
              "       [     4.        ,  63219.        ,  62648.05859375],\n",
              "       [     4.0999999 ,  55795.        ,  63593.0546875 ],\n",
              "       [     4.0999999 ,  56958.        ,  63593.0546875 ],\n",
              "       [     4.19999981,  57082.        ,  64538.05078125],\n",
              "       [     4.5999999 ,  61112.        ,  68318.03125   ],\n",
              "       [     5.        ,  67939.        ,  72098.015625  ],\n",
              "       [     5.19999981,  66030.        ,  73988.015625  ],\n",
              "       [     5.4000001 ,  83089.        ,  75878.0078125 ],\n",
              "       [     6.        ,  81364.        ,  81547.984375  ],\n",
              "       [     6.0999999 ,  93941.        ,  82492.9765625 ],\n",
              "       [     6.9000001 ,  91739.        ,  90052.953125  ],\n",
              "       [     7.19999981,  98274.        ,  92887.9375    ],\n",
              "       [     8.        , 101303.        , 100447.90625   ],\n",
              "       [     8.30000019, 113813.        , 103282.8984375 ],\n",
              "       [     8.80000019, 109432.        , 108007.875     ],\n",
              "       [     9.10000038, 105583.        , 110842.8671875 ],\n",
              "       [     9.60000038, 116970.        , 115567.8515625 ],\n",
              "       [     9.69999981, 112636.        , 116512.8359375 ],\n",
              "       [    10.39999962, 122392.        , 123127.8125    ],\n",
              "       [    10.60000038, 121873.        , 125017.8125    ]])"
            ]
          },
          "metadata": {},
          "execution_count": 13
        }
      ]
    },
    {
      "cell_type": "markdown",
      "source": [
        "## R-squared score (R²)\n",
        "also called the **coefficient of determination**, explains the variance in the dependent (target) variable. It provides insight into the goodness-of-fit of the model.\n",
        "\n",
        "*\tR² = 1 : The model perfectly predicts the target variable, meaning all data points lie exactly on the regression line. Or, equivalently, the MSE is zero.\n",
        "\n",
        "*\tR² = 0: The model explains none of the variance in the target variable; it performs no better than simply predicting the mean of the target variable.\n",
        "\n",
        "*\tR² < 0: The model performs worse than predicting the mean, indicating a poor fit.\n",
        "\n",
        "## Mean Square Error**\n",
        "\n",
        "$\\text{MSE} = \\frac{1}{n} \\sum_{i=1}^{n} (y_i - \\hat{y}_i)^2$\n",
        "\n",
        "* $\\hat{y}_i$ : prediction\n",
        "* $y_i$ : observation\n",
        "\n"
      ],
      "metadata": {
        "id": "t6aOFg_BYi39"
      }
    },
    {
      "cell_type": "code",
      "source": [
        "\n",
        "mse = mean_squared_error(y, preds)\n",
        "\n",
        "r2 = r2_score(y, preds)\n",
        "\n",
        "# Print metrics\n",
        "print(f\"Mean Squared Error (MSE): {mse:.4f}\")\n",
        "\n",
        "print(f\"R-squared (R²): {r2:.4f}\")\n",
        "\n",
        "# R2 is close to 1 to the model almost perfectly predicts the solution\n"
      ],
      "metadata": {
        "id": "b2YEdAf9XKTH",
        "outputId": "b7f02a38-5e53-4111-b217-b823e1b2c1d4",
        "colab": {
          "base_uri": "https://localhost:8080/"
        }
      },
      "execution_count": 14,
      "outputs": [
        {
          "output_type": "stream",
          "name": "stdout",
          "text": [
            "Mean Squared Error (MSE): 31270950.0000\n",
            "R-squared (R²): 0.9570\n"
          ]
        }
      ]
    },
    {
      "cell_type": "code",
      "source": [
        "\n",
        "\n",
        "\n",
        "import matplotlib.pyplot as plt\n",
        "\n",
        "\n",
        "fig, ax = plt.subplots()\n",
        "\n",
        "#ax.plot(x,y, marker=\"o\")\n",
        "\n",
        "ax.scatter(x,y, marker=\"o\")\n",
        "\n",
        "ax.plot(x,preds, marker=\"o\", color=\"red\")\n",
        "\n",
        "\n",
        "\n",
        "#ax.plot(x,z, marker=\"o\")\n",
        "\n",
        "plt.show()\n"
      ],
      "metadata": {
        "colab": {
          "base_uri": "https://localhost:8080/",
          "height": 430
        },
        "id": "4C2e2AFJATfu",
        "outputId": "6943b2d8-38bf-4967-9735-d7406ceeb70a"
      },
      "execution_count": 18,
      "outputs": [
        {
          "output_type": "display_data",
          "data": {
            "text/plain": [
              "<Figure size 640x480 with 1 Axes>"
            ],
            "image/png": "[encoded data removed]"
          },
          "metadata": {}
        }
      ]
    },
    {
      "cell_type": "markdown",
      "source": [
        "# Homework\n",
        "\n",
        "\n",
        "do what I did above:\n",
        "\n",
        "1.  just use sthe data that had in google sheets\n",
        "2.  use multiple regression\n",
        "\n",
        "\n",
        "\n",
        "#.  GO get some data\n",
        "\n",
        "house prices =\n",
        "\n",
        "1. income\n",
        "2. postal codes\n",
        "3. the number of rooms\n",
        "4. the total number of square meters\n",
        "\n",
        "\n",
        "\n",
        "\n"
      ],
      "metadata": {
        "id": "Ocbo37puBJLe"
      }
    },
    {
      "cell_type": "code",
      "source": [
        "# Diana's example\n",
        "\n",
        "import pandas as pd\n",
        "\n",
        "url = \"https://raw.githubusercontent.com/Diana241099/Python/main/USA_Housing.csv\"\n",
        "df = pd.read_csv(url)\n",
        "df.head()\n",
        "\n"
      ],
      "metadata": {
        "colab": {
          "base_uri": "https://localhost:8080/",
          "height": 276
        },
        "id": "n91Iz_kxBIJI",
        "outputId": "b939fd08-eee9-45ad-e896-f925a585249f"
      },
      "execution_count": 19,
      "outputs": [
        {
          "output_type": "execute_result",
          "data": {
            "text/plain": [
              "   Avg. Area Income  Avg. Area House Age  Avg. Area Number of Rooms  \\\n",
              "0      79545.458574             5.682861                   7.009188   \n",
              "1      79248.642455             6.002900                   6.730821   \n",
              "2      61287.067179             5.865890                   8.512727   \n",
              "3      63345.240046             7.188236                   5.586729   \n",
              "4      59982.197226             5.040555                   7.839388   \n",
              "\n",
              "   Avg. Area Number of Bedrooms  Area Population         Price  \\\n",
              "0                          4.09     23086.800503  1.059034e+06   \n",
              "1                          3.09     40173.072174  1.505891e+06   \n",
              "2                          5.13     36882.159400  1.058988e+06   \n",
              "3                          3.26     34310.242831  1.260617e+06   \n",
              "4                          4.23     26354.109472  6.309435e+05   \n",
              "\n",
              "                                             Address  \n",
              "0  208 Michael Ferry Apt. 674\\nLaurabury, NE 3701...  \n",
              "1  188 Johnson Views Suite 079\\nLake Kathleen, CA...  \n",
              "2  9127 Elizabeth Stravenue\\nDanieltown, WI 06482...  \n",
              "3                          USS Barnett\\nFPO AP 44820  \n",
              "4                         USNS Raymond\\nFPO AE 09386  "
            ],
            "text/html": [
              "\n",
              "  <div id=\"df-d74a9538-c6f0-4b09-bcbd-18c176e54642\" class=\"colab-df-container\">\n",
              "    <div>\n",
              "<style scoped>\n",
              "    .dataframe tbody tr th:only-of-type {\n",
              "        vertical-align: middle;\n",
              "    }\n",
              "\n",
              "    .dataframe tbody tr th {\n",
              "        vertical-align: top;\n",
              "    }\n",
              "\n",
              "    .dataframe thead th {\n",
              "        text-align: right;\n",
              "    }\n",
              "</style>\n",
              "<table border=\"1\" class=\"dataframe\">\n",
              "  <thead>\n",
              "    <tr style=\"text-align: right;\">\n",
              "      <th></th>\n",
              "      <th>Avg. Area Income</th>\n",
              "      <th>Avg. Area House Age</th>\n",
              "      <th>Avg. Area Number of Rooms</th>\n",
              "      <th>Avg. Area Number of Bedrooms</th>\n",
              "      <th>Area Population</th>\n",
              "      <th>Price</th>\n",
              "      <th>Address</th>\n",
              "    </tr>\n",
              "  </thead>\n",
              "  <tbody>\n",
              "    <tr>\n",
              "      <th>0</th>\n",
              "      <td>79545.458574</td>\n",
              "      <td>5.682861</td>\n",
              "      <td>7.009188</td>\n",
              "      <td>4.09</td>\n",
              "      <td>23086.800503</td>\n",
              "      <td>1.059034e+06</td>\n",
              "      <td>208 Michael Ferry Apt. 674\\nLaurabury, NE 3701...</td>\n",
              "    </tr>\n",
              "    <tr>\n",
              "      <th>1</th>\n",
              "      <td>79248.642455</td>\n",
              "      <td>6.002900</td>\n",
              "      <td>6.730821</td>\n",
              "      <td>3.09</td>\n",
              "      <td>40173.072174</td>\n",
              "      <td>1.505891e+06</td>\n",
              "      <td>188 Johnson Views Suite 079\\nLake Kathleen, CA...</td>\n",
              "    </tr>\n",
              "    <tr>\n",
              "      <th>2</th>\n",
              "      <td>61287.067179</td>\n",
              "      <td>5.865890</td>\n",
              "      <td>8.512727</td>\n",
              "      <td>5.13</td>\n",
              "      <td>36882.159400</td>\n",
              "      <td>1.058988e+06</td>\n",
              "      <td>9127 Elizabeth Stravenue\\nDanieltown, WI 06482...</td>\n",
              "    </tr>\n",
              "    <tr>\n",
              "      <th>3</th>\n",
              "      <td>63345.240046</td>\n",
              "      <td>7.188236</td>\n",
              "      <td>5.586729</td>\n",
              "      <td>3.26</td>\n",
              "      <td>34310.242831</td>\n",
              "      <td>1.260617e+06</td>\n",
              "      <td>USS Barnett\\nFPO AP 44820</td>\n",
              "    </tr>\n",
              "    <tr>\n",
              "      <th>4</th>\n",
              "      <td>59982.197226</td>\n",
              "      <td>5.040555</td>\n",
              "      <td>7.839388</td>\n",
              "      <td>4.23</td>\n",
              "      <td>26354.109472</td>\n",
              "      <td>6.309435e+05</td>\n",
              "      <td>USNS Raymond\\nFPO AE 09386</td>\n",
              "    </tr>\n",
              "  </tbody>\n",
              "</table>\n",
              "</div>\n",
              "    <div class=\"colab-df-buttons\">\n",
              "\n",
              "  <div class=\"colab-df-container\">\n",
              "    <button class=\"colab-df-convert\" onclick=\"convertToInteractive('df-d74a9538-c6f0-4b09-bcbd-18c176e54642')\"\n",
              "            title=\"Convert this dataframe to an interactive table.\"\n",
              "            style=\"display:none;\">\n",
              "\n",
              "  <svg xmlns=\"http://www.w3.org/2000/svg\" height=\"24px\" viewBox=\"0 -960 960 960\">\n",
              "    <path d=\"M120-120v-720h720v720H120Zm60-500h600v-160H180v160Zm220 220h160v-160H400v160Zm0 220h160v-160H400v160ZM180-400h160v-160H180v160Zm440 0h160v-160H620v160ZM180-180h160v-160H180v160Zm440 0h160v-160H620v160Z\"/>\n",
              "  </svg>\n",
              "    </button>\n",
              "\n",
              "  <style>\n",
              "    .colab-df-container {\n",
              "      display:flex;\n",
              "      gap: 12px;\n",
              "    }\n",
              "\n",
              "    .colab-df-convert {\n",
              "      background-color: #E8F0FE;\n",
              "      border: none;\n",
              "      border-radius: 50%;\n",
              "      cursor: pointer;\n",
              "      display: none;\n",
              "      fill: #1967D2;\n",
              "      height: 32px;\n",
              "      padding: 0 0 0 0;\n",
              "      width: 32px;\n",
              "    }\n",
              "\n",
              "    .colab-df-convert:hover {\n",
              "      background-color: #E2EBFA;\n",
              "      box-shadow: 0px 1px 2px rgba(60, 64, 67, 0.3), 0px 1px 3px 1px rgba(60, 64, 67, 0.15);\n",
              "      fill: #174EA6;\n",
              "    }\n",
              "\n",
              "    .colab-df-buttons div {\n",
              "      margin-bottom: 4px;\n",
              "    }\n",
              "\n",
              "    [theme=dark] .colab-df-convert {\n",
              "      background-color: #3B4455;\n",
              "      fill: #D2E3FC;\n",
              "    }\n",
              "\n",
              "    [theme=dark] .colab-df-convert:hover {\n",
              "      background-color: #434B5C;\n",
              "      box-shadow: 0px 1px 3px 1px rgba(0, 0, 0, 0.15);\n",
              "      filter: drop-shadow(0px 1px 2px rgba(0, 0, 0, 0.3));\n",
              "      fill: #FFFFFF;\n",
              "    }\n",
              "  </style>\n",
              "\n",
              "    <script>\n",
              "      const buttonEl =\n",
              "        document.querySelector('#df-d74a9538-c6f0-4b09-bcbd-18c176e54642 button.colab-df-convert');\n",
              "      buttonEl.style.display =\n",
              "        google.colab.kernel.accessAllowed ? 'block' : 'none';\n",
              "\n",
              "      async function convertToInteractive(key) {\n",
              "        const element = document.querySelector('#df-d74a9538-c6f0-4b09-bcbd-18c176e54642');\n",
              "        const dataTable =\n",
              "          await google.colab.kernel.invokeFunction('convertToInteractive',\n",
              "                                                    [key], {});\n",
              "        if (!dataTable) return;\n",
              "\n",
              "        const docLinkHtml = 'Like what you see? Visit the ' +\n",
              "          '<a target=\"_blank\" href=https://colab.research.google.com/notebooks/data_table.ipynb>data table notebook</a>'\n",
              "          + ' to learn more about interactive tables.';\n",
              "        element.innerHTML = '';\n",
              "        dataTable['output_type'] = 'display_data';\n",
              "        await google.colab.output.renderOutput(dataTable, element);\n",
              "        const docLink = document.createElement('div');\n",
              "        docLink.innerHTML = docLinkHtml;\n",
              "        element.appendChild(docLink);\n",
              "      }\n",
              "    </script>\n",
              "  </div>\n",
              "\n",
              "\n",
              "<div id=\"df-e1e7b3ec-cff2-4136-8ca5-cc77d929c12e\">\n",
              "  <button class=\"colab-df-quickchart\" onclick=\"quickchart('df-e1e7b3ec-cff2-4136-8ca5-cc77d929c12e')\"\n",
              "            title=\"Suggest charts\"\n",
              "            style=\"display:none;\">\n",
              "\n",
              "<svg xmlns=\"http://www.w3.org/2000/svg\" height=\"24px\"viewBox=\"0 0 24 24\"\n",
              "     width=\"24px\">\n",
              "    <g>\n",
              "        <path d=\"M19 3H5c-1.1 0-2 .9-2 2v14c0 1.1.9 2 2 2h14c1.1 0 2-.9 2-2V5c0-1.1-.9-2-2-2zM9 17H7v-7h2v7zm4 0h-2V7h2v10zm4 0h-2v-4h2v4z\"/>\n",
              "    </g>\n",
              "</svg>\n",
              "  </button>\n",
              "\n",
              "<style>\n",
              "  .colab-df-quickchart {\n",
              "      --bg-color: #E8F0FE;\n",
              "      --fill-color: #1967D2;\n",
              "      --hover-bg-color: #E2EBFA;\n",
              "      --hover-fill-color: #174EA6;\n",
              "      --disabled-fill-color: #AAA;\n",
              "      --disabled-bg-color: #DDD;\n",
              "  }\n",
              "\n",
              "  [theme=dark] .colab-df-quickchart {\n",
              "      --bg-color: #3B4455;\n",
              "      --fill-color: #D2E3FC;\n",
              "      --hover-bg-color: #434B5C;\n",
              "      --hover-fill-color: #FFFFFF;\n",
              "      --disabled-bg-color: #3B4455;\n",
              "      --disabled-fill-color: #666;\n",
              "  }\n",
              "\n",
              "  .colab-df-quickchart {\n",
              "    background-color: var(--bg-color);\n",
              "    border: none;\n",
              "    border-radius: 50%;\n",
              "    cursor: pointer;\n",
              "    display: none;\n",
              "    fill: var(--fill-color);\n",
              "    height: 32px;\n",
              "    padding: 0;\n",
              "    width: 32px;\n",
              "  }\n",
              "\n",
              "  .colab-df-quickchart:hover {\n",
              "    background-color: var(--hover-bg-color);\n",
              "    box-shadow: 0 1px 2px rgba(60, 64, 67, 0.3), 0 1px 3px 1px rgba(60, 64, 67, 0.15);\n",
              "    fill: var(--button-hover-fill-color);\n",
              "  }\n",
              "\n",
              "  .colab-df-quickchart-complete:disabled,\n",
              "  .colab-df-quickchart-complete:disabled:hover {\n",
              "    background-color: var(--disabled-bg-color);\n",
              "    fill: var(--disabled-fill-color);\n",
              "    box-shadow: none;\n",
              "  }\n",
              "\n",
              "  .colab-df-spinner {\n",
              "    border: 2px solid var(--fill-color);\n",
              "    border-color: transparent;\n",
              "    border-bottom-color: var(--fill-color);\n",
              "    animation:\n",
              "      spin 1s steps(1) infinite;\n",
              "  }\n",
              "\n",
              "  @keyframes spin {\n",
              "    0% {\n",
              "      border-color: transparent;\n",
              "      border-bottom-color: var(--fill-color);\n",
              "      border-left-color: var(--fill-color);\n",
              "    }\n",
              "    20% {\n",
              "      border-color: transparent;\n",
              "      border-left-color: var(--fill-color);\n",
              "      border-top-color: var(--fill-color);\n",
              "    }\n",
              "    30% {\n",
              "      border-color: transparent;\n",
              "      border-left-color: var(--fill-color);\n",
              "      border-top-color: var(--fill-color);\n",
              "      border-right-color: var(--fill-color);\n",
              "    }\n",
              "    40% {\n",
              "      border-color: transparent;\n",
              "      border-right-color: var(--fill-color);\n",
              "      border-top-color: var(--fill-color);\n",
              "    }\n",
              "    60% {\n",
              "      border-color: transparent;\n",
              "      border-right-color: var(--fill-color);\n",
              "    }\n",
              "    80% {\n",
              "      border-color: transparent;\n",
              "      border-right-color: var(--fill-color);\n",
              "      border-bottom-color: var(--fill-color);\n",
              "    }\n",
              "    90% {\n",
              "      border-color: transparent;\n",
              "      border-bottom-color: var(--fill-color);\n",
              "    }\n",
              "  }\n",
              "</style>\n",
              "\n",
              "  <script>\n",
              "    async function quickchart(key) {\n",
              "      const quickchartButtonEl =\n",
              "        document.querySelector('#' + key + ' button');\n",
              "      quickchartButtonEl.disabled = true;  // To prevent multiple clicks.\n",
              "      quickchartButtonEl.classList.add('colab-df-spinner');\n",
              "      try {\n",
              "        const charts = await google.colab.kernel.invokeFunction(\n",
              "            'suggestCharts', [key], {});\n",
              "      } catch (error) {\n",
              "        console.error('Error during call to suggestCharts:', error);\n",
              "      }\n",
              "      quickchartButtonEl.classList.remove('colab-df-spinner');\n",
              "      quickchartButtonEl.classList.add('colab-df-quickchart-complete');\n",
              "    }\n",
              "    (() => {\n",
              "      let quickchartButtonEl =\n",
              "        document.querySelector('#df-e1e7b3ec-cff2-4136-8ca5-cc77d929c12e button');\n",
              "      quickchartButtonEl.style.display =\n",
              "        google.colab.kernel.accessAllowed ? 'block' : 'none';\n",
              "    })();\n",
              "  </script>\n",
              "</div>\n",
              "\n",
              "    </div>\n",
              "  </div>\n"
            ],
            "application/vnd.google.colaboratory.intrinsic+json": {
              "type": "dataframe",
              "variable_name": "df",
              "summary": "{\n  \"name\": \"df\",\n  \"rows\": 5000,\n  \"fields\": [\n    {\n      \"column\": \"Avg. Area Income\",\n      \"properties\": {\n        \"dtype\": \"number\",\n        \"std\": 10657.991213830363,\n        \"min\": 17796.631189543397,\n        \"max\": 107701.74837763936,\n        \"num_unique_values\": 5000,\n        \"samples\": [\n          61907.59334528668,\n          57160.20224330715,\n          70190.79644494488\n        ],\n        \"semantic_type\": \"\",\n        \"description\": \"\"\n      }\n    },\n    {\n      \"column\": \"Avg. Area House Age\",\n      \"properties\": {\n        \"dtype\": \"number\",\n        \"std\": 0.9914561798281712,\n        \"min\": 2.644304186036705,\n        \"max\": 9.51908806613594,\n        \"num_unique_values\": 5000,\n        \"samples\": [\n          7.017837824742983,\n          6.893260095195835,\n          6.745053761849909\n        ],\n        \"semantic_type\": \"\",\n        \"description\": \"\"\n      }\n    },\n    {\n      \"column\": \"Avg. Area Number of Rooms\",\n      \"properties\": {\n        \"dtype\": \"number\",\n        \"std\": 1.0058332312773872,\n        \"min\": 3.2361940234262048,\n        \"max\": 10.759588335938624,\n        \"num_unique_values\": 5000,\n        \"samples\": [\n          6.440255754985625,\n          6.921532164642504,\n          6.6625667327280365\n        ],\n        \"semantic_type\": \"\",\n        \"description\": \"\"\n      }\n    },\n    {\n      \"column\": \"Avg. Area Number of Bedrooms\",\n      \"properties\": {\n        \"dtype\": \"number\",\n        \"std\": 1.2341372654846827,\n        \"min\": 2.0,\n        \"max\": 6.5,\n        \"num_unique_values\": 255,\n        \"samples\": [\n          3.5,\n          3.41,\n          3.33\n        ],\n        \"semantic_type\": \"\",\n        \"description\": \"\"\n      }\n    },\n    {\n      \"column\": \"Area Population\",\n      \"properties\": {\n        \"dtype\": \"number\",\n        \"std\": 9925.650113501244,\n        \"min\": 172.61068627290044,\n        \"max\": 69621.7133777904,\n        \"num_unique_values\": 5000,\n        \"samples\": [\n          43828.947207425765,\n          43467.14703549413,\n          29215.13611183857\n        ],\n        \"semantic_type\": \"\",\n        \"description\": \"\"\n      }\n    },\n    {\n      \"column\": \"Price\",\n      \"properties\": {\n        \"dtype\": \"number\",\n        \"std\": 353117.6265810608,\n        \"min\": 15938.657923287848,\n        \"max\": 2469065.5941747027,\n        \"num_unique_values\": 5000,\n        \"samples\": [\n          1339096.0772451318,\n          1251794.178836864,\n          1340094.9662054193\n        ],\n        \"semantic_type\": \"\",\n        \"description\": \"\"\n      }\n    },\n    {\n      \"column\": \"Address\",\n      \"properties\": {\n        \"dtype\": \"string\",\n        \"num_unique_values\": 5000,\n        \"samples\": [\n          \"7521 Gregory Meadows\\nEast Johntown, CO 93230-5255\",\n          \"15828 Marshall Stravenue Suite 199\\nEast Matthewmouth, TN 71861-6319\",\n          \"USNS Brandt\\nFPO AE 72594\"\n        ],\n        \"semantic_type\": \"\",\n        \"description\": \"\"\n      }\n    }\n  ]\n}"
            }
          },
          "metadata": {},
          "execution_count": 19
        }
      ]
    },
    {
      "cell_type": "code",
      "source": [
        "df.columns"
      ],
      "metadata": {
        "colab": {
          "base_uri": "https://localhost:8080/"
        },
        "id": "kYUJsT2SBa9h",
        "outputId": "9e058657-4b0e-41c1-fcfe-798620a1017a"
      },
      "execution_count": 20,
      "outputs": [
        {
          "output_type": "execute_result",
          "data": {
            "text/plain": [
              "Index(['Avg. Area Income', 'Avg. Area House Age', 'Avg. Area Number of Rooms',\n",
              "       'Avg. Area Number of Bedrooms', 'Area Population', 'Price', 'Address'],\n",
              "      dtype='object')"
            ]
          },
          "metadata": {},
          "execution_count": 20
        }
      ]
    },
    {
      "cell_type": "code",
      "source": [
        "df.info()"
      ],
      "metadata": {
        "colab": {
          "base_uri": "https://localhost:8080/"
        },
        "id": "8TzkdwziCIJY",
        "outputId": "7f9b09fd-40e8-4d24-e6f1-41f62c856eea"
      },
      "execution_count": 22,
      "outputs": [
        {
          "output_type": "stream",
          "name": "stdout",
          "text": [
            "<class 'pandas.core.frame.DataFrame'>\n",
            "RangeIndex: 5000 entries, 0 to 4999\n",
            "Data columns (total 7 columns):\n",
            " #   Column                        Non-Null Count  Dtype  \n",
            "---  ------                        --------------  -----  \n",
            " 0   Avg. Area Income              5000 non-null   float64\n",
            " 1   Avg. Area House Age           5000 non-null   float64\n",
            " 2   Avg. Area Number of Rooms     5000 non-null   float64\n",
            " 3   Avg. Area Number of Bedrooms  5000 non-null   float64\n",
            " 4   Area Population               5000 non-null   float64\n",
            " 5   Price                         5000 non-null   float64\n",
            " 6   Address                       5000 non-null   object \n",
            "dtypes: float64(6), object(1)\n",
            "memory usage: 273.6+ KB\n"
          ]
        }
      ]
    },
    {
      "cell_type": "markdown",
      "source": [
        "\n",
        "# The difficult part\n",
        "\n",
        "will to create the array X with shape (number of samples, number of features)\n",
        "\n",
        "\n",
        "1.  take your input data which is going to be in Pandas.  Convert the features to Pandas series then use .values to convert each to an array.  Then combine each array x1, x2, .... into X.  Then use reshape() so that it will work with:\n",
        "\n",
        "2.  is equal to you dependent variable\n",
        "\n",
        "\n",
        "3.  the regression model will solve for this:\n",
        "\n",
        "y = MX + b here M and X are arrays with more than one dimension\n",
        "\n",
        "From the price of eggs example we had this model:\n",
        "\n",
        "a * x1 + b * x2 + ... + e * x5 + b = f(X) = predictive model for the price of eggs\n",
        "\n",
        "in which case M = [a,b,c,d,e] and X=[x1,x2,x3,x4,x5] and y is the price of eggs\n",
        "\n",
        "\n",
        "```\n",
        "\n",
        "reg = linear_model.LinearRegression(fit_intercept=True)\n",
        "\n",
        "reg.fit(X,y)\n",
        "\n",
        "```\n",
        "\n",
        "# Where to get data\n",
        "\n",
        "# Suitable Datasets on Kaggle for Teaching Multiple Linear Regression\n",
        "\n",
        "Here are some suitable datasets available on Kaggle for teaching multiple linear regression, along with brief descriptions of their features:\n",
        "\n",
        "## Recommended Datasets\n",
        "\n",
        "1. **50 Startups Dataset**  \n",
        "   - Predict startup profits based on variables like R&D spending, administration costs, marketing spending, and state location.  \n",
        "   [Link to dataset](https://www.kaggle.com/datasets)\n",
        "\n",
        "2. **Marketing Linear Regression Dataset**  \n",
        "   - Focuses on marketing-related data to predict outcomes using multiple independent variables.  \n",
        "   [Link to dataset](https://www.kaggle.com/datasets)\n",
        "\n",
        "3. **Price Prediction Dataset**  \n",
        "   - Data related to car prices with variables such as model, year, selling price, showroom price, kilometers driven, fuel type, seller type, transmission type, and previous owners.  \n",
        "   [Link to dataset](https://www.kaggle.com/datasets)\n",
        "\n",
        "4. **Student Performance Dataset**  \n",
        "   - Contains 10,000 student records with predictors like study hours and other variables impacting performance index.  \n",
        "   [Link to dataset](https://www.kaggle.com/datasets)\n",
        "\n",
        "5. **Housing Case Study Dataset**  \n",
        "   - Predict house prices using features such as square footage, number of bedrooms/bathrooms, and location.  \n",
        "   [Link to dataset](https://www.kaggle.com/datasets)\n",
        "\n",
        "6. **Fish Market Dataset**  \n",
        "   - Analyze fish species characteristics (weight, length, height, width) for regression tasks related to market pricing.  \n",
        "   [Link to dataset](https://www.kaggle.com/datasets)\n",
        "\n",
        "7. **Red Wine Quality Dataset**  \n",
        "   - Explore the relationship between chemical properties of wine (acidity, sugar content, alcohol level) and its quality rating.  \n",
        "   [Link to dataset](https://www.kaggle.com/datasets)\n",
        "\n",
        "8. **Medical Insurance Costs Dataset**  \n",
        "   - Predict insurance charges based on age, gender, BMI, smoker status, region, and other factors.  \n",
        "   [Link to dataset](https://www.kaggle.com/datasets)\n",
        "\n",
        "9.\n",
        "\n",
        "\n",
        "\n"
      ],
      "metadata": {
        "id": "csjmEklvCM9n"
      }
    },
    {
      "cell_type": "code",
      "source": [
        "x1=df['Avg. Area Income'].values\n",
        "\n"
      ],
      "metadata": {
        "id": "IecOh1K1CWKd"
      },
      "execution_count": 36,
      "outputs": []
    },
    {
      "cell_type": "code",
      "source": [
        "x2=df['Avg. Area Number of Bedrooms'].values"
      ],
      "metadata": {
        "id": "ChCu8iROCqhn"
      },
      "execution_count": 27,
      "outputs": []
    },
    {
      "cell_type": "code",
      "source": [
        "y=df['Price'].values"
      ],
      "metadata": {
        "id": "Xa6Lgk0yC2mI"
      },
      "execution_count": 29,
      "outputs": []
    },
    {
      "cell_type": "code",
      "source": [
        "X=np.array([x1,x2])\n",
        "X.shape"
      ],
      "metadata": {
        "colab": {
          "base_uri": "https://localhost:8080/"
        },
        "id": "2UdoHcODDG2C",
        "outputId": "3321fbde-345d-42e3-9f08-3cee7a582446"
      },
      "execution_count": 33,
      "outputs": [
        {
          "output_type": "execute_result",
          "data": {
            "text/plain": [
              "(2, 5000)"
            ]
          },
          "metadata": {},
          "execution_count": 33
        }
      ]
    }
  ]
}