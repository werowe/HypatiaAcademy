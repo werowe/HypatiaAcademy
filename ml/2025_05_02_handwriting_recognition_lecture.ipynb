{
  "nbformat": 4,
  "nbformat_minor": 0,
  "metadata": {
    "colab": {
      "provenance": [],
      "gpuType": "T4",
      "authorship_tag": "ABX9TyOKj5de6ssHWTKJzgnCKYQZ",
      "include_colab_link": true
    },
    "kernelspec": {
      "name": "python3",
      "display_name": "Python 3"
    },
    "language_info": {
      "name": "python"
    },
    "accelerator": "GPU"
  },
  "cells": [
    {
      "cell_type": "markdown",
      "metadata": {
        "id": "view-in-github",
        "colab_type": "text"
      },
      "source": [
        "<a href=\"https://colab.research.google.com/github/werowe/HypatiaAcademy/blob/master/ml/2025_05_02_handwriting_recognition_lecture.ipynb\" target=\"_parent\"><img src=\"https://colab.research.google.com/assets/colab-badge.svg\" alt=\"Open In Colab\"/></a>"
      ]
    },
    {
      "cell_type": "code",
      "execution_count": null,
      "metadata": {
        "colab": {
          "base_uri": "https://localhost:8080/"
        },
        "id": "BGPbYFs4fMYA",
        "outputId": "555ea569-6997-4ded-bcb0-ab853a40158d"
      },
      "outputs": [
        {
          "output_type": "stream",
          "name": "stdout",
          "text": [
            "Downloading data from https://storage.googleapis.com/tensorflow/tf-keras-datasets/mnist.npz\n",
            "\u001b[1m11490434/11490434\u001b[0m \u001b[32m━━━━━━━━━━━━━━━━━━━━\u001b[0m\u001b[37m\u001b[0m \u001b[1m0s\u001b[0m 0us/step\n"
          ]
        }
      ],
      "source": [
        "from tensorflow import keras\n",
        "\n",
        "(train_images, train_labels), (test_images, test_labels) = keras.datasets.mnist.load_data()\n"
      ]
    },
    {
      "cell_type": "code",
      "source": [
        "train_images[0]"
      ],
      "metadata": {
        "colab": {
          "base_uri": "https://localhost:8080/",
          "height": 68
        },
        "id": "0xVd3YurjFum",
        "outputId": "8527e236-f7ef-44af-d926-643c34dcd9a7"
      },
      "execution_count": null,
      "outputs": [
        {
          "output_type": "execute_result",
          "data": {
            "text/plain": [
              "array([[  0,   0,   0,   0,   0,   0,   0,   0,   0,   0,   0,   0,   0,\n",
              "          0,   0,   0,   0,   0,   0,   0,   0,   0,   0,   0,   0,   0,\n",
              "          0,   0],\n",
              "       [  0,   0,   0,   0,   0,   0,   0,   0,   0,   0,   0,   0,   0,\n",
              "          0,   0,   0,   0,   0,   0,   0,   0,   0,   0,   0,   0,   0,\n",
              "          0,   0],\n",
              "       [  0,   0,   0,   0,   0,   0,   0,   0,   0,   0,   0,   0,   0,\n",
              "          0,   0,   0,   0,   0,   0,   0,   0,   0,   0,   0,   0,   0,\n",
              "          0,   0],\n",
              "       [  0,   0,   0,   0,   0,   0,   0,   0,   0,   0,   0,   0,   0,\n",
              "          0,   0,   0,   0,   0,   0,   0,   0,   0,   0,   0,   0,   0,\n",
              "          0,   0],\n",
              "       [  0,   0,   0,   0,   0,   0,   0,   0,   0,   0,   0,   0,   0,\n",
              "          0,   0,   0,   0,   0,   0,   0,   0,   0,   0,   0,   0,   0,\n",
              "          0,   0],\n",
              "       [  0,   0,   0,   0,   0,   0,   0,   0,   0,   0,   0,   0,   3,\n",
              "         18,  18,  18, 126, 136, 175,  26, 166, 255, 247, 127,   0,   0,\n",
              "          0,   0],\n",
              "       [  0,   0,   0,   0,   0,   0,   0,   0,  30,  36,  94, 154, 170,\n",
              "        253, 253, 253, 253, 253, 225, 172, 253, 242, 195,  64,   0,   0,\n",
              "          0,   0],\n",
              "       [  0,   0,   0,   0,   0,   0,   0,  49, 238, 253, 253, 253, 253,\n",
              "        253, 253, 253, 253, 251,  93,  82,  82,  56,  39,   0,   0,   0,\n",
              "          0,   0],\n",
              "       [  0,   0,   0,   0,   0,   0,   0,  18, 219, 253, 253, 253, 253,\n",
              "        253, 198, 182, 247, 241,   0,   0,   0,   0,   0,   0,   0,   0,\n",
              "          0,   0],\n",
              "       [  0,   0,   0,   0,   0,   0,   0,   0,  80, 156, 107, 253, 253,\n",
              "        205,  11,   0,  43, 154,   0,   0,   0,   0,   0,   0,   0,   0,\n",
              "          0,   0],\n",
              "       [  0,   0,   0,   0,   0,   0,   0,   0,   0,  14,   1, 154, 253,\n",
              "         90,   0,   0,   0,   0,   0,   0,   0,   0,   0,   0,   0,   0,\n",
              "          0,   0],\n",
              "       [  0,   0,   0,   0,   0,   0,   0,   0,   0,   0,   0, 139, 253,\n",
              "        190,   2,   0,   0,   0,   0,   0,   0,   0,   0,   0,   0,   0,\n",
              "          0,   0],\n",
              "       [  0,   0,   0,   0,   0,   0,   0,   0,   0,   0,   0,  11, 190,\n",
              "        253,  70,   0,   0,   0,   0,   0,   0,   0,   0,   0,   0,   0,\n",
              "          0,   0],\n",
              "       [  0,   0,   0,   0,   0,   0,   0,   0,   0,   0,   0,   0,  35,\n",
              "        241, 225, 160, 108,   1,   0,   0,   0,   0,   0,   0,   0,   0,\n",
              "          0,   0],\n",
              "       [  0,   0,   0,   0,   0,   0,   0,   0,   0,   0,   0,   0,   0,\n",
              "         81, 240, 253, 253, 119,  25,   0,   0,   0,   0,   0,   0,   0,\n",
              "          0,   0],\n",
              "       [  0,   0,   0,   0,   0,   0,   0,   0,   0,   0,   0,   0,   0,\n",
              "          0,  45, 186, 253, 253, 150,  27,   0,   0,   0,   0,   0,   0,\n",
              "          0,   0],\n",
              "       [  0,   0,   0,   0,   0,   0,   0,   0,   0,   0,   0,   0,   0,\n",
              "          0,   0,  16,  93, 252, 253, 187,   0,   0,   0,   0,   0,   0,\n",
              "          0,   0],\n",
              "       [  0,   0,   0,   0,   0,   0,   0,   0,   0,   0,   0,   0,   0,\n",
              "          0,   0,   0,   0, 249, 253, 249,  64,   0,   0,   0,   0,   0,\n",
              "          0,   0],\n",
              "       [  0,   0,   0,   0,   0,   0,   0,   0,   0,   0,   0,   0,   0,\n",
              "          0,  46, 130, 183, 253, 253, 207,   2,   0,   0,   0,   0,   0,\n",
              "          0,   0],\n",
              "       [  0,   0,   0,   0,   0,   0,   0,   0,   0,   0,   0,   0,  39,\n",
              "        148, 229, 253, 253, 253, 250, 182,   0,   0,   0,   0,   0,   0,\n",
              "          0,   0],\n",
              "       [  0,   0,   0,   0,   0,   0,   0,   0,   0,   0,  24, 114, 221,\n",
              "        253, 253, 253, 253, 201,  78,   0,   0,   0,   0,   0,   0,   0,\n",
              "          0,   0],\n",
              "       [  0,   0,   0,   0,   0,   0,   0,   0,  23,  66, 213, 253, 253,\n",
              "        253, 253, 198,  81,   2,   0,   0,   0,   0,   0,   0,   0,   0,\n",
              "          0,   0],\n",
              "       [  0,   0,   0,   0,   0,   0,  18, 171, 219, 253, 253, 253, 253,\n",
              "        195,  80,   9,   0,   0,   0,   0,   0,   0,   0,   0,   0,   0,\n",
              "          0,   0],\n",
              "       [  0,   0,   0,   0,  55, 172, 226, 253, 253, 253, 253, 244, 133,\n",
              "         11,   0,   0,   0,   0,   0,   0,   0,   0,   0,   0,   0,   0,\n",
              "          0,   0],\n",
              "       [  0,   0,   0,   0, 136, 253, 253, 253, 212, 135, 132,  16,   0,\n",
              "          0,   0,   0,   0,   0,   0,   0,   0,   0,   0,   0,   0,   0,\n",
              "          0,   0],\n",
              "       [  0,   0,   0,   0,   0,   0,   0,   0,   0,   0,   0,   0,   0,\n",
              "          0,   0,   0,   0,   0,   0,   0,   0,   0,   0,   0,   0,   0,\n",
              "          0,   0],\n",
              "       [  0,   0,   0,   0,   0,   0,   0,   0,   0,   0,   0,   0,   0,\n",
              "          0,   0,   0,   0,   0,   0,   0,   0,   0,   0,   0,   0,   0,\n",
              "          0,   0],\n",
              "       [  0,   0,   0,   0,   0,   0,   0,   0,   0,   0,   0,   0,   0,\n",
              "          0,   0,   0,   0,   0,   0,   0,   0,   0,   0,   0,   0,   0,\n",
              "          0,   0]], dtype=uint8)"
            ],
            "text/html": [
              "<style>\n",
              "      .ndarray_repr .ndarray_raw_data {\n",
              "        display: none;\n",
              "      }\n",
              "      .ndarray_repr.show_array .ndarray_raw_data {\n",
              "        display: block;\n",
              "      }\n",
              "      .ndarray_repr.show_array .ndarray_image_preview {\n",
              "        display: none;\n",
              "      }\n",
              "      </style>\n",
              "      <div id=\"id-546f78cd-d0ad-429d-93c1-d621cff32617\" class=\"ndarray_repr\"><pre>ndarray (28, 28) <button style=\"padding: 0 2px;\">show data</button></pre><img src=\"data:image/png;base64,iVBORw0KGgoAAAANSUhEUgAAABwAAAAcCAAAAABXZoBIAAABAElEQVR4nGNgGMyAWUhIqK5jvdSy/9/rGRgYGFhgEnJsVjYCwQwMDAxPJgV+vniQgYGBgREqZ7iXH8r6l/SV4dn7m8gmCt3++/fv37/Htn3/iMW+gDnZf/+e5WbQnoXNNXyMs/5GoQoxwVmf/n9kSGFiwAW49/11wynJoPzx4YIcRlyygR/+/i2XxCWru+vv32nSuGQFYv/83Y3b4p9/fzpAmSyoMnohpiwM1w5h06Q+5enfv39/bcMiJVF09+/fv39P+mFKiTtd/fv3799jgZiBJLT69t+/f/8eDuDEkDJf8+jv379/v7Ryo4qzMDAwMAQGMjBc3/y35wM2V1IfAABFF16Aa0wAOwAAAABJRU5ErkJggg==\" class=\"ndarray_image_preview\" /><pre class=\"ndarray_raw_data\">array([[  0,   0,   0,   0,   0,   0,   0,   0,   0,   0,   0,   0,   0,\n",
              "          0,   0,   0,   0,   0,   0,   0,   0,   0,   0,   0,   0,   0,\n",
              "          0,   0],\n",
              "       [  0,   0,   0,   0,   0,   0,   0,   0,   0,   0,   0,   0,   0,\n",
              "          0,   0,   0,   0,   0,   0,   0,   0,   0,   0,   0,   0,   0,\n",
              "          0,   0],\n",
              "       [  0,   0,   0,   0,   0,   0,   0,   0,   0,   0,   0,   0,   0,\n",
              "          0,   0,   0,   0,   0,   0,   0,   0,   0,   0,   0,   0,   0,\n",
              "          0,   0],\n",
              "       [  0,   0,   0,   0,   0,   0,   0,   0,   0,   0,   0,   0,   0,\n",
              "          0,   0,   0,   0,   0,   0,   0,   0,   0,   0,   0,   0,   0,\n",
              "          0,   0],\n",
              "       [  0,   0,   0,   0,   0,   0,   0,   0,   0,   0,   0,   0,   0,\n",
              "          0,   0,   0,   0,   0,   0,   0,   0,   0,   0,   0,   0,   0,\n",
              "          0,   0],\n",
              "       [  0,   0,   0,   0,   0,   0,   0,   0,   0,   0,   0,   0,   3,\n",
              "         18,  18,  18, 126, 136, 175,  26, 166, 255, 247, 127,   0,   0,\n",
              "          0,   0],\n",
              "       [  0,   0,   0,   0,   0,   0,   0,   0,  30,  36,  94, 154, 170,\n",
              "        253, 253, 253, 253, 253, 225, 172, 253, 242, 195,  64,   0,   0,\n",
              "          0,   0],\n",
              "       [  0,   0,   0,   0,   0,   0,   0,  49, 238, 253, 253, 253, 253,\n",
              "        253, 253, 253, 253, 251,  93,  82,  82,  56,  39,   0,   0,   0,\n",
              "          0,   0],\n",
              "       [  0,   0,   0,   0,   0,   0,   0,  18, 219, 253, 253, 253, 253,\n",
              "        253, 198, 182, 247, 241,   0,   0,   0,   0,   0,   0,   0,   0,\n",
              "          0,   0],\n",
              "       [  0,   0,   0,   0,   0,   0,   0,   0,  80, 156, 107, 253, 253,\n",
              "        205,  11,   0,  43, 154,   0,   0,   0,   0,   0,   0,   0,   0,\n",
              "          0,   0],\n",
              "       [  0,   0,   0,   0,   0,   0,   0,   0,   0,  14,   1, 154, 253,\n",
              "         90,   0,   0,   0,   0,   0,   0,   0,   0,   0,   0,   0,   0,\n",
              "          0,   0],\n",
              "       [  0,   0,   0,   0,   0,   0,   0,   0,   0,   0,   0, 139, 253,\n",
              "        190,   2,   0,   0,   0,   0,   0,   0,   0,   0,   0,   0,   0,\n",
              "          0,   0],\n",
              "       [  0,   0,   0,   0,   0,   0,   0,   0,   0,   0,   0,  11, 190,\n",
              "        253,  70,   0,   0,   0,   0,   0,   0,   0,   0,   0,   0,   0,\n",
              "          0,   0],\n",
              "       [  0,   0,   0,   0,   0,   0,   0,   0,   0,   0,   0,   0,  35,\n",
              "        241, 225, 160, 108,   1,   0,   0,   0,   0,   0,   0,   0,   0,\n",
              "          0,   0],\n",
              "       [  0,   0,   0,   0,   0,   0,   0,   0,   0,   0,   0,   0,   0,\n",
              "         81, 240, 253, 253, 119,  25,   0,   0,   0,   0,   0,   0,   0,\n",
              "          0,   0],\n",
              "       [  0,   0,   0,   0,   0,   0,   0,   0,   0,   0,   0,   0,   0,\n",
              "          0,  45, 186, 253, 253, 150,  27,   0,   0,   0,   0,   0,   0,\n",
              "          0,   0],\n",
              "       [  0,   0,   0,   0,   0,   0,   0,   0,   0,   0,   0,   0,   0,\n",
              "          0,   0,  16,  93, 252, 253, 187,   0,   0,   0,   0,   0,   0,\n",
              "          0,   0],\n",
              "       [  0,   0,   0,   0,   0,   0,   0,   0,   0,   0,   0,   0,   0,\n",
              "          0,   0,   0,   0, 249, 253, 249,  64,   0,   0,   0,   0,   0,\n",
              "          0,   0],\n",
              "       [  0,   0,   0,   0,   0,   0,   0,   0,   0,   0,   0,   0,   0,\n",
              "          0,  46, 130, 183, 253, 253, 207,   2,   0,   0,   0,   0,   0,\n",
              "          0,   0],\n",
              "       [  0,   0,   0,   0,   0,   0,   0,   0,   0,   0,   0,   0,  39,\n",
              "        148, 229, 253, 253, 253, 250, 182,   0,   0,   0,   0,   0,   0,\n",
              "          0,   0],\n",
              "       [  0,   0,   0,   0,   0,   0,   0,   0,   0,   0,  24, 114, 221,\n",
              "        253, 253, 253, 253, 201,  78,   0,   0,   0,   0,   0,   0,   0,\n",
              "          0,   0],\n",
              "       [  0,   0,   0,   0,   0,   0,   0,   0,  23,  66, 213, 253, 253,\n",
              "        253, 253, 198,  81,   2,   0,   0,   0,   0,   0,   0,   0,   0,\n",
              "          0,   0],\n",
              "       [  0,   0,   0,   0,   0,   0,  18, 171, 219, 253, 253, 253, 253,\n",
              "        195,  80,   9,   0,   0,   0,   0,   0,   0,   0,   0,   0,   0,\n",
              "          0,   0],\n",
              "       [  0,   0,   0,   0,  55, 172, 226, 253, 253, 253, 253, 244, 133,\n",
              "         11,   0,   0,   0,   0,   0,   0,   0,   0,   0,   0,   0,   0,\n",
              "          0,   0],\n",
              "       [  0,   0,   0,   0, 136, 253, 253, 253, 212, 135, 132,  16,   0,\n",
              "          0,   0,   0,   0,   0,   0,   0,   0,   0,   0,   0,   0,   0,\n",
              "          0,   0],\n",
              "       [  0,   0,   0,   0,   0,   0,   0,   0,   0,   0,   0,   0,   0,\n",
              "          0,   0,   0,   0,   0,   0,   0,   0,   0,   0,   0,   0,   0,\n",
              "          0,   0],\n",
              "       [  0,   0,   0,   0,   0,   0,   0,   0,   0,   0,   0,   0,   0,\n",
              "          0,   0,   0,   0,   0,   0,   0,   0,   0,   0,   0,   0,   0,\n",
              "          0,   0],\n",
              "       [  0,   0,   0,   0,   0,   0,   0,   0,   0,   0,   0,   0,   0,\n",
              "          0,   0,   0,   0,   0,   0,   0,   0,   0,   0,   0,   0,   0,\n",
              "          0,   0]], dtype=uint8)</pre></div><script>\n",
              "      (() => {\n",
              "      const titles = ['show data', 'hide data'];\n",
              "      let index = 0\n",
              "      document.querySelector('#id-546f78cd-d0ad-429d-93c1-d621cff32617 button').onclick = (e) => {\n",
              "        document.querySelector('#id-546f78cd-d0ad-429d-93c1-d621cff32617').classList.toggle('show_array');\n",
              "        index = (++index) % 2;\n",
              "        document.querySelector('#id-546f78cd-d0ad-429d-93c1-d621cff32617 button').textContent = titles[index];\n",
              "        e.preventDefault();\n",
              "        e.stopPropagation();\n",
              "      }\n",
              "      })();\n",
              "    </script>"
            ]
          },
          "metadata": {},
          "execution_count": 2
        }
      ]
    },
    {
      "cell_type": "markdown",
      "source": [
        "# Labels\n",
        "To say that it's labelled data means someone went into these 60,000 images and wrote down what each digit each image is.  \n",
        "\n",
        "\n"
      ],
      "metadata": {
        "id": "CZqccrAVOnsl"
      }
    },
    {
      "cell_type": "code",
      "source": [
        "train_labels[0]"
      ],
      "metadata": {
        "colab": {
          "base_uri": "https://localhost:8080/"
        },
        "id": "-8PJyPgIjJBT",
        "outputId": "dc5a057b-b93a-4131-d1df-8a7dac0a6fe3"
      },
      "execution_count": null,
      "outputs": [
        {
          "output_type": "execute_result",
          "data": {
            "text/plain": [
              "np.uint8(5)"
            ]
          },
          "metadata": {},
          "execution_count": 3
        }
      ]
    },
    {
      "cell_type": "code",
      "source": [
        "train_images.shape, test_images.shape"
      ],
      "metadata": {
        "colab": {
          "base_uri": "https://localhost:8080/"
        },
        "id": "BmU18vgZjZgU",
        "outputId": "ca460ca3-7319-4412-f4c6-6d236d6811aa"
      },
      "execution_count": null,
      "outputs": [
        {
          "output_type": "execute_result",
          "data": {
            "text/plain": [
              "((60000, 28, 28), (10000, 28, 28))"
            ]
          },
          "metadata": {},
          "execution_count": 4
        }
      ]
    },
    {
      "cell_type": "code",
      "source": [
        "# gray scale image of a 28 x 28 pixel hand-written the digit 5\n",
        "\n",
        "import matplotlib.pyplot as plt\n",
        "\n",
        "plt.imshow(train_images[0], cmap='gray')"
      ],
      "metadata": {
        "colab": {
          "base_uri": "https://localhost:8080/",
          "height": 448
        },
        "id": "ufoJKXimjNTk",
        "outputId": "510cf2ee-bad2-4fe7-82ab-2b86dec3069c"
      },
      "execution_count": null,
      "outputs": [
        {
          "output_type": "execute_result",
          "data": {
            "text/plain": [
              "<matplotlib.image.AxesImage at 0x7b2d53bca5d0>"
            ]
          },
          "metadata": {},
          "execution_count": 5
        },
        {
          "output_type": "display_data",
          "data": {
            "text/plain": [
              "<Figure size 640x480 with 1 Axes>"
            ],
            "image/png": "[encoded data removed]"
          },
          "metadata": {}
        }
      ]
    },
    {
      "cell_type": "code",
      "source": [
        "\n",
        "from tensorflow import keras\n",
        "from tensorflow.keras import layers\n",
        "\n",
        "model = keras.Sequential([\n",
        "    layers.Dense(512, activation=\"relu\"),\n",
        "    layers.Dense(10, activation=\"softmax\")\n",
        "])\n",
        "\n",
        "model.compile(optimizer=\"rmsprop\",\n",
        "              loss=\"sparse_categorical_crossentropy\",\n",
        "              metrics=[\"accuracy\"])\n",
        "\n",
        "\n"
      ],
      "metadata": {
        "id": "AdBXvnAljvJK"
      },
      "execution_count": null,
      "outputs": []
    },
    {
      "cell_type": "markdown",
      "source": [
        "#model.summary()\n",
        "\n",
        "**parameter** count for each layer refers to the total number of weights and biases that the layer will learn during training. For a Dense layer, this is calculated as:\n",
        "\n",
        "$$\n",
        "\\text{paremeter} = (\\text{input size} \\times \\text{output size}) + \\text{output size}\n",
        "$$\n",
        "\n",
        "      \n",
        "The `+ output size` accounts for the bias term for each neuron in the layer.\n",
        "\n",
        "In your example, the first Dense layer has 401,920 parameters, which means it has a lot of weights connecting its inputs to its 512 outputs (plus biases), while the next layer has 5,130 parameters, connecting 512 inputs to 10 outputs (plus biases)."
      ],
      "metadata": {
        "id": "tsSUKNByPgJo"
      }
    },
    {
      "cell_type": "code",
      "source": [],
      "metadata": {
        "id": "kUh7DzPXODKB"
      },
      "execution_count": null,
      "outputs": []
    },
    {
      "cell_type": "markdown",
      "source": [
        "#Batch Processing\n",
        "batch_size=128  \n",
        "\n",
        "train_images shape: (128, 784)\n",
        "\n",
        "hidden_linear shape: (128, 512)\n",
        "\n"
      ],
      "metadata": {
        "id": "VveakYCiO5i_"
      }
    },
    {
      "cell_type": "markdown",
      "source": [
        "# Flatten\n",
        "The first Dense layer in the provided model `layers.Dense(512, activation=\"relu\"` expects input as 1D vectors, not 2D images. Each neuron in a Dense layer connects to every element of the input, so the 28x28 grid is flattened into a 784-element vector."
      ],
      "metadata": {
        "id": "eQYMK1fvnz6D"
      }
    },
    {
      "cell_type": "code",
      "source": [
        "train_images[9][9]"
      ],
      "metadata": {
        "colab": {
          "base_uri": "https://localhost:8080/"
        },
        "id": "Q9uLgE5SnyuR",
        "outputId": "f217b4aa-c726-4a76-ffd4-800ab8e55c39"
      },
      "execution_count": null,
      "outputs": [
        {
          "output_type": "execute_result",
          "data": {
            "text/plain": [
              "array([  0,   0,   0,   0,   0,   0,   0,   0,   0,   0,   0,   0, 216,\n",
              "       253,  60,   0,   0,   0,   0, 212, 255,  81,   0,   0,   0,   0,\n",
              "         0,   0], dtype=uint8)"
            ]
          },
          "metadata": {},
          "execution_count": 7
        }
      ]
    },
    {
      "cell_type": "code",
      "source": [
        "train_images = train_images.reshape((60000, 28 * 28))\n",
        "train_images = train_images.astype(\"float32\") / 255\n",
        "test_images = test_images.reshape((10000, 28 * 28))\n",
        "test_images = test_images.astype(\"float32\") / 255"
      ],
      "metadata": {
        "id": "tW3sL1b4odzN"
      },
      "execution_count": null,
      "outputs": []
    },
    {
      "cell_type": "code",
      "source": [
        "# fix will calculate the weights for each of neuron in the neural network\n",
        "\n",
        "import time\n",
        "\n",
        "start = time.perf_counter()\n",
        "\n",
        "history=model.fit(train_images, train_labels, epochs=5, batch_size=128, validation_split=0.2)\n",
        "\n",
        "end = time.perf_counter()\n",
        "\n",
        "elapsed = end - start\n",
        "print(f\"Elapsed time: {elapsed:.6f} seconds\")"
      ],
      "metadata": {
        "colab": {
          "base_uri": "https://localhost:8080/"
        },
        "id": "mPJXW05gquom",
        "outputId": "557edb58-8a98-41a0-8d6a-a0b87e087865"
      },
      "execution_count": null,
      "outputs": [
        {
          "output_type": "stream",
          "name": "stdout",
          "text": [
            "Epoch 1/5\n",
            "\u001b[1m375/375\u001b[0m \u001b[32m━━━━━━━━━━━━━━━━━━━━\u001b[0m\u001b[37m\u001b[0m \u001b[1m4s\u001b[0m 6ms/step - accuracy: 0.8587 - loss: 0.4805 - val_accuracy: 0.9558 - val_loss: 0.1561\n",
            "Epoch 2/5\n",
            "\u001b[1m375/375\u001b[0m \u001b[32m━━━━━━━━━━━━━━━━━━━━\u001b[0m\u001b[37m\u001b[0m \u001b[1m1s\u001b[0m 3ms/step - accuracy: 0.9624 - loss: 0.1327 - val_accuracy: 0.9668 - val_loss: 0.1105\n",
            "Epoch 3/5\n",
            "\u001b[1m375/375\u001b[0m \u001b[32m━━━━━━━━━━━━━━━━━━━━\u001b[0m\u001b[37m\u001b[0m \u001b[1m1s\u001b[0m 3ms/step - accuracy: 0.9759 - loss: 0.0830 - val_accuracy: 0.9746 - val_loss: 0.0896\n",
            "Epoch 4/5\n",
            "\u001b[1m375/375\u001b[0m \u001b[32m━━━━━━━━━━━━━━━━━━━━\u001b[0m\u001b[37m\u001b[0m \u001b[1m1s\u001b[0m 3ms/step - accuracy: 0.9835 - loss: 0.0559 - val_accuracy: 0.9761 - val_loss: 0.0791\n",
            "Epoch 5/5\n",
            "\u001b[1m375/375\u001b[0m \u001b[32m━━━━━━━━━━━━━━━━━━━━\u001b[0m\u001b[37m\u001b[0m \u001b[1m2s\u001b[0m 4ms/step - accuracy: 0.9871 - loss: 0.0424 - val_accuracy: 0.9772 - val_loss: 0.0759\n",
            "Elapsed time: 10.962570 seconds\n"
          ]
        }
      ]
    },
    {
      "cell_type": "markdown",
      "source": [
        "## Layer-by-Layer Flow\n",
        "\n",
        "![nueral network.webp](data:image/webp;base64,UklGRq4kAABXRUJQVlA4WAoAAAAYAAAALwIAXgEAQUxQSIgWAAABwCRtW6Ltf9gCO/gXW2ABMcZxtkBsnKIqo1RG9yj/4b+Iu3TchUHcibsQtxF/d7mr3qa76Zu7u+GJfBEhC5LdsG0ekrSlbZUWaQrAe4TyLV4u9m5++ISIGYSwce1AfINauxJfGH+JCHUHANOmK5CkeGFg2UPcIMiXRhM0wIC4ApTD2qycL4QKMm2xCPaQFg8MzCQ5gUfLGTjECs6wh8EWUxPlBNoaGlQNubBvxUbz8+QEGkyb4awB6hqtbY18ncDxBK4vt+INWggF3FtPmePqBA4nVIUgVpjdy4YKPN/jWWPqBI6nrQC9OqlvMH4z4EtGlm/xvLF0AocUWoKo4MTeYgYc4QmgGTqBYwoDchMEO8MaCimMoRM4oojoYRvUBMEaSGNMnUDpl+BGEklsUBRreCJolk6gjkqolOQ4wu4lTThDIZWxdAIXW73vMIqAuF14imQNJIPn6ATWIWbKowijtiuPEbcA5OgEGruixAHly1nDEkIycgIPQzY7V0BCWEZO4D5kDoOrDo0FY9TXBLJ0AoVMXsyVKVKwdAJlNG9dmSo4UnCcTzKsKzTMldqUFIbhd4LVXihIG+ngtIKxVOZ/tOFIIV8CkLQHeg0YMV4sD9gXAczr5E/YCDBfJ3AlGFr4+T+OgvKfv6JodaDz/9eEH1GEOvP5T/hAxvC7QNf0OyAn/2kBCyhVpYqJmmzJM38gEzGvr/aLeDOaJiXkgsukN0qXMdaU5Xu/c5NcJjqiycXNeTBWgtp04ms+lCO8b6Fgr7auFkY12dAB84HDbPwv4H+e/6vd62YqMNVxe8TkGmir3wn1FKaSTwCmWY7opc8YzHFnFnQ7sl0qdlNFBDnJ7hKoFp130WJP5q2ptFm+ZDO9cfuC2bfMOF2SFm/Y7SAchWO6ddIvGOTk0g3RNhKdUbYUVJWWpKa4LcVOLd3QuDwBhr5vBxc1r3RD647G7uV8TS5+VumGxu9UDIMVE6OeUbqhETpnFlNMJ4TJpBvOuMlsahv6ksxE0g1nZlfXyoZtWcNppBvaEZhJgF3JdhbphhPHZzavakHO5NENZ33jwjCYMrm4maMbznatcKvivSvImTS64XwVCL6Ek0kF5oxuOIvAOk8DmPQM0g1HNTAb3RtmIf1E0Q0k84jd8VsFOfNGN7SJbHi5wmcEOXNEN1DAXSU5Y0ux00M3kHnBcB2HHxc1YXRDk5z8Sm5cLn5a6Aa6TpIfn4cgZ6bohkY5+eUu0AlhluiGdjk5qTES5MwQ3UAvJ+efNZwduoGHnJydIGdm6AYucnKOgpxZoRvYyMl5CnKmhG7gIydnK8iZDrqBkZycsSBnKugGjnJyAzub/DkJcqaBbuAnJ1cej8xJPiH9FNANDOXknm95aF+yGX+6gZ2c/EytRUaCnKGnG1jKyS33CvS2FDvudANDOfn5Qq6MBDljTjfwlJPr83cYHWhBjt6GxVbyoBtYysmJ7nQxyIIc5fDAQHenG/jKyUlueT3EghzfdkHpSjcwlpNrmntej68gRzXf3LUf3cBaTk55W7eRzRr6MytEF7qBUk7O9xvNWAlymIXFlp5u4C4n13S/hcEwCXJYDj0x3cBfTo5k8AMryJF4GpaSbiCWk3P/xR0GVpBDck2hohuuISe3lL8WyAAJcjiPPA3dcBU5OXb5vR0GU5AjicacgG6gl5Nf6vcCGc2QHolMnaQbLiEnN3VXVcffI2VABDnc/ZBTdMNF5OQ+1YloUhw6xqMoyEE6tH+gLyMnl6nqLlToliocAkGOCRC1AAi+2zWJ6VWFZ5VwmaLsjwEQ5Fi/ftKCFgm7rTJ9wV5OLk1lUNkSf+W/P6gZ4OkFOTKspw2DUJj4hzmKBXQq+vx0XC3jrqWqKwG+879+TjLA0wty/DoUbjfDoQJhmEMP339wjfn6D/3tlxJMx9W8qeyo3znUacLeicIREOSEnQGBJSPdDI9CkA878cWLeDoSWVwqGoLBgQZAkJN3XwV0kLlDmNN/OgaEzrSoJF+IfwXMfsg9DllDhdAFQpdADrJVim2VcGk3Z5YQ35oQE7Ton59dkLPziNHN0LHZfveDSRLj1MXrUlXCDek6LC1ExBTcUdz95IKcsAixVI8sshkKmu07P75Qo7vIpv+AwsbRpz9PZn0oB7cXSD24IMdgFiqucLbDP1ZmmgeuUyVcl+QkKfbnj/FLwbL4+qEHF+TI5G2QIRhwghyqOHEhAJOgV7qEv6KF7HaatF8ylghGiMcW5GzdJWWkoAcstRfSGVerEi6h4IelELZnWlO5kBEjGPn4gpwO0JtxJETHuSa5HF8HLPBP1ZvvfZaUhU3ANgSCHMCL8RAXuh+OrWQcutQzv/sivB+wPbwgJ8aCkZpR8b1wsSrh0mVc1mkAYTNre1MQxwHbMAly6HVysUuVMSCrnUi1exO2Dm1vyXBbwPbkghy2/zQ2IAbbQ07eG2Z/96beTifZt+1EwMZDkPOAMJSvlm7BEvSlqoS7iPF4plM8eHqROhuwDVClGirIbSXMhBkU0yrh1Ls3Zb98A0nANjqVasglTxoyJi/5VwlX4fzuTd+pah5dwPaglWouUcbFhIKL410l3CyYCdx61UebdYGAzZdknv+PP25wgCoXyp6Vk3eEyxhtl0pcJKm/DgEby6yhhtXMk30ZuSC00UgZ9Ikq4X3phqBpw6oKVFqJqwRsrmRLUwrd6werI+KxKd+nKhdKNTkPWXelGzjn9PsGbB0EOVSu3k1/yXPQmyirkX7SUBoSiObt+F3pBsa5VA4BWxdBTtCnc7L6cdI/e5/VZlfoOIHoMMiedAPnTzKPgA2cIhfkoDlP+fjbbiT41EGj2uo4gXhOTk5QtJH1h5lXwEYqyMmGgvBRD9J42LPS5A8dJBArOXlHuoH16Fw0YANMOrr9+gQP0ygMbNEc6sh46pRqyPhn//Z+3YtuYO0usQ3YFjAkIf2v/AQNk3/j9IW0Z0NMOOkUfc0nPk2QQOxctPF+Azb1fZ9ARaMUejCC1JSkz8nJ6wQiPd1AZDccsNmM8QdAEVE9T6bUScWdkJPvJhBJ6QYiu+WAbZvgsCR4CEKd9llyQXeYQORDNwgh7jlgc2YzImQ62wczW5Jqk5M3JRC50A13HbAFIJbCCfFsz7IUcvJaCciAbrjxgM0UuVN748mbdrKB5+Xke0rAvnTDnQdsb81AvPWDFg7qzIe+z43jriR1Vk5+oATsRjfcfcD2nR92tJDE9e+g1OuFvM81/+1Z5+TkDUrAHnTD/Qdsv4lIWwrKUSIKsWBddOhOByIgnJKTNykBt3TDYxpUgQSPnc6qwT8TEpdN0aG7swZvSeekiTq54KfwT92T1vdP63hwQXTN5YYc2puNQ3L5ppIkHd3wa3+LGfRjwtfjIUmhzywI6hjL9pG7/fD+Kf4xJd2wTSA+ZXN9JMOk8Gw4XgwkhvqR+/1Pfx6jpKIbDhOID2h9oEyz/ewHzeHbcTf3yAk5eSUQJacb6i29jwdrugCw3T5VDmFu+BGdst4IRInphr0tvc8GVzSnf8gU5QHU+kPme33E7BwfcJGkdMPBlt5HS70XwwcyhYaPQbIulFt9xGGQZwWiNmKmSSA+2F8/8HPUeR/ZDkhNc9foe30kIDQJRGnohqYtvQ8EbSFERAxc8j4NilO96Op6ou7z+LG4ZjFOB7qhVgI+SBzmYEmIGBewf7VUA8KS6KxcVVXu80+Vij4jECWmGyiUgPf50TUeYkYsMYCpPqKQJfGd0CwpQK7O1H2u8iXJVoFot10GPROIyjHc5d/jvRuAWBBzBL8rO5doBF8dhQoAV9NE8qwSDhje02WXQa8EYtuSAfKq7lGK4EzLPjlBjqcyOBMNfN0nPv1B8tC8awKx8VpySfeo+QIu1wEg/ad5KMgF3Rm64V/++f3EM6VTAvHs8MtruUdn1/9n0Q0zqhJ++CsaBNJcRN8E4il39SLuEc0nKZdgjST7ks8EXZI6TTc4skLinROI+uyQM3ePSM28958+Cm9Nz9pGIidXB3SDpilq1TuBaM6vEUzdoz7j9IEqlfdgbdIintm4DRgECd0gCZ7VK4Eo1+lHpX1i5x51m+QJ4RuXqgsP1aaPU6DbZeVATt5GN1DfraBLApG6DD2ivYJ7RFITIiqx+HpIT0Pf8vep83ckJyehG3RuLyneNYHolzeQUc2yv3vU/xMWMK19j5s3oB7l+9Qnb+eCdiAnJ6Eb5NLI2XZOICpUlErc/u5Rb0BZXYMKJHeguefWE6aaqoQT0A2tlTz7JxAXoEyj2I7uEQe4vBN27J569Sytp8zXVcLpiwu1CEQZJBA/gJpy35ns4R5xgYnYLAmAh2ilGHoR0NMXF9oKRFnZN/wbsY6F1j3iBLWcutWFfoD/jcgR+fliexUXAuS0DV3n6t1KQjBzjyirt2ZDR+Tf934eJLDPO6Yb6MyUzGZCqM0a6QihzrpHPOEL0Y2X9PYXE7hpeJI14oBuIP6gRz7P2rxdJITj7B6dKJMHchTuHAm7dAO5AZ8bcNIDW9wj3tARgxqIG0fqnsWFTEma0bYzTYete3SdT3vAaB5yOzpSWcbFdK3kyeH8ZHn6vsuXjnnkJi84EH8i/sL+Gn/NZ6UqUQmkMNeBKze6Q8AEiFoAhD7eLPG2v95XsbdnsajjclMw6U7da+vXORC0SN3mEVwFQtGLcZRZzUJlsTJEfUdQ8V5/kZRQLU1BKOy2g/dKXkhAoJqOBfesxMqqXn3nh79TMgQX+vs+4Y+KSUi/BEcFV/dVEoI0fdM8Hb/5Q/l9JNMRrFmtYa3QlbNuabe1XgA37F4f1MLSUQmVkqSr0tV92HusUp/+1J+2TEc62+wiZAFu9PcNI29ftdh1qmAgHXYgBe3Fq2E6MhCImizJAezd69vOC6qdAclYTcBMFuYskhp9Ll6cBKJy47f5TmkfvvT3/WLnEaPf2u2KEg+gY7P9ygezJEaPixdPgagm/zdr+vuOLSxCLNUjO3oFc6hoU9Bsv4BQ/YPxuLMViBKCP/19xzCYhYor3M5BciBbDosVrHFaIHoJ2BGhv2XyNsgQDLi9nggiqFpm4LmGObwFopLsz0Ghv42uwiS5o3Ixb92gAYQ9mpnfwLMXiBoiyCGiv2WloQKiE74ZR8SLXlcAF8m8yQwR/S0TVNZhzC+5UJiSNe8mzvT3kyBhZZ743PNKo1xHIKop2vjS389vig6/01rU+apiHII2tvT3EBihyl8xLOpsStJMz5ZjmRdMRgyCadJX66oWDKcGlYpjeXDFlP4eB/PER7ZVUedbeJZsh+dKf4+Ekb9GusiqqLN9exazRsWf/h6klxxXQsyYveLzLCsYNXrW9PdQNTVWQuRyd7belTwN7Ldo3vT3UDW1jr9dve7uLhSLSp6y1osZvvT3kEBSMRAM787GrJInP5j9Xdhj9eDJwZI+sUggSupnXXUX9igdjCLh0SmB2K2S5yV3YY9WI8Vnu08CsVMlz8vtwh4g053C4i4JRFaVPBnT34Nkyu2DKtRpSCBeTCDKn/4eopf7el8K2ViRJxDZVfJkS3+PrFEnEPlV8uRKf4+tMUwgAi7yuoBSnBhco0wgcqzkyZX+HlwjSSAyFogypb8H1wgTiCwreTKlv0fXaBOI7Cp5sqS/rRhdo08gMqrkyZb+Hl3rlEDs8KxL0d9ja1dJINqLPEtHXCjd68lJIKpU7M3Q3xOUQAwId0J/z1EC0ZWkboP+nqUEomb8LJNok0sTlUCUAeEG6O/JSiC6EuXF6e/5SiDqXMyV6e8pSyDKBeG69PesJRA9RnlN+nviEog6F31B+nuCEojdBKKyqnXOj/6epQQihUBUqvaN/l5zor+nKoF4WiAKYXc5bCkGyYX+nq4E4jmBaICT1QmABf09kQlEwCBhC9teNa87/T2XCURT0neG86VPfF/6ezoTiCp96L8p7l2gOtLfs5lANCHVvrQ9X6S4F/09nQnEL/4AWCUUzY0L+tDfE5pABCCsPOs70N9TmkD0SQi6my8ravp7UhOIEhXljd2I6e9pTSB+50J5Z47vo/xPZjaBiJbyVpd6+iEk/PeHgPQ+xtMPV+IaoKmXCfQmynKEmP4HFP2NUd3sQ9ADXwPQLxd4UuiXAIAU5v8lgXm5vEy8suDFqyXxo18E0K+WfwvxuoJ5GUCQ/vlSeVi+ECCA7igvlSbxWoB6tXwL4QnaXixfRrwgTBEc/QXReLb1ddIoxSvD4ETrC+MJbhdWiteIabOaEi8Xe+c/3vmPdxjiBQBp5FEv7mFrjQcwg76nKSZETFELFwsiRhBCWJA7cAnRHPXiBmBSsNJABjHmFjFslixEW+3XPioZDgczE+4AsLljpUqxdY2VNEuvlAO3OXvn17vYzMFUzK3B73yKNKZGOEMCZwYSQog7g8a8f8oazyQNYJoR0e/O2SKbkGmQBxoXdzzUwckp6NoulCTwOJCIcdMTFSIE+4amXkACiHYN7CIaBRAXfRE4xINFbqnfOmzOgBAmIqYYoe6HCzEFJdo7N2oIpjbczsEaDm0dupuWXsT09ndddQXQrt1cirzIWTpE2jtRMqA5WHoDJrceqej2zo0aItS2hamgNy8PaI56sTfKS656GTcXlmsC906UMIcwGxcrF9nUuRFsPsKCatMv09CLUjad0Hvjf1WkkzAVPMIQA1FscdwLg8ms5tFcDx5RHTSTwGAaYZijmdkIY+T1oBDtHhA9CRTiCEMeQB4iio1dDyIi7MAiymYotQeDub1zIwmR91D3oqVZSHlBmN3cYEAQu/C7MGYPDkN754YSDu02EmvoBWx6CHof1ztPBpPcR6jhVkAFu1kKVXPn7gE65lqacJtY9nnxg2GvZoEuaFp6keperP2zb9hM5KtY2CSTdXn7rq2s0EvtRSmEN4jqci2rM+JOdO4uLGKg76qUN6C7yYilyscWLNWnDJIzAIAliqZegAUQm166bWcvYjYvVmrIsNsTMA4MYvXWXfHgKtjgTMj2ROfu5NJygBun9dfASxnZ3osrXzsAwMqjM6SE3BSzXjuwvTQro0517s4BRgymEblyt478aoHHIQWgv1McSgzIaH0JYD0kM4TQcTV9oz8OJAZ0tH792jiUi9yN4kBiQEbr6zqv7uYcB3ORjNZXuKj1SGr+QUfrB8QUnBDzD0Ja31V5XvkKABWtr9Z8Z8DwCgARrW+g7ncZKRj1VCCi9U2u+5uHadR1RIRTuFdpwpHEgIrWN3UvAAZq1C0vXF2acCQxIKL1TfJgTICRGnWD8Ey0GxmtL6WQ19YnmOkA2aj/zxjkAxUkAvT3CIJhvyUoAAhL5X/GN3P1fwAH9QgSGgcJbpfWv0NQD/tdoIpdoBIcqFjHvVDsQT0CGRCcQBxOJRwI6mG/CZjq/UsMu7GldW31CLwfUFAP+01ALtW52ez2zFWWNYjWegQDinsd9t23byxs4Nd1V4FoqEdgBhWUw34nkCGDERvI9T8AtQtj5MiCaNjvBqraYbmFCKjEIirEbQ9HFkTDfjdYUIsaakMhOyvEQT2CkQXRsN8NELcLsDF1oevw1quDegQjC6JhvxvE6oPlYxagV7jK/TusR+DQDiruddg3mgMZszNgddnkLWWp2OSWegQwmNgqPm552GW9AitRY/+ErDqDx7IxHPYn3Dc2mMNu18tzFE+DoR12j1548zQY22GXC8Dz7DO84WF/udg7/8EfAlZQOCA+DQAA8I0AnQEqMAJfAT5tNJdHpCMiISMWCyiADYlpbuFo3iX+SfgB+iP8q9rpIugXgD9AP4fkAXoBqoGAfwD8AP0A/0/sH+l/wv8AP0A/gHSAfwD8AP0A/3W5Af//Z/8rO/APwA/QC/yUuFVfe8Xb0pA7de8sc4fzAOhh5k+g95unU1+g70q2RZeIf5j+Dn6deRH96/JzKdSK3DtrrLAoBqUVyIjQfGnqI+V366/3K9nAnyohR5G/Le3xoOIzZbHQoWHMNA+BO1Qa/2+NUraIglsSohRYZj6hVn/Dux8l5YsiF9GoU8ukcy2Lrc6IgRBjINlKOHKxSIUeR0VIg4NiU9EDSqzbvIPczy/wdPgwztVnaVREXu5OSznIRf0t59KpW0RBLYlRCjyOf5u8o0Zl6kTiEXIPbWNGg+JlYawAelb4oUeR0VIg4NiVEKO1SQ/PNGauWUES2mxg7Ppk3rK5LSR5HRUiDg2JTbf7HnM7W1ap94lb+//Cno5kP4YKrVCUlCSMT3yVJG/3yZuZBhPNHK1t4Lc8kqy8/tKfkryBLYlRCim6lRJ16lU6Pss/IxRBIfp8/Pl53OinoiLfzQWfnekeccpgfJqXDe9AmdEOCz+QSqyIkUCrP9N+DB2aj5aGVpj2rEqIUdvRpQWm94y8sfP6N+XgIzyHJd/GZpTpLgFIkzOuKe8zq0GToYN+H/Xb0J9PcGyV4Jz20f62tQ/xyLycqKimFptbJMB/feEZdExgZ72KYqkZ9pwXCK4EtU7ceFiM+79GFRdc1zM2r96SUUI+UOfxaa9ikKGLvFQC3Q4xRJR+zvPjZFPTW4jrX0XLViVEKJAEuEkryfH3Z1skwSBm9/GPzAbC9mrrkjFVcFw+PuzqZeriXhHMhNmZGWoYr+5OEB5rliLqSrM/dBU8maPpi26mMIDAUzavkZyTZxUqdhlPdSeSjUZhoo3UcTEyLnrH3ic5f7BbYdHvwPy0HnLbPTAx8V313mqtHsA1c3/0PuLyIhA08B+SndabxfSH37kFmPT8TFVm0E6gDWqzIeVfxOilmons3fjYcUE8fGN70UAvE4xGjN+UQPxLg4bRYlsSXN3CXwvsFD3B60hq0e1tds4+o9atzsFlvq5Xv9wRsVlXXBFvTPz3hzO+7SPI6KkQP/Fev5FaabXvqDSy6D0B3YGroMW7b+UPnRvgtrm7Oxta5/+EpC+KFHkdFSIODYlRCi011D67V1sHm3TyXcPM9hIu87JFPOFd6Nk7MWKe/06oKzxR5HRUiDg2JUQo8joqQyh8ztZkMjwoca31aYv4PVJFVd92keR0VIg4NiVEKPI6KjKKwXVAKEGsRLJQB5RUiDg2JUQo8joqRBwbEqISGDqBLYlRCjyOipEHBsSohR5G89+U7ad8t8UIxyCePoN2IMFQLvutany8AH+s0dFH9/rSJ2gegcGQV2gXd7j+0mB5keIth5VwJakgb2PTEqhd91r4ZBPwEthmr0HaBd92keR0VIg4NQHLJyhOpq+NTxCKHl5rOsTwAAD8UBKbouxVoWi37tontxckUOKFATmmA/bnFcZxQZ/B9Wonl/pWND6iVtDcWjdz1yqphCKNmbJalxZduHTp7hZrLUscsisIjJ9WkAE+ef9N/MHzBnGeJ+huYAcxDHWRBv/N/827P/ovJGozyTjzlXiD0vjX3qnULNhaXpAEEkhpMbWOAwmhdS9k7NCBIw9rORmanoaYf0tIujjle3v1ejlXlebsEvB7+uBxUtRteTVrSiAJXtERDZDlIrwjt/9mCpr4C/0HpkHWLv471i4bzC9YWYMql6yFFZYxpNCET5gOdS80valU1iGvNcf7+uwYoZ5xwAXddga8lS/sddHlQKIJLGpBfKUsixetGkNWUpY3nGjTlYs4YL+d8wEIjSNeQ/HW0r9i6XeLoQBlXxHfTYWgT4oQADs38ZcDejUTZpgOuMbYhuc7tkAALLy0ix17DjrjvNJelzG6S/zvsmOP+EuEspXd5OX5+gzH5BtZiij9n7r7l0QF8n+RZTaWQ/7bhULu0PXnSW6MKXPugEvYRruf8rV1bdoqutzBQtShWoAX3b1c7FsZdZ0SgIrSCnSR3bq7OZLQp6Ga4PoVHQHpb1MyDUNskXmhbHHF51wHwGW1t7uiV5tlyXwT1mpvfRUOwtB6b3PS4tPb4e4PMGE8grYNleFthy9w/BZdhq10gBY5MTAAEFGtFiI4iH4DxfphUzBld2P2jgxwlu3js/YOu8R2BbpJuqkwVuGJdAUFYHfv4VnZ9JdcM94W4lhWNZMMt0UMScEGXODW+V8rvlNBzSXCgbpR9WKGE9Uoo5mvhPJpmQO/Om1sTOzQ2AORzKF86yXKzXsUWFCjwkqfJ9yqS2OrSGZuVv6jgeWtbkNjf7I6gNWIY6WHQ0FEGVqf+BYgUXWSQQlzOVGoIdSGON7nZtW0XZCgAn63SptE/ZteH7r8KdeMjCgjmxpswBxQzVC0NFHvYgU9K3HfI32YZUIBoRzPs1yq7p+WbppR9dMCPP/q3/kFPLbDZTTii0IGYvzVyVgnNd1oLKX2o6z4LFRk/y01arCLkz7ECqoDrRgloAgXPYy9nOcziii8ut8o63rP1ytDYrfJpHU5p9aqwcA+jc3ZXbM0Y/MoaBLOQuNsSDVmy4GPThpfPYn9/DudjQqWD7deZG0XKdX9kd6zMtjrSSeHdFP/kX/i3iRpURo1/z1BLNjzuCpoqDMqq/N/XFeRxn1SRWvMfwbHTw0lg5OtBzAhWdWd9JvWPSSp9vJvy6R1hnQT/NhyrwPnuw1vdxyhGkroBsFal1iTXbaVCncT4W1xJlS+OnAUJpCZwCd7TSQm8y4KmeDKxQAz6KP3Ce+lItAp7M1/vg77is68uujra4HtAisHkUgXuyGLAIU49EsgONXbzy1F1cn0rJnpsEoZcI6vkHDyRNGP4h23jepFSJbwn06urAEIMU/nDCPA7DzL7RaiAaB1cAn/yREFs6nIqzYrdzENBAkXLgqDsO+ugG2SsFShSzLiCspw4wu8r7Tha8NX+ZDgimwcvfe8CWZUUTikrPm4vGmnzUFlxqU+iZTdXBo7027Zr/nvYBJfUPl8ulsmPAGxyAQD+2xufGR4IN73U559EW+jibCLLiwTd0SJyJtWuFMjAO8E26EcvQlx9AGHJN5MlDH6JLYTjov+dPl3DC6Tl5/vpbTnWKmJtdtZZ+mSsPUi39sj45zFQF7jGQbscbLkW9vWX9ux7XwiCAG7+eOQEvrBFzndTYN6mKPm3Rso8+QWCQqMm89ltRs2NlywqY+8Nv2HXJTxU2HHWJ1hDUPtqk4l0/cai5Gg546MWzb8JI5ZpMEYH0EJeEmxf7kUAXWmMy7+FVCFJwoAZsPPKecZYsmkiJxgAU/f01zDNKK0kV+C87B7wYEWduopW25RPSgZfHKYqEjJM3B/Ht8698lmyCVlStR/JGflhE7B8vLecYfHJDgpGNzX4bPy0smCtvUabZkXMgrXY6upmEuTVdSwSyeBM3fu2nBwsWo0OcXKUi4n61pZHAS/kBS9HA+qfmsvAYv+P2jv9iRVnxeuGlIcP91Z5VRxXvqxLXWhQx81H2HW2z7SX0RT2y7lJhLu3sz9vYljrZqaFvf3nSEcLAoeq7hpm48hG/d6730K8i9EwsZkoHz7eb7vu5tUBg0ess8Yf9zPfNUEy+4oVmuMr/EkoigGDlRMWUXE8z6zdot8650E07tSqVRRPLS1TZyEEirIphEcd8H+otEon6I/SBkFLMw6IycmRmQk9ACidSsNhclj6oJ391RMr5nzOd8/cba4npb7VLn9Mv2rmyW7GzNkfPiDTkZjwET1t+/HftduJeh4T4QPYrQ9j+TBTBLoyUnGsmt9DGWs7H+/HLwcisHo+Bv2/uSjogBu8Th5z9jxrJVdNAi2Qf4wzQ/s53maTDPz6n2lhTn+FwCcRx2Uct9MJ4ZsPmdFlkc3uaMbYpQSvS+3MWKYzv+KAsXY5G/7O+dJJ8Ko+0PtyMYBUWd+sPwAARhczfaKROF6KAik4AfPsu+yYKpnfbNisoDsW/pQIzqqBdEAvhW8bgm6+M9IYSaouqqr24T/mfZfknOLaePVduy8AsxEzvF63yPy82hwfL+eUTVd4Y6ukjUxzFlI+XoCm5P/jZYnL/TQyyhdjpLBaLqE959vDcEpv0BXz5YTFPBWMYW7A7c3MkCa22gAz3urmtZLDgUeRyf/2UwivAOvebEXEg6Ypvse/V647lj8Jy9uiZyvvDhXY+h7OEacblNogUf30GEKfu4Gpdo6nvd5r1nqerrOAFcL3qOM8NxRqMO1DT4tX7q5SBKl0pTP0V2ahZB10SzThkSFiZvXniffGzuEpmBem5ngPd/xWCapK89iGwB9n+LT2BPNROZ+296f7X9YAJcrUzEXgU+AAAAAOe7OEFiE2DDIaxKa/OLrIpg2RgkLrAOB+WcmROK1Bqu7bBEJdkH2vAXiGwUGojYJypmbS8qyfQO+mFxAAAAAAAAARVhJRroAAABFeGlmAABJSSoACAAAAAYAEgEDAAEAAAABAAAAGgEFAAEAAABWAAAAGwEFAAEAAABeAAAAKAEDAAEAAAACAAAAEwIDAAEAAAABAAAAaYcEAAEAAABmAAAAAAAAAEgAAAABAAAASAAAAAEAAAAGAACQBwAEAAAAMDIxMAGRBwAEAAAAAQIDAACgBwAEAAAAMDEwMAGgAwABAAAA//8AAAKgBAABAAAAMAIAAAOgBAABAAAAXwEAAAAAAAA=)\n",
        "\n",
        "### First Layer (`Dense(512)`)\n",
        "\n",
        "- **Input:** 784 features (flattened MNIST image)\n",
        "- **Output:** 512 values (one per neuron in this layer)\n",
        "- **Shape:** `(1, 512)` for a single image\n",
        "\n",
        "---\n",
        "\n",
        "### Second Layer (`Dense(10)`)\n",
        "\n",
        "- **Input:** 512 values (from the previous layer)\n",
        "- **Output:** 10 values (one per digit class 0-9)\n",
        "- **Shape:** `(1, 10)` for a single image\n",
        "\n",
        "---\n",
        "\n",
        "## Why the Dimensions Work\n",
        "\n",
        "### Layer 1 → Layer 2 Connection\n",
        "\n",
        "- **Layer 2’s weight matrix** `W2` has shape `(512, 10)`\n",
        "- **Bias** `b2` has shape `(10,)`\n",
        "\n"
      ],
      "metadata": {
        "id": "LkiF3G4Fahno"
      }
    },
    {
      "cell_type": "code",
      "source": [
        "W1, b1 = model.layers[0].get_weights()\n",
        "\n",
        "W1.shape, b1.shape\n",
        "\n"
      ],
      "metadata": {
        "colab": {
          "base_uri": "https://localhost:8080/"
        },
        "id": "jxHHLdVaRCVn",
        "outputId": "63242ac1-fa64-4090-eed6-4d861856b588"
      },
      "execution_count": null,
      "outputs": [
        {
          "output_type": "execute_result",
          "data": {
            "text/plain": [
              "((784, 512), (512,))"
            ]
          },
          "metadata": {},
          "execution_count": 13
        }
      ]
    },
    {
      "cell_type": "code",
      "source": [
        "W2, b2 = model.layers[1].get_weights()\n",
        "\n",
        "W2.shape, b2.shape"
      ],
      "metadata": {
        "colab": {
          "base_uri": "https://localhost:8080/"
        },
        "id": "_GVZclxSQSd9",
        "outputId": "757a60de-517a-4d03-9cf5-93fbb537afd0"
      },
      "execution_count": null,
      "outputs": [
        {
          "output_type": "execute_result",
          "data": {
            "text/plain": [
              "((512, 10), (10,))"
            ]
          },
          "metadata": {},
          "execution_count": 14
        }
      ]
    },
    {
      "cell_type": "markdown",
      "source": [
        "# Matrix multiplication\n",
        "\n",
        "This is out familiar y = m X + b formula.  Where W1 are the weights (m) and b is the bias b1 and X is the input training data."
      ],
      "metadata": {
        "id": "WEYwJMuhQhdj"
      }
    },
    {
      "cell_type": "code",
      "source": [
        "import numpy as np\n",
        "\n",
        "hidden_input = np.dot(train_images, W1) + b1\n",
        "\n",
        "hidden_input.shape"
      ],
      "metadata": {
        "colab": {
          "base_uri": "https://localhost:8080/"
        },
        "id": "k5iNkOipTfwD",
        "outputId": "7e17dcc4-01c2-4641-b766-53f6332711fb"
      },
      "execution_count": null,
      "outputs": [
        {
          "output_type": "execute_result",
          "data": {
            "text/plain": [
              "(60000, 512)"
            ]
          },
          "metadata": {},
          "execution_count": 16
        }
      ]
    },
    {
      "cell_type": "code",
      "source": [
        "def relu(x):\n",
        "\n",
        "  return np.maximum(0, x)\n"
      ],
      "metadata": {
        "id": "3xLNfA9IQ6bC"
      },
      "execution_count": null,
      "outputs": []
    },
    {
      "cell_type": "code",
      "source": [
        "# For a single image (28x28)\n",
        "image_flat = train_images[0].reshape(1, -1)  # Shape: (1, 784)\n",
        "\n",
        "hidden_linear = np.dot(image_flat, W1) + b1  # Shape: (1, 512)\n",
        "\n",
        "# relu\n",
        "hidden_activated = relu(hidden_linear)\n",
        "\n",
        "hidden_activated.shape"
      ],
      "metadata": {
        "colab": {
          "base_uri": "https://localhost:8080/"
        },
        "id": "RLW2tPKTUdVZ",
        "outputId": "435a5592-c7ad-43f2-aaba-4c706aa788c4"
      },
      "execution_count": null,
      "outputs": [
        {
          "output_type": "execute_result",
          "data": {
            "text/plain": [
              "(1, 512)"
            ]
          },
          "metadata": {},
          "execution_count": 19
        }
      ]
    },
    {
      "cell_type": "markdown",
      "source": [
        "#sigmoid\n",
        "converts a number to a number that varies from 0 to 1.  So it's the probability\n",
        "\n",
        "$$\n",
        "\\sigma(x) = \\frac{1}{1 + e^{-x}}\n",
        "$$\n",
        "\n"
      ],
      "metadata": {
        "id": "NTos_jhfRqhI"
      }
    },
    {
      "cell_type": "code",
      "source": [
        "def sigmoid(x):\n",
        "\n",
        "  return np.exp(output_linear) / np.sum(np.exp(output_linear), axis=1, keepdims=True)"
      ],
      "metadata": {
        "id": "dN5w9PI9RPI3"
      },
      "execution_count": null,
      "outputs": []
    },
    {
      "cell_type": "code",
      "source": [
        "np.set_printoptions(suppress=True)\n",
        "\n",
        "# After computing hidden_activated (shape: 1x512)\n",
        "W2, b2 = model.layers[1].get_weights()  # Shape: (512,10) and (10,)\n",
        "\n",
        "# Compute final layer input\n",
        "output_linear = np.dot(hidden_activated, W2) + b2  # Shape: (1,10)\n",
        "\n",
        "\n",
        "print(\"dot product\", output_linear, \"\\n\"  )\n",
        "\n",
        "# Apply softmax to get probabilities\n",
        "output_probs = sigmoid(output_linear)\n",
        "\n",
        "print(\"after sigmoid\", output_probs,\"\\n\")\n",
        "\n",
        "\n",
        "print(W2.shape, b2.shape, \"\\n\")\n",
        "\n",
        "\n",
        "output_probs.round()\n"
      ],
      "metadata": {
        "colab": {
          "base_uri": "https://localhost:8080/"
        },
        "id": "kg0Q9hZhYElq",
        "outputId": "ab41d6e7-fcaf-409e-d990-a641c4e45478"
      },
      "execution_count": null,
      "outputs": [
        {
          "output_type": "stream",
          "name": "stdout",
          "text": [
            "dot product [[-13.372076   -9.892729   -5.6418343   5.253514  -27.685541    8.725781\n",
            "  -16.334875   -7.782704   -9.392839   -8.055974 ]] \n",
            "\n",
            "after sigmoid [[0.         0.00000001 0.00000056 0.03011166 0.         0.9698876\n",
            "  0.         0.00000007 0.00000001 0.00000005]] \n",
            "\n",
            "(512, 10) (10,) \n",
            "\n"
          ]
        },
        {
          "output_type": "execute_result",
          "data": {
            "text/plain": [
              "array([[0., 0., 0., 0., 0., 1., 0., 0., 0., 0.]], dtype=float32)"
            ]
          },
          "metadata": {},
          "execution_count": 33
        }
      ]
    },
    {
      "cell_type": "markdown",
      "source": [
        "```\n",
        "\n",
        "# Get first-layer output using Keras\n",
        "\n",
        "# this won't work unless we give the shape parameter to the first layer explicitly like this:\n",
        "\n",
        "\n",
        "model = Sequential([\n",
        "    Dense(512, activation='relu', input_shape=(784,)),  # ← Critical fix\n",
        "    Dense(10, activation='softmax')\n",
        "])\n",
        "from tensorflow.keras.models import Model\n",
        "layer1_output = Model(inputs=model.input, outputs=model.layers[0].output)\n",
        "keras_output = layer1_output.predict(image_flat)\n",
        "\n",
        "# Your manual calculation should match keras_output\n",
        "print(np.allclose(hidden_activated, keras_output))  # Should return True\n",
        "\n",
        "```"
      ],
      "metadata": {
        "id": "TR5i6qKAWyQH"
      }
    },
    {
      "cell_type": "code",
      "source": [
        "\n",
        "import numpy as np\n",
        "\n",
        "np.set_printoptions(suppress=True)\n",
        "\n",
        "\n",
        "# you cannot know which image produced which prediction\n",
        "\n",
        "predictions=model.predict(test_images)\n"
      ],
      "metadata": {
        "id": "9RyZUJD3sOap"
      },
      "execution_count": null,
      "outputs": []
    },
    {
      "cell_type": "code",
      "source": [
        "\n",
        "import matplotlib.pyplot as plt\n",
        "\n",
        "plt.imshow(test_images[3].reshape(28,28), cmap='gray')"
      ],
      "metadata": {
        "id": "Dg1NHPmCsU_8"
      },
      "execution_count": null,
      "outputs": []
    },
    {
      "cell_type": "code",
      "source": [
        "\n",
        "\n",
        "predictions[3].round()\n",
        "\n"
      ],
      "metadata": {
        "id": "h2lz17BBsxrj"
      },
      "execution_count": null,
      "outputs": []
    }
  ]
}