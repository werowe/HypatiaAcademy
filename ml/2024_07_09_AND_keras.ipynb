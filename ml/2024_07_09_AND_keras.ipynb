{
  "nbformat": 4,
  "nbformat_minor": 0,
  "metadata": {
    "colab": {
      "provenance": [],
      "gpuType": "T4",
      "authorship_tag": "ABX9TyMRYdmCXoPNNb8B3+DLmJsx",
      "include_colab_link": true
    },
    "kernelspec": {
      "name": "python3",
      "display_name": "Python 3"
    },
    "language_info": {
      "name": "python"
    },
    "accelerator": "GPU"
  },
  "cells": [
    {
      "cell_type": "markdown",
      "metadata": {
        "id": "view-in-github",
        "colab_type": "text"
      },
      "source": [
        "<a href=\"https://colab.research.google.com/github/werowe/HypatiaAcademy/blob/master/ml/2024_07_09_AND_keras.ipynb\" target=\"_parent\"><img src=\"https://colab.research.google.com/assets/colab-badge.svg\" alt=\"Open In Colab\"/></a>"
      ]
    },
    {
      "cell_type": "code",
      "execution_count": 3,
      "metadata": {
        "id": "lAxCFXK_w75v"
      },
      "outputs": [],
      "source": [
        "# AND\n",
        "\n",
        "# we want to solve AND problem.  Meaning we want to solve A AND B is true or false\n",
        "# for every possible combination or A FALSE, TRUE\n",
        "\n",
        "\n",
        "\n",
        "# HOMEWORK\n",
        "\n",
        "#convert this to solve the OR problem\n",
        "\n",
        "# A OR B = TRUE\n",
        "\n",
        "# this means design the inputs to represent all 4 possibilites using OR instead of AND\n",
        "\n",
        "\n",
        "\n"
      ]
    },
    {
      "cell_type": "markdown",
      "source": [
        "| A | B | true or false|\n",
        "| ---- | --- | ---- |\n",
        "| 1   | 1    |  1       |\n",
        "| 0   | 0    |  0       |\n",
        "| 1   | 0    |  0       |\n",
        "| 0   | 1    |  0       |\n",
        "\n",
        "\n"
      ],
      "metadata": {
        "id": "kNcIblLdzpnM"
      }
    },
    {
      "cell_type": "code",
      "source": [
        "import tensorflow as tf\n",
        "from tensorflow import keras\n",
        "from tensorflow.keras.models import Sequential\n",
        "from tensorflow.keras.layers import Dense\n",
        "import numpy as np\n",
        "\n",
        "\n",
        "\n",
        "inputs = np.array([[1,1],\n",
        "                   [0,0],\n",
        "                  [1,0],\n",
        "                   [0,1]])\n",
        "\n",
        "# features and labels\n",
        "\n",
        "labels = np.array([[1],\n",
        "                   [0],\n",
        "                  [0],\n",
        "                   [0]])\n",
        "\n",
        "\n",
        "\n",
        "# input layer , it will do some calculation.  it will take the input and output some values\n",
        "# output layer will take data from the input layer and output a single value\n",
        "\n",
        "# what is error?  predicted value - observed value\n",
        "\n",
        "# there's two layers.  because I have two lines below\n",
        "\n",
        "# input is the array.  you have to give it the shape\n",
        "# second layer is the output.  that will be a single value: true or false 1 or 0\n",
        "\n",
        "\n",
        "# 4 here does not mean 4 layers.  it is a parameter.  picking the right number is adjusting the\n",
        "# parameter.  it has to do with the size of the nueral network.  so there is no correct way to do\n",
        "# that.  however if you the number too small then your answer could be wrong.\n",
        "\n",
        "\n",
        "# activation function\n",
        "\n",
        "# relu is y=max(0,x)\n",
        "# looks like it will get rid of all negative numbers\n",
        "# y = max(0,2)\n",
        "\n",
        "# activation functions something don't make much sense\n",
        "# they are designed so that there is non-linearity in the network\n",
        "\n",
        "# y = 2 * x\n",
        "# that would not solve neural networks that are not linear\n",
        "\n",
        "\n",
        "# the range of a function means what range are the possible values.  range of max(0,x) is (0, infinity)\n",
        "# domain means what can you put into it.  answer:  (-infinity, infinity)\n",
        "\n",
        "# sigmoid generates a probability. (0,1)\n",
        "# this means this is going to not calulate true of false.  it's going to calcualte the probability\n",
        "# that the answer is true or false\n",
        "# with logistic regression if p(x) >= 0.5 then TRUE\n",
        "\n",
        "\n",
        "model = keras.Sequential([\n",
        "    Dense(4, activation=\"relu\", input_shape=(2,)),  # Correct input shape\n",
        "    Dense(1, activation=\"sigmoid\")  # One output neuron with sigmoid activation\n",
        "])\n",
        "\n",
        "\n",
        "# when we did linear regression then that meant minimize the MSE\n",
        "# we could have also said maximize the accuracy\n",
        "\n",
        "# we are using calculus.  in calculation you what what are called limits.\n",
        "# that means get very close to something, but never exactly the then\n",
        "# 0.999999999999999\n",
        "\n",
        "\n",
        "# we will we use : binary_crossentropy\n",
        "# why?\n",
        "# because 1.  it's binary because it has two possible values 1 or\n",
        "# crossentropy means check each output against each node.  check all possibilities\n",
        "\n",
        "# here we have a very small training set you can use sparse_binary_crossentropy\n",
        "\n",
        "\n",
        "# Compile the model\n",
        "model.compile(optimizer='adam',\n",
        "              loss='binary_crossentropy',\n",
        "              metrics=['accuracy'])\n",
        "\n",
        "# epoch means how many times to rerun\n",
        "# it's looking for maximum accuracy (= minimum error)\n",
        "# it changes the weights in very small increments\n",
        "# we say it converges that means it finds a solution when the error is almost 0\n",
        "\n",
        "\n",
        "# Train the model\n",
        "model.fit(inputs, labels, epochs=10000, verbose=0)\n",
        "\n",
        "# Evaluate the model\n",
        "loss, accuracy = model.evaluate(inputs, labels, verbose=0)\n",
        "print(f\"Accuracy: {accuracy*100:.2f}%\")\n"
      ],
      "metadata": {
        "colab": {
          "base_uri": "https://localhost:8080/"
        },
        "id": "pmk0yOERzZxk",
        "outputId": "8045a6e3-d76c-4022-fbf0-bd3f20f21e4b"
      },
      "execution_count": 11,
      "outputs": [
        {
          "output_type": "stream",
          "name": "stdout",
          "text": [
            "Accuracy: 100.00%\n"
          ]
        }
      ]
    },
    {
      "cell_type": "code",
      "source": [
        "#model.predict([1,1])\n",
        "\n",
        "predictions=model.predict(inputs)\n",
        "\n",
        "np.set_printoptions(suppress=True)\n",
        "\n",
        "np.column_stack([labels,predictions])"
      ],
      "metadata": {
        "colab": {
          "base_uri": "https://localhost:8080/"
        },
        "id": "MVU7LfOiAUGj",
        "outputId": "c36760cf-9df9-4b74-de0e-5e5549db01f6"
      },
      "execution_count": 15,
      "outputs": [
        {
          "output_type": "stream",
          "name": "stdout",
          "text": [
            "1/1 [==============================] - 0s 34ms/step\n"
          ]
        },
        {
          "output_type": "execute_result",
          "data": {
            "text/plain": [
              "array([[1.        , 0.99979693],\n",
              "       [0.        , 0.00000688],\n",
              "       [0.        , 0.00015933],\n",
              "       [0.        , 0.00639563]])"
            ]
          },
          "metadata": {},
          "execution_count": 15
        }
      ]
    },
    {
      "cell_type": "code",
      "source": [
        "# Apply threshold to convert probabilities to class labels\n",
        "predicted_classes = (predictions > 0.5).astype(int)\n",
        "print(\"\\n Predictions:\")\n",
        "print(predicted_classes)\n",
        "\n",
        "\n",
        "print(\"\\n inputs, labels, predicted %, predicted 1 or 0\")\n",
        "np.column_stack([inputs[:4], labels[:4],predictions,predicted_classes])"
      ],
      "metadata": {
        "colab": {
          "base_uri": "https://localhost:8080/"
        },
        "id": "5s2vYtOXBxYw",
        "outputId": "3a22407b-3d2b-4d43-95d1-7d33d49cbbb5"
      },
      "execution_count": 17,
      "outputs": [
        {
          "output_type": "stream",
          "name": "stdout",
          "text": [
            "\n",
            " Predictions:\n",
            "[[1]\n",
            " [0]\n",
            " [0]\n",
            " [0]]\n",
            "\n",
            " inputs, labels, predicted %, predicted 1 or 0\n"
          ]
        },
        {
          "output_type": "execute_result",
          "data": {
            "text/plain": [
              "array([[1.        , 1.        , 1.        , 0.99979693, 1.        ],\n",
              "       [0.        , 0.        , 0.        , 0.00000688, 0.        ],\n",
              "       [1.        , 0.        , 0.        , 0.00015933, 0.        ],\n",
              "       [0.        , 1.        , 0.        , 0.00639563, 0.        ]])"
            ]
          },
          "metadata": {},
          "execution_count": 17
        }
      ]
    },
    {
      "cell_type": "code",
      "source": [
        "(predictions > 0.5).astype(int)"
      ],
      "metadata": {
        "colab": {
          "base_uri": "https://localhost:8080/"
        },
        "id": "ASjQRQLsB8Z9",
        "outputId": "cbc6c60d-028c-4667-942c-37c68328d359"
      },
      "execution_count": 20,
      "outputs": [
        {
          "output_type": "execute_result",
          "data": {
            "text/plain": [
              "array([[1],\n",
              "       [0],\n",
              "       [0],\n",
              "       [0]])"
            ]
          },
          "metadata": {},
          "execution_count": 20
        }
      ]
    },
    {
      "cell_type": "code",
      "source": [
        "inputs[0]"
      ],
      "metadata": {
        "colab": {
          "base_uri": "https://localhost:8080/"
        },
        "id": "tGAZ2-DNBcSI",
        "outputId": "7ec247b7-be67-4a09-c521-1ebf929e60f7"
      },
      "execution_count": 16,
      "outputs": [
        {
          "output_type": "execute_result",
          "data": {
            "text/plain": [
              "array([1, 1])"
            ]
          },
          "metadata": {},
          "execution_count": 16
        }
      ]
    },
    {
      "cell_type": "code",
      "source": [
        "# remember when I say do 10,000 epochs\n",
        "\n",
        "# that means do linear algebra mutplication x and weights and bias\n",
        "\n",
        "# remeber than matrix multication can be broken apart and done simultaneoulsy\n",
        "# a cpu can only 1 thing at a time per core\n"
      ],
      "metadata": {
        "id": "8EQ0aMNg9GI4"
      },
      "execution_count": null,
      "outputs": []
    },
    {
      "cell_type": "markdown",
      "source": [
        "# Loss Function\n",
        "A loss function is a mathematical function used in machine learning to measure the difference between the predicted output of a model and the actual target values\n"
      ],
      "metadata": {
        "id": "TGtx3XOq7st4"
      }
    },
    {
      "cell_type": "code",
      "source": [
        "inputs[0]"
      ],
      "metadata": {
        "colab": {
          "base_uri": "https://localhost:8080/"
        },
        "id": "ccZL0IEO3SJQ",
        "outputId": "1de044b1-71be-4ae7-9955-45fa13c1b16c"
      },
      "execution_count": 7,
      "outputs": [
        {
          "output_type": "execute_result",
          "data": {
            "text/plain": [
              "array([1, 1])"
            ]
          },
          "metadata": {},
          "execution_count": 7
        }
      ]
    }
  ]
}