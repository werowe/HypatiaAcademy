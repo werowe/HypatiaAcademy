{
  "nbformat": 4,
  "nbformat_minor": 0,
  "metadata": {
    "colab": {
      "provenance": [],
      "authorship_tag": "ABX9TyOxZo7E/RLQvUANjwKfAyA8",
      "include_colab_link": true
    },
    "kernelspec": {
      "name": "python3",
      "display_name": "Python 3"
    },
    "language_info": {
      "name": "python"
    }
  },
  "cells": [
    {
      "cell_type": "markdown",
      "metadata": {
        "id": "view-in-github",
        "colab_type": "text"
      },
      "source": [
        "<a href=\"https://colab.research.google.com/github/werowe/HypatiaAcademy/blob/master/ml/scikit_learn_scipy_linear_regression.ipynb\" target=\"_parent\"><img src=\"https://colab.research.google.com/assets/colab-badge.svg\" alt=\"Open In Colab\"/></a>"
      ]
    },
    {
      "cell_type": "code",
      "source": [
        "import io\n",
        "import numpy as np\n",
        "\n",
        "a='''\n",
        "1.2\n",
        "1.4\n",
        "1.6\n",
        "2.1\n",
        "2.3\n",
        "3\n",
        "3.1\n",
        "3.3\n",
        "3.3\n",
        "3.8\n",
        "4\n",
        "4.1\n",
        "4.1\n",
        "4.2\n",
        "4.6\n",
        "5\n",
        "5.2\n",
        "5.4\n",
        "6\n",
        "6.1\n",
        "6.9\n",
        "7.2\n",
        "8\n",
        "8.3\n",
        "8.8\n",
        "9.1\n",
        "9.6\n",
        "9.7\n",
        "10.4\n",
        "10.6\n",
        "'''\n",
        "\n",
        "\n",
        "b='''\n",
        "39344\n",
        "46206\n",
        "37732\n",
        "43526\n",
        "39892\n",
        "56643\n",
        "60151\n",
        "54446\n",
        "64446\n",
        "57190\n",
        "63219\n",
        "55795\n",
        "56958\n",
        "57082\n",
        "61112\n",
        "67939\n",
        "66030\n",
        "83089\n",
        "81364\n",
        "93941\n",
        "91739\n",
        "98274\n",
        "101303\n",
        "113813\n",
        "109432\n",
        "105583\n",
        "116970\n",
        "112636\n",
        "122392\n",
        "121873\n",
        "'''\n",
        "\n",
        "\n",
        "x = np.genfromtxt(io.StringIO(a), dtype=np.float32, delimiter=\"\\n\")\n",
        "\n",
        "y = np.genfromtxt(io.StringIO(b), dtype=int)"
      ],
      "metadata": {
        "id": "jbgq3bLG6fip"
      },
      "execution_count": null,
      "outputs": []
    },
    {
      "cell_type": "markdown",
      "source": [
        "We have 30 independent variables x and 30 dependent variables y"
      ],
      "metadata": {
        "id": "D1qXGCuMUjgf"
      }
    },
    {
      "cell_type": "code",
      "source": [
        "# print side-by-side t0 make easier to see\n",
        "np.set_printoptions(suppress=True)\n",
        "\n",
        "print (\"\\t x \\t\\t y\")\n",
        "np.column_stack([x,y])"
      ],
      "metadata": {
        "colab": {
          "base_uri": "https://localhost:8080/"
        },
        "id": "cuIKKaiUgv7f",
        "outputId": "7240b2db-1b8d-4d6f-be2b-3eae2b562ae0"
      },
      "execution_count": null,
      "outputs": [
        {
          "output_type": "stream",
          "name": "stdout",
          "text": [
            "\t x \t\t y\n"
          ]
        },
        {
          "output_type": "execute_result",
          "data": {
            "text/plain": [
              "array([[     1.20000005,  39344.        ],\n",
              "       [     1.39999998,  46206.        ],\n",
              "       [     1.60000002,  37732.        ],\n",
              "       [     2.0999999 ,  43526.        ],\n",
              "       [     2.29999995,  39892.        ],\n",
              "       [     3.        ,  56643.        ],\n",
              "       [     3.0999999 ,  60151.        ],\n",
              "       [     3.29999995,  54446.        ],\n",
              "       [     3.29999995,  64446.        ],\n",
              "       [     3.79999995,  57190.        ],\n",
              "       [     4.        ,  63219.        ],\n",
              "       [     4.0999999 ,  55795.        ],\n",
              "       [     4.0999999 ,  56958.        ],\n",
              "       [     4.19999981,  57082.        ],\n",
              "       [     4.5999999 ,  61112.        ],\n",
              "       [     5.        ,  67939.        ],\n",
              "       [     5.19999981,  66030.        ],\n",
              "       [     5.4000001 ,  83089.        ],\n",
              "       [     6.        ,  81364.        ],\n",
              "       [     6.0999999 ,  93941.        ],\n",
              "       [     6.9000001 ,  91739.        ],\n",
              "       [     7.19999981,  98274.        ],\n",
              "       [     8.        , 101303.        ],\n",
              "       [     8.30000019, 113813.        ],\n",
              "       [     8.80000019, 109432.        ],\n",
              "       [     9.10000038, 105583.        ],\n",
              "       [     9.60000038, 116970.        ],\n",
              "       [     9.69999981, 112636.        ],\n",
              "       [    10.39999962, 122392.        ],\n",
              "       [    10.60000038, 121873.        ]])"
            ]
          },
          "metadata": {},
          "execution_count": 40
        }
      ]
    },
    {
      "cell_type": "code",
      "source": [
        "x.shape,y.shape"
      ],
      "metadata": {
        "colab": {
          "base_uri": "https://localhost:8080/"
        },
        "id": "QcwlHiHdg5wE",
        "outputId": "028f209d-44d9-4740-fef0-f8e4e296e537"
      },
      "execution_count": null,
      "outputs": [
        {
          "output_type": "execute_result",
          "data": {
            "text/plain": [
              "((30,), (30,))"
            ]
          },
          "metadata": {},
          "execution_count": 41
        }
      ]
    },
    {
      "cell_type": "markdown",
      "source": [
        "# Reshape input to fit Regression API\n",
        "\n",
        "Correct shape for regression (n_samples, n_features)\n",
        "\n",
        "x.reshape(-1, 1) converts a 1D array of shape (n,) into a 2D array of shape (n, 1) (a column vector).\n",
        "\n",
        "```\n",
        "reshape(-1, 1)\n",
        "```\n",
        "\n",
        "**-1** means second dimension should have one colums\n",
        "\n",
        "**1** Specifies that the second dimension (number of columns) should have exactly 1 column.\n"
      ],
      "metadata": {
        "id": "nOgtjwPfVPAa"
      }
    },
    {
      "cell_type": "code",
      "source": [
        "import matplotlib.pyplot as plt\n",
        "from sklearn import linear_model\n",
        "import numpy as np\n",
        "from sklearn.metrics import mean_squared_error, r2_score\n",
        "\n",
        "x=x.reshape(-1,1)\n",
        "\n",
        "print(x.shape)\n",
        "\n",
        "y=y.reshape(-1,1)\n",
        "\n",
        "print(y.shape)\n",
        "x"
      ],
      "metadata": {
        "id": "WUSs5AEdWDBk",
        "outputId": "2220dc4c-2206-41d3-ca77-857007eb194e",
        "colab": {
          "base_uri": "https://localhost:8080/"
        }
      },
      "execution_count": null,
      "outputs": [
        {
          "output_type": "stream",
          "name": "stdout",
          "text": [
            "(30, 1)\n",
            "(30, 1)\n"
          ]
        },
        {
          "output_type": "execute_result",
          "data": {
            "text/plain": [
              "array([[ 1.2],\n",
              "       [ 1.4],\n",
              "       [ 1.6],\n",
              "       [ 2.1],\n",
              "       [ 2.3],\n",
              "       [ 3. ],\n",
              "       [ 3.1],\n",
              "       [ 3.3],\n",
              "       [ 3.3],\n",
              "       [ 3.8],\n",
              "       [ 4. ],\n",
              "       [ 4.1],\n",
              "       [ 4.1],\n",
              "       [ 4.2],\n",
              "       [ 4.6],\n",
              "       [ 5. ],\n",
              "       [ 5.2],\n",
              "       [ 5.4],\n",
              "       [ 6. ],\n",
              "       [ 6.1],\n",
              "       [ 6.9],\n",
              "       [ 7.2],\n",
              "       [ 8. ],\n",
              "       [ 8.3],\n",
              "       [ 8.8],\n",
              "       [ 9.1],\n",
              "       [ 9.6],\n",
              "       [ 9.7],\n",
              "       [10.4],\n",
              "       [10.6]], dtype=float32)"
            ]
          },
          "metadata": {},
          "execution_count": 42
        }
      ]
    },
    {
      "cell_type": "code",
      "source": [
        "y"
      ],
      "metadata": {
        "id": "bqcoJYeIWYWm",
        "outputId": "db873776-1bf6-49dc-e3e2-0f02e664b416",
        "colab": {
          "base_uri": "https://localhost:8080/"
        }
      },
      "execution_count": null,
      "outputs": [
        {
          "output_type": "execute_result",
          "data": {
            "text/plain": [
              "array([[ 39344],\n",
              "       [ 46206],\n",
              "       [ 37732],\n",
              "       [ 43526],\n",
              "       [ 39892],\n",
              "       [ 56643],\n",
              "       [ 60151],\n",
              "       [ 54446],\n",
              "       [ 64446],\n",
              "       [ 57190],\n",
              "       [ 63219],\n",
              "       [ 55795],\n",
              "       [ 56958],\n",
              "       [ 57082],\n",
              "       [ 61112],\n",
              "       [ 67939],\n",
              "       [ 66030],\n",
              "       [ 83089],\n",
              "       [ 81364],\n",
              "       [ 93941],\n",
              "       [ 91739],\n",
              "       [ 98274],\n",
              "       [101303],\n",
              "       [113813],\n",
              "       [109432],\n",
              "       [105583],\n",
              "       [116970],\n",
              "       [112636],\n",
              "       [122392],\n",
              "       [121873]])"
            ]
          },
          "metadata": {},
          "execution_count": 43
        }
      ]
    },
    {
      "cell_type": "code",
      "execution_count": null,
      "metadata": {
        "colab": {
          "base_uri": "https://localhost:8080/"
        },
        "id": "Ed2pjHUe6DBN",
        "outputId": "5977ca8f-6e8e-4641-c3d2-dcdaad1876fc"
      },
      "outputs": [
        {
          "output_type": "stream",
          "name": "stdout",
          "text": [
            "coefficient  [9449.962]\n",
            "intercept  [24848.21]\n"
          ]
        }
      ],
      "source": [
        "reg = linear_model.LinearRegression(fit_intercept=True)\n",
        "\n",
        "reg.fit(x,y)\n",
        "\n",
        "print(\"coefficient \", reg.coef_[0])\n",
        "print(\"intercept \", reg.intercept_)\n",
        "\n"
      ]
    },
    {
      "cell_type": "code",
      "source": [
        "preds = reg.predict(x)\n",
        "\n",
        "np.column_stack([x,y,preds])"
      ],
      "metadata": {
        "id": "LQzs6wFfXP3T",
        "outputId": "f049c163-b8bc-426d-c7b0-992d0e4ccb24",
        "colab": {
          "base_uri": "https://localhost:8080/"
        }
      },
      "execution_count": null,
      "outputs": [
        {
          "output_type": "execute_result",
          "data": {
            "text/plain": [
              "array([[     1.20000005,  39344.        ,  36188.1640625 ],\n",
              "       [     1.39999998,  46206.        ,  38078.15625   ],\n",
              "       [     1.60000002,  37732.        ,  39968.1484375 ],\n",
              "       [     2.0999999 ,  43526.        ,  44693.1328125 ],\n",
              "       [     2.29999995,  39892.        ,  46583.125     ],\n",
              "       [     3.        ,  56643.        ,  53198.09765625],\n",
              "       [     3.0999999 ,  60151.        ,  54143.09375   ],\n",
              "       [     3.29999995,  54446.        ,  56033.0859375 ],\n",
              "       [     3.29999995,  64446.        ,  56033.0859375 ],\n",
              "       [     3.79999995,  57190.        ,  60758.06640625],\n",
              "       [     4.        ,  63219.        ,  62648.05859375],\n",
              "       [     4.0999999 ,  55795.        ,  63593.0546875 ],\n",
              "       [     4.0999999 ,  56958.        ,  63593.0546875 ],\n",
              "       [     4.19999981,  57082.        ,  64538.05078125],\n",
              "       [     4.5999999 ,  61112.        ,  68318.03125   ],\n",
              "       [     5.        ,  67939.        ,  72098.015625  ],\n",
              "       [     5.19999981,  66030.        ,  73988.015625  ],\n",
              "       [     5.4000001 ,  83089.        ,  75878.0078125 ],\n",
              "       [     6.        ,  81364.        ,  81547.984375  ],\n",
              "       [     6.0999999 ,  93941.        ,  82492.9765625 ],\n",
              "       [     6.9000001 ,  91739.        ,  90052.953125  ],\n",
              "       [     7.19999981,  98274.        ,  92887.9375    ],\n",
              "       [     8.        , 101303.        , 100447.90625   ],\n",
              "       [     8.30000019, 113813.        , 103282.8984375 ],\n",
              "       [     8.80000019, 109432.        , 108007.875     ],\n",
              "       [     9.10000038, 105583.        , 110842.8671875 ],\n",
              "       [     9.60000038, 116970.        , 115567.8515625 ],\n",
              "       [     9.69999981, 112636.        , 116512.8359375 ],\n",
              "       [    10.39999962, 122392.        , 123127.8125    ],\n",
              "       [    10.60000038, 121873.        , 125017.8125    ]])"
            ]
          },
          "metadata": {},
          "execution_count": 45
        }
      ]
    },
    {
      "cell_type": "markdown",
      "source": [
        "## R-squared score (R²)\n",
        "also called the **coefficient of determination**, explains the variance in the dependent (target) variable. It provides insight into the goodness-of-fit of the model.\n",
        "\n",
        "*\tR² = 1 : The model perfectly predicts the target variable, meaning all data points lie exactly on the regression line.\n",
        "\n",
        "*\tR² = 0: The model explains none of the variance in the target variable; it performs no better than simply predicting the mean of the target variable.\n",
        "\n",
        "*\tR² < 0: The model performs worse than predicting the mean, indicating a poor fit.\n",
        "\n",
        "## Mean Square Error**\n",
        "\n",
        "$\\text{MSE} = \\frac{1}{n} \\sum_{i=1}^{n} (y_i - \\hat{y}_i)^2$\n",
        "\n",
        "* $\\hat{y}_i$ : prediction\n",
        "* $y_i$ : observation\n",
        "\n"
      ],
      "metadata": {
        "id": "t6aOFg_BYi39"
      }
    },
    {
      "cell_type": "code",
      "source": [
        "\n",
        "mse = mean_squared_error(y, preds)\n",
        "\n",
        "r2 = r2_score(y, preds)\n",
        "\n",
        "# Print metrics\n",
        "print(f\"Mean Squared Error (MSE): {mse:.4f}\")\n",
        "\n",
        "print(f\"R-squared (R²): {r2:.4f}\")"
      ],
      "metadata": {
        "id": "b2YEdAf9XKTH",
        "outputId": "7c90e36c-c682-4294-8e5a-3a2733e0d32c",
        "colab": {
          "base_uri": "https://localhost:8080/"
        }
      },
      "execution_count": null,
      "outputs": [
        {
          "output_type": "stream",
          "name": "stdout",
          "text": [
            "Mean Squared Error (MSE): 31270950.0000\n",
            "R-squared (R²): 0.9570\n"
          ]
        }
      ]
    },
    {
      "cell_type": "markdown",
      "source": [
        "#Use Scipy\n",
        "\n",
        "\n",
        "The shape of X should be `(n_samples, n_features)`, where:\n",
        "\n",
        "* **n_samples** is the number of data points (30 in this case).\n",
        "* **n_features** is the number of features (2: the intercept term and the independent variable `x`).\n",
        "\n",
        "\n",
        "```\n",
        "\n",
        "X = np.vstack([np.ones_like(x), x]).T\n",
        "```\n"
      ],
      "metadata": {
        "id": "HetRTLhQh0ft"
      }
    },
    {
      "cell_type": "code",
      "source": [],
      "metadata": {
        "id": "zWbowde7ZoOt"
      },
      "execution_count": null,
      "outputs": []
    },
    {
      "cell_type": "code",
      "source": [
        "import numpy as np\n",
        "import matplotlib.pyplot as plt\n",
        "from scipy.linalg import lstsq\n",
        "\n",
        "x = np.genfromtxt(io.StringIO(a), dtype=np.float32, delimiter=\"\\n\")\n",
        "\n",
        "y = np.genfromtxt(io.StringIO(b), dtype=int)\n",
        "\n",
        "X = np.vstack([np.ones_like(x), x])\n",
        "\n",
        "print(\"shape X\", X.shape)\n",
        "\n",
        "X"
      ],
      "metadata": {
        "colab": {
          "base_uri": "https://localhost:8080/"
        },
        "id": "a3OIVBUaBzH0",
        "outputId": "d348576d-449f-49b4-d06b-f4eb9e9b34c8"
      },
      "execution_count": null,
      "outputs": [
        {
          "output_type": "stream",
          "name": "stdout",
          "text": [
            "shape X (2, 30)\n"
          ]
        },
        {
          "output_type": "execute_result",
          "data": {
            "text/plain": [
              "array([[ 1. ,  1. ,  1. ,  1. ,  1. ,  1. ,  1. ,  1. ,  1. ,  1. ,  1. ,\n",
              "         1. ,  1. ,  1. ,  1. ,  1. ,  1. ,  1. ,  1. ,  1. ,  1. ,  1. ,\n",
              "         1. ,  1. ,  1. ,  1. ,  1. ,  1. ,  1. ,  1. ],\n",
              "       [ 1.2,  1.4,  1.6,  2.1,  2.3,  3. ,  3.1,  3.3,  3.3,  3.8,  4. ,\n",
              "         4.1,  4.1,  4.2,  4.6,  5. ,  5.2,  5.4,  6. ,  6.1,  6.9,  7.2,\n",
              "         8. ,  8.3,  8.8,  9.1,  9.6,  9.7, 10.4, 10.6]], dtype=float32)"
            ]
          },
          "metadata": {},
          "execution_count": 47
        }
      ]
    },
    {
      "cell_type": "code",
      "source": [
        "# transpose.  swap rows for columns\n",
        "\n",
        "X = X.T\n",
        "X"
      ],
      "metadata": {
        "id": "FXKQ403hZqFn",
        "outputId": "9a1c9de8-4751-4910-a2ff-c3678981e798",
        "colab": {
          "base_uri": "https://localhost:8080/"
        }
      },
      "execution_count": null,
      "outputs": [
        {
          "output_type": "execute_result",
          "data": {
            "text/plain": [
              "array([[ 1. ,  1.2],\n",
              "       [ 1. ,  1.4],\n",
              "       [ 1. ,  1.6],\n",
              "       [ 1. ,  2.1],\n",
              "       [ 1. ,  2.3],\n",
              "       [ 1. ,  3. ],\n",
              "       [ 1. ,  3.1],\n",
              "       [ 1. ,  3.3],\n",
              "       [ 1. ,  3.3],\n",
              "       [ 1. ,  3.8],\n",
              "       [ 1. ,  4. ],\n",
              "       [ 1. ,  4.1],\n",
              "       [ 1. ,  4.1],\n",
              "       [ 1. ,  4.2],\n",
              "       [ 1. ,  4.6],\n",
              "       [ 1. ,  5. ],\n",
              "       [ 1. ,  5.2],\n",
              "       [ 1. ,  5.4],\n",
              "       [ 1. ,  6. ],\n",
              "       [ 1. ,  6.1],\n",
              "       [ 1. ,  6.9],\n",
              "       [ 1. ,  7.2],\n",
              "       [ 1. ,  8. ],\n",
              "       [ 1. ,  8.3],\n",
              "       [ 1. ,  8.8],\n",
              "       [ 1. ,  9.1],\n",
              "       [ 1. ,  9.6],\n",
              "       [ 1. ,  9.7],\n",
              "       [ 1. , 10.4],\n",
              "       [ 1. , 10.6]], dtype=float32)"
            ]
          },
          "metadata": {},
          "execution_count": 48
        }
      ]
    },
    {
      "cell_type": "code",
      "source": [
        "# run linear regression\n",
        "\n",
        "coeffs, residuals, rank, s = lstsq(X, y)\n",
        "\n",
        "\n",
        "\n",
        "print(\"coefficient \", coeffs[1])\n",
        "print(\"intercept \", coeffs[0])\n"
      ],
      "metadata": {
        "id": "g747QsorZfyY",
        "outputId": "cd40828c-2fb2-4458-cbeb-5e055ac26302",
        "colab": {
          "base_uri": "https://localhost:8080/"
        }
      },
      "execution_count": null,
      "outputs": [
        {
          "output_type": "stream",
          "name": "stdout",
          "text": [
            "coefficient  9449.962153919238\n",
            "intercept  24848.20491851149\n"
          ]
        }
      ]
    },
    {
      "cell_type": "markdown",
      "source": [
        "\n",
        "\n",
        "**Residuals**\n",
        "So it's almost the same thing but not exactly as it does not use a single coefficient but is the absolute difference between every predicted and observated value\n",
        "\n",
        "$\\text{Residuals} = ||b - Ax||^2 = \\sum_{i=1}^{m} (b_i - (Ax)_i)^2$\n",
        "\n",
        "* $b_i$\t: Observed values (target vector).\n",
        "* $(Ax)_i$\t: Predicted values from the least-squares solution.\n",
        "* $m$\t: Number of observations\n",
        "* $A$ is `x`\n",
        "* $x$ is `coeffs`"
      ],
      "metadata": {
        "id": "9mD2v6wrcCjB"
      }
    },
    {
      "cell_type": "code",
      "source": [
        "\n",
        "print(f\"Residuals: {residuals:,.2f}\")\n"
      ],
      "metadata": {
        "id": "FmTxYnYVaELi",
        "outputId": "1ae898c8-39e1-40d6-eb2e-312d5411b2de",
        "colab": {
          "base_uri": "https://localhost:8080/"
        }
      },
      "execution_count": null,
      "outputs": [
        {
          "output_type": "stream",
          "name": "stdout",
          "text": [
            "Residuals: 938,128,476.68\n"
          ]
        }
      ]
    }
  ]
}