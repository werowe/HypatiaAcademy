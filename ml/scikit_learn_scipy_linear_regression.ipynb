{
  "nbformat": 4,
  "nbformat_minor": 0,
  "metadata": {
    "colab": {
      "provenance": [],
      "authorship_tag": "ABX9TyNAvGxxMb+xxcEBJJTkH8Kr",
      "include_colab_link": true
    },
    "kernelspec": {
      "name": "python3",
      "display_name": "Python 3"
    },
    "language_info": {
      "name": "python"
    }
  },
  "cells": [
    {
      "cell_type": "markdown",
      "metadata": {
        "id": "view-in-github",
        "colab_type": "text"
      },
      "source": [
        "<a href=\"https://colab.research.google.com/github/werowe/HypatiaAcademy/blob/master/ml/scikit_learn_scipy_linear_regression.ipynb\" target=\"_parent\"><img src=\"https://colab.research.google.com/assets/colab-badge.svg\" alt=\"Open In Colab\"/></a>"
      ]
    },
    {
      "cell_type": "code",
      "source": [
        "import io\n",
        "import numpy as np\n",
        "\n",
        "a='''\n",
        "1.2\n",
        "1.4\n",
        "1.6\n",
        "2.1\n",
        "2.3\n",
        "3\n",
        "3.1\n",
        "3.3\n",
        "3.3\n",
        "3.8\n",
        "4\n",
        "4.1\n",
        "4.1\n",
        "4.2\n",
        "4.6\n",
        "5\n",
        "5.2\n",
        "5.4\n",
        "6\n",
        "6.1\n",
        "6.9\n",
        "7.2\n",
        "8\n",
        "8.3\n",
        "8.8\n",
        "9.1\n",
        "9.6\n",
        "9.7\n",
        "10.4\n",
        "10.6\n",
        "'''\n",
        "\n",
        "\n",
        "b='''\n",
        "39344\n",
        "46206\n",
        "37732\n",
        "43526\n",
        "39892\n",
        "56643\n",
        "60151\n",
        "54446\n",
        "64446\n",
        "57190\n",
        "63219\n",
        "55795\n",
        "56958\n",
        "57082\n",
        "61112\n",
        "67939\n",
        "66030\n",
        "83089\n",
        "81364\n",
        "93941\n",
        "91739\n",
        "98274\n",
        "101303\n",
        "113813\n",
        "109432\n",
        "105583\n",
        "116970\n",
        "112636\n",
        "122392\n",
        "121873\n",
        "'''\n",
        "\n",
        "\n",
        "\n",
        "x = np.genfromtxt(io.StringIO(a), dtype=np.float32, delimiter=\"\\n\")\n",
        "\n",
        "y = np.genfromtxt(io.StringIO(b), dtype=int)"
      ],
      "metadata": {
        "id": "jbgq3bLG6fip"
      },
      "execution_count": null,
      "outputs": []
    },
    {
      "cell_type": "code",
      "source": [
        "x.shape,y.shape"
      ],
      "metadata": {
        "colab": {
          "base_uri": "https://localhost:8080/"
        },
        "id": "QcwlHiHdg5wE",
        "outputId": "62f6bf78-58dc-4093-ca22-d54f94758672"
      },
      "execution_count": null,
      "outputs": [
        {
          "output_type": "execute_result",
          "data": {
            "text/plain": [
              "((30,), (30,))"
            ]
          },
          "metadata": {},
          "execution_count": 46
        }
      ]
    },
    {
      "cell_type": "code",
      "source": [
        "x,y"
      ],
      "metadata": {
        "colab": {
          "base_uri": "https://localhost:8080/"
        },
        "id": "cuIKKaiUgv7f",
        "outputId": "701ef2ce-cc0a-4c17-8c33-ce48b3ab8ad0"
      },
      "execution_count": null,
      "outputs": [
        {
          "output_type": "execute_result",
          "data": {
            "text/plain": [
              "(array([ 1.2,  1.4,  1.6,  2.1,  2.3,  3. ,  3.1,  3.3,  3.3,  3.8,  4. ,\n",
              "         4.1,  4.1,  4.2,  4.6,  5. ,  5.2,  5.4,  6. ,  6.1,  6.9,  7.2,\n",
              "         8. ,  8.3,  8.8,  9.1,  9.6,  9.7, 10.4, 10.6], dtype=float32),\n",
              " array([ 39344,  46206,  37732,  43526,  39892,  56643,  60151,  54446,\n",
              "         64446,  57190,  63219,  55795,  56958,  57082,  61112,  67939,\n",
              "         66030,  83089,  81364,  93941,  91739,  98274, 101303, 113813,\n",
              "        109432, 105583, 116970, 112636, 122392, 121873]))"
            ]
          },
          "metadata": {},
          "execution_count": 47
        }
      ]
    },
    {
      "cell_type": "code",
      "execution_count": null,
      "metadata": {
        "colab": {
          "base_uri": "https://localhost:8080/"
        },
        "id": "Ed2pjHUe6DBN",
        "outputId": "72834ec5-8bdb-47d2-e2e5-34d3e6fffba4"
      },
      "outputs": [
        {
          "output_type": "stream",
          "name": "stdout",
          "text": [
            "coefficient  [9449.962]\n",
            "intercept  [24848.21]\n"
          ]
        }
      ],
      "source": [
        "import matplotlib.pyplot as plt\n",
        "from sklearn import linear_model\n",
        "import numpy as np\n",
        "from sklearn.metrics import mean_squared_error, r2_score\n",
        "\n",
        "\n",
        "\n",
        "reg = linear_model.LinearRegression(fit_intercept=True)\n",
        "\n",
        "# Correct shape for regression (n_samples, n_features)\n",
        "\n",
        "#The `x.reshape(-1, 1)` operation in NumPy reshapes a 1D array into a 2D column vector. Here’s a detailed explanation:\n",
        "#What It Does\n",
        "#\t•\t`reshape`: Changes the shape of an array without altering its data.\n",
        "#\t•\t`-1`: This is a placeholder that tells NumPy to automatically calculate the appropriate size for this dimension based on the array’s total size and the other specified dimensions.\n",
        "#\t•\t`1`: Specifies that the second dimension (number of columns) should have exactly 1 column.\n",
        "#So, `x.reshape(-1, 1)` converts a 1D array of shape `(n,)` into a 2D array of shape `(n, 1)` (a column vector).\n",
        "#x = x.reshape(-1,1)\n",
        "#y = y.reshape(-1,1)\n",
        "\n",
        "reg.fit(x,y)\n",
        "\n",
        "\n",
        "\n",
        "\n",
        "print(\"coefficient \", reg.coef_[0])\n",
        "print(\"intercept \", reg.intercept_)\n"
      ]
    },
    {
      "cell_type": "markdown",
      "source": [
        "#Use scipy now"
      ],
      "metadata": {
        "id": "HetRTLhQh0ft"
      }
    },
    {
      "cell_type": "code",
      "source": [
        "import numpy as np\n",
        "import matplotlib.pyplot as plt\n",
        "from scipy.linalg import lstsq\n",
        "\n",
        "x = np.genfromtxt(io.StringIO(a), dtype=np.float32, delimiter=\"\\n\")\n",
        "\n",
        "y = np.genfromtxt(io.StringIO(b), dtype=int)\n",
        "\n",
        "\n",
        "#The design matrix `X`. The shape of `X` should be `(n_samples, n_features)`, where:\n",
        "#\t•\t`n_samples` is the number of data points (30 in this case).\n",
        "#\t•\t`n_features` is the number of features (2: the intercept term and the independent variable `x`).\n",
        "\n",
        "\n",
        "X = np.vstack([np.ones_like(x), x]).T\n",
        "\n",
        "# Generate the fitted curve\n",
        "coeffs, residuals, rank, s = lstsq(X, y)\n",
        "\n",
        "\n",
        "\n",
        "print(\"coefficient \", coeffs[1])\n",
        "print(\"intercept \", coeffs[0])\n"
      ],
      "metadata": {
        "colab": {
          "base_uri": "https://localhost:8080/"
        },
        "id": "a3OIVBUaBzH0",
        "outputId": "48fa9cae-40d5-435e-8ec9-76b21ba6157e"
      },
      "execution_count": null,
      "outputs": [
        {
          "output_type": "stream",
          "name": "stdout",
          "text": [
            "coefficient  9449.962153919238\n",
            "intercept  24848.20491851149\n"
          ]
        }
      ]
    }
  ]
}