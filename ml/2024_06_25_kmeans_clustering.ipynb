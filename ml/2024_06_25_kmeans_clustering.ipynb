{
  "nbformat": 4,
  "nbformat_minor": 0,
  "metadata": {
    "colab": {
      "provenance": [],
      "authorship_tag": "ABX9TyNJW9jg1ILHOeikY1ZhEF/Y",
      "include_colab_link": true
    },
    "kernelspec": {
      "name": "python3",
      "display_name": "Python 3"
    },
    "language_info": {
      "name": "python"
    }
  },
  "cells": [
    {
      "cell_type": "markdown",
      "metadata": {
        "id": "view-in-github",
        "colab_type": "text"
      },
      "source": [
        "<a href=\"https://colab.research.google.com/github/werowe/HypatiaAcademy/blob/master/ml/2024_06_25_kmeans_clustering.ipynb\" target=\"_parent\"><img src=\"https://colab.research.google.com/assets/colab-badge.svg\" alt=\"Open In Colab\"/></a>"
      ]
    },
    {
      "cell_type": "markdown",
      "source": [
        "# KMeans Clustering\n",
        "\n",
        "K-means clustering is an example of a model that is not trained. So, there is no training set, which is\n",
        "called an unsupervised model, meaning without labels. K-means clustering is a type of classification\n",
        "problem. The goal is to put data into groups by something they have in common, meaning put them in\n",
        "clusters. Example use cases are:\n",
        "\n",
        "• Recommending videos on TikTok or YouTube\n",
        "• High credit risk borrowers\n",
        "• popular social media influencers\n",
        "• finding spambots\n",
        "\n",
        "\n",
        "\n",
        "\n",
        "![](https://raw.githubusercontent.com/werowe/HypatiaAcademy/master/images/kmeans-clustering.png)\n",
        "\n",
        "\n",
        "\n",
        "$$\\huge \\sqrt{(a - b)^2}$$\n",
        "\n",
        "\n",
        "\n",
        "![](https://raw.githubusercontent.com/werowe/HypatiaAcademy/master/images/distance-between-points.png)\n",
        "\n",
        "\n",
        "$$\\huge a = (x1,y1)$$\n",
        "$$\\huge b = (x2, y2)$$\n",
        "\n",
        "Pythagorean theorem\n",
        "\n",
        "$$\\huge a^2 + b^2 = c^2$$\n",
        "\n",
        "\n",
        "$$\\huge height = y2 - y1$$\n",
        "\n",
        "$$\\huge base = x2 -  x1 $$\n",
        "\n",
        "length of distance ab:\n",
        "\n",
        "$$\\huge \\sqrt{(y2 - y1)^2 + (x2 - x1)^2}$$"
      ],
      "metadata": {
        "id": "ifPevlNjoesl"
      }
    },
    {
      "cell_type": "code",
      "execution_count": 57,
      "metadata": {
        "id": "uVTnnIdZoXld"
      },
      "outputs": [],
      "source": [
        "# use kmeans clustering algorithm\n",
        "\n",
        "# from scikit-learn\n",
        "\n",
        "\n",
        "\n",
        "import numpy as np\n",
        "import matplotlib.pyplot as plt\n",
        "\n",
        "# use KMeans\n",
        "\n",
        "from sklearn.cluster import KMeans\n",
        "\n",
        "# make up some data\n",
        "\n",
        "from sklearn.datasets import make_blobs\n",
        "\n",
        "# I want 100 data points grouped into 3 groups.  the center means the center of the group\n",
        "\n",
        "# notice here that this will creat x-y coordinates in the object called X\n",
        "\n",
        "# but I also have y.  before when did predictive models y was feature or the item to predict, like grades of diabetes\n",
        "\n",
        "# we add y when we want to calculate accuracy.  it's not necessary.  the idea is to put put the data\n",
        "# in X into 3 groups\n",
        "\n",
        "\n",
        "# this just made up data.\n",
        "\n",
        "#X , y = make_blobs(n_samples=100, centers=3, random_state=0)\n",
        "\n",
        "\n",
        "# here we don't use y.  for your homework don't use y.  it's confusing.\n",
        "\n",
        "X  = make_blobs(n_samples=100, centers=3, random_state=0)\n",
        "\n",
        "# on purpose.  this made up data has incorrect cluster values.  or incorrect y values\n",
        "\n",
        "# without that we have nothing to compare it to.  so we would have to find other ways to check\n",
        "# the accuracy\n"
      ]
    },
    {
      "cell_type": "code",
      "source": [
        "X"
      ],
      "metadata": {
        "colab": {
          "base_uri": "https://localhost:8080/"
        },
        "id": "EboCRle58R9E",
        "outputId": "d775a425-80f9-4244-b85b-2090d40ad42f"
      },
      "execution_count": 58,
      "outputs": [
        {
          "output_type": "execute_result",
          "data": {
            "text/plain": [
              "(array([[ 2.63185834,  0.6893649 ],\n",
              "        [ 0.08080352,  4.69068983],\n",
              "        [ 3.00251949,  0.74265357],\n",
              "        [-0.63762777,  4.09104705],\n",
              "        [-0.07228289,  2.88376939],\n",
              "        [ 0.62835793,  4.4601363 ],\n",
              "        [-2.67437267,  2.48006222],\n",
              "        [-0.57748321,  3.0054335 ],\n",
              "        [ 2.72756228,  1.3051255 ],\n",
              "        [ 0.34194798,  3.94104616],\n",
              "        [ 1.70536064,  4.43277024],\n",
              "        [ 2.20656076,  5.50616718],\n",
              "        [ 2.52092996, -0.63858003],\n",
              "        [ 2.50904929,  5.7731461 ],\n",
              "        [-2.27165884,  2.09144372],\n",
              "        [ 3.92282648,  1.80370832],\n",
              "        [-1.62535654,  2.25440397],\n",
              "        [ 0.1631238 ,  2.57750473],\n",
              "        [-1.59514562,  4.63122498],\n",
              "        [-2.63128735,  2.97004734],\n",
              "        [-2.17052242,  0.69447911],\n",
              "        [-1.56618683,  1.74978876],\n",
              "        [-0.88677249,  1.30092622],\n",
              "        [ 0.08848433,  2.32299086],\n",
              "        [ 0.9845149 ,  1.95211539],\n",
              "        [ 2.18217961,  1.29965302],\n",
              "        [ 1.28535145,  1.43691285],\n",
              "        [ 0.89011768,  1.79849015],\n",
              "        [-1.89608585,  2.67850308],\n",
              "        [-0.75511346,  3.74138642],\n",
              "        [ 1.12031365,  5.75806083],\n",
              "        [ 3.54351972,  2.79355284],\n",
              "        [ 1.64164854,  0.15020885],\n",
              "        [ 2.47034915,  4.09862906],\n",
              "        [-1.98243652,  2.93536142],\n",
              "        [ 0.85624076,  3.86236175],\n",
              "        [ 0.87305123,  4.71438583],\n",
              "        [ 1.38093486,  0.92949422],\n",
              "        [ 2.41163392,  1.60423683],\n",
              "        [-2.26646701,  4.46089686],\n",
              "        [-0.40026809,  1.83795075],\n",
              "        [ 2.45760916,  0.21285357],\n",
              "        [ 2.3535057 ,  2.22404956],\n",
              "        [-0.73000011,  6.25456272],\n",
              "        [ 1.1312175 ,  4.68194985],\n",
              "        [ 0.4666179 ,  3.86571303],\n",
              "        [ 1.18447037,  0.318814  ],\n",
              "        [ 1.36069966,  0.74802912],\n",
              "        [-2.43972624,  4.03489855],\n",
              "        [-1.00362735,  2.74633593],\n",
              "        [ 0.63633194,  4.25441021],\n",
              "        [ 1.41942144,  1.57409695],\n",
              "        [ 0.06897171,  4.35573272],\n",
              "        [ 2.2635425 ,  1.8743027 ],\n",
              "        [-2.02493646,  4.84741432],\n",
              "        [-0.6700734 ,  2.26685667],\n",
              "        [ 3.23404709,  0.71773882],\n",
              "        [ 2.06576754,  2.68353415],\n",
              "        [ 1.0220286 ,  4.11660348],\n",
              "        [ 3.93841822, -0.4500954 ],\n",
              "        [ 0.78478252,  1.86706037],\n",
              "        [-2.81976092,  3.18493313],\n",
              "        [-2.33031368,  2.22833248],\n",
              "        [-1.36023052,  3.5529137 ],\n",
              "        [-3.01816161,  3.35727396],\n",
              "        [ 1.65209057,  2.12010873],\n",
              "        [ 1.7373078 ,  4.42546234],\n",
              "        [-2.52711936,  1.37311116],\n",
              "        [ 1.74371499,  0.953829  ],\n",
              "        [ 1.9263585 ,  4.15243012],\n",
              "        [-0.60604519,  3.23660991],\n",
              "        [ 3.2460247 ,  2.84942165],\n",
              "        [-1.57671974,  4.95740592],\n",
              "        [ 3.97820955,  2.37817845],\n",
              "        [ 1.19404184,  2.80772861],\n",
              "        [ 2.11567076,  3.06896151],\n",
              "        [ 1.15369622,  3.90200639],\n",
              "        [ 0.30380963,  3.94423417],\n",
              "        [-1.88089792,  1.54293097],\n",
              "        [ 2.43169305, -0.20173713],\n",
              "        [-0.27652528,  5.08127768],\n",
              "        [ 1.0427873 ,  4.60625923],\n",
              "        [ 1.78726415,  1.70012006],\n",
              "        [-0.65392827,  4.76656958],\n",
              "        [ 0.88214412,  2.84128485],\n",
              "        [ 1.42013331,  4.63746165],\n",
              "        [ 0.94808785,  4.7321192 ],\n",
              "        [ 0.46546494,  3.12315514],\n",
              "        [ 2.66934689,  1.81987033],\n",
              "        [ 0.58894326,  4.00148458],\n",
              "        [ 1.62011397,  2.74692739],\n",
              "        [ 2.45127423, -0.19539785],\n",
              "        [-0.42724442,  3.57314599],\n",
              "        [-2.56114686,  3.59947678],\n",
              "        [-2.84281142,  2.45629766],\n",
              "        [-0.33887422,  3.23482487],\n",
              "        [ 1.28933778,  3.44969159],\n",
              "        [ 1.84070628,  3.56162231],\n",
              "        [-0.90167256,  1.31582461],\n",
              "        [-2.75233953,  3.76224524]]),\n",
              " array([1, 0, 1, 0, 0, 0, 2, 2, 1, 0, 0, 0, 1, 0, 2, 1, 2, 0, 2, 2, 2, 2,\n",
              "        2, 0, 1, 1, 1, 1, 2, 2, 0, 1, 1, 0, 2, 2, 0, 1, 1, 2, 2, 1, 1, 0,\n",
              "        0, 0, 1, 1, 2, 2, 2, 1, 0, 1, 2, 2, 1, 1, 0, 1, 1, 2, 2, 2, 2, 1,\n",
              "        0, 2, 1, 0, 2, 0, 0, 1, 1, 0, 0, 0, 2, 1, 0, 0, 1, 0, 1, 0, 0, 0,\n",
              "        1, 0, 1, 1, 2, 2, 2, 2, 0, 0, 2, 2]))"
            ]
          },
          "metadata": {},
          "execution_count": 58
        }
      ]
    },
    {
      "cell_type": "markdown",
      "source": [
        "This data is unlabeled.\n",
        "\n",
        "when we did diabetes we had:\n",
        "\n",
        "\n",
        "X (features, glucose, BMI)\n",
        "\n",
        "y (1 or 0, diabetic prone or not)\n",
        "\n",
        "classification is not a predictive model.\n",
        "\n",
        "instead if just puts similar things together.  we call these **clusters**\n",
        "\n",
        "\n",
        "use:\n",
        "\n",
        "so if you are a banl and you want to make $$$.  you try to identify who is rich, who does not pay their loans,\n",
        "\n",
        "\n",
        "then you do advertising promotion to the safest richest people\n",
        "\n",
        "\n"
      ],
      "metadata": {
        "id": "PgUcTzYBxYzA"
      }
    },
    {
      "cell_type": "markdown",
      "source": [
        "**Do we need Y?**\n",
        "\n",
        "The y values generated by make_blobs represent the true labels of the clusters and are typically used for evaluating the performance of clustering algorithms. However, the KMeans algorithm itself does not require the y values to calculate the clusters. KMeans is an unsupervised learning algorithm, meaning it only needs the input data X to find the clusters.\n",
        "\n",
        "The y values are useful if you want to assess the quality of the clustering using metrics such as the Adjusted Rand Index (ARI) or Normalized Mutual Information (NMI). These metrics compare the clusters found by the algorithm to the true clusters."
      ],
      "metadata": {
        "id": "0w_1s_KeyS0V"
      }
    },
    {
      "cell_type": "markdown",
      "source": [
        "**Gap Statistic**\n",
        "\n",
        "The Gap Statistic compares the total within-cluster variation for different numbers of clusters with their expected values under null reference distribution of the data. The optimal number of clusters is the one that maximizes the gap statistic."
      ],
      "metadata": {
        "id": "50IujFyvzXug"
      }
    },
    {
      "cell_type": "code",
      "source": [
        " X.shape"
      ],
      "metadata": {
        "colab": {
          "base_uri": "https://localhost:8080/"
        },
        "id": "WvPL_OuesujD",
        "outputId": "aa8336d4-5108-4b37-8080-e1d8b3a13665"
      },
      "execution_count": 12,
      "outputs": [
        {
          "output_type": "execute_result",
          "data": {
            "text/plain": [
              "(100, 2)"
            ]
          },
          "metadata": {},
          "execution_count": 12
        }
      ]
    },
    {
      "cell_type": "code",
      "source": [
        "y"
      ],
      "metadata": {
        "colab": {
          "base_uri": "https://localhost:8080/"
        },
        "id": "pyuTZBwizd2t",
        "outputId": "3ccb8de4-9473-49f4-dee9-f94fdc5d0559"
      },
      "execution_count": 13,
      "outputs": [
        {
          "output_type": "execute_result",
          "data": {
            "text/plain": [
              "array([1, 0, 1, 0, 0, 0, 2, 2, 1, 0, 0, 0, 1, 0, 2, 1, 2, 0, 2, 2, 2, 2,\n",
              "       2, 0, 1, 1, 1, 1, 2, 2, 0, 1, 1, 0, 2, 2, 0, 1, 1, 2, 2, 1, 1, 0,\n",
              "       0, 0, 1, 1, 2, 2, 2, 1, 0, 1, 2, 2, 1, 1, 0, 1, 1, 2, 2, 2, 2, 1,\n",
              "       0, 2, 1, 0, 2, 0, 0, 1, 1, 0, 0, 0, 2, 1, 0, 0, 1, 0, 1, 0, 0, 0,\n",
              "       1, 0, 1, 1, 2, 2, 2, 2, 0, 0, 2, 2])"
            ]
          },
          "metadata": {},
          "execution_count": 13
        }
      ]
    },
    {
      "cell_type": "code",
      "source": [
        "# the color represent groups\n",
        "\n",
        "plt.scatter(X[:,0], X[:,1], c=y)"
      ],
      "metadata": {
        "colab": {
          "base_uri": "https://localhost:8080/",
          "height": 447
        },
        "id": "E2LcPbTDsMGe",
        "outputId": "a337eb41-6351-432c-ec3b-4cc8fe1df87e"
      },
      "execution_count": 14,
      "outputs": [
        {
          "output_type": "execute_result",
          "data": {
            "text/plain": [
              "<matplotlib.collections.PathCollection at 0x7f9eb4fda140>"
            ]
          },
          "metadata": {},
          "execution_count": 14
        },
        {
          "output_type": "display_data",
          "data": {
            "text/plain": [
              "<Figure size 640x480 with 1 Axes>"
            ],
            "image/png": "[encoded data removed]"
          },
          "metadata": {}
        }
      ]
    },
    {
      "cell_type": "code",
      "source": [
        "X[0]"
      ],
      "metadata": {
        "colab": {
          "base_uri": "https://localhost:8080/"
        },
        "id": "4eYeg9NTzro3",
        "outputId": "f5d757ba-46d2-4dbf-9b4f-1cd76f995564"
      },
      "execution_count": 15,
      "outputs": [
        {
          "output_type": "execute_result",
          "data": {
            "text/plain": [
              "array([2.63185834, 0.6893649 ])"
            ]
          },
          "metadata": {},
          "execution_count": 15
        }
      ]
    },
    {
      "cell_type": "code",
      "source": [
        "# throw away y.  we only need y when we calculate these metrics that show accuracy\n",
        "\n",
        "\n",
        "\n",
        "\n",
        "\n",
        "Kmean = KMeans(n_clusters=3)\n",
        "\n",
        "#. fit trains the model.  meaning it calculated for every X the distance to each of the three cluster centers\n",
        "# the goal is to classify data.  meaning put it into the group that is it closets to\n",
        "\n",
        "\n",
        "Kmean.fit(X)\n",
        "\n",
        "labels=Kmean.labels_\n",
        "centers=Kmean.cluster_centers_"
      ],
      "metadata": {
        "colab": {
          "base_uri": "https://localhost:8080/"
        },
        "id": "Mmx3gp6ksQ8R",
        "outputId": "105d1454-a2e6-4c16-ea93-bcfb0702b724"
      },
      "execution_count": 16,
      "outputs": [
        {
          "output_type": "stream",
          "name": "stderr",
          "text": [
            "/usr/local/lib/python3.10/dist-packages/sklearn/cluster/_kmeans.py:870: FutureWarning: The default value of `n_init` will change from 10 to 'auto' in 1.4. Set the value of `n_init` explicitly to suppress the warning\n",
            "  warnings.warn(\n"
          ]
        }
      ]
    },
    {
      "cell_type": "code",
      "source": [
        "X[0]"
      ],
      "metadata": {
        "colab": {
          "base_uri": "https://localhost:8080/"
        },
        "id": "c9exqU0g09il",
        "outputId": "9ddea604-9a72-4759-84a3-68470030d770"
      },
      "execution_count": 19,
      "outputs": [
        {
          "output_type": "execute_result",
          "data": {
            "text/plain": [
              "array([2.63185834, 0.6893649 ])"
            ]
          },
          "metadata": {},
          "execution_count": 19
        }
      ]
    },
    {
      "cell_type": "code",
      "source": [
        "X[1]"
      ],
      "metadata": {
        "colab": {
          "base_uri": "https://localhost:8080/"
        },
        "id": "aTc5ifuV1Iyd",
        "outputId": "afd3de27-7c89-4d4d-d08b-cf33c81a989c"
      },
      "execution_count": 20,
      "outputs": [
        {
          "output_type": "execute_result",
          "data": {
            "text/plain": [
              "array([0.08080352, 4.69068983])"
            ]
          },
          "metadata": {},
          "execution_count": 20
        }
      ]
    },
    {
      "cell_type": "code",
      "source": [
        "print(labels, centers)\n",
        "\n",
        "\n",
        "# what are the centers?  the centers are the X-Y coordinates of the center of the cluster\n",
        "\n"
      ],
      "metadata": {
        "colab": {
          "base_uri": "https://localhost:8080/"
        },
        "id": "Mwlk2ocu02Jf",
        "outputId": "7db669ce-2e72-42bb-a8fc-407029905cda"
      },
      "execution_count": 17,
      "outputs": [
        {
          "output_type": "stream",
          "name": "stdout",
          "text": [
            "[1 2 1 0 0 2 0 0 1 2 2 2 1 2 0 1 0 0 0 0 0 0 0 0 1 1 1 1 0 0 2 1 1 2 0 2 2\n",
            " 1 1 0 0 1 1 2 2 2 1 1 0 0 2 1 2 1 0 0 1 1 2 1 1 0 0 0 0 1 2 0 1 2 0 1 0 1\n",
            " 2 2 2 2 0 1 2 2 1 2 2 2 2 2 1 2 1 1 0 0 0 0 2 2 0 0] [[-1.5510878   2.88827923]\n",
            " [ 2.2427373   1.30652003]\n",
            " [ 0.9801637   4.30837857]]\n"
          ]
        }
      ]
    },
    {
      "cell_type": "code",
      "source": [
        "plt.scatter(centers[:,0],centers[:,1])\n",
        "\n",
        "\n"
      ],
      "metadata": {
        "colab": {
          "base_uri": "https://localhost:8080/",
          "height": 447
        },
        "id": "oLj7v5PP1U1X",
        "outputId": "b6f5c5b6-f678-473d-90f4-d905a21098c3"
      },
      "execution_count": 21,
      "outputs": [
        {
          "output_type": "execute_result",
          "data": {
            "text/plain": [
              "<matplotlib.collections.PathCollection at 0x7f9ea91bc700>"
            ]
          },
          "metadata": {},
          "execution_count": 21
        },
        {
          "output_type": "display_data",
          "data": {
            "text/plain": [
              "<Figure size 640x480 with 1 Axes>"
            ],
            "image/png": "[encoded data removed]"
          },
          "metadata": {}
        }
      ]
    },
    {
      "cell_type": "code",
      "source": [
        "# now do a prediction.  we have oleskii.  we likes music (x1), he likes sports (x2), likes in chech republic (x3),\n",
        "# his language is Ukrainian (x3). so he belongs to cluster of (people who like olivia rodriguez)\n",
        "\n",
        "\n",
        "\n",
        "Kmean.predict(np.array([[-2,2]]))"
      ],
      "metadata": {
        "colab": {
          "base_uri": "https://localhost:8080/"
        },
        "id": "dapzkqXDs6Aq",
        "outputId": "bd186745-a203-483e-9f10-dcd12bbc3458"
      },
      "execution_count": 22,
      "outputs": [
        {
          "output_type": "execute_result",
          "data": {
            "text/plain": [
              "array([0], dtype=int32)"
            ]
          },
          "metadata": {},
          "execution_count": 22
        }
      ]
    },
    {
      "cell_type": "code",
      "source": [
        "# computer spam\n",
        "\n",
        "centers[0]"
      ],
      "metadata": {
        "colab": {
          "base_uri": "https://localhost:8080/"
        },
        "id": "zTKaQW1u2KEc",
        "outputId": "976b78f9-bce2-48c2-8692-67a6f1752855"
      },
      "execution_count": 24,
      "outputs": [
        {
          "output_type": "execute_result",
          "data": {
            "text/plain": [
              "array([-1.5510878 ,  2.88827923])"
            ]
          },
          "metadata": {},
          "execution_count": 24
        }
      ]
    },
    {
      "cell_type": "code",
      "source": [
        "# football fans\n",
        "\n",
        "centers[1]"
      ],
      "metadata": {
        "colab": {
          "base_uri": "https://localhost:8080/"
        },
        "id": "ut2YG6DF2QZG",
        "outputId": "3968a27d-5676-405a-c3d8-47a22097f2f2"
      },
      "execution_count": 25,
      "outputs": [
        {
          "output_type": "execute_result",
          "data": {
            "text/plain": [
              "array([2.2427373 , 1.30652003])"
            ]
          },
          "metadata": {},
          "execution_count": 25
        }
      ]
    },
    {
      "cell_type": "code",
      "source": [
        "centers"
      ],
      "metadata": {
        "colab": {
          "base_uri": "https://localhost:8080/"
        },
        "id": "7Xn4zP0ktOEP",
        "outputId": "1292f47a-9791-48f5-ef95-1357a5096e0a"
      },
      "execution_count": 6,
      "outputs": [
        {
          "output_type": "execute_result",
          "data": {
            "text/plain": [
              "array([[-1.5510878 ,  2.88827923],\n",
              "       [ 2.2427373 ,  1.30652003],\n",
              "       [ 0.9801637 ,  4.30837857]])"
            ]
          },
          "metadata": {},
          "execution_count": 6
        }
      ]
    },
    {
      "cell_type": "code",
      "source": [
        "np.column_stack([X,y,preds])"
      ],
      "metadata": {
        "colab": {
          "base_uri": "https://localhost:8080/",
          "height": 141
        },
        "id": "6m6BFhPptbRR",
        "outputId": "8052f40c-87f7-4ffa-e1b1-090378287f8d"
      },
      "execution_count": 7,
      "outputs": [
        {
          "output_type": "error",
          "ename": "NameError",
          "evalue": "name 'preds' is not defined",
          "traceback": [
            "\u001b[0;31m---------------------------------------------------------------------------\u001b[0m",
            "\u001b[0;31mNameError\u001b[0m                                 Traceback (most recent call last)",
            "\u001b[0;32m<ipython-input-7-69e88b428101>\u001b[0m in \u001b[0;36m<cell line: 1>\u001b[0;34m()\u001b[0m\n\u001b[0;32m----> 1\u001b[0;31m \u001b[0mnp\u001b[0m\u001b[0;34m.\u001b[0m\u001b[0mcolumn_stack\u001b[0m\u001b[0;34m(\u001b[0m\u001b[0;34m[\u001b[0m\u001b[0mX\u001b[0m\u001b[0;34m,\u001b[0m\u001b[0my\u001b[0m\u001b[0;34m,\u001b[0m\u001b[0mpreds\u001b[0m\u001b[0;34m]\u001b[0m\u001b[0;34m)\u001b[0m\u001b[0;34m\u001b[0m\u001b[0;34m\u001b[0m\u001b[0m\n\u001b[0m",
            "\u001b[0;31mNameError\u001b[0m: name 'preds' is not defined"
          ]
        }
      ]
    },
    {
      "cell_type": "code",
      "source": [
        "Kmean.cluster_centers_"
      ],
      "metadata": {
        "colab": {
          "base_uri": "https://localhost:8080/"
        },
        "id": "_z3RfOdisVoY",
        "outputId": "5169eeeb-3088-451c-be2e-d141907d7746"
      },
      "execution_count": 48,
      "outputs": [
        {
          "output_type": "execute_result",
          "data": {
            "text/plain": [
              "array([[-1.5510878 ,  2.88827923],\n",
              "       [ 2.2427373 ,  1.30652003],\n",
              "       [ 0.9801637 ,  4.30837857]])"
            ]
          },
          "metadata": {},
          "execution_count": 48
        }
      ]
    },
    {
      "cell_type": "code",
      "source": [
        "Kmean.cluster_centers_[0]"
      ],
      "metadata": {
        "colab": {
          "base_uri": "https://localhost:8080/"
        },
        "id": "gQHvl55O2zB6",
        "outputId": "ed9e3ab7-e63e-4ce8-c6c9-c6805c8ff910"
      },
      "execution_count": 31,
      "outputs": [
        {
          "output_type": "execute_result",
          "data": {
            "text/plain": [
              "array([-1.5510878 ,  2.88827923])"
            ]
          },
          "metadata": {},
          "execution_count": 31
        }
      ]
    },
    {
      "cell_type": "code",
      "source": [
        "c=Kmean.cluster_centers_[2]\n",
        "c"
      ],
      "metadata": {
        "colab": {
          "base_uri": "https://localhost:8080/"
        },
        "id": "31z43KUJ3s9V",
        "outputId": "f26f8969-b41b-4461-de84-15c15a4d44f0"
      },
      "execution_count": 36,
      "outputs": [
        {
          "output_type": "execute_result",
          "data": {
            "text/plain": [
              "array([0.9801637 , 4.30837857])"
            ]
          },
          "metadata": {},
          "execution_count": 36
        }
      ]
    },
    {
      "cell_type": "code",
      "source": [
        "# you can only do x and y\n",
        "# so we plot x1, x2\n",
        "# center we plot the centers coordinates\n",
        "\n",
        "# plt.scatter(x,y)\n",
        "\n",
        "\n",
        "\n",
        "plt.scatter(X[:,0], X[:,1])\n",
        "plt.scatter(centers[:,0],centers[:,1],c=['red'])\n",
        "\n",
        "#plt.scatter(a,b,f, color=['red', 'pink', 'black'])\n",
        "\n",
        "#plt.scatter(a,b,c=['red', 'pink', 'black'],s=600)\n",
        "plt.show()"
      ],
      "metadata": {
        "colab": {
          "base_uri": "https://localhost:8080/",
          "height": 430
        },
        "id": "KiDAdivdslFI",
        "outputId": "431af861-0244-42ee-df92-5d59c7683475"
      },
      "execution_count": 47,
      "outputs": [
        {
          "output_type": "display_data",
          "data": {
            "text/plain": [
              "<Figure size 640x480 with 1 Axes>"
            ],
            "image/png": "[encoded data removed]"
          },
          "metadata": {}
        }
      ]
    },
    {
      "cell_type": "code",
      "source": [
        "# what does this do:\n",
        "\n",
        "# procedure with all MLmodels\n",
        "\n",
        "# 1.  train\n",
        "# 2.  predict .  it's not really a prediction it's more of a classify.  but they use the word predict.\n",
        "\n",
        "\n",
        "preds=Kmean.predict(X)"
      ],
      "metadata": {
        "id": "aF1F8tqDxHC9"
      },
      "execution_count": 51,
      "outputs": []
    },
    {
      "cell_type": "code",
      "source": [
        "X.shape"
      ],
      "metadata": {
        "colab": {
          "base_uri": "https://localhost:8080/"
        },
        "id": "Czm4uixt6Rko",
        "outputId": "3fcde310-8762-4446-aaed-c1dee9aefd5b"
      },
      "execution_count": 52,
      "outputs": [
        {
          "output_type": "execute_result",
          "data": {
            "text/plain": [
              "(100, 2)"
            ]
          },
          "metadata": {},
          "execution_count": 52
        }
      ]
    },
    {
      "cell_type": "code",
      "source": [
        "preds.shape"
      ],
      "metadata": {
        "colab": {
          "base_uri": "https://localhost:8080/"
        },
        "id": "td-LUPCX6qu1",
        "outputId": "cbd58698-8e0f-4c39-a837-942a33d9b044"
      },
      "execution_count": 53,
      "outputs": [
        {
          "output_type": "execute_result",
          "data": {
            "text/plain": [
              "(100,)"
            ]
          },
          "metadata": {},
          "execution_count": 53
        }
      ]
    },
    {
      "cell_type": "markdown",
      "source": [
        "**Adjusted Rand Index (ARI)**\n",
        "\n",
        "This measures the similarity between the true labels and the cluster assignments. It ranges from -1 to 1, with 1 indicating perfect agreement."
      ],
      "metadata": {
        "id": "9S9YTSmZu0y2"
      }
    },
    {
      "cell_type": "markdown",
      "source": [
        "when we did linear regression.  we used what metric to calculate whether the data fit the model?    That was R2 score.\n",
        "\n",
        "R2 score does not fit here.  because thast was for linear regression.\n",
        "\n",
        "\n",
        "\n"
      ],
      "metadata": {
        "id": "5UpzJ9CP66rZ"
      }
    },
    {
      "cell_type": "code",
      "source": [
        "from sklearn.metrics.cluster import adjusted_rand_score\n",
        "\n",
        "adjusted_rand_score(y, preds)"
      ],
      "metadata": {
        "colab": {
          "base_uri": "https://localhost:8080/"
        },
        "id": "aWVMmfWOuJsV",
        "outputId": "528f0ed2-35e4-402e-c989-0be3c543a075"
      },
      "execution_count": 56,
      "outputs": [
        {
          "output_type": "execute_result",
          "data": {
            "text/plain": [
              "0.7251402595336714"
            ]
          },
          "metadata": {},
          "execution_count": 56
        }
      ]
    },
    {
      "cell_type": "markdown",
      "source": [
        "Definition:\n",
        "\n",
        "The **Adjusted Rand Index (ARI)** is a metric used to evaluate the similarity between two data clusterings by considering all pairs of samples and counting pairs that are assigned in the same or different clusters in the predicted and true clusterings. The ARI adjusts the Rand Index by accounting for chance groupings, providing a value between -1 and 1, where 1 indicates perfect agreement, 0 indicates random labeling, and negative values indicate less than random agreement."
      ],
      "metadata": {
        "id": "IdTAwEsH7uPo"
      }
    },
    {
      "cell_type": "markdown",
      "source": [
        "These metrics provide a way to evaluate the clustering performance without needing the cluster labels to match exactly. ARI adjusts for chance clustering, and NMI normalizes the mutual information score to be between 0 and 1."
      ],
      "metadata": {
        "id": "OQkueSUuxA6Y"
      }
    },
    {
      "cell_type": "code",
      "source": [
        "from sklearn.metrics import adjusted_rand_score, normalized_mutual_info_score\n",
        "\n",
        "ari = adjusted_rand_score(y, preds)\n",
        "nmi = normalized_mutual_info_score(y, preds)\n",
        "\n",
        "print(f'Adjusted Rand Index: {ari}')\n",
        "print(f'Normalized Mutual Information: {nmi}')\n"
      ],
      "metadata": {
        "id": "qWnZPVoqu2w-"
      },
      "execution_count": null,
      "outputs": []
    },
    {
      "cell_type": "code",
      "source": [
        "!ls sample_data/"
      ],
      "metadata": {
        "colab": {
          "base_uri": "https://localhost:8080/"
        },
        "id": "_HegFpeT8wDA",
        "outputId": "3a4e9ad7-f6a8-4522-b9d6-a5f86755f844"
      },
      "execution_count": 59,
      "outputs": [
        {
          "output_type": "stream",
          "name": "stdout",
          "text": [
            "anscombe.json\t\t     california_housing_train.csv  mnist_train_small.csv\n",
            "california_housing_test.csv  mnist_test.csv\t\t   README.md\n"
          ]
        }
      ]
    },
    {
      "cell_type": "code",
      "source": [
        "\n",
        "#Homework.  Do K-means clustering with this data\n",
        "\n",
        "\n",
        "\n",
        "\n",
        "import pandas as pd\n",
        "\n",
        "\n",
        "df=pd.read_csv('sample_data/california_housing_test.csv')\n",
        "\n",
        "\n",
        "df"
      ],
      "metadata": {
        "colab": {
          "base_uri": "https://localhost:8080/",
          "height": 443
        },
        "id": "Xj8XG9EB88U_",
        "outputId": "3e556ecb-686b-4d0f-d5f7-73d420b7ecf8"
      },
      "execution_count": 61,
      "outputs": [
        {
          "output_type": "execute_result",
          "data": {
            "text/plain": [
              "      longitude  latitude  housing_median_age  total_rooms  total_bedrooms  \\\n",
              "0       -122.05     37.37                27.0       3885.0           661.0   \n",
              "1       -118.30     34.26                43.0       1510.0           310.0   \n",
              "2       -117.81     33.78                27.0       3589.0           507.0   \n",
              "3       -118.36     33.82                28.0         67.0            15.0   \n",
              "4       -119.67     36.33                19.0       1241.0           244.0   \n",
              "...         ...       ...                 ...          ...             ...   \n",
              "2995    -119.86     34.42                23.0       1450.0           642.0   \n",
              "2996    -118.14     34.06                27.0       5257.0          1082.0   \n",
              "2997    -119.70     36.30                10.0        956.0           201.0   \n",
              "2998    -117.12     34.10                40.0         96.0            14.0   \n",
              "2999    -119.63     34.42                42.0       1765.0           263.0   \n",
              "\n",
              "      population  households  median_income  median_house_value  \n",
              "0         1537.0       606.0         6.6085            344700.0  \n",
              "1          809.0       277.0         3.5990            176500.0  \n",
              "2         1484.0       495.0         5.7934            270500.0  \n",
              "3           49.0        11.0         6.1359            330000.0  \n",
              "4          850.0       237.0         2.9375             81700.0  \n",
              "...          ...         ...            ...                 ...  \n",
              "2995      1258.0       607.0         1.1790            225000.0  \n",
              "2996      3496.0      1036.0         3.3906            237200.0  \n",
              "2997       693.0       220.0         2.2895             62000.0  \n",
              "2998        46.0        14.0         3.2708            162500.0  \n",
              "2999       753.0       260.0         8.5608            500001.0  \n",
              "\n",
              "[3000 rows x 9 columns]"
            ],
            "text/html": [
              "\n",
              "  <div id=\"df-3e5fd438-f3bf-4b38-bb24-6f3653dd0cfe\" class=\"colab-df-container\">\n",
              "    <div>\n",
              "<style scoped>\n",
              "    .dataframe tbody tr th:only-of-type {\n",
              "        vertical-align: middle;\n",
              "    }\n",
              "\n",
              "    .dataframe tbody tr th {\n",
              "        vertical-align: top;\n",
              "    }\n",
              "\n",
              "    .dataframe thead th {\n",
              "        text-align: right;\n",
              "    }\n",
              "</style>\n",
              "<table border=\"1\" class=\"dataframe\">\n",
              "  <thead>\n",
              "    <tr style=\"text-align: right;\">\n",
              "      <th></th>\n",
              "      <th>longitude</th>\n",
              "      <th>latitude</th>\n",
              "      <th>housing_median_age</th>\n",
              "      <th>total_rooms</th>\n",
              "      <th>total_bedrooms</th>\n",
              "      <th>population</th>\n",
              "      <th>households</th>\n",
              "      <th>median_income</th>\n",
              "      <th>median_house_value</th>\n",
              "    </tr>\n",
              "  </thead>\n",
              "  <tbody>\n",
              "    <tr>\n",
              "      <th>0</th>\n",
              "      <td>-122.05</td>\n",
              "      <td>37.37</td>\n",
              "      <td>27.0</td>\n",
              "      <td>3885.0</td>\n",
              "      <td>661.0</td>\n",
              "      <td>1537.0</td>\n",
              "      <td>606.0</td>\n",
              "      <td>6.6085</td>\n",
              "      <td>344700.0</td>\n",
              "    </tr>\n",
              "    <tr>\n",
              "      <th>1</th>\n",
              "      <td>-118.30</td>\n",
              "      <td>34.26</td>\n",
              "      <td>43.0</td>\n",
              "      <td>1510.0</td>\n",
              "      <td>310.0</td>\n",
              "      <td>809.0</td>\n",
              "      <td>277.0</td>\n",
              "      <td>3.5990</td>\n",
              "      <td>176500.0</td>\n",
              "    </tr>\n",
              "    <tr>\n",
              "      <th>2</th>\n",
              "      <td>-117.81</td>\n",
              "      <td>33.78</td>\n",
              "      <td>27.0</td>\n",
              "      <td>3589.0</td>\n",
              "      <td>507.0</td>\n",
              "      <td>1484.0</td>\n",
              "      <td>495.0</td>\n",
              "      <td>5.7934</td>\n",
              "      <td>270500.0</td>\n",
              "    </tr>\n",
              "    <tr>\n",
              "      <th>3</th>\n",
              "      <td>-118.36</td>\n",
              "      <td>33.82</td>\n",
              "      <td>28.0</td>\n",
              "      <td>67.0</td>\n",
              "      <td>15.0</td>\n",
              "      <td>49.0</td>\n",
              "      <td>11.0</td>\n",
              "      <td>6.1359</td>\n",
              "      <td>330000.0</td>\n",
              "    </tr>\n",
              "    <tr>\n",
              "      <th>4</th>\n",
              "      <td>-119.67</td>\n",
              "      <td>36.33</td>\n",
              "      <td>19.0</td>\n",
              "      <td>1241.0</td>\n",
              "      <td>244.0</td>\n",
              "      <td>850.0</td>\n",
              "      <td>237.0</td>\n",
              "      <td>2.9375</td>\n",
              "      <td>81700.0</td>\n",
              "    </tr>\n",
              "    <tr>\n",
              "      <th>...</th>\n",
              "      <td>...</td>\n",
              "      <td>...</td>\n",
              "      <td>...</td>\n",
              "      <td>...</td>\n",
              "      <td>...</td>\n",
              "      <td>...</td>\n",
              "      <td>...</td>\n",
              "      <td>...</td>\n",
              "      <td>...</td>\n",
              "    </tr>\n",
              "    <tr>\n",
              "      <th>2995</th>\n",
              "      <td>-119.86</td>\n",
              "      <td>34.42</td>\n",
              "      <td>23.0</td>\n",
              "      <td>1450.0</td>\n",
              "      <td>642.0</td>\n",
              "      <td>1258.0</td>\n",
              "      <td>607.0</td>\n",
              "      <td>1.1790</td>\n",
              "      <td>225000.0</td>\n",
              "    </tr>\n",
              "    <tr>\n",
              "      <th>2996</th>\n",
              "      <td>-118.14</td>\n",
              "      <td>34.06</td>\n",
              "      <td>27.0</td>\n",
              "      <td>5257.0</td>\n",
              "      <td>1082.0</td>\n",
              "      <td>3496.0</td>\n",
              "      <td>1036.0</td>\n",
              "      <td>3.3906</td>\n",
              "      <td>237200.0</td>\n",
              "    </tr>\n",
              "    <tr>\n",
              "      <th>2997</th>\n",
              "      <td>-119.70</td>\n",
              "      <td>36.30</td>\n",
              "      <td>10.0</td>\n",
              "      <td>956.0</td>\n",
              "      <td>201.0</td>\n",
              "      <td>693.0</td>\n",
              "      <td>220.0</td>\n",
              "      <td>2.2895</td>\n",
              "      <td>62000.0</td>\n",
              "    </tr>\n",
              "    <tr>\n",
              "      <th>2998</th>\n",
              "      <td>-117.12</td>\n",
              "      <td>34.10</td>\n",
              "      <td>40.0</td>\n",
              "      <td>96.0</td>\n",
              "      <td>14.0</td>\n",
              "      <td>46.0</td>\n",
              "      <td>14.0</td>\n",
              "      <td>3.2708</td>\n",
              "      <td>162500.0</td>\n",
              "    </tr>\n",
              "    <tr>\n",
              "      <th>2999</th>\n",
              "      <td>-119.63</td>\n",
              "      <td>34.42</td>\n",
              "      <td>42.0</td>\n",
              "      <td>1765.0</td>\n",
              "      <td>263.0</td>\n",
              "      <td>753.0</td>\n",
              "      <td>260.0</td>\n",
              "      <td>8.5608</td>\n",
              "      <td>500001.0</td>\n",
              "    </tr>\n",
              "  </tbody>\n",
              "</table>\n",
              "<p>3000 rows × 9 columns</p>\n",
              "</div>\n",
              "    <div class=\"colab-df-buttons\">\n",
              "\n",
              "  <div class=\"colab-df-container\">\n",
              "    <button class=\"colab-df-convert\" onclick=\"convertToInteractive('df-3e5fd438-f3bf-4b38-bb24-6f3653dd0cfe')\"\n",
              "            title=\"Convert this dataframe to an interactive table.\"\n",
              "            style=\"display:none;\">\n",
              "\n",
              "  <svg xmlns=\"http://www.w3.org/2000/svg\" height=\"24px\" viewBox=\"0 -960 960 960\">\n",
              "    <path d=\"M120-120v-720h720v720H120Zm60-500h600v-160H180v160Zm220 220h160v-160H400v160Zm0 220h160v-160H400v160ZM180-400h160v-160H180v160Zm440 0h160v-160H620v160ZM180-180h160v-160H180v160Zm440 0h160v-160H620v160Z\"/>\n",
              "  </svg>\n",
              "    </button>\n",
              "\n",
              "  <style>\n",
              "    .colab-df-container {\n",
              "      display:flex;\n",
              "      gap: 12px;\n",
              "    }\n",
              "\n",
              "    .colab-df-convert {\n",
              "      background-color: #E8F0FE;\n",
              "      border: none;\n",
              "      border-radius: 50%;\n",
              "      cursor: pointer;\n",
              "      display: none;\n",
              "      fill: #1967D2;\n",
              "      height: 32px;\n",
              "      padding: 0 0 0 0;\n",
              "      width: 32px;\n",
              "    }\n",
              "\n",
              "    .colab-df-convert:hover {\n",
              "      background-color: #E2EBFA;\n",
              "      box-shadow: 0px 1px 2px rgba(60, 64, 67, 0.3), 0px 1px 3px 1px rgba(60, 64, 67, 0.15);\n",
              "      fill: #174EA6;\n",
              "    }\n",
              "\n",
              "    .colab-df-buttons div {\n",
              "      margin-bottom: 4px;\n",
              "    }\n",
              "\n",
              "    [theme=dark] .colab-df-convert {\n",
              "      background-color: #3B4455;\n",
              "      fill: #D2E3FC;\n",
              "    }\n",
              "\n",
              "    [theme=dark] .colab-df-convert:hover {\n",
              "      background-color: #434B5C;\n",
              "      box-shadow: 0px 1px 3px 1px rgba(0, 0, 0, 0.15);\n",
              "      filter: drop-shadow(0px 1px 2px rgba(0, 0, 0, 0.3));\n",
              "      fill: #FFFFFF;\n",
              "    }\n",
              "  </style>\n",
              "\n",
              "    <script>\n",
              "      const buttonEl =\n",
              "        document.querySelector('#df-3e5fd438-f3bf-4b38-bb24-6f3653dd0cfe button.colab-df-convert');\n",
              "      buttonEl.style.display =\n",
              "        google.colab.kernel.accessAllowed ? 'block' : 'none';\n",
              "\n",
              "      async function convertToInteractive(key) {\n",
              "        const element = document.querySelector('#df-3e5fd438-f3bf-4b38-bb24-6f3653dd0cfe');\n",
              "        const dataTable =\n",
              "          await google.colab.kernel.invokeFunction('convertToInteractive',\n",
              "                                                    [key], {});\n",
              "        if (!dataTable) return;\n",
              "\n",
              "        const docLinkHtml = 'Like what you see? Visit the ' +\n",
              "          '<a target=\"_blank\" href=https://colab.research.google.com/notebooks/data_table.ipynb>data table notebook</a>'\n",
              "          + ' to learn more about interactive tables.';\n",
              "        element.innerHTML = '';\n",
              "        dataTable['output_type'] = 'display_data';\n",
              "        await google.colab.output.renderOutput(dataTable, element);\n",
              "        const docLink = document.createElement('div');\n",
              "        docLink.innerHTML = docLinkHtml;\n",
              "        element.appendChild(docLink);\n",
              "      }\n",
              "    </script>\n",
              "  </div>\n",
              "\n",
              "\n",
              "<div id=\"df-780f53c3-8a22-4b6e-9b2e-11e7d26ac131\">\n",
              "  <button class=\"colab-df-quickchart\" onclick=\"quickchart('df-780f53c3-8a22-4b6e-9b2e-11e7d26ac131')\"\n",
              "            title=\"Suggest charts\"\n",
              "            style=\"display:none;\">\n",
              "\n",
              "<svg xmlns=\"http://www.w3.org/2000/svg\" height=\"24px\"viewBox=\"0 0 24 24\"\n",
              "     width=\"24px\">\n",
              "    <g>\n",
              "        <path d=\"M19 3H5c-1.1 0-2 .9-2 2v14c0 1.1.9 2 2 2h14c1.1 0 2-.9 2-2V5c0-1.1-.9-2-2-2zM9 17H7v-7h2v7zm4 0h-2V7h2v10zm4 0h-2v-4h2v4z\"/>\n",
              "    </g>\n",
              "</svg>\n",
              "  </button>\n",
              "\n",
              "<style>\n",
              "  .colab-df-quickchart {\n",
              "      --bg-color: #E8F0FE;\n",
              "      --fill-color: #1967D2;\n",
              "      --hover-bg-color: #E2EBFA;\n",
              "      --hover-fill-color: #174EA6;\n",
              "      --disabled-fill-color: #AAA;\n",
              "      --disabled-bg-color: #DDD;\n",
              "  }\n",
              "\n",
              "  [theme=dark] .colab-df-quickchart {\n",
              "      --bg-color: #3B4455;\n",
              "      --fill-color: #D2E3FC;\n",
              "      --hover-bg-color: #434B5C;\n",
              "      --hover-fill-color: #FFFFFF;\n",
              "      --disabled-bg-color: #3B4455;\n",
              "      --disabled-fill-color: #666;\n",
              "  }\n",
              "\n",
              "  .colab-df-quickchart {\n",
              "    background-color: var(--bg-color);\n",
              "    border: none;\n",
              "    border-radius: 50%;\n",
              "    cursor: pointer;\n",
              "    display: none;\n",
              "    fill: var(--fill-color);\n",
              "    height: 32px;\n",
              "    padding: 0;\n",
              "    width: 32px;\n",
              "  }\n",
              "\n",
              "  .colab-df-quickchart:hover {\n",
              "    background-color: var(--hover-bg-color);\n",
              "    box-shadow: 0 1px 2px rgba(60, 64, 67, 0.3), 0 1px 3px 1px rgba(60, 64, 67, 0.15);\n",
              "    fill: var(--button-hover-fill-color);\n",
              "  }\n",
              "\n",
              "  .colab-df-quickchart-complete:disabled,\n",
              "  .colab-df-quickchart-complete:disabled:hover {\n",
              "    background-color: var(--disabled-bg-color);\n",
              "    fill: var(--disabled-fill-color);\n",
              "    box-shadow: none;\n",
              "  }\n",
              "\n",
              "  .colab-df-spinner {\n",
              "    border: 2px solid var(--fill-color);\n",
              "    border-color: transparent;\n",
              "    border-bottom-color: var(--fill-color);\n",
              "    animation:\n",
              "      spin 1s steps(1) infinite;\n",
              "  }\n",
              "\n",
              "  @keyframes spin {\n",
              "    0% {\n",
              "      border-color: transparent;\n",
              "      border-bottom-color: var(--fill-color);\n",
              "      border-left-color: var(--fill-color);\n",
              "    }\n",
              "    20% {\n",
              "      border-color: transparent;\n",
              "      border-left-color: var(--fill-color);\n",
              "      border-top-color: var(--fill-color);\n",
              "    }\n",
              "    30% {\n",
              "      border-color: transparent;\n",
              "      border-left-color: var(--fill-color);\n",
              "      border-top-color: var(--fill-color);\n",
              "      border-right-color: var(--fill-color);\n",
              "    }\n",
              "    40% {\n",
              "      border-color: transparent;\n",
              "      border-right-color: var(--fill-color);\n",
              "      border-top-color: var(--fill-color);\n",
              "    }\n",
              "    60% {\n",
              "      border-color: transparent;\n",
              "      border-right-color: var(--fill-color);\n",
              "    }\n",
              "    80% {\n",
              "      border-color: transparent;\n",
              "      border-right-color: var(--fill-color);\n",
              "      border-bottom-color: var(--fill-color);\n",
              "    }\n",
              "    90% {\n",
              "      border-color: transparent;\n",
              "      border-bottom-color: var(--fill-color);\n",
              "    }\n",
              "  }\n",
              "</style>\n",
              "\n",
              "  <script>\n",
              "    async function quickchart(key) {\n",
              "      const quickchartButtonEl =\n",
              "        document.querySelector('#' + key + ' button');\n",
              "      quickchartButtonEl.disabled = true;  // To prevent multiple clicks.\n",
              "      quickchartButtonEl.classList.add('colab-df-spinner');\n",
              "      try {\n",
              "        const charts = await google.colab.kernel.invokeFunction(\n",
              "            'suggestCharts', [key], {});\n",
              "      } catch (error) {\n",
              "        console.error('Error during call to suggestCharts:', error);\n",
              "      }\n",
              "      quickchartButtonEl.classList.remove('colab-df-spinner');\n",
              "      quickchartButtonEl.classList.add('colab-df-quickchart-complete');\n",
              "    }\n",
              "    (() => {\n",
              "      let quickchartButtonEl =\n",
              "        document.querySelector('#df-780f53c3-8a22-4b6e-9b2e-11e7d26ac131 button');\n",
              "      quickchartButtonEl.style.display =\n",
              "        google.colab.kernel.accessAllowed ? 'block' : 'none';\n",
              "    })();\n",
              "  </script>\n",
              "</div>\n",
              "\n",
              "  <div id=\"id_8af7d60b-9d51-4b1b-baf8-21a4b5a79ebb\">\n",
              "    <style>\n",
              "      .colab-df-generate {\n",
              "        background-color: #E8F0FE;\n",
              "        border: none;\n",
              "        border-radius: 50%;\n",
              "        cursor: pointer;\n",
              "        display: none;\n",
              "        fill: #1967D2;\n",
              "        height: 32px;\n",
              "        padding: 0 0 0 0;\n",
              "        width: 32px;\n",
              "      }\n",
              "\n",
              "      .colab-df-generate:hover {\n",
              "        background-color: #E2EBFA;\n",
              "        box-shadow: 0px 1px 2px rgba(60, 64, 67, 0.3), 0px 1px 3px 1px rgba(60, 64, 67, 0.15);\n",
              "        fill: #174EA6;\n",
              "      }\n",
              "\n",
              "      [theme=dark] .colab-df-generate {\n",
              "        background-color: #3B4455;\n",
              "        fill: #D2E3FC;\n",
              "      }\n",
              "\n",
              "      [theme=dark] .colab-df-generate:hover {\n",
              "        background-color: #434B5C;\n",
              "        box-shadow: 0px 1px 3px 1px rgba(0, 0, 0, 0.15);\n",
              "        filter: drop-shadow(0px 1px 2px rgba(0, 0, 0, 0.3));\n",
              "        fill: #FFFFFF;\n",
              "      }\n",
              "    </style>\n",
              "    <button class=\"colab-df-generate\" onclick=\"generateWithVariable('df')\"\n",
              "            title=\"Generate code using this dataframe.\"\n",
              "            style=\"display:none;\">\n",
              "\n",
              "  <svg xmlns=\"http://www.w3.org/2000/svg\" height=\"24px\"viewBox=\"0 0 24 24\"\n",
              "       width=\"24px\">\n",
              "    <path d=\"M7,19H8.4L18.45,9,17,7.55,7,17.6ZM5,21V16.75L18.45,3.32a2,2,0,0,1,2.83,0l1.4,1.43a1.91,1.91,0,0,1,.58,1.4,1.91,1.91,0,0,1-.58,1.4L9.25,21ZM18.45,9,17,7.55Zm-12,3A5.31,5.31,0,0,0,4.9,8.1,5.31,5.31,0,0,0,1,6.5,5.31,5.31,0,0,0,4.9,4.9,5.31,5.31,0,0,0,6.5,1,5.31,5.31,0,0,0,8.1,4.9,5.31,5.31,0,0,0,12,6.5,5.46,5.46,0,0,0,6.5,12Z\"/>\n",
              "  </svg>\n",
              "    </button>\n",
              "    <script>\n",
              "      (() => {\n",
              "      const buttonEl =\n",
              "        document.querySelector('#id_8af7d60b-9d51-4b1b-baf8-21a4b5a79ebb button.colab-df-generate');\n",
              "      buttonEl.style.display =\n",
              "        google.colab.kernel.accessAllowed ? 'block' : 'none';\n",
              "\n",
              "      buttonEl.onclick = () => {\n",
              "        google.colab.notebook.generateWithVariable('df');\n",
              "      }\n",
              "      })();\n",
              "    </script>\n",
              "  </div>\n",
              "\n",
              "    </div>\n",
              "  </div>\n"
            ],
            "application/vnd.google.colaboratory.intrinsic+json": {
              "type": "dataframe",
              "variable_name": "df",
              "summary": "{\n  \"name\": \"df\",\n  \"rows\": 3000,\n  \"fields\": [\n    {\n      \"column\": \"longitude\",\n      \"properties\": {\n        \"dtype\": \"number\",\n        \"std\": 1.9949362939550175,\n        \"min\": -124.18,\n        \"max\": -114.49,\n        \"num_unique_values\": 607,\n        \"samples\": [\n          -121.15,\n          -121.46,\n          -121.02\n        ],\n        \"semantic_type\": \"\",\n        \"description\": \"\"\n      }\n    },\n    {\n      \"column\": \"latitude\",\n      \"properties\": {\n        \"dtype\": \"number\",\n        \"std\": 2.129669523343834,\n        \"min\": 32.56,\n        \"max\": 41.92,\n        \"num_unique_values\": 587,\n        \"samples\": [\n          40.17,\n          33.69,\n          39.61\n        ],\n        \"semantic_type\": \"\",\n        \"description\": \"\"\n      }\n    },\n    {\n      \"column\": \"housing_median_age\",\n      \"properties\": {\n        \"dtype\": \"number\",\n        \"std\": 12.555395554955753,\n        \"min\": 1.0,\n        \"max\": 52.0,\n        \"num_unique_values\": 52,\n        \"samples\": [\n          14.0,\n          49.0,\n          7.0\n        ],\n        \"semantic_type\": \"\",\n        \"description\": \"\"\n      }\n    },\n    {\n      \"column\": \"total_rooms\",\n      \"properties\": {\n        \"dtype\": \"number\",\n        \"std\": 2155.593331625581,\n        \"min\": 6.0,\n        \"max\": 30450.0,\n        \"num_unique_values\": 2215,\n        \"samples\": [\n          1961.0,\n          1807.0,\n          680.0\n        ],\n        \"semantic_type\": \"\",\n        \"description\": \"\"\n      }\n    },\n    {\n      \"column\": \"total_bedrooms\",\n      \"properties\": {\n        \"dtype\": \"number\",\n        \"std\": 415.6543681363229,\n        \"min\": 2.0,\n        \"max\": 5419.0,\n        \"num_unique_values\": 1055,\n        \"samples\": [\n          532.0,\n          764.0,\n          2162.0\n        ],\n        \"semantic_type\": \"\",\n        \"description\": \"\"\n      }\n    },\n    {\n      \"column\": \"population\",\n      \"properties\": {\n        \"dtype\": \"number\",\n        \"std\": 1030.5430124122424,\n        \"min\": 5.0,\n        \"max\": 11935.0,\n        \"num_unique_values\": 1802,\n        \"samples\": [\n          947.0,\n          1140.0,\n          2019.0\n        ],\n        \"semantic_type\": \"\",\n        \"description\": \"\"\n      }\n    },\n    {\n      \"column\": \"households\",\n      \"properties\": {\n        \"dtype\": \"number\",\n        \"std\": 365.42270980552627,\n        \"min\": 2.0,\n        \"max\": 4930.0,\n        \"num_unique_values\": 1026,\n        \"samples\": [\n          646.0,\n          629.0,\n          504.0\n        ],\n        \"semantic_type\": \"\",\n        \"description\": \"\"\n      }\n    },\n    {\n      \"column\": \"median_income\",\n      \"properties\": {\n        \"dtype\": \"number\",\n        \"std\": 1.854511729691479,\n        \"min\": 0.4999,\n        \"max\": 15.0001,\n        \"num_unique_values\": 2578,\n        \"samples\": [\n          1.725,\n          0.7403,\n          2.6964\n        ],\n        \"semantic_type\": \"\",\n        \"description\": \"\"\n      }\n    },\n    {\n      \"column\": \"median_house_value\",\n      \"properties\": {\n        \"dtype\": \"number\",\n        \"std\": 113119.68746964628,\n        \"min\": 22500.0,\n        \"max\": 500001.0,\n        \"num_unique_values\": 1784,\n        \"samples\": [\n          71900.0,\n          63000.0,\n          115800.0\n        ],\n        \"semantic_type\": \"\",\n        \"description\": \"\"\n      }\n    }\n  ]\n}"
            }
          },
          "metadata": {},
          "execution_count": 61
        }
      ]
    },
    {
      "cell_type": "code",
      "source": [
        "Z=df.to_numpy()\n",
        "\n",
        "model = KMeans(n_clusters=7, random_state=42)\n",
        "model.fit(Z)\n",
        "\n",
        "print(model.labels_)\n",
        "print(model.cluster_centers_)\n",
        "\n",
        "\n",
        "\n",
        ""
      ],
      "metadata": {
        "colab": {
          "base_uri": "https://localhost:8080/"
        },
        "id": "p2obrhzj-jKz",
        "outputId": "0e253574-1fe1-4e16-e59f-8ba4afdf65cb"
      },
      "execution_count": 67,
      "outputs": [
        {
          "output_type": "stream",
          "name": "stderr",
          "text": [
            "/usr/local/lib/python3.10/dist-packages/sklearn/cluster/_kmeans.py:870: FutureWarning: The default value of `n_init` will change from 10 to 'auto' in 1.4. Set the value of `n_init` explicitly to suppress the warning\n",
            "  warnings.warn(\n"
          ]
        },
        {
          "output_type": "stream",
          "name": "stdout",
          "text": [
            "[1 5 4 ... 0 5 3]\n",
            "[[-1.19847637e+02  3.66744863e+01  2.84965753e+01  2.02132877e+03\n",
            "   4.41489726e+02  1.18884589e+03  3.98667808e+02  2.37626507e+00\n",
            "   8.04506849e+04]\n",
            " [-1.20090124e+02  3.56132231e+01  3.09586777e+01  3.10064876e+03\n",
            "   5.72123967e+02  1.38191322e+03  5.38309917e+02  5.37132603e+00\n",
            "   3.64767769e+05]\n",
            " [-1.19643419e+02  3.53678495e+01  2.85311828e+01  2.83210323e+03\n",
            "   5.70445161e+02  1.49576344e+03  5.31901075e+02  4.15227312e+00\n",
            "   2.30202581e+05]\n",
            " [-1.19654737e+02  3.51832536e+01  3.28421053e+01  3.14755024e+03\n",
            "   5.55612440e+02  1.21618660e+03  5.13602871e+02  6.89333684e+00\n",
            "   4.82218780e+05]\n",
            " [-1.19925368e+02  3.55540184e+01  2.86901840e+01  2.94971166e+03\n",
            "   5.64748466e+02  1.40751840e+03  5.35757669e+02  4.68860153e+00\n",
            "   2.87496012e+05]\n",
            " [-1.19157327e+02  3.50781643e+01  2.85652174e+01  2.47820290e+03\n",
            "   5.36019324e+02  1.49916908e+03  4.95995169e+02  3.48902625e+00\n",
            "   1.75037037e+05]\n",
            " [-1.19313508e+02  3.56173056e+01  2.74484629e+01  2.51824051e+03\n",
            "   5.33837251e+02  1.51923870e+03  4.86972875e+02  3.01542839e+00\n",
            "   1.30257143e+05]]\n"
          ]
        }
      ]
    },
    {
      "cell_type": "markdown",
      "source": [
        "**Elbow Method**\n",
        "\n",
        "there is a another way to do this which is to just let the algorithm pick the number of clusters itself.\n",
        "\n",
        "often that is the most logical thing to do.  If we pick 7 that's just a guess.\n",
        "\n",
        "\n",
        "\n"
      ],
      "metadata": {
        "id": "NaUGU0XsBVKE"
      }
    },
    {
      "cell_type": "code",
      "source": [
        "#-1.19847637e+02\n",
        "\n",
        "# means 1.1984 * 10**2\n",
        "\n",
        "# that's scientific notation\n",
        "\n"
      ],
      "metadata": {
        "id": "G5X70Ld6_5Tf"
      },
      "execution_count": 72,
      "outputs": []
    },
    {
      "cell_type": "code",
      "source": [
        "df.columns"
      ],
      "metadata": {
        "colab": {
          "base_uri": "https://localhost:8080/"
        },
        "id": "AsOwEJpHAUbm",
        "outputId": "d5e40db5-2576-44ed-f276-46cfedde9dd5"
      },
      "execution_count": 70,
      "outputs": [
        {
          "output_type": "execute_result",
          "data": {
            "text/plain": [
              "Index(['longitude', 'latitude', 'housing_median_age', 'total_rooms',\n",
              "       'total_bedrooms', 'population', 'households', 'median_income',\n",
              "       'median_house_value'],\n",
              "      dtype='object')"
            ]
          },
          "metadata": {},
          "execution_count": 70
        }
      ]
    },
    {
      "cell_type": "code",
      "source": [
        "# it's not medium house price, it's not total rooms, it's all of that\n",
        "\n",
        "\n",
        "\n",
        "model.cluster_centers_[6].shape"
      ],
      "metadata": {
        "colab": {
          "base_uri": "https://localhost:8080/"
        },
        "id": "pA0r8L6dALcm",
        "outputId": "027c9b7c-9656-4b3a-a010-a0e969e97f26"
      },
      "execution_count": 71,
      "outputs": [
        {
          "output_type": "execute_result",
          "data": {
            "text/plain": [
              "(9,)"
            ]
          },
          "metadata": {},
          "execution_count": 71
        }
      ]
    },
    {
      "cell_type": "code",
      "source": [
        "import seaborn as sns\n",
        "\n",
        "data=df.loc[:,['longitude', 'latitude']]\n",
        "\n",
        "\n",
        "\n",
        "sns.scatterplot(data, x = 'longitude', y = 'latitude')\n",
        "\n",
        "#sns.scatterplot(data, x = 'longitude', y = 'latitude', hue = 'median_house_value')"
      ],
      "metadata": {
        "colab": {
          "base_uri": "https://localhost:8080/",
          "height": 466
        },
        "id": "4XY0cTfu9e15",
        "outputId": "dd498912-7087-43b1-b2d3-d31b166cba55"
      },
      "execution_count": 62,
      "outputs": [
        {
          "output_type": "execute_result",
          "data": {
            "text/plain": [
              "<Axes: xlabel='longitude', ylabel='latitude'>"
            ]
          },
          "metadata": {},
          "execution_count": 62
        },
        {
          "output_type": "display_data",
          "data": {
            "text/plain": [
              "<Figure size 640x480 with 1 Axes>"
            ],
            "image/png": "[encoded data removed]"
          },
          "metadata": {}
        }
      ]
    }
  ]
}