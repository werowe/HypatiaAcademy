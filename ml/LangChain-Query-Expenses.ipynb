{
 "cells": [
  {
   "cell_type": "markdown",
   "id": "8e27d10e",
   "metadata": {},
   "source": [
    "https://python.langchain.com/docs/tutorials/sql_qa/"
   ]
  },
  {
   "cell_type": "code",
   "execution_count": 12,
   "id": "ce45466f",
   "metadata": {},
   "outputs": [
    {
     "name": "stdout",
     "output_type": "stream",
     "text": [
      "sqlite\n",
      "['pocketsmith']\n"
     ]
    },
    {
     "data": {
      "text/plain": [
       "\"[('2025-09-24', 'OPERAPARIS SXINT2382385', None, -276.2, 'USD', -235.22, 'EUR', 'debit', 'CREDIT CARD', -3327.02, 'Food and Drink', None, None, None, None, 1473885249), ('2025-09-05', 'CHASE CREDIT CRD EPAY 250903 8694885180 WALKER E ROWE', None, -167.62, 'USD', -143.0, 'EUR', 'debit', 'CHECKING ...2255', 35.96, 'Payment', None, None, None, None, 1450618980), ('2025-09-04', 'Payment Thank You-Mobile', None, 167.62, 'USD', 143.8, 'EUR', 'credit', 'CREDIT CARD', -3050.82, 'Payment', None, None, None, None, 1451066313), ('2025-09-04', 'LENDINGPOINT LLC PAYMENT 250903 LPT33997373 LAI00652490 LPT33997373', None, -158.73, 'USD', -136.17, 'EUR', 'debit', 'CHECKING ...2255', 203.58, 'Loans', None, None, None, None, 1450618977), ('2025-09-03', 'SOCIAL SECURITY XXSOC SEC 250903 XXXXX3061A SSA WALKER E ROWE', None, 2005.2, 'USD', 1719.58, 'EUR', 'credit', 'CHECKING ...2255', 2065.2, 'Income', None, None, None, None, 1448956626), ('2025-09-02', 'REMOTEROCKETSHIP.COM', None, -63.0, 'USD', -54.16, 'EUR', 'debit', 'CREDIT CARD', -3218.44, 'Service', None, None, None, None, 1447870815), ('2025-09-01', 'PURCHASE INTEREST CHARGE', None, -45.82, 'USD', -39.11, 'EUR', 'debit', 'CREDIT CARD', -3155.44, 'Interest', None, None, None, None, 1447870818), ('2025-08-27', 'Account Maintenance Charges - For 1/8-31/8/25', None, -3.0, 'EUR', -3.0, 'EUR', 'debit', 'Alpha Bank', 40.07, 'Bank Fees', None, None, None, None, 1440573729), ('2025-08-27', 'C-25/08/25 THE APHRODITE TENNIS A PAPHOS CY-Ref.866-Auth.062977-C3016', None, -2.5, 'EUR', -2.5, 'EUR', 'debit', 'Alpha Bank', 43.07, 'Tennis', None, None, None, None, 1440573726), ('2025-08-27', 'C-25/08/25 CAFFE NERO KATO PAPHOS 22888000 CY-Ref.6740-Auth.070713-C3016', None, -4.8, 'EUR', -4.8, 'EUR', 'debit', 'Alpha Bank', 45.57, 'Cafes And Restaurants', None, None, None, None, 1440573717)]\""
      ]
     },
     "execution_count": 12,
     "metadata": {},
     "output_type": "execute_result"
    }
   ],
   "source": [
    "\n",
    "\n",
    "import re\n",
    "from langchain_ollama import ChatOllama\n",
    "from langchain_community.utilities import SQLDatabase\n",
    "from langchain.chains import create_sql_query_chain\n",
    "from langchain_core.prompts import ChatPromptTemplate\n",
    "from langchain.chat_models import init_chat_model\n",
    "from typing_extensions import Annotated\n",
    "from typing_extensions import TypedDict\n",
    "from langchain_core.prompts import PromptTemplate\n",
    "\n",
    "#TypedDicts like State define what fields are expected in the Python object \n",
    "#passed between steps, functions, or graph nodes.\n",
    "\n",
    "class State(TypedDict):\n",
    "    question: str\n",
    "    query: str\n",
    "    result: str\n",
    "    answer: str\n",
    "\n",
    "class QueryOutput(TypedDict):\n",
    "    query: str\n",
    "\n",
    "db = SQLDatabase.from_uri(\"sqlite:///finances.db\")\n",
    " \n",
    " \n",
    "llm = ChatOllama(model=\"llama3.1\", temperature=0)\n",
    "\n",
    "\n",
    "print(db.dialect)\n",
    "print(db.get_usable_table_names())\n",
    "db.run(\"SELECT * FROM pocketsmith LIMIT 10;\")\n",
    " "
   ]
  },
  {
   "cell_type": "markdown",
   "id": "ca3bcc98",
   "metadata": {},
   "source": [
    "# Chains\n",
    "Chains are compositions of predictable steps. In LangGraph, we can represent a chain via simple sequence of nodes. Let's create a sequence of steps that, given a question, does the following:\n",
    "\n",
    "* converts the question into a SQL query;\n",
    "* executes the query;\n",
    "* uses the result to answer the original question."
   ]
  },
  {
   "cell_type": "markdown",
   "id": "64504a86",
   "metadata": {},
   "source": [
    "# Application state\n",
    "\n",
    "The LangGraph state of our application controls what data is input to the application, transferred between steps, and output by the application. It is typically a TypedDict, but can also be a Pydantic BaseModel."
   ]
  },
  {
   "cell_type": "code",
   "execution_count": 13,
   "id": "a57a50ce",
   "metadata": {},
   "outputs": [],
   "source": [
    "from typing_extensions import TypedDict\n",
    "\n",
    "\n",
    "class State(TypedDict):\n",
    "    question: str\n",
    "    query: str\n",
    "    result: str\n",
    "    answer: str"
   ]
  },
  {
   "cell_type": "markdown",
   "id": "e36d806b",
   "metadata": {},
   "source": [
    "# Convert question to SQL query\n",
    "\n",
    "The prompt includes several parameters we will need to populate, such as the SQL dialect and table schemas. LangChain's SQLDatabase object includes methods to help with this. Our write_query step will just populate these parameters and prompt a model to generate the SQL query:"
   ]
  },
  {
   "cell_type": "code",
   "execution_count": 14,
   "id": "a4a4872d",
   "metadata": {},
   "outputs": [
    {
     "name": "stdout",
     "output_type": "stream",
     "text": [
      "================================\u001b[1m System Message \u001b[0m================================\n",
      "\n",
      "\n",
      "Given an input question, create a syntactically correct \u001b[33;1m\u001b[1;3m{dialect}\u001b[0m query to\n",
      "run to help find the answer. Unless the user specifies in his question a\n",
      "specific number of examples they wish to obtain, always limit your query to\n",
      "at most \u001b[33;1m\u001b[1;3m{top_k}\u001b[0m results. You can order the results by a relevant column to\n",
      "return the most interesting examples in the database.\n",
      "\n",
      "Never query for all the columns from a specific table, only ask for a the\n",
      "few relevant columns given the question.\n",
      "\n",
      "Pay attention to use only the column names that you can see in the schema\n",
      "description. Be careful to not query for columns that do not exist. Also,\n",
      "pay attention to which column is in which table.\n",
      "\n",
      "Only use the following tables:\n",
      "\u001b[33;1m\u001b[1;3m{table_info}\u001b[0m\n",
      "\n",
      "================================\u001b[1m Human Message \u001b[0m=================================\n",
      "\n",
      "Question: \u001b[33;1m\u001b[1;3m{input}\u001b[0m\n"
     ]
    }
   ],
   "source": [
    "from langchain_core.prompts import ChatPromptTemplate\n",
    "\n",
    "system_message = \"\"\"\n",
    "Given an input question, create a syntactically correct {dialect} query to\n",
    "run to help find the answer. Unless the user specifies in his question a\n",
    "specific number of examples they wish to obtain, always limit your query to\n",
    "at most {top_k} results. You can order the results by a relevant column to\n",
    "return the most interesting examples in the database.\n",
    "\n",
    "Never query for all the columns from a specific table, only ask for a the\n",
    "few relevant columns given the question.\n",
    "\n",
    "Pay attention to use only the column names that you can see in the schema\n",
    "description. Be careful to not query for columns that do not exist. Also,\n",
    "pay attention to which column is in which table.\n",
    "\n",
    "Only use the following tables:\n",
    "{table_info}\n",
    "\"\"\"\n",
    "\n",
    "user_prompt = \"Question: {input}\"\n",
    "\n",
    "query_prompt_template = ChatPromptTemplate(\n",
    "    [(\"system\", system_message), (\"user\", user_prompt)]\n",
    ")\n",
    "\n",
    "for message in query_prompt_template.messages:\n",
    "    message.pretty_print()"
   ]
  },
  {
   "cell_type": "code",
   "execution_count": 15,
   "id": "31c87b23",
   "metadata": {},
   "outputs": [],
   "source": [
    "from typing_extensions import Annotated\n",
    "\n",
    "\n",
    "class QueryOutput(TypedDict):\n",
    "    \"\"\"Generated SQL query.\"\"\"\n",
    "\n",
    "    query: Annotated[str, ..., \"Syntactically valid SQL query.\"]\n",
    "\n",
    "\n",
    "def write_query(state: State):\n",
    "    \"\"\"Generate SQL query to fetch information.\"\"\"\n",
    "    prompt = query_prompt_template.invoke(\n",
    "        {\n",
    "            \"dialect\": db.dialect,\n",
    "            \"top_k\": 10,\n",
    "            \"table_info\": db.get_table_info(),\n",
    "            \"input\": state[\"question\"],\n",
    "        }\n",
    "    )\n",
    "    structured_llm = llm.with_structured_output(QueryOutput)\n",
    "    result = structured_llm.invoke(prompt)\n",
    "    return {\"query\": result[\"query\"]}"
   ]
  },
  {
   "cell_type": "code",
   "execution_count": 16,
   "id": "ae060d12",
   "metadata": {},
   "outputs": [
    {
     "data": {
      "text/plain": [
       "{'query': \"SELECT COUNT(*) FROM pocketsmith WHERE transaction_type = 'debit'\"}"
      ]
     },
     "execution_count": 16,
     "metadata": {},
     "output_type": "execute_result"
    }
   ],
   "source": [
    "write_query({\"question\": \"How many Employees are there?\"})"
   ]
  },
  {
   "cell_type": "markdown",
   "id": "d190c93a",
   "metadata": {},
   "source": [
    "# Execute Query"
   ]
  },
  {
   "cell_type": "code",
   "execution_count": 17,
   "id": "6fa3815f",
   "metadata": {},
   "outputs": [],
   "source": [
    "from langchain_community.tools.sql_database.tool import QuerySQLDatabaseTool\n",
    "\n",
    "\n",
    "def execute_query(state: State):\n",
    "    \"\"\"Execute SQL query.\"\"\"\n",
    "    execute_query_tool = QuerySQLDatabaseTool(db=db)\n",
    "    return {\"result\": execute_query_tool.invoke(state[\"query\"])}"
   ]
  },
  {
   "cell_type": "code",
   "execution_count": 18,
   "id": "015bfdfe",
   "metadata": {},
   "outputs": [
    {
     "data": {
      "text/plain": [
       "{'result': '[(5498,)]'}"
      ]
     },
     "execution_count": 18,
     "metadata": {},
     "output_type": "execute_result"
    }
   ],
   "source": [
    "execute_query({\"query\": \"SELECT COUNT(*) FROM pocketsmith;\"})"
   ]
  },
  {
   "cell_type": "markdown",
   "id": "0f848416",
   "metadata": {},
   "source": [
    "# Generate answer\n",
    "\n",
    "Finally, our last step generates an answer to the question given the information pulled from the database:"
   ]
  },
  {
   "cell_type": "code",
   "execution_count": 19,
   "id": "88263786",
   "metadata": {},
   "outputs": [],
   "source": [
    "def generate_answer(state: State):\n",
    "    \"\"\"Answer question using retrieved information as context.\"\"\"\n",
    "    prompt = (\n",
    "        \"Given the following user question, corresponding SQL query, \"\n",
    "        \"and SQL result, answer the user question.\\n\\n\"\n",
    "        f\"Question: {state['question']}\\n\"\n",
    "        f\"SQL Query: {state['query']}\\n\"\n",
    "        f\"SQL Result: {state['result']}\"\n",
    "    )\n",
    "    response = llm.invoke(prompt)\n",
    "    return {\"answer\": response.content}"
   ]
  },
  {
   "cell_type": "markdown",
   "id": "b97c6bd6",
   "metadata": {},
   "source": [
    "# Orchestrating with LangGraph\n",
    "\n",
    "Finally, we compile our application into a single graph object. In this case, we are just connecting the three steps into a single sequence."
   ]
  },
  {
   "cell_type": "code",
   "execution_count": 20,
   "id": "349fa0c0",
   "metadata": {},
   "outputs": [],
   "source": [
    "from langgraph.graph import START, StateGraph\n",
    "\n",
    "graph_builder = StateGraph(State).add_sequence(\n",
    "    [write_query, execute_query, generate_answer]\n",
    ")\n",
    "graph_builder.add_edge(START, \"write_query\")\n",
    "graph = graph_builder.compile()"
   ]
  },
  {
   "cell_type": "code",
   "execution_count": 21,
   "id": "2aad22aa",
   "metadata": {},
   "outputs": [
    {
     "data": {
      "image/png": "[encoded data removed]",
      "text/plain": [
       "<IPython.core.display.Image object>"
      ]
     },
     "metadata": {},
     "output_type": "display_data"
    }
   ],
   "source": [
    "from IPython.display import Image, display\n",
    "\n",
    "display(Image(graph.get_graph().draw_mermaid_png()))"
   ]
  },
  {
   "cell_type": "code",
   "execution_count": 22,
   "id": "207b3e24",
   "metadata": {},
   "outputs": [
    {
     "name": "stdout",
     "output_type": "stream",
     "text": [
      "{'write_query': {'query': \"SELECT AVG(amount) AS avg_amount, transaction_type FROM pocketsmith WHERE date > '2021-01-01' GROUP BY transaction_type\"}}\n",
      "{'execute_query': {'result': \"[(719.6779726651481, 'credit'), (-69.0738705835649, 'debit')]\"}}\n",
      "{'generate_answer': {'answer': \"Based on the SQL result, it appears that average credit card expenses have gone up since 2021 (719.68), while average debit card expenses have gone down (69.07). \\n\\nSo, to answer your question: Average expenses have both gone up and down since 2021, depending on whether you're looking at credit or debit transactions.\"}}\n"
     ]
    }
   ],
   "source": [
    "for step in graph.stream(\n",
    "    {\"question\": \"Have average expenses gone down or up since 2021\"}, stream_mode=\"updates\"\n",
    "):\n",
    "    print(step)"
   ]
  }
 ],
 "metadata": {
  "kernelspec": {
   "display_name": "Python (langchain)",
   "language": "python",
   "name": "langchain"
  },
  "language_info": {
   "codemirror_mode": {
    "name": "ipython",
    "version": 3
   },
   "file_extension": ".py",
   "mimetype": "text/x-python",
   "name": "python",
   "nbconvert_exporter": "python",
   "pygments_lexer": "ipython3",
   "version": "3.12.3"
  }
 },
 "nbformat": 4,
 "nbformat_minor": 5
}
