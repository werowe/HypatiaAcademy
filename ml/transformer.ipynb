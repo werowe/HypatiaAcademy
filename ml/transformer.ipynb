{
  "nbformat": 4,
  "nbformat_minor": 0,
  "metadata": {
    "colab": {
      "provenance": [],
      "gpuType": "T4",
      "authorship_tag": "ABX9TyMESX5cZ9aFGlIeU+5DBGn+",
      "include_colab_link": true
    },
    "kernelspec": {
      "name": "python3",
      "display_name": "Python 3"
    },
    "language_info": {
      "name": "python"
    },
    "accelerator": "GPU"
  },
  "cells": [
    {
      "cell_type": "markdown",
      "metadata": {
        "id": "view-in-github",
        "colab_type": "text"
      },
      "source": [
        "<a href=\"https://colab.research.google.com/github/werowe/HypatiaAcademy/blob/master/ml/transformer.ipynb\" target=\"_parent\"><img src=\"https://colab.research.google.com/assets/colab-badge.svg\" alt=\"Open In Colab\"/></a>"
      ]
    },
    {
      "cell_type": "code",
      "source": [
        "!huggingface-cli login"
      ],
      "metadata": {
        "colab": {
          "base_uri": "https://localhost:8080/"
        },
        "id": "rrCNQzlrr8tZ",
        "outputId": "abe55a63-2831-42aa-daa2-d877d88b01e2"
      },
      "execution_count": null,
      "outputs": [
        {
          "output_type": "stream",
          "name": "stdout",
          "text": [
            "\n",
            "    _|    _|  _|    _|    _|_|_|    _|_|_|  _|_|_|  _|      _|    _|_|_|      _|_|_|_|    _|_|      _|_|_|  _|_|_|_|\n",
            "    _|    _|  _|    _|  _|        _|          _|    _|_|    _|  _|            _|        _|    _|  _|        _|\n",
            "    _|_|_|_|  _|    _|  _|  _|_|  _|  _|_|    _|    _|  _|  _|  _|  _|_|      _|_|_|    _|_|_|_|  _|        _|_|_|\n",
            "    _|    _|  _|    _|  _|    _|  _|    _|    _|    _|    _|_|  _|    _|      _|        _|    _|  _|        _|\n",
            "    _|    _|    _|_|      _|_|_|    _|_|_|  _|_|_|  _|      _|    _|_|_|      _|        _|    _|    _|_|_|  _|_|_|_|\n",
            "\n",
            "    To login, `huggingface_hub` requires a token generated from https://huggingface.co/settings/tokens .\n",
            "Enter your token (input will not be visible): "
          ]
        }
      ]
    },
    {
      "cell_type": "code",
      "source": [
        "!wget http://nlp.cs.aueb.gr/software_and_datasets/greek_bert_ner_data.zip"
      ],
      "metadata": {
        "id": "Rigp1F8dxAH1"
      },
      "execution_count": null,
      "outputs": []
    },
    {
      "cell_type": "code",
      "source": [
        "https://www.analyticsvidhya.com/blog/2021/09/a-deep-dive-into-transformers-library/"
      ],
      "metadata": {
        "id": "ufQe3LmS0FB7"
      },
      "execution_count": null,
      "outputs": []
    },
    {
      "cell_type": "markdown",
      "source": [
        "https://www.analyticsvidhya.com/blog/2021/09/a-deep-dive-into-transformers-library/"
      ],
      "metadata": {
        "id": "kmtK6I3D0GxK"
      }
    },
    {
      "cell_type": "markdown",
      "source": [
        "https://sparknlp.org/2021/09/07/bert_base_uncased_el.html"
      ],
      "metadata": {
        "id": "V7o3lBfAyEzN"
      }
    },
    {
      "cell_type": "code",
      "source": [
        "\n",
        "import unicodedata\n",
        "\n",
        "def strip_accents_and_lowercase(s):\n",
        "   return ''.join(c for c in unicodedata.normalize('NFD', s)\n",
        "                  if unicodedata.category(c) != 'Mn').lower()\n",
        "\n",
        "accented_string = \"Αυτή είναι η Ελληνική έκδοση του BERT.\"\n",
        "unaccented_string = strip_accents_and_lowercase(accented_string)\n",
        "\n",
        "print(unaccented_string) # αυτη ειναι η ελληνικη εκδοση του bert.\n"
      ],
      "metadata": {
        "id": "_yBi5-ZbwphL"
      },
      "execution_count": null,
      "outputs": []
    },
    {
      "cell_type": "code",
      "execution_count": null,
      "metadata": {
        "id": "l2vLPGyMrDN0"
      },
      "outputs": [],
      "source": [
        "from transformers import AutoTokenizer, AutoModel\n",
        "\n",
        "tokenizer = AutoTokenizer.from_pretrained(\"nlpaueb/bert-base-greek-uncased-v1\")\n",
        "model = AutoModel.from_pretrained(\"nlpaueb/bert-base-greek-uncased-v1\")\n",
        "\n"
      ]
    },
    {
      "cell_type": "code",
      "source": [
        "# ================ EXAMPLE 1 ================\n",
        "text_1 = 'O ποιητής έγραψε ένα [MASK] .'\n",
        "# EN: 'The poet wrote a [MASK].'\n",
        "input_ids = tokenizer_greek.encode(text_1)\n",
        "print(tokenizer_greek.convert_ids_to_tokens(input_ids))\n",
        "# ['[CLS]', 'o', 'ποιητης', 'εγραψε', 'ενα', '[MASK]', '.', '[SEP]']\n",
        "outputs = lm_model_greek(torch.tensor([input_ids]))[0]\n",
        "print(tokenizer_greek.convert_ids_to_tokens(outputs[0, 5].max(0)[1].item()))\n",
        "# the most plausible prediction for [MASK] is \"song\""
      ],
      "metadata": {
        "id": "cRNMRszSulK0"
      },
      "execution_count": null,
      "outputs": []
    },
    {
      "cell_type": "code",
      "source": [
        "# Imports\n",
        "import torch\n",
        "from transformers import AutoModelForSequenceClassification, AutoTokenizer\n",
        "# Define the model checkpoint\n",
        "checkpoint = \"nlpaueb/bert-base-greek-uncased-v1\"\n",
        "# Download and cache the tokenizer and classification model\n",
        "tokenizer = AutoTokenizer.from_pretrained(pretrained_model_name_or_path=checkpoint)\n",
        "model = AutoModelForSequenceClassification.from_pretrained(checkpoint)\n",
        "# Define the inputs and tokenize them\n",
        "raw_inputs = [\n",
        "    \"Είμαι πολύ θυμωμένος γιατί έχασα τα κλειδιά μου\"\n",
        "]\n",
        "inputs = tokenizer(raw_inputs, padding=True, truncation=True, return_tensors=\"pt\")\n",
        "print(inputs)\n",
        "# Get the outputs from the model\n",
        "outputs = model(**inputs)\n",
        "print(outputs)\n",
        "# Find the class/label probabilities\n",
        "outputs = torch.nn.functional.softmax(outputs.logits, dim = -1)\n",
        "print(outputs)\n",
        "# Find the label to class mapping for verification\n",
        "print(model.config.id2label)"
      ],
      "metadata": {
        "id": "3rJImOhqvYFK"
      },
      "execution_count": null,
      "outputs": []
    }
  ]
}